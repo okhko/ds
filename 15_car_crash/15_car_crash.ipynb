{
 "cells": [
  {
   "attachments": {},
   "cell_type": "markdown",
   "id": "4256597f",
   "metadata": {},
   "source": [
    "`Описание проекта:` нужно создать систему, которая могла бы оценить риск ДТП по выбранному маршруту движения.\n",
    "\n",
    "Под риском понимается вероятность ДТП с любым повреждением транспортного средства. Как только водитель забронировал автомобиль, сел за руль и выбрал маршрут, система должна оценить уровень риска. Если уровень риска высок, водитель увидит предупреждение и рекомендации по маршруту."
   ]
  },
  {
   "attachments": {},
   "cell_type": "markdown",
   "id": "28615209",
   "metadata": {},
   "source": [
    "Импортируем библиотеки"
   ]
  },
  {
   "cell_type": "code",
   "execution_count": 1,
   "id": "733469e4",
   "metadata": {},
   "outputs": [
    {
     "name": "stdout",
     "output_type": "stream",
     "text": [
      "Collecting scikit-learn==1.1.2\n",
      "  Downloading scikit_learn-1.1.2-cp39-cp39-manylinux_2_17_x86_64.manylinux2014_x86_64.whl (30.8 MB)\n",
      "\u001b[K     |████████████████████████████████| 30.8 MB 2.5 MB/s eta 0:00:01█████████             | 18.3 MB 2.5 MB/s eta 0:00:05\n",
      "\u001b[?25hRequirement already satisfied: numpy>=1.17.3 in /opt/conda/lib/python3.9/site-packages (from scikit-learn==1.1.2) (1.21.1)\n",
      "Requirement already satisfied: joblib>=1.0.0 in /opt/conda/lib/python3.9/site-packages (from scikit-learn==1.1.2) (1.1.0)\n",
      "Requirement already satisfied: threadpoolctl>=2.0.0 in /opt/conda/lib/python3.9/site-packages (from scikit-learn==1.1.2) (3.1.0)\n",
      "Requirement already satisfied: scipy>=1.3.2 in /opt/conda/lib/python3.9/site-packages (from scikit-learn==1.1.2) (1.9.1)\n",
      "Installing collected packages: scikit-learn\n",
      "  Attempting uninstall: scikit-learn\n",
      "    Found existing installation: scikit-learn 0.24.1\n",
      "    Uninstalling scikit-learn-0.24.1:\n",
      "      Successfully uninstalled scikit-learn-0.24.1\n",
      "Successfully installed scikit-learn-1.1.2\n"
     ]
    }
   ],
   "source": [
    "!pip install scikit-learn==1.1.2"
   ]
  },
  {
   "cell_type": "code",
   "execution_count": 2,
   "id": "5f7cb9bd",
   "metadata": {},
   "outputs": [],
   "source": [
    "import matplotlib.pyplot as plt\n",
    "import numpy as np\n",
    "import pandas as pd\n",
    "from scipy.stats import loguniform\n",
    "from sqlalchemy import create_engine \n",
    "import seaborn as sns\n",
    "pd.set_option('display.max_columns', 500)\n",
    "\n",
    "from lightgbm import LGBMClassifier\n",
    "from catboost import CatBoostClassifier\n",
    "import sqlalchemy\n",
    "import sklearn\n",
    "from sklearn.linear_model import LogisticRegression\n",
    "from sklearn.model_selection import RandomizedSearchCV\n",
    "from sklearn.ensemble import RandomForestClassifier\n",
    "\n",
    "from sklearn.metrics import recall_score\n",
    "from sklearn.metrics import precision_score\n",
    "%matplotlib inline\n",
    "from sklearn.model_selection import train_test_split, GridSearchCV\n",
    "from sklearn.metrics import  f1_score, confusion_matrix, make_scorer\n",
    "from sklearn.metrics import log_loss\n",
    "from sklearn.preprocessing import StandardScaler, OneHotEncoder, OrdinalEncoder\n",
    "from sklearn.compose import ColumnTransformer\n",
    "from sklearn.pipeline import Pipeline\n",
    "from multiprocessing import Pool"
   ]
  },
  {
   "attachments": {},
   "cell_type": "markdown",
   "id": "5782e7e7",
   "metadata": {
    "ExecuteTime": {
     "end_time": "2022-05-05T04:58:05.692448Z",
     "start_time": "2022-05-05T04:58:05.688565Z"
    }
   },
   "source": [
    "## Подключитесь к базе. Загрузите таблицы sql"
   ]
  },
  {
   "attachments": {},
   "cell_type": "markdown",
   "id": "89e6d061",
   "metadata": {},
   "source": [
    "\n",
    "Подключаемся к базе данных"
   ]
  },
  {
   "cell_type": "code",
   "execution_count": 3,
   "id": "8e1f2d66",
   "metadata": {},
   "outputs": [],
   "source": [
    "db_config = {\n",
    "'user': 'praktikum_student',\n",
    "'pwd': 'Sdf4$2;d-d30pp',\n",
    "'host': 'rc1b-wcoijxj3yxfsf3fs.mdb.yandexcloud.net',\n",
    "'port': 6432, # порт подключения,\n",
    "'db': 'data-science-vehicle-db'\n",
    "} \n",
    "\n",
    "\n",
    "connection_string = 'postgresql://{}:{}@{}:{}/{}'.format(\n",
    "    db_config['user'],\n",
    "    db_config['pwd'],\n",
    "    db_config['host'],\n",
    "    db_config['port'],\n",
    "    db_config['db'],\n",
    ")\n",
    "\n",
    "\n",
    "con = create_engine(connection_string) "
   ]
  },
  {
   "attachments": {},
   "cell_type": "markdown",
   "id": "a82331f8",
   "metadata": {},
   "source": [
    "## Проведите первичное исследование таблиц"
   ]
  },
  {
   "attachments": {},
   "cell_type": "markdown",
   "id": "799f3eaa",
   "metadata": {},
   "source": [
    "Создадим функции для поиска пропущенных значений и дубликатов"
   ]
  },
  {
   "cell_type": "code",
   "execution_count": 4,
   "id": "370cf0d9",
   "metadata": {},
   "outputs": [],
   "source": [
    "def miss(data):\n",
    "    return data.isna().sum()\n",
    "\n",
    "def dup(data):\n",
    "    return data.duplicated().sum()"
   ]
  },
  {
   "cell_type": "code",
   "execution_count": 5,
   "id": "28b859a9",
   "metadata": {},
   "outputs": [],
   "source": [
    "\n",
    "query = '''\n",
    "SELECT *\n",
    "FROM collisions\n",
    "where collision_date > '2012-01-01' and COLLISION_DAMAGE != 'scratch'\n",
    "'''\n",
    "df_collisions = pd.read_sql_query(query, con) "
   ]
  },
  {
   "cell_type": "code",
   "execution_count": 6,
   "id": "19fb86c0",
   "metadata": {},
   "outputs": [
    {
     "data": {
      "text/plain": [
       "(case_id                            0\n",
       " county_city_location               0\n",
       " county_location                    0\n",
       " distance                           0\n",
       " direction                      23989\n",
       " intersection                     714\n",
       " weather_1                        412\n",
       " location_type                  69147\n",
       " collision_damage                   0\n",
       " party_count                        0\n",
       " primary_collision_factor         519\n",
       " pcf_violation_category          2335\n",
       " type_of_collision               1045\n",
       " motor_vehicle_involved_with      591\n",
       " road_surface                     802\n",
       " road_condition_1                 716\n",
       " lighting                         494\n",
       " control_device                   621\n",
       " collision_date                     0\n",
       " collision_time                  1306\n",
       " dtype: int64,\n",
       " 0)"
      ]
     },
     "execution_count": 6,
     "metadata": {},
     "output_type": "execute_result"
    }
   ],
   "source": [
    "miss(df_collisions), dup(df_collisions)"
   ]
  },
  {
   "cell_type": "code",
   "execution_count": 7,
   "id": "e2df95b0",
   "metadata": {},
   "outputs": [],
   "source": [
    "query = '''\n",
    "SELECT *\n",
    "FROM parties\n",
    "where party_type = 'car'\n",
    "'''\n",
    "\n",
    "parties = pd.read_sql_query(query, con) \n"
   ]
  },
  {
   "cell_type": "code",
   "execution_count": 8,
   "id": "03dd3e37",
   "metadata": {},
   "outputs": [
    {
     "data": {
      "text/plain": [
       "(id                           0\n",
       " case_id                      0\n",
       " party_number                 0\n",
       " party_type                   0\n",
       " at_fault                     0\n",
       " insurance_premium       219689\n",
       " party_sobriety           44207\n",
       " party_drug_physical    2191243\n",
       " cellphone_in_use        374750\n",
       " dtype: int64,\n",
       " 0)"
      ]
     },
     "execution_count": 8,
     "metadata": {},
     "output_type": "execute_result"
    }
   ],
   "source": [
    "miss(parties), dup(parties)"
   ]
  },
  {
   "cell_type": "code",
   "execution_count": 9,
   "id": "45c90ef0",
   "metadata": {},
   "outputs": [],
   "source": [
    "query = '''\n",
    "SELECT *\n",
    "FROM vehicles\n",
    "'''\n",
    "vehicles = pd.read_sql_query(query, con) \n"
   ]
  },
  {
   "cell_type": "code",
   "execution_count": 10,
   "id": "8cfa5b1d",
   "metadata": {},
   "outputs": [
    {
     "data": {
      "text/plain": [
       "(id                          0\n",
       " case_id                     0\n",
       " party_number                0\n",
       " vehicle_type                0\n",
       " vehicle_transmission    23659\n",
       " vehicle_age             24582\n",
       " dtype: int64,\n",
       " 0)"
      ]
     },
     "execution_count": 10,
     "metadata": {},
     "output_type": "execute_result"
    }
   ],
   "source": [
    "miss(vehicles), dup(vehicles)"
   ]
  },
  {
   "attachments": {},
   "cell_type": "markdown",
   "id": "80f8de8c",
   "metadata": {},
   "source": [
    "##  Проведите статистический анализ факторов ДТП"
   ]
  },
  {
   "attachments": {},
   "cell_type": "markdown",
   "id": "7b7642ca",
   "metadata": {},
   "source": [
    "Проверим когда происходит наибольшее кол-во аварий по таблице collisions"
   ]
  },
  {
   "cell_type": "code",
   "execution_count": 11,
   "id": "96f68224",
   "metadata": {
    "scrolled": false
   },
   "outputs": [
    {
     "data": {
      "image/png": "[encoded data removed]",
      "text/plain": [
       "<Figure size 864x432 with 1 Axes>"
      ]
     },
     "metadata": {
      "needs_background": "light"
     },
     "output_type": "display_data"
    }
   ],
   "source": [
    "query = '''SELECT extract(year from collision_date) AS year,\n",
    "           extract(month from collision_date) AS month,\n",
    "           count(case_id)\n",
    "FROM collisions where COLLISION_DAMAGE != 'scratch'\n",
    "group by extract(year from collision_date) , extract(month from collision_date)'''\n",
    "df_collisions = pd.read_sql_query(query, con)\n",
    "\n",
    "df_collisions['year'] = df_collisions['year'].astype(int).astype(str)\n",
    "df_collisions['month'] = df_collisions['month'].astype(int).astype(str)\n",
    "\n",
    "df_collisions['all'] = df_collisions['year'] + '-' + df_collisions['month']\n",
    "df_collisions\n",
    "\n",
    "df_collisions[['all', 'count']].plot(x = 'all',y = 'count', figsize = (12,6), kind = 'bar')\n",
    "plt.xticks(rotation=55) \n",
    "plt.xlabel('период')\n",
    "plt.ylabel('кол-во случаев ДТП')\n",
    "plt.title('Анализ случаев ДТП за период')\n",
    "plt.show()"
   ]
  },
  {
   "attachments": {},
   "cell_type": "markdown",
   "id": "8210e9ae",
   "metadata": {},
   "source": [
    "`Вывод:` анализ ДТП не выявляет ярко выраженной тенденции, однако, можно заметить что общее количество ДТП имеет небольшую тенденцию к снижению в начале года (Январь). возможно, это связано с новогодними праздниками и тем что авто используется менее интенсивно чем в другие месяцы.\n",
    "\n",
    "Рост ДТП наблюдается в сентябре, скорее всего это связано с ухудшением погоды и началом осенних дождей.\n",
    "\n"
   ]
  },
  {
   "attachments": {},
   "cell_type": "markdown",
   "id": "8cd70fd3",
   "metadata": {},
   "source": [
    "Чтобы выяснить реальные причины, разобъём задачу на состовляющие, разделим задачу на подзадачи и передадим коллегам."
   ]
  },
  {
   "attachments": {},
   "cell_type": "markdown",
   "id": "4abc832b",
   "metadata": {},
   "source": [
    "Примеры задач для коллег:"
   ]
  },
  {
   "attachments": {},
   "cell_type": "markdown",
   "id": "24961c66",
   "metadata": {},
   "source": [
    "\n",
    "- Изучить зависимость ДТП от состояния дорожного полотна\n",
    "- Изучить зависимость ДТП от состояния освящённости дороги\n",
    "- Изучить зависимость ДТП при нахождении на перекрёстке дорог\n",
    "- Изучить есть зависимость ДТП от уровня опасности участка дорого\n",
    "- Изучить зависимость ДТП от погодных условий\n",
    "- Изучить зависимость ДТП от использования громкой связи за рулём\n",
    "- Изучить зависимость ДТП от времени суток"
   ]
  },
  {
   "attachments": {},
   "cell_type": "markdown",
   "id": "7e18a341",
   "metadata": {},
   "source": [
    "Выберем для анализа две задачи и проанализируем их:\n",
    "\n",
    "- Зависимость ДТП от погодных условий\n",
    "- Зависимость ДТП от состояния освящённости дороги"
   ]
  },
  {
   "attachments": {},
   "cell_type": "markdown",
   "id": "71474662",
   "metadata": {},
   "source": [
    "#### Задача 1: - Зависимость ДТП от погодных условий"
   ]
  },
  {
   "attachments": {},
   "cell_type": "markdown",
   "id": "4fa8e8bf",
   "metadata": {},
   "source": [
    "- выполнить запрос к базе данных SQL\n",
    "- построить графическое отображение\n",
    "- сделать вывод о проделанной работе"
   ]
  },
  {
   "attachments": {},
   "cell_type": "markdown",
   "id": "6292650b",
   "metadata": {},
   "source": [
    "Запрос к базе данных"
   ]
  },
  {
   "cell_type": "code",
   "execution_count": 12,
   "id": "f2d83226",
   "metadata": {},
   "outputs": [],
   "source": [
    "query = '''\n",
    "SELECT collisions.weather_1 , parties.at_fault\n",
    "FROM collisions\n",
    "LEFT JOIN parties on parties.case_id = collisions.case_id\n",
    "'''\n",
    "order_1 = pd.read_sql_query(query, con) "
   ]
  },
  {
   "attachments": {},
   "cell_type": "markdown",
   "id": "a0a9a427",
   "metadata": {},
   "source": [
    "График"
   ]
  },
  {
   "cell_type": "code",
   "execution_count": 13,
   "id": "db7de4f6",
   "metadata": {},
   "outputs": [
    {
     "data": {
      "text/plain": [
       "<AxesSubplot:>"
      ]
     },
     "execution_count": 13,
     "metadata": {},
     "output_type": "execute_result"
    },
    {
     "data": {
      "image/png": "[encoded data removed]",
      "text/plain": [
       "<Figure size 432x288 with 1 Axes>"
      ]
     },
     "metadata": {
      "needs_background": "light"
     },
     "output_type": "display_data"
    }
   ],
   "source": [
    "order_1['at_fault'] = order_1['at_fault'].astype(str)\n",
    "order_1['all'] = order_1['weather_1'] + '-' + order_1['at_fault']\n",
    "order_1['all'].value_counts().plot(kind = 'barh')"
   ]
  },
  {
   "attachments": {},
   "cell_type": "markdown",
   "id": "db24321a",
   "metadata": {},
   "source": [
    "`Вывод:` из графика выше следует что за исключением параметра 'ясная погода' сколько нибудь значительной разницы между присутствие или отсутствием погодного явления не надлюдается.\n",
    "\n",
    "ДТП проиходят одинаково часто в дождь или при его отсутствии.\n",
    "\n",
    "Папаметр clear - ясня погода показывает незначительную связь, на грани погрешности."
   ]
  },
  {
   "attachments": {},
   "cell_type": "markdown",
   "id": "b4ab8a1c",
   "metadata": {},
   "source": [
    "#### Задача 2: Зависимость кол-во ДТП от состояния освящённости дороги"
   ]
  },
  {
   "attachments": {},
   "cell_type": "markdown",
   "id": "52d9e7df",
   "metadata": {},
   "source": [
    "- выполнить запрос к базе данных SQL\n",
    "- построить графическое отображение\n",
    "- сделать вывод о проделанной работе"
   ]
  },
  {
   "attachments": {},
   "cell_type": "markdown",
   "id": "7fc4ef9e",
   "metadata": {},
   "source": [
    "Запрос к базе данных"
   ]
  },
  {
   "cell_type": "code",
   "execution_count": 14,
   "id": "1a8dbf8d",
   "metadata": {},
   "outputs": [],
   "source": [
    "query = '''\n",
    "SELECT collisions.LIGHTING , parties.at_fault\n",
    "FROM collisions\n",
    "LEFT JOIN parties on parties.case_id = collisions.case_id\n",
    "'''\n",
    "order_2 = pd.read_sql_query(query, con) "
   ]
  },
  {
   "attachments": {},
   "cell_type": "markdown",
   "id": "00421318",
   "metadata": {},
   "source": [
    "График"
   ]
  },
  {
   "cell_type": "code",
   "execution_count": 15,
   "id": "8bd53591",
   "metadata": {},
   "outputs": [
    {
     "data": {
      "image/png": "[encoded data removed]",
      "text/plain": [
       "<Figure size 432x288 with 1 Axes>"
      ]
     },
     "metadata": {
      "needs_background": "light"
     },
     "output_type": "display_data"
    }
   ],
   "source": [
    "order_2['at_fault'] = order_2['at_fault'].astype(str)\n",
    "order_2['all'] = order_2['lighting'] + '-' + order_2['at_fault']\n",
    "order_2['all'].value_counts().plot(kind = 'barh')\n",
    "ax = order_2['all'].value_counts().plot(kind='barh')\n",
    "\n",
    "# название таблицы\n",
    "ax.set_title(\"Частота по всем категориям\")\n",
    "\n",
    "# ось Х\n",
    "ax.set_xlabel(\"Частота\")\n",
    "\n",
    "# ось у\n",
    "ax.set_ylabel(\"Все факторы\")\n",
    "\n",
    "plt.show()"
   ]
  },
  {
   "attachments": {},
   "cell_type": "markdown",
   "id": "1bdc8126",
   "metadata": {},
   "source": [
    "`Вывод:` не прослеживается корреляции отсещённости и ДТП, за исключением наличия / отсутствия дневного света, но эти показатели очень близки и поэтому, ненадёжны. Буди считать что явной взаимосвязи нет."
   ]
  },
  {
   "attachments": {},
   "cell_type": "markdown",
   "id": "7dd3aac5",
   "metadata": {},
   "source": [
    "## Создайте модель для оценки водительского риска"
   ]
  },
  {
   "attachments": {},
   "cell_type": "markdown",
   "id": "4c856963",
   "metadata": {},
   "source": [
    "Запрос к базе данных"
   ]
  },
  {
   "cell_type": "code",
   "execution_count": 16,
   "id": "4ac2fc0f",
   "metadata": {},
   "outputs": [],
   "source": [
    "\n",
    "query = '''\n",
    "SELECT *\n",
    "FROM collisions as c\n",
    "left join parties as p on p.case_id = c.case_id\n",
    "left join vehicles as v on v.case_id = c.case_id\n",
    "where extract(year from collision_date) = 2012 and COLLISION_DAMAGE != 'scratch' and party_type = 'car'\n",
    "'''\n",
    "union_df = pd.read_sql_query(query, con) "
   ]
  },
  {
   "attachments": {},
   "cell_type": "markdown",
   "id": "7b729ada",
   "metadata": {},
   "source": [
    "Соединяем все три таблицы чтобы работать с одной таблицей"
   ]
  },
  {
   "attachments": {},
   "cell_type": "markdown",
   "id": "8aceae0d",
   "metadata": {},
   "source": [
    "Изучаем и выбираем факторы которые могуть повлиять на вероятность ДТП"
   ]
  },
  {
   "cell_type": "code",
   "execution_count": 17,
   "id": "3f10e487",
   "metadata": {},
   "outputs": [],
   "source": [
    "columns= ['case_id',  # после объединения колонка не нужна -- удаляем\n",
    "        'county_city_location', # числовое описание района -- оставляем\n",
    "        'county_location',  # дублирует `county_city_location` -- удаляем\n",
    "        'distance', # протяженность пути -- оставляем\n",
    "       'direction', # неточная формулировка (стороны света) -- убираем\n",
    "       'intersection', # наличие перекрёстка в месте ДТП -- оставляем\n",
    "       'weather_1', # погодняе условия -- оставляем\n",
    "       'location_type',# тип дороги -- оставляем\n",
    "       'collision_damage', # повреждения не интересуют, важен факт ДТП -- удаляем\n",
    "       'party_count', # Обьект столковения нас не интересует -- удаляем\n",
    "       'primary_collision_factor',# какие правила ДТП нарушены -- оставляем\n",
    "       'pcf_violation_category',# наличие алкоголья -- оставляем\n",
    "       'type_of_collision',# тип ДТП не имеет значения -- удаляем\n",
    "       'motor_vehicle_involved_with',# побочные участники дтп вносят шум -- удаляем\n",
    "       'road_surface', # дорожное покрытие -- оставляем\n",
    "       'road_condition_1', # Состояние дорожного полотна - важно, оставляем\n",
    "       'lighting',  # освещение дорожного полотна -- оставляем\n",
    "       'control_device', # нет описания -- оставим на всякий случай\n",
    "        'collision_date'# дата ДТП -- оставляем\n",
    "        'collision_time',# время ДТП -- оставляем\n",
    "         'id',# не несёт полезной инфы -- удаляем \n",
    "       'case_id',# не несёт полезной инфы -- удаляем \n",
    "        'party_number',#все порядковые колонки с удаляем\n",
    "        'party_type',# удаляем так как мы уже выбрали ранее все автомобили\n",
    "         'at_fault',# целевой параметр -- оставляем\n",
    "       'insurance_premium',# нет описания опасности поетому -- удаляем \n",
    "        'party_sobriety', # нет данных -- удаляем       \n",
    "        'party_drug_physical',# состояние участника на тесте нам не известно -- удаляем    \n",
    "       'cellphone_in_use',# использование телефона во время вождения понижает внимательность -- оставляем\n",
    "        'id',# не несёт полезной инфы -- удаляем \n",
    "       'case_id',# не несёт полезной инфы -- удаляем \n",
    "        'party_number',# не несёт полезной инфы -- удаляем \n",
    "        'vehicle_type',#тип кузова -- может повлиять на ДТП, тк от типа кузова может зависеть поведение авто и его управляемость -- оставим\n",
    "       'vehicle_transmission',#  трансмиссия -- оставим, возможно механника как более сложный в управлении тип влияет на ДТП\n",
    "         'vehicle_age']# возраст авто -- оставляем"
   ]
  },
  {
   "attachments": {},
   "cell_type": "markdown",
   "id": "5695ff55",
   "metadata": {},
   "source": [
    "На основании анализа выше - удалим ненужные признаки и сохраним в переменную union_df"
   ]
  },
  {
   "cell_type": "code",
   "execution_count": 18,
   "id": "d4bd348d",
   "metadata": {},
   "outputs": [],
   "source": [
    "union_df = union_df[['county_city_location','pcf_violation_category','primary_collision_factor','party_sobriety','distance','intersection','weather_1','road_surface','at_fault','road_condition_1','lighting','control_device','collision_date','collision_time','cellphone_in_use','vehicle_age', 'vehicle_type', 'vehicle_transmission']]"
   ]
  },
  {
   "cell_type": "code",
   "execution_count": 19,
   "id": "c45e7723",
   "metadata": {},
   "outputs": [
    {
     "data": {
      "text/html": [
       "<div>\n",
       "<style scoped>\n",
       "    .dataframe tbody tr th:only-of-type {\n",
       "        vertical-align: middle;\n",
       "    }\n",
       "\n",
       "    .dataframe tbody tr th {\n",
       "        vertical-align: top;\n",
       "    }\n",
       "\n",
       "    .dataframe thead th {\n",
       "        text-align: right;\n",
       "    }\n",
       "</style>\n",
       "<table border=\"1\" class=\"dataframe\">\n",
       "  <thead>\n",
       "    <tr style=\"text-align: right;\">\n",
       "      <th></th>\n",
       "      <th>county_city_location</th>\n",
       "      <th>pcf_violation_category</th>\n",
       "      <th>primary_collision_factor</th>\n",
       "      <th>party_sobriety</th>\n",
       "      <th>distance</th>\n",
       "      <th>intersection</th>\n",
       "      <th>weather_1</th>\n",
       "      <th>road_surface</th>\n",
       "      <th>at_fault</th>\n",
       "      <th>road_condition_1</th>\n",
       "      <th>lighting</th>\n",
       "      <th>control_device</th>\n",
       "      <th>collision_date</th>\n",
       "      <th>collision_time</th>\n",
       "      <th>cellphone_in_use</th>\n",
       "      <th>vehicle_age</th>\n",
       "      <th>vehicle_type</th>\n",
       "      <th>vehicle_transmission</th>\n",
       "    </tr>\n",
       "  </thead>\n",
       "  <tbody>\n",
       "    <tr>\n",
       "      <th>0</th>\n",
       "      <td>3000</td>\n",
       "      <td>unsafe lane change</td>\n",
       "      <td>vehicle code violation</td>\n",
       "      <td>had not been drinking</td>\n",
       "      <td>900.0</td>\n",
       "      <td>0.0</td>\n",
       "      <td>clear</td>\n",
       "      <td>dry</td>\n",
       "      <td>0</td>\n",
       "      <td>normal</td>\n",
       "      <td>daylight</td>\n",
       "      <td>none</td>\n",
       "      <td>2012-01-26</td>\n",
       "      <td>08:50:00</td>\n",
       "      <td>0.0</td>\n",
       "      <td>NaN</td>\n",
       "      <td>None</td>\n",
       "      <td>None</td>\n",
       "    </tr>\n",
       "    <tr>\n",
       "      <th>1</th>\n",
       "      <td>0900</td>\n",
       "      <td>unknown</td>\n",
       "      <td>unknown</td>\n",
       "      <td>had not been drinking</td>\n",
       "      <td>200.0</td>\n",
       "      <td>0.0</td>\n",
       "      <td>clear</td>\n",
       "      <td>dry</td>\n",
       "      <td>0</td>\n",
       "      <td>normal</td>\n",
       "      <td>daylight</td>\n",
       "      <td>functioning</td>\n",
       "      <td>2012-01-15</td>\n",
       "      <td>16:15:00</td>\n",
       "      <td>0.0</td>\n",
       "      <td>4.0</td>\n",
       "      <td>sedan</td>\n",
       "      <td>manual</td>\n",
       "    </tr>\n",
       "    <tr>\n",
       "      <th>2</th>\n",
       "      <td>3026</td>\n",
       "      <td>unsafe lane change</td>\n",
       "      <td>vehicle code violation</td>\n",
       "      <td>had not been drinking</td>\n",
       "      <td>1.0</td>\n",
       "      <td>0.0</td>\n",
       "      <td>clear</td>\n",
       "      <td>dry</td>\n",
       "      <td>0</td>\n",
       "      <td>normal</td>\n",
       "      <td>daylight</td>\n",
       "      <td>none</td>\n",
       "      <td>2012-01-03</td>\n",
       "      <td>09:16:00</td>\n",
       "      <td>0.0</td>\n",
       "      <td>NaN</td>\n",
       "      <td>None</td>\n",
       "      <td>None</td>\n",
       "    </tr>\n",
       "    <tr>\n",
       "      <th>3</th>\n",
       "      <td>3801</td>\n",
       "      <td>speeding</td>\n",
       "      <td>vehicle code violation</td>\n",
       "      <td>impairment unknown</td>\n",
       "      <td>22.0</td>\n",
       "      <td>0.0</td>\n",
       "      <td>other</td>\n",
       "      <td>None</td>\n",
       "      <td>1</td>\n",
       "      <td>normal</td>\n",
       "      <td>dark with street lights</td>\n",
       "      <td>none</td>\n",
       "      <td>2012-01-22</td>\n",
       "      <td>05:55:00</td>\n",
       "      <td>NaN</td>\n",
       "      <td>NaN</td>\n",
       "      <td>None</td>\n",
       "      <td>None</td>\n",
       "    </tr>\n",
       "    <tr>\n",
       "      <th>4</th>\n",
       "      <td>1941</td>\n",
       "      <td>improper turning</td>\n",
       "      <td>vehicle code violation</td>\n",
       "      <td>had not been drinking</td>\n",
       "      <td>0.0</td>\n",
       "      <td>1.0</td>\n",
       "      <td>clear</td>\n",
       "      <td>dry</td>\n",
       "      <td>1</td>\n",
       "      <td>normal</td>\n",
       "      <td>daylight</td>\n",
       "      <td>functioning</td>\n",
       "      <td>2012-01-18</td>\n",
       "      <td>07:22:00</td>\n",
       "      <td>0.0</td>\n",
       "      <td>2.0</td>\n",
       "      <td>hatchback</td>\n",
       "      <td>auto</td>\n",
       "    </tr>\n",
       "  </tbody>\n",
       "</table>\n",
       "</div>"
      ],
      "text/plain": [
       "  county_city_location pcf_violation_category primary_collision_factor  \\\n",
       "0                 3000     unsafe lane change   vehicle code violation   \n",
       "1                 0900                unknown                  unknown   \n",
       "2                 3026     unsafe lane change   vehicle code violation   \n",
       "3                 3801               speeding   vehicle code violation   \n",
       "4                 1941       improper turning   vehicle code violation   \n",
       "\n",
       "          party_sobriety  distance  intersection weather_1 road_surface  \\\n",
       "0  had not been drinking     900.0           0.0     clear          dry   \n",
       "1  had not been drinking     200.0           0.0     clear          dry   \n",
       "2  had not been drinking       1.0           0.0     clear          dry   \n",
       "3     impairment unknown      22.0           0.0     other         None   \n",
       "4  had not been drinking       0.0           1.0     clear          dry   \n",
       "\n",
       "   at_fault road_condition_1                 lighting control_device  \\\n",
       "0         0           normal                 daylight           none   \n",
       "1         0           normal                 daylight    functioning   \n",
       "2         0           normal                 daylight           none   \n",
       "3         1           normal  dark with street lights           none   \n",
       "4         1           normal                 daylight    functioning   \n",
       "\n",
       "  collision_date collision_time  cellphone_in_use  vehicle_age vehicle_type  \\\n",
       "0     2012-01-26       08:50:00               0.0          NaN         None   \n",
       "1     2012-01-15       16:15:00               0.0          4.0        sedan   \n",
       "2     2012-01-03       09:16:00               0.0          NaN         None   \n",
       "3     2012-01-22       05:55:00               NaN          NaN         None   \n",
       "4     2012-01-18       07:22:00               0.0          2.0    hatchback   \n",
       "\n",
       "  vehicle_transmission  \n",
       "0                 None  \n",
       "1               manual  \n",
       "2                 None  \n",
       "3                 None  \n",
       "4                 auto  "
      ]
     },
     "execution_count": 19,
     "metadata": {},
     "output_type": "execute_result"
    }
   ],
   "source": [
    "union_df.head()"
   ]
  },
  {
   "attachments": {},
   "cell_type": "markdown",
   "id": "d8d18dcf",
   "metadata": {},
   "source": [
    "Заполним пропуски"
   ]
  },
  {
   "cell_type": "code",
   "execution_count": 20,
   "id": "b732f3da",
   "metadata": {},
   "outputs": [],
   "source": [
    "union_df.loc[union_df['vehicle_age'].isna(),'vehicle_age'] = 0\n",
    "union_df.loc[union_df['vehicle_transmission'].isna(), 'vehicle_transmission' ] = 'none'\n",
    "union_df.loc[union_df['vehicle_type'].isna(), 'vehicle_type' ] = 'none'\n",
    "union_df.loc[union_df['cellphone_in_use'].isna(),'cellphone_in_use'] = 0\n",
    "union_df.loc[union_df['intersection'].isna(),'intersection'] = 0\n",
    "union_df.loc[union_df['control_device'].isna(),'control_device'] = 'none'\n",
    "union_df.loc[union_df['lighting'].isna(),'lighting'] = 'none'\n",
    "union_df.loc[union_df['weather_1'].isna(),'weather_1'] = 'other'\n",
    "union_df = union_df.dropna(subset=['road_surface','road_condition_1','pcf_violation_category','primary_collision_factor','party_sobriety']) # удаляем пропуски"
   ]
  },
  {
   "attachments": {},
   "cell_type": "markdown",
   "id": "e266a937",
   "metadata": {},
   "source": [
    "Проверим на выбросы расстояние от главной дороги 'distance'"
   ]
  },
  {
   "cell_type": "code",
   "execution_count": 21,
   "id": "82fc302f",
   "metadata": {},
   "outputs": [
    {
     "data": {
      "image/png": "[encoded data removed]",
      "text/plain": [
       "<Figure size 432x288 with 1 Axes>"
      ]
     },
     "metadata": {
      "needs_background": "light"
     },
     "output_type": "display_data"
    }
   ],
   "source": [
    "union_df['distance'].plot()\n",
    "plt.ticklabel_format(style='plain', axis='y')"
   ]
  },
  {
   "attachments": {},
   "cell_type": "markdown",
   "id": "f7959993",
   "metadata": {},
   "source": [
    "Проверим на выбросы расстояние от главной дороги 'vehicle_age'"
   ]
  },
  {
   "cell_type": "code",
   "execution_count": 22,
   "id": "6d4e91fa",
   "metadata": {},
   "outputs": [
    {
     "data": {
      "image/png": "[encoded data removed]",
      "text/plain": [
       "<Figure size 432x288 with 1 Axes>"
      ]
     },
     "metadata": {
      "needs_background": "light"
     },
     "output_type": "display_data"
    }
   ],
   "source": [
    "union_df['vehicle_age'].plot()\n",
    "plt.ticklabel_format(style='plain', axis='y')"
   ]
  },
  {
   "cell_type": "code",
   "execution_count": 23,
   "id": "aabce450",
   "metadata": {},
   "outputs": [
    {
     "data": {
      "text/plain": [
       "0.0      112726\n",
       "3.0       20882\n",
       "4.0       14119\n",
       "2.0       12390\n",
       "5.0       11305\n",
       "6.0        8201\n",
       "7.0        8030\n",
       "8.0        7360\n",
       "9.0        5873\n",
       "1.0        5480\n",
       "10.0       4132\n",
       "11.0       2885\n",
       "12.0       1807\n",
       "13.0       1137\n",
       "14.0        583\n",
       "15.0         79\n",
       "16.0         20\n",
       "17.0          4\n",
       "161.0         4\n",
       "19.0          1\n",
       "Name: vehicle_age, dtype: int64"
      ]
     },
     "execution_count": 23,
     "metadata": {},
     "output_type": "execute_result"
    }
   ],
   "source": [
    "union_df['vehicle_age'].value_counts()"
   ]
  },
  {
   "attachments": {},
   "cell_type": "markdown",
   "id": "48572013",
   "metadata": {},
   "source": [
    "Удалим выбирающиеся значения большие 200 000 метров от главной дороги"
   ]
  },
  {
   "cell_type": "code",
   "execution_count": 24,
   "id": "10cac50c",
   "metadata": {},
   "outputs": [],
   "source": [
    "union_df = union_df.loc[union_df['distance'] < 200000]"
   ]
  },
  {
   "attachments": {},
   "cell_type": "markdown",
   "id": "869a17f8",
   "metadata": {},
   "source": [
    "Удалим выбирающиеся значения возраста авто большие 19 лет."
   ]
  },
  {
   "cell_type": "code",
   "execution_count": 25,
   "id": "c1578b28",
   "metadata": {},
   "outputs": [],
   "source": [
    "union_df = union_df.loc[union_df['vehicle_age'] <= 19]"
   ]
  },
  {
   "attachments": {},
   "cell_type": "markdown",
   "id": "7a8d42ee",
   "metadata": {},
   "source": [
    "Готовим данные перед разделением выборок"
   ]
  },
  {
   "cell_type": "code",
   "execution_count": 26,
   "id": "90cc870f",
   "metadata": {},
   "outputs": [],
   "source": [
    "categorical = union_df.select_dtypes(exclude=np.number).columns.to_list()\n",
    "numeric = union_df.select_dtypes(include=np.number).columns.to_list()\n",
    "numeric = ['distance', 'intersection', 'cellphone_in_use', 'vehicle_age']"
   ]
  },
  {
   "cell_type": "code",
   "execution_count": 27,
   "id": "7e76ca54",
   "metadata": {},
   "outputs": [],
   "source": [
    "X = union_df.drop(['at_fault'], axis=1)\n",
    "y = union_df['at_fault']"
   ]
  },
  {
   "attachments": {},
   "cell_type": "markdown",
   "id": "ab0bd939",
   "metadata": {},
   "source": [
    "Делим выборки"
   ]
  },
  {
   "cell_type": "code",
   "execution_count": 28,
   "id": "b7c5c5e4",
   "metadata": {},
   "outputs": [],
   "source": [
    "# Разделение на выборки\n",
    "X_train, X_test, y_train, y_test = train_test_split(X, y, test_size=0.3, stratify=y, random_state=42)"
   ]
  },
  {
   "cell_type": "code",
   "execution_count": 29,
   "id": "c6b9dd58",
   "metadata": {},
   "outputs": [],
   "source": [
    "# Разделение на выборки\n",
    "X_train, X_val, y_train, y_val = train_test_split(X_train, y_train, train_size=0.5, stratify=y_train, random_state=42)"
   ]
  },
  {
   "attachments": {},
   "cell_type": "markdown",
   "id": "e1893786",
   "metadata": {},
   "source": [
    "Создаём пайплайны"
   ]
  },
  {
   "cell_type": "code",
   "execution_count": 30,
   "id": "7471b36e",
   "metadata": {},
   "outputs": [],
   "source": [
    "# масштабирование числовых данных\n",
    "numeric_preproces = Pipeline([('scaler',StandardScaler())])\n",
    "\n",
    "# кодирование категориальных данных \n",
    "categorial_preproces = Pipeline([('ordinal', OrdinalEncoder(handle_unknown='use_encoded_value', unknown_value=-1))])\n",
    "\n",
    "# процесс подготовки данных для Случайного леса\n",
    "preprocessor_for_tree = ColumnTransformer([\n",
    "    (\n",
    "        'categorical', \n",
    "        categorial_preproces, \n",
    "        categorical\n",
    "    ),\n",
    "    (\n",
    "        'numerical', \n",
    "        numeric_preproces, \n",
    "        numeric\n",
    "    )\n",
    "])\n",
    "\n",
    "# подготовка данных для бустинга\n",
    "preprocessor_for_boost = ColumnTransformer([\n",
    "    (\n",
    "        'numerical', \n",
    "        numeric_preproces, \n",
    "        numeric\n",
    "    )\n",
    "])\n",
    "\n",
    "pipe_for_tree = Pipeline([\n",
    "    ('preprocessor', preprocessor_for_tree),\n",
    "    ('classifier', RandomForestClassifier(random_state=42))\n",
    "])\n",
    "\n",
    "pipe_for_catboost = Pipeline([\n",
    "    ('preprocessor', preprocessor_for_boost),\n",
    "    ('classifier', CatBoostClassifier(random_state=42))\n",
    "])\n",
    "\n",
    "\n",
    "pipe_for_lgbm = Pipeline([\n",
    "    ('preprocessor', preprocessor_for_boost),\n",
    "    ('classifier', LGBMClassifier(random_state=42))\n",
    "])"
   ]
  },
  {
   "attachments": {},
   "cell_type": "markdown",
   "id": "feae2462",
   "metadata": {},
   "source": [
    "Проверка на дисбаланс классов (0 и 1)"
   ]
  },
  {
   "cell_type": "code",
   "execution_count": 31,
   "id": "f2e5e28b",
   "metadata": {},
   "outputs": [
    {
     "name": "stdout",
     "output_type": "stream",
     "text": [
      "Распределение классов:\n",
      "1    109578\n",
      "0    107428\n",
      "Name: at_fault, dtype: int64\n",
      "\n",
      "Соотношение классов:\n",
      "1    0.504954\n",
      "0    0.495046\n",
      "Name: at_fault, dtype: float64\n"
     ]
    }
   ],
   "source": [
    "# Провидим анализ дисбаланса классов, считаем кол-во 0 и 1 и их соотношение\n",
    "target_counts = union_df['at_fault'].value_counts()\n",
    "target_ratio = target_counts / len(union_df)\n",
    "\n",
    "print(\"Распределение классов:\")\n",
    "print(target_counts)\n",
    "print(\"\\nСоотношение классов:\")\n",
    "print(target_ratio)\n"
   ]
  },
  {
   "attachments": {},
   "cell_type": "markdown",
   "id": "3b44db3d",
   "metadata": {},
   "source": [
    "`Вывод:` дисбаланса класов нет"
   ]
  },
  {
   "attachments": {},
   "cell_type": "markdown",
   "id": "00ec4b56",
   "metadata": {},
   "source": [
    "`Выбор метрики:` обоснование выбора метрики F1 для системы оценки риска ДТП по выбранному маршруту движения можно представить следующим образом:\n",
    "\n",
    "Учет баланса между полнотой и точностью: Метрика F1 учитывает как полноту (recall), так и точность (precision) модели. В случае оценки риска ДТП, важно достичь баланса между выявлением действительно рисковых маршрутов (высокая полнота) и минимизацией ложно-положительных предупреждений (высокая точность).\n",
    "\n",
    "Подчеркивание важности правильного выявления рисковых маршрутов: В контексте безопасности дорожного движения, цель системы - предупреждать водителей о потенциальных опасностях на выбранных ими маршрутах. Ошибка в пропуске рискового маршрута (ложно-отрицательное предупреждение) может иметь серьезные последствия. Метрика F1 помогает оценить эффективность системы в правильном выявлении и предупреждении о рисковых маршрутах, уделяя внимание и полноте, и точности.\n",
    "\n",
    "\n",
    "Легкость интерпретации: Метрика F1 является широко используемой и легко интерпретируемой метрикой. Ее значения лежат в диапазоне от 0 до 1, где 1 соответствует идеальному балансу полноты и точности, а 0 - плохим результатам. Таким образом, F1-метрика предоставляет простую и понятную оценку уровня риска для водителей, позволяя"
   ]
  },
  {
   "attachments": {},
   "cell_type": "markdown",
   "id": "889130c5",
   "metadata": {},
   "source": [
    "Параметры для RF"
   ]
  },
  {
   "cell_type": "code",
   "execution_count": 32,
   "id": "fea2085f",
   "metadata": {},
   "outputs": [
    {
     "name": "stdout",
     "output_type": "stream",
     "text": [
      "train_scores_1:0.5884641173656728\n",
      "val_scores_1:0.5861726655565518\n"
     ]
    }
   ],
   "source": [
    "param = {\n",
    "    'classifier__n_estimators': [100, 200],\n",
    "    'classifier__max_depth': [5, 10]\n",
    "}\n",
    "grid_tree =  GridSearchCV(pipe_for_tree, param, cv = 2, scoring= 'f1')\n",
    "grid_tree.fit(X_train,y_train)\n",
    "\n",
    "predict_train_rf = grid_tree.predict(X_train)\n",
    "predict_test_rf = grid_tree.predict(X_val)\n",
    "\n",
    "train_scores_1 = grid_tree.best_score_\n",
    "val_scores_1 = f1_score(y_val, predict_test_rf)\n",
    "print(f'train_scores_1:{train_scores_1}')\n",
    "print(f'val_scores_1:{val_scores_1}')"
   ]
  },
  {
   "attachments": {},
   "cell_type": "markdown",
   "id": "a49eb8bd",
   "metadata": {},
   "source": [
    "Параметры для LGBM"
   ]
  },
  {
   "cell_type": "code",
   "execution_count": 33,
   "id": "98756182",
   "metadata": {},
   "outputs": [
    {
     "name": "stdout",
     "output_type": "stream",
     "text": [
      "train_scores_2:0.5306453139611587\n",
      "val_scores_1:0.5349204226293968\n"
     ]
    }
   ],
   "source": [
    "param = {\n",
    "    'classifier__n_estimators': [100, 200],\n",
    "    'classifier__max_depth': [5, 10]\n",
    "}\n",
    "grid_lgbm = GridSearchCV(pipe_for_lgbm, param, cv = 2, scoring= 'f1', verbose=False)\n",
    "grid_lgbm.fit(X_train, y_train)\n",
    "predict_train_lgbm = grid_lgbm.predict(X_train)\n",
    "predict_test_lgbm = grid_lgbm.predict(X_val)\n",
    "train_scores_2 = grid_lgbm.best_score_\n",
    "val_scores_2 = f1_score(y_val, predict_test_lgbm)\n",
    "print(f'train_scores_2:{train_scores_2}')\n",
    "print(f'val_scores_1:{val_scores_2}')"
   ]
  },
  {
   "attachments": {},
   "cell_type": "markdown",
   "id": "6ad14471",
   "metadata": {},
   "source": [
    "Параметры для Catboost"
   ]
  },
  {
   "cell_type": "code",
   "execution_count": 34,
   "id": "361b4056",
   "metadata": {},
   "outputs": [
    {
     "name": "stdout",
     "output_type": "stream",
     "text": [
      "Learning rate set to 0.402147\n",
      "0:\tlearn: 0.6903771\ttotal: 52.2ms\tremaining: 5.17s\n",
      "1:\tlearn: 0.6891517\ttotal: 56.7ms\tremaining: 2.78s\n",
      "2:\tlearn: 0.6885510\ttotal: 59.9ms\tremaining: 1.94s\n",
      "3:\tlearn: 0.6880931\ttotal: 63.2ms\tremaining: 1.52s\n",
      "4:\tlearn: 0.6879430\ttotal: 67.7ms\tremaining: 1.29s\n",
      "5:\tlearn: 0.6878568\ttotal: 70.3ms\tremaining: 1.1s\n",
      "6:\tlearn: 0.6877677\ttotal: 73.5ms\tremaining: 976ms\n",
      "7:\tlearn: 0.6876592\ttotal: 77.2ms\tremaining: 888ms\n",
      "8:\tlearn: 0.6876471\ttotal: 80.4ms\tremaining: 813ms\n",
      "9:\tlearn: 0.6875244\ttotal: 83.7ms\tremaining: 753ms\n",
      "10:\tlearn: 0.6875078\ttotal: 92.4ms\tremaining: 748ms\n",
      "11:\tlearn: 0.6874587\ttotal: 98.2ms\tremaining: 720ms\n",
      "12:\tlearn: 0.6873732\ttotal: 102ms\tremaining: 680ms\n",
      "13:\tlearn: 0.6872586\ttotal: 105ms\tremaining: 645ms\n",
      "14:\tlearn: 0.6872126\ttotal: 108ms\tremaining: 614ms\n",
      "15:\tlearn: 0.6870938\ttotal: 112ms\tremaining: 587ms\n",
      "16:\tlearn: 0.6870569\ttotal: 115ms\tremaining: 562ms\n",
      "17:\tlearn: 0.6870238\ttotal: 118ms\tremaining: 538ms\n",
      "18:\tlearn: 0.6869968\ttotal: 121ms\tremaining: 517ms\n",
      "19:\tlearn: 0.6869480\ttotal: 125ms\tremaining: 499ms\n",
      "20:\tlearn: 0.6869278\ttotal: 128ms\tremaining: 481ms\n",
      "21:\tlearn: 0.6868534\ttotal: 131ms\tremaining: 464ms\n",
      "22:\tlearn: 0.6866896\ttotal: 134ms\tremaining: 449ms\n",
      "23:\tlearn: 0.6866272\ttotal: 137ms\tremaining: 435ms\n",
      "24:\tlearn: 0.6866167\ttotal: 140ms\tremaining: 421ms\n",
      "25:\tlearn: 0.6865126\ttotal: 143ms\tremaining: 408ms\n",
      "26:\tlearn: 0.6864928\ttotal: 146ms\tremaining: 396ms\n",
      "27:\tlearn: 0.6864668\ttotal: 150ms\tremaining: 385ms\n",
      "28:\tlearn: 0.6864283\ttotal: 153ms\tremaining: 374ms\n",
      "29:\tlearn: 0.6863546\ttotal: 156ms\tremaining: 363ms\n",
      "30:\tlearn: 0.6862390\ttotal: 159ms\tremaining: 353ms\n",
      "31:\tlearn: 0.6861684\ttotal: 162ms\tremaining: 344ms\n",
      "32:\tlearn: 0.6860882\ttotal: 165ms\tremaining: 335ms\n",
      "33:\tlearn: 0.6860072\ttotal: 168ms\tremaining: 327ms\n",
      "34:\tlearn: 0.6856798\ttotal: 172ms\tremaining: 319ms\n",
      "35:\tlearn: 0.6856070\ttotal: 179ms\tremaining: 318ms\n",
      "36:\tlearn: 0.6854991\ttotal: 184ms\tremaining: 314ms\n",
      "37:\tlearn: 0.6854478\ttotal: 188ms\tremaining: 307ms\n",
      "38:\tlearn: 0.6853829\ttotal: 191ms\tremaining: 299ms\n",
      "39:\tlearn: 0.6852839\ttotal: 195ms\tremaining: 292ms\n",
      "40:\tlearn: 0.6851935\ttotal: 198ms\tremaining: 285ms\n",
      "41:\tlearn: 0.6851467\ttotal: 201ms\tremaining: 278ms\n",
      "42:\tlearn: 0.6850474\ttotal: 204ms\tremaining: 271ms\n",
      "43:\tlearn: 0.6849660\ttotal: 207ms\tremaining: 264ms\n",
      "44:\tlearn: 0.6848860\ttotal: 211ms\tremaining: 258ms\n",
      "45:\tlearn: 0.6847069\ttotal: 214ms\tremaining: 251ms\n",
      "46:\tlearn: 0.6846205\ttotal: 217ms\tremaining: 244ms\n",
      "47:\tlearn: 0.6845274\ttotal: 220ms\tremaining: 238ms\n",
      "48:\tlearn: 0.6844946\ttotal: 223ms\tremaining: 232ms\n",
      "49:\tlearn: 0.6844525\ttotal: 226ms\tremaining: 226ms\n",
      "50:\tlearn: 0.6843895\ttotal: 230ms\tremaining: 221ms\n",
      "51:\tlearn: 0.6843150\ttotal: 233ms\tremaining: 215ms\n",
      "52:\tlearn: 0.6841960\ttotal: 236ms\tremaining: 209ms\n",
      "53:\tlearn: 0.6841272\ttotal: 239ms\tremaining: 204ms\n",
      "54:\tlearn: 0.6840828\ttotal: 243ms\tremaining: 198ms\n",
      "55:\tlearn: 0.6840413\ttotal: 245ms\tremaining: 193ms\n",
      "56:\tlearn: 0.6839867\ttotal: 249ms\tremaining: 188ms\n",
      "57:\tlearn: 0.6838692\ttotal: 252ms\tremaining: 182ms\n",
      "58:\tlearn: 0.6838242\ttotal: 255ms\tremaining: 177ms\n",
      "59:\tlearn: 0.6838074\ttotal: 259ms\tremaining: 173ms\n",
      "60:\tlearn: 0.6836984\ttotal: 266ms\tremaining: 170ms\n",
      "61:\tlearn: 0.6836711\ttotal: 271ms\tremaining: 166ms\n",
      "62:\tlearn: 0.6836585\ttotal: 274ms\tremaining: 161ms\n",
      "63:\tlearn: 0.6835945\ttotal: 277ms\tremaining: 156ms\n",
      "64:\tlearn: 0.6835858\ttotal: 280ms\tremaining: 151ms\n",
      "65:\tlearn: 0.6835565\ttotal: 283ms\tremaining: 146ms\n",
      "66:\tlearn: 0.6834844\ttotal: 286ms\tremaining: 141ms\n",
      "67:\tlearn: 0.6833893\ttotal: 290ms\tremaining: 136ms\n",
      "68:\tlearn: 0.6832967\ttotal: 293ms\tremaining: 132ms\n",
      "69:\tlearn: 0.6832613\ttotal: 296ms\tremaining: 127ms\n",
      "70:\tlearn: 0.6832495\ttotal: 299ms\tremaining: 122ms\n",
      "71:\tlearn: 0.6831934\ttotal: 302ms\tremaining: 118ms\n",
      "72:\tlearn: 0.6831631\ttotal: 305ms\tremaining: 113ms\n",
      "73:\tlearn: 0.6830763\ttotal: 309ms\tremaining: 108ms\n",
      "74:\tlearn: 0.6829981\ttotal: 312ms\tremaining: 104ms\n",
      "75:\tlearn: 0.6829461\ttotal: 315ms\tremaining: 99.5ms\n",
      "76:\tlearn: 0.6828901\ttotal: 318ms\tremaining: 95ms\n",
      "77:\tlearn: 0.6828187\ttotal: 322ms\tremaining: 90.9ms\n",
      "78:\tlearn: 0.6827702\ttotal: 325ms\tremaining: 86.5ms\n",
      "79:\tlearn: 0.6826842\ttotal: 329ms\tremaining: 82.1ms\n",
      "80:\tlearn: 0.6826092\ttotal: 332ms\tremaining: 77.8ms\n",
      "81:\tlearn: 0.6825664\ttotal: 335ms\tremaining: 73.6ms\n",
      "82:\tlearn: 0.6824741\ttotal: 338ms\tremaining: 69.3ms\n",
      "83:\tlearn: 0.6824430\ttotal: 341ms\tremaining: 65ms\n",
      "84:\tlearn: 0.6824049\ttotal: 351ms\tremaining: 61.9ms\n",
      "85:\tlearn: 0.6823467\ttotal: 355ms\tremaining: 57.8ms\n",
      "86:\tlearn: 0.6822681\ttotal: 359ms\tremaining: 53.6ms\n",
      "87:\tlearn: 0.6822215\ttotal: 362ms\tremaining: 49.3ms\n",
      "88:\tlearn: 0.6822022\ttotal: 365ms\tremaining: 45.1ms\n",
      "89:\tlearn: 0.6821613\ttotal: 368ms\tremaining: 40.9ms\n",
      "90:\tlearn: 0.6821412\ttotal: 371ms\tremaining: 36.7ms\n",
      "91:\tlearn: 0.6821136\ttotal: 375ms\tremaining: 32.6ms\n",
      "92:\tlearn: 0.6820603\ttotal: 378ms\tremaining: 28.4ms\n",
      "93:\tlearn: 0.6820100\ttotal: 381ms\tremaining: 24.3ms\n",
      "94:\tlearn: 0.6819700\ttotal: 384ms\tremaining: 20.2ms\n",
      "95:\tlearn: 0.6819077\ttotal: 387ms\tremaining: 16.1ms\n",
      "96:\tlearn: 0.6818720\ttotal: 390ms\tremaining: 12.1ms\n",
      "97:\tlearn: 0.6818148\ttotal: 394ms\tremaining: 8.04ms\n",
      "98:\tlearn: 0.6817653\ttotal: 398ms\tremaining: 4.02ms\n",
      "99:\tlearn: 0.6817247\ttotal: 401ms\tremaining: 0us\n",
      "Learning rate set to 0.402147\n",
      "0:\tlearn: 0.6907917\ttotal: 3.89ms\tremaining: 385ms\n",
      "1:\tlearn: 0.6895893\ttotal: 7.36ms\tremaining: 361ms\n",
      "2:\tlearn: 0.6890026\ttotal: 10.5ms\tremaining: 340ms\n",
      "3:\tlearn: 0.6886648\ttotal: 13.5ms\tremaining: 324ms\n",
      "4:\tlearn: 0.6883906\ttotal: 16.5ms\tremaining: 313ms\n",
      "5:\tlearn: 0.6883481\ttotal: 19ms\tremaining: 298ms\n",
      "6:\tlearn: 0.6882057\ttotal: 22.1ms\tremaining: 293ms\n",
      "7:\tlearn: 0.6881161\ttotal: 25.3ms\tremaining: 291ms\n",
      "8:\tlearn: 0.6880434\ttotal: 28.3ms\tremaining: 286ms\n",
      "9:\tlearn: 0.6879450\ttotal: 31.3ms\tremaining: 281ms\n",
      "10:\tlearn: 0.6879151\ttotal: 34.3ms\tremaining: 278ms\n",
      "11:\tlearn: 0.6878572\ttotal: 37.5ms\tremaining: 275ms\n",
      "12:\tlearn: 0.6878006\ttotal: 40.5ms\tremaining: 271ms\n",
      "13:\tlearn: 0.6877180\ttotal: 43.5ms\tremaining: 267ms\n",
      "14:\tlearn: 0.6876697\ttotal: 48ms\tremaining: 272ms\n",
      "15:\tlearn: 0.6875840\ttotal: 54.3ms\tremaining: 285ms\n",
      "16:\tlearn: 0.6875375\ttotal: 57.6ms\tremaining: 281ms\n",
      "17:\tlearn: 0.6875153\ttotal: 60.8ms\tremaining: 277ms\n",
      "18:\tlearn: 0.6873818\ttotal: 64ms\tremaining: 273ms\n",
      "19:\tlearn: 0.6873092\ttotal: 67.2ms\tremaining: 269ms\n",
      "20:\tlearn: 0.6872653\ttotal: 70.3ms\tremaining: 264ms\n",
      "21:\tlearn: 0.6872091\ttotal: 73.3ms\tremaining: 260ms\n",
      "22:\tlearn: 0.6871366\ttotal: 76.4ms\tremaining: 256ms\n",
      "23:\tlearn: 0.6870961\ttotal: 79.4ms\tremaining: 251ms\n",
      "24:\tlearn: 0.6870443\ttotal: 82.3ms\tremaining: 247ms\n",
      "25:\tlearn: 0.6870197\ttotal: 85.1ms\tremaining: 242ms\n",
      "26:\tlearn: 0.6869958\ttotal: 88.4ms\tremaining: 239ms\n",
      "27:\tlearn: 0.6869164\ttotal: 91.5ms\tremaining: 235ms\n",
      "28:\tlearn: 0.6868908\ttotal: 94.5ms\tremaining: 231ms\n",
      "29:\tlearn: 0.6867413\ttotal: 97.8ms\tremaining: 228ms\n",
      "30:\tlearn: 0.6865805\ttotal: 101ms\tremaining: 225ms\n",
      "31:\tlearn: 0.6864704\ttotal: 104ms\tremaining: 221ms\n",
      "32:\tlearn: 0.6862952\ttotal: 107ms\tremaining: 218ms\n",
      "33:\tlearn: 0.6862536\ttotal: 111ms\tremaining: 215ms\n",
      "34:\tlearn: 0.6861706\ttotal: 114ms\tremaining: 211ms\n",
      "35:\tlearn: 0.6860039\ttotal: 117ms\tremaining: 208ms\n",
      "36:\tlearn: 0.6857742\ttotal: 120ms\tremaining: 205ms\n",
      "37:\tlearn: 0.6856582\ttotal: 124ms\tremaining: 202ms\n",
      "38:\tlearn: 0.6855893\ttotal: 127ms\tremaining: 198ms\n",
      "39:\tlearn: 0.6855137\ttotal: 131ms\tremaining: 196ms\n",
      "40:\tlearn: 0.6853732\ttotal: 135ms\tremaining: 195ms\n",
      "41:\tlearn: 0.6852694\ttotal: 139ms\tremaining: 192ms\n",
      "42:\tlearn: 0.6852171\ttotal: 142ms\tremaining: 188ms\n",
      "43:\tlearn: 0.6851230\ttotal: 145ms\tremaining: 185ms\n",
      "44:\tlearn: 0.6850292\ttotal: 148ms\tremaining: 181ms\n",
      "45:\tlearn: 0.6849054\ttotal: 152ms\tremaining: 178ms\n",
      "46:\tlearn: 0.6848113\ttotal: 155ms\tremaining: 175ms\n",
      "47:\tlearn: 0.6847230\ttotal: 158ms\tremaining: 171ms\n",
      "48:\tlearn: 0.6846356\ttotal: 161ms\tremaining: 168ms\n",
      "49:\tlearn: 0.6845801\ttotal: 164ms\tremaining: 164ms\n",
      "50:\tlearn: 0.6844797\ttotal: 168ms\tremaining: 161ms\n",
      "51:\tlearn: 0.6844459\ttotal: 171ms\tremaining: 158ms\n",
      "52:\tlearn: 0.6843668\ttotal: 174ms\tremaining: 155ms\n",
      "53:\tlearn: 0.6842870\ttotal: 178ms\tremaining: 151ms\n",
      "54:\tlearn: 0.6842088\ttotal: 181ms\tremaining: 148ms\n",
      "55:\tlearn: 0.6841536\ttotal: 184ms\tremaining: 145ms\n",
      "56:\tlearn: 0.6840907\ttotal: 187ms\tremaining: 141ms\n",
      "57:\tlearn: 0.6840205\ttotal: 190ms\tremaining: 138ms\n",
      "58:\tlearn: 0.6839022\ttotal: 194ms\tremaining: 135ms\n",
      "59:\tlearn: 0.6838687\ttotal: 197ms\tremaining: 131ms\n",
      "60:\tlearn: 0.6838348\ttotal: 200ms\tremaining: 128ms\n",
      "61:\tlearn: 0.6838022\ttotal: 203ms\tremaining: 124ms\n",
      "62:\tlearn: 0.6837062\ttotal: 206ms\tremaining: 121ms\n",
      "63:\tlearn: 0.6836362\ttotal: 209ms\tremaining: 118ms\n",
      "64:\tlearn: 0.6835577\ttotal: 214ms\tremaining: 115ms\n",
      "65:\tlearn: 0.6835092\ttotal: 222ms\tremaining: 115ms\n",
      "66:\tlearn: 0.6834335\ttotal: 226ms\tremaining: 111ms\n",
      "67:\tlearn: 0.6833438\ttotal: 229ms\tremaining: 108ms\n",
      "68:\tlearn: 0.6833039\ttotal: 232ms\tremaining: 104ms\n",
      "69:\tlearn: 0.6832399\ttotal: 235ms\tremaining: 101ms\n",
      "70:\tlearn: 0.6832030\ttotal: 238ms\tremaining: 97.3ms\n",
      "71:\tlearn: 0.6831591\ttotal: 241ms\tremaining: 93.8ms\n",
      "72:\tlearn: 0.6831119\ttotal: 245ms\tremaining: 90.5ms\n",
      "73:\tlearn: 0.6830474\ttotal: 248ms\tremaining: 87.1ms\n",
      "74:\tlearn: 0.6829751\ttotal: 252ms\tremaining: 83.9ms\n",
      "75:\tlearn: 0.6829007\ttotal: 256ms\tremaining: 80.7ms\n",
      "76:\tlearn: 0.6828085\ttotal: 259ms\tremaining: 77.2ms\n",
      "77:\tlearn: 0.6826939\ttotal: 262ms\tremaining: 73.8ms\n",
      "78:\tlearn: 0.6826517\ttotal: 265ms\tremaining: 70.6ms\n",
      "79:\tlearn: 0.6825662\ttotal: 270ms\tremaining: 67.4ms\n",
      "80:\tlearn: 0.6825143\ttotal: 273ms\tremaining: 64ms\n",
      "81:\tlearn: 0.6825025\ttotal: 276ms\tremaining: 60.5ms\n",
      "82:\tlearn: 0.6824550\ttotal: 279ms\tremaining: 57.1ms\n",
      "83:\tlearn: 0.6824384\ttotal: 282ms\tremaining: 53.6ms\n",
      "84:\tlearn: 0.6823434\ttotal: 285ms\tremaining: 50.3ms\n",
      "85:\tlearn: 0.6822789\ttotal: 288ms\tremaining: 46.9ms\n",
      "86:\tlearn: 0.6822635\ttotal: 291ms\tremaining: 43.5ms\n",
      "87:\tlearn: 0.6822102\ttotal: 294ms\tremaining: 40.1ms\n",
      "88:\tlearn: 0.6821043\ttotal: 297ms\tremaining: 36.8ms\n",
      "89:\tlearn: 0.6820725\ttotal: 303ms\tremaining: 33.7ms\n",
      "90:\tlearn: 0.6820333\ttotal: 310ms\tremaining: 30.6ms\n",
      "91:\tlearn: 0.6820254\ttotal: 313ms\tremaining: 27.2ms\n",
      "92:\tlearn: 0.6819799\ttotal: 316ms\tremaining: 23.8ms\n",
      "93:\tlearn: 0.6818864\ttotal: 319ms\tremaining: 20.4ms\n",
      "94:\tlearn: 0.6818245\ttotal: 322ms\tremaining: 16.9ms\n",
      "95:\tlearn: 0.6817621\ttotal: 326ms\tremaining: 13.6ms\n",
      "96:\tlearn: 0.6817639\ttotal: 328ms\tremaining: 10.2ms\n",
      "97:\tlearn: 0.6817427\ttotal: 332ms\tremaining: 6.77ms\n",
      "98:\tlearn: 0.6817118\ttotal: 335ms\tremaining: 3.38ms\n",
      "99:\tlearn: 0.6816597\ttotal: 337ms\tremaining: 0us\n",
      "Learning rate set to 0.212981\n",
      "0:\tlearn: 0.6915286\ttotal: 5.9ms\tremaining: 1.17s\n",
      "1:\tlearn: 0.6905268\ttotal: 12.3ms\tremaining: 1.22s\n",
      "2:\tlearn: 0.6897735\ttotal: 21.8ms\tremaining: 1.43s\n",
      "3:\tlearn: 0.6891313\ttotal: 31.9ms\tremaining: 1.56s\n",
      "4:\tlearn: 0.6886921\ttotal: 38.7ms\tremaining: 1.51s\n",
      "5:\tlearn: 0.6884368\ttotal: 45.9ms\tremaining: 1.48s\n",
      "6:\tlearn: 0.6882059\ttotal: 52.4ms\tremaining: 1.45s\n",
      "7:\tlearn: 0.6881583\ttotal: 57.6ms\tremaining: 1.38s\n",
      "8:\tlearn: 0.6880525\ttotal: 64ms\tremaining: 1.36s\n",
      "9:\tlearn: 0.6879350\ttotal: 70.6ms\tremaining: 1.34s\n",
      "10:\tlearn: 0.6878260\ttotal: 79.9ms\tremaining: 1.37s\n",
      "11:\tlearn: 0.6876431\ttotal: 93.1ms\tremaining: 1.46s\n",
      "12:\tlearn: 0.6875662\ttotal: 103ms\tremaining: 1.48s\n",
      "13:\tlearn: 0.6874603\ttotal: 111ms\tremaining: 1.47s\n",
      "14:\tlearn: 0.6873686\ttotal: 117ms\tremaining: 1.44s\n",
      "15:\tlearn: 0.6873047\ttotal: 123ms\tremaining: 1.42s\n",
      "16:\tlearn: 0.6872720\ttotal: 130ms\tremaining: 1.4s\n",
      "17:\tlearn: 0.6871418\ttotal: 137ms\tremaining: 1.38s\n",
      "18:\tlearn: 0.6870921\ttotal: 144ms\tremaining: 1.37s\n",
      "19:\tlearn: 0.6870374\ttotal: 150ms\tremaining: 1.35s\n",
      "20:\tlearn: 0.6870216\ttotal: 157ms\tremaining: 1.34s\n",
      "21:\tlearn: 0.6869442\ttotal: 164ms\tremaining: 1.33s\n",
      "22:\tlearn: 0.6869208\ttotal: 171ms\tremaining: 1.31s\n",
      "23:\tlearn: 0.6868974\ttotal: 184ms\tremaining: 1.35s\n",
      "24:\tlearn: 0.6868627\ttotal: 193ms\tremaining: 1.35s\n",
      "25:\tlearn: 0.6868197\ttotal: 200ms\tremaining: 1.34s\n",
      "26:\tlearn: 0.6867906\ttotal: 206ms\tremaining: 1.32s\n",
      "27:\tlearn: 0.6867572\ttotal: 214ms\tremaining: 1.31s\n",
      "28:\tlearn: 0.6867286\ttotal: 221ms\tremaining: 1.3s\n",
      "29:\tlearn: 0.6867073\ttotal: 228ms\tremaining: 1.29s\n",
      "30:\tlearn: 0.6865977\ttotal: 234ms\tremaining: 1.28s\n",
      "31:\tlearn: 0.6865618\ttotal: 242ms\tremaining: 1.27s\n",
      "32:\tlearn: 0.6865453\ttotal: 248ms\tremaining: 1.26s\n",
      "33:\tlearn: 0.6864963\ttotal: 254ms\tremaining: 1.24s\n",
      "34:\tlearn: 0.6864847\ttotal: 260ms\tremaining: 1.23s\n",
      "35:\tlearn: 0.6864777\ttotal: 265ms\tremaining: 1.21s\n",
      "36:\tlearn: 0.6864350\ttotal: 277ms\tremaining: 1.22s\n",
      "37:\tlearn: 0.6864094\ttotal: 284ms\tremaining: 1.21s\n",
      "38:\tlearn: 0.6863959\ttotal: 289ms\tremaining: 1.19s\n",
      "39:\tlearn: 0.6863769\ttotal: 296ms\tremaining: 1.18s\n",
      "40:\tlearn: 0.6863806\ttotal: 300ms\tremaining: 1.16s\n",
      "41:\tlearn: 0.6863433\ttotal: 307ms\tremaining: 1.15s\n",
      "42:\tlearn: 0.6863260\ttotal: 313ms\tremaining: 1.14s\n",
      "43:\tlearn: 0.6862895\ttotal: 319ms\tremaining: 1.13s\n",
      "44:\tlearn: 0.6862591\ttotal: 326ms\tremaining: 1.12s\n",
      "45:\tlearn: 0.6861603\ttotal: 332ms\tremaining: 1.11s\n",
      "46:\tlearn: 0.6861108\ttotal: 338ms\tremaining: 1.1s\n",
      "47:\tlearn: 0.6860786\ttotal: 345ms\tremaining: 1.09s\n",
      "48:\tlearn: 0.6860525\ttotal: 351ms\tremaining: 1.08s\n",
      "49:\tlearn: 0.6859663\ttotal: 357ms\tremaining: 1.07s\n",
      "50:\tlearn: 0.6859231\ttotal: 371ms\tremaining: 1.08s\n",
      "51:\tlearn: 0.6858823\ttotal: 376ms\tremaining: 1.07s\n",
      "52:\tlearn: 0.6858660\ttotal: 383ms\tremaining: 1.06s\n",
      "53:\tlearn: 0.6857557\ttotal: 389ms\tremaining: 1.05s\n",
      "54:\tlearn: 0.6856525\ttotal: 396ms\tremaining: 1.04s\n",
      "55:\tlearn: 0.6855657\ttotal: 401ms\tremaining: 1.03s\n",
      "56:\tlearn: 0.6854957\ttotal: 408ms\tremaining: 1.02s\n",
      "57:\tlearn: 0.6854519\ttotal: 414ms\tremaining: 1.01s\n",
      "58:\tlearn: 0.6853955\ttotal: 421ms\tremaining: 1s\n",
      "59:\tlearn: 0.6853316\ttotal: 427ms\tremaining: 997ms\n",
      "60:\tlearn: 0.6852391\ttotal: 434ms\tremaining: 990ms\n",
      "61:\tlearn: 0.6851693\ttotal: 441ms\tremaining: 982ms\n",
      "62:\tlearn: 0.6850483\ttotal: 447ms\tremaining: 972ms\n",
      "63:\tlearn: 0.6850190\ttotal: 455ms\tremaining: 967ms\n",
      "64:\tlearn: 0.6849613\ttotal: 463ms\tremaining: 962ms\n",
      "65:\tlearn: 0.6849113\ttotal: 470ms\tremaining: 955ms\n",
      "66:\tlearn: 0.6848113\ttotal: 477ms\tremaining: 947ms\n",
      "67:\tlearn: 0.6847012\ttotal: 484ms\tremaining: 939ms\n",
      "68:\tlearn: 0.6846530\ttotal: 490ms\tremaining: 931ms\n",
      "69:\tlearn: 0.6845638\ttotal: 497ms\tremaining: 922ms\n",
      "70:\tlearn: 0.6844958\ttotal: 503ms\tremaining: 914ms\n",
      "71:\tlearn: 0.6844736\ttotal: 508ms\tremaining: 904ms\n",
      "72:\tlearn: 0.6844235\ttotal: 516ms\tremaining: 897ms\n",
      "73:\tlearn: 0.6843587\ttotal: 524ms\tremaining: 891ms\n",
      "74:\tlearn: 0.6843318\ttotal: 530ms\tremaining: 883ms\n",
      "75:\tlearn: 0.6842774\ttotal: 536ms\tremaining: 874ms\n",
      "76:\tlearn: 0.6842529\ttotal: 544ms\tremaining: 869ms\n",
      "77:\tlearn: 0.6842249\ttotal: 553ms\tremaining: 866ms\n",
      "78:\tlearn: 0.6841538\ttotal: 562ms\tremaining: 861ms\n",
      "79:\tlearn: 0.6840776\ttotal: 568ms\tremaining: 852ms\n",
      "80:\tlearn: 0.6840191\ttotal: 573ms\tremaining: 842ms\n",
      "81:\tlearn: 0.6839522\ttotal: 579ms\tremaining: 834ms\n",
      "82:\tlearn: 0.6839199\ttotal: 586ms\tremaining: 826ms\n",
      "83:\tlearn: 0.6838678\ttotal: 591ms\tremaining: 816ms\n",
      "84:\tlearn: 0.6837878\ttotal: 597ms\tremaining: 808ms\n",
      "85:\tlearn: 0.6836883\ttotal: 603ms\tremaining: 799ms\n",
      "86:\tlearn: 0.6836093\ttotal: 609ms\tremaining: 791ms\n",
      "87:\tlearn: 0.6835654\ttotal: 615ms\tremaining: 782ms\n",
      "88:\tlearn: 0.6835048\ttotal: 622ms\tremaining: 775ms\n",
      "89:\tlearn: 0.6834846\ttotal: 628ms\tremaining: 768ms\n",
      "90:\tlearn: 0.6834258\ttotal: 642ms\tremaining: 769ms\n",
      "91:\tlearn: 0.6833670\ttotal: 648ms\tremaining: 761ms\n",
      "92:\tlearn: 0.6832877\ttotal: 655ms\tremaining: 753ms\n",
      "93:\tlearn: 0.6832251\ttotal: 661ms\tremaining: 746ms\n",
      "94:\tlearn: 0.6831766\ttotal: 667ms\tremaining: 738ms\n",
      "95:\tlearn: 0.6831500\ttotal: 674ms\tremaining: 730ms\n",
      "96:\tlearn: 0.6830993\ttotal: 679ms\tremaining: 721ms\n",
      "97:\tlearn: 0.6830508\ttotal: 685ms\tremaining: 713ms\n",
      "98:\tlearn: 0.6830069\ttotal: 691ms\tremaining: 705ms\n",
      "99:\tlearn: 0.6829576\ttotal: 698ms\tremaining: 698ms\n",
      "100:\tlearn: 0.6829330\ttotal: 704ms\tremaining: 690ms\n",
      "101:\tlearn: 0.6828905\ttotal: 711ms\tremaining: 683ms\n",
      "102:\tlearn: 0.6828422\ttotal: 717ms\tremaining: 675ms\n",
      "103:\tlearn: 0.6828122\ttotal: 723ms\tremaining: 668ms\n",
      "104:\tlearn: 0.6827719\ttotal: 734ms\tremaining: 664ms\n",
      "105:\tlearn: 0.6827217\ttotal: 741ms\tremaining: 657ms\n",
      "106:\tlearn: 0.6826768\ttotal: 747ms\tremaining: 649ms\n",
      "107:\tlearn: 0.6826172\ttotal: 753ms\tremaining: 642ms\n",
      "108:\tlearn: 0.6825481\ttotal: 760ms\tremaining: 635ms\n",
      "109:\tlearn: 0.6825082\ttotal: 767ms\tremaining: 627ms\n",
      "110:\tlearn: 0.6824507\ttotal: 773ms\tremaining: 620ms\n",
      "111:\tlearn: 0.6824044\ttotal: 780ms\tremaining: 613ms\n",
      "112:\tlearn: 0.6823740\ttotal: 786ms\tremaining: 605ms\n",
      "113:\tlearn: 0.6823411\ttotal: 792ms\tremaining: 598ms\n",
      "114:\tlearn: 0.6822624\ttotal: 798ms\tremaining: 590ms\n",
      "115:\tlearn: 0.6822328\ttotal: 804ms\tremaining: 582ms\n",
      "116:\tlearn: 0.6821952\ttotal: 810ms\tremaining: 575ms\n",
      "117:\tlearn: 0.6821607\ttotal: 817ms\tremaining: 568ms\n",
      "118:\tlearn: 0.6821315\ttotal: 828ms\tremaining: 563ms\n",
      "119:\tlearn: 0.6821047\ttotal: 836ms\tremaining: 557ms\n",
      "120:\tlearn: 0.6820759\ttotal: 844ms\tremaining: 551ms\n",
      "121:\tlearn: 0.6820282\ttotal: 851ms\tremaining: 544ms\n",
      "122:\tlearn: 0.6819959\ttotal: 857ms\tremaining: 537ms\n",
      "123:\tlearn: 0.6819459\ttotal: 864ms\tremaining: 530ms\n",
      "124:\tlearn: 0.6819307\ttotal: 871ms\tremaining: 522ms\n",
      "125:\tlearn: 0.6818593\ttotal: 877ms\tremaining: 515ms\n",
      "126:\tlearn: 0.6818370\ttotal: 884ms\tremaining: 508ms\n",
      "127:\tlearn: 0.6817208\ttotal: 891ms\tremaining: 501ms\n",
      "128:\tlearn: 0.6816671\ttotal: 897ms\tremaining: 494ms\n",
      "129:\tlearn: 0.6816371\ttotal: 903ms\tremaining: 486ms\n",
      "130:\tlearn: 0.6816055\ttotal: 912ms\tremaining: 481ms\n",
      "131:\tlearn: 0.6815756\ttotal: 922ms\tremaining: 475ms\n",
      "132:\tlearn: 0.6815331\ttotal: 928ms\tremaining: 468ms\n",
      "133:\tlearn: 0.6814985\ttotal: 935ms\tremaining: 460ms\n",
      "134:\tlearn: 0.6814832\ttotal: 940ms\tremaining: 453ms\n",
      "135:\tlearn: 0.6814423\ttotal: 947ms\tremaining: 446ms\n",
      "136:\tlearn: 0.6814256\ttotal: 953ms\tremaining: 438ms\n",
      "137:\tlearn: 0.6813524\ttotal: 960ms\tremaining: 431ms\n",
      "138:\tlearn: 0.6813022\ttotal: 967ms\tremaining: 424ms\n",
      "139:\tlearn: 0.6812608\ttotal: 973ms\tremaining: 417ms\n",
      "140:\tlearn: 0.6812241\ttotal: 980ms\tremaining: 410ms\n",
      "141:\tlearn: 0.6812101\ttotal: 985ms\tremaining: 403ms\n",
      "142:\tlearn: 0.6811767\ttotal: 992ms\tremaining: 395ms\n",
      "143:\tlearn: 0.6811621\ttotal: 998ms\tremaining: 388ms\n",
      "144:\tlearn: 0.6811188\ttotal: 1.01s\tremaining: 383ms\n",
      "145:\tlearn: 0.6810953\ttotal: 1.02s\tremaining: 376ms\n",
      "146:\tlearn: 0.6810577\ttotal: 1.02s\tremaining: 369ms\n",
      "147:\tlearn: 0.6810006\ttotal: 1.03s\tremaining: 362ms\n",
      "148:\tlearn: 0.6809712\ttotal: 1.04s\tremaining: 355ms\n",
      "149:\tlearn: 0.6809173\ttotal: 1.04s\tremaining: 347ms\n",
      "150:\tlearn: 0.6808344\ttotal: 1.05s\tremaining: 340ms\n",
      "151:\tlearn: 0.6808254\ttotal: 1.05s\tremaining: 333ms\n",
      "152:\tlearn: 0.6807851\ttotal: 1.06s\tremaining: 326ms\n",
      "153:\tlearn: 0.6807710\ttotal: 1.07s\tremaining: 319ms\n",
      "154:\tlearn: 0.6807454\ttotal: 1.07s\tremaining: 311ms\n",
      "155:\tlearn: 0.6807158\ttotal: 1.08s\tremaining: 304ms\n",
      "156:\tlearn: 0.6806734\ttotal: 1.08s\tremaining: 297ms\n",
      "157:\tlearn: 0.6806446\ttotal: 1.09s\tremaining: 290ms\n",
      "158:\tlearn: 0.6806173\ttotal: 1.1s\tremaining: 285ms\n",
      "159:\tlearn: 0.6805644\ttotal: 1.11s\tremaining: 278ms\n",
      "160:\tlearn: 0.6805521\ttotal: 1.12s\tremaining: 271ms\n",
      "161:\tlearn: 0.6805501\ttotal: 1.13s\tremaining: 264ms\n",
      "162:\tlearn: 0.6804823\ttotal: 1.13s\tremaining: 257ms\n",
      "163:\tlearn: 0.6804662\ttotal: 1.14s\tremaining: 250ms\n",
      "164:\tlearn: 0.6804393\ttotal: 1.14s\tremaining: 243ms\n",
      "165:\tlearn: 0.6804139\ttotal: 1.15s\tremaining: 236ms\n",
      "166:\tlearn: 0.6803931\ttotal: 1.16s\tremaining: 229ms\n",
      "167:\tlearn: 0.6803488\ttotal: 1.17s\tremaining: 222ms\n",
      "168:\tlearn: 0.6802738\ttotal: 1.17s\tremaining: 215ms\n",
      "169:\tlearn: 0.6802464\ttotal: 1.18s\tremaining: 208ms\n",
      "170:\tlearn: 0.6801855\ttotal: 1.18s\tremaining: 201ms\n",
      "171:\tlearn: 0.6801507\ttotal: 1.2s\tremaining: 195ms\n",
      "172:\tlearn: 0.6801103\ttotal: 1.21s\tremaining: 188ms\n",
      "173:\tlearn: 0.6800620\ttotal: 1.21s\tremaining: 181ms\n",
      "174:\tlearn: 0.6800352\ttotal: 1.22s\tremaining: 174ms\n",
      "175:\tlearn: 0.6800104\ttotal: 1.22s\tremaining: 167ms\n",
      "176:\tlearn: 0.6800145\ttotal: 1.23s\tremaining: 160ms\n",
      "177:\tlearn: 0.6799955\ttotal: 1.24s\tremaining: 153ms\n",
      "178:\tlearn: 0.6799565\ttotal: 1.24s\tremaining: 146ms\n",
      "179:\tlearn: 0.6799345\ttotal: 1.25s\tremaining: 139ms\n",
      "180:\tlearn: 0.6799076\ttotal: 1.26s\tremaining: 132ms\n",
      "181:\tlearn: 0.6798584\ttotal: 1.26s\tremaining: 125ms\n",
      "182:\tlearn: 0.6798531\ttotal: 1.27s\tremaining: 118ms\n",
      "183:\tlearn: 0.6798109\ttotal: 1.27s\tremaining: 111ms\n",
      "184:\tlearn: 0.6797771\ttotal: 1.28s\tremaining: 104ms\n",
      "185:\tlearn: 0.6797454\ttotal: 1.29s\tremaining: 97.3ms\n",
      "186:\tlearn: 0.6797202\ttotal: 1.3s\tremaining: 90.3ms\n",
      "187:\tlearn: 0.6796701\ttotal: 1.3s\tremaining: 83.3ms\n",
      "188:\tlearn: 0.6796237\ttotal: 1.31s\tremaining: 76.4ms\n",
      "189:\tlearn: 0.6796027\ttotal: 1.32s\tremaining: 69.4ms\n",
      "190:\tlearn: 0.6795716\ttotal: 1.32s\tremaining: 62.4ms\n",
      "191:\tlearn: 0.6795294\ttotal: 1.33s\tremaining: 55.5ms\n",
      "192:\tlearn: 0.6795048\ttotal: 1.34s\tremaining: 48.5ms\n",
      "193:\tlearn: 0.6794826\ttotal: 1.34s\tremaining: 41.6ms\n",
      "194:\tlearn: 0.6794573\ttotal: 1.35s\tremaining: 34.6ms\n",
      "195:\tlearn: 0.6794346\ttotal: 1.36s\tremaining: 27.7ms\n",
      "196:\tlearn: 0.6794106\ttotal: 1.36s\tremaining: 20.8ms\n",
      "197:\tlearn: 0.6794042\ttotal: 1.37s\tremaining: 13.8ms\n",
      "198:\tlearn: 0.6793806\ttotal: 1.38s\tremaining: 6.94ms\n",
      "199:\tlearn: 0.6793456\ttotal: 1.39s\tremaining: 0us\n",
      "Learning rate set to 0.212981\n",
      "0:\tlearn: 0.6916807\ttotal: 6.48ms\tremaining: 1.29s\n",
      "1:\tlearn: 0.6907554\ttotal: 13.3ms\tremaining: 1.31s\n",
      "2:\tlearn: 0.6902407\ttotal: 19.7ms\tremaining: 1.29s\n",
      "3:\tlearn: 0.6897056\ttotal: 25ms\tremaining: 1.23s\n",
      "4:\tlearn: 0.6893490\ttotal: 31.3ms\tremaining: 1.22s\n",
      "5:\tlearn: 0.6891035\ttotal: 37.6ms\tremaining: 1.22s\n",
      "6:\tlearn: 0.6889155\ttotal: 46.7ms\tremaining: 1.29s\n",
      "7:\tlearn: 0.6887418\ttotal: 55.9ms\tremaining: 1.34s\n",
      "8:\tlearn: 0.6886379\ttotal: 61.3ms\tremaining: 1.3s\n",
      "9:\tlearn: 0.6884285\ttotal: 67.7ms\tremaining: 1.29s\n",
      "10:\tlearn: 0.6883340\ttotal: 74.3ms\tremaining: 1.28s\n",
      "11:\tlearn: 0.6882222\ttotal: 81.1ms\tremaining: 1.27s\n",
      "12:\tlearn: 0.6881503\ttotal: 87.4ms\tremaining: 1.26s\n",
      "13:\tlearn: 0.6881277\ttotal: 91.8ms\tremaining: 1.22s\n",
      "14:\tlearn: 0.6880822\ttotal: 98.3ms\tremaining: 1.21s\n",
      "15:\tlearn: 0.6880310\ttotal: 105ms\tremaining: 1.2s\n",
      "16:\tlearn: 0.6879903\ttotal: 111ms\tremaining: 1.19s\n",
      "17:\tlearn: 0.6879080\ttotal: 117ms\tremaining: 1.19s\n",
      "18:\tlearn: 0.6878952\ttotal: 124ms\tremaining: 1.18s\n",
      "19:\tlearn: 0.6878831\ttotal: 128ms\tremaining: 1.16s\n",
      "20:\tlearn: 0.6878189\ttotal: 135ms\tremaining: 1.15s\n",
      "21:\tlearn: 0.6877770\ttotal: 148ms\tremaining: 1.2s\n",
      "22:\tlearn: 0.6877213\ttotal: 155ms\tremaining: 1.19s\n",
      "23:\tlearn: 0.6876773\ttotal: 161ms\tremaining: 1.18s\n",
      "24:\tlearn: 0.6876341\ttotal: 168ms\tremaining: 1.17s\n",
      "25:\tlearn: 0.6876084\ttotal: 174ms\tremaining: 1.17s\n",
      "26:\tlearn: 0.6876083\ttotal: 179ms\tremaining: 1.15s\n",
      "27:\tlearn: 0.6876018\ttotal: 185ms\tremaining: 1.14s\n",
      "28:\tlearn: 0.6875428\ttotal: 192ms\tremaining: 1.13s\n",
      "29:\tlearn: 0.6874993\ttotal: 199ms\tremaining: 1.13s\n",
      "30:\tlearn: 0.6874427\ttotal: 205ms\tremaining: 1.12s\n",
      "31:\tlearn: 0.6873790\ttotal: 211ms\tremaining: 1.11s\n",
      "32:\tlearn: 0.6873259\ttotal: 217ms\tremaining: 1.1s\n",
      "33:\tlearn: 0.6872555\ttotal: 224ms\tremaining: 1.09s\n",
      "34:\tlearn: 0.6871919\ttotal: 232ms\tremaining: 1.09s\n",
      "35:\tlearn: 0.6871694\ttotal: 242ms\tremaining: 1.1s\n",
      "36:\tlearn: 0.6870994\ttotal: 248ms\tremaining: 1.09s\n",
      "37:\tlearn: 0.6870393\ttotal: 254ms\tremaining: 1.08s\n",
      "38:\tlearn: 0.6869737\ttotal: 260ms\tremaining: 1.07s\n",
      "39:\tlearn: 0.6869612\ttotal: 266ms\tremaining: 1.06s\n",
      "40:\tlearn: 0.6869349\ttotal: 272ms\tremaining: 1.05s\n",
      "41:\tlearn: 0.6869124\ttotal: 278ms\tremaining: 1.04s\n",
      "42:\tlearn: 0.6868790\ttotal: 283ms\tremaining: 1.03s\n",
      "43:\tlearn: 0.6868667\ttotal: 289ms\tremaining: 1.02s\n",
      "44:\tlearn: 0.6868188\ttotal: 296ms\tremaining: 1.02s\n",
      "45:\tlearn: 0.6868234\ttotal: 301ms\tremaining: 1.01s\n",
      "46:\tlearn: 0.6867633\ttotal: 307ms\tremaining: 998ms\n",
      "47:\tlearn: 0.6867070\ttotal: 313ms\tremaining: 991ms\n",
      "48:\tlearn: 0.6866545\ttotal: 319ms\tremaining: 984ms\n",
      "49:\tlearn: 0.6865463\ttotal: 331ms\tremaining: 992ms\n",
      "50:\tlearn: 0.6864684\ttotal: 341ms\tremaining: 996ms\n",
      "51:\tlearn: 0.6864378\ttotal: 347ms\tremaining: 987ms\n",
      "52:\tlearn: 0.6863659\ttotal: 353ms\tremaining: 978ms\n",
      "53:\tlearn: 0.6863267\ttotal: 359ms\tremaining: 971ms\n",
      "54:\tlearn: 0.6862606\ttotal: 365ms\tremaining: 962ms\n",
      "55:\tlearn: 0.6861687\ttotal: 371ms\tremaining: 955ms\n",
      "56:\tlearn: 0.6861210\ttotal: 378ms\tremaining: 948ms\n",
      "57:\tlearn: 0.6860521\ttotal: 383ms\tremaining: 939ms\n",
      "58:\tlearn: 0.6860346\ttotal: 390ms\tremaining: 932ms\n",
      "59:\tlearn: 0.6859411\ttotal: 396ms\tremaining: 924ms\n",
      "60:\tlearn: 0.6858277\ttotal: 401ms\tremaining: 914ms\n",
      "61:\tlearn: 0.6857168\ttotal: 406ms\tremaining: 905ms\n",
      "62:\tlearn: 0.6856458\ttotal: 413ms\tremaining: 898ms\n",
      "63:\tlearn: 0.6856069\ttotal: 425ms\tremaining: 903ms\n",
      "64:\tlearn: 0.6854998\ttotal: 433ms\tremaining: 900ms\n",
      "65:\tlearn: 0.6854387\ttotal: 439ms\tremaining: 891ms\n",
      "66:\tlearn: 0.6853864\ttotal: 445ms\tremaining: 883ms\n",
      "67:\tlearn: 0.6853212\ttotal: 452ms\tremaining: 877ms\n",
      "68:\tlearn: 0.6852293\ttotal: 458ms\tremaining: 869ms\n",
      "69:\tlearn: 0.6852054\ttotal: 464ms\tremaining: 862ms\n",
      "70:\tlearn: 0.6851396\ttotal: 470ms\tremaining: 854ms\n",
      "71:\tlearn: 0.6850902\ttotal: 478ms\tremaining: 850ms\n",
      "72:\tlearn: 0.6850407\ttotal: 486ms\tremaining: 846ms\n",
      "73:\tlearn: 0.6849844\ttotal: 492ms\tremaining: 837ms\n",
      "74:\tlearn: 0.6849434\ttotal: 498ms\tremaining: 831ms\n",
      "75:\tlearn: 0.6848535\ttotal: 505ms\tremaining: 824ms\n",
      "76:\tlearn: 0.6847756\ttotal: 515ms\tremaining: 823ms\n",
      "77:\tlearn: 0.6847028\ttotal: 525ms\tremaining: 820ms\n",
      "78:\tlearn: 0.6846210\ttotal: 531ms\tremaining: 814ms\n",
      "79:\tlearn: 0.6845476\ttotal: 538ms\tremaining: 807ms\n",
      "80:\tlearn: 0.6845083\ttotal: 544ms\tremaining: 799ms\n",
      "81:\tlearn: 0.6844413\ttotal: 549ms\tremaining: 790ms\n",
      "82:\tlearn: 0.6844145\ttotal: 555ms\tremaining: 782ms\n",
      "83:\tlearn: 0.6843286\ttotal: 561ms\tremaining: 775ms\n",
      "84:\tlearn: 0.6842688\ttotal: 567ms\tremaining: 768ms\n",
      "85:\tlearn: 0.6842327\ttotal: 572ms\tremaining: 759ms\n",
      "86:\tlearn: 0.6841612\ttotal: 579ms\tremaining: 752ms\n",
      "87:\tlearn: 0.6840943\ttotal: 586ms\tremaining: 745ms\n",
      "88:\tlearn: 0.6840490\ttotal: 591ms\tremaining: 737ms\n",
      "89:\tlearn: 0.6839981\ttotal: 598ms\tremaining: 730ms\n",
      "90:\tlearn: 0.6839490\ttotal: 606ms\tremaining: 726ms\n",
      "91:\tlearn: 0.6839322\ttotal: 616ms\tremaining: 723ms\n",
      "92:\tlearn: 0.6838584\ttotal: 622ms\tremaining: 715ms\n",
      "93:\tlearn: 0.6838301\ttotal: 627ms\tremaining: 707ms\n",
      "94:\tlearn: 0.6837900\ttotal: 633ms\tremaining: 700ms\n",
      "95:\tlearn: 0.6837569\ttotal: 639ms\tremaining: 693ms\n",
      "96:\tlearn: 0.6836957\ttotal: 646ms\tremaining: 686ms\n",
      "97:\tlearn: 0.6836218\ttotal: 652ms\tremaining: 679ms\n",
      "98:\tlearn: 0.6835482\ttotal: 658ms\tremaining: 672ms\n",
      "99:\tlearn: 0.6834755\ttotal: 665ms\tremaining: 665ms\n",
      "100:\tlearn: 0.6834027\ttotal: 671ms\tremaining: 658ms\n",
      "101:\tlearn: 0.6833334\ttotal: 677ms\tremaining: 650ms\n",
      "102:\tlearn: 0.6832741\ttotal: 683ms\tremaining: 643ms\n",
      "103:\tlearn: 0.6832001\ttotal: 689ms\tremaining: 636ms\n",
      "104:\tlearn: 0.6831668\ttotal: 698ms\tremaining: 632ms\n",
      "105:\tlearn: 0.6831224\ttotal: 709ms\tremaining: 629ms\n",
      "106:\tlearn: 0.6830343\ttotal: 716ms\tremaining: 622ms\n",
      "107:\tlearn: 0.6829434\ttotal: 722ms\tremaining: 615ms\n",
      "108:\tlearn: 0.6828877\ttotal: 728ms\tremaining: 608ms\n",
      "109:\tlearn: 0.6828582\ttotal: 734ms\tremaining: 600ms\n",
      "110:\tlearn: 0.6827910\ttotal: 740ms\tremaining: 593ms\n",
      "111:\tlearn: 0.6827518\ttotal: 746ms\tremaining: 586ms\n",
      "112:\tlearn: 0.6827057\ttotal: 753ms\tremaining: 580ms\n",
      "113:\tlearn: 0.6826467\ttotal: 760ms\tremaining: 573ms\n",
      "114:\tlearn: 0.6826018\ttotal: 767ms\tremaining: 567ms\n",
      "115:\tlearn: 0.6825129\ttotal: 773ms\tremaining: 560ms\n",
      "116:\tlearn: 0.6824320\ttotal: 779ms\tremaining: 552ms\n",
      "117:\tlearn: 0.6823915\ttotal: 784ms\tremaining: 545ms\n",
      "118:\tlearn: 0.6823420\ttotal: 792ms\tremaining: 539ms\n",
      "119:\tlearn: 0.6823034\ttotal: 802ms\tremaining: 534ms\n",
      "120:\tlearn: 0.6822541\ttotal: 808ms\tremaining: 528ms\n",
      "121:\tlearn: 0.6822235\ttotal: 815ms\tremaining: 521ms\n",
      "122:\tlearn: 0.6821869\ttotal: 820ms\tremaining: 514ms\n",
      "123:\tlearn: 0.6821402\ttotal: 826ms\tremaining: 506ms\n",
      "124:\tlearn: 0.6821186\ttotal: 833ms\tremaining: 500ms\n",
      "125:\tlearn: 0.6820610\ttotal: 839ms\tremaining: 493ms\n",
      "126:\tlearn: 0.6820463\ttotal: 845ms\tremaining: 486ms\n",
      "127:\tlearn: 0.6820179\ttotal: 852ms\tremaining: 479ms\n",
      "128:\tlearn: 0.6820108\ttotal: 859ms\tremaining: 473ms\n",
      "129:\tlearn: 0.6819765\ttotal: 866ms\tremaining: 466ms\n",
      "130:\tlearn: 0.6819350\ttotal: 872ms\tremaining: 459ms\n",
      "131:\tlearn: 0.6818863\ttotal: 878ms\tremaining: 452ms\n",
      "132:\tlearn: 0.6818412\ttotal: 888ms\tremaining: 448ms\n",
      "133:\tlearn: 0.6818304\ttotal: 897ms\tremaining: 442ms\n",
      "134:\tlearn: 0.6817840\ttotal: 904ms\tremaining: 435ms\n",
      "135:\tlearn: 0.6817486\ttotal: 911ms\tremaining: 429ms\n",
      "136:\tlearn: 0.6816819\ttotal: 917ms\tremaining: 422ms\n",
      "137:\tlearn: 0.6816629\ttotal: 923ms\tremaining: 415ms\n",
      "138:\tlearn: 0.6816066\ttotal: 930ms\tremaining: 408ms\n",
      "139:\tlearn: 0.6815713\ttotal: 936ms\tremaining: 401ms\n",
      "140:\tlearn: 0.6814507\ttotal: 942ms\tremaining: 394ms\n",
      "141:\tlearn: 0.6813889\ttotal: 949ms\tremaining: 388ms\n",
      "142:\tlearn: 0.6813469\ttotal: 955ms\tremaining: 381ms\n",
      "143:\tlearn: 0.6813331\ttotal: 961ms\tremaining: 374ms\n",
      "144:\tlearn: 0.6813095\ttotal: 966ms\tremaining: 367ms\n",
      "145:\tlearn: 0.6812852\ttotal: 973ms\tremaining: 360ms\n",
      "146:\tlearn: 0.6812538\ttotal: 985ms\tremaining: 355ms\n",
      "147:\tlearn: 0.6811916\ttotal: 993ms\tremaining: 349ms\n",
      "148:\tlearn: 0.6811731\ttotal: 999ms\tremaining: 342ms\n",
      "149:\tlearn: 0.6811614\ttotal: 1s\tremaining: 335ms\n",
      "150:\tlearn: 0.6811280\ttotal: 1.01s\tremaining: 328ms\n",
      "151:\tlearn: 0.6810792\ttotal: 1.02s\tremaining: 321ms\n",
      "152:\tlearn: 0.6810590\ttotal: 1.02s\tremaining: 314ms\n",
      "153:\tlearn: 0.6810180\ttotal: 1.03s\tremaining: 307ms\n",
      "154:\tlearn: 0.6809946\ttotal: 1.03s\tremaining: 300ms\n",
      "155:\tlearn: 0.6809619\ttotal: 1.04s\tremaining: 293ms\n",
      "156:\tlearn: 0.6809114\ttotal: 1.05s\tremaining: 287ms\n",
      "157:\tlearn: 0.6808884\ttotal: 1.05s\tremaining: 280ms\n",
      "158:\tlearn: 0.6808527\ttotal: 1.06s\tremaining: 273ms\n",
      "159:\tlearn: 0.6807958\ttotal: 1.06s\tremaining: 266ms\n",
      "160:\tlearn: 0.6807861\ttotal: 1.08s\tremaining: 261ms\n",
      "161:\tlearn: 0.6807554\ttotal: 1.08s\tremaining: 255ms\n",
      "162:\tlearn: 0.6807074\ttotal: 1.09s\tremaining: 248ms\n",
      "163:\tlearn: 0.6806649\ttotal: 1.1s\tremaining: 241ms\n",
      "164:\tlearn: 0.6806603\ttotal: 1.1s\tremaining: 234ms\n",
      "165:\tlearn: 0.6806115\ttotal: 1.11s\tremaining: 227ms\n",
      "166:\tlearn: 0.6805866\ttotal: 1.11s\tremaining: 220ms\n",
      "167:\tlearn: 0.6805721\ttotal: 1.12s\tremaining: 214ms\n",
      "168:\tlearn: 0.6804959\ttotal: 1.13s\tremaining: 207ms\n",
      "169:\tlearn: 0.6804871\ttotal: 1.13s\tremaining: 200ms\n",
      "170:\tlearn: 0.6804653\ttotal: 1.14s\tremaining: 193ms\n",
      "171:\tlearn: 0.6804272\ttotal: 1.14s\tremaining: 186ms\n",
      "172:\tlearn: 0.6803840\ttotal: 1.15s\tremaining: 180ms\n",
      "173:\tlearn: 0.6803802\ttotal: 1.16s\tremaining: 173ms\n",
      "174:\tlearn: 0.6803470\ttotal: 1.17s\tremaining: 167ms\n",
      "175:\tlearn: 0.6803143\ttotal: 1.18s\tremaining: 160ms\n",
      "176:\tlearn: 0.6803049\ttotal: 1.18s\tremaining: 153ms\n",
      "177:\tlearn: 0.6802784\ttotal: 1.19s\tremaining: 147ms\n",
      "178:\tlearn: 0.6802388\ttotal: 1.19s\tremaining: 140ms\n",
      "179:\tlearn: 0.6801861\ttotal: 1.2s\tremaining: 133ms\n",
      "180:\tlearn: 0.6801466\ttotal: 1.2s\tremaining: 126ms\n",
      "181:\tlearn: 0.6801040\ttotal: 1.21s\tremaining: 120ms\n",
      "182:\tlearn: 0.6800814\ttotal: 1.22s\tremaining: 113ms\n",
      "183:\tlearn: 0.6800493\ttotal: 1.22s\tremaining: 106ms\n",
      "184:\tlearn: 0.6800239\ttotal: 1.23s\tremaining: 99.7ms\n",
      "185:\tlearn: 0.6800041\ttotal: 1.24s\tremaining: 93.1ms\n",
      "186:\tlearn: 0.6799322\ttotal: 1.24s\tremaining: 86.4ms\n",
      "187:\tlearn: 0.6798988\ttotal: 1.25s\tremaining: 79.7ms\n",
      "188:\tlearn: 0.6798848\ttotal: 1.26s\tremaining: 73.3ms\n",
      "189:\tlearn: 0.6798548\ttotal: 1.27s\tremaining: 66.8ms\n",
      "190:\tlearn: 0.6798273\ttotal: 1.27s\tremaining: 60.1ms\n",
      "191:\tlearn: 0.6798102\ttotal: 1.28s\tremaining: 53.4ms\n",
      "192:\tlearn: 0.6797833\ttotal: 1.28s\tremaining: 46.6ms\n",
      "193:\tlearn: 0.6797861\ttotal: 1.29s\tremaining: 40ms\n",
      "194:\tlearn: 0.6797066\ttotal: 1.3s\tremaining: 33.3ms\n",
      "195:\tlearn: 0.6796977\ttotal: 1.3s\tremaining: 26.6ms\n",
      "196:\tlearn: 0.6796512\ttotal: 1.31s\tremaining: 20ms\n",
      "197:\tlearn: 0.6796388\ttotal: 1.32s\tremaining: 13.3ms\n",
      "198:\tlearn: 0.6795600\ttotal: 1.32s\tremaining: 6.65ms\n",
      "199:\tlearn: 0.6795203\ttotal: 1.33s\tremaining: 0us\n",
      "Learning rate set to 0.402147\n",
      "0:\tlearn: 0.6903771\ttotal: 4.31ms\tremaining: 426ms\n",
      "1:\tlearn: 0.6887534\ttotal: 9.56ms\tremaining: 469ms\n",
      "2:\tlearn: 0.6881968\ttotal: 13.2ms\tremaining: 428ms\n",
      "3:\tlearn: 0.6876956\ttotal: 23.5ms\tremaining: 565ms\n",
      "4:\tlearn: 0.6875422\ttotal: 27.7ms\tremaining: 525ms\n",
      "5:\tlearn: 0.6872971\ttotal: 30.8ms\tremaining: 483ms\n",
      "6:\tlearn: 0.6871213\ttotal: 35.5ms\tremaining: 471ms\n",
      "7:\tlearn: 0.6869695\ttotal: 43.7ms\tremaining: 503ms\n",
      "8:\tlearn: 0.6867312\ttotal: 51.7ms\tremaining: 523ms\n",
      "9:\tlearn: 0.6864212\ttotal: 59.7ms\tremaining: 538ms\n",
      "10:\tlearn: 0.6862787\ttotal: 67.6ms\tremaining: 547ms\n",
      "11:\tlearn: 0.6860583\ttotal: 76.1ms\tremaining: 558ms\n",
      "12:\tlearn: 0.6860160\ttotal: 81ms\tremaining: 542ms\n",
      "13:\tlearn: 0.6858263\ttotal: 88.8ms\tremaining: 546ms\n",
      "14:\tlearn: 0.6857791\ttotal: 92.9ms\tremaining: 526ms\n",
      "15:\tlearn: 0.6856345\ttotal: 101ms\tremaining: 529ms\n",
      "16:\tlearn: 0.6856132\ttotal: 104ms\tremaining: 510ms\n",
      "17:\tlearn: 0.6854284\ttotal: 112ms\tremaining: 512ms\n",
      "18:\tlearn: 0.6854155\ttotal: 116ms\tremaining: 493ms\n",
      "19:\tlearn: 0.6853210\ttotal: 124ms\tremaining: 496ms\n",
      "20:\tlearn: 0.6851962\ttotal: 133ms\tremaining: 498ms\n",
      "21:\tlearn: 0.6850589\ttotal: 141ms\tremaining: 500ms\n",
      "22:\tlearn: 0.6849802\ttotal: 149ms\tremaining: 499ms\n",
      "23:\tlearn: 0.6848973\ttotal: 157ms\tremaining: 497ms\n",
      "24:\tlearn: 0.6848164\ttotal: 165ms\tremaining: 494ms\n",
      "25:\tlearn: 0.6848160\ttotal: 168ms\tremaining: 479ms\n",
      "26:\tlearn: 0.6847167\ttotal: 176ms\tremaining: 476ms\n",
      "27:\tlearn: 0.6844658\ttotal: 184ms\tremaining: 474ms\n",
      "28:\tlearn: 0.6842396\ttotal: 193ms\tremaining: 472ms\n",
      "29:\tlearn: 0.6839744\ttotal: 200ms\tremaining: 468ms\n",
      "30:\tlearn: 0.6837235\ttotal: 208ms\tremaining: 464ms\n",
      "31:\tlearn: 0.6835586\ttotal: 217ms\tremaining: 460ms\n",
      "32:\tlearn: 0.6833141\ttotal: 225ms\tremaining: 456ms\n",
      "33:\tlearn: 0.6829663\ttotal: 233ms\tremaining: 453ms\n",
      "34:\tlearn: 0.6828031\ttotal: 242ms\tremaining: 449ms\n",
      "35:\tlearn: 0.6825306\ttotal: 250ms\tremaining: 444ms\n",
      "36:\tlearn: 0.6824061\ttotal: 258ms\tremaining: 439ms\n",
      "37:\tlearn: 0.6823147\ttotal: 265ms\tremaining: 433ms\n",
      "38:\tlearn: 0.6820662\ttotal: 273ms\tremaining: 428ms\n",
      "39:\tlearn: 0.6818821\ttotal: 281ms\tremaining: 422ms\n",
      "40:\tlearn: 0.6816999\ttotal: 290ms\tremaining: 417ms\n",
      "41:\tlearn: 0.6815325\ttotal: 297ms\tremaining: 411ms\n",
      "42:\tlearn: 0.6814516\ttotal: 305ms\tremaining: 405ms\n",
      "43:\tlearn: 0.6812414\ttotal: 313ms\tremaining: 399ms\n",
      "44:\tlearn: 0.6810601\ttotal: 322ms\tremaining: 393ms\n",
      "45:\tlearn: 0.6809176\ttotal: 331ms\tremaining: 389ms\n",
      "46:\tlearn: 0.6807903\ttotal: 340ms\tremaining: 383ms\n",
      "47:\tlearn: 0.6806736\ttotal: 348ms\tremaining: 377ms\n",
      "48:\tlearn: 0.6805129\ttotal: 356ms\tremaining: 371ms\n",
      "49:\tlearn: 0.6803390\ttotal: 365ms\tremaining: 365ms\n",
      "50:\tlearn: 0.6801555\ttotal: 374ms\tremaining: 359ms\n",
      "51:\tlearn: 0.6800791\ttotal: 382ms\tremaining: 352ms\n",
      "52:\tlearn: 0.6798731\ttotal: 390ms\tremaining: 346ms\n",
      "53:\tlearn: 0.6797776\ttotal: 400ms\tremaining: 341ms\n",
      "54:\tlearn: 0.6796679\ttotal: 410ms\tremaining: 336ms\n",
      "55:\tlearn: 0.6795695\ttotal: 422ms\tremaining: 331ms\n",
      "56:\tlearn: 0.6794662\ttotal: 432ms\tremaining: 326ms\n",
      "57:\tlearn: 0.6793882\ttotal: 440ms\tremaining: 318ms\n",
      "58:\tlearn: 0.6792592\ttotal: 448ms\tremaining: 311ms\n",
      "59:\tlearn: 0.6792044\ttotal: 455ms\tremaining: 304ms\n",
      "60:\tlearn: 0.6790974\ttotal: 463ms\tremaining: 296ms\n",
      "61:\tlearn: 0.6789458\ttotal: 473ms\tremaining: 290ms\n",
      "62:\tlearn: 0.6787954\ttotal: 481ms\tremaining: 282ms\n",
      "63:\tlearn: 0.6786120\ttotal: 488ms\tremaining: 275ms\n",
      "64:\tlearn: 0.6785052\ttotal: 496ms\tremaining: 267ms\n",
      "65:\tlearn: 0.6784050\ttotal: 504ms\tremaining: 260ms\n",
      "66:\tlearn: 0.6782470\ttotal: 514ms\tremaining: 253ms\n",
      "67:\tlearn: 0.6781128\ttotal: 525ms\tremaining: 247ms\n",
      "68:\tlearn: 0.6778926\ttotal: 535ms\tremaining: 240ms\n",
      "69:\tlearn: 0.6778144\ttotal: 544ms\tremaining: 233ms\n",
      "70:\tlearn: 0.6777543\ttotal: 555ms\tremaining: 227ms\n",
      "71:\tlearn: 0.6776620\ttotal: 564ms\tremaining: 220ms\n",
      "72:\tlearn: 0.6775490\ttotal: 576ms\tremaining: 213ms\n",
      "73:\tlearn: 0.6774161\ttotal: 590ms\tremaining: 207ms\n",
      "74:\tlearn: 0.6773077\ttotal: 604ms\tremaining: 201ms\n",
      "75:\tlearn: 0.6771996\ttotal: 618ms\tremaining: 195ms\n",
      "76:\tlearn: 0.6771282\ttotal: 633ms\tremaining: 189ms\n",
      "77:\tlearn: 0.6769232\ttotal: 648ms\tremaining: 183ms\n",
      "78:\tlearn: 0.6768737\ttotal: 661ms\tremaining: 176ms\n",
      "79:\tlearn: 0.6768063\ttotal: 670ms\tremaining: 167ms\n",
      "80:\tlearn: 0.6766926\ttotal: 678ms\tremaining: 159ms\n",
      "81:\tlearn: 0.6765337\ttotal: 686ms\tremaining: 151ms\n",
      "82:\tlearn: 0.6764390\ttotal: 694ms\tremaining: 142ms\n",
      "83:\tlearn: 0.6763819\ttotal: 702ms\tremaining: 134ms\n",
      "84:\tlearn: 0.6762239\ttotal: 710ms\tremaining: 125ms\n",
      "85:\tlearn: 0.6761209\ttotal: 718ms\tremaining: 117ms\n",
      "86:\tlearn: 0.6760397\ttotal: 726ms\tremaining: 108ms\n",
      "87:\tlearn: 0.6759570\ttotal: 734ms\tremaining: 100ms\n",
      "88:\tlearn: 0.6758637\ttotal: 742ms\tremaining: 91.7ms\n",
      "89:\tlearn: 0.6757309\ttotal: 750ms\tremaining: 83.3ms\n",
      "90:\tlearn: 0.6756801\ttotal: 758ms\tremaining: 75ms\n",
      "91:\tlearn: 0.6755435\ttotal: 766ms\tremaining: 66.6ms\n",
      "92:\tlearn: 0.6754165\ttotal: 774ms\tremaining: 58.3ms\n",
      "93:\tlearn: 0.6753194\ttotal: 783ms\tremaining: 50ms\n",
      "94:\tlearn: 0.6752419\ttotal: 791ms\tremaining: 41.6ms\n",
      "95:\tlearn: 0.6751925\ttotal: 800ms\tremaining: 33.3ms\n",
      "96:\tlearn: 0.6750664\ttotal: 808ms\tremaining: 25ms\n",
      "97:\tlearn: 0.6750386\ttotal: 817ms\tremaining: 16.7ms\n",
      "98:\tlearn: 0.6749527\ttotal: 829ms\tremaining: 8.37ms\n",
      "99:\tlearn: 0.6748461\ttotal: 837ms\tremaining: 0us\n",
      "Learning rate set to 0.402147\n",
      "0:\tlearn: 0.6907917\ttotal: 4.36ms\tremaining: 432ms\n",
      "1:\tlearn: 0.6893161\ttotal: 9.25ms\tremaining: 453ms\n",
      "2:\tlearn: 0.6889336\ttotal: 12.9ms\tremaining: 417ms\n",
      "3:\tlearn: 0.6885180\ttotal: 21.5ms\tremaining: 516ms\n",
      "4:\tlearn: 0.6883537\ttotal: 25.6ms\tremaining: 486ms\n",
      "5:\tlearn: 0.6882450\ttotal: 28.6ms\tremaining: 449ms\n",
      "6:\tlearn: 0.6880814\ttotal: 31.7ms\tremaining: 421ms\n",
      "7:\tlearn: 0.6877818\ttotal: 39.6ms\tremaining: 455ms\n",
      "8:\tlearn: 0.6874377\ttotal: 47.3ms\tremaining: 478ms\n",
      "9:\tlearn: 0.6872422\ttotal: 55.8ms\tremaining: 502ms\n",
      "10:\tlearn: 0.6872427\ttotal: 58ms\tremaining: 469ms\n",
      "11:\tlearn: 0.6870571\ttotal: 65.7ms\tremaining: 482ms\n",
      "12:\tlearn: 0.6869363\ttotal: 73ms\tremaining: 489ms\n",
      "13:\tlearn: 0.6866889\ttotal: 80.8ms\tremaining: 497ms\n",
      "14:\tlearn: 0.6865546\ttotal: 88.6ms\tremaining: 502ms\n",
      "15:\tlearn: 0.6864512\ttotal: 92.6ms\tremaining: 486ms\n",
      "16:\tlearn: 0.6862283\ttotal: 101ms\tremaining: 491ms\n",
      "17:\tlearn: 0.6860613\ttotal: 108ms\tremaining: 494ms\n",
      "18:\tlearn: 0.6860177\ttotal: 113ms\tremaining: 482ms\n",
      "19:\tlearn: 0.6860160\ttotal: 115ms\tremaining: 462ms\n",
      "20:\tlearn: 0.6859730\ttotal: 119ms\tremaining: 448ms\n",
      "21:\tlearn: 0.6858365\ttotal: 127ms\tremaining: 450ms\n",
      "22:\tlearn: 0.6857535\ttotal: 135ms\tremaining: 450ms\n",
      "23:\tlearn: 0.6855998\ttotal: 142ms\tremaining: 450ms\n",
      "24:\tlearn: 0.6854502\ttotal: 150ms\tremaining: 450ms\n",
      "25:\tlearn: 0.6853052\ttotal: 158ms\tremaining: 450ms\n",
      "26:\tlearn: 0.6850519\ttotal: 166ms\tremaining: 448ms\n",
      "27:\tlearn: 0.6849086\ttotal: 173ms\tremaining: 446ms\n",
      "28:\tlearn: 0.6847720\ttotal: 182ms\tremaining: 444ms\n",
      "29:\tlearn: 0.6844628\ttotal: 190ms\tremaining: 442ms\n",
      "30:\tlearn: 0.6843038\ttotal: 198ms\tremaining: 440ms\n",
      "31:\tlearn: 0.6840497\ttotal: 206ms\tremaining: 437ms\n",
      "32:\tlearn: 0.6838066\ttotal: 213ms\tremaining: 433ms\n",
      "33:\tlearn: 0.6835534\ttotal: 221ms\tremaining: 429ms\n",
      "34:\tlearn: 0.6833062\ttotal: 229ms\tremaining: 425ms\n",
      "35:\tlearn: 0.6830375\ttotal: 236ms\tremaining: 420ms\n",
      "36:\tlearn: 0.6828919\ttotal: 244ms\tremaining: 416ms\n",
      "37:\tlearn: 0.6826224\ttotal: 252ms\tremaining: 411ms\n",
      "38:\tlearn: 0.6824839\ttotal: 260ms\tremaining: 406ms\n",
      "39:\tlearn: 0.6822109\ttotal: 267ms\tremaining: 401ms\n",
      "40:\tlearn: 0.6820741\ttotal: 275ms\tremaining: 396ms\n",
      "41:\tlearn: 0.6819374\ttotal: 283ms\tremaining: 391ms\n",
      "42:\tlearn: 0.6818635\ttotal: 291ms\tremaining: 385ms\n",
      "43:\tlearn: 0.6817315\ttotal: 298ms\tremaining: 380ms\n",
      "44:\tlearn: 0.6814982\ttotal: 306ms\tremaining: 374ms\n",
      "45:\tlearn: 0.6813860\ttotal: 314ms\tremaining: 368ms\n",
      "46:\tlearn: 0.6813066\ttotal: 322ms\tremaining: 363ms\n",
      "47:\tlearn: 0.6811111\ttotal: 329ms\tremaining: 357ms\n",
      "48:\tlearn: 0.6809939\ttotal: 337ms\tremaining: 351ms\n",
      "49:\tlearn: 0.6808048\ttotal: 345ms\tremaining: 345ms\n",
      "50:\tlearn: 0.6806434\ttotal: 352ms\tremaining: 338ms\n",
      "51:\tlearn: 0.6805383\ttotal: 360ms\tremaining: 333ms\n",
      "52:\tlearn: 0.6804128\ttotal: 368ms\tremaining: 326ms\n",
      "53:\tlearn: 0.6803303\ttotal: 376ms\tremaining: 320ms\n",
      "54:\tlearn: 0.6801831\ttotal: 384ms\tremaining: 314ms\n",
      "55:\tlearn: 0.6800609\ttotal: 393ms\tremaining: 309ms\n",
      "56:\tlearn: 0.6799766\ttotal: 401ms\tremaining: 302ms\n",
      "57:\tlearn: 0.6798102\ttotal: 408ms\tremaining: 296ms\n",
      "58:\tlearn: 0.6796600\ttotal: 416ms\tremaining: 289ms\n",
      "59:\tlearn: 0.6795939\ttotal: 424ms\tremaining: 282ms\n",
      "60:\tlearn: 0.6795087\ttotal: 432ms\tremaining: 276ms\n",
      "61:\tlearn: 0.6794027\ttotal: 440ms\tremaining: 270ms\n",
      "62:\tlearn: 0.6791974\ttotal: 447ms\tremaining: 263ms\n",
      "63:\tlearn: 0.6789736\ttotal: 455ms\tremaining: 256ms\n",
      "64:\tlearn: 0.6789055\ttotal: 463ms\tremaining: 249ms\n",
      "65:\tlearn: 0.6787742\ttotal: 471ms\tremaining: 243ms\n",
      "66:\tlearn: 0.6786720\ttotal: 479ms\tremaining: 236ms\n",
      "67:\tlearn: 0.6785600\ttotal: 488ms\tremaining: 229ms\n",
      "68:\tlearn: 0.6784215\ttotal: 495ms\tremaining: 222ms\n",
      "69:\tlearn: 0.6782564\ttotal: 503ms\tremaining: 215ms\n",
      "70:\tlearn: 0.6781912\ttotal: 510ms\tremaining: 208ms\n",
      "71:\tlearn: 0.6781246\ttotal: 518ms\tremaining: 201ms\n",
      "72:\tlearn: 0.6779501\ttotal: 526ms\tremaining: 194ms\n",
      "73:\tlearn: 0.6778190\ttotal: 533ms\tremaining: 187ms\n",
      "74:\tlearn: 0.6777088\ttotal: 541ms\tremaining: 180ms\n",
      "75:\tlearn: 0.6776317\ttotal: 549ms\tremaining: 173ms\n",
      "76:\tlearn: 0.6775770\ttotal: 556ms\tremaining: 166ms\n",
      "77:\tlearn: 0.6774557\ttotal: 564ms\tremaining: 159ms\n",
      "78:\tlearn: 0.6773266\ttotal: 572ms\tremaining: 152ms\n",
      "79:\tlearn: 0.6772003\ttotal: 579ms\tremaining: 145ms\n",
      "80:\tlearn: 0.6771172\ttotal: 592ms\tremaining: 139ms\n",
      "81:\tlearn: 0.6770710\ttotal: 600ms\tremaining: 132ms\n",
      "82:\tlearn: 0.6770129\ttotal: 608ms\tremaining: 124ms\n",
      "83:\tlearn: 0.6769338\ttotal: 615ms\tremaining: 117ms\n",
      "84:\tlearn: 0.6768693\ttotal: 623ms\tremaining: 110ms\n",
      "85:\tlearn: 0.6767532\ttotal: 631ms\tremaining: 103ms\n",
      "86:\tlearn: 0.6767186\ttotal: 638ms\tremaining: 95.4ms\n",
      "87:\tlearn: 0.6765899\ttotal: 646ms\tremaining: 88ms\n",
      "88:\tlearn: 0.6765536\ttotal: 653ms\tremaining: 80.7ms\n",
      "89:\tlearn: 0.6765186\ttotal: 661ms\tremaining: 73.5ms\n",
      "90:\tlearn: 0.6765026\ttotal: 669ms\tremaining: 66.2ms\n",
      "91:\tlearn: 0.6764425\ttotal: 678ms\tremaining: 58.9ms\n",
      "92:\tlearn: 0.6763699\ttotal: 685ms\tremaining: 51.6ms\n",
      "93:\tlearn: 0.6762644\ttotal: 693ms\tremaining: 44.2ms\n",
      "94:\tlearn: 0.6761033\ttotal: 701ms\tremaining: 36.9ms\n",
      "95:\tlearn: 0.6760314\ttotal: 708ms\tremaining: 29.5ms\n",
      "96:\tlearn: 0.6759686\ttotal: 716ms\tremaining: 22.1ms\n",
      "97:\tlearn: 0.6758734\ttotal: 724ms\tremaining: 14.8ms\n",
      "98:\tlearn: 0.6758250\ttotal: 732ms\tremaining: 7.39ms\n",
      "99:\tlearn: 0.6757087\ttotal: 742ms\tremaining: 0us\n",
      "Learning rate set to 0.212981\n",
      "0:\tlearn: 0.6915286\ttotal: 5.65ms\tremaining: 1.12s\n",
      "1:\tlearn: 0.6904903\ttotal: 10.8ms\tremaining: 1.07s\n",
      "2:\tlearn: 0.6898372\ttotal: 17.9ms\tremaining: 1.18s\n",
      "3:\tlearn: 0.6892271\ttotal: 24.9ms\tremaining: 1.22s\n",
      "4:\tlearn: 0.6885995\ttotal: 35.3ms\tremaining: 1.38s\n",
      "5:\tlearn: 0.6881521\ttotal: 48.8ms\tremaining: 1.58s\n",
      "6:\tlearn: 0.6877756\ttotal: 62.7ms\tremaining: 1.73s\n",
      "7:\tlearn: 0.6873907\ttotal: 79.9ms\tremaining: 1.92s\n",
      "8:\tlearn: 0.6870422\ttotal: 97ms\tremaining: 2.06s\n",
      "9:\tlearn: 0.6869712\ttotal: 104ms\tremaining: 1.98s\n",
      "10:\tlearn: 0.6867836\ttotal: 123ms\tremaining: 2.12s\n",
      "11:\tlearn: 0.6865681\ttotal: 140ms\tremaining: 2.19s\n",
      "12:\tlearn: 0.6864981\ttotal: 148ms\tremaining: 2.13s\n",
      "13:\tlearn: 0.6863554\ttotal: 164ms\tremaining: 2.18s\n",
      "14:\tlearn: 0.6861780\ttotal: 180ms\tremaining: 2.23s\n",
      "15:\tlearn: 0.6861136\ttotal: 189ms\tremaining: 2.17s\n",
      "16:\tlearn: 0.6860205\ttotal: 204ms\tremaining: 2.2s\n",
      "17:\tlearn: 0.6859205\ttotal: 218ms\tremaining: 2.2s\n",
      "18:\tlearn: 0.6857941\ttotal: 234ms\tremaining: 2.23s\n",
      "19:\tlearn: 0.6857814\ttotal: 245ms\tremaining: 2.21s\n",
      "20:\tlearn: 0.6857744\ttotal: 255ms\tremaining: 2.17s\n",
      "21:\tlearn: 0.6855337\ttotal: 272ms\tremaining: 2.2s\n",
      "22:\tlearn: 0.6855183\ttotal: 279ms\tremaining: 2.14s\n",
      "23:\tlearn: 0.6855135\ttotal: 283ms\tremaining: 2.07s\n",
      "24:\tlearn: 0.6853537\ttotal: 299ms\tremaining: 2.09s\n",
      "25:\tlearn: 0.6853238\ttotal: 306ms\tremaining: 2.05s\n",
      "26:\tlearn: 0.6853248\ttotal: 311ms\tremaining: 1.99s\n",
      "27:\tlearn: 0.6852068\ttotal: 325ms\tremaining: 1.99s\n",
      "28:\tlearn: 0.6850907\ttotal: 341ms\tremaining: 2.01s\n",
      "29:\tlearn: 0.6849110\ttotal: 357ms\tremaining: 2.02s\n",
      "30:\tlearn: 0.6848968\ttotal: 364ms\tremaining: 1.99s\n",
      "31:\tlearn: 0.6848755\ttotal: 372ms\tremaining: 1.95s\n",
      "32:\tlearn: 0.6847118\ttotal: 389ms\tremaining: 1.97s\n",
      "33:\tlearn: 0.6846101\ttotal: 402ms\tremaining: 1.96s\n",
      "34:\tlearn: 0.6844871\ttotal: 418ms\tremaining: 1.97s\n",
      "35:\tlearn: 0.6843774\ttotal: 434ms\tremaining: 1.98s\n",
      "36:\tlearn: 0.6843267\ttotal: 442ms\tremaining: 1.95s\n",
      "37:\tlearn: 0.6842811\ttotal: 450ms\tremaining: 1.92s\n",
      "38:\tlearn: 0.6841495\ttotal: 470ms\tremaining: 1.94s\n",
      "39:\tlearn: 0.6840972\ttotal: 477ms\tremaining: 1.91s\n",
      "40:\tlearn: 0.6839875\ttotal: 493ms\tremaining: 1.91s\n",
      "41:\tlearn: 0.6839742\ttotal: 501ms\tremaining: 1.88s\n",
      "42:\tlearn: 0.6838950\ttotal: 517ms\tremaining: 1.89s\n",
      "43:\tlearn: 0.6838569\ttotal: 530ms\tremaining: 1.88s\n",
      "44:\tlearn: 0.6838419\ttotal: 538ms\tremaining: 1.85s\n",
      "45:\tlearn: 0.6837880\ttotal: 546ms\tremaining: 1.83s\n",
      "46:\tlearn: 0.6836604\ttotal: 562ms\tremaining: 1.83s\n",
      "47:\tlearn: 0.6836548\ttotal: 568ms\tremaining: 1.8s\n",
      "48:\tlearn: 0.6836028\ttotal: 584ms\tremaining: 1.8s\n",
      "49:\tlearn: 0.6834758\ttotal: 600ms\tremaining: 1.8s\n",
      "50:\tlearn: 0.6832493\ttotal: 616ms\tremaining: 1.8s\n",
      "51:\tlearn: 0.6830927\ttotal: 631ms\tremaining: 1.8s\n",
      "52:\tlearn: 0.6830465\ttotal: 640ms\tremaining: 1.77s\n",
      "53:\tlearn: 0.6828414\ttotal: 656ms\tremaining: 1.77s\n",
      "54:\tlearn: 0.6826903\ttotal: 672ms\tremaining: 1.77s\n",
      "55:\tlearn: 0.6825893\ttotal: 687ms\tremaining: 1.77s\n",
      "56:\tlearn: 0.6824653\ttotal: 704ms\tremaining: 1.76s\n",
      "57:\tlearn: 0.6822996\ttotal: 720ms\tremaining: 1.76s\n",
      "58:\tlearn: 0.6821113\ttotal: 737ms\tremaining: 1.76s\n",
      "59:\tlearn: 0.6819990\ttotal: 753ms\tremaining: 1.76s\n",
      "60:\tlearn: 0.6817919\ttotal: 769ms\tremaining: 1.75s\n",
      "61:\tlearn: 0.6816603\ttotal: 785ms\tremaining: 1.75s\n",
      "62:\tlearn: 0.6815000\ttotal: 801ms\tremaining: 1.74s\n",
      "63:\tlearn: 0.6814073\ttotal: 818ms\tremaining: 1.74s\n",
      "64:\tlearn: 0.6812921\ttotal: 835ms\tremaining: 1.73s\n",
      "65:\tlearn: 0.6811607\ttotal: 858ms\tremaining: 1.74s\n",
      "66:\tlearn: 0.6809812\ttotal: 877ms\tremaining: 1.74s\n",
      "67:\tlearn: 0.6808250\ttotal: 895ms\tremaining: 1.74s\n",
      "68:\tlearn: 0.6806460\ttotal: 912ms\tremaining: 1.73s\n",
      "69:\tlearn: 0.6804633\ttotal: 929ms\tremaining: 1.72s\n",
      "70:\tlearn: 0.6802471\ttotal: 945ms\tremaining: 1.72s\n",
      "71:\tlearn: 0.6801615\ttotal: 961ms\tremaining: 1.71s\n",
      "72:\tlearn: 0.6800161\ttotal: 977ms\tremaining: 1.7s\n",
      "73:\tlearn: 0.6798911\ttotal: 994ms\tremaining: 1.69s\n",
      "74:\tlearn: 0.6798266\ttotal: 1.01s\tremaining: 1.69s\n",
      "75:\tlearn: 0.6795964\ttotal: 1.03s\tremaining: 1.68s\n",
      "76:\tlearn: 0.6794943\ttotal: 1.04s\tremaining: 1.67s\n",
      "77:\tlearn: 0.6793150\ttotal: 1.06s\tremaining: 1.66s\n",
      "78:\tlearn: 0.6791340\ttotal: 1.08s\tremaining: 1.65s\n",
      "79:\tlearn: 0.6789688\ttotal: 1.09s\tremaining: 1.64s\n",
      "80:\tlearn: 0.6788715\ttotal: 1.11s\tremaining: 1.63s\n",
      "81:\tlearn: 0.6786931\ttotal: 1.13s\tremaining: 1.62s\n",
      "82:\tlearn: 0.6786009\ttotal: 1.14s\tremaining: 1.61s\n",
      "83:\tlearn: 0.6784056\ttotal: 1.16s\tremaining: 1.6s\n",
      "84:\tlearn: 0.6782664\ttotal: 1.17s\tremaining: 1.59s\n",
      "85:\tlearn: 0.6780465\ttotal: 1.19s\tremaining: 1.58s\n",
      "86:\tlearn: 0.6779340\ttotal: 1.21s\tremaining: 1.57s\n",
      "87:\tlearn: 0.6777499\ttotal: 1.22s\tremaining: 1.56s\n",
      "88:\tlearn: 0.6776678\ttotal: 1.24s\tremaining: 1.55s\n",
      "89:\tlearn: 0.6775801\ttotal: 1.26s\tremaining: 1.54s\n",
      "90:\tlearn: 0.6775257\ttotal: 1.27s\tremaining: 1.53s\n",
      "91:\tlearn: 0.6773990\ttotal: 1.29s\tremaining: 1.51s\n",
      "92:\tlearn: 0.6772745\ttotal: 1.31s\tremaining: 1.5s\n",
      "93:\tlearn: 0.6770699\ttotal: 1.32s\tremaining: 1.49s\n",
      "94:\tlearn: 0.6769313\ttotal: 1.34s\tremaining: 1.48s\n",
      "95:\tlearn: 0.6767531\ttotal: 1.36s\tremaining: 1.47s\n",
      "96:\tlearn: 0.6766714\ttotal: 1.37s\tremaining: 1.46s\n",
      "97:\tlearn: 0.6765430\ttotal: 1.39s\tremaining: 1.45s\n",
      "98:\tlearn: 0.6764027\ttotal: 1.41s\tremaining: 1.43s\n",
      "99:\tlearn: 0.6762961\ttotal: 1.42s\tremaining: 1.42s\n",
      "100:\tlearn: 0.6762168\ttotal: 1.44s\tremaining: 1.41s\n",
      "101:\tlearn: 0.6761214\ttotal: 1.46s\tremaining: 1.4s\n",
      "102:\tlearn: 0.6759947\ttotal: 1.47s\tremaining: 1.39s\n",
      "103:\tlearn: 0.6759018\ttotal: 1.49s\tremaining: 1.37s\n",
      "104:\tlearn: 0.6758039\ttotal: 1.5s\tremaining: 1.36s\n",
      "105:\tlearn: 0.6757046\ttotal: 1.52s\tremaining: 1.35s\n",
      "106:\tlearn: 0.6755396\ttotal: 1.53s\tremaining: 1.33s\n",
      "107:\tlearn: 0.6754432\ttotal: 1.55s\tremaining: 1.32s\n",
      "108:\tlearn: 0.6753341\ttotal: 1.57s\tremaining: 1.31s\n",
      "109:\tlearn: 0.6751679\ttotal: 1.58s\tremaining: 1.3s\n",
      "110:\tlearn: 0.6751171\ttotal: 1.6s\tremaining: 1.28s\n",
      "111:\tlearn: 0.6750740\ttotal: 1.62s\tremaining: 1.27s\n",
      "112:\tlearn: 0.6749486\ttotal: 1.63s\tremaining: 1.26s\n",
      "113:\tlearn: 0.6748768\ttotal: 1.65s\tremaining: 1.24s\n",
      "114:\tlearn: 0.6748017\ttotal: 1.67s\tremaining: 1.23s\n",
      "115:\tlearn: 0.6747268\ttotal: 1.68s\tremaining: 1.22s\n",
      "116:\tlearn: 0.6746348\ttotal: 1.7s\tremaining: 1.21s\n",
      "117:\tlearn: 0.6744802\ttotal: 1.72s\tremaining: 1.19s\n",
      "118:\tlearn: 0.6743617\ttotal: 1.74s\tremaining: 1.18s\n",
      "119:\tlearn: 0.6742674\ttotal: 1.75s\tremaining: 1.17s\n",
      "120:\tlearn: 0.6741708\ttotal: 1.77s\tremaining: 1.16s\n",
      "121:\tlearn: 0.6740376\ttotal: 1.79s\tremaining: 1.14s\n",
      "122:\tlearn: 0.6739536\ttotal: 1.81s\tremaining: 1.13s\n",
      "123:\tlearn: 0.6738101\ttotal: 1.83s\tremaining: 1.12s\n",
      "124:\tlearn: 0.6736755\ttotal: 1.84s\tremaining: 1.11s\n",
      "125:\tlearn: 0.6735690\ttotal: 1.86s\tremaining: 1.09s\n",
      "126:\tlearn: 0.6734481\ttotal: 1.89s\tremaining: 1.08s\n",
      "127:\tlearn: 0.6733058\ttotal: 1.9s\tremaining: 1.07s\n",
      "128:\tlearn: 0.6732420\ttotal: 1.92s\tremaining: 1.06s\n",
      "129:\tlearn: 0.6731583\ttotal: 1.94s\tremaining: 1.04s\n",
      "130:\tlearn: 0.6730673\ttotal: 1.95s\tremaining: 1.03s\n",
      "131:\tlearn: 0.6729756\ttotal: 1.97s\tremaining: 1.02s\n",
      "132:\tlearn: 0.6728961\ttotal: 1.99s\tremaining: 1s\n",
      "133:\tlearn: 0.6728279\ttotal: 2.01s\tremaining: 990ms\n",
      "134:\tlearn: 0.6727391\ttotal: 2.03s\tremaining: 976ms\n",
      "135:\tlearn: 0.6726406\ttotal: 2.04s\tremaining: 963ms\n",
      "136:\tlearn: 0.6725372\ttotal: 2.06s\tremaining: 950ms\n",
      "137:\tlearn: 0.6724300\ttotal: 2.08s\tremaining: 937ms\n",
      "138:\tlearn: 0.6723610\ttotal: 2.11s\tremaining: 924ms\n",
      "139:\tlearn: 0.6722327\ttotal: 2.12s\tremaining: 909ms\n",
      "140:\tlearn: 0.6721606\ttotal: 2.14s\tremaining: 895ms\n",
      "141:\tlearn: 0.6721076\ttotal: 2.15s\tremaining: 880ms\n",
      "142:\tlearn: 0.6720704\ttotal: 2.17s\tremaining: 866ms\n",
      "143:\tlearn: 0.6720243\ttotal: 2.19s\tremaining: 852ms\n",
      "144:\tlearn: 0.6719869\ttotal: 2.21s\tremaining: 837ms\n",
      "145:\tlearn: 0.6719178\ttotal: 2.22s\tremaining: 823ms\n",
      "146:\tlearn: 0.6718762\ttotal: 2.24s\tremaining: 808ms\n",
      "147:\tlearn: 0.6717947\ttotal: 2.26s\tremaining: 793ms\n",
      "148:\tlearn: 0.6716686\ttotal: 2.27s\tremaining: 779ms\n",
      "149:\tlearn: 0.6716514\ttotal: 2.29s\tremaining: 764ms\n",
      "150:\tlearn: 0.6715309\ttotal: 2.31s\tremaining: 749ms\n",
      "151:\tlearn: 0.6714685\ttotal: 2.32s\tremaining: 734ms\n",
      "152:\tlearn: 0.6713882\ttotal: 2.34s\tremaining: 719ms\n",
      "153:\tlearn: 0.6713063\ttotal: 2.36s\tremaining: 704ms\n",
      "154:\tlearn: 0.6712302\ttotal: 2.38s\tremaining: 690ms\n",
      "155:\tlearn: 0.6710994\ttotal: 2.39s\tremaining: 675ms\n",
      "156:\tlearn: 0.6710526\ttotal: 2.41s\tremaining: 660ms\n",
      "157:\tlearn: 0.6709074\ttotal: 2.42s\tremaining: 645ms\n",
      "158:\tlearn: 0.6707798\ttotal: 2.44s\tremaining: 630ms\n",
      "159:\tlearn: 0.6707430\ttotal: 2.46s\tremaining: 614ms\n",
      "160:\tlearn: 0.6706759\ttotal: 2.47s\tremaining: 599ms\n",
      "161:\tlearn: 0.6706010\ttotal: 2.49s\tremaining: 584ms\n",
      "162:\tlearn: 0.6704551\ttotal: 2.51s\tremaining: 569ms\n",
      "163:\tlearn: 0.6703437\ttotal: 2.52s\tremaining: 554ms\n",
      "164:\tlearn: 0.6702937\ttotal: 2.54s\tremaining: 539ms\n",
      "165:\tlearn: 0.6702573\ttotal: 2.56s\tremaining: 524ms\n",
      "166:\tlearn: 0.6701381\ttotal: 2.57s\tremaining: 509ms\n",
      "167:\tlearn: 0.6700971\ttotal: 2.59s\tremaining: 493ms\n",
      "168:\tlearn: 0.6700465\ttotal: 2.61s\tremaining: 478ms\n",
      "169:\tlearn: 0.6700167\ttotal: 2.62s\tremaining: 463ms\n",
      "170:\tlearn: 0.6699107\ttotal: 2.64s\tremaining: 448ms\n",
      "171:\tlearn: 0.6698829\ttotal: 2.66s\tremaining: 433ms\n",
      "172:\tlearn: 0.6698155\ttotal: 2.67s\tremaining: 418ms\n",
      "173:\tlearn: 0.6697024\ttotal: 2.69s\tremaining: 402ms\n",
      "174:\tlearn: 0.6695923\ttotal: 2.71s\tremaining: 387ms\n",
      "175:\tlearn: 0.6695016\ttotal: 2.72s\tremaining: 372ms\n",
      "176:\tlearn: 0.6694571\ttotal: 2.74s\tremaining: 356ms\n",
      "177:\tlearn: 0.6693928\ttotal: 2.76s\tremaining: 341ms\n",
      "178:\tlearn: 0.6692699\ttotal: 2.77s\tremaining: 325ms\n",
      "179:\tlearn: 0.6691900\ttotal: 2.79s\tremaining: 310ms\n",
      "180:\tlearn: 0.6691307\ttotal: 2.81s\tremaining: 295ms\n",
      "181:\tlearn: 0.6690973\ttotal: 2.82s\tremaining: 279ms\n",
      "182:\tlearn: 0.6689777\ttotal: 2.84s\tremaining: 264ms\n",
      "183:\tlearn: 0.6689294\ttotal: 2.85s\tremaining: 248ms\n",
      "184:\tlearn: 0.6688743\ttotal: 2.87s\tremaining: 233ms\n",
      "185:\tlearn: 0.6688173\ttotal: 2.89s\tremaining: 217ms\n",
      "186:\tlearn: 0.6687847\ttotal: 2.9s\tremaining: 202ms\n",
      "187:\tlearn: 0.6687193\ttotal: 2.92s\tremaining: 186ms\n",
      "188:\tlearn: 0.6686836\ttotal: 2.94s\tremaining: 171ms\n",
      "189:\tlearn: 0.6686220\ttotal: 2.95s\tremaining: 155ms\n",
      "190:\tlearn: 0.6685632\ttotal: 2.97s\tremaining: 140ms\n",
      "191:\tlearn: 0.6684895\ttotal: 2.98s\tremaining: 124ms\n",
      "192:\tlearn: 0.6683938\ttotal: 3s\tremaining: 109ms\n",
      "193:\tlearn: 0.6683317\ttotal: 3.02s\tremaining: 93.4ms\n",
      "194:\tlearn: 0.6682869\ttotal: 3.04s\tremaining: 77.8ms\n",
      "195:\tlearn: 0.6682406\ttotal: 3.05s\tremaining: 62.3ms\n",
      "196:\tlearn: 0.6681991\ttotal: 3.07s\tremaining: 46.8ms\n",
      "197:\tlearn: 0.6681182\ttotal: 3.09s\tremaining: 31.2ms\n",
      "198:\tlearn: 0.6680750\ttotal: 3.1s\tremaining: 15.6ms\n",
      "199:\tlearn: 0.6680104\ttotal: 3.12s\tremaining: 0us\n",
      "Learning rate set to 0.212981\n",
      "0:\tlearn: 0.6916807\ttotal: 8.31ms\tremaining: 1.65s\n",
      "1:\tlearn: 0.6904250\ttotal: 25.4ms\tremaining: 2.52s\n",
      "2:\tlearn: 0.6895454\ttotal: 35.8ms\tremaining: 2.35s\n",
      "3:\tlearn: 0.6892558\ttotal: 42ms\tremaining: 2.06s\n",
      "4:\tlearn: 0.6886495\ttotal: 58.8ms\tremaining: 2.29s\n",
      "5:\tlearn: 0.6883041\ttotal: 67.5ms\tremaining: 2.18s\n",
      "6:\tlearn: 0.6881052\ttotal: 76ms\tremaining: 2.1s\n",
      "7:\tlearn: 0.6877933\ttotal: 92.2ms\tremaining: 2.21s\n",
      "8:\tlearn: 0.6876518\ttotal: 100ms\tremaining: 2.13s\n",
      "9:\tlearn: 0.6875335\ttotal: 111ms\tremaining: 2.1s\n",
      "10:\tlearn: 0.6873541\ttotal: 127ms\tremaining: 2.19s\n",
      "11:\tlearn: 0.6872450\ttotal: 136ms\tremaining: 2.13s\n",
      "12:\tlearn: 0.6869597\ttotal: 152ms\tremaining: 2.18s\n",
      "13:\tlearn: 0.6868329\ttotal: 163ms\tremaining: 2.16s\n",
      "14:\tlearn: 0.6867171\ttotal: 186ms\tremaining: 2.3s\n",
      "15:\tlearn: 0.6866636\ttotal: 198ms\tremaining: 2.28s\n",
      "16:\tlearn: 0.6865226\ttotal: 218ms\tremaining: 2.35s\n",
      "17:\tlearn: 0.6864492\ttotal: 231ms\tremaining: 2.34s\n",
      "18:\tlearn: 0.6862961\ttotal: 253ms\tremaining: 2.41s\n",
      "19:\tlearn: 0.6862766\ttotal: 261ms\tremaining: 2.35s\n",
      "20:\tlearn: 0.6862688\ttotal: 268ms\tremaining: 2.29s\n",
      "21:\tlearn: 0.6860929\ttotal: 283ms\tremaining: 2.29s\n",
      "22:\tlearn: 0.6859611\ttotal: 300ms\tremaining: 2.31s\n",
      "23:\tlearn: 0.6859614\ttotal: 304ms\tremaining: 2.23s\n",
      "24:\tlearn: 0.6858491\ttotal: 321ms\tremaining: 2.25s\n",
      "25:\tlearn: 0.6858421\ttotal: 331ms\tremaining: 2.21s\n",
      "26:\tlearn: 0.6857233\ttotal: 348ms\tremaining: 2.23s\n",
      "27:\tlearn: 0.6857170\ttotal: 355ms\tremaining: 2.18s\n",
      "28:\tlearn: 0.6856764\ttotal: 363ms\tremaining: 2.14s\n",
      "29:\tlearn: 0.6855990\ttotal: 373ms\tremaining: 2.11s\n",
      "30:\tlearn: 0.6854446\ttotal: 389ms\tremaining: 2.12s\n",
      "31:\tlearn: 0.6853071\ttotal: 405ms\tremaining: 2.13s\n",
      "32:\tlearn: 0.6851335\ttotal: 421ms\tremaining: 2.13s\n",
      "33:\tlearn: 0.6850881\ttotal: 428ms\tremaining: 2.09s\n",
      "34:\tlearn: 0.6849071\ttotal: 444ms\tremaining: 2.09s\n",
      "35:\tlearn: 0.6848522\ttotal: 451ms\tremaining: 2.05s\n",
      "36:\tlearn: 0.6847753\ttotal: 464ms\tremaining: 2.04s\n",
      "37:\tlearn: 0.6847439\ttotal: 472ms\tremaining: 2.01s\n",
      "38:\tlearn: 0.6846653\ttotal: 478ms\tremaining: 1.97s\n",
      "39:\tlearn: 0.6845570\ttotal: 494ms\tremaining: 1.97s\n",
      "40:\tlearn: 0.6844580\ttotal: 509ms\tremaining: 1.97s\n",
      "41:\tlearn: 0.6844531\ttotal: 516ms\tremaining: 1.94s\n",
      "42:\tlearn: 0.6843754\ttotal: 532ms\tremaining: 1.94s\n",
      "43:\tlearn: 0.6842780\ttotal: 548ms\tremaining: 1.94s\n",
      "44:\tlearn: 0.6841139\ttotal: 564ms\tremaining: 1.94s\n",
      "45:\tlearn: 0.6841116\ttotal: 572ms\tremaining: 1.91s\n",
      "46:\tlearn: 0.6839252\ttotal: 589ms\tremaining: 1.92s\n",
      "47:\tlearn: 0.6837661\ttotal: 605ms\tremaining: 1.92s\n",
      "48:\tlearn: 0.6836247\ttotal: 620ms\tremaining: 1.91s\n",
      "49:\tlearn: 0.6834826\ttotal: 636ms\tremaining: 1.91s\n",
      "50:\tlearn: 0.6833528\ttotal: 653ms\tremaining: 1.91s\n",
      "51:\tlearn: 0.6832904\ttotal: 669ms\tremaining: 1.9s\n",
      "52:\tlearn: 0.6831975\ttotal: 685ms\tremaining: 1.9s\n",
      "53:\tlearn: 0.6830321\ttotal: 701ms\tremaining: 1.9s\n",
      "54:\tlearn: 0.6829055\ttotal: 717ms\tremaining: 1.89s\n",
      "55:\tlearn: 0.6827738\ttotal: 732ms\tremaining: 1.88s\n",
      "56:\tlearn: 0.6826021\ttotal: 747ms\tremaining: 1.88s\n",
      "57:\tlearn: 0.6824559\ttotal: 764ms\tremaining: 1.87s\n",
      "58:\tlearn: 0.6822799\ttotal: 780ms\tremaining: 1.86s\n",
      "59:\tlearn: 0.6821365\ttotal: 796ms\tremaining: 1.86s\n",
      "60:\tlearn: 0.6819650\ttotal: 812ms\tremaining: 1.85s\n",
      "61:\tlearn: 0.6817901\ttotal: 827ms\tremaining: 1.84s\n",
      "62:\tlearn: 0.6816801\ttotal: 844ms\tremaining: 1.83s\n",
      "63:\tlearn: 0.6814832\ttotal: 860ms\tremaining: 1.83s\n",
      "64:\tlearn: 0.6813076\ttotal: 876ms\tremaining: 1.82s\n",
      "65:\tlearn: 0.6811234\ttotal: 891ms\tremaining: 1.81s\n",
      "66:\tlearn: 0.6809569\ttotal: 906ms\tremaining: 1.8s\n",
      "67:\tlearn: 0.6807624\ttotal: 922ms\tremaining: 1.79s\n",
      "68:\tlearn: 0.6805546\ttotal: 937ms\tremaining: 1.78s\n",
      "69:\tlearn: 0.6804686\ttotal: 953ms\tremaining: 1.77s\n",
      "70:\tlearn: 0.6803153\ttotal: 969ms\tremaining: 1.76s\n",
      "71:\tlearn: 0.6801463\ttotal: 985ms\tremaining: 1.75s\n",
      "72:\tlearn: 0.6800191\ttotal: 1000ms\tremaining: 1.74s\n",
      "73:\tlearn: 0.6799449\ttotal: 1.01s\tremaining: 1.73s\n",
      "74:\tlearn: 0.6798016\ttotal: 1.03s\tremaining: 1.72s\n",
      "75:\tlearn: 0.6795754\ttotal: 1.05s\tremaining: 1.71s\n",
      "76:\tlearn: 0.6794123\ttotal: 1.06s\tremaining: 1.7s\n",
      "77:\tlearn: 0.6792084\ttotal: 1.08s\tremaining: 1.69s\n",
      "78:\tlearn: 0.6790893\ttotal: 1.1s\tremaining: 1.68s\n",
      "79:\tlearn: 0.6789926\ttotal: 1.11s\tremaining: 1.67s\n",
      "80:\tlearn: 0.6787813\ttotal: 1.13s\tremaining: 1.66s\n",
      "81:\tlearn: 0.6786171\ttotal: 1.15s\tremaining: 1.65s\n",
      "82:\tlearn: 0.6785010\ttotal: 1.16s\tremaining: 1.64s\n",
      "83:\tlearn: 0.6783887\ttotal: 1.18s\tremaining: 1.63s\n",
      "84:\tlearn: 0.6783285\ttotal: 1.2s\tremaining: 1.62s\n",
      "85:\tlearn: 0.6782020\ttotal: 1.21s\tremaining: 1.6s\n",
      "86:\tlearn: 0.6780416\ttotal: 1.23s\tremaining: 1.59s\n",
      "87:\tlearn: 0.6779723\ttotal: 1.24s\tremaining: 1.58s\n",
      "88:\tlearn: 0.6778798\ttotal: 1.26s\tremaining: 1.57s\n",
      "89:\tlearn: 0.6776994\ttotal: 1.27s\tremaining: 1.56s\n",
      "90:\tlearn: 0.6776225\ttotal: 1.29s\tremaining: 1.55s\n",
      "91:\tlearn: 0.6774113\ttotal: 1.31s\tremaining: 1.53s\n",
      "92:\tlearn: 0.6773056\ttotal: 1.32s\tremaining: 1.52s\n",
      "93:\tlearn: 0.6772096\ttotal: 1.34s\tremaining: 1.51s\n",
      "94:\tlearn: 0.6770601\ttotal: 1.36s\tremaining: 1.5s\n",
      "95:\tlearn: 0.6769629\ttotal: 1.37s\tremaining: 1.49s\n",
      "96:\tlearn: 0.6768511\ttotal: 1.39s\tremaining: 1.48s\n",
      "97:\tlearn: 0.6767509\ttotal: 1.41s\tremaining: 1.46s\n",
      "98:\tlearn: 0.6766375\ttotal: 1.42s\tremaining: 1.45s\n",
      "99:\tlearn: 0.6764968\ttotal: 1.44s\tremaining: 1.44s\n",
      "100:\tlearn: 0.6763376\ttotal: 1.46s\tremaining: 1.43s\n",
      "101:\tlearn: 0.6762607\ttotal: 1.47s\tremaining: 1.41s\n",
      "102:\tlearn: 0.6761243\ttotal: 1.49s\tremaining: 1.4s\n",
      "103:\tlearn: 0.6760082\ttotal: 1.5s\tremaining: 1.39s\n",
      "104:\tlearn: 0.6759139\ttotal: 1.52s\tremaining: 1.37s\n",
      "105:\tlearn: 0.6757871\ttotal: 1.53s\tremaining: 1.36s\n",
      "106:\tlearn: 0.6757292\ttotal: 1.55s\tremaining: 1.34s\n",
      "107:\tlearn: 0.6756117\ttotal: 1.56s\tremaining: 1.33s\n",
      "108:\tlearn: 0.6754975\ttotal: 1.58s\tremaining: 1.32s\n",
      "109:\tlearn: 0.6753833\ttotal: 1.59s\tremaining: 1.3s\n",
      "110:\tlearn: 0.6752603\ttotal: 1.61s\tremaining: 1.29s\n",
      "111:\tlearn: 0.6752201\ttotal: 1.62s\tremaining: 1.27s\n",
      "112:\tlearn: 0.6751369\ttotal: 1.64s\tremaining: 1.26s\n",
      "113:\tlearn: 0.6750798\ttotal: 1.66s\tremaining: 1.25s\n",
      "114:\tlearn: 0.6749396\ttotal: 1.67s\tremaining: 1.24s\n",
      "115:\tlearn: 0.6748298\ttotal: 1.69s\tremaining: 1.22s\n",
      "116:\tlearn: 0.6747328\ttotal: 1.7s\tremaining: 1.21s\n",
      "117:\tlearn: 0.6746559\ttotal: 1.72s\tremaining: 1.19s\n",
      "118:\tlearn: 0.6745690\ttotal: 1.73s\tremaining: 1.18s\n",
      "119:\tlearn: 0.6744867\ttotal: 1.75s\tremaining: 1.17s\n",
      "120:\tlearn: 0.6743881\ttotal: 1.77s\tremaining: 1.15s\n",
      "121:\tlearn: 0.6742637\ttotal: 1.78s\tremaining: 1.14s\n",
      "122:\tlearn: 0.6741492\ttotal: 1.8s\tremaining: 1.13s\n",
      "123:\tlearn: 0.6740672\ttotal: 1.82s\tremaining: 1.11s\n",
      "124:\tlearn: 0.6739717\ttotal: 1.83s\tremaining: 1.1s\n",
      "125:\tlearn: 0.6738247\ttotal: 1.85s\tremaining: 1.09s\n",
      "126:\tlearn: 0.6737778\ttotal: 1.87s\tremaining: 1.07s\n",
      "127:\tlearn: 0.6737086\ttotal: 1.89s\tremaining: 1.06s\n",
      "128:\tlearn: 0.6735841\ttotal: 1.9s\tremaining: 1.05s\n",
      "129:\tlearn: 0.6735155\ttotal: 1.92s\tremaining: 1.03s\n",
      "130:\tlearn: 0.6734108\ttotal: 1.94s\tremaining: 1.02s\n",
      "131:\tlearn: 0.6733160\ttotal: 1.96s\tremaining: 1.01s\n",
      "132:\tlearn: 0.6732189\ttotal: 1.97s\tremaining: 993ms\n",
      "133:\tlearn: 0.6730681\ttotal: 1.99s\tremaining: 979ms\n",
      "134:\tlearn: 0.6729937\ttotal: 2s\tremaining: 965ms\n",
      "135:\tlearn: 0.6728575\ttotal: 2.02s\tremaining: 951ms\n",
      "136:\tlearn: 0.6727579\ttotal: 2.04s\tremaining: 939ms\n",
      "137:\tlearn: 0.6726262\ttotal: 2.06s\tremaining: 924ms\n",
      "138:\tlearn: 0.6725795\ttotal: 2.07s\tremaining: 910ms\n",
      "139:\tlearn: 0.6725393\ttotal: 2.09s\tremaining: 895ms\n",
      "140:\tlearn: 0.6724650\ttotal: 2.11s\tremaining: 882ms\n",
      "141:\tlearn: 0.6723939\ttotal: 2.12s\tremaining: 867ms\n",
      "142:\tlearn: 0.6722851\ttotal: 2.14s\tremaining: 853ms\n",
      "143:\tlearn: 0.6722075\ttotal: 2.16s\tremaining: 839ms\n",
      "144:\tlearn: 0.6721603\ttotal: 2.19s\tremaining: 830ms\n",
      "145:\tlearn: 0.6720948\ttotal: 2.21s\tremaining: 816ms\n",
      "146:\tlearn: 0.6719545\ttotal: 2.22s\tremaining: 801ms\n",
      "147:\tlearn: 0.6719082\ttotal: 2.24s\tremaining: 786ms\n",
      "148:\tlearn: 0.6718046\ttotal: 2.25s\tremaining: 771ms\n",
      "149:\tlearn: 0.6717209\ttotal: 2.27s\tremaining: 756ms\n",
      "150:\tlearn: 0.6716162\ttotal: 2.29s\tremaining: 742ms\n",
      "151:\tlearn: 0.6715071\ttotal: 2.3s\tremaining: 727ms\n",
      "152:\tlearn: 0.6713662\ttotal: 2.32s\tremaining: 712ms\n",
      "153:\tlearn: 0.6712562\ttotal: 2.33s\tremaining: 697ms\n",
      "154:\tlearn: 0.6711709\ttotal: 2.35s\tremaining: 682ms\n",
      "155:\tlearn: 0.6710914\ttotal: 2.37s\tremaining: 667ms\n",
      "156:\tlearn: 0.6710211\ttotal: 2.38s\tremaining: 652ms\n",
      "157:\tlearn: 0.6709066\ttotal: 2.4s\tremaining: 637ms\n",
      "158:\tlearn: 0.6708697\ttotal: 2.41s\tremaining: 623ms\n",
      "159:\tlearn: 0.6708453\ttotal: 2.43s\tremaining: 607ms\n",
      "160:\tlearn: 0.6707878\ttotal: 2.44s\tremaining: 592ms\n",
      "161:\tlearn: 0.6707058\ttotal: 2.46s\tremaining: 577ms\n",
      "162:\tlearn: 0.6705665\ttotal: 2.48s\tremaining: 562ms\n",
      "163:\tlearn: 0.6705191\ttotal: 2.49s\tremaining: 547ms\n",
      "164:\tlearn: 0.6704181\ttotal: 2.51s\tremaining: 532ms\n",
      "165:\tlearn: 0.6703269\ttotal: 2.52s\tremaining: 517ms\n",
      "166:\tlearn: 0.6703061\ttotal: 2.54s\tremaining: 502ms\n",
      "167:\tlearn: 0.6702520\ttotal: 2.55s\tremaining: 487ms\n",
      "168:\tlearn: 0.6701498\ttotal: 2.57s\tremaining: 471ms\n",
      "169:\tlearn: 0.6700969\ttotal: 2.59s\tremaining: 456ms\n",
      "170:\tlearn: 0.6700284\ttotal: 2.6s\tremaining: 441ms\n",
      "171:\tlearn: 0.6699520\ttotal: 2.62s\tremaining: 426ms\n",
      "172:\tlearn: 0.6699064\ttotal: 2.63s\tremaining: 411ms\n",
      "173:\tlearn: 0.6697979\ttotal: 2.65s\tremaining: 396ms\n",
      "174:\tlearn: 0.6697466\ttotal: 2.67s\tremaining: 381ms\n",
      "175:\tlearn: 0.6696677\ttotal: 2.68s\tremaining: 366ms\n",
      "176:\tlearn: 0.6696335\ttotal: 2.7s\tremaining: 351ms\n",
      "177:\tlearn: 0.6695464\ttotal: 2.72s\tremaining: 336ms\n",
      "178:\tlearn: 0.6694561\ttotal: 2.73s\tremaining: 321ms\n",
      "179:\tlearn: 0.6694119\ttotal: 2.76s\tremaining: 306ms\n",
      "180:\tlearn: 0.6693662\ttotal: 2.78s\tremaining: 292ms\n",
      "181:\tlearn: 0.6693255\ttotal: 2.79s\tremaining: 276ms\n",
      "182:\tlearn: 0.6692913\ttotal: 2.81s\tremaining: 261ms\n",
      "183:\tlearn: 0.6692579\ttotal: 2.83s\tremaining: 246ms\n",
      "184:\tlearn: 0.6692129\ttotal: 2.84s\tremaining: 231ms\n",
      "185:\tlearn: 0.6691661\ttotal: 2.86s\tremaining: 215ms\n",
      "186:\tlearn: 0.6691155\ttotal: 2.88s\tremaining: 200ms\n",
      "187:\tlearn: 0.6690479\ttotal: 2.89s\tremaining: 185ms\n",
      "188:\tlearn: 0.6690027\ttotal: 2.91s\tremaining: 169ms\n",
      "189:\tlearn: 0.6689347\ttotal: 2.92s\tremaining: 154ms\n",
      "190:\tlearn: 0.6688563\ttotal: 2.94s\tremaining: 139ms\n",
      "191:\tlearn: 0.6687938\ttotal: 2.96s\tremaining: 123ms\n",
      "192:\tlearn: 0.6687352\ttotal: 2.97s\tremaining: 108ms\n",
      "193:\tlearn: 0.6686472\ttotal: 2.99s\tremaining: 92.4ms\n",
      "194:\tlearn: 0.6686071\ttotal: 3s\tremaining: 77.1ms\n",
      "195:\tlearn: 0.6684550\ttotal: 3.02s\tremaining: 61.6ms\n",
      "196:\tlearn: 0.6684405\ttotal: 3.04s\tremaining: 46.2ms\n",
      "197:\tlearn: 0.6683893\ttotal: 3.05s\tremaining: 30.8ms\n",
      "198:\tlearn: 0.6683275\ttotal: 3.07s\tremaining: 15.4ms\n",
      "199:\tlearn: 0.6683142\ttotal: 3.08s\tremaining: 0us\n",
      "Learning rate set to 0.5\n",
      "0:\tlearn: 0.6900223\ttotal: 8.77ms\tremaining: 868ms\n",
      "1:\tlearn: 0.6890245\ttotal: 15.3ms\tremaining: 749ms\n",
      "2:\tlearn: 0.6883344\ttotal: 29.4ms\tremaining: 951ms\n",
      "3:\tlearn: 0.6879478\ttotal: 41ms\tremaining: 984ms\n",
      "4:\tlearn: 0.6879432\ttotal: 46.5ms\tremaining: 884ms\n",
      "5:\tlearn: 0.6879281\ttotal: 51.9ms\tremaining: 813ms\n",
      "6:\tlearn: 0.6877389\ttotal: 63.6ms\tremaining: 845ms\n",
      "7:\tlearn: 0.6875632\ttotal: 70ms\tremaining: 805ms\n",
      "8:\tlearn: 0.6872497\ttotal: 82.3ms\tremaining: 832ms\n",
      "9:\tlearn: 0.6870218\ttotal: 94.7ms\tremaining: 852ms\n",
      "10:\tlearn: 0.6870288\ttotal: 103ms\tremaining: 832ms\n",
      "11:\tlearn: 0.6869748\ttotal: 109ms\tremaining: 801ms\n",
      "12:\tlearn: 0.6869717\ttotal: 115ms\tremaining: 770ms\n",
      "13:\tlearn: 0.6868595\ttotal: 127ms\tremaining: 781ms\n",
      "14:\tlearn: 0.6867555\ttotal: 135ms\tremaining: 766ms\n",
      "15:\tlearn: 0.6866995\ttotal: 145ms\tremaining: 759ms\n",
      "16:\tlearn: 0.6866883\ttotal: 149ms\tremaining: 726ms\n",
      "17:\tlearn: 0.6866122\ttotal: 161ms\tremaining: 732ms\n",
      "18:\tlearn: 0.6865822\ttotal: 170ms\tremaining: 724ms\n",
      "19:\tlearn: 0.6864307\ttotal: 182ms\tremaining: 727ms\n",
      "20:\tlearn: 0.6864454\ttotal: 189ms\tremaining: 710ms\n",
      "21:\tlearn: 0.6863628\ttotal: 196ms\tremaining: 694ms\n",
      "22:\tlearn: 0.6862864\ttotal: 208ms\tremaining: 697ms\n",
      "23:\tlearn: 0.6861647\ttotal: 222ms\tremaining: 702ms\n",
      "24:\tlearn: 0.6860547\ttotal: 234ms\tremaining: 703ms\n",
      "25:\tlearn: 0.6858739\ttotal: 246ms\tremaining: 701ms\n",
      "26:\tlearn: 0.6856415\ttotal: 259ms\tremaining: 699ms\n",
      "27:\tlearn: 0.6855036\ttotal: 270ms\tremaining: 695ms\n",
      "28:\tlearn: 0.6853696\ttotal: 283ms\tremaining: 692ms\n",
      "29:\tlearn: 0.6852251\ttotal: 295ms\tremaining: 688ms\n",
      "30:\tlearn: 0.6850902\ttotal: 307ms\tremaining: 683ms\n",
      "31:\tlearn: 0.6849879\ttotal: 320ms\tremaining: 681ms\n",
      "32:\tlearn: 0.6848470\ttotal: 335ms\tremaining: 680ms\n",
      "33:\tlearn: 0.6846605\ttotal: 347ms\tremaining: 674ms\n",
      "34:\tlearn: 0.6845006\ttotal: 360ms\tremaining: 668ms\n",
      "35:\tlearn: 0.6844119\ttotal: 372ms\tremaining: 662ms\n",
      "36:\tlearn: 0.6843152\ttotal: 384ms\tremaining: 654ms\n",
      "37:\tlearn: 0.6841649\ttotal: 396ms\tremaining: 646ms\n",
      "38:\tlearn: 0.6841087\ttotal: 410ms\tremaining: 641ms\n",
      "39:\tlearn: 0.6839940\ttotal: 422ms\tremaining: 634ms\n",
      "40:\tlearn: 0.6838525\ttotal: 434ms\tremaining: 624ms\n",
      "41:\tlearn: 0.6837117\ttotal: 446ms\tremaining: 616ms\n",
      "42:\tlearn: 0.6836389\ttotal: 458ms\tremaining: 607ms\n",
      "43:\tlearn: 0.6834783\ttotal: 469ms\tremaining: 597ms\n",
      "44:\tlearn: 0.6834089\ttotal: 481ms\tremaining: 588ms\n",
      "45:\tlearn: 0.6833216\ttotal: 493ms\tremaining: 579ms\n",
      "46:\tlearn: 0.6832197\ttotal: 507ms\tremaining: 571ms\n",
      "47:\tlearn: 0.6831590\ttotal: 519ms\tremaining: 562ms\n",
      "48:\tlearn: 0.6830536\ttotal: 530ms\tremaining: 552ms\n",
      "49:\tlearn: 0.6830283\ttotal: 542ms\tremaining: 542ms\n",
      "50:\tlearn: 0.6829245\ttotal: 554ms\tremaining: 532ms\n",
      "51:\tlearn: 0.6828950\ttotal: 565ms\tremaining: 522ms\n",
      "52:\tlearn: 0.6828522\ttotal: 577ms\tremaining: 512ms\n",
      "53:\tlearn: 0.6827484\ttotal: 589ms\tremaining: 502ms\n",
      "54:\tlearn: 0.6826553\ttotal: 601ms\tremaining: 492ms\n",
      "55:\tlearn: 0.6825307\ttotal: 614ms\tremaining: 482ms\n",
      "56:\tlearn: 0.6824478\ttotal: 625ms\tremaining: 472ms\n",
      "57:\tlearn: 0.6824314\ttotal: 637ms\tremaining: 462ms\n",
      "58:\tlearn: 0.6823538\ttotal: 649ms\tremaining: 451ms\n",
      "59:\tlearn: 0.6822482\ttotal: 661ms\tremaining: 440ms\n",
      "60:\tlearn: 0.6821633\ttotal: 672ms\tremaining: 430ms\n",
      "61:\tlearn: 0.6821139\ttotal: 684ms\tremaining: 419ms\n",
      "62:\tlearn: 0.6820445\ttotal: 696ms\tremaining: 409ms\n",
      "63:\tlearn: 0.6819590\ttotal: 708ms\tremaining: 398ms\n",
      "64:\tlearn: 0.6817926\ttotal: 720ms\tremaining: 388ms\n",
      "65:\tlearn: 0.6817553\ttotal: 732ms\tremaining: 377ms\n",
      "66:\tlearn: 0.6817095\ttotal: 744ms\tremaining: 367ms\n",
      "67:\tlearn: 0.6815917\ttotal: 756ms\tremaining: 356ms\n",
      "68:\tlearn: 0.6815372\ttotal: 768ms\tremaining: 345ms\n",
      "69:\tlearn: 0.6814956\ttotal: 780ms\tremaining: 334ms\n",
      "70:\tlearn: 0.6814284\ttotal: 794ms\tremaining: 324ms\n",
      "71:\tlearn: 0.6814093\ttotal: 806ms\tremaining: 313ms\n",
      "72:\tlearn: 0.6813678\ttotal: 818ms\tremaining: 303ms\n",
      "73:\tlearn: 0.6813341\ttotal: 830ms\tremaining: 292ms\n",
      "74:\tlearn: 0.6812967\ttotal: 846ms\tremaining: 282ms\n",
      "75:\tlearn: 0.6811874\ttotal: 863ms\tremaining: 272ms\n",
      "76:\tlearn: 0.6810830\ttotal: 879ms\tremaining: 263ms\n",
      "77:\tlearn: 0.6810129\ttotal: 896ms\tremaining: 253ms\n",
      "78:\tlearn: 0.6809442\ttotal: 912ms\tremaining: 242ms\n",
      "79:\tlearn: 0.6809080\ttotal: 931ms\tremaining: 233ms\n",
      "80:\tlearn: 0.6808228\ttotal: 952ms\tremaining: 223ms\n",
      "81:\tlearn: 0.6807450\ttotal: 968ms\tremaining: 213ms\n",
      "82:\tlearn: 0.6806812\ttotal: 983ms\tremaining: 201ms\n",
      "83:\tlearn: 0.6806029\ttotal: 1s\tremaining: 190ms\n",
      "84:\tlearn: 0.6805749\ttotal: 1.02s\tremaining: 180ms\n",
      "85:\tlearn: 0.6805321\ttotal: 1.03s\tremaining: 168ms\n",
      "86:\tlearn: 0.6804795\ttotal: 1.04s\tremaining: 156ms\n",
      "87:\tlearn: 0.6804569\ttotal: 1.05s\tremaining: 144ms\n",
      "88:\tlearn: 0.6804147\ttotal: 1.07s\tremaining: 132ms\n",
      "89:\tlearn: 0.6803277\ttotal: 1.08s\tremaining: 120ms\n",
      "90:\tlearn: 0.6803114\ttotal: 1.09s\tremaining: 108ms\n",
      "91:\tlearn: 0.6802872\ttotal: 1.1s\tremaining: 96.2ms\n",
      "92:\tlearn: 0.6802049\ttotal: 1.12s\tremaining: 84.2ms\n",
      "93:\tlearn: 0.6801481\ttotal: 1.13s\tremaining: 72.2ms\n",
      "94:\tlearn: 0.6801075\ttotal: 1.14s\tremaining: 60.2ms\n",
      "95:\tlearn: 0.6800757\ttotal: 1.16s\tremaining: 48.2ms\n",
      "96:\tlearn: 0.6800016\ttotal: 1.17s\tremaining: 36.2ms\n",
      "97:\tlearn: 0.6799653\ttotal: 1.18s\tremaining: 24.1ms\n",
      "98:\tlearn: 0.6799125\ttotal: 1.19s\tremaining: 12.1ms\n",
      "99:\tlearn: 0.6798412\ttotal: 1.21s\tremaining: 0us\n",
      "train_scores_catboost: 0.5370173903574595\n",
      "test_scores_catboost: 0.5390678366875098\n"
     ]
    }
   ],
   "source": [
    "param = {\n",
    "    'classifier__n_estimators': [100, 200],\n",
    "    'classifier__max_depth': [5, 10]}\n",
    "\n",
    "grid_catboost = GridSearchCV(pipe_for_catboost, param, cv=2, scoring='f1', verbose=False)\n",
    "grid_catboost.fit(X_train, y_train)\n",
    "predict_train_catboost = grid_catboost.predict(X_train)\n",
    "predict_test_catboost = grid_catboost.predict(X_val)\n",
    "train_scores_catboost = grid_catboost.best_score_\n",
    "val_scores_catboost = f1_score(y_val, predict_test_catboost)\n",
    "print(f'train_scores_catboost: {train_scores_catboost}')\n",
    "print(f'test_scores_catboost: {val_scores_catboost}')\n"
   ]
  },
  {
   "attachments": {},
   "cell_type": "markdown",
   "id": "d08dce4c",
   "metadata": {},
   "source": [
    "Смотрим на размеры выборок"
   ]
  },
  {
   "cell_type": "code",
   "execution_count": 35,
   "id": "4b840b36",
   "metadata": {},
   "outputs": [
    {
     "data": {
      "text/plain": [
       "1    38352\n",
       "0    37600\n",
       "Name: at_fault, dtype: int64"
      ]
     },
     "execution_count": 35,
     "metadata": {},
     "output_type": "execute_result"
    }
   ],
   "source": [
    "y_train.value_counts()"
   ]
  },
  {
   "cell_type": "code",
   "execution_count": 36,
   "id": "d6a56031",
   "metadata": {},
   "outputs": [
    {
     "data": {
      "text/plain": [
       "1    32874\n",
       "0    32228\n",
       "Name: at_fault, dtype: int64"
      ]
     },
     "execution_count": 36,
     "metadata": {},
     "output_type": "execute_result"
    }
   ],
   "source": [
    "y_test.value_counts()"
   ]
  },
  {
   "attachments": {},
   "cell_type": "markdown",
   "id": "e3a50963",
   "metadata": {},
   "source": [
    "Выводим медрики моделей"
   ]
  },
  {
   "cell_type": "code",
   "execution_count": 37,
   "id": "07aea7e9",
   "metadata": {},
   "outputs": [
    {
     "data": {
      "text/html": [
       "<div>\n",
       "<style scoped>\n",
       "    .dataframe tbody tr th:only-of-type {\n",
       "        vertical-align: middle;\n",
       "    }\n",
       "\n",
       "    .dataframe tbody tr th {\n",
       "        vertical-align: top;\n",
       "    }\n",
       "\n",
       "    .dataframe thead th {\n",
       "        text-align: right;\n",
       "    }\n",
       "</style>\n",
       "<table border=\"1\" class=\"dataframe\">\n",
       "  <thead>\n",
       "    <tr style=\"text-align: right;\">\n",
       "      <th></th>\n",
       "      <th>Модель</th>\n",
       "      <th>Метрика</th>\n",
       "    </tr>\n",
       "  </thead>\n",
       "  <tbody>\n",
       "    <tr>\n",
       "      <th>0</th>\n",
       "      <td>RF</td>\n",
       "      <td>0.586173</td>\n",
       "    </tr>\n",
       "    <tr>\n",
       "      <th>1</th>\n",
       "      <td>LGBM</td>\n",
       "      <td>0.534920</td>\n",
       "    </tr>\n",
       "    <tr>\n",
       "      <th>2</th>\n",
       "      <td>CatBoost</td>\n",
       "      <td>0.539068</td>\n",
       "    </tr>\n",
       "  </tbody>\n",
       "</table>\n",
       "</div>"
      ],
      "text/plain": [
       "     Модель   Метрика\n",
       "0        RF  0.586173\n",
       "1      LGBM  0.534920\n",
       "2  CatBoost  0.539068"
      ]
     },
     "execution_count": 37,
     "metadata": {},
     "output_type": "execute_result"
    }
   ],
   "source": [
    "\n",
    "data = {\n",
    "    'Модель': ['RF', 'LGBM', 'CatBoost'],\n",
    "    'Метрика': [val_scores_1, val_scores_2, val_scores_catboost ]}\n",
    "df = pd.DataFrame(data)\n",
    "df\n"
   ]
  },
  {
   "attachments": {},
   "cell_type": "markdown",
   "id": "1f2be180",
   "metadata": {},
   "source": [
    "`Вывод:` как мы видим, самую лучшую метрику паказала модель Случайного Леса (RF)"
   ]
  },
  {
   "attachments": {},
   "cell_type": "markdown",
   "id": "cb28635a",
   "metadata": {},
   "source": [
    "## Шаг 6. Проверьте лучшую модель в работе"
   ]
  },
  {
   "attachments": {},
   "cell_type": "markdown",
   "id": "45bed8df",
   "metadata": {},
   "source": [
    "Проверим в деле нашу лучшую модель - RF"
   ]
  },
  {
   "cell_type": "code",
   "execution_count": 38,
   "id": "51892db8",
   "metadata": {},
   "outputs": [
    {
     "data": {
      "text/plain": [
       "{'classifier__max_depth': 10, 'classifier__n_estimators': 100}"
      ]
     },
     "execution_count": 38,
     "metadata": {},
     "output_type": "execute_result"
    }
   ],
   "source": [
    "grid_tree.best_params_"
   ]
  },
  {
   "cell_type": "code",
   "execution_count": 39,
   "id": "ab0555a0",
   "metadata": {},
   "outputs": [],
   "source": [
    "pipe_for_tree = Pipeline([\n",
    "    ('preprocessor', preprocessor_for_tree),\n",
    "    ('classifier', RandomForestClassifier(random_state=42,max_depth=5, n_estimators=200))\n",
    "])"
   ]
  },
  {
   "cell_type": "code",
   "execution_count": 40,
   "id": "3b173ada",
   "metadata": {},
   "outputs": [
    {
     "name": "stdout",
     "output_type": "stream",
     "text": [
      "F1 score: 0.5911542220131022\n"
     ]
    }
   ],
   "source": [
    "model = pipe_for_tree\n",
    "model.fit(X_train,y_train)\n",
    "predict_final = model.predict(X_test)\n",
    "\n",
    "f1 = f1_score(y_test, predict_final)\n",
    "print(f\"F1 score: {f1}\")\n"
   ]
  },
  {
   "cell_type": "code",
   "execution_count": 41,
   "id": "8a95fa9b",
   "metadata": {},
   "outputs": [
    {
     "data": {
      "image/png": "[encoded data removed]",
      "text/plain": [
       "<Figure size 864x432 with 2 Axes>"
      ]
     },
     "metadata": {
      "needs_background": "light"
     },
     "output_type": "display_data"
    }
   ],
   "source": [
    "#  y_test и predict_final это истинные и предсказанные значения, соответственно\n",
    "cm = confusion_matrix(y_test, predict_final)\n",
    "\n",
    "# Вывод confusion matrix\n",
    "plt.figure(figsize=(12, 6))\n",
    "sns.heatmap(cm, annot=True, fmt=\"d\", cmap=\"Reds\")\n",
    "plt.title(\"Confusion Matrix\")\n",
    "plt.xlabel(\"Predicted Labels\")\n",
    "plt.ylabel(\"True Labels\")\n",
    "plt.show()\n"
   ]
  },
  {
   "attachments": {},
   "cell_type": "markdown",
   "id": "1530f3cb",
   "metadata": {},
   "source": [
    "`Вывод:` Мы видим, что количество истинно-отрицательных показаний (True-negative) самое высокое, при этом  истинно-положительные (True-Positive) на треьем месте.\n",
    "\n",
    "Это говорит о хорошей предсказательной способности модели в случае негативных значений."
   ]
  },
  {
   "cell_type": "code",
   "execution_count": 42,
   "id": "a0cc4f72",
   "metadata": {},
   "outputs": [
    {
     "data": {
      "text/plain": [
       "0.49683640567013443"
      ]
     },
     "execution_count": 42,
     "metadata": {},
     "output_type": "execute_result"
    }
   ],
   "source": [
    "recall_score(y_test,predict_final)"
   ]
  },
  {
   "cell_type": "code",
   "execution_count": 43,
   "id": "66906879",
   "metadata": {},
   "outputs": [
    {
     "data": {
      "text/plain": [
       "0.7296729807005004"
      ]
     },
     "execution_count": 43,
     "metadata": {},
     "output_type": "execute_result"
    }
   ],
   "source": [
    "precision_score(y_test,predict_final)"
   ]
  },
  {
   "attachments": {},
   "cell_type": "markdown",
   "id": "adceb1a4",
   "metadata": {},
   "source": [
    "`Вывод:` лучшая модель Случайного Леса показала \n",
    "\n",
    "Полнота: 0.5029506600961245<br>\n",
    "Точность: 0.7150765504714125\n",
    "\n",
    "Полнота (recall) измеряет долю правильно классифицированных положительных случаев (true positives) относительно общего количества фактических положительных случаев. В данном случае полнота на тестовой выборке составляет 0.5029506600961245. Это означает, что модель правильно классифицировала 50% всех фактических положительных случаев.\n",
    "\n",
    "Точность (precision) измеряет долю правильно классифицированных положительных случаев (true positives) относительно всех случаев, которые модель предсказала как положительные (true positives + false positives). В данном случае точность на тестовой выборке составляет 0.7150765504714125. Это означает, что из всех случаев, которые модель предсказала как положительные, 71% действительно являются положительными."
   ]
  },
  {
   "attachments": {},
   "cell_type": "markdown",
   "id": "89069db9",
   "metadata": {},
   "source": [
    "## Проведите анализ важности факторов ДТП"
   ]
  },
  {
   "attachments": {},
   "cell_type": "markdown",
   "id": "a958cd4c",
   "metadata": {},
   "source": [
    "Выводим график для наглядности"
   ]
  },
  {
   "cell_type": "code",
   "execution_count": 44,
   "id": "894cc511",
   "metadata": {},
   "outputs": [
    {
     "data": {
      "image/png": "[encoded data removed]",
      "text/plain": [
       "<Figure size 720x432 with 1 Axes>"
      ]
     },
     "metadata": {
      "needs_background": "light"
     },
     "output_type": "display_data"
    }
   ],
   "source": [
    "importance = model.named_steps['classifier'].feature_importances_\n",
    "\n",
    "\n",
    "# Создаём словарь с именами параметров и их важностью\n",
    "feature_importance_dict = dict(zip(preprocessor_for_tree.transformers_[0][1].get_feature_names_out(), importance))\n",
    "\n",
    "\n",
    "# Сортируем важность параметров по убыванию\n",
    "sorted_feature_importance = sorted(feature_importance_dict.items(), key=lambda x: x[1], reverse=True)\n",
    "features = [feature for feature, _ in sorted_feature_importance]\n",
    "importance = [importance for _, importance in sorted_feature_importance]\n",
    "plt.figure(figsize=(10, 6))\n",
    "plt.bar(features, importance)\n",
    "plt.xticks(rotation=90)\n",
    "plt.xlabel(\"Features\")\n",
    "plt.ylabel(\"Importance\")\n",
    "plt.title(\"Feature Importance\")\n",
    "plt.tight_layout()\n",
    "plt.show()\n"
   ]
  },
  {
   "attachments": {},
   "cell_type": "markdown",
   "id": "0c1f3980",
   "metadata": {},
   "source": [
    "Проведём исследование признака 'party_sobriety' и зависимость целевого параметра."
   ]
  },
  {
   "cell_type": "code",
   "execution_count": 45,
   "id": "5801d6a7",
   "metadata": {},
   "outputs": [
    {
     "data": {
      "text/html": [
       "<div>\n",
       "<style scoped>\n",
       "    .dataframe tbody tr th:only-of-type {\n",
       "        vertical-align: middle;\n",
       "    }\n",
       "\n",
       "    .dataframe tbody tr th {\n",
       "        vertical-align: top;\n",
       "    }\n",
       "\n",
       "    .dataframe thead th {\n",
       "        text-align: right;\n",
       "    }\n",
       "</style>\n",
       "<table border=\"1\" class=\"dataframe\">\n",
       "  <thead>\n",
       "    <tr style=\"text-align: right;\">\n",
       "      <th>at_fault</th>\n",
       "      <th>0</th>\n",
       "      <th>1</th>\n",
       "    </tr>\n",
       "    <tr>\n",
       "      <th>party_sobriety</th>\n",
       "      <th></th>\n",
       "      <th></th>\n",
       "    </tr>\n",
       "  </thead>\n",
       "  <tbody>\n",
       "    <tr>\n",
       "      <th>had been drinking, impairment unknown</th>\n",
       "      <td>278</td>\n",
       "      <td>1428</td>\n",
       "    </tr>\n",
       "    <tr>\n",
       "      <th>had been drinking, not under influence</th>\n",
       "      <td>461</td>\n",
       "      <td>1067</td>\n",
       "    </tr>\n",
       "    <tr>\n",
       "      <th>had been drinking, under influence</th>\n",
       "      <td>507</td>\n",
       "      <td>10692</td>\n",
       "    </tr>\n",
       "    <tr>\n",
       "      <th>had not been drinking</th>\n",
       "      <td>101804</td>\n",
       "      <td>78770</td>\n",
       "    </tr>\n",
       "    <tr>\n",
       "      <th>impairment unknown</th>\n",
       "      <td>3550</td>\n",
       "      <td>16838</td>\n",
       "    </tr>\n",
       "    <tr>\n",
       "      <th>not applicable</th>\n",
       "      <td>828</td>\n",
       "      <td>783</td>\n",
       "    </tr>\n",
       "  </tbody>\n",
       "</table>\n",
       "</div>"
      ],
      "text/plain": [
       "at_fault                                     0      1\n",
       "party_sobriety                                       \n",
       "had been drinking, impairment unknown      278   1428\n",
       "had been drinking, not under influence     461   1067\n",
       "had been drinking, under influence         507  10692\n",
       "had not been drinking                   101804  78770\n",
       "impairment unknown                        3550  16838\n",
       "not applicable                             828    783"
      ]
     },
     "execution_count": 45,
     "metadata": {},
     "output_type": "execute_result"
    }
   ],
   "source": [
    "union_df.pivot_table(index='party_sobriety', columns='at_fault', values='distance', aggfunc='count')"
   ]
  },
  {
   "cell_type": "code",
   "execution_count": 46,
   "id": "92e09c8e",
   "metadata": {},
   "outputs": [
    {
     "data": {
      "image/png": "[encoded data removed]",
      "text/plain": [
       "<Figure size 432x288 with 1 Axes>"
      ]
     },
     "metadata": {
      "needs_background": "light"
     },
     "output_type": "display_data"
    }
   ],
   "source": [
    "union_df.pivot_table(index='party_sobriety', columns='at_fault', values='distance', aggfunc='count').plot(kind='barh')\n",
    "\n",
    "plt.xticks(rotation=30)\n",
    "plt.show()"
   ]
  },
  {
   "attachments": {},
   "cell_type": "markdown",
   "id": "9c7bd910",
   "metadata": {},
   "source": [
    "`Вывод: ` большая зависимость ДТП по неизвестной причине impairment unknown (неизвестное ухудшение). Среди невыпивших, вероятность попадания / непопадания в ДТП отличается незначительно.\n",
    "\n",
    "Саямая явная зависимость - между ДТП и выпившим водителем под алкогольным влиянием."
   ]
  },
  {
   "attachments": {},
   "cell_type": "markdown",
   "id": "299b10ed",
   "metadata": {},
   "source": [
    "`Общий вывод: `\n",
    "\n",
    "**В результате проведённого исследования зависимости риска ДТП от разных дорожых факторов, были выполенны следущие этапы:**\n",
    "\n",
    "- Импорт из базы данных при помощи SQL \n",
    "- Ознакосмление с данными о ДТП из трёх разных таблиц vehicles, collisions и parties.\n",
    "- был провдён статистический анализ данных ДТП который выявил следущее:\n",
    "подавляющее большинство ДТП происходит с января по май. предположительно, это связанно с суровыми погодными условиями зимой и весенней распутицей, а также из-за переходного периода, смены зимних шин на летние (несвоевременная смена шин).\n",
    "- для потдверждения нашего предположения мы разделили задачу на подзадачи. \n",
    "\n",
    "- Изучить зависимость ДТП от состояния дорожного полотна\n",
    "- Изучить зависимость ДТП от состояния освящённости дороги\n",
    "- Изучить зависимость ДТП при нахождении на перекрёстке дорог\n",
    "- Изучить есть зависимость ДТП от уровня опасности участка дорого\n",
    "- Изучить зависимость ДТП от погодных условий\n",
    "- Изучить зависимость ДТП от использования громкой связи за рулём\n",
    "- Изучить зависимость ДТП от времени суток\n",
    "\n",
    "Мы выборочно проанализировали боллее подробно две из них: зависимость ДТП от погодных условий и зависимость ДТП от состояния освящённости дороги.\n",
    "\n",
    "Из проведённого анализа следует, что за исключением параметра 'ясная погода' сколько нибудь значительной разницы между присутствием или отсутствием погодного явления не надлюдается.\n",
    "\n",
    "ДТП проиходят одинаково часто в дождь или при его отсутствии.\n",
    "\n",
    "Папаметр clear - (ясная погода) показывает незначительную связь, на грани погрешности.\n",
    "\n",
    "Также выявлено, что не прослеживается корреляции отсещённости и ДТП, за исключением наличия / отсутствия дневного света, но эти показатели очень близки и поэтому, ненадёжны. Можно сделать до вывод что явной взаимосвязи нет.\n",
    "\n",
    "**Для предсказания вероятности ДТП были созданы и обучены модели RF, LGBM, Catboost в результате, лучшей моделью оказалась RF**\n",
    "\n",
    "в результате применения лучшей модели RF на тестовой выборке были достигнуты следущие показания метрики\n",
    "\n",
    "Полнота: 0.5029506600961245<br>\n",
    "Точность: 0.7150765504714125\n",
    "\n",
    "В итоге был определён фактор наиболее сильно врлияющий на колво ДТП - это опьянение, после подробного анализа выяснилось, что \n",
    "`саямая явная зависимость - между ДТП и выпившим водителем кторый находится под алкогольным влиянием.`\n",
    "\n",
    "\n",
    "`В качестве рекомендации для дальнейшего развития проекта можно предложить следущее:`\n",
    "Принимая во внимание что пьянство за рулём - основной фактор влияющий на количество ДТП, имеет смысл ввести следующие нововведения для водителей:\n",
    "- применение встроенных алкотестеров\n",
    "- системы распознавания водителя, чтобы убедиться что тест проводит нужный человек. Можно использовать скан радушки или лица."
   ]
  }
 ],
 "metadata": {
  "ExecuteTimeLog": [
   {
    "duration": 2125,
    "start_time": "2023-06-21T10:23:07.045Z"
   },
   {
    "duration": 3,
    "start_time": "2023-06-21T10:23:16.542Z"
   },
   {
    "duration": 8,
    "start_time": "2023-06-21T10:23:24.042Z"
   },
   {
    "duration": 5,
    "start_time": "2023-06-21T10:23:28.295Z"
   },
   {
    "duration": 21993,
    "start_time": "2023-06-21T10:23:42.396Z"
   },
   {
    "duration": 5,
    "start_time": "2023-06-21T10:24:22.105Z"
   },
   {
    "duration": 20442,
    "start_time": "2023-06-21T10:25:03.220Z"
   },
   {
    "duration": 39,
    "start_time": "2023-06-21T10:25:29.801Z"
   },
   {
    "duration": 36650,
    "start_time": "2023-06-21T10:26:05.140Z"
   },
   {
    "duration": 81,
    "start_time": "2023-06-21T10:28:33.774Z"
   },
   {
    "duration": 1958,
    "start_time": "2023-06-21T10:28:51.211Z"
   },
   {
    "duration": 5,
    "start_time": "2023-06-21T10:28:53.171Z"
   },
   {
    "duration": 20700,
    "start_time": "2023-06-21T10:28:53.802Z"
   },
   {
    "duration": 20078,
    "start_time": "2023-06-21T10:29:14.510Z"
   },
   {
    "duration": 4865,
    "start_time": "2023-06-21T10:29:37.935Z"
   },
   {
    "duration": 5761,
    "start_time": "2023-06-21T10:29:47.110Z"
   },
   {
    "duration": 63,
    "start_time": "2023-06-21T10:30:16.209Z"
   },
   {
    "duration": 2063,
    "start_time": "2023-06-21T10:30:19.447Z"
   },
   {
    "duration": 99,
    "start_time": "2023-06-21T10:30:24.104Z"
   },
   {
    "duration": 17,
    "start_time": "2023-06-21T10:30:26.490Z"
   },
   {
    "duration": 19142,
    "start_time": "2023-06-21T10:30:30.694Z"
   },
   {
    "duration": 23410,
    "start_time": "2023-06-21T10:31:17.031Z"
   },
   {
    "duration": 6326,
    "start_time": "2023-06-21T10:31:48.817Z"
   },
   {
    "duration": 6325,
    "start_time": "2023-06-21T10:31:57.215Z"
   },
   {
    "duration": 102,
    "start_time": "2023-06-21T10:32:27.731Z"
   },
   {
    "duration": 16,
    "start_time": "2023-06-21T10:32:31.897Z"
   },
   {
    "duration": 2126,
    "start_time": "2023-06-21T10:33:26.957Z"
   },
   {
    "duration": 20806,
    "start_time": "2023-06-21T10:33:29.085Z"
   },
   {
    "duration": 20049,
    "start_time": "2023-06-21T10:34:24.636Z"
   },
   {
    "duration": 45,
    "start_time": "2023-06-21T10:35:00.434Z"
   },
   {
    "duration": 23676,
    "start_time": "2023-06-21T10:35:32.337Z"
   },
   {
    "duration": 5,
    "start_time": "2023-06-21T10:36:00.318Z"
   },
   {
    "duration": 59,
    "start_time": "2023-06-21T10:36:05.780Z"
   },
   {
    "duration": 2724,
    "start_time": "2023-06-21T10:36:34.576Z"
   },
   {
    "duration": 5,
    "start_time": "2023-06-21T10:36:40.827Z"
   },
   {
    "duration": 43,
    "start_time": "2023-06-21T10:36:47.427Z"
   },
   {
    "duration": 21,
    "start_time": "2023-06-21T10:37:45.502Z"
   },
   {
    "duration": 738,
    "start_time": "2023-06-21T10:38:04.736Z"
   },
   {
    "duration": 3958,
    "start_time": "2023-06-21T10:38:08.451Z"
   },
   {
    "duration": 27,
    "start_time": "2023-06-21T10:38:50.543Z"
   },
   {
    "duration": 2719,
    "start_time": "2023-06-21T10:41:41.547Z"
   },
   {
    "duration": 6,
    "start_time": "2023-06-21T10:41:52.780Z"
   },
   {
    "duration": 3114,
    "start_time": "2023-06-21T10:42:04.397Z"
   },
   {
    "duration": 9,
    "start_time": "2023-06-21T10:42:09.150Z"
   },
   {
    "duration": 1614,
    "start_time": "2023-06-21T10:42:43.615Z"
   },
   {
    "duration": 16112,
    "start_time": "2023-06-21T10:42:45.231Z"
   },
   {
    "duration": 1498,
    "start_time": "2023-06-21T10:43:21.504Z"
   },
   {
    "duration": 14843,
    "start_time": "2023-06-21T10:43:23.007Z"
   },
   {
    "duration": 15163,
    "start_time": "2023-06-21T10:43:37.852Z"
   },
   {
    "duration": 19839,
    "start_time": "2023-06-21T10:44:00.391Z"
   },
   {
    "duration": 11410,
    "start_time": "2023-06-21T10:44:22.079Z"
   },
   {
    "duration": 28,
    "start_time": "2023-06-21T10:44:47.402Z"
   },
   {
    "duration": 4,
    "start_time": "2023-06-21T10:45:01.350Z"
   },
   {
    "duration": 1525,
    "start_time": "2023-06-21T10:46:44.806Z"
   },
   {
    "duration": 614,
    "start_time": "2023-06-21T10:48:45.232Z"
   },
   {
    "duration": 37832,
    "start_time": "2023-06-21T10:48:55.091Z"
   },
   {
    "duration": 130,
    "start_time": "2023-06-21T10:52:02.944Z"
   },
   {
    "duration": 137,
    "start_time": "2023-06-21T10:52:31.508Z"
   },
   {
    "duration": 111,
    "start_time": "2023-06-21T10:52:48.603Z"
   },
   {
    "duration": 5,
    "start_time": "2023-06-21T10:54:26.890Z"
   },
   {
    "duration": 195,
    "start_time": "2023-06-21T10:54:28.816Z"
   },
   {
    "duration": 15836,
    "start_time": "2023-06-21T10:54:38.903Z"
   },
   {
    "duration": 731,
    "start_time": "2023-06-21T10:54:57.914Z"
   },
   {
    "duration": 20546,
    "start_time": "2023-06-21T10:55:22.103Z"
   },
   {
    "duration": 10,
    "start_time": "2023-06-21T10:56:35.324Z"
   },
   {
    "duration": 136499,
    "start_time": "2023-06-21T10:56:38.715Z"
   },
   {
    "duration": 43,
    "start_time": "2023-06-21T10:59:08.944Z"
   },
   {
    "duration": 11,
    "start_time": "2023-06-21T10:59:31.707Z"
   },
   {
    "duration": 2499,
    "start_time": "2023-06-21T10:59:37.505Z"
   },
   {
    "duration": 3,
    "start_time": "2023-06-21T10:59:40.011Z"
   },
   {
    "duration": 11,
    "start_time": "2023-06-21T10:59:53.301Z"
   },
   {
    "duration": 12,
    "start_time": "2023-06-21T11:00:06.630Z"
   },
   {
    "duration": 442,
    "start_time": "2023-06-21T11:00:13.402Z"
   },
   {
    "duration": 5,
    "start_time": "2023-06-21T11:00:26.118Z"
   },
   {
    "duration": 6,
    "start_time": "2023-06-21T11:00:30.303Z"
   },
   {
    "duration": 23,
    "start_time": "2023-06-21T11:00:33.940Z"
   },
   {
    "duration": 1401,
    "start_time": "2023-06-22T12:18:12.064Z"
   },
   {
    "duration": 112,
    "start_time": "2023-06-22T12:18:45.475Z"
   },
   {
    "duration": 147,
    "start_time": "2023-06-22T12:19:57.851Z"
   },
   {
    "duration": 5,
    "start_time": "2023-06-22T12:19:58.252Z"
   },
   {
    "duration": 24235,
    "start_time": "2023-06-22T12:20:02.621Z"
   },
   {
    "duration": 37,
    "start_time": "2023-06-22T12:20:33.209Z"
   },
   {
    "duration": 11013,
    "start_time": "2023-06-22T12:21:36.015Z"
   },
   {
    "duration": 3533,
    "start_time": "2023-06-22T12:22:18.431Z"
   },
   {
    "duration": 22,
    "start_time": "2023-06-22T12:22:37.066Z"
   },
   {
    "duration": 3519,
    "start_time": "2023-06-22T12:22:43.635Z"
   },
   {
    "duration": 1349,
    "start_time": "2023-06-22T12:23:33.406Z"
   },
   {
    "duration": 23286,
    "start_time": "2023-06-22T12:23:34.757Z"
   },
   {
    "duration": 1393,
    "start_time": "2023-06-22T12:24:44.016Z"
   },
   {
    "duration": 22986,
    "start_time": "2023-06-22T12:24:46.736Z"
   },
   {
    "duration": 11663,
    "start_time": "2023-06-22T12:25:14.930Z"
   },
   {
    "duration": 3628,
    "start_time": "2023-06-22T12:25:29.050Z"
   },
   {
    "duration": 3688,
    "start_time": "2023-06-22T12:25:37.443Z"
   },
   {
    "duration": 4,
    "start_time": "2023-06-23T05:38:34.568Z"
   },
   {
    "duration": 65,
    "start_time": "2023-06-23T05:38:42.918Z"
   },
   {
    "duration": 2,
    "start_time": "2023-06-23T05:38:46.651Z"
   },
   {
    "duration": 3,
    "start_time": "2023-06-23T05:38:46.838Z"
   },
   {
    "duration": 8,
    "start_time": "2023-06-23T05:38:49.450Z"
   },
   {
    "duration": 8,
    "start_time": "2023-06-23T05:38:53.965Z"
   },
   {
    "duration": 5,
    "start_time": "2023-06-23T05:38:59.131Z"
   },
   {
    "duration": 10642,
    "start_time": "2023-06-23T05:39:01.715Z"
   },
   {
    "duration": 11633,
    "start_time": "2023-06-23T05:39:24.019Z"
   },
   {
    "duration": 45,
    "start_time": "2023-06-23T05:39:45.370Z"
   },
   {
    "duration": 1228,
    "start_time": "2023-06-23T05:40:25.393Z"
   },
   {
    "duration": 10358,
    "start_time": "2023-06-23T05:40:26.623Z"
   },
   {
    "duration": 9853,
    "start_time": "2023-06-23T05:40:40.589Z"
   },
   {
    "duration": 10660,
    "start_time": "2023-06-23T05:41:09.579Z"
   },
   {
    "duration": 6077,
    "start_time": "2023-06-23T05:41:20.240Z"
   },
   {
    "duration": 24,
    "start_time": "2023-06-23T05:41:26.319Z"
   },
   {
    "duration": 9858,
    "start_time": "2023-06-23T05:42:36.584Z"
   },
   {
    "duration": 30,
    "start_time": "2023-06-23T05:42:54.075Z"
   },
   {
    "duration": 253,
    "start_time": "2023-06-23T05:43:38.974Z"
   },
   {
    "duration": 1218,
    "start_time": "2023-06-23T05:43:59.291Z"
   },
   {
    "duration": 795,
    "start_time": "2023-06-23T05:44:11.042Z"
   },
   {
    "duration": 712,
    "start_time": "2023-06-23T05:44:28.214Z"
   },
   {
    "duration": 1176,
    "start_time": "2023-06-23T05:48:56.092Z"
   },
   {
    "duration": 11964,
    "start_time": "2023-06-23T05:48:58.369Z"
   },
   {
    "duration": 3,
    "start_time": "2023-06-23T05:49:13.519Z"
   },
   {
    "duration": 5,
    "start_time": "2023-06-23T05:49:13.928Z"
   },
   {
    "duration": 1679,
    "start_time": "2023-06-23T05:49:24.643Z"
   },
   {
    "duration": 29,
    "start_time": "2023-06-23T05:49:40.633Z"
   },
   {
    "duration": 103,
    "start_time": "2023-06-23T05:49:58.821Z"
   },
   {
    "duration": 37,
    "start_time": "2023-06-23T05:50:03.625Z"
   },
   {
    "duration": 631,
    "start_time": "2023-06-23T05:50:48.759Z"
   },
   {
    "duration": 35,
    "start_time": "2023-06-23T05:51:06.392Z"
   },
   {
    "duration": 1981,
    "start_time": "2023-06-28T06:44:55.210Z"
   },
   {
    "duration": 13879,
    "start_time": "2023-06-28T06:44:57.193Z"
   },
   {
    "duration": 2141,
    "start_time": "2023-06-28T06:45:11.074Z"
   },
   {
    "duration": 269,
    "start_time": "2023-06-28T06:45:13.218Z"
   },
   {
    "duration": 654,
    "start_time": "2023-06-28T06:45:13.489Z"
   },
   {
    "duration": 11011,
    "start_time": "2023-06-28T06:45:14.146Z"
   },
   {
    "duration": 400,
    "start_time": "2023-06-28T06:45:25.159Z"
   },
   {
    "duration": 1991,
    "start_time": "2023-06-28T06:45:25.567Z"
   },
   {
    "duration": 3496,
    "start_time": "2023-06-28T06:45:27.560Z"
   },
   {
    "duration": 4215,
    "start_time": "2023-06-28T06:45:31.060Z"
   },
   {
    "duration": 302,
    "start_time": "2023-06-28T06:45:35.277Z"
   },
   {
    "duration": 1180,
    "start_time": "2023-06-28T06:45:35.580Z"
   },
   {
    "duration": 150,
    "start_time": "2023-06-28T06:45:36.768Z"
   },
   {
    "duration": 152,
    "start_time": "2023-06-28T06:45:36.920Z"
   },
   {
    "duration": 0,
    "start_time": "2023-06-28T06:45:37.075Z"
   },
   {
    "duration": 0,
    "start_time": "2023-06-28T06:45:37.077Z"
   },
   {
    "duration": 0,
    "start_time": "2023-06-28T06:45:37.079Z"
   },
   {
    "duration": 0,
    "start_time": "2023-06-28T06:45:37.080Z"
   },
   {
    "duration": 0,
    "start_time": "2023-06-28T06:45:37.080Z"
   },
   {
    "duration": 0,
    "start_time": "2023-06-28T06:45:37.082Z"
   },
   {
    "duration": 0,
    "start_time": "2023-06-28T06:45:37.083Z"
   },
   {
    "duration": 0,
    "start_time": "2023-06-28T06:45:37.084Z"
   },
   {
    "duration": 0,
    "start_time": "2023-06-28T06:45:37.085Z"
   },
   {
    "duration": 0,
    "start_time": "2023-06-28T06:45:37.086Z"
   },
   {
    "duration": 0,
    "start_time": "2023-06-28T06:45:37.087Z"
   },
   {
    "duration": 0,
    "start_time": "2023-06-28T06:45:37.088Z"
   },
   {
    "duration": 0,
    "start_time": "2023-06-28T06:45:37.089Z"
   },
   {
    "duration": 0,
    "start_time": "2023-06-28T06:45:37.089Z"
   },
   {
    "duration": 0,
    "start_time": "2023-06-28T06:45:37.091Z"
   },
   {
    "duration": 0,
    "start_time": "2023-06-28T06:45:37.092Z"
   },
   {
    "duration": 0,
    "start_time": "2023-06-28T06:45:37.093Z"
   },
   {
    "duration": 0,
    "start_time": "2023-06-28T06:45:37.094Z"
   },
   {
    "duration": 0,
    "start_time": "2023-06-28T06:45:37.095Z"
   },
   {
    "duration": 0,
    "start_time": "2023-06-28T06:45:37.096Z"
   },
   {
    "duration": 0,
    "start_time": "2023-06-28T06:45:37.097Z"
   },
   {
    "duration": 0,
    "start_time": "2023-06-28T06:45:37.098Z"
   },
   {
    "duration": 0,
    "start_time": "2023-06-28T06:45:37.100Z"
   },
   {
    "duration": 0,
    "start_time": "2023-06-28T06:45:37.101Z"
   },
   {
    "duration": 0,
    "start_time": "2023-06-28T06:45:37.102Z"
   },
   {
    "duration": 0,
    "start_time": "2023-06-28T06:45:37.103Z"
   },
   {
    "duration": 0,
    "start_time": "2023-06-28T06:45:37.105Z"
   },
   {
    "duration": 0,
    "start_time": "2023-06-28T06:45:37.106Z"
   },
   {
    "duration": 0,
    "start_time": "2023-06-28T06:45:37.107Z"
   },
   {
    "duration": 1745,
    "start_time": "2023-06-28T10:25:10.830Z"
   },
   {
    "duration": 12612,
    "start_time": "2023-06-28T10:25:13.845Z"
   },
   {
    "duration": 4,
    "start_time": "2023-06-28T10:25:52.471Z"
   },
   {
    "duration": 260,
    "start_time": "2023-06-28T10:26:34.588Z"
   },
   {
    "duration": 134,
    "start_time": "2023-06-28T10:26:37.245Z"
   },
   {
    "duration": 96,
    "start_time": "2023-06-28T10:28:50.492Z"
   },
   {
    "duration": 152,
    "start_time": "2023-06-28T10:29:23.688Z"
   },
   {
    "duration": 12,
    "start_time": "2023-06-28T10:29:25.757Z"
   },
   {
    "duration": 27,
    "start_time": "2023-06-28T10:39:59.358Z"
   },
   {
    "duration": 231,
    "start_time": "2023-06-28T10:40:06.517Z"
   },
   {
    "duration": 157,
    "start_time": "2023-06-28T10:40:37.090Z"
   },
   {
    "duration": 10,
    "start_time": "2023-06-28T10:40:37.471Z"
   },
   {
    "duration": 634,
    "start_time": "2023-06-28T10:41:24.176Z"
   },
   {
    "duration": 21,
    "start_time": "2023-06-28T10:42:24.791Z"
   },
   {
    "duration": 123,
    "start_time": "2023-06-28T10:42:48.308Z"
   },
   {
    "duration": 160,
    "start_time": "2023-06-28T10:44:19.313Z"
   },
   {
    "duration": 6,
    "start_time": "2023-06-28T10:44:19.681Z"
   },
   {
    "duration": 5,
    "start_time": "2023-06-28T10:44:28.273Z"
   },
   {
    "duration": 12,
    "start_time": "2023-06-28T10:44:30.571Z"
   },
   {
    "duration": 156,
    "start_time": "2023-06-28T10:44:39.987Z"
   },
   {
    "duration": 10,
    "start_time": "2023-06-28T10:44:42.138Z"
   },
   {
    "duration": 7,
    "start_time": "2023-06-28T10:44:55.779Z"
   },
   {
    "duration": 656,
    "start_time": "2023-06-28T10:45:03.373Z"
   },
   {
    "duration": 4,
    "start_time": "2023-06-28T10:45:06.949Z"
   },
   {
    "duration": 15,
    "start_time": "2023-06-28T10:45:09.139Z"
   },
   {
    "duration": 5,
    "start_time": "2023-06-28T10:45:16.098Z"
   },
   {
    "duration": 8,
    "start_time": "2023-06-28T10:45:18.291Z"
   },
   {
    "duration": 4,
    "start_time": "2023-06-28T10:46:37.876Z"
   },
   {
    "duration": 18,
    "start_time": "2023-06-28T10:46:39.852Z"
   },
   {
    "duration": 115,
    "start_time": "2023-06-28T10:46:56.994Z"
   },
   {
    "duration": 4,
    "start_time": "2023-06-28T10:47:00.569Z"
   },
   {
    "duration": 15,
    "start_time": "2023-06-28T10:47:02.373Z"
   },
   {
    "duration": 193,
    "start_time": "2023-06-28T10:48:37.860Z"
   },
   {
    "duration": 124,
    "start_time": "2023-06-28T10:48:45.284Z"
   },
   {
    "duration": 124,
    "start_time": "2023-06-28T10:49:06.151Z"
   },
   {
    "duration": 140,
    "start_time": "2023-06-28T10:49:19.004Z"
   },
   {
    "duration": 10,
    "start_time": "2023-06-28T10:50:04.539Z"
   },
   {
    "duration": 165,
    "start_time": "2023-06-28T10:50:45.045Z"
   },
   {
    "duration": 128,
    "start_time": "2023-06-28T10:50:57.393Z"
   },
   {
    "duration": 10,
    "start_time": "2023-06-28T10:51:20.795Z"
   },
   {
    "duration": 183,
    "start_time": "2023-06-28T10:51:25.993Z"
   },
   {
    "duration": 157,
    "start_time": "2023-06-28T10:51:44.243Z"
   },
   {
    "duration": 182,
    "start_time": "2023-06-28T10:51:55.936Z"
   },
   {
    "duration": 308,
    "start_time": "2023-06-28T10:52:31.930Z"
   },
   {
    "duration": 358,
    "start_time": "2023-06-28T10:52:38.634Z"
   },
   {
    "duration": 226,
    "start_time": "2023-06-28T10:52:50.896Z"
   },
   {
    "duration": 251,
    "start_time": "2023-06-28T10:53:34.720Z"
   },
   {
    "duration": 231,
    "start_time": "2023-06-28T10:55:09.871Z"
   },
   {
    "duration": 227,
    "start_time": "2023-06-28T10:55:16.870Z"
   },
   {
    "duration": 232,
    "start_time": "2023-06-28T10:55:35.174Z"
   },
   {
    "duration": 245,
    "start_time": "2023-06-28T10:55:43.344Z"
   },
   {
    "duration": 238,
    "start_time": "2023-06-28T10:55:46.955Z"
   },
   {
    "duration": 258,
    "start_time": "2023-06-28T10:56:17.240Z"
   },
   {
    "duration": 163,
    "start_time": "2023-06-28T10:56:39.839Z"
   },
   {
    "duration": 13,
    "start_time": "2023-06-28T11:04:47.518Z"
   },
   {
    "duration": 48,
    "start_time": "2023-06-28T11:09:10.785Z"
   },
   {
    "duration": 1825,
    "start_time": "2023-06-28T11:09:13.696Z"
   },
   {
    "duration": 16846,
    "start_time": "2023-06-28T11:09:17.874Z"
   },
   {
    "duration": 13520,
    "start_time": "2023-06-28T11:12:55.828Z"
   },
   {
    "duration": 14,
    "start_time": "2023-06-28T11:13:13.436Z"
   },
   {
    "duration": 302,
    "start_time": "2023-06-28T11:15:28.745Z"
   },
   {
    "duration": 11,
    "start_time": "2023-06-28T11:16:00.311Z"
   },
   {
    "duration": 8657,
    "start_time": "2023-06-28T11:18:52.524Z"
   },
   {
    "duration": 14,
    "start_time": "2023-06-28T11:19:05.575Z"
   },
   {
    "duration": 350,
    "start_time": "2023-06-28T11:19:50.150Z"
   },
   {
    "duration": 2639,
    "start_time": "2023-06-28T11:20:00.943Z"
   },
   {
    "duration": 12,
    "start_time": "2023-06-28T11:20:06.316Z"
   },
   {
    "duration": 1781,
    "start_time": "2023-06-28T11:20:24.780Z"
   },
   {
    "duration": 13,
    "start_time": "2023-06-28T11:20:26.567Z"
   },
   {
    "duration": 361,
    "start_time": "2023-06-28T11:20:38.969Z"
   },
   {
    "duration": 338,
    "start_time": "2023-06-28T11:21:59.702Z"
   },
   {
    "duration": 379,
    "start_time": "2023-06-28T11:22:09.638Z"
   },
   {
    "duration": 384,
    "start_time": "2023-06-28T11:22:19.934Z"
   },
   {
    "duration": 210,
    "start_time": "2023-06-28T11:23:41.430Z"
   },
   {
    "duration": 217,
    "start_time": "2023-06-28T11:23:45.685Z"
   },
   {
    "duration": 7,
    "start_time": "2023-06-28T11:23:54.536Z"
   },
   {
    "duration": 17,
    "start_time": "2023-06-28T11:23:58.112Z"
   },
   {
    "duration": 662,
    "start_time": "2023-06-28T11:24:17.510Z"
   },
   {
    "duration": 197,
    "start_time": "2023-06-28T11:24:20.281Z"
   },
   {
    "duration": 214,
    "start_time": "2023-06-28T11:24:31.311Z"
   },
   {
    "duration": 379,
    "start_time": "2023-06-28T11:25:36.381Z"
   },
   {
    "duration": 392,
    "start_time": "2023-06-28T11:26:09.646Z"
   },
   {
    "duration": 229,
    "start_time": "2023-06-28T11:26:14.312Z"
   },
   {
    "duration": 12082,
    "start_time": "2023-06-28T11:32:30.966Z"
   },
   {
    "duration": 12864,
    "start_time": "2023-06-28T11:32:48.128Z"
   },
   {
    "duration": 10,
    "start_time": "2023-06-28T11:33:00.995Z"
   },
   {
    "duration": 17,
    "start_time": "2023-06-28T11:33:38.665Z"
   },
   {
    "duration": 19,
    "start_time": "2023-06-28T11:33:43.866Z"
   },
   {
    "duration": 11,
    "start_time": "2023-06-28T11:33:48.635Z"
   },
   {
    "duration": 5,
    "start_time": "2023-06-28T11:33:51.449Z"
   },
   {
    "duration": 10,
    "start_time": "2023-06-28T11:34:06.182Z"
   },
   {
    "duration": 352,
    "start_time": "2023-06-28T11:34:20.018Z"
   },
   {
    "duration": 11,
    "start_time": "2023-06-28T11:35:05.154Z"
   },
   {
    "duration": 1399,
    "start_time": "2023-06-28T11:35:15.345Z"
   },
   {
    "duration": 17,
    "start_time": "2023-06-28T11:35:28.862Z"
   },
   {
    "duration": 1866,
    "start_time": "2023-06-28T11:35:45.130Z"
   },
   {
    "duration": 12,
    "start_time": "2023-06-28T11:35:48.508Z"
   },
   {
    "duration": 192,
    "start_time": "2023-06-28T11:36:16.240Z"
   },
   {
    "duration": 300,
    "start_time": "2023-06-28T11:36:28.107Z"
   },
   {
    "duration": 10547,
    "start_time": "2023-06-28T11:36:43.638Z"
   },
   {
    "duration": 1458,
    "start_time": "2023-06-28T11:36:54.187Z"
   },
   {
    "duration": 17,
    "start_time": "2023-06-28T11:37:11.153Z"
   },
   {
    "duration": 1353,
    "start_time": "2023-06-28T11:37:32.762Z"
   },
   {
    "duration": 13,
    "start_time": "2023-06-28T11:37:37.307Z"
   },
   {
    "duration": 467,
    "start_time": "2023-06-28T11:38:25.412Z"
   },
   {
    "duration": 397,
    "start_time": "2023-06-28T11:38:32.405Z"
   },
   {
    "duration": 2233,
    "start_time": "2023-06-28T11:38:41.443Z"
   },
   {
    "duration": 2353,
    "start_time": "2023-06-28T11:38:51.601Z"
   },
   {
    "duration": 6,
    "start_time": "2023-06-28T11:44:08.460Z"
   },
   {
    "duration": 14943,
    "start_time": "2023-06-28T11:45:30.683Z"
   },
   {
    "duration": 5,
    "start_time": "2023-06-28T11:45:48.229Z"
   },
   {
    "duration": 331,
    "start_time": "2023-06-28T11:45:50.152Z"
   },
   {
    "duration": 208,
    "start_time": "2023-06-28T11:47:28.967Z"
   },
   {
    "duration": 388,
    "start_time": "2023-06-28T11:47:32.809Z"
   },
   {
    "duration": 263,
    "start_time": "2023-06-28T11:47:33.420Z"
   },
   {
    "duration": 14920,
    "start_time": "2023-06-28T11:47:47.418Z"
   },
   {
    "duration": 7,
    "start_time": "2023-06-28T11:48:07.015Z"
   },
   {
    "duration": 372,
    "start_time": "2023-06-28T11:48:09.819Z"
   },
   {
    "duration": 411,
    "start_time": "2023-06-28T11:48:11.763Z"
   },
   {
    "duration": 285,
    "start_time": "2023-06-28T11:48:14.118Z"
   },
   {
    "duration": 117,
    "start_time": "2023-06-28T11:48:32.175Z"
   },
   {
    "duration": 372,
    "start_time": "2023-06-28T11:48:41.366Z"
   },
   {
    "duration": 176,
    "start_time": "2023-06-28T11:50:40.024Z"
   },
   {
    "duration": 2489,
    "start_time": "2023-06-28T11:51:04.655Z"
   },
   {
    "duration": 61,
    "start_time": "2023-06-28T11:54:23.078Z"
   },
   {
    "duration": 2004,
    "start_time": "2023-06-28T11:54:28.110Z"
   },
   {
    "duration": 19611,
    "start_time": "2023-06-28T11:54:30.116Z"
   },
   {
    "duration": 15873,
    "start_time": "2023-06-28T11:54:49.730Z"
   },
   {
    "duration": 6,
    "start_time": "2023-06-28T11:55:16.419Z"
   },
   {
    "duration": 387,
    "start_time": "2023-06-28T11:55:20.511Z"
   },
   {
    "duration": 439,
    "start_time": "2023-06-28T11:55:23.721Z"
   },
   {
    "duration": 2694,
    "start_time": "2023-07-06T02:53:15.165Z"
   },
   {
    "duration": 23445,
    "start_time": "2023-07-06T02:53:17.861Z"
   },
   {
    "duration": 3424,
    "start_time": "2023-07-06T02:53:41.308Z"
   },
   {
    "duration": 1514,
    "start_time": "2023-07-06T02:53:44.734Z"
   },
   {
    "duration": 10575,
    "start_time": "2023-07-06T02:53:46.249Z"
   },
   {
    "duration": 2144,
    "start_time": "2023-07-06T02:53:56.826Z"
   },
   {
    "duration": 3216,
    "start_time": "2023-07-06T02:53:58.972Z"
   },
   {
    "duration": 1059,
    "start_time": "2023-07-06T02:54:02.190Z"
   },
   {
    "duration": 180,
    "start_time": "2023-07-06T02:54:03.250Z"
   },
   {
    "duration": 9,
    "start_time": "2023-07-06T02:54:03.432Z"
   },
   {
    "duration": 139,
    "start_time": "2023-07-06T02:54:03.442Z"
   },
   {
    "duration": 178,
    "start_time": "2023-07-06T02:54:03.583Z"
   },
   {
    "duration": 134,
    "start_time": "2023-07-06T02:54:03.762Z"
   },
   {
    "duration": 12233,
    "start_time": "2023-07-06T02:54:03.898Z"
   },
   {
    "duration": 3191,
    "start_time": "2023-07-06T02:54:16.134Z"
   },
   {
    "duration": 12287,
    "start_time": "2023-07-06T02:54:19.327Z"
   },
   {
    "duration": 3291,
    "start_time": "2023-07-06T02:54:31.615Z"
   },
   {
    "duration": 10568,
    "start_time": "2023-07-06T02:54:34.908Z"
   },
   {
    "duration": 4,
    "start_time": "2023-07-06T02:54:45.478Z"
   },
   {
    "duration": 273,
    "start_time": "2023-07-06T02:54:45.484Z"
   },
   {
    "duration": 16,
    "start_time": "2023-07-06T02:54:45.759Z"
   },
   {
    "duration": 590,
    "start_time": "2023-07-06T02:54:45.776Z"
   },
   {
    "duration": 141,
    "start_time": "2023-07-06T02:54:46.368Z"
   },
   {
    "duration": 180,
    "start_time": "2023-07-06T02:54:46.511Z"
   },
   {
    "duration": 142,
    "start_time": "2023-07-06T02:54:46.693Z"
   },
   {
    "duration": 94,
    "start_time": "2023-07-06T02:54:46.838Z"
   },
   {
    "duration": 347,
    "start_time": "2023-07-06T02:54:46.935Z"
   },
   {
    "duration": 288,
    "start_time": "2023-07-06T02:54:47.285Z"
   },
   {
    "duration": 5,
    "start_time": "2023-07-06T02:54:47.575Z"
   },
   {
    "duration": 45442,
    "start_time": "2023-07-06T02:54:47.581Z"
   },
   {
    "duration": 26855,
    "start_time": "2023-07-06T02:55:33.025Z"
   },
   {
    "duration": 26925,
    "start_time": "2023-07-06T02:55:59.882Z"
   },
   {
    "duration": 9,
    "start_time": "2023-07-06T02:56:26.808Z"
   },
   {
    "duration": 10,
    "start_time": "2023-07-06T02:56:26.818Z"
   },
   {
    "duration": 23,
    "start_time": "2023-07-06T02:56:26.829Z"
   },
   {
    "duration": 11,
    "start_time": "2023-07-06T02:56:26.853Z"
   },
   {
    "duration": 7503,
    "start_time": "2023-07-06T02:56:26.865Z"
   },
   {
    "duration": 327,
    "start_time": "2023-07-06T02:56:34.369Z"
   },
   {
    "duration": 35,
    "start_time": "2023-07-06T02:56:34.698Z"
   },
   {
    "duration": 22,
    "start_time": "2023-07-06T02:56:34.734Z"
   },
   {
    "duration": 129,
    "start_time": "2023-07-06T02:56:34.758Z"
   },
   {
    "duration": 0,
    "start_time": "2023-07-06T02:56:34.888Z"
   },
   {
    "duration": 0,
    "start_time": "2023-07-06T02:56:34.889Z"
   },
   {
    "duration": 2095,
    "start_time": "2023-07-07T03:55:27.070Z"
   },
   {
    "duration": 15910,
    "start_time": "2023-07-07T03:55:29.168Z"
   },
   {
    "duration": 3,
    "start_time": "2023-07-07T03:55:45.079Z"
   },
   {
    "duration": 1834,
    "start_time": "2023-07-07T03:55:45.084Z"
   },
   {
    "duration": 627,
    "start_time": "2023-07-07T03:55:46.932Z"
   },
   {
    "duration": 13287,
    "start_time": "2023-07-07T03:55:47.561Z"
   },
   {
    "duration": 2184,
    "start_time": "2023-07-07T03:56:00.850Z"
   },
   {
    "duration": 3295,
    "start_time": "2023-07-07T03:56:03.042Z"
   },
   {
    "duration": 954,
    "start_time": "2023-07-07T03:56:06.342Z"
   },
   {
    "duration": 242,
    "start_time": "2023-07-07T03:56:07.299Z"
   },
   {
    "duration": 16,
    "start_time": "2023-07-07T03:56:07.542Z"
   },
   {
    "duration": 174,
    "start_time": "2023-07-07T03:56:07.559Z"
   },
   {
    "duration": 240,
    "start_time": "2023-07-07T03:56:07.735Z"
   },
   {
    "duration": 178,
    "start_time": "2023-07-07T03:56:07.977Z"
   },
   {
    "duration": 12770,
    "start_time": "2023-07-07T03:56:08.157Z"
   },
   {
    "duration": 3587,
    "start_time": "2023-07-07T03:56:20.934Z"
   },
   {
    "duration": 13120,
    "start_time": "2023-07-07T03:56:24.522Z"
   },
   {
    "duration": 3797,
    "start_time": "2023-07-07T03:56:37.647Z"
   },
   {
    "duration": 12807,
    "start_time": "2023-07-07T03:56:41.446Z"
   },
   {
    "duration": 5,
    "start_time": "2023-07-07T03:56:54.255Z"
   },
   {
    "duration": 259,
    "start_time": "2023-07-07T03:56:54.262Z"
   },
   {
    "duration": 31,
    "start_time": "2023-07-07T03:56:54.522Z"
   },
   {
    "duration": 546,
    "start_time": "2023-07-07T03:56:54.555Z"
   },
   {
    "duration": 154,
    "start_time": "2023-07-07T03:56:55.103Z"
   },
   {
    "duration": 187,
    "start_time": "2023-07-07T03:56:55.258Z"
   },
   {
    "duration": 13,
    "start_time": "2023-07-07T03:56:55.448Z"
   },
   {
    "duration": 167,
    "start_time": "2023-07-07T03:56:55.463Z"
   },
   {
    "duration": 153,
    "start_time": "2023-07-07T03:56:55.638Z"
   },
   {
    "duration": 157,
    "start_time": "2023-07-07T03:56:55.792Z"
   },
   {
    "duration": 95,
    "start_time": "2023-07-07T03:56:55.951Z"
   },
   {
    "duration": 279,
    "start_time": "2023-07-07T03:56:56.048Z"
   },
   {
    "duration": 231,
    "start_time": "2023-07-07T03:56:56.329Z"
   },
   {
    "duration": 5,
    "start_time": "2023-07-07T03:56:56.562Z"
   },
   {
    "duration": 20,
    "start_time": "2023-07-07T03:56:56.568Z"
   },
   {
    "duration": 57503,
    "start_time": "2023-07-07T03:56:56.589Z"
   },
   {
    "duration": 1775,
    "start_time": "2023-07-07T04:12:50.827Z"
   },
   {
    "duration": 10831,
    "start_time": "2023-07-07T04:12:52.604Z"
   },
   {
    "duration": 3,
    "start_time": "2023-07-07T04:13:03.437Z"
   },
   {
    "duration": 1921,
    "start_time": "2023-07-07T04:13:03.442Z"
   },
   {
    "duration": 695,
    "start_time": "2023-07-07T04:13:05.365Z"
   },
   {
    "duration": 10022,
    "start_time": "2023-07-07T04:13:06.062Z"
   },
   {
    "duration": 2356,
    "start_time": "2023-07-07T04:13:16.085Z"
   },
   {
    "duration": 3224,
    "start_time": "2023-07-07T04:13:18.443Z"
   },
   {
    "duration": 1064,
    "start_time": "2023-07-07T04:13:21.670Z"
   },
   {
    "duration": 237,
    "start_time": "2023-07-07T04:13:22.736Z"
   },
   {
    "duration": 9,
    "start_time": "2023-07-07T04:13:22.975Z"
   },
   {
    "duration": 150,
    "start_time": "2023-07-07T04:13:22.985Z"
   },
   {
    "duration": 242,
    "start_time": "2023-07-07T04:13:23.137Z"
   },
   {
    "duration": 154,
    "start_time": "2023-07-07T04:13:23.380Z"
   },
   {
    "duration": 12256,
    "start_time": "2023-07-07T04:13:23.536Z"
   },
   {
    "duration": 2925,
    "start_time": "2023-07-07T04:13:35.794Z"
   },
   {
    "duration": 11317,
    "start_time": "2023-07-07T04:13:38.721Z"
   },
   {
    "duration": 3008,
    "start_time": "2023-07-07T04:13:50.040Z"
   },
   {
    "duration": 11829,
    "start_time": "2023-07-07T04:13:53.049Z"
   },
   {
    "duration": 6,
    "start_time": "2023-07-07T04:14:04.880Z"
   },
   {
    "duration": 251,
    "start_time": "2023-07-07T04:14:04.887Z"
   },
   {
    "duration": 17,
    "start_time": "2023-07-07T04:14:05.140Z"
   },
   {
    "duration": 597,
    "start_time": "2023-07-07T04:14:05.159Z"
   },
   {
    "duration": 149,
    "start_time": "2023-07-07T04:14:05.758Z"
   },
   {
    "duration": 136,
    "start_time": "2023-07-07T04:14:05.909Z"
   },
   {
    "duration": 9,
    "start_time": "2023-07-07T04:14:06.047Z"
   },
   {
    "duration": 185,
    "start_time": "2023-07-07T04:14:06.058Z"
   },
   {
    "duration": 187,
    "start_time": "2023-07-07T04:14:06.248Z"
   },
   {
    "duration": 139,
    "start_time": "2023-07-07T04:14:06.437Z"
   },
   {
    "duration": 82,
    "start_time": "2023-07-07T04:14:06.577Z"
   },
   {
    "duration": 331,
    "start_time": "2023-07-07T04:14:06.660Z"
   },
   {
    "duration": 266,
    "start_time": "2023-07-07T04:14:06.993Z"
   },
   {
    "duration": 5,
    "start_time": "2023-07-07T04:14:07.261Z"
   },
   {
    "duration": 7,
    "start_time": "2023-07-07T04:14:07.274Z"
   },
   {
    "duration": 44243,
    "start_time": "2023-07-07T04:14:07.282Z"
   },
   {
    "duration": 18667,
    "start_time": "2023-07-07T04:14:51.526Z"
   },
   {
    "duration": 30398,
    "start_time": "2023-07-07T04:15:10.194Z"
   },
   {
    "duration": 5,
    "start_time": "2023-07-07T04:15:40.593Z"
   },
   {
    "duration": 9,
    "start_time": "2023-07-07T04:15:40.600Z"
   },
   {
    "duration": 10,
    "start_time": "2023-07-07T04:15:40.611Z"
   },
   {
    "duration": 17,
    "start_time": "2023-07-07T04:15:40.622Z"
   },
   {
    "duration": 4,
    "start_time": "2023-07-07T04:15:40.641Z"
   },
   {
    "duration": 8476,
    "start_time": "2023-07-07T04:15:40.647Z"
   },
   {
    "duration": 363,
    "start_time": "2023-07-07T04:15:49.125Z"
   },
   {
    "duration": 23,
    "start_time": "2023-07-07T04:15:49.490Z"
   },
   {
    "duration": 22,
    "start_time": "2023-07-07T04:15:49.515Z"
   },
   {
    "duration": 147,
    "start_time": "2023-07-07T04:15:49.539Z"
   },
   {
    "duration": 0,
    "start_time": "2023-07-07T04:15:49.687Z"
   },
   {
    "duration": 0,
    "start_time": "2023-07-07T04:15:49.688Z"
   },
   {
    "duration": 1908,
    "start_time": "2023-07-07T04:40:01.746Z"
   },
   {
    "duration": 27211,
    "start_time": "2023-07-07T04:40:03.656Z"
   },
   {
    "duration": 3,
    "start_time": "2023-07-07T04:40:30.868Z"
   },
   {
    "duration": 1992,
    "start_time": "2023-07-07T04:40:30.873Z"
   },
   {
    "duration": 709,
    "start_time": "2023-07-07T04:40:32.867Z"
   },
   {
    "duration": 9922,
    "start_time": "2023-07-07T04:40:33.577Z"
   },
   {
    "duration": 2122,
    "start_time": "2023-07-07T04:40:43.500Z"
   },
   {
    "duration": 3239,
    "start_time": "2023-07-07T04:40:45.624Z"
   },
   {
    "duration": 1046,
    "start_time": "2023-07-07T04:40:48.865Z"
   },
   {
    "duration": 236,
    "start_time": "2023-07-07T04:40:49.913Z"
   },
   {
    "duration": 8,
    "start_time": "2023-07-07T04:40:50.151Z"
   },
   {
    "duration": 157,
    "start_time": "2023-07-07T04:40:50.160Z"
   },
   {
    "duration": 234,
    "start_time": "2023-07-07T04:40:50.318Z"
   },
   {
    "duration": 136,
    "start_time": "2023-07-07T04:40:50.553Z"
   },
   {
    "duration": 12165,
    "start_time": "2023-07-07T04:40:50.691Z"
   },
   {
    "duration": 2824,
    "start_time": "2023-07-07T04:41:02.857Z"
   },
   {
    "duration": 10683,
    "start_time": "2023-07-07T04:41:05.682Z"
   },
   {
    "duration": 2953,
    "start_time": "2023-07-07T04:41:16.367Z"
   },
   {
    "duration": 11996,
    "start_time": "2023-07-07T04:41:19.322Z"
   },
   {
    "duration": 6,
    "start_time": "2023-07-07T04:41:31.320Z"
   },
   {
    "duration": 413,
    "start_time": "2023-07-07T04:41:31.328Z"
   },
   {
    "duration": 18,
    "start_time": "2023-07-07T04:41:31.743Z"
   },
   {
    "duration": 535,
    "start_time": "2023-07-07T04:41:31.775Z"
   },
   {
    "duration": 153,
    "start_time": "2023-07-07T04:41:32.313Z"
   },
   {
    "duration": 139,
    "start_time": "2023-07-07T04:41:32.467Z"
   },
   {
    "duration": 9,
    "start_time": "2023-07-07T04:41:32.608Z"
   },
   {
    "duration": 157,
    "start_time": "2023-07-07T04:41:32.619Z"
   },
   {
    "duration": 137,
    "start_time": "2023-07-07T04:41:32.780Z"
   },
   {
    "duration": 124,
    "start_time": "2023-07-07T04:41:32.919Z"
   },
   {
    "duration": 83,
    "start_time": "2023-07-07T04:41:33.045Z"
   },
   {
    "duration": 339,
    "start_time": "2023-07-07T04:41:33.131Z"
   },
   {
    "duration": 277,
    "start_time": "2023-07-07T04:41:33.472Z"
   },
   {
    "duration": 6,
    "start_time": "2023-07-07T04:41:33.751Z"
   },
   {
    "duration": 17,
    "start_time": "2023-07-07T04:41:33.759Z"
   },
   {
    "duration": 43256,
    "start_time": "2023-07-07T04:41:33.777Z"
   },
   {
    "duration": 17179,
    "start_time": "2023-07-07T04:42:17.035Z"
   },
   {
    "duration": 28683,
    "start_time": "2023-07-07T04:42:34.216Z"
   },
   {
    "duration": 4,
    "start_time": "2023-07-07T04:43:02.901Z"
   },
   {
    "duration": 9,
    "start_time": "2023-07-07T04:43:02.907Z"
   },
   {
    "duration": 12,
    "start_time": "2023-07-07T04:43:02.917Z"
   },
   {
    "duration": 19,
    "start_time": "2023-07-07T04:43:02.930Z"
   },
   {
    "duration": 9,
    "start_time": "2023-07-07T04:43:02.951Z"
   },
   {
    "duration": 8193,
    "start_time": "2023-07-07T04:43:02.962Z"
   },
   {
    "duration": 301,
    "start_time": "2023-07-07T04:43:11.156Z"
   },
   {
    "duration": 30,
    "start_time": "2023-07-07T04:43:11.459Z"
   },
   {
    "duration": 23,
    "start_time": "2023-07-07T04:43:11.491Z"
   },
   {
    "duration": 156,
    "start_time": "2023-07-07T04:43:11.516Z"
   },
   {
    "duration": 0,
    "start_time": "2023-07-07T04:43:11.674Z"
   },
   {
    "duration": 0,
    "start_time": "2023-07-07T04:43:11.675Z"
   },
   {
    "duration": 8857,
    "start_time": "2023-07-07T04:48:33.843Z"
   },
   {
    "duration": 1347,
    "start_time": "2023-07-07T04:48:42.702Z"
   },
   {
    "duration": 19890,
    "start_time": "2023-07-07T04:48:44.051Z"
   },
   {
    "duration": 3,
    "start_time": "2023-07-07T04:49:03.943Z"
   },
   {
    "duration": 1890,
    "start_time": "2023-07-07T04:49:03.947Z"
   },
   {
    "duration": 730,
    "start_time": "2023-07-07T04:49:05.839Z"
   },
   {
    "duration": 9773,
    "start_time": "2023-07-07T04:49:06.570Z"
   },
   {
    "duration": 2190,
    "start_time": "2023-07-07T04:49:16.346Z"
   },
   {
    "duration": 3352,
    "start_time": "2023-07-07T04:49:18.538Z"
   },
   {
    "duration": 1058,
    "start_time": "2023-07-07T04:49:21.894Z"
   },
   {
    "duration": 237,
    "start_time": "2023-07-07T04:49:22.954Z"
   },
   {
    "duration": 9,
    "start_time": "2023-07-07T04:49:23.193Z"
   },
   {
    "duration": 142,
    "start_time": "2023-07-07T04:49:23.204Z"
   },
   {
    "duration": 233,
    "start_time": "2023-07-07T04:49:23.347Z"
   },
   {
    "duration": 145,
    "start_time": "2023-07-07T04:49:23.582Z"
   },
   {
    "duration": 11840,
    "start_time": "2023-07-07T04:49:23.728Z"
   },
   {
    "duration": 2791,
    "start_time": "2023-07-07T04:49:35.570Z"
   },
   {
    "duration": 10843,
    "start_time": "2023-07-07T04:49:38.363Z"
   },
   {
    "duration": 2937,
    "start_time": "2023-07-07T04:49:49.210Z"
   },
   {
    "duration": 11394,
    "start_time": "2023-07-07T04:49:52.149Z"
   },
   {
    "duration": 5,
    "start_time": "2023-07-07T04:50:03.545Z"
   },
   {
    "duration": 241,
    "start_time": "2023-07-07T04:50:03.551Z"
   },
   {
    "duration": 17,
    "start_time": "2023-07-07T04:50:03.793Z"
   },
   {
    "duration": 583,
    "start_time": "2023-07-07T04:50:03.812Z"
   },
   {
    "duration": 136,
    "start_time": "2023-07-07T04:50:04.397Z"
   },
   {
    "duration": 136,
    "start_time": "2023-07-07T04:50:04.534Z"
   },
   {
    "duration": 9,
    "start_time": "2023-07-07T04:50:04.674Z"
   },
   {
    "duration": 150,
    "start_time": "2023-07-07T04:50:04.686Z"
   },
   {
    "duration": 150,
    "start_time": "2023-07-07T04:50:04.838Z"
   },
   {
    "duration": 126,
    "start_time": "2023-07-07T04:50:04.989Z"
   },
   {
    "duration": 78,
    "start_time": "2023-07-07T04:50:05.117Z"
   },
   {
    "duration": 326,
    "start_time": "2023-07-07T04:50:05.197Z"
   },
   {
    "duration": 254,
    "start_time": "2023-07-07T04:50:05.525Z"
   },
   {
    "duration": 5,
    "start_time": "2023-07-07T04:50:05.781Z"
   },
   {
    "duration": 21,
    "start_time": "2023-07-07T04:50:05.787Z"
   },
   {
    "duration": 47199,
    "start_time": "2023-07-07T04:50:05.809Z"
   },
   {
    "duration": 19299,
    "start_time": "2023-07-07T04:50:53.010Z"
   },
   {
    "duration": 26312,
    "start_time": "2023-07-07T04:51:12.311Z"
   },
   {
    "duration": 5,
    "start_time": "2023-07-07T04:51:38.625Z"
   },
   {
    "duration": 23,
    "start_time": "2023-07-07T04:51:38.631Z"
   },
   {
    "duration": 9,
    "start_time": "2023-07-07T04:51:38.655Z"
   },
   {
    "duration": 6,
    "start_time": "2023-07-07T04:51:38.665Z"
   },
   {
    "duration": 7,
    "start_time": "2023-07-07T04:51:38.672Z"
   },
   {
    "duration": 8239,
    "start_time": "2023-07-07T04:51:38.681Z"
   },
   {
    "duration": 283,
    "start_time": "2023-07-07T04:51:46.922Z"
   },
   {
    "duration": 24,
    "start_time": "2023-07-07T04:51:47.207Z"
   },
   {
    "duration": 23,
    "start_time": "2023-07-07T04:51:47.233Z"
   },
   {
    "duration": 292,
    "start_time": "2023-07-07T04:51:47.257Z"
   },
   {
    "duration": 85,
    "start_time": "2023-07-07T04:51:47.551Z"
   },
   {
    "duration": 218,
    "start_time": "2023-07-07T04:51:47.638Z"
   },
   {
    "duration": 6459,
    "start_time": "2023-07-07T04:54:03.066Z"
   },
   {
    "duration": 1220,
    "start_time": "2023-07-07T04:54:09.528Z"
   },
   {
    "duration": 31029,
    "start_time": "2023-07-07T04:54:10.750Z"
   },
   {
    "duration": 2,
    "start_time": "2023-07-07T04:54:41.781Z"
   },
   {
    "duration": 1865,
    "start_time": "2023-07-07T04:54:41.785Z"
   },
   {
    "duration": 658,
    "start_time": "2023-07-07T04:54:43.652Z"
   },
   {
    "duration": 9679,
    "start_time": "2023-07-07T04:54:44.312Z"
   },
   {
    "duration": 2238,
    "start_time": "2023-07-07T04:54:53.993Z"
   },
   {
    "duration": 3410,
    "start_time": "2023-07-07T04:54:56.232Z"
   },
   {
    "duration": 1532,
    "start_time": "2023-07-07T04:54:59.644Z"
   },
   {
    "duration": 236,
    "start_time": "2023-07-07T04:55:01.178Z"
   },
   {
    "duration": 13,
    "start_time": "2023-07-07T04:55:01.416Z"
   },
   {
    "duration": 213,
    "start_time": "2023-07-07T04:55:01.431Z"
   },
   {
    "duration": 236,
    "start_time": "2023-07-07T04:55:01.646Z"
   },
   {
    "duration": 157,
    "start_time": "2023-07-07T04:55:01.884Z"
   },
   {
    "duration": 12133,
    "start_time": "2023-07-07T04:55:02.043Z"
   },
   {
    "duration": 2850,
    "start_time": "2023-07-07T04:55:14.177Z"
   },
   {
    "duration": 11055,
    "start_time": "2023-07-07T04:55:17.029Z"
   },
   {
    "duration": 3193,
    "start_time": "2023-07-07T04:55:28.085Z"
   },
   {
    "duration": 13217,
    "start_time": "2023-07-07T04:55:31.281Z"
   },
   {
    "duration": 5,
    "start_time": "2023-07-07T04:55:44.500Z"
   },
   {
    "duration": 242,
    "start_time": "2023-07-07T04:55:44.506Z"
   },
   {
    "duration": 18,
    "start_time": "2023-07-07T04:55:44.749Z"
   },
   {
    "duration": 546,
    "start_time": "2023-07-07T04:55:44.776Z"
   },
   {
    "duration": 145,
    "start_time": "2023-07-07T04:55:45.324Z"
   },
   {
    "duration": 144,
    "start_time": "2023-07-07T04:55:45.471Z"
   },
   {
    "duration": 8,
    "start_time": "2023-07-07T04:55:45.617Z"
   },
   {
    "duration": 186,
    "start_time": "2023-07-07T04:55:45.629Z"
   },
   {
    "duration": 143,
    "start_time": "2023-07-07T04:55:45.817Z"
   },
   {
    "duration": 132,
    "start_time": "2023-07-07T04:55:45.962Z"
   },
   {
    "duration": 85,
    "start_time": "2023-07-07T04:55:46.096Z"
   },
   {
    "duration": 370,
    "start_time": "2023-07-07T04:55:46.182Z"
   },
   {
    "duration": 272,
    "start_time": "2023-07-07T04:55:46.553Z"
   },
   {
    "duration": 5,
    "start_time": "2023-07-07T04:55:46.827Z"
   },
   {
    "duration": 13,
    "start_time": "2023-07-07T04:55:46.834Z"
   },
   {
    "duration": 41763,
    "start_time": "2023-07-07T04:55:46.849Z"
   },
   {
    "duration": 726625,
    "start_time": "2023-07-07T04:56:28.614Z"
   },
   {
    "duration": 0,
    "start_time": "2023-07-07T05:08:35.240Z"
   },
   {
    "duration": 0,
    "start_time": "2023-07-07T05:08:35.242Z"
   },
   {
    "duration": 0,
    "start_time": "2023-07-07T05:08:35.243Z"
   },
   {
    "duration": 0,
    "start_time": "2023-07-07T05:08:35.244Z"
   },
   {
    "duration": 0,
    "start_time": "2023-07-07T05:08:35.245Z"
   },
   {
    "duration": 0,
    "start_time": "2023-07-07T05:08:35.245Z"
   },
   {
    "duration": 0,
    "start_time": "2023-07-07T05:08:35.246Z"
   },
   {
    "duration": 0,
    "start_time": "2023-07-07T05:08:35.247Z"
   },
   {
    "duration": 0,
    "start_time": "2023-07-07T05:08:35.249Z"
   },
   {
    "duration": 0,
    "start_time": "2023-07-07T05:08:35.250Z"
   },
   {
    "duration": 0,
    "start_time": "2023-07-07T05:08:35.251Z"
   },
   {
    "duration": 0,
    "start_time": "2023-07-07T05:08:35.252Z"
   },
   {
    "duration": 0,
    "start_time": "2023-07-07T05:08:35.274Z"
   },
   {
    "duration": 9747,
    "start_time": "2023-07-07T12:36:48.890Z"
   },
   {
    "duration": 1683,
    "start_time": "2023-07-07T12:36:58.640Z"
   },
   {
    "duration": 8155,
    "start_time": "2023-07-07T12:37:00.325Z"
   },
   {
    "duration": 3,
    "start_time": "2023-07-07T12:37:08.482Z"
   },
   {
    "duration": 1821,
    "start_time": "2023-07-07T12:37:08.487Z"
   },
   {
    "duration": 741,
    "start_time": "2023-07-07T12:37:10.310Z"
   },
   {
    "duration": 10595,
    "start_time": "2023-07-07T12:37:11.056Z"
   },
   {
    "duration": 2336,
    "start_time": "2023-07-07T12:37:21.653Z"
   },
   {
    "duration": 3485,
    "start_time": "2023-07-07T12:37:23.991Z"
   },
   {
    "duration": 1128,
    "start_time": "2023-07-07T12:37:27.480Z"
   },
   {
    "duration": 1964,
    "start_time": "2023-07-07T12:37:28.610Z"
   },
   {
    "duration": 0,
    "start_time": "2023-07-07T12:37:30.578Z"
   },
   {
    "duration": 0,
    "start_time": "2023-07-07T12:37:30.580Z"
   },
   {
    "duration": 0,
    "start_time": "2023-07-07T12:37:30.581Z"
   },
   {
    "duration": 0,
    "start_time": "2023-07-07T12:37:30.582Z"
   },
   {
    "duration": 0,
    "start_time": "2023-07-07T12:37:30.584Z"
   },
   {
    "duration": 0,
    "start_time": "2023-07-07T12:37:30.585Z"
   },
   {
    "duration": 0,
    "start_time": "2023-07-07T12:37:30.586Z"
   },
   {
    "duration": 0,
    "start_time": "2023-07-07T12:37:30.587Z"
   },
   {
    "duration": 0,
    "start_time": "2023-07-07T12:37:30.588Z"
   },
   {
    "duration": 0,
    "start_time": "2023-07-07T12:37:30.589Z"
   },
   {
    "duration": 0,
    "start_time": "2023-07-07T12:37:30.590Z"
   },
   {
    "duration": 0,
    "start_time": "2023-07-07T12:37:30.592Z"
   },
   {
    "duration": 0,
    "start_time": "2023-07-07T12:37:30.593Z"
   },
   {
    "duration": 0,
    "start_time": "2023-07-07T12:37:30.594Z"
   },
   {
    "duration": 0,
    "start_time": "2023-07-07T12:37:30.595Z"
   },
   {
    "duration": 0,
    "start_time": "2023-07-07T12:37:30.596Z"
   },
   {
    "duration": 0,
    "start_time": "2023-07-07T12:37:30.597Z"
   },
   {
    "duration": 0,
    "start_time": "2023-07-07T12:37:30.599Z"
   },
   {
    "duration": 0,
    "start_time": "2023-07-07T12:37:30.599Z"
   },
   {
    "duration": 0,
    "start_time": "2023-07-07T12:37:30.600Z"
   },
   {
    "duration": 0,
    "start_time": "2023-07-07T12:37:30.601Z"
   },
   {
    "duration": 0,
    "start_time": "2023-07-07T12:37:30.603Z"
   },
   {
    "duration": 0,
    "start_time": "2023-07-07T12:37:30.604Z"
   },
   {
    "duration": 0,
    "start_time": "2023-07-07T12:37:30.605Z"
   },
   {
    "duration": 0,
    "start_time": "2023-07-07T12:37:30.606Z"
   },
   {
    "duration": 0,
    "start_time": "2023-07-07T12:37:30.607Z"
   },
   {
    "duration": 0,
    "start_time": "2023-07-07T12:37:30.608Z"
   },
   {
    "duration": 0,
    "start_time": "2023-07-07T12:37:30.609Z"
   },
   {
    "duration": 0,
    "start_time": "2023-07-07T12:37:30.610Z"
   },
   {
    "duration": 0,
    "start_time": "2023-07-07T12:37:30.611Z"
   },
   {
    "duration": 0,
    "start_time": "2023-07-07T12:37:30.612Z"
   },
   {
    "duration": 0,
    "start_time": "2023-07-07T12:37:30.613Z"
   },
   {
    "duration": 0,
    "start_time": "2023-07-07T12:37:30.655Z"
   },
   {
    "duration": 0,
    "start_time": "2023-07-07T12:37:30.656Z"
   },
   {
    "duration": 0,
    "start_time": "2023-07-07T12:37:30.657Z"
   },
   {
    "duration": 0,
    "start_time": "2023-07-07T12:37:30.658Z"
   },
   {
    "duration": 0,
    "start_time": "2023-07-07T12:37:30.661Z"
   },
   {
    "duration": 0,
    "start_time": "2023-07-07T12:37:30.667Z"
   },
   {
    "duration": 0,
    "start_time": "2023-07-07T12:37:30.671Z"
   },
   {
    "duration": 0,
    "start_time": "2023-07-07T12:37:30.673Z"
   },
   {
    "duration": 257,
    "start_time": "2023-07-07T12:38:39.787Z"
   },
   {
    "duration": 393,
    "start_time": "2023-07-07T12:38:51.088Z"
   },
   {
    "duration": 1422,
    "start_time": "2023-07-07T12:39:50.405Z"
   },
   {
    "duration": 1398,
    "start_time": "2023-07-07T12:40:08.980Z"
   },
   {
    "duration": 212,
    "start_time": "2023-07-07T12:41:05.029Z"
   },
   {
    "duration": 9,
    "start_time": "2023-07-07T12:41:06.531Z"
   },
   {
    "duration": 166,
    "start_time": "2023-07-07T12:41:08.748Z"
   },
   {
    "duration": 208,
    "start_time": "2023-07-07T12:41:12.732Z"
   },
   {
    "duration": 183,
    "start_time": "2023-07-07T12:41:14.403Z"
   },
   {
    "duration": 428,
    "start_time": "2023-07-07T12:43:00.583Z"
   },
   {
    "duration": 1304,
    "start_time": "2023-07-07T12:45:21.604Z"
   },
   {
    "duration": 257,
    "start_time": "2023-07-07T12:55:23.226Z"
   },
   {
    "duration": 229,
    "start_time": "2023-07-07T12:55:25.849Z"
   },
   {
    "duration": 418,
    "start_time": "2023-07-07T12:55:40.574Z"
   },
   {
    "duration": 415,
    "start_time": "2023-07-07T12:57:55.508Z"
   },
   {
    "duration": 1419,
    "start_time": "2023-07-07T12:58:19.899Z"
   },
   {
    "duration": 2833,
    "start_time": "2023-07-07T12:58:36.147Z"
   },
   {
    "duration": 10,
    "start_time": "2023-07-07T12:58:38.983Z"
   },
   {
    "duration": 7,
    "start_time": "2023-07-07T12:58:38.995Z"
   },
   {
    "duration": 5,
    "start_time": "2023-07-07T12:58:39.005Z"
   },
   {
    "duration": 1966,
    "start_time": "2023-07-07T12:58:39.012Z"
   },
   {
    "duration": 867,
    "start_time": "2023-07-07T12:58:40.980Z"
   },
   {
    "duration": 11247,
    "start_time": "2023-07-07T12:58:41.848Z"
   },
   {
    "duration": 2310,
    "start_time": "2023-07-07T12:58:53.097Z"
   },
   {
    "duration": 3254,
    "start_time": "2023-07-07T12:58:55.409Z"
   },
   {
    "duration": 1065,
    "start_time": "2023-07-07T12:58:58.667Z"
   },
   {
    "duration": 1402,
    "start_time": "2023-07-07T12:58:59.735Z"
   },
   {
    "duration": 450,
    "start_time": "2023-07-07T12:59:01.139Z"
   },
   {
    "duration": 13250,
    "start_time": "2023-07-07T12:59:01.591Z"
   },
   {
    "duration": 3434,
    "start_time": "2023-07-07T12:59:14.843Z"
   },
   {
    "duration": 11963,
    "start_time": "2023-07-07T12:59:18.279Z"
   },
   {
    "duration": 3668,
    "start_time": "2023-07-07T12:59:30.244Z"
   },
   {
    "duration": 13251,
    "start_time": "2023-07-07T12:59:33.914Z"
   },
   {
    "duration": 9,
    "start_time": "2023-07-07T12:59:47.168Z"
   },
   {
    "duration": 262,
    "start_time": "2023-07-07T12:59:47.179Z"
   },
   {
    "duration": 32,
    "start_time": "2023-07-07T12:59:47.443Z"
   },
   {
    "duration": 594,
    "start_time": "2023-07-07T12:59:47.478Z"
   },
   {
    "duration": 175,
    "start_time": "2023-07-07T12:59:48.074Z"
   },
   {
    "duration": 199,
    "start_time": "2023-07-07T12:59:48.253Z"
   },
   {
    "duration": 18,
    "start_time": "2023-07-07T12:59:48.454Z"
   },
   {
    "duration": 161,
    "start_time": "2023-07-07T12:59:48.474Z"
   },
   {
    "duration": 144,
    "start_time": "2023-07-07T12:59:48.637Z"
   },
   {
    "duration": 132,
    "start_time": "2023-07-07T12:59:48.783Z"
   },
   {
    "duration": 89,
    "start_time": "2023-07-07T12:59:48.919Z"
   },
   {
    "duration": 325,
    "start_time": "2023-07-07T12:59:49.011Z"
   },
   {
    "duration": 273,
    "start_time": "2023-07-07T12:59:49.338Z"
   },
   {
    "duration": 6,
    "start_time": "2023-07-07T12:59:49.613Z"
   },
   {
    "duration": 15,
    "start_time": "2023-07-07T12:59:49.620Z"
   },
   {
    "duration": 58465,
    "start_time": "2023-07-07T12:59:49.637Z"
   },
   {
    "duration": 626374,
    "start_time": "2023-07-07T13:00:48.104Z"
   },
   {
    "duration": 25787,
    "start_time": "2023-07-07T13:11:14.480Z"
   },
   {
    "duration": 9,
    "start_time": "2023-07-07T13:11:40.269Z"
   },
   {
    "duration": 11,
    "start_time": "2023-07-07T13:11:40.280Z"
   },
   {
    "duration": 19,
    "start_time": "2023-07-07T13:11:40.293Z"
   },
   {
    "duration": 7,
    "start_time": "2023-07-07T13:11:40.314Z"
   },
   {
    "duration": 23,
    "start_time": "2023-07-07T13:11:40.323Z"
   },
   {
    "duration": 9818,
    "start_time": "2023-07-07T13:11:40.348Z"
   },
   {
    "duration": 342,
    "start_time": "2023-07-07T13:11:50.168Z"
   },
   {
    "duration": 26,
    "start_time": "2023-07-07T13:11:50.512Z"
   },
   {
    "duration": 40,
    "start_time": "2023-07-07T13:11:50.540Z"
   },
   {
    "duration": 374,
    "start_time": "2023-07-07T13:11:50.582Z"
   },
   {
    "duration": 74,
    "start_time": "2023-07-07T13:11:50.958Z"
   },
   {
    "duration": 265,
    "start_time": "2023-07-07T13:11:51.033Z"
   },
   {
    "duration": 6560,
    "start_time": "2023-07-07T16:14:20.439Z"
   },
   {
    "duration": 1499,
    "start_time": "2023-07-07T16:14:27.001Z"
   },
   {
    "duration": 11073,
    "start_time": "2023-07-07T16:14:28.502Z"
   },
   {
    "duration": 3,
    "start_time": "2023-07-07T16:14:39.577Z"
   },
   {
    "duration": 2766,
    "start_time": "2023-07-07T16:14:39.582Z"
   },
   {
    "duration": 705,
    "start_time": "2023-07-07T16:14:42.349Z"
   },
   {
    "duration": 9381,
    "start_time": "2023-07-07T16:14:43.056Z"
   },
   {
    "duration": 2098,
    "start_time": "2023-07-07T16:14:52.439Z"
   },
   {
    "duration": 3270,
    "start_time": "2023-07-07T16:14:54.539Z"
   },
   {
    "duration": 1046,
    "start_time": "2023-07-07T16:14:57.811Z"
   },
   {
    "duration": 1272,
    "start_time": "2023-07-07T16:14:58.859Z"
   },
   {
    "duration": 426,
    "start_time": "2023-07-07T16:15:00.133Z"
   },
   {
    "duration": 12281,
    "start_time": "2023-07-07T16:15:00.561Z"
   },
   {
    "duration": 3085,
    "start_time": "2023-07-07T16:15:12.843Z"
   },
   {
    "duration": 11713,
    "start_time": "2023-07-07T16:15:15.931Z"
   },
   {
    "duration": 3116,
    "start_time": "2023-07-07T16:15:27.646Z"
   },
   {
    "duration": 13985,
    "start_time": "2023-07-07T16:15:30.763Z"
   },
   {
    "duration": 5,
    "start_time": "2023-07-07T16:15:44.749Z"
   },
   {
    "duration": 214,
    "start_time": "2023-07-07T16:15:44.755Z"
   },
   {
    "duration": 17,
    "start_time": "2023-07-07T16:15:44.971Z"
   },
   {
    "duration": 518,
    "start_time": "2023-07-07T16:15:44.990Z"
   },
   {
    "duration": 158,
    "start_time": "2023-07-07T16:15:45.509Z"
   },
   {
    "duration": 145,
    "start_time": "2023-07-07T16:15:45.669Z"
   },
   {
    "duration": 7,
    "start_time": "2023-07-07T16:15:45.815Z"
   },
   {
    "duration": 159,
    "start_time": "2023-07-07T16:15:45.832Z"
   },
   {
    "duration": 134,
    "start_time": "2023-07-07T16:15:45.992Z"
   },
   {
    "duration": 118,
    "start_time": "2023-07-07T16:15:46.127Z"
   },
   {
    "duration": 68,
    "start_time": "2023-07-07T16:15:46.248Z"
   },
   {
    "duration": 318,
    "start_time": "2023-07-07T16:15:46.317Z"
   },
   {
    "duration": 270,
    "start_time": "2023-07-07T16:15:46.638Z"
   },
   {
    "duration": 5,
    "start_time": "2023-07-07T16:15:46.910Z"
   },
   {
    "duration": 39,
    "start_time": "2023-07-07T16:15:46.916Z"
   },
   {
    "duration": 39971,
    "start_time": "2023-07-07T16:15:46.956Z"
   },
   {
    "duration": 30416,
    "start_time": "2023-07-07T16:16:26.929Z"
   },
   {
    "duration": 23115,
    "start_time": "2023-07-07T16:16:57.347Z"
   },
   {
    "duration": 6,
    "start_time": "2023-07-07T16:17:20.464Z"
   },
   {
    "duration": 6,
    "start_time": "2023-07-07T16:17:20.471Z"
   },
   {
    "duration": 9,
    "start_time": "2023-07-07T16:17:20.479Z"
   },
   {
    "duration": 8,
    "start_time": "2023-07-07T16:17:20.489Z"
   },
   {
    "duration": 10,
    "start_time": "2023-07-07T16:17:20.498Z"
   },
   {
    "duration": 8314,
    "start_time": "2023-07-07T16:17:20.509Z"
   },
   {
    "duration": 320,
    "start_time": "2023-07-07T16:17:28.831Z"
   },
   {
    "duration": 24,
    "start_time": "2023-07-07T16:17:29.152Z"
   },
   {
    "duration": 22,
    "start_time": "2023-07-07T16:17:29.178Z"
   },
   {
    "duration": 316,
    "start_time": "2023-07-07T16:17:29.201Z"
   },
   {
    "duration": 70,
    "start_time": "2023-07-07T16:17:29.531Z"
   },
   {
    "duration": 224,
    "start_time": "2023-07-07T16:17:29.602Z"
   },
   {
    "duration": 88,
    "start_time": "2023-07-07T16:37:19.692Z"
   },
   {
    "duration": 16257,
    "start_time": "2023-07-08T10:56:22.517Z"
   },
   {
    "duration": 3401,
    "start_time": "2023-07-08T10:56:38.790Z"
   },
   {
    "duration": 14757,
    "start_time": "2023-07-08T10:56:42.195Z"
   },
   {
    "duration": 16,
    "start_time": "2023-07-08T10:56:56.956Z"
   },
   {
    "duration": 3981,
    "start_time": "2023-07-08T10:56:56.985Z"
   },
   {
    "duration": 1663,
    "start_time": "2023-07-08T10:57:00.972Z"
   },
   {
    "duration": 22441,
    "start_time": "2023-07-08T10:57:02.637Z"
   },
   {
    "duration": 5393,
    "start_time": "2023-07-08T10:57:25.086Z"
   },
   {
    "duration": 7738,
    "start_time": "2023-07-08T10:57:30.482Z"
   },
   {
    "duration": 2539,
    "start_time": "2023-07-08T10:57:38.223Z"
   },
   {
    "duration": 2970,
    "start_time": "2023-07-08T10:57:40.764Z"
   },
   {
    "duration": 500,
    "start_time": "2023-07-08T10:57:43.736Z"
   },
   {
    "duration": 21655,
    "start_time": "2023-07-08T10:57:44.239Z"
   },
   {
    "duration": 7491,
    "start_time": "2023-07-08T10:58:05.896Z"
   },
   {
    "duration": 20406,
    "start_time": "2023-07-08T10:58:13.392Z"
   },
   {
    "duration": 9165,
    "start_time": "2023-07-08T10:58:33.801Z"
   },
   {
    "duration": 18537,
    "start_time": "2023-07-08T10:58:42.969Z"
   },
   {
    "duration": 9,
    "start_time": "2023-07-08T10:59:01.560Z"
   },
   {
    "duration": 827,
    "start_time": "2023-07-08T10:59:01.571Z"
   },
   {
    "duration": 79,
    "start_time": "2023-07-08T10:59:02.400Z"
   },
   {
    "duration": 1675,
    "start_time": "2023-07-08T10:59:02.488Z"
   },
   {
    "duration": 404,
    "start_time": "2023-07-08T10:59:04.169Z"
   },
   {
    "duration": 490,
    "start_time": "2023-07-08T10:59:04.580Z"
   },
   {
    "duration": 16,
    "start_time": "2023-07-08T10:59:05.073Z"
   },
   {
    "duration": 507,
    "start_time": "2023-07-08T10:59:05.096Z"
   },
   {
    "duration": 487,
    "start_time": "2023-07-08T10:59:05.606Z"
   },
   {
    "duration": 401,
    "start_time": "2023-07-08T10:59:06.103Z"
   },
   {
    "duration": 246,
    "start_time": "2023-07-08T10:59:06.563Z"
   },
   {
    "duration": 998,
    "start_time": "2023-07-08T10:59:06.812Z"
   },
   {
    "duration": 401,
    "start_time": "2023-07-08T10:59:07.812Z"
   },
   {
    "duration": 8,
    "start_time": "2023-07-08T10:59:08.215Z"
   },
   {
    "duration": 62,
    "start_time": "2023-07-08T10:59:08.225Z"
   },
   {
    "duration": 137149,
    "start_time": "2023-07-08T10:59:08.289Z"
   },
   {
    "duration": 6896,
    "start_time": "2023-07-09T10:53:46.637Z"
   },
   {
    "duration": 1656,
    "start_time": "2023-07-09T10:53:53.544Z"
   },
   {
    "duration": 12162,
    "start_time": "2023-07-09T10:53:55.202Z"
   },
   {
    "duration": 4,
    "start_time": "2023-07-09T10:54:07.366Z"
   },
   {
    "duration": 2045,
    "start_time": "2023-07-09T10:54:07.371Z"
   },
   {
    "duration": 721,
    "start_time": "2023-07-09T10:54:09.418Z"
   },
   {
    "duration": 9853,
    "start_time": "2023-07-09T10:54:10.142Z"
   },
   {
    "duration": 2138,
    "start_time": "2023-07-09T10:54:19.997Z"
   },
   {
    "duration": 3357,
    "start_time": "2023-07-09T10:54:22.138Z"
   },
   {
    "duration": 1065,
    "start_time": "2023-07-09T10:54:25.498Z"
   },
   {
    "duration": 1228,
    "start_time": "2023-07-09T10:54:26.565Z"
   },
   {
    "duration": 11837,
    "start_time": "2023-07-09T10:54:27.795Z"
   },
   {
    "duration": 2853,
    "start_time": "2023-07-09T10:54:39.634Z"
   },
   {
    "duration": 11339,
    "start_time": "2023-07-09T10:54:42.489Z"
   },
   {
    "duration": 3071,
    "start_time": "2023-07-09T10:54:53.832Z"
   },
   {
    "duration": 11914,
    "start_time": "2023-07-09T10:54:56.905Z"
   },
   {
    "duration": 11,
    "start_time": "2023-07-09T10:55:08.821Z"
   },
   {
    "duration": 205,
    "start_time": "2023-07-09T10:55:08.833Z"
   },
   {
    "duration": 20,
    "start_time": "2023-07-09T10:55:09.040Z"
   },
   {
    "duration": 466,
    "start_time": "2023-07-09T10:55:09.061Z"
   },
   {
    "duration": 140,
    "start_time": "2023-07-09T10:55:09.531Z"
   },
   {
    "duration": 145,
    "start_time": "2023-07-09T10:55:09.673Z"
   },
   {
    "duration": 14,
    "start_time": "2023-07-09T10:55:09.819Z"
   },
   {
    "duration": 143,
    "start_time": "2023-07-09T10:55:09.835Z"
   },
   {
    "duration": 138,
    "start_time": "2023-07-09T10:55:09.980Z"
   },
   {
    "duration": 125,
    "start_time": "2023-07-09T10:55:10.120Z"
   },
   {
    "duration": 71,
    "start_time": "2023-07-09T10:55:10.246Z"
   },
   {
    "duration": 321,
    "start_time": "2023-07-09T10:55:10.320Z"
   },
   {
    "duration": 264,
    "start_time": "2023-07-09T10:55:10.643Z"
   },
   {
    "duration": 5,
    "start_time": "2023-07-09T10:55:10.909Z"
   },
   {
    "duration": 15,
    "start_time": "2023-07-09T10:55:10.916Z"
   },
   {
    "duration": 42688,
    "start_time": "2023-07-09T10:55:10.933Z"
   },
   {
    "duration": 160735,
    "start_time": "2023-07-09T10:55:53.623Z"
   },
   {
    "duration": 20936,
    "start_time": "2023-07-09T10:58:34.360Z"
   },
   {
    "duration": 5,
    "start_time": "2023-07-09T10:58:55.297Z"
   },
   {
    "duration": 11,
    "start_time": "2023-07-09T10:58:55.304Z"
   },
   {
    "duration": 20,
    "start_time": "2023-07-09T10:58:55.316Z"
   },
   {
    "duration": 5,
    "start_time": "2023-07-09T10:58:55.338Z"
   },
   {
    "duration": 4,
    "start_time": "2023-07-09T10:58:55.345Z"
   },
   {
    "duration": 8957,
    "start_time": "2023-07-09T10:58:55.350Z"
   },
   {
    "duration": 357,
    "start_time": "2023-07-09T10:59:04.309Z"
   },
   {
    "duration": 25,
    "start_time": "2023-07-09T10:59:04.668Z"
   },
   {
    "duration": 44,
    "start_time": "2023-07-09T10:59:04.695Z"
   },
   {
    "duration": 376,
    "start_time": "2023-07-09T10:59:04.741Z"
   },
   {
    "duration": 74,
    "start_time": "2023-07-09T10:59:05.119Z"
   },
   {
    "duration": 242,
    "start_time": "2023-07-09T10:59:05.195Z"
   }
  ],
  "kernelspec": {
   "display_name": "Python 3 (ipykernel)",
   "language": "python",
   "name": "python3"
  },
  "language_info": {
   "codemirror_mode": {
    "name": "ipython",
    "version": 3
   },
   "file_extension": ".py",
   "mimetype": "text/x-python",
   "name": "python",
   "nbconvert_exporter": "python",
   "pygments_lexer": "ipython3",
   "version": "3.9.5"
  },
  "toc": {
   "base_numbering": 1,
   "nav_menu": {},
   "number_sections": false,
   "sideBar": true,
   "skip_h1_title": false,
   "title_cell": "Table of Contents",
   "title_sidebar": "Contents",
   "toc_cell": false,
   "toc_position": {},
   "toc_section_display": true,
   "toc_window_display": false
  },
  "varInspector": {
   "cols": {
    "lenName": 16,
    "lenType": 16,
    "lenVar": 40
   },
   "kernels_config": {
    "python": {
     "delete_cmd_postfix": "",
     "delete_cmd_prefix": "del ",
     "library": "var_list.py",
     "varRefreshCmd": "print(var_dic_list())"
    },
    "r": {
     "delete_cmd_postfix": ") ",
     "delete_cmd_prefix": "rm(",
     "library": "var_list.r",
     "varRefreshCmd": "cat(var_dic_list()) "
    }
   },
   "types_to_exclude": [
    "module",
    "function",
    "builtin_function_or_method",
    "instance",
    "_Feature"
   ],
   "window_display": false
  }
 },
 "nbformat": 4,
 "nbformat_minor": 5
}
