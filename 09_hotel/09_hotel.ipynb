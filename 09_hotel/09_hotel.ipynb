{
 "cells": [
  {
   "cell_type": "markdown",
   "metadata": {},
   "source": [
    "# 1. <a id='toc1_'></a>[Прогнозирование оттока клиентов в сети отелей «Как в гостях»](#toc0_)"
   ]
  },
  {
   "cell_type": "markdown",
   "metadata": {},
   "source": [
    "`Описание проекта` - цель данного проекта: выявить потенциальных постояльцев отеля которые с большой долей вероятности отменят бронирование гостиничного номера. Данное исследование поможет улучшить планирование расходов бизнеса и минимизировать финансовые издержки для отеля."
   ]
  },
  {
   "cell_type": "markdown",
   "metadata": {},
   "source": [
    "**Содержание**<a id='toc0_'></a>    \n",
    "- 1. [Прогнозирование оттока клиентов в сети отелей «Как в гостях»](#toc1_)    \n",
    "    - 1.1.1. [Шаг 1. Откройте файлы с данными](#toc1_1_1_)    \n",
    "    - 1.1.2. [Шаг 2. Предобработка и исследовательский анализ данных](#toc1_1_2_)    \n",
    "      - 1.1.2.1. [Предобработка данных](#toc1_1_2_1_)    \n",
    "    - 1.1.3. [Исследовательский анализ данных](#toc1_1_3_)    \n",
    "    - 1.1.4. [Шаг 3. Формулировка ML-задачи на основе бизнес-задачи](#toc1_1_4_)    \n",
    "    - 1.1.5. [Шаг 4. Разработка модели ML](#toc1_1_5_)    \n",
    "      - 1.1.5.1. [Применение лучшей модели на тестовой выборке](#toc1_1_5_1_)    \n",
    "    - 1.1.6. [Шаг 5. Опишите портрет «ненадёжного» клиента](#toc1_1_6_)    \n",
    "    - 1.1.7. [Шаг 6. Напишите общий вывод](#toc1_1_7_)    \n",
    "\n",
    "<!-- vscode-jupyter-toc-config\n",
    "\tnumbering=true\n",
    "\tanchor=true\n",
    "\tflat=false\n",
    "\tminLevel=1\n",
    "\tmaxLevel=6\n",
    "\t/vscode-jupyter-toc-config -->\n",
    "<!-- THIS CELL WILL BE REPLACED ON TOC UPDATE. DO NOT WRITE YOUR TEXT IN THIS CELL -->"
   ]
  },
  {
   "cell_type": "markdown",
   "metadata": {},
   "source": [
    "### 1.1.1. <a id='toc1_1_1_'></a>[Шаг 1. Откройте файлы с данными](#toc0_)"
   ]
  },
  {
   "cell_type": "markdown",
   "metadata": {},
   "source": [
    "Импортируем необходимые модули и библиотеки согласно `PEP-8`"
   ]
  },
  {
   "cell_type": "code",
   "execution_count": 1,
   "metadata": {},
   "outputs": [],
   "source": [
    "# стандартные библиотеки\n",
    "import matplotlib.pyplot as plt\n",
    "import pandas as pd\n",
    "import numpy as np\n",
    "import seaborn as sns\n",
    "\n",
    "# сторонние библиотеки\n",
    "from sklearn import datasets\n",
    "from sklearn import svm\n",
    "from scipy.stats import uniform\n",
    "from sklearn.datasets import load_iris\n",
    "from sklearn.datasets import make_classification\n",
    "from sklearn.datasets import make_regression\n",
    "from sklearn.ensemble import RandomForestClassifier\n",
    "from sklearn.ensemble import RandomForestRegressor\n",
    "from sklearn.linear_model import LinearRegression\n",
    "from sklearn.linear_model import LogisticRegression\n",
    "from sklearn.metrics import mean_squared_error\n",
    "from sklearn.metrics import accuracy_score\n",
    "from sklearn.metrics import confusion_matrix\n",
    "from sklearn.metrics import f1_score\n",
    "from sklearn.metrics import precision_score\n",
    "from sklearn.metrics import r2_score\n",
    "from sklearn.metrics import recall_score\n",
    "from sklearn.metrics import roc_curve\n",
    "from sklearn.metrics import roc_auc_score\n",
    "from sklearn.model_selection import cross_val_score\n",
    "from sklearn.model_selection import GridSearchCV\n",
    "from sklearn.model_selection import KFold\n",
    "from sklearn.model_selection import RandomizedSearchCV\n",
    "from sklearn.model_selection import StratifiedKFold\n",
    "from sklearn.model_selection import train_test_split\n",
    "from sklearn.pipeline import make_pipeline\n",
    "from sklearn.preprocessing import OrdinalEncoder\n",
    "from sklearn.preprocessing import StandardScaler\n",
    "from sklearn.tree import DecisionTreeClassifier\n",
    "from sklearn.utils import shuffle"
   ]
  },
  {
   "cell_type": "markdown",
   "metadata": {},
   "source": [
    "Блок с константами"
   ]
  },
  {
   "cell_type": "code",
   "execution_count": 2,
   "metadata": {},
   "outputs": [],
   "source": [
    "# бюджет выделенный на разработку модели\n",
    "BUDGET = 400000"
   ]
  },
  {
   "cell_type": "markdown",
   "metadata": {},
   "source": [
    "Загружаем данные"
   ]
  },
  {
   "cell_type": "code",
   "execution_count": 3,
   "metadata": {},
   "outputs": [],
   "source": [
    "try:\n",
    "    df_train = pd.read_csv('hotel_train.csv')\n",
    "    df_test = pd.read_csv('hotel_test.csv')\n",
    "except:\n",
    "    df_train = pd.read_csv('/datasets/hotel_train.csv')\n",
    "    df_test = pd.read_csv('/datasets/hotel_test.csv')"
   ]
  },
  {
   "cell_type": "markdown",
   "metadata": {},
   "source": [
    "Проводим предворительное ознакомление с данными"
   ]
  },
  {
   "cell_type": "markdown",
   "metadata": {},
   "source": [
    "Выводим основную информацию для каждой таблицы.\n",
    "Для оптимизации кода создаём функцию `show_i()` принимающую как аргумент датафрейм и выводящую на экран необходимую информацию."
   ]
  },
  {
   "cell_type": "code",
   "execution_count": 4,
   "metadata": {},
   "outputs": [],
   "source": [
    "def show_i(data):\n",
    "\n",
    "    '''Выводим на экран следущую информацию:\n",
    "\n",
    "    - размер таблицы\n",
    "    - основную информацию\n",
    "    - первые 5 строк таблицы\n",
    "    - суммарная статистика по числовым параметрам\n",
    "    - суммарная статистика по нечисловым параметрам'''\n",
    "\n",
    "    display(data.shape)\n",
    "    display(data.info())\n",
    "    display(data.head())\n",
    "    display(data.describe())\n",
    "    display(data.describe(include=['O']))\n",
    "   "
   ]
  },
  {
   "cell_type": "markdown",
   "metadata": {},
   "source": [
    "Применяем функцию для ознакомления с данными"
   ]
  },
  {
   "cell_type": "code",
   "execution_count": 5,
   "metadata": {},
   "outputs": [
    {
     "data": {
      "text/plain": [
       "(65229, 25)"
      ]
     },
     "metadata": {},
     "output_type": "display_data"
    },
    {
     "name": "stdout",
     "output_type": "stream",
     "text": [
      "<class 'pandas.core.frame.DataFrame'>\n",
      "RangeIndex: 65229 entries, 0 to 65228\n",
      "Data columns (total 25 columns):\n",
      " #   Column                          Non-Null Count  Dtype  \n",
      "---  ------                          --------------  -----  \n",
      " 0   id                              65229 non-null  int64  \n",
      " 1   is_canceled                     65229 non-null  int64  \n",
      " 2   lead_time                       65229 non-null  float64\n",
      " 3   arrival_date_year               65229 non-null  int64  \n",
      " 4   arrival_date_month              65229 non-null  object \n",
      " 5   arrival_date_week_number        65229 non-null  int64  \n",
      " 6   arrival_date_day_of_month       65229 non-null  int64  \n",
      " 7   stays_in_weekend_nights         65229 non-null  int64  \n",
      " 8   stays_in_week_nights            65229 non-null  int64  \n",
      " 9   adults                          65229 non-null  float64\n",
      " 10  children                        65229 non-null  float64\n",
      " 11  babies                          65229 non-null  float64\n",
      " 12  meal                            65229 non-null  object \n",
      " 13  country                         65229 non-null  object \n",
      " 14  distribution_channel            65229 non-null  object \n",
      " 15  is_repeated_guest               65229 non-null  int64  \n",
      " 16  previous_cancellations          65229 non-null  int64  \n",
      " 17  previous_bookings_not_canceled  65229 non-null  int64  \n",
      " 18  reserved_room_type              65229 non-null  object \n",
      " 19  booking_changes                 65229 non-null  int64  \n",
      " 20  days_in_waiting_list            65229 non-null  int64  \n",
      " 21  customer_type                   65229 non-null  object \n",
      " 22  required_car_parking_spaces     65229 non-null  int64  \n",
      " 23  total_of_special_requests       65229 non-null  int64  \n",
      " 24  total_nights                    65229 non-null  int64  \n",
      "dtypes: float64(4), int64(15), object(6)\n",
      "memory usage: 12.4+ MB\n"
     ]
    },
    {
     "data": {
      "text/plain": [
       "None"
      ]
     },
     "metadata": {},
     "output_type": "display_data"
    },
    {
     "data": {
      "text/html": [
       "<div>\n",
       "<style scoped>\n",
       "    .dataframe tbody tr th:only-of-type {\n",
       "        vertical-align: middle;\n",
       "    }\n",
       "\n",
       "    .dataframe tbody tr th {\n",
       "        vertical-align: top;\n",
       "    }\n",
       "\n",
       "    .dataframe thead th {\n",
       "        text-align: right;\n",
       "    }\n",
       "</style>\n",
       "<table border=\"1\" class=\"dataframe\">\n",
       "  <thead>\n",
       "    <tr style=\"text-align: right;\">\n",
       "      <th></th>\n",
       "      <th>id</th>\n",
       "      <th>is_canceled</th>\n",
       "      <th>lead_time</th>\n",
       "      <th>arrival_date_year</th>\n",
       "      <th>arrival_date_month</th>\n",
       "      <th>arrival_date_week_number</th>\n",
       "      <th>arrival_date_day_of_month</th>\n",
       "      <th>stays_in_weekend_nights</th>\n",
       "      <th>stays_in_week_nights</th>\n",
       "      <th>adults</th>\n",
       "      <th>...</th>\n",
       "      <th>is_repeated_guest</th>\n",
       "      <th>previous_cancellations</th>\n",
       "      <th>previous_bookings_not_canceled</th>\n",
       "      <th>reserved_room_type</th>\n",
       "      <th>booking_changes</th>\n",
       "      <th>days_in_waiting_list</th>\n",
       "      <th>customer_type</th>\n",
       "      <th>required_car_parking_spaces</th>\n",
       "      <th>total_of_special_requests</th>\n",
       "      <th>total_nights</th>\n",
       "    </tr>\n",
       "  </thead>\n",
       "  <tbody>\n",
       "    <tr>\n",
       "      <th>0</th>\n",
       "      <td>0</td>\n",
       "      <td>0</td>\n",
       "      <td>7.0</td>\n",
       "      <td>2015</td>\n",
       "      <td>July</td>\n",
       "      <td>27</td>\n",
       "      <td>1</td>\n",
       "      <td>0</td>\n",
       "      <td>1</td>\n",
       "      <td>1.0</td>\n",
       "      <td>...</td>\n",
       "      <td>0</td>\n",
       "      <td>0</td>\n",
       "      <td>0</td>\n",
       "      <td>A</td>\n",
       "      <td>0</td>\n",
       "      <td>0</td>\n",
       "      <td>Transient</td>\n",
       "      <td>0</td>\n",
       "      <td>0</td>\n",
       "      <td>1</td>\n",
       "    </tr>\n",
       "    <tr>\n",
       "      <th>1</th>\n",
       "      <td>1</td>\n",
       "      <td>0</td>\n",
       "      <td>14.0</td>\n",
       "      <td>2015</td>\n",
       "      <td>July</td>\n",
       "      <td>27</td>\n",
       "      <td>1</td>\n",
       "      <td>0</td>\n",
       "      <td>2</td>\n",
       "      <td>2.0</td>\n",
       "      <td>...</td>\n",
       "      <td>0</td>\n",
       "      <td>0</td>\n",
       "      <td>0</td>\n",
       "      <td>A</td>\n",
       "      <td>0</td>\n",
       "      <td>0</td>\n",
       "      <td>Transient</td>\n",
       "      <td>0</td>\n",
       "      <td>1</td>\n",
       "      <td>2</td>\n",
       "    </tr>\n",
       "    <tr>\n",
       "      <th>2</th>\n",
       "      <td>2</td>\n",
       "      <td>0</td>\n",
       "      <td>0.0</td>\n",
       "      <td>2015</td>\n",
       "      <td>July</td>\n",
       "      <td>27</td>\n",
       "      <td>1</td>\n",
       "      <td>0</td>\n",
       "      <td>2</td>\n",
       "      <td>2.0</td>\n",
       "      <td>...</td>\n",
       "      <td>0</td>\n",
       "      <td>0</td>\n",
       "      <td>0</td>\n",
       "      <td>C</td>\n",
       "      <td>0</td>\n",
       "      <td>0</td>\n",
       "      <td>Transient</td>\n",
       "      <td>0</td>\n",
       "      <td>0</td>\n",
       "      <td>2</td>\n",
       "    </tr>\n",
       "    <tr>\n",
       "      <th>3</th>\n",
       "      <td>3</td>\n",
       "      <td>0</td>\n",
       "      <td>9.0</td>\n",
       "      <td>2015</td>\n",
       "      <td>July</td>\n",
       "      <td>27</td>\n",
       "      <td>1</td>\n",
       "      <td>0</td>\n",
       "      <td>2</td>\n",
       "      <td>2.0</td>\n",
       "      <td>...</td>\n",
       "      <td>0</td>\n",
       "      <td>0</td>\n",
       "      <td>0</td>\n",
       "      <td>C</td>\n",
       "      <td>0</td>\n",
       "      <td>0</td>\n",
       "      <td>Transient</td>\n",
       "      <td>0</td>\n",
       "      <td>1</td>\n",
       "      <td>2</td>\n",
       "    </tr>\n",
       "    <tr>\n",
       "      <th>4</th>\n",
       "      <td>4</td>\n",
       "      <td>1</td>\n",
       "      <td>85.0</td>\n",
       "      <td>2015</td>\n",
       "      <td>July</td>\n",
       "      <td>27</td>\n",
       "      <td>1</td>\n",
       "      <td>0</td>\n",
       "      <td>3</td>\n",
       "      <td>2.0</td>\n",
       "      <td>...</td>\n",
       "      <td>0</td>\n",
       "      <td>0</td>\n",
       "      <td>0</td>\n",
       "      <td>A</td>\n",
       "      <td>0</td>\n",
       "      <td>0</td>\n",
       "      <td>Transient</td>\n",
       "      <td>0</td>\n",
       "      <td>1</td>\n",
       "      <td>3</td>\n",
       "    </tr>\n",
       "  </tbody>\n",
       "</table>\n",
       "<p>5 rows × 25 columns</p>\n",
       "</div>"
      ],
      "text/plain": [
       "   id  is_canceled  lead_time  arrival_date_year arrival_date_month  \\\n",
       "0   0            0        7.0               2015               July   \n",
       "1   1            0       14.0               2015               July   \n",
       "2   2            0        0.0               2015               July   \n",
       "3   3            0        9.0               2015               July   \n",
       "4   4            1       85.0               2015               July   \n",
       "\n",
       "   arrival_date_week_number  arrival_date_day_of_month  \\\n",
       "0                        27                          1   \n",
       "1                        27                          1   \n",
       "2                        27                          1   \n",
       "3                        27                          1   \n",
       "4                        27                          1   \n",
       "\n",
       "   stays_in_weekend_nights  stays_in_week_nights  adults  ...  \\\n",
       "0                        0                     1     1.0  ...   \n",
       "1                        0                     2     2.0  ...   \n",
       "2                        0                     2     2.0  ...   \n",
       "3                        0                     2     2.0  ...   \n",
       "4                        0                     3     2.0  ...   \n",
       "\n",
       "   is_repeated_guest  previous_cancellations previous_bookings_not_canceled  \\\n",
       "0                  0                       0                              0   \n",
       "1                  0                       0                              0   \n",
       "2                  0                       0                              0   \n",
       "3                  0                       0                              0   \n",
       "4                  0                       0                              0   \n",
       "\n",
       "  reserved_room_type booking_changes  days_in_waiting_list  customer_type  \\\n",
       "0   A                              0                     0      Transient   \n",
       "1   A                              0                     0      Transient   \n",
       "2   C                              0                     0      Transient   \n",
       "3   C                              0                     0      Transient   \n",
       "4   A                              0                     0      Transient   \n",
       "\n",
       "   required_car_parking_spaces total_of_special_requests  total_nights  \n",
       "0                            0                         0             1  \n",
       "1                            0                         1             2  \n",
       "2                            0                         0             2  \n",
       "3                            0                         1             2  \n",
       "4                            0                         1             3  \n",
       "\n",
       "[5 rows x 25 columns]"
      ]
     },
     "metadata": {},
     "output_type": "display_data"
    },
    {
     "data": {
      "text/html": [
       "<div>\n",
       "<style scoped>\n",
       "    .dataframe tbody tr th:only-of-type {\n",
       "        vertical-align: middle;\n",
       "    }\n",
       "\n",
       "    .dataframe tbody tr th {\n",
       "        vertical-align: top;\n",
       "    }\n",
       "\n",
       "    .dataframe thead th {\n",
       "        text-align: right;\n",
       "    }\n",
       "</style>\n",
       "<table border=\"1\" class=\"dataframe\">\n",
       "  <thead>\n",
       "    <tr style=\"text-align: right;\">\n",
       "      <th></th>\n",
       "      <th>id</th>\n",
       "      <th>is_canceled</th>\n",
       "      <th>lead_time</th>\n",
       "      <th>arrival_date_year</th>\n",
       "      <th>arrival_date_week_number</th>\n",
       "      <th>arrival_date_day_of_month</th>\n",
       "      <th>stays_in_weekend_nights</th>\n",
       "      <th>stays_in_week_nights</th>\n",
       "      <th>adults</th>\n",
       "      <th>children</th>\n",
       "      <th>babies</th>\n",
       "      <th>is_repeated_guest</th>\n",
       "      <th>previous_cancellations</th>\n",
       "      <th>previous_bookings_not_canceled</th>\n",
       "      <th>booking_changes</th>\n",
       "      <th>days_in_waiting_list</th>\n",
       "      <th>required_car_parking_spaces</th>\n",
       "      <th>total_of_special_requests</th>\n",
       "      <th>total_nights</th>\n",
       "    </tr>\n",
       "  </thead>\n",
       "  <tbody>\n",
       "    <tr>\n",
       "      <th>count</th>\n",
       "      <td>65229.000000</td>\n",
       "      <td>65229.000000</td>\n",
       "      <td>65229.000000</td>\n",
       "      <td>65229.000000</td>\n",
       "      <td>65229.000000</td>\n",
       "      <td>65229.000000</td>\n",
       "      <td>65229.000000</td>\n",
       "      <td>65229.000000</td>\n",
       "      <td>65229.000000</td>\n",
       "      <td>65229.000000</td>\n",
       "      <td>65229.000000</td>\n",
       "      <td>65229.000000</td>\n",
       "      <td>65229.000000</td>\n",
       "      <td>65229.000000</td>\n",
       "      <td>65229.000000</td>\n",
       "      <td>65229.000000</td>\n",
       "      <td>65229.000000</td>\n",
       "      <td>65229.000000</td>\n",
       "      <td>65229.000000</td>\n",
       "    </tr>\n",
       "    <tr>\n",
       "      <th>mean</th>\n",
       "      <td>43544.069172</td>\n",
       "      <td>0.368609</td>\n",
       "      <td>96.337917</td>\n",
       "      <td>2015.719021</td>\n",
       "      <td>31.339772</td>\n",
       "      <td>15.847813</td>\n",
       "      <td>0.825185</td>\n",
       "      <td>2.224793</td>\n",
       "      <td>1.836576</td>\n",
       "      <td>0.074890</td>\n",
       "      <td>0.007236</td>\n",
       "      <td>0.027151</td>\n",
       "      <td>0.128915</td>\n",
       "      <td>0.107713</td>\n",
       "      <td>0.194269</td>\n",
       "      <td>3.334422</td>\n",
       "      <td>0.056647</td>\n",
       "      <td>0.512763</td>\n",
       "      <td>3.049978</td>\n",
       "    </tr>\n",
       "    <tr>\n",
       "      <th>std</th>\n",
       "      <td>25614.858971</td>\n",
       "      <td>0.482431</td>\n",
       "      <td>96.127545</td>\n",
       "      <td>0.449481</td>\n",
       "      <td>13.464024</td>\n",
       "      <td>8.748182</td>\n",
       "      <td>0.853477</td>\n",
       "      <td>1.354992</td>\n",
       "      <td>0.480245</td>\n",
       "      <td>0.334243</td>\n",
       "      <td>0.098790</td>\n",
       "      <td>0.162523</td>\n",
       "      <td>0.965326</td>\n",
       "      <td>1.326638</td>\n",
       "      <td>0.593838</td>\n",
       "      <td>18.239606</td>\n",
       "      <td>0.232094</td>\n",
       "      <td>0.752590</td>\n",
       "      <td>1.738108</td>\n",
       "    </tr>\n",
       "    <tr>\n",
       "      <th>min</th>\n",
       "      <td>0.000000</td>\n",
       "      <td>0.000000</td>\n",
       "      <td>0.000000</td>\n",
       "      <td>2015.000000</td>\n",
       "      <td>1.000000</td>\n",
       "      <td>1.000000</td>\n",
       "      <td>0.000000</td>\n",
       "      <td>0.000000</td>\n",
       "      <td>0.000000</td>\n",
       "      <td>0.000000</td>\n",
       "      <td>0.000000</td>\n",
       "      <td>0.000000</td>\n",
       "      <td>0.000000</td>\n",
       "      <td>0.000000</td>\n",
       "      <td>0.000000</td>\n",
       "      <td>0.000000</td>\n",
       "      <td>0.000000</td>\n",
       "      <td>0.000000</td>\n",
       "      <td>1.000000</td>\n",
       "    </tr>\n",
       "    <tr>\n",
       "      <th>25%</th>\n",
       "      <td>19108.000000</td>\n",
       "      <td>0.000000</td>\n",
       "      <td>17.000000</td>\n",
       "      <td>2015.000000</td>\n",
       "      <td>21.000000</td>\n",
       "      <td>8.000000</td>\n",
       "      <td>0.000000</td>\n",
       "      <td>1.000000</td>\n",
       "      <td>2.000000</td>\n",
       "      <td>0.000000</td>\n",
       "      <td>0.000000</td>\n",
       "      <td>0.000000</td>\n",
       "      <td>0.000000</td>\n",
       "      <td>0.000000</td>\n",
       "      <td>0.000000</td>\n",
       "      <td>0.000000</td>\n",
       "      <td>0.000000</td>\n",
       "      <td>0.000000</td>\n",
       "      <td>2.000000</td>\n",
       "    </tr>\n",
       "    <tr>\n",
       "      <th>50%</th>\n",
       "      <td>40554.000000</td>\n",
       "      <td>0.000000</td>\n",
       "      <td>64.000000</td>\n",
       "      <td>2016.000000</td>\n",
       "      <td>34.000000</td>\n",
       "      <td>16.000000</td>\n",
       "      <td>1.000000</td>\n",
       "      <td>2.000000</td>\n",
       "      <td>2.000000</td>\n",
       "      <td>0.000000</td>\n",
       "      <td>0.000000</td>\n",
       "      <td>0.000000</td>\n",
       "      <td>0.000000</td>\n",
       "      <td>0.000000</td>\n",
       "      <td>0.000000</td>\n",
       "      <td>0.000000</td>\n",
       "      <td>0.000000</td>\n",
       "      <td>0.000000</td>\n",
       "      <td>3.000000</td>\n",
       "    </tr>\n",
       "    <tr>\n",
       "      <th>75%</th>\n",
       "      <td>67414.000000</td>\n",
       "      <td>1.000000</td>\n",
       "      <td>151.000000</td>\n",
       "      <td>2016.000000</td>\n",
       "      <td>42.000000</td>\n",
       "      <td>23.000000</td>\n",
       "      <td>2.000000</td>\n",
       "      <td>3.000000</td>\n",
       "      <td>2.000000</td>\n",
       "      <td>0.000000</td>\n",
       "      <td>0.000000</td>\n",
       "      <td>0.000000</td>\n",
       "      <td>0.000000</td>\n",
       "      <td>0.000000</td>\n",
       "      <td>0.000000</td>\n",
       "      <td>0.000000</td>\n",
       "      <td>0.000000</td>\n",
       "      <td>1.000000</td>\n",
       "      <td>4.000000</td>\n",
       "    </tr>\n",
       "    <tr>\n",
       "      <th>max</th>\n",
       "      <td>84121.000000</td>\n",
       "      <td>1.000000</td>\n",
       "      <td>374.000000</td>\n",
       "      <td>2016.000000</td>\n",
       "      <td>53.000000</td>\n",
       "      <td>31.000000</td>\n",
       "      <td>4.000000</td>\n",
       "      <td>6.000000</td>\n",
       "      <td>4.000000</td>\n",
       "      <td>3.000000</td>\n",
       "      <td>10.000000</td>\n",
       "      <td>1.000000</td>\n",
       "      <td>26.000000</td>\n",
       "      <td>58.000000</td>\n",
       "      <td>17.000000</td>\n",
       "      <td>259.000000</td>\n",
       "      <td>3.000000</td>\n",
       "      <td>5.000000</td>\n",
       "      <td>10.000000</td>\n",
       "    </tr>\n",
       "  </tbody>\n",
       "</table>\n",
       "</div>"
      ],
      "text/plain": [
       "                 id   is_canceled     lead_time  arrival_date_year  \\\n",
       "count  65229.000000  65229.000000  65229.000000       65229.000000   \n",
       "mean   43544.069172      0.368609     96.337917        2015.719021   \n",
       "std    25614.858971      0.482431     96.127545           0.449481   \n",
       "min        0.000000      0.000000      0.000000        2015.000000   \n",
       "25%    19108.000000      0.000000     17.000000        2015.000000   \n",
       "50%    40554.000000      0.000000     64.000000        2016.000000   \n",
       "75%    67414.000000      1.000000    151.000000        2016.000000   \n",
       "max    84121.000000      1.000000    374.000000        2016.000000   \n",
       "\n",
       "       arrival_date_week_number  arrival_date_day_of_month  \\\n",
       "count              65229.000000               65229.000000   \n",
       "mean                  31.339772                  15.847813   \n",
       "std                   13.464024                   8.748182   \n",
       "min                    1.000000                   1.000000   \n",
       "25%                   21.000000                   8.000000   \n",
       "50%                   34.000000                  16.000000   \n",
       "75%                   42.000000                  23.000000   \n",
       "max                   53.000000                  31.000000   \n",
       "\n",
       "       stays_in_weekend_nights  stays_in_week_nights        adults  \\\n",
       "count             65229.000000          65229.000000  65229.000000   \n",
       "mean                  0.825185              2.224793      1.836576   \n",
       "std                   0.853477              1.354992      0.480245   \n",
       "min                   0.000000              0.000000      0.000000   \n",
       "25%                   0.000000              1.000000      2.000000   \n",
       "50%                   1.000000              2.000000      2.000000   \n",
       "75%                   2.000000              3.000000      2.000000   \n",
       "max                   4.000000              6.000000      4.000000   \n",
       "\n",
       "           children        babies  is_repeated_guest  previous_cancellations  \\\n",
       "count  65229.000000  65229.000000       65229.000000            65229.000000   \n",
       "mean       0.074890      0.007236           0.027151                0.128915   \n",
       "std        0.334243      0.098790           0.162523                0.965326   \n",
       "min        0.000000      0.000000           0.000000                0.000000   \n",
       "25%        0.000000      0.000000           0.000000                0.000000   \n",
       "50%        0.000000      0.000000           0.000000                0.000000   \n",
       "75%        0.000000      0.000000           0.000000                0.000000   \n",
       "max        3.000000     10.000000           1.000000               26.000000   \n",
       "\n",
       "       previous_bookings_not_canceled  booking_changes  days_in_waiting_list  \\\n",
       "count                    65229.000000     65229.000000          65229.000000   \n",
       "mean                         0.107713         0.194269              3.334422   \n",
       "std                          1.326638         0.593838             18.239606   \n",
       "min                          0.000000         0.000000              0.000000   \n",
       "25%                          0.000000         0.000000              0.000000   \n",
       "50%                          0.000000         0.000000              0.000000   \n",
       "75%                          0.000000         0.000000              0.000000   \n",
       "max                         58.000000        17.000000            259.000000   \n",
       "\n",
       "       required_car_parking_spaces  total_of_special_requests  total_nights  \n",
       "count                 65229.000000               65229.000000  65229.000000  \n",
       "mean                      0.056647                   0.512763      3.049978  \n",
       "std                       0.232094                   0.752590      1.738108  \n",
       "min                       0.000000                   0.000000      1.000000  \n",
       "25%                       0.000000                   0.000000      2.000000  \n",
       "50%                       0.000000                   0.000000      3.000000  \n",
       "75%                       0.000000                   1.000000      4.000000  \n",
       "max                       3.000000                   5.000000     10.000000  "
      ]
     },
     "metadata": {},
     "output_type": "display_data"
    },
    {
     "data": {
      "text/html": [
       "<div>\n",
       "<style scoped>\n",
       "    .dataframe tbody tr th:only-of-type {\n",
       "        vertical-align: middle;\n",
       "    }\n",
       "\n",
       "    .dataframe tbody tr th {\n",
       "        vertical-align: top;\n",
       "    }\n",
       "\n",
       "    .dataframe thead th {\n",
       "        text-align: right;\n",
       "    }\n",
       "</style>\n",
       "<table border=\"1\" class=\"dataframe\">\n",
       "  <thead>\n",
       "    <tr style=\"text-align: right;\">\n",
       "      <th></th>\n",
       "      <th>arrival_date_month</th>\n",
       "      <th>meal</th>\n",
       "      <th>country</th>\n",
       "      <th>distribution_channel</th>\n",
       "      <th>reserved_room_type</th>\n",
       "      <th>customer_type</th>\n",
       "    </tr>\n",
       "  </thead>\n",
       "  <tbody>\n",
       "    <tr>\n",
       "      <th>count</th>\n",
       "      <td>65229</td>\n",
       "      <td>65229</td>\n",
       "      <td>65229</td>\n",
       "      <td>65229</td>\n",
       "      <td>65229</td>\n",
       "      <td>65229</td>\n",
       "    </tr>\n",
       "    <tr>\n",
       "      <th>unique</th>\n",
       "      <td>12</td>\n",
       "      <td>5</td>\n",
       "      <td>155</td>\n",
       "      <td>4</td>\n",
       "      <td>7</td>\n",
       "      <td>4</td>\n",
       "    </tr>\n",
       "    <tr>\n",
       "      <th>top</th>\n",
       "      <td>October</td>\n",
       "      <td>BB</td>\n",
       "      <td>PRT</td>\n",
       "      <td>TA/TO</td>\n",
       "      <td>A</td>\n",
       "      <td>Transient</td>\n",
       "    </tr>\n",
       "    <tr>\n",
       "      <th>freq</th>\n",
       "      <td>9255</td>\n",
       "      <td>51697</td>\n",
       "      <td>28831</td>\n",
       "      <td>54454</td>\n",
       "      <td>50501</td>\n",
       "      <td>45493</td>\n",
       "    </tr>\n",
       "  </tbody>\n",
       "</table>\n",
       "</div>"
      ],
      "text/plain": [
       "       arrival_date_month       meal country distribution_channel  \\\n",
       "count               65229      65229   65229                65229   \n",
       "unique                 12          5     155                    4   \n",
       "top               October  BB            PRT                TA/TO   \n",
       "freq                 9255      51697   28831                54454   \n",
       "\n",
       "       reserved_room_type customer_type  \n",
       "count               65229         65229  \n",
       "unique                  7             4  \n",
       "top      A                    Transient  \n",
       "freq                50501         45493  "
      ]
     },
     "metadata": {},
     "output_type": "display_data"
    }
   ],
   "source": [
    "show_i(df_train)"
   ]
  },
  {
   "cell_type": "code",
   "execution_count": 6,
   "metadata": {},
   "outputs": [
    {
     "data": {
      "text/plain": [
       "(32412, 25)"
      ]
     },
     "metadata": {},
     "output_type": "display_data"
    },
    {
     "name": "stdout",
     "output_type": "stream",
     "text": [
      "<class 'pandas.core.frame.DataFrame'>\n",
      "RangeIndex: 32412 entries, 0 to 32411\n",
      "Data columns (total 25 columns):\n",
      " #   Column                          Non-Null Count  Dtype  \n",
      "---  ------                          --------------  -----  \n",
      " 0   id                              32412 non-null  int64  \n",
      " 1   is_canceled                     32412 non-null  int64  \n",
      " 2   lead_time                       32412 non-null  float64\n",
      " 3   arrival_date_year               32412 non-null  int64  \n",
      " 4   arrival_date_month              32412 non-null  object \n",
      " 5   arrival_date_week_number        32412 non-null  int64  \n",
      " 6   arrival_date_day_of_month       32412 non-null  int64  \n",
      " 7   stays_in_weekend_nights         32412 non-null  int64  \n",
      " 8   stays_in_week_nights            32412 non-null  int64  \n",
      " 9   adults                          32412 non-null  float64\n",
      " 10  children                        32412 non-null  float64\n",
      " 11  babies                          32412 non-null  float64\n",
      " 12  meal                            32412 non-null  object \n",
      " 13  country                         32412 non-null  object \n",
      " 14  distribution_channel            32412 non-null  object \n",
      " 15  is_repeated_guest               32412 non-null  int64  \n",
      " 16  previous_cancellations          32412 non-null  int64  \n",
      " 17  previous_bookings_not_canceled  32412 non-null  int64  \n",
      " 18  reserved_room_type              32412 non-null  object \n",
      " 19  booking_changes                 32412 non-null  int64  \n",
      " 20  days_in_waiting_list            32412 non-null  int64  \n",
      " 21  customer_type                   32412 non-null  object \n",
      " 22  required_car_parking_spaces     32412 non-null  int64  \n",
      " 23  total_of_special_requests       32412 non-null  int64  \n",
      " 24  total_nights                    32412 non-null  int64  \n",
      "dtypes: float64(4), int64(15), object(6)\n",
      "memory usage: 6.2+ MB\n"
     ]
    },
    {
     "data": {
      "text/plain": [
       "None"
      ]
     },
     "metadata": {},
     "output_type": "display_data"
    },
    {
     "data": {
      "text/html": [
       "<div>\n",
       "<style scoped>\n",
       "    .dataframe tbody tr th:only-of-type {\n",
       "        vertical-align: middle;\n",
       "    }\n",
       "\n",
       "    .dataframe tbody tr th {\n",
       "        vertical-align: top;\n",
       "    }\n",
       "\n",
       "    .dataframe thead th {\n",
       "        text-align: right;\n",
       "    }\n",
       "</style>\n",
       "<table border=\"1\" class=\"dataframe\">\n",
       "  <thead>\n",
       "    <tr style=\"text-align: right;\">\n",
       "      <th></th>\n",
       "      <th>id</th>\n",
       "      <th>is_canceled</th>\n",
       "      <th>lead_time</th>\n",
       "      <th>arrival_date_year</th>\n",
       "      <th>arrival_date_month</th>\n",
       "      <th>arrival_date_week_number</th>\n",
       "      <th>arrival_date_day_of_month</th>\n",
       "      <th>stays_in_weekend_nights</th>\n",
       "      <th>stays_in_week_nights</th>\n",
       "      <th>adults</th>\n",
       "      <th>...</th>\n",
       "      <th>is_repeated_guest</th>\n",
       "      <th>previous_cancellations</th>\n",
       "      <th>previous_bookings_not_canceled</th>\n",
       "      <th>reserved_room_type</th>\n",
       "      <th>booking_changes</th>\n",
       "      <th>days_in_waiting_list</th>\n",
       "      <th>customer_type</th>\n",
       "      <th>required_car_parking_spaces</th>\n",
       "      <th>total_of_special_requests</th>\n",
       "      <th>total_nights</th>\n",
       "    </tr>\n",
       "  </thead>\n",
       "  <tbody>\n",
       "    <tr>\n",
       "      <th>0</th>\n",
       "      <td>6086</td>\n",
       "      <td>1</td>\n",
       "      <td>74.0</td>\n",
       "      <td>2017</td>\n",
       "      <td>January</td>\n",
       "      <td>1</td>\n",
       "      <td>1</td>\n",
       "      <td>1</td>\n",
       "      <td>0</td>\n",
       "      <td>2.0</td>\n",
       "      <td>...</td>\n",
       "      <td>0</td>\n",
       "      <td>0</td>\n",
       "      <td>0</td>\n",
       "      <td>A</td>\n",
       "      <td>0</td>\n",
       "      <td>0</td>\n",
       "      <td>Transient</td>\n",
       "      <td>0</td>\n",
       "      <td>0</td>\n",
       "      <td>1</td>\n",
       "    </tr>\n",
       "    <tr>\n",
       "      <th>1</th>\n",
       "      <td>6087</td>\n",
       "      <td>1</td>\n",
       "      <td>62.0</td>\n",
       "      <td>2017</td>\n",
       "      <td>January</td>\n",
       "      <td>1</td>\n",
       "      <td>1</td>\n",
       "      <td>2</td>\n",
       "      <td>2</td>\n",
       "      <td>2.0</td>\n",
       "      <td>...</td>\n",
       "      <td>0</td>\n",
       "      <td>0</td>\n",
       "      <td>0</td>\n",
       "      <td>A</td>\n",
       "      <td>0</td>\n",
       "      <td>0</td>\n",
       "      <td>Transient</td>\n",
       "      <td>0</td>\n",
       "      <td>1</td>\n",
       "      <td>4</td>\n",
       "    </tr>\n",
       "    <tr>\n",
       "      <th>2</th>\n",
       "      <td>6088</td>\n",
       "      <td>1</td>\n",
       "      <td>62.0</td>\n",
       "      <td>2017</td>\n",
       "      <td>January</td>\n",
       "      <td>1</td>\n",
       "      <td>1</td>\n",
       "      <td>2</td>\n",
       "      <td>2</td>\n",
       "      <td>2.0</td>\n",
       "      <td>...</td>\n",
       "      <td>0</td>\n",
       "      <td>0</td>\n",
       "      <td>0</td>\n",
       "      <td>A</td>\n",
       "      <td>0</td>\n",
       "      <td>0</td>\n",
       "      <td>Transient</td>\n",
       "      <td>0</td>\n",
       "      <td>1</td>\n",
       "      <td>4</td>\n",
       "    </tr>\n",
       "    <tr>\n",
       "      <th>3</th>\n",
       "      <td>6089</td>\n",
       "      <td>1</td>\n",
       "      <td>71.0</td>\n",
       "      <td>2017</td>\n",
       "      <td>January</td>\n",
       "      <td>1</td>\n",
       "      <td>1</td>\n",
       "      <td>2</td>\n",
       "      <td>2</td>\n",
       "      <td>1.0</td>\n",
       "      <td>...</td>\n",
       "      <td>0</td>\n",
       "      <td>0</td>\n",
       "      <td>0</td>\n",
       "      <td>A</td>\n",
       "      <td>0</td>\n",
       "      <td>0</td>\n",
       "      <td>Transient</td>\n",
       "      <td>0</td>\n",
       "      <td>1</td>\n",
       "      <td>4</td>\n",
       "    </tr>\n",
       "    <tr>\n",
       "      <th>4</th>\n",
       "      <td>6090</td>\n",
       "      <td>1</td>\n",
       "      <td>172.0</td>\n",
       "      <td>2017</td>\n",
       "      <td>January</td>\n",
       "      <td>1</td>\n",
       "      <td>1</td>\n",
       "      <td>2</td>\n",
       "      <td>5</td>\n",
       "      <td>2.0</td>\n",
       "      <td>...</td>\n",
       "      <td>0</td>\n",
       "      <td>0</td>\n",
       "      <td>0</td>\n",
       "      <td>A</td>\n",
       "      <td>0</td>\n",
       "      <td>0</td>\n",
       "      <td>Transient</td>\n",
       "      <td>0</td>\n",
       "      <td>0</td>\n",
       "      <td>7</td>\n",
       "    </tr>\n",
       "  </tbody>\n",
       "</table>\n",
       "<p>5 rows × 25 columns</p>\n",
       "</div>"
      ],
      "text/plain": [
       "     id  is_canceled  lead_time  arrival_date_year arrival_date_month  \\\n",
       "0  6086            1       74.0               2017            January   \n",
       "1  6087            1       62.0               2017            January   \n",
       "2  6088            1       62.0               2017            January   \n",
       "3  6089            1       71.0               2017            January   \n",
       "4  6090            1      172.0               2017            January   \n",
       "\n",
       "   arrival_date_week_number  arrival_date_day_of_month  \\\n",
       "0                         1                          1   \n",
       "1                         1                          1   \n",
       "2                         1                          1   \n",
       "3                         1                          1   \n",
       "4                         1                          1   \n",
       "\n",
       "   stays_in_weekend_nights  stays_in_week_nights  adults  ...  \\\n",
       "0                        1                     0     2.0  ...   \n",
       "1                        2                     2     2.0  ...   \n",
       "2                        2                     2     2.0  ...   \n",
       "3                        2                     2     1.0  ...   \n",
       "4                        2                     5     2.0  ...   \n",
       "\n",
       "   is_repeated_guest  previous_cancellations previous_bookings_not_canceled  \\\n",
       "0                  0                       0                              0   \n",
       "1                  0                       0                              0   \n",
       "2                  0                       0                              0   \n",
       "3                  0                       0                              0   \n",
       "4                  0                       0                              0   \n",
       "\n",
       "  reserved_room_type booking_changes  days_in_waiting_list  customer_type  \\\n",
       "0   A                              0                     0      Transient   \n",
       "1   A                              0                     0      Transient   \n",
       "2   A                              0                     0      Transient   \n",
       "3   A                              0                     0      Transient   \n",
       "4   A                              0                     0      Transient   \n",
       "\n",
       "   required_car_parking_spaces total_of_special_requests  total_nights  \n",
       "0                            0                         0             1  \n",
       "1                            0                         1             4  \n",
       "2                            0                         1             4  \n",
       "3                            0                         1             4  \n",
       "4                            0                         0             7  \n",
       "\n",
       "[5 rows x 25 columns]"
      ]
     },
     "metadata": {},
     "output_type": "display_data"
    },
    {
     "data": {
      "text/html": [
       "<div>\n",
       "<style scoped>\n",
       "    .dataframe tbody tr th:only-of-type {\n",
       "        vertical-align: middle;\n",
       "    }\n",
       "\n",
       "    .dataframe tbody tr th {\n",
       "        vertical-align: top;\n",
       "    }\n",
       "\n",
       "    .dataframe thead th {\n",
       "        text-align: right;\n",
       "    }\n",
       "</style>\n",
       "<table border=\"1\" class=\"dataframe\">\n",
       "  <thead>\n",
       "    <tr style=\"text-align: right;\">\n",
       "      <th></th>\n",
       "      <th>id</th>\n",
       "      <th>is_canceled</th>\n",
       "      <th>lead_time</th>\n",
       "      <th>arrival_date_year</th>\n",
       "      <th>arrival_date_week_number</th>\n",
       "      <th>arrival_date_day_of_month</th>\n",
       "      <th>stays_in_weekend_nights</th>\n",
       "      <th>stays_in_week_nights</th>\n",
       "      <th>adults</th>\n",
       "      <th>children</th>\n",
       "      <th>babies</th>\n",
       "      <th>is_repeated_guest</th>\n",
       "      <th>previous_cancellations</th>\n",
       "      <th>previous_bookings_not_canceled</th>\n",
       "      <th>booking_changes</th>\n",
       "      <th>days_in_waiting_list</th>\n",
       "      <th>required_car_parking_spaces</th>\n",
       "      <th>total_of_special_requests</th>\n",
       "      <th>total_nights</th>\n",
       "    </tr>\n",
       "  </thead>\n",
       "  <tbody>\n",
       "    <tr>\n",
       "      <th>count</th>\n",
       "      <td>32412.000000</td>\n",
       "      <td>32412.000000</td>\n",
       "      <td>32412.000000</td>\n",
       "      <td>32412.0</td>\n",
       "      <td>32412.000000</td>\n",
       "      <td>32412.000000</td>\n",
       "      <td>32412.000000</td>\n",
       "      <td>32412.00000</td>\n",
       "      <td>32412.000000</td>\n",
       "      <td>32412.000000</td>\n",
       "      <td>32412.000000</td>\n",
       "      <td>32412.000000</td>\n",
       "      <td>32412.000000</td>\n",
       "      <td>32412.000000</td>\n",
       "      <td>32412.000000</td>\n",
       "      <td>32412.000000</td>\n",
       "      <td>32412.000000</td>\n",
       "      <td>32412.000000</td>\n",
       "      <td>32412.000000</td>\n",
       "    </tr>\n",
       "    <tr>\n",
       "      <th>mean</th>\n",
       "      <td>60131.505183</td>\n",
       "      <td>0.388467</td>\n",
       "      <td>97.587869</td>\n",
       "      <td>2017.0</td>\n",
       "      <td>17.804054</td>\n",
       "      <td>15.656948</td>\n",
       "      <td>0.867888</td>\n",
       "      <td>2.34009</td>\n",
       "      <td>1.858602</td>\n",
       "      <td>0.083765</td>\n",
       "      <td>0.005523</td>\n",
       "      <td>0.031377</td>\n",
       "      <td>0.011601</td>\n",
       "      <td>0.171418</td>\n",
       "      <td>0.216741</td>\n",
       "      <td>0.262341</td>\n",
       "      <td>0.046248</td>\n",
       "      <td>0.657781</td>\n",
       "      <td>3.207979</td>\n",
       "    </tr>\n",
       "    <tr>\n",
       "      <th>std</th>\n",
       "      <td>29953.586177</td>\n",
       "      <td>0.487409</td>\n",
       "      <td>86.507146</td>\n",
       "      <td>0.0</td>\n",
       "      <td>9.177384</td>\n",
       "      <td>8.766429</td>\n",
       "      <td>0.853394</td>\n",
       "      <td>1.37517</td>\n",
       "      <td>0.489341</td>\n",
       "      <td>0.343470</td>\n",
       "      <td>0.075757</td>\n",
       "      <td>0.174338</td>\n",
       "      <td>0.180473</td>\n",
       "      <td>1.875170</td>\n",
       "      <td>0.640551</td>\n",
       "      <td>4.733027</td>\n",
       "      <td>0.219367</td>\n",
       "      <td>0.834341</td>\n",
       "      <td>1.738683</td>\n",
       "    </tr>\n",
       "    <tr>\n",
       "      <th>min</th>\n",
       "      <td>6086.000000</td>\n",
       "      <td>0.000000</td>\n",
       "      <td>0.000000</td>\n",
       "      <td>2017.0</td>\n",
       "      <td>1.000000</td>\n",
       "      <td>1.000000</td>\n",
       "      <td>0.000000</td>\n",
       "      <td>0.00000</td>\n",
       "      <td>0.000000</td>\n",
       "      <td>0.000000</td>\n",
       "      <td>0.000000</td>\n",
       "      <td>0.000000</td>\n",
       "      <td>0.000000</td>\n",
       "      <td>0.000000</td>\n",
       "      <td>0.000000</td>\n",
       "      <td>0.000000</td>\n",
       "      <td>0.000000</td>\n",
       "      <td>0.000000</td>\n",
       "      <td>1.000000</td>\n",
       "    </tr>\n",
       "    <tr>\n",
       "      <th>25%</th>\n",
       "      <td>45291.750000</td>\n",
       "      <td>0.000000</td>\n",
       "      <td>23.000000</td>\n",
       "      <td>2017.0</td>\n",
       "      <td>10.000000</td>\n",
       "      <td>8.000000</td>\n",
       "      <td>0.000000</td>\n",
       "      <td>1.00000</td>\n",
       "      <td>2.000000</td>\n",
       "      <td>0.000000</td>\n",
       "      <td>0.000000</td>\n",
       "      <td>0.000000</td>\n",
       "      <td>0.000000</td>\n",
       "      <td>0.000000</td>\n",
       "      <td>0.000000</td>\n",
       "      <td>0.000000</td>\n",
       "      <td>0.000000</td>\n",
       "      <td>0.000000</td>\n",
       "      <td>2.000000</td>\n",
       "    </tr>\n",
       "    <tr>\n",
       "      <th>50%</th>\n",
       "      <td>53394.500000</td>\n",
       "      <td>0.000000</td>\n",
       "      <td>76.000000</td>\n",
       "      <td>2017.0</td>\n",
       "      <td>18.000000</td>\n",
       "      <td>15.500000</td>\n",
       "      <td>1.000000</td>\n",
       "      <td>2.00000</td>\n",
       "      <td>2.000000</td>\n",
       "      <td>0.000000</td>\n",
       "      <td>0.000000</td>\n",
       "      <td>0.000000</td>\n",
       "      <td>0.000000</td>\n",
       "      <td>0.000000</td>\n",
       "      <td>0.000000</td>\n",
       "      <td>0.000000</td>\n",
       "      <td>0.000000</td>\n",
       "      <td>0.000000</td>\n",
       "      <td>3.000000</td>\n",
       "    </tr>\n",
       "    <tr>\n",
       "      <th>75%</th>\n",
       "      <td>89800.250000</td>\n",
       "      <td>1.000000</td>\n",
       "      <td>155.000000</td>\n",
       "      <td>2017.0</td>\n",
       "      <td>25.000000</td>\n",
       "      <td>23.000000</td>\n",
       "      <td>2.000000</td>\n",
       "      <td>3.00000</td>\n",
       "      <td>2.000000</td>\n",
       "      <td>0.000000</td>\n",
       "      <td>0.000000</td>\n",
       "      <td>0.000000</td>\n",
       "      <td>0.000000</td>\n",
       "      <td>0.000000</td>\n",
       "      <td>0.000000</td>\n",
       "      <td>0.000000</td>\n",
       "      <td>0.000000</td>\n",
       "      <td>1.000000</td>\n",
       "      <td>4.000000</td>\n",
       "    </tr>\n",
       "    <tr>\n",
       "      <th>max</th>\n",
       "      <td>97903.000000</td>\n",
       "      <td>1.000000</td>\n",
       "      <td>373.000000</td>\n",
       "      <td>2017.0</td>\n",
       "      <td>35.000000</td>\n",
       "      <td>31.000000</td>\n",
       "      <td>4.000000</td>\n",
       "      <td>6.00000</td>\n",
       "      <td>4.000000</td>\n",
       "      <td>3.000000</td>\n",
       "      <td>2.000000</td>\n",
       "      <td>1.000000</td>\n",
       "      <td>6.000000</td>\n",
       "      <td>72.000000</td>\n",
       "      <td>18.000000</td>\n",
       "      <td>223.000000</td>\n",
       "      <td>8.000000</td>\n",
       "      <td>5.000000</td>\n",
       "      <td>10.000000</td>\n",
       "    </tr>\n",
       "  </tbody>\n",
       "</table>\n",
       "</div>"
      ],
      "text/plain": [
       "                 id   is_canceled     lead_time  arrival_date_year  \\\n",
       "count  32412.000000  32412.000000  32412.000000            32412.0   \n",
       "mean   60131.505183      0.388467     97.587869             2017.0   \n",
       "std    29953.586177      0.487409     86.507146                0.0   \n",
       "min     6086.000000      0.000000      0.000000             2017.0   \n",
       "25%    45291.750000      0.000000     23.000000             2017.0   \n",
       "50%    53394.500000      0.000000     76.000000             2017.0   \n",
       "75%    89800.250000      1.000000    155.000000             2017.0   \n",
       "max    97903.000000      1.000000    373.000000             2017.0   \n",
       "\n",
       "       arrival_date_week_number  arrival_date_day_of_month  \\\n",
       "count              32412.000000               32412.000000   \n",
       "mean                  17.804054                  15.656948   \n",
       "std                    9.177384                   8.766429   \n",
       "min                    1.000000                   1.000000   \n",
       "25%                   10.000000                   8.000000   \n",
       "50%                   18.000000                  15.500000   \n",
       "75%                   25.000000                  23.000000   \n",
       "max                   35.000000                  31.000000   \n",
       "\n",
       "       stays_in_weekend_nights  stays_in_week_nights        adults  \\\n",
       "count             32412.000000           32412.00000  32412.000000   \n",
       "mean                  0.867888               2.34009      1.858602   \n",
       "std                   0.853394               1.37517      0.489341   \n",
       "min                   0.000000               0.00000      0.000000   \n",
       "25%                   0.000000               1.00000      2.000000   \n",
       "50%                   1.000000               2.00000      2.000000   \n",
       "75%                   2.000000               3.00000      2.000000   \n",
       "max                   4.000000               6.00000      4.000000   \n",
       "\n",
       "           children        babies  is_repeated_guest  previous_cancellations  \\\n",
       "count  32412.000000  32412.000000       32412.000000            32412.000000   \n",
       "mean       0.083765      0.005523           0.031377                0.011601   \n",
       "std        0.343470      0.075757           0.174338                0.180473   \n",
       "min        0.000000      0.000000           0.000000                0.000000   \n",
       "25%        0.000000      0.000000           0.000000                0.000000   \n",
       "50%        0.000000      0.000000           0.000000                0.000000   \n",
       "75%        0.000000      0.000000           0.000000                0.000000   \n",
       "max        3.000000      2.000000           1.000000                6.000000   \n",
       "\n",
       "       previous_bookings_not_canceled  booking_changes  days_in_waiting_list  \\\n",
       "count                    32412.000000     32412.000000          32412.000000   \n",
       "mean                         0.171418         0.216741              0.262341   \n",
       "std                          1.875170         0.640551              4.733027   \n",
       "min                          0.000000         0.000000              0.000000   \n",
       "25%                          0.000000         0.000000              0.000000   \n",
       "50%                          0.000000         0.000000              0.000000   \n",
       "75%                          0.000000         0.000000              0.000000   \n",
       "max                         72.000000        18.000000            223.000000   \n",
       "\n",
       "       required_car_parking_spaces  total_of_special_requests  total_nights  \n",
       "count                 32412.000000               32412.000000  32412.000000  \n",
       "mean                      0.046248                   0.657781      3.207979  \n",
       "std                       0.219367                   0.834341      1.738683  \n",
       "min                       0.000000                   0.000000      1.000000  \n",
       "25%                       0.000000                   0.000000      2.000000  \n",
       "50%                       0.000000                   0.000000      3.000000  \n",
       "75%                       0.000000                   1.000000      4.000000  \n",
       "max                       8.000000                   5.000000     10.000000  "
      ]
     },
     "metadata": {},
     "output_type": "display_data"
    },
    {
     "data": {
      "text/html": [
       "<div>\n",
       "<style scoped>\n",
       "    .dataframe tbody tr th:only-of-type {\n",
       "        vertical-align: middle;\n",
       "    }\n",
       "\n",
       "    .dataframe tbody tr th {\n",
       "        vertical-align: top;\n",
       "    }\n",
       "\n",
       "    .dataframe thead th {\n",
       "        text-align: right;\n",
       "    }\n",
       "</style>\n",
       "<table border=\"1\" class=\"dataframe\">\n",
       "  <thead>\n",
       "    <tr style=\"text-align: right;\">\n",
       "      <th></th>\n",
       "      <th>arrival_date_month</th>\n",
       "      <th>meal</th>\n",
       "      <th>country</th>\n",
       "      <th>distribution_channel</th>\n",
       "      <th>reserved_room_type</th>\n",
       "      <th>customer_type</th>\n",
       "    </tr>\n",
       "  </thead>\n",
       "  <tbody>\n",
       "    <tr>\n",
       "      <th>count</th>\n",
       "      <td>32412</td>\n",
       "      <td>32412</td>\n",
       "      <td>32412</td>\n",
       "      <td>32412</td>\n",
       "      <td>32412</td>\n",
       "      <td>32412</td>\n",
       "    </tr>\n",
       "    <tr>\n",
       "      <th>unique</th>\n",
       "      <td>8</td>\n",
       "      <td>5</td>\n",
       "      <td>143</td>\n",
       "      <td>4</td>\n",
       "      <td>7</td>\n",
       "      <td>4</td>\n",
       "    </tr>\n",
       "    <tr>\n",
       "      <th>top</th>\n",
       "      <td>May</td>\n",
       "      <td>BB</td>\n",
       "      <td>PRT</td>\n",
       "      <td>TA/TO</td>\n",
       "      <td>A</td>\n",
       "      <td>Transient</td>\n",
       "    </tr>\n",
       "    <tr>\n",
       "      <th>freq</th>\n",
       "      <td>5262</td>\n",
       "      <td>24684</td>\n",
       "      <td>9887</td>\n",
       "      <td>27083</td>\n",
       "      <td>23471</td>\n",
       "      <td>27461</td>\n",
       "    </tr>\n",
       "  </tbody>\n",
       "</table>\n",
       "</div>"
      ],
      "text/plain": [
       "       arrival_date_month       meal country distribution_channel  \\\n",
       "count               32412      32412   32412                32412   \n",
       "unique                  8          5     143                    4   \n",
       "top                   May  BB            PRT                TA/TO   \n",
       "freq                 5262      24684    9887                27083   \n",
       "\n",
       "       reserved_room_type customer_type  \n",
       "count               32412         32412  \n",
       "unique                  7             4  \n",
       "top      A                    Transient  \n",
       "freq                23471         27461  "
      ]
     },
     "metadata": {},
     "output_type": "display_data"
    }
   ],
   "source": [
    "show_i(df_test)"
   ]
  },
  {
   "cell_type": "markdown",
   "metadata": {},
   "source": [
    "`Вывод:` - Тренировочный датасет в два раза больше тестового, это положительно скажется на обучении, много материала.\n",
    "\n",
    "Предварительное ознакомление не выявило пропущенных значений, но есть признаки которые, возможно, нуждаются в смене типа.\n",
    "Например: 'lead_time', 'adults', 'children' и 'babies'. Эти значения могут быть переведены из вещественных в цельночисловые (float -> int)."
   ]
  },
  {
   "cell_type": "markdown",
   "metadata": {},
   "source": [
    "### 1.1.2. <a id='toc1_1_2_'></a>[Шаг 2. Предобработка и исследовательский анализ данных](#toc0_)"
   ]
  },
  {
   "cell_type": "markdown",
   "metadata": {},
   "source": [
    "#### 1.1.2.1. <a id='toc1_1_2_1_'></a>[Предобработка данных](#toc0_)"
   ]
  },
  {
   "cell_type": "markdown",
   "metadata": {},
   "source": [
    "Проверим типы данных"
   ]
  },
  {
   "cell_type": "code",
   "execution_count": 7,
   "metadata": {},
   "outputs": [
    {
     "name": "stdout",
     "output_type": "stream",
     "text": [
      "id                                  int64\n",
      "is_canceled                         int64\n",
      "lead_time                         float64\n",
      "arrival_date_year                   int64\n",
      "arrival_date_month                 object\n",
      "arrival_date_week_number            int64\n",
      "arrival_date_day_of_month           int64\n",
      "stays_in_weekend_nights             int64\n",
      "stays_in_week_nights                int64\n",
      "adults                            float64\n",
      "children                          float64\n",
      "babies                            float64\n",
      "meal                               object\n",
      "country                            object\n",
      "distribution_channel               object\n",
      "is_repeated_guest                   int64\n",
      "previous_cancellations              int64\n",
      "previous_bookings_not_canceled      int64\n",
      "reserved_room_type                 object\n",
      "booking_changes                     int64\n",
      "days_in_waiting_list                int64\n",
      "customer_type                      object\n",
      "required_car_parking_spaces         int64\n",
      "total_of_special_requests           int64\n",
      "total_nights                        int64\n",
      "dtype: object\n"
     ]
    },
    {
     "data": {
      "text/html": [
       "<div>\n",
       "<style scoped>\n",
       "    .dataframe tbody tr th:only-of-type {\n",
       "        vertical-align: middle;\n",
       "    }\n",
       "\n",
       "    .dataframe tbody tr th {\n",
       "        vertical-align: top;\n",
       "    }\n",
       "\n",
       "    .dataframe thead th {\n",
       "        text-align: right;\n",
       "    }\n",
       "</style>\n",
       "<table border=\"1\" class=\"dataframe\">\n",
       "  <thead>\n",
       "    <tr style=\"text-align: right;\">\n",
       "      <th></th>\n",
       "      <th>id</th>\n",
       "      <th>is_canceled</th>\n",
       "      <th>lead_time</th>\n",
       "      <th>arrival_date_year</th>\n",
       "      <th>arrival_date_month</th>\n",
       "      <th>arrival_date_week_number</th>\n",
       "      <th>arrival_date_day_of_month</th>\n",
       "      <th>stays_in_weekend_nights</th>\n",
       "      <th>stays_in_week_nights</th>\n",
       "      <th>adults</th>\n",
       "      <th>children</th>\n",
       "      <th>babies</th>\n",
       "      <th>meal</th>\n",
       "      <th>country</th>\n",
       "      <th>distribution_channel</th>\n",
       "      <th>is_repeated_guest</th>\n",
       "      <th>previous_cancellations</th>\n",
       "      <th>previous_bookings_not_canceled</th>\n",
       "      <th>reserved_room_type</th>\n",
       "      <th>booking_changes</th>\n",
       "      <th>days_in_waiting_list</th>\n",
       "      <th>customer_type</th>\n",
       "      <th>required_car_parking_spaces</th>\n",
       "      <th>total_of_special_requests</th>\n",
       "      <th>total_nights</th>\n",
       "    </tr>\n",
       "  </thead>\n",
       "  <tbody>\n",
       "    <tr>\n",
       "      <th>0</th>\n",
       "      <td>0</td>\n",
       "      <td>0</td>\n",
       "      <td>7.0</td>\n",
       "      <td>2015</td>\n",
       "      <td>July</td>\n",
       "      <td>27</td>\n",
       "      <td>1</td>\n",
       "      <td>0</td>\n",
       "      <td>1</td>\n",
       "      <td>1.0</td>\n",
       "      <td>0.0</td>\n",
       "      <td>0.0</td>\n",
       "      <td>BB</td>\n",
       "      <td>GBR</td>\n",
       "      <td>Direct</td>\n",
       "      <td>0</td>\n",
       "      <td>0</td>\n",
       "      <td>0</td>\n",
       "      <td>A</td>\n",
       "      <td>0</td>\n",
       "      <td>0</td>\n",
       "      <td>Transient</td>\n",
       "      <td>0</td>\n",
       "      <td>0</td>\n",
       "      <td>1</td>\n",
       "    </tr>\n",
       "    <tr>\n",
       "      <th>1</th>\n",
       "      <td>1</td>\n",
       "      <td>0</td>\n",
       "      <td>14.0</td>\n",
       "      <td>2015</td>\n",
       "      <td>July</td>\n",
       "      <td>27</td>\n",
       "      <td>1</td>\n",
       "      <td>0</td>\n",
       "      <td>2</td>\n",
       "      <td>2.0</td>\n",
       "      <td>0.0</td>\n",
       "      <td>0.0</td>\n",
       "      <td>BB</td>\n",
       "      <td>GBR</td>\n",
       "      <td>TA/TO</td>\n",
       "      <td>0</td>\n",
       "      <td>0</td>\n",
       "      <td>0</td>\n",
       "      <td>A</td>\n",
       "      <td>0</td>\n",
       "      <td>0</td>\n",
       "      <td>Transient</td>\n",
       "      <td>0</td>\n",
       "      <td>1</td>\n",
       "      <td>2</td>\n",
       "    </tr>\n",
       "    <tr>\n",
       "      <th>2</th>\n",
       "      <td>2</td>\n",
       "      <td>0</td>\n",
       "      <td>0.0</td>\n",
       "      <td>2015</td>\n",
       "      <td>July</td>\n",
       "      <td>27</td>\n",
       "      <td>1</td>\n",
       "      <td>0</td>\n",
       "      <td>2</td>\n",
       "      <td>2.0</td>\n",
       "      <td>0.0</td>\n",
       "      <td>0.0</td>\n",
       "      <td>BB</td>\n",
       "      <td>PRT</td>\n",
       "      <td>Direct</td>\n",
       "      <td>0</td>\n",
       "      <td>0</td>\n",
       "      <td>0</td>\n",
       "      <td>C</td>\n",
       "      <td>0</td>\n",
       "      <td>0</td>\n",
       "      <td>Transient</td>\n",
       "      <td>0</td>\n",
       "      <td>0</td>\n",
       "      <td>2</td>\n",
       "    </tr>\n",
       "    <tr>\n",
       "      <th>3</th>\n",
       "      <td>3</td>\n",
       "      <td>0</td>\n",
       "      <td>9.0</td>\n",
       "      <td>2015</td>\n",
       "      <td>July</td>\n",
       "      <td>27</td>\n",
       "      <td>1</td>\n",
       "      <td>0</td>\n",
       "      <td>2</td>\n",
       "      <td>2.0</td>\n",
       "      <td>0.0</td>\n",
       "      <td>0.0</td>\n",
       "      <td>FB</td>\n",
       "      <td>PRT</td>\n",
       "      <td>Direct</td>\n",
       "      <td>0</td>\n",
       "      <td>0</td>\n",
       "      <td>0</td>\n",
       "      <td>C</td>\n",
       "      <td>0</td>\n",
       "      <td>0</td>\n",
       "      <td>Transient</td>\n",
       "      <td>0</td>\n",
       "      <td>1</td>\n",
       "      <td>2</td>\n",
       "    </tr>\n",
       "    <tr>\n",
       "      <th>4</th>\n",
       "      <td>4</td>\n",
       "      <td>1</td>\n",
       "      <td>85.0</td>\n",
       "      <td>2015</td>\n",
       "      <td>July</td>\n",
       "      <td>27</td>\n",
       "      <td>1</td>\n",
       "      <td>0</td>\n",
       "      <td>3</td>\n",
       "      <td>2.0</td>\n",
       "      <td>0.0</td>\n",
       "      <td>0.0</td>\n",
       "      <td>BB</td>\n",
       "      <td>PRT</td>\n",
       "      <td>TA/TO</td>\n",
       "      <td>0</td>\n",
       "      <td>0</td>\n",
       "      <td>0</td>\n",
       "      <td>A</td>\n",
       "      <td>0</td>\n",
       "      <td>0</td>\n",
       "      <td>Transient</td>\n",
       "      <td>0</td>\n",
       "      <td>1</td>\n",
       "      <td>3</td>\n",
       "    </tr>\n",
       "  </tbody>\n",
       "</table>\n",
       "</div>"
      ],
      "text/plain": [
       "   id  is_canceled  lead_time  arrival_date_year arrival_date_month  \\\n",
       "0   0            0        7.0               2015               July   \n",
       "1   1            0       14.0               2015               July   \n",
       "2   2            0        0.0               2015               July   \n",
       "3   3            0        9.0               2015               July   \n",
       "4   4            1       85.0               2015               July   \n",
       "\n",
       "   arrival_date_week_number  arrival_date_day_of_month  \\\n",
       "0                        27                          1   \n",
       "1                        27                          1   \n",
       "2                        27                          1   \n",
       "3                        27                          1   \n",
       "4                        27                          1   \n",
       "\n",
       "   stays_in_weekend_nights  stays_in_week_nights  adults  children  babies  \\\n",
       "0                        0                     1     1.0       0.0     0.0   \n",
       "1                        0                     2     2.0       0.0     0.0   \n",
       "2                        0                     2     2.0       0.0     0.0   \n",
       "3                        0                     2     2.0       0.0     0.0   \n",
       "4                        0                     3     2.0       0.0     0.0   \n",
       "\n",
       "        meal country distribution_channel  is_repeated_guest  \\\n",
       "0  BB            GBR               Direct                  0   \n",
       "1  BB            GBR                TA/TO                  0   \n",
       "2  BB            PRT               Direct                  0   \n",
       "3  FB            PRT               Direct                  0   \n",
       "4  BB            PRT                TA/TO                  0   \n",
       "\n",
       "   previous_cancellations  previous_bookings_not_canceled reserved_room_type  \\\n",
       "0                       0                               0   A                  \n",
       "1                       0                               0   A                  \n",
       "2                       0                               0   C                  \n",
       "3                       0                               0   C                  \n",
       "4                       0                               0   A                  \n",
       "\n",
       "   booking_changes  days_in_waiting_list customer_type  \\\n",
       "0                0                     0     Transient   \n",
       "1                0                     0     Transient   \n",
       "2                0                     0     Transient   \n",
       "3                0                     0     Transient   \n",
       "4                0                     0     Transient   \n",
       "\n",
       "   required_car_parking_spaces  total_of_special_requests  total_nights  \n",
       "0                            0                          0             1  \n",
       "1                            0                          1             2  \n",
       "2                            0                          0             2  \n",
       "3                            0                          1             2  \n",
       "4                            0                          1             3  "
      ]
     },
     "execution_count": 7,
     "metadata": {},
     "output_type": "execute_result"
    }
   ],
   "source": [
    "# выборка train\n",
    "print(df_train.dtypes)\n",
    "\n",
    "# выводим все колонки без пропусков для лучшего обзора\n",
    "pd.set_option('display.max_columns', None)\n",
    "df_train.head()"
   ]
  },
  {
   "cell_type": "code",
   "execution_count": 8,
   "metadata": {},
   "outputs": [
    {
     "name": "stdout",
     "output_type": "stream",
     "text": [
      "id                                  int64\n",
      "is_canceled                         int64\n",
      "lead_time                         float64\n",
      "arrival_date_year                   int64\n",
      "arrival_date_month                 object\n",
      "arrival_date_week_number            int64\n",
      "arrival_date_day_of_month           int64\n",
      "stays_in_weekend_nights             int64\n",
      "stays_in_week_nights                int64\n",
      "adults                            float64\n",
      "children                          float64\n",
      "babies                            float64\n",
      "meal                               object\n",
      "country                            object\n",
      "distribution_channel               object\n",
      "is_repeated_guest                   int64\n",
      "previous_cancellations              int64\n",
      "previous_bookings_not_canceled      int64\n",
      "reserved_room_type                 object\n",
      "booking_changes                     int64\n",
      "days_in_waiting_list                int64\n",
      "customer_type                      object\n",
      "required_car_parking_spaces         int64\n",
      "total_of_special_requests           int64\n",
      "total_nights                        int64\n",
      "dtype: object\n"
     ]
    },
    {
     "data": {
      "text/html": [
       "<div>\n",
       "<style scoped>\n",
       "    .dataframe tbody tr th:only-of-type {\n",
       "        vertical-align: middle;\n",
       "    }\n",
       "\n",
       "    .dataframe tbody tr th {\n",
       "        vertical-align: top;\n",
       "    }\n",
       "\n",
       "    .dataframe thead th {\n",
       "        text-align: right;\n",
       "    }\n",
       "</style>\n",
       "<table border=\"1\" class=\"dataframe\">\n",
       "  <thead>\n",
       "    <tr style=\"text-align: right;\">\n",
       "      <th></th>\n",
       "      <th>id</th>\n",
       "      <th>is_canceled</th>\n",
       "      <th>lead_time</th>\n",
       "      <th>arrival_date_year</th>\n",
       "      <th>arrival_date_month</th>\n",
       "      <th>arrival_date_week_number</th>\n",
       "      <th>arrival_date_day_of_month</th>\n",
       "      <th>stays_in_weekend_nights</th>\n",
       "      <th>stays_in_week_nights</th>\n",
       "      <th>adults</th>\n",
       "      <th>children</th>\n",
       "      <th>babies</th>\n",
       "      <th>meal</th>\n",
       "      <th>country</th>\n",
       "      <th>distribution_channel</th>\n",
       "      <th>is_repeated_guest</th>\n",
       "      <th>previous_cancellations</th>\n",
       "      <th>previous_bookings_not_canceled</th>\n",
       "      <th>reserved_room_type</th>\n",
       "      <th>booking_changes</th>\n",
       "      <th>days_in_waiting_list</th>\n",
       "      <th>customer_type</th>\n",
       "      <th>required_car_parking_spaces</th>\n",
       "      <th>total_of_special_requests</th>\n",
       "      <th>total_nights</th>\n",
       "    </tr>\n",
       "  </thead>\n",
       "  <tbody>\n",
       "    <tr>\n",
       "      <th>0</th>\n",
       "      <td>6086</td>\n",
       "      <td>1</td>\n",
       "      <td>74.0</td>\n",
       "      <td>2017</td>\n",
       "      <td>January</td>\n",
       "      <td>1</td>\n",
       "      <td>1</td>\n",
       "      <td>1</td>\n",
       "      <td>0</td>\n",
       "      <td>2.0</td>\n",
       "      <td>0.0</td>\n",
       "      <td>0.0</td>\n",
       "      <td>BB</td>\n",
       "      <td>PRT</td>\n",
       "      <td>TA/TO</td>\n",
       "      <td>0</td>\n",
       "      <td>0</td>\n",
       "      <td>0</td>\n",
       "      <td>A</td>\n",
       "      <td>0</td>\n",
       "      <td>0</td>\n",
       "      <td>Transient</td>\n",
       "      <td>0</td>\n",
       "      <td>0</td>\n",
       "      <td>1</td>\n",
       "    </tr>\n",
       "    <tr>\n",
       "      <th>1</th>\n",
       "      <td>6087</td>\n",
       "      <td>1</td>\n",
       "      <td>62.0</td>\n",
       "      <td>2017</td>\n",
       "      <td>January</td>\n",
       "      <td>1</td>\n",
       "      <td>1</td>\n",
       "      <td>2</td>\n",
       "      <td>2</td>\n",
       "      <td>2.0</td>\n",
       "      <td>0.0</td>\n",
       "      <td>0.0</td>\n",
       "      <td>BB</td>\n",
       "      <td>AUT</td>\n",
       "      <td>TA/TO</td>\n",
       "      <td>0</td>\n",
       "      <td>0</td>\n",
       "      <td>0</td>\n",
       "      <td>A</td>\n",
       "      <td>0</td>\n",
       "      <td>0</td>\n",
       "      <td>Transient</td>\n",
       "      <td>0</td>\n",
       "      <td>1</td>\n",
       "      <td>4</td>\n",
       "    </tr>\n",
       "    <tr>\n",
       "      <th>2</th>\n",
       "      <td>6088</td>\n",
       "      <td>1</td>\n",
       "      <td>62.0</td>\n",
       "      <td>2017</td>\n",
       "      <td>January</td>\n",
       "      <td>1</td>\n",
       "      <td>1</td>\n",
       "      <td>2</td>\n",
       "      <td>2</td>\n",
       "      <td>2.0</td>\n",
       "      <td>0.0</td>\n",
       "      <td>0.0</td>\n",
       "      <td>BB</td>\n",
       "      <td>AUT</td>\n",
       "      <td>TA/TO</td>\n",
       "      <td>0</td>\n",
       "      <td>0</td>\n",
       "      <td>0</td>\n",
       "      <td>A</td>\n",
       "      <td>0</td>\n",
       "      <td>0</td>\n",
       "      <td>Transient</td>\n",
       "      <td>0</td>\n",
       "      <td>1</td>\n",
       "      <td>4</td>\n",
       "    </tr>\n",
       "    <tr>\n",
       "      <th>3</th>\n",
       "      <td>6089</td>\n",
       "      <td>1</td>\n",
       "      <td>71.0</td>\n",
       "      <td>2017</td>\n",
       "      <td>January</td>\n",
       "      <td>1</td>\n",
       "      <td>1</td>\n",
       "      <td>2</td>\n",
       "      <td>2</td>\n",
       "      <td>1.0</td>\n",
       "      <td>0.0</td>\n",
       "      <td>0.0</td>\n",
       "      <td>BB</td>\n",
       "      <td>PRT</td>\n",
       "      <td>TA/TO</td>\n",
       "      <td>0</td>\n",
       "      <td>0</td>\n",
       "      <td>0</td>\n",
       "      <td>A</td>\n",
       "      <td>0</td>\n",
       "      <td>0</td>\n",
       "      <td>Transient</td>\n",
       "      <td>0</td>\n",
       "      <td>1</td>\n",
       "      <td>4</td>\n",
       "    </tr>\n",
       "    <tr>\n",
       "      <th>4</th>\n",
       "      <td>6090</td>\n",
       "      <td>1</td>\n",
       "      <td>172.0</td>\n",
       "      <td>2017</td>\n",
       "      <td>January</td>\n",
       "      <td>1</td>\n",
       "      <td>1</td>\n",
       "      <td>2</td>\n",
       "      <td>5</td>\n",
       "      <td>2.0</td>\n",
       "      <td>0.0</td>\n",
       "      <td>0.0</td>\n",
       "      <td>BB</td>\n",
       "      <td>BEL</td>\n",
       "      <td>TA/TO</td>\n",
       "      <td>0</td>\n",
       "      <td>0</td>\n",
       "      <td>0</td>\n",
       "      <td>A</td>\n",
       "      <td>0</td>\n",
       "      <td>0</td>\n",
       "      <td>Transient</td>\n",
       "      <td>0</td>\n",
       "      <td>0</td>\n",
       "      <td>7</td>\n",
       "    </tr>\n",
       "  </tbody>\n",
       "</table>\n",
       "</div>"
      ],
      "text/plain": [
       "     id  is_canceled  lead_time  arrival_date_year arrival_date_month  \\\n",
       "0  6086            1       74.0               2017            January   \n",
       "1  6087            1       62.0               2017            January   \n",
       "2  6088            1       62.0               2017            January   \n",
       "3  6089            1       71.0               2017            January   \n",
       "4  6090            1      172.0               2017            January   \n",
       "\n",
       "   arrival_date_week_number  arrival_date_day_of_month  \\\n",
       "0                         1                          1   \n",
       "1                         1                          1   \n",
       "2                         1                          1   \n",
       "3                         1                          1   \n",
       "4                         1                          1   \n",
       "\n",
       "   stays_in_weekend_nights  stays_in_week_nights  adults  children  babies  \\\n",
       "0                        1                     0     2.0       0.0     0.0   \n",
       "1                        2                     2     2.0       0.0     0.0   \n",
       "2                        2                     2     2.0       0.0     0.0   \n",
       "3                        2                     2     1.0       0.0     0.0   \n",
       "4                        2                     5     2.0       0.0     0.0   \n",
       "\n",
       "        meal country distribution_channel  is_repeated_guest  \\\n",
       "0  BB            PRT                TA/TO                  0   \n",
       "1  BB            AUT                TA/TO                  0   \n",
       "2  BB            AUT                TA/TO                  0   \n",
       "3  BB            PRT                TA/TO                  0   \n",
       "4  BB            BEL                TA/TO                  0   \n",
       "\n",
       "   previous_cancellations  previous_bookings_not_canceled reserved_room_type  \\\n",
       "0                       0                               0   A                  \n",
       "1                       0                               0   A                  \n",
       "2                       0                               0   A                  \n",
       "3                       0                               0   A                  \n",
       "4                       0                               0   A                  \n",
       "\n",
       "   booking_changes  days_in_waiting_list customer_type  \\\n",
       "0                0                     0     Transient   \n",
       "1                0                     0     Transient   \n",
       "2                0                     0     Transient   \n",
       "3                0                     0     Transient   \n",
       "4                0                     0     Transient   \n",
       "\n",
       "   required_car_parking_spaces  total_of_special_requests  total_nights  \n",
       "0                            0                          0             1  \n",
       "1                            0                          1             4  \n",
       "2                            0                          1             4  \n",
       "3                            0                          1             4  \n",
       "4                            0                          0             7  "
      ]
     },
     "execution_count": 8,
     "metadata": {},
     "output_type": "execute_result"
    }
   ],
   "source": [
    "# выборка test\n",
    "print(df_test.dtypes)\n",
    "df_test.head()"
   ]
  },
  {
   "cell_type": "markdown",
   "metadata": {},
   "source": [
    "В обоих датафреймах есть признаки описывающие цельные значения, например, количество детей, но их тип указан как вещественный.\n",
    "Переведём вещественные признаки в цельночисловые."
   ]
  },
  {
   "cell_type": "code",
   "execution_count": 9,
   "metadata": {},
   "outputs": [],
   "source": [
    "# меняем тип float -> int в df_train\n",
    "df_train['lead_time'] = df_train['lead_time'].astype(int)\n",
    "df_train['adults'] = df_train['adults'].astype(int)\n",
    "df_train['children'] = df_train['children'].astype(int)\n",
    "df_train['babies'] = df_train['babies'].astype(int)\n",
    "\n",
    "# меняем тип float -> int в df_test\n",
    "df_test['lead_time'] = df_test['lead_time'].astype(int)\n",
    "df_test['adults'] = df_test['adults'].astype(int)\n",
    "df_test['children'] = df_test['children'].astype(int)\n",
    "df_test['babies'] = df_test['babies'].astype(int)"
   ]
  },
  {
   "cell_type": "markdown",
   "metadata": {},
   "source": [
    "Проверяем что типы поменялись на Int"
   ]
  },
  {
   "cell_type": "code",
   "execution_count": 10,
   "metadata": {},
   "outputs": [
    {
     "name": "stdout",
     "output_type": "stream",
     "text": [
      "id                                 int64\n",
      "is_canceled                        int64\n",
      "lead_time                          int64\n",
      "arrival_date_year                  int64\n",
      "arrival_date_month                object\n",
      "arrival_date_week_number           int64\n",
      "arrival_date_day_of_month          int64\n",
      "stays_in_weekend_nights            int64\n",
      "stays_in_week_nights               int64\n",
      "adults                             int64\n",
      "children                           int64\n",
      "babies                             int64\n",
      "meal                              object\n",
      "country                           object\n",
      "distribution_channel              object\n",
      "is_repeated_guest                  int64\n",
      "previous_cancellations             int64\n",
      "previous_bookings_not_canceled     int64\n",
      "reserved_room_type                object\n",
      "booking_changes                    int64\n",
      "days_in_waiting_list               int64\n",
      "customer_type                     object\n",
      "required_car_parking_spaces        int64\n",
      "total_of_special_requests          int64\n",
      "total_nights                       int64\n",
      "dtype: object\n"
     ]
    }
   ],
   "source": [
    "print(df_train.dtypes)"
   ]
  },
  {
   "cell_type": "code",
   "execution_count": 11,
   "metadata": {},
   "outputs": [
    {
     "name": "stdout",
     "output_type": "stream",
     "text": [
      "id                                 int64\n",
      "is_canceled                        int64\n",
      "lead_time                          int64\n",
      "arrival_date_year                  int64\n",
      "arrival_date_month                object\n",
      "arrival_date_week_number           int64\n",
      "arrival_date_day_of_month          int64\n",
      "stays_in_weekend_nights            int64\n",
      "stays_in_week_nights               int64\n",
      "adults                             int64\n",
      "children                           int64\n",
      "babies                             int64\n",
      "meal                              object\n",
      "country                           object\n",
      "distribution_channel              object\n",
      "is_repeated_guest                  int64\n",
      "previous_cancellations             int64\n",
      "previous_bookings_not_canceled     int64\n",
      "reserved_room_type                object\n",
      "booking_changes                    int64\n",
      "days_in_waiting_list               int64\n",
      "customer_type                     object\n",
      "required_car_parking_spaces        int64\n",
      "total_of_special_requests          int64\n",
      "total_nights                       int64\n",
      "dtype: object\n"
     ]
    }
   ],
   "source": [
    "print(df_test.dtypes)"
   ]
  },
  {
   "cell_type": "markdown",
   "metadata": {},
   "source": [
    "`Вывод:` - типы данных успешно изменены."
   ]
  },
  {
   "cell_type": "markdown",
   "metadata": {},
   "source": [
    "Проверяем пропущенные значения в таблицах в процентах"
   ]
  },
  {
   "cell_type": "code",
   "execution_count": 12,
   "metadata": {},
   "outputs": [
    {
     "data": {
      "text/plain": [
       "'df_train missing data:'"
      ]
     },
     "metadata": {},
     "output_type": "display_data"
    },
    {
     "data": {
      "text/html": [
       "<style  type=\"text/css\" >\n",
       "#T_47217_row0_col0,#T_47217_row1_col0,#T_47217_row2_col0,#T_47217_row3_col0,#T_47217_row4_col0,#T_47217_row5_col0,#T_47217_row6_col0,#T_47217_row7_col0,#T_47217_row8_col0,#T_47217_row9_col0,#T_47217_row10_col0,#T_47217_row11_col0,#T_47217_row12_col0,#T_47217_row13_col0,#T_47217_row14_col0,#T_47217_row15_col0,#T_47217_row16_col0,#T_47217_row17_col0,#T_47217_row18_col0,#T_47217_row19_col0,#T_47217_row20_col0,#T_47217_row21_col0,#T_47217_row22_col0,#T_47217_row23_col0,#T_47217_row24_col0{\n",
       "            background-color:  #3b4cc0;\n",
       "            color:  #f1f1f1;\n",
       "        }</style><table id=\"T_47217_\" ><thead>    <tr>        <th class=\"blank level0\" ></th>        <th class=\"col_heading level0 col0\" >0</th>    </tr></thead><tbody>\n",
       "                <tr>\n",
       "                        <th id=\"T_47217_level0_row0\" class=\"row_heading level0 row0\" >id</th>\n",
       "                        <td id=\"T_47217_row0_col0\" class=\"data row0 col0\" >0.000000</td>\n",
       "            </tr>\n",
       "            <tr>\n",
       "                        <th id=\"T_47217_level0_row1\" class=\"row_heading level0 row1\" >is_canceled</th>\n",
       "                        <td id=\"T_47217_row1_col0\" class=\"data row1 col0\" >0.000000</td>\n",
       "            </tr>\n",
       "            <tr>\n",
       "                        <th id=\"T_47217_level0_row2\" class=\"row_heading level0 row2\" >lead_time</th>\n",
       "                        <td id=\"T_47217_row2_col0\" class=\"data row2 col0\" >0.000000</td>\n",
       "            </tr>\n",
       "            <tr>\n",
       "                        <th id=\"T_47217_level0_row3\" class=\"row_heading level0 row3\" >arrival_date_year</th>\n",
       "                        <td id=\"T_47217_row3_col0\" class=\"data row3 col0\" >0.000000</td>\n",
       "            </tr>\n",
       "            <tr>\n",
       "                        <th id=\"T_47217_level0_row4\" class=\"row_heading level0 row4\" >arrival_date_month</th>\n",
       "                        <td id=\"T_47217_row4_col0\" class=\"data row4 col0\" >0.000000</td>\n",
       "            </tr>\n",
       "            <tr>\n",
       "                        <th id=\"T_47217_level0_row5\" class=\"row_heading level0 row5\" >arrival_date_week_number</th>\n",
       "                        <td id=\"T_47217_row5_col0\" class=\"data row5 col0\" >0.000000</td>\n",
       "            </tr>\n",
       "            <tr>\n",
       "                        <th id=\"T_47217_level0_row6\" class=\"row_heading level0 row6\" >arrival_date_day_of_month</th>\n",
       "                        <td id=\"T_47217_row6_col0\" class=\"data row6 col0\" >0.000000</td>\n",
       "            </tr>\n",
       "            <tr>\n",
       "                        <th id=\"T_47217_level0_row7\" class=\"row_heading level0 row7\" >stays_in_weekend_nights</th>\n",
       "                        <td id=\"T_47217_row7_col0\" class=\"data row7 col0\" >0.000000</td>\n",
       "            </tr>\n",
       "            <tr>\n",
       "                        <th id=\"T_47217_level0_row8\" class=\"row_heading level0 row8\" >stays_in_week_nights</th>\n",
       "                        <td id=\"T_47217_row8_col0\" class=\"data row8 col0\" >0.000000</td>\n",
       "            </tr>\n",
       "            <tr>\n",
       "                        <th id=\"T_47217_level0_row9\" class=\"row_heading level0 row9\" >adults</th>\n",
       "                        <td id=\"T_47217_row9_col0\" class=\"data row9 col0\" >0.000000</td>\n",
       "            </tr>\n",
       "            <tr>\n",
       "                        <th id=\"T_47217_level0_row10\" class=\"row_heading level0 row10\" >children</th>\n",
       "                        <td id=\"T_47217_row10_col0\" class=\"data row10 col0\" >0.000000</td>\n",
       "            </tr>\n",
       "            <tr>\n",
       "                        <th id=\"T_47217_level0_row11\" class=\"row_heading level0 row11\" >babies</th>\n",
       "                        <td id=\"T_47217_row11_col0\" class=\"data row11 col0\" >0.000000</td>\n",
       "            </tr>\n",
       "            <tr>\n",
       "                        <th id=\"T_47217_level0_row12\" class=\"row_heading level0 row12\" >meal</th>\n",
       "                        <td id=\"T_47217_row12_col0\" class=\"data row12 col0\" >0.000000</td>\n",
       "            </tr>\n",
       "            <tr>\n",
       "                        <th id=\"T_47217_level0_row13\" class=\"row_heading level0 row13\" >country</th>\n",
       "                        <td id=\"T_47217_row13_col0\" class=\"data row13 col0\" >0.000000</td>\n",
       "            </tr>\n",
       "            <tr>\n",
       "                        <th id=\"T_47217_level0_row14\" class=\"row_heading level0 row14\" >distribution_channel</th>\n",
       "                        <td id=\"T_47217_row14_col0\" class=\"data row14 col0\" >0.000000</td>\n",
       "            </tr>\n",
       "            <tr>\n",
       "                        <th id=\"T_47217_level0_row15\" class=\"row_heading level0 row15\" >is_repeated_guest</th>\n",
       "                        <td id=\"T_47217_row15_col0\" class=\"data row15 col0\" >0.000000</td>\n",
       "            </tr>\n",
       "            <tr>\n",
       "                        <th id=\"T_47217_level0_row16\" class=\"row_heading level0 row16\" >previous_cancellations</th>\n",
       "                        <td id=\"T_47217_row16_col0\" class=\"data row16 col0\" >0.000000</td>\n",
       "            </tr>\n",
       "            <tr>\n",
       "                        <th id=\"T_47217_level0_row17\" class=\"row_heading level0 row17\" >previous_bookings_not_canceled</th>\n",
       "                        <td id=\"T_47217_row17_col0\" class=\"data row17 col0\" >0.000000</td>\n",
       "            </tr>\n",
       "            <tr>\n",
       "                        <th id=\"T_47217_level0_row18\" class=\"row_heading level0 row18\" >reserved_room_type</th>\n",
       "                        <td id=\"T_47217_row18_col0\" class=\"data row18 col0\" >0.000000</td>\n",
       "            </tr>\n",
       "            <tr>\n",
       "                        <th id=\"T_47217_level0_row19\" class=\"row_heading level0 row19\" >booking_changes</th>\n",
       "                        <td id=\"T_47217_row19_col0\" class=\"data row19 col0\" >0.000000</td>\n",
       "            </tr>\n",
       "            <tr>\n",
       "                        <th id=\"T_47217_level0_row20\" class=\"row_heading level0 row20\" >days_in_waiting_list</th>\n",
       "                        <td id=\"T_47217_row20_col0\" class=\"data row20 col0\" >0.000000</td>\n",
       "            </tr>\n",
       "            <tr>\n",
       "                        <th id=\"T_47217_level0_row21\" class=\"row_heading level0 row21\" >customer_type</th>\n",
       "                        <td id=\"T_47217_row21_col0\" class=\"data row21 col0\" >0.000000</td>\n",
       "            </tr>\n",
       "            <tr>\n",
       "                        <th id=\"T_47217_level0_row22\" class=\"row_heading level0 row22\" >required_car_parking_spaces</th>\n",
       "                        <td id=\"T_47217_row22_col0\" class=\"data row22 col0\" >0.000000</td>\n",
       "            </tr>\n",
       "            <tr>\n",
       "                        <th id=\"T_47217_level0_row23\" class=\"row_heading level0 row23\" >total_of_special_requests</th>\n",
       "                        <td id=\"T_47217_row23_col0\" class=\"data row23 col0\" >0.000000</td>\n",
       "            </tr>\n",
       "            <tr>\n",
       "                        <th id=\"T_47217_level0_row24\" class=\"row_heading level0 row24\" >total_nights</th>\n",
       "                        <td id=\"T_47217_row24_col0\" class=\"data row24 col0\" >0.000000</td>\n",
       "            </tr>\n",
       "    </tbody></table>"
      ],
      "text/plain": [
       "<pandas.io.formats.style.Styler at 0x7f55c0a04910>"
      ]
     },
     "metadata": {},
     "output_type": "display_data"
    },
    {
     "data": {
      "text/plain": [
       "'df_test missing data:'"
      ]
     },
     "metadata": {},
     "output_type": "display_data"
    },
    {
     "data": {
      "text/html": [
       "<style  type=\"text/css\" >\n",
       "#T_d6b39_row0_col0,#T_d6b39_row1_col0,#T_d6b39_row2_col0,#T_d6b39_row3_col0,#T_d6b39_row4_col0,#T_d6b39_row5_col0,#T_d6b39_row6_col0,#T_d6b39_row7_col0,#T_d6b39_row8_col0,#T_d6b39_row9_col0,#T_d6b39_row10_col0,#T_d6b39_row11_col0,#T_d6b39_row12_col0,#T_d6b39_row13_col0,#T_d6b39_row14_col0,#T_d6b39_row15_col0,#T_d6b39_row16_col0,#T_d6b39_row17_col0,#T_d6b39_row18_col0,#T_d6b39_row19_col0,#T_d6b39_row20_col0,#T_d6b39_row21_col0,#T_d6b39_row22_col0,#T_d6b39_row23_col0,#T_d6b39_row24_col0{\n",
       "            background-color:  #3b4cc0;\n",
       "            color:  #f1f1f1;\n",
       "        }</style><table id=\"T_d6b39_\" ><thead>    <tr>        <th class=\"blank level0\" ></th>        <th class=\"col_heading level0 col0\" >0</th>    </tr></thead><tbody>\n",
       "                <tr>\n",
       "                        <th id=\"T_d6b39_level0_row0\" class=\"row_heading level0 row0\" >id</th>\n",
       "                        <td id=\"T_d6b39_row0_col0\" class=\"data row0 col0\" >0.000000</td>\n",
       "            </tr>\n",
       "            <tr>\n",
       "                        <th id=\"T_d6b39_level0_row1\" class=\"row_heading level0 row1\" >is_canceled</th>\n",
       "                        <td id=\"T_d6b39_row1_col0\" class=\"data row1 col0\" >0.000000</td>\n",
       "            </tr>\n",
       "            <tr>\n",
       "                        <th id=\"T_d6b39_level0_row2\" class=\"row_heading level0 row2\" >lead_time</th>\n",
       "                        <td id=\"T_d6b39_row2_col0\" class=\"data row2 col0\" >0.000000</td>\n",
       "            </tr>\n",
       "            <tr>\n",
       "                        <th id=\"T_d6b39_level0_row3\" class=\"row_heading level0 row3\" >arrival_date_year</th>\n",
       "                        <td id=\"T_d6b39_row3_col0\" class=\"data row3 col0\" >0.000000</td>\n",
       "            </tr>\n",
       "            <tr>\n",
       "                        <th id=\"T_d6b39_level0_row4\" class=\"row_heading level0 row4\" >arrival_date_month</th>\n",
       "                        <td id=\"T_d6b39_row4_col0\" class=\"data row4 col0\" >0.000000</td>\n",
       "            </tr>\n",
       "            <tr>\n",
       "                        <th id=\"T_d6b39_level0_row5\" class=\"row_heading level0 row5\" >arrival_date_week_number</th>\n",
       "                        <td id=\"T_d6b39_row5_col0\" class=\"data row5 col0\" >0.000000</td>\n",
       "            </tr>\n",
       "            <tr>\n",
       "                        <th id=\"T_d6b39_level0_row6\" class=\"row_heading level0 row6\" >arrival_date_day_of_month</th>\n",
       "                        <td id=\"T_d6b39_row6_col0\" class=\"data row6 col0\" >0.000000</td>\n",
       "            </tr>\n",
       "            <tr>\n",
       "                        <th id=\"T_d6b39_level0_row7\" class=\"row_heading level0 row7\" >stays_in_weekend_nights</th>\n",
       "                        <td id=\"T_d6b39_row7_col0\" class=\"data row7 col0\" >0.000000</td>\n",
       "            </tr>\n",
       "            <tr>\n",
       "                        <th id=\"T_d6b39_level0_row8\" class=\"row_heading level0 row8\" >stays_in_week_nights</th>\n",
       "                        <td id=\"T_d6b39_row8_col0\" class=\"data row8 col0\" >0.000000</td>\n",
       "            </tr>\n",
       "            <tr>\n",
       "                        <th id=\"T_d6b39_level0_row9\" class=\"row_heading level0 row9\" >adults</th>\n",
       "                        <td id=\"T_d6b39_row9_col0\" class=\"data row9 col0\" >0.000000</td>\n",
       "            </tr>\n",
       "            <tr>\n",
       "                        <th id=\"T_d6b39_level0_row10\" class=\"row_heading level0 row10\" >children</th>\n",
       "                        <td id=\"T_d6b39_row10_col0\" class=\"data row10 col0\" >0.000000</td>\n",
       "            </tr>\n",
       "            <tr>\n",
       "                        <th id=\"T_d6b39_level0_row11\" class=\"row_heading level0 row11\" >babies</th>\n",
       "                        <td id=\"T_d6b39_row11_col0\" class=\"data row11 col0\" >0.000000</td>\n",
       "            </tr>\n",
       "            <tr>\n",
       "                        <th id=\"T_d6b39_level0_row12\" class=\"row_heading level0 row12\" >meal</th>\n",
       "                        <td id=\"T_d6b39_row12_col0\" class=\"data row12 col0\" >0.000000</td>\n",
       "            </tr>\n",
       "            <tr>\n",
       "                        <th id=\"T_d6b39_level0_row13\" class=\"row_heading level0 row13\" >country</th>\n",
       "                        <td id=\"T_d6b39_row13_col0\" class=\"data row13 col0\" >0.000000</td>\n",
       "            </tr>\n",
       "            <tr>\n",
       "                        <th id=\"T_d6b39_level0_row14\" class=\"row_heading level0 row14\" >distribution_channel</th>\n",
       "                        <td id=\"T_d6b39_row14_col0\" class=\"data row14 col0\" >0.000000</td>\n",
       "            </tr>\n",
       "            <tr>\n",
       "                        <th id=\"T_d6b39_level0_row15\" class=\"row_heading level0 row15\" >is_repeated_guest</th>\n",
       "                        <td id=\"T_d6b39_row15_col0\" class=\"data row15 col0\" >0.000000</td>\n",
       "            </tr>\n",
       "            <tr>\n",
       "                        <th id=\"T_d6b39_level0_row16\" class=\"row_heading level0 row16\" >previous_cancellations</th>\n",
       "                        <td id=\"T_d6b39_row16_col0\" class=\"data row16 col0\" >0.000000</td>\n",
       "            </tr>\n",
       "            <tr>\n",
       "                        <th id=\"T_d6b39_level0_row17\" class=\"row_heading level0 row17\" >previous_bookings_not_canceled</th>\n",
       "                        <td id=\"T_d6b39_row17_col0\" class=\"data row17 col0\" >0.000000</td>\n",
       "            </tr>\n",
       "            <tr>\n",
       "                        <th id=\"T_d6b39_level0_row18\" class=\"row_heading level0 row18\" >reserved_room_type</th>\n",
       "                        <td id=\"T_d6b39_row18_col0\" class=\"data row18 col0\" >0.000000</td>\n",
       "            </tr>\n",
       "            <tr>\n",
       "                        <th id=\"T_d6b39_level0_row19\" class=\"row_heading level0 row19\" >booking_changes</th>\n",
       "                        <td id=\"T_d6b39_row19_col0\" class=\"data row19 col0\" >0.000000</td>\n",
       "            </tr>\n",
       "            <tr>\n",
       "                        <th id=\"T_d6b39_level0_row20\" class=\"row_heading level0 row20\" >days_in_waiting_list</th>\n",
       "                        <td id=\"T_d6b39_row20_col0\" class=\"data row20 col0\" >0.000000</td>\n",
       "            </tr>\n",
       "            <tr>\n",
       "                        <th id=\"T_d6b39_level0_row21\" class=\"row_heading level0 row21\" >customer_type</th>\n",
       "                        <td id=\"T_d6b39_row21_col0\" class=\"data row21 col0\" >0.000000</td>\n",
       "            </tr>\n",
       "            <tr>\n",
       "                        <th id=\"T_d6b39_level0_row22\" class=\"row_heading level0 row22\" >required_car_parking_spaces</th>\n",
       "                        <td id=\"T_d6b39_row22_col0\" class=\"data row22 col0\" >0.000000</td>\n",
       "            </tr>\n",
       "            <tr>\n",
       "                        <th id=\"T_d6b39_level0_row23\" class=\"row_heading level0 row23\" >total_of_special_requests</th>\n",
       "                        <td id=\"T_d6b39_row23_col0\" class=\"data row23 col0\" >0.000000</td>\n",
       "            </tr>\n",
       "            <tr>\n",
       "                        <th id=\"T_d6b39_level0_row24\" class=\"row_heading level0 row24\" >total_nights</th>\n",
       "                        <td id=\"T_d6b39_row24_col0\" class=\"data row24 col0\" >0.000000</td>\n",
       "            </tr>\n",
       "    </tbody></table>"
      ],
      "text/plain": [
       "<pandas.io.formats.style.Styler at 0x7f55bfb715b0>"
      ]
     },
     "metadata": {},
     "output_type": "display_data"
    }
   ],
   "source": [
    "# df_train пропуски\n",
    "display('df_train missing data:', pd.DataFrame(round(df_train.isna().mean()*100)).style.background_gradient('coolwarm'))\n",
    "\n",
    "# df_test пропуски\n",
    "display('df_test missing data:', pd.DataFrame(round(df_test.isna().mean()*100)).style.background_gradient('coolwarm'))"
   ]
  },
  {
   "cell_type": "markdown",
   "metadata": {},
   "source": [
    "`Вывод:` - пропущенных значений нет."
   ]
  },
  {
   "cell_type": "markdown",
   "metadata": {},
   "source": [
    "Проеверяем наличие явных дубликатов"
   ]
  },
  {
   "cell_type": "code",
   "execution_count": 13,
   "metadata": {},
   "outputs": [
    {
     "name": "stdout",
     "output_type": "stream",
     "text": [
      "df_train дубликаты: 0\n",
      "df_test дубликаты: 0\n"
     ]
    }
   ],
   "source": [
    "# Проверяем очевидные дубликаты - строки которые полностью повторяют уже встречавшиеся в датасете. Очевидных дубликатов нет.\n",
    "\n",
    "# df_train дубликаты\n",
    "print('df_train дубликаты:', df_train.duplicated().sum())\n",
    "\n",
    "# df_test дубликаты\n",
    "print('df_test дубликаты:', df_test.duplicated().sum())"
   ]
  },
  {
   "cell_type": "markdown",
   "metadata": {},
   "source": [
    "`Вывод:` - дубликатов нет"
   ]
  },
  {
   "cell_type": "markdown",
   "metadata": {},
   "source": [
    "Убраем колонки которые нам не нужны для обучения. Колонка `id` не несёт иформацинной нагрузки, параметр `arrival_date_week_number` также не является информативным, более того, он отчасти дублирует другие временные параметры имеющиеся в нашем распоряжении, например `arrival_date_day_of_month`. Параметр `country` по-сути влияет на параметр `lead_time` тк удалённость страны может влиять на продолжительность времени между бронированием и прибитием в отель."
   ]
  },
  {
   "cell_type": "code",
   "execution_count": 14,
   "metadata": {},
   "outputs": [],
   "source": [
    "df_train = df_train.drop(columns=['id', 'arrival_date_week_number', 'country'], axis=1)\n",
    "df_test = df_test.drop(columns=['id', 'arrival_date_week_number', 'country'], axis=1)"
   ]
  },
  {
   "cell_type": "code",
   "execution_count": 15,
   "metadata": {},
   "outputs": [
    {
     "data": {
      "text/html": [
       "<div>\n",
       "<style scoped>\n",
       "    .dataframe tbody tr th:only-of-type {\n",
       "        vertical-align: middle;\n",
       "    }\n",
       "\n",
       "    .dataframe tbody tr th {\n",
       "        vertical-align: top;\n",
       "    }\n",
       "\n",
       "    .dataframe thead th {\n",
       "        text-align: right;\n",
       "    }\n",
       "</style>\n",
       "<table border=\"1\" class=\"dataframe\">\n",
       "  <thead>\n",
       "    <tr style=\"text-align: right;\">\n",
       "      <th></th>\n",
       "      <th>is_canceled</th>\n",
       "      <th>lead_time</th>\n",
       "      <th>arrival_date_year</th>\n",
       "      <th>arrival_date_month</th>\n",
       "      <th>arrival_date_day_of_month</th>\n",
       "      <th>stays_in_weekend_nights</th>\n",
       "      <th>stays_in_week_nights</th>\n",
       "      <th>adults</th>\n",
       "      <th>children</th>\n",
       "      <th>babies</th>\n",
       "      <th>meal</th>\n",
       "      <th>distribution_channel</th>\n",
       "      <th>is_repeated_guest</th>\n",
       "      <th>previous_cancellations</th>\n",
       "      <th>previous_bookings_not_canceled</th>\n",
       "      <th>reserved_room_type</th>\n",
       "      <th>booking_changes</th>\n",
       "      <th>days_in_waiting_list</th>\n",
       "      <th>customer_type</th>\n",
       "      <th>required_car_parking_spaces</th>\n",
       "      <th>total_of_special_requests</th>\n",
       "      <th>total_nights</th>\n",
       "    </tr>\n",
       "  </thead>\n",
       "  <tbody>\n",
       "    <tr>\n",
       "      <th>0</th>\n",
       "      <td>0</td>\n",
       "      <td>7</td>\n",
       "      <td>2015</td>\n",
       "      <td>July</td>\n",
       "      <td>1</td>\n",
       "      <td>0</td>\n",
       "      <td>1</td>\n",
       "      <td>1</td>\n",
       "      <td>0</td>\n",
       "      <td>0</td>\n",
       "      <td>BB</td>\n",
       "      <td>Direct</td>\n",
       "      <td>0</td>\n",
       "      <td>0</td>\n",
       "      <td>0</td>\n",
       "      <td>A</td>\n",
       "      <td>0</td>\n",
       "      <td>0</td>\n",
       "      <td>Transient</td>\n",
       "      <td>0</td>\n",
       "      <td>0</td>\n",
       "      <td>1</td>\n",
       "    </tr>\n",
       "    <tr>\n",
       "      <th>1</th>\n",
       "      <td>0</td>\n",
       "      <td>14</td>\n",
       "      <td>2015</td>\n",
       "      <td>July</td>\n",
       "      <td>1</td>\n",
       "      <td>0</td>\n",
       "      <td>2</td>\n",
       "      <td>2</td>\n",
       "      <td>0</td>\n",
       "      <td>0</td>\n",
       "      <td>BB</td>\n",
       "      <td>TA/TO</td>\n",
       "      <td>0</td>\n",
       "      <td>0</td>\n",
       "      <td>0</td>\n",
       "      <td>A</td>\n",
       "      <td>0</td>\n",
       "      <td>0</td>\n",
       "      <td>Transient</td>\n",
       "      <td>0</td>\n",
       "      <td>1</td>\n",
       "      <td>2</td>\n",
       "    </tr>\n",
       "    <tr>\n",
       "      <th>2</th>\n",
       "      <td>0</td>\n",
       "      <td>0</td>\n",
       "      <td>2015</td>\n",
       "      <td>July</td>\n",
       "      <td>1</td>\n",
       "      <td>0</td>\n",
       "      <td>2</td>\n",
       "      <td>2</td>\n",
       "      <td>0</td>\n",
       "      <td>0</td>\n",
       "      <td>BB</td>\n",
       "      <td>Direct</td>\n",
       "      <td>0</td>\n",
       "      <td>0</td>\n",
       "      <td>0</td>\n",
       "      <td>C</td>\n",
       "      <td>0</td>\n",
       "      <td>0</td>\n",
       "      <td>Transient</td>\n",
       "      <td>0</td>\n",
       "      <td>0</td>\n",
       "      <td>2</td>\n",
       "    </tr>\n",
       "    <tr>\n",
       "      <th>3</th>\n",
       "      <td>0</td>\n",
       "      <td>9</td>\n",
       "      <td>2015</td>\n",
       "      <td>July</td>\n",
       "      <td>1</td>\n",
       "      <td>0</td>\n",
       "      <td>2</td>\n",
       "      <td>2</td>\n",
       "      <td>0</td>\n",
       "      <td>0</td>\n",
       "      <td>FB</td>\n",
       "      <td>Direct</td>\n",
       "      <td>0</td>\n",
       "      <td>0</td>\n",
       "      <td>0</td>\n",
       "      <td>C</td>\n",
       "      <td>0</td>\n",
       "      <td>0</td>\n",
       "      <td>Transient</td>\n",
       "      <td>0</td>\n",
       "      <td>1</td>\n",
       "      <td>2</td>\n",
       "    </tr>\n",
       "    <tr>\n",
       "      <th>4</th>\n",
       "      <td>1</td>\n",
       "      <td>85</td>\n",
       "      <td>2015</td>\n",
       "      <td>July</td>\n",
       "      <td>1</td>\n",
       "      <td>0</td>\n",
       "      <td>3</td>\n",
       "      <td>2</td>\n",
       "      <td>0</td>\n",
       "      <td>0</td>\n",
       "      <td>BB</td>\n",
       "      <td>TA/TO</td>\n",
       "      <td>0</td>\n",
       "      <td>0</td>\n",
       "      <td>0</td>\n",
       "      <td>A</td>\n",
       "      <td>0</td>\n",
       "      <td>0</td>\n",
       "      <td>Transient</td>\n",
       "      <td>0</td>\n",
       "      <td>1</td>\n",
       "      <td>3</td>\n",
       "    </tr>\n",
       "    <tr>\n",
       "      <th>...</th>\n",
       "      <td>...</td>\n",
       "      <td>...</td>\n",
       "      <td>...</td>\n",
       "      <td>...</td>\n",
       "      <td>...</td>\n",
       "      <td>...</td>\n",
       "      <td>...</td>\n",
       "      <td>...</td>\n",
       "      <td>...</td>\n",
       "      <td>...</td>\n",
       "      <td>...</td>\n",
       "      <td>...</td>\n",
       "      <td>...</td>\n",
       "      <td>...</td>\n",
       "      <td>...</td>\n",
       "      <td>...</td>\n",
       "      <td>...</td>\n",
       "      <td>...</td>\n",
       "      <td>...</td>\n",
       "      <td>...</td>\n",
       "      <td>...</td>\n",
       "      <td>...</td>\n",
       "    </tr>\n",
       "    <tr>\n",
       "      <th>65224</th>\n",
       "      <td>0</td>\n",
       "      <td>23</td>\n",
       "      <td>2016</td>\n",
       "      <td>December</td>\n",
       "      <td>30</td>\n",
       "      <td>2</td>\n",
       "      <td>4</td>\n",
       "      <td>2</td>\n",
       "      <td>0</td>\n",
       "      <td>0</td>\n",
       "      <td>BB</td>\n",
       "      <td>TA/TO</td>\n",
       "      <td>0</td>\n",
       "      <td>0</td>\n",
       "      <td>0</td>\n",
       "      <td>D</td>\n",
       "      <td>0</td>\n",
       "      <td>0</td>\n",
       "      <td>Transient</td>\n",
       "      <td>0</td>\n",
       "      <td>2</td>\n",
       "      <td>6</td>\n",
       "    </tr>\n",
       "    <tr>\n",
       "      <th>65225</th>\n",
       "      <td>0</td>\n",
       "      <td>53</td>\n",
       "      <td>2016</td>\n",
       "      <td>December</td>\n",
       "      <td>31</td>\n",
       "      <td>2</td>\n",
       "      <td>3</td>\n",
       "      <td>2</td>\n",
       "      <td>0</td>\n",
       "      <td>0</td>\n",
       "      <td>HB</td>\n",
       "      <td>TA/TO</td>\n",
       "      <td>0</td>\n",
       "      <td>0</td>\n",
       "      <td>0</td>\n",
       "      <td>D</td>\n",
       "      <td>0</td>\n",
       "      <td>0</td>\n",
       "      <td>Transient</td>\n",
       "      <td>0</td>\n",
       "      <td>3</td>\n",
       "      <td>5</td>\n",
       "    </tr>\n",
       "    <tr>\n",
       "      <th>65226</th>\n",
       "      <td>0</td>\n",
       "      <td>7</td>\n",
       "      <td>2016</td>\n",
       "      <td>December</td>\n",
       "      <td>31</td>\n",
       "      <td>2</td>\n",
       "      <td>4</td>\n",
       "      <td>2</td>\n",
       "      <td>0</td>\n",
       "      <td>0</td>\n",
       "      <td>BB</td>\n",
       "      <td>TA/TO</td>\n",
       "      <td>0</td>\n",
       "      <td>0</td>\n",
       "      <td>0</td>\n",
       "      <td>D</td>\n",
       "      <td>0</td>\n",
       "      <td>0</td>\n",
       "      <td>Transient</td>\n",
       "      <td>0</td>\n",
       "      <td>1</td>\n",
       "      <td>6</td>\n",
       "    </tr>\n",
       "    <tr>\n",
       "      <th>65227</th>\n",
       "      <td>0</td>\n",
       "      <td>17</td>\n",
       "      <td>2016</td>\n",
       "      <td>December</td>\n",
       "      <td>30</td>\n",
       "      <td>2</td>\n",
       "      <td>5</td>\n",
       "      <td>2</td>\n",
       "      <td>0</td>\n",
       "      <td>0</td>\n",
       "      <td>SC</td>\n",
       "      <td>TA/TO</td>\n",
       "      <td>0</td>\n",
       "      <td>0</td>\n",
       "      <td>0</td>\n",
       "      <td>A</td>\n",
       "      <td>0</td>\n",
       "      <td>0</td>\n",
       "      <td>Transient</td>\n",
       "      <td>0</td>\n",
       "      <td>1</td>\n",
       "      <td>7</td>\n",
       "    </tr>\n",
       "    <tr>\n",
       "      <th>65228</th>\n",
       "      <td>0</td>\n",
       "      <td>107</td>\n",
       "      <td>2016</td>\n",
       "      <td>December</td>\n",
       "      <td>31</td>\n",
       "      <td>2</td>\n",
       "      <td>5</td>\n",
       "      <td>2</td>\n",
       "      <td>0</td>\n",
       "      <td>0</td>\n",
       "      <td>BB</td>\n",
       "      <td>TA/TO</td>\n",
       "      <td>0</td>\n",
       "      <td>0</td>\n",
       "      <td>0</td>\n",
       "      <td>A</td>\n",
       "      <td>0</td>\n",
       "      <td>0</td>\n",
       "      <td>Transient</td>\n",
       "      <td>0</td>\n",
       "      <td>0</td>\n",
       "      <td>7</td>\n",
       "    </tr>\n",
       "  </tbody>\n",
       "</table>\n",
       "<p>65229 rows × 22 columns</p>\n",
       "</div>"
      ],
      "text/plain": [
       "       is_canceled  lead_time  arrival_date_year arrival_date_month  \\\n",
       "0                0          7               2015               July   \n",
       "1                0         14               2015               July   \n",
       "2                0          0               2015               July   \n",
       "3                0          9               2015               July   \n",
       "4                1         85               2015               July   \n",
       "...            ...        ...                ...                ...   \n",
       "65224            0         23               2016           December   \n",
       "65225            0         53               2016           December   \n",
       "65226            0          7               2016           December   \n",
       "65227            0         17               2016           December   \n",
       "65228            0        107               2016           December   \n",
       "\n",
       "       arrival_date_day_of_month  stays_in_weekend_nights  \\\n",
       "0                              1                        0   \n",
       "1                              1                        0   \n",
       "2                              1                        0   \n",
       "3                              1                        0   \n",
       "4                              1                        0   \n",
       "...                          ...                      ...   \n",
       "65224                         30                        2   \n",
       "65225                         31                        2   \n",
       "65226                         31                        2   \n",
       "65227                         30                        2   \n",
       "65228                         31                        2   \n",
       "\n",
       "       stays_in_week_nights  adults  children  babies       meal  \\\n",
       "0                         1       1         0       0  BB          \n",
       "1                         2       2         0       0  BB          \n",
       "2                         2       2         0       0  BB          \n",
       "3                         2       2         0       0  FB          \n",
       "4                         3       2         0       0  BB          \n",
       "...                     ...     ...       ...     ...        ...   \n",
       "65224                     4       2         0       0  BB          \n",
       "65225                     3       2         0       0  HB          \n",
       "65226                     4       2         0       0  BB          \n",
       "65227                     5       2         0       0  SC          \n",
       "65228                     5       2         0       0  BB          \n",
       "\n",
       "      distribution_channel  is_repeated_guest  previous_cancellations  \\\n",
       "0                   Direct                  0                       0   \n",
       "1                    TA/TO                  0                       0   \n",
       "2                   Direct                  0                       0   \n",
       "3                   Direct                  0                       0   \n",
       "4                    TA/TO                  0                       0   \n",
       "...                    ...                ...                     ...   \n",
       "65224                TA/TO                  0                       0   \n",
       "65225                TA/TO                  0                       0   \n",
       "65226                TA/TO                  0                       0   \n",
       "65227                TA/TO                  0                       0   \n",
       "65228                TA/TO                  0                       0   \n",
       "\n",
       "       previous_bookings_not_canceled reserved_room_type  booking_changes  \\\n",
       "0                                   0   A                               0   \n",
       "1                                   0   A                               0   \n",
       "2                                   0   C                               0   \n",
       "3                                   0   C                               0   \n",
       "4                                   0   A                               0   \n",
       "...                               ...                ...              ...   \n",
       "65224                               0   D                               0   \n",
       "65225                               0   D                               0   \n",
       "65226                               0   D                               0   \n",
       "65227                               0   A                               0   \n",
       "65228                               0   A                               0   \n",
       "\n",
       "       days_in_waiting_list customer_type  required_car_parking_spaces  \\\n",
       "0                         0     Transient                            0   \n",
       "1                         0     Transient                            0   \n",
       "2                         0     Transient                            0   \n",
       "3                         0     Transient                            0   \n",
       "4                         0     Transient                            0   \n",
       "...                     ...           ...                          ...   \n",
       "65224                     0     Transient                            0   \n",
       "65225                     0     Transient                            0   \n",
       "65226                     0     Transient                            0   \n",
       "65227                     0     Transient                            0   \n",
       "65228                     0     Transient                            0   \n",
       "\n",
       "       total_of_special_requests  total_nights  \n",
       "0                              0             1  \n",
       "1                              1             2  \n",
       "2                              0             2  \n",
       "3                              1             2  \n",
       "4                              1             3  \n",
       "...                          ...           ...  \n",
       "65224                          2             6  \n",
       "65225                          3             5  \n",
       "65226                          1             6  \n",
       "65227                          1             7  \n",
       "65228                          0             7  \n",
       "\n",
       "[65229 rows x 22 columns]"
      ]
     },
     "execution_count": 15,
     "metadata": {},
     "output_type": "execute_result"
    }
   ],
   "source": [
    "df_train"
   ]
  },
  {
   "cell_type": "markdown",
   "metadata": {},
   "source": [
    "Проверяем удаление"
   ]
  },
  {
   "cell_type": "code",
   "execution_count": 16,
   "metadata": {},
   "outputs": [
    {
     "name": "stdout",
     "output_type": "stream",
     "text": [
      "Index(['is_canceled', 'lead_time', 'arrival_date_year', 'arrival_date_month',\n",
      "       'arrival_date_day_of_month', 'stays_in_weekend_nights',\n",
      "       'stays_in_week_nights', 'adults', 'children', 'babies', 'meal',\n",
      "       'distribution_channel', 'is_repeated_guest', 'previous_cancellations',\n",
      "       'previous_bookings_not_canceled', 'reserved_room_type',\n",
      "       'booking_changes', 'days_in_waiting_list', 'customer_type',\n",
      "       'required_car_parking_spaces', 'total_of_special_requests',\n",
      "       'total_nights'],\n",
      "      dtype='object')\n",
      "Index(['is_canceled', 'lead_time', 'arrival_date_year', 'arrival_date_month',\n",
      "       'arrival_date_day_of_month', 'stays_in_weekend_nights',\n",
      "       'stays_in_week_nights', 'adults', 'children', 'babies', 'meal',\n",
      "       'distribution_channel', 'is_repeated_guest', 'previous_cancellations',\n",
      "       'previous_bookings_not_canceled', 'reserved_room_type',\n",
      "       'booking_changes', 'days_in_waiting_list', 'customer_type',\n",
      "       'required_car_parking_spaces', 'total_of_special_requests',\n",
      "       'total_nights'],\n",
      "      dtype='object')\n"
     ]
    }
   ],
   "source": [
    "print(df_train.columns)\n",
    "print(df_test.columns)"
   ]
  },
  {
   "cell_type": "markdown",
   "metadata": {},
   "source": [
    "`Вывод после предобработки` - В результате предобработки были выявлены типы данных нуждающихся в изменении типа, смена типа произведена. Пропусков не найдело, дубликатов - тоже. Были удалены параметры не влияющие на анализ. Данные готовы к анализу. Целевым признаком является `is_canceled`"
   ]
  },
  {
   "cell_type": "markdown",
   "metadata": {},
   "source": [
    "### 1.1.3. <a id='toc1_1_3_'></a>[Исследовательский анализ данных](#toc0_)"
   ]
  },
  {
   "cell_type": "markdown",
   "metadata": {},
   "source": [
    "Отфильтруем признаки с небинарными значениям чтобы вывести таблицу с корреляцией."
   ]
  },
  {
   "cell_type": "code",
   "execution_count": 17,
   "metadata": {},
   "outputs": [],
   "source": [
    "features1=list(['is_canceled', 'lead_time','arrival_date_month','arrival_date_day_of_month', 'stays_in_weekend_nights', 'stays_in_week_nights',\n",
    " 'adults', 'children', 'babies', 'meal', 'distribution_channel','reserved_room_type', 'booking_changes', 'days_in_waiting_list', 'customer_type',\n",
    " 'required_car_parking_spaces', 'total_of_special_requests', 'total_nights'])\n",
    "\n",
    "\n",
    "features2=list(['is_canceled', 'lead_time','arrival_date_month','arrival_date_day_of_month', 'stays_in_weekend_nights', 'stays_in_week_nights',\n",
    " 'adults', 'children', 'babies', 'meal', 'distribution_channel','reserved_room_type', 'booking_changes', 'days_in_waiting_list', 'customer_type',\n",
    "  'required_car_parking_spaces', 'total_of_special_requests', 'total_nights'])\n"
   ]
  },
  {
   "cell_type": "markdown",
   "metadata": {},
   "source": [
    "Выводим таблицу"
   ]
  },
  {
   "cell_type": "code",
   "execution_count": 18,
   "metadata": {},
   "outputs": [
    {
     "data": {
      "text/html": [
       "<div>\n",
       "<style scoped>\n",
       "    .dataframe tbody tr th:only-of-type {\n",
       "        vertical-align: middle;\n",
       "    }\n",
       "\n",
       "    .dataframe tbody tr th {\n",
       "        vertical-align: top;\n",
       "    }\n",
       "\n",
       "    .dataframe thead th {\n",
       "        text-align: right;\n",
       "    }\n",
       "</style>\n",
       "<table border=\"1\" class=\"dataframe\">\n",
       "  <thead>\n",
       "    <tr style=\"text-align: right;\">\n",
       "      <th></th>\n",
       "      <th>is_canceled</th>\n",
       "      <th>lead_time</th>\n",
       "      <th>arrival_date_day_of_month</th>\n",
       "      <th>stays_in_weekend_nights</th>\n",
       "      <th>stays_in_week_nights</th>\n",
       "      <th>adults</th>\n",
       "      <th>children</th>\n",
       "      <th>babies</th>\n",
       "      <th>booking_changes</th>\n",
       "      <th>days_in_waiting_list</th>\n",
       "      <th>required_car_parking_spaces</th>\n",
       "      <th>total_of_special_requests</th>\n",
       "      <th>total_nights</th>\n",
       "    </tr>\n",
       "  </thead>\n",
       "  <tbody>\n",
       "    <tr>\n",
       "      <th>is_canceled</th>\n",
       "      <td>1.000000</td>\n",
       "      <td>0.328142</td>\n",
       "      <td>-0.001903</td>\n",
       "      <td>-0.013767</td>\n",
       "      <td>0.010650</td>\n",
       "      <td>0.045153</td>\n",
       "      <td>-0.017746</td>\n",
       "      <td>-0.029589</td>\n",
       "      <td>-0.142935</td>\n",
       "      <td>0.075848</td>\n",
       "      <td>-0.186486</td>\n",
       "      <td>-0.257061</td>\n",
       "      <td>0.001542</td>\n",
       "    </tr>\n",
       "    <tr>\n",
       "      <th>lead_time</th>\n",
       "      <td>0.328142</td>\n",
       "      <td>1.000000</td>\n",
       "      <td>-0.010252</td>\n",
       "      <td>0.047003</td>\n",
       "      <td>0.172646</td>\n",
       "      <td>0.119617</td>\n",
       "      <td>-0.056359</td>\n",
       "      <td>-0.024649</td>\n",
       "      <td>-0.007191</td>\n",
       "      <td>0.209741</td>\n",
       "      <td>-0.116867</td>\n",
       "      <td>-0.147738</td>\n",
       "      <td>0.157671</td>\n",
       "    </tr>\n",
       "    <tr>\n",
       "      <th>arrival_date_day_of_month</th>\n",
       "      <td>-0.001903</td>\n",
       "      <td>-0.010252</td>\n",
       "      <td>1.000000</td>\n",
       "      <td>-0.002017</td>\n",
       "      <td>0.003705</td>\n",
       "      <td>0.006034</td>\n",
       "      <td>0.018558</td>\n",
       "      <td>-0.000482</td>\n",
       "      <td>0.022560</td>\n",
       "      <td>0.017070</td>\n",
       "      <td>0.003816</td>\n",
       "      <td>0.005875</td>\n",
       "      <td>0.001898</td>\n",
       "    </tr>\n",
       "    <tr>\n",
       "      <th>stays_in_weekend_nights</th>\n",
       "      <td>-0.013767</td>\n",
       "      <td>0.047003</td>\n",
       "      <td>-0.002017</td>\n",
       "      <td>1.000000</td>\n",
       "      <td>0.197410</td>\n",
       "      <td>0.116679</td>\n",
       "      <td>0.026224</td>\n",
       "      <td>0.018822</td>\n",
       "      <td>0.023118</td>\n",
       "      <td>-0.065167</td>\n",
       "      <td>-0.015870</td>\n",
       "      <td>0.083682</td>\n",
       "      <td>0.644935</td>\n",
       "    </tr>\n",
       "    <tr>\n",
       "      <th>stays_in_week_nights</th>\n",
       "      <td>0.010650</td>\n",
       "      <td>0.172646</td>\n",
       "      <td>0.003705</td>\n",
       "      <td>0.197410</td>\n",
       "      <td>1.000000</td>\n",
       "      <td>0.119901</td>\n",
       "      <td>0.023590</td>\n",
       "      <td>0.018428</td>\n",
       "      <td>0.061721</td>\n",
       "      <td>0.036037</td>\n",
       "      <td>-0.026988</td>\n",
       "      <td>0.090359</td>\n",
       "      <td>0.876515</td>\n",
       "    </tr>\n",
       "    <tr>\n",
       "      <th>adults</th>\n",
       "      <td>0.045153</td>\n",
       "      <td>0.119617</td>\n",
       "      <td>0.006034</td>\n",
       "      <td>0.116679</td>\n",
       "      <td>0.119901</td>\n",
       "      <td>1.000000</td>\n",
       "      <td>-0.003216</td>\n",
       "      <td>0.019756</td>\n",
       "      <td>-0.056396</td>\n",
       "      <td>-0.013475</td>\n",
       "      <td>0.013321</td>\n",
       "      <td>0.171793</td>\n",
       "      <td>0.150766</td>\n",
       "    </tr>\n",
       "    <tr>\n",
       "      <th>children</th>\n",
       "      <td>-0.017746</td>\n",
       "      <td>-0.056359</td>\n",
       "      <td>0.018558</td>\n",
       "      <td>0.026224</td>\n",
       "      <td>0.023590</td>\n",
       "      <td>-0.003216</td>\n",
       "      <td>1.000000</td>\n",
       "      <td>0.018410</td>\n",
       "      <td>0.053835</td>\n",
       "      <td>-0.038615</td>\n",
       "      <td>0.047881</td>\n",
       "      <td>0.112699</td>\n",
       "      <td>0.031268</td>\n",
       "    </tr>\n",
       "    <tr>\n",
       "      <th>babies</th>\n",
       "      <td>-0.029589</td>\n",
       "      <td>-0.024649</td>\n",
       "      <td>-0.000482</td>\n",
       "      <td>0.018822</td>\n",
       "      <td>0.018428</td>\n",
       "      <td>0.019756</td>\n",
       "      <td>0.018410</td>\n",
       "      <td>1.000000</td>\n",
       "      <td>0.076910</td>\n",
       "      <td>-0.013391</td>\n",
       "      <td>0.030264</td>\n",
       "      <td>0.098973</td>\n",
       "      <td>0.023608</td>\n",
       "    </tr>\n",
       "    <tr>\n",
       "      <th>booking_changes</th>\n",
       "      <td>-0.142935</td>\n",
       "      <td>-0.007191</td>\n",
       "      <td>0.022560</td>\n",
       "      <td>0.023118</td>\n",
       "      <td>0.061721</td>\n",
       "      <td>-0.056396</td>\n",
       "      <td>0.053835</td>\n",
       "      <td>0.076910</td>\n",
       "      <td>1.000000</td>\n",
       "      <td>-0.011225</td>\n",
       "      <td>0.059084</td>\n",
       "      <td>0.043884</td>\n",
       "      <td>0.059468</td>\n",
       "    </tr>\n",
       "    <tr>\n",
       "      <th>days_in_waiting_list</th>\n",
       "      <td>0.075848</td>\n",
       "      <td>0.209741</td>\n",
       "      <td>0.017070</td>\n",
       "      <td>-0.065167</td>\n",
       "      <td>0.036037</td>\n",
       "      <td>-0.013475</td>\n",
       "      <td>-0.038615</td>\n",
       "      <td>-0.013391</td>\n",
       "      <td>-0.011225</td>\n",
       "      <td>1.000000</td>\n",
       "      <td>-0.044083</td>\n",
       "      <td>-0.106080</td>\n",
       "      <td>-0.003906</td>\n",
       "    </tr>\n",
       "    <tr>\n",
       "      <th>required_car_parking_spaces</th>\n",
       "      <td>-0.186486</td>\n",
       "      <td>-0.116867</td>\n",
       "      <td>0.003816</td>\n",
       "      <td>-0.015870</td>\n",
       "      <td>-0.026988</td>\n",
       "      <td>0.013321</td>\n",
       "      <td>0.047881</td>\n",
       "      <td>0.030264</td>\n",
       "      <td>0.059084</td>\n",
       "      <td>-0.044083</td>\n",
       "      <td>1.000000</td>\n",
       "      <td>0.087009</td>\n",
       "      <td>-0.028832</td>\n",
       "    </tr>\n",
       "    <tr>\n",
       "      <th>total_of_special_requests</th>\n",
       "      <td>-0.257061</td>\n",
       "      <td>-0.147738</td>\n",
       "      <td>0.005875</td>\n",
       "      <td>0.083682</td>\n",
       "      <td>0.090359</td>\n",
       "      <td>0.171793</td>\n",
       "      <td>0.112699</td>\n",
       "      <td>0.098973</td>\n",
       "      <td>0.043884</td>\n",
       "      <td>-0.106080</td>\n",
       "      <td>0.087009</td>\n",
       "      <td>1.000000</td>\n",
       "      <td>0.111533</td>\n",
       "    </tr>\n",
       "    <tr>\n",
       "      <th>total_nights</th>\n",
       "      <td>0.001542</td>\n",
       "      <td>0.157671</td>\n",
       "      <td>0.001898</td>\n",
       "      <td>0.644935</td>\n",
       "      <td>0.876515</td>\n",
       "      <td>0.150766</td>\n",
       "      <td>0.031268</td>\n",
       "      <td>0.023608</td>\n",
       "      <td>0.059468</td>\n",
       "      <td>-0.003906</td>\n",
       "      <td>-0.028832</td>\n",
       "      <td>0.111533</td>\n",
       "      <td>1.000000</td>\n",
       "    </tr>\n",
       "  </tbody>\n",
       "</table>\n",
       "</div>"
      ],
      "text/plain": [
       "                             is_canceled  lead_time  \\\n",
       "is_canceled                     1.000000   0.328142   \n",
       "lead_time                       0.328142   1.000000   \n",
       "arrival_date_day_of_month      -0.001903  -0.010252   \n",
       "stays_in_weekend_nights        -0.013767   0.047003   \n",
       "stays_in_week_nights            0.010650   0.172646   \n",
       "adults                          0.045153   0.119617   \n",
       "children                       -0.017746  -0.056359   \n",
       "babies                         -0.029589  -0.024649   \n",
       "booking_changes                -0.142935  -0.007191   \n",
       "days_in_waiting_list            0.075848   0.209741   \n",
       "required_car_parking_spaces    -0.186486  -0.116867   \n",
       "total_of_special_requests      -0.257061  -0.147738   \n",
       "total_nights                    0.001542   0.157671   \n",
       "\n",
       "                             arrival_date_day_of_month  \\\n",
       "is_canceled                                  -0.001903   \n",
       "lead_time                                    -0.010252   \n",
       "arrival_date_day_of_month                     1.000000   \n",
       "stays_in_weekend_nights                      -0.002017   \n",
       "stays_in_week_nights                          0.003705   \n",
       "adults                                        0.006034   \n",
       "children                                      0.018558   \n",
       "babies                                       -0.000482   \n",
       "booking_changes                               0.022560   \n",
       "days_in_waiting_list                          0.017070   \n",
       "required_car_parking_spaces                   0.003816   \n",
       "total_of_special_requests                     0.005875   \n",
       "total_nights                                  0.001898   \n",
       "\n",
       "                             stays_in_weekend_nights  stays_in_week_nights  \\\n",
       "is_canceled                                -0.013767              0.010650   \n",
       "lead_time                                   0.047003              0.172646   \n",
       "arrival_date_day_of_month                  -0.002017              0.003705   \n",
       "stays_in_weekend_nights                     1.000000              0.197410   \n",
       "stays_in_week_nights                        0.197410              1.000000   \n",
       "adults                                      0.116679              0.119901   \n",
       "children                                    0.026224              0.023590   \n",
       "babies                                      0.018822              0.018428   \n",
       "booking_changes                             0.023118              0.061721   \n",
       "days_in_waiting_list                       -0.065167              0.036037   \n",
       "required_car_parking_spaces                -0.015870             -0.026988   \n",
       "total_of_special_requests                   0.083682              0.090359   \n",
       "total_nights                                0.644935              0.876515   \n",
       "\n",
       "                               adults  children    babies  booking_changes  \\\n",
       "is_canceled                  0.045153 -0.017746 -0.029589        -0.142935   \n",
       "lead_time                    0.119617 -0.056359 -0.024649        -0.007191   \n",
       "arrival_date_day_of_month    0.006034  0.018558 -0.000482         0.022560   \n",
       "stays_in_weekend_nights      0.116679  0.026224  0.018822         0.023118   \n",
       "stays_in_week_nights         0.119901  0.023590  0.018428         0.061721   \n",
       "adults                       1.000000 -0.003216  0.019756        -0.056396   \n",
       "children                    -0.003216  1.000000  0.018410         0.053835   \n",
       "babies                       0.019756  0.018410  1.000000         0.076910   \n",
       "booking_changes             -0.056396  0.053835  0.076910         1.000000   \n",
       "days_in_waiting_list        -0.013475 -0.038615 -0.013391        -0.011225   \n",
       "required_car_parking_spaces  0.013321  0.047881  0.030264         0.059084   \n",
       "total_of_special_requests    0.171793  0.112699  0.098973         0.043884   \n",
       "total_nights                 0.150766  0.031268  0.023608         0.059468   \n",
       "\n",
       "                             days_in_waiting_list  \\\n",
       "is_canceled                              0.075848   \n",
       "lead_time                                0.209741   \n",
       "arrival_date_day_of_month                0.017070   \n",
       "stays_in_weekend_nights                 -0.065167   \n",
       "stays_in_week_nights                     0.036037   \n",
       "adults                                  -0.013475   \n",
       "children                                -0.038615   \n",
       "babies                                  -0.013391   \n",
       "booking_changes                         -0.011225   \n",
       "days_in_waiting_list                     1.000000   \n",
       "required_car_parking_spaces             -0.044083   \n",
       "total_of_special_requests               -0.106080   \n",
       "total_nights                            -0.003906   \n",
       "\n",
       "                             required_car_parking_spaces  \\\n",
       "is_canceled                                    -0.186486   \n",
       "lead_time                                      -0.116867   \n",
       "arrival_date_day_of_month                       0.003816   \n",
       "stays_in_weekend_nights                        -0.015870   \n",
       "stays_in_week_nights                           -0.026988   \n",
       "adults                                          0.013321   \n",
       "children                                        0.047881   \n",
       "babies                                          0.030264   \n",
       "booking_changes                                 0.059084   \n",
       "days_in_waiting_list                           -0.044083   \n",
       "required_car_parking_spaces                     1.000000   \n",
       "total_of_special_requests                       0.087009   \n",
       "total_nights                                   -0.028832   \n",
       "\n",
       "                             total_of_special_requests  total_nights  \n",
       "is_canceled                                  -0.257061      0.001542  \n",
       "lead_time                                    -0.147738      0.157671  \n",
       "arrival_date_day_of_month                     0.005875      0.001898  \n",
       "stays_in_weekend_nights                       0.083682      0.644935  \n",
       "stays_in_week_nights                          0.090359      0.876515  \n",
       "adults                                        0.171793      0.150766  \n",
       "children                                      0.112699      0.031268  \n",
       "babies                                        0.098973      0.023608  \n",
       "booking_changes                               0.043884      0.059468  \n",
       "days_in_waiting_list                         -0.106080     -0.003906  \n",
       "required_car_parking_spaces                   0.087009     -0.028832  \n",
       "total_of_special_requests                     1.000000      0.111533  \n",
       "total_nights                                  0.111533      1.000000  "
      ]
     },
     "execution_count": 18,
     "metadata": {},
     "output_type": "execute_result"
    }
   ],
   "source": [
    "df_train[features1].corr()\n",
    "df_train[features2].corr()"
   ]
  },
  {
   "cell_type": "markdown",
   "metadata": {},
   "source": [
    "Сохраняем выбранные признаки в переменную для создания графика."
   ]
  },
  {
   "cell_type": "code",
   "execution_count": 19,
   "metadata": {},
   "outputs": [],
   "source": [
    "df_train_graph = df_train[features1]"
   ]
  },
  {
   "cell_type": "markdown",
   "metadata": {},
   "source": [
    "Создаём график с отфильтрованными данными (без бинарных значений кроме целевого) df_train_graph"
   ]
  },
  {
   "cell_type": "code",
   "execution_count": 20,
   "metadata": {},
   "outputs": [
    {
     "data": {
      "text/plain": [
       "<AxesSubplot:>"
      ]
     },
     "execution_count": 20,
     "metadata": {},
     "output_type": "execute_result"
    },
    {
     "data": {
      "image/png": "[encoded data removed]",
      "text/plain": [
       "<Figure size 1584x720 with 2 Axes>"
      ]
     },
     "metadata": {
      "needs_background": "light"
     },
     "output_type": "display_data"
    }
   ],
   "source": [
    "# корреляция по df_train_graph\n",
    "\n",
    "# корреляция между разными значениями\n",
    "corr = df_train_graph.corr(method='spearman')\n",
    "\n",
    "# установка matplotlib plot конфигурации\n",
    "f, ax = plt.subplots(figsize=(22, 10))\n",
    "\n",
    "# задаём схему графика\n",
    "mask = np.triu(np.ones_like(corr, dtype=bool))\n",
    "\n",
    "# устанавливаем цвет\n",
    "cmap = sns.diverging_palette(230, 20, as_cmap=True)\n",
    "\n",
    "# выводим график\n",
    "sns.heatmap(corr, annot=True, mask = mask, cmap=cmap)"
   ]
  },
  {
   "cell_type": "markdown",
   "metadata": {},
   "source": [
    "Проводим ИАД на тренировочных данных. Посмотрим, есть корреляция между значениями в таблице и целевым значением 'is_calceled'"
   ]
  },
  {
   "cell_type": "markdown",
   "metadata": {},
   "source": [
    "`Вывод:` - мы видим что у целевого признака '`is_canceled`' нет сколько нибудь значимой корреляции с другими параметрами."
   ]
  },
  {
   "cell_type": "markdown",
   "metadata": {},
   "source": [
    "Выведем, для ознакомления, значения параметра 'reserved_room_type' для последующего создания новых параметров: 'night_cost' и 'one_time_cleaning'"
   ]
  },
  {
   "cell_type": "code",
   "execution_count": 21,
   "metadata": {},
   "outputs": [
    {
     "data": {
      "text/plain": [
       "array(['A               ', 'C               ', 'D               ',\n",
       "       'E               ', 'G               ', 'F               ',\n",
       "       'B               '], dtype=object)"
      ]
     },
     "execution_count": 21,
     "metadata": {},
     "output_type": "execute_result"
    }
   ],
   "source": [
    "df_train_unique = df_train.loc[:, 'reserved_room_type']\n",
    "df_train_unique.unique()"
   ]
  },
  {
   "cell_type": "markdown",
   "metadata": {},
   "source": [
    "Мы видим что типы номеров записаны с пробелами. Учтём при создании новых параметров."
   ]
  },
  {
   "cell_type": "markdown",
   "metadata": {},
   "source": [
    "Создаём две функции: `night` где подсчитываем cтоимось ночного проживания в номере в зависимости от категории номера. И `cleaning` где записываем стоимость затран на уборку номера."
   ]
  },
  {
   "cell_type": "code",
   "execution_count": 22,
   "metadata": {},
   "outputs": [],
   "source": [
    "# создаём функцию night\n",
    "\n",
    "def night(row):\n",
    "    row = row['reserved_room_type']\n",
    "    if row == 'A               ':\n",
    "        return 1000\n",
    "    if row == 'B               ':\n",
    "        return 800\n",
    "    if row == 'C               ':\n",
    "        return 600\n",
    "    if row == 'D               ':\n",
    "        return 550\n",
    "    if row == 'E               ':\n",
    "        return 500\n",
    "    if row == 'F               ':\n",
    "        return 450\n",
    "    if row == 'G               ':\n",
    "        return 350"
   ]
  },
  {
   "cell_type": "code",
   "execution_count": 23,
   "metadata": {},
   "outputs": [],
   "source": [
    "# создаём функцию night cleaning\n",
    "\n",
    "def cleaning(row):\n",
    "    row = row['reserved_room_type']\n",
    "   \n",
    "    if row == 'A               ':\n",
    "        return 400\n",
    "    if row == 'B               ':\n",
    "        return 350\n",
    "    if row == 'C               ':\n",
    "        return 350\n",
    "    if row == 'D               ':\n",
    "        return 150\n",
    "    if row == 'E               ':\n",
    "        return 150\n",
    "    if row == 'F               ':\n",
    "        return 150\n",
    "    if row == 'G               ':\n",
    "        return 150\n"
   ]
  },
  {
   "cell_type": "markdown",
   "metadata": {},
   "source": [
    "Применяем функции для создания новых колонок со стоимостью номера за ночь и стоимость уборки номера."
   ]
  },
  {
   "cell_type": "code",
   "execution_count": 24,
   "metadata": {},
   "outputs": [],
   "source": [
    "# добавляем новые параметры в train\n",
    "df_train['winter_night_cost'] = df_train.apply(night, axis=1)\n",
    "df_train['one_time_cleaning_winter'] = df_train.apply(cleaning, axis=1)\n",
    "\n",
    "# добавляем новые параметры в test\n",
    "df_test['winter_night_cost'] = df_train.apply(night, axis=1)\n",
    "df_test['one_time_cleaning_winter'] = df_train.apply(cleaning, axis=1)"
   ]
  },
  {
   "cell_type": "markdown",
   "metadata": {},
   "source": [
    "Проверяем создание новых параметров и выводим таблицу."
   ]
  },
  {
   "cell_type": "code",
   "execution_count": 25,
   "metadata": {},
   "outputs": [
    {
     "data": {
      "text/html": [
       "<div>\n",
       "<style scoped>\n",
       "    .dataframe tbody tr th:only-of-type {\n",
       "        vertical-align: middle;\n",
       "    }\n",
       "\n",
       "    .dataframe tbody tr th {\n",
       "        vertical-align: top;\n",
       "    }\n",
       "\n",
       "    .dataframe thead th {\n",
       "        text-align: right;\n",
       "    }\n",
       "</style>\n",
       "<table border=\"1\" class=\"dataframe\">\n",
       "  <thead>\n",
       "    <tr style=\"text-align: right;\">\n",
       "      <th></th>\n",
       "      <th>is_canceled</th>\n",
       "      <th>lead_time</th>\n",
       "      <th>arrival_date_year</th>\n",
       "      <th>arrival_date_month</th>\n",
       "      <th>arrival_date_day_of_month</th>\n",
       "      <th>stays_in_weekend_nights</th>\n",
       "      <th>stays_in_week_nights</th>\n",
       "      <th>adults</th>\n",
       "      <th>children</th>\n",
       "      <th>babies</th>\n",
       "      <th>meal</th>\n",
       "      <th>distribution_channel</th>\n",
       "      <th>is_repeated_guest</th>\n",
       "      <th>previous_cancellations</th>\n",
       "      <th>previous_bookings_not_canceled</th>\n",
       "      <th>reserved_room_type</th>\n",
       "      <th>booking_changes</th>\n",
       "      <th>days_in_waiting_list</th>\n",
       "      <th>customer_type</th>\n",
       "      <th>required_car_parking_spaces</th>\n",
       "      <th>total_of_special_requests</th>\n",
       "      <th>total_nights</th>\n",
       "      <th>winter_night_cost</th>\n",
       "      <th>one_time_cleaning_winter</th>\n",
       "    </tr>\n",
       "  </thead>\n",
       "  <tbody>\n",
       "    <tr>\n",
       "      <th>0</th>\n",
       "      <td>0</td>\n",
       "      <td>7</td>\n",
       "      <td>2015</td>\n",
       "      <td>July</td>\n",
       "      <td>1</td>\n",
       "      <td>0</td>\n",
       "      <td>1</td>\n",
       "      <td>1</td>\n",
       "      <td>0</td>\n",
       "      <td>0</td>\n",
       "      <td>BB</td>\n",
       "      <td>Direct</td>\n",
       "      <td>0</td>\n",
       "      <td>0</td>\n",
       "      <td>0</td>\n",
       "      <td>A</td>\n",
       "      <td>0</td>\n",
       "      <td>0</td>\n",
       "      <td>Transient</td>\n",
       "      <td>0</td>\n",
       "      <td>0</td>\n",
       "      <td>1</td>\n",
       "      <td>1000</td>\n",
       "      <td>400</td>\n",
       "    </tr>\n",
       "    <tr>\n",
       "      <th>1</th>\n",
       "      <td>0</td>\n",
       "      <td>14</td>\n",
       "      <td>2015</td>\n",
       "      <td>July</td>\n",
       "      <td>1</td>\n",
       "      <td>0</td>\n",
       "      <td>2</td>\n",
       "      <td>2</td>\n",
       "      <td>0</td>\n",
       "      <td>0</td>\n",
       "      <td>BB</td>\n",
       "      <td>TA/TO</td>\n",
       "      <td>0</td>\n",
       "      <td>0</td>\n",
       "      <td>0</td>\n",
       "      <td>A</td>\n",
       "      <td>0</td>\n",
       "      <td>0</td>\n",
       "      <td>Transient</td>\n",
       "      <td>0</td>\n",
       "      <td>1</td>\n",
       "      <td>2</td>\n",
       "      <td>1000</td>\n",
       "      <td>400</td>\n",
       "    </tr>\n",
       "    <tr>\n",
       "      <th>2</th>\n",
       "      <td>0</td>\n",
       "      <td>0</td>\n",
       "      <td>2015</td>\n",
       "      <td>July</td>\n",
       "      <td>1</td>\n",
       "      <td>0</td>\n",
       "      <td>2</td>\n",
       "      <td>2</td>\n",
       "      <td>0</td>\n",
       "      <td>0</td>\n",
       "      <td>BB</td>\n",
       "      <td>Direct</td>\n",
       "      <td>0</td>\n",
       "      <td>0</td>\n",
       "      <td>0</td>\n",
       "      <td>C</td>\n",
       "      <td>0</td>\n",
       "      <td>0</td>\n",
       "      <td>Transient</td>\n",
       "      <td>0</td>\n",
       "      <td>0</td>\n",
       "      <td>2</td>\n",
       "      <td>600</td>\n",
       "      <td>350</td>\n",
       "    </tr>\n",
       "    <tr>\n",
       "      <th>3</th>\n",
       "      <td>0</td>\n",
       "      <td>9</td>\n",
       "      <td>2015</td>\n",
       "      <td>July</td>\n",
       "      <td>1</td>\n",
       "      <td>0</td>\n",
       "      <td>2</td>\n",
       "      <td>2</td>\n",
       "      <td>0</td>\n",
       "      <td>0</td>\n",
       "      <td>FB</td>\n",
       "      <td>Direct</td>\n",
       "      <td>0</td>\n",
       "      <td>0</td>\n",
       "      <td>0</td>\n",
       "      <td>C</td>\n",
       "      <td>0</td>\n",
       "      <td>0</td>\n",
       "      <td>Transient</td>\n",
       "      <td>0</td>\n",
       "      <td>1</td>\n",
       "      <td>2</td>\n",
       "      <td>600</td>\n",
       "      <td>350</td>\n",
       "    </tr>\n",
       "    <tr>\n",
       "      <th>4</th>\n",
       "      <td>1</td>\n",
       "      <td>85</td>\n",
       "      <td>2015</td>\n",
       "      <td>July</td>\n",
       "      <td>1</td>\n",
       "      <td>0</td>\n",
       "      <td>3</td>\n",
       "      <td>2</td>\n",
       "      <td>0</td>\n",
       "      <td>0</td>\n",
       "      <td>BB</td>\n",
       "      <td>TA/TO</td>\n",
       "      <td>0</td>\n",
       "      <td>0</td>\n",
       "      <td>0</td>\n",
       "      <td>A</td>\n",
       "      <td>0</td>\n",
       "      <td>0</td>\n",
       "      <td>Transient</td>\n",
       "      <td>0</td>\n",
       "      <td>1</td>\n",
       "      <td>3</td>\n",
       "      <td>1000</td>\n",
       "      <td>400</td>\n",
       "    </tr>\n",
       "  </tbody>\n",
       "</table>\n",
       "</div>"
      ],
      "text/plain": [
       "   is_canceled  lead_time  arrival_date_year arrival_date_month  \\\n",
       "0            0          7               2015               July   \n",
       "1            0         14               2015               July   \n",
       "2            0          0               2015               July   \n",
       "3            0          9               2015               July   \n",
       "4            1         85               2015               July   \n",
       "\n",
       "   arrival_date_day_of_month  stays_in_weekend_nights  stays_in_week_nights  \\\n",
       "0                          1                        0                     1   \n",
       "1                          1                        0                     2   \n",
       "2                          1                        0                     2   \n",
       "3                          1                        0                     2   \n",
       "4                          1                        0                     3   \n",
       "\n",
       "   adults  children  babies       meal distribution_channel  \\\n",
       "0       1         0       0  BB                      Direct   \n",
       "1       2         0       0  BB                       TA/TO   \n",
       "2       2         0       0  BB                      Direct   \n",
       "3       2         0       0  FB                      Direct   \n",
       "4       2         0       0  BB                       TA/TO   \n",
       "\n",
       "   is_repeated_guest  previous_cancellations  previous_bookings_not_canceled  \\\n",
       "0                  0                       0                               0   \n",
       "1                  0                       0                               0   \n",
       "2                  0                       0                               0   \n",
       "3                  0                       0                               0   \n",
       "4                  0                       0                               0   \n",
       "\n",
       "  reserved_room_type  booking_changes  days_in_waiting_list customer_type  \\\n",
       "0   A                               0                     0     Transient   \n",
       "1   A                               0                     0     Transient   \n",
       "2   C                               0                     0     Transient   \n",
       "3   C                               0                     0     Transient   \n",
       "4   A                               0                     0     Transient   \n",
       "\n",
       "   required_car_parking_spaces  total_of_special_requests  total_nights  \\\n",
       "0                            0                          0             1   \n",
       "1                            0                          1             2   \n",
       "2                            0                          0             2   \n",
       "3                            0                          1             2   \n",
       "4                            0                          1             3   \n",
       "\n",
       "   winter_night_cost  one_time_cleaning_winter  \n",
       "0               1000                       400  \n",
       "1               1000                       400  \n",
       "2                600                       350  \n",
       "3                600                       350  \n",
       "4               1000                       400  "
      ]
     },
     "metadata": {},
     "output_type": "display_data"
    },
    {
     "data": {
      "text/html": [
       "<div>\n",
       "<style scoped>\n",
       "    .dataframe tbody tr th:only-of-type {\n",
       "        vertical-align: middle;\n",
       "    }\n",
       "\n",
       "    .dataframe tbody tr th {\n",
       "        vertical-align: top;\n",
       "    }\n",
       "\n",
       "    .dataframe thead th {\n",
       "        text-align: right;\n",
       "    }\n",
       "</style>\n",
       "<table border=\"1\" class=\"dataframe\">\n",
       "  <thead>\n",
       "    <tr style=\"text-align: right;\">\n",
       "      <th></th>\n",
       "      <th>is_canceled</th>\n",
       "      <th>lead_time</th>\n",
       "      <th>arrival_date_year</th>\n",
       "      <th>arrival_date_month</th>\n",
       "      <th>arrival_date_day_of_month</th>\n",
       "      <th>stays_in_weekend_nights</th>\n",
       "      <th>stays_in_week_nights</th>\n",
       "      <th>adults</th>\n",
       "      <th>children</th>\n",
       "      <th>babies</th>\n",
       "      <th>meal</th>\n",
       "      <th>distribution_channel</th>\n",
       "      <th>is_repeated_guest</th>\n",
       "      <th>previous_cancellations</th>\n",
       "      <th>previous_bookings_not_canceled</th>\n",
       "      <th>reserved_room_type</th>\n",
       "      <th>booking_changes</th>\n",
       "      <th>days_in_waiting_list</th>\n",
       "      <th>customer_type</th>\n",
       "      <th>required_car_parking_spaces</th>\n",
       "      <th>total_of_special_requests</th>\n",
       "      <th>total_nights</th>\n",
       "      <th>winter_night_cost</th>\n",
       "      <th>one_time_cleaning_winter</th>\n",
       "    </tr>\n",
       "  </thead>\n",
       "  <tbody>\n",
       "    <tr>\n",
       "      <th>0</th>\n",
       "      <td>1</td>\n",
       "      <td>74</td>\n",
       "      <td>2017</td>\n",
       "      <td>January</td>\n",
       "      <td>1</td>\n",
       "      <td>1</td>\n",
       "      <td>0</td>\n",
       "      <td>2</td>\n",
       "      <td>0</td>\n",
       "      <td>0</td>\n",
       "      <td>BB</td>\n",
       "      <td>TA/TO</td>\n",
       "      <td>0</td>\n",
       "      <td>0</td>\n",
       "      <td>0</td>\n",
       "      <td>A</td>\n",
       "      <td>0</td>\n",
       "      <td>0</td>\n",
       "      <td>Transient</td>\n",
       "      <td>0</td>\n",
       "      <td>0</td>\n",
       "      <td>1</td>\n",
       "      <td>1000</td>\n",
       "      <td>400</td>\n",
       "    </tr>\n",
       "    <tr>\n",
       "      <th>1</th>\n",
       "      <td>1</td>\n",
       "      <td>62</td>\n",
       "      <td>2017</td>\n",
       "      <td>January</td>\n",
       "      <td>1</td>\n",
       "      <td>2</td>\n",
       "      <td>2</td>\n",
       "      <td>2</td>\n",
       "      <td>0</td>\n",
       "      <td>0</td>\n",
       "      <td>BB</td>\n",
       "      <td>TA/TO</td>\n",
       "      <td>0</td>\n",
       "      <td>0</td>\n",
       "      <td>0</td>\n",
       "      <td>A</td>\n",
       "      <td>0</td>\n",
       "      <td>0</td>\n",
       "      <td>Transient</td>\n",
       "      <td>0</td>\n",
       "      <td>1</td>\n",
       "      <td>4</td>\n",
       "      <td>1000</td>\n",
       "      <td>400</td>\n",
       "    </tr>\n",
       "    <tr>\n",
       "      <th>2</th>\n",
       "      <td>1</td>\n",
       "      <td>62</td>\n",
       "      <td>2017</td>\n",
       "      <td>January</td>\n",
       "      <td>1</td>\n",
       "      <td>2</td>\n",
       "      <td>2</td>\n",
       "      <td>2</td>\n",
       "      <td>0</td>\n",
       "      <td>0</td>\n",
       "      <td>BB</td>\n",
       "      <td>TA/TO</td>\n",
       "      <td>0</td>\n",
       "      <td>0</td>\n",
       "      <td>0</td>\n",
       "      <td>A</td>\n",
       "      <td>0</td>\n",
       "      <td>0</td>\n",
       "      <td>Transient</td>\n",
       "      <td>0</td>\n",
       "      <td>1</td>\n",
       "      <td>4</td>\n",
       "      <td>600</td>\n",
       "      <td>350</td>\n",
       "    </tr>\n",
       "    <tr>\n",
       "      <th>3</th>\n",
       "      <td>1</td>\n",
       "      <td>71</td>\n",
       "      <td>2017</td>\n",
       "      <td>January</td>\n",
       "      <td>1</td>\n",
       "      <td>2</td>\n",
       "      <td>2</td>\n",
       "      <td>1</td>\n",
       "      <td>0</td>\n",
       "      <td>0</td>\n",
       "      <td>BB</td>\n",
       "      <td>TA/TO</td>\n",
       "      <td>0</td>\n",
       "      <td>0</td>\n",
       "      <td>0</td>\n",
       "      <td>A</td>\n",
       "      <td>0</td>\n",
       "      <td>0</td>\n",
       "      <td>Transient</td>\n",
       "      <td>0</td>\n",
       "      <td>1</td>\n",
       "      <td>4</td>\n",
       "      <td>600</td>\n",
       "      <td>350</td>\n",
       "    </tr>\n",
       "    <tr>\n",
       "      <th>4</th>\n",
       "      <td>1</td>\n",
       "      <td>172</td>\n",
       "      <td>2017</td>\n",
       "      <td>January</td>\n",
       "      <td>1</td>\n",
       "      <td>2</td>\n",
       "      <td>5</td>\n",
       "      <td>2</td>\n",
       "      <td>0</td>\n",
       "      <td>0</td>\n",
       "      <td>BB</td>\n",
       "      <td>TA/TO</td>\n",
       "      <td>0</td>\n",
       "      <td>0</td>\n",
       "      <td>0</td>\n",
       "      <td>A</td>\n",
       "      <td>0</td>\n",
       "      <td>0</td>\n",
       "      <td>Transient</td>\n",
       "      <td>0</td>\n",
       "      <td>0</td>\n",
       "      <td>7</td>\n",
       "      <td>1000</td>\n",
       "      <td>400</td>\n",
       "    </tr>\n",
       "  </tbody>\n",
       "</table>\n",
       "</div>"
      ],
      "text/plain": [
       "   is_canceled  lead_time  arrival_date_year arrival_date_month  \\\n",
       "0            1         74               2017            January   \n",
       "1            1         62               2017            January   \n",
       "2            1         62               2017            January   \n",
       "3            1         71               2017            January   \n",
       "4            1        172               2017            January   \n",
       "\n",
       "   arrival_date_day_of_month  stays_in_weekend_nights  stays_in_week_nights  \\\n",
       "0                          1                        1                     0   \n",
       "1                          1                        2                     2   \n",
       "2                          1                        2                     2   \n",
       "3                          1                        2                     2   \n",
       "4                          1                        2                     5   \n",
       "\n",
       "   adults  children  babies       meal distribution_channel  \\\n",
       "0       2         0       0  BB                       TA/TO   \n",
       "1       2         0       0  BB                       TA/TO   \n",
       "2       2         0       0  BB                       TA/TO   \n",
       "3       1         0       0  BB                       TA/TO   \n",
       "4       2         0       0  BB                       TA/TO   \n",
       "\n",
       "   is_repeated_guest  previous_cancellations  previous_bookings_not_canceled  \\\n",
       "0                  0                       0                               0   \n",
       "1                  0                       0                               0   \n",
       "2                  0                       0                               0   \n",
       "3                  0                       0                               0   \n",
       "4                  0                       0                               0   \n",
       "\n",
       "  reserved_room_type  booking_changes  days_in_waiting_list customer_type  \\\n",
       "0   A                               0                     0     Transient   \n",
       "1   A                               0                     0     Transient   \n",
       "2   A                               0                     0     Transient   \n",
       "3   A                               0                     0     Transient   \n",
       "4   A                               0                     0     Transient   \n",
       "\n",
       "   required_car_parking_spaces  total_of_special_requests  total_nights  \\\n",
       "0                            0                          0             1   \n",
       "1                            0                          1             4   \n",
       "2                            0                          1             4   \n",
       "3                            0                          1             4   \n",
       "4                            0                          0             7   \n",
       "\n",
       "   winter_night_cost  one_time_cleaning_winter  \n",
       "0               1000                       400  \n",
       "1               1000                       400  \n",
       "2                600                       350  \n",
       "3                600                       350  \n",
       "4               1000                       400  "
      ]
     },
     "metadata": {},
     "output_type": "display_data"
    }
   ],
   "source": [
    "# выводим df_train\n",
    "display(df_train.head())\n",
    "\n",
    "# выводим df_test\n",
    "display(df_test.head())"
   ]
  },
  {
   "cell_type": "markdown",
   "metadata": {},
   "source": [
    "Учитываем сезонный коэффицент и создаём коэффиценты для последущего расчёта прибыли"
   ]
  },
  {
   "cell_type": "code",
   "execution_count": 26,
   "metadata": {},
   "outputs": [],
   "source": [
    "def season_coeff(row):\n",
    "    row = row['arrival_date_month']\n",
    "    '''для каждого сезона вводим коэффицент нагрузки \n",
    "    на который будет умножаться стоимость номера и уборки'''\n",
    "   \n",
    "    if row == 'December' or row == 'January' or row == 'February':\n",
    "        return 1\n",
    "    if row == 'June' or row == 'July' or row == 'August':\n",
    "        return 1.4\n",
    "    else:\n",
    "        return 1.2\n"
   ]
  },
  {
   "cell_type": "markdown",
   "metadata": {},
   "source": [
    "Создаём новые параметры пр помощи функции"
   ]
  },
  {
   "cell_type": "code",
   "execution_count": 27,
   "metadata": {},
   "outputs": [],
   "source": [
    "df_train['season_coeff'] = df_train.apply(season_coeff, axis=1)\n",
    "df_test['season_coeff'] = df_test.apply(season_coeff, axis=1)"
   ]
  },
  {
   "cell_type": "markdown",
   "metadata": {},
   "source": [
    "Выводим датафреймы чтобы убедится что новые признаки добавлены"
   ]
  },
  {
   "cell_type": "code",
   "execution_count": 28,
   "metadata": {},
   "outputs": [
    {
     "data": {
      "text/html": [
       "<div>\n",
       "<style scoped>\n",
       "    .dataframe tbody tr th:only-of-type {\n",
       "        vertical-align: middle;\n",
       "    }\n",
       "\n",
       "    .dataframe tbody tr th {\n",
       "        vertical-align: top;\n",
       "    }\n",
       "\n",
       "    .dataframe thead th {\n",
       "        text-align: right;\n",
       "    }\n",
       "</style>\n",
       "<table border=\"1\" class=\"dataframe\">\n",
       "  <thead>\n",
       "    <tr style=\"text-align: right;\">\n",
       "      <th></th>\n",
       "      <th>arrival_date_month</th>\n",
       "      <th>season_coeff</th>\n",
       "    </tr>\n",
       "  </thead>\n",
       "  <tbody>\n",
       "    <tr>\n",
       "      <th>0</th>\n",
       "      <td>July</td>\n",
       "      <td>1.4</td>\n",
       "    </tr>\n",
       "    <tr>\n",
       "      <th>1</th>\n",
       "      <td>July</td>\n",
       "      <td>1.4</td>\n",
       "    </tr>\n",
       "    <tr>\n",
       "      <th>2</th>\n",
       "      <td>July</td>\n",
       "      <td>1.4</td>\n",
       "    </tr>\n",
       "    <tr>\n",
       "      <th>3</th>\n",
       "      <td>July</td>\n",
       "      <td>1.4</td>\n",
       "    </tr>\n",
       "    <tr>\n",
       "      <th>4</th>\n",
       "      <td>July</td>\n",
       "      <td>1.4</td>\n",
       "    </tr>\n",
       "    <tr>\n",
       "      <th>...</th>\n",
       "      <td>...</td>\n",
       "      <td>...</td>\n",
       "    </tr>\n",
       "    <tr>\n",
       "      <th>65224</th>\n",
       "      <td>December</td>\n",
       "      <td>1.0</td>\n",
       "    </tr>\n",
       "    <tr>\n",
       "      <th>65225</th>\n",
       "      <td>December</td>\n",
       "      <td>1.0</td>\n",
       "    </tr>\n",
       "    <tr>\n",
       "      <th>65226</th>\n",
       "      <td>December</td>\n",
       "      <td>1.0</td>\n",
       "    </tr>\n",
       "    <tr>\n",
       "      <th>65227</th>\n",
       "      <td>December</td>\n",
       "      <td>1.0</td>\n",
       "    </tr>\n",
       "    <tr>\n",
       "      <th>65228</th>\n",
       "      <td>December</td>\n",
       "      <td>1.0</td>\n",
       "    </tr>\n",
       "  </tbody>\n",
       "</table>\n",
       "<p>65229 rows × 2 columns</p>\n",
       "</div>"
      ],
      "text/plain": [
       "      arrival_date_month  season_coeff\n",
       "0                   July           1.4\n",
       "1                   July           1.4\n",
       "2                   July           1.4\n",
       "3                   July           1.4\n",
       "4                   July           1.4\n",
       "...                  ...           ...\n",
       "65224           December           1.0\n",
       "65225           December           1.0\n",
       "65226           December           1.0\n",
       "65227           December           1.0\n",
       "65228           December           1.0\n",
       "\n",
       "[65229 rows x 2 columns]"
      ]
     },
     "metadata": {},
     "output_type": "display_data"
    },
    {
     "data": {
      "text/html": [
       "<div>\n",
       "<style scoped>\n",
       "    .dataframe tbody tr th:only-of-type {\n",
       "        vertical-align: middle;\n",
       "    }\n",
       "\n",
       "    .dataframe tbody tr th {\n",
       "        vertical-align: top;\n",
       "    }\n",
       "\n",
       "    .dataframe thead th {\n",
       "        text-align: right;\n",
       "    }\n",
       "</style>\n",
       "<table border=\"1\" class=\"dataframe\">\n",
       "  <thead>\n",
       "    <tr style=\"text-align: right;\">\n",
       "      <th></th>\n",
       "      <th>arrival_date_month</th>\n",
       "      <th>season_coeff</th>\n",
       "    </tr>\n",
       "  </thead>\n",
       "  <tbody>\n",
       "    <tr>\n",
       "      <th>0</th>\n",
       "      <td>January</td>\n",
       "      <td>1.0</td>\n",
       "    </tr>\n",
       "    <tr>\n",
       "      <th>1</th>\n",
       "      <td>January</td>\n",
       "      <td>1.0</td>\n",
       "    </tr>\n",
       "    <tr>\n",
       "      <th>2</th>\n",
       "      <td>January</td>\n",
       "      <td>1.0</td>\n",
       "    </tr>\n",
       "    <tr>\n",
       "      <th>3</th>\n",
       "      <td>January</td>\n",
       "      <td>1.0</td>\n",
       "    </tr>\n",
       "    <tr>\n",
       "      <th>4</th>\n",
       "      <td>January</td>\n",
       "      <td>1.0</td>\n",
       "    </tr>\n",
       "    <tr>\n",
       "      <th>...</th>\n",
       "      <td>...</td>\n",
       "      <td>...</td>\n",
       "    </tr>\n",
       "    <tr>\n",
       "      <th>32407</th>\n",
       "      <td>August</td>\n",
       "      <td>1.4</td>\n",
       "    </tr>\n",
       "    <tr>\n",
       "      <th>32408</th>\n",
       "      <td>August</td>\n",
       "      <td>1.4</td>\n",
       "    </tr>\n",
       "    <tr>\n",
       "      <th>32409</th>\n",
       "      <td>August</td>\n",
       "      <td>1.4</td>\n",
       "    </tr>\n",
       "    <tr>\n",
       "      <th>32410</th>\n",
       "      <td>August</td>\n",
       "      <td>1.4</td>\n",
       "    </tr>\n",
       "    <tr>\n",
       "      <th>32411</th>\n",
       "      <td>August</td>\n",
       "      <td>1.4</td>\n",
       "    </tr>\n",
       "  </tbody>\n",
       "</table>\n",
       "<p>32412 rows × 2 columns</p>\n",
       "</div>"
      ],
      "text/plain": [
       "      arrival_date_month  season_coeff\n",
       "0                January           1.0\n",
       "1                January           1.0\n",
       "2                January           1.0\n",
       "3                January           1.0\n",
       "4                January           1.0\n",
       "...                  ...           ...\n",
       "32407             August           1.4\n",
       "32408             August           1.4\n",
       "32409             August           1.4\n",
       "32410             August           1.4\n",
       "32411             August           1.4\n",
       "\n",
       "[32412 rows x 2 columns]"
      ]
     },
     "metadata": {},
     "output_type": "display_data"
    }
   ],
   "source": [
    "display(df_train.loc[:, ['arrival_date_month', 'season_coeff']])\n",
    "display(df_test.loc[:, ['arrival_date_month', 'season_coeff']])"
   ]
  },
  {
   "cell_type": "markdown",
   "metadata": {},
   "source": [
    "Выводим общую гистограмму по всем параметрам df_train"
   ]
  },
  {
   "cell_type": "code",
   "execution_count": 29,
   "metadata": {},
   "outputs": [
    {
     "data": {
      "text/plain": [
       "<function matplotlib.pyplot.show(close=None, block=None)>"
      ]
     },
     "execution_count": 29,
     "metadata": {},
     "output_type": "execute_result"
    },
    {
     "data": {
      "image/png": "[encoded data removed]",
      "text/plain": [
       "<Figure size 1080x1440 with 20 Axes>"
      ]
     },
     "metadata": {
      "needs_background": "light"
     },
     "output_type": "display_data"
    }
   ],
   "source": [
    "df_train.hist(figsize=(15, 20))\n",
    "plt.show"
   ]
  },
  {
   "cell_type": "markdown",
   "metadata": {},
   "source": [
    "Выборочно проверяем некоторые параметры на выбросы."
   ]
  },
  {
   "cell_type": "code",
   "execution_count": 30,
   "metadata": {},
   "outputs": [
    {
     "data": {
      "text/plain": [
       "<AxesSubplot:>"
      ]
     },
     "execution_count": 30,
     "metadata": {},
     "output_type": "execute_result"
    },
    {
     "data": {
      "image/png": "[encoded data removed]",
      "text/plain": [
       "<Figure size 432x288 with 1 Axes>"
      ]
     },
     "metadata": {
      "needs_background": "light"
     },
     "output_type": "display_data"
    }
   ],
   "source": [
    "# количество дней между датой бронирования и датой прибытия\n",
    "df_train.boxplot(column=['lead_time'])\n"
   ]
  },
  {
   "cell_type": "code",
   "execution_count": 31,
   "metadata": {},
   "outputs": [
    {
     "data": {
      "text/plain": [
       "<AxesSubplot:>"
      ]
     },
     "execution_count": 31,
     "metadata": {},
     "output_type": "execute_result"
    },
    {
     "data": {
      "image/png": "[encoded data removed]",
      "text/plain": [
       "<Figure size 432x288 with 1 Axes>"
      ]
     },
     "metadata": {
      "needs_background": "light"
     },
     "output_type": "display_data"
    }
   ],
   "source": [
    "# количество специальных отметок\n",
    "df_train.boxplot(column=['total_of_special_requests'])"
   ]
  },
  {
   "cell_type": "markdown",
   "metadata": {},
   "source": [
    "Выборочно проверяем взаимосвязь целевого и некоторых нецелевых параметров"
   ]
  },
  {
   "cell_type": "markdown",
   "metadata": {},
   "source": [
    "Месяц заезда в гостинницу"
   ]
  },
  {
   "cell_type": "code",
   "execution_count": 32,
   "metadata": {},
   "outputs": [
    {
     "data": {
      "text/plain": [
       "Text(0, 0.5, 'Заказы (кол-во)')"
      ]
     },
     "execution_count": 32,
     "metadata": {},
     "output_type": "execute_result"
    },
    {
     "data": {
      "image/png": "[encoded data removed]",
      "text/plain": [
       "<Figure size 432x288 with 1 Axes>"
      ]
     },
     "metadata": {
      "needs_background": "light"
     },
     "output_type": "display_data"
    }
   ],
   "source": [
    "pd.crosstab(df_train['arrival_date_month'], df_train['is_canceled']).plot(kind = 'bar')\n",
    "plt.title('Месяц заезда')\n",
    "plt.xlabel('Месяцы')\n",
    "plt.ylabel('Заказы (кол-во)')"
   ]
  },
  {
   "cell_type": "markdown",
   "metadata": {},
   "source": [
    "День заезда"
   ]
  },
  {
   "cell_type": "code",
   "execution_count": 33,
   "metadata": {},
   "outputs": [
    {
     "data": {
      "text/plain": [
       "Text(0, 0.5, 'Заказы (кол-во)')"
      ]
     },
     "execution_count": 33,
     "metadata": {},
     "output_type": "execute_result"
    },
    {
     "data": {
      "image/png": "[encoded data removed]",
      "text/plain": [
       "<Figure size 432x288 with 1 Axes>"
      ]
     },
     "metadata": {
      "needs_background": "light"
     },
     "output_type": "display_data"
    }
   ],
   "source": [
    "pd.crosstab(df_train['arrival_date_day_of_month'], df_train['is_canceled']).plot(kind = 'bar')\n",
    "plt.title('День заезда')\n",
    "plt.xlabel('День')\n",
    "plt.ylabel('Заказы (кол-во)')"
   ]
  },
  {
   "cell_type": "markdown",
   "metadata": {},
   "source": [
    "Заказы по годам"
   ]
  },
  {
   "cell_type": "code",
   "execution_count": 34,
   "metadata": {},
   "outputs": [
    {
     "data": {
      "text/plain": [
       "Text(0, 0.5, 'Заказы (кол-во)')"
      ]
     },
     "execution_count": 34,
     "metadata": {},
     "output_type": "execute_result"
    },
    {
     "data": {
      "image/png": "[encoded data removed]",
      "text/plain": [
       "<Figure size 432x288 with 1 Axes>"
      ]
     },
     "metadata": {
      "needs_background": "light"
     },
     "output_type": "display_data"
    }
   ],
   "source": [
    "pd.crosstab(df_train['arrival_date_year'], df_train['is_canceled']).plot(kind = 'bar')\n",
    "plt.title('Заказы по годам')\n",
    "plt.xlabel('Год')\n",
    "plt.ylabel('Заказы (кол-во)')"
   ]
  },
  {
   "cell_type": "markdown",
   "metadata": {},
   "source": [
    "Количество младенцев"
   ]
  },
  {
   "cell_type": "code",
   "execution_count": 35,
   "metadata": {},
   "outputs": [
    {
     "data": {
      "text/plain": [
       "Text(0, 0.5, 'Заказы (кол-во)')"
      ]
     },
     "execution_count": 35,
     "metadata": {},
     "output_type": "execute_result"
    },
    {
     "data": {
      "image/png": "[encoded data removed]",
      "text/plain": [
       "<Figure size 432x288 with 1 Axes>"
      ]
     },
     "metadata": {
      "needs_background": "light"
     },
     "output_type": "display_data"
    }
   ],
   "source": [
    "pd.crosstab(df_train['babies'], df_train['is_canceled']).plot(kind = 'bar')\n",
    "plt.title('Количество младенцев')\n",
    "plt.xlabel('Младенцы')\n",
    "plt.ylabel('Заказы (кол-во)')\n"
   ]
  },
  {
   "cell_type": "markdown",
   "metadata": {},
   "source": [
    "Тип заказчика"
   ]
  },
  {
   "cell_type": "code",
   "execution_count": 36,
   "metadata": {},
   "outputs": [
    {
     "data": {
      "text/plain": [
       "Text(0, 0.5, 'Заказы (кол-во)')"
      ]
     },
     "execution_count": 36,
     "metadata": {},
     "output_type": "execute_result"
    },
    {
     "data": {
      "image/png": "[encoded data removed]",
      "text/plain": [
       "<Figure size 432x288 with 1 Axes>"
      ]
     },
     "metadata": {
      "needs_background": "light"
     },
     "output_type": "display_data"
    }
   ],
   "source": [
    "pd.crosstab(df_train['customer_type'], df_train['is_canceled']).plot(kind = 'bar')\n",
    "plt.title('Тип заказчика')\n",
    "plt.xlabel('Тип заказа')\n",
    "plt.ylabel('Заказы (кол-во)')"
   ]
  },
  {
   "cell_type": "code",
   "execution_count": 37,
   "metadata": {},
   "outputs": [
    {
     "data": {
      "text/html": [
       "<div>\n",
       "<style scoped>\n",
       "    .dataframe tbody tr th:only-of-type {\n",
       "        vertical-align: middle;\n",
       "    }\n",
       "\n",
       "    .dataframe tbody tr th {\n",
       "        vertical-align: top;\n",
       "    }\n",
       "\n",
       "    .dataframe thead th {\n",
       "        text-align: right;\n",
       "    }\n",
       "</style>\n",
       "<table border=\"1\" class=\"dataframe\">\n",
       "  <thead>\n",
       "    <tr style=\"text-align: right;\">\n",
       "      <th>is_canceled</th>\n",
       "      <th>0</th>\n",
       "      <th>1</th>\n",
       "    </tr>\n",
       "    <tr>\n",
       "      <th>customer_type</th>\n",
       "      <th></th>\n",
       "      <th></th>\n",
       "    </tr>\n",
       "  </thead>\n",
       "  <tbody>\n",
       "    <tr>\n",
       "      <th>Contract</th>\n",
       "      <td>1656</td>\n",
       "      <td>1090</td>\n",
       "    </tr>\n",
       "    <tr>\n",
       "      <th>Group</th>\n",
       "      <td>263</td>\n",
       "      <td>24</td>\n",
       "    </tr>\n",
       "    <tr>\n",
       "      <th>Transient</th>\n",
       "      <td>27476</td>\n",
       "      <td>18017</td>\n",
       "    </tr>\n",
       "    <tr>\n",
       "      <th>Transient-Party</th>\n",
       "      <td>11790</td>\n",
       "      <td>4913</td>\n",
       "    </tr>\n",
       "  </tbody>\n",
       "</table>\n",
       "</div>"
      ],
      "text/plain": [
       "is_canceled          0      1\n",
       "customer_type                \n",
       "Contract          1656   1090\n",
       "Group              263     24\n",
       "Transient        27476  18017\n",
       "Transient-Party  11790   4913"
      ]
     },
     "execution_count": 37,
     "metadata": {},
     "output_type": "execute_result"
    }
   ],
   "source": [
    "pd.crosstab(df_train['customer_type'], df_train['is_canceled'])"
   ]
  },
  {
   "cell_type": "markdown",
   "metadata": {},
   "source": [
    "Канал дистрибуции заказа"
   ]
  },
  {
   "cell_type": "code",
   "execution_count": 38,
   "metadata": {},
   "outputs": [
    {
     "data": {
      "text/plain": [
       "Text(0, 0.5, 'Заказы (кол-во)')"
      ]
     },
     "execution_count": 38,
     "metadata": {},
     "output_type": "execute_result"
    },
    {
     "data": {
      "image/png": "[encoded data removed]",
      "text/plain": [
       "<Figure size 432x288 with 1 Axes>"
      ]
     },
     "metadata": {
      "needs_background": "light"
     },
     "output_type": "display_data"
    }
   ],
   "source": [
    "pd.crosstab(df_train['distribution_channel'], df_train['is_canceled']).plot(kind = 'bar')\n",
    "plt.title('Канал дистрибуции заказа')\n",
    "plt.xlabel('Тип заказа')\n",
    "plt.ylabel('Заказы (кол-во)')"
   ]
  },
  {
   "cell_type": "code",
   "execution_count": 39,
   "metadata": {},
   "outputs": [
    {
     "data": {
      "text/html": [
       "<div>\n",
       "<style scoped>\n",
       "    .dataframe tbody tr th:only-of-type {\n",
       "        vertical-align: middle;\n",
       "    }\n",
       "\n",
       "    .dataframe tbody tr th {\n",
       "        vertical-align: top;\n",
       "    }\n",
       "\n",
       "    .dataframe thead th {\n",
       "        text-align: right;\n",
       "    }\n",
       "</style>\n",
       "<table border=\"1\" class=\"dataframe\">\n",
       "  <thead>\n",
       "    <tr style=\"text-align: right;\">\n",
       "      <th>is_canceled</th>\n",
       "      <th>0</th>\n",
       "      <th>1</th>\n",
       "    </tr>\n",
       "    <tr>\n",
       "      <th>distribution_channel</th>\n",
       "      <th></th>\n",
       "      <th></th>\n",
       "    </tr>\n",
       "  </thead>\n",
       "  <tbody>\n",
       "    <tr>\n",
       "      <th>Corporate</th>\n",
       "      <td>2992</td>\n",
       "      <td>831</td>\n",
       "    </tr>\n",
       "    <tr>\n",
       "      <th>Direct</th>\n",
       "      <td>5665</td>\n",
       "      <td>1188</td>\n",
       "    </tr>\n",
       "    <tr>\n",
       "      <th>GDS</th>\n",
       "      <td>80</td>\n",
       "      <td>19</td>\n",
       "    </tr>\n",
       "    <tr>\n",
       "      <th>TA/TO</th>\n",
       "      <td>32448</td>\n",
       "      <td>22006</td>\n",
       "    </tr>\n",
       "  </tbody>\n",
       "</table>\n",
       "</div>"
      ],
      "text/plain": [
       "is_canceled               0      1\n",
       "distribution_channel              \n",
       "Corporate              2992    831\n",
       "Direct                 5665   1188\n",
       "GDS                      80     19\n",
       "TA/TO                 32448  22006"
      ]
     },
     "execution_count": 39,
     "metadata": {},
     "output_type": "execute_result"
    }
   ],
   "source": [
    "pd.crosstab(df_train['distribution_channel'], df_train['is_canceled'])"
   ]
  },
  {
   "cell_type": "markdown",
   "metadata": {},
   "source": [
    "`Вывод:` наибольшая пропорция отмены бронирования через канал `TA/TO`"
   ]
  },
  {
   "cell_type": "markdown",
   "metadata": {},
   "source": [
    "Опции заказа"
   ]
  },
  {
   "cell_type": "code",
   "execution_count": 40,
   "metadata": {},
   "outputs": [
    {
     "data": {
      "text/plain": [
       "Text(0, 0.5, 'Заказы (кол-во)')"
      ]
     },
     "execution_count": 40,
     "metadata": {},
     "output_type": "execute_result"
    },
    {
     "data": {
      "image/png": "[encoded data removed]",
      "text/plain": [
       "<Figure size 432x288 with 1 Axes>"
      ]
     },
     "metadata": {
      "needs_background": "light"
     },
     "output_type": "display_data"
    }
   ],
   "source": [
    "pd.crosstab(df_train['meal'], df_train['is_canceled']).plot(kind = 'bar')\n",
    "plt.title('Опции заказа')\n",
    "plt.xlabel('Опция')\n",
    "plt.ylabel('Заказы (кол-во)')"
   ]
  },
  {
   "cell_type": "markdown",
   "metadata": {},
   "source": [
    "Тип забронированной комнаты"
   ]
  },
  {
   "cell_type": "code",
   "execution_count": 41,
   "metadata": {},
   "outputs": [
    {
     "data": {
      "text/plain": [
       "Text(0, 0.5, 'Заказы (кол-во)')"
      ]
     },
     "execution_count": 41,
     "metadata": {},
     "output_type": "execute_result"
    },
    {
     "data": {
      "image/png": "[encoded data removed]",
      "text/plain": [
       "<Figure size 432x288 with 1 Axes>"
      ]
     },
     "metadata": {
      "needs_background": "light"
     },
     "output_type": "display_data"
    }
   ],
   "source": [
    "pd.crosstab(df_train['reserved_room_type'], df_train['is_canceled']).plot(kind = 'bar')\n",
    "plt.title('Тип забронированной комнаты')\n",
    "plt.xlabel('Тип')\n",
    "plt.ylabel('Заказы (кол-во)')"
   ]
  },
  {
   "cell_type": "markdown",
   "metadata": {},
   "source": [
    "Количество изменений параметров заказа"
   ]
  },
  {
   "cell_type": "code",
   "execution_count": 42,
   "metadata": {},
   "outputs": [
    {
     "data": {
      "text/plain": [
       "Text(0, 0.5, 'Заказы (кол-во)')"
      ]
     },
     "execution_count": 42,
     "metadata": {},
     "output_type": "execute_result"
    },
    {
     "data": {
      "image/png": "[encoded data removed]",
      "text/plain": [
       "<Figure size 432x288 with 1 Axes>"
      ]
     },
     "metadata": {
      "needs_background": "light"
     },
     "output_type": "display_data"
    }
   ],
   "source": [
    "pd.crosstab(df_train['booking_changes'], df_train['is_canceled']).plot(kind = 'bar')\n",
    "plt.title('Количество изменений параметров заказа')\n",
    "plt.xlabel('изменения')\n",
    "plt.ylabel('Заказы (кол-во)')"
   ]
  },
  {
   "cell_type": "markdown",
   "metadata": {},
   "source": [
    "Количество детей от 3 до 14 лет"
   ]
  },
  {
   "cell_type": "code",
   "execution_count": 43,
   "metadata": {},
   "outputs": [
    {
     "data": {
      "text/plain": [
       "Text(0, 0.5, 'Заказы (кол-во)')"
      ]
     },
     "execution_count": 43,
     "metadata": {},
     "output_type": "execute_result"
    },
    {
     "data": {
      "image/png": "[encoded data removed]",
      "text/plain": [
       "<Figure size 432x288 with 1 Axes>"
      ]
     },
     "metadata": {
      "needs_background": "light"
     },
     "output_type": "display_data"
    }
   ],
   "source": [
    "pd.crosstab(df_train['children'], df_train['is_canceled']).plot(kind = 'bar')\n",
    "plt.title('Количество детей от 3 до 14 лет')\n",
    "plt.xlabel('Дети')\n",
    "plt.ylabel('Заказы (кол-во)')"
   ]
  },
  {
   "cell_type": "markdown",
   "metadata": {},
   "source": [
    "Тип заказчика"
   ]
  },
  {
   "cell_type": "code",
   "execution_count": 44,
   "metadata": {},
   "outputs": [
    {
     "data": {
      "text/plain": [
       "Text(0, 0.5, 'Заказы (кол-во)')"
      ]
     },
     "execution_count": 44,
     "metadata": {},
     "output_type": "execute_result"
    },
    {
     "data": {
      "image/png": "[encoded data removed]",
      "text/plain": [
       "<Figure size 432x288 with 1 Axes>"
      ]
     },
     "metadata": {
      "needs_background": "light"
     },
     "output_type": "display_data"
    }
   ],
   "source": [
    "pd.crosstab(df_train['customer_type'], df_train['is_canceled']).plot(kind = 'bar')\n",
    "plt.title('Тип заказчика')\n",
    "plt.xlabel('Тип')\n",
    "plt.ylabel('Заказы (кол-во)')"
   ]
  },
  {
   "cell_type": "markdown",
   "metadata": {},
   "source": [
    "Количество отменённых заказов у клиента"
   ]
  },
  {
   "cell_type": "code",
   "execution_count": 45,
   "metadata": {},
   "outputs": [
    {
     "data": {
      "text/plain": [
       "Text(0, 0.5, 'Заказы (кол-во)')"
      ]
     },
     "execution_count": 45,
     "metadata": {},
     "output_type": "execute_result"
    },
    {
     "data": {
      "image/png": "[encoded data removed]",
      "text/plain": [
       "<Figure size 432x288 with 1 Axes>"
      ]
     },
     "metadata": {
      "needs_background": "light"
     },
     "output_type": "display_data"
    }
   ],
   "source": [
    "pd.crosstab(df_train['previous_cancellations'], df_train['is_canceled']).plot(kind = 'bar')\n",
    "plt.title('Количество отменённых заказов у клиента')\n",
    "plt.xlabel('Количество отмен')\n",
    "plt.ylabel('Заказы (кол-во)')"
   ]
  },
  {
   "cell_type": "code",
   "execution_count": 46,
   "metadata": {},
   "outputs": [
    {
     "data": {
      "text/html": [
       "<div>\n",
       "<style scoped>\n",
       "    .dataframe tbody tr th:only-of-type {\n",
       "        vertical-align: middle;\n",
       "    }\n",
       "\n",
       "    .dataframe tbody tr th {\n",
       "        vertical-align: top;\n",
       "    }\n",
       "\n",
       "    .dataframe thead th {\n",
       "        text-align: right;\n",
       "    }\n",
       "</style>\n",
       "<table border=\"1\" class=\"dataframe\">\n",
       "  <thead>\n",
       "    <tr style=\"text-align: right;\">\n",
       "      <th>is_canceled</th>\n",
       "      <th>0</th>\n",
       "      <th>1</th>\n",
       "    </tr>\n",
       "    <tr>\n",
       "      <th>previous_cancellations</th>\n",
       "      <th></th>\n",
       "      <th></th>\n",
       "    </tr>\n",
       "  </thead>\n",
       "  <tbody>\n",
       "    <tr>\n",
       "      <th>0</th>\n",
       "      <td>40943</td>\n",
       "      <td>18648</td>\n",
       "    </tr>\n",
       "    <tr>\n",
       "      <th>1</th>\n",
       "      <td>135</td>\n",
       "      <td>5232</td>\n",
       "    </tr>\n",
       "    <tr>\n",
       "      <th>2</th>\n",
       "      <td>31</td>\n",
       "      <td>23</td>\n",
       "    </tr>\n",
       "    <tr>\n",
       "      <th>3</th>\n",
       "      <td>35</td>\n",
       "      <td>16</td>\n",
       "    </tr>\n",
       "    <tr>\n",
       "      <th>4</th>\n",
       "      <td>4</td>\n",
       "      <td>1</td>\n",
       "    </tr>\n",
       "    <tr>\n",
       "      <th>5</th>\n",
       "      <td>11</td>\n",
       "      <td>2</td>\n",
       "    </tr>\n",
       "    <tr>\n",
       "      <th>6</th>\n",
       "      <td>0</td>\n",
       "      <td>7</td>\n",
       "    </tr>\n",
       "    <tr>\n",
       "      <th>11</th>\n",
       "      <td>25</td>\n",
       "      <td>10</td>\n",
       "    </tr>\n",
       "    <tr>\n",
       "      <th>13</th>\n",
       "      <td>1</td>\n",
       "      <td>11</td>\n",
       "    </tr>\n",
       "    <tr>\n",
       "      <th>14</th>\n",
       "      <td>0</td>\n",
       "      <td>11</td>\n",
       "    </tr>\n",
       "    <tr>\n",
       "      <th>19</th>\n",
       "      <td>0</td>\n",
       "      <td>17</td>\n",
       "    </tr>\n",
       "    <tr>\n",
       "      <th>21</th>\n",
       "      <td>0</td>\n",
       "      <td>1</td>\n",
       "    </tr>\n",
       "    <tr>\n",
       "      <th>24</th>\n",
       "      <td>0</td>\n",
       "      <td>28</td>\n",
       "    </tr>\n",
       "    <tr>\n",
       "      <th>25</th>\n",
       "      <td>0</td>\n",
       "      <td>19</td>\n",
       "    </tr>\n",
       "    <tr>\n",
       "      <th>26</th>\n",
       "      <td>0</td>\n",
       "      <td>18</td>\n",
       "    </tr>\n",
       "  </tbody>\n",
       "</table>\n",
       "</div>"
      ],
      "text/plain": [
       "is_canceled                 0      1\n",
       "previous_cancellations              \n",
       "0                       40943  18648\n",
       "1                         135   5232\n",
       "2                          31     23\n",
       "3                          35     16\n",
       "4                           4      1\n",
       "5                          11      2\n",
       "6                           0      7\n",
       "11                         25     10\n",
       "13                          1     11\n",
       "14                          0     11\n",
       "19                          0     17\n",
       "21                          0      1\n",
       "24                          0     28\n",
       "25                          0     19\n",
       "26                          0     18"
      ]
     },
     "execution_count": 46,
     "metadata": {},
     "output_type": "execute_result"
    }
   ],
   "source": [
    "pd.crosstab(df_train['previous_cancellations'], df_train['is_canceled'])"
   ]
  },
  {
   "cell_type": "markdown",
   "metadata": {},
   "source": [
    "`Вывод:` те кто отменял заказ хотя бы однажды имеют повышенную вероятность отменить новый заказ. То же можно утверждать про тех кто отменял заказы > 13 раз."
   ]
  },
  {
   "cell_type": "markdown",
   "metadata": {},
   "source": [
    "Количество специальных отметок"
   ]
  },
  {
   "cell_type": "code",
   "execution_count": 47,
   "metadata": {},
   "outputs": [
    {
     "data": {
      "text/plain": [
       "Text(0, 0.5, 'Заказы (кол-во)')"
      ]
     },
     "execution_count": 47,
     "metadata": {},
     "output_type": "execute_result"
    },
    {
     "data": {
      "image/png": "[encoded data removed]",
      "text/plain": [
       "<Figure size 432x288 with 1 Axes>"
      ]
     },
     "metadata": {
      "needs_background": "light"
     },
     "output_type": "display_data"
    }
   ],
   "source": [
    "pd.crosstab(df_train['total_of_special_requests'], df_train['is_canceled']).plot(kind = 'bar')\n",
    "plt.title('Количество специальных отметок')\n",
    "plt.xlabel('Отметка')\n",
    "plt.ylabel('Заказы (кол-во)')"
   ]
  },
  {
   "cell_type": "code",
   "execution_count": 48,
   "metadata": {},
   "outputs": [
    {
     "data": {
      "text/html": [
       "<div>\n",
       "<style scoped>\n",
       "    .dataframe tbody tr th:only-of-type {\n",
       "        vertical-align: middle;\n",
       "    }\n",
       "\n",
       "    .dataframe tbody tr th {\n",
       "        vertical-align: top;\n",
       "    }\n",
       "\n",
       "    .dataframe thead th {\n",
       "        text-align: right;\n",
       "    }\n",
       "</style>\n",
       "<table border=\"1\" class=\"dataframe\">\n",
       "  <thead>\n",
       "    <tr style=\"text-align: right;\">\n",
       "      <th>is_canceled</th>\n",
       "      <th>0</th>\n",
       "      <th>1</th>\n",
       "    </tr>\n",
       "    <tr>\n",
       "      <th>total_of_special_requests</th>\n",
       "      <th></th>\n",
       "      <th></th>\n",
       "    </tr>\n",
       "  </thead>\n",
       "  <tbody>\n",
       "    <tr>\n",
       "      <th>0</th>\n",
       "      <td>21170</td>\n",
       "      <td>19501</td>\n",
       "    </tr>\n",
       "    <tr>\n",
       "      <th>1</th>\n",
       "      <td>13884</td>\n",
       "      <td>3074</td>\n",
       "    </tr>\n",
       "    <tr>\n",
       "      <th>2</th>\n",
       "      <td>5191</td>\n",
       "      <td>1253</td>\n",
       "    </tr>\n",
       "    <tr>\n",
       "      <th>3</th>\n",
       "      <td>833</td>\n",
       "      <td>203</td>\n",
       "    </tr>\n",
       "    <tr>\n",
       "      <th>4</th>\n",
       "      <td>94</td>\n",
       "      <td>13</td>\n",
       "    </tr>\n",
       "    <tr>\n",
       "      <th>5</th>\n",
       "      <td>13</td>\n",
       "      <td>0</td>\n",
       "    </tr>\n",
       "  </tbody>\n",
       "</table>\n",
       "</div>"
      ],
      "text/plain": [
       "is_canceled                    0      1\n",
       "total_of_special_requests              \n",
       "0                          21170  19501\n",
       "1                          13884   3074\n",
       "2                           5191   1253\n",
       "3                            833    203\n",
       "4                             94     13\n",
       "5                             13      0"
      ]
     },
     "execution_count": 48,
     "metadata": {},
     "output_type": "execute_result"
    }
   ],
   "source": [
    "pd.crosstab(df_train['total_of_special_requests'], df_train['is_canceled'])"
   ]
  },
  {
   "cell_type": "markdown",
   "metadata": {},
   "source": [
    "`Вывод:` постояльцы отмеченные специальной меткой `0` имеют более высокие шансы отменить заказ"
   ]
  },
  {
   "cell_type": "markdown",
   "metadata": {},
   "source": [
    "Проводим анализ баланса классов в целевой переменной"
   ]
  },
  {
   "cell_type": "code",
   "execution_count": 49,
   "metadata": {},
   "outputs": [
    {
     "data": {
      "text/plain": [
       "Text(0, 0.5, 'Классы (кол-во)')"
      ]
     },
     "execution_count": 49,
     "metadata": {},
     "output_type": "execute_result"
    },
    {
     "data": {
      "image/png": "[encoded data removed]",
      "text/plain": [
       "<Figure size 432x288 with 1 Axes>"
      ]
     },
     "metadata": {
      "needs_background": "light"
     },
     "output_type": "display_data"
    }
   ],
   "source": [
    "pd.crosstab(df_train['is_canceled'] == 0, df_train['is_canceled'] == 1).plot(kind = 'bar')\n",
    "plt.title('Дизбалланс классов целевого признака')\n",
    "plt.xlabel('Класс')\n",
    "plt.ylabel('Классы (кол-во)')"
   ]
  },
  {
   "cell_type": "code",
   "execution_count": 50,
   "metadata": {},
   "outputs": [
    {
     "name": "stdout",
     "output_type": "stream",
     "text": [
      "is_canceled = 0:  41185\n",
      "is_canceled = 1:  24044\n"
     ]
    }
   ],
   "source": [
    "print('is_canceled = 0: ',df_train.loc[df_train['is_canceled'] == 0, 'is_canceled'].count())\n",
    "print('is_canceled = 1: ',df_train.loc[df_train['is_canceled'] == 1, 'is_canceled'].count())"
   ]
  },
  {
   "cell_type": "markdown",
   "metadata": {},
   "source": [
    "`Вывод:` Количество отменённых бронирований составляет 58% от количества нетменённых бронирований."
   ]
  },
  {
   "cell_type": "markdown",
   "metadata": {},
   "source": [
    "`Вывод ИАД:` Наблюдаются выбросы в количествах дней между датой бронирования и датой прибытия, что не вызывает подозрений те некоторые киенты могли забронировать номер задолго до заезда. Также есть выбивающиеся значения в параметре 'количество специальных отметок', просто отметим этот факт.\n",
    "\n",
    "Отметим, что наибольшая пропорция отмены бронирования через канал `TA/TO`\n",
    "\n",
    "Те кто `отменял заказ` хотя бы `однажды` имеют повышенную вероятность отменить новый заказ. То же можно утверждать про тех кто отменял заказы > 13 раз.\n",
    "\n",
    "Постояльцы отмееные специальной меткой `0` имеют более высокие шансы отменить заказ"
   ]
  },
  {
   "cell_type": "markdown",
   "metadata": {},
   "source": [
    "### 1.1.4. <a id='toc1_1_4_'></a>[Шаг 3. Формулировка ML-задачи на основе бизнес-задачи](#toc0_)"
   ]
  },
  {
   "cell_type": "markdown",
   "metadata": {},
   "source": [
    "Создаём функцию для подсчёта прибыли"
   ]
  },
  {
   "cell_type": "code",
   "execution_count": 51,
   "metadata": {},
   "outputs": [],
   "source": [
    "def profit(row):\n",
    "    if row['is_canceled'] == 0:\n",
    "        income = row['winter_night_cost'] * row['season_coeff'] * row['total_nights']\n",
    "        expences = row['one_time_cleaning_winter'] * round(row['total_nights'] / 2)\n",
    "    else:\n",
    "        income = 0\n",
    "        expences = row['winter_night_cost'] * row['season_coeff'] + row['one_time_cleaning_winter']\n",
    "    earned = income - expences\n",
    "    return earned\n"
   ]
  },
  {
   "cell_type": "markdown",
   "metadata": {},
   "source": [
    "Создаём новый признак при помощи функции"
   ]
  },
  {
   "cell_type": "code",
   "execution_count": 52,
   "metadata": {},
   "outputs": [],
   "source": [
    "df_test['profit'] = df_test.apply(profit, axis=1)"
   ]
  },
  {
   "cell_type": "markdown",
   "metadata": {},
   "source": [
    "Проверяем создание нового признака с прибылью / убытком"
   ]
  },
  {
   "cell_type": "code",
   "execution_count": 53,
   "metadata": {},
   "outputs": [
    {
     "data": {
      "text/html": [
       "<div>\n",
       "<style scoped>\n",
       "    .dataframe tbody tr th:only-of-type {\n",
       "        vertical-align: middle;\n",
       "    }\n",
       "\n",
       "    .dataframe tbody tr th {\n",
       "        vertical-align: top;\n",
       "    }\n",
       "\n",
       "    .dataframe thead th {\n",
       "        text-align: right;\n",
       "    }\n",
       "</style>\n",
       "<table border=\"1\" class=\"dataframe\">\n",
       "  <thead>\n",
       "    <tr style=\"text-align: right;\">\n",
       "      <th></th>\n",
       "      <th>winter_night_cost</th>\n",
       "      <th>profit</th>\n",
       "    </tr>\n",
       "  </thead>\n",
       "  <tbody>\n",
       "    <tr>\n",
       "      <th>0</th>\n",
       "      <td>1000</td>\n",
       "      <td>-1400.0</td>\n",
       "    </tr>\n",
       "    <tr>\n",
       "      <th>1</th>\n",
       "      <td>1000</td>\n",
       "      <td>-1400.0</td>\n",
       "    </tr>\n",
       "    <tr>\n",
       "      <th>2</th>\n",
       "      <td>600</td>\n",
       "      <td>-950.0</td>\n",
       "    </tr>\n",
       "    <tr>\n",
       "      <th>3</th>\n",
       "      <td>600</td>\n",
       "      <td>-950.0</td>\n",
       "    </tr>\n",
       "    <tr>\n",
       "      <th>4</th>\n",
       "      <td>1000</td>\n",
       "      <td>-1400.0</td>\n",
       "    </tr>\n",
       "    <tr>\n",
       "      <th>...</th>\n",
       "      <td>...</td>\n",
       "      <td>...</td>\n",
       "    </tr>\n",
       "    <tr>\n",
       "      <th>32407</th>\n",
       "      <td>1000</td>\n",
       "      <td>7200.0</td>\n",
       "    </tr>\n",
       "    <tr>\n",
       "      <th>32408</th>\n",
       "      <td>1000</td>\n",
       "      <td>8200.0</td>\n",
       "    </tr>\n",
       "    <tr>\n",
       "      <th>32409</th>\n",
       "      <td>1000</td>\n",
       "      <td>8200.0</td>\n",
       "    </tr>\n",
       "    <tr>\n",
       "      <th>32410</th>\n",
       "      <td>1000</td>\n",
       "      <td>8200.0</td>\n",
       "    </tr>\n",
       "    <tr>\n",
       "      <th>32411</th>\n",
       "      <td>1000</td>\n",
       "      <td>8200.0</td>\n",
       "    </tr>\n",
       "  </tbody>\n",
       "</table>\n",
       "<p>32412 rows × 2 columns</p>\n",
       "</div>"
      ],
      "text/plain": [
       "       winter_night_cost  profit\n",
       "0                   1000 -1400.0\n",
       "1                   1000 -1400.0\n",
       "2                    600  -950.0\n",
       "3                    600  -950.0\n",
       "4                   1000 -1400.0\n",
       "...                  ...     ...\n",
       "32407               1000  7200.0\n",
       "32408               1000  8200.0\n",
       "32409               1000  8200.0\n",
       "32410               1000  8200.0\n",
       "32411               1000  8200.0\n",
       "\n",
       "[32412 rows x 2 columns]"
      ]
     },
     "metadata": {},
     "output_type": "display_data"
    }
   ],
   "source": [
    "# выводим выборочно две колонки\n",
    "\n",
    "display(df_test.loc[:, ['winter_night_cost', 'profit']])"
   ]
  },
  {
   "cell_type": "markdown",
   "metadata": {},
   "source": [
    "Мы вывели прибыльность каждого объекта в тестовом датафрейме без учёта депозита, чтобы получить общую прибыль: суммируем показания параметра `profit`"
   ]
  },
  {
   "cell_type": "code",
   "execution_count": 54,
   "metadata": {},
   "outputs": [
    {
     "name": "stdout",
     "output_type": "stream",
     "text": [
      "Суммарный профит забронированных номеров тестовой выборки: 58234560.0\n",
      "\n",
      "Суммарные потери отменённых забронированных номеров тестовой выборки: -17112820.0\n",
      "\n",
      "Общий суммарный профит тестовой выборки (за 8 мес): 41121740.0\n",
      "\n",
      "Общий суммарный профит тестовой выборки (за год): 61682610.0\n"
     ]
    }
   ],
   "source": [
    "# суммарный профит забронированных номеров тестовой выборки\n",
    "print('Суммарный профит забронированных номеров тестовой выборки:', df_test.loc[(df_test['is_canceled'] == 0)]['profit'].sum())\n",
    "print()\n",
    "\n",
    "# суммарный профит отменённых забронированных номеров тестовой выборки\n",
    "print('Суммарные потери отменённых забронированных номеров тестовой выборки:', df_test.loc[(df_test['is_canceled'] == 1)]['profit'].sum())\n",
    "print()\n",
    "\n",
    "# общий суммарный профит тестовой выборки за 8 мес (Январь-Август)\n",
    "print('Общий суммарный профит тестовой выборки (за 8 мес):', df_test['profit'].sum())\n",
    "print()\n",
    "\n",
    "# общий суммарный профит тестовой выборки в пересчёте на год\n",
    "print('Общий суммарный профит тестовой выборки (за год):', df_test['profit'].sum() * 12/8)\n",
    "\n",
    "# сохраняем в переменную\n",
    "profit_before_ml = df_test['profit'].sum() * 12/8"
   ]
  },
  {
   "cell_type": "markdown",
   "metadata": {},
   "source": [
    "`Вывод:` 29% от вырученых денег это потери связанные с издержками при отмене бронирования (уборка номера + стомость одной ночи)"
   ]
  },
  {
   "cell_type": "markdown",
   "metadata": {},
   "source": [
    "### 1.1.5. <a id='toc1_1_5_'></a>[Шаг 4. Разработка модели ML](#toc0_)"
   ]
  },
  {
   "cell_type": "markdown",
   "metadata": {},
   "source": [
    "Делаем преобразование категориальных признаков в цисловые для обучения модели. Прямое кодирование."
   ]
  },
  {
   "cell_type": "code",
   "execution_count": 55,
   "metadata": {},
   "outputs": [
    {
     "data": {
      "text/html": [
       "<div>\n",
       "<style scoped>\n",
       "    .dataframe tbody tr th:only-of-type {\n",
       "        vertical-align: middle;\n",
       "    }\n",
       "\n",
       "    .dataframe tbody tr th {\n",
       "        vertical-align: top;\n",
       "    }\n",
       "\n",
       "    .dataframe thead th {\n",
       "        text-align: right;\n",
       "    }\n",
       "</style>\n",
       "<table border=\"1\" class=\"dataframe\">\n",
       "  <thead>\n",
       "    <tr style=\"text-align: right;\">\n",
       "      <th></th>\n",
       "      <th>is_canceled</th>\n",
       "      <th>lead_time</th>\n",
       "      <th>arrival_date_year</th>\n",
       "      <th>arrival_date_month</th>\n",
       "      <th>arrival_date_day_of_month</th>\n",
       "      <th>stays_in_weekend_nights</th>\n",
       "      <th>stays_in_week_nights</th>\n",
       "      <th>adults</th>\n",
       "      <th>children</th>\n",
       "      <th>babies</th>\n",
       "      <th>meal</th>\n",
       "      <th>distribution_channel</th>\n",
       "      <th>is_repeated_guest</th>\n",
       "      <th>previous_cancellations</th>\n",
       "      <th>previous_bookings_not_canceled</th>\n",
       "      <th>reserved_room_type</th>\n",
       "      <th>booking_changes</th>\n",
       "      <th>days_in_waiting_list</th>\n",
       "      <th>customer_type</th>\n",
       "      <th>required_car_parking_spaces</th>\n",
       "      <th>total_of_special_requests</th>\n",
       "      <th>total_nights</th>\n",
       "      <th>winter_night_cost</th>\n",
       "      <th>one_time_cleaning_winter</th>\n",
       "      <th>season_coeff</th>\n",
       "    </tr>\n",
       "  </thead>\n",
       "  <tbody>\n",
       "    <tr>\n",
       "      <th>0</th>\n",
       "      <td>0</td>\n",
       "      <td>7</td>\n",
       "      <td>2015</td>\n",
       "      <td>July</td>\n",
       "      <td>1</td>\n",
       "      <td>0</td>\n",
       "      <td>1</td>\n",
       "      <td>1</td>\n",
       "      <td>0</td>\n",
       "      <td>0</td>\n",
       "      <td>BB</td>\n",
       "      <td>Direct</td>\n",
       "      <td>0</td>\n",
       "      <td>0</td>\n",
       "      <td>0</td>\n",
       "      <td>A</td>\n",
       "      <td>0</td>\n",
       "      <td>0</td>\n",
       "      <td>Transient</td>\n",
       "      <td>0</td>\n",
       "      <td>0</td>\n",
       "      <td>1</td>\n",
       "      <td>1000</td>\n",
       "      <td>400</td>\n",
       "      <td>1.4</td>\n",
       "    </tr>\n",
       "    <tr>\n",
       "      <th>1</th>\n",
       "      <td>0</td>\n",
       "      <td>14</td>\n",
       "      <td>2015</td>\n",
       "      <td>July</td>\n",
       "      <td>1</td>\n",
       "      <td>0</td>\n",
       "      <td>2</td>\n",
       "      <td>2</td>\n",
       "      <td>0</td>\n",
       "      <td>0</td>\n",
       "      <td>BB</td>\n",
       "      <td>TA/TO</td>\n",
       "      <td>0</td>\n",
       "      <td>0</td>\n",
       "      <td>0</td>\n",
       "      <td>A</td>\n",
       "      <td>0</td>\n",
       "      <td>0</td>\n",
       "      <td>Transient</td>\n",
       "      <td>0</td>\n",
       "      <td>1</td>\n",
       "      <td>2</td>\n",
       "      <td>1000</td>\n",
       "      <td>400</td>\n",
       "      <td>1.4</td>\n",
       "    </tr>\n",
       "    <tr>\n",
       "      <th>2</th>\n",
       "      <td>0</td>\n",
       "      <td>0</td>\n",
       "      <td>2015</td>\n",
       "      <td>July</td>\n",
       "      <td>1</td>\n",
       "      <td>0</td>\n",
       "      <td>2</td>\n",
       "      <td>2</td>\n",
       "      <td>0</td>\n",
       "      <td>0</td>\n",
       "      <td>BB</td>\n",
       "      <td>Direct</td>\n",
       "      <td>0</td>\n",
       "      <td>0</td>\n",
       "      <td>0</td>\n",
       "      <td>C</td>\n",
       "      <td>0</td>\n",
       "      <td>0</td>\n",
       "      <td>Transient</td>\n",
       "      <td>0</td>\n",
       "      <td>0</td>\n",
       "      <td>2</td>\n",
       "      <td>600</td>\n",
       "      <td>350</td>\n",
       "      <td>1.4</td>\n",
       "    </tr>\n",
       "    <tr>\n",
       "      <th>3</th>\n",
       "      <td>0</td>\n",
       "      <td>9</td>\n",
       "      <td>2015</td>\n",
       "      <td>July</td>\n",
       "      <td>1</td>\n",
       "      <td>0</td>\n",
       "      <td>2</td>\n",
       "      <td>2</td>\n",
       "      <td>0</td>\n",
       "      <td>0</td>\n",
       "      <td>FB</td>\n",
       "      <td>Direct</td>\n",
       "      <td>0</td>\n",
       "      <td>0</td>\n",
       "      <td>0</td>\n",
       "      <td>C</td>\n",
       "      <td>0</td>\n",
       "      <td>0</td>\n",
       "      <td>Transient</td>\n",
       "      <td>0</td>\n",
       "      <td>1</td>\n",
       "      <td>2</td>\n",
       "      <td>600</td>\n",
       "      <td>350</td>\n",
       "      <td>1.4</td>\n",
       "    </tr>\n",
       "    <tr>\n",
       "      <th>4</th>\n",
       "      <td>1</td>\n",
       "      <td>85</td>\n",
       "      <td>2015</td>\n",
       "      <td>July</td>\n",
       "      <td>1</td>\n",
       "      <td>0</td>\n",
       "      <td>3</td>\n",
       "      <td>2</td>\n",
       "      <td>0</td>\n",
       "      <td>0</td>\n",
       "      <td>BB</td>\n",
       "      <td>TA/TO</td>\n",
       "      <td>0</td>\n",
       "      <td>0</td>\n",
       "      <td>0</td>\n",
       "      <td>A</td>\n",
       "      <td>0</td>\n",
       "      <td>0</td>\n",
       "      <td>Transient</td>\n",
       "      <td>0</td>\n",
       "      <td>1</td>\n",
       "      <td>3</td>\n",
       "      <td>1000</td>\n",
       "      <td>400</td>\n",
       "      <td>1.4</td>\n",
       "    </tr>\n",
       "  </tbody>\n",
       "</table>\n",
       "</div>"
      ],
      "text/plain": [
       "   is_canceled  lead_time  arrival_date_year arrival_date_month  \\\n",
       "0            0          7               2015               July   \n",
       "1            0         14               2015               July   \n",
       "2            0          0               2015               July   \n",
       "3            0          9               2015               July   \n",
       "4            1         85               2015               July   \n",
       "\n",
       "   arrival_date_day_of_month  stays_in_weekend_nights  stays_in_week_nights  \\\n",
       "0                          1                        0                     1   \n",
       "1                          1                        0                     2   \n",
       "2                          1                        0                     2   \n",
       "3                          1                        0                     2   \n",
       "4                          1                        0                     3   \n",
       "\n",
       "   adults  children  babies       meal distribution_channel  \\\n",
       "0       1         0       0  BB                      Direct   \n",
       "1       2         0       0  BB                       TA/TO   \n",
       "2       2         0       0  BB                      Direct   \n",
       "3       2         0       0  FB                      Direct   \n",
       "4       2         0       0  BB                       TA/TO   \n",
       "\n",
       "   is_repeated_guest  previous_cancellations  previous_bookings_not_canceled  \\\n",
       "0                  0                       0                               0   \n",
       "1                  0                       0                               0   \n",
       "2                  0                       0                               0   \n",
       "3                  0                       0                               0   \n",
       "4                  0                       0                               0   \n",
       "\n",
       "  reserved_room_type  booking_changes  days_in_waiting_list customer_type  \\\n",
       "0   A                               0                     0     Transient   \n",
       "1   A                               0                     0     Transient   \n",
       "2   C                               0                     0     Transient   \n",
       "3   C                               0                     0     Transient   \n",
       "4   A                               0                     0     Transient   \n",
       "\n",
       "   required_car_parking_spaces  total_of_special_requests  total_nights  \\\n",
       "0                            0                          0             1   \n",
       "1                            0                          1             2   \n",
       "2                            0                          0             2   \n",
       "3                            0                          1             2   \n",
       "4                            0                          1             3   \n",
       "\n",
       "   winter_night_cost  one_time_cleaning_winter  season_coeff  \n",
       "0               1000                       400           1.4  \n",
       "1               1000                       400           1.4  \n",
       "2                600                       350           1.4  \n",
       "3                600                       350           1.4  \n",
       "4               1000                       400           1.4  "
      ]
     },
     "metadata": {},
     "output_type": "display_data"
    },
    {
     "data": {
      "text/plain": [
       "(65229, 25)"
      ]
     },
     "execution_count": 55,
     "metadata": {},
     "output_type": "execute_result"
    }
   ],
   "source": [
    "display(df_train.head())\n",
    "df_train.shape"
   ]
  },
  {
   "cell_type": "code",
   "execution_count": 56,
   "metadata": {},
   "outputs": [],
   "source": [
    "# преобразуем df_train\n",
    "df_train_ohe = pd.get_dummies(df_train, drop_first=True)"
   ]
  },
  {
   "cell_type": "code",
   "execution_count": 57,
   "metadata": {},
   "outputs": [
    {
     "data": {
      "text/html": [
       "<div>\n",
       "<style scoped>\n",
       "    .dataframe tbody tr th:only-of-type {\n",
       "        vertical-align: middle;\n",
       "    }\n",
       "\n",
       "    .dataframe tbody tr th {\n",
       "        vertical-align: top;\n",
       "    }\n",
       "\n",
       "    .dataframe thead th {\n",
       "        text-align: right;\n",
       "    }\n",
       "</style>\n",
       "<table border=\"1\" class=\"dataframe\">\n",
       "  <thead>\n",
       "    <tr style=\"text-align: right;\">\n",
       "      <th></th>\n",
       "      <th>is_canceled</th>\n",
       "      <th>lead_time</th>\n",
       "      <th>arrival_date_year</th>\n",
       "      <th>arrival_date_day_of_month</th>\n",
       "      <th>stays_in_weekend_nights</th>\n",
       "      <th>stays_in_week_nights</th>\n",
       "      <th>adults</th>\n",
       "      <th>children</th>\n",
       "      <th>babies</th>\n",
       "      <th>is_repeated_guest</th>\n",
       "      <th>previous_cancellations</th>\n",
       "      <th>previous_bookings_not_canceled</th>\n",
       "      <th>booking_changes</th>\n",
       "      <th>days_in_waiting_list</th>\n",
       "      <th>required_car_parking_spaces</th>\n",
       "      <th>total_of_special_requests</th>\n",
       "      <th>total_nights</th>\n",
       "      <th>winter_night_cost</th>\n",
       "      <th>one_time_cleaning_winter</th>\n",
       "      <th>season_coeff</th>\n",
       "      <th>arrival_date_month_August</th>\n",
       "      <th>arrival_date_month_December</th>\n",
       "      <th>arrival_date_month_February</th>\n",
       "      <th>arrival_date_month_January</th>\n",
       "      <th>arrival_date_month_July</th>\n",
       "      <th>arrival_date_month_June</th>\n",
       "      <th>arrival_date_month_March</th>\n",
       "      <th>arrival_date_month_May</th>\n",
       "      <th>arrival_date_month_November</th>\n",
       "      <th>arrival_date_month_October</th>\n",
       "      <th>arrival_date_month_September</th>\n",
       "      <th>meal_FB</th>\n",
       "      <th>meal_HB</th>\n",
       "      <th>meal_SC</th>\n",
       "      <th>meal_SC</th>\n",
       "      <th>distribution_channel_Direct</th>\n",
       "      <th>distribution_channel_GDS</th>\n",
       "      <th>distribution_channel_TA/TO</th>\n",
       "      <th>reserved_room_type_B</th>\n",
       "      <th>reserved_room_type_C</th>\n",
       "      <th>reserved_room_type_D</th>\n",
       "      <th>reserved_room_type_E</th>\n",
       "      <th>reserved_room_type_F</th>\n",
       "      <th>reserved_room_type_G</th>\n",
       "      <th>customer_type_Group</th>\n",
       "      <th>customer_type_Transient</th>\n",
       "      <th>customer_type_Transient-Party</th>\n",
       "    </tr>\n",
       "  </thead>\n",
       "  <tbody>\n",
       "    <tr>\n",
       "      <th>0</th>\n",
       "      <td>0</td>\n",
       "      <td>7</td>\n",
       "      <td>2015</td>\n",
       "      <td>1</td>\n",
       "      <td>0</td>\n",
       "      <td>1</td>\n",
       "      <td>1</td>\n",
       "      <td>0</td>\n",
       "      <td>0</td>\n",
       "      <td>0</td>\n",
       "      <td>0</td>\n",
       "      <td>0</td>\n",
       "      <td>0</td>\n",
       "      <td>0</td>\n",
       "      <td>0</td>\n",
       "      <td>0</td>\n",
       "      <td>1</td>\n",
       "      <td>1000</td>\n",
       "      <td>400</td>\n",
       "      <td>1.4</td>\n",
       "      <td>0</td>\n",
       "      <td>0</td>\n",
       "      <td>0</td>\n",
       "      <td>0</td>\n",
       "      <td>1</td>\n",
       "      <td>0</td>\n",
       "      <td>0</td>\n",
       "      <td>0</td>\n",
       "      <td>0</td>\n",
       "      <td>0</td>\n",
       "      <td>0</td>\n",
       "      <td>0</td>\n",
       "      <td>0</td>\n",
       "      <td>0</td>\n",
       "      <td>0</td>\n",
       "      <td>1</td>\n",
       "      <td>0</td>\n",
       "      <td>0</td>\n",
       "      <td>0</td>\n",
       "      <td>0</td>\n",
       "      <td>0</td>\n",
       "      <td>0</td>\n",
       "      <td>0</td>\n",
       "      <td>0</td>\n",
       "      <td>0</td>\n",
       "      <td>1</td>\n",
       "      <td>0</td>\n",
       "    </tr>\n",
       "    <tr>\n",
       "      <th>1</th>\n",
       "      <td>0</td>\n",
       "      <td>14</td>\n",
       "      <td>2015</td>\n",
       "      <td>1</td>\n",
       "      <td>0</td>\n",
       "      <td>2</td>\n",
       "      <td>2</td>\n",
       "      <td>0</td>\n",
       "      <td>0</td>\n",
       "      <td>0</td>\n",
       "      <td>0</td>\n",
       "      <td>0</td>\n",
       "      <td>0</td>\n",
       "      <td>0</td>\n",
       "      <td>0</td>\n",
       "      <td>1</td>\n",
       "      <td>2</td>\n",
       "      <td>1000</td>\n",
       "      <td>400</td>\n",
       "      <td>1.4</td>\n",
       "      <td>0</td>\n",
       "      <td>0</td>\n",
       "      <td>0</td>\n",
       "      <td>0</td>\n",
       "      <td>1</td>\n",
       "      <td>0</td>\n",
       "      <td>0</td>\n",
       "      <td>0</td>\n",
       "      <td>0</td>\n",
       "      <td>0</td>\n",
       "      <td>0</td>\n",
       "      <td>0</td>\n",
       "      <td>0</td>\n",
       "      <td>0</td>\n",
       "      <td>0</td>\n",
       "      <td>0</td>\n",
       "      <td>0</td>\n",
       "      <td>1</td>\n",
       "      <td>0</td>\n",
       "      <td>0</td>\n",
       "      <td>0</td>\n",
       "      <td>0</td>\n",
       "      <td>0</td>\n",
       "      <td>0</td>\n",
       "      <td>0</td>\n",
       "      <td>1</td>\n",
       "      <td>0</td>\n",
       "    </tr>\n",
       "    <tr>\n",
       "      <th>2</th>\n",
       "      <td>0</td>\n",
       "      <td>0</td>\n",
       "      <td>2015</td>\n",
       "      <td>1</td>\n",
       "      <td>0</td>\n",
       "      <td>2</td>\n",
       "      <td>2</td>\n",
       "      <td>0</td>\n",
       "      <td>0</td>\n",
       "      <td>0</td>\n",
       "      <td>0</td>\n",
       "      <td>0</td>\n",
       "      <td>0</td>\n",
       "      <td>0</td>\n",
       "      <td>0</td>\n",
       "      <td>0</td>\n",
       "      <td>2</td>\n",
       "      <td>600</td>\n",
       "      <td>350</td>\n",
       "      <td>1.4</td>\n",
       "      <td>0</td>\n",
       "      <td>0</td>\n",
       "      <td>0</td>\n",
       "      <td>0</td>\n",
       "      <td>1</td>\n",
       "      <td>0</td>\n",
       "      <td>0</td>\n",
       "      <td>0</td>\n",
       "      <td>0</td>\n",
       "      <td>0</td>\n",
       "      <td>0</td>\n",
       "      <td>0</td>\n",
       "      <td>0</td>\n",
       "      <td>0</td>\n",
       "      <td>0</td>\n",
       "      <td>1</td>\n",
       "      <td>0</td>\n",
       "      <td>0</td>\n",
       "      <td>0</td>\n",
       "      <td>1</td>\n",
       "      <td>0</td>\n",
       "      <td>0</td>\n",
       "      <td>0</td>\n",
       "      <td>0</td>\n",
       "      <td>0</td>\n",
       "      <td>1</td>\n",
       "      <td>0</td>\n",
       "    </tr>\n",
       "    <tr>\n",
       "      <th>3</th>\n",
       "      <td>0</td>\n",
       "      <td>9</td>\n",
       "      <td>2015</td>\n",
       "      <td>1</td>\n",
       "      <td>0</td>\n",
       "      <td>2</td>\n",
       "      <td>2</td>\n",
       "      <td>0</td>\n",
       "      <td>0</td>\n",
       "      <td>0</td>\n",
       "      <td>0</td>\n",
       "      <td>0</td>\n",
       "      <td>0</td>\n",
       "      <td>0</td>\n",
       "      <td>0</td>\n",
       "      <td>1</td>\n",
       "      <td>2</td>\n",
       "      <td>600</td>\n",
       "      <td>350</td>\n",
       "      <td>1.4</td>\n",
       "      <td>0</td>\n",
       "      <td>0</td>\n",
       "      <td>0</td>\n",
       "      <td>0</td>\n",
       "      <td>1</td>\n",
       "      <td>0</td>\n",
       "      <td>0</td>\n",
       "      <td>0</td>\n",
       "      <td>0</td>\n",
       "      <td>0</td>\n",
       "      <td>0</td>\n",
       "      <td>1</td>\n",
       "      <td>0</td>\n",
       "      <td>0</td>\n",
       "      <td>0</td>\n",
       "      <td>1</td>\n",
       "      <td>0</td>\n",
       "      <td>0</td>\n",
       "      <td>0</td>\n",
       "      <td>1</td>\n",
       "      <td>0</td>\n",
       "      <td>0</td>\n",
       "      <td>0</td>\n",
       "      <td>0</td>\n",
       "      <td>0</td>\n",
       "      <td>1</td>\n",
       "      <td>0</td>\n",
       "    </tr>\n",
       "    <tr>\n",
       "      <th>4</th>\n",
       "      <td>1</td>\n",
       "      <td>85</td>\n",
       "      <td>2015</td>\n",
       "      <td>1</td>\n",
       "      <td>0</td>\n",
       "      <td>3</td>\n",
       "      <td>2</td>\n",
       "      <td>0</td>\n",
       "      <td>0</td>\n",
       "      <td>0</td>\n",
       "      <td>0</td>\n",
       "      <td>0</td>\n",
       "      <td>0</td>\n",
       "      <td>0</td>\n",
       "      <td>0</td>\n",
       "      <td>1</td>\n",
       "      <td>3</td>\n",
       "      <td>1000</td>\n",
       "      <td>400</td>\n",
       "      <td>1.4</td>\n",
       "      <td>0</td>\n",
       "      <td>0</td>\n",
       "      <td>0</td>\n",
       "      <td>0</td>\n",
       "      <td>1</td>\n",
       "      <td>0</td>\n",
       "      <td>0</td>\n",
       "      <td>0</td>\n",
       "      <td>0</td>\n",
       "      <td>0</td>\n",
       "      <td>0</td>\n",
       "      <td>0</td>\n",
       "      <td>0</td>\n",
       "      <td>0</td>\n",
       "      <td>0</td>\n",
       "      <td>0</td>\n",
       "      <td>0</td>\n",
       "      <td>1</td>\n",
       "      <td>0</td>\n",
       "      <td>0</td>\n",
       "      <td>0</td>\n",
       "      <td>0</td>\n",
       "      <td>0</td>\n",
       "      <td>0</td>\n",
       "      <td>0</td>\n",
       "      <td>1</td>\n",
       "      <td>0</td>\n",
       "    </tr>\n",
       "  </tbody>\n",
       "</table>\n",
       "</div>"
      ],
      "text/plain": [
       "   is_canceled  lead_time  arrival_date_year  arrival_date_day_of_month  \\\n",
       "0            0          7               2015                          1   \n",
       "1            0         14               2015                          1   \n",
       "2            0          0               2015                          1   \n",
       "3            0          9               2015                          1   \n",
       "4            1         85               2015                          1   \n",
       "\n",
       "   stays_in_weekend_nights  stays_in_week_nights  adults  children  babies  \\\n",
       "0                        0                     1       1         0       0   \n",
       "1                        0                     2       2         0       0   \n",
       "2                        0                     2       2         0       0   \n",
       "3                        0                     2       2         0       0   \n",
       "4                        0                     3       2         0       0   \n",
       "\n",
       "   is_repeated_guest  previous_cancellations  previous_bookings_not_canceled  \\\n",
       "0                  0                       0                               0   \n",
       "1                  0                       0                               0   \n",
       "2                  0                       0                               0   \n",
       "3                  0                       0                               0   \n",
       "4                  0                       0                               0   \n",
       "\n",
       "   booking_changes  days_in_waiting_list  required_car_parking_spaces  \\\n",
       "0                0                     0                            0   \n",
       "1                0                     0                            0   \n",
       "2                0                     0                            0   \n",
       "3                0                     0                            0   \n",
       "4                0                     0                            0   \n",
       "\n",
       "   total_of_special_requests  total_nights  winter_night_cost  \\\n",
       "0                          0             1               1000   \n",
       "1                          1             2               1000   \n",
       "2                          0             2                600   \n",
       "3                          1             2                600   \n",
       "4                          1             3               1000   \n",
       "\n",
       "   one_time_cleaning_winter  season_coeff  arrival_date_month_August  \\\n",
       "0                       400           1.4                          0   \n",
       "1                       400           1.4                          0   \n",
       "2                       350           1.4                          0   \n",
       "3                       350           1.4                          0   \n",
       "4                       400           1.4                          0   \n",
       "\n",
       "   arrival_date_month_December  arrival_date_month_February  \\\n",
       "0                            0                            0   \n",
       "1                            0                            0   \n",
       "2                            0                            0   \n",
       "3                            0                            0   \n",
       "4                            0                            0   \n",
       "\n",
       "   arrival_date_month_January  arrival_date_month_July  \\\n",
       "0                           0                        1   \n",
       "1                           0                        1   \n",
       "2                           0                        1   \n",
       "3                           0                        1   \n",
       "4                           0                        1   \n",
       "\n",
       "   arrival_date_month_June  arrival_date_month_March  arrival_date_month_May  \\\n",
       "0                        0                         0                       0   \n",
       "1                        0                         0                       0   \n",
       "2                        0                         0                       0   \n",
       "3                        0                         0                       0   \n",
       "4                        0                         0                       0   \n",
       "\n",
       "   arrival_date_month_November  arrival_date_month_October  \\\n",
       "0                            0                           0   \n",
       "1                            0                           0   \n",
       "2                            0                           0   \n",
       "3                            0                           0   \n",
       "4                            0                           0   \n",
       "\n",
       "   arrival_date_month_September  meal_FB         meal_HB         meal_SC  \\\n",
       "0                             0               0               0        0   \n",
       "1                             0               0               0        0   \n",
       "2                             0               0               0        0   \n",
       "3                             0               1               0        0   \n",
       "4                             0               0               0        0   \n",
       "\n",
       "   meal_SC         distribution_channel_Direct  distribution_channel_GDS  \\\n",
       "0               0                            1                         0   \n",
       "1               0                            0                         0   \n",
       "2               0                            1                         0   \n",
       "3               0                            1                         0   \n",
       "4               0                            0                         0   \n",
       "\n",
       "   distribution_channel_TA/TO  reserved_room_type_B                 \\\n",
       "0                           0                                    0   \n",
       "1                           1                                    0   \n",
       "2                           0                                    0   \n",
       "3                           0                                    0   \n",
       "4                           1                                    0   \n",
       "\n",
       "   reserved_room_type_C                 reserved_room_type_D                 \\\n",
       "0                                    0                                    0   \n",
       "1                                    0                                    0   \n",
       "2                                    1                                    0   \n",
       "3                                    1                                    0   \n",
       "4                                    0                                    0   \n",
       "\n",
       "   reserved_room_type_E                 reserved_room_type_F                 \\\n",
       "0                                    0                                    0   \n",
       "1                                    0                                    0   \n",
       "2                                    0                                    0   \n",
       "3                                    0                                    0   \n",
       "4                                    0                                    0   \n",
       "\n",
       "   reserved_room_type_G                 customer_type_Group  \\\n",
       "0                                    0                    0   \n",
       "1                                    0                    0   \n",
       "2                                    0                    0   \n",
       "3                                    0                    0   \n",
       "4                                    0                    0   \n",
       "\n",
       "   customer_type_Transient  customer_type_Transient-Party  \n",
       "0                        1                              0  \n",
       "1                        1                              0  \n",
       "2                        1                              0  \n",
       "3                        1                              0  \n",
       "4                        1                              0  "
      ]
     },
     "metadata": {},
     "output_type": "display_data"
    },
    {
     "data": {
      "text/plain": [
       "(65229, 47)"
      ]
     },
     "execution_count": 57,
     "metadata": {},
     "output_type": "execute_result"
    }
   ],
   "source": [
    "display(df_train_ohe.head())\n",
    "df_train_ohe.shape"
   ]
  },
  {
   "cell_type": "code",
   "execution_count": 58,
   "metadata": {},
   "outputs": [
    {
     "data": {
      "text/html": [
       "<div>\n",
       "<style scoped>\n",
       "    .dataframe tbody tr th:only-of-type {\n",
       "        vertical-align: middle;\n",
       "    }\n",
       "\n",
       "    .dataframe tbody tr th {\n",
       "        vertical-align: top;\n",
       "    }\n",
       "\n",
       "    .dataframe thead th {\n",
       "        text-align: right;\n",
       "    }\n",
       "</style>\n",
       "<table border=\"1\" class=\"dataframe\">\n",
       "  <thead>\n",
       "    <tr style=\"text-align: right;\">\n",
       "      <th></th>\n",
       "      <th>is_canceled</th>\n",
       "      <th>lead_time</th>\n",
       "      <th>arrival_date_year</th>\n",
       "      <th>arrival_date_month</th>\n",
       "      <th>arrival_date_day_of_month</th>\n",
       "      <th>stays_in_weekend_nights</th>\n",
       "      <th>stays_in_week_nights</th>\n",
       "      <th>adults</th>\n",
       "      <th>children</th>\n",
       "      <th>babies</th>\n",
       "      <th>meal</th>\n",
       "      <th>distribution_channel</th>\n",
       "      <th>is_repeated_guest</th>\n",
       "      <th>previous_cancellations</th>\n",
       "      <th>previous_bookings_not_canceled</th>\n",
       "      <th>reserved_room_type</th>\n",
       "      <th>booking_changes</th>\n",
       "      <th>days_in_waiting_list</th>\n",
       "      <th>customer_type</th>\n",
       "      <th>required_car_parking_spaces</th>\n",
       "      <th>total_of_special_requests</th>\n",
       "      <th>total_nights</th>\n",
       "      <th>winter_night_cost</th>\n",
       "      <th>one_time_cleaning_winter</th>\n",
       "      <th>season_coeff</th>\n",
       "      <th>profit</th>\n",
       "    </tr>\n",
       "  </thead>\n",
       "  <tbody>\n",
       "    <tr>\n",
       "      <th>0</th>\n",
       "      <td>1</td>\n",
       "      <td>74</td>\n",
       "      <td>2017</td>\n",
       "      <td>January</td>\n",
       "      <td>1</td>\n",
       "      <td>1</td>\n",
       "      <td>0</td>\n",
       "      <td>2</td>\n",
       "      <td>0</td>\n",
       "      <td>0</td>\n",
       "      <td>BB</td>\n",
       "      <td>TA/TO</td>\n",
       "      <td>0</td>\n",
       "      <td>0</td>\n",
       "      <td>0</td>\n",
       "      <td>A</td>\n",
       "      <td>0</td>\n",
       "      <td>0</td>\n",
       "      <td>Transient</td>\n",
       "      <td>0</td>\n",
       "      <td>0</td>\n",
       "      <td>1</td>\n",
       "      <td>1000</td>\n",
       "      <td>400</td>\n",
       "      <td>1.0</td>\n",
       "      <td>-1400.0</td>\n",
       "    </tr>\n",
       "    <tr>\n",
       "      <th>1</th>\n",
       "      <td>1</td>\n",
       "      <td>62</td>\n",
       "      <td>2017</td>\n",
       "      <td>January</td>\n",
       "      <td>1</td>\n",
       "      <td>2</td>\n",
       "      <td>2</td>\n",
       "      <td>2</td>\n",
       "      <td>0</td>\n",
       "      <td>0</td>\n",
       "      <td>BB</td>\n",
       "      <td>TA/TO</td>\n",
       "      <td>0</td>\n",
       "      <td>0</td>\n",
       "      <td>0</td>\n",
       "      <td>A</td>\n",
       "      <td>0</td>\n",
       "      <td>0</td>\n",
       "      <td>Transient</td>\n",
       "      <td>0</td>\n",
       "      <td>1</td>\n",
       "      <td>4</td>\n",
       "      <td>1000</td>\n",
       "      <td>400</td>\n",
       "      <td>1.0</td>\n",
       "      <td>-1400.0</td>\n",
       "    </tr>\n",
       "    <tr>\n",
       "      <th>2</th>\n",
       "      <td>1</td>\n",
       "      <td>62</td>\n",
       "      <td>2017</td>\n",
       "      <td>January</td>\n",
       "      <td>1</td>\n",
       "      <td>2</td>\n",
       "      <td>2</td>\n",
       "      <td>2</td>\n",
       "      <td>0</td>\n",
       "      <td>0</td>\n",
       "      <td>BB</td>\n",
       "      <td>TA/TO</td>\n",
       "      <td>0</td>\n",
       "      <td>0</td>\n",
       "      <td>0</td>\n",
       "      <td>A</td>\n",
       "      <td>0</td>\n",
       "      <td>0</td>\n",
       "      <td>Transient</td>\n",
       "      <td>0</td>\n",
       "      <td>1</td>\n",
       "      <td>4</td>\n",
       "      <td>600</td>\n",
       "      <td>350</td>\n",
       "      <td>1.0</td>\n",
       "      <td>-950.0</td>\n",
       "    </tr>\n",
       "    <tr>\n",
       "      <th>3</th>\n",
       "      <td>1</td>\n",
       "      <td>71</td>\n",
       "      <td>2017</td>\n",
       "      <td>January</td>\n",
       "      <td>1</td>\n",
       "      <td>2</td>\n",
       "      <td>2</td>\n",
       "      <td>1</td>\n",
       "      <td>0</td>\n",
       "      <td>0</td>\n",
       "      <td>BB</td>\n",
       "      <td>TA/TO</td>\n",
       "      <td>0</td>\n",
       "      <td>0</td>\n",
       "      <td>0</td>\n",
       "      <td>A</td>\n",
       "      <td>0</td>\n",
       "      <td>0</td>\n",
       "      <td>Transient</td>\n",
       "      <td>0</td>\n",
       "      <td>1</td>\n",
       "      <td>4</td>\n",
       "      <td>600</td>\n",
       "      <td>350</td>\n",
       "      <td>1.0</td>\n",
       "      <td>-950.0</td>\n",
       "    </tr>\n",
       "    <tr>\n",
       "      <th>4</th>\n",
       "      <td>1</td>\n",
       "      <td>172</td>\n",
       "      <td>2017</td>\n",
       "      <td>January</td>\n",
       "      <td>1</td>\n",
       "      <td>2</td>\n",
       "      <td>5</td>\n",
       "      <td>2</td>\n",
       "      <td>0</td>\n",
       "      <td>0</td>\n",
       "      <td>BB</td>\n",
       "      <td>TA/TO</td>\n",
       "      <td>0</td>\n",
       "      <td>0</td>\n",
       "      <td>0</td>\n",
       "      <td>A</td>\n",
       "      <td>0</td>\n",
       "      <td>0</td>\n",
       "      <td>Transient</td>\n",
       "      <td>0</td>\n",
       "      <td>0</td>\n",
       "      <td>7</td>\n",
       "      <td>1000</td>\n",
       "      <td>400</td>\n",
       "      <td>1.0</td>\n",
       "      <td>-1400.0</td>\n",
       "    </tr>\n",
       "  </tbody>\n",
       "</table>\n",
       "</div>"
      ],
      "text/plain": [
       "   is_canceled  lead_time  arrival_date_year arrival_date_month  \\\n",
       "0            1         74               2017            January   \n",
       "1            1         62               2017            January   \n",
       "2            1         62               2017            January   \n",
       "3            1         71               2017            January   \n",
       "4            1        172               2017            January   \n",
       "\n",
       "   arrival_date_day_of_month  stays_in_weekend_nights  stays_in_week_nights  \\\n",
       "0                          1                        1                     0   \n",
       "1                          1                        2                     2   \n",
       "2                          1                        2                     2   \n",
       "3                          1                        2                     2   \n",
       "4                          1                        2                     5   \n",
       "\n",
       "   adults  children  babies       meal distribution_channel  \\\n",
       "0       2         0       0  BB                       TA/TO   \n",
       "1       2         0       0  BB                       TA/TO   \n",
       "2       2         0       0  BB                       TA/TO   \n",
       "3       1         0       0  BB                       TA/TO   \n",
       "4       2         0       0  BB                       TA/TO   \n",
       "\n",
       "   is_repeated_guest  previous_cancellations  previous_bookings_not_canceled  \\\n",
       "0                  0                       0                               0   \n",
       "1                  0                       0                               0   \n",
       "2                  0                       0                               0   \n",
       "3                  0                       0                               0   \n",
       "4                  0                       0                               0   \n",
       "\n",
       "  reserved_room_type  booking_changes  days_in_waiting_list customer_type  \\\n",
       "0   A                               0                     0     Transient   \n",
       "1   A                               0                     0     Transient   \n",
       "2   A                               0                     0     Transient   \n",
       "3   A                               0                     0     Transient   \n",
       "4   A                               0                     0     Transient   \n",
       "\n",
       "   required_car_parking_spaces  total_of_special_requests  total_nights  \\\n",
       "0                            0                          0             1   \n",
       "1                            0                          1             4   \n",
       "2                            0                          1             4   \n",
       "3                            0                          1             4   \n",
       "4                            0                          0             7   \n",
       "\n",
       "   winter_night_cost  one_time_cleaning_winter  season_coeff  profit  \n",
       "0               1000                       400           1.0 -1400.0  \n",
       "1               1000                       400           1.0 -1400.0  \n",
       "2                600                       350           1.0  -950.0  \n",
       "3                600                       350           1.0  -950.0  \n",
       "4               1000                       400           1.0 -1400.0  "
      ]
     },
     "metadata": {},
     "output_type": "display_data"
    },
    {
     "data": {
      "text/plain": [
       "(32412, 26)"
      ]
     },
     "execution_count": 58,
     "metadata": {},
     "output_type": "execute_result"
    }
   ],
   "source": [
    "display(df_test.head())\n",
    "df_test.shape"
   ]
  },
  {
   "cell_type": "code",
   "execution_count": 59,
   "metadata": {},
   "outputs": [],
   "source": [
    "df_test_ohe = pd.get_dummies(df_test, drop_first=True)"
   ]
  },
  {
   "cell_type": "code",
   "execution_count": 60,
   "metadata": {},
   "outputs": [
    {
     "data": {
      "text/html": [
       "<div>\n",
       "<style scoped>\n",
       "    .dataframe tbody tr th:only-of-type {\n",
       "        vertical-align: middle;\n",
       "    }\n",
       "\n",
       "    .dataframe tbody tr th {\n",
       "        vertical-align: top;\n",
       "    }\n",
       "\n",
       "    .dataframe thead th {\n",
       "        text-align: right;\n",
       "    }\n",
       "</style>\n",
       "<table border=\"1\" class=\"dataframe\">\n",
       "  <thead>\n",
       "    <tr style=\"text-align: right;\">\n",
       "      <th></th>\n",
       "      <th>is_canceled</th>\n",
       "      <th>lead_time</th>\n",
       "      <th>arrival_date_year</th>\n",
       "      <th>arrival_date_day_of_month</th>\n",
       "      <th>stays_in_weekend_nights</th>\n",
       "      <th>stays_in_week_nights</th>\n",
       "      <th>adults</th>\n",
       "      <th>children</th>\n",
       "      <th>babies</th>\n",
       "      <th>is_repeated_guest</th>\n",
       "      <th>previous_cancellations</th>\n",
       "      <th>previous_bookings_not_canceled</th>\n",
       "      <th>booking_changes</th>\n",
       "      <th>days_in_waiting_list</th>\n",
       "      <th>required_car_parking_spaces</th>\n",
       "      <th>total_of_special_requests</th>\n",
       "      <th>total_nights</th>\n",
       "      <th>winter_night_cost</th>\n",
       "      <th>one_time_cleaning_winter</th>\n",
       "      <th>season_coeff</th>\n",
       "      <th>profit</th>\n",
       "      <th>arrival_date_month_August</th>\n",
       "      <th>arrival_date_month_February</th>\n",
       "      <th>arrival_date_month_January</th>\n",
       "      <th>arrival_date_month_July</th>\n",
       "      <th>arrival_date_month_June</th>\n",
       "      <th>arrival_date_month_March</th>\n",
       "      <th>arrival_date_month_May</th>\n",
       "      <th>meal_FB</th>\n",
       "      <th>meal_HB</th>\n",
       "      <th>meal_SC</th>\n",
       "      <th>meal_SC</th>\n",
       "      <th>distribution_channel_Direct</th>\n",
       "      <th>distribution_channel_GDS</th>\n",
       "      <th>distribution_channel_TA/TO</th>\n",
       "      <th>reserved_room_type_B</th>\n",
       "      <th>reserved_room_type_C</th>\n",
       "      <th>reserved_room_type_D</th>\n",
       "      <th>reserved_room_type_E</th>\n",
       "      <th>reserved_room_type_F</th>\n",
       "      <th>reserved_room_type_G</th>\n",
       "      <th>customer_type_Group</th>\n",
       "      <th>customer_type_Transient</th>\n",
       "      <th>customer_type_Transient-Party</th>\n",
       "    </tr>\n",
       "  </thead>\n",
       "  <tbody>\n",
       "    <tr>\n",
       "      <th>0</th>\n",
       "      <td>1</td>\n",
       "      <td>74</td>\n",
       "      <td>2017</td>\n",
       "      <td>1</td>\n",
       "      <td>1</td>\n",
       "      <td>0</td>\n",
       "      <td>2</td>\n",
       "      <td>0</td>\n",
       "      <td>0</td>\n",
       "      <td>0</td>\n",
       "      <td>0</td>\n",
       "      <td>0</td>\n",
       "      <td>0</td>\n",
       "      <td>0</td>\n",
       "      <td>0</td>\n",
       "      <td>0</td>\n",
       "      <td>1</td>\n",
       "      <td>1000</td>\n",
       "      <td>400</td>\n",
       "      <td>1.0</td>\n",
       "      <td>-1400.0</td>\n",
       "      <td>0</td>\n",
       "      <td>0</td>\n",
       "      <td>1</td>\n",
       "      <td>0</td>\n",
       "      <td>0</td>\n",
       "      <td>0</td>\n",
       "      <td>0</td>\n",
       "      <td>0</td>\n",
       "      <td>0</td>\n",
       "      <td>0</td>\n",
       "      <td>0</td>\n",
       "      <td>0</td>\n",
       "      <td>0</td>\n",
       "      <td>1</td>\n",
       "      <td>0</td>\n",
       "      <td>0</td>\n",
       "      <td>0</td>\n",
       "      <td>0</td>\n",
       "      <td>0</td>\n",
       "      <td>0</td>\n",
       "      <td>0</td>\n",
       "      <td>1</td>\n",
       "      <td>0</td>\n",
       "    </tr>\n",
       "    <tr>\n",
       "      <th>1</th>\n",
       "      <td>1</td>\n",
       "      <td>62</td>\n",
       "      <td>2017</td>\n",
       "      <td>1</td>\n",
       "      <td>2</td>\n",
       "      <td>2</td>\n",
       "      <td>2</td>\n",
       "      <td>0</td>\n",
       "      <td>0</td>\n",
       "      <td>0</td>\n",
       "      <td>0</td>\n",
       "      <td>0</td>\n",
       "      <td>0</td>\n",
       "      <td>0</td>\n",
       "      <td>0</td>\n",
       "      <td>1</td>\n",
       "      <td>4</td>\n",
       "      <td>1000</td>\n",
       "      <td>400</td>\n",
       "      <td>1.0</td>\n",
       "      <td>-1400.0</td>\n",
       "      <td>0</td>\n",
       "      <td>0</td>\n",
       "      <td>1</td>\n",
       "      <td>0</td>\n",
       "      <td>0</td>\n",
       "      <td>0</td>\n",
       "      <td>0</td>\n",
       "      <td>0</td>\n",
       "      <td>0</td>\n",
       "      <td>0</td>\n",
       "      <td>0</td>\n",
       "      <td>0</td>\n",
       "      <td>0</td>\n",
       "      <td>1</td>\n",
       "      <td>0</td>\n",
       "      <td>0</td>\n",
       "      <td>0</td>\n",
       "      <td>0</td>\n",
       "      <td>0</td>\n",
       "      <td>0</td>\n",
       "      <td>0</td>\n",
       "      <td>1</td>\n",
       "      <td>0</td>\n",
       "    </tr>\n",
       "    <tr>\n",
       "      <th>2</th>\n",
       "      <td>1</td>\n",
       "      <td>62</td>\n",
       "      <td>2017</td>\n",
       "      <td>1</td>\n",
       "      <td>2</td>\n",
       "      <td>2</td>\n",
       "      <td>2</td>\n",
       "      <td>0</td>\n",
       "      <td>0</td>\n",
       "      <td>0</td>\n",
       "      <td>0</td>\n",
       "      <td>0</td>\n",
       "      <td>0</td>\n",
       "      <td>0</td>\n",
       "      <td>0</td>\n",
       "      <td>1</td>\n",
       "      <td>4</td>\n",
       "      <td>600</td>\n",
       "      <td>350</td>\n",
       "      <td>1.0</td>\n",
       "      <td>-950.0</td>\n",
       "      <td>0</td>\n",
       "      <td>0</td>\n",
       "      <td>1</td>\n",
       "      <td>0</td>\n",
       "      <td>0</td>\n",
       "      <td>0</td>\n",
       "      <td>0</td>\n",
       "      <td>0</td>\n",
       "      <td>0</td>\n",
       "      <td>0</td>\n",
       "      <td>0</td>\n",
       "      <td>0</td>\n",
       "      <td>0</td>\n",
       "      <td>1</td>\n",
       "      <td>0</td>\n",
       "      <td>0</td>\n",
       "      <td>0</td>\n",
       "      <td>0</td>\n",
       "      <td>0</td>\n",
       "      <td>0</td>\n",
       "      <td>0</td>\n",
       "      <td>1</td>\n",
       "      <td>0</td>\n",
       "    </tr>\n",
       "    <tr>\n",
       "      <th>3</th>\n",
       "      <td>1</td>\n",
       "      <td>71</td>\n",
       "      <td>2017</td>\n",
       "      <td>1</td>\n",
       "      <td>2</td>\n",
       "      <td>2</td>\n",
       "      <td>1</td>\n",
       "      <td>0</td>\n",
       "      <td>0</td>\n",
       "      <td>0</td>\n",
       "      <td>0</td>\n",
       "      <td>0</td>\n",
       "      <td>0</td>\n",
       "      <td>0</td>\n",
       "      <td>0</td>\n",
       "      <td>1</td>\n",
       "      <td>4</td>\n",
       "      <td>600</td>\n",
       "      <td>350</td>\n",
       "      <td>1.0</td>\n",
       "      <td>-950.0</td>\n",
       "      <td>0</td>\n",
       "      <td>0</td>\n",
       "      <td>1</td>\n",
       "      <td>0</td>\n",
       "      <td>0</td>\n",
       "      <td>0</td>\n",
       "      <td>0</td>\n",
       "      <td>0</td>\n",
       "      <td>0</td>\n",
       "      <td>0</td>\n",
       "      <td>0</td>\n",
       "      <td>0</td>\n",
       "      <td>0</td>\n",
       "      <td>1</td>\n",
       "      <td>0</td>\n",
       "      <td>0</td>\n",
       "      <td>0</td>\n",
       "      <td>0</td>\n",
       "      <td>0</td>\n",
       "      <td>0</td>\n",
       "      <td>0</td>\n",
       "      <td>1</td>\n",
       "      <td>0</td>\n",
       "    </tr>\n",
       "    <tr>\n",
       "      <th>4</th>\n",
       "      <td>1</td>\n",
       "      <td>172</td>\n",
       "      <td>2017</td>\n",
       "      <td>1</td>\n",
       "      <td>2</td>\n",
       "      <td>5</td>\n",
       "      <td>2</td>\n",
       "      <td>0</td>\n",
       "      <td>0</td>\n",
       "      <td>0</td>\n",
       "      <td>0</td>\n",
       "      <td>0</td>\n",
       "      <td>0</td>\n",
       "      <td>0</td>\n",
       "      <td>0</td>\n",
       "      <td>0</td>\n",
       "      <td>7</td>\n",
       "      <td>1000</td>\n",
       "      <td>400</td>\n",
       "      <td>1.0</td>\n",
       "      <td>-1400.0</td>\n",
       "      <td>0</td>\n",
       "      <td>0</td>\n",
       "      <td>1</td>\n",
       "      <td>0</td>\n",
       "      <td>0</td>\n",
       "      <td>0</td>\n",
       "      <td>0</td>\n",
       "      <td>0</td>\n",
       "      <td>0</td>\n",
       "      <td>0</td>\n",
       "      <td>0</td>\n",
       "      <td>0</td>\n",
       "      <td>0</td>\n",
       "      <td>1</td>\n",
       "      <td>0</td>\n",
       "      <td>0</td>\n",
       "      <td>0</td>\n",
       "      <td>0</td>\n",
       "      <td>0</td>\n",
       "      <td>0</td>\n",
       "      <td>0</td>\n",
       "      <td>1</td>\n",
       "      <td>0</td>\n",
       "    </tr>\n",
       "  </tbody>\n",
       "</table>\n",
       "</div>"
      ],
      "text/plain": [
       "   is_canceled  lead_time  arrival_date_year  arrival_date_day_of_month  \\\n",
       "0            1         74               2017                          1   \n",
       "1            1         62               2017                          1   \n",
       "2            1         62               2017                          1   \n",
       "3            1         71               2017                          1   \n",
       "4            1        172               2017                          1   \n",
       "\n",
       "   stays_in_weekend_nights  stays_in_week_nights  adults  children  babies  \\\n",
       "0                        1                     0       2         0       0   \n",
       "1                        2                     2       2         0       0   \n",
       "2                        2                     2       2         0       0   \n",
       "3                        2                     2       1         0       0   \n",
       "4                        2                     5       2         0       0   \n",
       "\n",
       "   is_repeated_guest  previous_cancellations  previous_bookings_not_canceled  \\\n",
       "0                  0                       0                               0   \n",
       "1                  0                       0                               0   \n",
       "2                  0                       0                               0   \n",
       "3                  0                       0                               0   \n",
       "4                  0                       0                               0   \n",
       "\n",
       "   booking_changes  days_in_waiting_list  required_car_parking_spaces  \\\n",
       "0                0                     0                            0   \n",
       "1                0                     0                            0   \n",
       "2                0                     0                            0   \n",
       "3                0                     0                            0   \n",
       "4                0                     0                            0   \n",
       "\n",
       "   total_of_special_requests  total_nights  winter_night_cost  \\\n",
       "0                          0             1               1000   \n",
       "1                          1             4               1000   \n",
       "2                          1             4                600   \n",
       "3                          1             4                600   \n",
       "4                          0             7               1000   \n",
       "\n",
       "   one_time_cleaning_winter  season_coeff  profit  arrival_date_month_August  \\\n",
       "0                       400           1.0 -1400.0                          0   \n",
       "1                       400           1.0 -1400.0                          0   \n",
       "2                       350           1.0  -950.0                          0   \n",
       "3                       350           1.0  -950.0                          0   \n",
       "4                       400           1.0 -1400.0                          0   \n",
       "\n",
       "   arrival_date_month_February  arrival_date_month_January  \\\n",
       "0                            0                           1   \n",
       "1                            0                           1   \n",
       "2                            0                           1   \n",
       "3                            0                           1   \n",
       "4                            0                           1   \n",
       "\n",
       "   arrival_date_month_July  arrival_date_month_June  arrival_date_month_March  \\\n",
       "0                        0                        0                         0   \n",
       "1                        0                        0                         0   \n",
       "2                        0                        0                         0   \n",
       "3                        0                        0                         0   \n",
       "4                        0                        0                         0   \n",
       "\n",
       "   arrival_date_month_May  meal_FB         meal_HB         meal_SC  \\\n",
       "0                       0               0               0        0   \n",
       "1                       0               0               0        0   \n",
       "2                       0               0               0        0   \n",
       "3                       0               0               0        0   \n",
       "4                       0               0               0        0   \n",
       "\n",
       "   meal_SC         distribution_channel_Direct  distribution_channel_GDS  \\\n",
       "0               0                            0                         0   \n",
       "1               0                            0                         0   \n",
       "2               0                            0                         0   \n",
       "3               0                            0                         0   \n",
       "4               0                            0                         0   \n",
       "\n",
       "   distribution_channel_TA/TO  reserved_room_type_B                 \\\n",
       "0                           1                                    0   \n",
       "1                           1                                    0   \n",
       "2                           1                                    0   \n",
       "3                           1                                    0   \n",
       "4                           1                                    0   \n",
       "\n",
       "   reserved_room_type_C                 reserved_room_type_D                 \\\n",
       "0                                    0                                    0   \n",
       "1                                    0                                    0   \n",
       "2                                    0                                    0   \n",
       "3                                    0                                    0   \n",
       "4                                    0                                    0   \n",
       "\n",
       "   reserved_room_type_E                 reserved_room_type_F                 \\\n",
       "0                                    0                                    0   \n",
       "1                                    0                                    0   \n",
       "2                                    0                                    0   \n",
       "3                                    0                                    0   \n",
       "4                                    0                                    0   \n",
       "\n",
       "   reserved_room_type_G                 customer_type_Group  \\\n",
       "0                                    0                    0   \n",
       "1                                    0                    0   \n",
       "2                                    0                    0   \n",
       "3                                    0                    0   \n",
       "4                                    0                    0   \n",
       "\n",
       "   customer_type_Transient  customer_type_Transient-Party  \n",
       "0                        1                              0  \n",
       "1                        1                              0  \n",
       "2                        1                              0  \n",
       "3                        1                              0  \n",
       "4                        1                              0  "
      ]
     },
     "metadata": {},
     "output_type": "display_data"
    },
    {
     "data": {
      "text/plain": [
       "(32412, 44)"
      ]
     },
     "execution_count": 60,
     "metadata": {},
     "output_type": "execute_result"
    }
   ],
   "source": [
    "display(df_test_ohe.head())\n",
    "df_test_ohe.shape"
   ]
  },
  {
   "cell_type": "markdown",
   "metadata": {},
   "source": [
    "Проверяем разницу в параметрах между датасетами после кодировки"
   ]
  },
  {
   "cell_type": "code",
   "execution_count": 61,
   "metadata": {},
   "outputs": [
    {
     "name": "stderr",
     "output_type": "stream",
     "text": [
      "/tmp/ipykernel_571/860116454.py:3: FutureWarning: Index.__xor__ operating as a set operation is deprecated, in the future this will be a logical operation matching Series.__xor__.  Use index.symmetric_difference(other) instead\n",
      "  df_test_ohe.columns ^ df_train_ohe.columns\n"
     ]
    },
    {
     "data": {
      "text/plain": [
       "Index(['arrival_date_month_December', 'arrival_date_month_November',\n",
       "       'arrival_date_month_October', 'arrival_date_month_September', 'profit'],\n",
       "      dtype='object')"
      ]
     },
     "execution_count": 61,
     "metadata": {},
     "output_type": "execute_result"
    }
   ],
   "source": [
    "# мы видим что пять параметров отсутствуют в обеих датасетах одновременно\n",
    "\n",
    "df_test_ohe.columns ^ df_train_ohe.columns"
   ]
  },
  {
   "cell_type": "markdown",
   "metadata": {},
   "source": [
    "Добавляем недостающие параметры в кодированные датасеты:\n",
    "\n",
    "четыре параметра добавляем в `df_test_ohe`\n",
    "один параметр в `df_train_ohe`"
   ]
  },
  {
   "cell_type": "code",
   "execution_count": 62,
   "metadata": {},
   "outputs": [],
   "source": [
    "# df_test_ohe\n",
    "df_test_ohe.insert(22, 'arrival_date_month_December', 0)\n",
    "df_test_ohe.insert(29, 'arrival_date_month_November', 0)\n",
    "df_test_ohe.insert(30, 'arrival_date_month_October', 0)\n",
    "df_test_ohe.insert(31, 'arrival_date_month_September', 0)\n",
    "\n",
    "# df_train_ohe\n",
    "df_train_ohe.insert(20, 'profit', 0)"
   ]
  },
  {
   "cell_type": "code",
   "execution_count": 63,
   "metadata": {},
   "outputs": [
    {
     "data": {
      "text/html": [
       "<div>\n",
       "<style scoped>\n",
       "    .dataframe tbody tr th:only-of-type {\n",
       "        vertical-align: middle;\n",
       "    }\n",
       "\n",
       "    .dataframe tbody tr th {\n",
       "        vertical-align: top;\n",
       "    }\n",
       "\n",
       "    .dataframe thead th {\n",
       "        text-align: right;\n",
       "    }\n",
       "</style>\n",
       "<table border=\"1\" class=\"dataframe\">\n",
       "  <thead>\n",
       "    <tr style=\"text-align: right;\">\n",
       "      <th></th>\n",
       "      <th>is_canceled</th>\n",
       "      <th>lead_time</th>\n",
       "      <th>arrival_date_year</th>\n",
       "      <th>arrival_date_day_of_month</th>\n",
       "      <th>stays_in_weekend_nights</th>\n",
       "      <th>stays_in_week_nights</th>\n",
       "      <th>adults</th>\n",
       "      <th>children</th>\n",
       "      <th>babies</th>\n",
       "      <th>is_repeated_guest</th>\n",
       "      <th>previous_cancellations</th>\n",
       "      <th>previous_bookings_not_canceled</th>\n",
       "      <th>booking_changes</th>\n",
       "      <th>days_in_waiting_list</th>\n",
       "      <th>required_car_parking_spaces</th>\n",
       "      <th>total_of_special_requests</th>\n",
       "      <th>total_nights</th>\n",
       "      <th>winter_night_cost</th>\n",
       "      <th>one_time_cleaning_winter</th>\n",
       "      <th>season_coeff</th>\n",
       "      <th>profit</th>\n",
       "      <th>arrival_date_month_August</th>\n",
       "      <th>arrival_date_month_December</th>\n",
       "      <th>arrival_date_month_February</th>\n",
       "      <th>arrival_date_month_January</th>\n",
       "      <th>arrival_date_month_July</th>\n",
       "      <th>arrival_date_month_June</th>\n",
       "      <th>arrival_date_month_March</th>\n",
       "      <th>arrival_date_month_May</th>\n",
       "      <th>arrival_date_month_November</th>\n",
       "      <th>arrival_date_month_October</th>\n",
       "      <th>arrival_date_month_September</th>\n",
       "      <th>meal_FB</th>\n",
       "      <th>meal_HB</th>\n",
       "      <th>meal_SC</th>\n",
       "      <th>meal_SC</th>\n",
       "      <th>distribution_channel_Direct</th>\n",
       "      <th>distribution_channel_GDS</th>\n",
       "      <th>distribution_channel_TA/TO</th>\n",
       "      <th>reserved_room_type_B</th>\n",
       "      <th>reserved_room_type_C</th>\n",
       "      <th>reserved_room_type_D</th>\n",
       "      <th>reserved_room_type_E</th>\n",
       "      <th>reserved_room_type_F</th>\n",
       "      <th>reserved_room_type_G</th>\n",
       "      <th>customer_type_Group</th>\n",
       "      <th>customer_type_Transient</th>\n",
       "      <th>customer_type_Transient-Party</th>\n",
       "    </tr>\n",
       "  </thead>\n",
       "  <tbody>\n",
       "    <tr>\n",
       "      <th>0</th>\n",
       "      <td>1</td>\n",
       "      <td>74</td>\n",
       "      <td>2017</td>\n",
       "      <td>1</td>\n",
       "      <td>1</td>\n",
       "      <td>0</td>\n",
       "      <td>2</td>\n",
       "      <td>0</td>\n",
       "      <td>0</td>\n",
       "      <td>0</td>\n",
       "      <td>0</td>\n",
       "      <td>0</td>\n",
       "      <td>0</td>\n",
       "      <td>0</td>\n",
       "      <td>0</td>\n",
       "      <td>0</td>\n",
       "      <td>1</td>\n",
       "      <td>1000</td>\n",
       "      <td>400</td>\n",
       "      <td>1.0</td>\n",
       "      <td>-1400.0</td>\n",
       "      <td>0</td>\n",
       "      <td>0</td>\n",
       "      <td>0</td>\n",
       "      <td>1</td>\n",
       "      <td>0</td>\n",
       "      <td>0</td>\n",
       "      <td>0</td>\n",
       "      <td>0</td>\n",
       "      <td>0</td>\n",
       "      <td>0</td>\n",
       "      <td>0</td>\n",
       "      <td>0</td>\n",
       "      <td>0</td>\n",
       "      <td>0</td>\n",
       "      <td>0</td>\n",
       "      <td>0</td>\n",
       "      <td>0</td>\n",
       "      <td>1</td>\n",
       "      <td>0</td>\n",
       "      <td>0</td>\n",
       "      <td>0</td>\n",
       "      <td>0</td>\n",
       "      <td>0</td>\n",
       "      <td>0</td>\n",
       "      <td>0</td>\n",
       "      <td>1</td>\n",
       "      <td>0</td>\n",
       "    </tr>\n",
       "    <tr>\n",
       "      <th>1</th>\n",
       "      <td>1</td>\n",
       "      <td>62</td>\n",
       "      <td>2017</td>\n",
       "      <td>1</td>\n",
       "      <td>2</td>\n",
       "      <td>2</td>\n",
       "      <td>2</td>\n",
       "      <td>0</td>\n",
       "      <td>0</td>\n",
       "      <td>0</td>\n",
       "      <td>0</td>\n",
       "      <td>0</td>\n",
       "      <td>0</td>\n",
       "      <td>0</td>\n",
       "      <td>0</td>\n",
       "      <td>1</td>\n",
       "      <td>4</td>\n",
       "      <td>1000</td>\n",
       "      <td>400</td>\n",
       "      <td>1.0</td>\n",
       "      <td>-1400.0</td>\n",
       "      <td>0</td>\n",
       "      <td>0</td>\n",
       "      <td>0</td>\n",
       "      <td>1</td>\n",
       "      <td>0</td>\n",
       "      <td>0</td>\n",
       "      <td>0</td>\n",
       "      <td>0</td>\n",
       "      <td>0</td>\n",
       "      <td>0</td>\n",
       "      <td>0</td>\n",
       "      <td>0</td>\n",
       "      <td>0</td>\n",
       "      <td>0</td>\n",
       "      <td>0</td>\n",
       "      <td>0</td>\n",
       "      <td>0</td>\n",
       "      <td>1</td>\n",
       "      <td>0</td>\n",
       "      <td>0</td>\n",
       "      <td>0</td>\n",
       "      <td>0</td>\n",
       "      <td>0</td>\n",
       "      <td>0</td>\n",
       "      <td>0</td>\n",
       "      <td>1</td>\n",
       "      <td>0</td>\n",
       "    </tr>\n",
       "    <tr>\n",
       "      <th>2</th>\n",
       "      <td>1</td>\n",
       "      <td>62</td>\n",
       "      <td>2017</td>\n",
       "      <td>1</td>\n",
       "      <td>2</td>\n",
       "      <td>2</td>\n",
       "      <td>2</td>\n",
       "      <td>0</td>\n",
       "      <td>0</td>\n",
       "      <td>0</td>\n",
       "      <td>0</td>\n",
       "      <td>0</td>\n",
       "      <td>0</td>\n",
       "      <td>0</td>\n",
       "      <td>0</td>\n",
       "      <td>1</td>\n",
       "      <td>4</td>\n",
       "      <td>600</td>\n",
       "      <td>350</td>\n",
       "      <td>1.0</td>\n",
       "      <td>-950.0</td>\n",
       "      <td>0</td>\n",
       "      <td>0</td>\n",
       "      <td>0</td>\n",
       "      <td>1</td>\n",
       "      <td>0</td>\n",
       "      <td>0</td>\n",
       "      <td>0</td>\n",
       "      <td>0</td>\n",
       "      <td>0</td>\n",
       "      <td>0</td>\n",
       "      <td>0</td>\n",
       "      <td>0</td>\n",
       "      <td>0</td>\n",
       "      <td>0</td>\n",
       "      <td>0</td>\n",
       "      <td>0</td>\n",
       "      <td>0</td>\n",
       "      <td>1</td>\n",
       "      <td>0</td>\n",
       "      <td>0</td>\n",
       "      <td>0</td>\n",
       "      <td>0</td>\n",
       "      <td>0</td>\n",
       "      <td>0</td>\n",
       "      <td>0</td>\n",
       "      <td>1</td>\n",
       "      <td>0</td>\n",
       "    </tr>\n",
       "    <tr>\n",
       "      <th>3</th>\n",
       "      <td>1</td>\n",
       "      <td>71</td>\n",
       "      <td>2017</td>\n",
       "      <td>1</td>\n",
       "      <td>2</td>\n",
       "      <td>2</td>\n",
       "      <td>1</td>\n",
       "      <td>0</td>\n",
       "      <td>0</td>\n",
       "      <td>0</td>\n",
       "      <td>0</td>\n",
       "      <td>0</td>\n",
       "      <td>0</td>\n",
       "      <td>0</td>\n",
       "      <td>0</td>\n",
       "      <td>1</td>\n",
       "      <td>4</td>\n",
       "      <td>600</td>\n",
       "      <td>350</td>\n",
       "      <td>1.0</td>\n",
       "      <td>-950.0</td>\n",
       "      <td>0</td>\n",
       "      <td>0</td>\n",
       "      <td>0</td>\n",
       "      <td>1</td>\n",
       "      <td>0</td>\n",
       "      <td>0</td>\n",
       "      <td>0</td>\n",
       "      <td>0</td>\n",
       "      <td>0</td>\n",
       "      <td>0</td>\n",
       "      <td>0</td>\n",
       "      <td>0</td>\n",
       "      <td>0</td>\n",
       "      <td>0</td>\n",
       "      <td>0</td>\n",
       "      <td>0</td>\n",
       "      <td>0</td>\n",
       "      <td>1</td>\n",
       "      <td>0</td>\n",
       "      <td>0</td>\n",
       "      <td>0</td>\n",
       "      <td>0</td>\n",
       "      <td>0</td>\n",
       "      <td>0</td>\n",
       "      <td>0</td>\n",
       "      <td>1</td>\n",
       "      <td>0</td>\n",
       "    </tr>\n",
       "    <tr>\n",
       "      <th>4</th>\n",
       "      <td>1</td>\n",
       "      <td>172</td>\n",
       "      <td>2017</td>\n",
       "      <td>1</td>\n",
       "      <td>2</td>\n",
       "      <td>5</td>\n",
       "      <td>2</td>\n",
       "      <td>0</td>\n",
       "      <td>0</td>\n",
       "      <td>0</td>\n",
       "      <td>0</td>\n",
       "      <td>0</td>\n",
       "      <td>0</td>\n",
       "      <td>0</td>\n",
       "      <td>0</td>\n",
       "      <td>0</td>\n",
       "      <td>7</td>\n",
       "      <td>1000</td>\n",
       "      <td>400</td>\n",
       "      <td>1.0</td>\n",
       "      <td>-1400.0</td>\n",
       "      <td>0</td>\n",
       "      <td>0</td>\n",
       "      <td>0</td>\n",
       "      <td>1</td>\n",
       "      <td>0</td>\n",
       "      <td>0</td>\n",
       "      <td>0</td>\n",
       "      <td>0</td>\n",
       "      <td>0</td>\n",
       "      <td>0</td>\n",
       "      <td>0</td>\n",
       "      <td>0</td>\n",
       "      <td>0</td>\n",
       "      <td>0</td>\n",
       "      <td>0</td>\n",
       "      <td>0</td>\n",
       "      <td>0</td>\n",
       "      <td>1</td>\n",
       "      <td>0</td>\n",
       "      <td>0</td>\n",
       "      <td>0</td>\n",
       "      <td>0</td>\n",
       "      <td>0</td>\n",
       "      <td>0</td>\n",
       "      <td>0</td>\n",
       "      <td>1</td>\n",
       "      <td>0</td>\n",
       "    </tr>\n",
       "  </tbody>\n",
       "</table>\n",
       "</div>"
      ],
      "text/plain": [
       "   is_canceled  lead_time  arrival_date_year  arrival_date_day_of_month  \\\n",
       "0            1         74               2017                          1   \n",
       "1            1         62               2017                          1   \n",
       "2            1         62               2017                          1   \n",
       "3            1         71               2017                          1   \n",
       "4            1        172               2017                          1   \n",
       "\n",
       "   stays_in_weekend_nights  stays_in_week_nights  adults  children  babies  \\\n",
       "0                        1                     0       2         0       0   \n",
       "1                        2                     2       2         0       0   \n",
       "2                        2                     2       2         0       0   \n",
       "3                        2                     2       1         0       0   \n",
       "4                        2                     5       2         0       0   \n",
       "\n",
       "   is_repeated_guest  previous_cancellations  previous_bookings_not_canceled  \\\n",
       "0                  0                       0                               0   \n",
       "1                  0                       0                               0   \n",
       "2                  0                       0                               0   \n",
       "3                  0                       0                               0   \n",
       "4                  0                       0                               0   \n",
       "\n",
       "   booking_changes  days_in_waiting_list  required_car_parking_spaces  \\\n",
       "0                0                     0                            0   \n",
       "1                0                     0                            0   \n",
       "2                0                     0                            0   \n",
       "3                0                     0                            0   \n",
       "4                0                     0                            0   \n",
       "\n",
       "   total_of_special_requests  total_nights  winter_night_cost  \\\n",
       "0                          0             1               1000   \n",
       "1                          1             4               1000   \n",
       "2                          1             4                600   \n",
       "3                          1             4                600   \n",
       "4                          0             7               1000   \n",
       "\n",
       "   one_time_cleaning_winter  season_coeff  profit  arrival_date_month_August  \\\n",
       "0                       400           1.0 -1400.0                          0   \n",
       "1                       400           1.0 -1400.0                          0   \n",
       "2                       350           1.0  -950.0                          0   \n",
       "3                       350           1.0  -950.0                          0   \n",
       "4                       400           1.0 -1400.0                          0   \n",
       "\n",
       "   arrival_date_month_December  arrival_date_month_February  \\\n",
       "0                            0                            0   \n",
       "1                            0                            0   \n",
       "2                            0                            0   \n",
       "3                            0                            0   \n",
       "4                            0                            0   \n",
       "\n",
       "   arrival_date_month_January  arrival_date_month_July  \\\n",
       "0                           1                        0   \n",
       "1                           1                        0   \n",
       "2                           1                        0   \n",
       "3                           1                        0   \n",
       "4                           1                        0   \n",
       "\n",
       "   arrival_date_month_June  arrival_date_month_March  arrival_date_month_May  \\\n",
       "0                        0                         0                       0   \n",
       "1                        0                         0                       0   \n",
       "2                        0                         0                       0   \n",
       "3                        0                         0                       0   \n",
       "4                        0                         0                       0   \n",
       "\n",
       "   arrival_date_month_November  arrival_date_month_October  \\\n",
       "0                            0                           0   \n",
       "1                            0                           0   \n",
       "2                            0                           0   \n",
       "3                            0                           0   \n",
       "4                            0                           0   \n",
       "\n",
       "   arrival_date_month_September  meal_FB         meal_HB         meal_SC  \\\n",
       "0                             0               0               0        0   \n",
       "1                             0               0               0        0   \n",
       "2                             0               0               0        0   \n",
       "3                             0               0               0        0   \n",
       "4                             0               0               0        0   \n",
       "\n",
       "   meal_SC         distribution_channel_Direct  distribution_channel_GDS  \\\n",
       "0               0                            0                         0   \n",
       "1               0                            0                         0   \n",
       "2               0                            0                         0   \n",
       "3               0                            0                         0   \n",
       "4               0                            0                         0   \n",
       "\n",
       "   distribution_channel_TA/TO  reserved_room_type_B                 \\\n",
       "0                           1                                    0   \n",
       "1                           1                                    0   \n",
       "2                           1                                    0   \n",
       "3                           1                                    0   \n",
       "4                           1                                    0   \n",
       "\n",
       "   reserved_room_type_C                 reserved_room_type_D                 \\\n",
       "0                                    0                                    0   \n",
       "1                                    0                                    0   \n",
       "2                                    0                                    0   \n",
       "3                                    0                                    0   \n",
       "4                                    0                                    0   \n",
       "\n",
       "   reserved_room_type_E                 reserved_room_type_F                 \\\n",
       "0                                    0                                    0   \n",
       "1                                    0                                    0   \n",
       "2                                    0                                    0   \n",
       "3                                    0                                    0   \n",
       "4                                    0                                    0   \n",
       "\n",
       "   reserved_room_type_G                 customer_type_Group  \\\n",
       "0                                    0                    0   \n",
       "1                                    0                    0   \n",
       "2                                    0                    0   \n",
       "3                                    0                    0   \n",
       "4                                    0                    0   \n",
       "\n",
       "   customer_type_Transient  customer_type_Transient-Party  \n",
       "0                        1                              0  \n",
       "1                        1                              0  \n",
       "2                        1                              0  \n",
       "3                        1                              0  \n",
       "4                        1                              0  "
      ]
     },
     "metadata": {},
     "output_type": "display_data"
    },
    {
     "data": {
      "text/plain": [
       "(32412, 48)"
      ]
     },
     "execution_count": 63,
     "metadata": {},
     "output_type": "execute_result"
    }
   ],
   "source": [
    "display(df_test_ohe.head())\n",
    "df_test_ohe.shape"
   ]
  },
  {
   "cell_type": "code",
   "execution_count": 64,
   "metadata": {},
   "outputs": [
    {
     "data": {
      "text/html": [
       "<div>\n",
       "<style scoped>\n",
       "    .dataframe tbody tr th:only-of-type {\n",
       "        vertical-align: middle;\n",
       "    }\n",
       "\n",
       "    .dataframe tbody tr th {\n",
       "        vertical-align: top;\n",
       "    }\n",
       "\n",
       "    .dataframe thead th {\n",
       "        text-align: right;\n",
       "    }\n",
       "</style>\n",
       "<table border=\"1\" class=\"dataframe\">\n",
       "  <thead>\n",
       "    <tr style=\"text-align: right;\">\n",
       "      <th></th>\n",
       "      <th>is_canceled</th>\n",
       "      <th>lead_time</th>\n",
       "      <th>arrival_date_year</th>\n",
       "      <th>arrival_date_day_of_month</th>\n",
       "      <th>stays_in_weekend_nights</th>\n",
       "      <th>stays_in_week_nights</th>\n",
       "      <th>adults</th>\n",
       "      <th>children</th>\n",
       "      <th>babies</th>\n",
       "      <th>is_repeated_guest</th>\n",
       "      <th>previous_cancellations</th>\n",
       "      <th>previous_bookings_not_canceled</th>\n",
       "      <th>booking_changes</th>\n",
       "      <th>days_in_waiting_list</th>\n",
       "      <th>required_car_parking_spaces</th>\n",
       "      <th>total_of_special_requests</th>\n",
       "      <th>total_nights</th>\n",
       "      <th>winter_night_cost</th>\n",
       "      <th>one_time_cleaning_winter</th>\n",
       "      <th>season_coeff</th>\n",
       "      <th>profit</th>\n",
       "      <th>arrival_date_month_August</th>\n",
       "      <th>arrival_date_month_December</th>\n",
       "      <th>arrival_date_month_February</th>\n",
       "      <th>arrival_date_month_January</th>\n",
       "      <th>arrival_date_month_July</th>\n",
       "      <th>arrival_date_month_June</th>\n",
       "      <th>arrival_date_month_March</th>\n",
       "      <th>arrival_date_month_May</th>\n",
       "      <th>arrival_date_month_November</th>\n",
       "      <th>arrival_date_month_October</th>\n",
       "      <th>arrival_date_month_September</th>\n",
       "      <th>meal_FB</th>\n",
       "      <th>meal_HB</th>\n",
       "      <th>meal_SC</th>\n",
       "      <th>meal_SC</th>\n",
       "      <th>distribution_channel_Direct</th>\n",
       "      <th>distribution_channel_GDS</th>\n",
       "      <th>distribution_channel_TA/TO</th>\n",
       "      <th>reserved_room_type_B</th>\n",
       "      <th>reserved_room_type_C</th>\n",
       "      <th>reserved_room_type_D</th>\n",
       "      <th>reserved_room_type_E</th>\n",
       "      <th>reserved_room_type_F</th>\n",
       "      <th>reserved_room_type_G</th>\n",
       "      <th>customer_type_Group</th>\n",
       "      <th>customer_type_Transient</th>\n",
       "      <th>customer_type_Transient-Party</th>\n",
       "    </tr>\n",
       "  </thead>\n",
       "  <tbody>\n",
       "    <tr>\n",
       "      <th>0</th>\n",
       "      <td>0</td>\n",
       "      <td>7</td>\n",
       "      <td>2015</td>\n",
       "      <td>1</td>\n",
       "      <td>0</td>\n",
       "      <td>1</td>\n",
       "      <td>1</td>\n",
       "      <td>0</td>\n",
       "      <td>0</td>\n",
       "      <td>0</td>\n",
       "      <td>0</td>\n",
       "      <td>0</td>\n",
       "      <td>0</td>\n",
       "      <td>0</td>\n",
       "      <td>0</td>\n",
       "      <td>0</td>\n",
       "      <td>1</td>\n",
       "      <td>1000</td>\n",
       "      <td>400</td>\n",
       "      <td>1.4</td>\n",
       "      <td>0</td>\n",
       "      <td>0</td>\n",
       "      <td>0</td>\n",
       "      <td>0</td>\n",
       "      <td>0</td>\n",
       "      <td>1</td>\n",
       "      <td>0</td>\n",
       "      <td>0</td>\n",
       "      <td>0</td>\n",
       "      <td>0</td>\n",
       "      <td>0</td>\n",
       "      <td>0</td>\n",
       "      <td>0</td>\n",
       "      <td>0</td>\n",
       "      <td>0</td>\n",
       "      <td>0</td>\n",
       "      <td>1</td>\n",
       "      <td>0</td>\n",
       "      <td>0</td>\n",
       "      <td>0</td>\n",
       "      <td>0</td>\n",
       "      <td>0</td>\n",
       "      <td>0</td>\n",
       "      <td>0</td>\n",
       "      <td>0</td>\n",
       "      <td>0</td>\n",
       "      <td>1</td>\n",
       "      <td>0</td>\n",
       "    </tr>\n",
       "    <tr>\n",
       "      <th>1</th>\n",
       "      <td>0</td>\n",
       "      <td>14</td>\n",
       "      <td>2015</td>\n",
       "      <td>1</td>\n",
       "      <td>0</td>\n",
       "      <td>2</td>\n",
       "      <td>2</td>\n",
       "      <td>0</td>\n",
       "      <td>0</td>\n",
       "      <td>0</td>\n",
       "      <td>0</td>\n",
       "      <td>0</td>\n",
       "      <td>0</td>\n",
       "      <td>0</td>\n",
       "      <td>0</td>\n",
       "      <td>1</td>\n",
       "      <td>2</td>\n",
       "      <td>1000</td>\n",
       "      <td>400</td>\n",
       "      <td>1.4</td>\n",
       "      <td>0</td>\n",
       "      <td>0</td>\n",
       "      <td>0</td>\n",
       "      <td>0</td>\n",
       "      <td>0</td>\n",
       "      <td>1</td>\n",
       "      <td>0</td>\n",
       "      <td>0</td>\n",
       "      <td>0</td>\n",
       "      <td>0</td>\n",
       "      <td>0</td>\n",
       "      <td>0</td>\n",
       "      <td>0</td>\n",
       "      <td>0</td>\n",
       "      <td>0</td>\n",
       "      <td>0</td>\n",
       "      <td>0</td>\n",
       "      <td>0</td>\n",
       "      <td>1</td>\n",
       "      <td>0</td>\n",
       "      <td>0</td>\n",
       "      <td>0</td>\n",
       "      <td>0</td>\n",
       "      <td>0</td>\n",
       "      <td>0</td>\n",
       "      <td>0</td>\n",
       "      <td>1</td>\n",
       "      <td>0</td>\n",
       "    </tr>\n",
       "    <tr>\n",
       "      <th>2</th>\n",
       "      <td>0</td>\n",
       "      <td>0</td>\n",
       "      <td>2015</td>\n",
       "      <td>1</td>\n",
       "      <td>0</td>\n",
       "      <td>2</td>\n",
       "      <td>2</td>\n",
       "      <td>0</td>\n",
       "      <td>0</td>\n",
       "      <td>0</td>\n",
       "      <td>0</td>\n",
       "      <td>0</td>\n",
       "      <td>0</td>\n",
       "      <td>0</td>\n",
       "      <td>0</td>\n",
       "      <td>0</td>\n",
       "      <td>2</td>\n",
       "      <td>600</td>\n",
       "      <td>350</td>\n",
       "      <td>1.4</td>\n",
       "      <td>0</td>\n",
       "      <td>0</td>\n",
       "      <td>0</td>\n",
       "      <td>0</td>\n",
       "      <td>0</td>\n",
       "      <td>1</td>\n",
       "      <td>0</td>\n",
       "      <td>0</td>\n",
       "      <td>0</td>\n",
       "      <td>0</td>\n",
       "      <td>0</td>\n",
       "      <td>0</td>\n",
       "      <td>0</td>\n",
       "      <td>0</td>\n",
       "      <td>0</td>\n",
       "      <td>0</td>\n",
       "      <td>1</td>\n",
       "      <td>0</td>\n",
       "      <td>0</td>\n",
       "      <td>0</td>\n",
       "      <td>1</td>\n",
       "      <td>0</td>\n",
       "      <td>0</td>\n",
       "      <td>0</td>\n",
       "      <td>0</td>\n",
       "      <td>0</td>\n",
       "      <td>1</td>\n",
       "      <td>0</td>\n",
       "    </tr>\n",
       "    <tr>\n",
       "      <th>3</th>\n",
       "      <td>0</td>\n",
       "      <td>9</td>\n",
       "      <td>2015</td>\n",
       "      <td>1</td>\n",
       "      <td>0</td>\n",
       "      <td>2</td>\n",
       "      <td>2</td>\n",
       "      <td>0</td>\n",
       "      <td>0</td>\n",
       "      <td>0</td>\n",
       "      <td>0</td>\n",
       "      <td>0</td>\n",
       "      <td>0</td>\n",
       "      <td>0</td>\n",
       "      <td>0</td>\n",
       "      <td>1</td>\n",
       "      <td>2</td>\n",
       "      <td>600</td>\n",
       "      <td>350</td>\n",
       "      <td>1.4</td>\n",
       "      <td>0</td>\n",
       "      <td>0</td>\n",
       "      <td>0</td>\n",
       "      <td>0</td>\n",
       "      <td>0</td>\n",
       "      <td>1</td>\n",
       "      <td>0</td>\n",
       "      <td>0</td>\n",
       "      <td>0</td>\n",
       "      <td>0</td>\n",
       "      <td>0</td>\n",
       "      <td>0</td>\n",
       "      <td>1</td>\n",
       "      <td>0</td>\n",
       "      <td>0</td>\n",
       "      <td>0</td>\n",
       "      <td>1</td>\n",
       "      <td>0</td>\n",
       "      <td>0</td>\n",
       "      <td>0</td>\n",
       "      <td>1</td>\n",
       "      <td>0</td>\n",
       "      <td>0</td>\n",
       "      <td>0</td>\n",
       "      <td>0</td>\n",
       "      <td>0</td>\n",
       "      <td>1</td>\n",
       "      <td>0</td>\n",
       "    </tr>\n",
       "    <tr>\n",
       "      <th>4</th>\n",
       "      <td>1</td>\n",
       "      <td>85</td>\n",
       "      <td>2015</td>\n",
       "      <td>1</td>\n",
       "      <td>0</td>\n",
       "      <td>3</td>\n",
       "      <td>2</td>\n",
       "      <td>0</td>\n",
       "      <td>0</td>\n",
       "      <td>0</td>\n",
       "      <td>0</td>\n",
       "      <td>0</td>\n",
       "      <td>0</td>\n",
       "      <td>0</td>\n",
       "      <td>0</td>\n",
       "      <td>1</td>\n",
       "      <td>3</td>\n",
       "      <td>1000</td>\n",
       "      <td>400</td>\n",
       "      <td>1.4</td>\n",
       "      <td>0</td>\n",
       "      <td>0</td>\n",
       "      <td>0</td>\n",
       "      <td>0</td>\n",
       "      <td>0</td>\n",
       "      <td>1</td>\n",
       "      <td>0</td>\n",
       "      <td>0</td>\n",
       "      <td>0</td>\n",
       "      <td>0</td>\n",
       "      <td>0</td>\n",
       "      <td>0</td>\n",
       "      <td>0</td>\n",
       "      <td>0</td>\n",
       "      <td>0</td>\n",
       "      <td>0</td>\n",
       "      <td>0</td>\n",
       "      <td>0</td>\n",
       "      <td>1</td>\n",
       "      <td>0</td>\n",
       "      <td>0</td>\n",
       "      <td>0</td>\n",
       "      <td>0</td>\n",
       "      <td>0</td>\n",
       "      <td>0</td>\n",
       "      <td>0</td>\n",
       "      <td>1</td>\n",
       "      <td>0</td>\n",
       "    </tr>\n",
       "  </tbody>\n",
       "</table>\n",
       "</div>"
      ],
      "text/plain": [
       "   is_canceled  lead_time  arrival_date_year  arrival_date_day_of_month  \\\n",
       "0            0          7               2015                          1   \n",
       "1            0         14               2015                          1   \n",
       "2            0          0               2015                          1   \n",
       "3            0          9               2015                          1   \n",
       "4            1         85               2015                          1   \n",
       "\n",
       "   stays_in_weekend_nights  stays_in_week_nights  adults  children  babies  \\\n",
       "0                        0                     1       1         0       0   \n",
       "1                        0                     2       2         0       0   \n",
       "2                        0                     2       2         0       0   \n",
       "3                        0                     2       2         0       0   \n",
       "4                        0                     3       2         0       0   \n",
       "\n",
       "   is_repeated_guest  previous_cancellations  previous_bookings_not_canceled  \\\n",
       "0                  0                       0                               0   \n",
       "1                  0                       0                               0   \n",
       "2                  0                       0                               0   \n",
       "3                  0                       0                               0   \n",
       "4                  0                       0                               0   \n",
       "\n",
       "   booking_changes  days_in_waiting_list  required_car_parking_spaces  \\\n",
       "0                0                     0                            0   \n",
       "1                0                     0                            0   \n",
       "2                0                     0                            0   \n",
       "3                0                     0                            0   \n",
       "4                0                     0                            0   \n",
       "\n",
       "   total_of_special_requests  total_nights  winter_night_cost  \\\n",
       "0                          0             1               1000   \n",
       "1                          1             2               1000   \n",
       "2                          0             2                600   \n",
       "3                          1             2                600   \n",
       "4                          1             3               1000   \n",
       "\n",
       "   one_time_cleaning_winter  season_coeff  profit  arrival_date_month_August  \\\n",
       "0                       400           1.4       0                          0   \n",
       "1                       400           1.4       0                          0   \n",
       "2                       350           1.4       0                          0   \n",
       "3                       350           1.4       0                          0   \n",
       "4                       400           1.4       0                          0   \n",
       "\n",
       "   arrival_date_month_December  arrival_date_month_February  \\\n",
       "0                            0                            0   \n",
       "1                            0                            0   \n",
       "2                            0                            0   \n",
       "3                            0                            0   \n",
       "4                            0                            0   \n",
       "\n",
       "   arrival_date_month_January  arrival_date_month_July  \\\n",
       "0                           0                        1   \n",
       "1                           0                        1   \n",
       "2                           0                        1   \n",
       "3                           0                        1   \n",
       "4                           0                        1   \n",
       "\n",
       "   arrival_date_month_June  arrival_date_month_March  arrival_date_month_May  \\\n",
       "0                        0                         0                       0   \n",
       "1                        0                         0                       0   \n",
       "2                        0                         0                       0   \n",
       "3                        0                         0                       0   \n",
       "4                        0                         0                       0   \n",
       "\n",
       "   arrival_date_month_November  arrival_date_month_October  \\\n",
       "0                            0                           0   \n",
       "1                            0                           0   \n",
       "2                            0                           0   \n",
       "3                            0                           0   \n",
       "4                            0                           0   \n",
       "\n",
       "   arrival_date_month_September  meal_FB         meal_HB         meal_SC  \\\n",
       "0                             0               0               0        0   \n",
       "1                             0               0               0        0   \n",
       "2                             0               0               0        0   \n",
       "3                             0               1               0        0   \n",
       "4                             0               0               0        0   \n",
       "\n",
       "   meal_SC         distribution_channel_Direct  distribution_channel_GDS  \\\n",
       "0               0                            1                         0   \n",
       "1               0                            0                         0   \n",
       "2               0                            1                         0   \n",
       "3               0                            1                         0   \n",
       "4               0                            0                         0   \n",
       "\n",
       "   distribution_channel_TA/TO  reserved_room_type_B                 \\\n",
       "0                           0                                    0   \n",
       "1                           1                                    0   \n",
       "2                           0                                    0   \n",
       "3                           0                                    0   \n",
       "4                           1                                    0   \n",
       "\n",
       "   reserved_room_type_C                 reserved_room_type_D                 \\\n",
       "0                                    0                                    0   \n",
       "1                                    0                                    0   \n",
       "2                                    1                                    0   \n",
       "3                                    1                                    0   \n",
       "4                                    0                                    0   \n",
       "\n",
       "   reserved_room_type_E                 reserved_room_type_F                 \\\n",
       "0                                    0                                    0   \n",
       "1                                    0                                    0   \n",
       "2                                    0                                    0   \n",
       "3                                    0                                    0   \n",
       "4                                    0                                    0   \n",
       "\n",
       "   reserved_room_type_G                 customer_type_Group  \\\n",
       "0                                    0                    0   \n",
       "1                                    0                    0   \n",
       "2                                    0                    0   \n",
       "3                                    0                    0   \n",
       "4                                    0                    0   \n",
       "\n",
       "   customer_type_Transient  customer_type_Transient-Party  \n",
       "0                        1                              0  \n",
       "1                        1                              0  \n",
       "2                        1                              0  \n",
       "3                        1                              0  \n",
       "4                        1                              0  "
      ]
     },
     "metadata": {},
     "output_type": "display_data"
    },
    {
     "data": {
      "text/plain": [
       "(65229, 48)"
      ]
     },
     "execution_count": 64,
     "metadata": {},
     "output_type": "execute_result"
    }
   ],
   "source": [
    "display(df_train_ohe.head())\n",
    "df_train_ohe.shape"
   ]
  },
  {
   "cell_type": "markdown",
   "metadata": {},
   "source": [
    "Проеверяем что нет колонок присутствующих только в одном датафрейме"
   ]
  },
  {
   "cell_type": "code",
   "execution_count": 65,
   "metadata": {},
   "outputs": [
    {
     "name": "stderr",
     "output_type": "stream",
     "text": [
      "/tmp/ipykernel_571/652679777.py:1: FutureWarning: Index.__xor__ operating as a set operation is deprecated, in the future this will be a logical operation matching Series.__xor__.  Use index.symmetric_difference(other) instead\n",
      "  df_test_ohe.columns ^ df_train_ohe.columns\n"
     ]
    },
    {
     "data": {
      "text/plain": [
       "Index([], dtype='object')"
      ]
     },
     "execution_count": 65,
     "metadata": {},
     "output_type": "execute_result"
    }
   ],
   "source": [
    "df_test_ohe.columns ^ df_train_ohe.columns"
   ]
  },
  {
   "cell_type": "markdown",
   "metadata": {},
   "source": [
    "Параметры в обоих датафреймах совпадают. Приступаем к разделению на целевую и нецелевые выбрки для тренировочного `df_train` и тестового датафрейма `df_test`"
   ]
  },
  {
   "cell_type": "markdown",
   "metadata": {},
   "source": [
    "Делим тренировочную и валидационную выборки на целевые и нецелевые выборки"
   ]
  },
  {
   "cell_type": "code",
   "execution_count": 66,
   "metadata": {},
   "outputs": [],
   "source": [
    "# извлекаем признаки, исключаем целевой признак и признаки которые не имеет предсказательной силы \n",
    "features_train = df_train_ohe.drop(['is_canceled'], axis=1) \n",
    "    \n",
    "# извлекаем целевой признак\n",
    "target_train = df_train_ohe['is_canceled'] \n",
    "\n",
    "# извлекаем признаки, исключаем целевой признак и признаки которые не имеет предсказательной силы \n",
    "features_test = df_test_ohe.drop(['is_canceled'], axis=1)\n",
    "    \n",
    "# извлекаем целевой признак\n",
    "target_test = df_test_ohe['is_canceled'] "
   ]
  },
  {
   "cell_type": "markdown",
   "metadata": {},
   "source": [
    "Выводим размеры полученых выборок"
   ]
  },
  {
   "cell_type": "code",
   "execution_count": 67,
   "metadata": {},
   "outputs": [
    {
     "name": "stdout",
     "output_type": "stream",
     "text": [
      "(65229, 47)\n",
      "(65229,)\n",
      "(32412, 47)\n",
      "(32412,)\n"
     ]
    }
   ],
   "source": [
    "print(features_train.shape)\n",
    "print(target_train.shape)\n",
    "print(features_test.shape)\n",
    "print(target_test.shape)"
   ]
  },
  {
   "cell_type": "markdown",
   "metadata": {},
   "source": [
    "Проводим масштабирование "
   ]
  },
  {
   "cell_type": "code",
   "execution_count": 68,
   "metadata": {},
   "outputs": [],
   "source": [
    "scaler = StandardScaler()\n",
    "scaler.fit(features_train)\n",
    "\n",
    "features_train = scaler.transform(features_train)\n",
    "features_test = scaler.transform(features_test)\n",
    "\n",
    "pd.options.mode.chained_assignment = None\n"
   ]
  },
  {
   "cell_type": "markdown",
   "metadata": {},
   "source": [
    "`Выбор метрики для моделей:` самой важной метрикой для задачи является `полнота (Recall)` тк эта метрика определяет количество истинно положительных среди всех меток класса, которые были определены как «положительный». Эта оценочная метрика особенно важна когда в поставленной задаче ошибка нераспознания положительного класса высока. В нашем случае, нераспознание положительного класса приведёт неверной к оценке отказавшихся от бронирования постояльцев и как результат неверный прогноз отказников. Это приведёт к непредвиденным убыткам."
   ]
  },
  {
   "cell_type": "markdown",
   "metadata": {},
   "source": [
    "Logistic Regression"
   ]
  },
  {
   "cell_type": "code",
   "execution_count": 69,
   "metadata": {},
   "outputs": [
    {
     "name": "stdout",
     "output_type": "stream",
     "text": [
      "Лучшая полнота               0.30983093264189543\n"
     ]
    }
   ],
   "source": [
    "# инициализация модели\n",
    "model = LogisticRegression(random_state=12345, solver='lbfgs', max_iter=2000)\n",
    "# обучение модели\n",
    "model.fit(features_train, target_train)\n",
    "\n",
    "# предсказания модели\n",
    "predictions_logistic = model.predict(features_train)\n",
    "\n",
    "probabilities_valid = model.predict_proba(features_train)\n",
    "probabilities_one_valid = probabilities_valid[:, 1]\n",
    "\n",
    "# кроссвалидация с пятью блоками\n",
    "mean_score = cross_val_score(model, features_train, target_train, cv=5, scoring='recall').mean()\n",
    "\n",
    "# Вывод метрики Полноты\n",
    "print('Лучшая полнота              ', mean_score)\n",
    "\n",
    "\n"
   ]
  },
  {
   "cell_type": "markdown",
   "metadata": {},
   "source": [
    "Decision Tree"
   ]
  },
  {
   "cell_type": "code",
   "execution_count": 70,
   "metadata": {},
   "outputs": [
    {
     "name": "stdout",
     "output_type": "stream",
     "text": [
      "Лучшая модель:                            DecisionTreeClassifier(max_depth=4, random_state=12345)\n",
      "Лучший критерий:                          gini\n",
      "Лучшая полнота:                           0.636303974902853\n"
     ]
    }
   ],
   "source": [
    "# создаём переменные для выявления лучшей модели и лучшего результата\n",
    "best_model = None\n",
    "best_mean_score = 0\n",
    "best_criterion = 0\n",
    "\n",
    "\n",
    "creteria_list = ['gini', 'entropy']\n",
    "# создаём цикл для перебора гиперпараметра criterion\n",
    "for crit in creteria_list:\n",
    "\t# создаём цикл для перебора глубины дерева\n",
    "\tfor depth in range(1, 20):\n",
    "\t\t# создам переменную и записываем в неё модель с перебором глубины деревьев и добавлением случайности для улучшения результата\n",
    "\t\tmodel = DecisionTreeClassifier(criterion=crit, random_state=12345, max_depth= depth)\n",
    "\n",
    "\t\t# обучаем модель с заданной глубиной дерева\n",
    "\t\tmodel.fit(features_train, target_train)\n",
    "\n",
    "\t\t# высчитываем предсказания модели на основе валидационной выборки\n",
    "\t\tpredictions_dt = model.predict(features_train)\n",
    "\t\tprobabilities_valid = model.predict_proba(features_train)\n",
    "\t\tprobabilities_one_valid = probabilities_valid[:, 1]\n",
    "\t\t\n",
    "\t\n",
    "\t\tmean_score = cross_val_score(model, features_train, target_train, cv=5, scoring='recall').mean()\n",
    "\t\t\n",
    "\t\t# находим лучшую модель\n",
    "\t\tif mean_score > best_mean_score:\n",
    "\t\t\tbest_criterion = crit\n",
    "\t\t\tbest_mean_score = mean_score\n",
    "\t\t\tbest_model = model\n",
    "\t\t\t\n",
    "\t\t\n",
    "\t\t\n",
    "# выдод результатов классификации    \n",
    "print('Лучшая модель:                           ', best_model)\n",
    "print('Лучший критерий:                         ', best_criterion)\n",
    "print('Лучшая полнота:                          ', best_mean_score)\n",
    "\n"
   ]
  },
  {
   "cell_type": "markdown",
   "metadata": {},
   "source": [
    "Random Forest"
   ]
  },
  {
   "cell_type": "code",
   "execution_count": 71,
   "metadata": {},
   "outputs": [
    {
     "name": "stdout",
     "output_type": "stream",
     "text": [
      "Количество деревьев (est):                        47\n",
      "Глубина дерева (depth):                           9\n",
      "Лучшая полнота:                                   0.3952128375491184\n"
     ]
    }
   ],
   "source": [
    "# создаём переменные для выявления лучшей модели, лучшего результата\n",
    "# создаём счётчики кол-ва деревьев и глубины деревьев чтобы выявить сочетание с лучшим показателем accuracy\n",
    "best_model = None\n",
    "n_est = 0\n",
    "max_depth = 0\n",
    "best_recall = 0\n",
    "best_final_score = 0\n",
    "\n",
    "\n",
    "# создаём цикл с перебором по кол-ву деревьев\n",
    "for est in range(40, 50):\n",
    "    # создаём вложенный цикл с перебором глубины каждого дерева\n",
    "    for depth in range(1, 10):\n",
    "\n",
    "        # создам переменную и записываем в неё модель с перебором кол-ва деревьев, \n",
    "        # глубины деревьев и добавлением случайности для улучшения результата\n",
    "        model = RandomForestClassifier(random_state=12345, n_estimators=est, max_depth=depth)\n",
    "\n",
    "        # обучаем модель на тренировочной выборке\n",
    "        model.fit(features_train, target_train)\n",
    "\n",
    "        # высчитываем предсказания модели на основе тренировочной выборки\n",
    "        predictions = model.predict(features_train)\n",
    "\n",
    "        \n",
    "        # проводим кросс-валидацию\n",
    "        scores = cross_val_score(model, features_train, target_train, cv=5, scoring='recall')\n",
    "        final_score = scores.mean()\n",
    "\n",
    "        probabilities_valid = model.predict_proba(features_train)\n",
    "        probabilities_one_valid = probabilities_valid[:, 1]\n",
    "\n",
    "\n",
    "        # находим лучшую модель, находим оптимальное кол-во деревьев и их глубину\n",
    "        if final_score > best_final_score:\n",
    "            best_final_score = final_score\n",
    "            n_est = est\n",
    "            max_depth = depth\n",
    "            best_model = model\n",
    "        \n",
    "\n",
    "# выдод результатов классификации случайного леса\n",
    "\n",
    "print('Количество деревьев (est):                       ', n_est) \n",
    "print('Глубина дерева (depth):                          ', max_depth)\n",
    "print('Лучшая полнота:                                  ', best_final_score)\n",
    "\n"
   ]
  },
  {
   "cell_type": "markdown",
   "metadata": {},
   "source": [
    "`Вывод:` \n",
    "\n",
    "По результатам обучения моделей, лучшей моделью с самыми высокими метриками полноты оказалось `Дерево решений`."
   ]
  },
  {
   "cell_type": "markdown",
   "metadata": {},
   "source": [
    "#### 1.1.5.1. <a id='toc1_1_5_1_'></a>[Применение лучшей модели на тестовой выборке](#toc0_)"
   ]
  },
  {
   "cell_type": "markdown",
   "metadata": {},
   "source": [
    "Применяем дерево решений для `df_test` выборки с наилучшими параметрами: `DecisionTreeClassifier(max_depth=19, random_state=12345)` criterion='gini'"
   ]
  },
  {
   "cell_type": "code",
   "execution_count": 72,
   "metadata": {},
   "outputs": [
    {
     "name": "stdout",
     "output_type": "stream",
     "text": [
      "Лучшая (Accuracy):                          0.7234357645316549\n",
      "Лучшая F1-мера:                             0.6163984936665525\n",
      "Лучшая полнота:                             0.5719958700659201\n",
      "Лучшая ROC_AUC:                             0.7378422634304449\n"
     ]
    }
   ],
   "source": [
    "# создам переменную и записываем в неё модель с лучшими показателями пртестированными на тренировочной выборке.\n",
    "model = DecisionTreeClassifier(criterion='gini', random_state=12345, max_depth= 4) \n",
    "\n",
    "# обучаем модель с заданной глубиной дерева\n",
    "model.fit(features_train, target_train)\n",
    "\n",
    "# высчитываем предсказания модели на основе валидационной выборки\n",
    "predictions_dt_test = model.predict(features_test)\n",
    "\n",
    "probabilities_test = model.predict_proba(features_test)\n",
    "probabilities_one_test = probabilities_test[:, 1]\n",
    "\n",
    "# находим качество модели сравнивая результаты валидационой выборки и результаты предсказательной модели\n",
    "result = accuracy_score(target_test, predictions_dt_test)\n",
    "\n",
    "# сохраняем значения метрик в переменные\n",
    "f1 = f1_score(target_test, predictions_dt_test)\n",
    "recall = recall_score(target_test, predictions_dt_test)\n",
    "roc = roc_auc_score(target_test, probabilities_one_test)\n",
    "\n",
    "\t\t\n",
    "# выдод результатов классификации    \n",
    "   \n",
    "print('Лучшая (Accuracy):                         ', result)\n",
    "print('Лучшая F1-мера:                            ', f1)\n",
    "print('Лучшая полнота:                            ', recall)\n",
    "print('Лучшая ROC_AUC:                            ', roc)\n",
    " \n"
   ]
  },
  {
   "cell_type": "markdown",
   "metadata": {},
   "source": [
    "Проверяем тип предсказаний и меняем на Series для того чтобы добавить предсказания в таблицу `df_test`"
   ]
  },
  {
   "cell_type": "code",
   "execution_count": 73,
   "metadata": {},
   "outputs": [
    {
     "name": "stdout",
     "output_type": "stream",
     "text": [
      "<class 'numpy.ndarray'>\n"
     ]
    },
    {
     "data": {
      "text/plain": [
       "pandas.core.series.Series"
      ]
     },
     "execution_count": 73,
     "metadata": {},
     "output_type": "execute_result"
    }
   ],
   "source": [
    "# проверяем тип данных\n",
    "print(type(predictions_dt_test))\n",
    "\n",
    "# меняем тип данных\n",
    "predictions_dt_test_series = pd.Series(predictions_dt_test)\n",
    "\n",
    "# проверяем смену типа на Series\n",
    "type(predictions_dt_test_series)\n"
   ]
  },
  {
   "cell_type": "markdown",
   "metadata": {},
   "source": [
    "Добавляем в `df_test` новый параметр `is_canceled_predicted` с предсказаниями модели."
   ]
  },
  {
   "cell_type": "code",
   "execution_count": 74,
   "metadata": {},
   "outputs": [],
   "source": [
    "df_test['is_canceled_predicted'] = predictions_dt_test_series"
   ]
  },
  {
   "cell_type": "markdown",
   "metadata": {},
   "source": [
    "Выводим таблицу для просмотра"
   ]
  },
  {
   "cell_type": "code",
   "execution_count": 75,
   "metadata": {},
   "outputs": [
    {
     "data": {
      "text/html": [
       "<div>\n",
       "<style scoped>\n",
       "    .dataframe tbody tr th:only-of-type {\n",
       "        vertical-align: middle;\n",
       "    }\n",
       "\n",
       "    .dataframe tbody tr th {\n",
       "        vertical-align: top;\n",
       "    }\n",
       "\n",
       "    .dataframe thead th {\n",
       "        text-align: right;\n",
       "    }\n",
       "</style>\n",
       "<table border=\"1\" class=\"dataframe\">\n",
       "  <thead>\n",
       "    <tr style=\"text-align: right;\">\n",
       "      <th></th>\n",
       "      <th>is_canceled</th>\n",
       "      <th>lead_time</th>\n",
       "      <th>arrival_date_year</th>\n",
       "      <th>arrival_date_month</th>\n",
       "      <th>arrival_date_day_of_month</th>\n",
       "      <th>stays_in_weekend_nights</th>\n",
       "      <th>stays_in_week_nights</th>\n",
       "      <th>adults</th>\n",
       "      <th>children</th>\n",
       "      <th>babies</th>\n",
       "      <th>meal</th>\n",
       "      <th>distribution_channel</th>\n",
       "      <th>is_repeated_guest</th>\n",
       "      <th>previous_cancellations</th>\n",
       "      <th>previous_bookings_not_canceled</th>\n",
       "      <th>reserved_room_type</th>\n",
       "      <th>booking_changes</th>\n",
       "      <th>days_in_waiting_list</th>\n",
       "      <th>customer_type</th>\n",
       "      <th>required_car_parking_spaces</th>\n",
       "      <th>total_of_special_requests</th>\n",
       "      <th>total_nights</th>\n",
       "      <th>winter_night_cost</th>\n",
       "      <th>one_time_cleaning_winter</th>\n",
       "      <th>season_coeff</th>\n",
       "      <th>profit</th>\n",
       "      <th>is_canceled_predicted</th>\n",
       "    </tr>\n",
       "  </thead>\n",
       "  <tbody>\n",
       "    <tr>\n",
       "      <th>0</th>\n",
       "      <td>1</td>\n",
       "      <td>74</td>\n",
       "      <td>2017</td>\n",
       "      <td>January</td>\n",
       "      <td>1</td>\n",
       "      <td>1</td>\n",
       "      <td>0</td>\n",
       "      <td>2</td>\n",
       "      <td>0</td>\n",
       "      <td>0</td>\n",
       "      <td>BB</td>\n",
       "      <td>TA/TO</td>\n",
       "      <td>0</td>\n",
       "      <td>0</td>\n",
       "      <td>0</td>\n",
       "      <td>A</td>\n",
       "      <td>0</td>\n",
       "      <td>0</td>\n",
       "      <td>Transient</td>\n",
       "      <td>0</td>\n",
       "      <td>0</td>\n",
       "      <td>1</td>\n",
       "      <td>1000</td>\n",
       "      <td>400</td>\n",
       "      <td>1.0</td>\n",
       "      <td>-1400.0</td>\n",
       "      <td>1</td>\n",
       "    </tr>\n",
       "    <tr>\n",
       "      <th>1</th>\n",
       "      <td>1</td>\n",
       "      <td>62</td>\n",
       "      <td>2017</td>\n",
       "      <td>January</td>\n",
       "      <td>1</td>\n",
       "      <td>2</td>\n",
       "      <td>2</td>\n",
       "      <td>2</td>\n",
       "      <td>0</td>\n",
       "      <td>0</td>\n",
       "      <td>BB</td>\n",
       "      <td>TA/TO</td>\n",
       "      <td>0</td>\n",
       "      <td>0</td>\n",
       "      <td>0</td>\n",
       "      <td>A</td>\n",
       "      <td>0</td>\n",
       "      <td>0</td>\n",
       "      <td>Transient</td>\n",
       "      <td>0</td>\n",
       "      <td>1</td>\n",
       "      <td>4</td>\n",
       "      <td>1000</td>\n",
       "      <td>400</td>\n",
       "      <td>1.0</td>\n",
       "      <td>-1400.0</td>\n",
       "      <td>0</td>\n",
       "    </tr>\n",
       "    <tr>\n",
       "      <th>2</th>\n",
       "      <td>1</td>\n",
       "      <td>62</td>\n",
       "      <td>2017</td>\n",
       "      <td>January</td>\n",
       "      <td>1</td>\n",
       "      <td>2</td>\n",
       "      <td>2</td>\n",
       "      <td>2</td>\n",
       "      <td>0</td>\n",
       "      <td>0</td>\n",
       "      <td>BB</td>\n",
       "      <td>TA/TO</td>\n",
       "      <td>0</td>\n",
       "      <td>0</td>\n",
       "      <td>0</td>\n",
       "      <td>A</td>\n",
       "      <td>0</td>\n",
       "      <td>0</td>\n",
       "      <td>Transient</td>\n",
       "      <td>0</td>\n",
       "      <td>1</td>\n",
       "      <td>4</td>\n",
       "      <td>600</td>\n",
       "      <td>350</td>\n",
       "      <td>1.0</td>\n",
       "      <td>-950.0</td>\n",
       "      <td>0</td>\n",
       "    </tr>\n",
       "    <tr>\n",
       "      <th>3</th>\n",
       "      <td>1</td>\n",
       "      <td>71</td>\n",
       "      <td>2017</td>\n",
       "      <td>January</td>\n",
       "      <td>1</td>\n",
       "      <td>2</td>\n",
       "      <td>2</td>\n",
       "      <td>1</td>\n",
       "      <td>0</td>\n",
       "      <td>0</td>\n",
       "      <td>BB</td>\n",
       "      <td>TA/TO</td>\n",
       "      <td>0</td>\n",
       "      <td>0</td>\n",
       "      <td>0</td>\n",
       "      <td>A</td>\n",
       "      <td>0</td>\n",
       "      <td>0</td>\n",
       "      <td>Transient</td>\n",
       "      <td>0</td>\n",
       "      <td>1</td>\n",
       "      <td>4</td>\n",
       "      <td>600</td>\n",
       "      <td>350</td>\n",
       "      <td>1.0</td>\n",
       "      <td>-950.0</td>\n",
       "      <td>0</td>\n",
       "    </tr>\n",
       "    <tr>\n",
       "      <th>4</th>\n",
       "      <td>1</td>\n",
       "      <td>172</td>\n",
       "      <td>2017</td>\n",
       "      <td>January</td>\n",
       "      <td>1</td>\n",
       "      <td>2</td>\n",
       "      <td>5</td>\n",
       "      <td>2</td>\n",
       "      <td>0</td>\n",
       "      <td>0</td>\n",
       "      <td>BB</td>\n",
       "      <td>TA/TO</td>\n",
       "      <td>0</td>\n",
       "      <td>0</td>\n",
       "      <td>0</td>\n",
       "      <td>A</td>\n",
       "      <td>0</td>\n",
       "      <td>0</td>\n",
       "      <td>Transient</td>\n",
       "      <td>0</td>\n",
       "      <td>0</td>\n",
       "      <td>7</td>\n",
       "      <td>1000</td>\n",
       "      <td>400</td>\n",
       "      <td>1.0</td>\n",
       "      <td>-1400.0</td>\n",
       "      <td>1</td>\n",
       "    </tr>\n",
       "  </tbody>\n",
       "</table>\n",
       "</div>"
      ],
      "text/plain": [
       "   is_canceled  lead_time  arrival_date_year arrival_date_month  \\\n",
       "0            1         74               2017            January   \n",
       "1            1         62               2017            January   \n",
       "2            1         62               2017            January   \n",
       "3            1         71               2017            January   \n",
       "4            1        172               2017            January   \n",
       "\n",
       "   arrival_date_day_of_month  stays_in_weekend_nights  stays_in_week_nights  \\\n",
       "0                          1                        1                     0   \n",
       "1                          1                        2                     2   \n",
       "2                          1                        2                     2   \n",
       "3                          1                        2                     2   \n",
       "4                          1                        2                     5   \n",
       "\n",
       "   adults  children  babies       meal distribution_channel  \\\n",
       "0       2         0       0  BB                       TA/TO   \n",
       "1       2         0       0  BB                       TA/TO   \n",
       "2       2         0       0  BB                       TA/TO   \n",
       "3       1         0       0  BB                       TA/TO   \n",
       "4       2         0       0  BB                       TA/TO   \n",
       "\n",
       "   is_repeated_guest  previous_cancellations  previous_bookings_not_canceled  \\\n",
       "0                  0                       0                               0   \n",
       "1                  0                       0                               0   \n",
       "2                  0                       0                               0   \n",
       "3                  0                       0                               0   \n",
       "4                  0                       0                               0   \n",
       "\n",
       "  reserved_room_type  booking_changes  days_in_waiting_list customer_type  \\\n",
       "0   A                               0                     0     Transient   \n",
       "1   A                               0                     0     Transient   \n",
       "2   A                               0                     0     Transient   \n",
       "3   A                               0                     0     Transient   \n",
       "4   A                               0                     0     Transient   \n",
       "\n",
       "   required_car_parking_spaces  total_of_special_requests  total_nights  \\\n",
       "0                            0                          0             1   \n",
       "1                            0                          1             4   \n",
       "2                            0                          1             4   \n",
       "3                            0                          1             4   \n",
       "4                            0                          0             7   \n",
       "\n",
       "   winter_night_cost  one_time_cleaning_winter  season_coeff  profit  \\\n",
       "0               1000                       400           1.0 -1400.0   \n",
       "1               1000                       400           1.0 -1400.0   \n",
       "2                600                       350           1.0  -950.0   \n",
       "3                600                       350           1.0  -950.0   \n",
       "4               1000                       400           1.0 -1400.0   \n",
       "\n",
       "   is_canceled_predicted  \n",
       "0                      1  \n",
       "1                      0  \n",
       "2                      0  \n",
       "3                      0  \n",
       "4                      1  "
      ]
     },
     "execution_count": 75,
     "metadata": {},
     "output_type": "execute_result"
    }
   ],
   "source": [
    "df_test.head()"
   ]
  },
  {
   "cell_type": "markdown",
   "metadata": {},
   "source": [
    "Подсчёт прибыли"
   ]
  },
  {
   "cell_type": "code",
   "execution_count": 76,
   "metadata": {},
   "outputs": [],
   "source": [
    "def profit_predicted(row, col):\n",
    "    if row['is_canceled'] == 0:\n",
    "        income = row['winter_night_cost'] * row['season_coeff'] * row['total_nights']\n",
    "        expences = row['one_time_cleaning_winter'] * round(1 + row['total_nights'] // 2)\n",
    "    elif(row[col] == 0) and (row['is_canceled'] ==1 ):\n",
    "        income = 0 #бронь отменена, прибыль отсутствует\n",
    "        expences = row['one_time_cleaning_winter'] + row['winter_night_cost'] * row['season_coeff']\n",
    "        \n",
    "    elif (row[col] == 1) and (row['is_canceled']==1):\n",
    "        # вариант 3 если система верно предсказала отмену брони, то клиенту предлагается депозит,\n",
    "        income= row['winter_night_cost'] * 0.8 * row['season_coeff'] + row['one_time_cleaning_winter'] * 0.8\n",
    "        # а в расход идет только разовое обслуживание\n",
    "        expences = row['one_time_cleaning_winter'] + row['winter_night_cost'] * row['season_coeff']\n",
    "    profit_total = income - expences\n",
    "    return profit_total"
   ]
  },
  {
   "cell_type": "code",
   "execution_count": 77,
   "metadata": {},
   "outputs": [
    {
     "name": "stdout",
     "output_type": "stream",
     "text": [
      "Суммарный профит тестовой выборки (за год) до прогнозирования:                 61682610.0\n",
      "Суммарный профит тестовой выборки после ML (за 8 мес):                         44049248.0\n",
      "Суммарный профит тестовой выборки после ML (за год):                           66073872.0\n",
      "Суммарный профит тестовой выборки (за год) после ML с учётом бюджета 400к:     65673872.0\n",
      "Выигрыш от внедрения модели (за год) с учётом  бюджета 400к:                   3991262.0\n"
     ]
    }
   ],
   "source": [
    "df_test['profit_predicted'] = df_test.apply(profit_predicted, col='is_canceled_predicted', axis = 1)\n",
    "profit_predicted2 = df_test['profit_predicted'].sum()\n",
    "\n",
    "print('Суммарный профит тестовой выборки (за год) до прогнозирования:                ',  profit_before_ml)\n",
    "#print()\n",
    "print('Суммарный профит тестовой выборки после ML (за 8 мес):                        ',  profit_predicted2)\n",
    "#print()\n",
    "print('Суммарный профит тестовой выборки после ML (за год):                          ',  profit_predicted2 * 12/8)\n",
    "#print()\n",
    "print('Суммарный профит тестовой выборки (за год) после ML с учётом бюджета 400к:    ',  profit_predicted2 * 12/8 - BUDGET)\n",
    "#print()\n",
    "print('Выигрыш от внедрения модели (за год) с учётом  бюджета 400к:                  ',  (profit_predicted2 * 12/8 - profit_before_ml) - BUDGET)\n"
   ]
  },
  {
   "cell_type": "markdown",
   "metadata": {},
   "source": [
    "`Вывод:` В результате применения модели `дерево решений` нам удалось получить предсказания отказа от бронирования клиентов, что повысило прогностическую способность и привело к повышению прибыли отеля с 61682610.0 руб. до 65673872.0 руб. с учётом затраченного бюджета 400 000 на создание модели.\n",
    "\n",
    "В итоге, с учётом затрат на создание модели, прибыль отеля выросла после применения модели выросла на 3991262.0 руб."
   ]
  },
  {
   "cell_type": "markdown",
   "metadata": {},
   "source": [
    "### 1.1.6. <a id='toc1_1_6_'></a>[Шаг 5. Опишите портрет «ненадёжного» клиента](#toc0_)"
   ]
  },
  {
   "cell_type": "markdown",
   "metadata": {},
   "source": [
    "Создаём список признаков для определения их влияния на целевой признак"
   ]
  },
  {
   "cell_type": "code",
   "execution_count": 78,
   "metadata": {},
   "outputs": [
    {
     "data": {
      "text/plain": [
       "Index(['is_canceled', 'lead_time', 'arrival_date_year',\n",
       "       'arrival_date_day_of_month', 'stays_in_weekend_nights',\n",
       "       'stays_in_week_nights', 'adults', 'children', 'babies',\n",
       "       'is_repeated_guest', 'previous_cancellations',\n",
       "       'previous_bookings_not_canceled', 'booking_changes',\n",
       "       'days_in_waiting_list', 'required_car_parking_spaces',\n",
       "       'total_of_special_requests', 'total_nights', 'winter_night_cost',\n",
       "       'one_time_cleaning_winter', 'season_coeff', 'arrival_date_month_August',\n",
       "       'arrival_date_month_December', 'arrival_date_month_February',\n",
       "       'arrival_date_month_January', 'arrival_date_month_July',\n",
       "       'arrival_date_month_June', 'arrival_date_month_March',\n",
       "       'arrival_date_month_May', 'arrival_date_month_November',\n",
       "       'arrival_date_month_October', 'arrival_date_month_September',\n",
       "       'meal_FB       ', 'meal_HB       ', 'meal_SC', 'meal_SC       ',\n",
       "       'distribution_channel_Direct', 'distribution_channel_GDS',\n",
       "       'distribution_channel_TA/TO', 'reserved_room_type_B               ',\n",
       "       'reserved_room_type_C               ',\n",
       "       'reserved_room_type_D               ',\n",
       "       'reserved_room_type_E               ',\n",
       "       'reserved_room_type_F               ',\n",
       "       'reserved_room_type_G               ', 'customer_type_Group',\n",
       "       'customer_type_Transient', 'customer_type_Transient-Party'],\n",
       "      dtype='object')"
      ]
     },
     "execution_count": 78,
     "metadata": {},
     "output_type": "execute_result"
    }
   ],
   "source": [
    "df_test_ohe_col = df_test_ohe.columns\n",
    "df_test_ohe_col = df_test_ohe_col.drop(['profit'])\n",
    "df_test_ohe_col"
   ]
  },
  {
   "cell_type": "markdown",
   "metadata": {},
   "source": [
    "Вычисляем и визуализализируем `feature importance` для тестового датасета"
   ]
  },
  {
   "cell_type": "code",
   "execution_count": 79,
   "metadata": {},
   "outputs": [
    {
     "data": {
      "text/html": [
       "<div>\n",
       "<style scoped>\n",
       "    .dataframe tbody tr th:only-of-type {\n",
       "        vertical-align: middle;\n",
       "    }\n",
       "\n",
       "    .dataframe tbody tr th {\n",
       "        vertical-align: top;\n",
       "    }\n",
       "\n",
       "    .dataframe thead th {\n",
       "        text-align: right;\n",
       "    }\n",
       "</style>\n",
       "<table border=\"1\" class=\"dataframe\">\n",
       "  <thead>\n",
       "    <tr style=\"text-align: right;\">\n",
       "      <th></th>\n",
       "      <th>is_canceled</th>\n",
       "      <th>lead_time</th>\n",
       "      <th>arrival_date_year</th>\n",
       "      <th>arrival_date_day_of_month</th>\n",
       "      <th>stays_in_weekend_nights</th>\n",
       "      <th>stays_in_week_nights</th>\n",
       "      <th>adults</th>\n",
       "      <th>children</th>\n",
       "      <th>babies</th>\n",
       "      <th>is_repeated_guest</th>\n",
       "      <th>previous_cancellations</th>\n",
       "      <th>previous_bookings_not_canceled</th>\n",
       "      <th>booking_changes</th>\n",
       "      <th>days_in_waiting_list</th>\n",
       "      <th>required_car_parking_spaces</th>\n",
       "      <th>total_of_special_requests</th>\n",
       "      <th>total_nights</th>\n",
       "      <th>winter_night_cost</th>\n",
       "      <th>one_time_cleaning_winter</th>\n",
       "      <th>season_coeff</th>\n",
       "      <th>arrival_date_month_August</th>\n",
       "      <th>arrival_date_month_December</th>\n",
       "      <th>arrival_date_month_February</th>\n",
       "      <th>arrival_date_month_January</th>\n",
       "      <th>arrival_date_month_July</th>\n",
       "      <th>arrival_date_month_June</th>\n",
       "      <th>arrival_date_month_March</th>\n",
       "      <th>arrival_date_month_May</th>\n",
       "      <th>arrival_date_month_November</th>\n",
       "      <th>arrival_date_month_October</th>\n",
       "      <th>arrival_date_month_September</th>\n",
       "      <th>meal_FB</th>\n",
       "      <th>meal_HB</th>\n",
       "      <th>meal_SC</th>\n",
       "      <th>meal_SC</th>\n",
       "      <th>distribution_channel_Direct</th>\n",
       "      <th>distribution_channel_GDS</th>\n",
       "      <th>distribution_channel_TA/TO</th>\n",
       "      <th>reserved_room_type_B</th>\n",
       "      <th>reserved_room_type_C</th>\n",
       "      <th>reserved_room_type_D</th>\n",
       "      <th>reserved_room_type_E</th>\n",
       "      <th>reserved_room_type_F</th>\n",
       "      <th>reserved_room_type_G</th>\n",
       "      <th>customer_type_Group</th>\n",
       "      <th>customer_type_Transient</th>\n",
       "      <th>customer_type_Transient-Party</th>\n",
       "    </tr>\n",
       "  </thead>\n",
       "  <tbody>\n",
       "    <tr>\n",
       "      <th>0</th>\n",
       "      <td>1</td>\n",
       "      <td>74</td>\n",
       "      <td>2017</td>\n",
       "      <td>1</td>\n",
       "      <td>1</td>\n",
       "      <td>0</td>\n",
       "      <td>2</td>\n",
       "      <td>0</td>\n",
       "      <td>0</td>\n",
       "      <td>0</td>\n",
       "      <td>0</td>\n",
       "      <td>0</td>\n",
       "      <td>0</td>\n",
       "      <td>0</td>\n",
       "      <td>0</td>\n",
       "      <td>0</td>\n",
       "      <td>1</td>\n",
       "      <td>1000</td>\n",
       "      <td>400</td>\n",
       "      <td>1.0</td>\n",
       "      <td>0</td>\n",
       "      <td>0</td>\n",
       "      <td>0</td>\n",
       "      <td>1</td>\n",
       "      <td>0</td>\n",
       "      <td>0</td>\n",
       "      <td>0</td>\n",
       "      <td>0</td>\n",
       "      <td>0</td>\n",
       "      <td>0</td>\n",
       "      <td>0</td>\n",
       "      <td>0</td>\n",
       "      <td>0</td>\n",
       "      <td>0</td>\n",
       "      <td>0</td>\n",
       "      <td>0</td>\n",
       "      <td>0</td>\n",
       "      <td>1</td>\n",
       "      <td>0</td>\n",
       "      <td>0</td>\n",
       "      <td>0</td>\n",
       "      <td>0</td>\n",
       "      <td>0</td>\n",
       "      <td>0</td>\n",
       "      <td>0</td>\n",
       "      <td>1</td>\n",
       "      <td>0</td>\n",
       "    </tr>\n",
       "    <tr>\n",
       "      <th>1</th>\n",
       "      <td>1</td>\n",
       "      <td>62</td>\n",
       "      <td>2017</td>\n",
       "      <td>1</td>\n",
       "      <td>2</td>\n",
       "      <td>2</td>\n",
       "      <td>2</td>\n",
       "      <td>0</td>\n",
       "      <td>0</td>\n",
       "      <td>0</td>\n",
       "      <td>0</td>\n",
       "      <td>0</td>\n",
       "      <td>0</td>\n",
       "      <td>0</td>\n",
       "      <td>0</td>\n",
       "      <td>1</td>\n",
       "      <td>4</td>\n",
       "      <td>1000</td>\n",
       "      <td>400</td>\n",
       "      <td>1.0</td>\n",
       "      <td>0</td>\n",
       "      <td>0</td>\n",
       "      <td>0</td>\n",
       "      <td>1</td>\n",
       "      <td>0</td>\n",
       "      <td>0</td>\n",
       "      <td>0</td>\n",
       "      <td>0</td>\n",
       "      <td>0</td>\n",
       "      <td>0</td>\n",
       "      <td>0</td>\n",
       "      <td>0</td>\n",
       "      <td>0</td>\n",
       "      <td>0</td>\n",
       "      <td>0</td>\n",
       "      <td>0</td>\n",
       "      <td>0</td>\n",
       "      <td>1</td>\n",
       "      <td>0</td>\n",
       "      <td>0</td>\n",
       "      <td>0</td>\n",
       "      <td>0</td>\n",
       "      <td>0</td>\n",
       "      <td>0</td>\n",
       "      <td>0</td>\n",
       "      <td>1</td>\n",
       "      <td>0</td>\n",
       "    </tr>\n",
       "    <tr>\n",
       "      <th>2</th>\n",
       "      <td>1</td>\n",
       "      <td>62</td>\n",
       "      <td>2017</td>\n",
       "      <td>1</td>\n",
       "      <td>2</td>\n",
       "      <td>2</td>\n",
       "      <td>2</td>\n",
       "      <td>0</td>\n",
       "      <td>0</td>\n",
       "      <td>0</td>\n",
       "      <td>0</td>\n",
       "      <td>0</td>\n",
       "      <td>0</td>\n",
       "      <td>0</td>\n",
       "      <td>0</td>\n",
       "      <td>1</td>\n",
       "      <td>4</td>\n",
       "      <td>600</td>\n",
       "      <td>350</td>\n",
       "      <td>1.0</td>\n",
       "      <td>0</td>\n",
       "      <td>0</td>\n",
       "      <td>0</td>\n",
       "      <td>1</td>\n",
       "      <td>0</td>\n",
       "      <td>0</td>\n",
       "      <td>0</td>\n",
       "      <td>0</td>\n",
       "      <td>0</td>\n",
       "      <td>0</td>\n",
       "      <td>0</td>\n",
       "      <td>0</td>\n",
       "      <td>0</td>\n",
       "      <td>0</td>\n",
       "      <td>0</td>\n",
       "      <td>0</td>\n",
       "      <td>0</td>\n",
       "      <td>1</td>\n",
       "      <td>0</td>\n",
       "      <td>0</td>\n",
       "      <td>0</td>\n",
       "      <td>0</td>\n",
       "      <td>0</td>\n",
       "      <td>0</td>\n",
       "      <td>0</td>\n",
       "      <td>1</td>\n",
       "      <td>0</td>\n",
       "    </tr>\n",
       "    <tr>\n",
       "      <th>3</th>\n",
       "      <td>1</td>\n",
       "      <td>71</td>\n",
       "      <td>2017</td>\n",
       "      <td>1</td>\n",
       "      <td>2</td>\n",
       "      <td>2</td>\n",
       "      <td>1</td>\n",
       "      <td>0</td>\n",
       "      <td>0</td>\n",
       "      <td>0</td>\n",
       "      <td>0</td>\n",
       "      <td>0</td>\n",
       "      <td>0</td>\n",
       "      <td>0</td>\n",
       "      <td>0</td>\n",
       "      <td>1</td>\n",
       "      <td>4</td>\n",
       "      <td>600</td>\n",
       "      <td>350</td>\n",
       "      <td>1.0</td>\n",
       "      <td>0</td>\n",
       "      <td>0</td>\n",
       "      <td>0</td>\n",
       "      <td>1</td>\n",
       "      <td>0</td>\n",
       "      <td>0</td>\n",
       "      <td>0</td>\n",
       "      <td>0</td>\n",
       "      <td>0</td>\n",
       "      <td>0</td>\n",
       "      <td>0</td>\n",
       "      <td>0</td>\n",
       "      <td>0</td>\n",
       "      <td>0</td>\n",
       "      <td>0</td>\n",
       "      <td>0</td>\n",
       "      <td>0</td>\n",
       "      <td>1</td>\n",
       "      <td>0</td>\n",
       "      <td>0</td>\n",
       "      <td>0</td>\n",
       "      <td>0</td>\n",
       "      <td>0</td>\n",
       "      <td>0</td>\n",
       "      <td>0</td>\n",
       "      <td>1</td>\n",
       "      <td>0</td>\n",
       "    </tr>\n",
       "    <tr>\n",
       "      <th>4</th>\n",
       "      <td>1</td>\n",
       "      <td>172</td>\n",
       "      <td>2017</td>\n",
       "      <td>1</td>\n",
       "      <td>2</td>\n",
       "      <td>5</td>\n",
       "      <td>2</td>\n",
       "      <td>0</td>\n",
       "      <td>0</td>\n",
       "      <td>0</td>\n",
       "      <td>0</td>\n",
       "      <td>0</td>\n",
       "      <td>0</td>\n",
       "      <td>0</td>\n",
       "      <td>0</td>\n",
       "      <td>0</td>\n",
       "      <td>7</td>\n",
       "      <td>1000</td>\n",
       "      <td>400</td>\n",
       "      <td>1.0</td>\n",
       "      <td>0</td>\n",
       "      <td>0</td>\n",
       "      <td>0</td>\n",
       "      <td>1</td>\n",
       "      <td>0</td>\n",
       "      <td>0</td>\n",
       "      <td>0</td>\n",
       "      <td>0</td>\n",
       "      <td>0</td>\n",
       "      <td>0</td>\n",
       "      <td>0</td>\n",
       "      <td>0</td>\n",
       "      <td>0</td>\n",
       "      <td>0</td>\n",
       "      <td>0</td>\n",
       "      <td>0</td>\n",
       "      <td>0</td>\n",
       "      <td>1</td>\n",
       "      <td>0</td>\n",
       "      <td>0</td>\n",
       "      <td>0</td>\n",
       "      <td>0</td>\n",
       "      <td>0</td>\n",
       "      <td>0</td>\n",
       "      <td>0</td>\n",
       "      <td>1</td>\n",
       "      <td>0</td>\n",
       "    </tr>\n",
       "  </tbody>\n",
       "</table>\n",
       "</div>"
      ],
      "text/plain": [
       "   is_canceled  lead_time  arrival_date_year  arrival_date_day_of_month  \\\n",
       "0            1         74               2017                          1   \n",
       "1            1         62               2017                          1   \n",
       "2            1         62               2017                          1   \n",
       "3            1         71               2017                          1   \n",
       "4            1        172               2017                          1   \n",
       "\n",
       "   stays_in_weekend_nights  stays_in_week_nights  adults  children  babies  \\\n",
       "0                        1                     0       2         0       0   \n",
       "1                        2                     2       2         0       0   \n",
       "2                        2                     2       2         0       0   \n",
       "3                        2                     2       1         0       0   \n",
       "4                        2                     5       2         0       0   \n",
       "\n",
       "   is_repeated_guest  previous_cancellations  previous_bookings_not_canceled  \\\n",
       "0                  0                       0                               0   \n",
       "1                  0                       0                               0   \n",
       "2                  0                       0                               0   \n",
       "3                  0                       0                               0   \n",
       "4                  0                       0                               0   \n",
       "\n",
       "   booking_changes  days_in_waiting_list  required_car_parking_spaces  \\\n",
       "0                0                     0                            0   \n",
       "1                0                     0                            0   \n",
       "2                0                     0                            0   \n",
       "3                0                     0                            0   \n",
       "4                0                     0                            0   \n",
       "\n",
       "   total_of_special_requests  total_nights  winter_night_cost  \\\n",
       "0                          0             1               1000   \n",
       "1                          1             4               1000   \n",
       "2                          1             4                600   \n",
       "3                          1             4                600   \n",
       "4                          0             7               1000   \n",
       "\n",
       "   one_time_cleaning_winter  season_coeff  arrival_date_month_August  \\\n",
       "0                       400           1.0                          0   \n",
       "1                       400           1.0                          0   \n",
       "2                       350           1.0                          0   \n",
       "3                       350           1.0                          0   \n",
       "4                       400           1.0                          0   \n",
       "\n",
       "   arrival_date_month_December  arrival_date_month_February  \\\n",
       "0                            0                            0   \n",
       "1                            0                            0   \n",
       "2                            0                            0   \n",
       "3                            0                            0   \n",
       "4                            0                            0   \n",
       "\n",
       "   arrival_date_month_January  arrival_date_month_July  \\\n",
       "0                           1                        0   \n",
       "1                           1                        0   \n",
       "2                           1                        0   \n",
       "3                           1                        0   \n",
       "4                           1                        0   \n",
       "\n",
       "   arrival_date_month_June  arrival_date_month_March  arrival_date_month_May  \\\n",
       "0                        0                         0                       0   \n",
       "1                        0                         0                       0   \n",
       "2                        0                         0                       0   \n",
       "3                        0                         0                       0   \n",
       "4                        0                         0                       0   \n",
       "\n",
       "   arrival_date_month_November  arrival_date_month_October  \\\n",
       "0                            0                           0   \n",
       "1                            0                           0   \n",
       "2                            0                           0   \n",
       "3                            0                           0   \n",
       "4                            0                           0   \n",
       "\n",
       "   arrival_date_month_September  meal_FB         meal_HB         meal_SC  \\\n",
       "0                             0               0               0        0   \n",
       "1                             0               0               0        0   \n",
       "2                             0               0               0        0   \n",
       "3                             0               0               0        0   \n",
       "4                             0               0               0        0   \n",
       "\n",
       "   meal_SC         distribution_channel_Direct  distribution_channel_GDS  \\\n",
       "0               0                            0                         0   \n",
       "1               0                            0                         0   \n",
       "2               0                            0                         0   \n",
       "3               0                            0                         0   \n",
       "4               0                            0                         0   \n",
       "\n",
       "   distribution_channel_TA/TO  reserved_room_type_B                 \\\n",
       "0                           1                                    0   \n",
       "1                           1                                    0   \n",
       "2                           1                                    0   \n",
       "3                           1                                    0   \n",
       "4                           1                                    0   \n",
       "\n",
       "   reserved_room_type_C                 reserved_room_type_D                 \\\n",
       "0                                    0                                    0   \n",
       "1                                    0                                    0   \n",
       "2                                    0                                    0   \n",
       "3                                    0                                    0   \n",
       "4                                    0                                    0   \n",
       "\n",
       "   reserved_room_type_E                 reserved_room_type_F                 \\\n",
       "0                                    0                                    0   \n",
       "1                                    0                                    0   \n",
       "2                                    0                                    0   \n",
       "3                                    0                                    0   \n",
       "4                                    0                                    0   \n",
       "\n",
       "   reserved_room_type_G                 customer_type_Group  \\\n",
       "0                                    0                    0   \n",
       "1                                    0                    0   \n",
       "2                                    0                    0   \n",
       "3                                    0                    0   \n",
       "4                                    0                    0   \n",
       "\n",
       "   customer_type_Transient  customer_type_Transient-Party  \n",
       "0                        1                              0  \n",
       "1                        1                              0  \n",
       "2                        1                              0  \n",
       "3                        1                              0  \n",
       "4                        1                              0  "
      ]
     },
     "metadata": {},
     "output_type": "display_data"
    },
    {
     "data": {
      "image/png": "[encoded data removed]",
      "text/plain": [
       "<Figure size 1152x1008 with 1 Axes>"
      ]
     },
     "metadata": {
      "needs_background": "light"
     },
     "output_type": "display_data"
    }
   ],
   "source": [
    "df_test_v = pd.DataFrame(data=df_test_ohe, columns=df_test_ohe_col)\n",
    "df_test_v['is_canceled'] = df_test_ohe['is_canceled']\n",
    "display(df_test_v.head())\n",
    "\n",
    "model = DecisionTreeClassifier(random_state=12345, max_depth = 4)\n",
    "model.fit(X = df_test_v.drop(['is_canceled'], axis=1),\n",
    "y = df_test_v['is_canceled'])\n",
    "\n",
    "df_test_imp = pd.Series(model.feature_importances_, df_test_v.drop(['is_canceled'], axis=1).columns)\n",
    "fig, ax = plt.subplots(figsize=(16,14))\n",
    "\n",
    "df_test_imp.plot.bar(ax=ax)\n",
    "ax.set_title(\"Важность признаков\")\n",
    "ax.set_xlabel('Признаки')\n",
    "ax.set_ylabel('Важность')\n",
    "fig.tight_layout()"
   ]
  },
  {
   "cell_type": "markdown",
   "metadata": {},
   "source": [
    "`Вывод:` наибольшее влиеяние в порядке убывания, оказали параметры: \n",
    "\n",
    "*lead_time* \n",
    "\n",
    "*customer_type_Transient* \n",
    "\n",
    "*total_of_special_requests* "
   ]
  },
  {
   "cell_type": "markdown",
   "metadata": {},
   "source": [
    "Посмотрим, как именно эти значения оказывают влияние на отказ от бронирования."
   ]
  },
  {
   "cell_type": "markdown",
   "metadata": {},
   "source": [
    "**Проверяем `lead_time`**"
   ]
  },
  {
   "cell_type": "code",
   "execution_count": 80,
   "metadata": {},
   "outputs": [],
   "source": [
    "# создаём список вместо array\n",
    "lead_time_list = df_test_ohe['lead_time'].unique()\n",
    "lead_time_list = pd.Series(lead_time_list)"
   ]
  },
  {
   "cell_type": "markdown",
   "metadata": {},
   "source": [
    "Проходимся циклом по всем значения `lead_time` чтобы понять при каких его значениях наблюдается наибольшее количество отмен"
   ]
  },
  {
   "cell_type": "code",
   "execution_count": 81,
   "metadata": {},
   "outputs": [
    {
     "name": "stdout",
     "output_type": "stream",
     "text": [
      "Большинство отмен:                      177\n",
      "Наблюдается для  \"Lead time в днях\":    56\n"
     ]
    }
   ],
   "source": [
    "most_cancellations = 0\n",
    "best_lt = 0\n",
    "\n",
    "for i in lead_time_list:\n",
    "    cancellations = df_test_ohe.loc[(df_test_ohe['lead_time'] == i) & (df_test_ohe['is_canceled'] == 1), 'is_canceled'].count()\n",
    "    \n",
    "    if cancellations > most_cancellations:\n",
    "        most_cancellations = cancellations\n",
    "        best_lt = i\n",
    "print('Большинство отмен:                     ', most_cancellations)\n",
    "print('Наблюдается для  \"Lead time в днях\":   ', best_lt)"
   ]
  },
  {
   "cell_type": "markdown",
   "metadata": {},
   "source": [
    "Создаём график для наглядности"
   ]
  },
  {
   "cell_type": "code",
   "execution_count": 82,
   "metadata": {},
   "outputs": [
    {
     "data": {
      "text/plain": [
       "Text(0, 0.5, 'Статус отмены (1 - отмена, 0 - нет отмены')"
      ]
     },
     "execution_count": 82,
     "metadata": {},
     "output_type": "execute_result"
    },
    {
     "data": {
      "image/png": "[encoded data removed]",
      "text/plain": [
       "<Figure size 432x288 with 1 Axes>"
      ]
     },
     "metadata": {
      "needs_background": "light"
     },
     "output_type": "display_data"
    }
   ],
   "source": [
    "pd.crosstab(df_test_ohe['lead_time'], df_test_ohe['is_canceled']).plot(kind = 'bar')\n",
    "plt.title('Отмены бронирований')\n",
    "plt.xlabel('Отмены')\n",
    "plt.ylabel('Статус отмены (1 - отмена, 0 - нет отмены')"
   ]
  },
  {
   "cell_type": "markdown",
   "metadata": {},
   "source": [
    "`Вывод:` Большинство отмен наблюдаются для отметки 56 дней между датой бронирования и датой прибытия"
   ]
  },
  {
   "cell_type": "markdown",
   "metadata": {},
   "source": [
    "**Проверяем `total_of_special_requests`**"
   ]
  },
  {
   "cell_type": "code",
   "execution_count": 83,
   "metadata": {},
   "outputs": [
    {
     "data": {
      "text/plain": [
       "array([0, 1, 2, 3, 4, 5])"
      ]
     },
     "execution_count": 83,
     "metadata": {},
     "output_type": "execute_result"
    }
   ],
   "source": [
    "# уникальные значения\n",
    "df_test_ohe['total_of_special_requests'].unique()"
   ]
  },
  {
   "cell_type": "code",
   "execution_count": 84,
   "metadata": {},
   "outputs": [
    {
     "data": {
      "text/plain": [
       "8575"
      ]
     },
     "execution_count": 84,
     "metadata": {},
     "output_type": "execute_result"
    }
   ],
   "source": [
    "# находим количество отмен для значения ['total_of_special_requests'] == 0\n",
    "df_test_ohe.loc[(df_test_ohe['total_of_special_requests'] == 0) & (df_test_ohe['is_canceled'] == 1), 'is_canceled'].count()"
   ]
  },
  {
   "cell_type": "markdown",
   "metadata": {},
   "source": [
    "Создаём график для наглядности"
   ]
  },
  {
   "cell_type": "code",
   "execution_count": 85,
   "metadata": {},
   "outputs": [
    {
     "data": {
      "text/plain": [
       "Text(0, 0.5, 'Статус отмены (1 - отмена, 0 - нет отмены')"
      ]
     },
     "execution_count": 85,
     "metadata": {},
     "output_type": "execute_result"
    },
    {
     "data": {
      "image/png": "[encoded data removed]",
      "text/plain": [
       "<Figure size 432x288 with 1 Axes>"
      ]
     },
     "metadata": {
      "needs_background": "light"
     },
     "output_type": "display_data"
    }
   ],
   "source": [
    "pd.crosstab(df_test_ohe['total_of_special_requests'], df_test_ohe['is_canceled']).plot(kind = 'bar')\n",
    "plt.title('Отмены бронирований')\n",
    "plt.xlabel('Спец отметки')\n",
    "plt.ylabel('Статус отмены (1 - отмена, 0 - нет отмены')"
   ]
  },
  {
   "cell_type": "markdown",
   "metadata": {},
   "source": [
    "`Вывод:` Большинство отмен наблюдаются для спец-отметки - 0."
   ]
  },
  {
   "cell_type": "markdown",
   "metadata": {},
   "source": [
    "**Проверяем `customer_type_Transient`**"
   ]
  },
  {
   "cell_type": "code",
   "execution_count": 86,
   "metadata": {},
   "outputs": [
    {
     "data": {
      "text/plain": [
       "array([1, 0], dtype=uint8)"
      ]
     },
     "execution_count": 86,
     "metadata": {},
     "output_type": "execute_result"
    }
   ],
   "source": [
    "# уникальные значения\n",
    "df_test_ohe['customer_type_Transient'].unique()"
   ]
  },
  {
   "cell_type": "code",
   "execution_count": 87,
   "metadata": {},
   "outputs": [
    {
     "data": {
      "text/plain": [
       "11805"
      ]
     },
     "execution_count": 87,
     "metadata": {},
     "output_type": "execute_result"
    }
   ],
   "source": [
    "# находим количество отмен для значения ['customer_type_Transient'] == 1\n",
    "df_test_ohe.loc[(df_test_ohe['customer_type_Transient'] == 1) & (df_test_ohe['is_canceled'] == 1), 'is_canceled'].count()"
   ]
  },
  {
   "cell_type": "markdown",
   "metadata": {},
   "source": [
    "Создаём график для наглядности"
   ]
  },
  {
   "cell_type": "code",
   "execution_count": 88,
   "metadata": {},
   "outputs": [
    {
     "data": {
      "text/plain": [
       "Text(0, 0.5, 'Статус отмены (1 - отмена, 0 - нет отмены')"
      ]
     },
     "execution_count": 88,
     "metadata": {},
     "output_type": "execute_result"
    },
    {
     "data": {
      "image/png": "[encoded data removed]",
      "text/plain": [
       "<Figure size 432x288 with 1 Axes>"
      ]
     },
     "metadata": {
      "needs_background": "light"
     },
     "output_type": "display_data"
    }
   ],
   "source": [
    "pd.crosstab(df_test_ohe['customer_type_Transient'], df_test_ohe['is_canceled']).plot(kind = 'bar')\n",
    "plt.title('Отмены бронирований')\n",
    "plt.xlabel('Тип заказчика - \"не связано с договором или групповым заездом\"')\n",
    "plt.ylabel('Статус отмены (1 - отмена, 0 - нет отмены')"
   ]
  },
  {
   "cell_type": "markdown",
   "metadata": {},
   "source": [
    "`Вывод:` Большинство отмен наблюдаются для типа заказчика - \"не связано с договором или групповым заездом\""
   ]
  },
  {
   "cell_type": "markdown",
   "metadata": {},
   "source": [
    "`Общий вывод, портрет ненадёжного клиента:`\n",
    "\n",
    "По результатам предсказаний модели, самое большое влияние, с большим отрываом, на целевой признак (отказ от бронирования) оказало `lead_time` — количество дней между датой бронирования и датой. \n",
    "\n",
    "На втором месте идёт день месяца - `customer_type_Transient` — тип заказчика. и с небольшим отвывом `total_of_special_requests` — количество специальных отметок.\n",
    "\n",
    "Портрет ненадёжного клиента склонного к отмене бронирования номера:\n",
    "\n",
    "- Клиент у которого между датой бронирования и датой прибытия прошло 56 дней \n",
    "- Клиенты со спец-отметкой - 0.\n",
    "- Клиенты относящиеся к типу заказчика - \"не связано с договором или групповым заездом\""
   ]
  },
  {
   "cell_type": "markdown",
   "metadata": {},
   "source": [
    "### 1.1.7. <a id='toc1_1_7_'></a>[Шаг 6. Напишите общий вывод](#toc0_)"
   ]
  },
  {
   "cell_type": "markdown",
   "metadata": {},
   "source": [
    "**Резюме:**"
   ]
  },
  {
   "cell_type": "markdown",
   "metadata": {},
   "source": [
    "В результате проведённого исследования, наилучшей моделью для предсказания отмены бронирования окакзалась модель Дерева решений тк показала лучшую метрику полноты которая является ключевой в данной задаче.\n",
    "\n",
    "Самой важной метрикой для задачи является `полнота (Recall)` тк эта метрика определяет количество истинно положительных среди всех меток класса, которые были определены как «положительный». Эта оценочная метрика особенно важна когда в поставленной задаче ошибка нераспознания положительного класса высока. В нашем случае, нераспознание положительного класса приведёт неверной к оценке отказавшихся от бронирования постояльцев и как результат неверный прогноз отказников. Это приведёт к непредвиденным убыткам.\n",
    "\n",
    "В нашем кейсе наибольшую эффективность и точность показала модель:\n",
    "\n",
    "`DecisionTreeClassifier(max_depth=19, random_state=12345)`\n"
   ]
  },
  {
   "cell_type": "markdown",
   "metadata": {},
   "source": [
    "**Рекомендации:**"
   ]
  },
  {
   "cell_type": "markdown",
   "metadata": {},
   "source": [
    "При выборе потенциальных постояльцев с которых стоит брать депозитную предоплату считаю целесообразным обратить внимание на следущие категории постояльцев:\n",
    "\n",
    "\n",
    "По результатам предсказаний модели, самое большое влияние, с большим отрываом, на целевой признак (отказ от бронирования) оказало `lead_time` — количество дней между датой бронирования и датой. \n",
    "\n",
    "На втором месте идёт день месяца - `customer_type_Transient` — тип заказчика и с небольшим отвывом `total_of_special_requests` — количество специальных отметок.\n",
    "\n",
    "Следует избегать клиентов близких к портрету ненедёжного клиента, которым является следующий набор характеристик:\n",
    "\n",
    "\n",
    "- Клиент у которого между датой бронирования и датой прибытия прошло 56 дней \n",
    "- Клиенты со спец-отметкой - 0.\n",
    "- Клиенты относящиеся к типу заказчика - \"не связано с договором или групповым заездом\""
   ]
  }
 ],
 "metadata": {
  "ExecuteTimeLog": [
   {
    "duration": 1896,
    "start_time": "2022-12-30T13:21:51.055Z"
   },
   {
    "duration": 2,
    "start_time": "2022-12-30T13:21:52.954Z"
   },
   {
    "duration": 1337,
    "start_time": "2022-12-30T13:21:52.968Z"
   },
   {
    "duration": 5,
    "start_time": "2022-12-30T13:21:54.309Z"
   },
   {
    "duration": 226,
    "start_time": "2022-12-30T13:21:54.316Z"
   },
   {
    "duration": 191,
    "start_time": "2022-12-30T13:21:54.544Z"
   },
   {
    "duration": 20,
    "start_time": "2022-12-30T13:21:54.736Z"
   },
   {
    "duration": 64,
    "start_time": "2022-12-30T13:21:54.757Z"
   },
   {
    "duration": 11,
    "start_time": "2022-12-30T13:21:54.822Z"
   },
   {
    "duration": 5,
    "start_time": "2022-12-30T13:21:54.837Z"
   },
   {
    "duration": 9,
    "start_time": "2022-12-30T13:21:54.844Z"
   },
   {
    "duration": 155,
    "start_time": "2022-12-30T13:21:54.855Z"
   },
   {
    "duration": 103,
    "start_time": "2022-12-30T13:21:55.013Z"
   },
   {
    "duration": 26,
    "start_time": "2022-12-30T13:21:55.119Z"
   },
   {
    "duration": 20,
    "start_time": "2022-12-30T13:21:55.147Z"
   },
   {
    "duration": 34,
    "start_time": "2022-12-30T13:21:55.179Z"
   },
   {
    "duration": 214,
    "start_time": "2022-12-30T13:21:55.216Z"
   },
   {
    "duration": 1817,
    "start_time": "2022-12-30T13:21:55.432Z"
   },
   {
    "duration": 8,
    "start_time": "2022-12-30T13:21:57.251Z"
   },
   {
    "duration": 21,
    "start_time": "2022-12-30T13:21:57.261Z"
   },
   {
    "duration": 48,
    "start_time": "2022-12-30T13:21:57.284Z"
   },
   {
    "duration": 2002,
    "start_time": "2022-12-30T13:21:57.334Z"
   },
   {
    "duration": 64,
    "start_time": "2022-12-30T13:21:59.338Z"
   },
   {
    "duration": 12,
    "start_time": "2022-12-30T13:21:59.406Z"
   },
   {
    "duration": 828,
    "start_time": "2022-12-30T13:21:59.421Z"
   },
   {
    "duration": 33,
    "start_time": "2022-12-30T13:22:00.251Z"
   },
   {
    "duration": 3055,
    "start_time": "2022-12-30T13:22:00.288Z"
   },
   {
    "duration": 324,
    "start_time": "2022-12-30T13:22:03.350Z"
   },
   {
    "duration": 201,
    "start_time": "2022-12-30T13:22:03.676Z"
   },
   {
    "duration": 345,
    "start_time": "2022-12-30T13:22:03.886Z"
   },
   {
    "duration": 493,
    "start_time": "2022-12-30T13:22:04.234Z"
   },
   {
    "duration": 191,
    "start_time": "2022-12-30T13:22:04.729Z"
   },
   {
    "duration": 220,
    "start_time": "2022-12-30T13:22:04.923Z"
   },
   {
    "duration": 206,
    "start_time": "2022-12-30T13:22:05.145Z"
   },
   {
    "duration": 29,
    "start_time": "2022-12-30T13:22:05.353Z"
   },
   {
    "duration": 213,
    "start_time": "2022-12-30T13:22:05.391Z"
   },
   {
    "duration": 36,
    "start_time": "2022-12-30T13:22:05.607Z"
   },
   {
    "duration": 245,
    "start_time": "2022-12-30T13:22:05.645Z"
   },
   {
    "duration": 225,
    "start_time": "2022-12-30T13:22:05.893Z"
   },
   {
    "duration": 454,
    "start_time": "2022-12-30T13:22:06.120Z"
   },
   {
    "duration": 259,
    "start_time": "2022-12-30T13:22:06.576Z"
   },
   {
    "duration": 215,
    "start_time": "2022-12-30T13:22:06.837Z"
   },
   {
    "duration": 294,
    "start_time": "2022-12-30T13:22:07.054Z"
   },
   {
    "duration": 25,
    "start_time": "2022-12-30T13:22:07.350Z"
   },
   {
    "duration": 243,
    "start_time": "2022-12-30T13:22:07.377Z"
   },
   {
    "duration": 32,
    "start_time": "2022-12-30T13:22:07.623Z"
   },
   {
    "duration": 4,
    "start_time": "2022-12-30T13:22:07.658Z"
   },
   {
    "duration": 692,
    "start_time": "2022-12-30T13:22:07.663Z"
   },
   {
    "duration": 11,
    "start_time": "2022-12-30T13:22:08.356Z"
   },
   {
    "duration": 54,
    "start_time": "2022-12-30T13:22:08.369Z"
   },
   {
    "duration": 28,
    "start_time": "2022-12-30T13:22:08.425Z"
   },
   {
    "duration": 61,
    "start_time": "2022-12-30T13:22:08.456Z"
   },
   {
    "duration": 24,
    "start_time": "2022-12-30T13:22:08.519Z"
   },
   {
    "duration": 32,
    "start_time": "2022-12-30T13:22:08.545Z"
   },
   {
    "duration": 63,
    "start_time": "2022-12-30T13:22:08.585Z"
   },
   {
    "duration": 20,
    "start_time": "2022-12-30T13:22:08.650Z"
   },
   {
    "duration": 49,
    "start_time": "2022-12-30T13:22:08.671Z"
   },
   {
    "duration": 21,
    "start_time": "2022-12-30T13:22:08.722Z"
   },
   {
    "duration": 55,
    "start_time": "2022-12-30T13:22:08.744Z"
   },
   {
    "duration": 54,
    "start_time": "2022-12-30T13:22:08.801Z"
   },
   {
    "duration": 17,
    "start_time": "2022-12-30T13:22:08.856Z"
   },
   {
    "duration": 61,
    "start_time": "2022-12-30T13:22:08.875Z"
   },
   {
    "duration": 4,
    "start_time": "2022-12-30T13:22:08.938Z"
   },
   {
    "duration": 138,
    "start_time": "2022-12-30T13:22:08.944Z"
   },
   {
    "duration": 32300,
    "start_time": "2022-12-30T13:22:09.086Z"
   },
   {
    "duration": 27261,
    "start_time": "2022-12-30T13:22:41.388Z"
   },
   {
    "duration": 493222,
    "start_time": "2022-12-30T13:23:08.651Z"
   },
   {
    "duration": 365,
    "start_time": "2022-12-30T13:31:21.874Z"
   },
   {
    "duration": 5,
    "start_time": "2022-12-30T13:31:22.240Z"
   },
   {
    "duration": 9,
    "start_time": "2022-12-30T13:31:22.246Z"
   },
   {
    "duration": 26,
    "start_time": "2022-12-30T13:31:22.256Z"
   },
   {
    "duration": 10,
    "start_time": "2022-12-30T13:31:22.284Z"
   },
   {
    "duration": 659,
    "start_time": "2022-12-30T13:31:22.296Z"
   },
   {
    "duration": 181,
    "start_time": "2022-12-30T13:31:22.956Z"
   },
   {
    "duration": 270,
    "start_time": "2022-12-30T13:31:23.139Z"
   },
   {
    "duration": 20,
    "start_time": "2022-12-30T13:31:23.411Z"
   },
   {
    "duration": 216,
    "start_time": "2022-12-30T13:31:23.433Z"
   },
   {
    "duration": 1568,
    "start_time": "2023-01-05T11:37:38.025Z"
   },
   {
    "duration": 2,
    "start_time": "2023-01-05T11:37:39.596Z"
   },
   {
    "duration": 359,
    "start_time": "2023-01-05T11:37:39.601Z"
   },
   {
    "duration": 4,
    "start_time": "2023-01-05T11:37:39.963Z"
   },
   {
    "duration": 245,
    "start_time": "2023-01-05T11:37:39.969Z"
   },
   {
    "duration": 169,
    "start_time": "2023-01-05T11:37:40.215Z"
   },
   {
    "duration": 20,
    "start_time": "2023-01-05T11:37:40.386Z"
   },
   {
    "duration": 21,
    "start_time": "2023-01-05T11:37:40.408Z"
   },
   {
    "duration": 29,
    "start_time": "2023-01-05T11:37:40.431Z"
   },
   {
    "duration": 4,
    "start_time": "2023-01-05T11:37:40.463Z"
   },
   {
    "duration": 8,
    "start_time": "2023-01-05T11:37:40.469Z"
   },
   {
    "duration": 118,
    "start_time": "2023-01-05T11:37:40.479Z"
   },
   {
    "duration": 129,
    "start_time": "2023-01-05T11:37:40.599Z"
   },
   {
    "duration": 38,
    "start_time": "2023-01-05T11:37:40.730Z"
   },
   {
    "duration": 27,
    "start_time": "2023-01-05T11:37:40.769Z"
   },
   {
    "duration": 11,
    "start_time": "2023-01-05T11:37:40.798Z"
   },
   {
    "duration": 17,
    "start_time": "2023-01-05T11:37:40.811Z"
   },
   {
    "duration": 117,
    "start_time": "2023-01-05T11:37:40.829Z"
   },
   {
    "duration": 12,
    "start_time": "2023-01-05T11:37:40.951Z"
   },
   {
    "duration": 1102,
    "start_time": "2023-01-05T11:37:40.965Z"
   },
   {
    "duration": 8,
    "start_time": "2023-01-05T11:37:42.068Z"
   },
   {
    "duration": 7,
    "start_time": "2023-01-05T11:37:42.078Z"
   },
   {
    "duration": 8,
    "start_time": "2023-01-05T11:37:42.087Z"
   },
   {
    "duration": 1698,
    "start_time": "2023-01-05T11:37:42.097Z"
   },
   {
    "duration": 27,
    "start_time": "2023-01-05T11:37:43.797Z"
   },
   {
    "duration": 4,
    "start_time": "2023-01-05T11:37:43.826Z"
   },
   {
    "duration": 639,
    "start_time": "2023-01-05T11:37:43.831Z"
   },
   {
    "duration": 23,
    "start_time": "2023-01-05T11:37:44.474Z"
   },
   {
    "duration": 2424,
    "start_time": "2023-01-05T11:37:44.499Z"
   },
   {
    "duration": 170,
    "start_time": "2023-01-05T11:37:46.925Z"
   },
   {
    "duration": 162,
    "start_time": "2023-01-05T11:37:47.097Z"
   },
   {
    "duration": 385,
    "start_time": "2023-01-05T11:37:47.261Z"
   },
   {
    "duration": 382,
    "start_time": "2023-01-05T11:37:47.650Z"
   },
   {
    "duration": 178,
    "start_time": "2023-01-05T11:37:48.034Z"
   },
   {
    "duration": 202,
    "start_time": "2023-01-05T11:37:48.214Z"
   },
   {
    "duration": 185,
    "start_time": "2023-01-05T11:37:48.418Z"
   },
   {
    "duration": 26,
    "start_time": "2023-01-05T11:37:48.605Z"
   },
   {
    "duration": 194,
    "start_time": "2023-01-05T11:37:48.633Z"
   },
   {
    "duration": 33,
    "start_time": "2023-01-05T11:37:48.829Z"
   },
   {
    "duration": 206,
    "start_time": "2023-01-05T11:37:48.864Z"
   },
   {
    "duration": 246,
    "start_time": "2023-01-05T11:37:49.072Z"
   },
   {
    "duration": 300,
    "start_time": "2023-01-05T11:37:49.320Z"
   },
   {
    "duration": 262,
    "start_time": "2023-01-05T11:37:49.623Z"
   },
   {
    "duration": 296,
    "start_time": "2023-01-05T11:37:49.887Z"
   },
   {
    "duration": 279,
    "start_time": "2023-01-05T11:37:50.185Z"
   },
   {
    "duration": 25,
    "start_time": "2023-01-05T11:37:50.466Z"
   },
   {
    "duration": 227,
    "start_time": "2023-01-05T11:37:50.493Z"
   },
   {
    "duration": 30,
    "start_time": "2023-01-05T11:37:50.722Z"
   },
   {
    "duration": 182,
    "start_time": "2023-01-05T11:37:50.754Z"
   },
   {
    "duration": 16,
    "start_time": "2023-01-05T11:37:50.938Z"
   },
   {
    "duration": 4,
    "start_time": "2023-01-05T11:37:50.956Z"
   },
   {
    "duration": 589,
    "start_time": "2023-01-05T11:37:50.962Z"
   },
   {
    "duration": 13,
    "start_time": "2023-01-05T11:37:51.553Z"
   },
   {
    "duration": 18,
    "start_time": "2023-01-05T11:37:51.568Z"
   },
   {
    "duration": 18,
    "start_time": "2023-01-05T11:37:51.588Z"
   },
   {
    "duration": 67,
    "start_time": "2023-01-05T11:37:51.608Z"
   },
   {
    "duration": 24,
    "start_time": "2023-01-05T11:37:51.676Z"
   },
   {
    "duration": 21,
    "start_time": "2023-01-05T11:37:51.702Z"
   },
   {
    "duration": 25,
    "start_time": "2023-01-05T11:37:51.750Z"
   },
   {
    "duration": 22,
    "start_time": "2023-01-05T11:37:51.777Z"
   },
   {
    "duration": 13,
    "start_time": "2023-01-05T11:37:51.801Z"
   },
   {
    "duration": 36,
    "start_time": "2023-01-05T11:37:51.816Z"
   },
   {
    "duration": 26,
    "start_time": "2023-01-05T11:37:51.854Z"
   },
   {
    "duration": 24,
    "start_time": "2023-01-05T11:37:51.882Z"
   },
   {
    "duration": 5,
    "start_time": "2023-01-05T11:37:51.908Z"
   },
   {
    "duration": 55,
    "start_time": "2023-01-05T11:37:51.915Z"
   },
   {
    "duration": 4,
    "start_time": "2023-01-05T11:37:51.973Z"
   },
   {
    "duration": 101,
    "start_time": "2023-01-05T11:37:51.978Z"
   },
   {
    "duration": 31774,
    "start_time": "2023-01-05T11:37:52.081Z"
   },
   {
    "duration": 47964,
    "start_time": "2023-01-05T11:38:23.857Z"
   },
   {
    "duration": 516241,
    "start_time": "2023-01-05T11:39:11.823Z"
   },
   {
    "duration": 396,
    "start_time": "2023-01-05T11:47:48.066Z"
   },
   {
    "duration": 5,
    "start_time": "2023-01-05T11:47:48.463Z"
   },
   {
    "duration": 5,
    "start_time": "2023-01-05T11:47:48.470Z"
   },
   {
    "duration": 19,
    "start_time": "2023-01-05T11:47:48.476Z"
   },
   {
    "duration": 5,
    "start_time": "2023-01-05T11:47:48.496Z"
   },
   {
    "duration": 755,
    "start_time": "2023-01-05T11:47:48.502Z"
   },
   {
    "duration": 6,
    "start_time": "2023-01-05T11:47:49.259Z"
   },
   {
    "duration": 1147,
    "start_time": "2023-01-05T11:47:49.266Z"
   },
   {
    "duration": 4,
    "start_time": "2023-01-05T11:47:50.415Z"
   },
   {
    "duration": 229,
    "start_time": "2023-01-05T11:47:50.420Z"
   },
   {
    "duration": 5540,
    "start_time": "2023-01-05T11:47:50.654Z"
   },
   {
    "duration": 4,
    "start_time": "2023-01-05T11:47:56.196Z"
   },
   {
    "duration": 32,
    "start_time": "2023-01-05T11:47:56.202Z"
   },
   {
    "duration": 397,
    "start_time": "2023-01-05T11:47:56.250Z"
   },
   {
    "duration": 5,
    "start_time": "2023-01-05T11:47:56.650Z"
   },
   {
    "duration": 9,
    "start_time": "2023-01-05T11:47:56.656Z"
   },
   {
    "duration": 191,
    "start_time": "2023-01-05T11:47:56.667Z"
   },
   {
    "duration": 5,
    "start_time": "2023-01-05T11:47:56.860Z"
   },
   {
    "duration": 9,
    "start_time": "2023-01-05T11:47:56.866Z"
   },
   {
    "duration": 188,
    "start_time": "2023-01-05T11:47:56.876Z"
   },
   {
    "duration": 1689,
    "start_time": "2023-01-06T10:10:41.218Z"
   },
   {
    "duration": 4,
    "start_time": "2023-01-06T10:10:42.911Z"
   },
   {
    "duration": 541,
    "start_time": "2023-01-06T10:10:42.917Z"
   },
   {
    "duration": 4,
    "start_time": "2023-01-06T10:10:43.461Z"
   },
   {
    "duration": 260,
    "start_time": "2023-01-06T10:10:43.467Z"
   },
   {
    "duration": 167,
    "start_time": "2023-01-06T10:10:43.736Z"
   },
   {
    "duration": 32,
    "start_time": "2023-01-06T10:10:43.905Z"
   },
   {
    "duration": 31,
    "start_time": "2023-01-06T10:10:43.939Z"
   },
   {
    "duration": 25,
    "start_time": "2023-01-06T10:10:43.972Z"
   },
   {
    "duration": 13,
    "start_time": "2023-01-06T10:10:44.001Z"
   },
   {
    "duration": 45,
    "start_time": "2023-01-06T10:10:44.016Z"
   },
   {
    "duration": 132,
    "start_time": "2023-01-06T10:10:44.063Z"
   },
   {
    "duration": 102,
    "start_time": "2023-01-06T10:10:44.196Z"
   },
   {
    "duration": 26,
    "start_time": "2023-01-06T10:10:44.300Z"
   },
   {
    "duration": 23,
    "start_time": "2023-01-06T10:10:44.336Z"
   },
   {
    "duration": 21,
    "start_time": "2023-01-06T10:10:44.361Z"
   },
   {
    "duration": 27,
    "start_time": "2023-01-06T10:10:44.384Z"
   },
   {
    "duration": 117,
    "start_time": "2023-01-06T10:10:44.413Z"
   },
   {
    "duration": 12,
    "start_time": "2023-01-06T10:10:44.534Z"
   },
   {
    "duration": 1135,
    "start_time": "2023-01-06T10:10:44.548Z"
   },
   {
    "duration": 9,
    "start_time": "2023-01-06T10:10:45.684Z"
   },
   {
    "duration": 23,
    "start_time": "2023-01-06T10:10:45.694Z"
   },
   {
    "duration": 12,
    "start_time": "2023-01-06T10:10:45.718Z"
   },
   {
    "duration": 1868,
    "start_time": "2023-01-06T10:10:45.732Z"
   },
   {
    "duration": 40,
    "start_time": "2023-01-06T10:10:47.602Z"
   },
   {
    "duration": 3,
    "start_time": "2023-01-06T10:10:47.644Z"
   },
   {
    "duration": 672,
    "start_time": "2023-01-06T10:10:47.648Z"
   },
   {
    "duration": 27,
    "start_time": "2023-01-06T10:10:48.324Z"
   },
   {
    "duration": 2351,
    "start_time": "2023-01-06T10:10:48.353Z"
   },
   {
    "duration": 178,
    "start_time": "2023-01-06T10:10:50.707Z"
   },
   {
    "duration": 269,
    "start_time": "2023-01-06T10:10:50.887Z"
   },
   {
    "duration": 275,
    "start_time": "2023-01-06T10:10:51.158Z"
   },
   {
    "duration": 393,
    "start_time": "2023-01-06T10:10:51.435Z"
   },
   {
    "duration": 172,
    "start_time": "2023-01-06T10:10:51.830Z"
   },
   {
    "duration": 211,
    "start_time": "2023-01-06T10:10:52.004Z"
   },
   {
    "duration": 217,
    "start_time": "2023-01-06T10:10:52.218Z"
   },
   {
    "duration": 38,
    "start_time": "2023-01-06T10:10:52.438Z"
   },
   {
    "duration": 240,
    "start_time": "2023-01-06T10:10:52.479Z"
   },
   {
    "duration": 33,
    "start_time": "2023-01-06T10:10:52.721Z"
   },
   {
    "duration": 214,
    "start_time": "2023-01-06T10:10:52.756Z"
   },
   {
    "duration": 238,
    "start_time": "2023-01-06T10:10:52.973Z"
   },
   {
    "duration": 275,
    "start_time": "2023-01-06T10:10:53.213Z"
   },
   {
    "duration": 284,
    "start_time": "2023-01-06T10:10:53.490Z"
   },
   {
    "duration": 197,
    "start_time": "2023-01-06T10:10:53.775Z"
   },
   {
    "duration": 278,
    "start_time": "2023-01-06T10:10:53.973Z"
   },
   {
    "duration": 23,
    "start_time": "2023-01-06T10:10:54.253Z"
   },
   {
    "duration": 217,
    "start_time": "2023-01-06T10:10:54.278Z"
   },
   {
    "duration": 25,
    "start_time": "2023-01-06T10:10:54.496Z"
   },
   {
    "duration": 191,
    "start_time": "2023-01-06T10:10:54.536Z"
   },
   {
    "duration": 10,
    "start_time": "2023-01-06T10:10:54.728Z"
   },
   {
    "duration": 18,
    "start_time": "2023-01-06T10:10:54.742Z"
   },
   {
    "duration": 654,
    "start_time": "2023-01-06T10:10:54.762Z"
   },
   {
    "duration": 19,
    "start_time": "2023-01-06T10:10:55.418Z"
   },
   {
    "duration": 15,
    "start_time": "2023-01-06T10:10:55.439Z"
   },
   {
    "duration": 42,
    "start_time": "2023-01-06T10:10:55.455Z"
   },
   {
    "duration": 56,
    "start_time": "2023-01-06T10:10:55.499Z"
   },
   {
    "duration": 23,
    "start_time": "2023-01-06T10:10:55.557Z"
   },
   {
    "duration": 40,
    "start_time": "2023-01-06T10:10:55.582Z"
   },
   {
    "duration": 46,
    "start_time": "2023-01-06T10:10:55.624Z"
   },
   {
    "duration": 32,
    "start_time": "2023-01-06T10:10:55.672Z"
   },
   {
    "duration": 24,
    "start_time": "2023-01-06T10:10:55.706Z"
   },
   {
    "duration": 18,
    "start_time": "2023-01-06T10:10:55.732Z"
   },
   {
    "duration": 43,
    "start_time": "2023-01-06T10:10:55.752Z"
   },
   {
    "duration": 63,
    "start_time": "2023-01-06T10:10:55.796Z"
   },
   {
    "duration": 27,
    "start_time": "2023-01-06T10:10:55.861Z"
   },
   {
    "duration": 53,
    "start_time": "2023-01-06T10:10:55.890Z"
   },
   {
    "duration": 12,
    "start_time": "2023-01-06T10:10:55.945Z"
   },
   {
    "duration": 135,
    "start_time": "2023-01-06T10:10:55.959Z"
   },
   {
    "duration": 54558,
    "start_time": "2023-01-06T10:10:56.096Z"
   },
   {
    "duration": 45164,
    "start_time": "2023-01-06T10:11:50.657Z"
   },
   {
    "duration": 471706,
    "start_time": "2023-01-06T10:12:35.823Z"
   },
   {
    "duration": 369,
    "start_time": "2023-01-06T10:20:27.534Z"
   },
   {
    "duration": 6,
    "start_time": "2023-01-06T10:20:27.904Z"
   },
   {
    "duration": 11,
    "start_time": "2023-01-06T10:20:27.912Z"
   },
   {
    "duration": 21,
    "start_time": "2023-01-06T10:20:27.925Z"
   },
   {
    "duration": 7,
    "start_time": "2023-01-06T10:20:27.948Z"
   },
   {
    "duration": 675,
    "start_time": "2023-01-06T10:20:27.956Z"
   },
   {
    "duration": 4,
    "start_time": "2023-01-06T10:20:28.633Z"
   },
   {
    "duration": 1015,
    "start_time": "2023-01-06T10:20:28.639Z"
   },
   {
    "duration": 4,
    "start_time": "2023-01-06T10:20:29.656Z"
   },
   {
    "duration": 223,
    "start_time": "2023-01-06T10:20:29.662Z"
   },
   {
    "duration": 5097,
    "start_time": "2023-01-06T10:20:29.892Z"
   },
   {
    "duration": 4,
    "start_time": "2023-01-06T10:20:34.991Z"
   },
   {
    "duration": 40,
    "start_time": "2023-01-06T10:20:34.997Z"
   },
   {
    "duration": 377,
    "start_time": "2023-01-06T10:20:35.039Z"
   },
   {
    "duration": 5,
    "start_time": "2023-01-06T10:20:35.418Z"
   },
   {
    "duration": 6,
    "start_time": "2023-01-06T10:20:35.436Z"
   },
   {
    "duration": 181,
    "start_time": "2023-01-06T10:20:35.444Z"
   },
   {
    "duration": 10,
    "start_time": "2023-01-06T10:20:35.626Z"
   },
   {
    "duration": 14,
    "start_time": "2023-01-06T10:20:35.637Z"
   },
   {
    "duration": 169,
    "start_time": "2023-01-06T10:20:35.653Z"
   },
   {
    "duration": 1716,
    "start_time": "2023-01-06T18:05:09.757Z"
   },
   {
    "duration": 3,
    "start_time": "2023-01-06T18:05:11.475Z"
   },
   {
    "duration": 600,
    "start_time": "2023-01-06T18:05:11.480Z"
   },
   {
    "duration": 4,
    "start_time": "2023-01-06T18:05:12.083Z"
   },
   {
    "duration": 237,
    "start_time": "2023-01-06T18:05:12.089Z"
   },
   {
    "duration": 226,
    "start_time": "2023-01-06T18:05:12.338Z"
   },
   {
    "duration": 30,
    "start_time": "2023-01-06T18:05:12.566Z"
   },
   {
    "duration": 94,
    "start_time": "2023-01-06T18:05:12.598Z"
   },
   {
    "duration": 13,
    "start_time": "2023-01-06T18:05:12.695Z"
   },
   {
    "duration": 60,
    "start_time": "2023-01-06T18:05:12.712Z"
   },
   {
    "duration": 78,
    "start_time": "2023-01-06T18:05:12.774Z"
   },
   {
    "duration": 190,
    "start_time": "2023-01-06T18:05:12.854Z"
   },
   {
    "duration": 142,
    "start_time": "2023-01-06T18:05:13.046Z"
   },
   {
    "duration": 28,
    "start_time": "2023-01-06T18:05:13.190Z"
   },
   {
    "duration": 43,
    "start_time": "2023-01-06T18:05:13.220Z"
   },
   {
    "duration": 14,
    "start_time": "2023-01-06T18:05:13.265Z"
   },
   {
    "duration": 17,
    "start_time": "2023-01-06T18:05:13.281Z"
   },
   {
    "duration": 127,
    "start_time": "2023-01-06T18:05:13.300Z"
   },
   {
    "duration": 21,
    "start_time": "2023-01-06T18:05:13.429Z"
   },
   {
    "duration": 1193,
    "start_time": "2023-01-06T18:05:13.452Z"
   },
   {
    "duration": 23,
    "start_time": "2023-01-06T18:05:14.647Z"
   },
   {
    "duration": 28,
    "start_time": "2023-01-06T18:05:14.673Z"
   },
   {
    "duration": 36,
    "start_time": "2023-01-06T18:05:14.703Z"
   },
   {
    "duration": 2086,
    "start_time": "2023-01-06T18:05:14.742Z"
   },
   {
    "duration": 52,
    "start_time": "2023-01-06T18:05:16.831Z"
   },
   {
    "duration": 24,
    "start_time": "2023-01-06T18:05:16.886Z"
   },
   {
    "duration": 707,
    "start_time": "2023-01-06T18:05:16.912Z"
   },
   {
    "duration": 33,
    "start_time": "2023-01-06T18:05:17.625Z"
   },
   {
    "duration": 2569,
    "start_time": "2023-01-06T18:05:17.664Z"
   },
   {
    "duration": 243,
    "start_time": "2023-01-06T18:05:20.236Z"
   },
   {
    "duration": 328,
    "start_time": "2023-01-06T18:05:20.482Z"
   },
   {
    "duration": 339,
    "start_time": "2023-01-06T18:05:20.811Z"
   },
   {
    "duration": 417,
    "start_time": "2023-01-06T18:05:21.151Z"
   },
   {
    "duration": 241,
    "start_time": "2023-01-06T18:05:21.570Z"
   },
   {
    "duration": 248,
    "start_time": "2023-01-06T18:05:21.813Z"
   },
   {
    "duration": 216,
    "start_time": "2023-01-06T18:05:22.063Z"
   },
   {
    "duration": 37,
    "start_time": "2023-01-06T18:05:22.281Z"
   },
   {
    "duration": 262,
    "start_time": "2023-01-06T18:05:22.320Z"
   },
   {
    "duration": 30,
    "start_time": "2023-01-06T18:05:22.586Z"
   },
   {
    "duration": 297,
    "start_time": "2023-01-06T18:05:22.619Z"
   },
   {
    "duration": 227,
    "start_time": "2023-01-06T18:05:22.919Z"
   },
   {
    "duration": 276,
    "start_time": "2023-01-06T18:05:23.152Z"
   },
   {
    "duration": 318,
    "start_time": "2023-01-06T18:05:23.429Z"
   },
   {
    "duration": 225,
    "start_time": "2023-01-06T18:05:23.753Z"
   },
   {
    "duration": 370,
    "start_time": "2023-01-06T18:05:23.980Z"
   },
   {
    "duration": 29,
    "start_time": "2023-01-06T18:05:24.351Z"
   },
   {
    "duration": 239,
    "start_time": "2023-01-06T18:05:24.383Z"
   },
   {
    "duration": 38,
    "start_time": "2023-01-06T18:05:24.625Z"
   },
   {
    "duration": 251,
    "start_time": "2023-01-06T18:05:24.665Z"
   },
   {
    "duration": 21,
    "start_time": "2023-01-06T18:05:24.918Z"
   },
   {
    "duration": 45,
    "start_time": "2023-01-06T18:05:24.946Z"
   },
   {
    "duration": 829,
    "start_time": "2023-01-06T18:05:24.996Z"
   },
   {
    "duration": 19,
    "start_time": "2023-01-06T18:05:25.826Z"
   },
   {
    "duration": 34,
    "start_time": "2023-01-06T18:05:25.846Z"
   },
   {
    "duration": 24,
    "start_time": "2023-01-06T18:05:25.882Z"
   },
   {
    "duration": 67,
    "start_time": "2023-01-06T18:05:25.908Z"
   },
   {
    "duration": 25,
    "start_time": "2023-01-06T18:05:25.977Z"
   },
   {
    "duration": 39,
    "start_time": "2023-01-06T18:05:26.004Z"
   },
   {
    "duration": 50,
    "start_time": "2023-01-06T18:05:26.048Z"
   },
   {
    "duration": 22,
    "start_time": "2023-01-06T18:05:26.101Z"
   },
   {
    "duration": 11,
    "start_time": "2023-01-06T18:05:26.125Z"
   },
   {
    "duration": 29,
    "start_time": "2023-01-06T18:05:26.138Z"
   },
   {
    "duration": 44,
    "start_time": "2023-01-06T18:05:26.169Z"
   },
   {
    "duration": 42,
    "start_time": "2023-01-06T18:05:26.215Z"
   },
   {
    "duration": 13,
    "start_time": "2023-01-06T18:05:26.259Z"
   },
   {
    "duration": 37,
    "start_time": "2023-01-06T18:05:26.274Z"
   },
   {
    "duration": 5,
    "start_time": "2023-01-06T18:05:26.313Z"
   },
   {
    "duration": 123,
    "start_time": "2023-01-06T18:05:26.320Z"
   },
   {
    "duration": 39714,
    "start_time": "2023-01-06T18:05:26.445Z"
   },
   {
    "duration": 50326,
    "start_time": "2023-01-06T18:06:06.165Z"
   },
   {
    "duration": 530750,
    "start_time": "2023-01-06T18:06:56.493Z"
   },
   {
    "duration": 156,
    "start_time": "2023-01-06T18:15:47.245Z"
   },
   {
    "duration": 5,
    "start_time": "2023-01-06T18:15:47.403Z"
   },
   {
    "duration": 15,
    "start_time": "2023-01-06T18:15:47.410Z"
   },
   {
    "duration": 34,
    "start_time": "2023-01-06T18:15:47.440Z"
   },
   {
    "duration": 5,
    "start_time": "2023-01-06T18:15:47.476Z"
   },
   {
    "duration": 890,
    "start_time": "2023-01-06T18:15:47.483Z"
   },
   {
    "duration": 6,
    "start_time": "2023-01-06T18:15:48.375Z"
   },
   {
    "duration": 1328,
    "start_time": "2023-01-06T18:15:48.383Z"
   },
   {
    "duration": 4,
    "start_time": "2023-01-06T18:15:49.713Z"
   },
   {
    "duration": 300,
    "start_time": "2023-01-06T18:15:49.719Z"
   },
   {
    "duration": 6076,
    "start_time": "2023-01-06T18:15:50.026Z"
   },
   {
    "duration": 5,
    "start_time": "2023-01-06T18:15:56.105Z"
   },
   {
    "duration": 25,
    "start_time": "2023-01-06T18:15:56.112Z"
   },
   {
    "duration": 205,
    "start_time": "2023-01-06T18:15:56.145Z"
   },
   {
    "duration": 5,
    "start_time": "2023-01-06T18:15:56.358Z"
   },
   {
    "duration": 12,
    "start_time": "2023-01-06T18:15:56.365Z"
   },
   {
    "duration": 195,
    "start_time": "2023-01-06T18:15:56.379Z"
   }
  ],
  "kernelspec": {
   "display_name": "Python 3 (ipykernel)",
   "language": "python",
   "name": "python3"
  },
  "language_info": {
   "codemirror_mode": {
    "name": "ipython",
    "version": 3
   },
   "file_extension": ".py",
   "mimetype": "text/x-python",
   "name": "python",
   "nbconvert_exporter": "python",
   "pygments_lexer": "ipython3",
   "version": "3.9.15 (main, Nov 24 2022, 14:39:17) [MSC v.1916 64 bit (AMD64)]"
  },
  "toc": {
   "base_numbering": 1,
   "nav_menu": {},
   "number_sections": true,
   "sideBar": true,
   "skip_h1_title": true,
   "title_cell": "Table of Contents",
   "title_sidebar": "Contents",
   "toc_cell": false,
   "toc_position": {},
   "toc_section_display": true,
   "toc_window_display": false
  },
  "vscode": {
   "interpreter": {
    "hash": "a90aeebcf29d64a654773811cc170cb25061cb2498f10ac689db374c7bf325de"
   }
  }
 },
 "nbformat": 4,
 "nbformat_minor": 2
}
