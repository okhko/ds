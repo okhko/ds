{
 "cells": [
  {
   "cell_type": "markdown",
   "metadata": {},
   "source": [
    "# Рекомендация тарифов"
   ]
  },
  {
   "cell_type": "markdown",
   "metadata": {},
   "source": [
    "В вашем распоряжении данные о поведении клиентов, которые уже перешли на эти тарифы (из проекта курса «Статистический анализ данных»). Нужно построить модель для задачи классификации, которая выберет подходящий тариф. Предобработка данных не понадобится — вы её уже сделали.\n",
    "\n",
    "Постройте модель с максимально большим значением *accuracy*. Чтобы сдать проект успешно, нужно довести долю правильных ответов по крайней мере до 0.75. Проверьте *accuracy* на тестовой выборке самостоятельно."
   ]
  },
  {
   "cell_type": "markdown",
   "metadata": {},
   "source": [
    "`Описание проекта:` \n",
    "В данном пректе мы проведём исследование поведения клиентов перешедщих с архивных тарифов на новые тарифы и обучим модель предсказывать переход клиентов на новый тариф.  "
   ]
  },
  {
   "cell_type": "code",
   "execution_count": 1,
   "metadata": {},
   "outputs": [],
   "source": [
    "# импортируем необходимые библиотеки\n",
    "import pandas as pd\n",
    "from sklearn.tree import DecisionTreeClassifier\n",
    "from sklearn.metrics import accuracy_score\n",
    "from sklearn.model_selection import train_test_split\n",
    "from sklearn.ensemble import RandomForestClassifier\n",
    "from sklearn.linear_model import LogisticRegression\n",
    "import seaborn as sns\n",
    "import matplotlib as plt\n",
    "import matplotlib.pyplot as plt\n",
    "import numpy as np\n",
    "from numpy import arange\n",
    "%matplotlib inline"
   ]
  },
  {
   "cell_type": "markdown",
   "metadata": {},
   "source": [
    "## Откройте и изучите файл"
   ]
  },
  {
   "cell_type": "markdown",
   "metadata": {},
   "source": [
    "Импорт датасета"
   ]
  },
  {
   "cell_type": "code",
   "execution_count": 2,
   "metadata": {},
   "outputs": [],
   "source": [
    "# импортируем дадасет\n",
    "try:\n",
    "    df = pd.read_csv('users_behavior.csv')\n",
    "except:\n",
    "    df = pd.read_csv('/datasets/users_behavior.csv')"
   ]
  },
  {
   "cell_type": "markdown",
   "metadata": {},
   "source": [
    "Выведение основной информации датасета для ознакомления"
   ]
  },
  {
   "cell_type": "code",
   "execution_count": 3,
   "metadata": {},
   "outputs": [
    {
     "name": "stdout",
     "output_type": "stream",
     "text": [
      "<class 'pandas.core.frame.DataFrame'>\n",
      "RangeIndex: 3214 entries, 0 to 3213\n",
      "Data columns (total 6 columns):\n",
      " #   Column      Non-Null Count  Dtype  \n",
      "---  ------      --------------  -----  \n",
      " 0   Unnamed: 0  3214 non-null   int64  \n",
      " 1   calls       3214 non-null   float64\n",
      " 2   minutes     3214 non-null   float64\n",
      " 3   messages    3214 non-null   float64\n",
      " 4   mb_used     3214 non-null   float64\n",
      " 5   is_ultra    3214 non-null   int64  \n",
      "dtypes: float64(4), int64(2)\n",
      "memory usage: 150.8 KB\n"
     ]
    }
   ],
   "source": [
    "# общая информация\n",
    "df.info()"
   ]
  },
  {
   "cell_type": "code",
   "execution_count": 4,
   "metadata": {},
   "outputs": [
    {
     "data": {
      "text/html": [
       "<div>\n",
       "<style scoped>\n",
       "    .dataframe tbody tr th:only-of-type {\n",
       "        vertical-align: middle;\n",
       "    }\n",
       "\n",
       "    .dataframe tbody tr th {\n",
       "        vertical-align: top;\n",
       "    }\n",
       "\n",
       "    .dataframe thead th {\n",
       "        text-align: right;\n",
       "    }\n",
       "</style>\n",
       "<table border=\"1\" class=\"dataframe\">\n",
       "  <thead>\n",
       "    <tr style=\"text-align: right;\">\n",
       "      <th></th>\n",
       "      <th>Unnamed: 0</th>\n",
       "      <th>calls</th>\n",
       "      <th>minutes</th>\n",
       "      <th>messages</th>\n",
       "      <th>mb_used</th>\n",
       "      <th>is_ultra</th>\n",
       "    </tr>\n",
       "  </thead>\n",
       "  <tbody>\n",
       "    <tr>\n",
       "      <th>0</th>\n",
       "      <td>0</td>\n",
       "      <td>40.0</td>\n",
       "      <td>311.90</td>\n",
       "      <td>83.0</td>\n",
       "      <td>19915.42</td>\n",
       "      <td>0</td>\n",
       "    </tr>\n",
       "    <tr>\n",
       "      <th>1</th>\n",
       "      <td>1</td>\n",
       "      <td>85.0</td>\n",
       "      <td>516.75</td>\n",
       "      <td>56.0</td>\n",
       "      <td>22696.96</td>\n",
       "      <td>0</td>\n",
       "    </tr>\n",
       "    <tr>\n",
       "      <th>2</th>\n",
       "      <td>2</td>\n",
       "      <td>77.0</td>\n",
       "      <td>467.66</td>\n",
       "      <td>86.0</td>\n",
       "      <td>21060.45</td>\n",
       "      <td>0</td>\n",
       "    </tr>\n",
       "    <tr>\n",
       "      <th>3</th>\n",
       "      <td>3</td>\n",
       "      <td>106.0</td>\n",
       "      <td>745.53</td>\n",
       "      <td>81.0</td>\n",
       "      <td>8437.39</td>\n",
       "      <td>1</td>\n",
       "    </tr>\n",
       "    <tr>\n",
       "      <th>4</th>\n",
       "      <td>4</td>\n",
       "      <td>66.0</td>\n",
       "      <td>418.74</td>\n",
       "      <td>1.0</td>\n",
       "      <td>14502.75</td>\n",
       "      <td>0</td>\n",
       "    </tr>\n",
       "    <tr>\n",
       "      <th>5</th>\n",
       "      <td>5</td>\n",
       "      <td>58.0</td>\n",
       "      <td>344.56</td>\n",
       "      <td>21.0</td>\n",
       "      <td>15823.37</td>\n",
       "      <td>0</td>\n",
       "    </tr>\n",
       "    <tr>\n",
       "      <th>6</th>\n",
       "      <td>6</td>\n",
       "      <td>57.0</td>\n",
       "      <td>431.64</td>\n",
       "      <td>20.0</td>\n",
       "      <td>3738.90</td>\n",
       "      <td>1</td>\n",
       "    </tr>\n",
       "    <tr>\n",
       "      <th>7</th>\n",
       "      <td>7</td>\n",
       "      <td>15.0</td>\n",
       "      <td>132.40</td>\n",
       "      <td>6.0</td>\n",
       "      <td>21911.60</td>\n",
       "      <td>0</td>\n",
       "    </tr>\n",
       "    <tr>\n",
       "      <th>8</th>\n",
       "      <td>8</td>\n",
       "      <td>7.0</td>\n",
       "      <td>43.39</td>\n",
       "      <td>3.0</td>\n",
       "      <td>2538.67</td>\n",
       "      <td>1</td>\n",
       "    </tr>\n",
       "    <tr>\n",
       "      <th>9</th>\n",
       "      <td>9</td>\n",
       "      <td>90.0</td>\n",
       "      <td>665.41</td>\n",
       "      <td>38.0</td>\n",
       "      <td>17358.61</td>\n",
       "      <td>0</td>\n",
       "    </tr>\n",
       "  </tbody>\n",
       "</table>\n",
       "</div>"
      ],
      "text/plain": [
       "   Unnamed: 0  calls  minutes  messages   mb_used  is_ultra\n",
       "0           0   40.0   311.90      83.0  19915.42         0\n",
       "1           1   85.0   516.75      56.0  22696.96         0\n",
       "2           2   77.0   467.66      86.0  21060.45         0\n",
       "3           3  106.0   745.53      81.0   8437.39         1\n",
       "4           4   66.0   418.74       1.0  14502.75         0\n",
       "5           5   58.0   344.56      21.0  15823.37         0\n",
       "6           6   57.0   431.64      20.0   3738.90         1\n",
       "7           7   15.0   132.40       6.0  21911.60         0\n",
       "8           8    7.0    43.39       3.0   2538.67         1\n",
       "9           9   90.0   665.41      38.0  17358.61         0"
      ]
     },
     "execution_count": 4,
     "metadata": {},
     "output_type": "execute_result"
    }
   ],
   "source": [
    "# первые \n",
    "df.head(10)"
   ]
  },
  {
   "cell_type": "markdown",
   "metadata": {},
   "source": [
    "## Разбейте данные на выборки"
   ]
  },
  {
   "cell_type": "markdown",
   "metadata": {},
   "source": [
    "Разбиваем датафрейм на три части в аналогии 3:1:1. Обучающая (3), Валиданионная (1), Тестовая (1)."
   ]
  },
  {
   "cell_type": "code",
   "execution_count": 5,
   "metadata": {},
   "outputs": [
    {
     "name": "stdout",
     "output_type": "stream",
     "text": [
      "Выводим размер таблицы df_train:  (1928, 6)\n",
      "Выводим размер таблицы df_valid:  (643, 6)\n",
      "Выводим размер таблицы df_test:  (643, 6)\n"
     ]
    }
   ],
   "source": [
    "# сначала разбиваем датасет на обучающую (60%) и валитационно-тестовую выборку (20% + 20%) \n",
    "# используем генератор псевдослучайного числа для случайной выборки для лучшего выявления зависимостей.\n",
    "df_train, df_valid_test = train_test_split(df, test_size=.40, random_state=12345)\n",
    "\n",
    "print('Выводим размер таблицы df_train: ', df_train.shape)\n",
    "\n",
    "# разбиваем валитационно-тестовую выборку (20% + 20%) на валидационную и тестовую\n",
    "df_valid, df_test = train_test_split(df_valid_test, test_size=.50, random_state=12345)\n",
    "\n",
    "print('Выводим размер таблицы df_valid: ', df_valid.shape)\n",
    "print('Выводим размер таблицы df_test: ', df_test.shape)\n"
   ]
  },
  {
   "cell_type": "code",
   "execution_count": 6,
   "metadata": {},
   "outputs": [],
   "source": [
    "# создаём переменные с признаками и целевыми данными для обучающей выборки\n",
    "features_train = df_train.drop(['is_ultra'], axis=1)\n",
    "target_train = df_train['is_ultra']\n",
    "\n",
    "# создаём переменные с признаками и целевыми данными для валидационной выборки\n",
    "features_valid = df_valid.drop(['is_ultra'], axis=1)\n",
    "target_valid = df_valid['is_ultra']\n",
    "\n",
    "# создаём переменные с признаками и целевыми данными для тестовой выборки\n",
    "features_test = df_test.drop(['is_ultra'], axis=1)\n",
    "target_test = df_test['is_ultra']"
   ]
  },
  {
   "cell_type": "markdown",
   "metadata": {},
   "source": [
    "## Исследуйте модели"
   ]
  },
  {
   "cell_type": "markdown",
   "metadata": {},
   "source": [
    "Классификация при помощи дерева решений"
   ]
  },
  {
   "cell_type": "code",
   "execution_count": 7,
   "metadata": {},
   "outputs": [
    {
     "name": "stdout",
     "output_type": "stream",
     "text": [
      "Model and depth number: DecisionTreeClassifier(max_depth=1, random_state=12345)\n",
      "Validation accuracy: 0.7543\n",
      "Training accuracy: 0.7578\n",
      "\n",
      "Model and depth number: DecisionTreeClassifier(max_depth=2, random_state=12345)\n",
      "Validation accuracy: 0.7823\n",
      "Training accuracy: 0.7879\n",
      "\n",
      "Model and depth number: DecisionTreeClassifier(max_depth=3, random_state=12345)\n",
      "Validation accuracy: 0.7854\n",
      "Training accuracy: 0.8076\n",
      "\n",
      "Model and depth number: DecisionTreeClassifier(max_depth=4, random_state=12345)\n",
      "Validation accuracy: 0.7792\n",
      "Training accuracy: 0.8107\n",
      "\n",
      "Model and depth number: DecisionTreeClassifier(max_depth=5, random_state=12345)\n",
      "Validation accuracy: 0.7823\n",
      "Training accuracy: 0.8226\n",
      "\n",
      "Доля правильных отвтов (Accuracy) лучшей Валидационной модели: 0.7854\n"
     ]
    }
   ],
   "source": [
    "# создаём переменные для выявления лучшей модели и лучшего результата\n",
    "best_model = None\n",
    "best_result = 0\n",
    "# создаём пустые списки для добавления в них результатов качества обучающей и валидационной модели для последущего сревнения на графике\n",
    "graph_val_predict = []\n",
    "graph_train = []\n",
    "# создаём цикл для перебора глубины дерева от 1 до 5\n",
    "for depth in range(1, 6):\n",
    "\t# создам переменную и записываем в неё модель с перебором глубины деревьев и добавлением случайности для улучшения результата\n",
    "\tmodel = DecisionTreeClassifier(random_state=12345, max_depth= depth) \n",
    "\t# обучаем модель с заданной глубиной дерева\n",
    "\tmodel.fit(features_train, target_train)\n",
    "\t# высчитываем предсказания модели на основе валидационной выборки\n",
    "\tpredictions = model.predict(features_valid)\n",
    "\t# высчитываем предсказания модели на основе обучающей выборки чтобы впоследствии сравнить с валидационной на графике\n",
    "\tpredictions_2 = model.predict(features_train)\n",
    "\t# находим качество модели сравнивая результаты валидационой выборки и результаты предсказательной модели\n",
    "\tresult = accuracy_score(target_valid, predictions)\n",
    "\t# находим качество модели сравнивая результаты обучающей выборки и результаты предсказательной модели\n",
    "\tresult_2 = accuracy_score(target_train, predictions_2)\n",
    "\t# добавляем значения точности для тренировочной и валидационной выборок в пустые переменные\n",
    "\tgraph_val_predict.append(result)\n",
    "\tgraph_train.append(result_2)\n",
    "\t# выводим в кажной итерации - название модели и точность предсказаний валидационной и тестовой выборок\n",
    "\tprint(f'Model and depth number: {model:}')\n",
    "\tprint(f'Validation accuracy: {result:.4}')\n",
    "\tprint(f'Training accuracy: {result_2:.4}')\n",
    "\tprint()\n",
    "\t# находим лучшую модель\n",
    "\tif result > best_result:\n",
    "\t\tbest_model = model\n",
    "\t\tbest_result = result\n",
    "\t\t\n",
    "# выдод результатов классификации        \n",
    "print(f'Доля правильных отвтов (Accuracy) лучшей Валидационной модели: {best_result:.4}')"
   ]
  },
  {
   "cell_type": "code",
   "execution_count": 8,
   "metadata": {},
   "outputs": [],
   "source": [
    "# Меняем тип данных с list на Series\n",
    "graph_val_predict = pd.Series(graph_val_predict)\n",
    "graph_train = pd.Series(graph_train)"
   ]
  },
  {
   "cell_type": "code",
   "execution_count": 9,
   "metadata": {},
   "outputs": [],
   "source": [
    "# объединяем признаки в датафрейм\n",
    "dataframe = pd.concat([graph_val_predict, graph_train], axis=1)\n",
    "# меняем названия колонок\n",
    "dataframe.columns = ['Validative', 'Train']"
   ]
  },
  {
   "cell_type": "code",
   "execution_count": 10,
   "metadata": {},
   "outputs": [
    {
     "data": {
      "image/png": "[encoded data removed]",
      "text/plain": [
       "<Figure size 432x288 with 1 Axes>"
      ]
     },
     "metadata": {
      "needs_background": "light"
     },
     "output_type": "display_data"
    }
   ],
   "source": [
    "# выводим график с точностью обучающей и валидационной выборок.\n",
    "sns.lineplot(data = dataframe)\n",
    "plt.show()"
   ]
  },
  {
   "cell_type": "markdown",
   "metadata": {},
   "source": [
    "Как видно на графике выше: точность обеих выборок растём до глубыны дерева равным = 2. После, заметно падение точности валидационной выборки несморя на прдолжающийся рост точности тестовой выборки."
   ]
  },
  {
   "cell_type": "markdown",
   "metadata": {},
   "source": [
    "`Вывод:` дерево решений показвло неплохой результат, >0.75 посмотри как поедут себя другие модели"
   ]
  },
  {
   "cell_type": "markdown",
   "metadata": {},
   "source": [
    "Классификация при помощи случайного леса"
   ]
  },
  {
   "cell_type": "code",
   "execution_count": 11,
   "metadata": {},
   "outputs": [
    {
     "name": "stdout",
     "output_type": "stream",
     "text": [
      "Доля правильных отвтов (Accuracy) лучшей модели: 0.7916\n",
      "Количество деревьев (est): 100\n",
      "Глубина дерева (depth): 4\n"
     ]
    }
   ],
   "source": [
    "# создаём переменные для выявления лучшей модели, лучшего результата\n",
    "# создаём счётчики кол-ва деревьев и глубины деревьев чтобы выявить сочетание с лучшим показателем accuracy\n",
    "best_model = None\n",
    "best_result = 0\n",
    "n_est = 0\n",
    "max_depth = 0\n",
    "# создаём цикл с перебором по кол-ву деревьев\n",
    "for est in range(1, 101):\n",
    "    # создаём вложенный цикл с перебором глубины каждого дерева\n",
    "    for depth in range(1, 5):\n",
    "        # создам переменную и записываем в неё модель с перебором кол-ва деревьев, \n",
    "        # глубины деревьев и добавлением случайности для улучшения результата\n",
    "        model = RandomForestClassifier(random_state=12345, n_estimators=est, max_depth=depth)\n",
    "        # обучаем модель на тренировочной выборке\n",
    "        model.fit(features_train, target_train)\n",
    "        # высчитываем предсказания модели на основе валидационной выборки\n",
    "        predictions = model.predict(features_valid)\n",
    "        # находим качество модели сравнивая результаты валидационой выборки и результаты предсказательной модели\n",
    "        result_1 = accuracy_score(target_valid, predictions)\n",
    "        # находим лучшую модель, находим оптимальное кол-во деревьев и их глубину\n",
    "        if result_1 > best_result:\n",
    "            n_est = est\n",
    "            max_depth = depth\n",
    "            best_model = model\n",
    "            best_result_2 = result_1\n",
    "\n",
    "# выдод результатов классификации случайного леса\n",
    "print(f'Доля правильных отвтов (Accuracy) лучшей модели: {best_result_2:.4}')\n",
    "print('Количество деревьев (est):', n_est) \n",
    "print('Глубина дерева (depth):', max_depth)"
   ]
  },
  {
   "cell_type": "markdown",
   "metadata": {},
   "source": [
    "`Вывод:` случайный лес показал тоже хороший результат, >0.75 осталась последняя модель - логистическая регрессия"
   ]
  },
  {
   "cell_type": "markdown",
   "metadata": {},
   "source": [
    "Классификация при помощи логистической регрессии"
   ]
  },
  {
   "cell_type": "code",
   "execution_count": 12,
   "metadata": {},
   "outputs": [
    {
     "name": "stdout",
     "output_type": "stream",
     "text": [
      "Доля правильных отвтов (Accuracy) лучшей модели: 0.7123\n"
     ]
    }
   ],
   "source": [
    "# создам переменную и записываем в неё модель логистической регрессии\n",
    "# добавлением случайность для улучшения результата и максимально кол-во итераций 2000\n",
    "model = LogisticRegression(random_state=12345, solver='lbfgs', max_iter=2000)\n",
    "# обучаю модель на тренировочной выборке\n",
    "model.fit(features_train, target_train)\n",
    "# находим качество модели сравнивая результаты валидационой выборки и результаты предсказательной модели\n",
    "best_result_3 = model.score(features_valid, target_valid)\n",
    "\n",
    "print(f'Доля правильных отвтов (Accuracy) лучшей модели: {best_result_3:.4}')"
   ]
  },
  {
   "cell_type": "markdown",
   "metadata": {},
   "source": [
    "`Вывод:` логистическая регрессия показала худший результат из всех опробованных моделей, <0.75 и не удовлетваряет нашим критериям качества"
   ]
  },
  {
   "cell_type": "markdown",
   "metadata": {},
   "source": [
    "### Общий вывод:"
   ]
  },
  {
   "cell_type": "markdown",
   "metadata": {},
   "source": [
    "По результатам тестирования на валидационных выборках было решено использовать модель случайный лес дря работы на тестовой выборке в связи с лучшими показателями качества. Результаты распределились следующим образом:\n",
    "1. Случайный лес - 0.7900 со следующими гиперпараметрами (Количество деревьев (est): 100, Глубина дерева (depth): 4 )\n",
    "2. Дерево решений - 0.7854\n",
    "3. Логистическая регрессия - 0.7107"
   ]
  },
  {
   "cell_type": "markdown",
   "metadata": {},
   "source": [
    "## Проверьте модель на тестовой выборке"
   ]
  },
  {
   "cell_type": "markdown",
   "metadata": {},
   "source": [
    "Проверяем на тестовой выборке Случайный лес который показал лучшие результатаы на вадидационой выборке"
   ]
  },
  {
   "cell_type": "code",
   "execution_count": 13,
   "metadata": {},
   "outputs": [
    {
     "name": "stdout",
     "output_type": "stream",
     "text": [
      "Доля правильных отвтов (Accuracy) лучшей модели на тестовой выбоке: 0.7916\n"
     ]
    }
   ],
   "source": [
    "# создам переменную и записываем в неё модель с оптимальными параметрами по результатам теста на валидационной выборке\n",
    "# Количество деревьев (est): 100\n",
    "# Глубина дерева (depth): 4 \n",
    "model = RandomForestClassifier(random_state=12345, n_estimators=100 , max_depth=4)\n",
    "# обучите модель на тестовой выборке\n",
    "model.fit(features_train, target_train)\n",
    "# высчитываем предсказания модели на основе тестовой выборки\n",
    "predictions = model.predict(features_test)\n",
    "# высчитываем качество модели на тестовой выборке\n",
    "result_best = accuracy_score(target_test, predictions)\n",
    "    \n",
    "print(f'Доля правильных отвтов (Accuracy) лучшей модели на тестовой выбоке: {result_best:.4}')"
   ]
  },
  {
   "cell_type": "markdown",
   "metadata": {},
   "source": [
    "## (бонус) Проверьте модели на адекватность"
   ]
  },
  {
   "cell_type": "markdown",
   "metadata": {},
   "source": [
    "Чтобы понять, является ли наша обученная модель адекватной, нужно сравнить её эффективность со случайной вероятностью.\n",
    "\n",
    "Нам надо понять какова вероятность слепого случая и точность предсказания нашей обученной модели. Если модель имеет бОльшую accuracy чем случайная вероятность, тогда модель адекватна и работает эффективно."
   ]
  },
  {
   "cell_type": "code",
   "execution_count": 14,
   "metadata": {},
   "outputs": [
    {
     "data": {
      "text/plain": [
       "3214"
      ]
     },
     "execution_count": 14,
     "metadata": {},
     "output_type": "execute_result"
    }
   ],
   "source": [
    "# в датасете всего 3214 записи\n",
    "total_customers = df['is_ultra'].count()\n",
    "total_customers"
   ]
  },
  {
   "cell_type": "code",
   "execution_count": 15,
   "metadata": {},
   "outputs": [
    {
     "data": {
      "text/plain": [
       "985"
      ]
     },
     "execution_count": 15,
     "metadata": {},
     "output_type": "execute_result"
    }
   ],
   "source": [
    "# из 3214 записей 985 это кол-во абонентов сменивших тариф на ultra\n",
    "is_ultra_customers = df.loc[df['is_ultra']==1, 'is_ultra'].count()\n",
    "is_ultra_customers"
   ]
  },
  {
   "cell_type": "code",
   "execution_count": 16,
   "metadata": {},
   "outputs": [
    {
     "name": "stdout",
     "output_type": "stream",
     "text": [
      "Случайная вероятность is_ultra: 0.3065\n"
     ]
    }
   ],
   "source": [
    "# случайная вероятность обнаружить абонента перешедшего на новый тари ultra равна отношению новых ultra клиентов к общей выборке\n",
    "probability = is_ultra_customers / total_customers\n",
    "print(f'Случайная вероятность is_ultra: {probability:.4}')"
   ]
  },
  {
   "cell_type": "markdown",
   "metadata": {},
   "source": [
    "`Вывод:` По результатам нашего исследования модели показали результат намного выше случайного (0.31), это говорит о том что вероятность предсказания результата при помощи модели (0.78) намного эффективней чем слепой случай, а значит использовние моели доказано оправданно."
   ]
  },
  {
   "cell_type": "markdown",
   "metadata": {},
   "source": [
    "## Выводы исследования:"
   ]
  },
  {
   "cell_type": "markdown",
   "metadata": {},
   "source": [
    "По результатам проведённых тестов на трёх нижеследующих моделях:\n",
    "\n",
    "- Дерево решений\n",
    "- Случайный лес\n",
    "- Логистическая регрессия\n",
    "\n",
    "Были проведены исследования точности (accuracy) различных моделей с изменяемыми параметрами на валидационых выборках изначального датасета. В результате исследования, была выявлена самая точная модель  случайный лес с параметрами \n",
    "- Количество деревьев (est): 100\n",
    "- Глубина дерева (depth): 4 \n",
    "\n",
    "Отобранная модель показана на тестовой выборке результат (accuracy) 0.7838 что является хорошоим показателем и гораздо выше случайной вероятности абонента быть пользователем пакета услуг is_ultra (0.3065). Этот показатель свидетельствут об адекватности нашей модели тк её эффективность намного выше случайности.\n",
    "\n",
    "`Резюме:` проедставленная модель предсказывает переход клиента на новый тариф is_ultra с вероятнотью 0.7838.\n"
   ]
  },
  {
   "cell_type": "markdown",
   "metadata": {},
   "source": [
    "## Чек-лист готовности проекта"
   ]
  },
  {
   "cell_type": "markdown",
   "metadata": {},
   "source": [
    "Поставьте 'x' в выполненных пунктах. Далее нажмите Shift+Enter."
   ]
  },
  {
   "cell_type": "markdown",
   "metadata": {},
   "source": [
    "- [x] Jupyter Notebook открыт\n",
    "- [x] Весь код исполняется без ошибок\n",
    "- [x] Ячейки с кодом расположены в порядке исполнения\n",
    "- [x] Выполнено задание 1: данные загружены и изучены\n",
    "- [x] Выполнено задание 2: данные разбиты на три выборки\n",
    "- [ ] Выполнено задание 3: проведено исследование моделей\n",
    "    - [x] Рассмотрено больше одной модели\n",
    "    - [x] Рассмотрено хотя бы 3 значения гипепараметров для какой-нибудь модели\n",
    "    - [x] Написаны выводы по результатам исследования\n",
    "- [x] Выполнено задание 3: Проведено тестирование\n",
    "- [x] Удалось достичь accuracy не меньше 0.75\n"
   ]
  }
 ],
 "metadata": {
  "ExecuteTimeLog": [
   {
    "duration": 1363,
    "start_time": "2022-10-23T13:25:39.716Z"
   },
   {
    "duration": 243,
    "start_time": "2022-10-23T13:25:41.081Z"
   },
   {
    "duration": 11,
    "start_time": "2022-10-23T13:25:41.326Z"
   },
   {
    "duration": 28,
    "start_time": "2022-10-23T13:25:41.339Z"
   },
   {
    "duration": 6,
    "start_time": "2022-10-23T13:25:41.369Z"
   },
   {
    "duration": 11,
    "start_time": "2022-10-23T13:25:41.376Z"
   },
   {
    "duration": 43,
    "start_time": "2022-10-23T13:25:41.389Z"
   },
   {
    "duration": 39755,
    "start_time": "2022-10-23T13:25:41.434Z"
   },
   {
    "duration": 170,
    "start_time": "2022-10-23T13:26:21.190Z"
   },
   {
    "duration": 407,
    "start_time": "2022-10-23T13:26:21.363Z"
   },
   {
    "duration": 5,
    "start_time": "2022-10-23T13:26:21.772Z"
   },
   {
    "duration": 20,
    "start_time": "2022-10-23T13:26:21.779Z"
   },
   {
    "duration": 8,
    "start_time": "2022-10-23T13:26:21.801Z"
   },
   {
    "duration": 1681,
    "start_time": "2022-10-25T19:43:12.359Z"
   },
   {
    "duration": 65,
    "start_time": "2022-10-25T19:43:14.041Z"
   },
   {
    "duration": 12,
    "start_time": "2022-10-25T19:43:14.107Z"
   },
   {
    "duration": 31,
    "start_time": "2022-10-25T19:43:14.122Z"
   },
   {
    "duration": 9,
    "start_time": "2022-10-25T19:43:14.155Z"
   },
   {
    "duration": 9,
    "start_time": "2022-10-25T19:43:14.165Z"
   },
   {
    "duration": 51,
    "start_time": "2022-10-25T19:43:14.175Z"
   },
   {
    "duration": 4,
    "start_time": "2022-10-25T19:43:14.228Z"
   },
   {
    "duration": 18,
    "start_time": "2022-10-25T19:43:14.233Z"
   },
   {
    "duration": 188,
    "start_time": "2022-10-25T19:43:14.253Z"
   },
   {
    "duration": 40439,
    "start_time": "2022-10-25T19:43:14.443Z"
   },
   {
    "duration": 239,
    "start_time": "2022-10-25T19:43:54.884Z"
   },
   {
    "duration": 346,
    "start_time": "2022-10-25T19:43:55.126Z"
   },
   {
    "duration": 5,
    "start_time": "2022-10-25T19:43:55.474Z"
   },
   {
    "duration": 17,
    "start_time": "2022-10-25T19:43:55.481Z"
   },
   {
    "duration": 21,
    "start_time": "2022-10-25T19:43:55.500Z"
   }
  ],
  "kernelspec": {
   "display_name": "Python 3 (ipykernel)",
   "language": "python",
   "name": "python3"
  },
  "language_info": {
   "codemirror_mode": {
    "name": "ipython",
    "version": 3
   },
   "file_extension": ".py",
   "mimetype": "text/x-python",
   "name": "python",
   "nbconvert_exporter": "python",
   "pygments_lexer": "ipython3",
   "version": "3.9.5"
  },
  "toc": {
   "base_numbering": 1,
   "nav_menu": {},
   "number_sections": true,
   "sideBar": true,
   "skip_h1_title": true,
   "title_cell": "Table of Contents",
   "title_sidebar": "Contents",
   "toc_cell": false,
   "toc_position": {},
   "toc_section_display": true,
   "toc_window_display": false
  },
  "vscode": {
   "interpreter": {
    "hash": "a90aeebcf29d64a654773811cc170cb25061cb2498f10ac689db374c7bf325de"
   }
  }
 },
 "nbformat": 4,
 "nbformat_minor": 2
}
