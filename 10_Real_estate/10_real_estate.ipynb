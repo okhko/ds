{
 "cells": [
  {
   "attachments": {},
   "cell_type": "markdown",
   "id": "GEqQaHzsZ_bA",
   "metadata": {
    "id": "GEqQaHzsZ_bA"
   },
   "source": [
    "## Предсказание стоимости жилья\n",
    "\n",
    "В проекте вам нужно обучить модель линейной регрессии на данных о жилье в Калифорнии в 1990 году. На основе данных нужно предсказать медианную стоимость дома в жилом массиве. Обучите модель и сделайте предсказания на тестовой выборке. Для оценки качества модели используйте метрики RMSE, MAE и R2."
   ]
  },
  {
   "attachments": {},
   "cell_type": "markdown",
   "id": "242403bf",
   "metadata": {},
   "source": [
    "## Описание проекта:"
   ]
  },
  {
   "attachments": {},
   "cell_type": "markdown",
   "id": "18bdea33",
   "metadata": {},
   "source": [
    "Цель данного проекта обучить модель линейной регрессии на данных о жилье в Калифорнии в 1990 году.\n",
    "\n",
    "Для оценки качества модли будут использоваться следущие метрики качества: RMSE, MAE и R2"
   ]
  },
  {
   "attachments": {},
   "cell_type": "markdown",
   "id": "53871372",
   "metadata": {
    "id": "53871372"
   },
   "source": [
    "# Подготовка данных"
   ]
  },
  {
   "attachments": {},
   "cell_type": "markdown",
   "id": "2247bcc3",
   "metadata": {},
   "source": [
    "### Импрорт библиотек"
   ]
  },
  {
   "cell_type": "code",
   "execution_count": 46,
   "id": "df92e3ec",
   "metadata": {
    "id": "df92e3ec"
   },
   "outputs": [],
   "source": [
    "import pandas as pd \n",
    "import numpy as np\n",
    "import seaborn as sns\n",
    "import pyspark\n",
    "from pyspark.sql import SparkSession\n",
    "from pyspark.sql.types import *\n",
    "import pyspark.sql.functions as F\n",
    "from pyspark.sql.functions import avg\n",
    "from pyspark.sql.functions import avg, round\n",
    "from pyspark.sql.types import DoubleType\n",
    "from pyspark.sql.functions import mean\n",
    "from pyspark.ml.feature import StringIndexer, VectorAssembler, StandardScaler\n",
    "from pyspark.ml.classification import LogisticRegression\n",
    "from pyspark.ml.evaluation import BinaryClassificationEvaluator, MulticlassClassificationEvaluator\n",
    "from pyspark.ml.feature import OneHotEncoder, StringIndexer\n",
    "\n",
    "from pyspark.ml.regression import LinearRegression\n",
    "from pyspark.ml.evaluation import RegressionEvaluator\n",
    "\n",
    "pyspark_version = pyspark.__version__\n",
    "if int(pyspark_version[:1]) == 3:\n",
    "    from pyspark.ml.feature import OneHotEncoder    \n",
    "elif int(pyspark_version[:1]) == 2:\n",
    "    from pyspark.ml.feature import OneHotEncodeEstimator\n",
    "    \n",
    "from pyspark.ml import Pipeline\n"
   ]
  },
  {
   "attachments": {},
   "cell_type": "markdown",
   "id": "c9ac931c",
   "metadata": {},
   "source": [
    "### Инициализируем Spark сессию"
   ]
  },
  {
   "cell_type": "code",
   "execution_count": 47,
   "id": "ceb498b3",
   "metadata": {},
   "outputs": [],
   "source": [
    "RANDOM_SEED = 2022\n",
    "\n",
    "spark = SparkSession.builder \\\n",
    "                    .master(\"local\") \\\n",
    "                    .appName(\"EDA California Housing\") \\\n",
    "                    .getOrCreate()"
   ]
  },
  {
   "attachments": {},
   "cell_type": "markdown",
   "id": "836c0eef",
   "metadata": {},
   "source": [
    "### Читаем содержимое файла и сохраняем в переменную"
   ]
  },
  {
   "cell_type": "code",
   "execution_count": 48,
   "id": "ac155437",
   "metadata": {},
   "outputs": [],
   "source": [
    "df = spark.read.option('header', 'true').csv('/datasets/housing.csv', inferSchema = True)"
   ]
  },
  {
   "cell_type": "code",
   "execution_count": 49,
   "id": "bdc0afd8",
   "metadata": {},
   "outputs": [
    {
     "name": "stdout",
     "output_type": "stream",
     "text": [
      "root\n",
      " |-- longitude: double (nullable = true)\n",
      " |-- latitude: double (nullable = true)\n",
      " |-- housing_median_age: double (nullable = true)\n",
      " |-- total_rooms: double (nullable = true)\n",
      " |-- total_bedrooms: double (nullable = true)\n",
      " |-- population: double (nullable = true)\n",
      " |-- households: double (nullable = true)\n",
      " |-- median_income: double (nullable = true)\n",
      " |-- median_house_value: double (nullable = true)\n",
      " |-- ocean_proximity: string (nullable = true)\n",
      "\n"
     ]
    }
   ],
   "source": [
    "df.printSchema() "
   ]
  },
  {
   "attachments": {},
   "cell_type": "markdown",
   "id": "093e48ca",
   "metadata": {},
   "source": [
    "### Выводим типы данных"
   ]
  },
  {
   "cell_type": "code",
   "execution_count": 50,
   "id": "16239685",
   "metadata": {},
   "outputs": [
    {
     "name": "stdout",
     "output_type": "stream",
     "text": [
      "               column    type\n",
      "0           longitude  double\n",
      "1            latitude  double\n",
      "2  housing_median_age  double\n",
      "3         total_rooms  double\n",
      "4      total_bedrooms  double\n",
      "5          population  double\n",
      "6          households  double\n",
      "7       median_income  double\n",
      "8  median_house_value  double\n",
      "9     ocean_proximity  string\n"
     ]
    }
   ],
   "source": [
    "print(pd.DataFrame(df.dtypes, columns=['column', 'type']))"
   ]
  },
  {
   "attachments": {},
   "cell_type": "markdown",
   "id": "d3bbdcf4",
   "metadata": {},
   "source": [
    "## Предобработка"
   ]
  },
  {
   "attachments": {},
   "cell_type": "markdown",
   "id": "89a8f90d",
   "metadata": {},
   "source": [
    "### Ищем пропуски"
   ]
  },
  {
   "cell_type": "code",
   "execution_count": 51,
   "id": "d717a83a",
   "metadata": {},
   "outputs": [
    {
     "name": "stdout",
     "output_type": "stream",
     "text": [
      "longitude 0\n",
      "latitude 0\n",
      "housing_median_age 0\n",
      "total_rooms 0\n",
      "total_bedrooms 207\n",
      "population 0\n",
      "households 0\n",
      "median_income 0\n",
      "median_house_value 0\n",
      "ocean_proximity 0\n"
     ]
    }
   ],
   "source": [
    "for column in df.columns:\n",
    "    check_col = F.col(column).isNull()\n",
    "    print(column, df.filter(check_col).count())"
   ]
  },
  {
   "attachments": {},
   "cell_type": "markdown",
   "id": "c20e12fb",
   "metadata": {},
   "source": [
    "### Заменяем пропуски на средние значения"
   ]
  },
  {
   "cell_type": "code",
   "execution_count": 52,
   "id": "712e0537",
   "metadata": {},
   "outputs": [],
   "source": [
    "# calculate mean value for column1\n",
    "mean_value = df.select(mean(df[\"total_bedrooms\"])).collect()[0][0]\n",
    "\n",
    "# replace missing values in column1 with mean value\n",
    "df = df.na.fill(mean_value, subset=[\"total_bedrooms\"])"
   ]
  },
  {
   "attachments": {},
   "cell_type": "markdown",
   "id": "270f0a56",
   "metadata": {},
   "source": [
    "### Проверяем что пропуски исчезли"
   ]
  },
  {
   "cell_type": "code",
   "execution_count": 53,
   "id": "a05e5ff6",
   "metadata": {},
   "outputs": [
    {
     "name": "stdout",
     "output_type": "stream",
     "text": [
      "longitude 0\n",
      "latitude 0\n",
      "housing_median_age 0\n",
      "total_rooms 0\n",
      "total_bedrooms 0\n",
      "population 0\n",
      "households 0\n",
      "median_income 0\n",
      "median_house_value 0\n",
      "ocean_proximity 0\n"
     ]
    }
   ],
   "source": [
    "for column in df.columns:\n",
    "    check_col = F.col(column).isNull()\n",
    "    print(column, df.filter(check_col).count())"
   ]
  },
  {
   "attachments": {},
   "cell_type": "markdown",
   "id": "3d95036e",
   "metadata": {},
   "source": [
    "### Создание и трансформация категориальных и некатегориальных признаков"
   ]
  },
  {
   "cell_type": "code",
   "execution_count": 54,
   "id": "cb65680c",
   "metadata": {},
   "outputs": [],
   "source": [
    "stages = []\n",
    "\n",
    "categoricalColumns = ['ocean_proximity']\n",
    "for categoricalCol in categoricalColumns:\n",
    "    stringIndexer = StringIndexer(inputCol = categoricalCol,\n",
    "                                  outputCol = categoricalCol + 'Index',\n",
    "                                  handleInvalid = 'keep')\n",
    "    encoder = OneHotEncoder(inputCol=stringIndexer.getOutputCol(),\n",
    "                            outputCol=categoricalCol + \"classVec\")\n",
    "    stages += [stringIndexer, encoder]\n",
    "\n",
    "numericCols = ['longitude', 'latitude', 'housing_median_age', 'total_rooms', 'total_bedrooms', 'population', 'households', 'median_income']\n",
    "\n",
    "assemblerInputs = [c + \"classVec\" for c in categoricalColumns] + numericCols\n",
    "assembler_all = VectorAssembler(inputCols=assemblerInputs, outputCol='features')\n",
    "\n",
    "stages += [assembler_all]"
   ]
  },
  {
   "attachments": {},
   "cell_type": "markdown",
   "id": "9f0a82f3",
   "metadata": {
    "id": "9f0a82f3"
   },
   "source": [
    "# Обучение моделей"
   ]
  },
  {
   "attachments": {},
   "cell_type": "markdown",
   "id": "9b8e9794",
   "metadata": {},
   "source": [
    "### Линейная регрессия (с категориальными признаками)"
   ]
  },
  {
   "cell_type": "code",
   "execution_count": 55,
   "id": "e02edbbf",
   "metadata": {},
   "outputs": [
    {
     "name": "stdout",
     "output_type": "stream",
     "text": [
      "Обучающая выборка содержит: 14413 строк, 10 столбцов\n",
      "Тестовая выборка содержит: 6227 строк, 10 столбцов\n"
     ]
    }
   ],
   "source": [
    "target = 'median_house_value'\n",
    "\n",
    "train, test = df.randomSplit([.7,.3], seed=RANDOM_SEED)\n",
    "print(f'Обучающая выборка содержит: {train.count()} строк, {len(train.columns)} столбцов')\n",
    "print(f'Тестовая выборка содержит: {test.count()} строк, {len(test.columns)} столбцов')"
   ]
  },
  {
   "cell_type": "code",
   "execution_count": 56,
   "id": "c6d9c1f7",
   "metadata": {},
   "outputs": [],
   "source": [
    "lr_all = LinearRegression(labelCol='median_house_value', featuresCol='features')\n",
    "stages += [lr_all]"
   ]
  },
  {
   "cell_type": "code",
   "execution_count": 57,
   "id": "18fdaea1",
   "metadata": {},
   "outputs": [],
   "source": [
    "pipeline_all = Pipeline(stages=stages)"
   ]
  },
  {
   "cell_type": "code",
   "execution_count": 58,
   "id": "99b75b7c",
   "metadata": {},
   "outputs": [
    {
     "name": "stderr",
     "output_type": "stream",
     "text": [
      "23/03/23 14:28:02 WARN Instrumentation: [1bea832f] regParam is zero, which might cause numerical instability and overfitting.\n",
      "23/03/23 14:28:03 WARN Instrumentation: [1bea832f] Cholesky solver failed due to singular covariance matrix. Retrying with Quasi-Newton solver.\n"
     ]
    }
   ],
   "source": [
    "model_all = pipeline_all.fit(train)"
   ]
  },
  {
   "cell_type": "code",
   "execution_count": 59,
   "id": "1f52551e",
   "metadata": {},
   "outputs": [
    {
     "name": "stdout",
     "output_type": "stream",
     "text": [
      "+------------------+------------------+\n",
      "|median_house_value|        prediction|\n",
      "+------------------+------------------+\n",
      "|           85800.0|115930.10258466937|\n",
      "|          103600.0|152403.52557541197|\n",
      "|          106700.0|217925.05112151476|\n",
      "|           50800.0| 215148.9466889538|\n",
      "|           58100.0|142081.03879301064|\n",
      "+------------------+------------------+\n",
      "only showing top 5 rows\n",
      "\n"
     ]
    }
   ],
   "source": [
    "predictions_all = model_all.transform(test)\n",
    "predictedLabes_all = predictions_all.select('median_house_value', 'prediction')\n",
    "predictedLabes_all.show(5) "
   ]
  },
  {
   "attachments": {},
   "cell_type": "markdown",
   "id": "4cd5a54e",
   "metadata": {},
   "source": [
    "### Линейная регрессия без категориальных признаков ('ocean_proximity_idx', 'ocean_proximity_encoded')"
   ]
  },
  {
   "cell_type": "code",
   "execution_count": 60,
   "id": "818c43ad",
   "metadata": {},
   "outputs": [],
   "source": [
    "assemblerInputs_num = numericCols\n",
    "assembler_num = VectorAssembler(inputCols=assemblerInputs_num, outputCol='features')\n",
    "stages[2] = assembler_num"
   ]
  },
  {
   "cell_type": "code",
   "execution_count": 61,
   "id": "e187c092",
   "metadata": {},
   "outputs": [],
   "source": [
    "pipeline_num = Pipeline(stages=stages)"
   ]
  },
  {
   "cell_type": "code",
   "execution_count": 62,
   "id": "68d2c003",
   "metadata": {},
   "outputs": [
    {
     "name": "stderr",
     "output_type": "stream",
     "text": [
      "23/03/23 14:29:32 WARN Instrumentation: [6ca11a13] regParam is zero, which might cause numerical instability and overfitting.\n"
     ]
    }
   ],
   "source": [
    "model = pipeline_num.fit(train)"
   ]
  },
  {
   "cell_type": "code",
   "execution_count": 63,
   "id": "66258568",
   "metadata": {},
   "outputs": [
    {
     "name": "stdout",
     "output_type": "stream",
     "text": [
      "+------------------+------------------+\n",
      "|median_house_value|        prediction|\n",
      "+------------------+------------------+\n",
      "|           85800.0| 64956.90845325077|\n",
      "|          103600.0|101431.24672467029|\n",
      "|          106700.0|190825.20667221304|\n",
      "|           50800.0|184188.84990955703|\n",
      "|           58100.0|109444.52562058344|\n",
      "+------------------+------------------+\n",
      "only showing top 5 rows\n",
      "\n"
     ]
    }
   ],
   "source": [
    "predictions_num = model.transform(test)\n",
    "predictedLabes_num = predictions_num.select('median_house_value', 'prediction')\n",
    "predictedLabes_num.show(5) "
   ]
  },
  {
   "attachments": {},
   "cell_type": "markdown",
   "id": "041a7d93",
   "metadata": {},
   "source": [
    "Вывод метрик"
   ]
  },
  {
   "cell_type": "code",
   "execution_count": 64,
   "id": "9fef533b",
   "metadata": {},
   "outputs": [],
   "source": [
    "results = []"
   ]
  },
  {
   "cell_type": "code",
   "execution_count": 65,
   "id": "8d4b031d",
   "metadata": {},
   "outputs": [],
   "source": [
    "def all_metrics(pred_data, model_name):\n",
    "    rmse = RegressionEvaluator(predictionCol=\"prediction\", labelCol=\"median_house_value\", metricName='rmse').evaluate(pred_data)\n",
    "    mae = RegressionEvaluator(predictionCol=\"prediction\", labelCol=\"median_house_value\", metricName='mae').evaluate(pred_data)\n",
    "    r2 = RegressionEvaluator(predictionCol=\"prediction\", labelCol=\"median_house_value\", metricName='r2').evaluate(pred_data)\n",
    "    return model_name, rmse, mae, r2"
   ]
  },
  {
   "cell_type": "code",
   "execution_count": 66,
   "id": "ec16c117",
   "metadata": {},
   "outputs": [],
   "source": [
    "results.append(all_metrics(predictedLabes_all,'features'))\n",
    "results.append(all_metrics(predictedLabes_num, 'numerical_features'))"
   ]
  },
  {
   "cell_type": "code",
   "execution_count": 67,
   "id": "bc744efd",
   "metadata": {},
   "outputs": [
    {
     "data": {
      "text/html": [
       "<style  type=\"text/css\" >\n",
       "#T_8a2f9_row0_col1,#T_8a2f9_row0_col2,#T_8a2f9_row1_col3{\n",
       "            background-color:  yellow;\n",
       "        }</style><table id=\"T_8a2f9_\" ><thead>    <tr>        <th class=\"blank level0\" ></th>        <th class=\"col_heading level0 col0\" >Model</th>        <th class=\"col_heading level0 col1\" >RMSE</th>        <th class=\"col_heading level0 col2\" >MAE</th>        <th class=\"col_heading level0 col3\" >R2</th>    </tr></thead><tbody>\n",
       "                <tr>\n",
       "                        <th id=\"T_8a2f9_level0_row0\" class=\"row_heading level0 row0\" >0</th>\n",
       "                        <td id=\"T_8a2f9_row0_col0\" class=\"data row0 col0\" >features</td>\n",
       "                        <td id=\"T_8a2f9_row0_col1\" class=\"data row0 col1\" >68408.293044</td>\n",
       "                        <td id=\"T_8a2f9_row0_col2\" class=\"data row0 col2\" >49963.174372</td>\n",
       "                        <td id=\"T_8a2f9_row0_col3\" class=\"data row0 col3\" >0.648230</td>\n",
       "            </tr>\n",
       "            <tr>\n",
       "                        <th id=\"T_8a2f9_level0_row1\" class=\"row_heading level0 row1\" >1</th>\n",
       "                        <td id=\"T_8a2f9_row1_col0\" class=\"data row1 col0\" >numerical_features</td>\n",
       "                        <td id=\"T_8a2f9_row1_col1\" class=\"data row1 col1\" >69222.260031</td>\n",
       "                        <td id=\"T_8a2f9_row1_col2\" class=\"data row1 col2\" >50933.703413</td>\n",
       "                        <td id=\"T_8a2f9_row1_col3\" class=\"data row1 col3\" >0.639809</td>\n",
       "            </tr>\n",
       "    </tbody></table>"
      ],
      "text/plain": [
       "<pandas.io.formats.style.Styler at 0x7f052303e1c0>"
      ]
     },
     "execution_count": 67,
     "metadata": {},
     "output_type": "execute_result"
    }
   ],
   "source": [
    "results = pd.DataFrame(results, columns=['Model', 'RMSE', 'MAE', 'R2'])\n",
    "results.style.highlight_min(axis = 0)"
   ]
  },
  {
   "cell_type": "code",
   "execution_count": 68,
   "id": "b26527e5",
   "metadata": {},
   "outputs": [],
   "source": [
    "spark.stop()"
   ]
  },
  {
   "attachments": {},
   "cell_type": "markdown",
   "id": "757fd103",
   "metadata": {
    "id": "757fd103"
   },
   "source": [
    "# Анализ результатов"
   ]
  },
  {
   "attachments": {},
   "cell_type": "markdown",
   "id": "6c5c6ace",
   "metadata": {},
   "source": [
    "### Выводы"
   ]
  },
  {
   "attachments": {},
   "cell_type": "markdown",
   "id": "6e193c49",
   "metadata": {},
   "source": [
    "Линейная регрессия без категориальных значений показала в среднем лучшие метрики чем с категориальными значениями:\n",
    "\n",
    "С категориальными значениями:\n",
    "Root Mean Squared Error (RMSE) = 68408.293044\n",
    "Mean Absolute Error (MAE) = 49963.174372\n",
    "R2 Score = 0.648230\n",
    "\n",
    "\n",
    "Без категориальных значений:\n",
    "Root Mean Squared Error (RMSE) = 69222.260031\n",
    "Mean Absolute Error (MAE) = 50933.703413\n",
    "R2 Score = 0.639809\n",
    "\n",
    "Мы видим, что RMSE и MAE выше в модели где кат. значения были убраны и не принимали участиче в обучении модели."
   ]
  }
 ],
 "metadata": {
  "ExecuteTimeLog": [
   {
    "duration": 1589,
    "start_time": "2023-03-21T13:10:08.866Z"
   },
   {
    "duration": 16267,
    "start_time": "2023-03-21T13:11:29.216Z"
   },
   {
    "duration": 9473,
    "start_time": "2023-03-21T13:11:53.767Z"
   },
   {
    "duration": 56,
    "start_time": "2023-03-21T13:12:16.508Z"
   },
   {
    "duration": 113,
    "start_time": "2023-03-21T13:15:01.943Z"
   },
   {
    "duration": 5,
    "start_time": "2023-03-21T13:15:12.348Z"
   },
   {
    "duration": 11,
    "start_time": "2023-03-21T13:30:18.903Z"
   },
   {
    "duration": 6,
    "start_time": "2023-03-21T13:30:57.019Z"
   },
   {
    "duration": 5,
    "start_time": "2023-03-21T13:33:12.929Z"
   },
   {
    "duration": 44,
    "start_time": "2023-03-21T13:55:46.714Z"
   },
   {
    "duration": 4,
    "start_time": "2023-03-21T13:57:51.680Z"
   },
   {
    "duration": 49,
    "start_time": "2023-03-21T13:57:57.741Z"
   },
   {
    "duration": 50,
    "start_time": "2023-03-21T13:58:31.221Z"
   },
   {
    "duration": 43,
    "start_time": "2023-03-21T14:00:12.957Z"
   },
   {
    "duration": 6,
    "start_time": "2023-03-21T14:02:45.585Z"
   },
   {
    "duration": 28,
    "start_time": "2023-03-21T14:03:23.877Z"
   },
   {
    "duration": 6266,
    "start_time": "2023-03-21T14:06:07.936Z"
   },
   {
    "duration": 3627,
    "start_time": "2023-03-21T14:08:12.687Z"
   },
   {
    "duration": 15,
    "start_time": "2023-03-21T14:09:09.226Z"
   },
   {
    "duration": 3085,
    "start_time": "2023-03-21T14:09:17.921Z"
   },
   {
    "duration": 5,
    "start_time": "2023-03-21T14:09:33.739Z"
   },
   {
    "duration": 4,
    "start_time": "2023-03-21T14:09:38.294Z"
   },
   {
    "duration": 548,
    "start_time": "2023-03-21T14:09:40.586Z"
   },
   {
    "duration": 4,
    "start_time": "2023-03-21T14:09:43.232Z"
   },
   {
    "duration": 8,
    "start_time": "2023-03-21T14:09:47.835Z"
   },
   {
    "duration": 2544,
    "start_time": "2023-03-21T14:10:01.135Z"
   },
   {
    "duration": 14,
    "start_time": "2023-03-21T14:10:57.422Z"
   },
   {
    "duration": 5,
    "start_time": "2023-03-21T14:11:30.898Z"
   },
   {
    "duration": 152,
    "start_time": "2023-03-21T14:11:37.422Z"
   },
   {
    "duration": 389,
    "start_time": "2023-03-21T14:12:08.734Z"
   },
   {
    "duration": 2036,
    "start_time": "2023-03-21T14:12:12.960Z"
   },
   {
    "duration": 7,
    "start_time": "2023-03-21T14:29:13.740Z"
   },
   {
    "duration": 1763,
    "start_time": "2023-03-21T14:30:02.253Z"
   },
   {
    "duration": 3,
    "start_time": "2023-03-21T14:30:29.749Z"
   },
   {
    "duration": 3,
    "start_time": "2023-03-21T14:39:00.890Z"
   },
   {
    "duration": 41,
    "start_time": "2023-03-21T14:39:04.489Z"
   },
   {
    "duration": 145,
    "start_time": "2023-03-21T14:39:18.984Z"
   },
   {
    "duration": 115,
    "start_time": "2023-03-21T14:39:30.925Z"
   },
   {
    "duration": 113,
    "start_time": "2023-03-21T14:41:34.119Z"
   },
   {
    "duration": 13,
    "start_time": "2023-03-21T14:41:55.511Z"
   },
   {
    "duration": 11,
    "start_time": "2023-03-21T14:42:06.890Z"
   },
   {
    "duration": 5,
    "start_time": "2023-03-21T14:42:16.517Z"
   },
   {
    "duration": 189,
    "start_time": "2023-03-21T14:42:23.731Z"
   },
   {
    "duration": 6,
    "start_time": "2023-03-21T14:44:32.235Z"
   },
   {
    "duration": 4,
    "start_time": "2023-03-21T14:44:34.686Z"
   },
   {
    "duration": 531,
    "start_time": "2023-03-21T14:44:35.886Z"
   },
   {
    "duration": 4,
    "start_time": "2023-03-21T14:44:36.500Z"
   },
   {
    "duration": 8,
    "start_time": "2023-03-21T14:44:40.582Z"
   },
   {
    "duration": 1912,
    "start_time": "2023-03-21T14:44:45.019Z"
   },
   {
    "duration": 213,
    "start_time": "2023-03-21T14:44:49.698Z"
   },
   {
    "duration": 1492,
    "start_time": "2023-03-21T14:44:52.226Z"
   },
   {
    "duration": 491,
    "start_time": "2023-03-21T14:44:57.508Z"
   },
   {
    "duration": 3,
    "start_time": "2023-03-21T14:44:59.244Z"
   },
   {
    "duration": 15356,
    "start_time": "2023-03-21T14:45:14.107Z"
   },
   {
    "duration": 121,
    "start_time": "2023-03-21T14:52:53.786Z"
   },
   {
    "duration": 6,
    "start_time": "2023-03-21T14:53:02.783Z"
   },
   {
    "duration": 3,
    "start_time": "2023-03-21T14:53:06.505Z"
   },
   {
    "duration": 306,
    "start_time": "2023-03-21T14:53:07.695Z"
   },
   {
    "duration": 4,
    "start_time": "2023-03-21T14:53:08.183Z"
   },
   {
    "duration": 7,
    "start_time": "2023-03-21T14:53:11.711Z"
   },
   {
    "duration": 1623,
    "start_time": "2023-03-21T14:53:13.743Z"
   },
   {
    "duration": 162,
    "start_time": "2023-03-21T14:53:17.624Z"
   },
   {
    "duration": 1500,
    "start_time": "2023-03-21T14:53:18.895Z"
   },
   {
    "duration": 296,
    "start_time": "2023-03-21T14:53:21.944Z"
   },
   {
    "duration": 4,
    "start_time": "2023-03-21T14:53:23.648Z"
   },
   {
    "duration": 3317,
    "start_time": "2023-03-21T14:53:28.083Z"
   },
   {
    "duration": 6,
    "start_time": "2023-03-21T14:55:40.400Z"
   },
   {
    "duration": 4,
    "start_time": "2023-03-21T14:55:41.770Z"
   },
   {
    "duration": 291,
    "start_time": "2023-03-21T14:55:42.619Z"
   },
   {
    "duration": 4,
    "start_time": "2023-03-21T14:55:43.113Z"
   },
   {
    "duration": 7,
    "start_time": "2023-03-21T14:55:45.010Z"
   },
   {
    "duration": 1495,
    "start_time": "2023-03-21T14:55:47.185Z"
   },
   {
    "duration": 180,
    "start_time": "2023-03-21T14:55:50.422Z"
   },
   {
    "duration": 1354,
    "start_time": "2023-03-21T14:55:51.852Z"
   },
   {
    "duration": 364,
    "start_time": "2023-03-21T14:55:54.733Z"
   },
   {
    "duration": 4,
    "start_time": "2023-03-21T14:55:55.827Z"
   },
   {
    "duration": 3318,
    "start_time": "2023-03-21T14:56:04.219Z"
   },
   {
    "duration": 5,
    "start_time": "2023-03-21T14:58:13.583Z"
   },
   {
    "duration": 4,
    "start_time": "2023-03-21T14:58:14.918Z"
   },
   {
    "duration": 325,
    "start_time": "2023-03-21T14:58:15.818Z"
   },
   {
    "duration": 4,
    "start_time": "2023-03-21T14:58:16.248Z"
   },
   {
    "duration": 8,
    "start_time": "2023-03-21T14:58:17.322Z"
   },
   {
    "duration": 1440,
    "start_time": "2023-03-21T14:58:18.823Z"
   },
   {
    "duration": 177,
    "start_time": "2023-03-21T14:58:21.733Z"
   },
   {
    "duration": 1300,
    "start_time": "2023-03-21T14:58:22.638Z"
   },
   {
    "duration": 311,
    "start_time": "2023-03-21T14:58:24.920Z"
   },
   {
    "duration": 3,
    "start_time": "2023-03-21T14:58:25.735Z"
   },
   {
    "duration": 2,
    "start_time": "2023-03-21T14:58:27.361Z"
   },
   {
    "duration": 3082,
    "start_time": "2023-03-21T14:58:29.815Z"
   },
   {
    "duration": 141,
    "start_time": "2023-03-21T15:00:49.825Z"
   },
   {
    "duration": 196,
    "start_time": "2023-03-21T15:03:29.008Z"
   },
   {
    "duration": 6,
    "start_time": "2023-03-21T15:04:53.294Z"
   },
   {
    "duration": 5,
    "start_time": "2023-03-21T15:04:53.876Z"
   },
   {
    "duration": 304,
    "start_time": "2023-03-21T15:04:54.502Z"
   },
   {
    "duration": 4,
    "start_time": "2023-03-21T15:04:54.843Z"
   },
   {
    "duration": 7,
    "start_time": "2023-03-21T15:04:55.599Z"
   },
   {
    "duration": 1440,
    "start_time": "2023-03-21T15:04:56.564Z"
   },
   {
    "duration": 123,
    "start_time": "2023-03-21T15:04:58.454Z"
   },
   {
    "duration": 1283,
    "start_time": "2023-03-21T15:04:59.378Z"
   },
   {
    "duration": 360,
    "start_time": "2023-03-21T15:05:01.839Z"
   },
   {
    "duration": 4,
    "start_time": "2023-03-21T15:05:02.621Z"
   },
   {
    "duration": 2840,
    "start_time": "2023-03-21T15:05:08.592Z"
   },
   {
    "duration": 84,
    "start_time": "2023-03-21T15:26:53.682Z"
   },
   {
    "duration": 81,
    "start_time": "2023-03-22T16:43:02.413Z"
   },
   {
    "duration": 1891,
    "start_time": "2023-03-23T10:59:54.215Z"
   },
   {
    "duration": 18388,
    "start_time": "2023-03-23T10:59:58.016Z"
   },
   {
    "duration": 12935,
    "start_time": "2023-03-23T11:00:16.406Z"
   },
   {
    "duration": 51,
    "start_time": "2023-03-23T11:00:29.398Z"
   },
   {
    "duration": 54,
    "start_time": "2023-03-23T11:00:40.098Z"
   },
   {
    "duration": 7557,
    "start_time": "2023-03-23T11:00:45.063Z"
   },
   {
    "duration": 987,
    "start_time": "2023-03-23T11:00:58.824Z"
   },
   {
    "duration": 4288,
    "start_time": "2023-03-23T11:02:04.814Z"
   },
   {
    "duration": 67,
    "start_time": "2023-03-23T11:02:15.769Z"
   },
   {
    "duration": 4,
    "start_time": "2023-03-23T11:02:20.921Z"
   },
   {
    "duration": 5,
    "start_time": "2023-03-23T11:02:41.217Z"
   },
   {
    "duration": 22,
    "start_time": "2023-03-23T11:24:13.355Z"
   },
   {
    "duration": 4,
    "start_time": "2023-03-23T11:24:15.226Z"
   },
   {
    "duration": 2420,
    "start_time": "2023-03-23T11:24:17.418Z"
   },
   {
    "duration": 168,
    "start_time": "2023-03-23T11:24:19.840Z"
   },
   {
    "duration": 125,
    "start_time": "2023-03-23T11:24:26.304Z"
   },
   {
    "duration": 25,
    "start_time": "2023-03-23T11:24:35.852Z"
   },
   {
    "duration": 4,
    "start_time": "2023-03-23T11:24:37.876Z"
   },
   {
    "duration": 1173,
    "start_time": "2023-03-23T11:24:40.764Z"
   },
   {
    "duration": 8,
    "start_time": "2023-03-23T11:24:45.890Z"
   },
   {
    "duration": 19,
    "start_time": "2023-03-23T11:24:48.188Z"
   },
   {
    "duration": 10,
    "start_time": "2023-03-23T11:25:20.712Z"
   },
   {
    "duration": 9,
    "start_time": "2023-03-23T11:25:23.933Z"
   },
   {
    "duration": 5,
    "start_time": "2023-03-23T11:25:32.572Z"
   },
   {
    "duration": 872,
    "start_time": "2023-03-23T11:25:35.171Z"
   },
   {
    "duration": 3,
    "start_time": "2023-03-23T11:25:36.172Z"
   },
   {
    "duration": 7,
    "start_time": "2023-03-23T11:25:39.131Z"
   },
   {
    "duration": 3036,
    "start_time": "2023-03-23T11:25:43.316Z"
   },
   {
    "duration": 263,
    "start_time": "2023-03-23T11:25:48.851Z"
   },
   {
    "duration": 2459,
    "start_time": "2023-03-23T11:25:52.123Z"
   },
   {
    "duration": 19,
    "start_time": "2023-03-23T11:25:56.466Z"
   },
   {
    "duration": 5,
    "start_time": "2023-03-23T11:25:58.082Z"
   },
   {
    "duration": 815,
    "start_time": "2023-03-23T11:26:00.607Z"
   },
   {
    "duration": 10,
    "start_time": "2023-03-23T11:26:02.111Z"
   },
   {
    "duration": 3,
    "start_time": "2023-03-23T11:26:10.148Z"
   },
   {
    "duration": 7236,
    "start_time": "2023-03-23T11:26:35.703Z"
   },
   {
    "duration": 809,
    "start_time": "2023-03-23T11:26:42.941Z"
   },
   {
    "duration": 10,
    "start_time": "2023-03-23T11:44:41.644Z"
   },
   {
    "duration": 4,
    "start_time": "2023-03-23T11:44:43.009Z"
   },
   {
    "duration": 2991,
    "start_time": "2023-03-23T11:44:43.948Z"
   },
   {
    "duration": 821,
    "start_time": "2023-03-23T11:44:48.924Z"
   },
   {
    "duration": 3,
    "start_time": "2023-03-23T11:44:53.019Z"
   },
   {
    "duration": 4,
    "start_time": "2023-03-23T11:44:54.124Z"
   },
   {
    "duration": 3433,
    "start_time": "2023-03-23T11:44:55.409Z"
   },
   {
    "duration": 136,
    "start_time": "2023-03-23T11:45:01.902Z"
   },
   {
    "duration": 13,
    "start_time": "2023-03-23T14:27:27.493Z"
   },
   {
    "duration": 9,
    "start_time": "2023-03-23T14:27:31.674Z"
   },
   {
    "duration": 865,
    "start_time": "2023-03-23T14:27:34.650Z"
   },
   {
    "duration": 5,
    "start_time": "2023-03-23T14:27:35.518Z"
   },
   {
    "duration": 12,
    "start_time": "2023-03-23T14:27:37.703Z"
   },
   {
    "duration": 2411,
    "start_time": "2023-03-23T14:27:41.390Z"
   },
   {
    "duration": 221,
    "start_time": "2023-03-23T14:27:46.079Z"
   },
   {
    "duration": 2159,
    "start_time": "2023-03-23T14:27:48.207Z"
   },
   {
    "duration": 27,
    "start_time": "2023-03-23T14:27:53.504Z"
   },
   {
    "duration": 887,
    "start_time": "2023-03-23T14:27:57.607Z"
   },
   {
    "duration": 9,
    "start_time": "2023-03-23T14:27:59.815Z"
   },
   {
    "duration": 8,
    "start_time": "2023-03-23T14:28:00.790Z"
   },
   {
    "duration": 2542,
    "start_time": "2023-03-23T14:28:01.555Z"
   },
   {
    "duration": 699,
    "start_time": "2023-03-23T14:29:20.490Z"
   },
   {
    "duration": 10,
    "start_time": "2023-03-23T14:29:29.407Z"
   },
   {
    "duration": 4,
    "start_time": "2023-03-23T14:29:31.011Z"
   },
   {
    "duration": 2178,
    "start_time": "2023-03-23T14:29:31.856Z"
   },
   {
    "duration": 432,
    "start_time": "2023-03-23T14:29:41.158Z"
   },
   {
    "duration": 3,
    "start_time": "2023-03-23T14:29:46.152Z"
   },
   {
    "duration": 7,
    "start_time": "2023-03-23T14:29:46.794Z"
   },
   {
    "duration": 2303,
    "start_time": "2023-03-23T14:29:48.488Z"
   },
   {
    "duration": 23,
    "start_time": "2023-03-23T14:29:50.794Z"
   },
   {
    "duration": 294,
    "start_time": "2023-03-23T14:29:54.246Z"
   },
   {
    "duration": 132,
    "start_time": "2023-03-23T14:34:58.591Z"
   }
  ],
  "colab": {
   "name": "PySparkSprint.ipynb",
   "provenance": []
  },
  "kernelspec": {
   "display_name": "Python 3 (ipykernel)",
   "language": "python",
   "name": "python3"
  },
  "language_info": {
   "codemirror_mode": {
    "name": "ipython",
    "version": 3
   },
   "file_extension": ".py",
   "mimetype": "text/x-python",
   "name": "python",
   "nbconvert_exporter": "python",
   "pygments_lexer": "ipython3",
   "version": "3.9.5"
  },
  "toc": {
   "base_numbering": 1,
   "nav_menu": {},
   "number_sections": true,
   "sideBar": true,
   "skip_h1_title": true,
   "title_cell": "Table of Contents",
   "title_sidebar": "Contents",
   "toc_cell": false,
   "toc_position": {},
   "toc_section_display": true,
   "toc_window_display": false
  }
 },
 "nbformat": 4,
 "nbformat_minor": 5
}
