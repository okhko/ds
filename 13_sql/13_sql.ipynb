{
 "cells": [
  {
   "attachments": {},
   "cell_type": "markdown",
   "metadata": {
    "id": "sRW85nPMDWKb"
   },
   "source": [
    "В этой части проекта вам нужно написать несколько SQL-запросов в Jupyter Notebook. Эти задания проверят вручную, и вы получите комментарии к составленным запросам. \n",
    "\n",
    "Необходимые данные находятся в таблицах схемы `stackoverflow`. Не забудьте подключиться к базе с помощью SQLAlchemy. Вспомните инструкцию из урока 11 «Когортный анализ. Представление результатов» в теме 2 «Установка и настройка базы данных и клиента базы данных».. Пример кода для подключения к базе и выгрузки результатов вы найдёте и в этой тетрадке. \n",
    "\n",
    "Некоторые задания включают дополнительные вопросы — не пропустите их. На часть вопросов можно ответить текстом, а для некоторых понадобится визуализация. Помните, что результат запроса можно выгрузить в датафрейм. \n",
    "\n",
    "Чтобы ожидаемый результат было легче представить, мы добавили к каждому заданию небольшой фрагмент итоговой таблицы. В запросах вы можете использовать любые подходящие названия полей."
   ]
  },
  {
   "cell_type": "code",
   "execution_count": 1,
   "metadata": {
    "id": "nlZBlglMDWKe"
   },
   "outputs": [],
   "source": [
    "import pandas as pd\n",
    "import matplotlib.pyplot as plt\n",
    "import seaborn as sns\n",
    "from sqlalchemy import create_engine, text"
   ]
  },
  {
   "attachments": {},
   "cell_type": "markdown",
   "metadata": {},
   "source": [
    "Константы"
   ]
  },
  {
   "cell_type": "code",
   "execution_count": 2,
   "metadata": {},
   "outputs": [],
   "source": [
    "users = 'stackoverflow.users'\n",
    "posts = 'stackoverflow.posts'\n",
    "post_types = 'stackoverflow.post_types'\n",
    "badges = 'stackoverflow.badges'\n",
    "votes = 'stackoverflow.votes'\n",
    "vote_types = 'stackoverflow.vote_types'"
   ]
  },
  {
   "attachments": {},
   "cell_type": "markdown",
   "metadata": {},
   "source": [
    "Настройки"
   ]
  },
  {
   "cell_type": "code",
   "execution_count": 3,
   "metadata": {},
   "outputs": [],
   "source": [
    "# Seaborn\n",
    "\n",
    "PLOT_DPI = 150  # dpi for charts rendering \n",
    "sns.set_style('whitegrid', {'axes.facecolor': '0.98', 'grid.color': '0.9', 'axes.edgecolor': '1.0'})\n",
    "plt.rc(\n",
    "       'axes',\n",
    "       labelweight='bold',\n",
    "       titlesize=16,\n",
    "       titlepad=10,\n",
    "      )"
   ]
  },
  {
   "cell_type": "code",
   "execution_count": 4,
   "metadata": {},
   "outputs": [],
   "source": [
    "# Pandas defaults\n",
    "\n",
    "pd.options.display.max_colwidth = 100\n",
    "pd.options.display.max_rows = 500\n",
    "pd.options.display.max_columns = 100\n",
    "pd.options.display.float_format = '{:.2f}'.format # изменено с '{:.3f}' на '{:.2f}'\n",
    "pd.options.display.colheader_justify = 'left'"
   ]
  },
  {
   "attachments": {},
   "cell_type": "markdown",
   "metadata": {
    "id": "XnOE3n28DWKg"
   },
   "source": [
    "### Конфигурация для подключения к базе данных `data-analyst-advanced-sql`\n",
    "Эта база данных содержит схему `stackoverflow`, с которой вы будете работать в проекте"
   ]
  },
  {
   "cell_type": "code",
   "execution_count": 5,
   "metadata": {
    "id": "6p-yGp7qDWKg"
   },
   "outputs": [],
   "source": [
    "db_config = {\n",
    "    'user': 'praktikum_student', # имя пользователя\n",
    "    'pwd': 'Sdf4$2;d-d30pp', # пароль\n",
    "    'host': 'rc1b-wcoijxj3yxfsf3fs.mdb.yandexcloud.net',\n",
    "    'port': 6432, # порт подключения\n",
    "    'db': 'data-analyst-advanced-sql' # название базы данных\n",
    "}  \n",
    "\n",
    "connection_string = 'postgresql://{}:{}@{}:{}/{}'.format(\n",
    "    db_config['user'],\n",
    "    db_config['pwd'],\n",
    "    db_config['host'],\n",
    "    db_config['port'],\n",
    "    db_config['db'],\n",
    ")"
   ]
  },
  {
   "attachments": {},
   "cell_type": "markdown",
   "metadata": {
    "id": "2Rg8ZpS0DWKh"
   },
   "source": [
    "Создание подключения"
   ]
  },
  {
   "cell_type": "code",
   "execution_count": 6,
   "metadata": {
    "id": "DamCUTR6DWKi"
   },
   "outputs": [],
   "source": [
    "engine = create_engine(connection_string) "
   ]
  },
  {
   "attachments": {},
   "cell_type": "markdown",
   "metadata": {
    "id": "bel8XeSlDWKj"
   },
   "source": [
    "Пример запроса к базе данных\n",
    "\n",
    "`sample_df` является pandas-датафреймом."
   ]
  },
  {
   "cell_type": "code",
   "execution_count": 7,
   "metadata": {
    "id": "6Z_fw0yLDWKk"
   },
   "outputs": [],
   "source": [
    "query = '''\n",
    "SELECT *\n",
    "FROM stackoverflow.users\n",
    "LIMIT 10;\n",
    "'''\n",
    "\n",
    "sample_df = pd.read_sql_query(query, con=engine) "
   ]
  },
  {
   "cell_type": "code",
   "execution_count": 8,
   "metadata": {
    "id": "ZpuZ290oDWKk",
    "outputId": "22785a0a-e2bc-4559-ec3c-4879c4b377eb",
    "scrolled": true
   },
   "outputs": [
    {
     "data": {
      "text/html": [
       "<div>\n",
       "<style scoped>\n",
       "    .dataframe tbody tr th:only-of-type {\n",
       "        vertical-align: middle;\n",
       "    }\n",
       "\n",
       "    .dataframe tbody tr th {\n",
       "        vertical-align: top;\n",
       "    }\n",
       "\n",
       "    .dataframe thead th {\n",
       "        text-align: right;\n",
       "    }\n",
       "</style>\n",
       "<table border=\"1\" class=\"dataframe\">\n",
       "  <thead>\n",
       "    <tr style=\"text-align: left;\">\n",
       "      <th></th>\n",
       "      <th>id</th>\n",
       "      <th>creation_date</th>\n",
       "      <th>display_name</th>\n",
       "      <th>last_access_date</th>\n",
       "      <th>location</th>\n",
       "      <th>reputation</th>\n",
       "      <th>views</th>\n",
       "    </tr>\n",
       "  </thead>\n",
       "  <tbody>\n",
       "    <tr>\n",
       "      <th>0</th>\n",
       "      <td>1</td>\n",
       "      <td>2008-07-31 14:22:31</td>\n",
       "      <td>Jeff Atwood</td>\n",
       "      <td>2018-08-29 02:34:23</td>\n",
       "      <td>El Cerrito, CA</td>\n",
       "      <td>44300</td>\n",
       "      <td>408587</td>\n",
       "    </tr>\n",
       "    <tr>\n",
       "      <th>1</th>\n",
       "      <td>2</td>\n",
       "      <td>2008-07-31 14:22:31</td>\n",
       "      <td>Geoff Dalgas</td>\n",
       "      <td>2018-08-23 17:31:56</td>\n",
       "      <td>Corvallis, OR</td>\n",
       "      <td>3491</td>\n",
       "      <td>23966</td>\n",
       "    </tr>\n",
       "    <tr>\n",
       "      <th>2</th>\n",
       "      <td>3</td>\n",
       "      <td>2008-07-31 14:22:31</td>\n",
       "      <td>Jarrod Dixon</td>\n",
       "      <td>2018-08-30 20:56:24</td>\n",
       "      <td>Raleigh, NC, United States</td>\n",
       "      <td>13418</td>\n",
       "      <td>24396</td>\n",
       "    </tr>\n",
       "    <tr>\n",
       "      <th>3</th>\n",
       "      <td>4</td>\n",
       "      <td>2008-07-31 14:22:31</td>\n",
       "      <td>Joel Spolsky</td>\n",
       "      <td>2018-08-14 22:18:15</td>\n",
       "      <td>New York, NY</td>\n",
       "      <td>28768</td>\n",
       "      <td>73755</td>\n",
       "    </tr>\n",
       "    <tr>\n",
       "      <th>4</th>\n",
       "      <td>5</td>\n",
       "      <td>2008-07-31 14:22:31</td>\n",
       "      <td>Jon Galloway</td>\n",
       "      <td>2018-08-29 16:48:36</td>\n",
       "      <td>San Diego, CA</td>\n",
       "      <td>39172</td>\n",
       "      <td>11700</td>\n",
       "    </tr>\n",
       "    <tr>\n",
       "      <th>5</th>\n",
       "      <td>8</td>\n",
       "      <td>2008-07-31 21:33:24</td>\n",
       "      <td>Eggs McLaren</td>\n",
       "      <td>2018-04-09 02:04:56</td>\n",
       "      <td>None</td>\n",
       "      <td>942</td>\n",
       "      <td>6372</td>\n",
       "    </tr>\n",
       "    <tr>\n",
       "      <th>6</th>\n",
       "      <td>9</td>\n",
       "      <td>2008-07-31 21:35:27</td>\n",
       "      <td>Kevin Dente</td>\n",
       "      <td>2018-08-30 18:18:03</td>\n",
       "      <td>Oakland, CA</td>\n",
       "      <td>14337</td>\n",
       "      <td>4949</td>\n",
       "    </tr>\n",
       "    <tr>\n",
       "      <th>7</th>\n",
       "      <td>11</td>\n",
       "      <td>2008-08-01 00:59:11</td>\n",
       "      <td>Anonymous User</td>\n",
       "      <td>2008-08-01 00:59:11</td>\n",
       "      <td>None</td>\n",
       "      <td>1890</td>\n",
       "      <td>2123</td>\n",
       "    </tr>\n",
       "    <tr>\n",
       "      <th>8</th>\n",
       "      <td>13</td>\n",
       "      <td>2008-08-01 04:18:05</td>\n",
       "      <td>Chris Jester-Young</td>\n",
       "      <td>2018-08-30 02:47:23</td>\n",
       "      <td>Raleigh, NC, United States</td>\n",
       "      <td>177138</td>\n",
       "      <td>35414</td>\n",
       "    </tr>\n",
       "    <tr>\n",
       "      <th>9</th>\n",
       "      <td>17</td>\n",
       "      <td>2008-08-01 12:02:22</td>\n",
       "      <td>Nick Berardi</td>\n",
       "      <td>2018-01-22 01:35:38</td>\n",
       "      <td>Issaquah, WA</td>\n",
       "      <td>44443</td>\n",
       "      <td>4786</td>\n",
       "    </tr>\n",
       "  </tbody>\n",
       "</table>\n",
       "</div>"
      ],
      "text/plain": [
       "   id creation_date       display_name        last_access_date     \\\n",
       "0   1 2008-07-31 14:22:31         Jeff Atwood 2018-08-29 02:34:23   \n",
       "1   2 2008-07-31 14:22:31        Geoff Dalgas 2018-08-23 17:31:56   \n",
       "2   3 2008-07-31 14:22:31        Jarrod Dixon 2018-08-30 20:56:24   \n",
       "3   4 2008-07-31 14:22:31        Joel Spolsky 2018-08-14 22:18:15   \n",
       "4   5 2008-07-31 14:22:31        Jon Galloway 2018-08-29 16:48:36   \n",
       "5   8 2008-07-31 21:33:24        Eggs McLaren 2018-04-09 02:04:56   \n",
       "6   9 2008-07-31 21:35:27         Kevin Dente 2018-08-30 18:18:03   \n",
       "7  11 2008-08-01 00:59:11      Anonymous User 2008-08-01 00:59:11   \n",
       "8  13 2008-08-01 04:18:05  Chris Jester-Young 2018-08-30 02:47:23   \n",
       "9  17 2008-08-01 12:02:22        Nick Berardi 2018-01-22 01:35:38   \n",
       "\n",
       "  location                     reputation  views   \n",
       "0              El Cerrito, CA   44300      408587  \n",
       "1               Corvallis, OR    3491       23966  \n",
       "2  Raleigh, NC, United States   13418       24396  \n",
       "3                New York, NY   28768       73755  \n",
       "4               San Diego, CA   39172       11700  \n",
       "5                        None     942        6372  \n",
       "6                 Oakland, CA   14337        4949  \n",
       "7                        None    1890        2123  \n",
       "8  Raleigh, NC, United States  177138       35414  \n",
       "9                Issaquah, WA   44443        4786  "
      ]
     },
     "execution_count": 8,
     "metadata": {},
     "output_type": "execute_result"
    }
   ],
   "source": [
    "sample_df"
   ]
  },
  {
   "attachments": {},
   "cell_type": "markdown",
   "metadata": {},
   "source": [
    "Функция"
   ]
  },
  {
   "cell_type": "code",
   "execution_count": 9,
   "metadata": {},
   "outputs": [],
   "source": [
    "def sql_query(query_text):\n",
    "    \n",
    "    engine = create_engine(connection_string)           # создание подключения\n",
    "    \n",
    "    with engine.begin() as conn:\n",
    "        return pd.read_sql_query(text(query), conn)"
   ]
  },
  {
   "attachments": {},
   "cell_type": "markdown",
   "metadata": {
    "id": "gnBMXkDBDWKm"
   },
   "source": [
    "# Задание 1"
   ]
  },
  {
   "attachments": {},
   "cell_type": "markdown",
   "metadata": {
    "id": "vHsfOrrNDWKn"
   },
   "source": [
    "Выведите общую сумму просмотров постов за каждый месяц 2008 года. Если данных за какой-либо месяц в базе нет, такой месяц можно пропустить. Результат отсортируйте по убыванию общего количества просмотров."
   ]
  },
  {
   "attachments": {},
   "cell_type": "markdown",
   "metadata": {
    "id": "N5rTgGNmDWKn"
   },
   "source": [
    "| month_date  | total_views |\n",
    "| ------------- | ------------- |\n",
    "| 2008-09-01  | 452928568  |\n",
    "| 2008-10-01  | 365400138  |\n",
    "| ...         | ... |"
   ]
  },
  {
   "cell_type": "code",
   "execution_count": 10,
   "metadata": {
    "id": "eWvykcXTDWKo"
   },
   "outputs": [
    {
     "data": {
      "text/html": [
       "<div>\n",
       "<style scoped>\n",
       "    .dataframe tbody tr th:only-of-type {\n",
       "        vertical-align: middle;\n",
       "    }\n",
       "\n",
       "    .dataframe tbody tr th {\n",
       "        vertical-align: top;\n",
       "    }\n",
       "\n",
       "    .dataframe thead th {\n",
       "        text-align: right;\n",
       "    }\n",
       "</style>\n",
       "<table border=\"1\" class=\"dataframe\">\n",
       "  <thead>\n",
       "    <tr style=\"text-align: left;\">\n",
       "      <th></th>\n",
       "      <th>month_date</th>\n",
       "      <th>total_views</th>\n",
       "    </tr>\n",
       "  </thead>\n",
       "  <tbody>\n",
       "    <tr>\n",
       "      <th>0</th>\n",
       "      <td>2008-09-01</td>\n",
       "      <td>452928568</td>\n",
       "    </tr>\n",
       "    <tr>\n",
       "      <th>1</th>\n",
       "      <td>2008-10-01</td>\n",
       "      <td>365400138</td>\n",
       "    </tr>\n",
       "    <tr>\n",
       "      <th>2</th>\n",
       "      <td>2008-11-01</td>\n",
       "      <td>221759651</td>\n",
       "    </tr>\n",
       "    <tr>\n",
       "      <th>3</th>\n",
       "      <td>2008-12-01</td>\n",
       "      <td>197792841</td>\n",
       "    </tr>\n",
       "    <tr>\n",
       "      <th>4</th>\n",
       "      <td>2008-08-01</td>\n",
       "      <td>131367083</td>\n",
       "    </tr>\n",
       "    <tr>\n",
       "      <th>5</th>\n",
       "      <td>2008-07-01</td>\n",
       "      <td>669895</td>\n",
       "    </tr>\n",
       "  </tbody>\n",
       "</table>\n",
       "</div>"
      ],
      "text/plain": [
       "  month_date  total_views\n",
       "0 2008-09-01  452928568  \n",
       "1 2008-10-01  365400138  \n",
       "2 2008-11-01  221759651  \n",
       "3 2008-12-01  197792841  \n",
       "4 2008-08-01  131367083  \n",
       "5 2008-07-01     669895  "
      ]
     },
     "execution_count": 10,
     "metadata": {},
     "output_type": "execute_result"
    }
   ],
   "source": [
    "query = f'''\n",
    "\n",
    "        SELECT\n",
    "            DATE_TRUNC('month', creation_date) AS month_date,\n",
    "            SUM(views_count) AS total_views\n",
    "        \n",
    "        FROM\n",
    "            {posts}\n",
    "        \n",
    "        GROUP BY\n",
    "            DATE_TRUNC('month', creation_date)\n",
    "        \n",
    "        ORDER BY\n",
    "            total_views DESC\n",
    "\n",
    "        '''\n",
    "\n",
    "df = sql_query(query)\n",
    "df\n"
   ]
  },
  {
   "attachments": {},
   "cell_type": "markdown",
   "metadata": {
    "id": "I_ZvhOxkDWKp"
   },
   "source": [
    "Проанализируйте итоговую таблицу. Отличаются ли данные за разные месяцы? С чем могут быть связаны отличия?"
   ]
  },
  {
   "cell_type": "code",
   "execution_count": 11,
   "metadata": {
    "id": "luxSj17oDWKq"
   },
   "outputs": [],
   "source": [
    "# напишите ваш ответ здесь"
   ]
  },
  {
   "attachments": {},
   "cell_type": "markdown",
   "metadata": {},
   "source": [
    "Мы видим, что самое большое количество просмотров в 2008 г наблюдается в осенний период. Дальше по-убыванию зима и лето.\n",
    "Вероятнее всего всплеск активности просмотров в осенний период связан с началом учебного сезона. Соответственно, ближе к летним каникулам интерес к учёбе постепено сходит на нет."
   ]
  },
  {
   "attachments": {},
   "cell_type": "markdown",
   "metadata": {
    "id": "FziIXkn5DWKr"
   },
   "source": [
    "# Задание 2"
   ]
  },
  {
   "attachments": {},
   "cell_type": "markdown",
   "metadata": {
    "id": "fTGESZvYDWKr"
   },
   "source": [
    "Выведите имена самых активных пользователей, которые в первый месяц после регистрации (включая день регистрации) дали больше 100 ответов. Вопросы, которые задавали пользователи, не учитывайте. Для каждого имени пользователя выведите количество уникальных значений `user_id`. Отсортируйте результат по полю с именами в лексикографическом порядке."
   ]
  },
  {
   "attachments": {},
   "cell_type": "markdown",
   "metadata": {
    "id": "W5-tv6Y3DWKs"
   },
   "source": [
    "| display_name | count |\n",
    "| ------------ | ----- |\n",
    "| 1800 INFORMATION | 1 |\n",
    "| Adam Bellaire | 1 |\n",
    "| Adam Davis | 1 |\n",
    "| ... | ... |"
   ]
  },
  {
   "cell_type": "code",
   "execution_count": 12,
   "metadata": {
    "id": "fIO-y-YjDWKt"
   },
   "outputs": [
    {
     "data": {
      "text/html": [
       "<div>\n",
       "<style scoped>\n",
       "    .dataframe tbody tr th:only-of-type {\n",
       "        vertical-align: middle;\n",
       "    }\n",
       "\n",
       "    .dataframe tbody tr th {\n",
       "        vertical-align: top;\n",
       "    }\n",
       "\n",
       "    .dataframe thead th {\n",
       "        text-align: right;\n",
       "    }\n",
       "</style>\n",
       "<table border=\"1\" class=\"dataframe\">\n",
       "  <thead>\n",
       "    <tr style=\"text-align: left;\">\n",
       "      <th></th>\n",
       "      <th>display_name</th>\n",
       "      <th>count</th>\n",
       "    </tr>\n",
       "  </thead>\n",
       "  <tbody>\n",
       "    <tr>\n",
       "      <th>0</th>\n",
       "      <td>1800 INFORMATION</td>\n",
       "      <td>1</td>\n",
       "    </tr>\n",
       "    <tr>\n",
       "      <th>1</th>\n",
       "      <td>Adam Bellaire</td>\n",
       "      <td>1</td>\n",
       "    </tr>\n",
       "    <tr>\n",
       "      <th>2</th>\n",
       "      <td>Adam Davis</td>\n",
       "      <td>1</td>\n",
       "    </tr>\n",
       "    <tr>\n",
       "      <th>3</th>\n",
       "      <td>Adam Liss</td>\n",
       "      <td>1</td>\n",
       "    </tr>\n",
       "    <tr>\n",
       "      <th>4</th>\n",
       "      <td>Alan</td>\n",
       "      <td>8</td>\n",
       "    </tr>\n",
       "    <tr>\n",
       "      <th>5</th>\n",
       "      <td>Amy B</td>\n",
       "      <td>1</td>\n",
       "    </tr>\n",
       "    <tr>\n",
       "      <th>6</th>\n",
       "      <td>Ben Hoffstein</td>\n",
       "      <td>1</td>\n",
       "    </tr>\n",
       "    <tr>\n",
       "      <th>7</th>\n",
       "      <td>Brian</td>\n",
       "      <td>15</td>\n",
       "    </tr>\n",
       "    <tr>\n",
       "      <th>8</th>\n",
       "      <td>Cade Roux</td>\n",
       "      <td>1</td>\n",
       "    </tr>\n",
       "    <tr>\n",
       "      <th>9</th>\n",
       "      <td>CesarB</td>\n",
       "      <td>1</td>\n",
       "    </tr>\n",
       "    <tr>\n",
       "      <th>10</th>\n",
       "      <td>Chris</td>\n",
       "      <td>29</td>\n",
       "    </tr>\n",
       "    <tr>\n",
       "      <th>11</th>\n",
       "      <td>ConcernedOfTunbridgeWells</td>\n",
       "      <td>1</td>\n",
       "    </tr>\n",
       "    <tr>\n",
       "      <th>12</th>\n",
       "      <td>Craig</td>\n",
       "      <td>10</td>\n",
       "    </tr>\n",
       "    <tr>\n",
       "      <th>13</th>\n",
       "      <td>Dale Ragan</td>\n",
       "      <td>1</td>\n",
       "    </tr>\n",
       "    <tr>\n",
       "      <th>14</th>\n",
       "      <td>Dan</td>\n",
       "      <td>21</td>\n",
       "    </tr>\n",
       "    <tr>\n",
       "      <th>15</th>\n",
       "      <td>Eric Z Beard</td>\n",
       "      <td>1</td>\n",
       "    </tr>\n",
       "    <tr>\n",
       "      <th>16</th>\n",
       "      <td>Espo</td>\n",
       "      <td>1</td>\n",
       "    </tr>\n",
       "    <tr>\n",
       "      <th>17</th>\n",
       "      <td>FlySwat</td>\n",
       "      <td>1</td>\n",
       "    </tr>\n",
       "    <tr>\n",
       "      <th>18</th>\n",
       "      <td>Franci Penov</td>\n",
       "      <td>1</td>\n",
       "    </tr>\n",
       "    <tr>\n",
       "      <th>19</th>\n",
       "      <td>GEOCHET</td>\n",
       "      <td>1</td>\n",
       "    </tr>\n",
       "    <tr>\n",
       "      <th>20</th>\n",
       "      <td>GateKiller</td>\n",
       "      <td>1</td>\n",
       "    </tr>\n",
       "    <tr>\n",
       "      <th>21</th>\n",
       "      <td>Greg</td>\n",
       "      <td>12</td>\n",
       "    </tr>\n",
       "    <tr>\n",
       "      <th>22</th>\n",
       "      <td>Gulzar Nazim</td>\n",
       "      <td>1</td>\n",
       "    </tr>\n",
       "    <tr>\n",
       "      <th>23</th>\n",
       "      <td>Ilya Kochetov</td>\n",
       "      <td>1</td>\n",
       "    </tr>\n",
       "    <tr>\n",
       "      <th>24</th>\n",
       "      <td>James Curran</td>\n",
       "      <td>1</td>\n",
       "    </tr>\n",
       "    <tr>\n",
       "      <th>25</th>\n",
       "      <td>Jim</td>\n",
       "      <td>7</td>\n",
       "    </tr>\n",
       "    <tr>\n",
       "      <th>26</th>\n",
       "      <td>Joe</td>\n",
       "      <td>9</td>\n",
       "    </tr>\n",
       "    <tr>\n",
       "      <th>27</th>\n",
       "      <td>Joel Coehoorn</td>\n",
       "      <td>1</td>\n",
       "    </tr>\n",
       "    <tr>\n",
       "      <th>28</th>\n",
       "      <td>Johannes Schaub - litb</td>\n",
       "      <td>1</td>\n",
       "    </tr>\n",
       "    <tr>\n",
       "      <th>29</th>\n",
       "      <td>John Millikin</td>\n",
       "      <td>1</td>\n",
       "    </tr>\n",
       "    <tr>\n",
       "      <th>30</th>\n",
       "      <td>Jon Limjap</td>\n",
       "      <td>1</td>\n",
       "    </tr>\n",
       "    <tr>\n",
       "      <th>31</th>\n",
       "      <td>Jon Skeet</td>\n",
       "      <td>1</td>\n",
       "    </tr>\n",
       "    <tr>\n",
       "      <th>32</th>\n",
       "      <td>Jorge Ferreira</td>\n",
       "      <td>1</td>\n",
       "    </tr>\n",
       "    <tr>\n",
       "      <th>33</th>\n",
       "      <td>Josh</td>\n",
       "      <td>16</td>\n",
       "    </tr>\n",
       "    <tr>\n",
       "      <th>34</th>\n",
       "      <td>Keith</td>\n",
       "      <td>5</td>\n",
       "    </tr>\n",
       "    <tr>\n",
       "      <th>35</th>\n",
       "      <td>Kevin</td>\n",
       "      <td>11</td>\n",
       "    </tr>\n",
       "    <tr>\n",
       "      <th>36</th>\n",
       "      <td>Kibbee</td>\n",
       "      <td>1</td>\n",
       "    </tr>\n",
       "    <tr>\n",
       "      <th>37</th>\n",
       "      <td>Konrad Rudolph</td>\n",
       "      <td>1</td>\n",
       "    </tr>\n",
       "    <tr>\n",
       "      <th>38</th>\n",
       "      <td>Lasse Vågsæther Karlsen</td>\n",
       "      <td>1</td>\n",
       "    </tr>\n",
       "    <tr>\n",
       "      <th>39</th>\n",
       "      <td>Lou Franco</td>\n",
       "      <td>1</td>\n",
       "    </tr>\n",
       "    <tr>\n",
       "      <th>40</th>\n",
       "      <td>Marc Gravell</td>\n",
       "      <td>1</td>\n",
       "    </tr>\n",
       "    <tr>\n",
       "      <th>41</th>\n",
       "      <td>Mark</td>\n",
       "      <td>17</td>\n",
       "    </tr>\n",
       "    <tr>\n",
       "      <th>42</th>\n",
       "      <td>Mark Cidade</td>\n",
       "      <td>1</td>\n",
       "    </tr>\n",
       "    <tr>\n",
       "      <th>43</th>\n",
       "      <td>Mark Harrison</td>\n",
       "      <td>1</td>\n",
       "    </tr>\n",
       "    <tr>\n",
       "      <th>44</th>\n",
       "      <td>Martin v. Löwis</td>\n",
       "      <td>1</td>\n",
       "    </tr>\n",
       "    <tr>\n",
       "      <th>45</th>\n",
       "      <td>Matt</td>\n",
       "      <td>29</td>\n",
       "    </tr>\n",
       "    <tr>\n",
       "      <th>46</th>\n",
       "      <td>Matt Hamilton</td>\n",
       "      <td>1</td>\n",
       "    </tr>\n",
       "    <tr>\n",
       "      <th>47</th>\n",
       "      <td>Michael Burr</td>\n",
       "      <td>1</td>\n",
       "    </tr>\n",
       "    <tr>\n",
       "      <th>48</th>\n",
       "      <td>Michael Stum</td>\n",
       "      <td>1</td>\n",
       "    </tr>\n",
       "    <tr>\n",
       "      <th>49</th>\n",
       "      <td>Mitchel Sellers</td>\n",
       "      <td>1</td>\n",
       "    </tr>\n",
       "    <tr>\n",
       "      <th>50</th>\n",
       "      <td>Nick</td>\n",
       "      <td>16</td>\n",
       "    </tr>\n",
       "    <tr>\n",
       "      <th>51</th>\n",
       "      <td>Norman Ramsey</td>\n",
       "      <td>1</td>\n",
       "    </tr>\n",
       "    <tr>\n",
       "      <th>52</th>\n",
       "      <td>Oli</td>\n",
       "      <td>3</td>\n",
       "    </tr>\n",
       "    <tr>\n",
       "      <th>53</th>\n",
       "      <td>Orion Edwards</td>\n",
       "      <td>1</td>\n",
       "    </tr>\n",
       "    <tr>\n",
       "      <th>54</th>\n",
       "      <td>Paul Nathan</td>\n",
       "      <td>1</td>\n",
       "    </tr>\n",
       "    <tr>\n",
       "      <th>55</th>\n",
       "      <td>PhiLho</td>\n",
       "      <td>1</td>\n",
       "    </tr>\n",
       "    <tr>\n",
       "      <th>56</th>\n",
       "      <td>Rob</td>\n",
       "      <td>15</td>\n",
       "    </tr>\n",
       "    <tr>\n",
       "      <th>57</th>\n",
       "      <td>Rob Cooper</td>\n",
       "      <td>1</td>\n",
       "    </tr>\n",
       "    <tr>\n",
       "      <th>58</th>\n",
       "      <td>Rob Walker</td>\n",
       "      <td>1</td>\n",
       "    </tr>\n",
       "    <tr>\n",
       "      <th>59</th>\n",
       "      <td>Ryan</td>\n",
       "      <td>10</td>\n",
       "    </tr>\n",
       "    <tr>\n",
       "      <th>60</th>\n",
       "      <td>S.Lott</td>\n",
       "      <td>1</td>\n",
       "    </tr>\n",
       "    <tr>\n",
       "      <th>61</th>\n",
       "      <td>Sklivvz</td>\n",
       "      <td>1</td>\n",
       "    </tr>\n",
       "    <tr>\n",
       "      <th>62</th>\n",
       "      <td>Steven A. Lowe</td>\n",
       "      <td>1</td>\n",
       "    </tr>\n",
       "    <tr>\n",
       "      <th>63</th>\n",
       "      <td>TheSmurf</td>\n",
       "      <td>1</td>\n",
       "    </tr>\n",
       "    <tr>\n",
       "      <th>64</th>\n",
       "      <td>Tom</td>\n",
       "      <td>19</td>\n",
       "    </tr>\n",
       "    <tr>\n",
       "      <th>65</th>\n",
       "      <td>Vilx-</td>\n",
       "      <td>1</td>\n",
       "    </tr>\n",
       "    <tr>\n",
       "      <th>66</th>\n",
       "      <td>Vinko Vrsalovic</td>\n",
       "      <td>1</td>\n",
       "    </tr>\n",
       "    <tr>\n",
       "      <th>67</th>\n",
       "      <td>aku</td>\n",
       "      <td>1</td>\n",
       "    </tr>\n",
       "    <tr>\n",
       "      <th>68</th>\n",
       "      <td>anjanb</td>\n",
       "      <td>1</td>\n",
       "    </tr>\n",
       "    <tr>\n",
       "      <th>69</th>\n",
       "      <td>dkretz</td>\n",
       "      <td>1</td>\n",
       "    </tr>\n",
       "    <tr>\n",
       "      <th>70</th>\n",
       "      <td>frankodwyer</td>\n",
       "      <td>1</td>\n",
       "    </tr>\n",
       "    <tr>\n",
       "      <th>71</th>\n",
       "      <td>gbjbaanb</td>\n",
       "      <td>1</td>\n",
       "    </tr>\n",
       "    <tr>\n",
       "      <th>72</th>\n",
       "      <td>jfs</td>\n",
       "      <td>3</td>\n",
       "    </tr>\n",
       "    <tr>\n",
       "      <th>73</th>\n",
       "      <td>leppie</td>\n",
       "      <td>1</td>\n",
       "    </tr>\n",
       "    <tr>\n",
       "      <th>74</th>\n",
       "      <td>lomaxx</td>\n",
       "      <td>1</td>\n",
       "    </tr>\n",
       "    <tr>\n",
       "      <th>75</th>\n",
       "      <td>mattlant</td>\n",
       "      <td>1</td>\n",
       "    </tr>\n",
       "    <tr>\n",
       "      <th>76</th>\n",
       "      <td>paxdiablo</td>\n",
       "      <td>1</td>\n",
       "    </tr>\n",
       "    <tr>\n",
       "      <th>77</th>\n",
       "      <td>tvanfosson</td>\n",
       "      <td>1</td>\n",
       "    </tr>\n",
       "    <tr>\n",
       "      <th>78</th>\n",
       "      <td>tzot</td>\n",
       "      <td>1</td>\n",
       "    </tr>\n",
       "  </tbody>\n",
       "</table>\n",
       "</div>"
      ],
      "text/plain": [
       "   display_name                count\n",
       "0            1800 INFORMATION   1   \n",
       "1               Adam Bellaire   1   \n",
       "2                  Adam Davis   1   \n",
       "3                   Adam Liss   1   \n",
       "4                        Alan   8   \n",
       "5                       Amy B   1   \n",
       "6               Ben Hoffstein   1   \n",
       "7                       Brian  15   \n",
       "8                   Cade Roux   1   \n",
       "9                      CesarB   1   \n",
       "10                      Chris  29   \n",
       "11  ConcernedOfTunbridgeWells   1   \n",
       "12                      Craig  10   \n",
       "13                 Dale Ragan   1   \n",
       "14                        Dan  21   \n",
       "15               Eric Z Beard   1   \n",
       "16                       Espo   1   \n",
       "17                    FlySwat   1   \n",
       "18               Franci Penov   1   \n",
       "19                    GEOCHET   1   \n",
       "20                 GateKiller   1   \n",
       "21                       Greg  12   \n",
       "22               Gulzar Nazim   1   \n",
       "23              Ilya Kochetov   1   \n",
       "24               James Curran   1   \n",
       "25                        Jim   7   \n",
       "26                        Joe   9   \n",
       "27              Joel Coehoorn   1   \n",
       "28     Johannes Schaub - litb   1   \n",
       "29              John Millikin   1   \n",
       "30                 Jon Limjap   1   \n",
       "31                  Jon Skeet   1   \n",
       "32             Jorge Ferreira   1   \n",
       "33                       Josh  16   \n",
       "34                      Keith   5   \n",
       "35                      Kevin  11   \n",
       "36                     Kibbee   1   \n",
       "37             Konrad Rudolph   1   \n",
       "38    Lasse Vågsæther Karlsen   1   \n",
       "39                 Lou Franco   1   \n",
       "40               Marc Gravell   1   \n",
       "41                       Mark  17   \n",
       "42                Mark Cidade   1   \n",
       "43              Mark Harrison   1   \n",
       "44            Martin v. Löwis   1   \n",
       "45                       Matt  29   \n",
       "46              Matt Hamilton   1   \n",
       "47               Michael Burr   1   \n",
       "48               Michael Stum   1   \n",
       "49            Mitchel Sellers   1   \n",
       "50                       Nick  16   \n",
       "51              Norman Ramsey   1   \n",
       "52                        Oli   3   \n",
       "53              Orion Edwards   1   \n",
       "54                Paul Nathan   1   \n",
       "55                     PhiLho   1   \n",
       "56                        Rob  15   \n",
       "57                 Rob Cooper   1   \n",
       "58                 Rob Walker   1   \n",
       "59                       Ryan  10   \n",
       "60                     S.Lott   1   \n",
       "61                    Sklivvz   1   \n",
       "62             Steven A. Lowe   1   \n",
       "63                   TheSmurf   1   \n",
       "64                        Tom  19   \n",
       "65                      Vilx-   1   \n",
       "66            Vinko Vrsalovic   1   \n",
       "67                        aku   1   \n",
       "68                     anjanb   1   \n",
       "69                     dkretz   1   \n",
       "70                frankodwyer   1   \n",
       "71                   gbjbaanb   1   \n",
       "72                        jfs   3   \n",
       "73                     leppie   1   \n",
       "74                     lomaxx   1   \n",
       "75                   mattlant   1   \n",
       "76                  paxdiablo   1   \n",
       "77                 tvanfosson   1   \n",
       "78                       tzot   1   "
      ]
     },
     "execution_count": 12,
     "metadata": {},
     "output_type": "execute_result"
    }
   ],
   "source": [
    "# напишите запрос\n",
    "query = f'''\n",
    "\n",
    "        SELECT DISTINCT\n",
    "            {users}.display_name,\n",
    "            COUNT(DISTINCT {users}.id)\n",
    "        FROM\n",
    "            {users}\n",
    "            JOIN {posts} ON {posts}.user_id = {users}.id\n",
    "            JOIN {post_types} ON {post_types}.id = {posts}.post_type_id\n",
    "        \n",
    "        WHERE\n",
    "           {post_types}.type LIKE '%Answer%'\n",
    "           AND\n",
    "           {posts}.creation_date::date BETWEEN {users}.creation_date::date AND\n",
    "                                               {users}.creation_date::date + INTERVAL '1 month'\n",
    "        GROUP BY\n",
    "            {users}.display_name\n",
    "           \n",
    "        HAVING\n",
    "            COUNT({posts}.id) > 100\n",
    "            \n",
    "        ORDER BY\n",
    "            {users}.display_name\n",
    "           \n",
    "        '''\n",
    "\n",
    "sql_query(query)"
   ]
  },
  {
   "attachments": {},
   "cell_type": "markdown",
   "metadata": {
    "id": "I3Wr82TplKpI"
   },
   "source": [
    "Какие аномалии наблюдаются в данных? О чём они говорят?"
   ]
  },
  {
   "cell_type": "code",
   "execution_count": 13,
   "metadata": {
    "id": "CEIGGQ6ODWKy"
   },
   "outputs": [],
   "source": [
    "# напишите ваш ответ здесь"
   ]
  },
  {
   "attachments": {},
   "cell_type": "markdown",
   "metadata": {},
   "source": [
    "Аномалия в данных заключается в том что у каждого пользоваетеля несколько user_id. Должно быть: один пользователь = один user_id"
   ]
  },
  {
   "attachments": {},
   "cell_type": "markdown",
   "metadata": {
    "id": "JhM2xXj5DWKu"
   },
   "source": [
    "# Задание 3"
   ]
  },
  {
   "attachments": {},
   "cell_type": "markdown",
   "metadata": {
    "id": "IS6xPqyyDWKu"
   },
   "source": [
    "Выведите количество постов за 2008 год по месяцам. Отберите посты от пользователей, которые зарегистрировались в сентябре 2008 года и сделали хотя бы один пост в декабре того же года. Отсортируйте таблицу по значению месяца по убыванию."
   ]
  },
  {
   "attachments": {},
   "cell_type": "markdown",
   "metadata": {
    "id": "WmjhjV2xDWKv"
   },
   "source": [
    "| month | count |\n",
    "| ------|------ |\n",
    "| 2008-12-01 | 17641 |\n",
    "| 2008-11-01 | 18294 |\n",
    "| ... | ... |"
   ]
  },
  {
   "cell_type": "code",
   "execution_count": 14,
   "metadata": {
    "id": "kVu0FB8WDWKv"
   },
   "outputs": [
    {
     "data": {
      "text/html": [
       "<div>\n",
       "<style scoped>\n",
       "    .dataframe tbody tr th:only-of-type {\n",
       "        vertical-align: middle;\n",
       "    }\n",
       "\n",
       "    .dataframe tbody tr th {\n",
       "        vertical-align: top;\n",
       "    }\n",
       "\n",
       "    .dataframe thead th {\n",
       "        text-align: right;\n",
       "    }\n",
       "</style>\n",
       "<table border=\"1\" class=\"dataframe\">\n",
       "  <thead>\n",
       "    <tr style=\"text-align: left;\">\n",
       "      <th></th>\n",
       "      <th>month</th>\n",
       "      <th>count</th>\n",
       "    </tr>\n",
       "  </thead>\n",
       "  <tbody>\n",
       "    <tr>\n",
       "      <th>0</th>\n",
       "      <td>2008-12-01</td>\n",
       "      <td>17641</td>\n",
       "    </tr>\n",
       "    <tr>\n",
       "      <th>1</th>\n",
       "      <td>2008-11-01</td>\n",
       "      <td>18294</td>\n",
       "    </tr>\n",
       "    <tr>\n",
       "      <th>2</th>\n",
       "      <td>2008-10-01</td>\n",
       "      <td>27171</td>\n",
       "    </tr>\n",
       "    <tr>\n",
       "      <th>3</th>\n",
       "      <td>2008-09-01</td>\n",
       "      <td>24870</td>\n",
       "    </tr>\n",
       "    <tr>\n",
       "      <th>4</th>\n",
       "      <td>2008-08-01</td>\n",
       "      <td>32</td>\n",
       "    </tr>\n",
       "  </tbody>\n",
       "</table>\n",
       "</div>"
      ],
      "text/plain": [
       "  month       count\n",
       "0 2008-12-01  17641\n",
       "1 2008-11-01  18294\n",
       "2 2008-10-01  27171\n",
       "3 2008-09-01  24870\n",
       "4 2008-08-01     32"
      ]
     },
     "execution_count": 14,
     "metadata": {},
     "output_type": "execute_result"
    }
   ],
   "source": [
    "# напишите запрос\n",
    "query = f'''\n",
    "\n",
    "        WITH \n",
    "        \n",
    "        users_id AS\n",
    "        (\n",
    "        SELECT\n",
    "            {users}.id AS user_id\n",
    "            \n",
    "        FROM\n",
    "            {users}\n",
    "            JOIN {posts} ON {posts}.user_id = {users}.id\n",
    "            \n",
    "        WHERE\n",
    "            DATE_TRUNC('month', {users}.creation_date) = '2008-09-01'\n",
    "            AND\n",
    "            DATE_TRUNC('month', {posts}.creation_date) = '2008-12-01'\n",
    "        )\n",
    "\n",
    "\n",
    "        SELECT\n",
    "            DATE_TRUNC('month', {posts}.creation_date) AS month,\n",
    "            COUNT({posts}.id)\n",
    "            \n",
    "        FROM\n",
    "            {posts}\n",
    "            \n",
    "        WHERE\n",
    "            {posts}.user_id IN (SELECT user_id FROM users_id)\n",
    "            \n",
    "        GROUP BY\n",
    "            DATE_TRUNC('month', {posts}.creation_date)\n",
    "            \n",
    "        ORDER BY\n",
    "            month DESC\n",
    "\n",
    "        '''\n",
    "\n",
    "sql_query(query)"
   ]
  },
  {
   "attachments": {},
   "cell_type": "markdown",
   "metadata": {
    "id": "Vnxn9DVHDWKx"
   },
   "source": [
    "Изучите данные: есть ли в них аномалии? Предположите, почему могли появиться аномальные значения."
   ]
  },
  {
   "cell_type": "code",
   "execution_count": 15,
   "metadata": {
    "id": "MMVIz4yMlKpN"
   },
   "outputs": [],
   "source": [
    "# напишите ваш ответ здесь"
   ]
  },
  {
   "attachments": {},
   "cell_type": "markdown",
   "metadata": {},
   "source": [
    "Просмотры в авшусте можно охарактеризовать как аномальное значение, тк выбока для тех кто зарегистрировался в сентябре.\n",
    "Возможное объяснение: некорректная запись даты регистрации или некорректная запись даты поста по техническим причинам."
   ]
  },
  {
   "attachments": {},
   "cell_type": "markdown",
   "metadata": {
    "id": "5Pcizm0DDWKz"
   },
   "source": [
    "# Задание 4"
   ]
  },
  {
   "attachments": {},
   "cell_type": "markdown",
   "metadata": {
    "id": "KUZPF6vHDWKz"
   },
   "source": [
    "Используя данные о постах, выведите несколько полей:\n",
    "\n",
    "- идентификатор пользователя, который написал пост;\n",
    "- дата создания поста;\n",
    "- количество просмотров у текущего поста;\n",
    "- сумму просмотров постов автора с накоплением.\n",
    "\n",
    "Данные в таблице должны быть отсортированы по возрастанию идентификаторов пользователей, а данные об одном и том же пользователе — по возрастанию даты создания поста."
   ]
  },
  {
   "attachments": {},
   "cell_type": "markdown",
   "metadata": {
    "id": "ZpsTUVDYDWK0"
   },
   "source": [
    "| user_id | creation_date | views_count | cumulative_count |\n",
    "| ------ | -------------- | ----------- | ---------------- |\n",
    "| 1 | 2008-07-31 23:41:00  | 480476   | 480476  |\n",
    "| 1 | 2008-07-31 23:55:38  | 136033 | 616509  | \n",
    "| 1 | 2008-07-31 23:56:41  | 0 |  616509  |\n",
    "| ... | ... | ... | ... |\n",
    "| 2 | 2008-07-31 23:56:41 | 79087  | 79087 |\n",
    "| 2 | 2008-08-01 05:09:56 | 65443 | 144530 |\n",
    "| ... | ...  | ...  | ...  |"
   ]
  },
  {
   "cell_type": "code",
   "execution_count": 16,
   "metadata": {
    "id": "hDoJhMzfDWK0"
   },
   "outputs": [
    {
     "data": {
      "text/html": [
       "<div>\n",
       "<style scoped>\n",
       "    .dataframe tbody tr th:only-of-type {\n",
       "        vertical-align: middle;\n",
       "    }\n",
       "\n",
       "    .dataframe tbody tr th {\n",
       "        vertical-align: top;\n",
       "    }\n",
       "\n",
       "    .dataframe thead th {\n",
       "        text-align: right;\n",
       "    }\n",
       "</style>\n",
       "<table border=\"1\" class=\"dataframe\">\n",
       "  <thead>\n",
       "    <tr style=\"text-align: left;\">\n",
       "      <th></th>\n",
       "      <th>user_id</th>\n",
       "      <th>creation_date</th>\n",
       "      <th>views_count</th>\n",
       "      <th>cumulative_count</th>\n",
       "    </tr>\n",
       "  </thead>\n",
       "  <tbody>\n",
       "    <tr>\n",
       "      <th>0</th>\n",
       "      <td>1</td>\n",
       "      <td>2008-07-31 23:41:00</td>\n",
       "      <td>480476</td>\n",
       "      <td>480476</td>\n",
       "    </tr>\n",
       "    <tr>\n",
       "      <th>1</th>\n",
       "      <td>1</td>\n",
       "      <td>2008-07-31 23:55:38</td>\n",
       "      <td>136033</td>\n",
       "      <td>616509</td>\n",
       "    </tr>\n",
       "    <tr>\n",
       "      <th>2</th>\n",
       "      <td>1</td>\n",
       "      <td>2008-07-31 23:56:41</td>\n",
       "      <td>0</td>\n",
       "      <td>616509</td>\n",
       "    </tr>\n",
       "    <tr>\n",
       "      <th>3</th>\n",
       "      <td>1</td>\n",
       "      <td>2008-08-04 02:45:08</td>\n",
       "      <td>0</td>\n",
       "      <td>616509</td>\n",
       "    </tr>\n",
       "    <tr>\n",
       "      <th>4</th>\n",
       "      <td>1</td>\n",
       "      <td>2008-08-04 04:31:03</td>\n",
       "      <td>0</td>\n",
       "      <td>616509</td>\n",
       "    </tr>\n",
       "    <tr>\n",
       "      <th>...</th>\n",
       "      <td>...</td>\n",
       "      <td>...</td>\n",
       "      <td>...</td>\n",
       "      <td>...</td>\n",
       "    </tr>\n",
       "    <tr>\n",
       "      <th>243791</th>\n",
       "      <td>5696608</td>\n",
       "      <td>2008-12-23 16:00:37</td>\n",
       "      <td>0</td>\n",
       "      <td>2804</td>\n",
       "    </tr>\n",
       "    <tr>\n",
       "      <th>243792</th>\n",
       "      <td>5696608</td>\n",
       "      <td>2008-12-23 17:35:09</td>\n",
       "      <td>0</td>\n",
       "      <td>2804</td>\n",
       "    </tr>\n",
       "    <tr>\n",
       "      <th>243793</th>\n",
       "      <td>5696608</td>\n",
       "      <td>2008-12-24 01:02:48</td>\n",
       "      <td>0</td>\n",
       "      <td>2804</td>\n",
       "    </tr>\n",
       "    <tr>\n",
       "      <th>243794</th>\n",
       "      <td>5696608</td>\n",
       "      <td>2008-12-30 14:34:45</td>\n",
       "      <td>0</td>\n",
       "      <td>2804</td>\n",
       "    </tr>\n",
       "    <tr>\n",
       "      <th>243795</th>\n",
       "      <td>5696608</td>\n",
       "      <td>2008-12-30 16:32:12</td>\n",
       "      <td>0</td>\n",
       "      <td>2804</td>\n",
       "    </tr>\n",
       "  </tbody>\n",
       "</table>\n",
       "<p>243796 rows × 4 columns</p>\n",
       "</div>"
      ],
      "text/plain": [
       "        user_id creation_date        views_count  cumulative_count\n",
       "0             1 2008-07-31 23:41:00  480476       480476          \n",
       "1             1 2008-07-31 23:55:38  136033       616509          \n",
       "2             1 2008-07-31 23:56:41       0       616509          \n",
       "3             1 2008-08-04 02:45:08       0       616509          \n",
       "4             1 2008-08-04 04:31:03       0       616509          \n",
       "...         ...                 ...          ...               ...\n",
       "243791  5696608 2008-12-23 16:00:37       0         2804          \n",
       "243792  5696608 2008-12-23 17:35:09       0         2804          \n",
       "243793  5696608 2008-12-24 01:02:48       0         2804          \n",
       "243794  5696608 2008-12-30 14:34:45       0         2804          \n",
       "243795  5696608 2008-12-30 16:32:12       0         2804          \n",
       "\n",
       "[243796 rows x 4 columns]"
      ]
     },
     "execution_count": 16,
     "metadata": {},
     "output_type": "execute_result"
    }
   ],
   "source": [
    "# напишите запрос\n",
    "query = f'''\n",
    "\n",
    "        SELECT\n",
    "            user_id,\n",
    "            creation_date,\n",
    "            views_count,\n",
    "            SUM(views_count) OVER(PARTITION BY user_id ORDER BY creation_date) AS cumulative_count\n",
    "            \n",
    "        FROM\n",
    "            {posts}\n",
    "           \n",
    "        ORDER BY\n",
    "            user_id,\n",
    "            creation_date\n",
    "            \n",
    "        '''\n",
    "\n",
    "sql_query(query)\n",
    "\n"
   ]
  },
  {
   "attachments": {},
   "cell_type": "markdown",
   "metadata": {
    "id": "N0kHRHvIDWK2"
   },
   "source": [
    "# Задание 5"
   ]
  },
  {
   "attachments": {},
   "cell_type": "markdown",
   "metadata": {
    "id": "gBgvmPtODWK2"
   },
   "source": [
    "Найдите среднее количество постов пользователей в день за август 2008 года. Отберите данные о пользователях, которые опубликовали больше 120 постов за август. Дни без публикаций не учитывайте. \n",
    "\n",
    "Отсортируйте результат по возрастанию среднего количества постов. Значения можно не округлять."
   ]
  },
  {
   "attachments": {},
   "cell_type": "markdown",
   "metadata": {
    "id": "nfzR08BODWK3"
   },
   "source": [
    "| user_id | avg_daily |\n",
    "| ------- | --------- |\n",
    "| 116     | 4.777778  |\n",
    "| 234     | 5.208333  |\n",
    "| ...     | ... |"
   ]
  },
  {
   "cell_type": "code",
   "execution_count": 17,
   "metadata": {
    "id": "YFyPNz5GDWK3"
   },
   "outputs": [
    {
     "data": {
      "text/html": [
       "<div>\n",
       "<style scoped>\n",
       "    .dataframe tbody tr th:only-of-type {\n",
       "        vertical-align: middle;\n",
       "    }\n",
       "\n",
       "    .dataframe tbody tr th {\n",
       "        vertical-align: top;\n",
       "    }\n",
       "\n",
       "    .dataframe thead th {\n",
       "        text-align: right;\n",
       "    }\n",
       "</style>\n",
       "<table border=\"1\" class=\"dataframe\">\n",
       "  <thead>\n",
       "    <tr style=\"text-align: left;\">\n",
       "      <th></th>\n",
       "      <th>user_id</th>\n",
       "      <th>avg_daily</th>\n",
       "    </tr>\n",
       "  </thead>\n",
       "  <tbody>\n",
       "    <tr>\n",
       "      <th>0</th>\n",
       "      <td>116</td>\n",
       "      <td>4.78</td>\n",
       "    </tr>\n",
       "    <tr>\n",
       "      <th>1</th>\n",
       "      <td>234</td>\n",
       "      <td>5.21</td>\n",
       "    </tr>\n",
       "    <tr>\n",
       "      <th>2</th>\n",
       "      <td>91</td>\n",
       "      <td>5.68</td>\n",
       "    </tr>\n",
       "    <tr>\n",
       "      <th>3</th>\n",
       "      <td>905</td>\n",
       "      <td>7.00</td>\n",
       "    </tr>\n",
       "    <tr>\n",
       "      <th>4</th>\n",
       "      <td>383</td>\n",
       "      <td>7.28</td>\n",
       "    </tr>\n",
       "  </tbody>\n",
       "</table>\n",
       "</div>"
      ],
      "text/plain": [
       "   user_id  avg_daily\n",
       "0  116     4.78      \n",
       "1  234     5.21      \n",
       "2   91     5.68      \n",
       "3  905     7.00      \n",
       "4  383     7.28      "
      ]
     },
     "execution_count": 17,
     "metadata": {},
     "output_type": "execute_result"
    }
   ],
   "source": [
    "# напишите запрос\n",
    "query = f'''\n",
    "\n",
    "        WITH \n",
    "        \n",
    "        post_count AS\n",
    "        (\n",
    "        SELECT\n",
    "            user_id,\n",
    "            creation_date::DATE,\n",
    "            COUNT(id) AS post_count\n",
    "\n",
    "        FROM\n",
    "            {posts}\n",
    "\n",
    "        WHERE\n",
    "            DATE_TRUNC('month', creation_date)::DATE = '2008-08-01'\n",
    "\n",
    "        GROUP BY\n",
    "            user_id,\n",
    "            creation_date::DATE\n",
    "        )\n",
    "        \n",
    "        \n",
    "        SELECT\n",
    "            user_id,\n",
    "            AVG(post_count) AS avg_daily\n",
    "            \n",
    "        FROM\n",
    "            post_count\n",
    "            \n",
    "        GROUP BY\n",
    "            user_id\n",
    "            \n",
    "        HAVING\n",
    "            SUM(post_count) > 120\n",
    "            \n",
    "        ORDER BY\n",
    "            avg_daily\n",
    "           \n",
    "        '''\n",
    "\n",
    "sql_query(query)"
   ]
  },
  {
   "attachments": {},
   "cell_type": "markdown",
   "metadata": {
    "id": "EQ0dcFH4DWK5"
   },
   "source": [
    "# Задание 6"
   ]
  },
  {
   "attachments": {},
   "cell_type": "markdown",
   "metadata": {
    "id": "c7flfg_hDWK5"
   },
   "source": [
    "Сколько в среднем дней в период с 1 по 7 декабря 2008 года пользователи взаимодействовали с платформой? Для каждого пользователя отберите дни, в которые он или она опубликовали хотя бы один пост. Нужно получить одно целое число — не забудьте округлить результат. "
   ]
  },
  {
   "attachments": {},
   "cell_type": "markdown",
   "metadata": {
    "id": "RC1Ibzm9DWK6"
   },
   "source": [
    "| result |\n",
    "| -----  |\n",
    "| <целое число> |"
   ]
  },
  {
   "cell_type": "code",
   "execution_count": 18,
   "metadata": {
    "id": "kZ7LXTr6DWK6"
   },
   "outputs": [
    {
     "data": {
      "text/html": [
       "<div>\n",
       "<style scoped>\n",
       "    .dataframe tbody tr th:only-of-type {\n",
       "        vertical-align: middle;\n",
       "    }\n",
       "\n",
       "    .dataframe tbody tr th {\n",
       "        vertical-align: top;\n",
       "    }\n",
       "\n",
       "    .dataframe thead th {\n",
       "        text-align: right;\n",
       "    }\n",
       "</style>\n",
       "<table border=\"1\" class=\"dataframe\">\n",
       "  <thead>\n",
       "    <tr style=\"text-align: left;\">\n",
       "      <th></th>\n",
       "      <th>result</th>\n",
       "    </tr>\n",
       "  </thead>\n",
       "  <tbody>\n",
       "    <tr>\n",
       "      <th>0</th>\n",
       "      <td>2</td>\n",
       "    </tr>\n",
       "  </tbody>\n",
       "</table>\n",
       "</div>"
      ],
      "text/plain": [
       "   result\n",
       "0  2     "
      ]
     },
     "execution_count": 18,
     "metadata": {},
     "output_type": "execute_result"
    }
   ],
   "source": [
    "# напишите запрос\n",
    "query = f'''\n",
    "\n",
    "        WITH\n",
    "        \n",
    "        activity AS\n",
    "        (\n",
    "        SELECT\n",
    "            user_id,\n",
    "            COUNT(DISTINCT creation_date::DATE) AS days_active\n",
    "\n",
    "        FROM\n",
    "            {posts}\n",
    "\n",
    "        WHERE\n",
    "            creation_date::DATE BETWEEN '2008-12-01' AND '2008-12-07'\n",
    "\n",
    "        GROUP BY\n",
    "            user_id\n",
    "        )\n",
    "        \n",
    "        \n",
    "        SELECT\n",
    "            CAST(AVG(days_active) AS INTEGER) AS result\n",
    "            \n",
    "        FROM\n",
    "            activity\n",
    "        \n",
    "        '''\n",
    "\n",
    "sql_query(query)"
   ]
  },
  {
   "attachments": {},
   "cell_type": "markdown",
   "metadata": {
    "id": "UJFtNNggDWK7"
   },
   "source": [
    "Проанализируйте итоговую таблицу — какие выводы можно сделать?"
   ]
  },
  {
   "cell_type": "code",
   "execution_count": 19,
   "metadata": {
    "id": "LfUuYz-1DWK8"
   },
   "outputs": [],
   "source": [
    "# напишите ваш ответ здесь"
   ]
  },
  {
   "attachments": {},
   "cell_type": "markdown",
   "metadata": {},
   "source": [
    "Взаимодействие с платформой было малоинтенсивным, два дня за неделю"
   ]
  },
  {
   "attachments": {},
   "cell_type": "markdown",
   "metadata": {
    "id": "wfOmqmfLDWK8"
   },
   "source": [
    "# Задание 7"
   ]
  },
  {
   "attachments": {},
   "cell_type": "markdown",
   "metadata": {
    "id": "X4ARQimADWK9"
   },
   "source": [
    "Выведите историю активности каждого пользователя в таком виде: идентификатор пользователя, дата публикации поста. Отсортируйте вывод по возрастанию идентификаторов пользователей, а для каждого пользователя — по возрастанию даты публикации.\n",
    "\n",
    "Добавьте в таблицу новое поле: для каждого поста в нём будет указано название месяца предпоследней публикации пользователя относительно текущей. Если такой публикации нет, укажите `NULL`.  Python автоматически поменяет `NULL` на `None`, но дополнительно преобразовывать значения `None` вам не нужно.\n",
    "\n",
    "Посмотрите внимательно на образец таблицы: для первых двух постов предпоследней публикации нет, но, начиная с третьего поста, в новое поле входит нужный месяц. Для следующего пользователя в первые две записи поля `second_last_month` тоже войдёт `NULL`."
   ]
  },
  {
   "attachments": {},
   "cell_type": "markdown",
   "metadata": {
    "id": "IGPjRP01DWK9"
   },
   "source": [
    "| user_id | creation_date | second_last_month |\n",
    "| ------- | ------------- | ----------------- |\n",
    "| 1       | 2008-07-31 23:41:00 | None |\n",
    "| 1       | 2008-07-31 23:55:38 | None |\n",
    "| 1       | 2008-07-31 23:56:41 | July |\n",
    "| 1       | 2008-08-04 02:45:08 | July |\n",
    "| 1       | 2008-08-04 04:31:03 | July |\n",
    "| 1       | 2008-08-04 08:04:42 | August |\n",
    "| ... | ... | ... |"
   ]
  },
  {
   "cell_type": "code",
   "execution_count": 20,
   "metadata": {
    "id": "HzI1vhaMDWK-"
   },
   "outputs": [
    {
     "data": {
      "text/html": [
       "<div>\n",
       "<style scoped>\n",
       "    .dataframe tbody tr th:only-of-type {\n",
       "        vertical-align: middle;\n",
       "    }\n",
       "\n",
       "    .dataframe tbody tr th {\n",
       "        vertical-align: top;\n",
       "    }\n",
       "\n",
       "    .dataframe thead th {\n",
       "        text-align: right;\n",
       "    }\n",
       "</style>\n",
       "<table border=\"1\" class=\"dataframe\">\n",
       "  <thead>\n",
       "    <tr style=\"text-align: left;\">\n",
       "      <th></th>\n",
       "      <th>user_id</th>\n",
       "      <th>creation_date</th>\n",
       "      <th>lag</th>\n",
       "    </tr>\n",
       "  </thead>\n",
       "  <tbody>\n",
       "    <tr>\n",
       "      <th>0</th>\n",
       "      <td>1</td>\n",
       "      <td>2008-07-31 23:41:00</td>\n",
       "      <td>None</td>\n",
       "    </tr>\n",
       "    <tr>\n",
       "      <th>1</th>\n",
       "      <td>1</td>\n",
       "      <td>2008-07-31 23:55:38</td>\n",
       "      <td>None</td>\n",
       "    </tr>\n",
       "    <tr>\n",
       "      <th>2</th>\n",
       "      <td>1</td>\n",
       "      <td>2008-07-31 23:56:41</td>\n",
       "      <td>July</td>\n",
       "    </tr>\n",
       "    <tr>\n",
       "      <th>3</th>\n",
       "      <td>1</td>\n",
       "      <td>2008-08-04 02:45:08</td>\n",
       "      <td>July</td>\n",
       "    </tr>\n",
       "    <tr>\n",
       "      <th>4</th>\n",
       "      <td>1</td>\n",
       "      <td>2008-08-04 04:31:03</td>\n",
       "      <td>July</td>\n",
       "    </tr>\n",
       "    <tr>\n",
       "      <th>...</th>\n",
       "      <td>...</td>\n",
       "      <td>...</td>\n",
       "      <td>...</td>\n",
       "    </tr>\n",
       "    <tr>\n",
       "      <th>243791</th>\n",
       "      <td>5696608</td>\n",
       "      <td>2008-12-23 16:00:37</td>\n",
       "      <td>December</td>\n",
       "    </tr>\n",
       "    <tr>\n",
       "      <th>243792</th>\n",
       "      <td>5696608</td>\n",
       "      <td>2008-12-23 17:35:09</td>\n",
       "      <td>December</td>\n",
       "    </tr>\n",
       "    <tr>\n",
       "      <th>243793</th>\n",
       "      <td>5696608</td>\n",
       "      <td>2008-12-24 01:02:48</td>\n",
       "      <td>December</td>\n",
       "    </tr>\n",
       "    <tr>\n",
       "      <th>243794</th>\n",
       "      <td>5696608</td>\n",
       "      <td>2008-12-30 14:34:45</td>\n",
       "      <td>December</td>\n",
       "    </tr>\n",
       "    <tr>\n",
       "      <th>243795</th>\n",
       "      <td>5696608</td>\n",
       "      <td>2008-12-30 16:32:12</td>\n",
       "      <td>December</td>\n",
       "    </tr>\n",
       "  </tbody>\n",
       "</table>\n",
       "<p>243796 rows × 3 columns</p>\n",
       "</div>"
      ],
      "text/plain": [
       "        user_id creation_date       lag       \n",
       "0             1 2008-07-31 23:41:00       None\n",
       "1             1 2008-07-31 23:55:38       None\n",
       "2             1 2008-07-31 23:56:41  July     \n",
       "3             1 2008-08-04 02:45:08  July     \n",
       "4             1 2008-08-04 04:31:03  July     \n",
       "...         ...                 ...        ...\n",
       "243791  5696608 2008-12-23 16:00:37  December \n",
       "243792  5696608 2008-12-23 17:35:09  December \n",
       "243793  5696608 2008-12-24 01:02:48  December \n",
       "243794  5696608 2008-12-30 14:34:45  December \n",
       "243795  5696608 2008-12-30 16:32:12  December \n",
       "\n",
       "[243796 rows x 3 columns]"
      ]
     },
     "execution_count": 20,
     "metadata": {},
     "output_type": "execute_result"
    }
   ],
   "source": [
    "# напишите запрос\n",
    "query = f'''\n",
    "\n",
    "        SELECT\n",
    "            user_id,\n",
    "            creation_date,\n",
    "            LAG(TO_CHAR(creation_date, 'Month'), 2) OVER(PARTITION BY user_id ORDER BY creation_date)\n",
    "            \n",
    "        FROM\n",
    "            {posts}\n",
    "            \n",
    "        ORDER BY\n",
    "            user_id,\n",
    "            creation_date\n",
    "        \n",
    "        '''\n",
    "\n",
    "sql_query(query)"
   ]
  },
  {
   "attachments": {},
   "cell_type": "markdown",
   "metadata": {
    "id": "tf9qq2yzDWK_"
   },
   "source": [
    "# Задание 8"
   ]
  },
  {
   "attachments": {},
   "cell_type": "markdown",
   "metadata": {
    "id": "gfwLVXBYDWLA"
   },
   "source": [
    "Рассчитайте аналог Retention Rate по месяцам для пользователей StackOverflow. Объедините пользователей в когорты по месяцу их первого поста. Возвращение определяйте по наличию поста в текущем месяце. "
   ]
  },
  {
   "attachments": {},
   "cell_type": "markdown",
   "metadata": {
    "id": "kN2ic39WlKpl"
   },
   "source": [
    "| cohort_dt | session_date | users_cnt | cohort_users_cnt | retention_rate |\n",
    "| --- | --- | --- | --- | --- |\n",
    "| 2008-07-01 00:00:00 | 2008-07-01 00:00:00 | 3 | 3 | 100 |\n",
    "| 2008-07-01 00:00:00 | 2008-08-01 00:00:00 | 2 | 3 | 66,67 |\n",
    "| 2008-07-01 00:00:00 | 2008-09-01 00:00:00 | 1 | 3 | 33,33 |\n",
    "| 2008-07-01 00:00:00 | 2008-10-01 00:00:00 | 2 | 3 | 66,67 |\n",
    "| 2008-07-01 00:00:00 | 2008-11-01 00:00:00 | 1 | 3 | 33,33 |\n",
    "| 2008-07-01 00:00:00 | 2008-12-01 00:00:00 | 2 | 3 | 66,67 |\n",
    "| 2008-08-01 00:00:00 | 2008-08-01 00:00:00 | 2151 | 2151 | 100 |\n",
    "| ... | ... | ... | ... | ... |"
   ]
  },
  {
   "cell_type": "code",
   "execution_count": 21,
   "metadata": {
    "id": "LUgFmwmTDWLB"
   },
   "outputs": [
    {
     "data": {
      "text/html": [
       "<div>\n",
       "<style scoped>\n",
       "    .dataframe tbody tr th:only-of-type {\n",
       "        vertical-align: middle;\n",
       "    }\n",
       "\n",
       "    .dataframe tbody tr th {\n",
       "        vertical-align: top;\n",
       "    }\n",
       "\n",
       "    .dataframe thead th {\n",
       "        text-align: right;\n",
       "    }\n",
       "</style>\n",
       "<table border=\"1\" class=\"dataframe\">\n",
       "  <thead>\n",
       "    <tr style=\"text-align: left;\">\n",
       "      <th></th>\n",
       "      <th>cohort_date</th>\n",
       "      <th>session_date</th>\n",
       "      <th>count</th>\n",
       "      <th>cohort_users_cnt</th>\n",
       "      <th>retention_rate</th>\n",
       "    </tr>\n",
       "  </thead>\n",
       "  <tbody>\n",
       "    <tr>\n",
       "      <th>0</th>\n",
       "      <td>2008-07-01</td>\n",
       "      <td>2008-07-01</td>\n",
       "      <td>3</td>\n",
       "      <td>3</td>\n",
       "      <td>1.00</td>\n",
       "    </tr>\n",
       "    <tr>\n",
       "      <th>1</th>\n",
       "      <td>2008-07-01</td>\n",
       "      <td>2008-08-01</td>\n",
       "      <td>2</td>\n",
       "      <td>3</td>\n",
       "      <td>0.67</td>\n",
       "    </tr>\n",
       "    <tr>\n",
       "      <th>2</th>\n",
       "      <td>2008-07-01</td>\n",
       "      <td>2008-09-01</td>\n",
       "      <td>1</td>\n",
       "      <td>3</td>\n",
       "      <td>0.33</td>\n",
       "    </tr>\n",
       "    <tr>\n",
       "      <th>3</th>\n",
       "      <td>2008-07-01</td>\n",
       "      <td>2008-10-01</td>\n",
       "      <td>2</td>\n",
       "      <td>3</td>\n",
       "      <td>0.67</td>\n",
       "    </tr>\n",
       "    <tr>\n",
       "      <th>4</th>\n",
       "      <td>2008-07-01</td>\n",
       "      <td>2008-11-01</td>\n",
       "      <td>1</td>\n",
       "      <td>3</td>\n",
       "      <td>0.33</td>\n",
       "    </tr>\n",
       "    <tr>\n",
       "      <th>5</th>\n",
       "      <td>2008-07-01</td>\n",
       "      <td>2008-12-01</td>\n",
       "      <td>2</td>\n",
       "      <td>3</td>\n",
       "      <td>0.67</td>\n",
       "    </tr>\n",
       "    <tr>\n",
       "      <th>6</th>\n",
       "      <td>2008-08-01</td>\n",
       "      <td>2008-08-01</td>\n",
       "      <td>2151</td>\n",
       "      <td>2151</td>\n",
       "      <td>1.00</td>\n",
       "    </tr>\n",
       "    <tr>\n",
       "      <th>7</th>\n",
       "      <td>2008-08-01</td>\n",
       "      <td>2008-09-01</td>\n",
       "      <td>1571</td>\n",
       "      <td>2151</td>\n",
       "      <td>0.73</td>\n",
       "    </tr>\n",
       "    <tr>\n",
       "      <th>8</th>\n",
       "      <td>2008-08-01</td>\n",
       "      <td>2008-10-01</td>\n",
       "      <td>1275</td>\n",
       "      <td>2151</td>\n",
       "      <td>0.59</td>\n",
       "    </tr>\n",
       "    <tr>\n",
       "      <th>9</th>\n",
       "      <td>2008-08-01</td>\n",
       "      <td>2008-11-01</td>\n",
       "      <td>1050</td>\n",
       "      <td>2151</td>\n",
       "      <td>0.49</td>\n",
       "    </tr>\n",
       "    <tr>\n",
       "      <th>10</th>\n",
       "      <td>2008-08-01</td>\n",
       "      <td>2008-12-01</td>\n",
       "      <td>894</td>\n",
       "      <td>2151</td>\n",
       "      <td>0.42</td>\n",
       "    </tr>\n",
       "    <tr>\n",
       "      <th>11</th>\n",
       "      <td>2008-09-01</td>\n",
       "      <td>2008-09-01</td>\n",
       "      <td>7678</td>\n",
       "      <td>7678</td>\n",
       "      <td>1.00</td>\n",
       "    </tr>\n",
       "    <tr>\n",
       "      <th>12</th>\n",
       "      <td>2008-09-01</td>\n",
       "      <td>2008-10-01</td>\n",
       "      <td>4132</td>\n",
       "      <td>7678</td>\n",
       "      <td>0.54</td>\n",
       "    </tr>\n",
       "    <tr>\n",
       "      <th>13</th>\n",
       "      <td>2008-09-01</td>\n",
       "      <td>2008-11-01</td>\n",
       "      <td>2966</td>\n",
       "      <td>7678</td>\n",
       "      <td>0.39</td>\n",
       "    </tr>\n",
       "    <tr>\n",
       "      <th>14</th>\n",
       "      <td>2008-09-01</td>\n",
       "      <td>2008-12-01</td>\n",
       "      <td>2500</td>\n",
       "      <td>7678</td>\n",
       "      <td>0.33</td>\n",
       "    </tr>\n",
       "    <tr>\n",
       "      <th>15</th>\n",
       "      <td>2008-10-01</td>\n",
       "      <td>2008-10-01</td>\n",
       "      <td>3629</td>\n",
       "      <td>3629</td>\n",
       "      <td>1.00</td>\n",
       "    </tr>\n",
       "    <tr>\n",
       "      <th>16</th>\n",
       "      <td>2008-10-01</td>\n",
       "      <td>2008-11-01</td>\n",
       "      <td>1640</td>\n",
       "      <td>3629</td>\n",
       "      <td>0.45</td>\n",
       "    </tr>\n",
       "    <tr>\n",
       "      <th>17</th>\n",
       "      <td>2008-10-01</td>\n",
       "      <td>2008-12-01</td>\n",
       "      <td>1221</td>\n",
       "      <td>3629</td>\n",
       "      <td>0.34</td>\n",
       "    </tr>\n",
       "    <tr>\n",
       "      <th>18</th>\n",
       "      <td>2008-11-01</td>\n",
       "      <td>2008-11-01</td>\n",
       "      <td>2852</td>\n",
       "      <td>2852</td>\n",
       "      <td>1.00</td>\n",
       "    </tr>\n",
       "    <tr>\n",
       "      <th>19</th>\n",
       "      <td>2008-11-01</td>\n",
       "      <td>2008-12-01</td>\n",
       "      <td>1151</td>\n",
       "      <td>2852</td>\n",
       "      <td>0.40</td>\n",
       "    </tr>\n",
       "    <tr>\n",
       "      <th>20</th>\n",
       "      <td>2008-12-01</td>\n",
       "      <td>2008-12-01</td>\n",
       "      <td>2536</td>\n",
       "      <td>2536</td>\n",
       "      <td>1.00</td>\n",
       "    </tr>\n",
       "  </tbody>\n",
       "</table>\n",
       "</div>"
      ],
      "text/plain": [
       "   cohort_date session_date  count  cohort_users_cnt  retention_rate\n",
       "0  2008-07-01  2008-07-01       3      3             1.00           \n",
       "1  2008-07-01  2008-08-01       2      3             0.67           \n",
       "2  2008-07-01  2008-09-01       1      3             0.33           \n",
       "3  2008-07-01  2008-10-01       2      3             0.67           \n",
       "4  2008-07-01  2008-11-01       1      3             0.33           \n",
       "5  2008-07-01  2008-12-01       2      3             0.67           \n",
       "6  2008-08-01  2008-08-01    2151   2151             1.00           \n",
       "7  2008-08-01  2008-09-01    1571   2151             0.73           \n",
       "8  2008-08-01  2008-10-01    1275   2151             0.59           \n",
       "9  2008-08-01  2008-11-01    1050   2151             0.49           \n",
       "10 2008-08-01  2008-12-01     894   2151             0.42           \n",
       "11 2008-09-01  2008-09-01    7678   7678             1.00           \n",
       "12 2008-09-01  2008-10-01    4132   7678             0.54           \n",
       "13 2008-09-01  2008-11-01    2966   7678             0.39           \n",
       "14 2008-09-01  2008-12-01    2500   7678             0.33           \n",
       "15 2008-10-01  2008-10-01    3629   3629             1.00           \n",
       "16 2008-10-01  2008-11-01    1640   3629             0.45           \n",
       "17 2008-10-01  2008-12-01    1221   3629             0.34           \n",
       "18 2008-11-01  2008-11-01    2852   2852             1.00           \n",
       "19 2008-11-01  2008-12-01    1151   2852             0.40           \n",
       "20 2008-12-01  2008-12-01    2536   2536             1.00           "
      ]
     },
     "execution_count": 21,
     "metadata": {},
     "output_type": "execute_result"
    }
   ],
   "source": [
    "# напишите запрос\n",
    "\n",
    "query = f'''\n",
    "        \n",
    "        WITH\n",
    "        \n",
    "        cohort_init AS\n",
    "        (\n",
    "        SELECT DISTINCT                              /* месяц первого поста пользователя определяет его когорту */\n",
    "            user_id,\n",
    "            FIRST_VALUE(DATE_TRUNC('month', creation_date)) OVER(PARTITION BY user_id ORDER BY creation_date)\n",
    "                                                                                                    AS cohort_date\n",
    "        FROM\n",
    "            {posts}\n",
    "        ),\n",
    "        \n",
    "        \n",
    "        cohort_info AS\n",
    "        (\n",
    "        SELECT                                       /* количество пользователей в когорте */\n",
    "            *,\n",
    "            COUNT(user_id) OVER(PARTITION BY cohort_date) AS cohort_users_cnt\n",
    "        FROM\n",
    "            cohort_init\n",
    "        \n",
    "        ORDER BY\n",
    "            cohort_date,\n",
    "            user_id\n",
    "        ),\n",
    "        \n",
    "        \n",
    "        acivity AS\n",
    "        (\n",
    "        SELECT                                       /* наличие активности пользователя в определенный месяц */\n",
    "            user_id,\n",
    "            DATE_TRUNC('month', creation_date) AS session_date\n",
    "            \n",
    "        FROM\n",
    "            {posts}\n",
    "            \n",
    "        GROUP BY\n",
    "            user_id,\n",
    "            DATE_TRUNC('month', creation_date)\n",
    "        )\n",
    "        \n",
    "        \n",
    "        SELECT\n",
    "            cohort_date,\n",
    "            session_date,\n",
    "            COUNT(cohort_info.user_id),\n",
    "            cohort_users_cnt,\n",
    "            COUNT(cohort_info.user_id)::numeric / cohort_users_cnt AS retention_rate\n",
    "            \n",
    "        FROM\n",
    "            cohort_info\n",
    "            JOIN acivity ON acivity.user_id = cohort_info.user_id\n",
    "            \n",
    "        GROUP BY\n",
    "            cohort_date,\n",
    "            session_date,\n",
    "            cohort_users_cnt\n",
    "        \n",
    "        '''\n",
    "\n",
    "df = sql_query(query)\n",
    "df\n"
   ]
  },
  {
   "attachments": {},
   "cell_type": "markdown",
   "metadata": {
    "id": "_msBtnb2DWLC"
   },
   "source": [
    "Постройте тепловую карту Retention Rate. Какие аномалии или другие необычные явления удалось выявить? Сформулируйте гипотезы о возможных причинах."
   ]
  },
  {
   "cell_type": "code",
   "execution_count": 22,
   "metadata": {
    "id": "qAEJc8H1DWLC"
   },
   "outputs": [],
   "source": [
    "# постройте тепловую карту Retention Rate\n",
    "\n",
    "df.cohort_date = df.cohort_date.dt.strftime('%Y-%m')\n",
    "df.session_date = df.session_date.dt.strftime('%Y-%m')\n",
    "\n",
    "retention = df.pivot('cohort_date', 'session_date', 'retention_rate')"
   ]
  },
  {
   "cell_type": "code",
   "execution_count": 23,
   "metadata": {},
   "outputs": [
    {
     "data": {
      "image/png": "[encoded data removed]",
      "text/plain": [
       "<Figure size 2250x375 with 2 Axes>"
      ]
     },
     "metadata": {},
     "output_type": "display_data"
    }
   ],
   "source": [
    "fig, ax = plt.subplots(figsize=(15, 0.5*df.shape[1]), dpi=PLOT_DPI)\n",
    "\n",
    "sns.heatmap(\n",
    "            retention,\n",
    "            annot=True,\n",
    "            annot_kws={'fontsize':10}, \n",
    "            fmt='0.0%',\n",
    "            linewidths=0.2,\n",
    "            cmap='Blues'\n",
    "           )\n",
    "\n",
    "plt.title('\\nStackoverflow Retention Rate', pad=20)\n",
    "ax.set_xlabel('session month')\n",
    "ax.set_ylabel('cohort month')\n",
    "\n",
    "plt.show() "
   ]
  },
  {
   "cell_type": "code",
   "execution_count": 24,
   "metadata": {
    "id": "EgOfIsI4DWLC"
   },
   "outputs": [],
   "source": [
    "# опишите аномалии или другие необычные явления и сформулируйте гипотезы"
   ]
  },
  {
   "attachments": {},
   "cell_type": "markdown",
   "metadata": {},
   "source": [
    "Чем позднее дата когорты тем быстрее падает Retention Rate. В первой когорте цыфры Retention Rate непостоянны,\n",
    "Возможно из-за нерепрезентативной выборки (мало человек)."
   ]
  },
  {
   "attachments": {},
   "cell_type": "markdown",
   "metadata": {
    "id": "1k7oPWt5DWLK"
   },
   "source": [
    "# Задание 9\n"
   ]
  },
  {
   "attachments": {},
   "cell_type": "markdown",
   "metadata": {
    "id": "ALsYVSyRDWLM"
   },
   "source": [
    "На сколько процентов менялось количество постов ежемесячно с 1 сентября по 31 декабря 2008 года? Отобразите таблицу со следующими полями:\n",
    "\n",
    "- номер месяца;\n",
    "- количество постов за месяц;\n",
    "- процент, который показывает, насколько изменилось количество постов в текущем месяце по сравнению с предыдущим.\n",
    "\n",
    "Если постов стало меньше, значение процента должно быть отрицательным, если больше — положительным. Округлите значение процента до двух знаков после запятой.\n",
    "\n",
    "Напомним, что при делении одного целого числа на другое в PostgreSQL в результате получится целое число, округлённое до ближайшего целого вниз. Чтобы этого избежать, переведите делимое в тип `numeric`."
   ]
  },
  {
   "attachments": {},
   "cell_type": "markdown",
   "metadata": {
    "id": "u4E2zF8DDWLM"
   },
   "source": [
    "| creation_month | posts_count | percentage |\n",
    "| -------------- | ----------- | ---------- |\n",
    "| 9 | 70731 | Nan |\n",
    "| 10 | 63102 | -10.33 |\n",
    "| ... | ... | ... |"
   ]
  },
  {
   "cell_type": "code",
   "execution_count": 25,
   "metadata": {
    "id": "Mb5pShStDWLN"
   },
   "outputs": [
    {
     "data": {
      "text/html": [
       "<div>\n",
       "<style scoped>\n",
       "    .dataframe tbody tr th:only-of-type {\n",
       "        vertical-align: middle;\n",
       "    }\n",
       "\n",
       "    .dataframe tbody tr th {\n",
       "        vertical-align: top;\n",
       "    }\n",
       "\n",
       "    .dataframe thead th {\n",
       "        text-align: right;\n",
       "    }\n",
       "</style>\n",
       "<table border=\"1\" class=\"dataframe\">\n",
       "  <thead>\n",
       "    <tr style=\"text-align: left;\">\n",
       "      <th></th>\n",
       "      <th>creation_month</th>\n",
       "      <th>post_count</th>\n",
       "      <th>percentage</th>\n",
       "    </tr>\n",
       "  </thead>\n",
       "  <tbody>\n",
       "    <tr>\n",
       "      <th>0</th>\n",
       "      <td>9</td>\n",
       "      <td>70371</td>\n",
       "      <td>NaN</td>\n",
       "    </tr>\n",
       "    <tr>\n",
       "      <th>1</th>\n",
       "      <td>10</td>\n",
       "      <td>63102</td>\n",
       "      <td>-10.33</td>\n",
       "    </tr>\n",
       "    <tr>\n",
       "      <th>2</th>\n",
       "      <td>11</td>\n",
       "      <td>46975</td>\n",
       "      <td>-25.56</td>\n",
       "    </tr>\n",
       "    <tr>\n",
       "      <th>3</th>\n",
       "      <td>12</td>\n",
       "      <td>44592</td>\n",
       "      <td>-5.07</td>\n",
       "    </tr>\n",
       "  </tbody>\n",
       "</table>\n",
       "</div>"
      ],
      "text/plain": [
       "   creation_month  post_count  percentage\n",
       "0   9              70371         NaN     \n",
       "1  10              63102      -10.33     \n",
       "2  11              46975      -25.56     \n",
       "3  12              44592       -5.07     "
      ]
     },
     "execution_count": 25,
     "metadata": {},
     "output_type": "execute_result"
    }
   ],
   "source": [
    "# напишите запрос\n",
    "query = f'''\n",
    "\n",
    "        WITH\n",
    "        \n",
    "        post_monthly AS\n",
    "        (\n",
    "        SELECT\n",
    "            EXTRACT(MONTH FROM creation_date)::integer AS creation_month,\n",
    "            COUNT(id) AS post_count\n",
    "            \n",
    "        FROM\n",
    "            {posts}\n",
    "            \n",
    "        WHERE\n",
    "            creation_date::date BETWEEN '2008-09-01' AND '2008-12-31'\n",
    "            \n",
    "        GROUP BY\n",
    "            EXTRACT(MONTH FROM creation_date)\n",
    "        )\n",
    "        \n",
    "        \n",
    "        SELECT\n",
    "            *,\n",
    "            ROUND((post_count::numeric / LAG(post_count) OVER(ORDER BY creation_month) - 1) * 100, 2) AS percentage\n",
    "            \n",
    "        FROM\n",
    "            post_monthly\n",
    "        \n",
    "        '''\n",
    "\n",
    "df = sql_query(query)\n",
    "df"
   ]
  },
  {
   "attachments": {},
   "cell_type": "markdown",
   "metadata": {
    "id": "9NQE2y_MDWLP"
   },
   "source": [
    "Постройте круговую диаграмму с количеством постов по месяцам."
   ]
  },
  {
   "cell_type": "code",
   "execution_count": 26,
   "metadata": {
    "id": "377ABjiVDWLP"
   },
   "outputs": [
    {
     "data": {
      "image/png": "[encoded data removed]",
      "text/plain": [
       "<Figure size 450x450 with 1 Axes>"
      ]
     },
     "metadata": {},
     "output_type": "display_data"
    }
   ],
   "source": [
    "# постройте круговую диаграмму с количеством постов по месяцам\n",
    "\n",
    "fig, ax = plt.subplots(figsize=(3,3), dpi=PLOT_DPI)\n",
    "\n",
    "plt.pie(df.post_count, labels=df.creation_month, autopct=lambda p: f'{p*sum(df.post_count)/100 :.0f}\\n{p :.0f}%')\n",
    "plt.title('Post Counts by Month', fontsize=10)\n",
    "\n",
    "plt.show()"
   ]
  },
  {
   "attachments": {},
   "cell_type": "markdown",
   "metadata": {
    "id": "uw7qMtafDWLP"
   },
   "source": [
    "# Задание 10"
   ]
  },
  {
   "attachments": {},
   "cell_type": "markdown",
   "metadata": {
    "id": "oRBpWKx3DWLQ"
   },
   "source": [
    "Выгрузите данные активности пользователя, который опубликовал больше всего постов за всё время. Выведите данные за октябрь 2008 года в таком виде:\n",
    "\n",
    "- номер недели;\n",
    "- дата и время последнего поста, опубликованного на этой неделе."
   ]
  },
  {
   "attachments": {},
   "cell_type": "markdown",
   "metadata": {
    "id": "XjAWSn_3DWLQ"
   },
   "source": [
    "| week_creation | creation_date |\n",
    "| ------------- | ------------- |\n",
    "| 40 | 2008-10-05 09:00:58 |\n",
    "| 41 | 2008-10-12 21:22:23 |\n",
    "| ... | ... |"
   ]
  },
  {
   "cell_type": "code",
   "execution_count": 27,
   "metadata": {
    "id": "r5F5fSkwDWLQ"
   },
   "outputs": [
    {
     "data": {
      "text/html": [
       "<div>\n",
       "<style scoped>\n",
       "    .dataframe tbody tr th:only-of-type {\n",
       "        vertical-align: middle;\n",
       "    }\n",
       "\n",
       "    .dataframe tbody tr th {\n",
       "        vertical-align: top;\n",
       "    }\n",
       "\n",
       "    .dataframe thead th {\n",
       "        text-align: right;\n",
       "    }\n",
       "</style>\n",
       "<table border=\"1\" class=\"dataframe\">\n",
       "  <thead>\n",
       "    <tr style=\"text-align: left;\">\n",
       "      <th></th>\n",
       "      <th>week_creation</th>\n",
       "      <th>max</th>\n",
       "    </tr>\n",
       "  </thead>\n",
       "  <tbody>\n",
       "    <tr>\n",
       "      <th>0</th>\n",
       "      <td>40</td>\n",
       "      <td>2008-10-05 09:00:58</td>\n",
       "    </tr>\n",
       "    <tr>\n",
       "      <th>1</th>\n",
       "      <td>41</td>\n",
       "      <td>2008-10-12 21:22:23</td>\n",
       "    </tr>\n",
       "    <tr>\n",
       "      <th>2</th>\n",
       "      <td>42</td>\n",
       "      <td>2008-10-19 06:49:30</td>\n",
       "    </tr>\n",
       "    <tr>\n",
       "      <th>3</th>\n",
       "      <td>43</td>\n",
       "      <td>2008-10-26 21:44:36</td>\n",
       "    </tr>\n",
       "    <tr>\n",
       "      <th>4</th>\n",
       "      <td>44</td>\n",
       "      <td>2008-10-31 22:16:01</td>\n",
       "    </tr>\n",
       "  </tbody>\n",
       "</table>\n",
       "</div>"
      ],
      "text/plain": [
       "   week_creation max                \n",
       "0  40            2008-10-05 09:00:58\n",
       "1  41            2008-10-12 21:22:23\n",
       "2  42            2008-10-19 06:49:30\n",
       "3  43            2008-10-26 21:44:36\n",
       "4  44            2008-10-31 22:16:01"
      ]
     },
     "execution_count": 27,
     "metadata": {},
     "output_type": "execute_result"
    }
   ],
   "source": [
    "# напишите запрос\n",
    "query = f'''\n",
    "\n",
    "        WITH\n",
    "        \n",
    "        post_count AS                                  /* количество постов у каждого пользователя */\n",
    "        (\n",
    "        SELECT\n",
    "            user_id,\n",
    "            COUNT(id) AS post_cnt\n",
    "        FROM\n",
    "            {posts}\n",
    "        GROUP BY\n",
    "            user_id\n",
    "        ),\n",
    "        \n",
    "        post_max_count AS                              /* максимальное количество постов у одного пользователя */\n",
    "        (\n",
    "        SELECT\n",
    "            MAX(post_cnt) AS post_cnt\n",
    "        FROM\n",
    "            post_count\n",
    "        ),\n",
    "        \n",
    "        post_max_user_id AS                            /* пользователь(ли) с максимальным количеством постов */\n",
    "        (\n",
    "        SELECT\n",
    "            user_id\n",
    "        FROM\n",
    "            post_count\n",
    "        WHERE\n",
    "            post_cnt = (SELECT post_cnt FROM post_max_count)\n",
    "        )\n",
    "\n",
    "\n",
    "        SELECT DISTINCT\n",
    "            EXTRACT(WEEK FROM creation_date)::integer AS week_creation,\n",
    "            MAX(creation_date) OVER(PARTITION BY EXTRACT(WEEK FROM creation_date))\n",
    "        FROM\n",
    "            {posts}\n",
    "        WHERE\n",
    "            user_id = (SELECT user_id FROM post_max_user_id)\n",
    "            AND\n",
    "            DATE_TRUNC('month', creation_date) = '2008-10-01'\n",
    "        \n",
    "        '''\n",
    "\n",
    "sql_query(query)"
   ]
  }
 ],
 "metadata": {
  "ExecuteTimeLog": [
   {
    "duration": 856,
    "start_time": "2023-05-25T22:15:26.176Z"
   },
   {
    "duration": 4,
    "start_time": "2023-05-25T22:15:30.832Z"
   },
   {
    "duration": 5087,
    "start_time": "2023-05-25T22:15:34.780Z"
   },
   {
    "duration": 80,
    "start_time": "2023-05-25T22:15:39.870Z"
   },
   {
    "duration": 21,
    "start_time": "2023-05-25T22:15:45.433Z"
   },
   {
    "duration": 4,
    "start_time": "2023-05-25T22:16:06.082Z"
   },
   {
    "duration": 922,
    "start_time": "2023-05-26T17:40:11.917Z"
   },
   {
    "duration": 4,
    "start_time": "2023-05-26T17:40:13.753Z"
   },
   {
    "duration": 4722,
    "start_time": "2023-05-26T17:40:16.112Z"
   },
   {
    "duration": 52,
    "start_time": "2023-05-26T17:40:27.902Z"
   },
   {
    "duration": 15,
    "start_time": "2023-05-26T17:40:31.042Z"
   },
   {
    "duration": 64,
    "start_time": "2023-05-26T17:40:38.280Z"
   },
   {
    "duration": 105,
    "start_time": "2023-05-26T17:41:08.628Z"
   },
   {
    "duration": 65,
    "start_time": "2023-05-26T17:46:24.747Z"
   },
   {
    "duration": 76,
    "start_time": "2023-05-26T17:46:29.499Z"
   },
   {
    "duration": 101,
    "start_time": "2023-05-26T21:08:20.687Z"
   },
   {
    "duration": 4,
    "start_time": "2023-05-26T21:08:32.402Z"
   },
   {
    "duration": 46,
    "start_time": "2023-05-26T21:08:38.215Z"
   },
   {
    "duration": 1095,
    "start_time": "2023-05-26T21:08:46.618Z"
   },
   {
    "duration": 4,
    "start_time": "2023-05-26T21:08:49.005Z"
   },
   {
    "duration": 8846,
    "start_time": "2023-05-26T21:08:51.301Z"
   },
   {
    "duration": 97,
    "start_time": "2023-05-26T21:09:00.149Z"
   },
   {
    "duration": 29,
    "start_time": "2023-05-26T21:09:00.248Z"
   },
   {
    "duration": 117,
    "start_time": "2023-05-26T21:09:00.838Z"
   },
   {
    "duration": 6,
    "start_time": "2023-05-26T21:09:04.012Z"
   },
   {
    "duration": 235,
    "start_time": "2023-05-26T21:09:08.200Z"
   },
   {
    "duration": 915,
    "start_time": "2023-05-27T09:27:39.788Z"
   },
   {
    "duration": 4,
    "start_time": "2023-05-27T09:27:40.790Z"
   },
   {
    "duration": 4784,
    "start_time": "2023-05-27T09:27:41.956Z"
   },
   {
    "duration": 54,
    "start_time": "2023-05-27T09:27:48.845Z"
   },
   {
    "duration": 16,
    "start_time": "2023-05-27T09:27:49.773Z"
   },
   {
    "duration": 102,
    "start_time": "2023-05-27T09:27:56.648Z"
   },
   {
    "duration": 3,
    "start_time": "2023-05-27T09:28:01.405Z"
   },
   {
    "duration": 219,
    "start_time": "2023-05-27T09:28:06.189Z"
   },
   {
    "duration": 2,
    "start_time": "2023-05-27T09:28:10.246Z"
   },
   {
    "duration": 3,
    "start_time": "2023-05-27T09:28:15.692Z"
   },
   {
    "duration": 119,
    "start_time": "2023-05-27T09:33:16.150Z"
   },
   {
    "duration": 58461,
    "start_time": "2023-05-27T10:28:04.533Z"
   },
   {
    "duration": 163,
    "start_time": "2023-05-27T10:29:02.996Z"
   },
   {
    "duration": 3,
    "start_time": "2023-05-27T11:44:38.889Z"
   },
   {
    "duration": 14272,
    "start_time": "2023-05-27T11:44:41.780Z"
   },
   {
    "duration": 8,
    "start_time": "2023-05-27T11:44:57.720Z"
   },
   {
    "duration": 8,
    "start_time": "2023-05-27T11:45:15.845Z"
   },
   {
    "duration": 3,
    "start_time": "2023-05-27T11:50:07.355Z"
   },
   {
    "duration": 8,
    "start_time": "2023-05-27T11:50:09.352Z"
   },
   {
    "duration": 4,
    "start_time": "2023-05-27T11:55:34.088Z"
   },
   {
    "duration": 8,
    "start_time": "2023-05-27T12:01:54.485Z"
   },
   {
    "duration": 43,
    "start_time": "2023-05-27T12:01:55.848Z"
   },
   {
    "duration": 751,
    "start_time": "2023-05-27T12:02:01.651Z"
   },
   {
    "duration": 4,
    "start_time": "2023-05-27T12:02:02.404Z"
   },
   {
    "duration": 4793,
    "start_time": "2023-05-27T12:02:02.409Z"
   },
   {
    "duration": 42,
    "start_time": "2023-05-27T12:02:07.203Z"
   },
   {
    "duration": 14,
    "start_time": "2023-05-27T12:02:07.248Z"
   },
   {
    "duration": 107,
    "start_time": "2023-05-27T12:02:07.264Z"
   },
   {
    "duration": 3,
    "start_time": "2023-05-27T12:02:07.372Z"
   },
   {
    "duration": 226,
    "start_time": "2023-05-27T12:02:07.377Z"
   },
   {
    "duration": 3,
    "start_time": "2023-05-27T12:02:07.605Z"
   },
   {
    "duration": 127,
    "start_time": "2023-05-27T12:02:07.609Z"
   },
   {
    "duration": 3,
    "start_time": "2023-05-27T12:02:07.738Z"
   },
   {
    "duration": 35,
    "start_time": "2023-05-27T12:02:07.743Z"
   },
   {
    "duration": 54390,
    "start_time": "2023-05-27T12:02:07.780Z"
   },
   {
    "duration": 3,
    "start_time": "2023-05-27T12:03:02.195Z"
   },
   {
    "duration": 12,
    "start_time": "2023-05-27T12:03:02.201Z"
   },
   {
    "duration": 11,
    "start_time": "2023-05-27T12:03:02.214Z"
   },
   {
    "duration": 3,
    "start_time": "2023-05-27T12:03:02.251Z"
   },
   {
    "duration": 28,
    "start_time": "2023-05-27T12:03:02.255Z"
   },
   {
    "duration": 15,
    "start_time": "2023-05-27T12:03:02.284Z"
   },
   {
    "duration": 2,
    "start_time": "2023-05-27T12:03:02.351Z"
   },
   {
    "duration": 17,
    "start_time": "2023-05-27T12:03:02.355Z"
   },
   {
    "duration": 4,
    "start_time": "2023-05-27T12:03:02.374Z"
   },
   {
    "duration": 8,
    "start_time": "2023-05-27T12:03:02.381Z"
   },
   {
    "duration": 3,
    "start_time": "2023-05-27T12:11:19.185Z"
   },
   {
    "duration": 4,
    "start_time": "2023-05-27T12:11:19.514Z"
   },
   {
    "duration": 3,
    "start_time": "2023-05-27T12:11:19.875Z"
   },
   {
    "duration": 40,
    "start_time": "2023-05-27T12:11:20.378Z"
   },
   {
    "duration": 11,
    "start_time": "2023-05-27T12:11:20.603Z"
   },
   {
    "duration": 67,
    "start_time": "2023-05-27T12:11:22.338Z"
   },
   {
    "duration": 3,
    "start_time": "2023-05-27T12:11:24.131Z"
   },
   {
    "duration": 217,
    "start_time": "2023-05-27T12:11:26.076Z"
   },
   {
    "duration": 3,
    "start_time": "2023-05-27T12:11:31.490Z"
   },
   {
    "duration": 122,
    "start_time": "2023-05-27T12:11:34.188Z"
   },
   {
    "duration": 28,
    "start_time": "2023-05-27T12:12:36.724Z"
   },
   {
    "duration": 34,
    "start_time": "2023-05-27T12:14:01.856Z"
   },
   {
    "duration": 32,
    "start_time": "2023-05-27T12:16:41.143Z"
   },
   {
    "duration": 3,
    "start_time": "2023-05-27T12:19:44.385Z"
   },
   {
    "duration": 6,
    "start_time": "2023-05-27T12:19:44.390Z"
   },
   {
    "duration": 6,
    "start_time": "2023-05-27T12:19:44.398Z"
   },
   {
    "duration": 39,
    "start_time": "2023-05-27T12:19:44.406Z"
   },
   {
    "duration": 13,
    "start_time": "2023-05-27T12:19:44.447Z"
   },
   {
    "duration": 70,
    "start_time": "2023-05-27T12:19:44.462Z"
   },
   {
    "duration": 3,
    "start_time": "2023-05-27T12:19:44.534Z"
   },
   {
    "duration": 216,
    "start_time": "2023-05-27T12:19:44.538Z"
   },
   {
    "duration": 2,
    "start_time": "2023-05-27T12:19:44.757Z"
   },
   {
    "duration": 124,
    "start_time": "2023-05-27T12:19:44.760Z"
   },
   {
    "duration": 3,
    "start_time": "2023-05-27T12:19:44.885Z"
   },
   {
    "duration": 14,
    "start_time": "2023-05-27T12:19:44.890Z"
   },
   {
    "duration": 983,
    "start_time": "2023-05-27T12:19:44.905Z"
   },
   {
    "duration": 0,
    "start_time": "2023-05-27T12:19:45.890Z"
   },
   {
    "duration": 0,
    "start_time": "2023-05-27T12:19:45.891Z"
   },
   {
    "duration": 0,
    "start_time": "2023-05-27T12:19:45.892Z"
   },
   {
    "duration": 0,
    "start_time": "2023-05-27T12:19:45.894Z"
   },
   {
    "duration": 0,
    "start_time": "2023-05-27T12:19:45.895Z"
   },
   {
    "duration": 0,
    "start_time": "2023-05-27T12:19:45.898Z"
   },
   {
    "duration": 0,
    "start_time": "2023-05-27T12:19:45.899Z"
   },
   {
    "duration": 0,
    "start_time": "2023-05-27T12:19:45.900Z"
   },
   {
    "duration": 0,
    "start_time": "2023-05-27T12:19:45.902Z"
   },
   {
    "duration": 0,
    "start_time": "2023-05-27T12:19:45.903Z"
   },
   {
    "duration": 978,
    "start_time": "2023-05-27T12:20:07.151Z"
   },
   {
    "duration": 3565,
    "start_time": "2023-05-27T12:20:40.615Z"
   },
   {
    "duration": 953,
    "start_time": "2023-05-27T12:20:55.710Z"
   },
   {
    "duration": 132,
    "start_time": "2023-05-27T12:23:37.234Z"
   },
   {
    "duration": 94,
    "start_time": "2023-05-27T12:31:15.675Z"
   },
   {
    "duration": 64,
    "start_time": "2023-05-27T12:32:03.749Z"
   },
   {
    "duration": 70,
    "start_time": "2023-05-27T12:33:23.480Z"
   },
   {
    "duration": 74,
    "start_time": "2023-05-27T12:33:35.480Z"
   },
   {
    "duration": 32,
    "start_time": "2023-05-27T12:36:41.839Z"
   },
   {
    "duration": 30,
    "start_time": "2023-05-27T12:37:51.452Z"
   },
   {
    "duration": 31,
    "start_time": "2023-05-27T12:38:06.760Z"
   },
   {
    "duration": 35,
    "start_time": "2023-05-27T12:38:39.105Z"
   },
   {
    "duration": 73,
    "start_time": "2023-05-27T12:44:11.475Z"
   },
   {
    "duration": 35,
    "start_time": "2023-05-27T13:12:07.799Z"
   },
   {
    "duration": 40,
    "start_time": "2023-05-27T13:14:30.043Z"
   },
   {
    "duration": 35,
    "start_time": "2023-05-27T13:16:59.306Z"
   },
   {
    "duration": 58,
    "start_time": "2023-05-27T13:23:43.496Z"
   },
   {
    "duration": 132,
    "start_time": "2023-05-27T13:25:03.176Z"
   },
   {
    "duration": 4,
    "start_time": "2023-05-27T13:25:27.044Z"
   },
   {
    "duration": 184,
    "start_time": "2023-05-27T13:25:46.137Z"
   },
   {
    "duration": 84,
    "start_time": "2023-05-27T13:47:57.899Z"
   },
   {
    "duration": 660,
    "start_time": "2023-05-27T13:48:12.597Z"
   },
   {
    "duration": 91,
    "start_time": "2023-05-27T13:48:24.769Z"
   },
   {
    "duration": 36,
    "start_time": "2023-05-27T13:48:28.900Z"
   },
   {
    "duration": 61,
    "start_time": "2023-05-27T14:20:08.658Z"
   },
   {
    "duration": 36,
    "start_time": "2023-05-27T14:36:52.273Z"
   },
   {
    "duration": 9,
    "start_time": "2023-05-27T15:31:01.654Z"
   },
   {
    "duration": 434,
    "start_time": "2023-05-27T15:38:27.081Z"
   },
   {
    "duration": 3,
    "start_time": "2023-05-27T15:38:28.216Z"
   },
   {
    "duration": 4,
    "start_time": "2023-05-27T15:38:30.640Z"
   },
   {
    "duration": 4,
    "start_time": "2023-05-27T15:38:31.656Z"
   },
   {
    "duration": 5,
    "start_time": "2023-05-27T15:38:44.081Z"
   },
   {
    "duration": 4,
    "start_time": "2023-05-27T15:38:46.538Z"
   },
   {
    "duration": 38,
    "start_time": "2023-05-27T15:38:47.905Z"
   },
   {
    "duration": 11,
    "start_time": "2023-05-27T15:38:49.207Z"
   },
   {
    "duration": 3,
    "start_time": "2023-05-27T15:38:51.120Z"
   },
   {
    "duration": 75,
    "start_time": "2023-05-27T15:38:54.928Z"
   },
   {
    "duration": 79,
    "start_time": "2023-05-27T15:39:00.345Z"
   },
   {
    "duration": 44,
    "start_time": "2023-05-27T15:39:47.402Z"
   },
   {
    "duration": 3,
    "start_time": "2023-05-27T15:41:09.738Z"
   },
   {
    "duration": 152,
    "start_time": "2023-05-27T15:41:14.499Z"
   },
   {
    "duration": 191,
    "start_time": "2023-05-27T15:42:34.756Z"
   },
   {
    "duration": 148,
    "start_time": "2023-05-27T15:43:46.939Z"
   },
   {
    "duration": 977,
    "start_time": "2023-05-27T15:44:54.100Z"
   },
   {
    "duration": 89,
    "start_time": "2023-05-27T15:50:00.395Z"
   },
   {
    "duration": 112,
    "start_time": "2023-05-27T15:50:44.664Z"
   },
   {
    "duration": 79,
    "start_time": "2023-05-27T15:50:55.496Z"
   },
   {
    "duration": 64,
    "start_time": "2023-05-27T15:51:25.400Z"
   },
   {
    "duration": 3672,
    "start_time": "2023-05-27T15:53:27.908Z"
   },
   {
    "duration": 51,
    "start_time": "2023-05-27T15:54:58.377Z"
   },
   {
    "duration": 43,
    "start_time": "2023-05-27T15:55:07.968Z"
   },
   {
    "duration": 577,
    "start_time": "2023-05-27T15:55:16.242Z"
   },
   {
    "duration": 7,
    "start_time": "2023-05-27T15:59:43.229Z"
   },
   {
    "duration": 446,
    "start_time": "2023-05-27T15:59:45.451Z"
   },
   {
    "duration": 96,
    "start_time": "2023-05-27T16:08:41.579Z"
   },
   {
    "duration": 101,
    "start_time": "2023-05-27T16:09:01.779Z"
   },
   {
    "duration": 151,
    "start_time": "2023-05-27T16:10:09.137Z"
   },
   {
    "duration": 46,
    "start_time": "2023-05-27T16:15:13.218Z"
   },
   {
    "duration": 1382,
    "start_time": "2023-05-27T16:25:05.849Z"
   },
   {
    "duration": 3,
    "start_time": "2023-05-27T16:25:07.233Z"
   },
   {
    "duration": 21,
    "start_time": "2023-05-27T16:25:07.238Z"
   },
   {
    "duration": 8,
    "start_time": "2023-05-27T16:25:07.262Z"
   },
   {
    "duration": 23,
    "start_time": "2023-05-27T16:25:07.271Z"
   },
   {
    "duration": 8395,
    "start_time": "2023-05-27T16:25:07.296Z"
   },
   {
    "duration": 228,
    "start_time": "2023-05-27T16:25:15.693Z"
   },
   {
    "duration": 14,
    "start_time": "2023-05-27T16:25:15.923Z"
   },
   {
    "duration": 21,
    "start_time": "2023-05-27T16:25:15.939Z"
   },
   {
    "duration": 335,
    "start_time": "2023-05-27T16:25:15.963Z"
   },
   {
    "duration": 3,
    "start_time": "2023-05-27T16:25:16.300Z"
   },
   {
    "duration": 343,
    "start_time": "2023-05-27T16:25:16.304Z"
   },
   {
    "duration": 3,
    "start_time": "2023-05-27T16:25:16.649Z"
   },
   {
    "duration": 320,
    "start_time": "2023-05-27T16:25:16.654Z"
   },
   {
    "duration": 3,
    "start_time": "2023-05-27T16:25:16.976Z"
   },
   {
    "duration": 1448,
    "start_time": "2023-05-27T16:25:16.980Z"
   },
   {
    "duration": 243,
    "start_time": "2023-05-27T16:25:18.429Z"
   },
   {
    "duration": 215,
    "start_time": "2023-05-27T16:25:18.674Z"
   },
   {
    "duration": 2,
    "start_time": "2023-05-27T16:25:18.891Z"
   },
   {
    "duration": 1383,
    "start_time": "2023-05-27T16:25:18.894Z"
   },
   {
    "duration": 709,
    "start_time": "2023-05-27T16:25:20.279Z"
   },
   {
    "duration": 8,
    "start_time": "2023-05-27T16:25:20.990Z"
   },
   {
    "duration": 650,
    "start_time": "2023-05-27T16:25:21.000Z"
   },
   {
    "duration": 3,
    "start_time": "2023-05-27T16:25:21.651Z"
   },
   {
    "duration": 254,
    "start_time": "2023-05-27T16:25:21.656Z"
   },
   {
    "duration": 93,
    "start_time": "2023-05-27T16:25:21.912Z"
   },
   {
    "duration": 276,
    "start_time": "2023-05-27T16:25:22.007Z"
   },
   {
    "duration": 236,
    "start_time": "2023-05-27T16:28:12.454Z"
   },
   {
    "duration": 307,
    "start_time": "2023-05-27T16:31:30.814Z"
   },
   {
    "duration": 288,
    "start_time": "2023-05-27T16:31:31.795Z"
   },
   {
    "duration": 291,
    "start_time": "2023-05-27T16:31:32.598Z"
   },
   {
    "duration": 284,
    "start_time": "2023-05-27T16:31:33.270Z"
   },
   {
    "duration": 1159,
    "start_time": "2023-05-27T16:31:52.176Z"
   },
   {
    "duration": 4,
    "start_time": "2023-05-27T16:31:53.337Z"
   },
   {
    "duration": 29,
    "start_time": "2023-05-27T16:31:53.342Z"
   },
   {
    "duration": 22,
    "start_time": "2023-05-27T16:31:53.373Z"
   },
   {
    "duration": 34,
    "start_time": "2023-05-27T16:31:53.397Z"
   },
   {
    "duration": 8491,
    "start_time": "2023-05-27T16:31:53.433Z"
   },
   {
    "duration": 196,
    "start_time": "2023-05-27T16:32:01.926Z"
   },
   {
    "duration": 13,
    "start_time": "2023-05-27T16:32:02.124Z"
   },
   {
    "duration": 19,
    "start_time": "2023-05-27T16:32:02.138Z"
   },
   {
    "duration": 340,
    "start_time": "2023-05-27T16:32:02.159Z"
   },
   {
    "duration": 3,
    "start_time": "2023-05-27T16:32:02.501Z"
   },
   {
    "duration": 333,
    "start_time": "2023-05-27T16:32:02.505Z"
   },
   {
    "duration": 2,
    "start_time": "2023-05-27T16:32:02.840Z"
   },
   {
    "duration": 318,
    "start_time": "2023-05-27T16:32:02.844Z"
   },
   {
    "duration": 3,
    "start_time": "2023-05-27T16:32:03.163Z"
   },
   {
    "duration": 1585,
    "start_time": "2023-05-27T16:32:03.167Z"
   },
   {
    "duration": 239,
    "start_time": "2023-05-27T16:32:04.753Z"
   },
   {
    "duration": 215,
    "start_time": "2023-05-27T16:32:04.994Z"
   },
   {
    "duration": 3,
    "start_time": "2023-05-27T16:32:05.210Z"
   },
   {
    "duration": 1386,
    "start_time": "2023-05-27T16:32:05.214Z"
   },
   {
    "duration": 731,
    "start_time": "2023-05-27T16:32:06.603Z"
   },
   {
    "duration": 9,
    "start_time": "2023-05-27T16:32:07.335Z"
   },
   {
    "duration": 480,
    "start_time": "2023-05-27T16:32:07.346Z"
   },
   {
    "duration": 3,
    "start_time": "2023-05-27T16:32:07.827Z"
   },
   {
    "duration": 265,
    "start_time": "2023-05-27T16:32:07.832Z"
   },
   {
    "duration": 97,
    "start_time": "2023-05-27T16:32:08.099Z"
   },
   {
    "duration": 276,
    "start_time": "2023-05-27T16:32:08.198Z"
   },
   {
    "duration": 1219,
    "start_time": "2023-05-27T16:33:44.893Z"
   },
   {
    "duration": 3,
    "start_time": "2023-05-27T16:33:46.114Z"
   },
   {
    "duration": 6,
    "start_time": "2023-05-27T16:33:46.124Z"
   },
   {
    "duration": 10,
    "start_time": "2023-05-27T16:33:46.131Z"
   },
   {
    "duration": 11,
    "start_time": "2023-05-27T16:33:46.143Z"
   },
   {
    "duration": 8408,
    "start_time": "2023-05-27T16:33:46.155Z"
   },
   {
    "duration": 201,
    "start_time": "2023-05-27T16:33:54.565Z"
   },
   {
    "duration": 18,
    "start_time": "2023-05-27T16:33:54.769Z"
   },
   {
    "duration": 5,
    "start_time": "2023-05-27T16:33:54.789Z"
   },
   {
    "duration": 327,
    "start_time": "2023-05-27T16:33:54.796Z"
   },
   {
    "duration": 2,
    "start_time": "2023-05-27T16:33:55.124Z"
   },
   {
    "duration": 326,
    "start_time": "2023-05-27T16:33:55.127Z"
   },
   {
    "duration": 3,
    "start_time": "2023-05-27T16:33:55.455Z"
   },
   {
    "duration": 320,
    "start_time": "2023-05-27T16:33:55.459Z"
   },
   {
    "duration": 3,
    "start_time": "2023-05-27T16:33:55.781Z"
   },
   {
    "duration": 1422,
    "start_time": "2023-05-27T16:33:55.785Z"
   },
   {
    "duration": 233,
    "start_time": "2023-05-27T16:33:57.208Z"
   },
   {
    "duration": 206,
    "start_time": "2023-05-27T16:33:57.442Z"
   },
   {
    "duration": 3,
    "start_time": "2023-05-27T16:33:57.649Z"
   },
   {
    "duration": 1351,
    "start_time": "2023-05-27T16:33:57.653Z"
   },
   {
    "duration": 713,
    "start_time": "2023-05-27T16:33:59.005Z"
   },
   {
    "duration": 8,
    "start_time": "2023-05-27T16:33:59.720Z"
   },
   {
    "duration": 479,
    "start_time": "2023-05-27T16:33:59.730Z"
   },
   {
    "duration": 3,
    "start_time": "2023-05-27T16:34:00.211Z"
   },
   {
    "duration": 278,
    "start_time": "2023-05-27T16:34:00.216Z"
   },
   {
    "duration": 103,
    "start_time": "2023-05-27T16:34:00.496Z"
   },
   {
    "duration": 281,
    "start_time": "2023-05-27T16:34:00.601Z"
   },
   {
    "duration": 50,
    "start_time": "2023-05-27T16:41:45.774Z"
   },
   {
    "duration": 58,
    "start_time": "2023-05-27T16:49:46.893Z"
   },
   {
    "duration": 58,
    "start_time": "2023-05-27T16:51:05.093Z"
   },
   {
    "duration": 95,
    "start_time": "2023-05-27T16:51:17.617Z"
   },
   {
    "duration": 110,
    "start_time": "2023-05-27T16:51:58.897Z"
   },
   {
    "duration": 106,
    "start_time": "2023-05-27T16:52:21.716Z"
   },
   {
    "duration": 3,
    "start_time": "2023-05-27T16:52:49.857Z"
   },
   {
    "duration": 92,
    "start_time": "2023-05-27T16:52:58.607Z"
   },
   {
    "duration": 94,
    "start_time": "2023-05-27T16:54:49.307Z"
   },
   {
    "duration": 95,
    "start_time": "2023-05-27T16:58:28.590Z"
   },
   {
    "duration": 137,
    "start_time": "2023-05-27T16:58:40.847Z"
   },
   {
    "duration": 98,
    "start_time": "2023-05-27T16:59:10.521Z"
   },
   {
    "duration": 94,
    "start_time": "2023-05-27T16:59:31.521Z"
   },
   {
    "duration": 125,
    "start_time": "2023-05-27T17:00:53.549Z"
   },
   {
    "duration": 4,
    "start_time": "2023-05-27T17:03:29.200Z"
   },
   {
    "duration": 111,
    "start_time": "2023-05-27T17:03:41.591Z"
   },
   {
    "duration": 1399,
    "start_time": "2023-05-27T23:23:57.405Z"
   },
   {
    "duration": 3,
    "start_time": "2023-05-27T23:23:58.807Z"
   },
   {
    "duration": 8,
    "start_time": "2023-05-27T23:23:58.812Z"
   },
   {
    "duration": 7,
    "start_time": "2023-05-27T23:23:58.823Z"
   },
   {
    "duration": 4,
    "start_time": "2023-05-27T23:23:58.832Z"
   },
   {
    "duration": 12286,
    "start_time": "2023-05-27T23:23:58.838Z"
   },
   {
    "duration": 51,
    "start_time": "2023-05-27T23:24:11.126Z"
   },
   {
    "duration": 15,
    "start_time": "2023-05-27T23:24:11.179Z"
   },
   {
    "duration": 3,
    "start_time": "2023-05-27T23:24:11.196Z"
   },
   {
    "duration": 172,
    "start_time": "2023-05-27T23:24:11.202Z"
   },
   {
    "duration": 2,
    "start_time": "2023-05-27T23:24:11.376Z"
   },
   {
    "duration": 192,
    "start_time": "2023-05-27T23:24:11.380Z"
   },
   {
    "duration": 3,
    "start_time": "2023-05-27T23:24:11.574Z"
   },
   {
    "duration": 148,
    "start_time": "2023-05-27T23:24:11.579Z"
   },
   {
    "duration": 2,
    "start_time": "2023-05-27T23:24:11.729Z"
   },
   {
    "duration": 1349,
    "start_time": "2023-05-27T23:24:11.733Z"
   },
   {
    "duration": 68,
    "start_time": "2023-05-27T23:24:13.083Z"
   },
   {
    "duration": 60,
    "start_time": "2023-05-27T23:24:13.153Z"
   },
   {
    "duration": 4,
    "start_time": "2023-05-27T23:24:13.214Z"
   },
   {
    "duration": 1228,
    "start_time": "2023-05-27T23:24:13.219Z"
   },
   {
    "duration": 575,
    "start_time": "2023-05-27T23:24:14.449Z"
   },
   {
    "duration": 8,
    "start_time": "2023-05-27T23:24:15.026Z"
   },
   {
    "duration": 512,
    "start_time": "2023-05-27T23:24:15.035Z"
   },
   {
    "duration": 2,
    "start_time": "2023-05-27T23:24:15.549Z"
   },
   {
    "duration": 95,
    "start_time": "2023-05-27T23:24:15.552Z"
   },
   {
    "duration": 92,
    "start_time": "2023-05-27T23:24:15.649Z"
   },
   {
    "duration": 129,
    "start_time": "2023-05-27T23:24:15.743Z"
   }
  ],
  "colab": {
   "provenance": []
  },
  "kernelspec": {
   "display_name": "Python 3 (ipykernel)",
   "language": "python",
   "name": "python3"
  },
  "language_info": {
   "codemirror_mode": {
    "name": "ipython",
    "version": 3
   },
   "file_extension": ".py",
   "mimetype": "text/x-python",
   "name": "python",
   "nbconvert_exporter": "python",
   "pygments_lexer": "ipython3",
   "version": "3.9.5"
  },
  "toc": {
   "base_numbering": 1,
   "nav_menu": {},
   "number_sections": true,
   "sideBar": true,
   "skip_h1_title": true,
   "title_cell": "Table of Contents",
   "title_sidebar": "Contents",
   "toc_cell": false,
   "toc_position": {},
   "toc_section_display": true,
   "toc_window_display": false
  }
 },
 "nbformat": 4,
 "nbformat_minor": 1
}
