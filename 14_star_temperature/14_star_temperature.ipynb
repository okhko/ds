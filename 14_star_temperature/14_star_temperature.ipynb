{
 "cells": [
  {
   "attachments": {},
   "cell_type": "markdown",
   "id": "1e6a0d2d",
   "metadata": {},
   "source": [
    "## Описание проекта"
   ]
  },
  {
   "attachments": {},
   "cell_type": "markdown",
   "id": "2806b221",
   "metadata": {},
   "source": [
    "Задача данного проекта заключается в попытке спрогнозировать температуру на поверхности обнаруженных звёзд при помощи нескольких методов и применении нейросети как инструмента решения задачи.\n",
    "\n",
    "Для решения задачи будет использованна база данных о 240 звёздах любезно предоставленная обсерваторией «Небо на ладони»."
   ]
  },
  {
   "attachments": {},
   "cell_type": "markdown",
   "id": "corresponding-armstrong",
   "metadata": {
    "ExecuteTime": {
     "end_time": "2022-05-05T04:58:05.692448Z",
     "start_time": "2022-05-05T04:58:05.688565Z"
    }
   },
   "source": [
    "## Загрузка данных"
   ]
  },
  {
   "attachments": {},
   "cell_type": "markdown",
   "id": "8a76285f",
   "metadata": {},
   "source": [
    "Устанавливаем необходимые библиотеки"
   ]
  },
  {
   "cell_type": "code",
   "execution_count": 1,
   "id": "134a7630",
   "metadata": {},
   "outputs": [],
   "source": [
    "# LightGBM\n",
    "#%pip install lightgbm\n",
    "# CatBoost\n",
    "#%pip install catboost\n",
    "# torch\n",
    "#%pip install torch==1.10.0+cpu torchvision==0.11.0+cpu torchaudio==0.10.0 -f https://download.pytorch.org/whl/torch_stable.html --user"
   ]
  },
  {
   "attachments": {},
   "cell_type": "markdown",
   "id": "377c203f",
   "metadata": {},
   "source": [
    "Импортируем библиотеки согласно стандарту PEP-8"
   ]
  },
  {
   "cell_type": "code",
   "execution_count": 2,
   "id": "fabe5262",
   "metadata": {},
   "outputs": [],
   "source": [
    "# стандартные библиотеки\n",
    "import matplotlib.pyplot as plt\n",
    "import pandas as pd\n",
    "import plotly.express as px\n",
    "import numpy as np\n",
    "import seaborn as sns\n",
    "\n",
    "# сторонние библиотеки\n",
    "from itertools import product\n",
    "import lightgbm as lgb\n",
    "from math import ceil\n",
    "from sklearn.linear_model import LinearRegression\n",
    "from sklearn.metrics import mean_squared_error\n",
    "from sklearn.metrics import roc_curve\n",
    "from sklearn.metrics import roc_auc_score\n",
    "from sklearn.metrics import accuracy_score\n",
    "from sklearn.metrics import confusion_matrix\n",
    "from sklearn.metrics import precision_score\n",
    "from sklearn.metrics import recall_score\n",
    "from sklearn.metrics import f1_score\n",
    "from sklearn.model_selection import train_test_split\n",
    "from sklearn.utils import shuffle\n",
    "from sklearn.preprocessing import OrdinalEncoder\n",
    "from sklearn.preprocessing import StandardScaler\n",
    "from sklearn.datasets import make_regression\n",
    "from sklearn.metrics import r2_score\n",
    "from sklearn.preprocessing import StandardScaler\n",
    "\n",
    "# torch\n",
    "import torch\n",
    "import torch.optim as optim\n",
    "import torch.nn as nn\n",
    "import torchvision\n",
    "import torchvision.transforms as transforms"
   ]
  },
  {
   "attachments": {},
   "cell_type": "markdown",
   "id": "f0e949a6",
   "metadata": {},
   "source": [
    "Загружаем данные"
   ]
  },
  {
   "cell_type": "code",
   "execution_count": 3,
   "id": "spectacular-folder",
   "metadata": {},
   "outputs": [
    {
     "name": "stdout",
     "output_type": "stream",
     "text": [
      "CPU times: user 5.17 ms, sys: 325 µs, total: 5.5 ms\n",
      "Wall time: 158 ms\n"
     ]
    }
   ],
   "source": [
    "%%time\n",
    "try:\n",
    "    df = pd.read_csv('6_class.csv')\n",
    "except:\n",
    "    df = pd.read_csv('/datasets/6_class.csv')"
   ]
  },
  {
   "attachments": {},
   "cell_type": "markdown",
   "id": "9c5efb60",
   "metadata": {},
   "source": [
    "Ознакомление с данными"
   ]
  },
  {
   "cell_type": "code",
   "execution_count": 4,
   "id": "5c5e845e",
   "metadata": {},
   "outputs": [],
   "source": [
    "def show_i(data):\n",
    "\n",
    "    '''Выводим на экран следущую информацию:\n",
    "\n",
    "    - размер таблицы\n",
    "    - основную информацию\n",
    "    - первые 5 строк таблицы\n",
    "    - суммарная статистика по числовым параметрам\n",
    "    - суммарная статистика по нечисловым параметрам'''\n",
    "\n",
    "    display(data.shape)\n",
    "    display(data.info())\n",
    "    display(data.head())\n",
    "    display(data.describe())\n",
    "    display(data.describe(include=['O']))"
   ]
  },
  {
   "cell_type": "code",
   "execution_count": 5,
   "id": "5ace21e0",
   "metadata": {},
   "outputs": [
    {
     "data": {
      "text/plain": [
       "(240, 7)"
      ]
     },
     "metadata": {},
     "output_type": "display_data"
    },
    {
     "name": "stdout",
     "output_type": "stream",
     "text": [
      "<class 'pandas.core.frame.DataFrame'>\n",
      "RangeIndex: 240 entries, 0 to 239\n",
      "Data columns (total 7 columns):\n",
      " #   Column                  Non-Null Count  Dtype  \n",
      "---  ------                  --------------  -----  \n",
      " 0   Unnamed: 0              240 non-null    int64  \n",
      " 1   Temperature (K)         240 non-null    int64  \n",
      " 2   Luminosity(L/Lo)        240 non-null    float64\n",
      " 3   Radius(R/Ro)            240 non-null    float64\n",
      " 4   Absolute magnitude(Mv)  240 non-null    float64\n",
      " 5   Star type               240 non-null    int64  \n",
      " 6   Star color              240 non-null    object \n",
      "dtypes: float64(3), int64(3), object(1)\n",
      "memory usage: 13.2+ KB\n"
     ]
    },
    {
     "data": {
      "text/plain": [
       "None"
      ]
     },
     "metadata": {},
     "output_type": "display_data"
    },
    {
     "data": {
      "text/html": [
       "<div>\n",
       "<style scoped>\n",
       "    .dataframe tbody tr th:only-of-type {\n",
       "        vertical-align: middle;\n",
       "    }\n",
       "\n",
       "    .dataframe tbody tr th {\n",
       "        vertical-align: top;\n",
       "    }\n",
       "\n",
       "    .dataframe thead th {\n",
       "        text-align: right;\n",
       "    }\n",
       "</style>\n",
       "<table border=\"1\" class=\"dataframe\">\n",
       "  <thead>\n",
       "    <tr style=\"text-align: right;\">\n",
       "      <th></th>\n",
       "      <th>Unnamed: 0</th>\n",
       "      <th>Temperature (K)</th>\n",
       "      <th>Luminosity(L/Lo)</th>\n",
       "      <th>Radius(R/Ro)</th>\n",
       "      <th>Absolute magnitude(Mv)</th>\n",
       "      <th>Star type</th>\n",
       "      <th>Star color</th>\n",
       "    </tr>\n",
       "  </thead>\n",
       "  <tbody>\n",
       "    <tr>\n",
       "      <th>0</th>\n",
       "      <td>0</td>\n",
       "      <td>3068</td>\n",
       "      <td>0.002400</td>\n",
       "      <td>0.1700</td>\n",
       "      <td>16.12</td>\n",
       "      <td>0</td>\n",
       "      <td>Red</td>\n",
       "    </tr>\n",
       "    <tr>\n",
       "      <th>1</th>\n",
       "      <td>1</td>\n",
       "      <td>3042</td>\n",
       "      <td>0.000500</td>\n",
       "      <td>0.1542</td>\n",
       "      <td>16.60</td>\n",
       "      <td>0</td>\n",
       "      <td>Red</td>\n",
       "    </tr>\n",
       "    <tr>\n",
       "      <th>2</th>\n",
       "      <td>2</td>\n",
       "      <td>2600</td>\n",
       "      <td>0.000300</td>\n",
       "      <td>0.1020</td>\n",
       "      <td>18.70</td>\n",
       "      <td>0</td>\n",
       "      <td>Red</td>\n",
       "    </tr>\n",
       "    <tr>\n",
       "      <th>3</th>\n",
       "      <td>3</td>\n",
       "      <td>2800</td>\n",
       "      <td>0.000200</td>\n",
       "      <td>0.1600</td>\n",
       "      <td>16.65</td>\n",
       "      <td>0</td>\n",
       "      <td>Red</td>\n",
       "    </tr>\n",
       "    <tr>\n",
       "      <th>4</th>\n",
       "      <td>4</td>\n",
       "      <td>1939</td>\n",
       "      <td>0.000138</td>\n",
       "      <td>0.1030</td>\n",
       "      <td>20.06</td>\n",
       "      <td>0</td>\n",
       "      <td>Red</td>\n",
       "    </tr>\n",
       "  </tbody>\n",
       "</table>\n",
       "</div>"
      ],
      "text/plain": [
       "   Unnamed: 0  Temperature (K)  Luminosity(L/Lo)  Radius(R/Ro)  \\\n",
       "0           0             3068          0.002400        0.1700   \n",
       "1           1             3042          0.000500        0.1542   \n",
       "2           2             2600          0.000300        0.1020   \n",
       "3           3             2800          0.000200        0.1600   \n",
       "4           4             1939          0.000138        0.1030   \n",
       "\n",
       "   Absolute magnitude(Mv)  Star type Star color  \n",
       "0                   16.12          0        Red  \n",
       "1                   16.60          0        Red  \n",
       "2                   18.70          0        Red  \n",
       "3                   16.65          0        Red  \n",
       "4                   20.06          0        Red  "
      ]
     },
     "metadata": {},
     "output_type": "display_data"
    },
    {
     "data": {
      "text/html": [
       "<div>\n",
       "<style scoped>\n",
       "    .dataframe tbody tr th:only-of-type {\n",
       "        vertical-align: middle;\n",
       "    }\n",
       "\n",
       "    .dataframe tbody tr th {\n",
       "        vertical-align: top;\n",
       "    }\n",
       "\n",
       "    .dataframe thead th {\n",
       "        text-align: right;\n",
       "    }\n",
       "</style>\n",
       "<table border=\"1\" class=\"dataframe\">\n",
       "  <thead>\n",
       "    <tr style=\"text-align: right;\">\n",
       "      <th></th>\n",
       "      <th>Unnamed: 0</th>\n",
       "      <th>Temperature (K)</th>\n",
       "      <th>Luminosity(L/Lo)</th>\n",
       "      <th>Radius(R/Ro)</th>\n",
       "      <th>Absolute magnitude(Mv)</th>\n",
       "      <th>Star type</th>\n",
       "    </tr>\n",
       "  </thead>\n",
       "  <tbody>\n",
       "    <tr>\n",
       "      <th>count</th>\n",
       "      <td>240.00000</td>\n",
       "      <td>240.000000</td>\n",
       "      <td>240.000000</td>\n",
       "      <td>240.000000</td>\n",
       "      <td>240.000000</td>\n",
       "      <td>240.000000</td>\n",
       "    </tr>\n",
       "    <tr>\n",
       "      <th>mean</th>\n",
       "      <td>119.50000</td>\n",
       "      <td>10497.462500</td>\n",
       "      <td>107188.361635</td>\n",
       "      <td>237.157781</td>\n",
       "      <td>4.382396</td>\n",
       "      <td>2.500000</td>\n",
       "    </tr>\n",
       "    <tr>\n",
       "      <th>std</th>\n",
       "      <td>69.42622</td>\n",
       "      <td>9552.425037</td>\n",
       "      <td>179432.244940</td>\n",
       "      <td>517.155763</td>\n",
       "      <td>10.532512</td>\n",
       "      <td>1.711394</td>\n",
       "    </tr>\n",
       "    <tr>\n",
       "      <th>min</th>\n",
       "      <td>0.00000</td>\n",
       "      <td>1939.000000</td>\n",
       "      <td>0.000080</td>\n",
       "      <td>0.008400</td>\n",
       "      <td>-11.920000</td>\n",
       "      <td>0.000000</td>\n",
       "    </tr>\n",
       "    <tr>\n",
       "      <th>25%</th>\n",
       "      <td>59.75000</td>\n",
       "      <td>3344.250000</td>\n",
       "      <td>0.000865</td>\n",
       "      <td>0.102750</td>\n",
       "      <td>-6.232500</td>\n",
       "      <td>1.000000</td>\n",
       "    </tr>\n",
       "    <tr>\n",
       "      <th>50%</th>\n",
       "      <td>119.50000</td>\n",
       "      <td>5776.000000</td>\n",
       "      <td>0.070500</td>\n",
       "      <td>0.762500</td>\n",
       "      <td>8.313000</td>\n",
       "      <td>2.500000</td>\n",
       "    </tr>\n",
       "    <tr>\n",
       "      <th>75%</th>\n",
       "      <td>179.25000</td>\n",
       "      <td>15055.500000</td>\n",
       "      <td>198050.000000</td>\n",
       "      <td>42.750000</td>\n",
       "      <td>13.697500</td>\n",
       "      <td>4.000000</td>\n",
       "    </tr>\n",
       "    <tr>\n",
       "      <th>max</th>\n",
       "      <td>239.00000</td>\n",
       "      <td>40000.000000</td>\n",
       "      <td>849420.000000</td>\n",
       "      <td>1948.500000</td>\n",
       "      <td>20.060000</td>\n",
       "      <td>5.000000</td>\n",
       "    </tr>\n",
       "  </tbody>\n",
       "</table>\n",
       "</div>"
      ],
      "text/plain": [
       "       Unnamed: 0  Temperature (K)  Luminosity(L/Lo)  Radius(R/Ro)  \\\n",
       "count   240.00000       240.000000        240.000000    240.000000   \n",
       "mean    119.50000     10497.462500     107188.361635    237.157781   \n",
       "std      69.42622      9552.425037     179432.244940    517.155763   \n",
       "min       0.00000      1939.000000          0.000080      0.008400   \n",
       "25%      59.75000      3344.250000          0.000865      0.102750   \n",
       "50%     119.50000      5776.000000          0.070500      0.762500   \n",
       "75%     179.25000     15055.500000     198050.000000     42.750000   \n",
       "max     239.00000     40000.000000     849420.000000   1948.500000   \n",
       "\n",
       "       Absolute magnitude(Mv)   Star type  \n",
       "count              240.000000  240.000000  \n",
       "mean                 4.382396    2.500000  \n",
       "std                 10.532512    1.711394  \n",
       "min                -11.920000    0.000000  \n",
       "25%                 -6.232500    1.000000  \n",
       "50%                  8.313000    2.500000  \n",
       "75%                 13.697500    4.000000  \n",
       "max                 20.060000    5.000000  "
      ]
     },
     "metadata": {},
     "output_type": "display_data"
    },
    {
     "data": {
      "text/html": [
       "<div>\n",
       "<style scoped>\n",
       "    .dataframe tbody tr th:only-of-type {\n",
       "        vertical-align: middle;\n",
       "    }\n",
       "\n",
       "    .dataframe tbody tr th {\n",
       "        vertical-align: top;\n",
       "    }\n",
       "\n",
       "    .dataframe thead th {\n",
       "        text-align: right;\n",
       "    }\n",
       "</style>\n",
       "<table border=\"1\" class=\"dataframe\">\n",
       "  <thead>\n",
       "    <tr style=\"text-align: right;\">\n",
       "      <th></th>\n",
       "      <th>Star color</th>\n",
       "    </tr>\n",
       "  </thead>\n",
       "  <tbody>\n",
       "    <tr>\n",
       "      <th>count</th>\n",
       "      <td>240</td>\n",
       "    </tr>\n",
       "    <tr>\n",
       "      <th>unique</th>\n",
       "      <td>19</td>\n",
       "    </tr>\n",
       "    <tr>\n",
       "      <th>top</th>\n",
       "      <td>Red</td>\n",
       "    </tr>\n",
       "    <tr>\n",
       "      <th>freq</th>\n",
       "      <td>112</td>\n",
       "    </tr>\n",
       "  </tbody>\n",
       "</table>\n",
       "</div>"
      ],
      "text/plain": [
       "       Star color\n",
       "count         240\n",
       "unique         19\n",
       "top           Red\n",
       "freq          112"
      ]
     },
     "metadata": {},
     "output_type": "display_data"
    }
   ],
   "source": [
    "show_i(df)"
   ]
  },
  {
   "attachments": {},
   "cell_type": "markdown",
   "id": "5fc48bf5",
   "metadata": {},
   "source": [
    "`Вывод:` после предварительного ознакомления с данными надо отметить что имяются признаки нуждающиеся в удалении 'Unnamed: 0.1' и\t'Unnamed: 0' тк не содержат ценной информации, а лишь дублируют индекс таблицы. \n",
    "\n",
    "В таблице два категориальных признака - тип и цвет звезды.\n",
    "\n",
    "Также, стоит упомянуть что выборка крайне небольшая, всего 240 наблюдений что может внести свои коррективы в обучение подели и её предсказательную способность."
   ]
  },
  {
   "attachments": {},
   "cell_type": "markdown",
   "id": "simple-subdivision",
   "metadata": {},
   "source": [
    "## Предобработка и анализ данных"
   ]
  },
  {
   "attachments": {},
   "cell_type": "markdown",
   "id": "837080b0",
   "metadata": {},
   "source": [
    "### Предобработка"
   ]
  },
  {
   "attachments": {},
   "cell_type": "markdown",
   "id": "1d7939f6",
   "metadata": {},
   "source": [
    "Проверим пропуски"
   ]
  },
  {
   "cell_type": "code",
   "execution_count": 6,
   "id": "66b6d36c",
   "metadata": {},
   "outputs": [
    {
     "data": {
      "text/html": [
       "<style  type=\"text/css\" >\n",
       "#T_bd01e_row0_col0,#T_bd01e_row1_col0,#T_bd01e_row2_col0,#T_bd01e_row3_col0,#T_bd01e_row4_col0,#T_bd01e_row5_col0,#T_bd01e_row6_col0{\n",
       "            background-color:  #3b4cc0;\n",
       "            color:  #f1f1f1;\n",
       "        }</style><table id=\"T_bd01e_\" ><thead>    <tr>        <th class=\"blank level0\" ></th>        <th class=\"col_heading level0 col0\" >0</th>    </tr></thead><tbody>\n",
       "                <tr>\n",
       "                        <th id=\"T_bd01e_level0_row0\" class=\"row_heading level0 row0\" >Unnamed: 0</th>\n",
       "                        <td id=\"T_bd01e_row0_col0\" class=\"data row0 col0\" >0</td>\n",
       "            </tr>\n",
       "            <tr>\n",
       "                        <th id=\"T_bd01e_level0_row1\" class=\"row_heading level0 row1\" >Temperature (K)</th>\n",
       "                        <td id=\"T_bd01e_row1_col0\" class=\"data row1 col0\" >0</td>\n",
       "            </tr>\n",
       "            <tr>\n",
       "                        <th id=\"T_bd01e_level0_row2\" class=\"row_heading level0 row2\" >Luminosity(L/Lo)</th>\n",
       "                        <td id=\"T_bd01e_row2_col0\" class=\"data row2 col0\" >0</td>\n",
       "            </tr>\n",
       "            <tr>\n",
       "                        <th id=\"T_bd01e_level0_row3\" class=\"row_heading level0 row3\" >Radius(R/Ro)</th>\n",
       "                        <td id=\"T_bd01e_row3_col0\" class=\"data row3 col0\" >0</td>\n",
       "            </tr>\n",
       "            <tr>\n",
       "                        <th id=\"T_bd01e_level0_row4\" class=\"row_heading level0 row4\" >Absolute magnitude(Mv)</th>\n",
       "                        <td id=\"T_bd01e_row4_col0\" class=\"data row4 col0\" >0</td>\n",
       "            </tr>\n",
       "            <tr>\n",
       "                        <th id=\"T_bd01e_level0_row5\" class=\"row_heading level0 row5\" >Star type</th>\n",
       "                        <td id=\"T_bd01e_row5_col0\" class=\"data row5 col0\" >0</td>\n",
       "            </tr>\n",
       "            <tr>\n",
       "                        <th id=\"T_bd01e_level0_row6\" class=\"row_heading level0 row6\" >Star color</th>\n",
       "                        <td id=\"T_bd01e_row6_col0\" class=\"data row6 col0\" >0</td>\n",
       "            </tr>\n",
       "    </tbody></table>"
      ],
      "text/plain": [
       "<pandas.io.formats.style.Styler at 0x7f17a7c7dfa0>"
      ]
     },
     "metadata": {},
     "output_type": "display_data"
    }
   ],
   "source": [
    "# пропуски в абсолютных значениях\n",
    "display(pd.DataFrame(df.isna().mean()*df.shape[0]).astype(int).style.background_gradient('coolwarm'))"
   ]
  },
  {
   "attachments": {},
   "cell_type": "markdown",
   "id": "4839f210",
   "metadata": {},
   "source": [
    "`Вывод:` пропусков нет"
   ]
  },
  {
   "attachments": {},
   "cell_type": "markdown",
   "id": "4ef07523",
   "metadata": {},
   "source": [
    "#### Проверим категорияльные значения"
   ]
  },
  {
   "cell_type": "code",
   "execution_count": 7,
   "id": "flush-dream",
   "metadata": {},
   "outputs": [
    {
     "name": "stdout",
     "output_type": "stream",
     "text": [
      "Количество уникальных цветов звёзд:  19\n"
     ]
    },
    {
     "data": {
      "text/plain": [
       "Red                   112\n",
       "Blue                   55\n",
       "Blue-white             26\n",
       "Blue White             10\n",
       "yellow-white            8\n",
       "White                   7\n",
       "Yellowish White         3\n",
       "white                   3\n",
       "Blue white              3\n",
       "yellowish               2\n",
       "Whitish                 2\n",
       "Orange                  2\n",
       "Blue-White              1\n",
       "Blue white              1\n",
       "White-Yellow            1\n",
       "Pale yellow orange      1\n",
       "Orange-Red              1\n",
       "Blue                    1\n",
       "Yellowish               1\n",
       "Name: Star color, dtype: int64"
      ]
     },
     "execution_count": 7,
     "metadata": {},
     "output_type": "execute_result"
    }
   ],
   "source": [
    "# уникальные значения цвета звёзд\n",
    "\n",
    "print('Количество уникальных цветов звёзд: ', len(df['Star color'].value_counts()))\n",
    "df['Star color'].value_counts()"
   ]
  },
  {
   "attachments": {},
   "cell_type": "markdown",
   "id": "7abe1641",
   "metadata": {},
   "source": [
    "`Вывод:` наблюдаются схожие по смыслу категории которые следует объединить"
   ]
  },
  {
   "cell_type": "code",
   "execution_count": 8,
   "id": "0c02d0d1",
   "metadata": {},
   "outputs": [
    {
     "name": "stdout",
     "output_type": "stream",
     "text": [
      "Кол-во типов звёзд:  6\n"
     ]
    },
    {
     "data": {
      "text/plain": [
       "0    40\n",
       "1    40\n",
       "2    40\n",
       "3    40\n",
       "4    40\n",
       "5    40\n",
       "Name: Star type, dtype: int64"
      ]
     },
     "execution_count": 8,
     "metadata": {},
     "output_type": "execute_result"
    }
   ],
   "source": [
    "# уникальные значения типов звёзд\n",
    "\n",
    "print('Кол-во типов звёзд: ', len(df['Star type'].value_counts()))\n",
    "df['Star type'].value_counts()"
   ]
  },
  {
   "attachments": {},
   "cell_type": "markdown",
   "id": "c8500214",
   "metadata": {},
   "source": [
    "`Вывод:` отметим, что типы звёзд распределены равномерно, по 40 звёзд каждого типа"
   ]
  },
  {
   "attachments": {},
   "cell_type": "markdown",
   "id": "22729d83",
   "metadata": {},
   "source": [
    "Переименовываем неявные дубликаты"
   ]
  },
  {
   "cell_type": "code",
   "execution_count": 9,
   "id": "7f242d98",
   "metadata": {},
   "outputs": [
    {
     "name": "stdout",
     "output_type": "stream",
     "text": [
      "Количество уникальных цветов звёзд:  9\n"
     ]
    },
    {
     "data": {
      "text/plain": [
       "Red             112\n",
       "Blue             56\n",
       "BlueWhite        40\n",
       "White            12\n",
       "Yellow White     12\n",
       "Yellow            4\n",
       "Orange            2\n",
       "BlueWhite         1\n",
       "Orange Red        1\n",
       "Name: Star color, dtype: int64"
      ]
     },
     "metadata": {},
     "output_type": "display_data"
    }
   ],
   "source": [
    "df['Star color'] = df['Star color'].replace({r'(\\b)Blue-white(\\b)':r'\\1Blue White\\2'}, regex=True)\n",
    "df['Star color'] = df['Star color'].replace({r'(\\b)Blue white(\\b)':r'\\1Blue White\\2'}, regex=True)\n",
    "df['Star color'] = df['Star color'].replace({r'(\\b)Blue-White(\\b)':r'\\1Blue White\\2'}, regex=True)\n",
    "df['Star color'] = df['Star color'].str.replace('Blue ','Blue')\n",
    "\n",
    "df['Star color'] = df['Star color'].replace({r'(\\b)yellow-white(\\b)':r'\\1Yellow White\\2'}, regex=True)\n",
    "df['Star color'] = df['Star color'].replace({r'(\\b)Yellowish White(\\b)':r'\\1Yellow White\\2'}, regex=True)\n",
    "df['Star color'] = df['Star color'].replace({r'(\\b)White-Yellow(\\b)':r'\\1Yellow White\\2'}, regex=True)\n",
    "\n",
    "df['Star color'] = df['Star color'].replace({r'(\\b)white(\\b)':r'\\1White\\2'}, regex=True)\n",
    "df['Star color'] = df['Star color'].replace({r'(\\b)Whitish(\\b)':r'\\1White\\2'}, regex=True)\n",
    "df['Star color'] = df['Star color'].replace({r'(\\b)White-Yellow(\\b)':r'\\1White\\2'}, regex=True)\n",
    "\n",
    "df['Star color'] = df['Star color'].replace({r'(\\b)yellowish(\\b)':r'\\1Yellow\\2'}, regex=True)\n",
    "df['Star color'] = df['Star color'].replace({r'(\\b)Pale yellow orange(\\b)':r'\\1Yellow\\2'}, regex=True)\n",
    "df['Star color'] = df['Star color'].replace({r'(\\b)Yellowish(\\b)':r'\\1Yellow\\2'}, regex=True)\n",
    "df['Star color'] = df['Star color'].replace({r'(\\b)Orange-Red(\\b)':r'\\1Orange Red\\2'}, regex=True)\n",
    "\n",
    "print('Количество уникальных цветов звёзд: ', len(df['Star color'].value_counts()))\n",
    "display(df['Star color'].value_counts())"
   ]
  },
  {
   "attachments": {},
   "cell_type": "markdown",
   "id": "f4695ca4",
   "metadata": {},
   "source": [
    "Остался дубликат с пробелом, переименовываем его в следующем шаге"
   ]
  },
  {
   "cell_type": "code",
   "execution_count": 10,
   "id": "b61afc38",
   "metadata": {},
   "outputs": [
    {
     "name": "stdout",
     "output_type": "stream",
     "text": [
      "Количество уникальных цветов звёзд:  8\n"
     ]
    },
    {
     "data": {
      "text/plain": [
       "Red             112\n",
       "Blue             56\n",
       "Blue White       41\n",
       "White            12\n",
       "Yellow White     12\n",
       "Yellow            4\n",
       "Orange            2\n",
       "Orange Red        1\n",
       "Name: Star color, dtype: int64"
      ]
     },
     "metadata": {},
     "output_type": "display_data"
    }
   ],
   "source": [
    "df['Star color'] = df['Star color'].str.replace('BlueWhite ','Blue White')\n",
    "df['Star color'] = df['Star color'].str.replace('BlueWhite','Blue White')\n",
    "\n",
    "print('Количество уникальных цветов звёзд: ', len(df['Star color'].value_counts()))\n",
    "display(df['Star color'].value_counts())"
   ]
  },
  {
   "attachments": {},
   "cell_type": "markdown",
   "id": "04e62e2a",
   "metadata": {},
   "source": [
    "`Вывод:` В итоге из 19 категориальных значений мы пришли к 8-ми цветам звёзд."
   ]
  },
  {
   "attachments": {},
   "cell_type": "markdown",
   "id": "2174511a",
   "metadata": {},
   "source": [
    "Удаляем ненужные колонки которые дублируют значения индекса"
   ]
  },
  {
   "cell_type": "code",
   "execution_count": 11,
   "id": "aded79e9",
   "metadata": {},
   "outputs": [
    {
     "data": {
      "text/html": [
       "<div>\n",
       "<style scoped>\n",
       "    .dataframe tbody tr th:only-of-type {\n",
       "        vertical-align: middle;\n",
       "    }\n",
       "\n",
       "    .dataframe tbody tr th {\n",
       "        vertical-align: top;\n",
       "    }\n",
       "\n",
       "    .dataframe thead th {\n",
       "        text-align: right;\n",
       "    }\n",
       "</style>\n",
       "<table border=\"1\" class=\"dataframe\">\n",
       "  <thead>\n",
       "    <tr style=\"text-align: right;\">\n",
       "      <th></th>\n",
       "      <th>Temperature (K)</th>\n",
       "      <th>Luminosity(L/Lo)</th>\n",
       "      <th>Radius(R/Ro)</th>\n",
       "      <th>Absolute magnitude(Mv)</th>\n",
       "      <th>Star type</th>\n",
       "      <th>Star color</th>\n",
       "    </tr>\n",
       "  </thead>\n",
       "  <tbody>\n",
       "    <tr>\n",
       "      <th>0</th>\n",
       "      <td>3068</td>\n",
       "      <td>0.002400</td>\n",
       "      <td>0.1700</td>\n",
       "      <td>16.12</td>\n",
       "      <td>0</td>\n",
       "      <td>Red</td>\n",
       "    </tr>\n",
       "    <tr>\n",
       "      <th>1</th>\n",
       "      <td>3042</td>\n",
       "      <td>0.000500</td>\n",
       "      <td>0.1542</td>\n",
       "      <td>16.60</td>\n",
       "      <td>0</td>\n",
       "      <td>Red</td>\n",
       "    </tr>\n",
       "    <tr>\n",
       "      <th>2</th>\n",
       "      <td>2600</td>\n",
       "      <td>0.000300</td>\n",
       "      <td>0.1020</td>\n",
       "      <td>18.70</td>\n",
       "      <td>0</td>\n",
       "      <td>Red</td>\n",
       "    </tr>\n",
       "    <tr>\n",
       "      <th>3</th>\n",
       "      <td>2800</td>\n",
       "      <td>0.000200</td>\n",
       "      <td>0.1600</td>\n",
       "      <td>16.65</td>\n",
       "      <td>0</td>\n",
       "      <td>Red</td>\n",
       "    </tr>\n",
       "    <tr>\n",
       "      <th>4</th>\n",
       "      <td>1939</td>\n",
       "      <td>0.000138</td>\n",
       "      <td>0.1030</td>\n",
       "      <td>20.06</td>\n",
       "      <td>0</td>\n",
       "      <td>Red</td>\n",
       "    </tr>\n",
       "    <tr>\n",
       "      <th>...</th>\n",
       "      <td>...</td>\n",
       "      <td>...</td>\n",
       "      <td>...</td>\n",
       "      <td>...</td>\n",
       "      <td>...</td>\n",
       "      <td>...</td>\n",
       "    </tr>\n",
       "    <tr>\n",
       "      <th>235</th>\n",
       "      <td>38940</td>\n",
       "      <td>374830.000000</td>\n",
       "      <td>1356.0000</td>\n",
       "      <td>-9.93</td>\n",
       "      <td>5</td>\n",
       "      <td>Blue</td>\n",
       "    </tr>\n",
       "    <tr>\n",
       "      <th>236</th>\n",
       "      <td>30839</td>\n",
       "      <td>834042.000000</td>\n",
       "      <td>1194.0000</td>\n",
       "      <td>-10.63</td>\n",
       "      <td>5</td>\n",
       "      <td>Blue</td>\n",
       "    </tr>\n",
       "    <tr>\n",
       "      <th>237</th>\n",
       "      <td>8829</td>\n",
       "      <td>537493.000000</td>\n",
       "      <td>1423.0000</td>\n",
       "      <td>-10.73</td>\n",
       "      <td>5</td>\n",
       "      <td>White</td>\n",
       "    </tr>\n",
       "    <tr>\n",
       "      <th>238</th>\n",
       "      <td>9235</td>\n",
       "      <td>404940.000000</td>\n",
       "      <td>1112.0000</td>\n",
       "      <td>-11.23</td>\n",
       "      <td>5</td>\n",
       "      <td>White</td>\n",
       "    </tr>\n",
       "    <tr>\n",
       "      <th>239</th>\n",
       "      <td>37882</td>\n",
       "      <td>294903.000000</td>\n",
       "      <td>1783.0000</td>\n",
       "      <td>-7.80</td>\n",
       "      <td>5</td>\n",
       "      <td>Blue</td>\n",
       "    </tr>\n",
       "  </tbody>\n",
       "</table>\n",
       "<p>240 rows × 6 columns</p>\n",
       "</div>"
      ],
      "text/plain": [
       "     Temperature (K)  Luminosity(L/Lo)  Radius(R/Ro)  Absolute magnitude(Mv)  \\\n",
       "0               3068          0.002400        0.1700                   16.12   \n",
       "1               3042          0.000500        0.1542                   16.60   \n",
       "2               2600          0.000300        0.1020                   18.70   \n",
       "3               2800          0.000200        0.1600                   16.65   \n",
       "4               1939          0.000138        0.1030                   20.06   \n",
       "..               ...               ...           ...                     ...   \n",
       "235            38940     374830.000000     1356.0000                   -9.93   \n",
       "236            30839     834042.000000     1194.0000                  -10.63   \n",
       "237             8829     537493.000000     1423.0000                  -10.73   \n",
       "238             9235     404940.000000     1112.0000                  -11.23   \n",
       "239            37882     294903.000000     1783.0000                   -7.80   \n",
       "\n",
       "     Star type Star color  \n",
       "0            0        Red  \n",
       "1            0        Red  \n",
       "2            0        Red  \n",
       "3            0        Red  \n",
       "4            0        Red  \n",
       "..         ...        ...  \n",
       "235          5       Blue  \n",
       "236          5       Blue  \n",
       "237          5      White  \n",
       "238          5      White  \n",
       "239          5       Blue  \n",
       "\n",
       "[240 rows x 6 columns]"
      ]
     },
     "execution_count": 11,
     "metadata": {},
     "output_type": "execute_result"
    }
   ],
   "source": [
    "#df = df.drop(['Unnamed: 0.1'], axis=1)\n",
    "df = df.drop(['Unnamed: 0'], axis=1)\n",
    "df"
   ]
  },
  {
   "attachments": {},
   "cell_type": "markdown",
   "id": "c0f2a5bb",
   "metadata": {},
   "source": [
    "`Вывод:` в результате предобработки данных были удалены ненужные признаки, данные приведены в более структурированный и информативный вид. Теперь можно приступить к исследовательскому анализу данных."
   ]
  },
  {
   "attachments": {},
   "cell_type": "markdown",
   "id": "cc068824",
   "metadata": {},
   "source": [
    "### ИАД"
   ]
  },
  {
   "attachments": {},
   "cell_type": "markdown",
   "id": "f8322437",
   "metadata": {},
   "source": [
    "#### Посмотрим на распределение категориальных данных: тип звезды и цвет звезды"
   ]
  },
  {
   "attachments": {},
   "cell_type": "markdown",
   "id": "cca9e39d",
   "metadata": {},
   "source": [
    "##### Посмотрим на распределение типов звёзд"
   ]
  },
  {
   "cell_type": "code",
   "execution_count": 12,
   "id": "73074786",
   "metadata": {},
   "outputs": [
    {
     "data": {
      "text/plain": [
       "0    40\n",
       "1    40\n",
       "2    40\n",
       "3    40\n",
       "4    40\n",
       "5    40\n",
       "Name: Star type, dtype: int64"
      ]
     },
     "metadata": {},
     "output_type": "display_data"
    },
    {
     "data": {
      "image/png": "[encoded data removed]",
      "text/plain": [
       "<Figure size 360x360 with 1 Axes>"
      ]
     },
     "metadata": {},
     "output_type": "display_data"
    }
   ],
   "source": [
    "# Выводим общее колво типов звёзд в таблице\n",
    "display(df['Star type'].value_counts())\n",
    "\n",
    "# Группируем данные по типу звезды 'Star type'\n",
    "grouped_df = df.groupby('Star type').size()\n",
    "\n",
    "# Добавляем название графика\n",
    "plt.title(\"Star Types\")\n",
    "\n",
    "# Вывводим сгруппировынные данные в графике\n",
    "plot = grouped_df.plot.pie(figsize=(5, 5))"
   ]
  },
  {
   "attachments": {},
   "cell_type": "markdown",
   "id": "7b7d1f00",
   "metadata": {},
   "source": [
    "`Вывод:` типы звёзд равнораспределены."
   ]
  },
  {
   "attachments": {},
   "cell_type": "markdown",
   "id": "d085362a",
   "metadata": {},
   "source": [
    "##### Посмотрим на распределение цвета звёзд ('Star color')"
   ]
  },
  {
   "cell_type": "code",
   "execution_count": 13,
   "id": "fe115f3d",
   "metadata": {},
   "outputs": [
    {
     "data": {
      "text/plain": [
       "<AxesSubplot:>"
      ]
     },
     "execution_count": 13,
     "metadata": {},
     "output_type": "execute_result"
    },
    {
     "data": {
      "image/png": "[encoded data removed]",
      "text/plain": [
       "<Figure size 720x288 with 1 Axes>"
      ]
     },
     "metadata": {
      "needs_background": "light"
     },
     "output_type": "display_data"
    }
   ],
   "source": [
    "df['Star color'].hist(figsize=(10, 4))"
   ]
  },
  {
   "attachments": {},
   "cell_type": "markdown",
   "id": "d729cba3",
   "metadata": {},
   "source": [
    "### Меняем 'Star type' из int в object"
   ]
  },
  {
   "cell_type": "code",
   "execution_count": 14,
   "id": "94fb6da8",
   "metadata": {},
   "outputs": [],
   "source": [
    "for i in range(len(df)):\n",
    "    df.loc[i,'Star type'] = str(df.loc[i,'Star type'])"
   ]
  },
  {
   "cell_type": "code",
   "execution_count": 15,
   "id": "719ce146",
   "metadata": {},
   "outputs": [
    {
     "name": "stdout",
     "output_type": "stream",
     "text": [
      "<class 'pandas.core.frame.DataFrame'>\n",
      "RangeIndex: 240 entries, 0 to 239\n",
      "Data columns (total 6 columns):\n",
      " #   Column                  Non-Null Count  Dtype  \n",
      "---  ------                  --------------  -----  \n",
      " 0   Temperature (K)         240 non-null    int64  \n",
      " 1   Luminosity(L/Lo)        240 non-null    float64\n",
      " 2   Radius(R/Ro)            240 non-null    float64\n",
      " 3   Absolute magnitude(Mv)  240 non-null    float64\n",
      " 4   Star type               240 non-null    object \n",
      " 5   Star color              240 non-null    object \n",
      "dtypes: float64(3), int64(1), object(2)\n",
      "memory usage: 11.4+ KB\n"
     ]
    }
   ],
   "source": [
    "df.info()"
   ]
  },
  {
   "attachments": {},
   "cell_type": "markdown",
   "id": "54fd0233",
   "metadata": {},
   "source": [
    "Проверяем результат сметы типа"
   ]
  },
  {
   "attachments": {},
   "cell_type": "markdown",
   "id": "d5bbe9f3",
   "metadata": {},
   "source": [
    "Переводим признак 'Star type' в категориальные значения"
   ]
  },
  {
   "cell_type": "code",
   "execution_count": 16,
   "id": "02d050f6",
   "metadata": {},
   "outputs": [
    {
     "name": "stdout",
     "output_type": "stream",
     "text": [
      "<class 'pandas.core.frame.DataFrame'>\n",
      "RangeIndex: 240 entries, 0 to 239\n",
      "Data columns (total 6 columns):\n",
      " #   Column                  Non-Null Count  Dtype  \n",
      "---  ------                  --------------  -----  \n",
      " 0   Temperature (K)         240 non-null    int64  \n",
      " 1   Luminosity(L/Lo)        240 non-null    float64\n",
      " 2   Radius(R/Ro)            240 non-null    float64\n",
      " 3   Absolute magnitude(Mv)  240 non-null    float64\n",
      " 4   Star type               240 non-null    object \n",
      " 5   Star color              240 non-null    object \n",
      "dtypes: float64(3), int64(1), object(2)\n",
      "memory usage: 11.4+ KB\n"
     ]
    }
   ],
   "source": [
    "df.info()"
   ]
  },
  {
   "cell_type": "code",
   "execution_count": 17,
   "id": "96498b49",
   "metadata": {},
   "outputs": [],
   "source": [
    "df = pd.get_dummies(df, drop_first=True)"
   ]
  },
  {
   "attachments": {},
   "cell_type": "markdown",
   "id": "640ae6c0",
   "metadata": {},
   "source": [
    "После кодиовки кодировки"
   ]
  },
  {
   "cell_type": "code",
   "execution_count": 18,
   "id": "b70d8a6a",
   "metadata": {},
   "outputs": [
    {
     "data": {
      "text/html": [
       "<div>\n",
       "<style scoped>\n",
       "    .dataframe tbody tr th:only-of-type {\n",
       "        vertical-align: middle;\n",
       "    }\n",
       "\n",
       "    .dataframe tbody tr th {\n",
       "        vertical-align: top;\n",
       "    }\n",
       "\n",
       "    .dataframe thead th {\n",
       "        text-align: right;\n",
       "    }\n",
       "</style>\n",
       "<table border=\"1\" class=\"dataframe\">\n",
       "  <thead>\n",
       "    <tr style=\"text-align: right;\">\n",
       "      <th></th>\n",
       "      <th>Temperature (K)</th>\n",
       "      <th>Luminosity(L/Lo)</th>\n",
       "      <th>Radius(R/Ro)</th>\n",
       "      <th>Absolute magnitude(Mv)</th>\n",
       "      <th>Star type_1</th>\n",
       "      <th>Star type_2</th>\n",
       "      <th>Star type_3</th>\n",
       "      <th>Star type_4</th>\n",
       "      <th>Star type_5</th>\n",
       "      <th>Star color_Blue White</th>\n",
       "      <th>Star color_Orange</th>\n",
       "      <th>Star color_Orange Red</th>\n",
       "      <th>Star color_Red</th>\n",
       "      <th>Star color_White</th>\n",
       "      <th>Star color_Yellow</th>\n",
       "      <th>Star color_Yellow White</th>\n",
       "    </tr>\n",
       "  </thead>\n",
       "  <tbody>\n",
       "    <tr>\n",
       "      <th>0</th>\n",
       "      <td>3068</td>\n",
       "      <td>0.002400</td>\n",
       "      <td>0.1700</td>\n",
       "      <td>16.12</td>\n",
       "      <td>0</td>\n",
       "      <td>0</td>\n",
       "      <td>0</td>\n",
       "      <td>0</td>\n",
       "      <td>0</td>\n",
       "      <td>0</td>\n",
       "      <td>0</td>\n",
       "      <td>0</td>\n",
       "      <td>1</td>\n",
       "      <td>0</td>\n",
       "      <td>0</td>\n",
       "      <td>0</td>\n",
       "    </tr>\n",
       "    <tr>\n",
       "      <th>1</th>\n",
       "      <td>3042</td>\n",
       "      <td>0.000500</td>\n",
       "      <td>0.1542</td>\n",
       "      <td>16.60</td>\n",
       "      <td>0</td>\n",
       "      <td>0</td>\n",
       "      <td>0</td>\n",
       "      <td>0</td>\n",
       "      <td>0</td>\n",
       "      <td>0</td>\n",
       "      <td>0</td>\n",
       "      <td>0</td>\n",
       "      <td>1</td>\n",
       "      <td>0</td>\n",
       "      <td>0</td>\n",
       "      <td>0</td>\n",
       "    </tr>\n",
       "    <tr>\n",
       "      <th>2</th>\n",
       "      <td>2600</td>\n",
       "      <td>0.000300</td>\n",
       "      <td>0.1020</td>\n",
       "      <td>18.70</td>\n",
       "      <td>0</td>\n",
       "      <td>0</td>\n",
       "      <td>0</td>\n",
       "      <td>0</td>\n",
       "      <td>0</td>\n",
       "      <td>0</td>\n",
       "      <td>0</td>\n",
       "      <td>0</td>\n",
       "      <td>1</td>\n",
       "      <td>0</td>\n",
       "      <td>0</td>\n",
       "      <td>0</td>\n",
       "    </tr>\n",
       "    <tr>\n",
       "      <th>3</th>\n",
       "      <td>2800</td>\n",
       "      <td>0.000200</td>\n",
       "      <td>0.1600</td>\n",
       "      <td>16.65</td>\n",
       "      <td>0</td>\n",
       "      <td>0</td>\n",
       "      <td>0</td>\n",
       "      <td>0</td>\n",
       "      <td>0</td>\n",
       "      <td>0</td>\n",
       "      <td>0</td>\n",
       "      <td>0</td>\n",
       "      <td>1</td>\n",
       "      <td>0</td>\n",
       "      <td>0</td>\n",
       "      <td>0</td>\n",
       "    </tr>\n",
       "    <tr>\n",
       "      <th>4</th>\n",
       "      <td>1939</td>\n",
       "      <td>0.000138</td>\n",
       "      <td>0.1030</td>\n",
       "      <td>20.06</td>\n",
       "      <td>0</td>\n",
       "      <td>0</td>\n",
       "      <td>0</td>\n",
       "      <td>0</td>\n",
       "      <td>0</td>\n",
       "      <td>0</td>\n",
       "      <td>0</td>\n",
       "      <td>0</td>\n",
       "      <td>1</td>\n",
       "      <td>0</td>\n",
       "      <td>0</td>\n",
       "      <td>0</td>\n",
       "    </tr>\n",
       "  </tbody>\n",
       "</table>\n",
       "</div>"
      ],
      "text/plain": [
       "   Temperature (K)  Luminosity(L/Lo)  Radius(R/Ro)  Absolute magnitude(Mv)  \\\n",
       "0             3068          0.002400        0.1700                   16.12   \n",
       "1             3042          0.000500        0.1542                   16.60   \n",
       "2             2600          0.000300        0.1020                   18.70   \n",
       "3             2800          0.000200        0.1600                   16.65   \n",
       "4             1939          0.000138        0.1030                   20.06   \n",
       "\n",
       "   Star type_1  Star type_2  Star type_3  Star type_4  Star type_5  \\\n",
       "0            0            0            0            0            0   \n",
       "1            0            0            0            0            0   \n",
       "2            0            0            0            0            0   \n",
       "3            0            0            0            0            0   \n",
       "4            0            0            0            0            0   \n",
       "\n",
       "   Star color_Blue White  Star color_Orange  Star color_Orange Red  \\\n",
       "0                      0                  0                      0   \n",
       "1                      0                  0                      0   \n",
       "2                      0                  0                      0   \n",
       "3                      0                  0                      0   \n",
       "4                      0                  0                      0   \n",
       "\n",
       "   Star color_Red  Star color_White  Star color_Yellow  \\\n",
       "0               1                 0                  0   \n",
       "1               1                 0                  0   \n",
       "2               1                 0                  0   \n",
       "3               1                 0                  0   \n",
       "4               1                 0                  0   \n",
       "\n",
       "   Star color_Yellow White  \n",
       "0                        0  \n",
       "1                        0  \n",
       "2                        0  \n",
       "3                        0  \n",
       "4                        0  "
      ]
     },
     "execution_count": 18,
     "metadata": {},
     "output_type": "execute_result"
    }
   ],
   "source": [
    "df.head()"
   ]
  },
  {
   "attachments": {},
   "cell_type": "markdown",
   "id": "ac97b574",
   "metadata": {},
   "source": [
    "После кодирования признаков можно приступить к анализу данных при помощи различных графиков"
   ]
  },
  {
   "attachments": {},
   "cell_type": "markdown",
   "id": "5001f7e7",
   "metadata": {},
   "source": [
    "`Вывод:` мы видим, что почти половина звёзд из выборки красные, со значительным отставанием идут голубые и бело-голубые звёзды. <br>\n",
    "Со значительным отставанием идут белые и жёлтые звёзды.<br>\n",
    "Меньше всего оранжевых и оранжко-крассных звёзд."
   ]
  },
  {
   "attachments": {},
   "cell_type": "markdown",
   "id": "ac008121",
   "metadata": {},
   "source": [
    "#### Посмотрим на распределение количественных данных"
   ]
  },
  {
   "attachments": {},
   "cell_type": "markdown",
   "id": "759bca92",
   "metadata": {},
   "source": [
    "Создадим функцию чтобы проверить количественные данные на выбросы"
   ]
  },
  {
   "cell_type": "code",
   "execution_count": 19,
   "id": "7f2bf145",
   "metadata": {},
   "outputs": [],
   "source": [
    "def graph(col, min, max):\n",
    "    df.boxplot(column=col)\n",
    "    plt.ylim(min, max)\n",
    "    plt.show()"
   ]
  },
  {
   "attachments": {},
   "cell_type": "markdown",
   "id": "cafc8ecf",
   "metadata": {},
   "source": [
    "Проверяем признаки на выбросы"
   ]
  },
  {
   "cell_type": "code",
   "execution_count": 20,
   "id": "a9991f8a",
   "metadata": {},
   "outputs": [
    {
     "data": {
      "image/png": "[encoded data removed]",
      "text/plain": [
       "<Figure size 432x288 with 1 Axes>"
      ]
     },
     "metadata": {
      "needs_background": "light"
     },
     "output_type": "display_data"
    }
   ],
   "source": [
    "graph('Temperature (K)', 1800, 45000)"
   ]
  },
  {
   "cell_type": "code",
   "execution_count": 21,
   "id": "9b1a4faa",
   "metadata": {},
   "outputs": [
    {
     "data": {
      "image/png": "[encoded data removed]",
      "text/plain": [
       "<Figure size 432x288 with 1 Axes>"
      ]
     },
     "metadata": {
      "needs_background": "light"
     },
     "output_type": "display_data"
    }
   ],
   "source": [
    "graph('Luminosity(L/Lo)', 0, 880000)"
   ]
  },
  {
   "cell_type": "code",
   "execution_count": 22,
   "id": "be305fde",
   "metadata": {},
   "outputs": [
    {
     "data": {
      "image/png": "[encoded data removed]",
      "text/plain": [
       "<Figure size 432x288 with 1 Axes>"
      ]
     },
     "metadata": {
      "needs_background": "light"
     },
     "output_type": "display_data"
    }
   ],
   "source": [
    "graph('Radius(R/Ro)', 0, 2000)"
   ]
  },
  {
   "cell_type": "code",
   "execution_count": 23,
   "id": "395a6ee6",
   "metadata": {},
   "outputs": [
    {
     "data": {
      "image/png": "[encoded data removed]",
      "text/plain": [
       "<Figure size 432x288 with 1 Axes>"
      ]
     },
     "metadata": {
      "needs_background": "light"
     },
     "output_type": "display_data"
    }
   ],
   "source": [
    "graph('Absolute magnitude(Mv)', -15, 25)"
   ]
  },
  {
   "attachments": {},
   "cell_type": "markdown",
   "id": "3776d7c7",
   "metadata": {},
   "source": [
    "`Вывод:`из графиков выбросов выше следует что наименьшие выбросы наблюдаются у абсолютной магнитуды Mv"
   ]
  },
  {
   "attachments": {},
   "cell_type": "markdown",
   "id": "11bab0af",
   "metadata": {},
   "source": [
    "Теперь посмотрим на распределение количественных данных на графике для наглядности"
   ]
  },
  {
   "attachments": {},
   "cell_type": "markdown",
   "id": "7d6906f0",
   "metadata": {},
   "source": [
    "Для началы выведем общую гистограмму признаков"
   ]
  },
  {
   "cell_type": "code",
   "execution_count": 24,
   "id": "8b9648b9",
   "metadata": {},
   "outputs": [
    {
     "data": {
      "text/plain": [
       "<function matplotlib.pyplot.show(close=None, block=None)>"
      ]
     },
     "execution_count": 24,
     "metadata": {},
     "output_type": "execute_result"
    },
    {
     "data": {
      "image/png": "[encoded data removed]",
      "text/plain": [
       "<Figure size 1080x864 with 16 Axes>"
      ]
     },
     "metadata": {
      "needs_background": "light"
     },
     "output_type": "display_data"
    }
   ],
   "source": [
    "df.hist(figsize=(15, 12))\n",
    "plt.show"
   ]
  },
  {
   "attachments": {},
   "cell_type": "markdown",
   "id": "3b7d2133",
   "metadata": {},
   "source": [
    "Теперб рассмотрим каждый признак по-отдельноси"
   ]
  },
  {
   "cell_type": "code",
   "execution_count": 25,
   "id": "c9954e90",
   "metadata": {},
   "outputs": [
    {
     "data": {
      "text/plain": [
       "Text(0, 0.5, 'Колчество наблюдений')"
      ]
     },
     "execution_count": 25,
     "metadata": {},
     "output_type": "execute_result"
    },
    {
     "data": {
      "image/png": "[encoded data removed]",
      "text/plain": [
       "<Figure size 432x288 with 1 Axes>"
      ]
     },
     "metadata": {
      "needs_background": "light"
     },
     "output_type": "display_data"
    }
   ],
   "source": [
    "df.plot(y = 'Temperature (K)', kind = 'hist', bins = 50, grid = True)\n",
    "plt.xlim(0,45000)\n",
    "plt.xlabel('Temperature (K)')\n",
    "plt.ylabel('Колчество наблюдений')"
   ]
  },
  {
   "cell_type": "code",
   "execution_count": 26,
   "id": "2d910b7c",
   "metadata": {},
   "outputs": [
    {
     "data": {
      "text/plain": [
       "Text(0, 0.5, 'Колчество наблюдений')"
      ]
     },
     "execution_count": 26,
     "metadata": {},
     "output_type": "execute_result"
    },
    {
     "data": {
      "image/png": "[encoded data removed]",
      "text/plain": [
       "<Figure size 432x288 with 1 Axes>"
      ]
     },
     "metadata": {
      "needs_background": "light"
     },
     "output_type": "display_data"
    }
   ],
   "source": [
    "df.plot(y = 'Luminosity(L/Lo)', kind = 'hist', bins = 50, grid = True)\n",
    "plt.xlim(0,850000)\n",
    "plt.xlabel('Luminosity(L/Lo)')\n",
    "plt.ylabel('Колчество наблюдений')"
   ]
  },
  {
   "cell_type": "code",
   "execution_count": 27,
   "id": "c45c871c",
   "metadata": {},
   "outputs": [
    {
     "data": {
      "text/plain": [
       "Text(0, 0.5, 'Колчество наблюдений')"
      ]
     },
     "execution_count": 27,
     "metadata": {},
     "output_type": "execute_result"
    },
    {
     "data": {
      "image/png": "[encoded data removed]",
      "text/plain": [
       "<Figure size 432x288 with 1 Axes>"
      ]
     },
     "metadata": {
      "needs_background": "light"
     },
     "output_type": "display_data"
    }
   ],
   "source": [
    "df.plot(y = 'Radius(R/Ro)', kind = 'hist', bins = 50, grid = True)\n",
    "plt.xlim(0,2000)\n",
    "plt.xlabel('Radius(R/Ro)')\n",
    "plt.ylabel('Колчество наблюдений')"
   ]
  },
  {
   "cell_type": "code",
   "execution_count": 28,
   "id": "0b27a0e2",
   "metadata": {},
   "outputs": [
    {
     "data": {
      "text/plain": [
       "Text(0, 0.5, 'Колчество наблюдений')"
      ]
     },
     "execution_count": 28,
     "metadata": {},
     "output_type": "execute_result"
    },
    {
     "data": {
      "image/png": "[encoded data removed]",
      "text/plain": [
       "<Figure size 432x288 with 1 Axes>"
      ]
     },
     "metadata": {
      "needs_background": "light"
     },
     "output_type": "display_data"
    }
   ],
   "source": [
    "df.plot(y = 'Absolute magnitude(Mv)', kind = 'hist', bins = 50, grid = True)\n",
    "plt.xlim(-15,25)\n",
    "plt.xlabel('Absolute magnitude(Mv)')\n",
    "plt.ylabel('Колчество наблюдений')"
   ]
  },
  {
   "attachments": {},
   "cell_type": "markdown",
   "id": "a3072ccc",
   "metadata": {},
   "source": [
    "`Вывод:`"
   ]
  },
  {
   "attachments": {},
   "cell_type": "markdown",
   "id": "37dda377",
   "metadata": {},
   "source": [
    "В итоге получаем обработанный датасет готовый к дальнейшей работе."
   ]
  },
  {
   "cell_type": "code",
   "execution_count": 29,
   "id": "aff51212",
   "metadata": {},
   "outputs": [
    {
     "data": {
      "text/html": [
       "<div>\n",
       "<style scoped>\n",
       "    .dataframe tbody tr th:only-of-type {\n",
       "        vertical-align: middle;\n",
       "    }\n",
       "\n",
       "    .dataframe tbody tr th {\n",
       "        vertical-align: top;\n",
       "    }\n",
       "\n",
       "    .dataframe thead th {\n",
       "        text-align: right;\n",
       "    }\n",
       "</style>\n",
       "<table border=\"1\" class=\"dataframe\">\n",
       "  <thead>\n",
       "    <tr style=\"text-align: right;\">\n",
       "      <th></th>\n",
       "      <th>Temperature (K)</th>\n",
       "      <th>Luminosity(L/Lo)</th>\n",
       "      <th>Radius(R/Ro)</th>\n",
       "      <th>Absolute magnitude(Mv)</th>\n",
       "      <th>Star type_1</th>\n",
       "      <th>Star type_2</th>\n",
       "      <th>Star type_3</th>\n",
       "      <th>Star type_4</th>\n",
       "      <th>Star type_5</th>\n",
       "      <th>Star color_Blue White</th>\n",
       "      <th>Star color_Orange</th>\n",
       "      <th>Star color_Orange Red</th>\n",
       "      <th>Star color_Red</th>\n",
       "      <th>Star color_White</th>\n",
       "      <th>Star color_Yellow</th>\n",
       "      <th>Star color_Yellow White</th>\n",
       "    </tr>\n",
       "  </thead>\n",
       "  <tbody>\n",
       "    <tr>\n",
       "      <th>0</th>\n",
       "      <td>3068</td>\n",
       "      <td>0.002400</td>\n",
       "      <td>0.1700</td>\n",
       "      <td>16.12</td>\n",
       "      <td>0</td>\n",
       "      <td>0</td>\n",
       "      <td>0</td>\n",
       "      <td>0</td>\n",
       "      <td>0</td>\n",
       "      <td>0</td>\n",
       "      <td>0</td>\n",
       "      <td>0</td>\n",
       "      <td>1</td>\n",
       "      <td>0</td>\n",
       "      <td>0</td>\n",
       "      <td>0</td>\n",
       "    </tr>\n",
       "    <tr>\n",
       "      <th>1</th>\n",
       "      <td>3042</td>\n",
       "      <td>0.000500</td>\n",
       "      <td>0.1542</td>\n",
       "      <td>16.60</td>\n",
       "      <td>0</td>\n",
       "      <td>0</td>\n",
       "      <td>0</td>\n",
       "      <td>0</td>\n",
       "      <td>0</td>\n",
       "      <td>0</td>\n",
       "      <td>0</td>\n",
       "      <td>0</td>\n",
       "      <td>1</td>\n",
       "      <td>0</td>\n",
       "      <td>0</td>\n",
       "      <td>0</td>\n",
       "    </tr>\n",
       "    <tr>\n",
       "      <th>2</th>\n",
       "      <td>2600</td>\n",
       "      <td>0.000300</td>\n",
       "      <td>0.1020</td>\n",
       "      <td>18.70</td>\n",
       "      <td>0</td>\n",
       "      <td>0</td>\n",
       "      <td>0</td>\n",
       "      <td>0</td>\n",
       "      <td>0</td>\n",
       "      <td>0</td>\n",
       "      <td>0</td>\n",
       "      <td>0</td>\n",
       "      <td>1</td>\n",
       "      <td>0</td>\n",
       "      <td>0</td>\n",
       "      <td>0</td>\n",
       "    </tr>\n",
       "    <tr>\n",
       "      <th>3</th>\n",
       "      <td>2800</td>\n",
       "      <td>0.000200</td>\n",
       "      <td>0.1600</td>\n",
       "      <td>16.65</td>\n",
       "      <td>0</td>\n",
       "      <td>0</td>\n",
       "      <td>0</td>\n",
       "      <td>0</td>\n",
       "      <td>0</td>\n",
       "      <td>0</td>\n",
       "      <td>0</td>\n",
       "      <td>0</td>\n",
       "      <td>1</td>\n",
       "      <td>0</td>\n",
       "      <td>0</td>\n",
       "      <td>0</td>\n",
       "    </tr>\n",
       "    <tr>\n",
       "      <th>4</th>\n",
       "      <td>1939</td>\n",
       "      <td>0.000138</td>\n",
       "      <td>0.1030</td>\n",
       "      <td>20.06</td>\n",
       "      <td>0</td>\n",
       "      <td>0</td>\n",
       "      <td>0</td>\n",
       "      <td>0</td>\n",
       "      <td>0</td>\n",
       "      <td>0</td>\n",
       "      <td>0</td>\n",
       "      <td>0</td>\n",
       "      <td>1</td>\n",
       "      <td>0</td>\n",
       "      <td>0</td>\n",
       "      <td>0</td>\n",
       "    </tr>\n",
       "  </tbody>\n",
       "</table>\n",
       "</div>"
      ],
      "text/plain": [
       "   Temperature (K)  Luminosity(L/Lo)  Radius(R/Ro)  Absolute magnitude(Mv)  \\\n",
       "0             3068          0.002400        0.1700                   16.12   \n",
       "1             3042          0.000500        0.1542                   16.60   \n",
       "2             2600          0.000300        0.1020                   18.70   \n",
       "3             2800          0.000200        0.1600                   16.65   \n",
       "4             1939          0.000138        0.1030                   20.06   \n",
       "\n",
       "   Star type_1  Star type_2  Star type_3  Star type_4  Star type_5  \\\n",
       "0            0            0            0            0            0   \n",
       "1            0            0            0            0            0   \n",
       "2            0            0            0            0            0   \n",
       "3            0            0            0            0            0   \n",
       "4            0            0            0            0            0   \n",
       "\n",
       "   Star color_Blue White  Star color_Orange  Star color_Orange Red  \\\n",
       "0                      0                  0                      0   \n",
       "1                      0                  0                      0   \n",
       "2                      0                  0                      0   \n",
       "3                      0                  0                      0   \n",
       "4                      0                  0                      0   \n",
       "\n",
       "   Star color_Red  Star color_White  Star color_Yellow  \\\n",
       "0               1                 0                  0   \n",
       "1               1                 0                  0   \n",
       "2               1                 0                  0   \n",
       "3               1                 0                  0   \n",
       "4               1                 0                  0   \n",
       "\n",
       "   Star color_Yellow White  \n",
       "0                        0  \n",
       "1                        0  \n",
       "2                        0  \n",
       "3                        0  \n",
       "4                        0  "
      ]
     },
     "execution_count": 29,
     "metadata": {},
     "output_type": "execute_result"
    }
   ],
   "source": [
    "df.head()"
   ]
  },
  {
   "attachments": {},
   "cell_type": "markdown",
   "id": "c24ffde6",
   "metadata": {},
   "source": [
    "После того как мы перевели все признаки в числовой вид, можем провести анализ корреляции признаков.\n",
    "\n",
    "Целевой признак - Температура взезды к Кельвинах `'Temperature (K)'`"
   ]
  },
  {
   "cell_type": "code",
   "execution_count": 30,
   "id": "bbd7eb68",
   "metadata": {},
   "outputs": [
    {
     "data": {
      "text/plain": [
       "<AxesSubplot:>"
      ]
     },
     "execution_count": 30,
     "metadata": {},
     "output_type": "execute_result"
    },
    {
     "data": {
      "image/png": "[encoded data removed]",
      "text/plain": [
       "<Figure size 1584x720 with 2 Axes>"
      ]
     },
     "metadata": {
      "needs_background": "light"
     },
     "output_type": "display_data"
    }
   ],
   "source": [
    "# корреляция между разными значениями\n",
    "corr = df.corr(method='spearman')\n",
    "\n",
    "# установка matplotlib plot конфигурации\n",
    "f, ax = plt.subplots(figsize=(22, 10))\n",
    "\n",
    "# задаём схему графика\n",
    "mask = np.triu(np.ones_like(corr, dtype=bool))\n",
    "\n",
    "# устанавливаем цвет\n",
    "cmap = sns.diverging_palette(230, 20, as_cmap=True)\n",
    "\n",
    "# выводим график\n",
    "sns.heatmap(corr, annot=True, mask = mask, cmap=cmap)\n"
   ]
  },
  {
   "attachments": {},
   "cell_type": "markdown",
   "id": "7a3861f2",
   "metadata": {},
   "source": [
    "`Вывод:` скольно нибудь значимой кореляции с целевым признаком 'Temperature (K)' не прослеживается, за исключением звёзд красного цвета. Это говорит о том, что комбинаторика признаков носит более сложный характер. Простой таблицы корреляций, очевидно, не достаточно для выявления закономерностей которые помогут нам предсказть температуру звезды.<br>\n",
    "Для предсказиния температуры мы прибегнем к построению нейронной сети."
   ]
  },
  {
   "attachments": {},
   "cell_type": "markdown",
   "id": "funded-electric",
   "metadata": {},
   "source": [
    "## Построение базовой нейронной сети"
   ]
  },
  {
   "attachments": {},
   "cell_type": "markdown",
   "id": "6f28b081",
   "metadata": {},
   "source": [
    "### Подготовка данных к построению модели"
   ]
  },
  {
   "attachments": {},
   "cell_type": "markdown",
   "id": "acc58c9a",
   "metadata": {},
   "source": [
    "Разделим выборки на обучающую и тестовую"
   ]
  },
  {
   "cell_type": "code",
   "execution_count": 31,
   "id": "1b668ae9",
   "metadata": {},
   "outputs": [],
   "source": [
    "X = df.drop('Temperature (K)', axis=1)\n",
    "y = df['Temperature (K)']\n",
    "X_train, X_test, y_train, y_test = train_test_split(X, y, random_state=42,test_size=0.1, shuffle=True)"
   ]
  },
  {
   "attachments": {},
   "cell_type": "markdown",
   "id": "275f3ce0",
   "metadata": {},
   "source": [
    "Выводим размеры полученных выборок"
   ]
  },
  {
   "cell_type": "code",
   "execution_count": 32,
   "id": "ec6b3455",
   "metadata": {},
   "outputs": [
    {
     "name": "stdout",
     "output_type": "stream",
     "text": [
      "X_train.shape  (216, 15)\n",
      "X_test.shape   (24, 15)\n",
      "y_train.shape  (216,)\n",
      "y_test.shape   (24,)\n"
     ]
    }
   ],
   "source": [
    "print('X_train.shape ',X_train.shape)\n",
    "print('X_test.shape  ',X_test.shape)\n",
    "print('y_train.shape ',y_train.shape)\n",
    "print('y_test.shape  ',y_test.shape)"
   ]
  },
  {
   "cell_type": "code",
   "execution_count": 33,
   "id": "3e94e6f5",
   "metadata": {},
   "outputs": [
    {
     "data": {
      "text/html": [
       "<div>\n",
       "<style scoped>\n",
       "    .dataframe tbody tr th:only-of-type {\n",
       "        vertical-align: middle;\n",
       "    }\n",
       "\n",
       "    .dataframe tbody tr th {\n",
       "        vertical-align: top;\n",
       "    }\n",
       "\n",
       "    .dataframe thead th {\n",
       "        text-align: right;\n",
       "    }\n",
       "</style>\n",
       "<table border=\"1\" class=\"dataframe\">\n",
       "  <thead>\n",
       "    <tr style=\"text-align: right;\">\n",
       "      <th></th>\n",
       "      <th>Luminosity(L/Lo)</th>\n",
       "      <th>Radius(R/Ro)</th>\n",
       "      <th>Absolute magnitude(Mv)</th>\n",
       "      <th>Star type_1</th>\n",
       "      <th>Star type_2</th>\n",
       "      <th>Star type_3</th>\n",
       "      <th>Star type_4</th>\n",
       "      <th>Star type_5</th>\n",
       "      <th>Star color_Blue White</th>\n",
       "      <th>Star color_Orange</th>\n",
       "      <th>Star color_Orange Red</th>\n",
       "      <th>Star color_Red</th>\n",
       "      <th>Star color_White</th>\n",
       "      <th>Star color_Yellow</th>\n",
       "      <th>Star color_Yellow White</th>\n",
       "    </tr>\n",
       "  </thead>\n",
       "  <tbody>\n",
       "    <tr>\n",
       "      <th>0</th>\n",
       "      <td>0.002400</td>\n",
       "      <td>0.1700</td>\n",
       "      <td>16.12</td>\n",
       "      <td>0</td>\n",
       "      <td>0</td>\n",
       "      <td>0</td>\n",
       "      <td>0</td>\n",
       "      <td>0</td>\n",
       "      <td>0</td>\n",
       "      <td>0</td>\n",
       "      <td>0</td>\n",
       "      <td>1</td>\n",
       "      <td>0</td>\n",
       "      <td>0</td>\n",
       "      <td>0</td>\n",
       "    </tr>\n",
       "    <tr>\n",
       "      <th>1</th>\n",
       "      <td>0.000500</td>\n",
       "      <td>0.1542</td>\n",
       "      <td>16.60</td>\n",
       "      <td>0</td>\n",
       "      <td>0</td>\n",
       "      <td>0</td>\n",
       "      <td>0</td>\n",
       "      <td>0</td>\n",
       "      <td>0</td>\n",
       "      <td>0</td>\n",
       "      <td>0</td>\n",
       "      <td>1</td>\n",
       "      <td>0</td>\n",
       "      <td>0</td>\n",
       "      <td>0</td>\n",
       "    </tr>\n",
       "    <tr>\n",
       "      <th>2</th>\n",
       "      <td>0.000300</td>\n",
       "      <td>0.1020</td>\n",
       "      <td>18.70</td>\n",
       "      <td>0</td>\n",
       "      <td>0</td>\n",
       "      <td>0</td>\n",
       "      <td>0</td>\n",
       "      <td>0</td>\n",
       "      <td>0</td>\n",
       "      <td>0</td>\n",
       "      <td>0</td>\n",
       "      <td>1</td>\n",
       "      <td>0</td>\n",
       "      <td>0</td>\n",
       "      <td>0</td>\n",
       "    </tr>\n",
       "    <tr>\n",
       "      <th>3</th>\n",
       "      <td>0.000200</td>\n",
       "      <td>0.1600</td>\n",
       "      <td>16.65</td>\n",
       "      <td>0</td>\n",
       "      <td>0</td>\n",
       "      <td>0</td>\n",
       "      <td>0</td>\n",
       "      <td>0</td>\n",
       "      <td>0</td>\n",
       "      <td>0</td>\n",
       "      <td>0</td>\n",
       "      <td>1</td>\n",
       "      <td>0</td>\n",
       "      <td>0</td>\n",
       "      <td>0</td>\n",
       "    </tr>\n",
       "    <tr>\n",
       "      <th>4</th>\n",
       "      <td>0.000138</td>\n",
       "      <td>0.1030</td>\n",
       "      <td>20.06</td>\n",
       "      <td>0</td>\n",
       "      <td>0</td>\n",
       "      <td>0</td>\n",
       "      <td>0</td>\n",
       "      <td>0</td>\n",
       "      <td>0</td>\n",
       "      <td>0</td>\n",
       "      <td>0</td>\n",
       "      <td>1</td>\n",
       "      <td>0</td>\n",
       "      <td>0</td>\n",
       "      <td>0</td>\n",
       "    </tr>\n",
       "    <tr>\n",
       "      <th>...</th>\n",
       "      <td>...</td>\n",
       "      <td>...</td>\n",
       "      <td>...</td>\n",
       "      <td>...</td>\n",
       "      <td>...</td>\n",
       "      <td>...</td>\n",
       "      <td>...</td>\n",
       "      <td>...</td>\n",
       "      <td>...</td>\n",
       "      <td>...</td>\n",
       "      <td>...</td>\n",
       "      <td>...</td>\n",
       "      <td>...</td>\n",
       "      <td>...</td>\n",
       "      <td>...</td>\n",
       "    </tr>\n",
       "    <tr>\n",
       "      <th>235</th>\n",
       "      <td>374830.000000</td>\n",
       "      <td>1356.0000</td>\n",
       "      <td>-9.93</td>\n",
       "      <td>0</td>\n",
       "      <td>0</td>\n",
       "      <td>0</td>\n",
       "      <td>0</td>\n",
       "      <td>1</td>\n",
       "      <td>0</td>\n",
       "      <td>0</td>\n",
       "      <td>0</td>\n",
       "      <td>0</td>\n",
       "      <td>0</td>\n",
       "      <td>0</td>\n",
       "      <td>0</td>\n",
       "    </tr>\n",
       "    <tr>\n",
       "      <th>236</th>\n",
       "      <td>834042.000000</td>\n",
       "      <td>1194.0000</td>\n",
       "      <td>-10.63</td>\n",
       "      <td>0</td>\n",
       "      <td>0</td>\n",
       "      <td>0</td>\n",
       "      <td>0</td>\n",
       "      <td>1</td>\n",
       "      <td>0</td>\n",
       "      <td>0</td>\n",
       "      <td>0</td>\n",
       "      <td>0</td>\n",
       "      <td>0</td>\n",
       "      <td>0</td>\n",
       "      <td>0</td>\n",
       "    </tr>\n",
       "    <tr>\n",
       "      <th>237</th>\n",
       "      <td>537493.000000</td>\n",
       "      <td>1423.0000</td>\n",
       "      <td>-10.73</td>\n",
       "      <td>0</td>\n",
       "      <td>0</td>\n",
       "      <td>0</td>\n",
       "      <td>0</td>\n",
       "      <td>1</td>\n",
       "      <td>0</td>\n",
       "      <td>0</td>\n",
       "      <td>0</td>\n",
       "      <td>0</td>\n",
       "      <td>1</td>\n",
       "      <td>0</td>\n",
       "      <td>0</td>\n",
       "    </tr>\n",
       "    <tr>\n",
       "      <th>238</th>\n",
       "      <td>404940.000000</td>\n",
       "      <td>1112.0000</td>\n",
       "      <td>-11.23</td>\n",
       "      <td>0</td>\n",
       "      <td>0</td>\n",
       "      <td>0</td>\n",
       "      <td>0</td>\n",
       "      <td>1</td>\n",
       "      <td>0</td>\n",
       "      <td>0</td>\n",
       "      <td>0</td>\n",
       "      <td>0</td>\n",
       "      <td>1</td>\n",
       "      <td>0</td>\n",
       "      <td>0</td>\n",
       "    </tr>\n",
       "    <tr>\n",
       "      <th>239</th>\n",
       "      <td>294903.000000</td>\n",
       "      <td>1783.0000</td>\n",
       "      <td>-7.80</td>\n",
       "      <td>0</td>\n",
       "      <td>0</td>\n",
       "      <td>0</td>\n",
       "      <td>0</td>\n",
       "      <td>1</td>\n",
       "      <td>0</td>\n",
       "      <td>0</td>\n",
       "      <td>0</td>\n",
       "      <td>0</td>\n",
       "      <td>0</td>\n",
       "      <td>0</td>\n",
       "      <td>0</td>\n",
       "    </tr>\n",
       "  </tbody>\n",
       "</table>\n",
       "<p>240 rows × 15 columns</p>\n",
       "</div>"
      ],
      "text/plain": [
       "     Luminosity(L/Lo)  Radius(R/Ro)  Absolute magnitude(Mv)  Star type_1  \\\n",
       "0            0.002400        0.1700                   16.12            0   \n",
       "1            0.000500        0.1542                   16.60            0   \n",
       "2            0.000300        0.1020                   18.70            0   \n",
       "3            0.000200        0.1600                   16.65            0   \n",
       "4            0.000138        0.1030                   20.06            0   \n",
       "..                ...           ...                     ...          ...   \n",
       "235     374830.000000     1356.0000                   -9.93            0   \n",
       "236     834042.000000     1194.0000                  -10.63            0   \n",
       "237     537493.000000     1423.0000                  -10.73            0   \n",
       "238     404940.000000     1112.0000                  -11.23            0   \n",
       "239     294903.000000     1783.0000                   -7.80            0   \n",
       "\n",
       "     Star type_2  Star type_3  Star type_4  Star type_5  \\\n",
       "0              0            0            0            0   \n",
       "1              0            0            0            0   \n",
       "2              0            0            0            0   \n",
       "3              0            0            0            0   \n",
       "4              0            0            0            0   \n",
       "..           ...          ...          ...          ...   \n",
       "235            0            0            0            1   \n",
       "236            0            0            0            1   \n",
       "237            0            0            0            1   \n",
       "238            0            0            0            1   \n",
       "239            0            0            0            1   \n",
       "\n",
       "     Star color_Blue White  Star color_Orange  Star color_Orange Red  \\\n",
       "0                        0                  0                      0   \n",
       "1                        0                  0                      0   \n",
       "2                        0                  0                      0   \n",
       "3                        0                  0                      0   \n",
       "4                        0                  0                      0   \n",
       "..                     ...                ...                    ...   \n",
       "235                      0                  0                      0   \n",
       "236                      0                  0                      0   \n",
       "237                      0                  0                      0   \n",
       "238                      0                  0                      0   \n",
       "239                      0                  0                      0   \n",
       "\n",
       "     Star color_Red  Star color_White  Star color_Yellow  \\\n",
       "0                 1                 0                  0   \n",
       "1                 1                 0                  0   \n",
       "2                 1                 0                  0   \n",
       "3                 1                 0                  0   \n",
       "4                 1                 0                  0   \n",
       "..              ...               ...                ...   \n",
       "235               0                 0                  0   \n",
       "236               0                 0                  0   \n",
       "237               0                 1                  0   \n",
       "238               0                 1                  0   \n",
       "239               0                 0                  0   \n",
       "\n",
       "     Star color_Yellow White  \n",
       "0                          0  \n",
       "1                          0  \n",
       "2                          0  \n",
       "3                          0  \n",
       "4                          0  \n",
       "..                       ...  \n",
       "235                        0  \n",
       "236                        0  \n",
       "237                        0  \n",
       "238                        0  \n",
       "239                        0  \n",
       "\n",
       "[240 rows x 15 columns]"
      ]
     },
     "execution_count": 33,
     "metadata": {},
     "output_type": "execute_result"
    }
   ],
   "source": [
    "X"
   ]
  },
  {
   "attachments": {},
   "cell_type": "markdown",
   "id": "e6a71bda",
   "metadata": {},
   "source": [
    "Проведём масштабирование количественных данных нецелевых (X_train, X_test) выборок"
   ]
  },
  {
   "cell_type": "code",
   "execution_count": 34,
   "id": "forced-concentrate",
   "metadata": {},
   "outputs": [],
   "source": [
    "pd.options.mode.chained_assignment = None\n",
    "numeric = ['Luminosity(L/Lo)', 'Radius(R/Ro)', 'Absolute magnitude(Mv)']\n",
    "\n",
    "# масштабирование\n",
    "scaler = StandardScaler()\n",
    "scaler.fit(X_train[numeric])\n",
    "\n",
    "\n",
    "\n",
    "\n",
    "X_train[numeric] = scaler.transform(X_train[numeric])\n",
    "X_test[numeric] = scaler.transform(X_test[numeric])"
   ]
  },
  {
   "attachments": {},
   "cell_type": "markdown",
   "id": "a925f085",
   "metadata": {},
   "source": [
    "Трансформируем в массив torch"
   ]
  },
  {
   "cell_type": "code",
   "execution_count": 35,
   "id": "c9e3ca14",
   "metadata": {},
   "outputs": [],
   "source": [
    "X_train = torch.FloatTensor(X_train.values)\n",
    "X_test = torch.FloatTensor(X_test.values)\n",
    "y_train = torch.FloatTensor(y_train.values)\n",
    "y_test = torch.FloatTensor(y_test.values)"
   ]
  },
  {
   "attachments": {},
   "cell_type": "markdown",
   "id": "523030e2",
   "metadata": {},
   "source": [
    "### Построение базовой модели"
   ]
  },
  {
   "attachments": {},
   "cell_type": "markdown",
   "id": "1f88087d",
   "metadata": {},
   "source": [
    "Гиперпараметры"
   ]
  },
  {
   "cell_type": "code",
   "execution_count": 36,
   "id": "4ce30acd",
   "metadata": {},
   "outputs": [],
   "source": [
    "n_in_neurons = 15 # количество входных нейронов соответствующее количеству принаков\n",
    "n_hidden_neurons_1 = 25 # первый скрытый слой\n",
    "n_hidden_neurons_2 = 25 # второй скрытый слой\n",
    "n_out_neurons = 1 # один нейрон на выходе тк решвается задаче регрессии"
   ]
  },
  {
   "attachments": {},
   "cell_type": "markdown",
   "id": "e9512f7e",
   "metadata": {},
   "source": [
    "Обучаем базовую модель"
   ]
  },
  {
   "cell_type": "code",
   "execution_count": 37,
   "id": "413f6112",
   "metadata": {},
   "outputs": [],
   "source": [
    "\n",
    "class Net(nn.Module):\n",
    "    def __init__(self, n_in_neurons, n_hidden_neurons_1, n_hidden_neurons_2, n_out_neurons):\n",
    "        super(Net, self).__init__()\n",
    "\n",
    "        self.fc1 = nn.Linear(n_in_neurons, n_hidden_neurons_1)  # входной слой\n",
    "        self.act1 = nn.ReLU()\n",
    "\n",
    "        self.fc2 = nn.Linear(n_hidden_neurons_1, n_hidden_neurons_2)  # скрытый слой\n",
    "        self.act2 = nn.ReLU()\n",
    "\n",
    "        self.fc3 = nn.Linear(n_hidden_neurons_2, n_out_neurons)  # выходной слой\n",
    "        #self.act3 = nn.Identity()  # активация nn.Identity для регрессии \n",
    "        self.act3 = nn.ReLU() \n",
    "\n",
    "        # инициализация весов используя однородную инициализацию Kaiming\n",
    "        nn.init.kaiming_uniform_(self.fc1.weight)\n",
    "        nn.init.kaiming_uniform_(self.fc2.weight)\n",
    "        nn.init.kaiming_uniform_(self.fc3.weight)\n",
    "\n",
    "    def forward(self, x):\n",
    "        x = self.act1(self.fc1(x))\n",
    "        x = self.act2(self.fc2(x))\n",
    "        x = self.act3(self.fc3(x))\n",
    "        return x\n"
   ]
  },
  {
   "cell_type": "code",
   "execution_count": 61,
   "id": "cf7ec02e",
   "metadata": {},
   "outputs": [],
   "source": [
    "net = Net(n_in_neurons, n_hidden_neurons_1, n_hidden_neurons_2, n_out_neurons)"
   ]
  },
  {
   "cell_type": "code",
   "execution_count": 62,
   "id": "58d235a3",
   "metadata": {},
   "outputs": [
    {
     "name": "stdout",
     "output_type": "stream",
     "text": [
      "RMSE: 17630.578125 Эпоха: 0\n",
      "RMSE: 11358.95703125 Эпоха: 10\n",
      "RMSE: 8251.365234375 Эпоха: 20\n",
      "RMSE: 5861.14892578125 Эпоха: 30\n",
      "RMSE: 4575.220703125 Эпоха: 40\n",
      "RMSE: 4529.3056640625 Эпоха: 50\n",
      "RMSE: 4937.35400390625 Эпоха: 60\n",
      "RMSE: 4891.83154296875 Эпоха: 70\n",
      "RMSE: 4812.900390625 Эпоха: 80\n",
      "RMSE: 4749.021484375 Эпоха: 90\n",
      "RMSE: 4969.06201171875 Эпоха: 100\n",
      "RMSE: 4887.95458984375 Эпоха: 110\n",
      "RMSE: 4936.53173828125 Эпоха: 120\n",
      "RMSE: 4951.3125 Эпоха: 130\n",
      "RMSE: 4951.9306640625 Эпоха: 140\n",
      "RMSE: 4855.1904296875 Эпоха: 150\n",
      "RMSE: 4988.6201171875 Эпоха: 160\n",
      "RMSE: 4518.38330078125 Эпоха: 170\n",
      "RMSE: 4916.0390625 Эпоха: 180\n",
      "RMSE: 4598.84423828125 Эпоха: 190\n",
      "RMSE: 5273.46826171875 Эпоха: 200\n",
      "RMSE: 4632.59228515625 Эпоха: 210\n",
      "RMSE: 4767.16796875 Эпоха: 220\n",
      "RMSE: 5595.921875 Эпоха: 230\n",
      "RMSE: 5124.09765625 Эпоха: 240\n",
      "RMSE: 4735.14111328125 Эпоха: 250\n",
      "RMSE: 4879.076171875 Эпоха: 260\n",
      "RMSE: 4590.6728515625 Эпоха: 270\n",
      "RMSE: 4571.173828125 Эпоха: 280\n",
      "RMSE: 4922.71337890625 Эпоха: 290\n",
      "RMSE: 4701.966796875 Эпоха: 300\n",
      "RMSE: 5248.57373046875 Эпоха: 310\n",
      "RMSE: 4813.79248046875 Эпоха: 320\n",
      "RMSE: 5180.01025390625 Эпоха: 330\n",
      "RMSE: 4962.0126953125 Эпоха: 340\n",
      "RMSE: 5370.01171875 Эпоха: 350\n",
      "RMSE: 5267.53369140625 Эпоха: 360\n",
      "RMSE: 5313.9111328125 Эпоха: 370\n",
      "RMSE: 5267.9287109375 Эпоха: 380\n",
      "RMSE: 5511.61669921875 Эпоха: 390\n",
      "RMSE: 5421.80126953125 Эпоха: 400\n",
      "RMSE: 5366.546875 Эпоха: 410\n",
      "RMSE: 5528.0322265625 Эпоха: 420\n",
      "RMSE: 5451.216796875 Эпоха: 430\n",
      "RMSE: 5235.1875 Эпоха: 440\n",
      "RMSE: 5894.1884765625 Эпоха: 450\n",
      "RMSE: 5529.357421875 Эпоха: 460\n",
      "RMSE: 5487.71923828125 Эпоха: 470\n",
      "RMSE: 5525.41552734375 Эпоха: 480\n",
      "RMSE: 5591.49365234375 Эпоха: 490\n"
     ]
    }
   ],
   "source": [
    "num_epochs = 500 # кол-во эпох обучения сети\n",
    "optimizer = torch.optim.Adam(net.parameters(), lr=0.3) \n",
    "loss = nn.MSELoss()\n",
    "\n",
    "for epoch in range(num_epochs):\n",
    "    optimizer.zero_grad() # обнуление градиента\n",
    "    preds = net.forward(X_train) # прямое распространение на обучающих данных\n",
    "    loss_value = loss(preds.flatten(), y_train.flatten()) # вычисление значения функции потерь\n",
    "    loss_value.backward() # вычисление градиентов\n",
    "    optimizer.step()\n",
    "    \n",
    "    if epoch % 10 == 0: # вычислим метрики качества каждую десятую эпоху\n",
    "        net.eval() # переводим модель в режим предсказания\n",
    "        test_preds = net(X_test)\n",
    "        mse_value = loss(test_preds.flatten(), y_test.flatten())\n",
    "        rmse_value = torch.sqrt(mse_value)\n",
    "        print(\"RMSE:\", rmse_value.item(), \"Эпоха:\", epoch)"
   ]
  },
  {
   "cell_type": "code",
   "execution_count": 40,
   "id": "779180cd",
   "metadata": {},
   "outputs": [],
   "source": [
    "final_preds_base_mod = net.forward(X_test)"
   ]
  },
  {
   "attachments": {},
   "cell_type": "markdown",
   "id": "a0cbd17f",
   "metadata": {},
   "source": [
    "Строим график прогнозов - \"Факт-прогноз\""
   ]
  },
  {
   "cell_type": "code",
   "execution_count": 41,
   "id": "567b1570",
   "metadata": {},
   "outputs": [],
   "source": [
    "def graph2(target, preds, width = 0.4): \n",
    "    y1 = target \n",
    "    y2 = preds \n",
    "    x = np.arange(len(y1)) \n",
    "    fig,ax = plt.subplots() \n",
    "    rects1 = ax.bar(x , y1, width, label = 'Факт', color = '#AED9E4') \n",
    "    rects2 = ax.bar(x, y2, width/3, label = 'Прогноз', color = '#E9B940') \n",
    "    ax.set_title('Факт - Прогноз') \n",
    "    ax.set_xticks(x) \n",
    "    ax.set_xlabel('Номер') \n",
    "    ax.set_ylabel('Температура') \n",
    "    fig.set_figwidth(20) \n",
    "    fig.set_figheight(10) \n",
    "    ax.legend()"
   ]
  },
  {
   "cell_type": "code",
   "execution_count": 42,
   "id": "80c373b3",
   "metadata": {},
   "outputs": [
    {
     "data": {
      "image/png": "[encoded data removed]",
      "text/plain": [
       "<Figure size 1440x720 with 1 Axes>"
      ]
     },
     "metadata": {
      "needs_background": "light"
     },
     "output_type": "display_data"
    }
   ],
   "source": [
    "target = y_test\n",
    "target = target.numpy()\n",
    "target = pd.Series(target)\n",
    "\n",
    "preds = final_preds_base_mod.detach().numpy()\n",
    "\n",
    "preds =  pd.Series([x[0] for x in preds])\n",
    "\n",
    "# Вызов функции для построения графика\n",
    "graph2(target, preds)\n",
    "plt.show()"
   ]
  },
  {
   "attachments": {},
   "cell_type": "markdown",
   "id": "16a5d5ef",
   "metadata": {},
   "source": [
    "`Вывод:` RMSE=3567 целевой показатель RMSE <4500 достигнут. Посмотрим, можем ли мы улучшить модель для достижения более низкого RMSE <br>\n",
    "\n",
    "Модель хорошо предсказывает малые и значения, но не очень хорошо - средние и большие. "
   ]
  },
  {
   "attachments": {},
   "cell_type": "markdown",
   "id": "growing-supply",
   "metadata": {},
   "source": [
    "## Улучшение нейронной сети"
   ]
  },
  {
   "attachments": {},
   "cell_type": "markdown",
   "id": "66162186",
   "metadata": {},
   "source": [
    "Улучшение 1 - изменим кол-во батчей batch=6"
   ]
  },
  {
   "cell_type": "code",
   "execution_count": 63,
   "id": "592ee66c",
   "metadata": {},
   "outputs": [
    {
     "name": "stdout",
     "output_type": "stream",
     "text": [
      "tensor(9895.5732, grad_fn=<SqrtBackward0>)\n",
      "tensor(5674.7144, grad_fn=<SqrtBackward0>)\n",
      "tensor(5362.9487, grad_fn=<SqrtBackward0>)\n",
      "tensor(5078.3999, grad_fn=<SqrtBackward0>)\n",
      "tensor(4906.3218, grad_fn=<SqrtBackward0>)\n",
      "tensor(6204.9536, grad_fn=<SqrtBackward0>)\n",
      "tensor(5122.7397, grad_fn=<SqrtBackward0>)\n",
      "tensor(4312.6113, grad_fn=<SqrtBackward0>)\n",
      "tensor(4899.7959, grad_fn=<SqrtBackward0>)\n",
      "tensor(4652.6865, grad_fn=<SqrtBackward0>)\n",
      "tensor(6371.9336, grad_fn=<SqrtBackward0>)\n",
      "tensor(4627.9868, grad_fn=<SqrtBackward0>)\n",
      "tensor(5142.0381, grad_fn=<SqrtBackward0>)\n",
      "tensor(5397.8550, grad_fn=<SqrtBackward0>)\n",
      "tensor(5626.9995, grad_fn=<SqrtBackward0>)\n",
      "tensor(5491.1680, grad_fn=<SqrtBackward0>)\n",
      "tensor(6748.2681, grad_fn=<SqrtBackward0>)\n",
      "tensor(5623.5532, grad_fn=<SqrtBackward0>)\n",
      "tensor(5884.5908, grad_fn=<SqrtBackward0>)\n",
      "tensor(5775.2056, grad_fn=<SqrtBackward0>)\n",
      "tensor(5015.7554, grad_fn=<SqrtBackward0>)\n",
      "tensor(5700.1338, grad_fn=<SqrtBackward0>)\n",
      "tensor(5546.7520, grad_fn=<SqrtBackward0>)\n",
      "tensor(4473.2812, grad_fn=<SqrtBackward0>)\n",
      "tensor(4919.0479, grad_fn=<SqrtBackward0>)\n"
     ]
    }
   ],
   "source": [
    "n_in_neurons = 15 # количество входных нейронов соответствующее количеству принаков\n",
    "n_hidden_neurons_1 = 25 # первый скрытый слой\n",
    "n_hidden_neurons_2 = 25 # второй скрытый слой\n",
    "n_out_neurons = 1 # один нейрон на выходе тк решвается задаче регрессии\n",
    "\n",
    "class Net(nn.Module): \n",
    "    def __init__(self, n_in_neurons, n_hidden_neurons_1, \n",
    "                 n_hidden_neurons_2, n_out_neurons): \n",
    "        super(Net, self).__init__() \n",
    " \n",
    "        self.fc1 = nn.Linear(n_in_neurons, n_hidden_neurons_1) \n",
    "        self.act1 = nn.ReLU() \n",
    " \n",
    "        self.fc2 = nn.Linear(n_hidden_neurons_1, n_hidden_neurons_2) \n",
    "        self.act2 = nn.ReLU() \n",
    " \n",
    "        self.fc3 = nn.Linear(n_hidden_neurons_2, n_out_neurons) \n",
    "        self.act3 = nn.ReLU() \n",
    " \n",
    "        nn.init.kaiming_uniform_(self.fc1.weight) \n",
    "        nn.init.kaiming_uniform_(self.fc2.weight) #инициализируем функцию активации для нессиметричного распределения\n",
    "        nn.init.kaiming_uniform_(self.fc3.weight) \n",
    " \n",
    " \n",
    "    def forward(self, x): \n",
    "        x = self.fc1(x) \n",
    "        x = self.act1(x) \n",
    " \n",
    "        x = self.fc2(x) \n",
    "        x = self.act2(x) \n",
    " \n",
    "        x = self.fc3(x) \n",
    "        x = self.act3(x) \n",
    "        return x\n",
    "    \n",
    "    \n",
    "net = Net(n_in_neurons, n_hidden_neurons_1, n_hidden_neurons_2, n_out_neurons)\n",
    "optimizer = torch.optim.Adam(net.parameters(), lr=0.3)\n",
    "\n",
    "\n",
    "batch_size = 6\n",
    "num_epochs = 500\n",
    "num_batches = ceil(len(X_train)/batch_size)\n",
    "\n",
    "for epoch in range(num_epochs):\n",
    "    order = np.random.permutation(len(X_train)) # создайте случайную перестановку индексов объектов\n",
    "    for batch_idx in range(num_batches):\n",
    "        start_index = batch_idx * batch_size # посчитайте номер стартового объекта батча\n",
    "        optimizer.zero_grad()  \n",
    "        batch_indexes = order[start_index:start_index+batch_size] # извлеките индексы объектов текущего обатча    \n",
    "        X_batch = X_train[batch_indexes]\n",
    "        y_batch = y_train[batch_indexes]  \n",
    "        preds = net.forward(X_batch).flatten()          \n",
    "        loss_value = loss(preds, y_batch)\n",
    "        loss_value.backward()          \n",
    "        optimizer.step() \n",
    "       \n",
    "    if epoch % 20 == 0:\n",
    "        net.eval()\n",
    "        test_preds = net.forward(X_test)\n",
    "        RMSE = torch.sqrt(loss(test_preds.flatten(),y_test.flatten()))\n",
    "        print(RMSE) \n",
    "        \n",
    "        \n",
    "        \n",
    "full_predictions = net.forward(X_test)"
   ]
  },
  {
   "attachments": {},
   "cell_type": "markdown",
   "id": "0c49e516",
   "metadata": {},
   "source": [
    "Строим график"
   ]
  },
  {
   "cell_type": "code",
   "execution_count": 64,
   "id": "0994aca7",
   "metadata": {},
   "outputs": [
    {
     "data": {
      "image/png": "[encoded data removed]",
      "text/plain": [
       "<Figure size 1440x720 with 1 Axes>"
      ]
     },
     "metadata": {
      "needs_background": "light"
     },
     "output_type": "display_data"
    }
   ],
   "source": [
    "target = y_test\n",
    "target = target.numpy()\n",
    "target = pd.Series(target)\n",
    "\n",
    "\n",
    "full_predictions = full_predictions.detach().numpy()\n",
    "\n",
    "preds =  pd.Series([x[0] for x in full_predictions])\n",
    "\n",
    "# Вызов функции для построения графика\n",
    "graph2(target, preds)\n",
    "plt.show()"
   ]
  },
  {
   "attachments": {},
   "cell_type": "markdown",
   "id": "1305780e",
   "metadata": {},
   "source": [
    "Batch size = 50"
   ]
  },
  {
   "cell_type": "code",
   "execution_count": 45,
   "id": "8fb2344d",
   "metadata": {},
   "outputs": [
    {
     "name": "stdout",
     "output_type": "stream",
     "text": [
      "tensor(16431.5195, grad_fn=<SqrtBackward0>)\n",
      "tensor(4324.6143, grad_fn=<SqrtBackward0>)\n",
      "tensor(5104.2480, grad_fn=<SqrtBackward0>)\n",
      "tensor(4631.0337, grad_fn=<SqrtBackward0>)\n",
      "tensor(4345.7539, grad_fn=<SqrtBackward0>)\n",
      "tensor(6141.4341, grad_fn=<SqrtBackward0>)\n",
      "tensor(4773.6167, grad_fn=<SqrtBackward0>)\n",
      "tensor(5287.1157, grad_fn=<SqrtBackward0>)\n",
      "tensor(5188.7153, grad_fn=<SqrtBackward0>)\n",
      "tensor(4652.3130, grad_fn=<SqrtBackward0>)\n",
      "tensor(5104.0527, grad_fn=<SqrtBackward0>)\n",
      "tensor(4309.3633, grad_fn=<SqrtBackward0>)\n",
      "tensor(4892.7637, grad_fn=<SqrtBackward0>)\n",
      "tensor(5293.2261, grad_fn=<SqrtBackward0>)\n",
      "tensor(5467.6997, grad_fn=<SqrtBackward0>)\n",
      "tensor(4340.7378, grad_fn=<SqrtBackward0>)\n",
      "tensor(4818.9146, grad_fn=<SqrtBackward0>)\n",
      "tensor(4934.4546, grad_fn=<SqrtBackward0>)\n",
      "tensor(5044.7666, grad_fn=<SqrtBackward0>)\n",
      "tensor(4807.1855, grad_fn=<SqrtBackward0>)\n",
      "tensor(5021.0957, grad_fn=<SqrtBackward0>)\n",
      "tensor(4787.9834, grad_fn=<SqrtBackward0>)\n",
      "tensor(5107.9805, grad_fn=<SqrtBackward0>)\n",
      "tensor(4826.9897, grad_fn=<SqrtBackward0>)\n",
      "tensor(5160.0405, grad_fn=<SqrtBackward0>)\n"
     ]
    }
   ],
   "source": [
    "n_in_neurons = 15 # количество входных нейронов соответствующее количеству принаков\n",
    "n_hidden_neurons_1 = 25 # первый скрытый слой\n",
    "n_hidden_neurons_2 = 25 # второй скрытый слой\n",
    "n_out_neurons = 1 # один нейрон на выходе тк решвается задаче регрессии\n",
    "\n",
    "class Net(nn.Module): \n",
    "    def __init__(self, n_in_neurons, n_hidden_neurons_1, \n",
    "                 n_hidden_neurons_2, n_out_neurons): \n",
    "        super(Net, self).__init__() \n",
    " \n",
    "        self.fc1 = nn.Linear(n_in_neurons, n_hidden_neurons_1) \n",
    "        self.act1 = nn.ReLU() \n",
    " \n",
    "        self.fc2 = nn.Linear(n_hidden_neurons_1, n_hidden_neurons_2) \n",
    "        self.act2 = nn.ReLU() \n",
    " \n",
    "        self.fc3 = nn.Linear(n_hidden_neurons_2, n_out_neurons) \n",
    "        self.act3 = nn.ReLU() \n",
    " \n",
    "        nn.init.kaiming_uniform_(self.fc1.weight) \n",
    "        nn.init.kaiming_uniform_(self.fc2.weight) #инициализируем функцию активации для нессиметричного распределения\n",
    "        nn.init.kaiming_uniform_(self.fc3.weight) \n",
    " \n",
    " \n",
    "    def forward(self, x): \n",
    "        x = self.fc1(x) \n",
    "        x = self.act1(x) \n",
    " \n",
    "        x = self.fc2(x) \n",
    "        x = self.act2(x) \n",
    " \n",
    "        x = self.fc3(x) \n",
    "        x = self.act3(x) \n",
    "        return x\n",
    "    \n",
    "    \n",
    "net = Net(n_in_neurons, n_hidden_neurons_1, n_hidden_neurons_2, n_out_neurons)\n",
    "optimizer = torch.optim.Adam(net.parameters(), lr=0.3)\n",
    "\n",
    "\n",
    "batch_size = 50\n",
    "num_epochs = 500\n",
    "num_batches = ceil(len(X_train)/batch_size)\n",
    "\n",
    "for epoch in range(num_epochs):\n",
    "    order = np.random.permutation(len(X_train)) # создайте случайную перестановку индексов объектов\n",
    "    for batch_idx in range(num_batches):\n",
    "        start_index = batch_idx * batch_size # посчитайте номер стартового объекта батча\n",
    "        optimizer.zero_grad()  \n",
    "        batch_indexes = order[start_index:start_index+batch_size] # извлеките индексы объектов текущего обатча    \n",
    "        X_batch = X_train[batch_indexes]\n",
    "        y_batch = y_train[batch_indexes]  \n",
    "        preds = net.forward(X_batch).flatten()          \n",
    "        loss_value = loss(preds, y_batch)\n",
    "        loss_value.backward()          \n",
    "        optimizer.step() \n",
    "       \n",
    "    if epoch % 20 == 0:\n",
    "        net.eval()\n",
    "        test_preds = net.forward(X_test)\n",
    "        RMSE = torch.sqrt(loss(test_preds.flatten(),y_test.flatten()))\n",
    "        print(RMSE) \n",
    "        \n",
    "        \n",
    "        \n",
    "full_predictions = net.forward(X_test)"
   ]
  },
  {
   "cell_type": "code",
   "execution_count": 46,
   "id": "366ae8d5",
   "metadata": {},
   "outputs": [
    {
     "data": {
      "image/png": "[encoded data removed]",
      "text/plain": [
       "<Figure size 1440x720 with 1 Axes>"
      ]
     },
     "metadata": {
      "needs_background": "light"
     },
     "output_type": "display_data"
    }
   ],
   "source": [
    "target = y_test\n",
    "target = target.numpy()\n",
    "target = pd.Series(target)\n",
    "\n",
    "#full_predictions = final_preds_base.detach().numpy()\n",
    "full_predictions = full_predictions.detach().numpy()\n",
    "\n",
    "preds =  pd.Series([x[0] for x in full_predictions])\n",
    "\n",
    "# Вызов функции для построения графика\n",
    "graph2(target, preds)\n",
    "plt.show()"
   ]
  },
  {
   "attachments": {},
   "cell_type": "markdown",
   "id": "36797520",
   "metadata": {},
   "source": [
    "Batch size = 70"
   ]
  },
  {
   "cell_type": "code",
   "execution_count": 47,
   "id": "bae2d422",
   "metadata": {},
   "outputs": [
    {
     "name": "stdout",
     "output_type": "stream",
     "text": [
      "tensor(17345.3105, grad_fn=<SqrtBackward0>)\n",
      "tensor(5840.3955, grad_fn=<SqrtBackward0>)\n",
      "tensor(4386.3018, grad_fn=<SqrtBackward0>)\n",
      "tensor(4357.9585, grad_fn=<SqrtBackward0>)\n",
      "tensor(5152.9019, grad_fn=<SqrtBackward0>)\n",
      "tensor(5172.1284, grad_fn=<SqrtBackward0>)\n",
      "tensor(5145.9067, grad_fn=<SqrtBackward0>)\n",
      "tensor(4468.1050, grad_fn=<SqrtBackward0>)\n",
      "tensor(4428.1382, grad_fn=<SqrtBackward0>)\n",
      "tensor(5358.3481, grad_fn=<SqrtBackward0>)\n",
      "tensor(3821.6653, grad_fn=<SqrtBackward0>)\n",
      "tensor(5939.5459, grad_fn=<SqrtBackward0>)\n",
      "tensor(5273.6309, grad_fn=<SqrtBackward0>)\n",
      "tensor(5096.2510, grad_fn=<SqrtBackward0>)\n",
      "tensor(5692.8550, grad_fn=<SqrtBackward0>)\n",
      "tensor(4866.0635, grad_fn=<SqrtBackward0>)\n",
      "tensor(5839.9854, grad_fn=<SqrtBackward0>)\n",
      "tensor(4408.0356, grad_fn=<SqrtBackward0>)\n",
      "tensor(4734.3853, grad_fn=<SqrtBackward0>)\n",
      "tensor(4576.3457, grad_fn=<SqrtBackward0>)\n",
      "tensor(4921.8682, grad_fn=<SqrtBackward0>)\n",
      "tensor(4900.6904, grad_fn=<SqrtBackward0>)\n",
      "tensor(4429.8071, grad_fn=<SqrtBackward0>)\n",
      "tensor(5946.3101, grad_fn=<SqrtBackward0>)\n",
      "tensor(5530.0713, grad_fn=<SqrtBackward0>)\n"
     ]
    }
   ],
   "source": [
    "n_in_neurons = 15 # количество входных нейронов соответствующее количеству принаков\n",
    "n_hidden_neurons_1 = 25 # первый скрытый слой\n",
    "n_hidden_neurons_2 = 25 # второй скрытый слой\n",
    "n_out_neurons = 1 # один нейрон на выходе тк решвается задаче регрессии\n",
    "\n",
    "class Net(nn.Module): \n",
    "    def __init__(self, n_in_neurons, n_hidden_neurons_1, \n",
    "                 n_hidden_neurons_2, n_out_neurons): \n",
    "        super(Net, self).__init__() \n",
    " \n",
    "        self.fc1 = nn.Linear(n_in_neurons, n_hidden_neurons_1) \n",
    "        self.act1 = nn.ReLU() \n",
    " \n",
    "        self.fc2 = nn.Linear(n_hidden_neurons_1, n_hidden_neurons_2) \n",
    "        self.act2 = nn.ReLU() \n",
    " \n",
    "        self.fc3 = nn.Linear(n_hidden_neurons_2, n_out_neurons) \n",
    "        self.act3 = nn.ReLU() \n",
    " \n",
    "        nn.init.kaiming_uniform_(self.fc1.weight) \n",
    "        nn.init.kaiming_uniform_(self.fc2.weight) #инициализируем функцию активации для нессиметричного распределения\n",
    "        nn.init.kaiming_uniform_(self.fc3.weight) \n",
    " \n",
    " \n",
    "    def forward(self, x): \n",
    "        x = self.fc1(x) \n",
    "        x = self.act1(x) \n",
    " \n",
    "        x = self.fc2(x) \n",
    "        x = self.act2(x) \n",
    " \n",
    "        x = self.fc3(x) \n",
    "        x = self.act3(x) \n",
    "        return x\n",
    "    \n",
    "    \n",
    "net = Net(n_in_neurons, n_hidden_neurons_1, n_hidden_neurons_2, n_out_neurons)\n",
    "optimizer = torch.optim.Adam(net.parameters(), lr=0.3)\n",
    "\n",
    "\n",
    "batch_size = 70\n",
    "num_epochs = 500\n",
    "num_batches = ceil(len(X_train)/batch_size)\n",
    "\n",
    "for epoch in range(num_epochs):\n",
    "    order = np.random.permutation(len(X_train)) # создайте случайную перестановку индексов объектов\n",
    "    for batch_idx in range(num_batches):\n",
    "        start_index = batch_idx * batch_size # посчитайте номер стартового объекта батча\n",
    "        optimizer.zero_grad()  \n",
    "        batch_indexes = order[start_index:start_index+batch_size] # извлеките индексы объектов текущего обатча    \n",
    "        X_batch = X_train[batch_indexes]\n",
    "        y_batch = y_train[batch_indexes]  \n",
    "        preds = net.forward(X_batch).flatten()          \n",
    "        loss_value = loss(preds, y_batch)\n",
    "        loss_value.backward()          \n",
    "        optimizer.step() \n",
    "       \n",
    "    if epoch % 20 == 0:\n",
    "        net.eval()\n",
    "        test_preds = net.forward(X_test)\n",
    "        RMSE = torch.sqrt(loss(test_preds.flatten(),y_test.flatten()))\n",
    "        print(RMSE) \n",
    "        \n",
    "        \n",
    "        \n",
    "full_predictions = net.forward(X_test)"
   ]
  },
  {
   "cell_type": "code",
   "execution_count": 48,
   "id": "0bbf225d",
   "metadata": {},
   "outputs": [
    {
     "data": {
      "image/png": "[encoded data removed]",
      "text/plain": [
       "<Figure size 1440x720 with 1 Axes>"
      ]
     },
     "metadata": {
      "needs_background": "light"
     },
     "output_type": "display_data"
    }
   ],
   "source": [
    "target = y_test\n",
    "target = target.numpy()\n",
    "target = pd.Series(target)\n",
    "\n",
    "full_predictions = full_predictions.detach().numpy()\n",
    "\n",
    "preds =  pd.Series([x[0] for x in full_predictions])\n",
    "\n",
    "# Вызов функции для построения графика\n",
    "graph2(target, preds)\n",
    "plt.show()"
   ]
  },
  {
   "attachments": {},
   "cell_type": "markdown",
   "id": "2e803925",
   "metadata": {},
   "source": [
    "Улучшение 2 - применяем Dropout (p=0.2)"
   ]
  },
  {
   "cell_type": "code",
   "execution_count": 49,
   "id": "95391eca",
   "metadata": {},
   "outputs": [
    {
     "name": "stdout",
     "output_type": "stream",
     "text": [
      "RMSE: 17642.740234375 Эпоха: 0\n",
      "RMSE: 11242.1005859375 Эпоха: 10\n",
      "RMSE: 10835.662109375 Эпоха: 20\n",
      "RMSE: 8701.8671875 Эпоха: 30\n",
      "RMSE: 7887.41943359375 Эпоха: 40\n",
      "RMSE: 7002.720703125 Эпоха: 50\n",
      "RMSE: 6011.3896484375 Эпоха: 60\n",
      "RMSE: 5094.60595703125 Эпоха: 70\n",
      "RMSE: 4777.46142578125 Эпоха: 80\n",
      "RMSE: 4657.89208984375 Эпоха: 90\n",
      "RMSE: 4618.890625 Эпоха: 100\n",
      "RMSE: 4636.9755859375 Эпоха: 110\n",
      "RMSE: 4648.64599609375 Эпоха: 120\n",
      "RMSE: 4646.91162109375 Эпоха: 130\n",
      "RMSE: 4636.22705078125 Эпоха: 140\n",
      "RMSE: 4643.80126953125 Эпоха: 150\n",
      "RMSE: 4639.51806640625 Эпоха: 160\n",
      "RMSE: 4659.80322265625 Эпоха: 170\n",
      "RMSE: 4644.58837890625 Эпоха: 180\n",
      "RMSE: 4651.74609375 Эпоха: 190\n",
      "RMSE: 4649.3740234375 Эпоха: 200\n",
      "RMSE: 4666.2373046875 Эпоха: 210\n",
      "RMSE: 4662.7177734375 Эпоха: 220\n",
      "RMSE: 4675.1220703125 Эпоха: 230\n",
      "RMSE: 4686.16357421875 Эпоха: 240\n",
      "RMSE: 4694.9306640625 Эпоха: 250\n",
      "RMSE: 4685.6279296875 Эпоха: 260\n",
      "RMSE: 4704.53857421875 Эпоха: 270\n",
      "RMSE: 4716.5078125 Эпоха: 280\n",
      "RMSE: 4718.73583984375 Эпоха: 290\n",
      "RMSE: 4719.41943359375 Эпоха: 300\n",
      "RMSE: 4729.81201171875 Эпоха: 310\n",
      "RMSE: 4766.8193359375 Эпоха: 320\n",
      "RMSE: 4773.130859375 Эпоха: 330\n",
      "RMSE: 4789.15380859375 Эпоха: 340\n",
      "RMSE: 4804.009765625 Эпоха: 350\n",
      "RMSE: 4795.02490234375 Эпоха: 360\n",
      "RMSE: 4814.31787109375 Эпоха: 370\n",
      "RMSE: 4811.1728515625 Эпоха: 380\n",
      "RMSE: 4852.63525390625 Эпоха: 390\n",
      "RMSE: 4863.9423828125 Эпоха: 400\n",
      "RMSE: 4857.376953125 Эпоха: 410\n",
      "RMSE: 4890.2158203125 Эпоха: 420\n",
      "RMSE: 4917.75927734375 Эпоха: 430\n",
      "RMSE: 4884.83203125 Эпоха: 440\n",
      "RMSE: 4892.1708984375 Эпоха: 450\n",
      "RMSE: 4932.8251953125 Эпоха: 460\n",
      "RMSE: 4877.4697265625 Эпоха: 470\n",
      "RMSE: 4918.5146484375 Эпоха: 480\n",
      "RMSE: 4931.02197265625 Эпоха: 490\n"
     ]
    }
   ],
   "source": [
    "n_in_neurons = 15 # количество входных нейронов соответствующее количеству принаков\n",
    "n_hidden_neurons_1 = 25 # первый скрытый слой\n",
    "n_hidden_neurons_2 = 25 # второй скрытый слой\n",
    "n_out_neurons = 1 # один нейрон на выходе тк решвается задаче регрессии\n",
    "\n",
    "class Net(nn.Module): \n",
    "    def __init__(self, n_in_neurons, n_hidden_neurons_1, \n",
    "                 n_hidden_neurons_2, n_out_neurons): \n",
    "        super(Net, self).__init__() \n",
    " \n",
    "        self.fc1 = nn.Linear(n_in_neurons, n_hidden_neurons_1) \n",
    "        self.act1 = nn.ReLU() \n",
    "        self.dp1 = nn.Dropout(p=0.2)\n",
    " \n",
    "        self.fc2 = nn.Linear(n_hidden_neurons_1, n_hidden_neurons_2) \n",
    "        self.act2 = nn.ReLU()\n",
    "        self.dp2 = nn.Dropout(p=0.2)\n",
    " \n",
    "        self.fc3 = nn.Linear(n_hidden_neurons_2, n_out_neurons) \n",
    "        self.act3 = nn.ReLU() \n",
    "        self.dp3 = nn.Dropout(p=0.2)\n",
    " \n",
    "        nn.init.kaiming_uniform_(self.fc1.weight) \n",
    "        nn.init.kaiming_uniform_(self.fc2.weight) #инициализируем функцию активации для нессиметричного распределения\n",
    "        nn.init.kaiming_uniform_(self.fc3.weight) \n",
    " \n",
    " \n",
    "    def forward(self, x): \n",
    "        x = self.fc1(x) \n",
    "        x = self.act1(x) \n",
    "        x = self.dp1(x)\n",
    "        x = self.fc2(x) \n",
    "        x = self.act2(x)\n",
    "        x = self.dp2(x) \n",
    "        x = self.fc3(x) \n",
    "        x = self.act3(x)\n",
    "        x = self.dp3(x) \n",
    "        return x\n",
    "    \n",
    "    \n",
    "net = Net(n_in_neurons, n_hidden_neurons_1, n_hidden_neurons_2, n_out_neurons)\n",
    "\n",
    "\n",
    "\n",
    "\n",
    "num_epochs = 500 # кол-во эпох обучения сети\n",
    "optimizer = torch.optim.Adam(net.parameters(), lr=0.3) \n",
    "loss = nn.MSELoss()\n",
    "\n",
    "for epoch in range(num_epochs):\n",
    "    optimizer.zero_grad()#обнуляем накопленный градиент\n",
    "    preds_d = net.forward(X_train) # прямое распространение на обучающих данных\n",
    "    loss_value = loss(preds_d.flatten(), y_train.flatten()) # вычисление значения функции потерь\n",
    "    loss_value.backward()# вычисление градиентов\n",
    "    optimizer.step()\n",
    "    \n",
    "    if epoch % 10 == 0: #вычислим метрики качества каждую десятую эпоху\n",
    "        net.eval() #переводим модель в режим предсказания\n",
    "        test_preds = net(X_test)\n",
    "        mse_value = loss(test_preds.flatten(), y_test.flatten())\n",
    "        rmse_value = torch.sqrt(mse_value)\n",
    "        print(\"RMSE:\", rmse_value.item(), \"Эпоха:\", epoch)"
   ]
  },
  {
   "attachments": {},
   "cell_type": "markdown",
   "id": "3ca1c518",
   "metadata": {},
   "source": [
    "Применяем Dropout (p=0.3)"
   ]
  },
  {
   "cell_type": "code",
   "execution_count": 50,
   "id": "c635635e",
   "metadata": {},
   "outputs": [
    {
     "name": "stdout",
     "output_type": "stream",
     "text": [
      "RMSE: 17611.71875 Эпоха: 0\n",
      "RMSE: 10564.009765625 Эпоха: 10\n",
      "RMSE: 9552.0869140625 Эпоха: 20\n",
      "RMSE: 8580.9970703125 Эпоха: 30\n",
      "RMSE: 7106.85302734375 Эпоха: 40\n",
      "RMSE: 5662.291015625 Эпоха: 50\n",
      "RMSE: 4751.70458984375 Эпоха: 60\n",
      "RMSE: 4738.5185546875 Эпоха: 70\n",
      "RMSE: 4634.04248046875 Эпоха: 80\n",
      "RMSE: 4539.50390625 Эпоха: 90\n",
      "RMSE: 4522.2998046875 Эпоха: 100\n",
      "RMSE: 4516.859375 Эпоха: 110\n",
      "RMSE: 4541.99658203125 Эпоха: 120\n",
      "RMSE: 4545.18994140625 Эпоха: 130\n",
      "RMSE: 4549.81884765625 Эпоха: 140\n",
      "RMSE: 4563.30712890625 Эпоха: 150\n",
      "RMSE: 4576.705078125 Эпоха: 160\n",
      "RMSE: 4566.3037109375 Эпоха: 170\n",
      "RMSE: 4634.24853515625 Эпоха: 180\n",
      "RMSE: 4643.17578125 Эпоха: 190\n",
      "RMSE: 4665.14208984375 Эпоха: 200\n",
      "RMSE: 4682.21826171875 Эпоха: 210\n",
      "RMSE: 4737.19091796875 Эпоха: 220\n",
      "RMSE: 4738.91455078125 Эпоха: 230\n",
      "RMSE: 4765.80810546875 Эпоха: 240\n",
      "RMSE: 4760.51318359375 Эпоха: 250\n",
      "RMSE: 4769.2421875 Эпоха: 260\n",
      "RMSE: 4797.76611328125 Эпоха: 270\n",
      "RMSE: 4832.19091796875 Эпоха: 280\n",
      "RMSE: 4835.66162109375 Эпоха: 290\n",
      "RMSE: 4850.35400390625 Эпоха: 300\n",
      "RMSE: 4881.544921875 Эпоха: 310\n",
      "RMSE: 4868.2060546875 Эпоха: 320\n",
      "RMSE: 4860.3935546875 Эпоха: 330\n",
      "RMSE: 4916.7939453125 Эпоха: 340\n",
      "RMSE: 4932.07373046875 Эпоха: 350\n",
      "RMSE: 4923.08251953125 Эпоха: 360\n",
      "RMSE: 4920.61572265625 Эпоха: 370\n",
      "RMSE: 4910.3935546875 Эпоха: 380\n",
      "RMSE: 4912.43505859375 Эпоха: 390\n",
      "RMSE: 4901.9404296875 Эпоха: 400\n",
      "RMSE: 4890.9326171875 Эпоха: 410\n",
      "RMSE: 4893.4208984375 Эпоха: 420\n",
      "RMSE: 4941.81201171875 Эпоха: 430\n",
      "RMSE: 4935.892578125 Эпоха: 440\n",
      "RMSE: 4978.93505859375 Эпоха: 450\n",
      "RMSE: 4967.10986328125 Эпоха: 460\n",
      "RMSE: 4944.12841796875 Эпоха: 470\n",
      "RMSE: 5019.7880859375 Эпоха: 480\n",
      "RMSE: 5057.0322265625 Эпоха: 490\n"
     ]
    }
   ],
   "source": [
    "n_in_neurons = 15 # количество входных нейронов соответствующее количеству принаков\n",
    "n_hidden_neurons_1 = 25 # первый скрытый слой\n",
    "n_hidden_neurons_2 = 25 # второй скрытый слой\n",
    "n_out_neurons = 1 # один нейрон на выходе тк решвается задаче регрессии\n",
    "\n",
    "class Net(nn.Module): \n",
    "    def __init__(self, n_in_neurons, n_hidden_neurons_1, \n",
    "                 n_hidden_neurons_2, n_out_neurons): \n",
    "        super(Net, self).__init__() \n",
    " \n",
    "        self.fc1 = nn.Linear(n_in_neurons, n_hidden_neurons_1) \n",
    "        self.act1 = nn.ReLU() \n",
    "        self.dp1 = nn.Dropout(p=0.3)\n",
    " \n",
    "        self.fc2 = nn.Linear(n_hidden_neurons_1, n_hidden_neurons_2) \n",
    "        self.act2 = nn.ReLU()\n",
    "        self.dp2 = nn.Dropout(p=0.3)\n",
    " \n",
    "        self.fc3 = nn.Linear(n_hidden_neurons_2, n_out_neurons) \n",
    "        self.act3 = nn.ReLU() \n",
    "        self.dp3 = nn.Dropout(p=0.3)\n",
    " \n",
    "        nn.init.kaiming_uniform_(self.fc1.weight) \n",
    "        nn.init.kaiming_uniform_(self.fc2.weight) # инициализируем функцию активации для нессиметричного распределения\n",
    "        nn.init.kaiming_uniform_(self.fc3.weight) \n",
    " \n",
    " \n",
    "    def forward(self, x): \n",
    "        x = self.fc1(x) \n",
    "        x = self.act1(x) \n",
    "        x = self.dp1(x)\n",
    "        x = self.fc2(x) \n",
    "        x = self.act2(x)\n",
    "        x = self.dp2(x) \n",
    "        x = self.fc3(x) \n",
    "        x = self.act3(x)\n",
    "        x = self.dp3(x) \n",
    "        return x\n",
    "    \n",
    "    \n",
    "net = Net(n_in_neurons, n_hidden_neurons_1, n_hidden_neurons_2, n_out_neurons)\n",
    "\n",
    "\n",
    "num_epochs = 500 # кол-во эпох обучения сети\n",
    "optimizer = torch.optim.Adam(net.parameters(), lr=0.3) \n",
    "loss = nn.MSELoss()\n",
    "\n",
    "for epoch in range(num_epochs):\n",
    "    optimizer.zero_grad() # обнуляем накопленный градиент\n",
    "    preds_d = net.forward(X_train) # прямое распространение на обучающих данных\n",
    "    loss_value = loss(preds_d.flatten(), y_train.flatten()) # вычисление значения функции потерь\n",
    "    loss_value.backward() # вычисление градиентов\n",
    "    optimizer.step()\n",
    "    \n",
    "    if epoch % 10 == 0: # вычислим метрики качества каждую десятую эпоху\n",
    "        net.eval() # переводим модель в режим предсказания\n",
    "        test_preds = net(X_test)\n",
    "        mse_value = loss(test_preds.flatten(), y_test.flatten())\n",
    "        rmse_value = torch.sqrt(mse_value)\n",
    "        print(\"RMSE:\", rmse_value.item(), \"Эпоха:\", epoch)"
   ]
  },
  {
   "attachments": {},
   "cell_type": "markdown",
   "id": "07c689c5",
   "metadata": {},
   "source": [
    "Применяем Dropout (p=0.5)"
   ]
  },
  {
   "cell_type": "code",
   "execution_count": 51,
   "id": "10dec004",
   "metadata": {},
   "outputs": [
    {
     "name": "stdout",
     "output_type": "stream",
     "text": [
      "RMSE: 17631.822265625 Эпоха: 0\n",
      "RMSE: 10528.2509765625 Эпоха: 10\n",
      "RMSE: 10763.3203125 Эпоха: 20\n",
      "RMSE: 8597.138671875 Эпоха: 30\n",
      "RMSE: 7782.296875 Эпоха: 40\n",
      "RMSE: 7055.20166015625 Эпоха: 50\n",
      "RMSE: 5911.220703125 Эпоха: 60\n",
      "RMSE: 5183.9580078125 Эпоха: 70\n",
      "RMSE: 4728.28173828125 Эпоха: 80\n",
      "RMSE: 4651.48876953125 Эпоха: 90\n",
      "RMSE: 4610.7041015625 Эпоха: 100\n",
      "RMSE: 4627.19873046875 Эпоха: 110\n",
      "RMSE: 4657.0439453125 Эпоха: 120\n",
      "RMSE: 4662.5654296875 Эпоха: 130\n",
      "RMSE: 4645.8759765625 Эпоха: 140\n",
      "RMSE: 4626.13818359375 Эпоха: 150\n",
      "RMSE: 4637.69921875 Эпоха: 160\n",
      "RMSE: 4652.02490234375 Эпоха: 170\n",
      "RMSE: 4630.10498046875 Эпоха: 180\n",
      "RMSE: 4665.5419921875 Эпоха: 190\n",
      "RMSE: 4689.22705078125 Эпоха: 200\n",
      "RMSE: 4724.3662109375 Эпоха: 210\n",
      "RMSE: 4759.85986328125 Эпоха: 220\n",
      "RMSE: 4734.4921875 Эпоха: 230\n",
      "RMSE: 4758.9111328125 Эпоха: 240\n",
      "RMSE: 4781.8984375 Эпоха: 250\n",
      "RMSE: 4780.35791015625 Эпоха: 260\n",
      "RMSE: 4776.04443359375 Эпоха: 270\n",
      "RMSE: 4791.201171875 Эпоха: 280\n",
      "RMSE: 4802.0771484375 Эпоха: 290\n",
      "RMSE: 4797.39013671875 Эпоха: 300\n",
      "RMSE: 4815.810546875 Эпоха: 310\n",
      "RMSE: 4785.30908203125 Эпоха: 320\n",
      "RMSE: 4784.21337890625 Эпоха: 330\n",
      "RMSE: 4848.18310546875 Эпоха: 340\n",
      "RMSE: 4887.7666015625 Эпоха: 350\n",
      "RMSE: 4903.00732421875 Эпоха: 360\n",
      "RMSE: 4905.61474609375 Эпоха: 370\n",
      "RMSE: 4914.40966796875 Эпоха: 380\n",
      "RMSE: 4918.22900390625 Эпоха: 390\n",
      "RMSE: 4923.4833984375 Эпоха: 400\n",
      "RMSE: 4958.4384765625 Эпоха: 410\n",
      "RMSE: 4955.42431640625 Эпоха: 420\n",
      "RMSE: 4990.20166015625 Эпоха: 430\n",
      "RMSE: 5001.98828125 Эпоха: 440\n",
      "RMSE: 5009.95166015625 Эпоха: 450\n",
      "RMSE: 5078.6982421875 Эпоха: 460\n",
      "RMSE: 5067.5869140625 Эпоха: 470\n",
      "RMSE: 5100.09814453125 Эпоха: 480\n",
      "RMSE: 5134.4296875 Эпоха: 490\n"
     ]
    }
   ],
   "source": [
    "n_in_neurons = 15 # количество входных нейронов соответствующее количеству принаков\n",
    "n_hidden_neurons_1 = 25 # первый скрытый слой\n",
    "n_hidden_neurons_2 = 25 # второй скрытый слой\n",
    "n_out_neurons = 1 # один нейрон на выходе тк решвается задаче регрессии\n",
    "\n",
    "class Net(nn.Module): \n",
    "    def __init__(self, n_in_neurons, n_hidden_neurons_1, \n",
    "                 n_hidden_neurons_2, n_out_neurons): \n",
    "        super(Net, self).__init__() \n",
    " \n",
    "        self.fc1 = nn.Linear(n_in_neurons, n_hidden_neurons_1) \n",
    "        self.act1 = nn.ReLU() \n",
    "        self.dp1 = nn.Dropout(p=0.5)\n",
    " \n",
    "        self.fc2 = nn.Linear(n_hidden_neurons_1, n_hidden_neurons_2) \n",
    "        self.act2 = nn.ReLU()\n",
    "        self.dp2 = nn.Dropout(p=0.5)\n",
    " \n",
    "        self.fc3 = nn.Linear(n_hidden_neurons_2, n_out_neurons) \n",
    "        self.act3 = nn.ReLU() \n",
    "        self.dp3 = nn.Dropout(p=0.5)\n",
    " \n",
    "        nn.init.kaiming_uniform_(self.fc1.weight) \n",
    "        nn.init.kaiming_uniform_(self.fc2.weight) # инициализируем функцию активации для нессиметричного распределения\n",
    "        nn.init.kaiming_uniform_(self.fc3.weight) \n",
    " \n",
    " \n",
    "    def forward(self, x): \n",
    "        x = self.fc1(x) \n",
    "        x = self.act1(x) \n",
    "        x = self.dp1(x)\n",
    "        x = self.fc2(x) \n",
    "        x = self.act2(x)\n",
    "        x = self.dp2(x) \n",
    "        x = self.fc3(x) \n",
    "        x = self.act3(x)\n",
    "        x = self.dp3(x) \n",
    "        return x\n",
    "    \n",
    "    \n",
    "net = Net(n_in_neurons, n_hidden_neurons_1, n_hidden_neurons_2, n_out_neurons)\n",
    "\n",
    "\n",
    "\n",
    "\n",
    "num_epochs = 500 # кол-во эпох обучения сети\n",
    "optimizer = torch.optim.Adam(net.parameters(), lr=0.3) \n",
    "loss = nn.MSELoss()\n",
    "\n",
    "for epoch in range(num_epochs):\n",
    "    optimizer.zero_grad() # обнуляем накопленный градиент\n",
    "    preds_d = net.forward(X_train) # прямое распространение на обучающих данных\n",
    "    loss_value = loss(preds_d.flatten(), y_train.flatten()) # вычисление значения функции потерь\n",
    "    loss_value.backward() # вычисление градиентов\n",
    "    optimizer.step()\n",
    "    \n",
    "    if epoch % 10 == 0: # вычислим метрики качества каждую десятую эпоху\n",
    "        net.eval() # переводим модель в режим предсказания\n",
    "        test_preds = net(X_test)\n",
    "        mse_value = loss(test_preds.flatten(), y_test.flatten())\n",
    "        rmse_value = torch.sqrt(mse_value)\n",
    "        print(\"RMSE:\", rmse_value.item(), \"Эпоха:\", epoch)"
   ]
  },
  {
   "cell_type": "code",
   "execution_count": 52,
   "id": "19c001d4",
   "metadata": {},
   "outputs": [
    {
     "data": {
      "image/png": "[encoded data removed]",
      "text/plain": [
       "<Figure size 1440x720 with 1 Axes>"
      ]
     },
     "metadata": {
      "needs_background": "light"
     },
     "output_type": "display_data"
    }
   ],
   "source": [
    "target = y_test\n",
    "target = target.numpy()\n",
    "target = pd.Series(target)\n",
    "\n",
    "test_preds = test_preds.detach().numpy()\n",
    "\n",
    "preds =  pd.Series([x[0] for x in test_preds])\n",
    "\n",
    "# Вызов функции для построения графика\n",
    "graph2(target, preds)\n",
    "plt.show()"
   ]
  },
  {
   "attachments": {},
   "cell_type": "markdown",
   "id": "fbae3f64",
   "metadata": {},
   "source": [
    "Улучшение 3 - с помощью nn.BatchNorm1d"
   ]
  },
  {
   "cell_type": "code",
   "execution_count": 53,
   "id": "1e95e3da",
   "metadata": {},
   "outputs": [
    {
     "name": "stdout",
     "output_type": "stream",
     "text": [
      "RMSE: 17639.345703125 Эпоха: 0\n",
      "RMSE: 11429.83203125 Эпоха: 10\n",
      "RMSE: 8607.8251953125 Эпоха: 20\n",
      "RMSE: 7348.46044921875 Эпоха: 30\n",
      "RMSE: 4915.5791015625 Эпоха: 40\n",
      "RMSE: 4922.349609375 Эпоха: 50\n",
      "RMSE: 4691.28466796875 Эпоха: 60\n",
      "RMSE: 4449.1474609375 Эпоха: 70\n",
      "RMSE: 4556.1123046875 Эпоха: 80\n",
      "RMSE: 4524.42041015625 Эпоха: 90\n",
      "RMSE: 4628.6611328125 Эпоха: 100\n",
      "RMSE: 4404.2060546875 Эпоха: 110\n",
      "RMSE: 4466.7060546875 Эпоха: 120\n",
      "RMSE: 4594.501953125 Эпоха: 130\n",
      "RMSE: 4751.2060546875 Эпоха: 140\n",
      "RMSE: 4826.29931640625 Эпоха: 150\n",
      "RMSE: 4789.8095703125 Эпоха: 160\n",
      "RMSE: 5000.05224609375 Эпоха: 170\n",
      "RMSE: 4929.35595703125 Эпоха: 180\n",
      "RMSE: 4931.8515625 Эпоха: 190\n",
      "RMSE: 4878.7177734375 Эпоха: 200\n",
      "RMSE: 4932.4580078125 Эпоха: 210\n",
      "RMSE: 5006.037109375 Эпоха: 220\n",
      "RMSE: 5102.13427734375 Эпоха: 230\n",
      "RMSE: 4957.142578125 Эпоха: 240\n",
      "RMSE: 4805.876953125 Эпоха: 250\n",
      "RMSE: 5036.06396484375 Эпоха: 260\n",
      "RMSE: 4648.08447265625 Эпоха: 270\n",
      "RMSE: 4956.263671875 Эпоха: 280\n",
      "RMSE: 5055.1787109375 Эпоха: 290\n",
      "RMSE: 5750.6708984375 Эпоха: 300\n",
      "RMSE: 4823.83642578125 Эпоха: 310\n",
      "RMSE: 5083.0693359375 Эпоха: 320\n",
      "RMSE: 4742.7685546875 Эпоха: 330\n",
      "RMSE: 4510.49755859375 Эпоха: 340\n",
      "RMSE: 5371.22998046875 Эпоха: 350\n",
      "RMSE: 4599.3525390625 Эпоха: 360\n",
      "RMSE: 4233.0146484375 Эпоха: 370\n",
      "RMSE: 4206.42822265625 Эпоха: 380\n",
      "RMSE: 4368.357421875 Эпоха: 390\n",
      "RMSE: 4102.93701171875 Эпоха: 400\n",
      "RMSE: 4240.88134765625 Эпоха: 410\n",
      "RMSE: 4270.62548828125 Эпоха: 420\n",
      "RMSE: 4261.470703125 Эпоха: 430\n",
      "RMSE: 3992.885498046875 Эпоха: 440\n",
      "RMSE: 4203.587890625 Эпоха: 450\n",
      "RMSE: 4515.4306640625 Эпоха: 460\n",
      "RMSE: 4825.70068359375 Эпоха: 470\n",
      "RMSE: 5453.3642578125 Эпоха: 480\n",
      "RMSE: 4578.59716796875 Эпоха: 490\n"
     ]
    }
   ],
   "source": [
    "n_in_neurons = 15 # количество входных нейронов соответствующее количеству принаков\n",
    "n_hidden_neurons_1 = 25 # первый скрытый слой\n",
    "n_hidden_neurons_2 = 25 # второй скрытый слой\n",
    "n_out_neurons = 1 # один нейрон на выходе тк решвается задаче регрессии\n",
    "\n",
    "class Net(nn.Module): \n",
    "    def __init__(self, n_in_neurons, n_hidden_neurons_1, \n",
    "                 n_hidden_neurons_2, n_out_neurons): \n",
    "        super(Net, self).__init__() \n",
    " \n",
    "        self.fc1 = nn.Linear(n_in_neurons, n_hidden_neurons_1, 50) \n",
    "        self.act1 = nn.ReLU() \n",
    "        self.bn1 = nn.BatchNorm1d(n_hidden_neurons_1)\n",
    " \n",
    "        self.fc2 = nn.Linear(n_hidden_neurons_1, n_hidden_neurons_2) \n",
    "        self.act2 = nn.ReLU()\n",
    "        self.bn2 = nn.BatchNorm1d(n_hidden_neurons_2)\n",
    " \n",
    "        self.fc3 = nn.Linear(n_hidden_neurons_2, n_out_neurons) \n",
    "        self.act3 = nn.ReLU() \n",
    "        #self.dp3 = nn.Dropout(p=0.2)\n",
    " \n",
    "        nn.init.kaiming_uniform_(self.fc1.weight) \n",
    "        nn.init.kaiming_uniform_(self.fc2.weight) #инициализируем функцию активации для нессиметричного распределения\n",
    "        nn.init.kaiming_uniform_(self.fc3.weight) \n",
    " \n",
    " \n",
    "    def forward(self, x): \n",
    "        x = self.fc1(x)\n",
    "        x = self.act1(x)\n",
    "        x = self.bn1(x)\n",
    "        x = self.fc2(x)\n",
    "        x = self.act2(x)\n",
    "        x = self.bn2(x) \n",
    "        x = self.fc3(x) \n",
    "        x = self.act3(x)\n",
    "        #x = self.dp3(x) \n",
    "        return x\n",
    "    \n",
    "    \n",
    "net = Net(n_in_neurons, n_hidden_neurons_1, n_hidden_neurons_2, n_out_neurons)\n",
    "\n",
    "num_epochs = 500 # кол-во эпох обучения сети\n",
    "optimizer = torch.optim.Adam(net.parameters(), lr=0.3) \n",
    "loss = nn.MSELoss()\n",
    "\n",
    "for epoch in range(num_epochs):\n",
    "    optimizer.zero_grad() #обнуляем накопленный градиент\n",
    "    preds = net.forward(X_train) # прямое распространение на обучающих данных\n",
    "    loss_value = loss(preds.flatten(), y_train.flatten()) # вычисление значения функции потерь\n",
    "    loss_value.backward()# вычисление градиентов\n",
    "    optimizer.step()\n",
    "    \n",
    "    if epoch % 10 == 0: #вычислим метрики качества каждую десятую эпоху\n",
    "        net.eval() #переводим модель в режим предсказания\n",
    "        test_preds_b = net(X_test)\n",
    "        mse_value = loss(test_preds_b.flatten(), y_test.flatten())\n",
    "        rmse_value = torch.sqrt(mse_value)\n",
    "        print(\"RMSE:\", rmse_value.item(), \"Эпоха:\", epoch)"
   ]
  },
  {
   "cell_type": "code",
   "execution_count": 54,
   "id": "7247af1e",
   "metadata": {},
   "outputs": [
    {
     "data": {
      "image/png": "[encoded data removed]",
      "text/plain": [
       "<Figure size 1440x720 with 1 Axes>"
      ]
     },
     "metadata": {
      "needs_background": "light"
     },
     "output_type": "display_data"
    }
   ],
   "source": [
    "target = y_test\n",
    "target = target.numpy()\n",
    "target = pd.Series(target)\n",
    "\n",
    "full_predictions = test_preds_b.detach().numpy()\n",
    "\n",
    "preds =  pd.Series([x[0] for x in test_preds])\n",
    "\n",
    "# Вызов функции для построения графика\n",
    "graph2(target, preds)\n",
    "plt.show()"
   ]
  },
  {
   "attachments": {},
   "cell_type": "markdown",
   "id": "7bd3fc34",
   "metadata": {},
   "source": [
    "`Вывод:` Наша базовая модель показала  результат - RMSE 3567, что достигло цели: < 4500 <br>\n",
    "\n",
    "- При попытке улучшения модели, наилучшие результаты были достигнуты при применении batchNorm достигнув 3290 RMSE\n",
    "- Результат не всегда был стабильным, вероятно, ввиду небольшой выборки."
   ]
  },
  {
   "attachments": {},
   "cell_type": "markdown",
   "id": "accurate-infrastructure",
   "metadata": {},
   "source": [
    "## Выводы"
   ]
  },
  {
   "attachments": {},
   "cell_type": "markdown",
   "id": "7b9568fb",
   "metadata": {},
   "source": [
    "`Общий вывод:` в результате проведённой работы были выявлены дубликаты в признаках которые были обработанны и устранены.\n",
    "\n",
    "- также были найденны и удалены лишние призаки дублирующие значение индекса\n",
    "- стоит отметить что что выборка крайне небольшая (240 наблюдений) что не могло не внести свои коррективы в процесс работы нейросети и повлиять на её предсказательную способность.\n",
    "- в результате предобработки данных были удалены ненужные признаки, данные приведены в более структурированный и информативный вид\n",
    "- ИАД выявил что скольно нибудь значимой кореляции с целевым признаком 'Temperature (K)' не прослеживается, за исключением звёзд красного цвета. Это говорит о том, что комбинаторика признаков носит более сложный характер. Простой таблицы корреляций, очевидно, не достаточно для выявления закономерностей, которые помогут нам предсказть температуру звезды. Это говорит о необходимости использования нейросети.\n",
    "- в результате создания и применения базовой нейросети был достигнут показатель RMSE равный 3567 что достигло цели (<4500).\n",
    "- впоследствии, была сделана попытка улучшения модели.\n",
    "- для улучшения модели использовались следущие инструменты: Batch, Dropout и BatchNorm1d.\n",
    "- лучше всего показала себя техника использования BatchNorm1d с помощью которой удалось достигнуть наименьшего показателя RMSE = 3290."
   ]
  }
 ],
 "metadata": {
  "ExecuteTimeLog": [
   {
    "duration": 26332,
    "start_time": "2023-06-19T19:10:39.150Z"
   },
   {
    "duration": 2429,
    "start_time": "2023-06-19T19:11:05.484Z"
   },
   {
    "duration": 0,
    "start_time": "2023-06-19T19:11:07.916Z"
   },
   {
    "duration": 0,
    "start_time": "2023-06-19T19:11:07.917Z"
   },
   {
    "duration": 0,
    "start_time": "2023-06-19T19:11:07.918Z"
   },
   {
    "duration": 0,
    "start_time": "2023-06-19T19:11:07.920Z"
   },
   {
    "duration": 0,
    "start_time": "2023-06-19T19:11:07.921Z"
   },
   {
    "duration": 0,
    "start_time": "2023-06-19T19:11:07.922Z"
   },
   {
    "duration": 0,
    "start_time": "2023-06-19T19:11:07.923Z"
   },
   {
    "duration": 0,
    "start_time": "2023-06-19T19:11:07.924Z"
   },
   {
    "duration": 0,
    "start_time": "2023-06-19T19:11:07.925Z"
   },
   {
    "duration": 0,
    "start_time": "2023-06-19T19:11:07.926Z"
   },
   {
    "duration": 0,
    "start_time": "2023-06-19T19:11:07.927Z"
   },
   {
    "duration": 0,
    "start_time": "2023-06-19T19:11:07.928Z"
   },
   {
    "duration": 0,
    "start_time": "2023-06-19T19:11:07.929Z"
   },
   {
    "duration": 0,
    "start_time": "2023-06-19T19:11:07.952Z"
   },
   {
    "duration": 0,
    "start_time": "2023-06-19T19:11:07.953Z"
   },
   {
    "duration": 0,
    "start_time": "2023-06-19T19:11:07.954Z"
   },
   {
    "duration": 0,
    "start_time": "2023-06-19T19:11:07.955Z"
   },
   {
    "duration": 0,
    "start_time": "2023-06-19T19:11:07.956Z"
   },
   {
    "duration": 0,
    "start_time": "2023-06-19T19:11:07.957Z"
   },
   {
    "duration": 0,
    "start_time": "2023-06-19T19:11:07.958Z"
   },
   {
    "duration": 0,
    "start_time": "2023-06-19T19:11:07.959Z"
   },
   {
    "duration": 0,
    "start_time": "2023-06-19T19:11:07.960Z"
   },
   {
    "duration": 0,
    "start_time": "2023-06-19T19:11:07.961Z"
   },
   {
    "duration": 0,
    "start_time": "2023-06-19T19:11:07.962Z"
   },
   {
    "duration": 0,
    "start_time": "2023-06-19T19:11:07.963Z"
   },
   {
    "duration": 0,
    "start_time": "2023-06-19T19:11:07.963Z"
   },
   {
    "duration": 0,
    "start_time": "2023-06-19T19:11:07.965Z"
   },
   {
    "duration": 0,
    "start_time": "2023-06-19T19:11:07.966Z"
   },
   {
    "duration": 0,
    "start_time": "2023-06-19T19:11:07.967Z"
   },
   {
    "duration": 0,
    "start_time": "2023-06-19T19:11:07.968Z"
   },
   {
    "duration": 0,
    "start_time": "2023-06-19T19:11:07.969Z"
   },
   {
    "duration": 0,
    "start_time": "2023-06-19T19:11:07.970Z"
   },
   {
    "duration": 0,
    "start_time": "2023-06-19T19:11:07.971Z"
   },
   {
    "duration": 0,
    "start_time": "2023-06-19T19:11:07.972Z"
   },
   {
    "duration": 0,
    "start_time": "2023-06-19T19:11:07.972Z"
   },
   {
    "duration": 0,
    "start_time": "2023-06-19T19:11:07.973Z"
   },
   {
    "duration": 0,
    "start_time": "2023-06-19T19:11:07.974Z"
   },
   {
    "duration": 0,
    "start_time": "2023-06-19T19:11:07.975Z"
   },
   {
    "duration": 0,
    "start_time": "2023-06-19T19:11:07.976Z"
   },
   {
    "duration": 0,
    "start_time": "2023-06-19T19:11:07.977Z"
   },
   {
    "duration": 0,
    "start_time": "2023-06-19T19:11:07.978Z"
   },
   {
    "duration": 0,
    "start_time": "2023-06-19T19:11:07.979Z"
   },
   {
    "duration": 0,
    "start_time": "2023-06-19T19:11:07.980Z"
   },
   {
    "duration": 0,
    "start_time": "2023-06-19T19:11:07.981Z"
   },
   {
    "duration": 0,
    "start_time": "2023-06-19T19:11:07.983Z"
   },
   {
    "duration": 0,
    "start_time": "2023-06-19T19:11:07.983Z"
   },
   {
    "duration": 1,
    "start_time": "2023-06-19T19:11:07.984Z"
   },
   {
    "duration": 0,
    "start_time": "2023-06-19T19:11:07.986Z"
   },
   {
    "duration": 0,
    "start_time": "2023-06-19T19:11:07.987Z"
   },
   {
    "duration": 0,
    "start_time": "2023-06-19T19:11:07.988Z"
   },
   {
    "duration": 6409,
    "start_time": "2023-06-19T19:11:54.504Z"
   },
   {
    "duration": 2202,
    "start_time": "2023-06-19T19:12:00.915Z"
   },
   {
    "duration": 180,
    "start_time": "2023-06-19T19:12:03.118Z"
   },
   {
    "duration": 4,
    "start_time": "2023-06-19T19:12:03.300Z"
   },
   {
    "duration": 90,
    "start_time": "2023-06-19T19:12:03.305Z"
   },
   {
    "duration": 87,
    "start_time": "2023-06-19T19:12:03.397Z"
   },
   {
    "duration": 8,
    "start_time": "2023-06-19T19:12:03.485Z"
   },
   {
    "duration": 18,
    "start_time": "2023-06-19T19:12:03.495Z"
   },
   {
    "duration": 50,
    "start_time": "2023-06-19T19:12:03.515Z"
   },
   {
    "duration": 34,
    "start_time": "2023-06-19T19:12:03.568Z"
   },
   {
    "duration": 181,
    "start_time": "2023-06-19T19:12:03.604Z"
   },
   {
    "duration": 0,
    "start_time": "2023-06-19T19:12:03.788Z"
   },
   {
    "duration": 0,
    "start_time": "2023-06-19T19:12:03.789Z"
   },
   {
    "duration": 0,
    "start_time": "2023-06-19T19:12:03.790Z"
   },
   {
    "duration": 0,
    "start_time": "2023-06-19T19:12:03.791Z"
   },
   {
    "duration": 0,
    "start_time": "2023-06-19T19:12:03.792Z"
   },
   {
    "duration": 0,
    "start_time": "2023-06-19T19:12:03.793Z"
   },
   {
    "duration": 0,
    "start_time": "2023-06-19T19:12:03.794Z"
   },
   {
    "duration": 0,
    "start_time": "2023-06-19T19:12:03.795Z"
   },
   {
    "duration": 0,
    "start_time": "2023-06-19T19:12:03.795Z"
   },
   {
    "duration": 0,
    "start_time": "2023-06-19T19:12:03.796Z"
   },
   {
    "duration": 0,
    "start_time": "2023-06-19T19:12:03.798Z"
   },
   {
    "duration": 0,
    "start_time": "2023-06-19T19:12:03.799Z"
   },
   {
    "duration": 0,
    "start_time": "2023-06-19T19:12:03.800Z"
   },
   {
    "duration": 0,
    "start_time": "2023-06-19T19:12:03.801Z"
   },
   {
    "duration": 0,
    "start_time": "2023-06-19T19:12:03.802Z"
   },
   {
    "duration": 0,
    "start_time": "2023-06-19T19:12:03.804Z"
   },
   {
    "duration": 0,
    "start_time": "2023-06-19T19:12:03.805Z"
   },
   {
    "duration": 0,
    "start_time": "2023-06-19T19:12:03.806Z"
   },
   {
    "duration": 0,
    "start_time": "2023-06-19T19:12:03.807Z"
   },
   {
    "duration": 0,
    "start_time": "2023-06-19T19:12:03.808Z"
   },
   {
    "duration": 0,
    "start_time": "2023-06-19T19:12:03.809Z"
   },
   {
    "duration": 0,
    "start_time": "2023-06-19T19:12:03.852Z"
   },
   {
    "duration": 0,
    "start_time": "2023-06-19T19:12:03.853Z"
   },
   {
    "duration": 0,
    "start_time": "2023-06-19T19:12:03.854Z"
   },
   {
    "duration": 0,
    "start_time": "2023-06-19T19:12:03.855Z"
   },
   {
    "duration": 0,
    "start_time": "2023-06-19T19:12:03.856Z"
   },
   {
    "duration": 0,
    "start_time": "2023-06-19T19:12:03.857Z"
   },
   {
    "duration": 0,
    "start_time": "2023-06-19T19:12:03.858Z"
   },
   {
    "duration": 0,
    "start_time": "2023-06-19T19:12:03.859Z"
   },
   {
    "duration": 0,
    "start_time": "2023-06-19T19:12:03.860Z"
   },
   {
    "duration": 0,
    "start_time": "2023-06-19T19:12:03.861Z"
   },
   {
    "duration": 0,
    "start_time": "2023-06-19T19:12:03.863Z"
   },
   {
    "duration": 0,
    "start_time": "2023-06-19T19:12:03.864Z"
   },
   {
    "duration": 0,
    "start_time": "2023-06-19T19:12:03.865Z"
   },
   {
    "duration": 0,
    "start_time": "2023-06-19T19:12:03.866Z"
   },
   {
    "duration": 0,
    "start_time": "2023-06-19T19:12:03.868Z"
   },
   {
    "duration": 0,
    "start_time": "2023-06-19T19:12:03.869Z"
   },
   {
    "duration": 0,
    "start_time": "2023-06-19T19:12:03.870Z"
   },
   {
    "duration": 0,
    "start_time": "2023-06-19T19:12:03.872Z"
   },
   {
    "duration": 0,
    "start_time": "2023-06-19T19:12:03.873Z"
   },
   {
    "duration": 0,
    "start_time": "2023-06-19T19:12:03.874Z"
   },
   {
    "duration": 6816,
    "start_time": "2023-06-19T19:13:45.760Z"
   },
   {
    "duration": 2333,
    "start_time": "2023-06-19T19:13:52.580Z"
   },
   {
    "duration": 74,
    "start_time": "2023-06-19T19:13:54.915Z"
   },
   {
    "duration": 4,
    "start_time": "2023-06-19T19:13:54.992Z"
   },
   {
    "duration": 87,
    "start_time": "2023-06-19T19:13:54.998Z"
   },
   {
    "duration": 68,
    "start_time": "2023-06-19T19:13:55.087Z"
   },
   {
    "duration": 9,
    "start_time": "2023-06-19T19:13:55.157Z"
   },
   {
    "duration": 22,
    "start_time": "2023-06-19T19:13:55.168Z"
   },
   {
    "duration": 29,
    "start_time": "2023-06-19T19:13:55.192Z"
   },
   {
    "duration": 13,
    "start_time": "2023-06-19T19:13:55.255Z"
   },
   {
    "duration": 21,
    "start_time": "2023-06-19T19:13:55.270Z"
   },
   {
    "duration": 163,
    "start_time": "2023-06-19T19:13:55.294Z"
   },
   {
    "duration": 162,
    "start_time": "2023-06-19T19:13:55.459Z"
   },
   {
    "duration": 155,
    "start_time": "2023-06-19T19:13:55.624Z"
   },
   {
    "duration": 19,
    "start_time": "2023-06-19T19:13:55.782Z"
   },
   {
    "duration": 15,
    "start_time": "2023-06-19T19:13:55.803Z"
   },
   {
    "duration": 34,
    "start_time": "2023-06-19T19:13:55.820Z"
   },
   {
    "duration": 8,
    "start_time": "2023-06-19T19:13:55.856Z"
   },
   {
    "duration": 142,
    "start_time": "2023-06-19T19:13:55.866Z"
   },
   {
    "duration": 248,
    "start_time": "2023-06-19T19:13:56.011Z"
   },
   {
    "duration": 131,
    "start_time": "2023-06-19T19:13:56.261Z"
   },
   {
    "duration": 127,
    "start_time": "2023-06-19T19:13:56.394Z"
   },
   {
    "duration": 1680,
    "start_time": "2023-06-19T19:13:56.523Z"
   },
   {
    "duration": 508,
    "start_time": "2023-06-19T19:13:58.205Z"
   },
   {
    "duration": 298,
    "start_time": "2023-06-19T19:13:58.716Z"
   },
   {
    "duration": 277,
    "start_time": "2023-06-19T19:13:59.016Z"
   },
   {
    "duration": 315,
    "start_time": "2023-06-19T19:13:59.295Z"
   },
   {
    "duration": 13,
    "start_time": "2023-06-19T19:13:59.614Z"
   },
   {
    "duration": 1266,
    "start_time": "2023-06-19T19:13:59.629Z"
   },
   {
    "duration": 7,
    "start_time": "2023-06-19T19:14:00.897Z"
   },
   {
    "duration": 29,
    "start_time": "2023-06-19T19:14:00.906Z"
   },
   {
    "duration": 48,
    "start_time": "2023-06-19T19:14:00.938Z"
   },
   {
    "duration": 32,
    "start_time": "2023-06-19T19:14:00.988Z"
   },
   {
    "duration": 27,
    "start_time": "2023-06-19T19:14:01.023Z"
   },
   {
    "duration": 21,
    "start_time": "2023-06-19T19:14:01.053Z"
   },
   {
    "duration": 45,
    "start_time": "2023-06-19T19:14:01.076Z"
   },
   {
    "duration": 2154,
    "start_time": "2023-06-19T19:14:01.123Z"
   },
   {
    "duration": 76,
    "start_time": "2023-06-19T19:14:03.279Z"
   },
   {
    "duration": 12,
    "start_time": "2023-06-19T19:14:03.358Z"
   },
   {
    "duration": 375,
    "start_time": "2023-06-19T19:14:03.372Z"
   },
   {
    "duration": 15063,
    "start_time": "2023-06-19T19:14:03.749Z"
   },
   {
    "duration": 344,
    "start_time": "2023-06-19T19:14:18.814Z"
   },
   {
    "duration": 2321,
    "start_time": "2023-06-19T19:14:19.161Z"
   },
   {
    "duration": 364,
    "start_time": "2023-06-19T19:14:21.484Z"
   },
   {
    "duration": 2032,
    "start_time": "2023-06-19T19:14:21.852Z"
   },
   {
    "duration": 375,
    "start_time": "2023-06-19T19:14:23.887Z"
   },
   {
    "duration": 2799,
    "start_time": "2023-06-19T19:14:24.264Z"
   },
   {
    "duration": 2890,
    "start_time": "2023-06-19T19:14:27.065Z"
   },
   {
    "duration": 2611,
    "start_time": "2023-06-19T19:14:29.958Z"
   },
   {
    "duration": 426,
    "start_time": "2023-06-19T19:14:32.570Z"
   },
   {
    "duration": 3864,
    "start_time": "2023-06-19T19:14:32.999Z"
   },
   {
    "duration": 410,
    "start_time": "2023-06-19T19:14:36.866Z"
   },
   {
    "duration": 17,
    "start_time": "2023-06-19T19:32:27.649Z"
   },
   {
    "duration": 7,
    "start_time": "2023-06-19T19:32:54.616Z"
   },
   {
    "duration": 12,
    "start_time": "2023-06-19T19:33:04.127Z"
   },
   {
    "duration": 1959,
    "start_time": "2023-06-19T19:33:32.226Z"
   },
   {
    "duration": 16,
    "start_time": "2023-06-19T19:33:47.030Z"
   },
   {
    "duration": 7246,
    "start_time": "2023-06-19T19:35:44.705Z"
   },
   {
    "duration": 2423,
    "start_time": "2023-06-19T19:35:51.954Z"
   },
   {
    "duration": 72,
    "start_time": "2023-06-19T19:35:54.383Z"
   },
   {
    "duration": 7,
    "start_time": "2023-06-19T19:35:54.460Z"
   },
   {
    "duration": 102,
    "start_time": "2023-06-19T19:35:54.470Z"
   },
   {
    "duration": 60,
    "start_time": "2023-06-19T19:35:54.578Z"
   },
   {
    "duration": 16,
    "start_time": "2023-06-19T19:35:54.640Z"
   },
   {
    "duration": 14,
    "start_time": "2023-06-19T19:35:54.660Z"
   },
   {
    "duration": 45,
    "start_time": "2023-06-19T19:35:54.676Z"
   },
   {
    "duration": 33,
    "start_time": "2023-06-19T19:35:54.725Z"
   },
   {
    "duration": 27,
    "start_time": "2023-06-19T19:35:54.761Z"
   },
   {
    "duration": 190,
    "start_time": "2023-06-19T19:35:54.790Z"
   },
   {
    "duration": 159,
    "start_time": "2023-06-19T19:35:54.982Z"
   },
   {
    "duration": 115,
    "start_time": "2023-06-19T19:35:55.142Z"
   },
   {
    "duration": 19,
    "start_time": "2023-06-19T19:35:55.260Z"
   },
   {
    "duration": 21,
    "start_time": "2023-06-19T19:35:55.282Z"
   },
   {
    "duration": 22,
    "start_time": "2023-06-19T19:35:55.305Z"
   },
   {
    "duration": 35,
    "start_time": "2023-06-19T19:35:55.333Z"
   },
   {
    "duration": 37,
    "start_time": "2023-06-19T19:35:55.371Z"
   },
   {
    "duration": 129,
    "start_time": "2023-06-19T19:35:55.413Z"
   },
   {
    "duration": 317,
    "start_time": "2023-06-19T19:35:55.544Z"
   },
   {
    "duration": 134,
    "start_time": "2023-06-19T19:35:55.864Z"
   },
   {
    "duration": 122,
    "start_time": "2023-06-19T19:35:56.000Z"
   },
   {
    "duration": 1582,
    "start_time": "2023-06-19T19:35:56.124Z"
   },
   {
    "duration": 425,
    "start_time": "2023-06-19T19:35:57.709Z"
   },
   {
    "duration": 315,
    "start_time": "2023-06-19T19:35:58.137Z"
   },
   {
    "duration": 341,
    "start_time": "2023-06-19T19:35:58.455Z"
   },
   {
    "duration": 280,
    "start_time": "2023-06-19T19:35:58.801Z"
   },
   {
    "duration": 23,
    "start_time": "2023-06-19T19:35:59.083Z"
   },
   {
    "duration": 1475,
    "start_time": "2023-06-19T19:35:59.108Z"
   },
   {
    "duration": 7,
    "start_time": "2023-06-19T19:36:00.586Z"
   },
   {
    "duration": 32,
    "start_time": "2023-06-19T19:36:00.596Z"
   },
   {
    "duration": 99,
    "start_time": "2023-06-19T19:36:00.631Z"
   },
   {
    "duration": 32,
    "start_time": "2023-06-19T19:36:00.732Z"
   },
   {
    "duration": 25,
    "start_time": "2023-06-19T19:36:00.768Z"
   },
   {
    "duration": 21,
    "start_time": "2023-06-19T19:36:00.795Z"
   },
   {
    "duration": 30,
    "start_time": "2023-06-19T19:36:00.818Z"
   },
   {
    "duration": 4710,
    "start_time": "2023-06-19T19:36:00.851Z"
   },
   {
    "duration": 9,
    "start_time": "2023-06-19T19:36:05.564Z"
   },
   {
    "duration": 5,
    "start_time": "2023-06-19T19:36:05.578Z"
   },
   {
    "duration": 407,
    "start_time": "2023-06-19T19:36:05.585Z"
   },
   {
    "duration": 16829,
    "start_time": "2023-06-19T19:36:05.995Z"
   },
   {
    "duration": 381,
    "start_time": "2023-06-19T19:36:22.826Z"
   },
   {
    "duration": 2398,
    "start_time": "2023-06-19T19:36:23.210Z"
   },
   {
    "duration": 369,
    "start_time": "2023-06-19T19:36:25.611Z"
   },
   {
    "duration": 1883,
    "start_time": "2023-06-19T19:36:25.982Z"
   },
   {
    "duration": 401,
    "start_time": "2023-06-19T19:36:27.867Z"
   },
   {
    "duration": 2897,
    "start_time": "2023-06-19T19:36:28.271Z"
   },
   {
    "duration": 2896,
    "start_time": "2023-06-19T19:36:31.171Z"
   },
   {
    "duration": 2482,
    "start_time": "2023-06-19T19:36:34.070Z"
   },
   {
    "duration": 390,
    "start_time": "2023-06-19T19:36:36.554Z"
   },
   {
    "duration": 4015,
    "start_time": "2023-06-19T19:36:36.952Z"
   },
   {
    "duration": 441,
    "start_time": "2023-06-19T19:36:40.969Z"
   },
   {
    "duration": 32661,
    "start_time": "2023-06-19T20:22:25.472Z"
   },
   {
    "duration": 7802,
    "start_time": "2023-06-19T20:22:58.136Z"
   },
   {
    "duration": 0,
    "start_time": "2023-06-19T20:23:05.942Z"
   },
   {
    "duration": 0,
    "start_time": "2023-06-19T20:23:05.943Z"
   },
   {
    "duration": 1,
    "start_time": "2023-06-19T20:23:05.944Z"
   },
   {
    "duration": 0,
    "start_time": "2023-06-19T20:23:05.946Z"
   },
   {
    "duration": 0,
    "start_time": "2023-06-19T20:23:05.947Z"
   },
   {
    "duration": 0,
    "start_time": "2023-06-19T20:23:05.956Z"
   },
   {
    "duration": 0,
    "start_time": "2023-06-19T20:23:05.958Z"
   },
   {
    "duration": 0,
    "start_time": "2023-06-19T20:23:05.959Z"
   },
   {
    "duration": 0,
    "start_time": "2023-06-19T20:23:05.960Z"
   },
   {
    "duration": 0,
    "start_time": "2023-06-19T20:23:05.961Z"
   },
   {
    "duration": 0,
    "start_time": "2023-06-19T20:23:05.966Z"
   },
   {
    "duration": 0,
    "start_time": "2023-06-19T20:23:05.968Z"
   },
   {
    "duration": 0,
    "start_time": "2023-06-19T20:23:05.971Z"
   },
   {
    "duration": 0,
    "start_time": "2023-06-19T20:23:05.972Z"
   },
   {
    "duration": 0,
    "start_time": "2023-06-19T20:23:05.973Z"
   },
   {
    "duration": 0,
    "start_time": "2023-06-19T20:23:05.976Z"
   },
   {
    "duration": 0,
    "start_time": "2023-06-19T20:23:05.977Z"
   },
   {
    "duration": 0,
    "start_time": "2023-06-19T20:23:05.978Z"
   },
   {
    "duration": 0,
    "start_time": "2023-06-19T20:23:05.980Z"
   },
   {
    "duration": 1,
    "start_time": "2023-06-19T20:23:05.981Z"
   },
   {
    "duration": 0,
    "start_time": "2023-06-19T20:23:05.983Z"
   },
   {
    "duration": 0,
    "start_time": "2023-06-19T20:23:05.984Z"
   },
   {
    "duration": 0,
    "start_time": "2023-06-19T20:23:05.986Z"
   },
   {
    "duration": 0,
    "start_time": "2023-06-19T20:23:05.987Z"
   },
   {
    "duration": 0,
    "start_time": "2023-06-19T20:23:05.988Z"
   },
   {
    "duration": 0,
    "start_time": "2023-06-19T20:23:05.989Z"
   },
   {
    "duration": 0,
    "start_time": "2023-06-19T20:23:05.990Z"
   },
   {
    "duration": 0,
    "start_time": "2023-06-19T20:23:05.991Z"
   },
   {
    "duration": 0,
    "start_time": "2023-06-19T20:23:05.996Z"
   },
   {
    "duration": 0,
    "start_time": "2023-06-19T20:23:05.997Z"
   },
   {
    "duration": 0,
    "start_time": "2023-06-19T20:23:05.999Z"
   },
   {
    "duration": 0,
    "start_time": "2023-06-19T20:23:06.000Z"
   },
   {
    "duration": 1,
    "start_time": "2023-06-19T20:23:06.001Z"
   },
   {
    "duration": 0,
    "start_time": "2023-06-19T20:23:06.003Z"
   },
   {
    "duration": 0,
    "start_time": "2023-06-19T20:23:06.004Z"
   },
   {
    "duration": 0,
    "start_time": "2023-06-19T20:23:06.005Z"
   },
   {
    "duration": 0,
    "start_time": "2023-06-19T20:23:06.007Z"
   },
   {
    "duration": 0,
    "start_time": "2023-06-19T20:23:06.008Z"
   },
   {
    "duration": 0,
    "start_time": "2023-06-19T20:23:06.010Z"
   },
   {
    "duration": 0,
    "start_time": "2023-06-19T20:23:06.012Z"
   },
   {
    "duration": 0,
    "start_time": "2023-06-19T20:23:06.013Z"
   },
   {
    "duration": 0,
    "start_time": "2023-06-19T20:23:06.055Z"
   },
   {
    "duration": 0,
    "start_time": "2023-06-19T20:23:06.057Z"
   },
   {
    "duration": 0,
    "start_time": "2023-06-19T20:23:06.058Z"
   },
   {
    "duration": 0,
    "start_time": "2023-06-19T20:23:06.060Z"
   },
   {
    "duration": 0,
    "start_time": "2023-06-19T20:23:06.061Z"
   },
   {
    "duration": 0,
    "start_time": "2023-06-19T20:23:06.063Z"
   },
   {
    "duration": 0,
    "start_time": "2023-06-19T20:23:06.065Z"
   },
   {
    "duration": 0,
    "start_time": "2023-06-19T20:23:06.066Z"
   },
   {
    "duration": 0,
    "start_time": "2023-06-19T20:23:06.068Z"
   },
   {
    "duration": 0,
    "start_time": "2023-06-19T20:23:06.069Z"
   },
   {
    "duration": 8845,
    "start_time": "2023-06-19T20:24:11.144Z"
   },
   {
    "duration": 2839,
    "start_time": "2023-06-19T20:24:19.992Z"
   },
   {
    "duration": 94,
    "start_time": "2023-06-19T20:24:22.833Z"
   },
   {
    "duration": 5,
    "start_time": "2023-06-19T20:24:22.929Z"
   },
   {
    "duration": 101,
    "start_time": "2023-06-19T20:24:22.937Z"
   },
   {
    "duration": 90,
    "start_time": "2023-06-19T20:24:23.040Z"
   },
   {
    "duration": 10,
    "start_time": "2023-06-19T20:24:23.132Z"
   },
   {
    "duration": 23,
    "start_time": "2023-06-19T20:24:23.144Z"
   },
   {
    "duration": 34,
    "start_time": "2023-06-19T20:24:23.169Z"
   },
   {
    "duration": 12,
    "start_time": "2023-06-19T20:24:23.207Z"
   },
   {
    "duration": 49,
    "start_time": "2023-06-19T20:24:23.221Z"
   },
   {
    "duration": 166,
    "start_time": "2023-06-19T20:24:23.272Z"
   },
   {
    "duration": 230,
    "start_time": "2023-06-19T20:24:23.440Z"
   },
   {
    "duration": 117,
    "start_time": "2023-06-19T20:24:23.679Z"
   },
   {
    "duration": 16,
    "start_time": "2023-06-19T20:24:23.799Z"
   },
   {
    "duration": 27,
    "start_time": "2023-06-19T20:24:23.818Z"
   },
   {
    "duration": 17,
    "start_time": "2023-06-19T20:24:23.861Z"
   },
   {
    "duration": 30,
    "start_time": "2023-06-19T20:24:23.882Z"
   },
   {
    "duration": 20,
    "start_time": "2023-06-19T20:24:23.914Z"
   },
   {
    "duration": 167,
    "start_time": "2023-06-19T20:24:23.936Z"
   },
   {
    "duration": 330,
    "start_time": "2023-06-19T20:24:24.106Z"
   },
   {
    "duration": 185,
    "start_time": "2023-06-19T20:24:24.438Z"
   },
   {
    "duration": 186,
    "start_time": "2023-06-19T20:24:24.626Z"
   },
   {
    "duration": 2719,
    "start_time": "2023-06-19T20:24:24.814Z"
   },
   {
    "duration": 383,
    "start_time": "2023-06-19T20:24:27.536Z"
   },
   {
    "duration": 405,
    "start_time": "2023-06-19T20:24:27.922Z"
   },
   {
    "duration": 381,
    "start_time": "2023-06-19T20:24:28.329Z"
   },
   {
    "duration": 363,
    "start_time": "2023-06-19T20:24:28.717Z"
   },
   {
    "duration": 22,
    "start_time": "2023-06-19T20:24:29.088Z"
   },
   {
    "duration": 1489,
    "start_time": "2023-06-19T20:24:29.112Z"
   },
   {
    "duration": 8,
    "start_time": "2023-06-19T20:24:30.603Z"
   },
   {
    "duration": 27,
    "start_time": "2023-06-19T20:24:30.613Z"
   },
   {
    "duration": 35,
    "start_time": "2023-06-19T20:24:30.643Z"
   },
   {
    "duration": 26,
    "start_time": "2023-06-19T20:24:30.686Z"
   },
   {
    "duration": 32,
    "start_time": "2023-06-19T20:24:30.715Z"
   },
   {
    "duration": 36,
    "start_time": "2023-06-19T20:24:30.749Z"
   },
   {
    "duration": 40,
    "start_time": "2023-06-19T20:24:30.788Z"
   },
   {
    "duration": 328,
    "start_time": "2023-06-19T20:24:30.830Z"
   },
   {
    "duration": 0,
    "start_time": "2023-06-19T20:24:31.165Z"
   },
   {
    "duration": 0,
    "start_time": "2023-06-19T20:24:31.166Z"
   },
   {
    "duration": 0,
    "start_time": "2023-06-19T20:24:31.167Z"
   },
   {
    "duration": 0,
    "start_time": "2023-06-19T20:24:31.168Z"
   },
   {
    "duration": 0,
    "start_time": "2023-06-19T20:24:31.169Z"
   },
   {
    "duration": 0,
    "start_time": "2023-06-19T20:24:31.171Z"
   },
   {
    "duration": 0,
    "start_time": "2023-06-19T20:24:31.172Z"
   },
   {
    "duration": 0,
    "start_time": "2023-06-19T20:24:31.173Z"
   },
   {
    "duration": 0,
    "start_time": "2023-06-19T20:24:31.174Z"
   },
   {
    "duration": 0,
    "start_time": "2023-06-19T20:24:31.175Z"
   },
   {
    "duration": 0,
    "start_time": "2023-06-19T20:24:31.177Z"
   },
   {
    "duration": 0,
    "start_time": "2023-06-19T20:24:31.178Z"
   },
   {
    "duration": 0,
    "start_time": "2023-06-19T20:24:31.179Z"
   },
   {
    "duration": 0,
    "start_time": "2023-06-19T20:24:31.181Z"
   },
   {
    "duration": 0,
    "start_time": "2023-06-19T20:24:31.183Z"
   },
   {
    "duration": 31445,
    "start_time": "2023-06-20T10:12:13.113Z"
   },
   {
    "duration": 2677,
    "start_time": "2023-06-20T10:12:44.560Z"
   },
   {
    "duration": 0,
    "start_time": "2023-06-20T10:12:47.244Z"
   },
   {
    "duration": 0,
    "start_time": "2023-06-20T10:12:47.248Z"
   },
   {
    "duration": 0,
    "start_time": "2023-06-20T10:12:47.252Z"
   },
   {
    "duration": 0,
    "start_time": "2023-06-20T10:12:47.255Z"
   },
   {
    "duration": 0,
    "start_time": "2023-06-20T10:12:47.259Z"
   },
   {
    "duration": 0,
    "start_time": "2023-06-20T10:12:47.263Z"
   },
   {
    "duration": 0,
    "start_time": "2023-06-20T10:12:47.267Z"
   },
   {
    "duration": 0,
    "start_time": "2023-06-20T10:12:47.269Z"
   },
   {
    "duration": 0,
    "start_time": "2023-06-20T10:12:47.270Z"
   },
   {
    "duration": 0,
    "start_time": "2023-06-20T10:12:47.271Z"
   },
   {
    "duration": 0,
    "start_time": "2023-06-20T10:12:47.273Z"
   },
   {
    "duration": 0,
    "start_time": "2023-06-20T10:12:47.273Z"
   },
   {
    "duration": 0,
    "start_time": "2023-06-20T10:12:47.274Z"
   },
   {
    "duration": 0,
    "start_time": "2023-06-20T10:12:47.275Z"
   },
   {
    "duration": 1,
    "start_time": "2023-06-20T10:12:47.276Z"
   },
   {
    "duration": 0,
    "start_time": "2023-06-20T10:12:47.278Z"
   },
   {
    "duration": 0,
    "start_time": "2023-06-20T10:12:47.279Z"
   },
   {
    "duration": 0,
    "start_time": "2023-06-20T10:12:47.280Z"
   },
   {
    "duration": 0,
    "start_time": "2023-06-20T10:12:47.281Z"
   },
   {
    "duration": 0,
    "start_time": "2023-06-20T10:12:47.282Z"
   },
   {
    "duration": 0,
    "start_time": "2023-06-20T10:12:47.283Z"
   },
   {
    "duration": 0,
    "start_time": "2023-06-20T10:12:47.284Z"
   },
   {
    "duration": 0,
    "start_time": "2023-06-20T10:12:47.285Z"
   },
   {
    "duration": 0,
    "start_time": "2023-06-20T10:12:47.286Z"
   },
   {
    "duration": 0,
    "start_time": "2023-06-20T10:12:47.287Z"
   },
   {
    "duration": 0,
    "start_time": "2023-06-20T10:12:47.288Z"
   },
   {
    "duration": 0,
    "start_time": "2023-06-20T10:12:47.290Z"
   },
   {
    "duration": 0,
    "start_time": "2023-06-20T10:12:47.330Z"
   },
   {
    "duration": 0,
    "start_time": "2023-06-20T10:12:47.331Z"
   },
   {
    "duration": 0,
    "start_time": "2023-06-20T10:12:47.331Z"
   },
   {
    "duration": 0,
    "start_time": "2023-06-20T10:12:47.332Z"
   },
   {
    "duration": 0,
    "start_time": "2023-06-20T10:12:47.333Z"
   },
   {
    "duration": 0,
    "start_time": "2023-06-20T10:12:47.333Z"
   },
   {
    "duration": 0,
    "start_time": "2023-06-20T10:12:47.334Z"
   },
   {
    "duration": 0,
    "start_time": "2023-06-20T10:12:47.334Z"
   },
   {
    "duration": 0,
    "start_time": "2023-06-20T10:12:47.335Z"
   },
   {
    "duration": 0,
    "start_time": "2023-06-20T10:12:47.336Z"
   },
   {
    "duration": 0,
    "start_time": "2023-06-20T10:12:47.336Z"
   },
   {
    "duration": 0,
    "start_time": "2023-06-20T10:12:47.337Z"
   },
   {
    "duration": 0,
    "start_time": "2023-06-20T10:12:47.341Z"
   },
   {
    "duration": 0,
    "start_time": "2023-06-20T10:12:47.342Z"
   },
   {
    "duration": 0,
    "start_time": "2023-06-20T10:12:47.343Z"
   },
   {
    "duration": 0,
    "start_time": "2023-06-20T10:12:47.344Z"
   },
   {
    "duration": 0,
    "start_time": "2023-06-20T10:12:47.347Z"
   },
   {
    "duration": 0,
    "start_time": "2023-06-20T10:12:47.348Z"
   },
   {
    "duration": 0,
    "start_time": "2023-06-20T10:12:47.349Z"
   },
   {
    "duration": 0,
    "start_time": "2023-06-20T10:12:47.350Z"
   },
   {
    "duration": 0,
    "start_time": "2023-06-20T10:12:47.351Z"
   },
   {
    "duration": 0,
    "start_time": "2023-06-20T10:12:47.352Z"
   },
   {
    "duration": 0,
    "start_time": "2023-06-20T10:12:47.353Z"
   },
   {
    "duration": 0,
    "start_time": "2023-06-20T10:12:47.354Z"
   },
   {
    "duration": 4,
    "start_time": "2023-06-20T10:13:18.947Z"
   },
   {
    "duration": 2250,
    "start_time": "2023-06-20T10:13:18.953Z"
   },
   {
    "duration": 168,
    "start_time": "2023-06-20T10:13:21.205Z"
   },
   {
    "duration": 4,
    "start_time": "2023-06-20T10:13:21.374Z"
   },
   {
    "duration": 80,
    "start_time": "2023-06-20T10:13:21.379Z"
   },
   {
    "duration": 47,
    "start_time": "2023-06-20T10:13:21.460Z"
   },
   {
    "duration": 33,
    "start_time": "2023-06-20T10:13:21.508Z"
   },
   {
    "duration": 21,
    "start_time": "2023-06-20T10:13:21.550Z"
   },
   {
    "duration": 31,
    "start_time": "2023-06-20T10:13:21.573Z"
   },
   {
    "duration": 60,
    "start_time": "2023-06-20T10:13:21.605Z"
   },
   {
    "duration": 29,
    "start_time": "2023-06-20T10:13:21.667Z"
   },
   {
    "duration": 109,
    "start_time": "2023-06-20T10:13:21.698Z"
   },
   {
    "duration": 143,
    "start_time": "2023-06-20T10:13:21.809Z"
   },
   {
    "duration": 55,
    "start_time": "2023-06-20T10:13:21.954Z"
   },
   {
    "duration": 39,
    "start_time": "2023-06-20T10:13:22.010Z"
   },
   {
    "duration": 14,
    "start_time": "2023-06-20T10:13:22.052Z"
   },
   {
    "duration": 21,
    "start_time": "2023-06-20T10:13:22.068Z"
   },
   {
    "duration": 12,
    "start_time": "2023-06-20T10:13:22.091Z"
   },
   {
    "duration": 7,
    "start_time": "2023-06-20T10:13:22.105Z"
   },
   {
    "duration": 132,
    "start_time": "2023-06-20T10:13:22.113Z"
   },
   {
    "duration": 118,
    "start_time": "2023-06-20T10:13:22.247Z"
   },
   {
    "duration": 189,
    "start_time": "2023-06-20T10:13:22.368Z"
   },
   {
    "duration": 106,
    "start_time": "2023-06-20T10:13:22.559Z"
   },
   {
    "duration": 1387,
    "start_time": "2023-06-20T10:13:22.666Z"
   },
   {
    "duration": 223,
    "start_time": "2023-06-20T10:13:24.055Z"
   },
   {
    "duration": 402,
    "start_time": "2023-06-20T10:13:24.280Z"
   },
   {
    "duration": 255,
    "start_time": "2023-06-20T10:13:24.684Z"
   },
   {
    "duration": 232,
    "start_time": "2023-06-20T10:13:24.943Z"
   },
   {
    "duration": 11,
    "start_time": "2023-06-20T10:13:25.179Z"
   },
   {
    "duration": 1203,
    "start_time": "2023-06-20T10:13:25.192Z"
   },
   {
    "duration": 6,
    "start_time": "2023-06-20T10:13:26.396Z"
   },
   {
    "duration": 57,
    "start_time": "2023-06-20T10:13:26.403Z"
   },
   {
    "duration": 31,
    "start_time": "2023-06-20T10:13:26.462Z"
   },
   {
    "duration": 35,
    "start_time": "2023-06-20T10:13:26.495Z"
   },
   {
    "duration": 43,
    "start_time": "2023-06-20T10:13:26.533Z"
   },
   {
    "duration": 32,
    "start_time": "2023-06-20T10:13:26.578Z"
   },
   {
    "duration": 59,
    "start_time": "2023-06-20T10:13:26.612Z"
   },
   {
    "duration": 272,
    "start_time": "2023-06-20T10:13:26.673Z"
   },
   {
    "duration": 0,
    "start_time": "2023-06-20T10:13:26.954Z"
   },
   {
    "duration": 0,
    "start_time": "2023-06-20T10:13:26.956Z"
   },
   {
    "duration": 0,
    "start_time": "2023-06-20T10:13:26.957Z"
   },
   {
    "duration": 0,
    "start_time": "2023-06-20T10:13:26.958Z"
   },
   {
    "duration": 0,
    "start_time": "2023-06-20T10:13:26.959Z"
   },
   {
    "duration": 0,
    "start_time": "2023-06-20T10:13:26.960Z"
   },
   {
    "duration": 0,
    "start_time": "2023-06-20T10:13:26.961Z"
   },
   {
    "duration": 0,
    "start_time": "2023-06-20T10:13:26.962Z"
   },
   {
    "duration": 0,
    "start_time": "2023-06-20T10:13:26.962Z"
   },
   {
    "duration": 0,
    "start_time": "2023-06-20T10:13:26.963Z"
   },
   {
    "duration": 0,
    "start_time": "2023-06-20T10:13:26.964Z"
   },
   {
    "duration": 0,
    "start_time": "2023-06-20T10:13:26.965Z"
   },
   {
    "duration": 0,
    "start_time": "2023-06-20T10:13:26.966Z"
   },
   {
    "duration": 0,
    "start_time": "2023-06-20T10:13:26.967Z"
   },
   {
    "duration": 0,
    "start_time": "2023-06-20T10:13:26.968Z"
   },
   {
    "duration": 6,
    "start_time": "2023-06-20T10:16:04.387Z"
   },
   {
    "duration": 4,
    "start_time": "2023-06-20T10:16:08.166Z"
   },
   {
    "duration": 5,
    "start_time": "2023-06-20T10:16:13.572Z"
   },
   {
    "duration": 30,
    "start_time": "2023-06-20T10:17:05.642Z"
   },
   {
    "duration": 4,
    "start_time": "2023-06-20T10:20:24.257Z"
   },
   {
    "duration": 2297,
    "start_time": "2023-06-20T10:20:24.265Z"
   },
   {
    "duration": 97,
    "start_time": "2023-06-20T10:20:26.564Z"
   },
   {
    "duration": 4,
    "start_time": "2023-06-20T10:20:26.662Z"
   },
   {
    "duration": 104,
    "start_time": "2023-06-20T10:20:26.668Z"
   },
   {
    "duration": 88,
    "start_time": "2023-06-20T10:20:26.774Z"
   },
   {
    "duration": 6,
    "start_time": "2023-06-20T10:20:26.864Z"
   },
   {
    "duration": 23,
    "start_time": "2023-06-20T10:20:26.872Z"
   },
   {
    "duration": 48,
    "start_time": "2023-06-20T10:20:26.896Z"
   },
   {
    "duration": 42,
    "start_time": "2023-06-20T10:20:26.946Z"
   },
   {
    "duration": 50,
    "start_time": "2023-06-20T10:20:26.990Z"
   },
   {
    "duration": 126,
    "start_time": "2023-06-20T10:20:27.042Z"
   },
   {
    "duration": 179,
    "start_time": "2023-06-20T10:20:27.171Z"
   },
   {
    "duration": 56,
    "start_time": "2023-06-20T10:20:27.355Z"
   },
   {
    "duration": 38,
    "start_time": "2023-06-20T10:20:27.412Z"
   },
   {
    "duration": 19,
    "start_time": "2023-06-20T10:20:27.452Z"
   },
   {
    "duration": 27,
    "start_time": "2023-06-20T10:20:27.472Z"
   },
   {
    "duration": 69,
    "start_time": "2023-06-20T10:20:27.500Z"
   },
   {
    "duration": 26,
    "start_time": "2023-06-20T10:20:27.571Z"
   },
   {
    "duration": 160,
    "start_time": "2023-06-20T10:20:27.598Z"
   },
   {
    "duration": 120,
    "start_time": "2023-06-20T10:20:27.759Z"
   },
   {
    "duration": 186,
    "start_time": "2023-06-20T10:20:27.881Z"
   },
   {
    "duration": 126,
    "start_time": "2023-06-20T10:20:28.069Z"
   },
   {
    "duration": 1360,
    "start_time": "2023-06-20T10:20:28.197Z"
   },
   {
    "duration": 221,
    "start_time": "2023-06-20T10:20:29.559Z"
   },
   {
    "duration": 365,
    "start_time": "2023-06-20T10:20:29.782Z"
   },
   {
    "duration": 217,
    "start_time": "2023-06-20T10:20:30.149Z"
   },
   {
    "duration": 291,
    "start_time": "2023-06-20T10:20:30.367Z"
   },
   {
    "duration": 19,
    "start_time": "2023-06-20T10:20:30.662Z"
   },
   {
    "duration": 1292,
    "start_time": "2023-06-20T10:20:30.683Z"
   },
   {
    "duration": 5,
    "start_time": "2023-06-20T10:20:31.977Z"
   },
   {
    "duration": 25,
    "start_time": "2023-06-20T10:20:31.985Z"
   },
   {
    "duration": 61,
    "start_time": "2023-06-20T10:20:32.012Z"
   },
   {
    "duration": 33,
    "start_time": "2023-06-20T10:20:32.075Z"
   },
   {
    "duration": 46,
    "start_time": "2023-06-20T10:20:32.110Z"
   },
   {
    "duration": 37,
    "start_time": "2023-06-20T10:20:32.158Z"
   },
   {
    "duration": 83,
    "start_time": "2023-06-20T10:20:32.196Z"
   },
   {
    "duration": 9052,
    "start_time": "2023-06-20T10:20:32.281Z"
   },
   {
    "duration": 13,
    "start_time": "2023-06-20T10:20:41.336Z"
   },
   {
    "duration": 20,
    "start_time": "2023-06-20T10:20:41.355Z"
   },
   {
    "duration": 351,
    "start_time": "2023-06-20T10:20:41.378Z"
   },
   {
    "duration": 250,
    "start_time": "2023-06-20T10:20:41.749Z"
   },
   {
    "duration": 0,
    "start_time": "2023-06-20T10:20:42.000Z"
   },
   {
    "duration": 0,
    "start_time": "2023-06-20T10:20:42.001Z"
   },
   {
    "duration": 0,
    "start_time": "2023-06-20T10:20:42.003Z"
   },
   {
    "duration": 0,
    "start_time": "2023-06-20T10:20:42.004Z"
   },
   {
    "duration": 0,
    "start_time": "2023-06-20T10:20:42.009Z"
   },
   {
    "duration": 0,
    "start_time": "2023-06-20T10:20:42.010Z"
   },
   {
    "duration": 0,
    "start_time": "2023-06-20T10:20:42.046Z"
   },
   {
    "duration": 0,
    "start_time": "2023-06-20T10:20:42.046Z"
   },
   {
    "duration": 0,
    "start_time": "2023-06-20T10:20:42.047Z"
   },
   {
    "duration": 0,
    "start_time": "2023-06-20T10:20:42.047Z"
   },
   {
    "duration": 0,
    "start_time": "2023-06-20T10:20:42.048Z"
   },
   {
    "duration": 12129,
    "start_time": "2023-06-20T10:21:05.664Z"
   },
   {
    "duration": 5,
    "start_time": "2023-06-20T10:23:53.541Z"
   },
   {
    "duration": 2085,
    "start_time": "2023-06-20T10:23:53.548Z"
   },
   {
    "duration": 124,
    "start_time": "2023-06-20T10:23:55.635Z"
   },
   {
    "duration": 6,
    "start_time": "2023-06-20T10:23:55.763Z"
   },
   {
    "duration": 98,
    "start_time": "2023-06-20T10:23:55.771Z"
   },
   {
    "duration": 78,
    "start_time": "2023-06-20T10:23:55.872Z"
   },
   {
    "duration": 8,
    "start_time": "2023-06-20T10:23:55.953Z"
   },
   {
    "duration": 17,
    "start_time": "2023-06-20T10:23:55.963Z"
   },
   {
    "duration": 27,
    "start_time": "2023-06-20T10:23:55.982Z"
   },
   {
    "duration": 41,
    "start_time": "2023-06-20T10:23:56.011Z"
   },
   {
    "duration": 20,
    "start_time": "2023-06-20T10:23:56.055Z"
   },
   {
    "duration": 115,
    "start_time": "2023-06-20T10:23:56.077Z"
   },
   {
    "duration": 146,
    "start_time": "2023-06-20T10:23:56.194Z"
   },
   {
    "duration": 61,
    "start_time": "2023-06-20T10:23:56.341Z"
   },
   {
    "duration": 449,
    "start_time": "2023-06-20T10:23:56.403Z"
   },
   {
    "duration": 102,
    "start_time": "2023-06-20T10:23:56.854Z"
   },
   {
    "duration": 52,
    "start_time": "2023-06-20T10:23:56.958Z"
   },
   {
    "duration": 44,
    "start_time": "2023-06-20T10:23:57.012Z"
   },
   {
    "duration": 134,
    "start_time": "2023-06-20T10:23:57.058Z"
   },
   {
    "duration": 160,
    "start_time": "2023-06-20T10:23:57.194Z"
   },
   {
    "duration": 116,
    "start_time": "2023-06-20T10:23:57.356Z"
   },
   {
    "duration": 309,
    "start_time": "2023-06-20T10:23:57.473Z"
   },
   {
    "duration": 100,
    "start_time": "2023-06-20T10:23:57.783Z"
   },
   {
    "duration": 1393,
    "start_time": "2023-06-20T10:23:57.884Z"
   },
   {
    "duration": 254,
    "start_time": "2023-06-20T10:23:59.279Z"
   },
   {
    "duration": 346,
    "start_time": "2023-06-20T10:23:59.542Z"
   },
   {
    "duration": 247,
    "start_time": "2023-06-20T10:23:59.890Z"
   },
   {
    "duration": 229,
    "start_time": "2023-06-20T10:24:00.139Z"
   },
   {
    "duration": 11,
    "start_time": "2023-06-20T10:24:00.373Z"
   },
   {
    "duration": 1181,
    "start_time": "2023-06-20T10:24:00.386Z"
   },
   {
    "duration": 7,
    "start_time": "2023-06-20T10:24:01.568Z"
   },
   {
    "duration": 27,
    "start_time": "2023-06-20T10:24:01.576Z"
   },
   {
    "duration": 93,
    "start_time": "2023-06-20T10:24:01.605Z"
   },
   {
    "duration": 560,
    "start_time": "2023-06-20T10:24:01.701Z"
   },
   {
    "duration": 753,
    "start_time": "2023-06-20T10:24:02.263Z"
   },
   {
    "duration": 269,
    "start_time": "2023-06-20T10:24:03.019Z"
   },
   {
    "duration": 28,
    "start_time": "2023-06-20T10:24:03.290Z"
   },
   {
    "duration": 248,
    "start_time": "2023-06-20T10:24:03.319Z"
   },
   {
    "duration": 1,
    "start_time": "2023-06-20T10:24:03.568Z"
   },
   {
    "duration": 0,
    "start_time": "2023-06-20T10:24:03.569Z"
   },
   {
    "duration": 0,
    "start_time": "2023-06-20T10:24:03.570Z"
   },
   {
    "duration": 0,
    "start_time": "2023-06-20T10:24:03.571Z"
   },
   {
    "duration": 0,
    "start_time": "2023-06-20T10:24:03.572Z"
   },
   {
    "duration": 0,
    "start_time": "2023-06-20T10:24:03.573Z"
   },
   {
    "duration": 0,
    "start_time": "2023-06-20T10:24:03.573Z"
   },
   {
    "duration": 0,
    "start_time": "2023-06-20T10:24:03.575Z"
   },
   {
    "duration": 0,
    "start_time": "2023-06-20T10:24:03.576Z"
   },
   {
    "duration": 0,
    "start_time": "2023-06-20T10:24:03.577Z"
   },
   {
    "duration": 0,
    "start_time": "2023-06-20T10:24:03.577Z"
   },
   {
    "duration": 0,
    "start_time": "2023-06-20T10:24:03.578Z"
   },
   {
    "duration": 0,
    "start_time": "2023-06-20T10:24:03.579Z"
   },
   {
    "duration": 0,
    "start_time": "2023-06-20T10:24:03.580Z"
   },
   {
    "duration": 0,
    "start_time": "2023-06-20T10:24:03.581Z"
   },
   {
    "duration": 4,
    "start_time": "2023-06-20T13:37:36.341Z"
   },
   {
    "duration": 2554,
    "start_time": "2023-06-20T13:37:36.347Z"
   },
   {
    "duration": 0,
    "start_time": "2023-06-20T13:37:38.905Z"
   },
   {
    "duration": 0,
    "start_time": "2023-06-20T13:37:38.906Z"
   },
   {
    "duration": 0,
    "start_time": "2023-06-20T13:37:38.907Z"
   },
   {
    "duration": 0,
    "start_time": "2023-06-20T13:37:38.908Z"
   },
   {
    "duration": 0,
    "start_time": "2023-06-20T13:37:38.910Z"
   },
   {
    "duration": 0,
    "start_time": "2023-06-20T13:37:38.912Z"
   },
   {
    "duration": 0,
    "start_time": "2023-06-20T13:37:38.913Z"
   },
   {
    "duration": 0,
    "start_time": "2023-06-20T13:37:38.915Z"
   },
   {
    "duration": 1,
    "start_time": "2023-06-20T13:37:38.916Z"
   },
   {
    "duration": 0,
    "start_time": "2023-06-20T13:37:38.918Z"
   },
   {
    "duration": 0,
    "start_time": "2023-06-20T13:37:38.920Z"
   },
   {
    "duration": 0,
    "start_time": "2023-06-20T13:37:38.921Z"
   },
   {
    "duration": 0,
    "start_time": "2023-06-20T13:37:38.953Z"
   },
   {
    "duration": 0,
    "start_time": "2023-06-20T13:37:38.955Z"
   },
   {
    "duration": 0,
    "start_time": "2023-06-20T13:37:38.956Z"
   },
   {
    "duration": 0,
    "start_time": "2023-06-20T13:37:38.958Z"
   },
   {
    "duration": 0,
    "start_time": "2023-06-20T13:37:38.959Z"
   },
   {
    "duration": 0,
    "start_time": "2023-06-20T13:37:38.961Z"
   },
   {
    "duration": 0,
    "start_time": "2023-06-20T13:37:38.962Z"
   },
   {
    "duration": 0,
    "start_time": "2023-06-20T13:37:38.964Z"
   },
   {
    "duration": 0,
    "start_time": "2023-06-20T13:37:38.965Z"
   },
   {
    "duration": 0,
    "start_time": "2023-06-20T13:37:38.966Z"
   },
   {
    "duration": 0,
    "start_time": "2023-06-20T13:37:38.968Z"
   },
   {
    "duration": 0,
    "start_time": "2023-06-20T13:37:38.969Z"
   },
   {
    "duration": 0,
    "start_time": "2023-06-20T13:37:38.971Z"
   },
   {
    "duration": 0,
    "start_time": "2023-06-20T13:37:38.972Z"
   },
   {
    "duration": 0,
    "start_time": "2023-06-20T13:37:38.973Z"
   },
   {
    "duration": 0,
    "start_time": "2023-06-20T13:37:38.975Z"
   },
   {
    "duration": 0,
    "start_time": "2023-06-20T13:37:38.976Z"
   },
   {
    "duration": 0,
    "start_time": "2023-06-20T13:37:38.978Z"
   },
   {
    "duration": 0,
    "start_time": "2023-06-20T13:37:38.979Z"
   },
   {
    "duration": 0,
    "start_time": "2023-06-20T13:37:38.980Z"
   },
   {
    "duration": 0,
    "start_time": "2023-06-20T13:37:38.981Z"
   },
   {
    "duration": 0,
    "start_time": "2023-06-20T13:37:38.983Z"
   },
   {
    "duration": 0,
    "start_time": "2023-06-20T13:37:38.984Z"
   },
   {
    "duration": 0,
    "start_time": "2023-06-20T13:37:38.985Z"
   },
   {
    "duration": 0,
    "start_time": "2023-06-20T13:37:38.986Z"
   },
   {
    "duration": 0,
    "start_time": "2023-06-20T13:37:38.986Z"
   },
   {
    "duration": 0,
    "start_time": "2023-06-20T13:37:38.987Z"
   },
   {
    "duration": 0,
    "start_time": "2023-06-20T13:37:38.988Z"
   },
   {
    "duration": 0,
    "start_time": "2023-06-20T13:37:38.990Z"
   },
   {
    "duration": 0,
    "start_time": "2023-06-20T13:37:38.992Z"
   },
   {
    "duration": 0,
    "start_time": "2023-06-20T13:37:39.053Z"
   },
   {
    "duration": 0,
    "start_time": "2023-06-20T13:37:39.059Z"
   },
   {
    "duration": 0,
    "start_time": "2023-06-20T13:37:39.060Z"
   },
   {
    "duration": 0,
    "start_time": "2023-06-20T13:37:39.063Z"
   },
   {
    "duration": 0,
    "start_time": "2023-06-20T13:37:39.064Z"
   },
   {
    "duration": 0,
    "start_time": "2023-06-20T13:37:39.066Z"
   },
   {
    "duration": 0,
    "start_time": "2023-06-20T13:37:39.068Z"
   },
   {
    "duration": 0,
    "start_time": "2023-06-20T13:37:39.069Z"
   },
   {
    "duration": 0,
    "start_time": "2023-06-20T13:37:39.071Z"
   },
   {
    "duration": 2,
    "start_time": "2023-06-20T13:37:57.719Z"
   },
   {
    "duration": 35,
    "start_time": "2023-06-20T13:37:57.724Z"
   },
   {
    "duration": 0,
    "start_time": "2023-06-20T13:37:57.761Z"
   },
   {
    "duration": 0,
    "start_time": "2023-06-20T13:37:57.763Z"
   },
   {
    "duration": 0,
    "start_time": "2023-06-20T13:37:57.765Z"
   },
   {
    "duration": 0,
    "start_time": "2023-06-20T13:37:57.766Z"
   },
   {
    "duration": 0,
    "start_time": "2023-06-20T13:37:57.768Z"
   },
   {
    "duration": 0,
    "start_time": "2023-06-20T13:37:57.769Z"
   },
   {
    "duration": 0,
    "start_time": "2023-06-20T13:37:57.771Z"
   },
   {
    "duration": 0,
    "start_time": "2023-06-20T13:37:57.772Z"
   },
   {
    "duration": 0,
    "start_time": "2023-06-20T13:37:57.774Z"
   },
   {
    "duration": 0,
    "start_time": "2023-06-20T13:37:57.775Z"
   },
   {
    "duration": 16,
    "start_time": "2023-06-20T13:37:57.778Z"
   },
   {
    "duration": 0,
    "start_time": "2023-06-20T13:37:57.797Z"
   },
   {
    "duration": 0,
    "start_time": "2023-06-20T13:37:57.799Z"
   },
   {
    "duration": 0,
    "start_time": "2023-06-20T13:37:57.800Z"
   },
   {
    "duration": 0,
    "start_time": "2023-06-20T13:37:57.801Z"
   },
   {
    "duration": 0,
    "start_time": "2023-06-20T13:37:57.802Z"
   },
   {
    "duration": 4,
    "start_time": "2023-06-20T13:37:57.855Z"
   },
   {
    "duration": 47,
    "start_time": "2023-06-20T13:37:57.861Z"
   },
   {
    "duration": 0,
    "start_time": "2023-06-20T13:37:57.911Z"
   },
   {
    "duration": 0,
    "start_time": "2023-06-20T13:37:57.913Z"
   },
   {
    "duration": 0,
    "start_time": "2023-06-20T13:37:57.914Z"
   },
   {
    "duration": 0,
    "start_time": "2023-06-20T13:37:57.916Z"
   },
   {
    "duration": 0,
    "start_time": "2023-06-20T13:37:57.917Z"
   },
   {
    "duration": 0,
    "start_time": "2023-06-20T13:37:57.918Z"
   },
   {
    "duration": 0,
    "start_time": "2023-06-20T13:37:57.919Z"
   },
   {
    "duration": 0,
    "start_time": "2023-06-20T13:37:57.921Z"
   },
   {
    "duration": 0,
    "start_time": "2023-06-20T13:37:57.922Z"
   },
   {
    "duration": 0,
    "start_time": "2023-06-20T13:37:57.924Z"
   },
   {
    "duration": 0,
    "start_time": "2023-06-20T13:37:57.954Z"
   },
   {
    "duration": 0,
    "start_time": "2023-06-20T13:37:57.956Z"
   },
   {
    "duration": 0,
    "start_time": "2023-06-20T13:37:57.958Z"
   },
   {
    "duration": 0,
    "start_time": "2023-06-20T13:37:57.959Z"
   },
   {
    "duration": 0,
    "start_time": "2023-06-20T13:37:57.961Z"
   },
   {
    "duration": 0,
    "start_time": "2023-06-20T13:37:57.963Z"
   },
   {
    "duration": 0,
    "start_time": "2023-06-20T13:37:57.965Z"
   },
   {
    "duration": 0,
    "start_time": "2023-06-20T13:37:57.967Z"
   },
   {
    "duration": 0,
    "start_time": "2023-06-20T13:37:57.968Z"
   },
   {
    "duration": 0,
    "start_time": "2023-06-20T13:37:57.969Z"
   },
   {
    "duration": 0,
    "start_time": "2023-06-20T13:37:57.970Z"
   },
   {
    "duration": 0,
    "start_time": "2023-06-20T13:37:57.971Z"
   },
   {
    "duration": 0,
    "start_time": "2023-06-20T13:37:57.972Z"
   },
   {
    "duration": 0,
    "start_time": "2023-06-20T13:37:57.975Z"
   },
   {
    "duration": 0,
    "start_time": "2023-06-20T13:37:57.976Z"
   },
   {
    "duration": 0,
    "start_time": "2023-06-20T13:37:57.977Z"
   },
   {
    "duration": 0,
    "start_time": "2023-06-20T13:37:57.978Z"
   },
   {
    "duration": 0,
    "start_time": "2023-06-20T13:37:57.979Z"
   },
   {
    "duration": 0,
    "start_time": "2023-06-20T13:37:57.979Z"
   },
   {
    "duration": 0,
    "start_time": "2023-06-20T13:37:57.980Z"
   },
   {
    "duration": 0,
    "start_time": "2023-06-20T13:37:57.984Z"
   },
   {
    "duration": 0,
    "start_time": "2023-06-20T13:37:57.985Z"
   },
   {
    "duration": 0,
    "start_time": "2023-06-20T13:37:57.986Z"
   },
   {
    "duration": 5,
    "start_time": "2023-06-20T13:38:12.549Z"
   },
   {
    "duration": 34,
    "start_time": "2023-06-20T13:38:12.556Z"
   },
   {
    "duration": 0,
    "start_time": "2023-06-20T13:38:12.593Z"
   },
   {
    "duration": 0,
    "start_time": "2023-06-20T13:38:12.594Z"
   },
   {
    "duration": 0,
    "start_time": "2023-06-20T13:38:12.596Z"
   },
   {
    "duration": 0,
    "start_time": "2023-06-20T13:38:12.597Z"
   },
   {
    "duration": 0,
    "start_time": "2023-06-20T13:38:12.599Z"
   },
   {
    "duration": 0,
    "start_time": "2023-06-20T13:38:12.601Z"
   },
   {
    "duration": 19,
    "start_time": "2023-06-20T13:38:12.610Z"
   },
   {
    "duration": 0,
    "start_time": "2023-06-20T13:38:12.654Z"
   },
   {
    "duration": 0,
    "start_time": "2023-06-20T13:38:12.655Z"
   },
   {
    "duration": 0,
    "start_time": "2023-06-20T13:38:12.657Z"
   },
   {
    "duration": 0,
    "start_time": "2023-06-20T13:38:12.659Z"
   },
   {
    "duration": 0,
    "start_time": "2023-06-20T13:38:12.660Z"
   },
   {
    "duration": 0,
    "start_time": "2023-06-20T13:38:12.661Z"
   },
   {
    "duration": 0,
    "start_time": "2023-06-20T13:38:12.662Z"
   },
   {
    "duration": 0,
    "start_time": "2023-06-20T13:38:12.663Z"
   },
   {
    "duration": 0,
    "start_time": "2023-06-20T13:38:12.664Z"
   },
   {
    "duration": 0,
    "start_time": "2023-06-20T13:38:12.665Z"
   },
   {
    "duration": 0,
    "start_time": "2023-06-20T13:38:12.665Z"
   },
   {
    "duration": 0,
    "start_time": "2023-06-20T13:38:12.666Z"
   },
   {
    "duration": 0,
    "start_time": "2023-06-20T13:38:12.667Z"
   },
   {
    "duration": 0,
    "start_time": "2023-06-20T13:38:12.669Z"
   },
   {
    "duration": 0,
    "start_time": "2023-06-20T13:38:12.670Z"
   },
   {
    "duration": 0,
    "start_time": "2023-06-20T13:38:12.672Z"
   },
   {
    "duration": 91,
    "start_time": "2023-06-20T13:38:12.675Z"
   },
   {
    "duration": 0,
    "start_time": "2023-06-20T13:38:12.769Z"
   },
   {
    "duration": 0,
    "start_time": "2023-06-20T13:38:12.771Z"
   },
   {
    "duration": 0,
    "start_time": "2023-06-20T13:38:12.773Z"
   },
   {
    "duration": 0,
    "start_time": "2023-06-20T13:38:12.775Z"
   },
   {
    "duration": 0,
    "start_time": "2023-06-20T13:38:12.777Z"
   },
   {
    "duration": 0,
    "start_time": "2023-06-20T13:38:12.778Z"
   },
   {
    "duration": 0,
    "start_time": "2023-06-20T13:38:12.780Z"
   },
   {
    "duration": 0,
    "start_time": "2023-06-20T13:38:12.781Z"
   },
   {
    "duration": 0,
    "start_time": "2023-06-20T13:38:12.782Z"
   },
   {
    "duration": 0,
    "start_time": "2023-06-20T13:38:12.783Z"
   },
   {
    "duration": 0,
    "start_time": "2023-06-20T13:38:12.785Z"
   },
   {
    "duration": 0,
    "start_time": "2023-06-20T13:38:12.786Z"
   },
   {
    "duration": 0,
    "start_time": "2023-06-20T13:38:12.788Z"
   },
   {
    "duration": 0,
    "start_time": "2023-06-20T13:38:12.789Z"
   },
   {
    "duration": 0,
    "start_time": "2023-06-20T13:38:12.790Z"
   },
   {
    "duration": 0,
    "start_time": "2023-06-20T13:38:12.791Z"
   },
   {
    "duration": 0,
    "start_time": "2023-06-20T13:38:12.792Z"
   },
   {
    "duration": 0,
    "start_time": "2023-06-20T13:38:12.794Z"
   },
   {
    "duration": 0,
    "start_time": "2023-06-20T13:38:12.796Z"
   },
   {
    "duration": 0,
    "start_time": "2023-06-20T13:38:12.797Z"
   },
   {
    "duration": 0,
    "start_time": "2023-06-20T13:38:12.799Z"
   },
   {
    "duration": 0,
    "start_time": "2023-06-20T13:38:12.800Z"
   },
   {
    "duration": 0,
    "start_time": "2023-06-20T13:38:12.802Z"
   },
   {
    "duration": 0,
    "start_time": "2023-06-20T13:38:12.855Z"
   },
   {
    "duration": 0,
    "start_time": "2023-06-20T13:38:12.856Z"
   },
   {
    "duration": 1,
    "start_time": "2023-06-20T13:38:12.857Z"
   },
   {
    "duration": 0,
    "start_time": "2023-06-20T13:38:12.859Z"
   },
   {
    "duration": 3,
    "start_time": "2023-06-20T13:38:39.293Z"
   },
   {
    "duration": 16,
    "start_time": "2023-06-20T13:38:41.602Z"
   },
   {
    "duration": 4,
    "start_time": "2023-06-20T13:38:50.309Z"
   },
   {
    "duration": 2384,
    "start_time": "2023-06-20T13:38:50.315Z"
   },
   {
    "duration": 0,
    "start_time": "2023-06-20T13:38:52.703Z"
   },
   {
    "duration": 0,
    "start_time": "2023-06-20T13:38:52.704Z"
   },
   {
    "duration": 0,
    "start_time": "2023-06-20T13:38:52.706Z"
   },
   {
    "duration": 0,
    "start_time": "2023-06-20T13:38:52.709Z"
   },
   {
    "duration": 0,
    "start_time": "2023-06-20T13:38:52.711Z"
   },
   {
    "duration": 0,
    "start_time": "2023-06-20T13:38:52.712Z"
   },
   {
    "duration": 0,
    "start_time": "2023-06-20T13:38:52.714Z"
   },
   {
    "duration": 0,
    "start_time": "2023-06-20T13:38:52.716Z"
   },
   {
    "duration": 0,
    "start_time": "2023-06-20T13:38:52.717Z"
   },
   {
    "duration": 0,
    "start_time": "2023-06-20T13:38:52.719Z"
   },
   {
    "duration": 0,
    "start_time": "2023-06-20T13:38:52.721Z"
   },
   {
    "duration": 0,
    "start_time": "2023-06-20T13:38:52.722Z"
   },
   {
    "duration": 0,
    "start_time": "2023-06-20T13:38:52.724Z"
   },
   {
    "duration": 0,
    "start_time": "2023-06-20T13:38:52.725Z"
   },
   {
    "duration": 0,
    "start_time": "2023-06-20T13:38:52.754Z"
   },
   {
    "duration": 0,
    "start_time": "2023-06-20T13:38:52.756Z"
   },
   {
    "duration": 0,
    "start_time": "2023-06-20T13:38:52.758Z"
   },
   {
    "duration": 0,
    "start_time": "2023-06-20T13:38:52.759Z"
   },
   {
    "duration": 0,
    "start_time": "2023-06-20T13:38:52.761Z"
   },
   {
    "duration": 0,
    "start_time": "2023-06-20T13:38:52.763Z"
   },
   {
    "duration": 0,
    "start_time": "2023-06-20T13:38:52.764Z"
   },
   {
    "duration": 0,
    "start_time": "2023-06-20T13:38:52.766Z"
   },
   {
    "duration": 0,
    "start_time": "2023-06-20T13:38:52.767Z"
   },
   {
    "duration": 0,
    "start_time": "2023-06-20T13:38:52.768Z"
   },
   {
    "duration": 0,
    "start_time": "2023-06-20T13:38:52.769Z"
   },
   {
    "duration": 0,
    "start_time": "2023-06-20T13:38:52.771Z"
   },
   {
    "duration": 0,
    "start_time": "2023-06-20T13:38:52.772Z"
   },
   {
    "duration": 0,
    "start_time": "2023-06-20T13:38:52.773Z"
   },
   {
    "duration": 0,
    "start_time": "2023-06-20T13:38:52.775Z"
   },
   {
    "duration": 0,
    "start_time": "2023-06-20T13:38:52.776Z"
   },
   {
    "duration": 0,
    "start_time": "2023-06-20T13:38:52.778Z"
   },
   {
    "duration": 0,
    "start_time": "2023-06-20T13:38:52.779Z"
   },
   {
    "duration": 0,
    "start_time": "2023-06-20T13:38:52.780Z"
   },
   {
    "duration": 0,
    "start_time": "2023-06-20T13:38:52.782Z"
   },
   {
    "duration": 0,
    "start_time": "2023-06-20T13:38:52.783Z"
   },
   {
    "duration": 0,
    "start_time": "2023-06-20T13:38:52.785Z"
   },
   {
    "duration": 0,
    "start_time": "2023-06-20T13:38:52.786Z"
   },
   {
    "duration": 0,
    "start_time": "2023-06-20T13:38:52.787Z"
   },
   {
    "duration": 0,
    "start_time": "2023-06-20T13:38:52.789Z"
   },
   {
    "duration": 0,
    "start_time": "2023-06-20T13:38:52.791Z"
   },
   {
    "duration": 0,
    "start_time": "2023-06-20T13:38:52.792Z"
   },
   {
    "duration": 0,
    "start_time": "2023-06-20T13:38:52.794Z"
   },
   {
    "duration": 0,
    "start_time": "2023-06-20T13:38:52.854Z"
   },
   {
    "duration": 0,
    "start_time": "2023-06-20T13:38:52.855Z"
   },
   {
    "duration": 0,
    "start_time": "2023-06-20T13:38:52.856Z"
   },
   {
    "duration": 0,
    "start_time": "2023-06-20T13:38:52.858Z"
   },
   {
    "duration": 0,
    "start_time": "2023-06-20T13:38:52.859Z"
   },
   {
    "duration": 0,
    "start_time": "2023-06-20T13:38:52.860Z"
   },
   {
    "duration": 0,
    "start_time": "2023-06-20T13:38:52.861Z"
   },
   {
    "duration": 0,
    "start_time": "2023-06-20T13:38:52.862Z"
   },
   {
    "duration": 0,
    "start_time": "2023-06-20T13:38:52.863Z"
   },
   {
    "duration": 15,
    "start_time": "2023-06-20T13:39:22.830Z"
   },
   {
    "duration": 27867,
    "start_time": "2023-06-20T13:39:33.920Z"
   },
   {
    "duration": 20,
    "start_time": "2023-06-20T13:40:01.790Z"
   },
   {
    "duration": 0,
    "start_time": "2023-06-20T13:40:01.813Z"
   },
   {
    "duration": 0,
    "start_time": "2023-06-20T13:40:01.814Z"
   },
   {
    "duration": 0,
    "start_time": "2023-06-20T13:40:01.816Z"
   },
   {
    "duration": 0,
    "start_time": "2023-06-20T13:40:01.817Z"
   },
   {
    "duration": 0,
    "start_time": "2023-06-20T13:40:01.818Z"
   },
   {
    "duration": 0,
    "start_time": "2023-06-20T13:40:01.819Z"
   },
   {
    "duration": 0,
    "start_time": "2023-06-20T13:40:01.821Z"
   },
   {
    "duration": 0,
    "start_time": "2023-06-20T13:40:01.822Z"
   },
   {
    "duration": 0,
    "start_time": "2023-06-20T13:40:01.823Z"
   },
   {
    "duration": 0,
    "start_time": "2023-06-20T13:40:01.825Z"
   },
   {
    "duration": 0,
    "start_time": "2023-06-20T13:40:01.826Z"
   },
   {
    "duration": 0,
    "start_time": "2023-06-20T13:40:01.827Z"
   },
   {
    "duration": 0,
    "start_time": "2023-06-20T13:40:01.829Z"
   },
   {
    "duration": 0,
    "start_time": "2023-06-20T13:40:01.830Z"
   },
   {
    "duration": 0,
    "start_time": "2023-06-20T13:40:01.831Z"
   },
   {
    "duration": 0,
    "start_time": "2023-06-20T13:40:01.832Z"
   },
   {
    "duration": 0,
    "start_time": "2023-06-20T13:40:01.833Z"
   },
   {
    "duration": 0,
    "start_time": "2023-06-20T13:40:01.835Z"
   },
   {
    "duration": 0,
    "start_time": "2023-06-20T13:40:01.836Z"
   },
   {
    "duration": 0,
    "start_time": "2023-06-20T13:40:01.854Z"
   },
   {
    "duration": 0,
    "start_time": "2023-06-20T13:40:01.856Z"
   },
   {
    "duration": 0,
    "start_time": "2023-06-20T13:40:01.857Z"
   },
   {
    "duration": 0,
    "start_time": "2023-06-20T13:40:01.858Z"
   },
   {
    "duration": 0,
    "start_time": "2023-06-20T13:40:01.859Z"
   },
   {
    "duration": 0,
    "start_time": "2023-06-20T13:40:01.860Z"
   },
   {
    "duration": 0,
    "start_time": "2023-06-20T13:40:01.862Z"
   },
   {
    "duration": 0,
    "start_time": "2023-06-20T13:40:01.863Z"
   },
   {
    "duration": 0,
    "start_time": "2023-06-20T13:40:01.864Z"
   },
   {
    "duration": 0,
    "start_time": "2023-06-20T13:40:01.865Z"
   },
   {
    "duration": 0,
    "start_time": "2023-06-20T13:40:01.866Z"
   },
   {
    "duration": 0,
    "start_time": "2023-06-20T13:40:01.867Z"
   },
   {
    "duration": 0,
    "start_time": "2023-06-20T13:40:01.868Z"
   },
   {
    "duration": 0,
    "start_time": "2023-06-20T13:40:01.869Z"
   },
   {
    "duration": 0,
    "start_time": "2023-06-20T13:40:01.870Z"
   },
   {
    "duration": 0,
    "start_time": "2023-06-20T13:40:01.872Z"
   },
   {
    "duration": 0,
    "start_time": "2023-06-20T13:40:01.873Z"
   },
   {
    "duration": 1,
    "start_time": "2023-06-20T13:40:01.873Z"
   },
   {
    "duration": 0,
    "start_time": "2023-06-20T13:40:01.875Z"
   },
   {
    "duration": 0,
    "start_time": "2023-06-20T13:40:01.876Z"
   },
   {
    "duration": 0,
    "start_time": "2023-06-20T13:40:01.877Z"
   },
   {
    "duration": 0,
    "start_time": "2023-06-20T13:40:01.878Z"
   },
   {
    "duration": 0,
    "start_time": "2023-06-20T13:40:01.879Z"
   },
   {
    "duration": 0,
    "start_time": "2023-06-20T13:40:01.880Z"
   },
   {
    "duration": 0,
    "start_time": "2023-06-20T13:40:01.881Z"
   },
   {
    "duration": 0,
    "start_time": "2023-06-20T13:40:01.883Z"
   },
   {
    "duration": 0,
    "start_time": "2023-06-20T13:40:01.884Z"
   },
   {
    "duration": 0,
    "start_time": "2023-06-20T13:40:01.885Z"
   },
   {
    "duration": 0,
    "start_time": "2023-06-20T13:40:01.886Z"
   },
   {
    "duration": 0,
    "start_time": "2023-06-20T13:40:01.887Z"
   },
   {
    "duration": 0,
    "start_time": "2023-06-20T13:40:01.888Z"
   },
   {
    "duration": 0,
    "start_time": "2023-06-20T13:40:01.889Z"
   },
   {
    "duration": 6779,
    "start_time": "2023-06-20T13:40:36.542Z"
   },
   {
    "duration": 2155,
    "start_time": "2023-06-20T13:40:43.324Z"
   },
   {
    "duration": 112,
    "start_time": "2023-06-20T13:40:45.481Z"
   },
   {
    "duration": 3,
    "start_time": "2023-06-20T13:40:45.595Z"
   },
   {
    "duration": 76,
    "start_time": "2023-06-20T13:40:45.600Z"
   },
   {
    "duration": 47,
    "start_time": "2023-06-20T13:40:45.677Z"
   },
   {
    "duration": 6,
    "start_time": "2023-06-20T13:40:45.726Z"
   },
   {
    "duration": 54,
    "start_time": "2023-06-20T13:40:45.734Z"
   },
   {
    "duration": 54,
    "start_time": "2023-06-20T13:40:45.790Z"
   },
   {
    "duration": 24,
    "start_time": "2023-06-20T13:40:45.846Z"
   },
   {
    "duration": 51,
    "start_time": "2023-06-20T13:40:45.872Z"
   },
   {
    "duration": 107,
    "start_time": "2023-06-20T13:40:45.925Z"
   },
   {
    "duration": 173,
    "start_time": "2023-06-20T13:40:46.034Z"
   },
   {
    "duration": 87,
    "start_time": "2023-06-20T13:40:46.210Z"
   },
   {
    "duration": 10,
    "start_time": "2023-06-20T13:40:46.299Z"
   },
   {
    "duration": 20,
    "start_time": "2023-06-20T13:40:46.311Z"
   },
   {
    "duration": 23,
    "start_time": "2023-06-20T13:40:46.333Z"
   },
   {
    "duration": 14,
    "start_time": "2023-06-20T13:40:46.358Z"
   },
   {
    "duration": 12,
    "start_time": "2023-06-20T13:40:46.374Z"
   },
   {
    "duration": 126,
    "start_time": "2023-06-20T13:40:46.388Z"
   },
   {
    "duration": 122,
    "start_time": "2023-06-20T13:40:46.516Z"
   },
   {
    "duration": 214,
    "start_time": "2023-06-20T13:40:46.639Z"
   },
   {
    "duration": 114,
    "start_time": "2023-06-20T13:40:46.855Z"
   },
   {
    "duration": 1664,
    "start_time": "2023-06-20T13:40:46.971Z"
   },
   {
    "duration": 386,
    "start_time": "2023-06-20T13:40:48.637Z"
   },
   {
    "duration": 269,
    "start_time": "2023-06-20T13:40:49.024Z"
   },
   {
    "duration": 269,
    "start_time": "2023-06-20T13:40:49.295Z"
   },
   {
    "duration": 273,
    "start_time": "2023-06-20T13:40:49.566Z"
   },
   {
    "duration": 17,
    "start_time": "2023-06-20T13:40:49.841Z"
   },
   {
    "duration": 1392,
    "start_time": "2023-06-20T13:40:49.860Z"
   },
   {
    "duration": 7,
    "start_time": "2023-06-20T13:40:51.254Z"
   },
   {
    "duration": 39,
    "start_time": "2023-06-20T13:40:51.263Z"
   },
   {
    "duration": 64,
    "start_time": "2023-06-20T13:40:51.304Z"
   },
   {
    "duration": 66,
    "start_time": "2023-06-20T13:40:51.370Z"
   },
   {
    "duration": 21,
    "start_time": "2023-06-20T13:40:51.438Z"
   },
   {
    "duration": 22,
    "start_time": "2023-06-20T13:40:51.461Z"
   },
   {
    "duration": 61,
    "start_time": "2023-06-20T13:40:51.485Z"
   },
   {
    "duration": 220,
    "start_time": "2023-06-20T13:40:51.548Z"
   },
   {
    "duration": 0,
    "start_time": "2023-06-20T13:40:51.770Z"
   },
   {
    "duration": 0,
    "start_time": "2023-06-20T13:40:51.771Z"
   },
   {
    "duration": 0,
    "start_time": "2023-06-20T13:40:51.772Z"
   },
   {
    "duration": 0,
    "start_time": "2023-06-20T13:40:51.773Z"
   },
   {
    "duration": 0,
    "start_time": "2023-06-20T13:40:51.775Z"
   },
   {
    "duration": 0,
    "start_time": "2023-06-20T13:40:51.776Z"
   },
   {
    "duration": 0,
    "start_time": "2023-06-20T13:40:51.777Z"
   },
   {
    "duration": 0,
    "start_time": "2023-06-20T13:40:51.779Z"
   },
   {
    "duration": 0,
    "start_time": "2023-06-20T13:40:51.780Z"
   },
   {
    "duration": 0,
    "start_time": "2023-06-20T13:40:51.781Z"
   },
   {
    "duration": 0,
    "start_time": "2023-06-20T13:40:51.782Z"
   },
   {
    "duration": 0,
    "start_time": "2023-06-20T13:40:51.783Z"
   },
   {
    "duration": 0,
    "start_time": "2023-06-20T13:40:51.784Z"
   },
   {
    "duration": 0,
    "start_time": "2023-06-20T13:40:51.786Z"
   },
   {
    "duration": 0,
    "start_time": "2023-06-20T13:40:51.787Z"
   },
   {
    "duration": 12,
    "start_time": "2023-06-20T13:43:17.311Z"
   },
   {
    "duration": 12,
    "start_time": "2023-06-20T13:43:25.287Z"
   },
   {
    "duration": 109,
    "start_time": "2023-06-20T13:43:46.572Z"
   },
   {
    "duration": 119,
    "start_time": "2023-06-20T13:44:24.447Z"
   },
   {
    "duration": 11,
    "start_time": "2023-06-20T13:44:27.995Z"
   },
   {
    "duration": 12,
    "start_time": "2023-06-20T13:44:31.985Z"
   },
   {
    "duration": 6585,
    "start_time": "2023-06-20T13:45:14.189Z"
   },
   {
    "duration": 6,
    "start_time": "2023-06-20T13:45:20.777Z"
   },
   {
    "duration": 71,
    "start_time": "2023-06-20T13:45:20.784Z"
   },
   {
    "duration": 4,
    "start_time": "2023-06-20T13:45:20.858Z"
   },
   {
    "duration": 75,
    "start_time": "2023-06-20T13:45:20.864Z"
   },
   {
    "duration": 15,
    "start_time": "2023-06-20T13:45:20.954Z"
   },
   {
    "duration": 36,
    "start_time": "2023-06-20T13:45:20.970Z"
   },
   {
    "duration": 27,
    "start_time": "2023-06-20T13:45:21.008Z"
   },
   {
    "duration": 39,
    "start_time": "2023-06-20T13:45:21.036Z"
   },
   {
    "duration": 26,
    "start_time": "2023-06-20T13:45:21.077Z"
   },
   {
    "duration": 53,
    "start_time": "2023-06-20T13:45:21.104Z"
   },
   {
    "duration": 144,
    "start_time": "2023-06-20T13:45:21.159Z"
   },
   {
    "duration": 144,
    "start_time": "2023-06-20T13:45:21.304Z"
   },
   {
    "duration": 228,
    "start_time": "2023-06-20T13:45:21.453Z"
   },
   {
    "duration": 37,
    "start_time": "2023-06-20T13:45:21.683Z"
   },
   {
    "duration": 18,
    "start_time": "2023-06-20T13:45:21.722Z"
   },
   {
    "duration": 17,
    "start_time": "2023-06-20T13:45:21.742Z"
   },
   {
    "duration": 25,
    "start_time": "2023-06-20T13:45:21.761Z"
   },
   {
    "duration": 25,
    "start_time": "2023-06-20T13:45:21.788Z"
   },
   {
    "duration": 122,
    "start_time": "2023-06-20T13:45:21.814Z"
   },
   {
    "duration": 121,
    "start_time": "2023-06-20T13:45:21.938Z"
   },
   {
    "duration": 115,
    "start_time": "2023-06-20T13:45:22.061Z"
   },
   {
    "duration": 117,
    "start_time": "2023-06-20T13:45:22.178Z"
   },
   {
    "duration": 1825,
    "start_time": "2023-06-20T13:45:22.296Z"
   },
   {
    "duration": 267,
    "start_time": "2023-06-20T13:45:24.123Z"
   },
   {
    "duration": 230,
    "start_time": "2023-06-20T13:45:24.392Z"
   },
   {
    "duration": 222,
    "start_time": "2023-06-20T13:45:24.623Z"
   },
   {
    "duration": 244,
    "start_time": "2023-06-20T13:45:24.853Z"
   },
   {
    "duration": 12,
    "start_time": "2023-06-20T13:45:25.098Z"
   },
   {
    "duration": 1350,
    "start_time": "2023-06-20T13:45:25.111Z"
   },
   {
    "duration": 7,
    "start_time": "2023-06-20T13:45:26.463Z"
   },
   {
    "duration": 24,
    "start_time": "2023-06-20T13:45:26.471Z"
   },
   {
    "duration": 22,
    "start_time": "2023-06-20T13:45:26.497Z"
   },
   {
    "duration": 11,
    "start_time": "2023-06-20T13:45:26.521Z"
   },
   {
    "duration": 13,
    "start_time": "2023-06-20T13:45:26.534Z"
   },
   {
    "duration": 9,
    "start_time": "2023-06-20T13:45:26.548Z"
   },
   {
    "duration": 14,
    "start_time": "2023-06-20T13:45:26.558Z"
   },
   {
    "duration": 2003,
    "start_time": "2023-06-20T13:45:26.573Z"
   },
   {
    "duration": 3,
    "start_time": "2023-06-20T13:45:28.577Z"
   },
   {
    "duration": 4,
    "start_time": "2023-06-20T13:45:28.654Z"
   },
   {
    "duration": 330,
    "start_time": "2023-06-20T13:45:28.660Z"
   },
   {
    "duration": 34,
    "start_time": "2023-06-20T13:45:28.992Z"
   },
   {
    "duration": 0,
    "start_time": "2023-06-20T13:45:29.028Z"
   },
   {
    "duration": 0,
    "start_time": "2023-06-20T13:45:29.030Z"
   },
   {
    "duration": 0,
    "start_time": "2023-06-20T13:45:29.031Z"
   },
   {
    "duration": 0,
    "start_time": "2023-06-20T13:45:29.054Z"
   },
   {
    "duration": 0,
    "start_time": "2023-06-20T13:45:29.055Z"
   },
   {
    "duration": 0,
    "start_time": "2023-06-20T13:45:29.057Z"
   },
   {
    "duration": 0,
    "start_time": "2023-06-20T13:45:29.059Z"
   },
   {
    "duration": 0,
    "start_time": "2023-06-20T13:45:29.060Z"
   },
   {
    "duration": 0,
    "start_time": "2023-06-20T13:45:29.062Z"
   },
   {
    "duration": 0,
    "start_time": "2023-06-20T13:45:29.063Z"
   },
   {
    "duration": 0,
    "start_time": "2023-06-20T13:45:29.064Z"
   },
   {
    "duration": 14425,
    "start_time": "2023-06-20T13:46:06.922Z"
   },
   {
    "duration": 2291,
    "start_time": "2023-06-20T13:46:21.348Z"
   },
   {
    "duration": 6728,
    "start_time": "2023-06-20T13:50:19.982Z"
   },
   {
    "duration": 9,
    "start_time": "2023-06-20T13:50:26.713Z"
   },
   {
    "duration": 74,
    "start_time": "2023-06-20T13:50:26.724Z"
   },
   {
    "duration": 5,
    "start_time": "2023-06-20T13:50:26.800Z"
   },
   {
    "duration": 98,
    "start_time": "2023-06-20T13:50:26.807Z"
   },
   {
    "duration": 13,
    "start_time": "2023-06-20T13:50:26.907Z"
   },
   {
    "duration": 32,
    "start_time": "2023-06-20T13:50:26.922Z"
   },
   {
    "duration": 66,
    "start_time": "2023-06-20T13:50:26.955Z"
   },
   {
    "duration": 29,
    "start_time": "2023-06-20T13:50:27.023Z"
   },
   {
    "duration": 31,
    "start_time": "2023-06-20T13:50:27.054Z"
   },
   {
    "duration": 100,
    "start_time": "2023-06-20T13:50:27.087Z"
   },
   {
    "duration": 122,
    "start_time": "2023-06-20T13:50:27.189Z"
   },
   {
    "duration": 159,
    "start_time": "2023-06-20T13:50:27.313Z"
   },
   {
    "duration": 95,
    "start_time": "2023-06-20T13:50:27.474Z"
   },
   {
    "duration": 19,
    "start_time": "2023-06-20T13:50:27.571Z"
   },
   {
    "duration": 18,
    "start_time": "2023-06-20T13:50:27.591Z"
   },
   {
    "duration": 13,
    "start_time": "2023-06-20T13:50:27.611Z"
   },
   {
    "duration": 37,
    "start_time": "2023-06-20T13:50:27.625Z"
   },
   {
    "duration": 23,
    "start_time": "2023-06-20T13:50:27.663Z"
   },
   {
    "duration": 125,
    "start_time": "2023-06-20T13:50:27.688Z"
   },
   {
    "duration": 324,
    "start_time": "2023-06-20T13:50:27.815Z"
   },
   {
    "duration": 124,
    "start_time": "2023-06-20T13:50:28.141Z"
   },
   {
    "duration": 108,
    "start_time": "2023-06-20T13:50:28.266Z"
   },
   {
    "duration": 1491,
    "start_time": "2023-06-20T13:50:28.376Z"
   },
   {
    "duration": 245,
    "start_time": "2023-06-20T13:50:29.869Z"
   },
   {
    "duration": 411,
    "start_time": "2023-06-20T13:50:30.116Z"
   },
   {
    "duration": 249,
    "start_time": "2023-06-20T13:50:30.529Z"
   },
   {
    "duration": 256,
    "start_time": "2023-06-20T13:50:30.782Z"
   },
   {
    "duration": 21,
    "start_time": "2023-06-20T13:50:31.040Z"
   },
   {
    "duration": 1507,
    "start_time": "2023-06-20T13:50:31.063Z"
   },
   {
    "duration": 9,
    "start_time": "2023-06-20T13:50:32.572Z"
   },
   {
    "duration": 106,
    "start_time": "2023-06-20T13:50:32.584Z"
   },
   {
    "duration": 122,
    "start_time": "2023-06-20T13:50:32.693Z"
   },
   {
    "duration": 36,
    "start_time": "2023-06-20T13:50:32.818Z"
   },
   {
    "duration": 18,
    "start_time": "2023-06-20T13:50:32.855Z"
   },
   {
    "duration": 127,
    "start_time": "2023-06-20T13:50:32.875Z"
   },
   {
    "duration": 124,
    "start_time": "2023-06-20T13:50:33.004Z"
   },
   {
    "duration": 2242,
    "start_time": "2023-06-20T13:50:33.130Z"
   },
   {
    "duration": 6,
    "start_time": "2023-06-20T13:50:35.374Z"
   },
   {
    "duration": 93,
    "start_time": "2023-06-20T13:50:35.381Z"
   },
   {
    "duration": 400,
    "start_time": "2023-06-20T13:50:35.476Z"
   },
   {
    "duration": 14101,
    "start_time": "2023-06-20T13:50:35.878Z"
   },
   {
    "duration": 379,
    "start_time": "2023-06-20T13:50:49.981Z"
   },
   {
    "duration": 2319,
    "start_time": "2023-06-20T13:50:50.363Z"
   },
   {
    "duration": 358,
    "start_time": "2023-06-20T13:50:52.684Z"
   },
   {
    "duration": 1798,
    "start_time": "2023-06-20T13:50:53.045Z"
   },
   {
    "duration": 354,
    "start_time": "2023-06-20T13:50:54.855Z"
   },
   {
    "duration": 2646,
    "start_time": "2023-06-20T13:50:55.211Z"
   },
   {
    "duration": 2407,
    "start_time": "2023-06-20T13:50:57.860Z"
   },
   {
    "duration": 2690,
    "start_time": "2023-06-20T13:51:00.269Z"
   },
   {
    "duration": 348,
    "start_time": "2023-06-20T13:51:02.961Z"
   },
   {
    "duration": 3154,
    "start_time": "2023-06-20T13:51:03.311Z"
   },
   {
    "duration": 401,
    "start_time": "2023-06-20T13:51:06.467Z"
   },
   {
    "duration": 114,
    "start_time": "2023-06-20T13:55:26.152Z"
   },
   {
    "duration": 4,
    "start_time": "2023-06-20T14:45:05.119Z"
   },
   {
    "duration": 6710,
    "start_time": "2023-06-20T14:45:05.128Z"
   },
   {
    "duration": 0,
    "start_time": "2023-06-20T14:45:11.841Z"
   },
   {
    "duration": 0,
    "start_time": "2023-06-20T14:45:11.843Z"
   },
   {
    "duration": 0,
    "start_time": "2023-06-20T14:45:11.845Z"
   },
   {
    "duration": 0,
    "start_time": "2023-06-20T14:45:11.846Z"
   },
   {
    "duration": 0,
    "start_time": "2023-06-20T14:45:11.847Z"
   },
   {
    "duration": 0,
    "start_time": "2023-06-20T14:45:11.849Z"
   },
   {
    "duration": 0,
    "start_time": "2023-06-20T14:45:11.850Z"
   },
   {
    "duration": 0,
    "start_time": "2023-06-20T14:45:11.851Z"
   },
   {
    "duration": 0,
    "start_time": "2023-06-20T14:45:11.852Z"
   },
   {
    "duration": 0,
    "start_time": "2023-06-20T14:45:11.854Z"
   },
   {
    "duration": 0,
    "start_time": "2023-06-20T14:45:11.855Z"
   },
   {
    "duration": 0,
    "start_time": "2023-06-20T14:45:11.855Z"
   },
   {
    "duration": 0,
    "start_time": "2023-06-20T14:45:11.856Z"
   },
   {
    "duration": 0,
    "start_time": "2023-06-20T14:45:11.856Z"
   },
   {
    "duration": 0,
    "start_time": "2023-06-20T14:45:11.857Z"
   },
   {
    "duration": 0,
    "start_time": "2023-06-20T14:45:11.857Z"
   },
   {
    "duration": 0,
    "start_time": "2023-06-20T14:45:11.858Z"
   },
   {
    "duration": 0,
    "start_time": "2023-06-20T14:45:11.869Z"
   },
   {
    "duration": 0,
    "start_time": "2023-06-20T14:45:11.870Z"
   },
   {
    "duration": 0,
    "start_time": "2023-06-20T14:45:11.871Z"
   },
   {
    "duration": 0,
    "start_time": "2023-06-20T14:45:11.871Z"
   },
   {
    "duration": 0,
    "start_time": "2023-06-20T14:45:11.872Z"
   },
   {
    "duration": 0,
    "start_time": "2023-06-20T14:45:11.873Z"
   },
   {
    "duration": 0,
    "start_time": "2023-06-20T14:45:11.874Z"
   },
   {
    "duration": 0,
    "start_time": "2023-06-20T14:45:11.875Z"
   },
   {
    "duration": 0,
    "start_time": "2023-06-20T14:45:11.876Z"
   },
   {
    "duration": 1,
    "start_time": "2023-06-20T14:45:11.876Z"
   },
   {
    "duration": 0,
    "start_time": "2023-06-20T14:45:11.877Z"
   },
   {
    "duration": 0,
    "start_time": "2023-06-20T14:45:11.878Z"
   },
   {
    "duration": 0,
    "start_time": "2023-06-20T14:45:11.894Z"
   },
   {
    "duration": 0,
    "start_time": "2023-06-20T14:45:11.895Z"
   },
   {
    "duration": 0,
    "start_time": "2023-06-20T14:45:11.896Z"
   },
   {
    "duration": 0,
    "start_time": "2023-06-20T14:45:11.897Z"
   },
   {
    "duration": 0,
    "start_time": "2023-06-20T14:45:11.898Z"
   },
   {
    "duration": 0,
    "start_time": "2023-06-20T14:45:11.900Z"
   },
   {
    "duration": 0,
    "start_time": "2023-06-20T14:45:11.901Z"
   },
   {
    "duration": 0,
    "start_time": "2023-06-20T14:45:11.902Z"
   },
   {
    "duration": 0,
    "start_time": "2023-06-20T14:45:11.903Z"
   },
   {
    "duration": 0,
    "start_time": "2023-06-20T14:45:11.904Z"
   },
   {
    "duration": 0,
    "start_time": "2023-06-20T14:45:11.906Z"
   },
   {
    "duration": 0,
    "start_time": "2023-06-20T14:45:11.907Z"
   },
   {
    "duration": 0,
    "start_time": "2023-06-20T14:45:11.908Z"
   },
   {
    "duration": 0,
    "start_time": "2023-06-20T14:45:11.909Z"
   },
   {
    "duration": 0,
    "start_time": "2023-06-20T14:45:11.911Z"
   },
   {
    "duration": 0,
    "start_time": "2023-06-20T14:45:11.912Z"
   },
   {
    "duration": 0,
    "start_time": "2023-06-20T14:45:11.913Z"
   },
   {
    "duration": 0,
    "start_time": "2023-06-20T14:45:11.914Z"
   },
   {
    "duration": 0,
    "start_time": "2023-06-20T14:45:11.916Z"
   },
   {
    "duration": 0,
    "start_time": "2023-06-20T14:45:11.917Z"
   },
   {
    "duration": 0,
    "start_time": "2023-06-20T14:45:11.918Z"
   },
   {
    "duration": 0,
    "start_time": "2023-06-20T14:45:11.920Z"
   },
   {
    "duration": 5,
    "start_time": "2023-06-20T14:45:28.853Z"
   },
   {
    "duration": 3157,
    "start_time": "2023-06-20T14:45:28.860Z"
   },
   {
    "duration": 0,
    "start_time": "2023-06-20T14:45:32.025Z"
   },
   {
    "duration": 0,
    "start_time": "2023-06-20T14:45:32.027Z"
   },
   {
    "duration": 0,
    "start_time": "2023-06-20T14:45:32.028Z"
   },
   {
    "duration": 0,
    "start_time": "2023-06-20T14:45:32.029Z"
   },
   {
    "duration": 0,
    "start_time": "2023-06-20T14:45:32.030Z"
   },
   {
    "duration": 0,
    "start_time": "2023-06-20T14:45:32.032Z"
   },
   {
    "duration": 0,
    "start_time": "2023-06-20T14:45:32.033Z"
   },
   {
    "duration": 0,
    "start_time": "2023-06-20T14:45:32.034Z"
   },
   {
    "duration": 0,
    "start_time": "2023-06-20T14:45:32.035Z"
   },
   {
    "duration": 0,
    "start_time": "2023-06-20T14:45:32.037Z"
   },
   {
    "duration": 0,
    "start_time": "2023-06-20T14:45:32.038Z"
   },
   {
    "duration": 0,
    "start_time": "2023-06-20T14:45:32.039Z"
   },
   {
    "duration": 0,
    "start_time": "2023-06-20T14:45:32.040Z"
   },
   {
    "duration": 0,
    "start_time": "2023-06-20T14:45:32.041Z"
   },
   {
    "duration": 0,
    "start_time": "2023-06-20T14:45:32.042Z"
   },
   {
    "duration": 0,
    "start_time": "2023-06-20T14:45:32.043Z"
   },
   {
    "duration": 0,
    "start_time": "2023-06-20T14:45:32.044Z"
   },
   {
    "duration": 0,
    "start_time": "2023-06-20T14:45:32.045Z"
   },
   {
    "duration": 0,
    "start_time": "2023-06-20T14:45:32.047Z"
   },
   {
    "duration": 0,
    "start_time": "2023-06-20T14:45:32.047Z"
   },
   {
    "duration": 0,
    "start_time": "2023-06-20T14:45:32.049Z"
   },
   {
    "duration": 0,
    "start_time": "2023-06-20T14:45:32.073Z"
   },
   {
    "duration": 0,
    "start_time": "2023-06-20T14:45:32.074Z"
   },
   {
    "duration": 1,
    "start_time": "2023-06-20T14:45:32.075Z"
   },
   {
    "duration": 0,
    "start_time": "2023-06-20T14:45:32.076Z"
   },
   {
    "duration": 0,
    "start_time": "2023-06-20T14:45:32.079Z"
   },
   {
    "duration": 0,
    "start_time": "2023-06-20T14:45:32.080Z"
   },
   {
    "duration": 0,
    "start_time": "2023-06-20T14:45:32.081Z"
   },
   {
    "duration": 0,
    "start_time": "2023-06-20T14:45:32.082Z"
   },
   {
    "duration": 0,
    "start_time": "2023-06-20T14:45:32.083Z"
   },
   {
    "duration": 0,
    "start_time": "2023-06-20T14:45:32.084Z"
   },
   {
    "duration": 0,
    "start_time": "2023-06-20T14:45:32.084Z"
   },
   {
    "duration": 0,
    "start_time": "2023-06-20T14:45:32.085Z"
   },
   {
    "duration": 0,
    "start_time": "2023-06-20T14:45:32.086Z"
   },
   {
    "duration": 0,
    "start_time": "2023-06-20T14:45:32.086Z"
   },
   {
    "duration": 0,
    "start_time": "2023-06-20T14:45:32.087Z"
   },
   {
    "duration": 0,
    "start_time": "2023-06-20T14:45:32.088Z"
   },
   {
    "duration": 0,
    "start_time": "2023-06-20T14:45:32.088Z"
   },
   {
    "duration": 0,
    "start_time": "2023-06-20T14:45:32.089Z"
   },
   {
    "duration": 0,
    "start_time": "2023-06-20T14:45:32.091Z"
   },
   {
    "duration": 0,
    "start_time": "2023-06-20T14:45:32.093Z"
   },
   {
    "duration": 0,
    "start_time": "2023-06-20T14:45:32.094Z"
   },
   {
    "duration": 0,
    "start_time": "2023-06-20T14:45:32.095Z"
   },
   {
    "duration": 0,
    "start_time": "2023-06-20T14:45:32.096Z"
   },
   {
    "duration": 0,
    "start_time": "2023-06-20T14:45:32.098Z"
   },
   {
    "duration": 0,
    "start_time": "2023-06-20T14:45:32.099Z"
   },
   {
    "duration": 0,
    "start_time": "2023-06-20T14:45:32.100Z"
   },
   {
    "duration": 0,
    "start_time": "2023-06-20T14:45:32.101Z"
   },
   {
    "duration": 0,
    "start_time": "2023-06-20T14:45:32.105Z"
   },
   {
    "duration": 0,
    "start_time": "2023-06-20T14:45:32.106Z"
   },
   {
    "duration": 0,
    "start_time": "2023-06-20T14:45:32.107Z"
   },
   {
    "duration": 4,
    "start_time": "2023-06-20T14:45:45.362Z"
   },
   {
    "duration": 2575,
    "start_time": "2023-06-20T14:45:45.384Z"
   },
   {
    "duration": 174,
    "start_time": "2023-06-20T14:45:47.961Z"
   },
   {
    "duration": 4,
    "start_time": "2023-06-20T14:45:48.137Z"
   },
   {
    "duration": 83,
    "start_time": "2023-06-20T14:45:48.143Z"
   },
   {
    "duration": 77,
    "start_time": "2023-06-20T14:45:48.229Z"
   },
   {
    "duration": 11,
    "start_time": "2023-06-20T14:45:48.315Z"
   },
   {
    "duration": 11,
    "start_time": "2023-06-20T14:45:48.330Z"
   },
   {
    "duration": 49,
    "start_time": "2023-06-20T14:45:48.343Z"
   },
   {
    "duration": 18,
    "start_time": "2023-06-20T14:45:48.396Z"
   },
   {
    "duration": 20,
    "start_time": "2023-06-20T14:45:48.417Z"
   },
   {
    "duration": 186,
    "start_time": "2023-06-20T14:45:48.441Z"
   },
   {
    "duration": 187,
    "start_time": "2023-06-20T14:45:48.630Z"
   },
   {
    "duration": 75,
    "start_time": "2023-06-20T14:45:48.821Z"
   },
   {
    "duration": 24,
    "start_time": "2023-06-20T14:45:48.899Z"
   },
   {
    "duration": 24,
    "start_time": "2023-06-20T14:45:48.933Z"
   },
   {
    "duration": 21,
    "start_time": "2023-06-20T14:45:48.959Z"
   },
   {
    "duration": 27,
    "start_time": "2023-06-20T14:45:48.999Z"
   },
   {
    "duration": 6,
    "start_time": "2023-06-20T14:45:49.033Z"
   },
   {
    "duration": 146,
    "start_time": "2023-06-20T14:45:49.042Z"
   },
   {
    "duration": 140,
    "start_time": "2023-06-20T14:45:49.189Z"
   },
   {
    "duration": 129,
    "start_time": "2023-06-20T14:45:49.331Z"
   },
   {
    "duration": 146,
    "start_time": "2023-06-20T14:45:49.462Z"
   },
   {
    "duration": 1847,
    "start_time": "2023-06-20T14:45:49.611Z"
   },
   {
    "duration": 370,
    "start_time": "2023-06-20T14:45:51.460Z"
   },
   {
    "duration": 331,
    "start_time": "2023-06-20T14:45:51.836Z"
   },
   {
    "duration": 463,
    "start_time": "2023-06-20T14:45:52.169Z"
   },
   {
    "duration": 296,
    "start_time": "2023-06-20T14:45:52.635Z"
   },
   {
    "duration": 12,
    "start_time": "2023-06-20T14:45:52.933Z"
   },
   {
    "duration": 1586,
    "start_time": "2023-06-20T14:45:52.947Z"
   },
   {
    "duration": 8,
    "start_time": "2023-06-20T14:45:54.536Z"
   },
   {
    "duration": 6,
    "start_time": "2023-06-20T14:45:54.547Z"
   },
   {
    "duration": 35,
    "start_time": "2023-06-20T14:45:54.555Z"
   },
   {
    "duration": 71,
    "start_time": "2023-06-20T14:45:54.599Z"
   },
   {
    "duration": 10,
    "start_time": "2023-06-20T14:45:54.683Z"
   },
   {
    "duration": 14,
    "start_time": "2023-06-20T14:45:54.695Z"
   },
   {
    "duration": 43,
    "start_time": "2023-06-20T14:45:54.715Z"
   },
   {
    "duration": 299,
    "start_time": "2023-06-20T14:45:54.760Z"
   },
   {
    "duration": 0,
    "start_time": "2023-06-20T14:45:55.061Z"
   },
   {
    "duration": 0,
    "start_time": "2023-06-20T14:45:55.062Z"
   },
   {
    "duration": 0,
    "start_time": "2023-06-20T14:45:55.064Z"
   },
   {
    "duration": 0,
    "start_time": "2023-06-20T14:45:55.065Z"
   },
   {
    "duration": 0,
    "start_time": "2023-06-20T14:45:55.068Z"
   },
   {
    "duration": 0,
    "start_time": "2023-06-20T14:45:55.069Z"
   },
   {
    "duration": 0,
    "start_time": "2023-06-20T14:45:55.069Z"
   },
   {
    "duration": 0,
    "start_time": "2023-06-20T14:45:55.070Z"
   },
   {
    "duration": 0,
    "start_time": "2023-06-20T14:45:55.071Z"
   },
   {
    "duration": 0,
    "start_time": "2023-06-20T14:45:55.075Z"
   },
   {
    "duration": 0,
    "start_time": "2023-06-20T14:45:55.076Z"
   },
   {
    "duration": 0,
    "start_time": "2023-06-20T14:45:55.078Z"
   },
   {
    "duration": 0,
    "start_time": "2023-06-20T14:45:55.079Z"
   },
   {
    "duration": 0,
    "start_time": "2023-06-20T14:45:55.080Z"
   },
   {
    "duration": 0,
    "start_time": "2023-06-20T14:45:55.081Z"
   },
   {
    "duration": 39564,
    "start_time": "2023-06-20T15:32:16.405Z"
   },
   {
    "duration": 4963,
    "start_time": "2023-06-20T15:32:55.973Z"
   },
   {
    "duration": 0,
    "start_time": "2023-06-20T15:33:00.939Z"
   },
   {
    "duration": 0,
    "start_time": "2023-06-20T15:33:00.941Z"
   },
   {
    "duration": 0,
    "start_time": "2023-06-20T15:33:00.942Z"
   },
   {
    "duration": 0,
    "start_time": "2023-06-20T15:33:00.943Z"
   },
   {
    "duration": 0,
    "start_time": "2023-06-20T15:33:00.945Z"
   },
   {
    "duration": 0,
    "start_time": "2023-06-20T15:33:00.946Z"
   },
   {
    "duration": 0,
    "start_time": "2023-06-20T15:33:00.958Z"
   },
   {
    "duration": 0,
    "start_time": "2023-06-20T15:33:00.961Z"
   },
   {
    "duration": 0,
    "start_time": "2023-06-20T15:33:00.962Z"
   },
   {
    "duration": 0,
    "start_time": "2023-06-20T15:33:00.963Z"
   },
   {
    "duration": 0,
    "start_time": "2023-06-20T15:33:00.964Z"
   },
   {
    "duration": 0,
    "start_time": "2023-06-20T15:33:00.965Z"
   },
   {
    "duration": 0,
    "start_time": "2023-06-20T15:33:00.966Z"
   },
   {
    "duration": 0,
    "start_time": "2023-06-20T15:33:00.967Z"
   },
   {
    "duration": 0,
    "start_time": "2023-06-20T15:33:00.968Z"
   },
   {
    "duration": 0,
    "start_time": "2023-06-20T15:33:00.969Z"
   },
   {
    "duration": 0,
    "start_time": "2023-06-20T15:33:00.970Z"
   },
   {
    "duration": 0,
    "start_time": "2023-06-20T15:33:00.971Z"
   },
   {
    "duration": 0,
    "start_time": "2023-06-20T15:33:00.972Z"
   },
   {
    "duration": 0,
    "start_time": "2023-06-20T15:33:00.973Z"
   },
   {
    "duration": 0,
    "start_time": "2023-06-20T15:33:00.974Z"
   },
   {
    "duration": 0,
    "start_time": "2023-06-20T15:33:00.975Z"
   },
   {
    "duration": 0,
    "start_time": "2023-06-20T15:33:00.976Z"
   },
   {
    "duration": 0,
    "start_time": "2023-06-20T15:33:00.977Z"
   },
   {
    "duration": 0,
    "start_time": "2023-06-20T15:33:00.978Z"
   },
   {
    "duration": 0,
    "start_time": "2023-06-20T15:33:00.979Z"
   },
   {
    "duration": 0,
    "start_time": "2023-06-20T15:33:00.980Z"
   },
   {
    "duration": 0,
    "start_time": "2023-06-20T15:33:00.981Z"
   },
   {
    "duration": 0,
    "start_time": "2023-06-20T15:33:00.982Z"
   },
   {
    "duration": 1,
    "start_time": "2023-06-20T15:33:00.989Z"
   },
   {
    "duration": 0,
    "start_time": "2023-06-20T15:33:00.991Z"
   },
   {
    "duration": 0,
    "start_time": "2023-06-20T15:33:00.992Z"
   },
   {
    "duration": 0,
    "start_time": "2023-06-20T15:33:00.994Z"
   },
   {
    "duration": 0,
    "start_time": "2023-06-20T15:33:00.995Z"
   },
   {
    "duration": 0,
    "start_time": "2023-06-20T15:33:00.996Z"
   },
   {
    "duration": 0,
    "start_time": "2023-06-20T15:33:00.998Z"
   },
   {
    "duration": 0,
    "start_time": "2023-06-20T15:33:00.999Z"
   },
   {
    "duration": 0,
    "start_time": "2023-06-20T15:33:01.001Z"
   },
   {
    "duration": 0,
    "start_time": "2023-06-20T15:33:01.002Z"
   },
   {
    "duration": 0,
    "start_time": "2023-06-20T15:33:01.004Z"
   },
   {
    "duration": 0,
    "start_time": "2023-06-20T15:33:01.005Z"
   },
   {
    "duration": 0,
    "start_time": "2023-06-20T15:33:01.062Z"
   },
   {
    "duration": 0,
    "start_time": "2023-06-20T15:33:01.065Z"
   },
   {
    "duration": 0,
    "start_time": "2023-06-20T15:33:01.068Z"
   },
   {
    "duration": 0,
    "start_time": "2023-06-20T15:33:01.071Z"
   },
   {
    "duration": 0,
    "start_time": "2023-06-20T15:33:01.073Z"
   },
   {
    "duration": 0,
    "start_time": "2023-06-20T15:33:01.077Z"
   },
   {
    "duration": 0,
    "start_time": "2023-06-20T15:33:01.078Z"
   },
   {
    "duration": 0,
    "start_time": "2023-06-20T15:33:01.080Z"
   },
   {
    "duration": 0,
    "start_time": "2023-06-20T15:33:01.082Z"
   },
   {
    "duration": 0,
    "start_time": "2023-06-20T15:33:01.085Z"
   },
   {
    "duration": 6929,
    "start_time": "2023-06-20T15:33:30.492Z"
   },
   {
    "duration": 2406,
    "start_time": "2023-06-20T15:33:37.424Z"
   },
   {
    "duration": 80,
    "start_time": "2023-06-20T15:33:39.832Z"
   },
   {
    "duration": 3,
    "start_time": "2023-06-20T15:33:39.914Z"
   },
   {
    "duration": 69,
    "start_time": "2023-06-20T15:33:39.920Z"
   },
   {
    "duration": 57,
    "start_time": "2023-06-20T15:33:39.992Z"
   },
   {
    "duration": 9,
    "start_time": "2023-06-20T15:33:40.060Z"
   },
   {
    "duration": 27,
    "start_time": "2023-06-20T15:33:40.073Z"
   },
   {
    "duration": 34,
    "start_time": "2023-06-20T15:33:40.102Z"
   },
   {
    "duration": 20,
    "start_time": "2023-06-20T15:33:40.137Z"
   },
   {
    "duration": 39,
    "start_time": "2023-06-20T15:33:40.162Z"
   },
   {
    "duration": 129,
    "start_time": "2023-06-20T15:33:40.203Z"
   },
   {
    "duration": 174,
    "start_time": "2023-06-20T15:33:40.335Z"
   },
   {
    "duration": 77,
    "start_time": "2023-06-20T15:33:40.512Z"
   },
   {
    "duration": 16,
    "start_time": "2023-06-20T15:33:40.596Z"
   },
   {
    "duration": 19,
    "start_time": "2023-06-20T15:33:40.614Z"
   },
   {
    "duration": 15,
    "start_time": "2023-06-20T15:33:40.635Z"
   },
   {
    "duration": 37,
    "start_time": "2023-06-20T15:33:40.652Z"
   },
   {
    "duration": 7,
    "start_time": "2023-06-20T15:33:40.693Z"
   },
   {
    "duration": 146,
    "start_time": "2023-06-20T15:33:40.702Z"
   },
   {
    "duration": 142,
    "start_time": "2023-06-20T15:33:40.850Z"
   },
   {
    "duration": 246,
    "start_time": "2023-06-20T15:33:40.994Z"
   },
   {
    "duration": 128,
    "start_time": "2023-06-20T15:33:41.241Z"
   },
   {
    "duration": 1851,
    "start_time": "2023-06-20T15:33:41.371Z"
   },
   {
    "duration": 467,
    "start_time": "2023-06-20T15:33:43.224Z"
   },
   {
    "duration": 296,
    "start_time": "2023-06-20T15:33:43.693Z"
   },
   {
    "duration": 306,
    "start_time": "2023-06-20T15:33:43.991Z"
   },
   {
    "duration": 339,
    "start_time": "2023-06-20T15:33:44.299Z"
   },
   {
    "duration": 23,
    "start_time": "2023-06-20T15:33:44.641Z"
   },
   {
    "duration": 1448,
    "start_time": "2023-06-20T15:33:44.669Z"
   },
   {
    "duration": 6,
    "start_time": "2023-06-20T15:33:46.120Z"
   },
   {
    "duration": 31,
    "start_time": "2023-06-20T15:33:46.128Z"
   },
   {
    "duration": 23,
    "start_time": "2023-06-20T15:33:46.161Z"
   },
   {
    "duration": 23,
    "start_time": "2023-06-20T15:33:46.189Z"
   },
   {
    "duration": 13,
    "start_time": "2023-06-20T15:33:46.215Z"
   },
   {
    "duration": 7,
    "start_time": "2023-06-20T15:33:46.230Z"
   },
   {
    "duration": 14,
    "start_time": "2023-06-20T15:33:46.238Z"
   },
   {
    "duration": 7414,
    "start_time": "2023-06-20T15:33:46.254Z"
   },
   {
    "duration": 6,
    "start_time": "2023-06-20T15:33:53.675Z"
   },
   {
    "duration": 7,
    "start_time": "2023-06-20T15:33:53.690Z"
   },
   {
    "duration": 638,
    "start_time": "2023-06-20T15:33:53.702Z"
   },
   {
    "duration": 15748,
    "start_time": "2023-06-20T15:33:54.343Z"
   },
   {
    "duration": 372,
    "start_time": "2023-06-20T15:34:10.092Z"
   },
   {
    "duration": 2415,
    "start_time": "2023-06-20T15:34:10.468Z"
   },
   {
    "duration": 414,
    "start_time": "2023-06-20T15:34:12.887Z"
   },
   {
    "duration": 2201,
    "start_time": "2023-06-20T15:34:13.302Z"
   },
   {
    "duration": 434,
    "start_time": "2023-06-20T15:34:15.505Z"
   },
   {
    "duration": 6819,
    "start_time": "2023-06-20T15:34:15.941Z"
   },
   {
    "duration": 7116,
    "start_time": "2023-06-20T15:34:22.765Z"
   },
   {
    "duration": 6985,
    "start_time": "2023-06-20T15:34:29.890Z"
   },
   {
    "duration": 453,
    "start_time": "2023-06-20T15:34:36.878Z"
   },
   {
    "duration": 7737,
    "start_time": "2023-06-20T15:34:37.333Z"
   },
   {
    "duration": 421,
    "start_time": "2023-06-20T15:34:45.072Z"
   },
   {
    "duration": 13,
    "start_time": "2023-06-20T15:35:21.137Z"
   },
   {
    "duration": 25,
    "start_time": "2023-06-20T15:36:08.652Z"
   },
   {
    "duration": 29439,
    "start_time": "2023-06-20T16:10:25.118Z"
   },
   {
    "duration": 2604,
    "start_time": "2023-06-20T16:10:54.560Z"
   },
   {
    "duration": 0,
    "start_time": "2023-06-20T16:10:57.177Z"
   },
   {
    "duration": 0,
    "start_time": "2023-06-20T16:10:57.177Z"
   },
   {
    "duration": 0,
    "start_time": "2023-06-20T16:10:57.184Z"
   },
   {
    "duration": 0,
    "start_time": "2023-06-20T16:10:57.185Z"
   },
   {
    "duration": 0,
    "start_time": "2023-06-20T16:10:57.188Z"
   },
   {
    "duration": 0,
    "start_time": "2023-06-20T16:10:57.189Z"
   },
   {
    "duration": 0,
    "start_time": "2023-06-20T16:10:57.190Z"
   },
   {
    "duration": 0,
    "start_time": "2023-06-20T16:10:57.190Z"
   },
   {
    "duration": 0,
    "start_time": "2023-06-20T16:10:57.191Z"
   },
   {
    "duration": 0,
    "start_time": "2023-06-20T16:10:57.192Z"
   },
   {
    "duration": 0,
    "start_time": "2023-06-20T16:10:57.193Z"
   },
   {
    "duration": 0,
    "start_time": "2023-06-20T16:10:57.195Z"
   },
   {
    "duration": 0,
    "start_time": "2023-06-20T16:10:57.196Z"
   },
   {
    "duration": 0,
    "start_time": "2023-06-20T16:10:57.197Z"
   },
   {
    "duration": 0,
    "start_time": "2023-06-20T16:10:57.198Z"
   },
   {
    "duration": 0,
    "start_time": "2023-06-20T16:10:57.198Z"
   },
   {
    "duration": 0,
    "start_time": "2023-06-20T16:10:57.199Z"
   },
   {
    "duration": 0,
    "start_time": "2023-06-20T16:10:57.200Z"
   },
   {
    "duration": 0,
    "start_time": "2023-06-20T16:10:57.201Z"
   },
   {
    "duration": 0,
    "start_time": "2023-06-20T16:10:57.201Z"
   },
   {
    "duration": 0,
    "start_time": "2023-06-20T16:10:57.202Z"
   },
   {
    "duration": 0,
    "start_time": "2023-06-20T16:10:57.203Z"
   },
   {
    "duration": 0,
    "start_time": "2023-06-20T16:10:57.204Z"
   },
   {
    "duration": 0,
    "start_time": "2023-06-20T16:10:57.204Z"
   },
   {
    "duration": 0,
    "start_time": "2023-06-20T16:10:57.205Z"
   },
   {
    "duration": 0,
    "start_time": "2023-06-20T16:10:57.210Z"
   },
   {
    "duration": 0,
    "start_time": "2023-06-20T16:10:57.211Z"
   },
   {
    "duration": 0,
    "start_time": "2023-06-20T16:10:57.212Z"
   },
   {
    "duration": 0,
    "start_time": "2023-06-20T16:10:57.212Z"
   },
   {
    "duration": 0,
    "start_time": "2023-06-20T16:10:57.213Z"
   },
   {
    "duration": 0,
    "start_time": "2023-06-20T16:10:57.214Z"
   },
   {
    "duration": 0,
    "start_time": "2023-06-20T16:10:57.215Z"
   },
   {
    "duration": 0,
    "start_time": "2023-06-20T16:10:57.218Z"
   },
   {
    "duration": 0,
    "start_time": "2023-06-20T16:10:57.218Z"
   },
   {
    "duration": 0,
    "start_time": "2023-06-20T16:10:57.219Z"
   },
   {
    "duration": 0,
    "start_time": "2023-06-20T16:10:57.220Z"
   },
   {
    "duration": 0,
    "start_time": "2023-06-20T16:10:57.222Z"
   },
   {
    "duration": 0,
    "start_time": "2023-06-20T16:10:57.223Z"
   },
   {
    "duration": 0,
    "start_time": "2023-06-20T16:10:57.224Z"
   },
   {
    "duration": 0,
    "start_time": "2023-06-20T16:10:57.225Z"
   },
   {
    "duration": 0,
    "start_time": "2023-06-20T16:10:57.227Z"
   },
   {
    "duration": 0,
    "start_time": "2023-06-20T16:10:57.228Z"
   },
   {
    "duration": 0,
    "start_time": "2023-06-20T16:10:57.230Z"
   },
   {
    "duration": 0,
    "start_time": "2023-06-20T16:10:57.231Z"
   },
   {
    "duration": 0,
    "start_time": "2023-06-20T16:10:57.232Z"
   },
   {
    "duration": 0,
    "start_time": "2023-06-20T16:10:57.233Z"
   },
   {
    "duration": 0,
    "start_time": "2023-06-20T16:10:57.235Z"
   },
   {
    "duration": 0,
    "start_time": "2023-06-20T16:10:57.236Z"
   },
   {
    "duration": 0,
    "start_time": "2023-06-20T16:10:57.238Z"
   },
   {
    "duration": 0,
    "start_time": "2023-06-20T16:10:57.274Z"
   },
   {
    "duration": 0,
    "start_time": "2023-06-20T16:10:57.276Z"
   },
   {
    "duration": 0,
    "start_time": "2023-06-20T16:10:57.277Z"
   },
   {
    "duration": 3,
    "start_time": "2023-06-20T16:11:33.638Z"
   },
   {
    "duration": 2539,
    "start_time": "2023-06-20T16:11:33.645Z"
   },
   {
    "duration": 164,
    "start_time": "2023-06-20T16:11:36.186Z"
   },
   {
    "duration": 4,
    "start_time": "2023-06-20T16:11:36.352Z"
   },
   {
    "duration": 72,
    "start_time": "2023-06-20T16:11:36.359Z"
   },
   {
    "duration": 93,
    "start_time": "2023-06-20T16:11:36.435Z"
   },
   {
    "duration": 8,
    "start_time": "2023-06-20T16:11:36.534Z"
   },
   {
    "duration": 10,
    "start_time": "2023-06-20T16:11:36.544Z"
   },
   {
    "duration": 26,
    "start_time": "2023-06-20T16:11:36.555Z"
   },
   {
    "duration": 19,
    "start_time": "2023-06-20T16:11:36.585Z"
   },
   {
    "duration": 19,
    "start_time": "2023-06-20T16:11:36.607Z"
   },
   {
    "duration": 117,
    "start_time": "2023-06-20T16:11:36.627Z"
   },
   {
    "duration": 182,
    "start_time": "2023-06-20T16:11:36.749Z"
   },
   {
    "duration": 73,
    "start_time": "2023-06-20T16:11:36.937Z"
   },
   {
    "duration": 12,
    "start_time": "2023-06-20T16:11:37.011Z"
   },
   {
    "duration": 19,
    "start_time": "2023-06-20T16:11:37.025Z"
   },
   {
    "duration": 13,
    "start_time": "2023-06-20T16:11:37.045Z"
   },
   {
    "duration": 17,
    "start_time": "2023-06-20T16:11:37.060Z"
   },
   {
    "duration": 22,
    "start_time": "2023-06-20T16:11:37.079Z"
   },
   {
    "duration": 146,
    "start_time": "2023-06-20T16:11:37.102Z"
   },
   {
    "duration": 128,
    "start_time": "2023-06-20T16:11:37.250Z"
   },
   {
    "duration": 237,
    "start_time": "2023-06-20T16:11:37.380Z"
   },
   {
    "duration": 119,
    "start_time": "2023-06-20T16:11:37.625Z"
   },
   {
    "duration": 1636,
    "start_time": "2023-06-20T16:11:37.746Z"
   },
   {
    "duration": 267,
    "start_time": "2023-06-20T16:11:39.383Z"
   },
   {
    "duration": 1171,
    "start_time": "2023-06-20T16:11:39.652Z"
   },
   {
    "duration": 281,
    "start_time": "2023-06-20T16:11:40.825Z"
   },
   {
    "duration": 320,
    "start_time": "2023-06-20T16:11:41.115Z"
   },
   {
    "duration": 12,
    "start_time": "2023-06-20T16:11:41.438Z"
   },
   {
    "duration": 1381,
    "start_time": "2023-06-20T16:11:41.452Z"
   },
   {
    "duration": 6,
    "start_time": "2023-06-20T16:11:42.835Z"
   },
   {
    "duration": 8,
    "start_time": "2023-06-20T16:11:42.843Z"
   },
   {
    "duration": 21,
    "start_time": "2023-06-20T16:11:42.853Z"
   },
   {
    "duration": 16,
    "start_time": "2023-06-20T16:11:42.877Z"
   },
   {
    "duration": 8,
    "start_time": "2023-06-20T16:11:42.895Z"
   },
   {
    "duration": 7,
    "start_time": "2023-06-20T16:11:42.904Z"
   },
   {
    "duration": 24,
    "start_time": "2023-06-20T16:11:42.912Z"
   },
   {
    "duration": 46,
    "start_time": "2023-06-20T16:11:42.938Z"
   },
   {
    "duration": 11580,
    "start_time": "2023-06-20T16:11:42.994Z"
   },
   {
    "duration": 27,
    "start_time": "2023-06-20T16:11:54.588Z"
   },
   {
    "duration": 11,
    "start_time": "2023-06-20T16:11:54.627Z"
   },
   {
    "duration": 399,
    "start_time": "2023-06-20T16:11:54.640Z"
   },
   {
    "duration": 14459,
    "start_time": "2023-06-20T16:11:55.041Z"
   },
   {
    "duration": 586,
    "start_time": "2023-06-20T16:12:09.507Z"
   },
   {
    "duration": 2522,
    "start_time": "2023-06-20T16:12:10.101Z"
   },
   {
    "duration": 411,
    "start_time": "2023-06-20T16:12:12.629Z"
   },
   {
    "duration": 2274,
    "start_time": "2023-06-20T16:12:13.042Z"
   },
   {
    "duration": 462,
    "start_time": "2023-06-20T16:12:15.321Z"
   },
   {
    "duration": 11079,
    "start_time": "2023-06-20T16:12:15.797Z"
   },
   {
    "duration": 10733,
    "start_time": "2023-06-20T16:12:26.878Z"
   },
   {
    "duration": 11282,
    "start_time": "2023-06-20T16:12:37.613Z"
   },
   {
    "duration": 407,
    "start_time": "2023-06-20T16:12:48.909Z"
   },
   {
    "duration": 23017,
    "start_time": "2023-06-20T16:12:49.321Z"
   },
   {
    "duration": 442,
    "start_time": "2023-06-20T16:13:12.339Z"
   },
   {
    "duration": 7959,
    "start_time": "2023-06-20T16:17:33.417Z"
   },
   {
    "duration": 8281,
    "start_time": "2023-06-20T16:17:50.624Z"
   },
   {
    "duration": 7,
    "start_time": "2023-06-20T16:18:06.686Z"
   },
   {
    "duration": 8149,
    "start_time": "2023-06-20T16:18:08.063Z"
   },
   {
    "duration": 4,
    "start_time": "2023-06-20T16:18:21.996Z"
   },
   {
    "duration": 8709,
    "start_time": "2023-06-20T16:18:22.499Z"
   },
   {
    "duration": 4,
    "start_time": "2023-06-20T16:18:38.761Z"
   },
   {
    "duration": 7552,
    "start_time": "2023-06-20T16:18:39.151Z"
   },
   {
    "duration": 14101,
    "start_time": "2023-06-20T16:19:17.645Z"
   },
   {
    "duration": 365,
    "start_time": "2023-06-20T16:20:00.243Z"
   }
  ],
  "kernelspec": {
   "display_name": "Python 3 (ipykernel)",
   "language": "python",
   "name": "python3"
  },
  "language_info": {
   "codemirror_mode": {
    "name": "ipython",
    "version": 3
   },
   "file_extension": ".py",
   "mimetype": "text/x-python",
   "name": "python",
   "nbconvert_exporter": "python",
   "pygments_lexer": "ipython3",
   "version": "3.9.5"
  },
  "toc": {
   "base_numbering": 1,
   "nav_menu": {},
   "number_sections": false,
   "sideBar": true,
   "skip_h1_title": false,
   "title_cell": "Table of Contents",
   "title_sidebar": "Contents",
   "toc_cell": false,
   "toc_position": {},
   "toc_section_display": true,
   "toc_window_display": false
  },
  "varInspector": {
   "cols": {
    "lenName": 16,
    "lenType": 16,
    "lenVar": 40
   },
   "kernels_config": {
    "python": {
     "delete_cmd_postfix": "",
     "delete_cmd_prefix": "del ",
     "library": "var_list.py",
     "varRefreshCmd": "print(var_dic_list())"
    },
    "r": {
     "delete_cmd_postfix": ") ",
     "delete_cmd_prefix": "rm(",
     "library": "var_list.r",
     "varRefreshCmd": "cat(var_dic_list()) "
    }
   },
   "types_to_exclude": [
    "module",
    "function",
    "builtin_function_or_method",
    "instance",
    "_Feature"
   ],
   "window_display": false
  }
 },
 "nbformat": 4,
 "nbformat_minor": 5
}
