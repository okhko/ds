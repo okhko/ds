{
 "cells": [
  {
   "cell_type": "markdown",
   "metadata": {},
   "source": [
    "# Выбор локации для скважины"
   ]
  },
  {
   "cell_type": "markdown",
   "metadata": {},
   "source": [
    "Допустим, вы работаете в добывающей компании «ГлавРосГосНефть». Нужно решить, где бурить новую скважину.\n",
    "\n",
    "Вам предоставлены пробы нефти в трёх регионах: в каждом 10 000 месторождений, где измерили качество нефти и объём её запасов. Постройте модель машинного обучения, которая поможет определить регион, где добыча принесёт наибольшую прибыль. Проанализируйте возможную прибыль и риски техникой *Bootstrap.*\n",
    "\n",
    "Шаги для выбора локации:\n",
    "\n",
    "- В избранном регионе ищут месторождения, для каждого определяют значения признаков;\n",
    "- Строят модель и оценивают объём запасов;\n",
    "- Выбирают месторождения с самым высокими оценками значений. Количество месторождений зависит от бюджета компании и стоимости разработки одной скважины;\n",
    "- Прибыль равна суммарной прибыли отобранных месторождений."
   ]
  },
  {
   "cell_type": "markdown",
   "metadata": {},
   "source": [
    "`Описание проекта` - цель данного проекта это определить регион для бурения нефтяных скважин с потенциально наибольшей прибылью и наименьшими рисками."
   ]
  },
  {
   "cell_type": "markdown",
   "metadata": {},
   "source": [
    "## Загрузка и подготовка данных"
   ]
  },
  {
   "cell_type": "markdown",
   "metadata": {},
   "source": [
    "Импортируем необходимые библиотеки"
   ]
  },
  {
   "cell_type": "code",
   "execution_count": 1,
   "metadata": {},
   "outputs": [],
   "source": [
    "import pandas as pd\n",
    "import numpy as np\n",
    "import matplotlib.pyplot as plt\n",
    "from sklearn.linear_model import LinearRegression\n",
    "from sklearn.metrics import mean_squared_error\n",
    "from sklearn.metrics import roc_curve\n",
    "from sklearn.metrics import roc_auc_score\n",
    "from sklearn.model_selection import train_test_split\n",
    "from sklearn.preprocessing import OrdinalEncoder\n",
    "from sklearn.metrics import accuracy_score\n",
    "from sklearn.metrics import confusion_matrix\n",
    "from sklearn.metrics import precision_score\n",
    "from sklearn.metrics import recall_score\n",
    "from sklearn.metrics import f1_score\n",
    "from sklearn.utils import shuffle\n",
    "from sklearn.preprocessing import StandardScaler\n",
    "from sklearn.ensemble import RandomForestRegressor\n",
    "from sklearn.datasets import make_regression\n",
    "from sklearn.metrics import r2_score\n",
    "from sklearn.preprocessing import StandardScaler"
   ]
  },
  {
   "cell_type": "markdown",
   "metadata": {},
   "source": [
    "Загружаем данные"
   ]
  },
  {
   "cell_type": "code",
   "execution_count": 2,
   "metadata": {},
   "outputs": [],
   "source": [
    "try:\n",
    "    df0 = pd.read_csv('geo_data_0.csv')\n",
    "    df1 = pd.read_csv('geo_data_1.csv')\n",
    "    df2 = pd.read_csv('geo_data_2.csv')\n",
    "except:\n",
    "    df0 = pd.read_csv('/datasets/geo_data_0.csv')\n",
    "    df1 = pd.read_csv('/datasets/geo_data_1.csv')\n",
    "    df2 = pd.read_csv('/datasets/geo_data_2.csv')"
   ]
  },
  {
   "cell_type": "markdown",
   "metadata": {},
   "source": [
    "Проводим предворительное ознакомление с данными"
   ]
  },
  {
   "cell_type": "markdown",
   "metadata": {},
   "source": [
    "Выводим основную информацию для каждого региона.\n",
    "Для оптимизации кода создаём функцию `show_i()` принимающую как аргумент датафрейм и выводящую на экран необходимую информацию."
   ]
  },
  {
   "cell_type": "code",
   "execution_count": 3,
   "metadata": {},
   "outputs": [],
   "source": [
    "def show_i(data):\n",
    "\n",
    "    '''Выводим на экран следущую информацию:\n",
    "\n",
    "    - размер таблицы\n",
    "    - основную информацию\n",
    "    - первые 10 строк таблицы\n",
    "    - суммарная статистика по числовым параметрам\n",
    "    - суммарная статистика по нечисловым параметрам'''\n",
    "\n",
    "    display(data.shape)\n",
    "    display(data.info())\n",
    "    display(data.head(10))\n",
    "    display(data.describe())\n",
    "    display(data.describe(include=['O']))"
   ]
  },
  {
   "cell_type": "markdown",
   "metadata": {},
   "source": [
    "Применяем функцию для ознакомления с данными"
   ]
  },
  {
   "cell_type": "code",
   "execution_count": 4,
   "metadata": {},
   "outputs": [
    {
     "data": {
      "text/plain": [
       "(100000, 5)"
      ]
     },
     "metadata": {},
     "output_type": "display_data"
    },
    {
     "name": "stdout",
     "output_type": "stream",
     "text": [
      "<class 'pandas.core.frame.DataFrame'>\n",
      "RangeIndex: 100000 entries, 0 to 99999\n",
      "Data columns (total 5 columns):\n",
      " #   Column   Non-Null Count   Dtype  \n",
      "---  ------   --------------   -----  \n",
      " 0   id       100000 non-null  object \n",
      " 1   f0       100000 non-null  float64\n",
      " 2   f1       100000 non-null  float64\n",
      " 3   f2       100000 non-null  float64\n",
      " 4   product  100000 non-null  float64\n",
      "dtypes: float64(4), object(1)\n",
      "memory usage: 3.8+ MB\n"
     ]
    },
    {
     "data": {
      "text/plain": [
       "None"
      ]
     },
     "metadata": {},
     "output_type": "display_data"
    },
    {
     "data": {
      "text/html": [
       "<div>\n",
       "<style scoped>\n",
       "    .dataframe tbody tr th:only-of-type {\n",
       "        vertical-align: middle;\n",
       "    }\n",
       "\n",
       "    .dataframe tbody tr th {\n",
       "        vertical-align: top;\n",
       "    }\n",
       "\n",
       "    .dataframe thead th {\n",
       "        text-align: right;\n",
       "    }\n",
       "</style>\n",
       "<table border=\"1\" class=\"dataframe\">\n",
       "  <thead>\n",
       "    <tr style=\"text-align: right;\">\n",
       "      <th></th>\n",
       "      <th>id</th>\n",
       "      <th>f0</th>\n",
       "      <th>f1</th>\n",
       "      <th>f2</th>\n",
       "      <th>product</th>\n",
       "    </tr>\n",
       "  </thead>\n",
       "  <tbody>\n",
       "    <tr>\n",
       "      <th>0</th>\n",
       "      <td>txEyH</td>\n",
       "      <td>0.705745</td>\n",
       "      <td>-0.497823</td>\n",
       "      <td>1.221170</td>\n",
       "      <td>105.280062</td>\n",
       "    </tr>\n",
       "    <tr>\n",
       "      <th>1</th>\n",
       "      <td>2acmU</td>\n",
       "      <td>1.334711</td>\n",
       "      <td>-0.340164</td>\n",
       "      <td>4.365080</td>\n",
       "      <td>73.037750</td>\n",
       "    </tr>\n",
       "    <tr>\n",
       "      <th>2</th>\n",
       "      <td>409Wp</td>\n",
       "      <td>1.022732</td>\n",
       "      <td>0.151990</td>\n",
       "      <td>1.419926</td>\n",
       "      <td>85.265647</td>\n",
       "    </tr>\n",
       "    <tr>\n",
       "      <th>3</th>\n",
       "      <td>iJLyR</td>\n",
       "      <td>-0.032172</td>\n",
       "      <td>0.139033</td>\n",
       "      <td>2.978566</td>\n",
       "      <td>168.620776</td>\n",
       "    </tr>\n",
       "    <tr>\n",
       "      <th>4</th>\n",
       "      <td>Xdl7t</td>\n",
       "      <td>1.988431</td>\n",
       "      <td>0.155413</td>\n",
       "      <td>4.751769</td>\n",
       "      <td>154.036647</td>\n",
       "    </tr>\n",
       "    <tr>\n",
       "      <th>5</th>\n",
       "      <td>wX4Hy</td>\n",
       "      <td>0.969570</td>\n",
       "      <td>0.489775</td>\n",
       "      <td>-0.735383</td>\n",
       "      <td>64.741541</td>\n",
       "    </tr>\n",
       "    <tr>\n",
       "      <th>6</th>\n",
       "      <td>tL6pL</td>\n",
       "      <td>0.645075</td>\n",
       "      <td>0.530656</td>\n",
       "      <td>1.780266</td>\n",
       "      <td>49.055285</td>\n",
       "    </tr>\n",
       "    <tr>\n",
       "      <th>7</th>\n",
       "      <td>BYPU6</td>\n",
       "      <td>-0.400648</td>\n",
       "      <td>0.808337</td>\n",
       "      <td>-5.624670</td>\n",
       "      <td>72.943292</td>\n",
       "    </tr>\n",
       "    <tr>\n",
       "      <th>8</th>\n",
       "      <td>j9Oui</td>\n",
       "      <td>0.643105</td>\n",
       "      <td>-0.551583</td>\n",
       "      <td>2.372141</td>\n",
       "      <td>113.356160</td>\n",
       "    </tr>\n",
       "    <tr>\n",
       "      <th>9</th>\n",
       "      <td>OLuZU</td>\n",
       "      <td>2.173381</td>\n",
       "      <td>0.563698</td>\n",
       "      <td>9.441852</td>\n",
       "      <td>127.910945</td>\n",
       "    </tr>\n",
       "  </tbody>\n",
       "</table>\n",
       "</div>"
      ],
      "text/plain": [
       "      id        f0        f1        f2     product\n",
       "0  txEyH  0.705745 -0.497823  1.221170  105.280062\n",
       "1  2acmU  1.334711 -0.340164  4.365080   73.037750\n",
       "2  409Wp  1.022732  0.151990  1.419926   85.265647\n",
       "3  iJLyR -0.032172  0.139033  2.978566  168.620776\n",
       "4  Xdl7t  1.988431  0.155413  4.751769  154.036647\n",
       "5  wX4Hy  0.969570  0.489775 -0.735383   64.741541\n",
       "6  tL6pL  0.645075  0.530656  1.780266   49.055285\n",
       "7  BYPU6 -0.400648  0.808337 -5.624670   72.943292\n",
       "8  j9Oui  0.643105 -0.551583  2.372141  113.356160\n",
       "9  OLuZU  2.173381  0.563698  9.441852  127.910945"
      ]
     },
     "metadata": {},
     "output_type": "display_data"
    },
    {
     "data": {
      "text/html": [
       "<div>\n",
       "<style scoped>\n",
       "    .dataframe tbody tr th:only-of-type {\n",
       "        vertical-align: middle;\n",
       "    }\n",
       "\n",
       "    .dataframe tbody tr th {\n",
       "        vertical-align: top;\n",
       "    }\n",
       "\n",
       "    .dataframe thead th {\n",
       "        text-align: right;\n",
       "    }\n",
       "</style>\n",
       "<table border=\"1\" class=\"dataframe\">\n",
       "  <thead>\n",
       "    <tr style=\"text-align: right;\">\n",
       "      <th></th>\n",
       "      <th>f0</th>\n",
       "      <th>f1</th>\n",
       "      <th>f2</th>\n",
       "      <th>product</th>\n",
       "    </tr>\n",
       "  </thead>\n",
       "  <tbody>\n",
       "    <tr>\n",
       "      <th>count</th>\n",
       "      <td>100000.000000</td>\n",
       "      <td>100000.000000</td>\n",
       "      <td>100000.000000</td>\n",
       "      <td>100000.000000</td>\n",
       "    </tr>\n",
       "    <tr>\n",
       "      <th>mean</th>\n",
       "      <td>0.500419</td>\n",
       "      <td>0.250143</td>\n",
       "      <td>2.502647</td>\n",
       "      <td>92.500000</td>\n",
       "    </tr>\n",
       "    <tr>\n",
       "      <th>std</th>\n",
       "      <td>0.871832</td>\n",
       "      <td>0.504433</td>\n",
       "      <td>3.248248</td>\n",
       "      <td>44.288691</td>\n",
       "    </tr>\n",
       "    <tr>\n",
       "      <th>min</th>\n",
       "      <td>-1.408605</td>\n",
       "      <td>-0.848218</td>\n",
       "      <td>-12.088328</td>\n",
       "      <td>0.000000</td>\n",
       "    </tr>\n",
       "    <tr>\n",
       "      <th>25%</th>\n",
       "      <td>-0.072580</td>\n",
       "      <td>-0.200881</td>\n",
       "      <td>0.287748</td>\n",
       "      <td>56.497507</td>\n",
       "    </tr>\n",
       "    <tr>\n",
       "      <th>50%</th>\n",
       "      <td>0.502360</td>\n",
       "      <td>0.250252</td>\n",
       "      <td>2.515969</td>\n",
       "      <td>91.849972</td>\n",
       "    </tr>\n",
       "    <tr>\n",
       "      <th>75%</th>\n",
       "      <td>1.073581</td>\n",
       "      <td>0.700646</td>\n",
       "      <td>4.715088</td>\n",
       "      <td>128.564089</td>\n",
       "    </tr>\n",
       "    <tr>\n",
       "      <th>max</th>\n",
       "      <td>2.362331</td>\n",
       "      <td>1.343769</td>\n",
       "      <td>16.003790</td>\n",
       "      <td>185.364347</td>\n",
       "    </tr>\n",
       "  </tbody>\n",
       "</table>\n",
       "</div>"
      ],
      "text/plain": [
       "                  f0             f1             f2        product\n",
       "count  100000.000000  100000.000000  100000.000000  100000.000000\n",
       "mean        0.500419       0.250143       2.502647      92.500000\n",
       "std         0.871832       0.504433       3.248248      44.288691\n",
       "min        -1.408605      -0.848218     -12.088328       0.000000\n",
       "25%        -0.072580      -0.200881       0.287748      56.497507\n",
       "50%         0.502360       0.250252       2.515969      91.849972\n",
       "75%         1.073581       0.700646       4.715088     128.564089\n",
       "max         2.362331       1.343769      16.003790     185.364347"
      ]
     },
     "metadata": {},
     "output_type": "display_data"
    },
    {
     "data": {
      "text/html": [
       "<div>\n",
       "<style scoped>\n",
       "    .dataframe tbody tr th:only-of-type {\n",
       "        vertical-align: middle;\n",
       "    }\n",
       "\n",
       "    .dataframe tbody tr th {\n",
       "        vertical-align: top;\n",
       "    }\n",
       "\n",
       "    .dataframe thead th {\n",
       "        text-align: right;\n",
       "    }\n",
       "</style>\n",
       "<table border=\"1\" class=\"dataframe\">\n",
       "  <thead>\n",
       "    <tr style=\"text-align: right;\">\n",
       "      <th></th>\n",
       "      <th>id</th>\n",
       "    </tr>\n",
       "  </thead>\n",
       "  <tbody>\n",
       "    <tr>\n",
       "      <th>count</th>\n",
       "      <td>100000</td>\n",
       "    </tr>\n",
       "    <tr>\n",
       "      <th>unique</th>\n",
       "      <td>99990</td>\n",
       "    </tr>\n",
       "    <tr>\n",
       "      <th>top</th>\n",
       "      <td>TtcGQ</td>\n",
       "    </tr>\n",
       "    <tr>\n",
       "      <th>freq</th>\n",
       "      <td>2</td>\n",
       "    </tr>\n",
       "  </tbody>\n",
       "</table>\n",
       "</div>"
      ],
      "text/plain": [
       "            id\n",
       "count   100000\n",
       "unique   99990\n",
       "top      TtcGQ\n",
       "freq         2"
      ]
     },
     "metadata": {},
     "output_type": "display_data"
    }
   ],
   "source": [
    "# Получение информации о регионе `geo_data_0`\n",
    "show_i(df0)"
   ]
  },
  {
   "cell_type": "code",
   "execution_count": 5,
   "metadata": {},
   "outputs": [
    {
     "data": {
      "text/plain": [
       "(100000, 5)"
      ]
     },
     "metadata": {},
     "output_type": "display_data"
    },
    {
     "name": "stdout",
     "output_type": "stream",
     "text": [
      "<class 'pandas.core.frame.DataFrame'>\n",
      "RangeIndex: 100000 entries, 0 to 99999\n",
      "Data columns (total 5 columns):\n",
      " #   Column   Non-Null Count   Dtype  \n",
      "---  ------   --------------   -----  \n",
      " 0   id       100000 non-null  object \n",
      " 1   f0       100000 non-null  float64\n",
      " 2   f1       100000 non-null  float64\n",
      " 3   f2       100000 non-null  float64\n",
      " 4   product  100000 non-null  float64\n",
      "dtypes: float64(4), object(1)\n",
      "memory usage: 3.8+ MB\n"
     ]
    },
    {
     "data": {
      "text/plain": [
       "None"
      ]
     },
     "metadata": {},
     "output_type": "display_data"
    },
    {
     "data": {
      "text/html": [
       "<div>\n",
       "<style scoped>\n",
       "    .dataframe tbody tr th:only-of-type {\n",
       "        vertical-align: middle;\n",
       "    }\n",
       "\n",
       "    .dataframe tbody tr th {\n",
       "        vertical-align: top;\n",
       "    }\n",
       "\n",
       "    .dataframe thead th {\n",
       "        text-align: right;\n",
       "    }\n",
       "</style>\n",
       "<table border=\"1\" class=\"dataframe\">\n",
       "  <thead>\n",
       "    <tr style=\"text-align: right;\">\n",
       "      <th></th>\n",
       "      <th>id</th>\n",
       "      <th>f0</th>\n",
       "      <th>f1</th>\n",
       "      <th>f2</th>\n",
       "      <th>product</th>\n",
       "    </tr>\n",
       "  </thead>\n",
       "  <tbody>\n",
       "    <tr>\n",
       "      <th>0</th>\n",
       "      <td>kBEdx</td>\n",
       "      <td>-15.001348</td>\n",
       "      <td>-8.276000</td>\n",
       "      <td>-0.005876</td>\n",
       "      <td>3.179103</td>\n",
       "    </tr>\n",
       "    <tr>\n",
       "      <th>1</th>\n",
       "      <td>62mP7</td>\n",
       "      <td>14.272088</td>\n",
       "      <td>-3.475083</td>\n",
       "      <td>0.999183</td>\n",
       "      <td>26.953261</td>\n",
       "    </tr>\n",
       "    <tr>\n",
       "      <th>2</th>\n",
       "      <td>vyE1P</td>\n",
       "      <td>6.263187</td>\n",
       "      <td>-5.948386</td>\n",
       "      <td>5.001160</td>\n",
       "      <td>134.766305</td>\n",
       "    </tr>\n",
       "    <tr>\n",
       "      <th>3</th>\n",
       "      <td>KcrkZ</td>\n",
       "      <td>-13.081196</td>\n",
       "      <td>-11.506057</td>\n",
       "      <td>4.999415</td>\n",
       "      <td>137.945408</td>\n",
       "    </tr>\n",
       "    <tr>\n",
       "      <th>4</th>\n",
       "      <td>AHL4O</td>\n",
       "      <td>12.702195</td>\n",
       "      <td>-8.147433</td>\n",
       "      <td>5.004363</td>\n",
       "      <td>134.766305</td>\n",
       "    </tr>\n",
       "    <tr>\n",
       "      <th>5</th>\n",
       "      <td>HHckp</td>\n",
       "      <td>-3.327590</td>\n",
       "      <td>-2.205276</td>\n",
       "      <td>3.003647</td>\n",
       "      <td>84.038886</td>\n",
       "    </tr>\n",
       "    <tr>\n",
       "      <th>6</th>\n",
       "      <td>h5Ujo</td>\n",
       "      <td>-11.142655</td>\n",
       "      <td>-10.133399</td>\n",
       "      <td>4.002382</td>\n",
       "      <td>110.992147</td>\n",
       "    </tr>\n",
       "    <tr>\n",
       "      <th>7</th>\n",
       "      <td>muH9x</td>\n",
       "      <td>4.234715</td>\n",
       "      <td>-0.001354</td>\n",
       "      <td>2.004588</td>\n",
       "      <td>53.906522</td>\n",
       "    </tr>\n",
       "    <tr>\n",
       "      <th>8</th>\n",
       "      <td>YiRkx</td>\n",
       "      <td>13.355129</td>\n",
       "      <td>-0.332068</td>\n",
       "      <td>4.998647</td>\n",
       "      <td>134.766305</td>\n",
       "    </tr>\n",
       "    <tr>\n",
       "      <th>9</th>\n",
       "      <td>jG6Gi</td>\n",
       "      <td>1.069227</td>\n",
       "      <td>-11.025667</td>\n",
       "      <td>4.997844</td>\n",
       "      <td>137.945408</td>\n",
       "    </tr>\n",
       "  </tbody>\n",
       "</table>\n",
       "</div>"
      ],
      "text/plain": [
       "      id         f0         f1        f2     product\n",
       "0  kBEdx -15.001348  -8.276000 -0.005876    3.179103\n",
       "1  62mP7  14.272088  -3.475083  0.999183   26.953261\n",
       "2  vyE1P   6.263187  -5.948386  5.001160  134.766305\n",
       "3  KcrkZ -13.081196 -11.506057  4.999415  137.945408\n",
       "4  AHL4O  12.702195  -8.147433  5.004363  134.766305\n",
       "5  HHckp  -3.327590  -2.205276  3.003647   84.038886\n",
       "6  h5Ujo -11.142655 -10.133399  4.002382  110.992147\n",
       "7  muH9x   4.234715  -0.001354  2.004588   53.906522\n",
       "8  YiRkx  13.355129  -0.332068  4.998647  134.766305\n",
       "9  jG6Gi   1.069227 -11.025667  4.997844  137.945408"
      ]
     },
     "metadata": {},
     "output_type": "display_data"
    },
    {
     "data": {
      "text/html": [
       "<div>\n",
       "<style scoped>\n",
       "    .dataframe tbody tr th:only-of-type {\n",
       "        vertical-align: middle;\n",
       "    }\n",
       "\n",
       "    .dataframe tbody tr th {\n",
       "        vertical-align: top;\n",
       "    }\n",
       "\n",
       "    .dataframe thead th {\n",
       "        text-align: right;\n",
       "    }\n",
       "</style>\n",
       "<table border=\"1\" class=\"dataframe\">\n",
       "  <thead>\n",
       "    <tr style=\"text-align: right;\">\n",
       "      <th></th>\n",
       "      <th>f0</th>\n",
       "      <th>f1</th>\n",
       "      <th>f2</th>\n",
       "      <th>product</th>\n",
       "    </tr>\n",
       "  </thead>\n",
       "  <tbody>\n",
       "    <tr>\n",
       "      <th>count</th>\n",
       "      <td>100000.000000</td>\n",
       "      <td>100000.000000</td>\n",
       "      <td>100000.000000</td>\n",
       "      <td>100000.000000</td>\n",
       "    </tr>\n",
       "    <tr>\n",
       "      <th>mean</th>\n",
       "      <td>1.141296</td>\n",
       "      <td>-4.796579</td>\n",
       "      <td>2.494541</td>\n",
       "      <td>68.825000</td>\n",
       "    </tr>\n",
       "    <tr>\n",
       "      <th>std</th>\n",
       "      <td>8.965932</td>\n",
       "      <td>5.119872</td>\n",
       "      <td>1.703572</td>\n",
       "      <td>45.944423</td>\n",
       "    </tr>\n",
       "    <tr>\n",
       "      <th>min</th>\n",
       "      <td>-31.609576</td>\n",
       "      <td>-26.358598</td>\n",
       "      <td>-0.018144</td>\n",
       "      <td>0.000000</td>\n",
       "    </tr>\n",
       "    <tr>\n",
       "      <th>25%</th>\n",
       "      <td>-6.298551</td>\n",
       "      <td>-8.267985</td>\n",
       "      <td>1.000021</td>\n",
       "      <td>26.953261</td>\n",
       "    </tr>\n",
       "    <tr>\n",
       "      <th>50%</th>\n",
       "      <td>1.153055</td>\n",
       "      <td>-4.813172</td>\n",
       "      <td>2.011479</td>\n",
       "      <td>57.085625</td>\n",
       "    </tr>\n",
       "    <tr>\n",
       "      <th>75%</th>\n",
       "      <td>8.621015</td>\n",
       "      <td>-1.332816</td>\n",
       "      <td>3.999904</td>\n",
       "      <td>107.813044</td>\n",
       "    </tr>\n",
       "    <tr>\n",
       "      <th>max</th>\n",
       "      <td>29.421755</td>\n",
       "      <td>18.734063</td>\n",
       "      <td>5.019721</td>\n",
       "      <td>137.945408</td>\n",
       "    </tr>\n",
       "  </tbody>\n",
       "</table>\n",
       "</div>"
      ],
      "text/plain": [
       "                  f0             f1             f2        product\n",
       "count  100000.000000  100000.000000  100000.000000  100000.000000\n",
       "mean        1.141296      -4.796579       2.494541      68.825000\n",
       "std         8.965932       5.119872       1.703572      45.944423\n",
       "min       -31.609576     -26.358598      -0.018144       0.000000\n",
       "25%        -6.298551      -8.267985       1.000021      26.953261\n",
       "50%         1.153055      -4.813172       2.011479      57.085625\n",
       "75%         8.621015      -1.332816       3.999904     107.813044\n",
       "max        29.421755      18.734063       5.019721     137.945408"
      ]
     },
     "metadata": {},
     "output_type": "display_data"
    },
    {
     "data": {
      "text/html": [
       "<div>\n",
       "<style scoped>\n",
       "    .dataframe tbody tr th:only-of-type {\n",
       "        vertical-align: middle;\n",
       "    }\n",
       "\n",
       "    .dataframe tbody tr th {\n",
       "        vertical-align: top;\n",
       "    }\n",
       "\n",
       "    .dataframe thead th {\n",
       "        text-align: right;\n",
       "    }\n",
       "</style>\n",
       "<table border=\"1\" class=\"dataframe\">\n",
       "  <thead>\n",
       "    <tr style=\"text-align: right;\">\n",
       "      <th></th>\n",
       "      <th>id</th>\n",
       "    </tr>\n",
       "  </thead>\n",
       "  <tbody>\n",
       "    <tr>\n",
       "      <th>count</th>\n",
       "      <td>100000</td>\n",
       "    </tr>\n",
       "    <tr>\n",
       "      <th>unique</th>\n",
       "      <td>99996</td>\n",
       "    </tr>\n",
       "    <tr>\n",
       "      <th>top</th>\n",
       "      <td>wt4Uk</td>\n",
       "    </tr>\n",
       "    <tr>\n",
       "      <th>freq</th>\n",
       "      <td>2</td>\n",
       "    </tr>\n",
       "  </tbody>\n",
       "</table>\n",
       "</div>"
      ],
      "text/plain": [
       "            id\n",
       "count   100000\n",
       "unique   99996\n",
       "top      wt4Uk\n",
       "freq         2"
      ]
     },
     "metadata": {},
     "output_type": "display_data"
    }
   ],
   "source": [
    "# Получение информации о регионе `geo_data_1`\n",
    "show_i(df1)"
   ]
  },
  {
   "cell_type": "code",
   "execution_count": 6,
   "metadata": {},
   "outputs": [
    {
     "data": {
      "text/plain": [
       "(100000, 5)"
      ]
     },
     "metadata": {},
     "output_type": "display_data"
    },
    {
     "name": "stdout",
     "output_type": "stream",
     "text": [
      "<class 'pandas.core.frame.DataFrame'>\n",
      "RangeIndex: 100000 entries, 0 to 99999\n",
      "Data columns (total 5 columns):\n",
      " #   Column   Non-Null Count   Dtype  \n",
      "---  ------   --------------   -----  \n",
      " 0   id       100000 non-null  object \n",
      " 1   f0       100000 non-null  float64\n",
      " 2   f1       100000 non-null  float64\n",
      " 3   f2       100000 non-null  float64\n",
      " 4   product  100000 non-null  float64\n",
      "dtypes: float64(4), object(1)\n",
      "memory usage: 3.8+ MB\n"
     ]
    },
    {
     "data": {
      "text/plain": [
       "None"
      ]
     },
     "metadata": {},
     "output_type": "display_data"
    },
    {
     "data": {
      "text/html": [
       "<div>\n",
       "<style scoped>\n",
       "    .dataframe tbody tr th:only-of-type {\n",
       "        vertical-align: middle;\n",
       "    }\n",
       "\n",
       "    .dataframe tbody tr th {\n",
       "        vertical-align: top;\n",
       "    }\n",
       "\n",
       "    .dataframe thead th {\n",
       "        text-align: right;\n",
       "    }\n",
       "</style>\n",
       "<table border=\"1\" class=\"dataframe\">\n",
       "  <thead>\n",
       "    <tr style=\"text-align: right;\">\n",
       "      <th></th>\n",
       "      <th>id</th>\n",
       "      <th>f0</th>\n",
       "      <th>f1</th>\n",
       "      <th>f2</th>\n",
       "      <th>product</th>\n",
       "    </tr>\n",
       "  </thead>\n",
       "  <tbody>\n",
       "    <tr>\n",
       "      <th>0</th>\n",
       "      <td>fwXo0</td>\n",
       "      <td>-1.146987</td>\n",
       "      <td>0.963328</td>\n",
       "      <td>-0.828965</td>\n",
       "      <td>27.758673</td>\n",
       "    </tr>\n",
       "    <tr>\n",
       "      <th>1</th>\n",
       "      <td>WJtFt</td>\n",
       "      <td>0.262778</td>\n",
       "      <td>0.269839</td>\n",
       "      <td>-2.530187</td>\n",
       "      <td>56.069697</td>\n",
       "    </tr>\n",
       "    <tr>\n",
       "      <th>2</th>\n",
       "      <td>ovLUW</td>\n",
       "      <td>0.194587</td>\n",
       "      <td>0.289035</td>\n",
       "      <td>-5.586433</td>\n",
       "      <td>62.871910</td>\n",
       "    </tr>\n",
       "    <tr>\n",
       "      <th>3</th>\n",
       "      <td>q6cA6</td>\n",
       "      <td>2.236060</td>\n",
       "      <td>-0.553760</td>\n",
       "      <td>0.930038</td>\n",
       "      <td>114.572842</td>\n",
       "    </tr>\n",
       "    <tr>\n",
       "      <th>4</th>\n",
       "      <td>WPMUX</td>\n",
       "      <td>-0.515993</td>\n",
       "      <td>1.716266</td>\n",
       "      <td>5.899011</td>\n",
       "      <td>149.600746</td>\n",
       "    </tr>\n",
       "    <tr>\n",
       "      <th>5</th>\n",
       "      <td>LzZXx</td>\n",
       "      <td>-0.758092</td>\n",
       "      <td>0.710691</td>\n",
       "      <td>2.585887</td>\n",
       "      <td>90.222465</td>\n",
       "    </tr>\n",
       "    <tr>\n",
       "      <th>6</th>\n",
       "      <td>WBHRv</td>\n",
       "      <td>-0.574891</td>\n",
       "      <td>0.317727</td>\n",
       "      <td>1.773745</td>\n",
       "      <td>45.641478</td>\n",
       "    </tr>\n",
       "    <tr>\n",
       "      <th>7</th>\n",
       "      <td>XO8fn</td>\n",
       "      <td>-1.906649</td>\n",
       "      <td>-2.458350</td>\n",
       "      <td>-0.177097</td>\n",
       "      <td>72.480640</td>\n",
       "    </tr>\n",
       "    <tr>\n",
       "      <th>8</th>\n",
       "      <td>ybmQ5</td>\n",
       "      <td>1.776292</td>\n",
       "      <td>-0.279356</td>\n",
       "      <td>3.004156</td>\n",
       "      <td>106.616832</td>\n",
       "    </tr>\n",
       "    <tr>\n",
       "      <th>9</th>\n",
       "      <td>OilcN</td>\n",
       "      <td>-1.214452</td>\n",
       "      <td>-0.439314</td>\n",
       "      <td>5.922514</td>\n",
       "      <td>52.954532</td>\n",
       "    </tr>\n",
       "  </tbody>\n",
       "</table>\n",
       "</div>"
      ],
      "text/plain": [
       "      id        f0        f1        f2     product\n",
       "0  fwXo0 -1.146987  0.963328 -0.828965   27.758673\n",
       "1  WJtFt  0.262778  0.269839 -2.530187   56.069697\n",
       "2  ovLUW  0.194587  0.289035 -5.586433   62.871910\n",
       "3  q6cA6  2.236060 -0.553760  0.930038  114.572842\n",
       "4  WPMUX -0.515993  1.716266  5.899011  149.600746\n",
       "5  LzZXx -0.758092  0.710691  2.585887   90.222465\n",
       "6  WBHRv -0.574891  0.317727  1.773745   45.641478\n",
       "7  XO8fn -1.906649 -2.458350 -0.177097   72.480640\n",
       "8  ybmQ5  1.776292 -0.279356  3.004156  106.616832\n",
       "9  OilcN -1.214452 -0.439314  5.922514   52.954532"
      ]
     },
     "metadata": {},
     "output_type": "display_data"
    },
    {
     "data": {
      "text/html": [
       "<div>\n",
       "<style scoped>\n",
       "    .dataframe tbody tr th:only-of-type {\n",
       "        vertical-align: middle;\n",
       "    }\n",
       "\n",
       "    .dataframe tbody tr th {\n",
       "        vertical-align: top;\n",
       "    }\n",
       "\n",
       "    .dataframe thead th {\n",
       "        text-align: right;\n",
       "    }\n",
       "</style>\n",
       "<table border=\"1\" class=\"dataframe\">\n",
       "  <thead>\n",
       "    <tr style=\"text-align: right;\">\n",
       "      <th></th>\n",
       "      <th>f0</th>\n",
       "      <th>f1</th>\n",
       "      <th>f2</th>\n",
       "      <th>product</th>\n",
       "    </tr>\n",
       "  </thead>\n",
       "  <tbody>\n",
       "    <tr>\n",
       "      <th>count</th>\n",
       "      <td>100000.000000</td>\n",
       "      <td>100000.000000</td>\n",
       "      <td>100000.000000</td>\n",
       "      <td>100000.000000</td>\n",
       "    </tr>\n",
       "    <tr>\n",
       "      <th>mean</th>\n",
       "      <td>0.002023</td>\n",
       "      <td>-0.002081</td>\n",
       "      <td>2.495128</td>\n",
       "      <td>95.000000</td>\n",
       "    </tr>\n",
       "    <tr>\n",
       "      <th>std</th>\n",
       "      <td>1.732045</td>\n",
       "      <td>1.730417</td>\n",
       "      <td>3.473445</td>\n",
       "      <td>44.749921</td>\n",
       "    </tr>\n",
       "    <tr>\n",
       "      <th>min</th>\n",
       "      <td>-8.760004</td>\n",
       "      <td>-7.084020</td>\n",
       "      <td>-11.970335</td>\n",
       "      <td>0.000000</td>\n",
       "    </tr>\n",
       "    <tr>\n",
       "      <th>25%</th>\n",
       "      <td>-1.162288</td>\n",
       "      <td>-1.174820</td>\n",
       "      <td>0.130359</td>\n",
       "      <td>59.450441</td>\n",
       "    </tr>\n",
       "    <tr>\n",
       "      <th>50%</th>\n",
       "      <td>0.009424</td>\n",
       "      <td>-0.009482</td>\n",
       "      <td>2.484236</td>\n",
       "      <td>94.925613</td>\n",
       "    </tr>\n",
       "    <tr>\n",
       "      <th>75%</th>\n",
       "      <td>1.158535</td>\n",
       "      <td>1.163678</td>\n",
       "      <td>4.858794</td>\n",
       "      <td>130.595027</td>\n",
       "    </tr>\n",
       "    <tr>\n",
       "      <th>max</th>\n",
       "      <td>7.238262</td>\n",
       "      <td>7.844801</td>\n",
       "      <td>16.739402</td>\n",
       "      <td>190.029838</td>\n",
       "    </tr>\n",
       "  </tbody>\n",
       "</table>\n",
       "</div>"
      ],
      "text/plain": [
       "                  f0             f1             f2        product\n",
       "count  100000.000000  100000.000000  100000.000000  100000.000000\n",
       "mean        0.002023      -0.002081       2.495128      95.000000\n",
       "std         1.732045       1.730417       3.473445      44.749921\n",
       "min        -8.760004      -7.084020     -11.970335       0.000000\n",
       "25%        -1.162288      -1.174820       0.130359      59.450441\n",
       "50%         0.009424      -0.009482       2.484236      94.925613\n",
       "75%         1.158535       1.163678       4.858794     130.595027\n",
       "max         7.238262       7.844801      16.739402     190.029838"
      ]
     },
     "metadata": {},
     "output_type": "display_data"
    },
    {
     "data": {
      "text/html": [
       "<div>\n",
       "<style scoped>\n",
       "    .dataframe tbody tr th:only-of-type {\n",
       "        vertical-align: middle;\n",
       "    }\n",
       "\n",
       "    .dataframe tbody tr th {\n",
       "        vertical-align: top;\n",
       "    }\n",
       "\n",
       "    .dataframe thead th {\n",
       "        text-align: right;\n",
       "    }\n",
       "</style>\n",
       "<table border=\"1\" class=\"dataframe\">\n",
       "  <thead>\n",
       "    <tr style=\"text-align: right;\">\n",
       "      <th></th>\n",
       "      <th>id</th>\n",
       "    </tr>\n",
       "  </thead>\n",
       "  <tbody>\n",
       "    <tr>\n",
       "      <th>count</th>\n",
       "      <td>100000</td>\n",
       "    </tr>\n",
       "    <tr>\n",
       "      <th>unique</th>\n",
       "      <td>99996</td>\n",
       "    </tr>\n",
       "    <tr>\n",
       "      <th>top</th>\n",
       "      <td>KUPhW</td>\n",
       "    </tr>\n",
       "    <tr>\n",
       "      <th>freq</th>\n",
       "      <td>2</td>\n",
       "    </tr>\n",
       "  </tbody>\n",
       "</table>\n",
       "</div>"
      ],
      "text/plain": [
       "            id\n",
       "count   100000\n",
       "unique   99996\n",
       "top      KUPhW\n",
       "freq         2"
      ]
     },
     "metadata": {},
     "output_type": "display_data"
    }
   ],
   "source": [
    "# Получение информации о регионе `geo_data_2`\n",
    "show_i(df2)"
   ]
  },
  {
   "cell_type": "markdown",
   "metadata": {},
   "source": [
    "Стоит отметить, что в каждом регионе есть как минимум несколько скважин пробы из которых брались дважды. Примеры таких наблюдений ниже. Пока просто отметим этот факт без каких либо выводов."
   ]
  },
  {
   "cell_type": "code",
   "execution_count": 7,
   "metadata": {},
   "outputs": [
    {
     "data": {
      "text/plain": [
       "TtcGQ    2\n",
       "AGS9W    2\n",
       "A5aEY    2\n",
       "74z30    2\n",
       "QcMuo    2\n",
       "bxg6G    2\n",
       "HZww2    2\n",
       "bsk9y    2\n",
       "fiKDv    2\n",
       "Tdehs    2\n",
       "iPtqe    1\n",
       "Name: id, dtype: int64"
      ]
     },
     "metadata": {},
     "output_type": "display_data"
    },
    {
     "data": {
      "text/html": [
       "<div>\n",
       "<style scoped>\n",
       "    .dataframe tbody tr th:only-of-type {\n",
       "        vertical-align: middle;\n",
       "    }\n",
       "\n",
       "    .dataframe tbody tr th {\n",
       "        vertical-align: top;\n",
       "    }\n",
       "\n",
       "    .dataframe thead th {\n",
       "        text-align: right;\n",
       "    }\n",
       "</style>\n",
       "<table border=\"1\" class=\"dataframe\">\n",
       "  <thead>\n",
       "    <tr style=\"text-align: right;\">\n",
       "      <th></th>\n",
       "      <th>id</th>\n",
       "      <th>f0</th>\n",
       "      <th>f1</th>\n",
       "      <th>f2</th>\n",
       "      <th>product</th>\n",
       "    </tr>\n",
       "  </thead>\n",
       "  <tbody>\n",
       "    <tr>\n",
       "      <th>42529</th>\n",
       "      <td>AGS9W</td>\n",
       "      <td>1.454747</td>\n",
       "      <td>-0.479651</td>\n",
       "      <td>0.683380</td>\n",
       "      <td>126.370504</td>\n",
       "    </tr>\n",
       "    <tr>\n",
       "      <th>69163</th>\n",
       "      <td>AGS9W</td>\n",
       "      <td>-0.933795</td>\n",
       "      <td>0.116194</td>\n",
       "      <td>-3.655896</td>\n",
       "      <td>19.230453</td>\n",
       "    </tr>\n",
       "  </tbody>\n",
       "</table>\n",
       "</div>"
      ],
      "text/plain": [
       "          id        f0        f1        f2     product\n",
       "42529  AGS9W  1.454747 -0.479651  0.683380  126.370504\n",
       "69163  AGS9W -0.933795  0.116194 -3.655896   19.230453"
      ]
     },
     "metadata": {},
     "output_type": "display_data"
    }
   ],
   "source": [
    "# находим повторные пробы нефти по скважинам\n",
    "display(df0['id'].value_counts().head(11))\n",
    "display(df0.loc[df0['id'] == 'AGS9W'])"
   ]
  },
  {
   "cell_type": "code",
   "execution_count": 8,
   "metadata": {},
   "outputs": [
    {
     "data": {
      "text/plain": [
       "wt4Uk    2\n",
       "LHZR0    2\n",
       "bfPNe    2\n",
       "5ltQ6    2\n",
       "VKrsm    1\n",
       "JeW0c    1\n",
       "rG66O    1\n",
       "Shtfk    1\n",
       "LaEmn    1\n",
       "cE5Zi    1\n",
       "Pae1b    1\n",
       "Name: id, dtype: int64"
      ]
     },
     "metadata": {},
     "output_type": "display_data"
    },
    {
     "data": {
      "text/html": [
       "<div>\n",
       "<style scoped>\n",
       "    .dataframe tbody tr th:only-of-type {\n",
       "        vertical-align: middle;\n",
       "    }\n",
       "\n",
       "    .dataframe tbody tr th {\n",
       "        vertical-align: top;\n",
       "    }\n",
       "\n",
       "    .dataframe thead th {\n",
       "        text-align: right;\n",
       "    }\n",
       "</style>\n",
       "<table border=\"1\" class=\"dataframe\">\n",
       "  <thead>\n",
       "    <tr style=\"text-align: right;\">\n",
       "      <th></th>\n",
       "      <th>id</th>\n",
       "      <th>f0</th>\n",
       "      <th>f1</th>\n",
       "      <th>f2</th>\n",
       "      <th>product</th>\n",
       "    </tr>\n",
       "  </thead>\n",
       "  <tbody>\n",
       "    <tr>\n",
       "      <th>47591</th>\n",
       "      <td>wt4Uk</td>\n",
       "      <td>-9.091098</td>\n",
       "      <td>-8.109279</td>\n",
       "      <td>-0.002314</td>\n",
       "      <td>3.179103</td>\n",
       "    </tr>\n",
       "    <tr>\n",
       "      <th>82873</th>\n",
       "      <td>wt4Uk</td>\n",
       "      <td>10.259972</td>\n",
       "      <td>-9.376355</td>\n",
       "      <td>4.994297</td>\n",
       "      <td>134.766305</td>\n",
       "    </tr>\n",
       "  </tbody>\n",
       "</table>\n",
       "</div>"
      ],
      "text/plain": [
       "          id         f0        f1        f2     product\n",
       "47591  wt4Uk  -9.091098 -8.109279 -0.002314    3.179103\n",
       "82873  wt4Uk  10.259972 -9.376355  4.994297  134.766305"
      ]
     },
     "metadata": {},
     "output_type": "display_data"
    }
   ],
   "source": [
    "display(df1['id'].value_counts().head(11))\n",
    "display(df1.loc[df1['id'] == 'wt4Uk'])"
   ]
  },
  {
   "cell_type": "code",
   "execution_count": 9,
   "metadata": {},
   "outputs": [
    {
     "data": {
      "text/plain": [
       "KUPhW    2\n",
       "xCHr8    2\n",
       "VF7Jo    2\n",
       "Vcm5J    2\n",
       "xYQPP    1\n",
       "g209w    1\n",
       "m44UK    1\n",
       "JieAA    1\n",
       "PKcyo    1\n",
       "XJv2N    1\n",
       "Y3lwp    1\n",
       "Name: id, dtype: int64"
      ]
     },
     "metadata": {},
     "output_type": "display_data"
    },
    {
     "data": {
      "text/html": [
       "<div>\n",
       "<style scoped>\n",
       "    .dataframe tbody tr th:only-of-type {\n",
       "        vertical-align: middle;\n",
       "    }\n",
       "\n",
       "    .dataframe tbody tr th {\n",
       "        vertical-align: top;\n",
       "    }\n",
       "\n",
       "    .dataframe thead th {\n",
       "        text-align: right;\n",
       "    }\n",
       "</style>\n",
       "<table border=\"1\" class=\"dataframe\">\n",
       "  <thead>\n",
       "    <tr style=\"text-align: right;\">\n",
       "      <th></th>\n",
       "      <th>id</th>\n",
       "      <th>f0</th>\n",
       "      <th>f1</th>\n",
       "      <th>f2</th>\n",
       "      <th>product</th>\n",
       "    </tr>\n",
       "  </thead>\n",
       "  <tbody>\n",
       "    <tr>\n",
       "      <th>11449</th>\n",
       "      <td>VF7Jo</td>\n",
       "      <td>2.122656</td>\n",
       "      <td>-0.858275</td>\n",
       "      <td>5.746001</td>\n",
       "      <td>181.716817</td>\n",
       "    </tr>\n",
       "    <tr>\n",
       "      <th>49564</th>\n",
       "      <td>VF7Jo</td>\n",
       "      <td>-0.883115</td>\n",
       "      <td>0.560537</td>\n",
       "      <td>0.723601</td>\n",
       "      <td>136.233420</td>\n",
       "    </tr>\n",
       "  </tbody>\n",
       "</table>\n",
       "</div>"
      ],
      "text/plain": [
       "          id        f0        f1        f2     product\n",
       "11449  VF7Jo  2.122656 -0.858275  5.746001  181.716817\n",
       "49564  VF7Jo -0.883115  0.560537  0.723601  136.233420"
      ]
     },
     "metadata": {},
     "output_type": "display_data"
    }
   ],
   "source": [
    "display(df2['id'].value_counts().head(11))\n",
    "display(df2.loc[df2['id'] == 'VF7Jo'])"
   ]
  },
  {
   "cell_type": "markdown",
   "metadata": {},
   "source": [
    "`Вывод` - мы видим, что пропущенных значений нет, параметры не нуждаются в прямом кодировнии. После разделения выборок проведём масштабирование для лучшей работы модели. \n",
    "Мы обнаружили, что из некоторых скважин пробу брали дважды, данные разведанных нефтяных запасов при этом различались. Пока просто примем эту информацию к сведению.\n",
    "\n",
    "\n",
    "Мы можем приступить к следующему этапу - обучению и проверке модели."
   ]
  },
  {
   "cell_type": "markdown",
   "metadata": {},
   "source": [
    "## Обучение и проверка модели"
   ]
  },
  {
   "cell_type": "markdown",
   "metadata": {},
   "source": [
    "### Разбиваем данные на обучающую и валидационные выборки"
   ]
  },
  {
   "cell_type": "markdown",
   "metadata": {},
   "source": [
    "Создаём функцию `split()` для разбиения данных для регионов `geo_data_0`,  `geo_data_1`,  `geo_data_2`"
   ]
  },
  {
   "cell_type": "code",
   "execution_count": 10,
   "metadata": {},
   "outputs": [],
   "source": [
    "def split(dataframe):\n",
    "    # извлекаем признаки, исключаем целевой признак и признак `id` который не имеет предсказательной силы тк это название скважины\n",
    "    features0 = dataframe.drop(['product', 'id'], axis=1) \n",
    "    \n",
    "    # извлекаем целевой признак\n",
    "    target0 = dataframe['product'] \n",
    "    \n",
    "    # делим на обучающую и валидационную выборки в аналогии 75 / 25\n",
    "    features_train0, features_valid0, target_train0, target_valid0 = train_test_split(\n",
    "    features0, target0, test_size=.25, random_state=12345)\n",
    "    \n",
    "    return features_train0, target_train0, features_valid0, target_valid0"
   ]
  },
  {
   "cell_type": "markdown",
   "metadata": {},
   "source": [
    "Выводим размеры таблиц для региона `geo_data_0`"
   ]
  },
  {
   "cell_type": "code",
   "execution_count": 11,
   "metadata": {},
   "outputs": [
    {
     "name": "stdout",
     "output_type": "stream",
     "text": [
      "Выводим размер таблицы features_train0: (75000, 3)\n",
      "Выводим размер таблицы target_train0: (75000,)\n",
      "Выводим размер таблицы features_valid0: (25000, 3)\n",
      "Выводим размер таблицы target_valid0: (25000,)\n"
     ]
    }
   ],
   "source": [
    "# сохряняем возвращаемые значения функции в глобальные переменные для последущего использования при обучении модели\n",
    "# выводим размеры таблиц методом `shape`\n",
    "features_train0 = split(df0)[0]\n",
    "print(f'Выводим размер таблицы features_train0: {features_train0.shape}')\n",
    "target_train0 = split(df0)[1]\n",
    "print(f'Выводим размер таблицы target_train0: {target_train0.shape}')\n",
    "features_valid0 = split(df0)[2]\n",
    "print(f'Выводим размер таблицы features_valid0: {features_valid0.shape}')\n",
    "target_valid0 = split(df0)[3]\n",
    "print(f'Выводим размер таблицы target_valid0: {target_valid0.shape}')"
   ]
  },
  {
   "cell_type": "markdown",
   "metadata": {},
   "source": [
    "Выводим размеры таблиц для региона `geo_data_1`"
   ]
  },
  {
   "cell_type": "code",
   "execution_count": 12,
   "metadata": {},
   "outputs": [
    {
     "name": "stdout",
     "output_type": "stream",
     "text": [
      "Выводим размер таблицы features_train1: (75000, 3)\n",
      "Выводим размер таблицы target_train1: (75000,)\n",
      "Выводим размер таблицы features_valid1: (25000, 3)\n",
      "Выводим размер таблицы target_valid1: (25000,)\n"
     ]
    }
   ],
   "source": [
    "# сохряняем возвращаемые значения функции в глобальные переменные для последущего использования при обучении модели\n",
    "# выводим размеры таблиц методом `shape`\n",
    "features_train1 = split(df1)[0]\n",
    "print(f'Выводим размер таблицы features_train1: {features_train1.shape}')\n",
    "target_train1 = split(df1)[1]\n",
    "print(f'Выводим размер таблицы target_train1: {target_train1.shape}')\n",
    "features_valid1 = split(df1)[2]\n",
    "print(f'Выводим размер таблицы features_valid1: {features_valid1.shape}')\n",
    "target_valid1 = split(df1)[3]\n",
    "print(f'Выводим размер таблицы target_valid1: {target_valid1.shape}')"
   ]
  },
  {
   "cell_type": "markdown",
   "metadata": {},
   "source": [
    "Выводим размеры таблиц для региона `geo_data_2`"
   ]
  },
  {
   "cell_type": "code",
   "execution_count": 13,
   "metadata": {},
   "outputs": [
    {
     "name": "stdout",
     "output_type": "stream",
     "text": [
      "Выводим размер таблицы features_train2: (75000, 3)\n",
      "Выводим размер таблицы target_train2: (75000,)\n",
      "Выводим размер таблицы features_valid2: (25000, 3)\n",
      "Выводим размер таблицы target_valid2: (25000,)\n"
     ]
    }
   ],
   "source": [
    "# сохряняем возвращаемые значения функции в глобальные переменные для последущего использования при обучении модели\n",
    "# выводим размеры таблиц методом `shape`\n",
    "features_train2 = split(df2)[0]\n",
    "print(f'Выводим размер таблицы features_train2: {features_train2.shape}')\n",
    "target_train2 = split(df2)[1]\n",
    "print(f'Выводим размер таблицы target_train2: {target_train2.shape}')\n",
    "features_valid2 = split(df2)[2]\n",
    "print(f'Выводим размер таблицы features_valid2: {features_valid2.shape}')\n",
    "target_valid2 = split(df2)[3]\n",
    "print(f'Выводим размер таблицы target_valid2: {target_valid2.shape}')"
   ]
  },
  {
   "cell_type": "markdown",
   "metadata": {},
   "source": [
    "Проводим масштабирование данных для лучшей работы модели линейной регрессии"
   ]
  },
  {
   "cell_type": "code",
   "execution_count": 14,
   "metadata": {},
   "outputs": [],
   "source": [
    "pd.options.mode.chained_assignment = None\n",
    "numeric = ['f0', 'f1', 'f2']\n",
    "\n",
    "# df0 scaling\n",
    "scaler = StandardScaler()\n",
    "scaler.fit(df0[numeric])\n",
    "\n",
    "features_train0[numeric] = scaler.transform(features_train0[numeric])\n",
    "features_valid0[numeric] = scaler.transform(features_valid0[numeric])\n",
    "\n",
    "# df1 scaling\n",
    "scaler = StandardScaler()\n",
    "scaler.fit(df1[numeric])\n",
    "\n",
    "features_train1[numeric] = scaler.transform(features_train1[numeric])\n",
    "features_valid1[numeric] = scaler.transform(features_valid1[numeric])\n",
    "\n",
    "# df2 scaling\n",
    "scaler = StandardScaler()\n",
    "scaler.fit(df2[numeric])\n",
    "\n",
    "features_train2[numeric] = scaler.transform(features_train2[numeric])\n",
    "features_valid2[numeric] = scaler.transform(features_valid2[numeric])\n"
   ]
  },
  {
   "cell_type": "markdown",
   "metadata": {},
   "source": [
    "### Обучаем модели при помощи линейной регрессии"
   ]
  },
  {
   "cell_type": "markdown",
   "metadata": {},
   "source": [
    "Приступаем к обучению модели при помощи линейной регресси так как остальные модели, в данном случае, недостаточно предсказуемые."
   ]
  },
  {
   "cell_type": "markdown",
   "metadata": {},
   "source": [
    "Проводим обучение на выборке для региона `geo_data_0`"
   ]
  },
  {
   "cell_type": "code",
   "execution_count": 15,
   "metadata": {},
   "outputs": [
    {
     "data": {
      "text/html": [
       "<div>\n",
       "<style scoped>\n",
       "    .dataframe tbody tr th:only-of-type {\n",
       "        vertical-align: middle;\n",
       "    }\n",
       "\n",
       "    .dataframe tbody tr th {\n",
       "        vertical-align: top;\n",
       "    }\n",
       "\n",
       "    .dataframe thead th {\n",
       "        text-align: right;\n",
       "    }\n",
       "</style>\n",
       "<table border=\"1\" class=\"dataframe\">\n",
       "  <thead>\n",
       "    <tr style=\"text-align: right;\">\n",
       "      <th></th>\n",
       "      <th>f0</th>\n",
       "      <th>f1</th>\n",
       "      <th>f2</th>\n",
       "      <th>predictions_valid0</th>\n",
       "      <th>target_valid0</th>\n",
       "    </tr>\n",
       "  </thead>\n",
       "  <tbody>\n",
       "    <tr>\n",
       "      <th>71751</th>\n",
       "      <td>0.514495</td>\n",
       "      <td>-0.609975</td>\n",
       "      <td>-0.125274</td>\n",
       "      <td>95.894952</td>\n",
       "      <td>10.038645</td>\n",
       "    </tr>\n",
       "    <tr>\n",
       "      <th>80493</th>\n",
       "      <td>0.564968</td>\n",
       "      <td>-0.086181</td>\n",
       "      <td>-0.814266</td>\n",
       "      <td>77.572583</td>\n",
       "      <td>114.551489</td>\n",
       "    </tr>\n",
       "    <tr>\n",
       "      <th>2655</th>\n",
       "      <td>0.802263</td>\n",
       "      <td>-1.612709</td>\n",
       "      <td>-1.340926</td>\n",
       "      <td>77.892640</td>\n",
       "      <td>132.603635</td>\n",
       "    </tr>\n",
       "  </tbody>\n",
       "</table>\n",
       "</div>"
      ],
      "text/plain": [
       "             f0        f1        f2  predictions_valid0  target_valid0\n",
       "71751  0.514495 -0.609975 -0.125274           95.894952      10.038645\n",
       "80493  0.564968 -0.086181 -0.814266           77.572583     114.551489\n",
       "2655   0.802263 -1.612709 -1.340926           77.892640     132.603635"
      ]
     },
     "metadata": {},
     "output_type": "display_data"
    },
    {
     "name": "stdout",
     "output_type": "stream",
     "text": [
      "Средний предсказанный запас сырья в регионе geo_data_0: 92.59256778438035 (тыс. баррелей)\n",
      "RMSE модели линейной регрессии на валидационной выборке features_train0 (регион `geo_data_0`) 37.5794217150813\n"
     ]
    }
   ],
   "source": [
    "# инициализируем модель LinearRegression\n",
    "model = LinearRegression()\n",
    "\n",
    "# обучаем модель на тренировочной выборке\n",
    "model.fit(features_train0, target_train0, sample_weight=None)\n",
    "\n",
    "# получаем предсказания модели на валидационной выборке\n",
    "predictions_valid0 = model.predict(features_valid0) \n",
    "\n",
    "# сохраняем результаты предсказания в валидационной выборке вместе с правильными ответами и выводим на экран\n",
    "features_valid0['predictions_valid0'] = predictions_valid0\n",
    "features_valid0['target_valid0'] = target_valid0\n",
    "display(features_valid0.head(3))\n",
    "\n",
    "# средний запас предсказанного сырья в регионе\n",
    "predictions_valid0_mean = features_valid0[\"predictions_valid0\"].mean()\n",
    "print(f'Средний предсказанный запас сырья в регионе geo_data_0: {predictions_valid0_mean} (тыс. баррелей)')\n",
    "\n",
    "# считаем значение метрики RMSE на валидационной выборке\n",
    "result0 = mean_squared_error(target_valid0, predictions_valid0) ** 0.5 \n",
    "print(\"RMSE модели линейной регрессии на валидационной выборке features_train0 (регион `geo_data_0`)\", result0)\n"
   ]
  },
  {
   "cell_type": "markdown",
   "metadata": {},
   "source": [
    "Проводим обучение на выборке для региона `geo_data_1`"
   ]
  },
  {
   "cell_type": "code",
   "execution_count": 16,
   "metadata": {},
   "outputs": [
    {
     "data": {
      "text/html": [
       "<div>\n",
       "<style scoped>\n",
       "    .dataframe tbody tr th:only-of-type {\n",
       "        vertical-align: middle;\n",
       "    }\n",
       "\n",
       "    .dataframe tbody tr th {\n",
       "        vertical-align: top;\n",
       "    }\n",
       "\n",
       "    .dataframe thead th {\n",
       "        text-align: right;\n",
       "    }\n",
       "</style>\n",
       "<table border=\"1\" class=\"dataframe\">\n",
       "  <thead>\n",
       "    <tr style=\"text-align: right;\">\n",
       "      <th></th>\n",
       "      <th>f0</th>\n",
       "      <th>f1</th>\n",
       "      <th>f2</th>\n",
       "      <th>predictions_valid1</th>\n",
       "      <th>target_valid1</th>\n",
       "    </tr>\n",
       "  </thead>\n",
       "  <tbody>\n",
       "    <tr>\n",
       "      <th>71751</th>\n",
       "      <td>-0.168769</td>\n",
       "      <td>0.573081</td>\n",
       "      <td>0.298004</td>\n",
       "      <td>82.663314</td>\n",
       "      <td>80.859783</td>\n",
       "    </tr>\n",
       "    <tr>\n",
       "      <th>80493</th>\n",
       "      <td>0.878198</td>\n",
       "      <td>-1.774443</td>\n",
       "      <td>-0.293020</td>\n",
       "      <td>54.431786</td>\n",
       "      <td>53.906522</td>\n",
       "    </tr>\n",
       "    <tr>\n",
       "      <th>2655</th>\n",
       "      <td>-0.853107</td>\n",
       "      <td>-0.004076</td>\n",
       "      <td>-0.875278</td>\n",
       "      <td>29.748760</td>\n",
       "      <td>30.132364</td>\n",
       "    </tr>\n",
       "  </tbody>\n",
       "</table>\n",
       "</div>"
      ],
      "text/plain": [
       "             f0        f1        f2  predictions_valid1  target_valid1\n",
       "71751 -0.168769  0.573081  0.298004           82.663314      80.859783\n",
       "80493  0.878198 -1.774443 -0.293020           54.431786      53.906522\n",
       "2655  -0.853107 -0.004076 -0.875278           29.748760      30.132364"
      ]
     },
     "metadata": {},
     "output_type": "display_data"
    },
    {
     "name": "stdout",
     "output_type": "stream",
     "text": [
      "Средний предсказанный запас сырья в регионе geo_data_1: 68.72854689544602 (тыс. баррелей)\n",
      "RMSE модели линейной регрессии на валидационной выборке features_train1 (регион `geo_data_1`) 0.893099286775617\n"
     ]
    }
   ],
   "source": [
    "# обучаем модель на тренировочной выборке\n",
    "model.fit(features_train1, target_train1, sample_weight=None)\n",
    "\n",
    "# получаем предсказания модели на валидационной выборке\n",
    "predictions_valid1 = model.predict(features_valid1) \n",
    "\n",
    "# сохраняем результаты предсказания в валидационной выборке вместе с правильными ответами и выводим на экран\n",
    "features_valid1['predictions_valid1'] = predictions_valid1\n",
    "features_valid1['target_valid1'] = target_valid1\n",
    "display(features_valid1.head(3))\n",
    "\n",
    "# средний запас предсказанного сырья в регионе\n",
    "predictions_valid1_mean = features_valid1[\"predictions_valid1\"].mean()\n",
    "print(f'Средний предсказанный запас сырья в регионе geo_data_1: {predictions_valid1_mean} (тыс. баррелей)')\n",
    "\n",
    "# считаем значение метрики RMSE на валидационной выборке\n",
    "result1 = mean_squared_error(target_valid1, predictions_valid1) ** 0.5 \n",
    "print(\"RMSE модели линейной регрессии на валидационной выборке features_train1 (регион `geo_data_1`)\", result1)"
   ]
  },
  {
   "cell_type": "markdown",
   "metadata": {},
   "source": [
    "Проводим обучение на выборке для региона `geo_data_2`"
   ]
  },
  {
   "cell_type": "code",
   "execution_count": 17,
   "metadata": {},
   "outputs": [
    {
     "data": {
      "text/html": [
       "<div>\n",
       "<style scoped>\n",
       "    .dataframe tbody tr th:only-of-type {\n",
       "        vertical-align: middle;\n",
       "    }\n",
       "\n",
       "    .dataframe tbody tr th {\n",
       "        vertical-align: top;\n",
       "    }\n",
       "\n",
       "    .dataframe thead th {\n",
       "        text-align: right;\n",
       "    }\n",
       "</style>\n",
       "<table border=\"1\" class=\"dataframe\">\n",
       "  <thead>\n",
       "    <tr style=\"text-align: right;\">\n",
       "      <th></th>\n",
       "      <th>f0</th>\n",
       "      <th>f1</th>\n",
       "      <th>f2</th>\n",
       "      <th>predictions_valid2</th>\n",
       "      <th>target_valid2</th>\n",
       "    </tr>\n",
       "  </thead>\n",
       "  <tbody>\n",
       "    <tr>\n",
       "      <th>71751</th>\n",
       "      <td>-0.835282</td>\n",
       "      <td>-2.230409</td>\n",
       "      <td>-0.077538</td>\n",
       "      <td>93.599633</td>\n",
       "      <td>61.212375</td>\n",
       "    </tr>\n",
       "    <tr>\n",
       "      <th>80493</th>\n",
       "      <td>-0.820214</td>\n",
       "      <td>0.738915</td>\n",
       "      <td>-0.999463</td>\n",
       "      <td>75.105159</td>\n",
       "      <td>41.850118</td>\n",
       "    </tr>\n",
       "    <tr>\n",
       "      <th>2655</th>\n",
       "      <td>-2.649871</td>\n",
       "      <td>-0.237585</td>\n",
       "      <td>-0.243523</td>\n",
       "      <td>90.066809</td>\n",
       "      <td>57.776581</td>\n",
       "    </tr>\n",
       "  </tbody>\n",
       "</table>\n",
       "</div>"
      ],
      "text/plain": [
       "             f0        f1        f2  predictions_valid2  target_valid2\n",
       "71751 -0.835282 -2.230409 -0.077538           93.599633      61.212375\n",
       "80493 -0.820214  0.738915 -0.999463           75.105159      41.850118\n",
       "2655  -2.649871 -0.237585 -0.243523           90.066809      57.776581"
      ]
     },
     "metadata": {},
     "output_type": "display_data"
    },
    {
     "name": "stdout",
     "output_type": "stream",
     "text": [
      "Средний предсказанный запас сырья в регионе geo_data_2: 94.96504596800489 (тыс. баррелей)\n",
      "RMSE модели линейной регрессии на валидационной выборке features_train2 (регион `geo_data_2`) 40.02970873393434\n"
     ]
    }
   ],
   "source": [
    "#model = LinearRegression()\n",
    "\n",
    "# обучаем модель на тренировочной выборке\n",
    "model.fit(features_train2, target_train2, sample_weight=None)\n",
    "\n",
    "# получаем предсказания модели на валидационной выборке\n",
    "predictions_valid2 = model.predict(features_valid2) \n",
    "\n",
    "# сохраняем результаты предсказания в валидационной выборке вместе с правильными ответами и выводим на экран\n",
    "features_valid2['predictions_valid2'] = predictions_valid2\n",
    "features_valid2['target_valid2'] = target_valid2\n",
    "display(features_valid2.head(3))\n",
    "\n",
    "# средний запас предсказанного сырья в регионе\n",
    "predictions_valid2_mean = features_valid2[\"predictions_valid2\"].mean()\n",
    "print(f'Средний предсказанный запас сырья в регионе geo_data_2: {predictions_valid2_mean} (тыс. баррелей)')\n",
    "\n",
    "# считаем значение метрики RMSE на валидационной выборке\n",
    "result2 = mean_squared_error(target_valid2, predictions_valid2) ** 0.5 \n",
    "print(\"RMSE модели линейной регрессии на валидационной выборке features_train2 (регион `geo_data_2`)\", result2)"
   ]
  },
  {
   "cell_type": "markdown",
   "metadata": {},
   "source": [
    "Итоговые показатели:"
   ]
  },
  {
   "cell_type": "code",
   "execution_count": 18,
   "metadata": {},
   "outputs": [
    {
     "name": "stdout",
     "output_type": "stream",
     "text": [
      "Предсказанный запаса сырья в регионе geo_data_0:  92.59 (тыс. баррелей)\n",
      "RMSE geo_data_0:  37.58\n",
      "\n",
      "Предсказанный запаса сырья в регионе geo_data_1:  68.73 (тыс. баррелей)\n",
      "RMSE geo_data_1:  0.89 \n",
      "\n",
      "Предсказанный запаса сырья в регионе geo_data_2:  94.97 (тыс. баррелей)\n",
      "RMSE geo_data_2:  40.03\n"
     ]
    }
   ],
   "source": [
    "# итоговые средние предсказанные запасы нефти по регионам\n",
    "print(f'Предсказанный запаса сырья в регионе geo_data_0: {predictions_valid0_mean: .2f} (тыс. баррелей)')\n",
    "print(f'RMSE geo_data_0: {result0: .2f}')\n",
    "print()\n",
    "print(f'Предсказанный запаса сырья в регионе geo_data_1: {predictions_valid1_mean: .2f} (тыс. баррелей)')\n",
    "print(f'RMSE geo_data_1: {result1: .2f} ')\n",
    "print()\n",
    "print(f'Предсказанный запаса сырья в регионе geo_data_2: {predictions_valid2_mean: .2f} (тыс. баррелей)')\n",
    "print(f'RMSE geo_data_2: {result2: .2f}')"
   ]
  },
  {
   "cell_type": "markdown",
   "metadata": {},
   "source": [
    "`Вывод` - мы видим, самые высокие показатели залежей сырья предсказаны для районов `geo_data_0` и `geo_data_2` (92.59 и 94.97 тыс. баррелей соответственно). \n",
    "\n",
    "Однако, данные по этим регионам предсказанны с относительно высокой среднеквадратичной ошибкой, что позволяет нам предположить что реальный разброс запасов сырья может значительно отличаться от предсказанного нашей моделью.\n",
    "\n",
    "В то же время, предсказания для региона `geo_data_1` отличаются значитеьно более высокими метриками точности. RMSE = 0.89.\n",
    "Это говорит нам о том что точность предказанных залежей сырья было предсказанно с более высокой долей вероятности."
   ]
  },
  {
   "cell_type": "markdown",
   "metadata": {},
   "source": [
    "## Подготовка к расчёту прибыли"
   ]
  },
  {
   "cell_type": "markdown",
   "metadata": {},
   "source": [
    "### Сохряняем ключевые значения для расчёта прибыли в переменных и высчитываем минимальный объём сырья в скважине для получения прибыли"
   ]
  },
  {
   "cell_type": "code",
   "execution_count": 19,
   "metadata": {},
   "outputs": [],
   "source": [
    "# бюджет на каждый регион (руб.)\n",
    "BUDGET = 10000000000\n",
    "\n",
    "# доход с 1К баррелей нефти (руб.)\n",
    "REVENUE_1K_BAR = 450000"
   ]
  },
  {
   "cell_type": "code",
   "execution_count": 20,
   "metadata": {},
   "outputs": [
    {
     "name": "stdout",
     "output_type": "stream",
     "text": [
      " 111.11 тыс. баррелей нефти в скважине необходимо для выхода в прибыль\n"
     ]
    }
   ],
   "source": [
    "# высчитываем объём сырья в регионе для выхода в прибыль\n",
    "profit_margin = (BUDGET / REVENUE_1K_BAR) / 200\n",
    "print(f'{profit_margin: .2f} тыс. баррелей нефти в скважине необходимо для выхода в прибыль')"
   ]
  },
  {
   "cell_type": "code",
   "execution_count": 21,
   "metadata": {},
   "outputs": [
    {
     "name": "stdout",
     "output_type": "stream",
     "text": [
      "Средний запас в регионе `geo_data_0`:  92.07859674082927\n",
      "Средний запас в регионе `geo_data_1`:  68.72313602435997\n",
      "Средний запас в регионе `geo_data_1`:  94.88423280885438\n"
     ]
    }
   ],
   "source": [
    "print('Средний запас в регионе `geo_data_0`: ', target_valid0.mean())\n",
    "print('Средний запас в регионе `geo_data_1`: ', target_valid1.mean())\n",
    "print('Средний запас в регионе `geo_data_1`: ', target_valid2.mean())"
   ]
  },
  {
   "cell_type": "markdown",
   "metadata": {},
   "source": [
    "`Вывод` - мы видим, что средний объём нефти в скважине необходимый для окупаемости добычи - выше чем средние показатели запасов сырья в трёх регионах. Это говорит о том, что для окупаемости разработки необходимо отобрать самые плодородные скважины которые превышают порог рентабильности добычи в  111.11 тыс. баррелей нефти."
   ]
  },
  {
   "cell_type": "markdown",
   "metadata": {},
   "source": [
    "## Расчёт прибыли и рисков "
   ]
  },
  {
   "cell_type": "markdown",
   "metadata": {},
   "source": [
    "Переводим array в Series для дальнейших калькуляций"
   ]
  },
  {
   "cell_type": "code",
   "execution_count": 22,
   "metadata": {},
   "outputs": [
    {
     "name": "stdout",
     "output_type": "stream",
     "text": [
      "<class 'numpy.ndarray'>\n",
      "<class 'numpy.ndarray'>\n",
      "<class 'numpy.ndarray'>\n"
     ]
    }
   ],
   "source": [
    "# предсказания принадлежат к типу array и нуждаются в переводе в Series\n",
    "print(type(predictions_valid0))\n",
    "print(type(predictions_valid1))\n",
    "print(type(predictions_valid2))"
   ]
  },
  {
   "cell_type": "code",
   "execution_count": 23,
   "metadata": {},
   "outputs": [
    {
     "name": "stdout",
     "output_type": "stream",
     "text": [
      "<class 'pandas.core.series.Series'>\n",
      "<class 'pandas.core.series.Series'>\n",
      "<class 'pandas.core.series.Series'>\n"
     ]
    }
   ],
   "source": [
    "# целевые признаки не нуждается в переводе в Seies\n",
    "print(type(target_valid0))\n",
    "print(type(target_valid1))\n",
    "print(type(target_valid2))"
   ]
  },
  {
   "cell_type": "markdown",
   "metadata": {},
   "source": [
    "Переводим предсказания из array в Series и сбрасываем индексы на целевом признаке и предсказаниях с помощью функции."
   ]
  },
  {
   "cell_type": "code",
   "execution_count": 24,
   "metadata": {},
   "outputs": [],
   "source": [
    "# делаем функцию для сброса индексов на целевом признаке и предсказаниях, а также переводим предсказания из array в Series\n",
    "def reset_i(predictions, target):\n",
    "    predictions_series = pd.Series(predictions)\n",
    "    predictions_reset = predictions_series.reset_index(drop=True)\n",
    "    target_reset = target.reset_index(drop=True)\n",
    "    return predictions_reset, target_reset"
   ]
  },
  {
   "cell_type": "markdown",
   "metadata": {},
   "source": [
    "Применяем функцию `reset_i` для смены типа прогнозов на Series и сброса индексов"
   ]
  },
  {
   "cell_type": "code",
   "execution_count": 25,
   "metadata": {},
   "outputs": [],
   "source": [
    "predictions_valid00, target_valid00 = reset_i(predictions_valid0, target_valid0)\n",
    "predictions_valid01, target_valid01 = reset_i(predictions_valid1, target_valid1)\n",
    "predictions_valid02, target_valid02 = reset_i(predictions_valid2, target_valid2)"
   ]
  },
  {
   "cell_type": "markdown",
   "metadata": {},
   "source": [
    "Создаём функцию для расчёта прибыли по выбранным скважинам и предсказаниям модели"
   ]
  },
  {
   "cell_type": "code",
   "execution_count": 26,
   "metadata": {},
   "outputs": [],
   "source": [
    "# на вход принимаем предсказания модели, целевые признаки, кол-во вышек, доход в 1К бар. и бюджет\n",
    "def revenue(predictions, target, well_count):\n",
    "    '''\n",
    "    - сортируем предсказания\n",
    "    - отбираем самые большие значения\n",
    "    - считаем доход\n",
    "    '''\n",
    "    predicted_sorted = predictions.sort_values(ascending=False)\n",
    "    selected_target = target[predicted_sorted.index][:well_count]\n",
    "    revenue_selected = selected_target.sum() * REVENUE_1K_BAR - BUDGET\n",
    "    return revenue_selected"
   ]
  },
  {
   "cell_type": "markdown",
   "metadata": {},
   "source": [
    "Созраняем значения прибыли по регионам в переменные для дальнейшего использования и выводим их на экран"
   ]
  },
  {
   "cell_type": "code",
   "execution_count": 27,
   "metadata": {},
   "outputs": [],
   "source": [
    "region_1 = int(revenue(predictions_valid00, target_valid00, 200))\n",
    "region_2 = int(revenue(predictions_valid01, target_valid01, 200))\n",
    "region_3 = int(revenue(predictions_valid02, target_valid02, 200))"
   ]
  },
  {
   "cell_type": "code",
   "execution_count": 28,
   "metadata": {},
   "outputs": [
    {
     "name": "stdout",
     "output_type": "stream",
     "text": [
      "1 регион 3320826043 тыс. баррелей\n",
      "2 регион 3320826043 тыс. баррелей\n",
      "3 регион 2710349963 тыс. баррелей\n"
     ]
    }
   ],
   "source": [
    "print(f'1 регион {region_1} тыс. баррелей')\n",
    "print(f'2 регион {region_1} тыс. баррелей')\n",
    "print(f'3 регион {region_3} тыс. баррелей')"
   ]
  },
  {
   "cell_type": "markdown",
   "metadata": {},
   "source": [
    "Для наглядности, создадим таблицу с основными показателями по региону"
   ]
  },
  {
   "cell_type": "code",
   "execution_count": 29,
   "metadata": {},
   "outputs": [
    {
     "data": {
      "text/html": [
       "<div>\n",
       "<style scoped>\n",
       "    .dataframe tbody tr th:only-of-type {\n",
       "        vertical-align: middle;\n",
       "    }\n",
       "\n",
       "    .dataframe tbody tr th {\n",
       "        vertical-align: top;\n",
       "    }\n",
       "\n",
       "    .dataframe thead th {\n",
       "        text-align: right;\n",
       "    }\n",
       "</style>\n",
       "<table border=\"1\" class=\"dataframe\">\n",
       "  <thead>\n",
       "    <tr style=\"text-align: right;\">\n",
       "      <th></th>\n",
       "      <th>Регион</th>\n",
       "      <th>Средняя добыча региона (тыс. баррелей)</th>\n",
       "      <th>Средняя добыча скважины (тыс. баррелей)</th>\n",
       "    </tr>\n",
       "  </thead>\n",
       "  <tbody>\n",
       "    <tr>\n",
       "      <th>0</th>\n",
       "      <td>Регион 1</td>\n",
       "      <td>3320826043</td>\n",
       "      <td>92.078597</td>\n",
       "    </tr>\n",
       "    <tr>\n",
       "      <th>1</th>\n",
       "      <td>Регион 2</td>\n",
       "      <td>2415086696</td>\n",
       "      <td>68.723136</td>\n",
       "    </tr>\n",
       "    <tr>\n",
       "      <th>2</th>\n",
       "      <td>Регион 3</td>\n",
       "      <td>2710349963</td>\n",
       "      <td>94.884233</td>\n",
       "    </tr>\n",
       "  </tbody>\n",
       "</table>\n",
       "</div>"
      ],
      "text/plain": [
       "     Регион  Средняя добыча региона (тыс. баррелей)  \\\n",
       "0  Регион 1                              3320826043   \n",
       "1  Регион 2                              2415086696   \n",
       "2  Регион 3                              2710349963   \n",
       "\n",
       "   Средняя добыча скважины (тыс. баррелей)  \n",
       "0                                92.078597  \n",
       "1                                68.723136  \n",
       "2                                94.884233  "
      ]
     },
     "execution_count": 29,
     "metadata": {},
     "output_type": "execute_result"
    }
   ],
   "source": [
    "# создаём новый датафрейм\n",
    "revenue_df = pd.DataFrame({ 'Регион': ['Регион 1', 'Регион 2', 'Регион 3'], \n",
    "'Средняя добыча региона (тыс. баррелей)': [region_1, region_2, region_3],\n",
    "'Средняя добыча скважины (тыс. баррелей)': [target_valid0.mean(), target_valid1.mean(), target_valid2.mean()]\n",
    "})\n",
    "\n",
    "# меняем индекс колонку на 'Регион'\n",
    "revenue_df = revenue_df.set_index('Регион')\n",
    "\n",
    "# сбрасываем старые индексы\n",
    "revenue_df = revenue_df.reset_index()\n",
    "\n",
    "# выводим таблицу на экран\n",
    "revenue_df"
   ]
  },
  {
   "cell_type": "markdown",
   "metadata": {},
   "source": [
    "### Находим распределение прибыли"
   ]
  },
  {
   "cell_type": "markdown",
   "metadata": {},
   "source": [
    "Применяем технику Bootstrap с 1000 выборок, чтобы найти распределение прибыли - пишем для этого функцию `profit_distr()`"
   ]
  },
  {
   "cell_type": "code",
   "execution_count": 30,
   "metadata": {},
   "outputs": [],
   "source": [
    "def profit_distr(target, predictions):\n",
    "    state = np.random.RandomState(12345)\n",
    "    values = []\n",
    "    # делаем butstrep калькуляцию\n",
    "    for i in range(1000):\n",
    "        target_subsample = target.sample(n=500, replace=True, random_state=state)\n",
    "        probs_subsample = predictions[target_subsample.index]\n",
    "        value = revenue(probs_subsample, target_subsample, 200)\n",
    "        values.append(value)\n",
    "\n",
    "    # список со значениями выручки\n",
    "    values = pd.Series(values)\n",
    "\n",
    "    # Квантиль 2,5%\n",
    "    lower = values.quantile(0.025)\n",
    "    # Квантиль 97,5%\n",
    "    upper = values.quantile(0.975)\n",
    "\n",
    "    # считаем среднюю выручку\n",
    "    mean = values.mean()\n",
    "\n",
    "    # считаем риски получить убыток (отрицательное) значение прибыли\n",
    "    risk = (((values < 0).sum()) / values.count()) * 100\n",
    "\n",
    "    return mean, risk, lower, upper  \n",
    "\n"
   ]
  },
  {
   "cell_type": "markdown",
   "metadata": {},
   "source": [
    "Применяем функцию для подсчёта по всем трём регионам по-очереди. Сохраняем каждую новую величину в переменной для последующего вывода на экран в виде таблицы."
   ]
  },
  {
   "cell_type": "code",
   "execution_count": 31,
   "metadata": {},
   "outputs": [],
   "source": [
    "# регион 1\n",
    "# сохраняем результаты вывода функции в переменных\n",
    "\n",
    "region_0_mean, region_0_risk, region_0_lower, region_0_upper = profit_distr(target_valid00, predictions_valid00)"
   ]
  },
  {
   "cell_type": "code",
   "execution_count": 32,
   "metadata": {},
   "outputs": [],
   "source": [
    "# регион 2\n",
    "# сохраняем результаты вывода функции в переменныХ\n",
    "\n",
    "region_1_mean, region_1_risk, region_1_lower, region_1_upper = profit_distr(target_valid01, predictions_valid01)"
   ]
  },
  {
   "cell_type": "code",
   "execution_count": 33,
   "metadata": {},
   "outputs": [],
   "source": [
    "# регион 3\n",
    "# сохраняем результаты вывода функции в переменных\n",
    "\n",
    "region_2_mean, region_2_risk, region_2_lower, region_2_upper = profit_distr(target_valid02, predictions_valid02)"
   ]
  },
  {
   "cell_type": "markdown",
   "metadata": {},
   "source": [
    "Создаём датафрейм с ключевыми показателями"
   ]
  },
  {
   "cell_type": "code",
   "execution_count": 34,
   "metadata": {},
   "outputs": [],
   "source": [
    "final_table = pd.DataFrame({\n",
    "    'Регион': ['Регион 1', 'Регион 2', 'Регион 3'],\n",
    "    'Средняя добыча региона (тыс. баррелей)': [f'{region_1}', f'{region_2}', f'{region_3}'],\n",
    "    'Средняя выручка (рублей)' : [f'{region_0_mean:.0f}', f'{region_1_mean:.0f}', f'{region_2_mean:.0f}'],\n",
    "    'Риск получения убытка (%):' : [f'{region_0_risk:.0f}', f'{region_1_risk:.0f}', f'{region_2_risk:.0f}'],\n",
    "    '2.5%-квантиль (рублей)': [f'{region_0_lower:.0f}', f'{region_1_lower:.0f}', f'{region_2_lower:.0f}'],\n",
    "    '97.5%-квантиль (рублей)' : [f'{region_0_upper:.0f}', f'{region_1_upper:.0f}', f'{region_2_upper:.0f}']\n",
    "        \n",
    "})"
   ]
  },
  {
   "cell_type": "markdown",
   "metadata": {},
   "source": [
    "Выводим финальную таблицу на экран."
   ]
  },
  {
   "cell_type": "code",
   "execution_count": 35,
   "metadata": {},
   "outputs": [
    {
     "data": {
      "text/html": [
       "<div>\n",
       "<style scoped>\n",
       "    .dataframe tbody tr th:only-of-type {\n",
       "        vertical-align: middle;\n",
       "    }\n",
       "\n",
       "    .dataframe tbody tr th {\n",
       "        vertical-align: top;\n",
       "    }\n",
       "\n",
       "    .dataframe thead th {\n",
       "        text-align: right;\n",
       "    }\n",
       "</style>\n",
       "<table border=\"1\" class=\"dataframe\">\n",
       "  <thead>\n",
       "    <tr style=\"text-align: right;\">\n",
       "      <th></th>\n",
       "      <th>Регион</th>\n",
       "      <th>Средняя добыча региона (тыс. баррелей)</th>\n",
       "      <th>Средняя выручка (рублей)</th>\n",
       "      <th>Риск получения убытка (%):</th>\n",
       "      <th>2.5%-квантиль (рублей)</th>\n",
       "      <th>97.5%-квантиль (рублей)</th>\n",
       "    </tr>\n",
       "  </thead>\n",
       "  <tbody>\n",
       "    <tr>\n",
       "      <th>0</th>\n",
       "      <td>Регион 1</td>\n",
       "      <td>3320826043</td>\n",
       "      <td>425938527</td>\n",
       "      <td>6</td>\n",
       "      <td>-102090095</td>\n",
       "      <td>947976353</td>\n",
       "    </tr>\n",
       "    <tr>\n",
       "      <th>1</th>\n",
       "      <td>Регион 2</td>\n",
       "      <td>2415086696</td>\n",
       "      <td>515222773</td>\n",
       "      <td>1</td>\n",
       "      <td>68873225</td>\n",
       "      <td>931547591</td>\n",
       "    </tr>\n",
       "    <tr>\n",
       "      <th>2</th>\n",
       "      <td>Регион 3</td>\n",
       "      <td>2710349963</td>\n",
       "      <td>435008363</td>\n",
       "      <td>6</td>\n",
       "      <td>-128880547</td>\n",
       "      <td>969706954</td>\n",
       "    </tr>\n",
       "  </tbody>\n",
       "</table>\n",
       "</div>"
      ],
      "text/plain": [
       "     Регион Средняя добыча региона (тыс. баррелей) Средняя выручка (рублей)  \\\n",
       "0  Регион 1                             3320826043                425938527   \n",
       "1  Регион 2                             2415086696                515222773   \n",
       "2  Регион 3                             2710349963                435008363   \n",
       "\n",
       "  Риск получения убытка (%): 2.5%-квантиль (рублей) 97.5%-квантиль (рублей)  \n",
       "0                          6             -102090095               947976353  \n",
       "1                          1               68873225               931547591  \n",
       "2                          6             -128880547               969706954  "
      ]
     },
     "metadata": {},
     "output_type": "display_data"
    }
   ],
   "source": [
    "display(final_table)"
   ]
  },
  {
   "cell_type": "markdown",
   "metadata": {},
   "source": [
    "`Вывод` - В результате проведённого исследования, построения модели и оценки рисков, мы пришли в выводу что саммым предпочтительным регионом для добычи является `Регион 2` потому что имеет наибольшую среднюю выручку (515.222.773,00 руб.) и минимальные риски ухода в убыток - всего 1%.\n",
    "\n",
    "Доверительный интервал прибыли вторго региона явно демонстрирует лучшие показатели по прибыли включая только положительный доход.\n",
    "\n",
    "`Итого:` несмотря на наименьшую среднюю добычу второго региона (2.415.086.696 тыс. баррелей), даный регион считаю более перспективным в плане доходности и минимизации рисков."
   ]
  },
  {
   "cell_type": "markdown",
   "metadata": {},
   "source": [
    "## Чек-лист готовности проекта"
   ]
  },
  {
   "cell_type": "markdown",
   "metadata": {},
   "source": [
    "Поставьте 'x' в выполненных пунктах. Далее нажмите Shift+Enter."
   ]
  },
  {
   "cell_type": "markdown",
   "metadata": {},
   "source": [
    "- [x]  Jupyter Notebook открыт\n",
    "- [x]  Весь код выполняется без ошибок\n",
    "- [x]  Ячейки с кодом расположены в порядке исполнения\n",
    "- [x]  Выполнен шаг 1: данные подготовлены\n",
    "- [x]  Выполнен шаг 2: модели обучены и проверены\n",
    "    - [x]  Данные корректно разбиты на обучающую и валидационную выборки\n",
    "    - [x]  Модели обучены, предсказания сделаны\n",
    "    - [x]  Предсказания и правильные ответы на валидационной выборке сохранены\n",
    "    - [x]  На экране напечатаны результаты\n",
    "    - [x]  Сделаны выводы\n",
    "- [x]  Выполнен шаг 3: проведена подготовка к расчёту прибыли\n",
    "    - [x]  Для всех ключевых значений созданы константы Python\n",
    "    - [x]  Посчитано минимальное среднее количество продукта в месторождениях региона, достаточное для разработки\n",
    "    - [x]  По предыдущему пункту сделаны выводы\n",
    "    - [x]  Написана функция расчёта прибыли\n",
    "- [x]  Выполнен шаг 4: посчитаны риски и прибыль\n",
    "    - [x]  Проведена процедура *Bootstrap*\n",
    "    - [x]  Все параметры бутстрепа соответствуют условию\n",
    "    - [x]  Найдены все нужные величины\n",
    "    - [x]  Предложен регион для разработки месторождения\n",
    "    - [x]  Выбор региона обоснован"
   ]
  }
 ],
 "metadata": {
  "ExecuteTimeLog": [
   {
    "duration": 2000,
    "start_time": "2022-12-14T14:38:06.679Z"
   },
   {
    "duration": 636,
    "start_time": "2022-12-14T14:38:08.682Z"
   },
   {
    "duration": 4,
    "start_time": "2022-12-14T14:38:09.319Z"
   },
   {
    "duration": 119,
    "start_time": "2022-12-14T14:38:09.325Z"
   },
   {
    "duration": 122,
    "start_time": "2022-12-14T14:38:09.446Z"
   },
   {
    "duration": 128,
    "start_time": "2022-12-14T14:38:09.570Z"
   },
   {
    "duration": 58,
    "start_time": "2022-12-14T14:38:09.699Z"
   },
   {
    "duration": 66,
    "start_time": "2022-12-14T14:38:09.759Z"
   },
   {
    "duration": 70,
    "start_time": "2022-12-14T14:38:09.827Z"
   },
   {
    "duration": 19,
    "start_time": "2022-12-14T14:38:09.899Z"
   },
   {
    "duration": 18,
    "start_time": "2022-12-14T14:38:09.921Z"
   },
   {
    "duration": 24,
    "start_time": "2022-12-14T14:38:09.941Z"
   },
   {
    "duration": 136,
    "start_time": "2022-12-14T14:38:09.967Z"
   },
   {
    "duration": 196,
    "start_time": "2022-12-14T14:38:10.106Z"
   },
   {
    "duration": 203,
    "start_time": "2022-12-14T14:38:10.303Z"
   },
   {
    "duration": 89,
    "start_time": "2022-12-14T14:38:10.510Z"
   },
   {
    "duration": 6,
    "start_time": "2022-12-14T14:38:10.601Z"
   },
   {
    "duration": 15,
    "start_time": "2022-12-14T14:38:10.609Z"
   },
   {
    "duration": 17,
    "start_time": "2022-12-14T14:38:10.626Z"
   },
   {
    "duration": 7,
    "start_time": "2022-12-14T14:38:10.644Z"
   },
   {
    "duration": 5,
    "start_time": "2022-12-14T14:38:10.653Z"
   },
   {
    "duration": 6,
    "start_time": "2022-12-14T14:38:10.659Z"
   },
   {
    "duration": 8,
    "start_time": "2022-12-14T14:38:10.666Z"
   },
   {
    "duration": 3,
    "start_time": "2022-12-14T14:38:10.675Z"
   },
   {
    "duration": 31,
    "start_time": "2022-12-14T14:38:10.680Z"
   },
   {
    "duration": 4,
    "start_time": "2022-12-14T14:38:10.712Z"
   },
   {
    "duration": 12,
    "start_time": "2022-12-14T14:38:10.718Z"
   },
   {
    "duration": 5,
    "start_time": "2022-12-14T14:38:10.731Z"
   },
   {
    "duration": 5458,
    "start_time": "2022-12-14T14:38:10.738Z"
   },
   {
    "duration": 5244,
    "start_time": "2022-12-14T14:38:16.199Z"
   },
   {
    "duration": 5228,
    "start_time": "2022-12-14T14:38:21.445Z"
   },
   {
    "duration": 5,
    "start_time": "2022-12-14T14:38:26.675Z"
   },
   {
    "duration": 26,
    "start_time": "2022-12-14T14:38:26.682Z"
   },
   {
    "duration": 1293,
    "start_time": "2022-12-15T19:22:46.013Z"
   },
   {
    "duration": 621,
    "start_time": "2022-12-15T19:22:47.308Z"
   },
   {
    "duration": 4,
    "start_time": "2022-12-15T19:22:47.930Z"
   },
   {
    "duration": 145,
    "start_time": "2022-12-15T19:22:47.935Z"
   },
   {
    "duration": 117,
    "start_time": "2022-12-15T19:22:48.082Z"
   },
   {
    "duration": 111,
    "start_time": "2022-12-15T19:22:48.200Z"
   },
   {
    "duration": 51,
    "start_time": "2022-12-15T19:22:48.312Z"
   },
   {
    "duration": 64,
    "start_time": "2022-12-15T19:22:48.365Z"
   },
   {
    "duration": 52,
    "start_time": "2022-12-15T19:22:48.430Z"
   },
   {
    "duration": 3,
    "start_time": "2022-12-15T19:22:48.498Z"
   },
   {
    "duration": 43,
    "start_time": "2022-12-15T19:22:48.502Z"
   },
   {
    "duration": 33,
    "start_time": "2022-12-15T19:22:48.547Z"
   },
   {
    "duration": 38,
    "start_time": "2022-12-15T19:22:48.581Z"
   },
   {
    "duration": 39,
    "start_time": "2022-12-15T19:22:48.620Z"
   },
   {
    "duration": 41,
    "start_time": "2022-12-15T19:22:48.661Z"
   },
   {
    "duration": 199,
    "start_time": "2022-12-15T19:22:48.703Z"
   },
   {
    "duration": 195,
    "start_time": "2022-12-15T19:22:48.905Z"
   },
   {
    "duration": 106,
    "start_time": "2022-12-15T19:22:49.102Z"
   },
   {
    "duration": 19,
    "start_time": "2022-12-15T19:22:49.209Z"
   },
   {
    "duration": 24,
    "start_time": "2022-12-15T19:22:49.229Z"
   },
   {
    "duration": 9,
    "start_time": "2022-12-15T19:22:49.255Z"
   },
   {
    "duration": 33,
    "start_time": "2022-12-15T19:22:49.265Z"
   },
   {
    "duration": 15,
    "start_time": "2022-12-15T19:22:49.300Z"
   },
   {
    "duration": 31,
    "start_time": "2022-12-15T19:22:49.316Z"
   },
   {
    "duration": 21,
    "start_time": "2022-12-15T19:22:49.349Z"
   },
   {
    "duration": 27,
    "start_time": "2022-12-15T19:22:49.371Z"
   },
   {
    "duration": 37,
    "start_time": "2022-12-15T19:22:49.399Z"
   },
   {
    "duration": 3,
    "start_time": "2022-12-15T19:22:49.439Z"
   },
   {
    "duration": 39,
    "start_time": "2022-12-15T19:22:49.443Z"
   },
   {
    "duration": 30,
    "start_time": "2022-12-15T19:22:49.483Z"
   },
   {
    "duration": 1274,
    "start_time": "2022-12-15T19:22:49.515Z"
   },
   {
    "duration": 1216,
    "start_time": "2022-12-15T19:22:50.790Z"
   },
   {
    "duration": 1199,
    "start_time": "2022-12-15T19:22:52.008Z"
   },
   {
    "duration": 5,
    "start_time": "2022-12-15T19:22:53.208Z"
   },
   {
    "duration": 26,
    "start_time": "2022-12-15T19:22:53.214Z"
   }
  ],
  "kernelspec": {
   "display_name": "Python 3 (ipykernel)",
   "language": "python",
   "name": "python3"
  },
  "language_info": {
   "codemirror_mode": {
    "name": "ipython",
    "version": 3
   },
   "file_extension": ".py",
   "mimetype": "text/x-python",
   "name": "python",
   "nbconvert_exporter": "python",
   "pygments_lexer": "ipython3",
   "version": "3.9.15 (main, Nov 24 2022, 14:39:17) [MSC v.1916 64 bit (AMD64)]"
  },
  "toc": {
   "base_numbering": 1,
   "nav_menu": {},
   "number_sections": true,
   "sideBar": true,
   "skip_h1_title": true,
   "title_cell": "Table of Contents",
   "title_sidebar": "Contents",
   "toc_cell": false,
   "toc_position": {},
   "toc_section_display": true,
   "toc_window_display": false
  },
  "vscode": {
   "interpreter": {
    "hash": "a90aeebcf29d64a654773811cc170cb25061cb2498f10ac689db374c7bf325de"
   }
  }
 },
 "nbformat": 4,
 "nbformat_minor": 2
}
