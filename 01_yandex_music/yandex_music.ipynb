{
 "cells": [
  {
   "cell_type": "markdown",
   "metadata": {
    "deletable": false,
    "editable": false,
    "id": "E0vqbgi9ay0H"
   },
   "source": [
    "# Яндекс Музыка"
   ]
  },
  {
   "cell_type": "markdown",
   "metadata": {
    "deletable": false,
    "editable": false,
    "id": "VUC88oWjTJw2"
   },
   "source": [
    "Сравнение Москвы и Петербурга окружено мифами. Например:\n",
    " * Москва — мегаполис, подчинённый жёсткому ритму рабочей недели;\n",
    " * Петербург — культурная столица, со своими вкусами.\n",
    "\n",
    "На данных Яндекс Музыки вы сравните поведение пользователей двух столиц.\n",
    "\n",
    "**Цель исследования** — проверьте три гипотезы:\n",
    "1. Активность пользователей зависит от дня недели. Причём в Москве и Петербурге это проявляется по-разному.\n",
    "2. В понедельник утром в Москве преобладают одни жанры, а в Петербурге — другие. Так же и вечером пятницы преобладают разные жанры — в зависимости от города. \n",
    "3. Москва и Петербург предпочитают разные жанры музыки. В Москве чаще слушают поп-музыку, в Петербурге — русский рэп.\n",
    "\n",
    "**Ход исследования**\n",
    "\n",
    "Данные о поведении пользователей вы получите из файла `yandex_music_project.csv`. О качестве данных ничего не известно. Поэтому перед проверкой гипотез понадобится обзор данных. \n",
    "\n",
    "Вы проверите данные на ошибки и оцените их влияние на исследование. Затем, на этапе предобработки вы поищете возможность исправить самые критичные ошибки данных.\n",
    " \n",
    "Таким образом, исследование пройдёт в три этапа:\n",
    " 1. Обзор данных.\n",
    " 2. Предобработка данных.\n",
    " 3. Проверка гипотез.\n",
    "\n"
   ]
  },
  {
   "cell_type": "markdown",
   "metadata": {
    "deletable": false,
    "editable": false,
    "id": "Ml1hmfXC_Zcs"
   },
   "source": [
    "## Обзор данных\n",
    "\n",
    "Составьте первое представление о данных Яндекс Музыки.\n",
    "\n",
    "\n"
   ]
  },
  {
   "cell_type": "markdown",
   "metadata": {
    "deletable": false,
    "editable": false,
    "id": "57eAOGIz_Zcs",
    "tags": [
     "start_task"
    ]
   },
   "source": [
    "**Задание 1**\n",
    "\n",
    "Основной инструмент аналитика — `pandas`. Импортируйте эту библиотеку."
   ]
  },
  {
   "cell_type": "code",
   "execution_count": 1,
   "metadata": {
    "deletable": false,
    "id": "AXN7PHPN_Zcs"
   },
   "outputs": [],
   "source": [
    "# импорт библиотеки pandas\n",
    "import pandas as pd"
   ]
  },
  {
   "cell_type": "markdown",
   "metadata": {
    "deletable": false,
    "editable": false,
    "id": "SG23P8tt_Zcs",
    "tags": [
     "start_task"
    ]
   },
   "source": [
    "**Задание 2**\n",
    "\n",
    "Прочитайте файл `yandex_music_project.csv` из папки `/datasets` и сохраните его в переменной `df`:"
   ]
  },
  {
   "cell_type": "code",
   "execution_count": 2,
   "metadata": {
    "deletable": false,
    "id": "fFVu7vqh_Zct"
   },
   "outputs": [],
   "source": [
    "# чтение файла с данными и сохранение в df\n",
    "df = pd.read_csv('/datasets/yandex_music_project.csv')\n",
    "df.to_csv('dataset.csv')"
   ]
  },
  {
   "cell_type": "markdown",
   "metadata": {
    "deletable": false,
    "editable": false,
    "id": "rDoOMd3uTqnZ",
    "tags": [
     "start_task"
    ]
   },
   "source": [
    "**Задание 3**\n",
    "\n",
    "\n",
    "Выведите на экран первые десять строк таблицы:"
   ]
  },
  {
   "cell_type": "code",
   "execution_count": 3,
   "metadata": {
    "deletable": false,
    "id": "oWTVX3gW_Zct"
   },
   "outputs": [
    {
     "data": {
      "text/html": [
       "<div>\n",
       "<style scoped>\n",
       "    .dataframe tbody tr th:only-of-type {\n",
       "        vertical-align: middle;\n",
       "    }\n",
       "\n",
       "    .dataframe tbody tr th {\n",
       "        vertical-align: top;\n",
       "    }\n",
       "\n",
       "    .dataframe thead th {\n",
       "        text-align: right;\n",
       "    }\n",
       "</style>\n",
       "<table border=\"1\" class=\"dataframe\">\n",
       "  <thead>\n",
       "    <tr style=\"text-align: right;\">\n",
       "      <th></th>\n",
       "      <th>userID</th>\n",
       "      <th>Track</th>\n",
       "      <th>artist</th>\n",
       "      <th>genre</th>\n",
       "      <th>City</th>\n",
       "      <th>time</th>\n",
       "      <th>Day</th>\n",
       "    </tr>\n",
       "  </thead>\n",
       "  <tbody>\n",
       "    <tr>\n",
       "      <th>0</th>\n",
       "      <td>FFB692EC</td>\n",
       "      <td>Kamigata To Boots</td>\n",
       "      <td>The Mass Missile</td>\n",
       "      <td>rock</td>\n",
       "      <td>Saint-Petersburg</td>\n",
       "      <td>20:28:33</td>\n",
       "      <td>Wednesday</td>\n",
       "    </tr>\n",
       "    <tr>\n",
       "      <th>1</th>\n",
       "      <td>55204538</td>\n",
       "      <td>Delayed Because of Accident</td>\n",
       "      <td>Andreas Rönnberg</td>\n",
       "      <td>rock</td>\n",
       "      <td>Moscow</td>\n",
       "      <td>14:07:09</td>\n",
       "      <td>Friday</td>\n",
       "    </tr>\n",
       "    <tr>\n",
       "      <th>2</th>\n",
       "      <td>20EC38</td>\n",
       "      <td>Funiculì funiculà</td>\n",
       "      <td>Mario Lanza</td>\n",
       "      <td>pop</td>\n",
       "      <td>Saint-Petersburg</td>\n",
       "      <td>20:58:07</td>\n",
       "      <td>Wednesday</td>\n",
       "    </tr>\n",
       "    <tr>\n",
       "      <th>3</th>\n",
       "      <td>A3DD03C9</td>\n",
       "      <td>Dragons in the Sunset</td>\n",
       "      <td>Fire + Ice</td>\n",
       "      <td>folk</td>\n",
       "      <td>Saint-Petersburg</td>\n",
       "      <td>08:37:09</td>\n",
       "      <td>Monday</td>\n",
       "    </tr>\n",
       "    <tr>\n",
       "      <th>4</th>\n",
       "      <td>E2DC1FAE</td>\n",
       "      <td>Soul People</td>\n",
       "      <td>Space Echo</td>\n",
       "      <td>dance</td>\n",
       "      <td>Moscow</td>\n",
       "      <td>08:34:34</td>\n",
       "      <td>Monday</td>\n",
       "    </tr>\n",
       "    <tr>\n",
       "      <th>5</th>\n",
       "      <td>842029A1</td>\n",
       "      <td>Преданная</td>\n",
       "      <td>IMPERVTOR</td>\n",
       "      <td>rusrap</td>\n",
       "      <td>Saint-Petersburg</td>\n",
       "      <td>13:09:41</td>\n",
       "      <td>Friday</td>\n",
       "    </tr>\n",
       "    <tr>\n",
       "      <th>6</th>\n",
       "      <td>4CB90AA5</td>\n",
       "      <td>True</td>\n",
       "      <td>Roman Messer</td>\n",
       "      <td>dance</td>\n",
       "      <td>Moscow</td>\n",
       "      <td>13:00:07</td>\n",
       "      <td>Wednesday</td>\n",
       "    </tr>\n",
       "    <tr>\n",
       "      <th>7</th>\n",
       "      <td>F03E1C1F</td>\n",
       "      <td>Feeling This Way</td>\n",
       "      <td>Polina Griffith</td>\n",
       "      <td>dance</td>\n",
       "      <td>Moscow</td>\n",
       "      <td>20:47:49</td>\n",
       "      <td>Wednesday</td>\n",
       "    </tr>\n",
       "    <tr>\n",
       "      <th>8</th>\n",
       "      <td>8FA1D3BE</td>\n",
       "      <td>И вновь продолжается бой</td>\n",
       "      <td>NaN</td>\n",
       "      <td>ruspop</td>\n",
       "      <td>Moscow</td>\n",
       "      <td>09:17:40</td>\n",
       "      <td>Friday</td>\n",
       "    </tr>\n",
       "    <tr>\n",
       "      <th>9</th>\n",
       "      <td>E772D5C0</td>\n",
       "      <td>Pessimist</td>\n",
       "      <td>NaN</td>\n",
       "      <td>dance</td>\n",
       "      <td>Saint-Petersburg</td>\n",
       "      <td>21:20:49</td>\n",
       "      <td>Wednesday</td>\n",
       "    </tr>\n",
       "  </tbody>\n",
       "</table>\n",
       "</div>"
      ],
      "text/plain": [
       "     userID                        Track            artist   genre  \\\n",
       "0  FFB692EC            Kamigata To Boots  The Mass Missile    rock   \n",
       "1  55204538  Delayed Because of Accident  Andreas Rönnberg    rock   \n",
       "2    20EC38            Funiculì funiculà       Mario Lanza     pop   \n",
       "3  A3DD03C9        Dragons in the Sunset        Fire + Ice    folk   \n",
       "4  E2DC1FAE                  Soul People        Space Echo   dance   \n",
       "5  842029A1                    Преданная         IMPERVTOR  rusrap   \n",
       "6  4CB90AA5                         True      Roman Messer   dance   \n",
       "7  F03E1C1F             Feeling This Way   Polina Griffith   dance   \n",
       "8  8FA1D3BE     И вновь продолжается бой               NaN  ruspop   \n",
       "9  E772D5C0                    Pessimist               NaN   dance   \n",
       "\n",
       "             City        time        Day  \n",
       "0  Saint-Petersburg  20:28:33  Wednesday  \n",
       "1            Moscow  14:07:09     Friday  \n",
       "2  Saint-Petersburg  20:58:07  Wednesday  \n",
       "3  Saint-Petersburg  08:37:09     Monday  \n",
       "4            Moscow  08:34:34     Monday  \n",
       "5  Saint-Petersburg  13:09:41     Friday  \n",
       "6            Moscow  13:00:07  Wednesday  \n",
       "7            Moscow  20:47:49  Wednesday  \n",
       "8            Moscow  09:17:40     Friday  \n",
       "9  Saint-Petersburg  21:20:49  Wednesday  "
      ]
     },
     "execution_count": 3,
     "metadata": {},
     "output_type": "execute_result"
    }
   ],
   "source": [
    "# получение первых 10 строк таблицы df\n",
    "df.head(10)"
   ]
  },
  {
   "cell_type": "markdown",
   "metadata": {
    "deletable": false,
    "editable": false,
    "id": "EO73Kwic_Zct",
    "tags": [
     "start_task"
    ]
   },
   "source": [
    "**Задание 4**\n",
    "\n",
    "\n",
    "Одной командой получить общую информацию о таблице c помощью метода `info()`:"
   ]
  },
  {
   "cell_type": "code",
   "execution_count": 4,
   "metadata": {
    "deletable": false,
    "id": "DSf2kIb-_Zct"
   },
   "outputs": [
    {
     "name": "stdout",
     "output_type": "stream",
     "text": [
      "<class 'pandas.core.frame.DataFrame'>\n",
      "RangeIndex: 65079 entries, 0 to 65078\n",
      "Data columns (total 7 columns):\n",
      " #   Column    Non-Null Count  Dtype \n",
      "---  ------    --------------  ----- \n",
      " 0     userID  65079 non-null  object\n",
      " 1   Track     63848 non-null  object\n",
      " 2   artist    57876 non-null  object\n",
      " 3   genre     63881 non-null  object\n",
      " 4     City    65079 non-null  object\n",
      " 5   time      65079 non-null  object\n",
      " 6   Day       65079 non-null  object\n",
      "dtypes: object(7)\n",
      "memory usage: 3.5+ MB\n"
     ]
    }
   ],
   "source": [
    "# получение общей информации о данных в таблице df\n",
    "df.info()"
   ]
  },
  {
   "cell_type": "markdown",
   "metadata": {
    "deletable": false,
    "editable": false,
    "id": "TaQ2Iwbr_Zct"
   },
   "source": [
    "Итак, в таблице семь столбцов. Тип данных во всех столбцах — `object`.\n",
    "\n",
    "Согласно документации к данным:\n",
    "* `userID` — идентификатор пользователя;\n",
    "* `Track` — название трека;  \n",
    "* `artist` — имя исполнителя;\n",
    "* `genre` — название жанра;\n",
    "* `City` — город пользователя;\n",
    "* `time` — время начала прослушивания;\n",
    "* `Day` — день недели.\n",
    "\n",
    "Количество значений в столбцах различается. Значит, в данных есть пропущенные значения."
   ]
  },
  {
   "cell_type": "markdown",
   "metadata": {
    "deletable": false,
    "editable": false,
    "id": "rAfziTBDmf2h",
    "tags": [
     "start_task"
    ]
   },
   "source": [
    "**Задание 5**\n",
    "\n",
    "**Вопрос со свободной формой ответа**\n",
    "\n",
    "В названиях колонок видны нарушения стиля:\n",
    "* Строчные буквы сочетаются с прописными.\n",
    "* Встречаются пробелы.\n",
    "\n",
    "Какое третье нарушение?"
   ]
  },
  {
   "cell_type": "code",
   "execution_count": 5,
   "metadata": {
    "id": "jD8EXEIvmf2h"
   },
   "outputs": [],
   "source": [
    "# Напишите ваш ответ здесь комментарием. Не удаляйте символ #. Не меняйте тип этой ячейки на Markdown.\n",
    "# Не хватает змеиного регистра (snake_case) \"_\" , например: user_id вместо userID."
   ]
  },
  {
   "cell_type": "markdown",
   "metadata": {
    "deletable": false,
    "editable": false,
    "id": "MCB6-dXG_Zct"
   },
   "source": [
    "**Выводы**\n",
    "\n",
    "В каждой строке таблицы — данные о прослушанном треке. Часть колонок описывает саму композицию: название, исполнителя и жанр. Остальные данные рассказывают о пользователе: из какого он города, когда он слушал музыку. \n",
    "\n",
    "Предварительно можно утверждать, что данных достаточно для проверки гипотез. Но встречаются пропуски в данных, а в названиях колонок — расхождения с хорошим стилем.\n",
    "\n",
    "Чтобы двигаться дальше, нужно устранить проблемы в данных."
   ]
  },
  {
   "cell_type": "markdown",
   "metadata": {
    "deletable": false,
    "editable": false,
    "id": "SjYF6Ub9_Zct"
   },
   "source": [
    "## Предобработка данных\n",
    "Исправьте стиль в заголовках столбцов, исключите пропуски. Затем проверьте данные на дубликаты."
   ]
  },
  {
   "cell_type": "markdown",
   "metadata": {
    "deletable": false,
    "editable": false,
    "id": "dIaKXr29_Zct",
    "tags": [
     "start_task"
    ]
   },
   "source": [
    "### Стиль заголовков\n",
    "\n",
    "**Задание 6**\n",
    "\n",
    "Выведите на экран названия столбцов:"
   ]
  },
  {
   "cell_type": "code",
   "execution_count": 6,
   "metadata": {
    "deletable": false,
    "id": "oKOTdF_Q_Zct"
   },
   "outputs": [
    {
     "data": {
      "text/plain": [
       "Index(['  userID', 'Track', 'artist', 'genre', '  City  ', 'time', 'Day'], dtype='object')"
      ]
     },
     "execution_count": 6,
     "metadata": {},
     "output_type": "execute_result"
    }
   ],
   "source": [
    "# перечень названий столбцов таблицы df\n",
    "df.columns"
   ]
  },
  {
   "cell_type": "markdown",
   "metadata": {
    "deletable": false,
    "editable": false,
    "id": "zj5534cv_Zct",
    "tags": [
     "start_task"
    ]
   },
   "source": [
    "**Задание 7**\n",
    "\n",
    "\n",
    "Приведите названия в соответствие с хорошим стилем:\n",
    "* несколько слов в названии запишите в «змеином_регистре»,\n",
    "* все символы сделайте строчными,\n",
    "* устраните пробелы.\n",
    "\n",
    "Для этого переименуйте колонки так:\n",
    "* `'  userID'` → `'user_id'`;\n",
    "* `'Track'` → `'track'`;\n",
    "* `'  City  '` → `'city'`;\n",
    "* `'Day'` → `'day'`."
   ]
  },
  {
   "cell_type": "code",
   "execution_count": 7,
   "metadata": {
    "deletable": false,
    "id": "ISlFqs5y_Zct"
   },
   "outputs": [],
   "source": [
    "# переименование столбцов\n",
    "df = df.rename(columns={'  userID': 'user_id', 'Track': 'track', '  City  ': 'city', 'Day': 'day'})"
   ]
  },
  {
   "cell_type": "markdown",
   "metadata": {
    "deletable": false,
    "editable": false,
    "id": "1dqbh00J_Zct",
    "tags": [
     "start_task"
    ]
   },
   "source": [
    "**Задание 8**\n",
    "\n",
    "\n",
    "Проверьте результат. Для этого ещё раз выведите на экран названия столбцов:"
   ]
  },
  {
   "cell_type": "code",
   "execution_count": 8,
   "metadata": {
    "deletable": false,
    "id": "d4NOAmTW_Zct"
   },
   "outputs": [
    {
     "data": {
      "text/plain": [
       "Index(['user_id', 'track', 'artist', 'genre', 'city', 'time', 'day'], dtype='object')"
      ]
     },
     "execution_count": 8,
     "metadata": {},
     "output_type": "execute_result"
    }
   ],
   "source": [
    "# проверка результатов - перечень названий столбцов\n",
    "df.columns"
   ]
  },
  {
   "cell_type": "markdown",
   "metadata": {
    "deletable": false,
    "editable": false,
    "id": "5ISfbcfY_Zct",
    "tags": [
     "start_task"
    ]
   },
   "source": [
    "### Пропуски значений\n",
    "\n",
    "**Задание 9**\n",
    "\n",
    "Сначала посчитайте, сколько в таблице пропущенных значений. Для этого достаточно двух методов `pandas`:"
   ]
  },
  {
   "cell_type": "code",
   "execution_count": 9,
   "metadata": {
    "deletable": false,
    "id": "RskX29qr_Zct"
   },
   "outputs": [
    {
     "data": {
      "text/plain": [
       "user_id       0\n",
       "track      1231\n",
       "artist     7203\n",
       "genre      1198\n",
       "city          0\n",
       "time          0\n",
       "day           0\n",
       "dtype: int64"
      ]
     },
     "execution_count": 9,
     "metadata": {},
     "output_type": "execute_result"
    }
   ],
   "source": [
    "# подсчёт пропусков\n",
    "df.isna().sum()"
   ]
  },
  {
   "cell_type": "markdown",
   "metadata": {
    "deletable": false,
    "editable": false,
    "id": "qubhgnlO_Zct"
   },
   "source": [
    "Не все пропущенные значения влияют на исследование. Так в `track` и `artist` пропуски не важны для вашей работы. Достаточно заменить их явными обозначениями.\n",
    "\n",
    "Но пропуски в `genre` могут помешать сравнению музыкальных вкусов в Москве и Санкт-Петербурге. На практике было бы правильно установить причину пропусков и восстановить данные. Такой возможности нет в учебном проекте. Придётся:\n",
    "* заполнить и эти пропуски явными обозначениями;\n",
    "* оценить, насколько они повредят расчётам. "
   ]
  },
  {
   "cell_type": "markdown",
   "metadata": {
    "deletable": false,
    "editable": false,
    "id": "fSv2laPA_Zct",
    "tags": [
     "start_task"
    ]
   },
   "source": [
    "**Задание 10**\n",
    "\n",
    "Замените пропущенные значения в столбцах `track`, `artist` и `genre` на строку `'unknown'`. Для этого создайте список `columns_to_replace`, переберите его элементы циклом `for` и для каждого столбца выполните замену пропущенных значений:"
   ]
  },
  {
   "cell_type": "code",
   "execution_count": 10,
   "metadata": {
    "deletable": false,
    "id": "KplB5qWs_Zct"
   },
   "outputs": [],
   "source": [
    "# перебор названий столбцов в цикле и замена пропущенных значений на 'unknown'\n",
    "columns_to_replace = [df.columns]\n",
    "for value in columns_to_replace:\n",
    "    df[value] = df[value].fillna('unknown')"
   ]
  },
  {
   "cell_type": "markdown",
   "metadata": {
    "deletable": false,
    "editable": false,
    "id": "Ilsm-MZo_Zct",
    "tags": [
     "start_task"
    ]
   },
   "source": [
    "**Задание 11**\n",
    "\n",
    "Убедитесь, что в таблице не осталось пропусков. Для этого ещё раз посчитайте пропущенные значения."
   ]
  },
  {
   "cell_type": "code",
   "execution_count": 11,
   "metadata": {
    "deletable": false,
    "id": "Tq4nYRX4_Zct"
   },
   "outputs": [
    {
     "data": {
      "text/plain": [
       "user_id    0\n",
       "track      0\n",
       "artist     0\n",
       "genre      0\n",
       "city       0\n",
       "time       0\n",
       "day        0\n",
       "dtype: int64"
      ]
     },
     "execution_count": 11,
     "metadata": {},
     "output_type": "execute_result"
    }
   ],
   "source": [
    "# подсчёт пропусков\n",
    "df.isna().sum()"
   ]
  },
  {
   "cell_type": "markdown",
   "metadata": {
    "deletable": false,
    "editable": false,
    "id": "BWKRtBJ3_Zct",
    "tags": [
     "start_task"
    ]
   },
   "source": [
    "### Дубликаты\n",
    "\n",
    "**Задание 12**\n",
    "\n",
    "Посчитайте явные дубликаты в таблице одной командой:"
   ]
  },
  {
   "cell_type": "code",
   "execution_count": 12,
   "metadata": {
    "deletable": false,
    "id": "36eES_S0_Zct"
   },
   "outputs": [
    {
     "data": {
      "text/plain": [
       "3826"
      ]
     },
     "execution_count": 12,
     "metadata": {},
     "output_type": "execute_result"
    }
   ],
   "source": [
    "# подсчёт явных дубликатов\n",
    "df.duplicated().sum()"
   ]
  },
  {
   "cell_type": "markdown",
   "metadata": {
    "deletable": false,
    "editable": false,
    "id": "Ot25h6XR_Zct",
    "tags": [
     "start_task"
    ]
   },
   "source": [
    "**Задание 13**\n",
    "\n",
    "Вызовите специальный метод `pandas`, чтобы удалить явные дубликаты:"
   ]
  },
  {
   "cell_type": "code",
   "execution_count": 13,
   "metadata": {
    "deletable": false,
    "id": "exFHq6tt_Zct"
   },
   "outputs": [],
   "source": [
    "# удаление явных дубликатов\n",
    "df = df.drop_duplicates()"
   ]
  },
  {
   "cell_type": "markdown",
   "metadata": {
    "deletable": false,
    "editable": false,
    "id": "Im2YwBEG_Zct",
    "tags": [
     "start_task"
    ]
   },
   "source": [
    "**Задание 14**\n",
    "\n",
    "Ещё раз посчитайте явные дубликаты в таблице — убедитесь, что полностью от них избавились:"
   ]
  },
  {
   "cell_type": "code",
   "execution_count": 14,
   "metadata": {
    "deletable": false,
    "id": "-8PuNWQ0_Zct"
   },
   "outputs": [
    {
     "data": {
      "text/plain": [
       "0"
      ]
     },
     "execution_count": 14,
     "metadata": {},
     "output_type": "execute_result"
    }
   ],
   "source": [
    "# проверка на отсутствие дубликатов\n",
    "df.duplicated().sum()"
   ]
  },
  {
   "cell_type": "markdown",
   "metadata": {
    "deletable": false,
    "editable": false,
    "id": "QlFBsxAr_Zct"
   },
   "source": [
    "Теперь избавьтесь от неявных дубликатов в колонке `genre`. Например, название одного и того же жанра может быть записано немного по-разному. Такие ошибки тоже повлияют на результат исследования."
   ]
  },
  {
   "cell_type": "markdown",
   "metadata": {
    "deletable": false,
    "editable": false,
    "id": "eSjWwsOh_Zct",
    "tags": [
     "start_task"
    ]
   },
   "source": [
    "**Задание 15**\n",
    "\n",
    "Выведите на экран список уникальных названий жанров, отсортированный в алфавитном порядке. Для этого:\n",
    "1. извлеките нужный столбец датафрейма; \n",
    "2. примените к нему метод сортировки;\n",
    "3. для отсортированного столбца вызовите метод, который вернёт уникальные значения из столбца."
   ]
  },
  {
   "cell_type": "code",
   "execution_count": 15,
   "metadata": {
    "deletable": false,
    "id": "JIUcqzZN_Zct"
   },
   "outputs": [
    {
     "data": {
      "text/plain": [
       "array(['acid', 'acoustic', 'action', 'adult', 'africa', 'afrikaans',\n",
       "       'alternative', 'alternativepunk', 'ambient', 'americana',\n",
       "       'animated', 'anime', 'arabesk', 'arabic', 'arena',\n",
       "       'argentinetango', 'art', 'audiobook', 'author', 'avantgarde',\n",
       "       'axé', 'baile', 'balkan', 'beats', 'bigroom', 'black', 'bluegrass',\n",
       "       'blues', 'bollywood', 'bossa', 'brazilian', 'breakbeat', 'breaks',\n",
       "       'broadway', 'cantautori', 'cantopop', 'canzone', 'caribbean',\n",
       "       'caucasian', 'celtic', 'chamber', 'chanson', 'children', 'chill',\n",
       "       'chinese', 'choral', 'christian', 'christmas', 'classical',\n",
       "       'classicmetal', 'club', 'colombian', 'comedy', 'conjazz',\n",
       "       'contemporary', 'country', 'cuban', 'dance', 'dancehall',\n",
       "       'dancepop', 'dark', 'death', 'deep', 'deutschrock', 'deutschspr',\n",
       "       'dirty', 'disco', 'dnb', 'documentary', 'downbeat', 'downtempo',\n",
       "       'drum', 'dub', 'dubstep', 'eastern', 'easy', 'electronic',\n",
       "       'electropop', 'emo', 'entehno', 'epicmetal', 'estrada', 'ethnic',\n",
       "       'eurofolk', 'european', 'experimental', 'extrememetal', 'fado',\n",
       "       'fairytail', 'film', 'fitness', 'flamenco', 'folk', 'folklore',\n",
       "       'folkmetal', 'folkrock', 'folktronica', 'forró', 'frankreich',\n",
       "       'französisch', 'french', 'funk', 'future', 'gangsta', 'garage',\n",
       "       'german', 'ghazal', 'gitarre', 'glitch', 'gospel', 'gothic',\n",
       "       'grime', 'grunge', 'gypsy', 'handsup', \"hard'n'heavy\", 'hardcore',\n",
       "       'hardstyle', 'hardtechno', 'hip', 'hip-hop', 'hiphop',\n",
       "       'historisch', 'holiday', 'hop', 'horror', 'house', 'hymn', 'idm',\n",
       "       'independent', 'indian', 'indie', 'indipop', 'industrial',\n",
       "       'inspirational', 'instrumental', 'international', 'irish', 'jam',\n",
       "       'japanese', 'jazz', 'jewish', 'jpop', 'jungle', 'k-pop',\n",
       "       'karadeniz', 'karaoke', 'kayokyoku', 'korean', 'laiko', 'latin',\n",
       "       'latino', 'leftfield', 'local', 'lounge', 'loungeelectronic',\n",
       "       'lovers', 'malaysian', 'mandopop', 'marschmusik', 'meditative',\n",
       "       'mediterranean', 'melodic', 'metal', 'metalcore', 'mexican',\n",
       "       'middle', 'minimal', 'miscellaneous', 'modern', 'mood', 'mpb',\n",
       "       'muslim', 'native', 'neoklassik', 'neue', 'new', 'newage',\n",
       "       'newwave', 'nu', 'nujazz', 'numetal', 'oceania', 'old', 'opera',\n",
       "       'orchestral', 'other', 'piano', 'podcasts', 'pop', 'popdance',\n",
       "       'popelectronic', 'popeurodance', 'poprussian', 'post',\n",
       "       'posthardcore', 'postrock', 'power', 'progmetal', 'progressive',\n",
       "       'psychedelic', 'punjabi', 'punk', 'quebecois', 'ragga', 'ram',\n",
       "       'rancheras', 'rap', 'rave', 'reggae', 'reggaeton', 'regional',\n",
       "       'relax', 'religious', 'retro', 'rhythm', 'rnb', 'rnr', 'rock',\n",
       "       'rockabilly', 'rockalternative', 'rockindie', 'rockother',\n",
       "       'romance', 'roots', 'ruspop', 'rusrap', 'rusrock', 'russian',\n",
       "       'salsa', 'samba', 'scenic', 'schlager', 'self', 'sertanejo',\n",
       "       'shanson', 'shoegazing', 'showtunes', 'singer', 'ska', 'skarock',\n",
       "       'slow', 'smooth', 'soft', 'soul', 'soulful', 'sound', 'soundtrack',\n",
       "       'southern', 'specialty', 'speech', 'spiritual', 'sport',\n",
       "       'stonerrock', 'surf', 'swing', 'synthpop', 'synthrock',\n",
       "       'sängerportrait', 'tango', 'tanzorchester', 'taraftar', 'tatar',\n",
       "       'tech', 'techno', 'teen', 'thrash', 'top', 'traditional',\n",
       "       'tradjazz', 'trance', 'tribal', 'trip', 'triphop', 'tropical',\n",
       "       'türk', 'türkçe', 'ukrrock', 'unknown', 'urban', 'uzbek',\n",
       "       'variété', 'vi', 'videogame', 'vocal', 'western', 'world',\n",
       "       'worldbeat', 'ïîï', 'электроника'], dtype=object)"
      ]
     },
     "execution_count": 15,
     "metadata": {},
     "output_type": "execute_result"
    }
   ],
   "source": [
    "# Просмотр уникальных названий жанров\n",
    "\n",
    "\n",
    "df_genre_sorted = df['genre']\n",
    "df_genre_sorted = df['genre'].sort_values() \n",
    "df_genre_sorted.unique()\n",
    "\n",
    "\n",
    "#это задание постоянно висло, и не только у меня. Отзывы есть с слаке. Помогло только Cell -> Run All\n"
   ]
  },
  {
   "cell_type": "markdown",
   "metadata": {
    "deletable": false,
    "editable": false,
    "id": "qej-Qmuo_Zct",
    "tags": [
     "start_task"
    ]
   },
   "source": [
    "**Задание 16**\n",
    "\n",
    "Просмотрите список и найдите неявные дубликаты названия `hiphop`. Это могут быть названия с ошибками или альтернативные названия того же жанра.\n",
    "\n",
    "Вы увидите следующие неявные дубликаты:\n",
    "* *hip*,\n",
    "* *hop*,\n",
    "* *hip-hop*.\n",
    "\n",
    "Чтобы очистить от них таблицу используйте метод `replace()` с двумя аргументами: списком строк-дубликатов (включащий *hip*, *hop* и *hip-hop*) и строкой с правильным значением. Вам нужно исправить колонку `genre` в таблице `df`: заменить каждое значение из списка дубликатов на верное. Вместо `hip`, `hop` и `hip-hop` в таблице должно быть значение `hiphop`:"
   ]
  },
  {
   "cell_type": "code",
   "execution_count": 16,
   "metadata": {
    "deletable": false,
    "id": "ErNDkmns_Zct"
   },
   "outputs": [],
   "source": [
    "# Устранение неявных дубликатов\n",
    "duplicates = ['hip', 'hop', 'hip-hop']\n",
    "correct_genre = 'hiphop'\n",
    "df = df.replace(duplicates, correct_genre)\n"
   ]
  },
  {
   "cell_type": "markdown",
   "metadata": {
    "deletable": false,
    "editable": false,
    "id": "zQKF16_RG15m",
    "tags": [
     "start_task"
    ]
   },
   "source": [
    "**Задание 17**\n",
    "\n",
    "Проверьте, что заменили неправильные названия:\n",
    "\n",
    "*   hip,\n",
    "*   hop,\n",
    "*   hip-hop.\n",
    "\n",
    "Выведите отсортированный список уникальных значений столбца `genre`:"
   ]
  },
  {
   "cell_type": "code",
   "execution_count": 17,
   "metadata": {
    "deletable": false,
    "id": "wvixALnFG15m"
   },
   "outputs": [
    {
     "data": {
      "text/plain": [
       "array(['acid', 'acoustic', 'action', 'adult', 'africa', 'afrikaans',\n",
       "       'alternative', 'alternativepunk', 'ambient', 'americana',\n",
       "       'animated', 'anime', 'arabesk', 'arabic', 'arena',\n",
       "       'argentinetango', 'art', 'audiobook', 'author', 'avantgarde',\n",
       "       'axé', 'baile', 'balkan', 'beats', 'bigroom', 'black', 'bluegrass',\n",
       "       'blues', 'bollywood', 'bossa', 'brazilian', 'breakbeat', 'breaks',\n",
       "       'broadway', 'cantautori', 'cantopop', 'canzone', 'caribbean',\n",
       "       'caucasian', 'celtic', 'chamber', 'chanson', 'children', 'chill',\n",
       "       'chinese', 'choral', 'christian', 'christmas', 'classical',\n",
       "       'classicmetal', 'club', 'colombian', 'comedy', 'conjazz',\n",
       "       'contemporary', 'country', 'cuban', 'dance', 'dancehall',\n",
       "       'dancepop', 'dark', 'death', 'deep', 'deutschrock', 'deutschspr',\n",
       "       'dirty', 'disco', 'dnb', 'documentary', 'downbeat', 'downtempo',\n",
       "       'drum', 'dub', 'dubstep', 'eastern', 'easy', 'electronic',\n",
       "       'electropop', 'emo', 'entehno', 'epicmetal', 'estrada', 'ethnic',\n",
       "       'eurofolk', 'european', 'experimental', 'extrememetal', 'fado',\n",
       "       'fairytail', 'film', 'fitness', 'flamenco', 'folk', 'folklore',\n",
       "       'folkmetal', 'folkrock', 'folktronica', 'forró', 'frankreich',\n",
       "       'französisch', 'french', 'funk', 'future', 'gangsta', 'garage',\n",
       "       'german', 'ghazal', 'gitarre', 'glitch', 'gospel', 'gothic',\n",
       "       'grime', 'grunge', 'gypsy', 'handsup', \"hard'n'heavy\", 'hardcore',\n",
       "       'hardstyle', 'hardtechno', 'hiphop', 'historisch', 'holiday',\n",
       "       'horror', 'house', 'hymn', 'idm', 'independent', 'indian', 'indie',\n",
       "       'indipop', 'industrial', 'inspirational', 'instrumental',\n",
       "       'international', 'irish', 'jam', 'japanese', 'jazz', 'jewish',\n",
       "       'jpop', 'jungle', 'k-pop', 'karadeniz', 'karaoke', 'kayokyoku',\n",
       "       'korean', 'laiko', 'latin', 'latino', 'leftfield', 'local',\n",
       "       'lounge', 'loungeelectronic', 'lovers', 'malaysian', 'mandopop',\n",
       "       'marschmusik', 'meditative', 'mediterranean', 'melodic', 'metal',\n",
       "       'metalcore', 'mexican', 'middle', 'minimal', 'miscellaneous',\n",
       "       'modern', 'mood', 'mpb', 'muslim', 'native', 'neoklassik', 'neue',\n",
       "       'new', 'newage', 'newwave', 'nu', 'nujazz', 'numetal', 'oceania',\n",
       "       'old', 'opera', 'orchestral', 'other', 'piano', 'podcasts', 'pop',\n",
       "       'popdance', 'popelectronic', 'popeurodance', 'poprussian', 'post',\n",
       "       'posthardcore', 'postrock', 'power', 'progmetal', 'progressive',\n",
       "       'psychedelic', 'punjabi', 'punk', 'quebecois', 'ragga', 'ram',\n",
       "       'rancheras', 'rap', 'rave', 'reggae', 'reggaeton', 'regional',\n",
       "       'relax', 'religious', 'retro', 'rhythm', 'rnb', 'rnr', 'rock',\n",
       "       'rockabilly', 'rockalternative', 'rockindie', 'rockother',\n",
       "       'romance', 'roots', 'ruspop', 'rusrap', 'rusrock', 'russian',\n",
       "       'salsa', 'samba', 'scenic', 'schlager', 'self', 'sertanejo',\n",
       "       'shanson', 'shoegazing', 'showtunes', 'singer', 'ska', 'skarock',\n",
       "       'slow', 'smooth', 'soft', 'soul', 'soulful', 'sound', 'soundtrack',\n",
       "       'southern', 'specialty', 'speech', 'spiritual', 'sport',\n",
       "       'stonerrock', 'surf', 'swing', 'synthpop', 'synthrock',\n",
       "       'sängerportrait', 'tango', 'tanzorchester', 'taraftar', 'tatar',\n",
       "       'tech', 'techno', 'teen', 'thrash', 'top', 'traditional',\n",
       "       'tradjazz', 'trance', 'tribal', 'trip', 'triphop', 'tropical',\n",
       "       'türk', 'türkçe', 'ukrrock', 'unknown', 'urban', 'uzbek',\n",
       "       'variété', 'vi', 'videogame', 'vocal', 'western', 'world',\n",
       "       'worldbeat', 'ïîï', 'электроника'], dtype=object)"
      ]
     },
     "execution_count": 17,
     "metadata": {},
     "output_type": "execute_result"
    }
   ],
   "source": [
    "# Проверка на неявные дубликаты\n",
    "\n",
    "df_genre_sorted = df['genre']\n",
    "df_genre_sorted = df['genre'].sort_values() \n",
    "df_genre_sorted.unique()\n",
    "\n"
   ]
  },
  {
   "cell_type": "markdown",
   "metadata": {
    "deletable": false,
    "editable": false,
    "id": "jz6a9-7HQUDd"
   },
   "source": [
    "**Выводы**\n",
    "\n",
    "Предобработка обнаружила три проблемы в данных:\n",
    "\n",
    "- нарушения в стиле заголовков,\n",
    "- пропущенные значения,\n",
    "- дубликаты — явные и неявные.\n",
    "\n",
    "Вы исправили заголовки, чтобы упростить работу с таблицей. Без дубликатов исследование станет более точным.\n",
    "\n",
    "Пропущенные значения вы заменили на `'unknown'`. Ещё предстоит увидеть, не повредят ли исследованию пропуски в колонке `genre`.\n",
    "\n",
    "Теперь можно перейти к проверке гипотез. "
   ]
  },
  {
   "cell_type": "markdown",
   "metadata": {
    "deletable": false,
    "editable": false,
    "id": "WttZHXH0SqKk"
   },
   "source": [
    "## Проверка гипотез"
   ]
  },
  {
   "cell_type": "markdown",
   "metadata": {
    "deletable": false,
    "editable": false,
    "id": "Im936VVi_Zcu"
   },
   "source": [
    "### Сравнение поведения пользователей двух столиц"
   ]
  },
  {
   "cell_type": "markdown",
   "metadata": {
    "deletable": false,
    "editable": false,
    "id": "nwt_MuaL_Zcu"
   },
   "source": [
    "Первая гипотеза утверждает, что пользователи по-разному слушают музыку в Москве и Санкт-Петербурге. Проверьте это предположение по данным о трёх днях недели — понедельнике, среде и пятнице. Для этого:\n",
    "\n",
    "* Разделите пользователей Москвы и Санкт-Петербурга.\n",
    "* Сравните, сколько треков послушала каждая группа пользователей в понедельник, среду и пятницу.\n"
   ]
  },
  {
   "cell_type": "markdown",
   "metadata": {
    "deletable": false,
    "editable": false,
    "id": "8Dw_YMmT_Zcu",
    "tags": [
     "start_task"
    ]
   },
   "source": [
    "**Задание 18**\n",
    "\n",
    "Для тренировки сначала выполните каждый из расчётов по отдельности. \n",
    "\n",
    "Оцените активность пользователей в каждом городе. Сгруппируйте данные по городу и посчитайте прослушивания в каждой группе.\n",
    "\n"
   ]
  },
  {
   "cell_type": "code",
   "execution_count": 18,
   "metadata": {
    "deletable": false,
    "id": "0_Qs96oh_Zcu"
   },
   "outputs": [
    {
     "data": {
      "text/plain": [
       "city\n",
       "Moscow              42741\n",
       "Saint-Petersburg    18512\n",
       "Name: track, dtype: int64"
      ]
     },
     "execution_count": 18,
     "metadata": {},
     "output_type": "execute_result"
    }
   ],
   "source": [
    "# Подсчёт прослушиваний в каждом городе\n",
    "df.groupby('city')['track'].count()"
   ]
  },
  {
   "cell_type": "markdown",
   "metadata": {
    "deletable": false,
    "editable": false,
    "id": "dzli3w8o_Zcu",
    "tags": [
     "start_task"
    ]
   },
   "source": [
    "В Москве прослушиваний больше, чем в Петербурге. Из этого не следует, что московские пользователи чаще слушают музыку. Просто самих пользователей в Москве больше.\n",
    "\n",
    "**Задание 19**\n",
    "\n",
    "Теперь сгруппируйте данные по дню недели и посчитайте прослушивания в понедельник, среду и пятницу. Учтите, что в данных есть информация о прослушиваниях только за эти дни.\n"
   ]
  },
  {
   "cell_type": "code",
   "execution_count": 19,
   "metadata": {
    "deletable": false,
    "id": "uZMKjiJz_Zcu"
   },
   "outputs": [
    {
     "data": {
      "text/plain": [
       "day\n",
       "Friday       21840\n",
       "Monday       21354\n",
       "Wednesday    18059\n",
       "Name: track, dtype: int64"
      ]
     },
     "execution_count": 19,
     "metadata": {},
     "output_type": "execute_result"
    }
   ],
   "source": [
    "# Подсчёт прослушиваний в каждый из трёх дней\n",
    "df.groupby('day')['track'].count()"
   ]
  },
  {
   "cell_type": "markdown",
   "metadata": {
    "deletable": false,
    "editable": false,
    "id": "cC2tNrlL_Zcu"
   },
   "source": [
    "В среднем пользователи из двух городов менее активны по средам. Но картина может измениться, если рассмотреть каждый город в отдельности."
   ]
  },
  {
   "cell_type": "markdown",
   "metadata": {
    "deletable": false,
    "editable": false,
    "id": "POzs8bGa_Zcu",
    "tags": [
     "start_task"
    ]
   },
   "source": [
    "**Задание 20**\n",
    "\n",
    "\n",
    "Вы видели, как работает группировка по городу и по дням недели. Теперь напишите функцию, которая объединит два эти расчёта.\n",
    "\n",
    "Создайте функцию `number_tracks()`, которая посчитает прослушивания для заданного дня и города. Ей понадобятся два параметра:\n",
    "* день недели,\n",
    "* название города.\n",
    "\n",
    "В функции сохраните в переменную строки исходной таблицы, у которых значение:\n",
    "  * в колонке `day` равно параметру `day`,\n",
    "  * в колонке `city` равно параметру `city`.\n",
    "\n",
    "Для этого примените последовательную фильтрацию с логической индексацией (или сложные логические выражения в одну строку, если вы уже знакомы с ними).\n",
    "\n",
    "Затем посчитайте значения в столбце `user_id` получившейся таблицы. Результат сохраните в новую переменную. Верните эту переменную из функции."
   ]
  },
  {
   "cell_type": "code",
   "execution_count": 20,
   "metadata": {
    "deletable": false,
    "id": "Nz3GdQB1_Zcu"
   },
   "outputs": [],
   "source": [
    "# <создание функции number_tracks()>\n",
    "# Объявляется функция с двумя параметрами: day, city.\n",
    "# В переменной track_list сохраняются те строки таблицы df, для которых \n",
    "# значение в столбце 'day' равно параметру day и одновременно значение\n",
    "# в столбце 'city' равно параметру city (используйте последовательную фильтрацию\n",
    "# с помощью логической индексации или сложные логические выражения в одну строку, если вы уже знакомы с ними).\n",
    "# В переменной track_list_count сохраняется число значений столбца 'user_id',\n",
    "# рассчитанное методом count() для таблицы track_list.\n",
    "# Функция возвращает число - значение track_list_count.\n",
    "def number_tracks(day, city):\n",
    "    track_list = df[df['day'] == day]\n",
    "    track_list = track_list[track_list['city'] == city]\n",
    "    track_list_count = track_list['user_id'].count()\n",
    "    return track_list_count\n",
    "# Функция для подсчёта прослушиваний для конкретного города и дня.\n",
    "# С помощью последовательной фильтрации с логической индексацией она \n",
    "# сначала получит из исходной таблицы строки с нужным днём,\n",
    "# затем из результата отфильтрует строки с нужным городом,\n",
    "# методом count() посчитает количество значений в колонке user_id. \n",
    "# Это количество функция вернёт в качестве результата"
   ]
  },
  {
   "cell_type": "markdown",
   "metadata": {
    "deletable": false,
    "editable": false,
    "id": "ytf7xFrFJQ2r",
    "tags": [
     "start_task"
    ]
   },
   "source": [
    "**Задание 21**\n",
    "\n",
    "Вызовите `number_tracks()` шесть раз, меняя значение параметров — так, чтобы получить данные для каждого города в каждый из трёх дней."
   ]
  },
  {
   "cell_type": "code",
   "execution_count": 21,
   "metadata": {
    "deletable": false,
    "id": "rJcRATNQ_Zcu"
   },
   "outputs": [
    {
     "data": {
      "text/plain": [
       "15740"
      ]
     },
     "execution_count": 21,
     "metadata": {},
     "output_type": "execute_result"
    }
   ],
   "source": [
    "# количество прослушиваний в Москве по понедельникам\n",
    "number_tracks('Monday', 'Moscow')"
   ]
  },
  {
   "cell_type": "code",
   "execution_count": 22,
   "metadata": {
    "deletable": false,
    "id": "hq_ncZ5T_Zcu"
   },
   "outputs": [
    {
     "data": {
      "text/plain": [
       "5614"
      ]
     },
     "execution_count": 22,
     "metadata": {},
     "output_type": "execute_result"
    }
   ],
   "source": [
    "# количество прослушиваний в Санкт-Петербурге по понедельникам\n",
    "number_tracks('Monday', 'Saint-Petersburg')"
   ]
  },
  {
   "cell_type": "code",
   "execution_count": 23,
   "metadata": {
    "deletable": false,
    "id": "_NTy2VPU_Zcu"
   },
   "outputs": [
    {
     "data": {
      "text/plain": [
       "11056"
      ]
     },
     "execution_count": 23,
     "metadata": {},
     "output_type": "execute_result"
    }
   ],
   "source": [
    "# количество прослушиваний в Москве по средам\n",
    "number_tracks('Wednesday', 'Moscow')"
   ]
  },
  {
   "cell_type": "code",
   "execution_count": 24,
   "metadata": {
    "deletable": false,
    "id": "j2y3TAwo_Zcu"
   },
   "outputs": [
    {
     "data": {
      "text/plain": [
       "7003"
      ]
     },
     "execution_count": 24,
     "metadata": {},
     "output_type": "execute_result"
    }
   ],
   "source": [
    "# количество прослушиваний в Санкт-Петербурге по средам\n",
    "number_tracks('Wednesday', 'Saint-Petersburg')"
   ]
  },
  {
   "cell_type": "code",
   "execution_count": 25,
   "metadata": {
    "deletable": false,
    "id": "vYDw5u_K_Zcu"
   },
   "outputs": [
    {
     "data": {
      "text/plain": [
       "15945"
      ]
     },
     "execution_count": 25,
     "metadata": {},
     "output_type": "execute_result"
    }
   ],
   "source": [
    "# количество прослушиваний в Москве по пятницам\n",
    "number_tracks('Friday', 'Moscow')"
   ]
  },
  {
   "cell_type": "code",
   "execution_count": 26,
   "metadata": {
    "deletable": false,
    "id": "8_yzFtW3_Zcu"
   },
   "outputs": [
    {
     "data": {
      "text/plain": [
       "5895"
      ]
     },
     "execution_count": 26,
     "metadata": {},
     "output_type": "execute_result"
    }
   ],
   "source": [
    "# количество прослушиваний в Санкт-Петербурге по пятницам\n",
    "number_tracks('Friday', 'Saint-Petersburg')"
   ]
  },
  {
   "cell_type": "markdown",
   "metadata": {
    "deletable": false,
    "editable": false,
    "id": "7QXffbO-_Zcu",
    "tags": [
     "start_task"
    ]
   },
   "source": [
    "**Задание 22**\n",
    "\n",
    "Создайте c помощью конструктора `pd.DataFrame` таблицу, где\n",
    "* названия колонок — `['city', 'monday', 'wednesday', 'friday']`;\n",
    "* данные — результаты, которые вы получили с помощью `number_tracks`."
   ]
  },
  {
   "cell_type": "code",
   "execution_count": 27,
   "metadata": {
    "deletable": false,
    "id": "APAcLpOr_Zcu"
   },
   "outputs": [],
   "source": [
    "# Таблица с результатами\n",
    "table = pd.DataFrame(data=[['Moscow', 'Monday', 'Wednesday', 'Friday'], ['Saint-Petersburg', 'Monday', 'Wednesday', 'Friday']], columns=['city', 'monday', 'wednesday', 'friday'])"
   ]
  },
  {
   "cell_type": "markdown",
   "metadata": {
    "deletable": false,
    "editable": false,
    "id": "-EgPIHYu_Zcu"
   },
   "source": [
    "**Выводы**\n",
    "\n",
    "Данные показывают разницу поведения пользователей:\n",
    "\n",
    "- В Москве пик прослушиваний приходится на понедельник и пятницу, а в среду заметен спад.\n",
    "- В Петербурге, наоборот, больше слушают музыку по средам. Активность в понедельник и пятницу здесь почти в равной мере уступает среде.\n",
    "\n",
    "Значит, данные говорят в пользу первой гипотезы."
   ]
  },
  {
   "cell_type": "markdown",
   "metadata": {
    "deletable": false,
    "editable": false,
    "id": "atZAxtq4_Zcu"
   },
   "source": [
    "### Музыка в начале и в конце недели"
   ]
  },
  {
   "cell_type": "markdown",
   "metadata": {
    "deletable": false,
    "editable": false,
    "id": "eXrQqXFH_Zcu"
   },
   "source": [
    "Согласно второй гипотезе, утром в понедельник в Москве преобладают одни жанры, а в Петербурге — другие. Так же и вечером пятницы преобладают разные жанры — в зависимости от города."
   ]
  },
  {
   "cell_type": "markdown",
   "metadata": {
    "deletable": false,
    "editable": false,
    "id": "S8UcW6Hw_Zcu",
    "tags": [
     "start_task"
    ]
   },
   "source": [
    "**Задание 23**\n",
    "\n",
    "Сохраните таблицы с данными в две переменные:\n",
    "* по Москве — в `moscow_general`;\n",
    "* по Санкт-Петербургу — в `spb_general`."
   ]
  },
  {
   "cell_type": "code",
   "execution_count": 28,
   "metadata": {
    "deletable": false,
    "id": "qeaFfM_P_Zcu"
   },
   "outputs": [],
   "source": [
    "# получение таблицы moscow_general из тех строк таблицы df, \n",
    "# для которых значение в столбце 'city' равно 'Moscow'\n",
    "moscow_general = df[df['city'] == 'Moscow']"
   ]
  },
  {
   "cell_type": "code",
   "execution_count": 29,
   "metadata": {
    "deletable": false,
    "id": "ORaVRKto_Zcu"
   },
   "outputs": [],
   "source": [
    "# получение таблицы spb_general из тех строк таблицы df,\n",
    "# для которых значение в столбце 'city' равно 'Saint-Petersburg'\n",
    "spb_general = df[df['city'] == 'Saint-Petersburg']"
   ]
  },
  {
   "cell_type": "markdown",
   "metadata": {
    "deletable": false,
    "editable": false,
    "id": "MEJV-CX2_Zcu",
    "tags": [
     "start_task"
    ]
   },
   "source": [
    "**Задание 24**\n",
    "\n",
    "Создайте функцию `genre_weekday()` с четырьмя параметрами:\n",
    "* таблица (датафрейм) с данными,\n",
    "* день недели,\n",
    "* начальная временная метка в формате 'hh:mm', \n",
    "* последняя временная метка в формате 'hh:mm'.\n",
    "\n",
    "Функция должна вернуть информацию о топ-10 жанров тех треков, которые прослушивали в указанный день, в промежутке между двумя отметками времени."
   ]
  },
  {
   "cell_type": "code",
   "execution_count": 30,
   "metadata": {
    "deletable": false,
    "id": "laJT9BYl_Zcu"
   },
   "outputs": [],
   "source": [
    "# Объявление функции genre_weekday() с параметрами table, day, time1, time2,\n",
    "# которая возвращает информацию о самых популярных жанрах в указанный день в\n",
    "# заданное время:\n",
    "# 1) в переменную genre_df сохраняются те строки переданного датафрейма table, для\n",
    "#    которых одновременно:\n",
    "#    - значение в столбце day равно значению аргумента day\n",
    "#    - значение в столбце time больше значения аргумента time1\n",
    "#    - значение в столбце time меньше значения аргумента time2\n",
    "#    Используйте последовательную фильтрацию с помощью логической индексации.\n",
    "# 2) сгруппировать датафрейм genre_df по столбцу genre, взять один из его\n",
    "#    столбцов и посчитать методом count() количество записей для каждого из\n",
    "#    присутствующих жанров, получившийся Series записать в переменную\n",
    "#    genre_df_count\n",
    "# 3) отсортировать genre_df_count по убыванию встречаемости и сохранить\n",
    "#    в переменную genre_df_sorted\n",
    "# 4) вернуть Series из 10 первых значений genre_df_sorted, это будут топ-10\n",
    "#    популярных жанров (в указанный день, в заданное время)\n",
    "\n",
    "def genre_weekday(df, day, time1, time2):\n",
    "    # последовательная фильтрация\n",
    "    # оставляем в genre_df только те строки df, у которых день равен day\n",
    "    genre_df = df[df['day'] == day] # ваш код здесь\n",
    "    # оставляем в genre_df только те строки genre_df, у которых время меньше time2\n",
    "    genre_df = genre_df[genre_df['time'] < time2] # ваш код здесь\n",
    "    # оставляем в genre_df только те строки genre_df, у которых время больше time1\n",
    "    genre_df = genre_df[genre_df['time'] > time1] # ваш код здесь\n",
    "    # сгруппируем отфильтрованный датафрейм по столбцу с названиями жанров, возьмём столбец genre и посчитаем кол-во строк для каждого жанра методом count()\n",
    "    genre_df_grouped = genre_df.groupby('genre')['genre'].count() # ваш код здесь\n",
    "    # отсортируем результат по убыванию (чтобы в начале Series оказались самые популярные жанры)\n",
    "    genre_df_sorted = genre_df_grouped.sort_values(ascending=False) # ваш код здесь\n",
    "    # вернём Series с 10 самыми популярными жанрами в указанный отрезок времени заданного дня\n",
    "    return genre_df_sorted[:10]"
   ]
  },
  {
   "cell_type": "markdown",
   "metadata": {
    "deletable": false,
    "editable": false,
    "id": "la2s2_PF_Zcu",
    "tags": [
     "start_task"
    ]
   },
   "source": [
    "**Задание 25**\n",
    "\n",
    "\n",
    "Cравните результаты функции `genre_weekday()` для Москвы и Санкт-Петербурга в понедельник утром (с 7:00 до 11:00) и в пятницу вечером (с 17:00 до 23:00):"
   ]
  },
  {
   "cell_type": "code",
   "execution_count": 31,
   "metadata": {
    "deletable": false,
    "id": "yz7itPUQ_Zcu"
   },
   "outputs": [
    {
     "data": {
      "text/plain": [
       "genre\n",
       "pop            781\n",
       "dance          549\n",
       "electronic     480\n",
       "rock           474\n",
       "hiphop         286\n",
       "ruspop         186\n",
       "world          181\n",
       "rusrap         175\n",
       "alternative    164\n",
       "unknown        161\n",
       "Name: genre, dtype: int64"
      ]
     },
     "execution_count": 31,
     "metadata": {},
     "output_type": "execute_result"
    }
   ],
   "source": [
    "# вызов функции для утра понедельника в Москве (вместо df — таблица moscow_general)\n",
    "# объекты, хранящие время, являются строками и сравниваются как строки\n",
    "# пример вызова: genre_weekday(moscow_general, 'Monday', '07:00', '11:00')\n",
    "genre_weekday(moscow_general, 'Monday', '07:00', '11:00')"
   ]
  },
  {
   "cell_type": "code",
   "execution_count": 32,
   "metadata": {
    "deletable": false,
    "id": "kwUcHPdy_Zcu"
   },
   "outputs": [
    {
     "data": {
      "text/plain": [
       "genre\n",
       "pop            218\n",
       "dance          182\n",
       "rock           162\n",
       "electronic     147\n",
       "hiphop          80\n",
       "ruspop          64\n",
       "alternative     58\n",
       "rusrap          55\n",
       "jazz            44\n",
       "classical       40\n",
       "Name: genre, dtype: int64"
      ]
     },
     "execution_count": 32,
     "metadata": {},
     "output_type": "execute_result"
    }
   ],
   "source": [
    "# вызов функции для утра понедельника в Петербурге (вместо df — таблица spb_general)\n",
    "genre_weekday(spb_general, 'Monday', '07:00', '11:00')"
   ]
  },
  {
   "cell_type": "code",
   "execution_count": 33,
   "metadata": {
    "deletable": false,
    "id": "EzXVRE1o_Zcu"
   },
   "outputs": [
    {
     "data": {
      "text/plain": [
       "genre\n",
       "pop            713\n",
       "rock           517\n",
       "dance          495\n",
       "electronic     482\n",
       "hiphop         273\n",
       "world          208\n",
       "ruspop         170\n",
       "alternative    163\n",
       "classical      163\n",
       "rusrap         142\n",
       "Name: genre, dtype: int64"
      ]
     },
     "execution_count": 33,
     "metadata": {},
     "output_type": "execute_result"
    }
   ],
   "source": [
    "# вызов функции для вечера пятницы в Москве\n",
    "genre_weekday(moscow_general, 'Friday', '17:00', '23:00')"
   ]
  },
  {
   "cell_type": "code",
   "execution_count": 34,
   "metadata": {
    "deletable": false,
    "id": "JZaEKu5v_Zcu"
   },
   "outputs": [
    {
     "data": {
      "text/plain": [
       "genre\n",
       "pop            256\n",
       "electronic     216\n",
       "rock           216\n",
       "dance          210\n",
       "hiphop          97\n",
       "alternative     63\n",
       "jazz            61\n",
       "classical       60\n",
       "rusrap          59\n",
       "world           54\n",
       "Name: genre, dtype: int64"
      ]
     },
     "execution_count": 34,
     "metadata": {},
     "output_type": "execute_result"
    }
   ],
   "source": [
    "# вызов функции для вечера пятницы в Петербурге\n",
    "genre_weekday(spb_general, 'Friday', '17:00', '23:00')"
   ]
  },
  {
   "cell_type": "markdown",
   "metadata": {
    "deletable": false,
    "editable": false,
    "id": "wrCe4MNX_Zcu"
   },
   "source": [
    "**Выводы**\n",
    "\n",
    "Если сравнить топ-10 жанров в понедельник утром, можно сделать такие выводы:\n",
    "\n",
    "1. В Москве и Петербурге слушают похожую музыку. Единственное отличие — в московский рейтинг вошёл жанр “world”, а в петербургский — джаз и классика.\n",
    "\n",
    "2. В Москве пропущенных значений оказалось так много, что значение `'unknown'` заняло десятое место среди самых популярных жанров. Значит, пропущенные значения занимают существенную долю в данных и угрожают достоверности исследования.\n",
    "\n",
    "Вечер пятницы не меняет эту картину. Некоторые жанры поднимаются немного выше, другие спускаются, но в целом топ-10 остаётся тем же самым.\n",
    "\n",
    "Таким образом, вторая гипотеза подтвердилась лишь частично:\n",
    "* Пользователи слушают похожую музыку в начале недели и в конце.\n",
    "* Разница между Москвой и Петербургом не слишком выражена. В Москве чаще слушают русскую популярную музыку, в Петербурге — джаз.\n",
    "\n",
    "Однако пропуски в данных ставят под сомнение этот результат. В Москве их так много, что рейтинг топ-10 мог бы выглядеть иначе, если бы не утерянные  данные о жанрах."
   ]
  },
  {
   "cell_type": "markdown",
   "metadata": {
    "deletable": false,
    "editable": false,
    "id": "JolODAqr_Zcu"
   },
   "source": [
    "### Жанровые предпочтения в Москве и Петербурге\n",
    "\n",
    "Гипотеза: Петербург — столица рэпа, музыку этого жанра там слушают чаще, чем в Москве.  А Москва — город контрастов, в котором, тем не менее, преобладает поп-музыка."
   ]
  },
  {
   "cell_type": "markdown",
   "metadata": {
    "deletable": false,
    "editable": false,
    "id": "DlegSvaT_Zcu",
    "tags": [
     "start_task"
    ]
   },
   "source": [
    "**Задание 26**\n",
    "\n",
    "Сгруппируйте таблицу `moscow_general` по жанру и посчитайте прослушивания треков каждого жанра методом `count()`. Затем отсортируйте результат в порядке убывания и сохраните его в таблице `moscow_genres`."
   ]
  },
  {
   "cell_type": "code",
   "execution_count": 35,
   "metadata": {
    "deletable": false,
    "id": "r19lIPke_Zcu"
   },
   "outputs": [],
   "source": [
    "# одной строкой: группировка таблицы moscow_general по столбцу 'genre', \n",
    "# подсчёт числа значений 'genre' в этой группировке методом count(), \n",
    "# сортировка получившегося Series в порядке убывания и сохранение в moscow_genres\n",
    "moscow_genres = moscow_general.groupby('genre')['genre'].count()\n",
    "moscow_genres = moscow_genres.sort_values(ascending=False)"
   ]
  },
  {
   "cell_type": "markdown",
   "metadata": {
    "deletable": false,
    "editable": false,
    "id": "6kMuomxTiIr8",
    "tags": [
     "start_task"
    ]
   },
   "source": [
    "**Задание 27**\n",
    "\n",
    "Выведите на экран первые десять строк `moscow_genres`:"
   ]
  },
  {
   "cell_type": "code",
   "execution_count": 36,
   "metadata": {
    "deletable": false,
    "id": "WhCSooF8_Zcv"
   },
   "outputs": [
    {
     "data": {
      "text/plain": [
       "genre\n",
       "pop            5892\n",
       "dance          4435\n",
       "rock           3965\n",
       "electronic     3786\n",
       "hiphop         2096\n",
       "classical      1616\n",
       "world          1432\n",
       "alternative    1379\n",
       "ruspop         1372\n",
       "rusrap         1161\n",
       "Name: genre, dtype: int64"
      ]
     },
     "execution_count": 36,
     "metadata": {},
     "output_type": "execute_result"
    }
   ],
   "source": [
    "# просмотр первых 10 строк moscow_genres\n",
    "moscow_genres.head(10)"
   ]
  },
  {
   "cell_type": "markdown",
   "metadata": {
    "deletable": false,
    "editable": false,
    "id": "cnPG2vnN_Zcv",
    "tags": [
     "start_task"
    ]
   },
   "source": [
    "**Задание 28**\n",
    "\n",
    "\n",
    "Теперь повторите то же и для Петербурга.\n",
    "\n",
    "Сгруппируйте таблицу `spb_general` по жанру. Посчитайте прослушивания треков каждого жанра. Результат отсортируйте в порядке убывания и сохраните в таблице `spb_genres`:\n"
   ]
  },
  {
   "cell_type": "code",
   "execution_count": 37,
   "metadata": {
    "deletable": false,
    "id": "gluLIpE7_Zcv"
   },
   "outputs": [],
   "source": [
    "# одной строкой: группировка таблицы spb_general по столбцу 'genre', \n",
    "# подсчёт числа значений 'genre' в этой группировке методом count(), \n",
    "# сортировка получившегося Series в порядке убывания и сохранение в spb_genres\n",
    "spb_genres = spb_general.groupby('genre')['genre'].count()\n",
    "spb_genres = spb_genres.sort_values(ascending=False)"
   ]
  },
  {
   "cell_type": "markdown",
   "metadata": {
    "deletable": false,
    "editable": false,
    "id": "5Doha_ODgyQ8",
    "tags": [
     "start_task"
    ]
   },
   "source": [
    "**Задание 29**\n",
    "\n",
    "Выведите на экран первые десять строк `spb_genres`:"
   ]
  },
  {
   "cell_type": "code",
   "execution_count": 38,
   "metadata": {
    "deletable": false,
    "id": "uaGJHjVU_Zcv"
   },
   "outputs": [
    {
     "data": {
      "text/plain": [
       "genre\n",
       "pop            2431\n",
       "dance          1932\n",
       "rock           1879\n",
       "electronic     1736\n",
       "hiphop          960\n",
       "alternative     649\n",
       "classical       646\n",
       "rusrap          564\n",
       "ruspop          538\n",
       "world           515\n",
       "Name: genre, dtype: int64"
      ]
     },
     "execution_count": 38,
     "metadata": {},
     "output_type": "execute_result"
    }
   ],
   "source": [
    "# просмотр первых 10 строк spb_genres\n",
    "spb_genres.head(10)"
   ]
  },
  {
   "cell_type": "markdown",
   "metadata": {
    "deletable": false,
    "editable": false,
    "id": "RY51YJYu_Zcv"
   },
   "source": [
    "**Выводы**"
   ]
  },
  {
   "cell_type": "markdown",
   "metadata": {
    "deletable": false,
    "editable": false,
    "id": "nVhnJEm__Zcv"
   },
   "source": [
    "Гипотеза частично подтвердилась:\n",
    "* Поп-музыка — самый популярный жанр в Москве, как и предполагала гипотеза. Более того, в топ-10 жанров встречается близкий жанр — русская популярная музыка.\n",
    "* Вопреки ожиданиям, рэп одинаково популярен в Москве и Петербурге. \n"
   ]
  },
  {
   "cell_type": "markdown",
   "metadata": {
    "deletable": false,
    "editable": false,
    "id": "ykKQ0N65_Zcv"
   },
   "source": [
    "## Итоги исследования"
   ]
  },
  {
   "cell_type": "markdown",
   "metadata": {
    "deletable": false,
    "editable": false,
    "id": "tjUwbHb3_Zcv"
   },
   "source": [
    "Вы проверили три гипотезы и установили:\n",
    "\n",
    "1. День недели по-разному влияет на активность пользователей в Москве и Петербурге. \n",
    "\n",
    "Первая гипотеза полностью подтвердилась.\n",
    "\n",
    "2. Музыкальные предпочтения не сильно меняются в течение недели — будь то Москва или Петербург. Небольшие различия заметны в начале недели, по понедельникам:\n",
    "* в Москве слушают музыку жанра “world”,\n",
    "* в Петербурге — джаз и классику.\n",
    "\n",
    "Таким образом, вторая гипотеза подтвердилась лишь отчасти. Этот результат мог оказаться иным, если бы не пропуски в данных.\n",
    "\n",
    "3. Во вкусах пользователей Москвы и Петербурга больше общего чем различий. Вопреки ожиданиям, предпочтения жанров в Петербурге напоминают московские.\n",
    "\n",
    "Третья гипотеза не подтвердилась. Если различия в предпочтениях и существуют, на основной массе пользователей они незаметны.\n",
    "\n",
    "**На практике исследования содержат проверки статистических гипотез.**\n",
    "Из данных одного сервиса не всегда можно сделать вывод о всех жителях города.\n",
    "Проверки статистических гипотез покажут, насколько они достоверны, исходя из имеющихся данных. \n",
    "С методами проверок гипотез вы ещё познакомитесь в следующих темах."
   ]
  }
 ],
 "metadata": {
  "ExecuteTimeLog": [
   {
    "duration": 375,
    "start_time": "2022-07-11T11:18:00.007Z"
   },
   {
    "duration": 236,
    "start_time": "2022-07-11T11:21:29.787Z"
   },
   {
    "duration": 162,
    "start_time": "2022-07-11T11:22:00.193Z"
   },
   {
    "duration": 11,
    "start_time": "2022-07-11T11:22:56.246Z"
   },
   {
    "duration": 11,
    "start_time": "2022-07-11T11:24:08.633Z"
   },
   {
    "duration": 30,
    "start_time": "2022-07-11T11:25:00.273Z"
   },
   {
    "duration": 791,
    "start_time": "2022-07-11T11:32:03.721Z"
   },
   {
    "duration": 10,
    "start_time": "2022-07-11T11:32:07.852Z"
   },
   {
    "duration": 2,
    "start_time": "2022-07-11T12:24:55.276Z"
   },
   {
    "duration": 2,
    "start_time": "2022-07-11T12:25:07.117Z"
   },
   {
    "duration": 61,
    "start_time": "2022-07-11T12:34:10.062Z"
   },
   {
    "duration": 5,
    "start_time": "2022-07-11T12:34:13.787Z"
   },
   {
    "duration": 11,
    "start_time": "2022-07-11T12:56:49.122Z"
   },
   {
    "duration": 5,
    "start_time": "2022-07-11T12:57:06.579Z"
   },
   {
    "duration": 24,
    "start_time": "2022-07-11T12:59:36.706Z"
   },
   {
    "duration": 3,
    "start_time": "2022-07-11T13:10:37.518Z"
   },
   {
    "duration": 3,
    "start_time": "2022-07-11T13:11:41.693Z"
   },
   {
    "duration": 3,
    "start_time": "2022-07-11T13:12:38.547Z"
   },
   {
    "duration": 43,
    "start_time": "2022-07-11T13:16:42.903Z"
   },
   {
    "duration": 40,
    "start_time": "2022-07-11T13:18:09.392Z"
   },
   {
    "duration": 24,
    "start_time": "2022-07-11T13:19:06.974Z"
   },
   {
    "duration": 60,
    "start_time": "2022-07-11T13:25:32.135Z"
   },
   {
    "duration": 57,
    "start_time": "2022-07-11T13:25:43.412Z"
   },
   {
    "duration": 7,
    "start_time": "2022-07-11T13:27:12.302Z"
   },
   {
    "duration": 67,
    "start_time": "2022-07-11T13:27:24.472Z"
   },
   {
    "duration": 104,
    "start_time": "2022-07-11T13:28:04.674Z"
   },
   {
    "duration": 67,
    "start_time": "2022-07-11T13:28:25.268Z"
   },
   {
    "duration": 58,
    "start_time": "2022-07-11T13:38:34.338Z"
   },
   {
    "duration": 67,
    "start_time": "2022-07-11T13:38:59.425Z"
   },
   {
    "duration": 62,
    "start_time": "2022-07-11T13:39:05.210Z"
   },
   {
    "duration": 60,
    "start_time": "2022-07-11T13:39:51.899Z"
   },
   {
    "duration": 64,
    "start_time": "2022-07-11T13:40:35.001Z"
   },
   {
    "duration": 59,
    "start_time": "2022-07-11T13:40:41.702Z"
   },
   {
    "duration": 48,
    "start_time": "2022-07-11T13:54:56.228Z"
   },
   {
    "duration": 2,
    "start_time": "2022-07-11T13:58:02.653Z"
   },
   {
    "duration": 2,
    "start_time": "2022-07-11T13:58:05.604Z"
   },
   {
    "duration": 4,
    "start_time": "2022-07-11T13:58:20.318Z"
   },
   {
    "duration": 46,
    "start_time": "2022-07-11T13:59:20.750Z"
   },
   {
    "duration": 48,
    "start_time": "2022-07-11T14:00:37.060Z"
   },
   {
    "duration": 51,
    "start_time": "2022-07-11T14:01:17.441Z"
   },
   {
    "duration": 52,
    "start_time": "2022-07-11T14:05:08.682Z"
   },
   {
    "duration": 46,
    "start_time": "2022-07-11T14:05:33.025Z"
   },
   {
    "duration": 49,
    "start_time": "2022-07-11T14:06:50.740Z"
   },
   {
    "duration": 7,
    "start_time": "2022-07-11T14:12:13.799Z"
   },
   {
    "duration": 45,
    "start_time": "2022-07-11T14:12:27.188Z"
   },
   {
    "duration": 52,
    "start_time": "2022-07-11T14:13:32.684Z"
   },
   {
    "duration": 47,
    "start_time": "2022-07-11T14:14:04.764Z"
   },
   {
    "duration": 45,
    "start_time": "2022-07-11T14:18:44.283Z"
   },
   {
    "duration": 46,
    "start_time": "2022-07-11T14:19:15.142Z"
   },
   {
    "duration": 53,
    "start_time": "2022-07-11T14:19:32.810Z"
   },
   {
    "duration": 70,
    "start_time": "2022-07-11T14:20:13.332Z"
   },
   {
    "duration": 40,
    "start_time": "2022-07-11T14:23:04.074Z"
   },
   {
    "duration": 34,
    "start_time": "2022-07-11T14:23:19.716Z"
   },
   {
    "duration": 38,
    "start_time": "2022-07-11T14:25:39.248Z"
   },
   {
    "duration": 40,
    "start_time": "2022-07-11T14:27:25.951Z"
   },
   {
    "duration": 77,
    "start_time": "2022-07-11T14:32:26.301Z"
   },
   {
    "duration": 39,
    "start_time": "2022-07-11T14:34:24.041Z"
   },
   {
    "duration": 39,
    "start_time": "2022-07-11T14:35:14.280Z"
   },
   {
    "duration": 42,
    "start_time": "2022-07-11T14:35:32.934Z"
   },
   {
    "duration": 49,
    "start_time": "2022-07-11T14:36:55.175Z"
   },
   {
    "duration": 36,
    "start_time": "2022-07-11T14:39:10.896Z"
   },
   {
    "duration": 38,
    "start_time": "2022-07-11T14:39:25.932Z"
   },
   {
    "duration": 45,
    "start_time": "2022-07-11T14:42:36.278Z"
   },
   {
    "duration": 41,
    "start_time": "2022-07-11T14:45:13.950Z"
   },
   {
    "duration": 3,
    "start_time": "2022-07-11T14:50:43.310Z"
   },
   {
    "duration": 670,
    "start_time": "2022-07-11T14:50:43.314Z"
   },
   {
    "duration": 11,
    "start_time": "2022-07-11T14:50:43.989Z"
   },
   {
    "duration": 48,
    "start_time": "2022-07-11T14:50:44.002Z"
   },
   {
    "duration": 2,
    "start_time": "2022-07-11T14:50:44.053Z"
   },
   {
    "duration": 10,
    "start_time": "2022-07-11T14:50:44.057Z"
   },
   {
    "duration": 12,
    "start_time": "2022-07-11T14:50:44.069Z"
   },
   {
    "duration": 8,
    "start_time": "2022-07-11T14:50:44.083Z"
   },
   {
    "duration": 25,
    "start_time": "2022-07-11T14:50:44.092Z"
   },
   {
    "duration": 46,
    "start_time": "2022-07-11T14:50:44.119Z"
   },
   {
    "duration": 33,
    "start_time": "2022-07-11T14:50:44.168Z"
   },
   {
    "duration": 78,
    "start_time": "2022-07-11T14:50:44.203Z"
   },
   {
    "duration": 66,
    "start_time": "2022-07-11T14:50:44.282Z"
   },
   {
    "duration": 78,
    "start_time": "2022-07-11T14:50:44.350Z"
   },
   {
    "duration": 56,
    "start_time": "2022-07-11T14:50:44.429Z"
   },
   {
    "duration": 2,
    "start_time": "2022-07-11T14:50:44.488Z"
   },
   {
    "duration": 6,
    "start_time": "2022-07-11T14:50:44.492Z"
   },
   {
    "duration": 6,
    "start_time": "2022-07-11T14:50:44.500Z"
   },
   {
    "duration": 4,
    "start_time": "2022-07-11T14:50:44.508Z"
   },
   {
    "duration": 8,
    "start_time": "2022-07-11T14:50:44.514Z"
   },
   {
    "duration": 8,
    "start_time": "2022-07-11T14:50:44.524Z"
   },
   {
    "duration": 7,
    "start_time": "2022-07-11T14:50:44.533Z"
   },
   {
    "duration": 8,
    "start_time": "2022-07-11T14:50:44.541Z"
   },
   {
    "duration": 13,
    "start_time": "2022-07-11T14:50:44.551Z"
   },
   {
    "duration": 8,
    "start_time": "2022-07-11T14:50:44.566Z"
   },
   {
    "duration": 6,
    "start_time": "2022-07-11T14:50:44.576Z"
   },
   {
    "duration": 9,
    "start_time": "2022-07-11T14:50:44.583Z"
   },
   {
    "duration": 4,
    "start_time": "2022-07-11T14:50:44.593Z"
   },
   {
    "duration": 5,
    "start_time": "2022-07-11T14:50:44.600Z"
   },
   {
    "duration": 60,
    "start_time": "2022-07-11T14:50:44.607Z"
   },
   {
    "duration": 0,
    "start_time": "2022-07-11T14:50:44.671Z"
   },
   {
    "duration": 0,
    "start_time": "2022-07-11T14:50:44.672Z"
   },
   {
    "duration": 0,
    "start_time": "2022-07-11T14:50:44.673Z"
   },
   {
    "duration": 0,
    "start_time": "2022-07-11T14:50:44.678Z"
   },
   {
    "duration": 0,
    "start_time": "2022-07-11T14:50:44.679Z"
   },
   {
    "duration": 0,
    "start_time": "2022-07-11T14:50:44.680Z"
   },
   {
    "duration": 0,
    "start_time": "2022-07-11T14:50:44.681Z"
   },
   {
    "duration": 0,
    "start_time": "2022-07-11T14:50:44.682Z"
   },
   {
    "duration": 38,
    "start_time": "2022-07-11T14:52:52.725Z"
   },
   {
    "duration": 41,
    "start_time": "2022-07-11T14:53:27.630Z"
   },
   {
    "duration": 40,
    "start_time": "2022-07-11T14:54:19.419Z"
   },
   {
    "duration": 10,
    "start_time": "2022-07-11T15:05:42.116Z"
   },
   {
    "duration": 3,
    "start_time": "2022-07-11T15:05:59.308Z"
   },
   {
    "duration": 607,
    "start_time": "2022-07-11T15:05:59.313Z"
   },
   {
    "duration": 10,
    "start_time": "2022-07-11T15:05:59.922Z"
   },
   {
    "duration": 37,
    "start_time": "2022-07-11T15:05:59.934Z"
   },
   {
    "duration": 3,
    "start_time": "2022-07-11T15:05:59.974Z"
   },
   {
    "duration": 12,
    "start_time": "2022-07-11T15:05:59.979Z"
   },
   {
    "duration": 13,
    "start_time": "2022-07-11T15:05:59.993Z"
   },
   {
    "duration": 5,
    "start_time": "2022-07-11T15:06:00.008Z"
   },
   {
    "duration": 29,
    "start_time": "2022-07-11T15:06:00.015Z"
   },
   {
    "duration": 60,
    "start_time": "2022-07-11T15:06:00.046Z"
   },
   {
    "duration": 22,
    "start_time": "2022-07-11T15:06:00.107Z"
   },
   {
    "duration": 83,
    "start_time": "2022-07-11T15:06:00.130Z"
   },
   {
    "duration": 79,
    "start_time": "2022-07-11T15:06:00.216Z"
   },
   {
    "duration": 50,
    "start_time": "2022-07-11T15:06:00.297Z"
   },
   {
    "duration": 49,
    "start_time": "2022-07-11T15:06:00.349Z"
   },
   {
    "duration": 0,
    "start_time": "2022-07-11T15:06:00.400Z"
   },
   {
    "duration": 0,
    "start_time": "2022-07-11T15:06:00.401Z"
   },
   {
    "duration": 0,
    "start_time": "2022-07-11T15:06:00.402Z"
   },
   {
    "duration": 0,
    "start_time": "2022-07-11T15:06:00.404Z"
   },
   {
    "duration": 0,
    "start_time": "2022-07-11T15:06:00.405Z"
   },
   {
    "duration": 0,
    "start_time": "2022-07-11T15:06:00.406Z"
   },
   {
    "duration": 0,
    "start_time": "2022-07-11T15:06:00.407Z"
   },
   {
    "duration": 0,
    "start_time": "2022-07-11T15:06:00.408Z"
   },
   {
    "duration": 0,
    "start_time": "2022-07-11T15:06:00.409Z"
   },
   {
    "duration": 0,
    "start_time": "2022-07-11T15:06:00.410Z"
   },
   {
    "duration": 0,
    "start_time": "2022-07-11T15:06:00.411Z"
   },
   {
    "duration": 0,
    "start_time": "2022-07-11T15:06:00.412Z"
   },
   {
    "duration": 0,
    "start_time": "2022-07-11T15:06:00.414Z"
   },
   {
    "duration": 0,
    "start_time": "2022-07-11T15:06:00.415Z"
   },
   {
    "duration": 0,
    "start_time": "2022-07-11T15:06:00.416Z"
   },
   {
    "duration": 0,
    "start_time": "2022-07-11T15:06:00.417Z"
   },
   {
    "duration": 0,
    "start_time": "2022-07-11T15:06:00.418Z"
   },
   {
    "duration": 0,
    "start_time": "2022-07-11T15:06:00.420Z"
   },
   {
    "duration": 0,
    "start_time": "2022-07-11T15:06:00.463Z"
   },
   {
    "duration": 0,
    "start_time": "2022-07-11T15:06:00.464Z"
   },
   {
    "duration": 0,
    "start_time": "2022-07-11T15:06:00.467Z"
   },
   {
    "duration": 0,
    "start_time": "2022-07-11T15:06:00.469Z"
   },
   {
    "duration": 1,
    "start_time": "2022-07-11T15:06:00.470Z"
   },
   {
    "duration": 40,
    "start_time": "2022-07-11T15:06:15.977Z"
   },
   {
    "duration": 15,
    "start_time": "2022-07-11T15:06:26.337Z"
   },
   {
    "duration": 41,
    "start_time": "2022-07-11T15:07:34.091Z"
   },
   {
    "duration": 4,
    "start_time": "2022-07-11T15:11:17.364Z"
   },
   {
    "duration": 2,
    "start_time": "2022-07-11T15:12:05.803Z"
   },
   {
    "duration": 660,
    "start_time": "2022-07-11T15:12:05.807Z"
   },
   {
    "duration": 12,
    "start_time": "2022-07-11T15:12:06.470Z"
   },
   {
    "duration": 57,
    "start_time": "2022-07-11T15:12:06.483Z"
   },
   {
    "duration": 7,
    "start_time": "2022-07-11T15:12:06.543Z"
   },
   {
    "duration": 13,
    "start_time": "2022-07-11T15:12:06.552Z"
   },
   {
    "duration": 11,
    "start_time": "2022-07-11T15:12:06.566Z"
   },
   {
    "duration": 8,
    "start_time": "2022-07-11T15:12:06.579Z"
   },
   {
    "duration": 31,
    "start_time": "2022-07-11T15:12:06.589Z"
   },
   {
    "duration": 50,
    "start_time": "2022-07-11T15:12:06.621Z"
   },
   {
    "duration": 33,
    "start_time": "2022-07-11T15:12:06.674Z"
   },
   {
    "duration": 81,
    "start_time": "2022-07-11T15:12:06.709Z"
   },
   {
    "duration": 76,
    "start_time": "2022-07-11T15:12:06.791Z"
   },
   {
    "duration": 62,
    "start_time": "2022-07-11T15:12:06.869Z"
   },
   {
    "duration": 67,
    "start_time": "2022-07-11T15:12:06.932Z"
   },
   {
    "duration": 10,
    "start_time": "2022-07-11T15:12:07.001Z"
   },
   {
    "duration": 6,
    "start_time": "2022-07-11T15:12:07.012Z"
   },
   {
    "duration": 4,
    "start_time": "2022-07-11T15:12:07.020Z"
   },
   {
    "duration": 10,
    "start_time": "2022-07-11T15:12:07.026Z"
   },
   {
    "duration": 14,
    "start_time": "2022-07-11T15:12:07.037Z"
   },
   {
    "duration": 15,
    "start_time": "2022-07-11T15:12:07.052Z"
   },
   {
    "duration": 7,
    "start_time": "2022-07-11T15:12:07.069Z"
   },
   {
    "duration": 9,
    "start_time": "2022-07-11T15:12:07.078Z"
   },
   {
    "duration": 6,
    "start_time": "2022-07-11T15:12:07.088Z"
   },
   {
    "duration": 8,
    "start_time": "2022-07-11T15:12:07.095Z"
   },
   {
    "duration": 7,
    "start_time": "2022-07-11T15:12:07.105Z"
   },
   {
    "duration": 6,
    "start_time": "2022-07-11T15:12:07.113Z"
   },
   {
    "duration": 5,
    "start_time": "2022-07-11T15:12:07.121Z"
   },
   {
    "duration": 7,
    "start_time": "2022-07-11T15:12:07.129Z"
   },
   {
    "duration": 103,
    "start_time": "2022-07-11T15:12:07.137Z"
   },
   {
    "duration": 0,
    "start_time": "2022-07-11T15:12:07.242Z"
   },
   {
    "duration": 0,
    "start_time": "2022-07-11T15:12:07.243Z"
   },
   {
    "duration": 0,
    "start_time": "2022-07-11T15:12:07.244Z"
   },
   {
    "duration": 0,
    "start_time": "2022-07-11T15:12:07.245Z"
   },
   {
    "duration": 0,
    "start_time": "2022-07-11T15:12:07.246Z"
   },
   {
    "duration": 0,
    "start_time": "2022-07-11T15:12:07.247Z"
   },
   {
    "duration": 0,
    "start_time": "2022-07-11T15:12:07.248Z"
   },
   {
    "duration": 1,
    "start_time": "2022-07-11T15:12:07.249Z"
   },
   {
    "duration": 4,
    "start_time": "2022-07-11T15:12:52.541Z"
   },
   {
    "duration": 6,
    "start_time": "2022-07-11T15:15:38.559Z"
   },
   {
    "duration": 9,
    "start_time": "2022-07-11T15:16:05.186Z"
   },
   {
    "duration": 5,
    "start_time": "2022-07-11T15:16:06.856Z"
   },
   {
    "duration": 10,
    "start_time": "2022-07-11T15:17:25.027Z"
   },
   {
    "duration": 7,
    "start_time": "2022-07-11T15:17:30.457Z"
   },
   {
    "duration": 16,
    "start_time": "2022-07-11T15:23:51.057Z"
   },
   {
    "duration": 7,
    "start_time": "2022-07-11T15:24:01.858Z"
   },
   {
    "duration": 11,
    "start_time": "2022-07-11T15:24:46.745Z"
   },
   {
    "duration": 20,
    "start_time": "2022-07-11T15:25:05.353Z"
   },
   {
    "duration": 6,
    "start_time": "2022-07-11T15:25:06.882Z"
   },
   {
    "duration": 3,
    "start_time": "2022-07-11T15:25:24.695Z"
   },
   {
    "duration": 683,
    "start_time": "2022-07-11T15:25:24.699Z"
   },
   {
    "duration": 10,
    "start_time": "2022-07-11T15:25:25.384Z"
   },
   {
    "duration": 34,
    "start_time": "2022-07-11T15:25:25.396Z"
   },
   {
    "duration": 3,
    "start_time": "2022-07-11T15:25:25.431Z"
   },
   {
    "duration": 9,
    "start_time": "2022-07-11T15:25:25.435Z"
   },
   {
    "duration": 12,
    "start_time": "2022-07-11T15:25:25.445Z"
   },
   {
    "duration": 16,
    "start_time": "2022-07-11T15:25:25.459Z"
   },
   {
    "duration": 31,
    "start_time": "2022-07-11T15:25:25.477Z"
   },
   {
    "duration": 39,
    "start_time": "2022-07-11T15:25:25.510Z"
   },
   {
    "duration": 31,
    "start_time": "2022-07-11T15:25:25.551Z"
   },
   {
    "duration": 58,
    "start_time": "2022-07-11T15:25:25.583Z"
   },
   {
    "duration": 84,
    "start_time": "2022-07-11T15:25:25.642Z"
   },
   {
    "duration": 75,
    "start_time": "2022-07-11T15:25:25.728Z"
   },
   {
    "duration": 38,
    "start_time": "2022-07-11T15:25:25.804Z"
   },
   {
    "duration": 22,
    "start_time": "2022-07-11T15:25:25.844Z"
   },
   {
    "duration": 0,
    "start_time": "2022-07-11T15:25:25.868Z"
   },
   {
    "duration": 0,
    "start_time": "2022-07-11T15:25:25.870Z"
   },
   {
    "duration": 0,
    "start_time": "2022-07-11T15:25:25.872Z"
   },
   {
    "duration": 0,
    "start_time": "2022-07-11T15:25:25.873Z"
   },
   {
    "duration": 0,
    "start_time": "2022-07-11T15:25:25.874Z"
   },
   {
    "duration": 0,
    "start_time": "2022-07-11T15:25:25.875Z"
   },
   {
    "duration": 0,
    "start_time": "2022-07-11T15:25:25.877Z"
   },
   {
    "duration": 0,
    "start_time": "2022-07-11T15:25:25.878Z"
   },
   {
    "duration": 0,
    "start_time": "2022-07-11T15:25:25.879Z"
   },
   {
    "duration": 0,
    "start_time": "2022-07-11T15:25:25.880Z"
   },
   {
    "duration": 0,
    "start_time": "2022-07-11T15:25:25.881Z"
   },
   {
    "duration": 0,
    "start_time": "2022-07-11T15:25:25.882Z"
   },
   {
    "duration": 0,
    "start_time": "2022-07-11T15:25:25.882Z"
   },
   {
    "duration": 0,
    "start_time": "2022-07-11T15:25:25.883Z"
   },
   {
    "duration": 0,
    "start_time": "2022-07-11T15:25:25.884Z"
   },
   {
    "duration": 0,
    "start_time": "2022-07-11T15:25:25.885Z"
   },
   {
    "duration": 0,
    "start_time": "2022-07-11T15:25:25.886Z"
   },
   {
    "duration": 0,
    "start_time": "2022-07-11T15:25:25.887Z"
   },
   {
    "duration": 0,
    "start_time": "2022-07-11T15:25:25.888Z"
   },
   {
    "duration": 0,
    "start_time": "2022-07-11T15:25:25.889Z"
   },
   {
    "duration": 0,
    "start_time": "2022-07-11T15:25:25.890Z"
   },
   {
    "duration": 0,
    "start_time": "2022-07-11T15:25:25.890Z"
   },
   {
    "duration": 38,
    "start_time": "2022-07-11T15:26:01.474Z"
   },
   {
    "duration": 39,
    "start_time": "2022-07-11T15:26:31.068Z"
   },
   {
    "duration": 7,
    "start_time": "2022-07-11T15:29:48.614Z"
   },
   {
    "duration": 2,
    "start_time": "2022-07-11T15:32:37.334Z"
   },
   {
    "duration": 656,
    "start_time": "2022-07-11T15:32:37.719Z"
   },
   {
    "duration": 10,
    "start_time": "2022-07-11T15:32:38.377Z"
   },
   {
    "duration": 29,
    "start_time": "2022-07-11T15:32:38.473Z"
   },
   {
    "duration": 3,
    "start_time": "2022-07-11T15:32:39.022Z"
   },
   {
    "duration": 4,
    "start_time": "2022-07-11T15:32:39.757Z"
   },
   {
    "duration": 6,
    "start_time": "2022-07-11T15:32:40.150Z"
   },
   {
    "duration": 4,
    "start_time": "2022-07-11T15:32:41.061Z"
   },
   {
    "duration": 26,
    "start_time": "2022-07-11T15:32:41.773Z"
   },
   {
    "duration": 51,
    "start_time": "2022-07-11T15:32:43.437Z"
   },
   {
    "duration": 35,
    "start_time": "2022-07-11T15:32:44.358Z"
   },
   {
    "duration": 59,
    "start_time": "2022-07-11T15:32:45.903Z"
   },
   {
    "duration": 70,
    "start_time": "2022-07-11T15:32:46.953Z"
   },
   {
    "duration": 68,
    "start_time": "2022-07-11T15:32:47.958Z"
   },
   {
    "duration": 42,
    "start_time": "2022-07-11T15:32:52.093Z"
   },
   {
    "duration": 7,
    "start_time": "2022-07-11T15:32:56.245Z"
   },
   {
    "duration": 6,
    "start_time": "2022-07-11T15:33:01.550Z"
   },
   {
    "duration": 18,
    "start_time": "2022-07-11T15:33:46.449Z"
   },
   {
    "duration": 7,
    "start_time": "2022-07-11T15:33:48.404Z"
   },
   {
    "duration": 50,
    "start_time": "2022-07-11T15:37:19.447Z"
   },
   {
    "duration": 2,
    "start_time": "2022-07-11T15:37:35.077Z"
   },
   {
    "duration": 675,
    "start_time": "2022-07-11T15:37:35.081Z"
   },
   {
    "duration": 15,
    "start_time": "2022-07-11T15:37:35.762Z"
   },
   {
    "duration": 34,
    "start_time": "2022-07-11T15:37:35.779Z"
   },
   {
    "duration": 2,
    "start_time": "2022-07-11T15:37:35.815Z"
   },
   {
    "duration": 11,
    "start_time": "2022-07-11T15:37:35.818Z"
   },
   {
    "duration": 8,
    "start_time": "2022-07-11T15:37:35.831Z"
   },
   {
    "duration": 28,
    "start_time": "2022-07-11T15:37:35.840Z"
   },
   {
    "duration": 44,
    "start_time": "2022-07-11T15:37:35.871Z"
   },
   {
    "duration": 73,
    "start_time": "2022-07-11T15:37:35.916Z"
   },
   {
    "duration": 24,
    "start_time": "2022-07-11T15:37:35.992Z"
   },
   {
    "duration": 91,
    "start_time": "2022-07-11T15:37:36.018Z"
   },
   {
    "duration": 78,
    "start_time": "2022-07-11T15:37:36.111Z"
   },
   {
    "duration": 82,
    "start_time": "2022-07-11T15:37:36.191Z"
   },
   {
    "duration": 53,
    "start_time": "2022-07-11T15:37:36.275Z"
   },
   {
    "duration": 32,
    "start_time": "2022-07-11T15:37:36.330Z"
   },
   {
    "duration": 22,
    "start_time": "2022-07-11T15:37:36.363Z"
   },
   {
    "duration": 32,
    "start_time": "2022-07-11T15:37:36.387Z"
   },
   {
    "duration": 29,
    "start_time": "2022-07-11T15:37:36.421Z"
   },
   {
    "duration": 40,
    "start_time": "2022-07-11T15:37:36.452Z"
   },
   {
    "duration": 36,
    "start_time": "2022-07-11T15:37:36.494Z"
   },
   {
    "duration": 43,
    "start_time": "2022-07-11T15:37:36.532Z"
   },
   {
    "duration": 25,
    "start_time": "2022-07-11T15:37:36.577Z"
   },
   {
    "duration": 39,
    "start_time": "2022-07-11T15:37:36.604Z"
   },
   {
    "duration": 42,
    "start_time": "2022-07-11T15:37:36.644Z"
   },
   {
    "duration": 25,
    "start_time": "2022-07-11T15:37:36.688Z"
   },
   {
    "duration": 33,
    "start_time": "2022-07-11T15:37:36.714Z"
   },
   {
    "duration": 31,
    "start_time": "2022-07-11T15:37:36.749Z"
   },
   {
    "duration": 23,
    "start_time": "2022-07-11T15:37:36.783Z"
   },
   {
    "duration": 68,
    "start_time": "2022-07-11T15:37:36.807Z"
   },
   {
    "duration": 0,
    "start_time": "2022-07-11T15:37:36.877Z"
   },
   {
    "duration": 0,
    "start_time": "2022-07-11T15:37:36.878Z"
   },
   {
    "duration": 1,
    "start_time": "2022-07-11T15:37:36.879Z"
   },
   {
    "duration": 0,
    "start_time": "2022-07-11T15:37:36.881Z"
   },
   {
    "duration": 0,
    "start_time": "2022-07-11T15:37:36.882Z"
   },
   {
    "duration": 0,
    "start_time": "2022-07-11T15:37:36.884Z"
   },
   {
    "duration": 0,
    "start_time": "2022-07-11T15:37:36.884Z"
   },
   {
    "duration": 0,
    "start_time": "2022-07-11T15:37:36.886Z"
   },
   {
    "duration": 13,
    "start_time": "2022-07-11T15:40:41.449Z"
   },
   {
    "duration": 9,
    "start_time": "2022-07-11T15:41:01.047Z"
   },
   {
    "duration": 9,
    "start_time": "2022-07-11T15:41:48.744Z"
   },
   {
    "duration": 12,
    "start_time": "2022-07-11T15:41:54.021Z"
   },
   {
    "duration": 12,
    "start_time": "2022-07-11T15:42:48.864Z"
   },
   {
    "duration": 5,
    "start_time": "2022-07-11T15:42:53.925Z"
   },
   {
    "duration": 3,
    "start_time": "2022-07-11T15:43:16.906Z"
   },
   {
    "duration": 693,
    "start_time": "2022-07-11T15:43:16.911Z"
   },
   {
    "duration": 10,
    "start_time": "2022-07-11T15:43:17.606Z"
   },
   {
    "duration": 32,
    "start_time": "2022-07-11T15:43:17.618Z"
   },
   {
    "duration": 2,
    "start_time": "2022-07-11T15:43:17.652Z"
   },
   {
    "duration": 8,
    "start_time": "2022-07-11T15:43:17.656Z"
   },
   {
    "duration": 9,
    "start_time": "2022-07-11T15:43:17.665Z"
   },
   {
    "duration": 4,
    "start_time": "2022-07-11T15:43:17.676Z"
   },
   {
    "duration": 32,
    "start_time": "2022-07-11T15:43:17.681Z"
   },
   {
    "duration": 50,
    "start_time": "2022-07-11T15:43:17.715Z"
   },
   {
    "duration": 26,
    "start_time": "2022-07-11T15:43:17.767Z"
   },
   {
    "duration": 73,
    "start_time": "2022-07-11T15:43:17.795Z"
   },
   {
    "duration": 62,
    "start_time": "2022-07-11T15:43:17.869Z"
   },
   {
    "duration": 69,
    "start_time": "2022-07-11T15:43:17.933Z"
   },
   {
    "duration": 39,
    "start_time": "2022-07-11T15:43:18.003Z"
   },
   {
    "duration": 23,
    "start_time": "2022-07-11T15:43:18.044Z"
   },
   {
    "duration": 4,
    "start_time": "2022-07-11T15:43:18.069Z"
   },
   {
    "duration": 5,
    "start_time": "2022-07-11T15:43:18.075Z"
   },
   {
    "duration": 7,
    "start_time": "2022-07-11T15:43:18.081Z"
   },
   {
    "duration": 6,
    "start_time": "2022-07-11T15:43:18.089Z"
   },
   {
    "duration": 8,
    "start_time": "2022-07-11T15:43:18.096Z"
   },
   {
    "duration": 4,
    "start_time": "2022-07-11T15:43:18.106Z"
   },
   {
    "duration": 9,
    "start_time": "2022-07-11T15:43:18.111Z"
   },
   {
    "duration": 5,
    "start_time": "2022-07-11T15:43:18.121Z"
   },
   {
    "duration": 9,
    "start_time": "2022-07-11T15:43:18.127Z"
   },
   {
    "duration": 5,
    "start_time": "2022-07-11T15:43:18.138Z"
   },
   {
    "duration": 7,
    "start_time": "2022-07-11T15:43:18.144Z"
   },
   {
    "duration": 2,
    "start_time": "2022-07-11T15:43:18.160Z"
   },
   {
    "duration": 5,
    "start_time": "2022-07-11T15:43:18.165Z"
   },
   {
    "duration": 67,
    "start_time": "2022-07-11T15:43:18.171Z"
   },
   {
    "duration": 0,
    "start_time": "2022-07-11T15:43:18.239Z"
   },
   {
    "duration": 0,
    "start_time": "2022-07-11T15:43:18.240Z"
   },
   {
    "duration": 0,
    "start_time": "2022-07-11T15:43:18.241Z"
   },
   {
    "duration": 0,
    "start_time": "2022-07-11T15:43:18.242Z"
   },
   {
    "duration": 0,
    "start_time": "2022-07-11T15:43:18.243Z"
   },
   {
    "duration": 0,
    "start_time": "2022-07-11T15:43:18.244Z"
   },
   {
    "duration": 0,
    "start_time": "2022-07-11T15:43:18.245Z"
   },
   {
    "duration": 0,
    "start_time": "2022-07-11T15:43:18.246Z"
   },
   {
    "duration": 11,
    "start_time": "2022-07-11T15:44:09.238Z"
   },
   {
    "duration": 5,
    "start_time": "2022-07-11T15:44:10.905Z"
   },
   {
    "duration": 5,
    "start_time": "2022-07-11T15:44:33.507Z"
   },
   {
    "duration": 3,
    "start_time": "2022-07-11T15:44:45.084Z"
   },
   {
    "duration": 5,
    "start_time": "2022-07-11T15:44:51.190Z"
   },
   {
    "duration": 5,
    "start_time": "2022-07-11T15:45:26.899Z"
   },
   {
    "duration": 5,
    "start_time": "2022-07-11T15:45:35.782Z"
   },
   {
    "duration": 72,
    "start_time": "2022-07-11T15:46:09.136Z"
   },
   {
    "duration": 47,
    "start_time": "2022-07-11T15:46:14.556Z"
   },
   {
    "duration": 5,
    "start_time": "2022-07-11T15:46:17.236Z"
   },
   {
    "duration": 5,
    "start_time": "2022-07-11T15:46:28.212Z"
   },
   {
    "duration": 7,
    "start_time": "2022-07-11T15:48:03.307Z"
   },
   {
    "duration": 36,
    "start_time": "2022-07-11T15:48:53.445Z"
   },
   {
    "duration": 2,
    "start_time": "2022-07-11T15:52:30.581Z"
   },
   {
    "duration": 641,
    "start_time": "2022-07-11T15:52:30.593Z"
   },
   {
    "duration": 10,
    "start_time": "2022-07-11T15:52:31.236Z"
   },
   {
    "duration": 54,
    "start_time": "2022-07-11T15:52:31.248Z"
   },
   {
    "duration": 11,
    "start_time": "2022-07-11T15:52:31.304Z"
   },
   {
    "duration": 19,
    "start_time": "2022-07-11T15:52:31.317Z"
   },
   {
    "duration": 13,
    "start_time": "2022-07-11T15:52:31.338Z"
   },
   {
    "duration": 16,
    "start_time": "2022-07-11T15:52:31.353Z"
   },
   {
    "duration": 31,
    "start_time": "2022-07-11T15:52:31.371Z"
   },
   {
    "duration": 44,
    "start_time": "2022-07-11T15:52:31.404Z"
   },
   {
    "duration": 23,
    "start_time": "2022-07-11T15:52:31.450Z"
   },
   {
    "duration": 58,
    "start_time": "2022-07-11T15:52:31.475Z"
   },
   {
    "duration": 73,
    "start_time": "2022-07-11T15:52:31.534Z"
   },
   {
    "duration": 56,
    "start_time": "2022-07-11T15:52:31.609Z"
   },
   {
    "duration": 37,
    "start_time": "2022-07-11T15:52:31.669Z"
   },
   {
    "duration": 11,
    "start_time": "2022-07-11T15:52:31.708Z"
   },
   {
    "duration": 5,
    "start_time": "2022-07-11T15:52:31.721Z"
   },
   {
    "duration": 11,
    "start_time": "2022-07-11T15:52:31.728Z"
   },
   {
    "duration": 6,
    "start_time": "2022-07-11T15:52:31.761Z"
   },
   {
    "duration": 8,
    "start_time": "2022-07-11T15:52:31.768Z"
   },
   {
    "duration": 8,
    "start_time": "2022-07-11T15:52:31.778Z"
   },
   {
    "duration": 6,
    "start_time": "2022-07-11T15:52:31.788Z"
   },
   {
    "duration": 7,
    "start_time": "2022-07-11T15:52:31.796Z"
   },
   {
    "duration": 4,
    "start_time": "2022-07-11T15:52:31.805Z"
   },
   {
    "duration": 94,
    "start_time": "2022-07-11T15:52:31.811Z"
   },
   {
    "duration": 36,
    "start_time": "2022-07-11T15:52:31.907Z"
   },
   {
    "duration": 20,
    "start_time": "2022-07-11T15:52:31.944Z"
   },
   {
    "duration": 12,
    "start_time": "2022-07-11T15:52:31.966Z"
   },
   {
    "duration": 10,
    "start_time": "2022-07-11T15:52:31.980Z"
   },
   {
    "duration": 64,
    "start_time": "2022-07-11T15:52:31.991Z"
   },
   {
    "duration": 0,
    "start_time": "2022-07-11T15:52:32.057Z"
   },
   {
    "duration": 0,
    "start_time": "2022-07-11T15:52:32.058Z"
   },
   {
    "duration": 0,
    "start_time": "2022-07-11T15:52:32.059Z"
   },
   {
    "duration": 0,
    "start_time": "2022-07-11T15:52:32.060Z"
   },
   {
    "duration": 0,
    "start_time": "2022-07-11T15:52:32.061Z"
   },
   {
    "duration": 0,
    "start_time": "2022-07-11T15:52:32.062Z"
   },
   {
    "duration": 0,
    "start_time": "2022-07-11T15:52:32.063Z"
   },
   {
    "duration": 0,
    "start_time": "2022-07-11T15:52:32.065Z"
   },
   {
    "duration": 9,
    "start_time": "2022-07-11T15:54:30.812Z"
   },
   {
    "duration": 11,
    "start_time": "2022-07-11T15:54:41.667Z"
   },
   {
    "duration": 3,
    "start_time": "2022-07-11T15:54:50.741Z"
   },
   {
    "duration": 639,
    "start_time": "2022-07-11T15:54:50.748Z"
   },
   {
    "duration": 11,
    "start_time": "2022-07-11T15:54:51.389Z"
   },
   {
    "duration": 33,
    "start_time": "2022-07-11T15:54:51.402Z"
   },
   {
    "duration": 3,
    "start_time": "2022-07-11T15:54:51.437Z"
   },
   {
    "duration": 7,
    "start_time": "2022-07-11T15:54:51.442Z"
   },
   {
    "duration": 8,
    "start_time": "2022-07-11T15:54:51.451Z"
   },
   {
    "duration": 4,
    "start_time": "2022-07-11T15:54:51.461Z"
   },
   {
    "duration": 37,
    "start_time": "2022-07-11T15:54:51.466Z"
   },
   {
    "duration": 47,
    "start_time": "2022-07-11T15:54:51.505Z"
   },
   {
    "duration": 24,
    "start_time": "2022-07-11T15:54:51.563Z"
   },
   {
    "duration": 72,
    "start_time": "2022-07-11T15:54:51.589Z"
   },
   {
    "duration": 60,
    "start_time": "2022-07-11T15:54:51.663Z"
   },
   {
    "duration": 60,
    "start_time": "2022-07-11T15:54:51.724Z"
   },
   {
    "duration": 38,
    "start_time": "2022-07-11T15:54:51.786Z"
   },
   {
    "duration": 6,
    "start_time": "2022-07-11T15:54:51.826Z"
   },
   {
    "duration": 0,
    "start_time": "2022-07-11T15:54:51.834Z"
   },
   {
    "duration": 0,
    "start_time": "2022-07-11T15:54:51.835Z"
   },
   {
    "duration": 0,
    "start_time": "2022-07-11T15:54:51.836Z"
   },
   {
    "duration": 0,
    "start_time": "2022-07-11T15:54:51.837Z"
   },
   {
    "duration": 0,
    "start_time": "2022-07-11T15:54:51.861Z"
   },
   {
    "duration": 0,
    "start_time": "2022-07-11T15:54:51.861Z"
   },
   {
    "duration": 1,
    "start_time": "2022-07-11T15:54:51.862Z"
   },
   {
    "duration": 0,
    "start_time": "2022-07-11T15:54:51.864Z"
   },
   {
    "duration": 0,
    "start_time": "2022-07-11T15:54:51.864Z"
   },
   {
    "duration": 0,
    "start_time": "2022-07-11T15:54:51.865Z"
   },
   {
    "duration": 0,
    "start_time": "2022-07-11T15:54:51.866Z"
   },
   {
    "duration": 0,
    "start_time": "2022-07-11T15:54:51.868Z"
   },
   {
    "duration": 0,
    "start_time": "2022-07-11T15:54:51.869Z"
   },
   {
    "duration": 0,
    "start_time": "2022-07-11T15:54:51.870Z"
   },
   {
    "duration": 0,
    "start_time": "2022-07-11T15:54:51.871Z"
   },
   {
    "duration": 0,
    "start_time": "2022-07-11T15:54:51.872Z"
   },
   {
    "duration": 0,
    "start_time": "2022-07-11T15:54:51.873Z"
   },
   {
    "duration": 0,
    "start_time": "2022-07-11T15:54:51.874Z"
   },
   {
    "duration": 0,
    "start_time": "2022-07-11T15:54:51.875Z"
   },
   {
    "duration": 0,
    "start_time": "2022-07-11T15:54:51.876Z"
   },
   {
    "duration": 0,
    "start_time": "2022-07-11T15:54:51.877Z"
   },
   {
    "duration": 0,
    "start_time": "2022-07-11T15:54:51.879Z"
   },
   {
    "duration": 7,
    "start_time": "2022-07-11T15:55:43.689Z"
   },
   {
    "duration": 8,
    "start_time": "2022-07-11T15:56:59.253Z"
   },
   {
    "duration": 37,
    "start_time": "2022-07-11T15:57:25.100Z"
   },
   {
    "duration": 8,
    "start_time": "2022-07-11T15:57:38.507Z"
   },
   {
    "duration": 8,
    "start_time": "2022-07-11T15:59:14.923Z"
   },
   {
    "duration": 3,
    "start_time": "2022-07-11T16:10:41.609Z"
   },
   {
    "duration": 730,
    "start_time": "2022-07-11T16:10:42.496Z"
   },
   {
    "duration": 10,
    "start_time": "2022-07-11T16:10:43.420Z"
   },
   {
    "duration": 36,
    "start_time": "2022-07-11T16:10:44.644Z"
   },
   {
    "duration": 3,
    "start_time": "2022-07-11T16:10:46.359Z"
   },
   {
    "duration": 4,
    "start_time": "2022-07-11T16:10:48.298Z"
   },
   {
    "duration": 7,
    "start_time": "2022-07-11T16:10:50.121Z"
   },
   {
    "duration": 4,
    "start_time": "2022-07-11T16:10:51.553Z"
   },
   {
    "duration": 24,
    "start_time": "2022-07-11T16:10:53.641Z"
   },
   {
    "duration": 41,
    "start_time": "2022-07-11T16:10:57.218Z"
   },
   {
    "duration": 26,
    "start_time": "2022-07-11T16:10:59.339Z"
   },
   {
    "duration": 62,
    "start_time": "2022-07-11T16:11:02.161Z"
   },
   {
    "duration": 61,
    "start_time": "2022-07-11T16:11:05.434Z"
   },
   {
    "duration": 54,
    "start_time": "2022-07-11T16:11:07.036Z"
   },
   {
    "duration": 46,
    "start_time": "2022-07-11T16:11:30.370Z"
   },
   {
    "duration": 7,
    "start_time": "2022-07-11T16:11:45.122Z"
   },
   {
    "duration": 7,
    "start_time": "2022-07-11T16:13:11.013Z"
   },
   {
    "duration": 7,
    "start_time": "2022-07-11T16:40:08.244Z"
   },
   {
    "duration": 88,
    "start_time": "2022-07-11T20:11:04.790Z"
   },
   {
    "duration": 9,
    "start_time": "2022-07-11T20:11:09.980Z"
   },
   {
    "duration": 9,
    "start_time": "2022-07-11T20:12:51.798Z"
   },
   {
    "duration": 541,
    "start_time": "2022-07-11T20:13:03.957Z"
   },
   {
    "duration": 1353,
    "start_time": "2022-07-11T20:13:04.501Z"
   },
   {
    "duration": 29,
    "start_time": "2022-07-11T20:13:05.858Z"
   },
   {
    "duration": 65,
    "start_time": "2022-07-11T20:13:05.889Z"
   },
   {
    "duration": 57,
    "start_time": "2022-07-11T20:13:05.957Z"
   },
   {
    "duration": 24,
    "start_time": "2022-07-11T20:13:06.017Z"
   },
   {
    "duration": 40,
    "start_time": "2022-07-11T20:13:06.053Z"
   },
   {
    "duration": 15,
    "start_time": "2022-07-11T20:13:06.096Z"
   },
   {
    "duration": 66,
    "start_time": "2022-07-11T20:13:06.113Z"
   },
   {
    "duration": 102,
    "start_time": "2022-07-11T20:13:06.183Z"
   },
   {
    "duration": 50,
    "start_time": "2022-07-11T20:13:06.287Z"
   },
   {
    "duration": 145,
    "start_time": "2022-07-11T20:13:06.345Z"
   },
   {
    "duration": 102,
    "start_time": "2022-07-11T20:13:06.495Z"
   },
   {
    "duration": 104,
    "start_time": "2022-07-11T20:13:06.603Z"
   },
   {
    "duration": 68,
    "start_time": "2022-07-11T20:13:06.709Z"
   },
   {
    "duration": 168,
    "start_time": "2022-07-11T20:13:06.778Z"
   },
   {
    "duration": 23,
    "start_time": "2022-07-11T20:13:06.963Z"
   },
   {
    "duration": 11,
    "start_time": "2022-07-11T20:13:06.994Z"
   },
   {
    "duration": 10,
    "start_time": "2022-07-11T20:13:07.007Z"
   },
   {
    "duration": 34,
    "start_time": "2022-07-11T20:13:07.020Z"
   },
   {
    "duration": 29,
    "start_time": "2022-07-11T20:13:07.056Z"
   },
   {
    "duration": 9,
    "start_time": "2022-07-11T20:13:07.088Z"
   },
   {
    "duration": 12,
    "start_time": "2022-07-11T20:13:07.099Z"
   },
   {
    "duration": 6,
    "start_time": "2022-07-11T20:13:07.113Z"
   },
   {
    "duration": 69,
    "start_time": "2022-07-11T20:13:07.121Z"
   },
   {
    "duration": 6,
    "start_time": "2022-07-11T20:13:07.193Z"
   },
   {
    "duration": 9,
    "start_time": "2022-07-11T20:13:07.201Z"
   },
   {
    "duration": 15,
    "start_time": "2022-07-11T20:13:07.212Z"
   },
   {
    "duration": 60,
    "start_time": "2022-07-11T20:13:07.233Z"
   },
   {
    "duration": 92,
    "start_time": "2022-07-11T20:13:07.297Z"
   },
   {
    "duration": 0,
    "start_time": "2022-07-11T20:13:07.393Z"
   },
   {
    "duration": 0,
    "start_time": "2022-07-11T20:13:07.396Z"
   },
   {
    "duration": 0,
    "start_time": "2022-07-11T20:13:07.398Z"
   },
   {
    "duration": 0,
    "start_time": "2022-07-11T20:13:07.400Z"
   },
   {
    "duration": 0,
    "start_time": "2022-07-11T20:13:07.401Z"
   },
   {
    "duration": 0,
    "start_time": "2022-07-11T20:13:07.403Z"
   },
   {
    "duration": 0,
    "start_time": "2022-07-11T20:13:07.406Z"
   },
   {
    "duration": 0,
    "start_time": "2022-07-11T20:13:07.409Z"
   },
   {
    "duration": 17,
    "start_time": "2022-07-11T20:15:56.980Z"
   },
   {
    "duration": 4,
    "start_time": "2022-07-11T20:16:23.490Z"
   },
   {
    "duration": 1290,
    "start_time": "2022-07-11T20:16:23.497Z"
   },
   {
    "duration": 17,
    "start_time": "2022-07-11T20:16:24.790Z"
   },
   {
    "duration": 101,
    "start_time": "2022-07-11T20:16:24.809Z"
   },
   {
    "duration": 3,
    "start_time": "2022-07-11T20:16:24.914Z"
   },
   {
    "duration": 16,
    "start_time": "2022-07-11T20:16:24.919Z"
   },
   {
    "duration": 57,
    "start_time": "2022-07-11T20:16:24.938Z"
   },
   {
    "duration": 7,
    "start_time": "2022-07-11T20:16:24.999Z"
   },
   {
    "duration": 60,
    "start_time": "2022-07-11T20:16:25.008Z"
   },
   {
    "duration": 114,
    "start_time": "2022-07-11T20:16:25.070Z"
   },
   {
    "duration": 34,
    "start_time": "2022-07-11T20:16:25.188Z"
   },
   {
    "duration": 166,
    "start_time": "2022-07-11T20:16:25.224Z"
   },
   {
    "duration": 96,
    "start_time": "2022-07-11T20:16:25.392Z"
   },
   {
    "duration": 87,
    "start_time": "2022-07-11T20:16:25.494Z"
   },
   {
    "duration": 89,
    "start_time": "2022-07-11T20:16:25.583Z"
   },
   {
    "duration": 140,
    "start_time": "2022-07-11T20:16:25.676Z"
   },
   {
    "duration": 50,
    "start_time": "2022-07-11T20:16:25.818Z"
   },
   {
    "duration": 10,
    "start_time": "2022-07-11T20:16:25.879Z"
   },
   {
    "duration": 6,
    "start_time": "2022-07-11T20:16:25.891Z"
   },
   {
    "duration": 8,
    "start_time": "2022-07-11T20:16:25.900Z"
   },
   {
    "duration": 10,
    "start_time": "2022-07-11T20:16:25.910Z"
   },
   {
    "duration": 68,
    "start_time": "2022-07-11T20:16:25.922Z"
   },
   {
    "duration": 22,
    "start_time": "2022-07-11T20:16:25.992Z"
   },
   {
    "duration": 6,
    "start_time": "2022-07-11T20:16:26.016Z"
   },
   {
    "duration": 74,
    "start_time": "2022-07-11T20:16:26.025Z"
   },
   {
    "duration": 10,
    "start_time": "2022-07-11T20:16:26.101Z"
   },
   {
    "duration": 6,
    "start_time": "2022-07-11T20:16:26.113Z"
   },
   {
    "duration": 55,
    "start_time": "2022-07-11T20:16:26.122Z"
   },
   {
    "duration": 14,
    "start_time": "2022-07-11T20:16:26.179Z"
   },
   {
    "duration": 96,
    "start_time": "2022-07-11T20:16:26.197Z"
   },
   {
    "duration": 0,
    "start_time": "2022-07-11T20:16:26.295Z"
   },
   {
    "duration": 0,
    "start_time": "2022-07-11T20:16:26.300Z"
   },
   {
    "duration": 1,
    "start_time": "2022-07-11T20:16:26.301Z"
   },
   {
    "duration": 1,
    "start_time": "2022-07-11T20:16:26.302Z"
   },
   {
    "duration": 0,
    "start_time": "2022-07-11T20:16:26.304Z"
   },
   {
    "duration": 0,
    "start_time": "2022-07-11T20:16:26.307Z"
   },
   {
    "duration": 0,
    "start_time": "2022-07-11T20:16:26.307Z"
   },
   {
    "duration": 0,
    "start_time": "2022-07-11T20:16:26.309Z"
   },
   {
    "duration": 91,
    "start_time": "2022-07-11T20:19:38.582Z"
   },
   {
    "duration": 84,
    "start_time": "2022-07-11T20:20:15.813Z"
   },
   {
    "duration": 7,
    "start_time": "2022-07-11T20:21:25.276Z"
   },
   {
    "duration": 41,
    "start_time": "2022-07-11T20:23:39.185Z"
   },
   {
    "duration": 7,
    "start_time": "2022-07-11T20:25:21.268Z"
   },
   {
    "duration": 48,
    "start_time": "2022-07-11T20:25:40.854Z"
   },
   {
    "duration": 65,
    "start_time": "2022-07-11T20:26:11.184Z"
   },
   {
    "duration": 3,
    "start_time": "2022-07-11T20:26:15.282Z"
   },
   {
    "duration": 1022,
    "start_time": "2022-07-11T20:26:15.287Z"
   },
   {
    "duration": 19,
    "start_time": "2022-07-11T20:26:16.312Z"
   },
   {
    "duration": 78,
    "start_time": "2022-07-11T20:26:16.335Z"
   },
   {
    "duration": 41,
    "start_time": "2022-07-11T20:26:16.416Z"
   },
   {
    "duration": 21,
    "start_time": "2022-07-11T20:26:16.459Z"
   },
   {
    "duration": 54,
    "start_time": "2022-07-11T20:26:16.482Z"
   },
   {
    "duration": 31,
    "start_time": "2022-07-11T20:26:16.545Z"
   },
   {
    "duration": 58,
    "start_time": "2022-07-11T20:26:16.578Z"
   },
   {
    "duration": 85,
    "start_time": "2022-07-11T20:26:16.639Z"
   },
   {
    "duration": 56,
    "start_time": "2022-07-11T20:26:16.727Z"
   },
   {
    "duration": 105,
    "start_time": "2022-07-11T20:26:16.786Z"
   },
   {
    "duration": 96,
    "start_time": "2022-07-11T20:26:16.893Z"
   },
   {
    "duration": 89,
    "start_time": "2022-07-11T20:26:16.991Z"
   },
   {
    "duration": 69,
    "start_time": "2022-07-11T20:26:17.082Z"
   },
   {
    "duration": 141,
    "start_time": "2022-07-11T20:26:17.154Z"
   },
   {
    "duration": 60,
    "start_time": "2022-07-11T20:26:17.298Z"
   },
   {
    "duration": 22,
    "start_time": "2022-07-11T20:26:17.361Z"
   },
   {
    "duration": 28,
    "start_time": "2022-07-11T20:26:17.386Z"
   },
   {
    "duration": 53,
    "start_time": "2022-07-11T20:26:17.416Z"
   },
   {
    "duration": 18,
    "start_time": "2022-07-11T20:26:17.471Z"
   },
   {
    "duration": 19,
    "start_time": "2022-07-11T20:26:17.491Z"
   },
   {
    "duration": 44,
    "start_time": "2022-07-11T20:26:17.513Z"
   },
   {
    "duration": 20,
    "start_time": "2022-07-11T20:26:17.560Z"
   },
   {
    "duration": 18,
    "start_time": "2022-07-11T20:26:17.583Z"
   },
   {
    "duration": 55,
    "start_time": "2022-07-11T20:26:17.602Z"
   },
   {
    "duration": 36,
    "start_time": "2022-07-11T20:26:17.659Z"
   },
   {
    "duration": 11,
    "start_time": "2022-07-11T20:26:17.697Z"
   },
   {
    "duration": 48,
    "start_time": "2022-07-11T20:26:17.711Z"
   },
   {
    "duration": 55,
    "start_time": "2022-07-11T20:26:17.762Z"
   },
   {
    "duration": 0,
    "start_time": "2022-07-11T20:26:17.819Z"
   },
   {
    "duration": 0,
    "start_time": "2022-07-11T20:26:17.820Z"
   },
   {
    "duration": 0,
    "start_time": "2022-07-11T20:26:17.822Z"
   },
   {
    "duration": 0,
    "start_time": "2022-07-11T20:26:17.828Z"
   },
   {
    "duration": 0,
    "start_time": "2022-07-11T20:26:17.829Z"
   },
   {
    "duration": 0,
    "start_time": "2022-07-11T20:26:17.832Z"
   },
   {
    "duration": 0,
    "start_time": "2022-07-11T20:26:17.832Z"
   },
   {
    "duration": 0,
    "start_time": "2022-07-11T20:26:17.833Z"
   },
   {
    "duration": 3,
    "start_time": "2022-07-11T20:32:14.577Z"
   },
   {
    "duration": 814,
    "start_time": "2022-07-11T20:32:14.582Z"
   },
   {
    "duration": 12,
    "start_time": "2022-07-11T20:32:15.398Z"
   },
   {
    "duration": 42,
    "start_time": "2022-07-11T20:32:15.413Z"
   },
   {
    "duration": 14,
    "start_time": "2022-07-11T20:32:15.458Z"
   },
   {
    "duration": 16,
    "start_time": "2022-07-11T20:32:15.474Z"
   },
   {
    "duration": 12,
    "start_time": "2022-07-11T20:32:15.492Z"
   },
   {
    "duration": 9,
    "start_time": "2022-07-11T20:32:15.506Z"
   },
   {
    "duration": 43,
    "start_time": "2022-07-11T20:32:15.518Z"
   },
   {
    "duration": 56,
    "start_time": "2022-07-11T20:32:15.563Z"
   },
   {
    "duration": 34,
    "start_time": "2022-07-11T20:32:15.621Z"
   },
   {
    "duration": 95,
    "start_time": "2022-07-11T20:32:15.657Z"
   },
   {
    "duration": 95,
    "start_time": "2022-07-11T20:32:15.755Z"
   },
   {
    "duration": 75,
    "start_time": "2022-07-11T20:32:15.852Z"
   },
   {
    "duration": 51,
    "start_time": "2022-07-11T20:32:15.930Z"
   },
   {
    "duration": 133,
    "start_time": "2022-07-11T20:32:15.982Z"
   },
   {
    "duration": 57,
    "start_time": "2022-07-11T20:32:16.117Z"
   },
   {
    "duration": 11,
    "start_time": "2022-07-11T20:32:16.176Z"
   },
   {
    "duration": 28,
    "start_time": "2022-07-11T20:32:16.189Z"
   },
   {
    "duration": 14,
    "start_time": "2022-07-11T20:32:16.219Z"
   },
   {
    "duration": 14,
    "start_time": "2022-07-11T20:32:16.235Z"
   },
   {
    "duration": 10,
    "start_time": "2022-07-11T20:32:16.251Z"
   },
   {
    "duration": 5,
    "start_time": "2022-07-11T20:32:16.264Z"
   },
   {
    "duration": 9,
    "start_time": "2022-07-11T20:32:16.272Z"
   },
   {
    "duration": 12,
    "start_time": "2022-07-11T20:32:16.283Z"
   },
   {
    "duration": 4,
    "start_time": "2022-07-11T20:32:16.297Z"
   },
   {
    "duration": 17,
    "start_time": "2022-07-11T20:32:16.303Z"
   },
   {
    "duration": 7,
    "start_time": "2022-07-11T20:32:16.322Z"
   },
   {
    "duration": 22,
    "start_time": "2022-07-11T20:32:16.331Z"
   },
   {
    "duration": 71,
    "start_time": "2022-07-11T20:32:16.356Z"
   },
   {
    "duration": 0,
    "start_time": "2022-07-11T20:32:16.429Z"
   },
   {
    "duration": 0,
    "start_time": "2022-07-11T20:32:16.431Z"
   },
   {
    "duration": 0,
    "start_time": "2022-07-11T20:32:16.432Z"
   },
   {
    "duration": 0,
    "start_time": "2022-07-11T20:32:16.434Z"
   },
   {
    "duration": 0,
    "start_time": "2022-07-11T20:32:16.436Z"
   },
   {
    "duration": 0,
    "start_time": "2022-07-11T20:32:16.437Z"
   },
   {
    "duration": 0,
    "start_time": "2022-07-11T20:32:16.439Z"
   },
   {
    "duration": 0,
    "start_time": "2022-07-11T20:32:16.440Z"
   },
   {
    "duration": 89,
    "start_time": "2022-07-11T20:32:35.212Z"
   },
   {
    "duration": 45,
    "start_time": "2022-07-11T20:32:39.083Z"
   },
   {
    "duration": 37,
    "start_time": "2022-07-11T21:36:16.977Z"
   },
   {
    "duration": 47,
    "start_time": "2022-07-11T21:36:40.305Z"
   },
   {
    "duration": 43,
    "start_time": "2022-07-11T21:36:49.465Z"
   },
   {
    "duration": 443,
    "start_time": "2022-07-12T08:07:48.337Z"
   },
   {
    "duration": 795,
    "start_time": "2022-07-12T08:07:48.782Z"
   },
   {
    "duration": 18,
    "start_time": "2022-07-12T08:07:49.579Z"
   },
   {
    "duration": 32,
    "start_time": "2022-07-12T08:07:49.598Z"
   },
   {
    "duration": 3,
    "start_time": "2022-07-12T08:07:49.632Z"
   },
   {
    "duration": 8,
    "start_time": "2022-07-12T08:07:49.636Z"
   },
   {
    "duration": 18,
    "start_time": "2022-07-12T08:07:49.646Z"
   },
   {
    "duration": 4,
    "start_time": "2022-07-12T08:07:49.666Z"
   },
   {
    "duration": 29,
    "start_time": "2022-07-12T08:07:49.671Z"
   },
   {
    "duration": 64,
    "start_time": "2022-07-12T08:07:49.702Z"
   },
   {
    "duration": 26,
    "start_time": "2022-07-12T08:07:49.768Z"
   },
   {
    "duration": 86,
    "start_time": "2022-07-12T08:07:49.796Z"
   },
   {
    "duration": 71,
    "start_time": "2022-07-12T08:07:49.883Z"
   },
   {
    "duration": 62,
    "start_time": "2022-07-12T08:07:49.965Z"
   },
   {
    "duration": 54,
    "start_time": "2022-07-12T08:07:50.029Z"
   },
   {
    "duration": 104,
    "start_time": "2022-07-12T08:07:50.084Z"
   },
   {
    "duration": 40,
    "start_time": "2022-07-12T08:07:50.190Z"
   },
   {
    "duration": 3,
    "start_time": "2022-07-12T08:07:50.232Z"
   },
   {
    "duration": 5,
    "start_time": "2022-07-12T08:07:50.236Z"
   },
   {
    "duration": 8,
    "start_time": "2022-07-12T08:07:50.242Z"
   },
   {
    "duration": 3,
    "start_time": "2022-07-12T08:07:50.264Z"
   },
   {
    "duration": 7,
    "start_time": "2022-07-12T08:07:50.269Z"
   },
   {
    "duration": 6,
    "start_time": "2022-07-12T08:07:50.277Z"
   },
   {
    "duration": 6,
    "start_time": "2022-07-12T08:07:50.284Z"
   },
   {
    "duration": 16,
    "start_time": "2022-07-12T08:07:50.291Z"
   },
   {
    "duration": 14,
    "start_time": "2022-07-12T08:07:50.309Z"
   },
   {
    "duration": 12,
    "start_time": "2022-07-12T08:07:50.324Z"
   },
   {
    "duration": 12,
    "start_time": "2022-07-12T08:07:50.338Z"
   },
   {
    "duration": 12,
    "start_time": "2022-07-12T08:07:50.352Z"
   },
   {
    "duration": 160,
    "start_time": "2022-07-12T08:07:50.366Z"
   },
   {
    "duration": 0,
    "start_time": "2022-07-12T08:07:50.528Z"
   },
   {
    "duration": 0,
    "start_time": "2022-07-12T08:07:50.529Z"
   },
   {
    "duration": 0,
    "start_time": "2022-07-12T08:07:50.530Z"
   },
   {
    "duration": 0,
    "start_time": "2022-07-12T08:07:50.531Z"
   },
   {
    "duration": 0,
    "start_time": "2022-07-12T08:07:50.533Z"
   },
   {
    "duration": 0,
    "start_time": "2022-07-12T08:07:50.534Z"
   },
   {
    "duration": 0,
    "start_time": "2022-07-12T08:07:50.535Z"
   },
   {
    "duration": 0,
    "start_time": "2022-07-12T08:07:50.537Z"
   },
   {
    "duration": 41,
    "start_time": "2022-07-12T08:12:24.677Z"
   },
   {
    "duration": 2,
    "start_time": "2022-07-12T08:12:27.953Z"
   },
   {
    "duration": 650,
    "start_time": "2022-07-12T08:12:27.960Z"
   },
   {
    "duration": 10,
    "start_time": "2022-07-12T08:12:28.613Z"
   },
   {
    "duration": 36,
    "start_time": "2022-07-12T08:12:28.625Z"
   },
   {
    "duration": 11,
    "start_time": "2022-07-12T08:12:28.664Z"
   },
   {
    "duration": 12,
    "start_time": "2022-07-12T08:12:28.676Z"
   },
   {
    "duration": 13,
    "start_time": "2022-07-12T08:12:28.690Z"
   },
   {
    "duration": 7,
    "start_time": "2022-07-12T08:12:28.704Z"
   },
   {
    "duration": 28,
    "start_time": "2022-07-12T08:12:28.713Z"
   },
   {
    "duration": 67,
    "start_time": "2022-07-12T08:12:28.742Z"
   },
   {
    "duration": 24,
    "start_time": "2022-07-12T08:12:28.811Z"
   },
   {
    "duration": 89,
    "start_time": "2022-07-12T08:12:28.837Z"
   },
   {
    "duration": 67,
    "start_time": "2022-07-12T08:12:28.928Z"
   },
   {
    "duration": 56,
    "start_time": "2022-07-12T08:12:28.997Z"
   },
   {
    "duration": 45,
    "start_time": "2022-07-12T08:12:29.067Z"
   },
   {
    "duration": 106,
    "start_time": "2022-07-12T08:12:29.114Z"
   },
   {
    "duration": 56,
    "start_time": "2022-07-12T08:12:29.222Z"
   },
   {
    "duration": 3,
    "start_time": "2022-07-12T08:12:29.280Z"
   },
   {
    "duration": 6,
    "start_time": "2022-07-12T08:12:29.284Z"
   },
   {
    "duration": 5,
    "start_time": "2022-07-12T08:12:29.292Z"
   },
   {
    "duration": 7,
    "start_time": "2022-07-12T08:12:29.298Z"
   },
   {
    "duration": 5,
    "start_time": "2022-07-12T08:12:29.307Z"
   },
   {
    "duration": 6,
    "start_time": "2022-07-12T08:12:29.313Z"
   },
   {
    "duration": 5,
    "start_time": "2022-07-12T08:12:29.320Z"
   },
   {
    "duration": 8,
    "start_time": "2022-07-12T08:12:29.327Z"
   },
   {
    "duration": 11,
    "start_time": "2022-07-12T08:12:29.337Z"
   },
   {
    "duration": 20,
    "start_time": "2022-07-12T08:12:29.350Z"
   },
   {
    "duration": 14,
    "start_time": "2022-07-12T08:12:29.371Z"
   },
   {
    "duration": 10,
    "start_time": "2022-07-12T08:12:29.392Z"
   },
   {
    "duration": 76,
    "start_time": "2022-07-12T08:12:29.404Z"
   },
   {
    "duration": 0,
    "start_time": "2022-07-12T08:12:29.481Z"
   },
   {
    "duration": 0,
    "start_time": "2022-07-12T08:12:29.483Z"
   },
   {
    "duration": 0,
    "start_time": "2022-07-12T08:12:29.484Z"
   },
   {
    "duration": 0,
    "start_time": "2022-07-12T08:12:29.485Z"
   },
   {
    "duration": 0,
    "start_time": "2022-07-12T08:12:29.486Z"
   },
   {
    "duration": 0,
    "start_time": "2022-07-12T08:12:29.487Z"
   },
   {
    "duration": 0,
    "start_time": "2022-07-12T08:12:29.489Z"
   },
   {
    "duration": 0,
    "start_time": "2022-07-12T08:12:29.490Z"
   },
   {
    "duration": 3,
    "start_time": "2022-07-12T08:20:41.164Z"
   },
   {
    "duration": 584,
    "start_time": "2022-07-12T08:20:41.517Z"
   },
   {
    "duration": 10,
    "start_time": "2022-07-12T08:20:42.103Z"
   },
   {
    "duration": 29,
    "start_time": "2022-07-12T08:20:42.232Z"
   },
   {
    "duration": 2,
    "start_time": "2022-07-12T08:20:42.825Z"
   },
   {
    "duration": 4,
    "start_time": "2022-07-12T08:20:43.509Z"
   },
   {
    "duration": 7,
    "start_time": "2022-07-12T08:20:43.938Z"
   },
   {
    "duration": 5,
    "start_time": "2022-07-12T08:20:44.358Z"
   },
   {
    "duration": 26,
    "start_time": "2022-07-12T08:20:44.809Z"
   },
   {
    "duration": 45,
    "start_time": "2022-07-12T08:20:45.418Z"
   },
   {
    "duration": 26,
    "start_time": "2022-07-12T08:20:45.817Z"
   },
   {
    "duration": 59,
    "start_time": "2022-07-12T08:20:46.676Z"
   },
   {
    "duration": 67,
    "start_time": "2022-07-12T08:20:48.106Z"
   },
   {
    "duration": 56,
    "start_time": "2022-07-12T08:20:49.296Z"
   },
   {
    "duration": 38,
    "start_time": "2022-07-12T08:21:43.859Z"
   },
   {
    "duration": 91,
    "start_time": "2022-07-12T08:21:45.691Z"
   },
   {
    "duration": 38,
    "start_time": "2022-07-12T08:21:51.995Z"
   },
   {
    "duration": 46,
    "start_time": "2022-07-12T08:22:13.586Z"
   },
   {
    "duration": 74,
    "start_time": "2022-07-12T08:22:25.902Z"
   },
   {
    "duration": 41,
    "start_time": "2022-07-12T08:22:29.877Z"
   },
   {
    "duration": 70,
    "start_time": "2022-07-12T08:23:22.811Z"
   },
   {
    "duration": 63,
    "start_time": "2022-07-12T12:36:07.403Z"
   },
   {
    "duration": 7,
    "start_time": "2022-07-12T12:36:31.855Z"
   },
   {
    "duration": 8,
    "start_time": "2022-07-12T12:37:49.427Z"
   },
   {
    "duration": 8,
    "start_time": "2022-07-12T12:38:06.243Z"
   },
   {
    "duration": 481,
    "start_time": "2022-07-12T12:38:11.101Z"
   },
   {
    "duration": 721,
    "start_time": "2022-07-12T12:38:11.585Z"
   },
   {
    "duration": 19,
    "start_time": "2022-07-12T12:38:12.308Z"
   },
   {
    "duration": 39,
    "start_time": "2022-07-12T12:38:12.330Z"
   },
   {
    "duration": 3,
    "start_time": "2022-07-12T12:38:12.370Z"
   },
   {
    "duration": 14,
    "start_time": "2022-07-12T12:38:12.374Z"
   },
   {
    "duration": 14,
    "start_time": "2022-07-12T12:38:12.390Z"
   },
   {
    "duration": 22,
    "start_time": "2022-07-12T12:38:12.405Z"
   },
   {
    "duration": 36,
    "start_time": "2022-07-12T12:38:12.429Z"
   },
   {
    "duration": 63,
    "start_time": "2022-07-12T12:38:12.467Z"
   },
   {
    "duration": 31,
    "start_time": "2022-07-12T12:38:12.533Z"
   },
   {
    "duration": 87,
    "start_time": "2022-07-12T12:38:12.566Z"
   },
   {
    "duration": 78,
    "start_time": "2022-07-12T12:38:12.655Z"
   },
   {
    "duration": 66,
    "start_time": "2022-07-12T12:38:12.735Z"
   },
   {
    "duration": 59,
    "start_time": "2022-07-12T12:38:12.802Z"
   },
   {
    "duration": 98,
    "start_time": "2022-07-12T12:38:12.862Z"
   },
   {
    "duration": 40,
    "start_time": "2022-07-12T12:38:12.962Z"
   },
   {
    "duration": 24,
    "start_time": "2022-07-12T12:38:13.003Z"
   },
   {
    "duration": 3,
    "start_time": "2022-07-12T12:38:13.028Z"
   },
   {
    "duration": 10,
    "start_time": "2022-07-12T12:38:13.033Z"
   },
   {
    "duration": 14,
    "start_time": "2022-07-12T12:38:13.044Z"
   },
   {
    "duration": 7,
    "start_time": "2022-07-12T12:38:13.060Z"
   },
   {
    "duration": 10,
    "start_time": "2022-07-12T12:38:13.069Z"
   },
   {
    "duration": 9,
    "start_time": "2022-07-12T12:38:13.080Z"
   },
   {
    "duration": 8,
    "start_time": "2022-07-12T12:38:13.091Z"
   },
   {
    "duration": 6,
    "start_time": "2022-07-12T12:38:13.100Z"
   },
   {
    "duration": 6,
    "start_time": "2022-07-12T12:38:13.108Z"
   },
   {
    "duration": 2,
    "start_time": "2022-07-12T12:38:13.125Z"
   },
   {
    "duration": 14,
    "start_time": "2022-07-12T12:38:13.129Z"
   },
   {
    "duration": 71,
    "start_time": "2022-07-12T12:38:13.145Z"
   },
   {
    "duration": 1,
    "start_time": "2022-07-12T12:38:13.217Z"
   },
   {
    "duration": 0,
    "start_time": "2022-07-12T12:38:13.219Z"
   },
   {
    "duration": 0,
    "start_time": "2022-07-12T12:38:13.220Z"
   },
   {
    "duration": 0,
    "start_time": "2022-07-12T12:38:13.221Z"
   },
   {
    "duration": 0,
    "start_time": "2022-07-12T12:38:13.222Z"
   },
   {
    "duration": 0,
    "start_time": "2022-07-12T12:38:13.224Z"
   },
   {
    "duration": 0,
    "start_time": "2022-07-12T12:38:13.226Z"
   },
   {
    "duration": 1,
    "start_time": "2022-07-12T12:38:13.227Z"
   },
   {
    "duration": 12,
    "start_time": "2022-07-12T12:41:41.782Z"
   },
   {
    "duration": 11,
    "start_time": "2022-07-12T12:43:51.166Z"
   },
   {
    "duration": 11,
    "start_time": "2022-07-12T12:45:04.498Z"
   },
   {
    "duration": 14,
    "start_time": "2022-07-12T12:46:13.152Z"
   },
   {
    "duration": 9,
    "start_time": "2022-07-12T15:54:21.603Z"
   },
   {
    "duration": 4,
    "start_time": "2022-07-12T16:34:53.807Z"
   },
   {
    "duration": 5,
    "start_time": "2022-07-12T16:37:39.527Z"
   },
   {
    "duration": 4,
    "start_time": "2022-07-12T16:37:52.161Z"
   },
   {
    "duration": 4,
    "start_time": "2022-07-12T16:39:27.727Z"
   },
   {
    "duration": 5,
    "start_time": "2022-07-12T16:46:21.644Z"
   },
   {
    "duration": 46,
    "start_time": "2022-07-12T16:47:12.065Z"
   },
   {
    "duration": 432,
    "start_time": "2022-07-12T16:48:04.582Z"
   },
   {
    "duration": 701,
    "start_time": "2022-07-12T16:48:05.015Z"
   },
   {
    "duration": 23,
    "start_time": "2022-07-12T16:48:05.718Z"
   },
   {
    "duration": 32,
    "start_time": "2022-07-12T16:48:05.744Z"
   },
   {
    "duration": 2,
    "start_time": "2022-07-12T16:48:05.778Z"
   },
   {
    "duration": 7,
    "start_time": "2022-07-12T16:48:05.782Z"
   },
   {
    "duration": 16,
    "start_time": "2022-07-12T16:48:05.791Z"
   },
   {
    "duration": 4,
    "start_time": "2022-07-12T16:48:05.823Z"
   },
   {
    "duration": 36,
    "start_time": "2022-07-12T16:48:05.829Z"
   },
   {
    "duration": 71,
    "start_time": "2022-07-12T16:48:05.869Z"
   },
   {
    "duration": 31,
    "start_time": "2022-07-12T16:48:05.942Z"
   },
   {
    "duration": 98,
    "start_time": "2022-07-12T16:48:05.974Z"
   },
   {
    "duration": 83,
    "start_time": "2022-07-12T16:48:06.074Z"
   },
   {
    "duration": 67,
    "start_time": "2022-07-12T16:48:06.159Z"
   },
   {
    "duration": 47,
    "start_time": "2022-07-12T16:48:06.228Z"
   },
   {
    "duration": 109,
    "start_time": "2022-07-12T16:48:06.276Z"
   },
   {
    "duration": 48,
    "start_time": "2022-07-12T16:48:06.386Z"
   },
   {
    "duration": 17,
    "start_time": "2022-07-12T16:48:06.436Z"
   },
   {
    "duration": 15,
    "start_time": "2022-07-12T16:48:06.455Z"
   },
   {
    "duration": 4,
    "start_time": "2022-07-12T16:48:06.472Z"
   },
   {
    "duration": 47,
    "start_time": "2022-07-12T16:48:06.478Z"
   },
   {
    "duration": 3,
    "start_time": "2022-07-12T16:48:06.527Z"
   },
   {
    "duration": 14,
    "start_time": "2022-07-12T16:48:06.532Z"
   },
   {
    "duration": 8,
    "start_time": "2022-07-12T16:48:06.548Z"
   },
   {
    "duration": 5,
    "start_time": "2022-07-12T16:48:06.558Z"
   },
   {
    "duration": 5,
    "start_time": "2022-07-12T16:48:06.565Z"
   },
   {
    "duration": 5,
    "start_time": "2022-07-12T16:48:06.571Z"
   },
   {
    "duration": 5,
    "start_time": "2022-07-12T16:48:06.579Z"
   },
   {
    "duration": 5,
    "start_time": "2022-07-12T16:48:06.586Z"
   },
   {
    "duration": 61,
    "start_time": "2022-07-12T16:48:06.592Z"
   },
   {
    "duration": 0,
    "start_time": "2022-07-12T16:48:06.655Z"
   },
   {
    "duration": 0,
    "start_time": "2022-07-12T16:48:06.657Z"
   },
   {
    "duration": 0,
    "start_time": "2022-07-12T16:48:06.658Z"
   },
   {
    "duration": 0,
    "start_time": "2022-07-12T16:48:06.659Z"
   },
   {
    "duration": 0,
    "start_time": "2022-07-12T16:48:06.660Z"
   },
   {
    "duration": 0,
    "start_time": "2022-07-12T16:48:06.661Z"
   },
   {
    "duration": 0,
    "start_time": "2022-07-12T16:48:06.664Z"
   },
   {
    "duration": 0,
    "start_time": "2022-07-12T16:48:06.666Z"
   },
   {
    "duration": 25,
    "start_time": "2022-07-12T16:49:48.861Z"
   },
   {
    "duration": 20,
    "start_time": "2022-07-12T16:49:49.426Z"
   },
   {
    "duration": 20,
    "start_time": "2022-07-12T16:49:50.026Z"
   },
   {
    "duration": 18,
    "start_time": "2022-07-12T16:49:50.546Z"
   },
   {
    "duration": 17,
    "start_time": "2022-07-12T16:49:52.786Z"
   },
   {
    "duration": 19,
    "start_time": "2022-07-12T16:49:53.646Z"
   },
   {
    "duration": 37,
    "start_time": "2022-07-12T16:56:40.053Z"
   },
   {
    "duration": 15,
    "start_time": "2022-07-12T16:56:54.408Z"
   },
   {
    "duration": 14,
    "start_time": "2022-07-12T16:57:15.008Z"
   },
   {
    "duration": 13,
    "start_time": "2022-07-12T16:58:00.261Z"
   },
   {
    "duration": 14,
    "start_time": "2022-07-12T17:01:39.555Z"
   },
   {
    "duration": 13,
    "start_time": "2022-07-12T17:03:15.008Z"
   },
   {
    "duration": 9,
    "start_time": "2022-07-12T17:14:34.317Z"
   },
   {
    "duration": 3,
    "start_time": "2022-07-12T17:15:13.959Z"
   },
   {
    "duration": 10,
    "start_time": "2022-07-12T17:20:02.171Z"
   },
   {
    "duration": 12,
    "start_time": "2022-07-12T17:20:02.853Z"
   },
   {
    "duration": 6,
    "start_time": "2022-07-12T17:41:15.551Z"
   },
   {
    "duration": 6,
    "start_time": "2022-07-12T17:58:10.257Z"
   },
   {
    "duration": 22,
    "start_time": "2022-07-12T18:12:55.445Z"
   },
   {
    "duration": 20,
    "start_time": "2022-07-12T18:17:40.169Z"
   },
   {
    "duration": 16,
    "start_time": "2022-07-12T18:17:40.845Z"
   },
   {
    "duration": 24,
    "start_time": "2022-07-12T18:19:25.646Z"
   },
   {
    "duration": 19,
    "start_time": "2022-07-12T18:19:34.357Z"
   },
   {
    "duration": 13,
    "start_time": "2022-07-12T18:19:35.671Z"
   },
   {
    "duration": 37,
    "start_time": "2022-07-12T18:44:07.282Z"
   },
   {
    "duration": 3,
    "start_time": "2022-07-12T18:44:33.057Z"
   },
   {
    "duration": 879,
    "start_time": "2022-07-12T18:44:33.063Z"
   },
   {
    "duration": 15,
    "start_time": "2022-07-12T18:44:33.944Z"
   },
   {
    "duration": 46,
    "start_time": "2022-07-12T18:44:33.961Z"
   },
   {
    "duration": 2,
    "start_time": "2022-07-12T18:44:34.009Z"
   },
   {
    "duration": 7,
    "start_time": "2022-07-12T18:44:34.013Z"
   },
   {
    "duration": 27,
    "start_time": "2022-07-12T18:44:34.022Z"
   },
   {
    "duration": 10,
    "start_time": "2022-07-12T18:44:34.051Z"
   },
   {
    "duration": 32,
    "start_time": "2022-07-12T18:44:34.063Z"
   },
   {
    "duration": 70,
    "start_time": "2022-07-12T18:44:34.097Z"
   },
   {
    "duration": 27,
    "start_time": "2022-07-12T18:44:34.169Z"
   },
   {
    "duration": 95,
    "start_time": "2022-07-12T18:44:34.197Z"
   },
   {
    "duration": 92,
    "start_time": "2022-07-12T18:44:34.293Z"
   },
   {
    "duration": 82,
    "start_time": "2022-07-12T18:44:34.389Z"
   },
   {
    "duration": 68,
    "start_time": "2022-07-12T18:44:34.474Z"
   },
   {
    "duration": 105,
    "start_time": "2022-07-12T18:44:34.544Z"
   },
   {
    "duration": 47,
    "start_time": "2022-07-12T18:44:34.651Z"
   },
   {
    "duration": 29,
    "start_time": "2022-07-12T18:44:34.700Z"
   },
   {
    "duration": 16,
    "start_time": "2022-07-12T18:44:34.735Z"
   },
   {
    "duration": 5,
    "start_time": "2022-07-12T18:44:34.753Z"
   },
   {
    "duration": 28,
    "start_time": "2022-07-12T18:44:34.760Z"
   },
   {
    "duration": 17,
    "start_time": "2022-07-12T18:44:34.790Z"
   },
   {
    "duration": 33,
    "start_time": "2022-07-12T18:44:34.823Z"
   },
   {
    "duration": 23,
    "start_time": "2022-07-12T18:44:34.858Z"
   },
   {
    "duration": 52,
    "start_time": "2022-07-12T18:44:34.883Z"
   },
   {
    "duration": 25,
    "start_time": "2022-07-12T18:44:34.937Z"
   },
   {
    "duration": 5,
    "start_time": "2022-07-12T18:44:34.964Z"
   },
   {
    "duration": 29,
    "start_time": "2022-07-12T18:44:34.971Z"
   },
   {
    "duration": 31,
    "start_time": "2022-07-12T18:44:35.003Z"
   },
   {
    "duration": 17,
    "start_time": "2022-07-12T18:44:35.039Z"
   },
   {
    "duration": 36,
    "start_time": "2022-07-12T18:44:35.058Z"
   },
   {
    "duration": 19,
    "start_time": "2022-07-12T18:44:35.096Z"
   },
   {
    "duration": 39,
    "start_time": "2022-07-12T18:44:35.118Z"
   },
   {
    "duration": 18,
    "start_time": "2022-07-12T18:44:35.158Z"
   },
   {
    "duration": 37,
    "start_time": "2022-07-12T18:44:35.178Z"
   },
   {
    "duration": 0,
    "start_time": "2022-07-12T18:44:35.224Z"
   },
   {
    "duration": 0,
    "start_time": "2022-07-12T18:44:35.225Z"
   },
   {
    "duration": 0,
    "start_time": "2022-07-12T18:44:35.226Z"
   },
   {
    "duration": 51,
    "start_time": "2022-07-12T18:44:39.853Z"
   },
   {
    "duration": 54,
    "start_time": "2022-07-12T18:46:23.158Z"
   },
   {
    "duration": 3,
    "start_time": "2022-07-12T18:46:52.038Z"
   },
   {
    "duration": 678,
    "start_time": "2022-07-12T18:46:52.043Z"
   },
   {
    "duration": 13,
    "start_time": "2022-07-12T18:46:52.724Z"
   },
   {
    "duration": 52,
    "start_time": "2022-07-12T18:46:52.739Z"
   },
   {
    "duration": 2,
    "start_time": "2022-07-12T18:46:52.794Z"
   },
   {
    "duration": 14,
    "start_time": "2022-07-12T18:46:52.797Z"
   },
   {
    "duration": 10,
    "start_time": "2022-07-12T18:46:52.813Z"
   },
   {
    "duration": 7,
    "start_time": "2022-07-12T18:46:52.826Z"
   },
   {
    "duration": 38,
    "start_time": "2022-07-12T18:46:52.835Z"
   },
   {
    "duration": 62,
    "start_time": "2022-07-12T18:46:52.875Z"
   },
   {
    "duration": 28,
    "start_time": "2022-07-12T18:46:52.939Z"
   },
   {
    "duration": 85,
    "start_time": "2022-07-12T18:46:52.969Z"
   },
   {
    "duration": 72,
    "start_time": "2022-07-12T18:46:53.056Z"
   },
   {
    "duration": 70,
    "start_time": "2022-07-12T18:46:53.132Z"
   },
   {
    "duration": 60,
    "start_time": "2022-07-12T18:46:53.203Z"
   },
   {
    "duration": 114,
    "start_time": "2022-07-12T18:46:53.264Z"
   },
   {
    "duration": 45,
    "start_time": "2022-07-12T18:46:53.379Z"
   },
   {
    "duration": 15,
    "start_time": "2022-07-12T18:46:53.426Z"
   },
   {
    "duration": 22,
    "start_time": "2022-07-12T18:46:53.443Z"
   },
   {
    "duration": 4,
    "start_time": "2022-07-12T18:46:53.467Z"
   },
   {
    "duration": 35,
    "start_time": "2022-07-12T18:46:53.473Z"
   },
   {
    "duration": 24,
    "start_time": "2022-07-12T18:46:53.510Z"
   },
   {
    "duration": 19,
    "start_time": "2022-07-12T18:46:53.536Z"
   },
   {
    "duration": 18,
    "start_time": "2022-07-12T18:46:53.558Z"
   },
   {
    "duration": 46,
    "start_time": "2022-07-12T18:46:53.578Z"
   },
   {
    "duration": 22,
    "start_time": "2022-07-12T18:46:53.626Z"
   },
   {
    "duration": 5,
    "start_time": "2022-07-12T18:46:53.650Z"
   },
   {
    "duration": 22,
    "start_time": "2022-07-12T18:46:53.657Z"
   },
   {
    "duration": 11,
    "start_time": "2022-07-12T18:46:53.681Z"
   },
   {
    "duration": 5,
    "start_time": "2022-07-12T18:46:53.694Z"
   },
   {
    "duration": 39,
    "start_time": "2022-07-12T18:46:53.724Z"
   },
   {
    "duration": 14,
    "start_time": "2022-07-12T18:46:53.765Z"
   },
   {
    "duration": 21,
    "start_time": "2022-07-12T18:46:53.781Z"
   },
   {
    "duration": 32,
    "start_time": "2022-07-12T18:46:53.804Z"
   },
   {
    "duration": 62,
    "start_time": "2022-07-12T18:46:53.839Z"
   },
   {
    "duration": 3,
    "start_time": "2022-07-12T18:46:53.903Z"
   },
   {
    "duration": 3,
    "start_time": "2022-07-12T18:46:53.923Z"
   },
   {
    "duration": 9,
    "start_time": "2022-07-12T18:46:53.929Z"
   },
   {
    "duration": 64,
    "start_time": "2022-07-12T18:47:03.319Z"
   },
   {
    "duration": 39,
    "start_time": "2022-07-12T18:49:33.694Z"
   },
   {
    "duration": 43,
    "start_time": "2022-07-12T18:57:59.799Z"
   },
   {
    "duration": 44,
    "start_time": "2022-07-12T18:58:30.307Z"
   },
   {
    "duration": 3,
    "start_time": "2022-07-12T18:59:46.451Z"
   },
   {
    "duration": 667,
    "start_time": "2022-07-12T18:59:46.457Z"
   },
   {
    "duration": 13,
    "start_time": "2022-07-12T18:59:47.126Z"
   },
   {
    "duration": 40,
    "start_time": "2022-07-12T18:59:47.141Z"
   },
   {
    "duration": 3,
    "start_time": "2022-07-12T18:59:47.184Z"
   },
   {
    "duration": 16,
    "start_time": "2022-07-12T18:59:47.189Z"
   },
   {
    "duration": 22,
    "start_time": "2022-07-12T18:59:47.207Z"
   },
   {
    "duration": 4,
    "start_time": "2022-07-12T18:59:47.231Z"
   },
   {
    "duration": 32,
    "start_time": "2022-07-12T18:59:47.237Z"
   },
   {
    "duration": 65,
    "start_time": "2022-07-12T18:59:47.271Z"
   },
   {
    "duration": 30,
    "start_time": "2022-07-12T18:59:47.338Z"
   },
   {
    "duration": 82,
    "start_time": "2022-07-12T18:59:47.370Z"
   },
   {
    "duration": 102,
    "start_time": "2022-07-12T18:59:47.454Z"
   },
   {
    "duration": 76,
    "start_time": "2022-07-12T18:59:47.559Z"
   },
   {
    "duration": 44,
    "start_time": "2022-07-12T18:59:47.637Z"
   },
   {
    "duration": 102,
    "start_time": "2022-07-12T18:59:47.682Z"
   },
   {
    "duration": 45,
    "start_time": "2022-07-12T18:59:47.786Z"
   },
   {
    "duration": 17,
    "start_time": "2022-07-12T18:59:47.833Z"
   },
   {
    "duration": 18,
    "start_time": "2022-07-12T18:59:47.852Z"
   },
   {
    "duration": 4,
    "start_time": "2022-07-12T18:59:47.871Z"
   },
   {
    "duration": 20,
    "start_time": "2022-07-12T18:59:47.877Z"
   },
   {
    "duration": 42,
    "start_time": "2022-07-12T18:59:47.899Z"
   },
   {
    "duration": 22,
    "start_time": "2022-07-12T18:59:47.943Z"
   },
   {
    "duration": 19,
    "start_time": "2022-07-12T18:59:47.967Z"
   },
   {
    "duration": 37,
    "start_time": "2022-07-12T18:59:47.988Z"
   },
   {
    "duration": 22,
    "start_time": "2022-07-12T18:59:48.026Z"
   },
   {
    "duration": 11,
    "start_time": "2022-07-12T18:59:48.050Z"
   },
   {
    "duration": 16,
    "start_time": "2022-07-12T18:59:48.062Z"
   },
   {
    "duration": 11,
    "start_time": "2022-07-12T18:59:48.079Z"
   },
   {
    "duration": 4,
    "start_time": "2022-07-12T18:59:48.092Z"
   },
   {
    "duration": 42,
    "start_time": "2022-07-12T18:59:48.098Z"
   },
   {
    "duration": 15,
    "start_time": "2022-07-12T18:59:48.145Z"
   },
   {
    "duration": 21,
    "start_time": "2022-07-12T18:59:48.162Z"
   },
   {
    "duration": 43,
    "start_time": "2022-07-12T18:59:48.185Z"
   },
   {
    "duration": 48,
    "start_time": "2022-07-12T18:59:48.230Z"
   },
   {
    "duration": 2,
    "start_time": "2022-07-12T18:59:48.280Z"
   },
   {
    "duration": 5,
    "start_time": "2022-07-12T18:59:48.284Z"
   },
   {
    "duration": 6,
    "start_time": "2022-07-12T18:59:48.290Z"
   },
   {
    "duration": 35,
    "start_time": "2022-07-12T19:00:01.566Z"
   },
   {
    "duration": 46,
    "start_time": "2022-07-12T19:04:59.318Z"
   },
   {
    "duration": 57,
    "start_time": "2022-07-12T19:05:38.973Z"
   },
   {
    "duration": 3,
    "start_time": "2022-07-12T19:05:41.655Z"
   },
   {
    "duration": 697,
    "start_time": "2022-07-12T19:05:41.660Z"
   },
   {
    "duration": 12,
    "start_time": "2022-07-12T19:05:42.359Z"
   },
   {
    "duration": 30,
    "start_time": "2022-07-12T19:05:42.374Z"
   },
   {
    "duration": 2,
    "start_time": "2022-07-12T19:05:42.406Z"
   },
   {
    "duration": 20,
    "start_time": "2022-07-12T19:05:42.410Z"
   },
   {
    "duration": 11,
    "start_time": "2022-07-12T19:05:42.432Z"
   },
   {
    "duration": 6,
    "start_time": "2022-07-12T19:05:42.445Z"
   },
   {
    "duration": 37,
    "start_time": "2022-07-12T19:05:42.454Z"
   },
   {
    "duration": 60,
    "start_time": "2022-07-12T19:05:42.493Z"
   },
   {
    "duration": 30,
    "start_time": "2022-07-12T19:05:42.555Z"
   },
   {
    "duration": 89,
    "start_time": "2022-07-12T19:05:42.587Z"
   },
   {
    "duration": 98,
    "start_time": "2022-07-12T19:05:42.678Z"
   },
   {
    "duration": 81,
    "start_time": "2022-07-12T19:05:42.778Z"
   },
   {
    "duration": 42,
    "start_time": "2022-07-12T19:05:42.861Z"
   },
   {
    "duration": 118,
    "start_time": "2022-07-12T19:05:42.905Z"
   },
   {
    "duration": 49,
    "start_time": "2022-07-12T19:05:43.026Z"
   },
   {
    "duration": 13,
    "start_time": "2022-07-12T19:05:43.076Z"
   },
   {
    "duration": 35,
    "start_time": "2022-07-12T19:05:43.090Z"
   },
   {
    "duration": 6,
    "start_time": "2022-07-12T19:05:43.126Z"
   },
   {
    "duration": 28,
    "start_time": "2022-07-12T19:05:43.134Z"
   },
   {
    "duration": 16,
    "start_time": "2022-07-12T19:05:43.164Z"
   },
   {
    "duration": 45,
    "start_time": "2022-07-12T19:05:43.181Z"
   },
   {
    "duration": 19,
    "start_time": "2022-07-12T19:05:43.230Z"
   },
   {
    "duration": 23,
    "start_time": "2022-07-12T19:05:43.250Z"
   },
   {
    "duration": 16,
    "start_time": "2022-07-12T19:05:43.274Z"
   },
   {
    "duration": 3,
    "start_time": "2022-07-12T19:05:43.291Z"
   },
   {
    "duration": 16,
    "start_time": "2022-07-12T19:05:43.324Z"
   },
   {
    "duration": 20,
    "start_time": "2022-07-12T19:05:43.342Z"
   },
   {
    "duration": 6,
    "start_time": "2022-07-12T19:05:43.365Z"
   },
   {
    "duration": 22,
    "start_time": "2022-07-12T19:05:43.372Z"
   },
   {
    "duration": 32,
    "start_time": "2022-07-12T19:05:43.396Z"
   },
   {
    "duration": 24,
    "start_time": "2022-07-12T19:05:43.429Z"
   },
   {
    "duration": 17,
    "start_time": "2022-07-12T19:05:43.455Z"
   },
   {
    "duration": 62,
    "start_time": "2022-07-12T19:05:43.474Z"
   },
   {
    "duration": 3,
    "start_time": "2022-07-12T19:05:43.538Z"
   },
   {
    "duration": 20,
    "start_time": "2022-07-12T19:05:43.542Z"
   },
   {
    "duration": 7,
    "start_time": "2022-07-12T19:05:43.563Z"
   },
   {
    "duration": 11,
    "start_time": "2022-07-12T19:06:29.687Z"
   },
   {
    "duration": 2,
    "start_time": "2022-07-12T19:10:13.957Z"
   },
   {
    "duration": 730,
    "start_time": "2022-07-12T19:10:13.962Z"
   },
   {
    "duration": 12,
    "start_time": "2022-07-12T19:10:14.694Z"
   },
   {
    "duration": 36,
    "start_time": "2022-07-12T19:10:14.707Z"
   },
   {
    "duration": 8,
    "start_time": "2022-07-12T19:10:14.745Z"
   },
   {
    "duration": 13,
    "start_time": "2022-07-12T19:10:14.755Z"
   },
   {
    "duration": 11,
    "start_time": "2022-07-12T19:10:14.770Z"
   },
   {
    "duration": 13,
    "start_time": "2022-07-12T19:10:14.783Z"
   },
   {
    "duration": 31,
    "start_time": "2022-07-12T19:10:14.798Z"
   },
   {
    "duration": 51,
    "start_time": "2022-07-12T19:10:14.832Z"
   },
   {
    "duration": 23,
    "start_time": "2022-07-12T19:10:14.886Z"
   },
   {
    "duration": 91,
    "start_time": "2022-07-12T19:10:14.910Z"
   },
   {
    "duration": 94,
    "start_time": "2022-07-12T19:10:15.002Z"
   },
   {
    "duration": 81,
    "start_time": "2022-07-12T19:10:15.098Z"
   },
   {
    "duration": 43,
    "start_time": "2022-07-12T19:10:15.181Z"
   },
   {
    "duration": 106,
    "start_time": "2022-07-12T19:10:15.226Z"
   },
   {
    "duration": 45,
    "start_time": "2022-07-12T19:10:15.335Z"
   },
   {
    "duration": 12,
    "start_time": "2022-07-12T19:10:15.382Z"
   },
   {
    "duration": 33,
    "start_time": "2022-07-12T19:10:15.396Z"
   },
   {
    "duration": 5,
    "start_time": "2022-07-12T19:10:15.431Z"
   },
   {
    "duration": 28,
    "start_time": "2022-07-12T19:10:15.438Z"
   },
   {
    "duration": 16,
    "start_time": "2022-07-12T19:10:15.467Z"
   },
   {
    "duration": 41,
    "start_time": "2022-07-12T19:10:15.485Z"
   },
   {
    "duration": 21,
    "start_time": "2022-07-12T19:10:15.528Z"
   },
   {
    "duration": 23,
    "start_time": "2022-07-12T19:10:15.551Z"
   },
   {
    "duration": 15,
    "start_time": "2022-07-12T19:10:15.575Z"
   },
   {
    "duration": 3,
    "start_time": "2022-07-12T19:10:15.592Z"
   },
   {
    "duration": 18,
    "start_time": "2022-07-12T19:10:15.623Z"
   },
   {
    "duration": 14,
    "start_time": "2022-07-12T19:10:15.646Z"
   },
   {
    "duration": 6,
    "start_time": "2022-07-12T19:10:15.662Z"
   },
   {
    "duration": 27,
    "start_time": "2022-07-12T19:10:15.670Z"
   },
   {
    "duration": 33,
    "start_time": "2022-07-12T19:10:15.698Z"
   },
   {
    "duration": 25,
    "start_time": "2022-07-12T19:10:15.733Z"
   },
   {
    "duration": 13,
    "start_time": "2022-07-12T19:10:15.760Z"
   },
   {
    "duration": 64,
    "start_time": "2022-07-12T19:10:15.775Z"
   },
   {
    "duration": 13,
    "start_time": "2022-07-12T19:10:15.842Z"
   },
   {
    "duration": 8,
    "start_time": "2022-07-12T19:10:15.857Z"
   },
   {
    "duration": 5,
    "start_time": "2022-07-12T19:10:15.867Z"
   },
   {
    "duration": 13,
    "start_time": "2022-07-12T19:11:07.781Z"
   },
   {
    "duration": 13,
    "start_time": "2022-07-12T19:11:17.153Z"
   },
   {
    "duration": 45,
    "start_time": "2022-07-12T19:11:35.819Z"
   },
   {
    "duration": 42,
    "start_time": "2022-07-12T19:11:47.903Z"
   },
   {
    "duration": 3,
    "start_time": "2022-07-12T19:12:13.576Z"
   },
   {
    "duration": 684,
    "start_time": "2022-07-12T19:12:13.582Z"
   },
   {
    "duration": 11,
    "start_time": "2022-07-12T19:12:14.268Z"
   },
   {
    "duration": 34,
    "start_time": "2022-07-12T19:12:14.281Z"
   },
   {
    "duration": 2,
    "start_time": "2022-07-12T19:12:14.318Z"
   },
   {
    "duration": 10,
    "start_time": "2022-07-12T19:12:14.322Z"
   },
   {
    "duration": 13,
    "start_time": "2022-07-12T19:12:14.334Z"
   },
   {
    "duration": 4,
    "start_time": "2022-07-12T19:12:14.350Z"
   },
   {
    "duration": 27,
    "start_time": "2022-07-12T19:12:14.356Z"
   },
   {
    "duration": 67,
    "start_time": "2022-07-12T19:12:14.385Z"
   },
   {
    "duration": 26,
    "start_time": "2022-07-12T19:12:14.455Z"
   },
   {
    "duration": 91,
    "start_time": "2022-07-12T19:12:14.483Z"
   },
   {
    "duration": 89,
    "start_time": "2022-07-12T19:12:14.575Z"
   },
   {
    "duration": 58,
    "start_time": "2022-07-12T19:12:14.666Z"
   },
   {
    "duration": 47,
    "start_time": "2022-07-12T19:12:14.726Z"
   },
   {
    "duration": 116,
    "start_time": "2022-07-12T19:12:14.775Z"
   },
   {
    "duration": 42,
    "start_time": "2022-07-12T19:12:14.892Z"
   },
   {
    "duration": 16,
    "start_time": "2022-07-12T19:12:14.937Z"
   },
   {
    "duration": 20,
    "start_time": "2022-07-12T19:12:14.955Z"
   },
   {
    "duration": 9,
    "start_time": "2022-07-12T19:12:14.976Z"
   },
   {
    "duration": 37,
    "start_time": "2022-07-12T19:12:14.987Z"
   },
   {
    "duration": 21,
    "start_time": "2022-07-12T19:12:15.026Z"
   },
   {
    "duration": 25,
    "start_time": "2022-07-12T19:12:15.049Z"
   },
   {
    "duration": 17,
    "start_time": "2022-07-12T19:12:15.076Z"
   },
   {
    "duration": 33,
    "start_time": "2022-07-12T19:12:15.095Z"
   },
   {
    "duration": 20,
    "start_time": "2022-07-12T19:12:15.130Z"
   },
   {
    "duration": 4,
    "start_time": "2022-07-12T19:12:15.152Z"
   },
   {
    "duration": 16,
    "start_time": "2022-07-12T19:12:15.159Z"
   },
   {
    "duration": 11,
    "start_time": "2022-07-12T19:12:15.178Z"
   },
   {
    "duration": 33,
    "start_time": "2022-07-12T19:12:15.190Z"
   },
   {
    "duration": 31,
    "start_time": "2022-07-12T19:12:15.225Z"
   },
   {
    "duration": 13,
    "start_time": "2022-07-12T19:12:15.258Z"
   },
   {
    "duration": 17,
    "start_time": "2022-07-12T19:12:15.273Z"
   },
   {
    "duration": 33,
    "start_time": "2022-07-12T19:12:15.291Z"
   },
   {
    "duration": 20,
    "start_time": "2022-07-12T19:12:15.326Z"
   },
   {
    "duration": 0,
    "start_time": "2022-07-12T19:12:15.347Z"
   },
   {
    "duration": 0,
    "start_time": "2022-07-12T19:12:15.349Z"
   },
   {
    "duration": 1,
    "start_time": "2022-07-12T19:12:15.350Z"
   },
   {
    "duration": 12,
    "start_time": "2022-07-12T19:12:43.132Z"
   },
   {
    "duration": 11,
    "start_time": "2022-07-12T19:13:22.649Z"
   },
   {
    "duration": 5,
    "start_time": "2022-07-12T19:13:43.678Z"
   },
   {
    "duration": 8,
    "start_time": "2022-07-12T19:17:26.654Z"
   },
   {
    "duration": 5,
    "start_time": "2022-07-12T19:17:56.103Z"
   },
   {
    "duration": 378,
    "start_time": "2022-08-29T21:56:28.324Z"
   },
   {
    "duration": 691,
    "start_time": "2022-08-29T21:56:28.704Z"
   },
   {
    "duration": 16,
    "start_time": "2022-08-29T21:56:29.396Z"
   },
   {
    "duration": 28,
    "start_time": "2022-08-29T21:56:29.414Z"
   },
   {
    "duration": 3,
    "start_time": "2022-08-29T21:56:29.443Z"
   },
   {
    "duration": 6,
    "start_time": "2022-08-29T21:56:29.448Z"
   },
   {
    "duration": 35,
    "start_time": "2022-08-29T21:56:29.455Z"
   },
   {
    "duration": 7,
    "start_time": "2022-08-29T21:56:29.492Z"
   },
   {
    "duration": 26,
    "start_time": "2022-08-29T21:56:29.501Z"
   },
   {
    "duration": 63,
    "start_time": "2022-08-29T21:56:29.530Z"
   },
   {
    "duration": 25,
    "start_time": "2022-08-29T21:56:29.594Z"
   },
   {
    "duration": 75,
    "start_time": "2022-08-29T21:56:29.621Z"
   },
   {
    "duration": 65,
    "start_time": "2022-08-29T21:56:29.698Z"
   },
   {
    "duration": 73,
    "start_time": "2022-08-29T21:56:29.765Z"
   },
   {
    "duration": 53,
    "start_time": "2022-08-29T21:56:29.840Z"
   },
   {
    "duration": 92,
    "start_time": "2022-08-29T21:56:29.895Z"
   },
   {
    "duration": 47,
    "start_time": "2022-08-29T21:56:29.989Z"
   },
   {
    "duration": 13,
    "start_time": "2022-08-29T21:56:30.038Z"
   },
   {
    "duration": 34,
    "start_time": "2022-08-29T21:56:30.053Z"
   },
   {
    "duration": 4,
    "start_time": "2022-08-29T21:56:30.089Z"
   },
   {
    "duration": 24,
    "start_time": "2022-08-29T21:56:30.094Z"
   },
   {
    "duration": 17,
    "start_time": "2022-08-29T21:56:30.119Z"
   },
   {
    "duration": 17,
    "start_time": "2022-08-29T21:56:30.137Z"
   },
   {
    "duration": 39,
    "start_time": "2022-08-29T21:56:30.155Z"
   },
   {
    "duration": 16,
    "start_time": "2022-08-29T21:56:30.196Z"
   },
   {
    "duration": 16,
    "start_time": "2022-08-29T21:56:30.214Z"
   },
   {
    "duration": 5,
    "start_time": "2022-08-29T21:56:30.231Z"
   },
   {
    "duration": 18,
    "start_time": "2022-08-29T21:56:30.239Z"
   },
   {
    "duration": 34,
    "start_time": "2022-08-29T21:56:30.258Z"
   },
   {
    "duration": 6,
    "start_time": "2022-08-29T21:56:30.294Z"
   },
   {
    "duration": 24,
    "start_time": "2022-08-29T21:56:30.302Z"
   },
   {
    "duration": 10,
    "start_time": "2022-08-29T21:56:30.327Z"
   },
   {
    "duration": 18,
    "start_time": "2022-08-29T21:56:30.339Z"
   },
   {
    "duration": 36,
    "start_time": "2022-08-29T21:56:30.358Z"
   },
   {
    "duration": 25,
    "start_time": "2022-08-29T21:56:30.396Z"
   },
   {
    "duration": 21,
    "start_time": "2022-08-29T21:56:30.422Z"
   },
   {
    "duration": 25,
    "start_time": "2022-08-29T21:56:30.445Z"
   },
   {
    "duration": 18,
    "start_time": "2022-08-29T21:56:30.472Z"
   }
  ],
  "colab": {
   "collapsed_sections": [
    "E0vqbgi9ay0H",
    "VUC88oWjTJw2"
   ],
   "name": "automatization_template_upd4.ipynb",
   "provenance": []
  },
  "kernelspec": {
   "display_name": "Python 3 (ipykernel)",
   "language": "python",
   "name": "python3"
  },
  "language_info": {
   "codemirror_mode": {
    "name": "ipython",
    "version": 3
   },
   "file_extension": ".py",
   "mimetype": "text/x-python",
   "name": "python",
   "nbconvert_exporter": "python",
   "pygments_lexer": "ipython3",
   "version": "3.9.5"
  },
  "toc": {
   "base_numbering": 1,
   "nav_menu": {
    "height": "215px",
    "width": "403px"
   },
   "number_sections": true,
   "sideBar": true,
   "skip_h1_title": true,
   "title_cell": "Table of Contents",
   "title_sidebar": "Contents",
   "toc_cell": false,
   "toc_position": {
    "height": "calc(100% - 180px)",
    "left": "10px",
    "top": "150px",
    "width": "285.825px"
   },
   "toc_section_display": true,
   "toc_window_display": false
  }
 },
 "nbformat": 4,
 "nbformat_minor": 1
}
