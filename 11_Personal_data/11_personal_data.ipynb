{
 "cells": [
  {
   "attachments": {},
   "cell_type": "markdown",
   "metadata": {
    "toc": true
   },
   "source": [
    "<h1>Содержание<span class=\"tocSkip\"></span></h1>\n",
    "<div class=\"toc\"><ul class=\"toc-item\"><li><span><a href=\"#План-проекта\" data-toc-modified-id=\"План-проекта-1\"><span class=\"toc-item-num\">1&nbsp;&nbsp;</span>План проекта</a></span></li><li><span><a href=\"#Загрузка-данных\" data-toc-modified-id=\"Загрузка-данных-2\"><span class=\"toc-item-num\">2&nbsp;&nbsp;</span>Загрузка данных</a></span></li><li><span><a href=\"#Умножение-матриц\" data-toc-modified-id=\"Умножение-матриц-3\"><span class=\"toc-item-num\">3&nbsp;&nbsp;</span>Умножение матриц</a></span></li><li><span><a href=\"#Алгоритм-преобразования\" data-toc-modified-id=\"Алгоритм-преобразования-4\"><span class=\"toc-item-num\">4&nbsp;&nbsp;</span>Алгоритм преобразования</a></span></li><li><span><a href=\"#Проверка-алгоритма\" data-toc-modified-id=\"Проверка-алгоритма-5\"><span class=\"toc-item-num\">5&nbsp;&nbsp;</span>Проверка алгоритма</a></span></li><li><span><a href=\"#Чек-лист-проверки\" data-toc-modified-id=\"Чек-лист-проверки-6\"><span class=\"toc-item-num\">6&nbsp;&nbsp;</span>Чек-лист проверки</a></span></li></ul></div>"
   ]
  },
  {
   "attachments": {},
   "cell_type": "markdown",
   "metadata": {},
   "source": [
    "# Защита персональных данных клиентов"
   ]
  },
  {
   "attachments": {},
   "cell_type": "markdown",
   "metadata": {},
   "source": [
    "Вам нужно защитить данные клиентов страховой компании «Хоть потоп». Разработайте такой метод преобразования данных, чтобы по ним было сложно восстановить персональную информацию. Обоснуйте корректность его работы.\n",
    "\n",
    "Нужно защитить данные, чтобы при преобразовании качество моделей машинного обучения не ухудшилось. Подбирать наилучшую модель не требуется."
   ]
  },
  {
   "attachments": {},
   "cell_type": "markdown",
   "metadata": {},
   "source": [
    "## План проекта"
   ]
  },
  {
   "attachments": {},
   "cell_type": "markdown",
   "metadata": {},
   "source": [
    "1. Загрузить и изучить данные.\n",
    "2. Ответьтить на вопрос и обосновать решение. \n",
    "Признаки умножают на обратимую матрицу. Изменится ли качество линейной регрессии?<br>\n",
    "2.1 Изменится. Приведите примеры матриц.<br>\n",
    "2.2 Не изменится. Укажите, как связаны параметры линейной регрессии в исходной задаче и в преобразованной.\n",
    "3. Предложить алгоритм преобразования данных для решения задачи. Обосновать, почему качество линейной регрессии не поменяется.\n",
    "4. Запрограммировать этот алгоритм, применив матричные операции. Проверить, что качество линейной регрессии из sklearn не отличается до и после преобразования. Применить метрику R2."
   ]
  },
  {
   "attachments": {},
   "cell_type": "markdown",
   "metadata": {},
   "source": [
    "## Загрузка данных"
   ]
  },
  {
   "cell_type": "code",
   "execution_count": 1,
   "metadata": {},
   "outputs": [],
   "source": [
    "from numpy.linalg import inv\n",
    "from scipy.spatial import distance\n",
    "from scipy.spatial.distance import cityblock\n",
    "from sklearn.linear_model import LinearRegression\n",
    "from sklearn.metrics import r2_score\n",
    "from sklearn.model_selection import train_test_split\n",
    "import numpy as np\n",
    "import pandas as pd\n",
    "import matplotlib.pyplot as plt\n",
    "import seaborn as sns\n"
   ]
  },
  {
   "attachments": {},
   "cell_type": "markdown",
   "metadata": {},
   "source": [
    "Импорт данных"
   ]
  },
  {
   "cell_type": "code",
   "execution_count": 2,
   "metadata": {},
   "outputs": [],
   "source": [
    "try:\n",
    "    df = pd.read_csv('insurance.csv')\n",
    "except:\n",
    "    df = pd.read_csv('/datasets/insurance.csv')"
   ]
  },
  {
   "attachments": {},
   "cell_type": "markdown",
   "metadata": {},
   "source": [
    "Вывод основной информации о данных"
   ]
  },
  {
   "cell_type": "code",
   "execution_count": 3,
   "metadata": {},
   "outputs": [],
   "source": [
    "def show_i(data):\n",
    "\n",
    "    '''Выводим на экран следущую информацию:\n",
    "\n",
    "    - размер таблицы\n",
    "    - основную информацию\n",
    "    - первые 5 строк таблицы\n",
    "    - суммарная статистика по числовым параметрам\n",
    "    - типы данных'''\n",
    "\n",
    "    display(data.shape)\n",
    "    display(data.info())\n",
    "    display(data.head())\n",
    "    display(data.describe())\n",
    "    display(data.dtypes)"
   ]
  },
  {
   "cell_type": "code",
   "execution_count": 4,
   "metadata": {},
   "outputs": [
    {
     "data": {
      "text/plain": [
       "(5000, 5)"
      ]
     },
     "metadata": {},
     "output_type": "display_data"
    },
    {
     "name": "stdout",
     "output_type": "stream",
     "text": [
      "<class 'pandas.core.frame.DataFrame'>\n",
      "RangeIndex: 5000 entries, 0 to 4999\n",
      "Data columns (total 5 columns):\n",
      " #   Column             Non-Null Count  Dtype  \n",
      "---  ------             --------------  -----  \n",
      " 0   Пол                5000 non-null   int64  \n",
      " 1   Возраст            5000 non-null   float64\n",
      " 2   Зарплата           5000 non-null   float64\n",
      " 3   Члены семьи        5000 non-null   int64  \n",
      " 4   Страховые выплаты  5000 non-null   int64  \n",
      "dtypes: float64(2), int64(3)\n",
      "memory usage: 195.4 KB\n"
     ]
    },
    {
     "data": {
      "text/plain": [
       "None"
      ]
     },
     "metadata": {},
     "output_type": "display_data"
    },
    {
     "data": {
      "text/html": [
       "<div>\n",
       "<style scoped>\n",
       "    .dataframe tbody tr th:only-of-type {\n",
       "        vertical-align: middle;\n",
       "    }\n",
       "\n",
       "    .dataframe tbody tr th {\n",
       "        vertical-align: top;\n",
       "    }\n",
       "\n",
       "    .dataframe thead th {\n",
       "        text-align: right;\n",
       "    }\n",
       "</style>\n",
       "<table border=\"1\" class=\"dataframe\">\n",
       "  <thead>\n",
       "    <tr style=\"text-align: right;\">\n",
       "      <th></th>\n",
       "      <th>Пол</th>\n",
       "      <th>Возраст</th>\n",
       "      <th>Зарплата</th>\n",
       "      <th>Члены семьи</th>\n",
       "      <th>Страховые выплаты</th>\n",
       "    </tr>\n",
       "  </thead>\n",
       "  <tbody>\n",
       "    <tr>\n",
       "      <th>0</th>\n",
       "      <td>1</td>\n",
       "      <td>41.0</td>\n",
       "      <td>49600.0</td>\n",
       "      <td>1</td>\n",
       "      <td>0</td>\n",
       "    </tr>\n",
       "    <tr>\n",
       "      <th>1</th>\n",
       "      <td>0</td>\n",
       "      <td>46.0</td>\n",
       "      <td>38000.0</td>\n",
       "      <td>1</td>\n",
       "      <td>1</td>\n",
       "    </tr>\n",
       "    <tr>\n",
       "      <th>2</th>\n",
       "      <td>0</td>\n",
       "      <td>29.0</td>\n",
       "      <td>21000.0</td>\n",
       "      <td>0</td>\n",
       "      <td>0</td>\n",
       "    </tr>\n",
       "    <tr>\n",
       "      <th>3</th>\n",
       "      <td>0</td>\n",
       "      <td>21.0</td>\n",
       "      <td>41700.0</td>\n",
       "      <td>2</td>\n",
       "      <td>0</td>\n",
       "    </tr>\n",
       "    <tr>\n",
       "      <th>4</th>\n",
       "      <td>1</td>\n",
       "      <td>28.0</td>\n",
       "      <td>26100.0</td>\n",
       "      <td>0</td>\n",
       "      <td>0</td>\n",
       "    </tr>\n",
       "  </tbody>\n",
       "</table>\n",
       "</div>"
      ],
      "text/plain": [
       "   Пол  Возраст  Зарплата  Члены семьи  Страховые выплаты\n",
       "0    1     41.0   49600.0            1                  0\n",
       "1    0     46.0   38000.0            1                  1\n",
       "2    0     29.0   21000.0            0                  0\n",
       "3    0     21.0   41700.0            2                  0\n",
       "4    1     28.0   26100.0            0                  0"
      ]
     },
     "metadata": {},
     "output_type": "display_data"
    },
    {
     "data": {
      "text/html": [
       "<div>\n",
       "<style scoped>\n",
       "    .dataframe tbody tr th:only-of-type {\n",
       "        vertical-align: middle;\n",
       "    }\n",
       "\n",
       "    .dataframe tbody tr th {\n",
       "        vertical-align: top;\n",
       "    }\n",
       "\n",
       "    .dataframe thead th {\n",
       "        text-align: right;\n",
       "    }\n",
       "</style>\n",
       "<table border=\"1\" class=\"dataframe\">\n",
       "  <thead>\n",
       "    <tr style=\"text-align: right;\">\n",
       "      <th></th>\n",
       "      <th>Пол</th>\n",
       "      <th>Возраст</th>\n",
       "      <th>Зарплата</th>\n",
       "      <th>Члены семьи</th>\n",
       "      <th>Страховые выплаты</th>\n",
       "    </tr>\n",
       "  </thead>\n",
       "  <tbody>\n",
       "    <tr>\n",
       "      <th>count</th>\n",
       "      <td>5000.000000</td>\n",
       "      <td>5000.000000</td>\n",
       "      <td>5000.000000</td>\n",
       "      <td>5000.000000</td>\n",
       "      <td>5000.000000</td>\n",
       "    </tr>\n",
       "    <tr>\n",
       "      <th>mean</th>\n",
       "      <td>0.499000</td>\n",
       "      <td>30.952800</td>\n",
       "      <td>39916.360000</td>\n",
       "      <td>1.194200</td>\n",
       "      <td>0.148000</td>\n",
       "    </tr>\n",
       "    <tr>\n",
       "      <th>std</th>\n",
       "      <td>0.500049</td>\n",
       "      <td>8.440807</td>\n",
       "      <td>9900.083569</td>\n",
       "      <td>1.091387</td>\n",
       "      <td>0.463183</td>\n",
       "    </tr>\n",
       "    <tr>\n",
       "      <th>min</th>\n",
       "      <td>0.000000</td>\n",
       "      <td>18.000000</td>\n",
       "      <td>5300.000000</td>\n",
       "      <td>0.000000</td>\n",
       "      <td>0.000000</td>\n",
       "    </tr>\n",
       "    <tr>\n",
       "      <th>25%</th>\n",
       "      <td>0.000000</td>\n",
       "      <td>24.000000</td>\n",
       "      <td>33300.000000</td>\n",
       "      <td>0.000000</td>\n",
       "      <td>0.000000</td>\n",
       "    </tr>\n",
       "    <tr>\n",
       "      <th>50%</th>\n",
       "      <td>0.000000</td>\n",
       "      <td>30.000000</td>\n",
       "      <td>40200.000000</td>\n",
       "      <td>1.000000</td>\n",
       "      <td>0.000000</td>\n",
       "    </tr>\n",
       "    <tr>\n",
       "      <th>75%</th>\n",
       "      <td>1.000000</td>\n",
       "      <td>37.000000</td>\n",
       "      <td>46600.000000</td>\n",
       "      <td>2.000000</td>\n",
       "      <td>0.000000</td>\n",
       "    </tr>\n",
       "    <tr>\n",
       "      <th>max</th>\n",
       "      <td>1.000000</td>\n",
       "      <td>65.000000</td>\n",
       "      <td>79000.000000</td>\n",
       "      <td>6.000000</td>\n",
       "      <td>5.000000</td>\n",
       "    </tr>\n",
       "  </tbody>\n",
       "</table>\n",
       "</div>"
      ],
      "text/plain": [
       "               Пол      Возраст      Зарплата  Члены семьи  Страховые выплаты\n",
       "count  5000.000000  5000.000000   5000.000000  5000.000000        5000.000000\n",
       "mean      0.499000    30.952800  39916.360000     1.194200           0.148000\n",
       "std       0.500049     8.440807   9900.083569     1.091387           0.463183\n",
       "min       0.000000    18.000000   5300.000000     0.000000           0.000000\n",
       "25%       0.000000    24.000000  33300.000000     0.000000           0.000000\n",
       "50%       0.000000    30.000000  40200.000000     1.000000           0.000000\n",
       "75%       1.000000    37.000000  46600.000000     2.000000           0.000000\n",
       "max       1.000000    65.000000  79000.000000     6.000000           5.000000"
      ]
     },
     "metadata": {},
     "output_type": "display_data"
    },
    {
     "data": {
      "text/plain": [
       "Пол                    int64\n",
       "Возраст              float64\n",
       "Зарплата             float64\n",
       "Члены семьи            int64\n",
       "Страховые выплаты      int64\n",
       "dtype: object"
      ]
     },
     "metadata": {},
     "output_type": "display_data"
    }
   ],
   "source": [
    "show_i(df)"
   ]
  },
  {
   "attachments": {},
   "cell_type": "markdown",
   "metadata": {},
   "source": [
    "Изменим тип данных признака `Возраст` с вещественных на цельные числа"
   ]
  },
  {
   "cell_type": "code",
   "execution_count": 5,
   "metadata": {},
   "outputs": [],
   "source": [
    "df['Возраст'] = df['Возраст'].astype('int64')"
   ]
  },
  {
   "attachments": {},
   "cell_type": "markdown",
   "metadata": {},
   "source": [
    "Проверяем изменение"
   ]
  },
  {
   "cell_type": "code",
   "execution_count": 6,
   "metadata": {},
   "outputs": [
    {
     "data": {
      "text/plain": [
       "Пол                    int64\n",
       "Возраст                int64\n",
       "Зарплата             float64\n",
       "Члены семьи            int64\n",
       "Страховые выплаты      int64\n",
       "dtype: object"
      ]
     },
     "metadata": {},
     "output_type": "display_data"
    }
   ],
   "source": [
    "display(df.dtypes)"
   ]
  },
  {
   "attachments": {},
   "cell_type": "markdown",
   "metadata": {},
   "source": [
    "Находим дубликаты"
   ]
  },
  {
   "cell_type": "code",
   "execution_count": 7,
   "metadata": {},
   "outputs": [
    {
     "name": "stdout",
     "output_type": "stream",
     "text": [
      "df_train дубликаты: 153\n"
     ]
    }
   ],
   "source": [
    "# df_train дубликаты\n",
    "print('df_train дубликаты:', df.duplicated().sum())"
   ]
  },
  {
   "attachments": {},
   "cell_type": "markdown",
   "metadata": {},
   "source": [
    "Удаляем дубликаты"
   ]
  },
  {
   "cell_type": "code",
   "execution_count": 8,
   "metadata": {},
   "outputs": [],
   "source": [
    "df = df.drop_duplicates()"
   ]
  },
  {
   "attachments": {},
   "cell_type": "markdown",
   "metadata": {},
   "source": [
    "Проверяем результат и выводим размер новой таблицы"
   ]
  },
  {
   "cell_type": "code",
   "execution_count": 9,
   "metadata": {},
   "outputs": [
    {
     "name": "stdout",
     "output_type": "stream",
     "text": [
      "df_train дубликаты: 0\n"
     ]
    },
    {
     "data": {
      "text/plain": [
       "(4847, 5)"
      ]
     },
     "execution_count": 9,
     "metadata": {},
     "output_type": "execute_result"
    }
   ],
   "source": [
    "print('df_train дубликаты:', df.duplicated().sum())\n",
    "df.shape"
   ]
  },
  {
   "attachments": {},
   "cell_type": "markdown",
   "metadata": {},
   "source": [
    "Посмотрм как респределены параметры"
   ]
  },
  {
   "cell_type": "code",
   "execution_count": 10,
   "metadata": {},
   "outputs": [
    {
     "data": {
      "image/png": "[encoded data removed]",
      "text/plain": [
       "<Figure size 720x360 with 1 Axes>"
      ]
     },
     "metadata": {},
     "output_type": "display_data"
    }
   ],
   "source": [
    "sns.set()\n",
    "fig, ax = plt.subplots(figsize=(10, 5))\n",
    "sns.countplot(x='Члены семьи', data=df, palette='coolwarm')\n",
    "ax.set_title('Кол-во членов семьи')\n",
    "plt.ylabel('Количество');"
   ]
  },
  {
   "cell_type": "code",
   "execution_count": 11,
   "metadata": {},
   "outputs": [
    {
     "data": {
      "image/png": "[encoded data removed]",
      "text/plain": [
       "<Figure size 720x360 with 1 Axes>"
      ]
     },
     "metadata": {},
     "output_type": "display_data"
    }
   ],
   "source": [
    "sns.displot(data=df, x='Зарплата', kde=True, height=5, aspect=2)\n",
    "plt.title('Распределение зарплат')\n",
    "plt.ylabel('Частота')\n",
    "plt.show()"
   ]
  },
  {
   "cell_type": "code",
   "execution_count": 12,
   "metadata": {},
   "outputs": [
    {
     "data": {
      "image/png": "[encoded data removed]",
      "text/plain": [
       "<Figure size 864x288 with 1 Axes>"
      ]
     },
     "metadata": {},
     "output_type": "display_data"
    }
   ],
   "source": [
    "sns.displot(data=df, x='Возраст', kde=True, height=4, aspect=3)\n",
    "plt.title('Возрастное распределение')\n",
    "plt.ylabel('Частота')\n",
    "plt.show()"
   ]
  },
  {
   "attachments": {},
   "cell_type": "markdown",
   "metadata": {},
   "source": [
    "`Вывод:` в процессе предобработки мы изменити типы данных с вещественных на цельночисловые и удалили дубликаты. Также был произведён ИАД в везультате которого мы выявили нормальное распределение зарплат и скошенное распределение кол-ва членов семьи и возраста."
   ]
  },
  {
   "attachments": {},
   "cell_type": "markdown",
   "metadata": {},
   "source": [
    "## Умножение матриц"
   ]
  },
  {
   "attachments": {},
   "cell_type": "markdown",
   "metadata": {},
   "source": [
    "В этом задании вы можете записывать формулы в *Jupyter Notebook.*\n",
    "\n",
    "Чтобы записать формулу внутри текста, окружите её символами доллара \\\\$; если снаружи —  двойными символами \\\\$\\\\$. Эти формулы записываются на языке вёрстки *LaTeX.* \n",
    "\n",
    "Для примера мы записали формулы линейной регрессии. Можете их скопировать и отредактировать, чтобы решить задачу.\n",
    "\n",
    "Работать в *LaTeX* необязательно."
   ]
  },
  {
   "attachments": {},
   "cell_type": "markdown",
   "metadata": {},
   "source": [
    "Обозначения:\n",
    "\n",
    "- $X$ — матрица признаков (нулевой столбец состоит из единиц)\n",
    "\n",
    "- $y$ — вектор целевого признака\n",
    "\n",
    "- $P$ — матрица, на которую умножаются признаки\n",
    "\n",
    "- $w$ — вектор весов линейной регрессии (нулевой элемент равен сдвигу)"
   ]
  },
  {
   "attachments": {},
   "cell_type": "markdown",
   "metadata": {},
   "source": [
    "Предсказания:\n",
    "\n",
    "$$\n",
    "a = Xw\n",
    "$$\n",
    "\n",
    "Задача обучения:\n",
    "\n",
    "$$\n",
    "w = \\arg\\min_w MSE(Xw, y)\n",
    "$$\n",
    "\n",
    "Формула обучения:\n",
    "\n",
    "$$\n",
    "w = (X^T X)^{-1} X^T y\n",
    "$$"
   ]
  },
  {
   "attachments": {},
   "cell_type": "markdown",
   "metadata": {},
   "source": [
    "Делим на целевую и нецелевую выборки"
   ]
  },
  {
   "cell_type": "code",
   "execution_count": 13,
   "metadata": {},
   "outputs": [
    {
     "name": "stdout",
     "output_type": "stream",
     "text": [
      "(4847, 4)\n",
      "(4847,)\n"
     ]
    }
   ],
   "source": [
    "features = df.drop(['Страховые выплаты'], axis=1)\n",
    "target = df['Страховые выплаты']\n",
    "\n",
    "# выводим итоговые размеры таблиц\n",
    "print(features.shape)\n",
    "print(target.shape)"
   ]
  },
  {
   "attachments": {},
   "cell_type": "markdown",
   "metadata": {},
   "source": [
    "Записываем формулы вычисления весов"
   ]
  },
  {
   "cell_type": "code",
   "execution_count": 14,
   "metadata": {},
   "outputs": [],
   "source": [
    "# находим веса w\n",
    "class LinearReg:\n",
    "    def fit(self, train_features, train_target):\n",
    "        X = np.concatenate((np.ones((train_features.shape[0], 1)), train_features), axis=1)\n",
    "        y = train_target\n",
    "        w = np.linalg.inv((X.T @ X)).dot(X.T).dot(y)\n",
    "        self.w = w[1:]\n",
    "        self.w0 = w[0]\n",
    "        print(w)\n",
    "# находим предсказания        \n",
    "    def predict(self, test_features):\n",
    "        return test_features.dot(self.w) + self.w0"
   ]
  },
  {
   "attachments": {},
   "cell_type": "markdown",
   "metadata": {},
   "source": [
    "Создаём модель на основании формулы весов и предсказываем используя формулу предсказаний"
   ]
  },
  {
   "cell_type": "code",
   "execution_count": 15,
   "metadata": {},
   "outputs": [
    {
     "name": "stdout",
     "output_type": "stream",
     "text": [
      "[-9.51709995e-01  9.46018141e-03  3.61640081e-02 -1.38991363e-07\n",
      " -1.42517371e-02]\n"
     ]
    },
    {
     "data": {
      "text/plain": [
       "0.4302010044852068"
      ]
     },
     "execution_count": 15,
     "metadata": {},
     "output_type": "execute_result"
    }
   ],
   "source": [
    "model = LinearReg()\n",
    "model.fit(features, target)\n",
    "predictions = model.predict(features)\n",
    "r2_score(target, predictions)"
   ]
  },
  {
   "attachments": {},
   "cell_type": "markdown",
   "metadata": {},
   "source": [
    "Создаём новую случайную квадратную матрицу нормального распределения"
   ]
  },
  {
   "cell_type": "code",
   "execution_count": 16,
   "metadata": {},
   "outputs": [
    {
     "name": "stdout",
     "output_type": "stream",
     "text": [
      "[[ 1.60098441  0.79192065 -1.61751022  0.85087347]\n",
      " [-0.16840195 -0.24761543  0.11452115  2.79886233]\n",
      " [ 0.23096748 -1.531157   -0.5529058  -1.00833114]\n",
      " [-0.03479558  0.72697382 -0.15815315 -0.08386654]]\n"
     ]
    },
    {
     "data": {
      "text/plain": [
       "<matplotlib.image.AxesImage at 0x7fea08a90310>"
      ]
     },
     "execution_count": 16,
     "metadata": {},
     "output_type": "execute_result"
    },
    {
     "data": {
      "image/png": "[encoded data removed]",
      "text/plain": [
       "<Figure size 432x288 with 1 Axes>"
      ]
     },
     "metadata": {},
     "output_type": "display_data"
    }
   ],
   "source": [
    "# размер новой матрицы 4х4 соответствует ширине изначальной матрицы - 4 колонки\n",
    "r_matrix = np.random.normal(0, 1, (features.shape[1], features.shape[1]))\n",
    "print(r_matrix)\n",
    "plt.imshow(r_matrix)"
   ]
  },
  {
   "attachments": {},
   "cell_type": "markdown",
   "metadata": {},
   "source": [
    "Находим обратную матрицу"
   ]
  },
  {
   "cell_type": "code",
   "execution_count": 17,
   "metadata": {},
   "outputs": [
    {
     "data": {
      "text/plain": [
       "array([[ 0.63985193, -0.68409358, -1.09053495, -3.22691718],\n",
       "       [ 0.04831865, -0.11695576, -0.3323613 ,  0.583072  ],\n",
       "       [ 0.05994716, -0.56142839, -1.26487349, -2.92061636],\n",
       "       [ 0.0403205 ,  0.32875239, -0.04326445, -0.0230698 ]])"
      ]
     },
     "execution_count": 17,
     "metadata": {},
     "output_type": "execute_result"
    }
   ],
   "source": [
    "np.linalg.inv(r_matrix)"
   ]
  },
  {
   "attachments": {},
   "cell_type": "markdown",
   "metadata": {},
   "source": [
    "Умножаем изначальную матрицу на обратную, результатом должна быть единичная матрица"
   ]
  },
  {
   "cell_type": "code",
   "execution_count": 18,
   "metadata": {},
   "outputs": [
    {
     "data": {
      "text/plain": [
       "array([[ 1.00000000e+00,  2.53689904e-17, -8.99229422e-17,\n",
       "         3.20976703e-16],\n",
       "       [-3.05527021e-17,  1.00000000e+00,  2.18713801e-17,\n",
       "         7.72712399e-18],\n",
       "       [ 1.34457960e-17,  4.11369534e-17,  1.00000000e+00,\n",
       "        -1.43693272e-16],\n",
       "       [-4.38401754e-19, -5.64448967e-17, -1.91449856e-17,\n",
       "         1.00000000e+00]])"
      ]
     },
     "execution_count": 18,
     "metadata": {},
     "output_type": "execute_result"
    }
   ],
   "source": [
    "E = r_matrix @ np.linalg.inv(r_matrix)\n",
    "E"
   ]
  },
  {
   "attachments": {},
   "cell_type": "markdown",
   "metadata": {},
   "source": [
    "`Вывод:` Главная диагональ матрицы состоит из единиц, значит результат перемножения матриц - единичная матрица"
   ]
  },
  {
   "attachments": {},
   "cell_type": "markdown",
   "metadata": {},
   "source": [
    "Кодируем изначальные признаки умножая их на обратную матрицу"
   ]
  },
  {
   "cell_type": "code",
   "execution_count": 19,
   "metadata": {},
   "outputs": [
    {
     "data": {
      "text/html": [
       "<div>\n",
       "<style scoped>\n",
       "    .dataframe tbody tr th:only-of-type {\n",
       "        vertical-align: middle;\n",
       "    }\n",
       "\n",
       "    .dataframe tbody tr th {\n",
       "        vertical-align: top;\n",
       "    }\n",
       "\n",
       "    .dataframe thead th {\n",
       "        text-align: right;\n",
       "    }\n",
       "</style>\n",
       "<table border=\"1\" class=\"dataframe\">\n",
       "  <thead>\n",
       "    <tr style=\"text-align: right;\">\n",
       "      <th></th>\n",
       "      <th>0</th>\n",
       "      <th>1</th>\n",
       "      <th>2</th>\n",
       "      <th>3</th>\n",
       "    </tr>\n",
       "  </thead>\n",
       "  <tbody>\n",
       "    <tr>\n",
       "      <th>0</th>\n",
       "      <td>11450.648860</td>\n",
       "      <td>-75954.020705</td>\n",
       "      <td>-27421.207809</td>\n",
       "      <td>-49897.704338</td>\n",
       "    </tr>\n",
       "    <tr>\n",
       "      <th>1</th>\n",
       "      <td>8768.983064</td>\n",
       "      <td>-58194.629464</td>\n",
       "      <td>-21005.310452</td>\n",
       "      <td>-38187.919639</td>\n",
       "    </tr>\n",
       "    <tr>\n",
       "      <th>2</th>\n",
       "      <td>4845.433484</td>\n",
       "      <td>-32161.477918</td>\n",
       "      <td>-11607.700616</td>\n",
       "      <td>-21093.786999</td>\n",
       "    </tr>\n",
       "    <tr>\n",
       "      <th>3</th>\n",
       "      <td>9627.738004</td>\n",
       "      <td>-63852.993017</td>\n",
       "      <td>-23054.083081</td>\n",
       "      <td>-41988.800294</td>\n",
       "    </tr>\n",
       "    <tr>\n",
       "      <th>4</th>\n",
       "      <td>6025.137033</td>\n",
       "      <td>-39969.339099</td>\n",
       "      <td>-14429.252210</td>\n",
       "      <td>-26238.223818</td>\n",
       "    </tr>\n",
       "    <tr>\n",
       "      <th>...</th>\n",
       "      <td>...</td>\n",
       "      <td>...</td>\n",
       "      <td>...</td>\n",
       "      <td>...</td>\n",
       "    </tr>\n",
       "    <tr>\n",
       "      <th>4995</th>\n",
       "      <td>8240.754293</td>\n",
       "      <td>-54667.784304</td>\n",
       "      <td>-19735.846654</td>\n",
       "      <td>-35919.221398</td>\n",
       "    </tr>\n",
       "    <tr>\n",
       "      <th>4996</th>\n",
       "      <td>12096.935641</td>\n",
       "      <td>-80240.318927</td>\n",
       "      <td>-28968.528177</td>\n",
       "      <td>-52741.474449</td>\n",
       "    </tr>\n",
       "    <tr>\n",
       "      <th>4997</th>\n",
       "      <td>7826.360040</td>\n",
       "      <td>-51909.720775</td>\n",
       "      <td>-18741.532389</td>\n",
       "      <td>-34126.616239</td>\n",
       "    </tr>\n",
       "    <tr>\n",
       "      <th>4998</th>\n",
       "      <td>7550.428445</td>\n",
       "      <td>-50071.308707</td>\n",
       "      <td>-18079.592054</td>\n",
       "      <td>-32910.254136</td>\n",
       "    </tr>\n",
       "    <tr>\n",
       "      <th>4999</th>\n",
       "      <td>9374.130739</td>\n",
       "      <td>-62170.388674</td>\n",
       "      <td>-22446.544414</td>\n",
       "      <td>-40859.109260</td>\n",
       "    </tr>\n",
       "  </tbody>\n",
       "</table>\n",
       "<p>4847 rows × 4 columns</p>\n",
       "</div>"
      ],
      "text/plain": [
       "                 0             1             2             3\n",
       "0     11450.648860 -75954.020705 -27421.207809 -49897.704338\n",
       "1      8768.983064 -58194.629464 -21005.310452 -38187.919639\n",
       "2      4845.433484 -32161.477918 -11607.700616 -21093.786999\n",
       "3      9627.738004 -63852.993017 -23054.083081 -41988.800294\n",
       "4      6025.137033 -39969.339099 -14429.252210 -26238.223818\n",
       "...            ...           ...           ...           ...\n",
       "4995   8240.754293 -54667.784304 -19735.846654 -35919.221398\n",
       "4996  12096.935641 -80240.318927 -28968.528177 -52741.474449\n",
       "4997   7826.360040 -51909.720775 -18741.532389 -34126.616239\n",
       "4998   7550.428445 -50071.308707 -18079.592054 -32910.254136\n",
       "4999   9374.130739 -62170.388674 -22446.544414 -40859.109260\n",
       "\n",
       "[4847 rows x 4 columns]"
      ]
     },
     "execution_count": 19,
     "metadata": {},
     "output_type": "execute_result"
    }
   ],
   "source": [
    "hidden_features = features @ r_matrix \n",
    "hidden_features"
   ]
  },
  {
   "attachments": {},
   "cell_type": "markdown",
   "metadata": {},
   "source": [
    "Находим метрику модели после шифрования"
   ]
  },
  {
   "cell_type": "code",
   "execution_count": 20,
   "metadata": {},
   "outputs": [
    {
     "name": "stdout",
     "output_type": "stream",
     "text": [
      "[-0.95170998  0.0273028  -0.01208222  0.02188758  0.01259923]\n"
     ]
    },
    {
     "data": {
      "text/plain": [
       "0.4302010044852076"
      ]
     },
     "execution_count": 20,
     "metadata": {},
     "output_type": "execute_result"
    }
   ],
   "source": [
    "model= LinearReg()\n",
    "model.fit(hidden_features, target)\n",
    "predictions = model.predict(hidden_features)\n",
    "r2_score(target, predictions)"
   ]
  },
  {
   "attachments": {},
   "cell_type": "markdown",
   "metadata": {},
   "source": [
    "Как связаны параметры линейной регрессии в исходной задаче и в преобразованной?<br>\n",
    "Предсказания высчитываются по формуле: $$ a = Xw $$\n",
    "\n",
    "Т.к. новая матрица признаков получается умножением исходной Х\n",
    " на случайную (обозначим М\n",
    "), то формула применит вид:\n",
    "$$ a = XMw $$\n",
    "\n",
    "Формула обучения:\n",
    "$$ w = (X^T X)^{-1} X^T y $$\n",
    "\n",
    "Перепишем формулу нахождения весов:\n",
    "\n",
    "$$ w' = ((XM)^T XM)^{-1}(XM)^T y $$\n",
    "\n",
    "Раскрываем скобки:\n",
    "\n",
    "$$ w' = ((X^T M^T  XM)^{-1} X^T M^T y) $$\n",
    "\n",
    " $ (M^T)^{-1} M^T $ это единичная матрица \n",
    ", матрица умножаясь на единичную равна себе, сократим запись:\n",
    "\n",
    "$$ w' = M^{-1}(X^T X)^{-1} X^T y $$\n",
    "\n",
    "То есть новые веса \n",
    " выражаются через исходные \n",
    " следующим образом:\n",
    "\n",
    "$$ w' = M^{-1} w $$\n",
    "\n",
    "Докажем что векторы a и a' равны:\n",
    "\n",
    "$$ a'=XP((XP)^T XP)^{-1} (XP)^T y $$\n",
    "\n",
    "Используем правило матричного преобразования $ (𝐴𝐵)^𝑇=𝐵^𝑇𝐴^𝑇 $\n",
    "\n",
    "$$ a'=XP(P^TX^T XP)^{-1} P^TX^T y $$\n",
    "\n",
    "Обратная матрица произведения равна произведению обратных матриц в обратном порядке:\n",
    "\n",
    "$$ a'=XPP^{-1}(P^T X^T X)^{-1}P^T X^T y $$\n",
    "$$ a'=XPP^{-1} (X^T X)^{-1}(P^T)^{-1}P^T X^T y $$\n",
    "\n",
    "При умножении матрицы на её обратную получается единичная матрица:\n",
    "\n",
    "$$ a'=X(X^T X)^{-1}X^T y $$\n",
    "\n",
    "Помним что $ w = (X^T X)^{-1} X^T y $\n",
    "\n",
    "$$ a'=Xw $$\n",
    "\n",
    "Така как a'=Xw в итоге получаем:\n",
    "\n",
    "$$ a'=a $$\n"
   ]
  },
  {
   "attachments": {},
   "cell_type": "markdown",
   "metadata": {},
   "source": [
    "`Вывод:`\n",
    "Качество линейной регрессии не изменилось."
   ]
  },
  {
   "attachments": {},
   "cell_type": "markdown",
   "metadata": {},
   "source": [
    "**Ответ:** Умножив признаки на обратимую матрицу, качество линейной регрессии не изменилось.\n",
    "\n",
    "**Обоснование:** Веса изменились под новые значения, т.е. признаки исходной матрицы и преобразованной выражаются через коэффициенты (веса w), поэтому качество линейной регресии не изменилось"
   ]
  },
  {
   "attachments": {},
   "cell_type": "markdown",
   "metadata": {},
   "source": [
    "## Алгоритм преобразования"
   ]
  },
  {
   "attachments": {},
   "cell_type": "markdown",
   "metadata": {},
   "source": [
    "**Алгоритм**\n",
    "\n",
    "Для защиты информации на этапе поиска коэффициентов регрессии и предсказаний регрессии будем умножать матрицу признаков на обратимую матрицу $Y$, которая будет генерироваться случайным образом.\n",
    "\n",
    "Этапы алгоритма:\n",
    "1. Составление матрицы $Y$.\n",
    "2. Проверка матрицы на обратимость. Вычисление детерминанта матрицы $Y$.\n",
    "3. Получение матрицы преобразованных признаков $Z = XY$.\n",
    "4. Применение алгоритма на преобразованных признаках $Z$."
   ]
  },
  {
   "attachments": {},
   "cell_type": "markdown",
   "metadata": {},
   "source": [
    "Матрица $Y$ должна иметь необходимую размерность $(nxn)$, где n - количество признаков для регрессии.\n",
    "Таким образом матрица $Z$ будет иметь туже размерность, что и матрица $X$. Обратная матрица $Y$ существует только для квадратных невырожденных матриц (определитель которых не равен нулю).\n",
    "\n",
    "Пример:\n",
    "\n",
    "$\n",
    "X = \\begin{pmatrix}\n",
    "1 & 2 \\\\\n",
    "2 & 3 \\\\\n",
    "4 & 5  \n",
    "\\end{pmatrix}\n",
    "\\qquad \n",
    "Y = \\begin{pmatrix}\n",
    "1 & 0 \\\\\n",
    "2 & 3 \\\\  \n",
    "\\end{pmatrix}\n",
    "\\qquad det  Y = 3 $\n",
    "\n",
    "Найдем значние Z:\n",
    "\n",
    "$\n",
    "Z = \\begin{pmatrix}\n",
    "1 & 2 \\\\\n",
    "2 & 3 \\\\\n",
    "4 & 5  \n",
    "\\end{pmatrix} \\begin{pmatrix}\n",
    "1 & 0 \\\\\n",
    "2 & 3 \\\\  \n",
    "\\end{pmatrix} = \\begin{pmatrix}\n",
    "1*1+2*2 & 1*0+2*3  \\\\\n",
    "2*1+3*2 & 2*0+3*3  \\\\\n",
    "4*1+5*2 & 4*0+5*3   \n",
    "\\end{pmatrix} = \\begin{pmatrix}\n",
    "5 & 6 \\\\\n",
    "8 & 9 \\\\\n",
    "14 & 15  \n",
    "\\end{pmatrix}$"
   ]
  },
  {
   "cell_type": "code",
   "execution_count": 21,
   "metadata": {},
   "outputs": [],
   "source": [
    "def encode(features):\n",
    "    random_matrix = np.random.normal(0, 1, (features.shape[1], features.shape[1]))\n",
    "    encoded_features = features.dot(random_matrix)\n",
    "    return encoded_features"
   ]
  },
  {
   "cell_type": "code",
   "execution_count": 22,
   "metadata": {},
   "outputs": [
    {
     "data": {
      "text/html": [
       "<div>\n",
       "<style scoped>\n",
       "    .dataframe tbody tr th:only-of-type {\n",
       "        vertical-align: middle;\n",
       "    }\n",
       "\n",
       "    .dataframe tbody tr th {\n",
       "        vertical-align: top;\n",
       "    }\n",
       "\n",
       "    .dataframe thead th {\n",
       "        text-align: right;\n",
       "    }\n",
       "</style>\n",
       "<table border=\"1\" class=\"dataframe\">\n",
       "  <thead>\n",
       "    <tr style=\"text-align: right;\">\n",
       "      <th></th>\n",
       "      <th>0</th>\n",
       "      <th>1</th>\n",
       "      <th>2</th>\n",
       "      <th>3</th>\n",
       "    </tr>\n",
       "  </thead>\n",
       "  <tbody>\n",
       "    <tr>\n",
       "      <th>0</th>\n",
       "      <td>41095.805514</td>\n",
       "      <td>-52845.647123</td>\n",
       "      <td>8928.365491</td>\n",
       "      <td>-28027.924231</td>\n",
       "    </tr>\n",
       "    <tr>\n",
       "      <th>1</th>\n",
       "      <td>31480.637617</td>\n",
       "      <td>-40503.313322</td>\n",
       "      <td>6810.023450</td>\n",
       "      <td>-21474.960903</td>\n",
       "    </tr>\n",
       "    <tr>\n",
       "      <th>2</th>\n",
       "      <td>17396.120555</td>\n",
       "      <td>-22386.952224</td>\n",
       "      <td>3756.230193</td>\n",
       "      <td>-11868.156335</td>\n",
       "    </tr>\n",
       "    <tr>\n",
       "      <th>3</th>\n",
       "      <td>34554.758465</td>\n",
       "      <td>-44415.307224</td>\n",
       "      <td>7534.577624</td>\n",
       "      <td>-23562.100420</td>\n",
       "    </tr>\n",
       "    <tr>\n",
       "      <th>4</th>\n",
       "      <td>21622.850901</td>\n",
       "      <td>-27814.247228</td>\n",
       "      <td>4684.637439</td>\n",
       "      <td>-14749.381058</td>\n",
       "    </tr>\n",
       "    <tr>\n",
       "      <th>...</th>\n",
       "      <td>...</td>\n",
       "      <td>...</td>\n",
       "      <td>...</td>\n",
       "      <td>...</td>\n",
       "    </tr>\n",
       "    <tr>\n",
       "      <th>4995</th>\n",
       "      <td>29579.815853</td>\n",
       "      <td>-38035.828396</td>\n",
       "      <td>6429.219386</td>\n",
       "      <td>-20173.246360</td>\n",
       "    </tr>\n",
       "    <tr>\n",
       "      <th>4996</th>\n",
       "      <td>43419.048350</td>\n",
       "      <td>-55819.335900</td>\n",
       "      <td>9452.787643</td>\n",
       "      <td>-29608.853678</td>\n",
       "    </tr>\n",
       "    <tr>\n",
       "      <th>4997</th>\n",
       "      <td>28090.387344</td>\n",
       "      <td>-36110.888656</td>\n",
       "      <td>6118.854695</td>\n",
       "      <td>-19155.237096</td>\n",
       "    </tr>\n",
       "    <tr>\n",
       "      <th>4998</th>\n",
       "      <td>27094.728260</td>\n",
       "      <td>-34835.657023</td>\n",
       "      <td>5895.199373</td>\n",
       "      <td>-18477.699331</td>\n",
       "    </tr>\n",
       "    <tr>\n",
       "      <th>4999</th>\n",
       "      <td>33640.498078</td>\n",
       "      <td>-43250.611242</td>\n",
       "      <td>7319.754406</td>\n",
       "      <td>-22941.494965</td>\n",
       "    </tr>\n",
       "  </tbody>\n",
       "</table>\n",
       "<p>4847 rows × 4 columns</p>\n",
       "</div>"
      ],
      "text/plain": [
       "                 0             1            2             3\n",
       "0     41095.805514 -52845.647123  8928.365491 -28027.924231\n",
       "1     31480.637617 -40503.313322  6810.023450 -21474.960903\n",
       "2     17396.120555 -22386.952224  3756.230193 -11868.156335\n",
       "3     34554.758465 -44415.307224  7534.577624 -23562.100420\n",
       "4     21622.850901 -27814.247228  4684.637439 -14749.381058\n",
       "...            ...           ...          ...           ...\n",
       "4995  29579.815853 -38035.828396  6429.219386 -20173.246360\n",
       "4996  43419.048350 -55819.335900  9452.787643 -29608.853678\n",
       "4997  28090.387344 -36110.888656  6118.854695 -19155.237096\n",
       "4998  27094.728260 -34835.657023  5895.199373 -18477.699331\n",
       "4999  33640.498078 -43250.611242  7319.754406 -22941.494965\n",
       "\n",
       "[4847 rows x 4 columns]"
      ]
     },
     "execution_count": 22,
     "metadata": {},
     "output_type": "execute_result"
    }
   ],
   "source": [
    "encode(features)"
   ]
  },
  {
   "attachments": {},
   "cell_type": "markdown",
   "metadata": {},
   "source": [
    "Для расшифровки данных напишем алгоритм - функцию дешифрования, принимающая на вход зашифрованную матрицу encoded_features и возвращающая исходную features:"
   ]
  },
  {
   "cell_type": "code",
   "execution_count": 23,
   "metadata": {},
   "outputs": [],
   "source": [
    "def decode(encoded_features):\n",
    "    decoded_features = round(abs(encoded_features.dot(np.linalg.inv(r_matrix))))\n",
    "    for i in decoded_features.iloc[:, [0, 3]]:\n",
    "        decoded_features[i] = decoded_features[i].astype(int)\n",
    "    decoded_features.columns = features.columns\n",
    "    return decoded_features"
   ]
  },
  {
   "cell_type": "code",
   "execution_count": 24,
   "metadata": {},
   "outputs": [
    {
     "data": {
      "text/html": [
       "<div>\n",
       "<style scoped>\n",
       "    .dataframe tbody tr th:only-of-type {\n",
       "        vertical-align: middle;\n",
       "    }\n",
       "\n",
       "    .dataframe tbody tr th {\n",
       "        vertical-align: top;\n",
       "    }\n",
       "\n",
       "    .dataframe thead th {\n",
       "        text-align: right;\n",
       "    }\n",
       "</style>\n",
       "<table border=\"1\" class=\"dataframe\">\n",
       "  <thead>\n",
       "    <tr style=\"text-align: right;\">\n",
       "      <th></th>\n",
       "      <th>Пол</th>\n",
       "      <th>Возраст</th>\n",
       "      <th>Зарплата</th>\n",
       "      <th>Члены семьи</th>\n",
       "    </tr>\n",
       "  </thead>\n",
       "  <tbody>\n",
       "    <tr>\n",
       "      <th>0</th>\n",
       "      <td>1</td>\n",
       "      <td>41.0</td>\n",
       "      <td>49600.0</td>\n",
       "      <td>1</td>\n",
       "    </tr>\n",
       "    <tr>\n",
       "      <th>1</th>\n",
       "      <td>0</td>\n",
       "      <td>46.0</td>\n",
       "      <td>38000.0</td>\n",
       "      <td>1</td>\n",
       "    </tr>\n",
       "    <tr>\n",
       "      <th>2</th>\n",
       "      <td>0</td>\n",
       "      <td>29.0</td>\n",
       "      <td>21000.0</td>\n",
       "      <td>0</td>\n",
       "    </tr>\n",
       "    <tr>\n",
       "      <th>3</th>\n",
       "      <td>0</td>\n",
       "      <td>21.0</td>\n",
       "      <td>41700.0</td>\n",
       "      <td>2</td>\n",
       "    </tr>\n",
       "    <tr>\n",
       "      <th>4</th>\n",
       "      <td>1</td>\n",
       "      <td>28.0</td>\n",
       "      <td>26100.0</td>\n",
       "      <td>0</td>\n",
       "    </tr>\n",
       "    <tr>\n",
       "      <th>...</th>\n",
       "      <td>...</td>\n",
       "      <td>...</td>\n",
       "      <td>...</td>\n",
       "      <td>...</td>\n",
       "    </tr>\n",
       "    <tr>\n",
       "      <th>4995</th>\n",
       "      <td>0</td>\n",
       "      <td>28.0</td>\n",
       "      <td>35700.0</td>\n",
       "      <td>2</td>\n",
       "    </tr>\n",
       "    <tr>\n",
       "      <th>4996</th>\n",
       "      <td>0</td>\n",
       "      <td>34.0</td>\n",
       "      <td>52400.0</td>\n",
       "      <td>1</td>\n",
       "    </tr>\n",
       "    <tr>\n",
       "      <th>4997</th>\n",
       "      <td>0</td>\n",
       "      <td>20.0</td>\n",
       "      <td>33900.0</td>\n",
       "      <td>2</td>\n",
       "    </tr>\n",
       "    <tr>\n",
       "      <th>4998</th>\n",
       "      <td>1</td>\n",
       "      <td>22.0</td>\n",
       "      <td>32700.0</td>\n",
       "      <td>3</td>\n",
       "    </tr>\n",
       "    <tr>\n",
       "      <th>4999</th>\n",
       "      <td>1</td>\n",
       "      <td>28.0</td>\n",
       "      <td>40600.0</td>\n",
       "      <td>1</td>\n",
       "    </tr>\n",
       "  </tbody>\n",
       "</table>\n",
       "<p>4847 rows × 4 columns</p>\n",
       "</div>"
      ],
      "text/plain": [
       "      Пол  Возраст  Зарплата  Члены семьи\n",
       "0       1     41.0   49600.0            1\n",
       "1       0     46.0   38000.0            1\n",
       "2       0     29.0   21000.0            0\n",
       "3       0     21.0   41700.0            2\n",
       "4       1     28.0   26100.0            0\n",
       "...   ...      ...       ...          ...\n",
       "4995    0     28.0   35700.0            2\n",
       "4996    0     34.0   52400.0            1\n",
       "4997    0     20.0   33900.0            2\n",
       "4998    1     22.0   32700.0            3\n",
       "4999    1     28.0   40600.0            1\n",
       "\n",
       "[4847 rows x 4 columns]"
      ]
     },
     "execution_count": 24,
     "metadata": {},
     "output_type": "execute_result"
    }
   ],
   "source": [
    "decode(hidden_features)"
   ]
  },
  {
   "cell_type": "code",
   "execution_count": 25,
   "metadata": {},
   "outputs": [
    {
     "data": {
      "text/html": [
       "<div>\n",
       "<style scoped>\n",
       "    .dataframe tbody tr th:only-of-type {\n",
       "        vertical-align: middle;\n",
       "    }\n",
       "\n",
       "    .dataframe tbody tr th {\n",
       "        vertical-align: top;\n",
       "    }\n",
       "\n",
       "    .dataframe thead th {\n",
       "        text-align: right;\n",
       "    }\n",
       "</style>\n",
       "<table border=\"1\" class=\"dataframe\">\n",
       "  <thead>\n",
       "    <tr style=\"text-align: right;\">\n",
       "      <th></th>\n",
       "      <th>Пол</th>\n",
       "      <th>Возраст</th>\n",
       "      <th>Зарплата</th>\n",
       "      <th>Члены семьи</th>\n",
       "    </tr>\n",
       "  </thead>\n",
       "  <tbody>\n",
       "    <tr>\n",
       "      <th>0</th>\n",
       "      <td>1</td>\n",
       "      <td>41</td>\n",
       "      <td>49600.0</td>\n",
       "      <td>1</td>\n",
       "    </tr>\n",
       "    <tr>\n",
       "      <th>1</th>\n",
       "      <td>0</td>\n",
       "      <td>46</td>\n",
       "      <td>38000.0</td>\n",
       "      <td>1</td>\n",
       "    </tr>\n",
       "    <tr>\n",
       "      <th>2</th>\n",
       "      <td>0</td>\n",
       "      <td>29</td>\n",
       "      <td>21000.0</td>\n",
       "      <td>0</td>\n",
       "    </tr>\n",
       "    <tr>\n",
       "      <th>3</th>\n",
       "      <td>0</td>\n",
       "      <td>21</td>\n",
       "      <td>41700.0</td>\n",
       "      <td>2</td>\n",
       "    </tr>\n",
       "    <tr>\n",
       "      <th>4</th>\n",
       "      <td>1</td>\n",
       "      <td>28</td>\n",
       "      <td>26100.0</td>\n",
       "      <td>0</td>\n",
       "    </tr>\n",
       "    <tr>\n",
       "      <th>...</th>\n",
       "      <td>...</td>\n",
       "      <td>...</td>\n",
       "      <td>...</td>\n",
       "      <td>...</td>\n",
       "    </tr>\n",
       "    <tr>\n",
       "      <th>4995</th>\n",
       "      <td>0</td>\n",
       "      <td>28</td>\n",
       "      <td>35700.0</td>\n",
       "      <td>2</td>\n",
       "    </tr>\n",
       "    <tr>\n",
       "      <th>4996</th>\n",
       "      <td>0</td>\n",
       "      <td>34</td>\n",
       "      <td>52400.0</td>\n",
       "      <td>1</td>\n",
       "    </tr>\n",
       "    <tr>\n",
       "      <th>4997</th>\n",
       "      <td>0</td>\n",
       "      <td>20</td>\n",
       "      <td>33900.0</td>\n",
       "      <td>2</td>\n",
       "    </tr>\n",
       "    <tr>\n",
       "      <th>4998</th>\n",
       "      <td>1</td>\n",
       "      <td>22</td>\n",
       "      <td>32700.0</td>\n",
       "      <td>3</td>\n",
       "    </tr>\n",
       "    <tr>\n",
       "      <th>4999</th>\n",
       "      <td>1</td>\n",
       "      <td>28</td>\n",
       "      <td>40600.0</td>\n",
       "      <td>1</td>\n",
       "    </tr>\n",
       "  </tbody>\n",
       "</table>\n",
       "<p>4847 rows × 4 columns</p>\n",
       "</div>"
      ],
      "text/plain": [
       "      Пол  Возраст  Зарплата  Члены семьи\n",
       "0       1       41   49600.0            1\n",
       "1       0       46   38000.0            1\n",
       "2       0       29   21000.0            0\n",
       "3       0       21   41700.0            2\n",
       "4       1       28   26100.0            0\n",
       "...   ...      ...       ...          ...\n",
       "4995    0       28   35700.0            2\n",
       "4996    0       34   52400.0            1\n",
       "4997    0       20   33900.0            2\n",
       "4998    1       22   32700.0            3\n",
       "4999    1       28   40600.0            1\n",
       "\n",
       "[4847 rows x 4 columns]"
      ]
     },
     "execution_count": 25,
     "metadata": {},
     "output_type": "execute_result"
    }
   ],
   "source": [
    "features"
   ]
  },
  {
   "attachments": {},
   "cell_type": "markdown",
   "metadata": {},
   "source": [
    "Данные полностью восстановлены после кодирования\n",
    "\n",
    "Докажем, почему качество линейной регрессии не поменяется. Предсказания высчитываются по формуле:\n",
    "\n",
    "$$ a = Xw $$\n",
    "\n",
    "Т.к. новая матрица признаков получается умножением исходной Х\n",
    " на случайную (обозначим М\n",
    "), то формула применит вид:\n",
    "\n",
    "$$ a' = XMw' $$\n",
    "\n",
    "Подставив вычисленное значение весов \n",
    " получаем:\n",
    "\n",
    " $$ a' = XMM^{-1}w $$\n",
    "\n",
    " это еденичная матрица \n",
    ", т.е. можно сократить:\n",
    "\n",
    "$$ a' = Xw = a $$\n",
    "\n",
    "Предсказания по исходной и преобразованной матрицам равны."
   ]
  },
  {
   "attachments": {},
   "cell_type": "markdown",
   "metadata": {},
   "source": [
    "`Вывод:`\n",
    "Предложенный алгоритм преобразования данных справляется для решения задачи.\n",
    "\n",
    "Качество линейной регрессии не меняется, т.к. новые признаки равны $ XM $\n",
    ", а новые веса $ w'=M^{-1} w $\n",
    ", поэтому $ a'= Xw = a $\n",
    ". Новые признаки выражаются через исходную, умножив на случайную матрицу, соответственно и новые коэффициенты весов. Но так как оба множителя в произведении выражают исходные через определенные коэффициенты, то качество линейной регресии не измениться."
   ]
  },
  {
   "attachments": {},
   "cell_type": "markdown",
   "metadata": {},
   "source": [
    "## Проверка алгоритма"
   ]
  },
  {
   "attachments": {},
   "cell_type": "markdown",
   "metadata": {},
   "source": [
    "Проверим, что качество линейной регрессии из sklearn не отличается до и после преобразования. Применим метрику R2.\n",
    "\n",
    "Создадим модель sklearn_model и обучим на 2 обучающих матрицах:\n",
    "\n",
    "исходной features\n",
    "кодированной hidden_features"
   ]
  },
  {
   "cell_type": "code",
   "execution_count": 26,
   "metadata": {},
   "outputs": [
    {
     "data": {
      "text/plain": [
       "0.4302010044852066"
      ]
     },
     "execution_count": 26,
     "metadata": {},
     "output_type": "execute_result"
    }
   ],
   "source": [
    "sklearn_model = LinearRegression().fit(features, target)\n",
    "pred = sklearn_model.predict(features)\n",
    "r2_score(target, pred)"
   ]
  },
  {
   "cell_type": "code",
   "execution_count": 27,
   "metadata": {},
   "outputs": [
    {
     "data": {
      "text/plain": [
       "0.4302010044852105"
      ]
     },
     "execution_count": 27,
     "metadata": {},
     "output_type": "execute_result"
    }
   ],
   "source": [
    "sklearn_model.fit(hidden_features, target)\n",
    "pred = sklearn_model.predict(hidden_features)\n",
    "r2_score(target, pred)"
   ]
  },
  {
   "attachments": {},
   "cell_type": "markdown",
   "metadata": {},
   "source": [
    "`Вывод:`\n",
    "Качество метрики R2 для 2 матриц признаков: до преобразования и после равны, а также равны R2 по написанному класс линейной регресии LinearReg, что говорит о ее правильном написании в сравнении с моделью из sklearn."
   ]
  },
  {
   "attachments": {},
   "cell_type": "markdown",
   "metadata": {},
   "source": [
    "`Общий вывод:`\n",
    "Проведенные исследования позволили сделать следующие выводы:\n",
    "\n",
    "- Умножив признаки на обратимую матрицу, качество линейной регрессии не меняется. Это обусловленно тем, что веса изменились под новые значения, т.е. признаки исходной матрицы и преобразованной выражаются через коэффициенты (веса w), поэтому качество линейной регресии не изменилось\n",
    "\n",
    "- Предложенный алгоритм преобразования данных справляется для решения задачи шифрования признаков.\n",
    "\n",
    "- Зашифрованные данные так же пригодны для предсказаний с помощью линейной регресии\n",
    "\n",
    "- Алгоритм позволяет дешифровать данные в любой момент\n",
    "\n",
    "- Случайность реализованная в алгоритме каждый раз меняется при запуске, что делает зашифрованные данные каждый раз новыми. Такой вид исходных данных становиться очень сложно восстановить без кода программы.\n",
    "\n",
    "- Реализованный алгоритм полностью удовлетворяет поставленной задаче Защиты персональных данных клиентов страховой компании"
   ]
  }
 ],
 "metadata": {
  "ExecuteTimeLog": [
   {
    "duration": 2994,
    "start_time": "2023-04-10T06:52:43.809Z"
   },
   {
    "duration": 99,
    "start_time": "2023-04-10T06:52:46.806Z"
   },
   {
    "duration": 4,
    "start_time": "2023-04-10T06:52:46.907Z"
   },
   {
    "duration": 87,
    "start_time": "2023-04-10T06:52:46.913Z"
   },
   {
    "duration": 4,
    "start_time": "2023-04-10T06:52:47.003Z"
   },
   {
    "duration": 39,
    "start_time": "2023-04-10T06:52:47.009Z"
   },
   {
    "duration": 19,
    "start_time": "2023-04-10T06:52:47.050Z"
   },
   {
    "duration": 35,
    "start_time": "2023-04-10T06:52:47.070Z"
   },
   {
    "duration": 21,
    "start_time": "2023-04-10T06:52:47.108Z"
   },
   {
    "duration": 218,
    "start_time": "2023-04-10T06:52:47.131Z"
   },
   {
    "duration": 498,
    "start_time": "2023-04-10T06:52:47.351Z"
   },
   {
    "duration": 499,
    "start_time": "2023-04-10T06:52:47.851Z"
   },
   {
    "duration": 5,
    "start_time": "2023-04-10T06:52:48.352Z"
   },
   {
    "duration": 5,
    "start_time": "2023-04-10T06:52:48.360Z"
   },
   {
    "duration": 128,
    "start_time": "2023-04-10T06:52:48.367Z"
   },
   {
    "duration": 260,
    "start_time": "2023-04-10T06:52:48.498Z"
   },
   {
    "duration": 5,
    "start_time": "2023-04-10T06:52:48.760Z"
   },
   {
    "duration": 37,
    "start_time": "2023-04-10T06:52:48.783Z"
   },
   {
    "duration": 74,
    "start_time": "2023-04-10T06:52:48.822Z"
   },
   {
    "duration": 196,
    "start_time": "2023-04-10T06:52:48.898Z"
   },
   {
    "duration": 12,
    "start_time": "2023-04-10T06:52:49.105Z"
   },
   {
    "duration": 72,
    "start_time": "2023-04-10T06:52:49.119Z"
   },
   {
    "duration": 40,
    "start_time": "2023-04-10T06:52:49.192Z"
   },
   {
    "duration": 51,
    "start_time": "2023-04-10T06:52:49.234Z"
   },
   {
    "duration": 137,
    "start_time": "2023-04-10T06:52:49.286Z"
   },
   {
    "duration": 59,
    "start_time": "2023-04-10T06:52:49.425Z"
   },
   {
    "duration": 132,
    "start_time": "2023-04-10T06:52:49.486Z"
   }
  ],
  "kernelspec": {
   "display_name": "Python 3 (ipykernel)",
   "language": "python",
   "name": "python3"
  },
  "language_info": {
   "codemirror_mode": {
    "name": "ipython",
    "version": 3
   },
   "file_extension": ".py",
   "mimetype": "text/x-python",
   "name": "python",
   "nbconvert_exporter": "python",
   "pygments_lexer": "ipython3",
   "version": "3.9.5"
  },
  "toc": {
   "base_numbering": 1,
   "nav_menu": {},
   "number_sections": true,
   "sideBar": true,
   "skip_h1_title": true,
   "title_cell": "Содержание",
   "title_sidebar": "Contents",
   "toc_cell": true,
   "toc_position": {},
   "toc_section_display": true,
   "toc_window_display": false
  }
 },
 "nbformat": 4,
 "nbformat_minor": 2
}
