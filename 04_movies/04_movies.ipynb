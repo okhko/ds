{
 "cells": [
  {
   "cell_type": "markdown",
   "metadata": {},
   "source": [
    "**Table of contents**<a id='toc0_'></a>    \n",
    "- 1.1. [Исследование данных о российском кинопрокате](#toc1_1_)    \n",
    "    - 1.1.1. [Шаг 1. Откройте файлы с данными и объедините их в один датафрейм.](#toc1_1_1_)    \n",
    "    - 1.1.2. [Шаг 2. Предобработка данных](#toc1_1_2_)    \n",
    "      - 1.1.2.1. [Шаг 2.1. Проверьте типы данных](#toc1_1_2_1_)    \n",
    "      - 1.1.2.2. [Шаг 2.2. Изучите пропуски в датафрейме](#toc1_1_2_2_)    \n",
    "      - 1.1.2.3. [Шаг 2.3. Изучите дубликаты в датафрейме](#toc1_1_2_3_)    \n",
    "      - 1.1.2.4. [Шаг 2.4. Изучите категориальные значения](#toc1_1_2_4_)    \n",
    "      - 1.1.2.5. [Шаг 2.5. Проверьте количественные значения](#toc1_1_2_5_)    \n",
    "      - 1.1.2.6. [Шаг 2.6. Добавьте новые столбцы](#toc1_1_2_6_)    \n",
    "\n",
    "<!-- vscode-jupyter-toc-config\n",
    "\tnumbering=true\n",
    "\tanchor=true\n",
    "\tflat=false\n",
    "\tminLevel=1\n",
    "\tmaxLevel=6\n",
    "\t/vscode-jupyter-toc-config -->\n",
    "<!-- THIS CELL WILL BE REPLACED ON TOC UPDATE. DO NOT WRITE YOUR TEXT IN THIS CELL -->"
   ]
  },
  {
   "cell_type": "markdown",
   "metadata": {},
   "source": [
    "## 1.1. <a id='toc1_1_'></a>[Исследование данных о российском кинопрокате](#toc0_)\n",
    "\n"
   ]
  },
  {
   "cell_type": "markdown",
   "metadata": {},
   "source": [
    "**`Описание проекта`**\n",
    "\n",
    "Цель этого проекта, выявить `текущие тренды` на рынке российского кинопроката, уделяя особое внимание фильмам, которые получили гос. поддержку. \n",
    "\n",
    "Основная задача, это выявить, насколько фильмы пользующиеся гос. поддержкой `интересны зрителю`."
   ]
  },
  {
   "cell_type": "markdown",
   "metadata": {},
   "source": [
    "### 1.1.1. <a id='toc1_1_1_'></a>[Шаг 1. Откройте файлы с данными и объедините их в один датафрейм.](#toc0_)\n",
    "\n",
    "Объедините данные таким образом, чтобы все объекты из датасета `mkrf_movies` обязательно вошли в получившийся датафрейм. \n",
    "\n",
    "<div id=\"accordion\">\n",
    "    <div class=\"card\">\n",
    "        <div class=\"card-header\" id=\"headingThree\">\n",
    "            <button class=\"btn btn-link collapsed\" data-toggle=\"collapse\" data-target=\"#collapseHint_0\" aria-expanded=\"false\" aria-controls=\"collapseHint_0\">Подсказка</button>\n",
    "        </div>\n",
    "        <div id=\"collapseHint_0\" class=\"collapse\" aria-labelledby=\"headingThree\" data-parent=\"#accordion\">\n",
    "            <div class=\"card-body\">\n",
    "Обратите внимание на тип данных столбца, по которому будете соединять датафреймы. Тип данных этих столбцов должен быть одинаковым в обоих датафреймах.\n",
    "            </div>\n",
    "        </div>\n",
    "    </div>\n",
    "</div>"
   ]
  },
  {
   "cell_type": "code",
   "execution_count": 1,
   "metadata": {},
   "outputs": [
    {
     "name": "stdout",
     "output_type": "stream",
     "text": [
      "Requirement already satisfied: missingno in c:\\users\\asus\\anaconda3\\lib\\site-packages (0.5.1)\n",
      "Requirement already satisfied: seaborn in c:\\users\\asus\\anaconda3\\lib\\site-packages (from missingno) (0.11.2)\n",
      "Requirement already satisfied: matplotlib in c:\\users\\asus\\anaconda3\\lib\\site-packages (from missingno) (3.5.2)\n",
      "Requirement already satisfied: scipy in c:\\users\\asus\\anaconda3\\lib\\site-packages (from missingno) (1.7.3)\n",
      "Requirement already satisfied: numpy in c:\\users\\asus\\anaconda3\\lib\\site-packages (from missingno) (1.21.5)\n",
      "Requirement already satisfied: pillow>=6.2.0 in c:\\users\\asus\\anaconda3\\lib\\site-packages (from matplotlib->missingno) (9.2.0)\n",
      "Requirement already satisfied: fonttools>=4.22.0 in c:\\users\\asus\\anaconda3\\lib\\site-packages (from matplotlib->missingno) (4.25.0)\n",
      "Requirement already satisfied: pyparsing>=2.2.1 in c:\\users\\asus\\anaconda3\\lib\\site-packages (from matplotlib->missingno) (3.0.9)\n",
      "Requirement already satisfied: kiwisolver>=1.0.1 in c:\\users\\asus\\anaconda3\\lib\\site-packages (from matplotlib->missingno) (1.4.2)\n",
      "Requirement already satisfied: python-dateutil>=2.7 in c:\\users\\asus\\anaconda3\\lib\\site-packages (from matplotlib->missingno) (2.8.2)\n",
      "Requirement already satisfied: cycler>=0.10 in c:\\users\\asus\\anaconda3\\lib\\site-packages (from matplotlib->missingno) (0.11.0)\n",
      "Requirement already satisfied: packaging>=20.0 in c:\\users\\asus\\anaconda3\\lib\\site-packages (from matplotlib->missingno) (21.3)\n",
      "Requirement already satisfied: pandas>=0.23 in c:\\users\\asus\\anaconda3\\lib\\site-packages (from seaborn->missingno) (1.4.3)\n",
      "Requirement already satisfied: pytz>=2020.1 in c:\\users\\asus\\anaconda3\\lib\\site-packages (from pandas>=0.23->seaborn->missingno) (2022.1)\n",
      "Requirement already satisfied: six>=1.5 in c:\\users\\asus\\anaconda3\\lib\\site-packages (from python-dateutil>=2.7->matplotlib->missingno) (1.16.0)\n"
     ]
    }
   ],
   "source": [
    "!pip install missingno"
   ]
  },
  {
   "cell_type": "code",
   "execution_count": 2,
   "metadata": {
    "id": "dw87FlzMgFyM"
   },
   "outputs": [],
   "source": [
    "# импортируем необходимые библиотеки\n",
    "\n",
    "import pandas as pd\n",
    "import numpy as np\n",
    "import seaborn as sns\n",
    "import matplotlib.pyplot as plt\n",
    "import missingno as msno"
   ]
  },
  {
   "cell_type": "code",
   "execution_count": null,
   "metadata": {},
   "outputs": [],
   "source": [
    "# загружаем файл в датасет используя как локальный так и учебный путь к файлу\n",
    "\n",
    "try:\n",
    "    movies = pd.read_csv('mkrf_movies.csv')\n",
    "except:\n",
    "    movies = pd.read_csv('/datasets/mkrf_movies.csv')\n",
    "    "
   ]
  },
  {
   "cell_type": "code",
   "execution_count": null,
   "metadata": {},
   "outputs": [],
   "source": [
    "# загружаем файл в датасет используя как локальный так и учебный путь к файлу\n",
    "\n",
    "try:\n",
    "    shows = pd.read_csv('mkrf_shows.csv')\n",
    "except:\n",
    "    shows = pd.read_csv('/datasets/mkrf_shows.csv')"
   ]
  },
  {
   "cell_type": "markdown",
   "metadata": {},
   "source": [
    "Выводим общую информацию о двух таблицах, обращаем внимание на тип даты и в частности на тип ключевой колоки `'puNumber'` которая нам понадобится для объединения таблиц методом `merge()`. "
   ]
  },
  {
   "cell_type": "code",
   "execution_count": null,
   "metadata": {},
   "outputs": [
    {
     "name": "stdout",
     "output_type": "stream",
     "text": [
      "<class 'pandas.core.frame.DataFrame'>\n",
      "RangeIndex: 7486 entries, 0 to 7485\n",
      "Data columns (total 15 columns):\n",
      " #   Column                 Non-Null Count  Dtype  \n",
      "---  ------                 --------------  -----  \n",
      " 0   title                  7486 non-null   object \n",
      " 1   puNumber               7486 non-null   object \n",
      " 2   show_start_date        7486 non-null   object \n",
      " 3   type                   7486 non-null   object \n",
      " 4   film_studio            7468 non-null   object \n",
      " 5   production_country     7484 non-null   object \n",
      " 6   director               7477 non-null   object \n",
      " 7   producer               6918 non-null   object \n",
      " 8   age_restriction        7486 non-null   object \n",
      " 9   refundable_support     332 non-null    float64\n",
      " 10  nonrefundable_support  332 non-null    float64\n",
      " 11  budget                 332 non-null    float64\n",
      " 12  financing_source       332 non-null    object \n",
      " 13  ratings                6519 non-null   object \n",
      " 14  genres                 6510 non-null   object \n",
      "dtypes: float64(3), object(12)\n",
      "memory usage: 877.4+ KB\n"
     ]
    }
   ],
   "source": [
    "# выводим общую информацию по обеим таблицам. Обращаем внимание на колонку 'puNumber'\n",
    "\n",
    "movies.info()"
   ]
  },
  {
   "cell_type": "code",
   "execution_count": null,
   "metadata": {},
   "outputs": [
    {
     "name": "stdout",
     "output_type": "stream",
     "text": [
      "<class 'pandas.core.frame.DataFrame'>\n",
      "RangeIndex: 3158 entries, 0 to 3157\n",
      "Data columns (total 2 columns):\n",
      " #   Column      Non-Null Count  Dtype  \n",
      "---  ------      --------------  -----  \n",
      " 0   puNumber    3158 non-null   int64  \n",
      " 1   box_office  3158 non-null   float64\n",
      "dtypes: float64(1), int64(1)\n",
      "memory usage: 49.5 KB\n"
     ]
    }
   ],
   "source": [
    "shows.info()"
   ]
  },
  {
   "cell_type": "markdown",
   "metadata": {},
   "source": [
    "Мы видим что величины в колонке 'puNumber' в разных таблицах находятся в разных форматах: object и int64. Попробуем конвертировать типы данных для последущего объединения таблиц методом `merge()`"
   ]
  },
  {
   "cell_type": "code",
   "execution_count": null,
   "metadata": {},
   "outputs": [
    {
     "name": "stdout",
     "output_type": "stream",
     "text": [
      "Конвертация невозможна, присутствуют неконвертируемые значения\n"
     ]
    },
    {
     "data": {
      "text/plain": [
       "title                     object\n",
       "puNumber                  object\n",
       "show_start_date           object\n",
       "type                      object\n",
       "film_studio               object\n",
       "production_country        object\n",
       "director                  object\n",
       "producer                  object\n",
       "age_restriction           object\n",
       "refundable_support       float64\n",
       "nonrefundable_support    float64\n",
       "budget                   float64\n",
       "financing_source          object\n",
       "ratings                   object\n",
       "genres                    object\n",
       "dtype: object"
      ]
     },
     "execution_count": 7,
     "metadata": {},
     "output_type": "execute_result"
    }
   ],
   "source": [
    "# пробуем применить конструкцию try-except\n",
    "\n",
    "try:\n",
    "    movies['puNumber'] = movies['puNumber'].astype('int64')\n",
    "except:\n",
    "    print('Конвертация невозможна, присутствуют неконвертируемые значения')\n",
    "    \n",
    "movies.dtypes"
   ]
  },
  {
   "cell_type": "markdown",
   "metadata": {},
   "source": [
    "Тип не изменился.\n",
    "\n",
    "Если не применять конструкцию try-except то мы увидим сообщение об ошибке, в котором доводится до нашего сведения наличие строки 'нет' в колонке, эта буквенная строка по понятным причинам не может быть конвертирована в числовое значение. \n",
    "\n",
    "Для успешной смены типа, нам необходимо найти строку со строчным значением 'нет' и удалить её."
   ]
  },
  {
   "cell_type": "code",
   "execution_count": null,
   "metadata": {},
   "outputs": [
    {
     "data": {
      "text/plain": [
       "(7485, 15)"
      ]
     },
     "execution_count": 8,
     "metadata": {},
     "output_type": "execute_result"
    }
   ],
   "source": [
    "# находим строку где в клонке 'puNumber' вмместо цифр присутствует значение 'нет'.\n",
    "\n",
    "movies = movies[movies['puNumber'] != 'нет']\n",
    "\n",
    "# считаем количество колонок в таблице чтобы подтвердить факт удаления строки. Было 7486 - стало 7485. Строка стёрта.\n",
    "movies.shape"
   ]
  },
  {
   "cell_type": "markdown",
   "metadata": {},
   "source": [
    "Конвертируем 'puNumber' из `object`  в `int64`"
   ]
  },
  {
   "cell_type": "code",
   "execution_count": null,
   "metadata": {},
   "outputs": [
    {
     "data": {
      "text/plain": [
       "dtype('int64')"
      ]
     },
     "execution_count": 9,
     "metadata": {},
     "output_type": "execute_result"
    }
   ],
   "source": [
    "# конвертируем object -->> int64\n",
    "\n",
    "movies['puNumber'] = movies['puNumber'].astype('int64')\n",
    "\n",
    "# проверяем факт смены типа. Тип сменён на int64\n",
    "\n",
    "\n",
    "movies['puNumber'].dtype"
   ]
  },
  {
   "cell_type": "markdown",
   "metadata": {},
   "source": [
    "Объединяем обе таблицы по ключевой колонке `'puNumber'`"
   ]
  },
  {
   "cell_type": "code",
   "execution_count": null,
   "metadata": {},
   "outputs": [],
   "source": [
    "# присоединяем колонку data2 к колонке data1 и сохраняем объединённую таблицу в df\n",
    "\n",
    "df = movies.merge(shows, on='puNumber', how='left')"
   ]
  },
  {
   "cell_type": "code",
   "execution_count": null,
   "metadata": {},
   "outputs": [
    {
     "name": "stdout",
     "output_type": "stream",
     "text": [
      "<class 'pandas.core.frame.DataFrame'>\n",
      "Int64Index: 7485 entries, 0 to 7484\n",
      "Data columns (total 16 columns):\n",
      " #   Column                 Non-Null Count  Dtype  \n",
      "---  ------                 --------------  -----  \n",
      " 0   title                  7485 non-null   object \n",
      " 1   puNumber               7485 non-null   int64  \n",
      " 2   show_start_date        7485 non-null   object \n",
      " 3   type                   7485 non-null   object \n",
      " 4   film_studio            7467 non-null   object \n",
      " 5   production_country     7483 non-null   object \n",
      " 6   director               7476 non-null   object \n",
      " 7   producer               6917 non-null   object \n",
      " 8   age_restriction        7485 non-null   object \n",
      " 9   refundable_support     332 non-null    float64\n",
      " 10  nonrefundable_support  332 non-null    float64\n",
      " 11  budget                 332 non-null    float64\n",
      " 12  financing_source       332 non-null    object \n",
      " 13  ratings                6519 non-null   object \n",
      " 14  genres                 6510 non-null   object \n",
      " 15  box_office             3158 non-null   float64\n",
      "dtypes: float64(4), int64(1), object(11)\n",
      "memory usage: 994.1+ KB\n"
     ]
    },
    {
     "data": {
      "text/html": [
       "<div>\n",
       "<style scoped>\n",
       "    .dataframe tbody tr th:only-of-type {\n",
       "        vertical-align: middle;\n",
       "    }\n",
       "\n",
       "    .dataframe tbody tr th {\n",
       "        vertical-align: top;\n",
       "    }\n",
       "\n",
       "    .dataframe thead th {\n",
       "        text-align: right;\n",
       "    }\n",
       "</style>\n",
       "<table border=\"1\" class=\"dataframe\">\n",
       "  <thead>\n",
       "    <tr style=\"text-align: right;\">\n",
       "      <th></th>\n",
       "      <th>title</th>\n",
       "      <th>puNumber</th>\n",
       "      <th>show_start_date</th>\n",
       "      <th>type</th>\n",
       "      <th>film_studio</th>\n",
       "      <th>production_country</th>\n",
       "      <th>director</th>\n",
       "      <th>producer</th>\n",
       "      <th>age_restriction</th>\n",
       "      <th>refundable_support</th>\n",
       "      <th>nonrefundable_support</th>\n",
       "      <th>budget</th>\n",
       "      <th>financing_source</th>\n",
       "      <th>ratings</th>\n",
       "      <th>genres</th>\n",
       "      <th>box_office</th>\n",
       "    </tr>\n",
       "  </thead>\n",
       "  <tbody>\n",
       "    <tr>\n",
       "      <th>0</th>\n",
       "      <td>Открытый простор</td>\n",
       "      <td>221048915</td>\n",
       "      <td>2015-11-27T12:00:00.000Z</td>\n",
       "      <td>Художественный</td>\n",
       "      <td>Тачстоун Пикчерз, Кобальт Пикчерз, Бикон Пикче...</td>\n",
       "      <td>США</td>\n",
       "      <td>Кевин Костнер</td>\n",
       "      <td>Дэвид Валдес, Кевин Костнер, Джейк Эбертс</td>\n",
       "      <td>«18+» - запрещено для детей</td>\n",
       "      <td>NaN</td>\n",
       "      <td>NaN</td>\n",
       "      <td>NaN</td>\n",
       "      <td>NaN</td>\n",
       "      <td>7.2</td>\n",
       "      <td>боевик,драма,мелодрама</td>\n",
       "      <td>NaN</td>\n",
       "    </tr>\n",
       "    <tr>\n",
       "      <th>1</th>\n",
       "      <td>Особо важное задание</td>\n",
       "      <td>111013716</td>\n",
       "      <td>2016-09-13T12:00:00.000Z</td>\n",
       "      <td>Художественный</td>\n",
       "      <td>Киностудия \"Мосфильм\"</td>\n",
       "      <td>СССР</td>\n",
       "      <td>Е.Матвеев</td>\n",
       "      <td>NaN</td>\n",
       "      <td>«6+» - для детей старше 6 лет</td>\n",
       "      <td>NaN</td>\n",
       "      <td>NaN</td>\n",
       "      <td>NaN</td>\n",
       "      <td>NaN</td>\n",
       "      <td>6.6</td>\n",
       "      <td>драма,военный</td>\n",
       "      <td>NaN</td>\n",
       "    </tr>\n",
       "    <tr>\n",
       "      <th>2</th>\n",
       "      <td>Особо опасен</td>\n",
       "      <td>221038416</td>\n",
       "      <td>2016-10-10T12:00:00.000Z</td>\n",
       "      <td>Художественный</td>\n",
       "      <td>Юниверсал Пикчерз, Кикстарт Продакшнз, Марк Пл...</td>\n",
       "      <td>США</td>\n",
       "      <td>Тимур Бекмамбетов</td>\n",
       "      <td>Джим Лемли, Джейсон Нетер, Марк Е.Платт, Яйн Смит</td>\n",
       "      <td>«18+» - запрещено для детей</td>\n",
       "      <td>NaN</td>\n",
       "      <td>NaN</td>\n",
       "      <td>NaN</td>\n",
       "      <td>NaN</td>\n",
       "      <td>6.8</td>\n",
       "      <td>фантастика,боевик,триллер</td>\n",
       "      <td>NaN</td>\n",
       "    </tr>\n",
       "    <tr>\n",
       "      <th>3</th>\n",
       "      <td>Особо опасен</td>\n",
       "      <td>221026916</td>\n",
       "      <td>2016-06-10T12:00:00.000Z</td>\n",
       "      <td>Художественный</td>\n",
       "      <td>Юниверсал Пикчерз, Кикстарт Продакшнз, Марк Пл...</td>\n",
       "      <td>США</td>\n",
       "      <td>Тимур Бекмамбетов</td>\n",
       "      <td>Джим Лемли, Джейсон Нетер, Марк Е.Платт, Яйн Смит</td>\n",
       "      <td>«18+» - запрещено для детей</td>\n",
       "      <td>NaN</td>\n",
       "      <td>NaN</td>\n",
       "      <td>NaN</td>\n",
       "      <td>NaN</td>\n",
       "      <td>6.8</td>\n",
       "      <td>фантастика,боевик,триллер</td>\n",
       "      <td>NaN</td>\n",
       "    </tr>\n",
       "    <tr>\n",
       "      <th>4</th>\n",
       "      <td>Особо опасен</td>\n",
       "      <td>221030815</td>\n",
       "      <td>2015-07-29T12:00:00.000Z</td>\n",
       "      <td>Художественный</td>\n",
       "      <td>Юниверсал Пикчерз, Кикстарт Продакшнз, Марк Пл...</td>\n",
       "      <td>США</td>\n",
       "      <td>Тимур Бекмамбетов</td>\n",
       "      <td>Джим Лемли, Джейсон Нетер, Марк Е.Платт, Яйн Смит</td>\n",
       "      <td>«18+» - запрещено для детей</td>\n",
       "      <td>NaN</td>\n",
       "      <td>NaN</td>\n",
       "      <td>NaN</td>\n",
       "      <td>NaN</td>\n",
       "      <td>6.8</td>\n",
       "      <td>фантастика,боевик,триллер</td>\n",
       "      <td>NaN</td>\n",
       "    </tr>\n",
       "  </tbody>\n",
       "</table>\n",
       "</div>"
      ],
      "text/plain": [
       "                  title   puNumber           show_start_date            type  \\\n",
       "0      Открытый простор  221048915  2015-11-27T12:00:00.000Z  Художественный   \n",
       "1  Особо важное задание  111013716  2016-09-13T12:00:00.000Z  Художественный   \n",
       "2          Особо опасен  221038416  2016-10-10T12:00:00.000Z  Художественный   \n",
       "3          Особо опасен  221026916  2016-06-10T12:00:00.000Z  Художественный   \n",
       "4          Особо опасен  221030815  2015-07-29T12:00:00.000Z  Художественный   \n",
       "\n",
       "                                         film_studio production_country  \\\n",
       "0  Тачстоун Пикчерз, Кобальт Пикчерз, Бикон Пикче...                США   \n",
       "1                              Киностудия \"Мосфильм\"               СССР   \n",
       "2  Юниверсал Пикчерз, Кикстарт Продакшнз, Марк Пл...                США   \n",
       "3  Юниверсал Пикчерз, Кикстарт Продакшнз, Марк Пл...                США   \n",
       "4  Юниверсал Пикчерз, Кикстарт Продакшнз, Марк Пл...                США   \n",
       "\n",
       "            director                                           producer  \\\n",
       "0      Кевин Костнер          Дэвид Валдес, Кевин Костнер, Джейк Эбертс   \n",
       "1          Е.Матвеев                                                NaN   \n",
       "2  Тимур Бекмамбетов  Джим Лемли, Джейсон Нетер, Марк Е.Платт, Яйн Смит   \n",
       "3  Тимур Бекмамбетов  Джим Лемли, Джейсон Нетер, Марк Е.Платт, Яйн Смит   \n",
       "4  Тимур Бекмамбетов  Джим Лемли, Джейсон Нетер, Марк Е.Платт, Яйн Смит   \n",
       "\n",
       "                 age_restriction  refundable_support  nonrefundable_support  \\\n",
       "0    «18+» - запрещено для детей                 NaN                    NaN   \n",
       "1  «6+» - для детей старше 6 лет                 NaN                    NaN   \n",
       "2    «18+» - запрещено для детей                 NaN                    NaN   \n",
       "3    «18+» - запрещено для детей                 NaN                    NaN   \n",
       "4    «18+» - запрещено для детей                 NaN                    NaN   \n",
       "\n",
       "   budget financing_source ratings                     genres  box_office  \n",
       "0     NaN              NaN     7.2     боевик,драма,мелодрама         NaN  \n",
       "1     NaN              NaN     6.6              драма,военный         NaN  \n",
       "2     NaN              NaN     6.8  фантастика,боевик,триллер         NaN  \n",
       "3     NaN              NaN     6.8  фантастика,боевик,триллер         NaN  \n",
       "4     NaN              NaN     6.8  фантастика,боевик,триллер         NaN  "
      ]
     },
     "execution_count": 11,
     "metadata": {},
     "output_type": "execute_result"
    }
   ],
   "source": [
    "# проверяем факт присоединения таблиц, как мы видим, колонка 'box_office' из data2 успешно добавилась в новый датафрейм df.\n",
    "\n",
    "df.info()\n",
    "df.head()"
   ]
  },
  {
   "cell_type": "markdown",
   "metadata": {},
   "source": [
    "В результате первичного ознакомления с данными мы выполнили следущее:\n",
    "- импортировали нужные датасеты\n",
    "- удалили паразитное значение в ключевой колонке чтобы сменить тип данных необходимый для объединения таблиц\n",
    "- объединили две таблицы в одну\n",
    "\n",
    "Теперь мы готовы начать предобработку данных в нашей новой таблице."
   ]
  },
  {
   "cell_type": "markdown",
   "metadata": {},
   "source": [
    "### 1.1.2. <a id='toc1_1_2_'></a>[Шаг 2. Предобработка данных](#toc0_)"
   ]
  },
  {
   "cell_type": "markdown",
   "metadata": {},
   "source": [
    "#### 1.1.2.1. <a id='toc1_1_2_1_'></a>[Шаг 2.1. Проверьте типы данных](#toc0_)\n",
    "\n",
    "- Проверьте типы данных в датафрейме и преобразуйте их там, где это необходимо."
   ]
  },
  {
   "cell_type": "code",
   "execution_count": null,
   "metadata": {
    "id": "kVGSplJOgFyO"
   },
   "outputs": [
    {
     "name": "stdout",
     "output_type": "stream",
     "text": [
      "title                     object\n",
      "puNumber                   int64\n",
      "show_start_date           object\n",
      "type                      object\n",
      "film_studio               object\n",
      "production_country        object\n",
      "director                  object\n",
      "producer                  object\n",
      "age_restriction           object\n",
      "refundable_support       float64\n",
      "nonrefundable_support    float64\n",
      "budget                   float64\n",
      "financing_source          object\n",
      "ratings                   object\n",
      "genres                    object\n",
      "box_office               float64\n",
      "dtype: object\n"
     ]
    },
    {
     "data": {
      "text/html": [
       "<div>\n",
       "<style scoped>\n",
       "    .dataframe tbody tr th:only-of-type {\n",
       "        vertical-align: middle;\n",
       "    }\n",
       "\n",
       "    .dataframe tbody tr th {\n",
       "        vertical-align: top;\n",
       "    }\n",
       "\n",
       "    .dataframe thead th {\n",
       "        text-align: right;\n",
       "    }\n",
       "</style>\n",
       "<table border=\"1\" class=\"dataframe\">\n",
       "  <thead>\n",
       "    <tr style=\"text-align: right;\">\n",
       "      <th></th>\n",
       "      <th>title</th>\n",
       "      <th>puNumber</th>\n",
       "      <th>show_start_date</th>\n",
       "      <th>type</th>\n",
       "      <th>film_studio</th>\n",
       "      <th>production_country</th>\n",
       "      <th>director</th>\n",
       "      <th>producer</th>\n",
       "      <th>age_restriction</th>\n",
       "      <th>refundable_support</th>\n",
       "      <th>nonrefundable_support</th>\n",
       "      <th>budget</th>\n",
       "      <th>financing_source</th>\n",
       "      <th>ratings</th>\n",
       "      <th>genres</th>\n",
       "      <th>box_office</th>\n",
       "    </tr>\n",
       "  </thead>\n",
       "  <tbody>\n",
       "    <tr>\n",
       "      <th>0</th>\n",
       "      <td>Открытый простор</td>\n",
       "      <td>221048915</td>\n",
       "      <td>2015-11-27T12:00:00.000Z</td>\n",
       "      <td>Художественный</td>\n",
       "      <td>Тачстоун Пикчерз, Кобальт Пикчерз, Бикон Пикче...</td>\n",
       "      <td>США</td>\n",
       "      <td>Кевин Костнер</td>\n",
       "      <td>Дэвид Валдес, Кевин Костнер, Джейк Эбертс</td>\n",
       "      <td>«18+» - запрещено для детей</td>\n",
       "      <td>NaN</td>\n",
       "      <td>NaN</td>\n",
       "      <td>NaN</td>\n",
       "      <td>NaN</td>\n",
       "      <td>7.2</td>\n",
       "      <td>боевик,драма,мелодрама</td>\n",
       "      <td>NaN</td>\n",
       "    </tr>\n",
       "    <tr>\n",
       "      <th>1</th>\n",
       "      <td>Особо важное задание</td>\n",
       "      <td>111013716</td>\n",
       "      <td>2016-09-13T12:00:00.000Z</td>\n",
       "      <td>Художественный</td>\n",
       "      <td>Киностудия \"Мосфильм\"</td>\n",
       "      <td>СССР</td>\n",
       "      <td>Е.Матвеев</td>\n",
       "      <td>NaN</td>\n",
       "      <td>«6+» - для детей старше 6 лет</td>\n",
       "      <td>NaN</td>\n",
       "      <td>NaN</td>\n",
       "      <td>NaN</td>\n",
       "      <td>NaN</td>\n",
       "      <td>6.6</td>\n",
       "      <td>драма,военный</td>\n",
       "      <td>NaN</td>\n",
       "    </tr>\n",
       "    <tr>\n",
       "      <th>2</th>\n",
       "      <td>Особо опасен</td>\n",
       "      <td>221038416</td>\n",
       "      <td>2016-10-10T12:00:00.000Z</td>\n",
       "      <td>Художественный</td>\n",
       "      <td>Юниверсал Пикчерз, Кикстарт Продакшнз, Марк Пл...</td>\n",
       "      <td>США</td>\n",
       "      <td>Тимур Бекмамбетов</td>\n",
       "      <td>Джим Лемли, Джейсон Нетер, Марк Е.Платт, Яйн Смит</td>\n",
       "      <td>«18+» - запрещено для детей</td>\n",
       "      <td>NaN</td>\n",
       "      <td>NaN</td>\n",
       "      <td>NaN</td>\n",
       "      <td>NaN</td>\n",
       "      <td>6.8</td>\n",
       "      <td>фантастика,боевик,триллер</td>\n",
       "      <td>NaN</td>\n",
       "    </tr>\n",
       "  </tbody>\n",
       "</table>\n",
       "</div>"
      ],
      "text/plain": [
       "                  title   puNumber           show_start_date            type  \\\n",
       "0      Открытый простор  221048915  2015-11-27T12:00:00.000Z  Художественный   \n",
       "1  Особо важное задание  111013716  2016-09-13T12:00:00.000Z  Художественный   \n",
       "2          Особо опасен  221038416  2016-10-10T12:00:00.000Z  Художественный   \n",
       "\n",
       "                                         film_studio production_country  \\\n",
       "0  Тачстоун Пикчерз, Кобальт Пикчерз, Бикон Пикче...                США   \n",
       "1                              Киностудия \"Мосфильм\"               СССР   \n",
       "2  Юниверсал Пикчерз, Кикстарт Продакшнз, Марк Пл...                США   \n",
       "\n",
       "            director                                           producer  \\\n",
       "0      Кевин Костнер          Дэвид Валдес, Кевин Костнер, Джейк Эбертс   \n",
       "1          Е.Матвеев                                                NaN   \n",
       "2  Тимур Бекмамбетов  Джим Лемли, Джейсон Нетер, Марк Е.Платт, Яйн Смит   \n",
       "\n",
       "                 age_restriction  refundable_support  nonrefundable_support  \\\n",
       "0    «18+» - запрещено для детей                 NaN                    NaN   \n",
       "1  «6+» - для детей старше 6 лет                 NaN                    NaN   \n",
       "2    «18+» - запрещено для детей                 NaN                    NaN   \n",
       "\n",
       "   budget financing_source ratings                     genres  box_office  \n",
       "0     NaN              NaN     7.2     боевик,драма,мелодрама         NaN  \n",
       "1     NaN              NaN     6.6              драма,военный         NaN  \n",
       "2     NaN              NaN     6.8  фантастика,боевик,триллер         NaN  "
      ]
     },
     "execution_count": 12,
     "metadata": {},
     "output_type": "execute_result"
    }
   ],
   "source": [
    "# выводим типы данных по каждой колонке и первые несколько строк таблицы для наглядности, чтобы понять где нужна смена типа\n",
    "\n",
    "print(df.dtypes)\n",
    "df.head(3)"
   ]
  },
  {
   "cell_type": "markdown",
   "metadata": {},
   "source": [
    "**Первичный анализ показал, что смене типа подлежат следущие колонки:**\n",
    "\n",
    "\n",
    "|Колонки          |Было -> Стало             |Комментарий \n",
    "|---              |---                       |---                \n",
    "|show_start_date  |object -> datetime        |дату необходимо перевести в спец. формат |\n",
    "|ratings          |object -> float64         |рейтинг, несомненно, должен быть вещественным числом|"
   ]
  },
  {
   "cell_type": "code",
   "execution_count": null,
   "metadata": {},
   "outputs": [],
   "source": [
    "# Меняем object -> datetime\n",
    "\n",
    "df['show_start_date'] = pd.to_datetime(\n",
    "    \n",
    "    df['show_start_date'], format='%Y-%m-%dT%H:%M:%S'\n",
    ") "
   ]
  },
  {
   "cell_type": "code",
   "execution_count": null,
   "metadata": {},
   "outputs": [],
   "source": [
    "# Вычленяем и удаляем знак '%' и переводим в формат числа больше похожего на рейтинг (от 0 до 10)\n",
    "\n",
    "df['ratings'] = df['ratings'].replace('\\%', '',regex=True)\n",
    "df['ratings'] = df['ratings'].astype('float64')\n",
    "df.loc[df['ratings'] >10, 'ratings'] = df['ratings'] / 10"
   ]
  },
  {
   "cell_type": "code",
   "execution_count": null,
   "metadata": {},
   "outputs": [
    {
     "data": {
      "text/plain": [
       "title                                 object\n",
       "puNumber                               int64\n",
       "show_start_date          datetime64[ns, UTC]\n",
       "type                                  object\n",
       "film_studio                           object\n",
       "production_country                    object\n",
       "director                              object\n",
       "producer                              object\n",
       "age_restriction                       object\n",
       "refundable_support                   float64\n",
       "nonrefundable_support                float64\n",
       "budget                               float64\n",
       "financing_source                      object\n",
       "ratings                              float64\n",
       "genres                                object\n",
       "box_office                           float64\n",
       "dtype: object"
      ]
     },
     "execution_count": 15,
     "metadata": {},
     "output_type": "execute_result"
    }
   ],
   "source": [
    "# Выводим на экран типы данных в колонках\n",
    "\n",
    "df.dtypes"
   ]
  },
  {
   "cell_type": "code",
   "execution_count": null,
   "metadata": {},
   "outputs": [
    {
     "data": {
      "text/plain": [
       "0"
      ]
     },
     "execution_count": 16,
     "metadata": {},
     "output_type": "execute_result"
    }
   ],
   "source": [
    "# Проверяем факт отсутствия значений больше 10-ти. Такие значения отсутствуют, значит выбивающихся значений нет.\n",
    "\n",
    "df.loc[df['ratings'] > 10, 'ratings'].count()"
   ]
  },
  {
   "cell_type": "code",
   "execution_count": null,
   "metadata": {},
   "outputs": [
    {
     "data": {
      "image/png": "[encoded data removed]",
      "text/plain": [
       "<Figure size 720x360 with 1 Axes>"
      ]
     },
     "metadata": {
      "needs_background": "light"
     },
     "output_type": "display_data"
    }
   ],
   "source": [
    "# Код от ревьюера\n",
    "df['ratings'].hist(figsize=(10, 5)) \n",
    "plt.show()"
   ]
  },
  {
   "cell_type": "markdown",
   "metadata": {},
   "source": [
    "**Тип колонок нуждающихся в изменениии успешно сменён.**"
   ]
  },
  {
   "cell_type": "markdown",
   "metadata": {},
   "source": [
    "#### 1.1.2.2. <a id='toc1_1_2_2_'></a>[Шаг 2.2. Изучите пропуски в датафрейме](#toc0_)\n",
    "\n",
    "- Объясните, почему заполнили пропуски определённым образом или почему не стали этого делать."
   ]
  },
  {
   "cell_type": "code",
   "execution_count": null,
   "metadata": {},
   "outputs": [
    {
     "data": {
      "text/plain": [
       "title                       0\n",
       "puNumber                    0\n",
       "show_start_date             0\n",
       "type                        0\n",
       "film_studio                18\n",
       "production_country          2\n",
       "director                    9\n",
       "producer                  568\n",
       "age_restriction             0\n",
       "refundable_support       7153\n",
       "nonrefundable_support    7153\n",
       "budget                   7153\n",
       "financing_source         7153\n",
       "ratings                   966\n",
       "genres                    975\n",
       "box_office               4327\n",
       "dtype: int64"
      ]
     },
     "execution_count": 18,
     "metadata": {},
     "output_type": "execute_result"
    }
   ],
   "source": [
    "# Считаем пропущенные значения по колонкам\n",
    "\n",
    "df.isna().sum()"
   ]
  },
  {
   "cell_type": "code",
   "execution_count": null,
   "metadata": {
    "id": "8MJD_lkngFyP"
   },
   "outputs": [
    {
     "data": {
      "text/html": [
       "<style  type=\"text/css\" >\n",
       "#T_8c679_row0_col0,#T_8c679_row1_col0,#T_8c679_row2_col0,#T_8c679_row3_col0,#T_8c679_row4_col0,#T_8c679_row5_col0,#T_8c679_row6_col0,#T_8c679_row8_col0{\n",
       "            background-color:  #3b4cc0;\n",
       "            color:  #f1f1f1;\n",
       "        }#T_8c679_row7_col0{\n",
       "            background-color:  #5470de;\n",
       "            color:  #000000;\n",
       "        }#T_8c679_row9_col0,#T_8c679_row10_col0,#T_8c679_row11_col0,#T_8c679_row12_col0{\n",
       "            background-color:  #b40426;\n",
       "            color:  #f1f1f1;\n",
       "        }#T_8c679_row13_col0,#T_8c679_row14_col0{\n",
       "            background-color:  #6485ec;\n",
       "            color:  #000000;\n",
       "        }#T_8c679_row15_col0{\n",
       "            background-color:  #f2cab5;\n",
       "            color:  #000000;\n",
       "        }</style><table id=\"T_8c679_\" ><thead>    <tr>        <th class=\"blank level0\" ></th>        <th class=\"col_heading level0 col0\" >0</th>    </tr></thead><tbody>\n",
       "                <tr>\n",
       "                        <th id=\"T_8c679_level0_row0\" class=\"row_heading level0 row0\" >title</th>\n",
       "                        <td id=\"T_8c679_row0_col0\" class=\"data row0 col0\" >0.000000</td>\n",
       "            </tr>\n",
       "            <tr>\n",
       "                        <th id=\"T_8c679_level0_row1\" class=\"row_heading level0 row1\" >puNumber</th>\n",
       "                        <td id=\"T_8c679_row1_col0\" class=\"data row1 col0\" >0.000000</td>\n",
       "            </tr>\n",
       "            <tr>\n",
       "                        <th id=\"T_8c679_level0_row2\" class=\"row_heading level0 row2\" >show_start_date</th>\n",
       "                        <td id=\"T_8c679_row2_col0\" class=\"data row2 col0\" >0.000000</td>\n",
       "            </tr>\n",
       "            <tr>\n",
       "                        <th id=\"T_8c679_level0_row3\" class=\"row_heading level0 row3\" >type</th>\n",
       "                        <td id=\"T_8c679_row3_col0\" class=\"data row3 col0\" >0.000000</td>\n",
       "            </tr>\n",
       "            <tr>\n",
       "                        <th id=\"T_8c679_level0_row4\" class=\"row_heading level0 row4\" >film_studio</th>\n",
       "                        <td id=\"T_8c679_row4_col0\" class=\"data row4 col0\" >0.000000</td>\n",
       "            </tr>\n",
       "            <tr>\n",
       "                        <th id=\"T_8c679_level0_row5\" class=\"row_heading level0 row5\" >production_country</th>\n",
       "                        <td id=\"T_8c679_row5_col0\" class=\"data row5 col0\" >0.000000</td>\n",
       "            </tr>\n",
       "            <tr>\n",
       "                        <th id=\"T_8c679_level0_row6\" class=\"row_heading level0 row6\" >director</th>\n",
       "                        <td id=\"T_8c679_row6_col0\" class=\"data row6 col0\" >0.000000</td>\n",
       "            </tr>\n",
       "            <tr>\n",
       "                        <th id=\"T_8c679_level0_row7\" class=\"row_heading level0 row7\" >producer</th>\n",
       "                        <td id=\"T_8c679_row7_col0\" class=\"data row7 col0\" >8.000000</td>\n",
       "            </tr>\n",
       "            <tr>\n",
       "                        <th id=\"T_8c679_level0_row8\" class=\"row_heading level0 row8\" >age_restriction</th>\n",
       "                        <td id=\"T_8c679_row8_col0\" class=\"data row8 col0\" >0.000000</td>\n",
       "            </tr>\n",
       "            <tr>\n",
       "                        <th id=\"T_8c679_level0_row9\" class=\"row_heading level0 row9\" >refundable_support</th>\n",
       "                        <td id=\"T_8c679_row9_col0\" class=\"data row9 col0\" >96.000000</td>\n",
       "            </tr>\n",
       "            <tr>\n",
       "                        <th id=\"T_8c679_level0_row10\" class=\"row_heading level0 row10\" >nonrefundable_support</th>\n",
       "                        <td id=\"T_8c679_row10_col0\" class=\"data row10 col0\" >96.000000</td>\n",
       "            </tr>\n",
       "            <tr>\n",
       "                        <th id=\"T_8c679_level0_row11\" class=\"row_heading level0 row11\" >budget</th>\n",
       "                        <td id=\"T_8c679_row11_col0\" class=\"data row11 col0\" >96.000000</td>\n",
       "            </tr>\n",
       "            <tr>\n",
       "                        <th id=\"T_8c679_level0_row12\" class=\"row_heading level0 row12\" >financing_source</th>\n",
       "                        <td id=\"T_8c679_row12_col0\" class=\"data row12 col0\" >96.000000</td>\n",
       "            </tr>\n",
       "            <tr>\n",
       "                        <th id=\"T_8c679_level0_row13\" class=\"row_heading level0 row13\" >ratings</th>\n",
       "                        <td id=\"T_8c679_row13_col0\" class=\"data row13 col0\" >13.000000</td>\n",
       "            </tr>\n",
       "            <tr>\n",
       "                        <th id=\"T_8c679_level0_row14\" class=\"row_heading level0 row14\" >genres</th>\n",
       "                        <td id=\"T_8c679_row14_col0\" class=\"data row14 col0\" >13.000000</td>\n",
       "            </tr>\n",
       "            <tr>\n",
       "                        <th id=\"T_8c679_level0_row15\" class=\"row_heading level0 row15\" >box_office</th>\n",
       "                        <td id=\"T_8c679_row15_col0\" class=\"data row15 col0\" >58.000000</td>\n",
       "            </tr>\n",
       "    </tbody></table>"
      ],
      "text/plain": [
       "<pandas.io.formats.style.Styler at 0x7fe576cda040>"
      ]
     },
     "execution_count": 19,
     "metadata": {},
     "output_type": "execute_result"
    }
   ],
   "source": [
    "# Выводим таблицу с пропусками в процентах\n",
    "\n",
    "pd.DataFrame(round(df.isna().mean()*100)).style.background_gradient('coolwarm')"
   ]
  },
  {
   "cell_type": "markdown",
   "metadata": {},
   "source": [
    "Для наглядности, выведем график с пропусками"
   ]
  },
  {
   "cell_type": "code",
   "execution_count": null,
   "metadata": {},
   "outputs": [
    {
     "data": {
      "text/plain": [
       "<AxesSubplot:>"
      ]
     },
     "execution_count": 20,
     "metadata": {},
     "output_type": "execute_result"
    },
    {
     "data": {
      "image/png": "[encoded data removed]",
      "text/plain": [
       "<Figure size 1800x720 with 2 Axes>"
      ]
     },
     "metadata": {
      "needs_background": "light"
     },
     "output_type": "display_data"
    }
   ],
   "source": [
    "# Выводим матрицу с графическим отображением пропущенных значений которые отображаются белым цветом\n",
    "# Чтобы матрица заработала было сделано следущее: 1) pip install missingno (в командной строке) 2) import missingno as msno\n",
    "\n",
    "msno.matrix(df)"
   ]
  },
  {
   "cell_type": "markdown",
   "metadata": {},
   "source": [
    "Посмторим на колонки с наименьшим количеством пропусков: \n",
    "\n",
    "film_studio                18\\\n",
    "production_country          2\\\n",
    "director                    9\n",
    "\n",
    "и выясним, можно ли заполнить эти попуски и стоит ли это делать."
   ]
  },
  {
   "cell_type": "code",
   "execution_count": null,
   "metadata": {},
   "outputs": [
    {
     "data": {
      "text/html": [
       "<div>\n",
       "<style scoped>\n",
       "    .dataframe tbody tr th:only-of-type {\n",
       "        vertical-align: middle;\n",
       "    }\n",
       "\n",
       "    .dataframe tbody tr th {\n",
       "        vertical-align: top;\n",
       "    }\n",
       "\n",
       "    .dataframe thead th {\n",
       "        text-align: right;\n",
       "    }\n",
       "</style>\n",
       "<table border=\"1\" class=\"dataframe\">\n",
       "  <thead>\n",
       "    <tr style=\"text-align: right;\">\n",
       "      <th></th>\n",
       "      <th>title</th>\n",
       "      <th>puNumber</th>\n",
       "      <th>show_start_date</th>\n",
       "      <th>type</th>\n",
       "      <th>film_studio</th>\n",
       "      <th>production_country</th>\n",
       "      <th>director</th>\n",
       "      <th>producer</th>\n",
       "      <th>age_restriction</th>\n",
       "      <th>refundable_support</th>\n",
       "      <th>nonrefundable_support</th>\n",
       "      <th>budget</th>\n",
       "      <th>financing_source</th>\n",
       "      <th>ratings</th>\n",
       "      <th>genres</th>\n",
       "      <th>box_office</th>\n",
       "    </tr>\n",
       "  </thead>\n",
       "  <tbody>\n",
       "    <tr>\n",
       "      <th>764</th>\n",
       "      <td>Три звезды. Концерт в Waldbuhne Theater, Берли...</td>\n",
       "      <td>126003512</td>\n",
       "      <td>2012-12-04 12:00:00+00:00</td>\n",
       "      <td>Прочие</td>\n",
       "      <td>Райзинг Алтернатив</td>\n",
       "      <td>Великобритания</td>\n",
       "      <td>NaN</td>\n",
       "      <td>Вальдбюне Театр</td>\n",
       "      <td>«0+» - для любой зрительской аудитории</td>\n",
       "      <td>NaN</td>\n",
       "      <td>NaN</td>\n",
       "      <td>NaN</td>\n",
       "      <td>NaN</td>\n",
       "      <td>NaN</td>\n",
       "      <td>NaN</td>\n",
       "      <td>44350.0</td>\n",
       "    </tr>\n",
       "    <tr>\n",
       "      <th>1293</th>\n",
       "      <td>Stars in Shorts</td>\n",
       "      <td>121011114</td>\n",
       "      <td>2014-06-03 12:00:00+00:00</td>\n",
       "      <td>Художественный</td>\n",
       "      <td>NaN</td>\n",
       "      <td>США, Великобритания</td>\n",
       "      <td>Роберт Фестингер, Руперт Френд, Джей Камен, Ни...</td>\n",
       "      <td>Татьяна Келли, Роберта Мунро, Руперт Френд, До...</td>\n",
       "      <td>«16+» - для детей старше 16 лет</td>\n",
       "      <td>NaN</td>\n",
       "      <td>NaN</td>\n",
       "      <td>NaN</td>\n",
       "      <td>NaN</td>\n",
       "      <td>7.3</td>\n",
       "      <td>комедия</td>\n",
       "      <td>NaN</td>\n",
       "    </tr>\n",
       "    <tr>\n",
       "      <th>1735</th>\n",
       "      <td>Помпеи. Британский музей</td>\n",
       "      <td>126003413</td>\n",
       "      <td>2013-09-11 12:00:00+00:00</td>\n",
       "      <td>Прочие</td>\n",
       "      <td>МортуСкрин, Британский музей</td>\n",
       "      <td>Великобритания</td>\n",
       "      <td>NaN</td>\n",
       "      <td>Британский музей</td>\n",
       "      <td>«0+» - для любой зрительской аудитории</td>\n",
       "      <td>NaN</td>\n",
       "      <td>NaN</td>\n",
       "      <td>NaN</td>\n",
       "      <td>NaN</td>\n",
       "      <td>NaN</td>\n",
       "      <td>NaN</td>\n",
       "      <td>NaN</td>\n",
       "    </tr>\n",
       "    <tr>\n",
       "      <th>3185</th>\n",
       "      <td>Детский юмористический киножурнал \"Ералаш. Ну ...</td>\n",
       "      <td>111001216</td>\n",
       "      <td>2016-02-09 12:00:00+00:00</td>\n",
       "      <td>Художественный</td>\n",
       "      <td>ООО \"Продюсерский центр ЕРАЛАШ\"</td>\n",
       "      <td>NaN</td>\n",
       "      <td>Р.Светлов, И.Магитон, А.Арутюнян, Л.Мирский, А...</td>\n",
       "      <td>ООО \"Продюсерский центр ЕРАЛАШ\"</td>\n",
       "      <td>«0+» - для любой зрительской аудитории</td>\n",
       "      <td>NaN</td>\n",
       "      <td>NaN</td>\n",
       "      <td>NaN</td>\n",
       "      <td>NaN</td>\n",
       "      <td>7.2</td>\n",
       "      <td>детский,комедия</td>\n",
       "      <td>194527.0</td>\n",
       "    </tr>\n",
       "    <tr>\n",
       "      <th>3839</th>\n",
       "      <td>Зур концерт (Большой концерт).</td>\n",
       "      <td>217027010</td>\n",
       "      <td>2010-06-24 12:00:00+00:00</td>\n",
       "      <td>Художественный</td>\n",
       "      <td>ООО \"Барс Рекордс\"</td>\n",
       "      <td>Россия</td>\n",
       "      <td>NaN</td>\n",
       "      <td>NaN</td>\n",
       "      <td>«12+» - для детей старше 12 лет</td>\n",
       "      <td>NaN</td>\n",
       "      <td>NaN</td>\n",
       "      <td>NaN</td>\n",
       "      <td>NaN</td>\n",
       "      <td>NaN</td>\n",
       "      <td>NaN</td>\n",
       "      <td>NaN</td>\n",
       "    </tr>\n",
       "    <tr>\n",
       "      <th>4051</th>\n",
       "      <td>Ганс Сэйфуллин \"Авылым чишмэлэре. Ганс Сэйфулл...</td>\n",
       "      <td>217017310</td>\n",
       "      <td>2010-04-22 12:00:00+00:00</td>\n",
       "      <td>Художественный</td>\n",
       "      <td>ООО \"Барс-Рекордс\"</td>\n",
       "      <td>Россия</td>\n",
       "      <td>NaN</td>\n",
       "      <td>NaN</td>\n",
       "      <td>«0+» - для любой зрительской аудитории</td>\n",
       "      <td>NaN</td>\n",
       "      <td>NaN</td>\n",
       "      <td>NaN</td>\n",
       "      <td>NaN</td>\n",
       "      <td>NaN</td>\n",
       "      <td>NaN</td>\n",
       "      <td>NaN</td>\n",
       "    </tr>\n",
       "    <tr>\n",
       "      <th>4297</th>\n",
       "      <td>Изге Вэли (Святой Валентин)</td>\n",
       "      <td>217020610</td>\n",
       "      <td>2010-05-20 12:00:00+00:00</td>\n",
       "      <td>Художественный</td>\n",
       "      <td>ООО \"Барс Рекордс\"</td>\n",
       "      <td>Россия</td>\n",
       "      <td>NaN</td>\n",
       "      <td>NaN</td>\n",
       "      <td>«12+» - для детей старше 12 лет</td>\n",
       "      <td>NaN</td>\n",
       "      <td>NaN</td>\n",
       "      <td>NaN</td>\n",
       "      <td>NaN</td>\n",
       "      <td>NaN</td>\n",
       "      <td>NaN</td>\n",
       "      <td>NaN</td>\n",
       "    </tr>\n",
       "    <tr>\n",
       "      <th>4414</th>\n",
       "      <td>Bon Jovi. The Circle Tour</td>\n",
       "      <td>126001710</td>\n",
       "      <td>2010-11-11 12:00:00+00:00</td>\n",
       "      <td>Прочие</td>\n",
       "      <td>Эншутц Интертейнмент Груп</td>\n",
       "      <td>США</td>\n",
       "      <td>NaN</td>\n",
       "      <td>Эншутц Интертейнмент Груп</td>\n",
       "      <td>«0+» - для любой зрительской аудитории</td>\n",
       "      <td>NaN</td>\n",
       "      <td>NaN</td>\n",
       "      <td>NaN</td>\n",
       "      <td>NaN</td>\n",
       "      <td>7.9</td>\n",
       "      <td>концерт,музыка</td>\n",
       "      <td>NaN</td>\n",
       "    </tr>\n",
       "    <tr>\n",
       "      <th>4440</th>\n",
       "      <td>Мульт личности. Выпуск 5</td>\n",
       "      <td>214000410</td>\n",
       "      <td>2010-01-25 12:00:00+00:00</td>\n",
       "      <td>Художественный</td>\n",
       "      <td>NaN</td>\n",
       "      <td>NaN</td>\n",
       "      <td>NaN</td>\n",
       "      <td>NaN</td>\n",
       "      <td>«0+» - для любой зрительской аудитории</td>\n",
       "      <td>NaN</td>\n",
       "      <td>NaN</td>\n",
       "      <td>NaN</td>\n",
       "      <td>NaN</td>\n",
       "      <td>4.0</td>\n",
       "      <td>мультфильм,комедия</td>\n",
       "      <td>NaN</td>\n",
       "    </tr>\n",
       "    <tr>\n",
       "      <th>4922</th>\n",
       "      <td>Георг Фридрих Гендель. Мессия. Оратория. Корол...</td>\n",
       "      <td>126001111</td>\n",
       "      <td>2011-04-25 12:00:00+00:00</td>\n",
       "      <td>Прочие</td>\n",
       "      <td>Опус Арт</td>\n",
       "      <td>Великобритания</td>\n",
       "      <td>NaN</td>\n",
       "      <td>Короевский колледж Кембриджа</td>\n",
       "      <td>«0+» - для любой зрительской аудитории</td>\n",
       "      <td>NaN</td>\n",
       "      <td>NaN</td>\n",
       "      <td>NaN</td>\n",
       "      <td>NaN</td>\n",
       "      <td>NaN</td>\n",
       "      <td>NaN</td>\n",
       "      <td>NaN</td>\n",
       "    </tr>\n",
       "    <tr>\n",
       "      <th>4941</th>\n",
       "      <td>Питер Гэбриэл и New Blood Orchestra 3D</td>\n",
       "      <td>126002711</td>\n",
       "      <td>2011-11-11 12:00:00+00:00</td>\n",
       "      <td>Прочие</td>\n",
       "      <td>Омниверс Визион</td>\n",
       "      <td>Великобритания</td>\n",
       "      <td>NaN</td>\n",
       "      <td>Омниверс Визион</td>\n",
       "      <td>«0+» - для любой зрительской аудитории</td>\n",
       "      <td>NaN</td>\n",
       "      <td>NaN</td>\n",
       "      <td>NaN</td>\n",
       "      <td>NaN</td>\n",
       "      <td>6.7</td>\n",
       "      <td>концерт,музыка</td>\n",
       "      <td>NaN</td>\n",
       "    </tr>\n",
       "    <tr>\n",
       "      <th>6104</th>\n",
       "      <td>Значит любит</td>\n",
       "      <td>111013818</td>\n",
       "      <td>2018-08-10 12:00:00+00:00</td>\n",
       "      <td>Художественный</td>\n",
       "      <td>NaN</td>\n",
       "      <td>Россия</td>\n",
       "      <td>А.Краевский</td>\n",
       "      <td>Е.Щербакова</td>\n",
       "      <td>«18+» - запрещено для детей</td>\n",
       "      <td>NaN</td>\n",
       "      <td>NaN</td>\n",
       "      <td>NaN</td>\n",
       "      <td>NaN</td>\n",
       "      <td>NaN</td>\n",
       "      <td>NaN</td>\n",
       "      <td>NaN</td>\n",
       "    </tr>\n",
       "    <tr>\n",
       "      <th>6180</th>\n",
       "      <td>Несейка. Младшая дочь</td>\n",
       "      <td>112007018</td>\n",
       "      <td>2018-09-01 12:00:00+00:00</td>\n",
       "      <td>Документальный</td>\n",
       "      <td>NaN</td>\n",
       "      <td>Россия</td>\n",
       "      <td>В.Марин</td>\n",
       "      <td>Д.Якунин, Ф.Абрютин, О.Филонова</td>\n",
       "      <td>«6+» - для детей старше 6 лет</td>\n",
       "      <td>NaN</td>\n",
       "      <td>NaN</td>\n",
       "      <td>NaN</td>\n",
       "      <td>NaN</td>\n",
       "      <td>NaN</td>\n",
       "      <td>NaN</td>\n",
       "      <td>NaN</td>\n",
       "    </tr>\n",
       "    <tr>\n",
       "      <th>6378</th>\n",
       "      <td>Ян Антонышев</td>\n",
       "      <td>112011818</td>\n",
       "      <td>2018-11-15 12:00:00+00:00</td>\n",
       "      <td>Документальный</td>\n",
       "      <td>NaN</td>\n",
       "      <td>Россия</td>\n",
       "      <td>Е.Окопная</td>\n",
       "      <td>Е.Герасимов</td>\n",
       "      <td>«12+» - для детей старше 12 лет</td>\n",
       "      <td>NaN</td>\n",
       "      <td>NaN</td>\n",
       "      <td>NaN</td>\n",
       "      <td>NaN</td>\n",
       "      <td>NaN</td>\n",
       "      <td>NaN</td>\n",
       "      <td>NaN</td>\n",
       "    </tr>\n",
       "    <tr>\n",
       "      <th>6379</th>\n",
       "      <td>Ян Антонышев</td>\n",
       "      <td>112011918</td>\n",
       "      <td>2018-11-15 12:00:00+00:00</td>\n",
       "      <td>Документальный</td>\n",
       "      <td>NaN</td>\n",
       "      <td>Россия</td>\n",
       "      <td>Е.Окопная</td>\n",
       "      <td>Е.Герасимов</td>\n",
       "      <td>«12+» - для детей старше 12 лет</td>\n",
       "      <td>NaN</td>\n",
       "      <td>NaN</td>\n",
       "      <td>NaN</td>\n",
       "      <td>NaN</td>\n",
       "      <td>NaN</td>\n",
       "      <td>NaN</td>\n",
       "      <td>NaN</td>\n",
       "    </tr>\n",
       "    <tr>\n",
       "      <th>6398</th>\n",
       "      <td>Доживем до каникул?..</td>\n",
       "      <td>111021918</td>\n",
       "      <td>2018-11-15 12:00:00+00:00</td>\n",
       "      <td>Художественный</td>\n",
       "      <td>NaN</td>\n",
       "      <td>Россия</td>\n",
       "      <td>Я.Хальпукова (псевдоним Яна Мартынец)</td>\n",
       "      <td>Я.Хальпукова (псевдоним Яна Мартынец)</td>\n",
       "      <td>«12+» - для детей старше 12 лет</td>\n",
       "      <td>NaN</td>\n",
       "      <td>NaN</td>\n",
       "      <td>NaN</td>\n",
       "      <td>NaN</td>\n",
       "      <td>NaN</td>\n",
       "      <td>NaN</td>\n",
       "      <td>41225.0</td>\n",
       "    </tr>\n",
       "    <tr>\n",
       "      <th>6484</th>\n",
       "      <td>До и После</td>\n",
       "      <td>112014418</td>\n",
       "      <td>2018-12-05 12:00:00+00:00</td>\n",
       "      <td>Документальный</td>\n",
       "      <td>NaN</td>\n",
       "      <td>Россия</td>\n",
       "      <td>А.Новокреповская</td>\n",
       "      <td>А.Новокреповская</td>\n",
       "      <td>«6+» - для детей старше 6 лет</td>\n",
       "      <td>NaN</td>\n",
       "      <td>NaN</td>\n",
       "      <td>NaN</td>\n",
       "      <td>NaN</td>\n",
       "      <td>6.9</td>\n",
       "      <td>драма,криминал,детектив</td>\n",
       "      <td>NaN</td>\n",
       "    </tr>\n",
       "    <tr>\n",
       "      <th>6493</th>\n",
       "      <td>Калмыцкий геше Нгаванг Вангьял</td>\n",
       "      <td>113002018</td>\n",
       "      <td>2018-12-05 12:00:00+00:00</td>\n",
       "      <td>Научно-популярный</td>\n",
       "      <td>NaN</td>\n",
       "      <td>Россия</td>\n",
       "      <td>И.Долгина</td>\n",
       "      <td>И.Долгина</td>\n",
       "      <td>«12+» - для детей старше 12 лет</td>\n",
       "      <td>NaN</td>\n",
       "      <td>NaN</td>\n",
       "      <td>NaN</td>\n",
       "      <td>NaN</td>\n",
       "      <td>NaN</td>\n",
       "      <td>NaN</td>\n",
       "      <td>NaN</td>\n",
       "    </tr>\n",
       "    <tr>\n",
       "      <th>6496</th>\n",
       "      <td>Мой папа Чингисхан</td>\n",
       "      <td>112014918</td>\n",
       "      <td>2018-12-06 12:00:00+00:00</td>\n",
       "      <td>Документальный</td>\n",
       "      <td>NaN</td>\n",
       "      <td>Россия</td>\n",
       "      <td>А.Сайфуллина</td>\n",
       "      <td>А.Сайфуллина</td>\n",
       "      <td>«12+» - для детей старше 12 лет</td>\n",
       "      <td>NaN</td>\n",
       "      <td>NaN</td>\n",
       "      <td>NaN</td>\n",
       "      <td>NaN</td>\n",
       "      <td>NaN</td>\n",
       "      <td>NaN</td>\n",
       "      <td>NaN</td>\n",
       "    </tr>\n",
       "    <tr>\n",
       "      <th>6497</th>\n",
       "      <td>В плену города грёз</td>\n",
       "      <td>112014818</td>\n",
       "      <td>2018-12-06 12:00:00+00:00</td>\n",
       "      <td>Документальный</td>\n",
       "      <td>NaN</td>\n",
       "      <td>Россия</td>\n",
       "      <td>В.Витовцев</td>\n",
       "      <td>О.Мичи</td>\n",
       "      <td>«18+» - запрещено для детей</td>\n",
       "      <td>NaN</td>\n",
       "      <td>NaN</td>\n",
       "      <td>NaN</td>\n",
       "      <td>NaN</td>\n",
       "      <td>7.9</td>\n",
       "      <td>фантастика,боевик,триллер</td>\n",
       "      <td>NaN</td>\n",
       "    </tr>\n",
       "    <tr>\n",
       "      <th>6498</th>\n",
       "      <td>Последнее фото</td>\n",
       "      <td>112014518</td>\n",
       "      <td>2018-12-06 12:00:00+00:00</td>\n",
       "      <td>Документальный</td>\n",
       "      <td>NaN</td>\n",
       "      <td>Россия</td>\n",
       "      <td>Е.Севастьянов</td>\n",
       "      <td>Е.Севастьянов</td>\n",
       "      <td>«18+» - запрещено для детей</td>\n",
       "      <td>NaN</td>\n",
       "      <td>NaN</td>\n",
       "      <td>NaN</td>\n",
       "      <td>NaN</td>\n",
       "      <td>NaN</td>\n",
       "      <td>NaN</td>\n",
       "      <td>NaN</td>\n",
       "    </tr>\n",
       "    <tr>\n",
       "      <th>6506</th>\n",
       "      <td>Мой селфхарм</td>\n",
       "      <td>113001918</td>\n",
       "      <td>2018-12-06 12:00:00+00:00</td>\n",
       "      <td>Научно-популярный</td>\n",
       "      <td>NaN</td>\n",
       "      <td>Россия</td>\n",
       "      <td>Я.Лаптев (псевдоним Яков Раскалов)</td>\n",
       "      <td>Я.Лаптев (псевдоним Яков Раскалов)</td>\n",
       "      <td>«18+» - запрещено для детей</td>\n",
       "      <td>NaN</td>\n",
       "      <td>NaN</td>\n",
       "      <td>NaN</td>\n",
       "      <td>NaN</td>\n",
       "      <td>NaN</td>\n",
       "      <td>NaN</td>\n",
       "      <td>NaN</td>\n",
       "    </tr>\n",
       "    <tr>\n",
       "      <th>6510</th>\n",
       "      <td>Обстоятельства места и времени</td>\n",
       "      <td>112015018</td>\n",
       "      <td>2018-12-12 12:00:00+00:00</td>\n",
       "      <td>Документальный</td>\n",
       "      <td>NaN</td>\n",
       "      <td>Россия</td>\n",
       "      <td>Д.Кабаков</td>\n",
       "      <td>Д.Кабаков</td>\n",
       "      <td>«12+» - для детей старше 12 лет</td>\n",
       "      <td>NaN</td>\n",
       "      <td>NaN</td>\n",
       "      <td>NaN</td>\n",
       "      <td>NaN</td>\n",
       "      <td>NaN</td>\n",
       "      <td>NaN</td>\n",
       "      <td>NaN</td>\n",
       "    </tr>\n",
       "    <tr>\n",
       "      <th>6637</th>\n",
       "      <td>Эрик Булатов. Моя Третьяковка, серии 1-2</td>\n",
       "      <td>113000319</td>\n",
       "      <td>2019-01-28 12:00:00+00:00</td>\n",
       "      <td>Научно-популярный</td>\n",
       "      <td>NaN</td>\n",
       "      <td>Россия</td>\n",
       "      <td>С.Гарькавый</td>\n",
       "      <td>Т.Пинская</td>\n",
       "      <td>«6+» - для детей старше 6 лет</td>\n",
       "      <td>NaN</td>\n",
       "      <td>NaN</td>\n",
       "      <td>NaN</td>\n",
       "      <td>NaN</td>\n",
       "      <td>NaN</td>\n",
       "      <td>NaN</td>\n",
       "      <td>NaN</td>\n",
       "    </tr>\n",
       "    <tr>\n",
       "      <th>6638</th>\n",
       "      <td>Брови</td>\n",
       "      <td>111000719</td>\n",
       "      <td>2019-03-01 12:00:00+00:00</td>\n",
       "      <td>Художественный</td>\n",
       "      <td>NaN</td>\n",
       "      <td>Россия</td>\n",
       "      <td>О.Штром</td>\n",
       "      <td>В.Максимов, В.Степанов, Г.Киракосян, О.Штром</td>\n",
       "      <td>«16+» - для детей старше 16 лет</td>\n",
       "      <td>NaN</td>\n",
       "      <td>NaN</td>\n",
       "      <td>NaN</td>\n",
       "      <td>NaN</td>\n",
       "      <td>NaN</td>\n",
       "      <td>NaN</td>\n",
       "      <td>NaN</td>\n",
       "    </tr>\n",
       "    <tr>\n",
       "      <th>6661</th>\n",
       "      <td>Топливо</td>\n",
       "      <td>111001419</td>\n",
       "      <td>2019-02-12 12:00:00+00:00</td>\n",
       "      <td>Художественный</td>\n",
       "      <td>NaN</td>\n",
       "      <td>Россия</td>\n",
       "      <td>М.Архипов</td>\n",
       "      <td>М.Архипов</td>\n",
       "      <td>«12+» - для детей старше 12 лет</td>\n",
       "      <td>NaN</td>\n",
       "      <td>NaN</td>\n",
       "      <td>NaN</td>\n",
       "      <td>NaN</td>\n",
       "      <td>6.1</td>\n",
       "      <td>короткометражка,фантастика</td>\n",
       "      <td>NaN</td>\n",
       "    </tr>\n",
       "    <tr>\n",
       "      <th>6721</th>\n",
       "      <td>Путешествие в Париж</td>\n",
       "      <td>111002919</td>\n",
       "      <td>2019-03-01 12:00:00+00:00</td>\n",
       "      <td>Художественный</td>\n",
       "      <td>NaN</td>\n",
       "      <td>Россия</td>\n",
       "      <td>М.Олейник (псевдоним - Мария Полякова)</td>\n",
       "      <td>Н.Савко</td>\n",
       "      <td>«16+» - для детей старше 16 лет</td>\n",
       "      <td>NaN</td>\n",
       "      <td>NaN</td>\n",
       "      <td>NaN</td>\n",
       "      <td>NaN</td>\n",
       "      <td>NaN</td>\n",
       "      <td>NaN</td>\n",
       "      <td>NaN</td>\n",
       "    </tr>\n",
       "  </tbody>\n",
       "</table>\n",
       "</div>"
      ],
      "text/plain": [
       "                                                  title   puNumber  \\\n",
       "764   Три звезды. Концерт в Waldbuhne Theater, Берли...  126003512   \n",
       "1293                                    Stars in Shorts  121011114   \n",
       "1735                           Помпеи. Британский музей  126003413   \n",
       "3185  Детский юмористический киножурнал \"Ералаш. Ну ...  111001216   \n",
       "3839                     Зур концерт (Большой концерт).  217027010   \n",
       "4051  Ганс Сэйфуллин \"Авылым чишмэлэре. Ганс Сэйфулл...  217017310   \n",
       "4297                        Изге Вэли (Святой Валентин)  217020610   \n",
       "4414                          Bon Jovi. The Circle Tour  126001710   \n",
       "4440                           Мульт личности. Выпуск 5  214000410   \n",
       "4922  Георг Фридрих Гендель. Мессия. Оратория. Корол...  126001111   \n",
       "4941             Питер Гэбриэл и New Blood Orchestra 3D  126002711   \n",
       "6104                                       Значит любит  111013818   \n",
       "6180                              Несейка. Младшая дочь  112007018   \n",
       "6378                                       Ян Антонышев  112011818   \n",
       "6379                                       Ян Антонышев  112011918   \n",
       "6398                              Доживем до каникул?..  111021918   \n",
       "6484                                         До и После  112014418   \n",
       "6493                     Калмыцкий геше Нгаванг Вангьял  113002018   \n",
       "6496                                 Мой папа Чингисхан  112014918   \n",
       "6497                                В плену города грёз  112014818   \n",
       "6498                                     Последнее фото  112014518   \n",
       "6506                                       Мой селфхарм  113001918   \n",
       "6510                     Обстоятельства места и времени  112015018   \n",
       "6637           Эрик Булатов. Моя Третьяковка, серии 1-2  113000319   \n",
       "6638                                              Брови  111000719   \n",
       "6661                                            Топливо  111001419   \n",
       "6721                                Путешествие в Париж  111002919   \n",
       "\n",
       "               show_start_date               type  \\\n",
       "764  2012-12-04 12:00:00+00:00             Прочие   \n",
       "1293 2014-06-03 12:00:00+00:00     Художественный   \n",
       "1735 2013-09-11 12:00:00+00:00             Прочие   \n",
       "3185 2016-02-09 12:00:00+00:00     Художественный   \n",
       "3839 2010-06-24 12:00:00+00:00     Художественный   \n",
       "4051 2010-04-22 12:00:00+00:00     Художественный   \n",
       "4297 2010-05-20 12:00:00+00:00     Художественный   \n",
       "4414 2010-11-11 12:00:00+00:00             Прочие   \n",
       "4440 2010-01-25 12:00:00+00:00     Художественный   \n",
       "4922 2011-04-25 12:00:00+00:00             Прочие   \n",
       "4941 2011-11-11 12:00:00+00:00             Прочие   \n",
       "6104 2018-08-10 12:00:00+00:00     Художественный   \n",
       "6180 2018-09-01 12:00:00+00:00     Документальный   \n",
       "6378 2018-11-15 12:00:00+00:00     Документальный   \n",
       "6379 2018-11-15 12:00:00+00:00     Документальный   \n",
       "6398 2018-11-15 12:00:00+00:00     Художественный   \n",
       "6484 2018-12-05 12:00:00+00:00     Документальный   \n",
       "6493 2018-12-05 12:00:00+00:00  Научно-популярный   \n",
       "6496 2018-12-06 12:00:00+00:00     Документальный   \n",
       "6497 2018-12-06 12:00:00+00:00     Документальный   \n",
       "6498 2018-12-06 12:00:00+00:00     Документальный   \n",
       "6506 2018-12-06 12:00:00+00:00  Научно-популярный   \n",
       "6510 2018-12-12 12:00:00+00:00     Документальный   \n",
       "6637 2019-01-28 12:00:00+00:00  Научно-популярный   \n",
       "6638 2019-03-01 12:00:00+00:00     Художественный   \n",
       "6661 2019-02-12 12:00:00+00:00     Художественный   \n",
       "6721 2019-03-01 12:00:00+00:00     Художественный   \n",
       "\n",
       "                          film_studio   production_country  \\\n",
       "764                Райзинг Алтернатив       Великобритания   \n",
       "1293                              NaN  США, Великобритания   \n",
       "1735     МортуСкрин, Британский музей       Великобритания   \n",
       "3185  ООО \"Продюсерский центр ЕРАЛАШ\"                  NaN   \n",
       "3839               ООО \"Барс Рекордс\"               Россия   \n",
       "4051               ООО \"Барс-Рекордс\"               Россия   \n",
       "4297               ООО \"Барс Рекордс\"               Россия   \n",
       "4414        Эншутц Интертейнмент Груп                  США   \n",
       "4440                              NaN                  NaN   \n",
       "4922                         Опус Арт       Великобритания   \n",
       "4941                  Омниверс Визион       Великобритания   \n",
       "6104                              NaN               Россия   \n",
       "6180                              NaN               Россия   \n",
       "6378                              NaN               Россия   \n",
       "6379                              NaN               Россия   \n",
       "6398                              NaN               Россия   \n",
       "6484                              NaN               Россия   \n",
       "6493                              NaN               Россия   \n",
       "6496                              NaN               Россия   \n",
       "6497                              NaN               Россия   \n",
       "6498                              NaN               Россия   \n",
       "6506                              NaN               Россия   \n",
       "6510                              NaN               Россия   \n",
       "6637                              NaN               Россия   \n",
       "6638                              NaN               Россия   \n",
       "6661                              NaN               Россия   \n",
       "6721                              NaN               Россия   \n",
       "\n",
       "                                               director  \\\n",
       "764                                                 NaN   \n",
       "1293  Роберт Фестингер, Руперт Френд, Джей Камен, Ни...   \n",
       "1735                                                NaN   \n",
       "3185  Р.Светлов, И.Магитон, А.Арутюнян, Л.Мирский, А...   \n",
       "3839                                                NaN   \n",
       "4051                                                NaN   \n",
       "4297                                                NaN   \n",
       "4414                                                NaN   \n",
       "4440                                                NaN   \n",
       "4922                                                NaN   \n",
       "4941                                                NaN   \n",
       "6104                                        А.Краевский   \n",
       "6180                                            В.Марин   \n",
       "6378                                          Е.Окопная   \n",
       "6379                                          Е.Окопная   \n",
       "6398              Я.Хальпукова (псевдоним Яна Мартынец)   \n",
       "6484                                   А.Новокреповская   \n",
       "6493                                          И.Долгина   \n",
       "6496                                       А.Сайфуллина   \n",
       "6497                                         В.Витовцев   \n",
       "6498                                      Е.Севастьянов   \n",
       "6506                 Я.Лаптев (псевдоним Яков Раскалов)   \n",
       "6510                                          Д.Кабаков   \n",
       "6637                                        С.Гарькавый   \n",
       "6638                                            О.Штром   \n",
       "6661                                          М.Архипов   \n",
       "6721             М.Олейник (псевдоним - Мария Полякова)   \n",
       "\n",
       "                                               producer  \\\n",
       "764                                     Вальдбюне Театр   \n",
       "1293  Татьяна Келли, Роберта Мунро, Руперт Френд, До...   \n",
       "1735                                   Британский музей   \n",
       "3185                    ООО \"Продюсерский центр ЕРАЛАШ\"   \n",
       "3839                                                NaN   \n",
       "4051                                                NaN   \n",
       "4297                                                NaN   \n",
       "4414                          Эншутц Интертейнмент Груп   \n",
       "4440                                                NaN   \n",
       "4922                       Короевский колледж Кембриджа   \n",
       "4941                                    Омниверс Визион   \n",
       "6104                                        Е.Щербакова   \n",
       "6180                    Д.Якунин, Ф.Абрютин, О.Филонова   \n",
       "6378                                        Е.Герасимов   \n",
       "6379                                        Е.Герасимов   \n",
       "6398              Я.Хальпукова (псевдоним Яна Мартынец)   \n",
       "6484                                   А.Новокреповская   \n",
       "6493                                          И.Долгина   \n",
       "6496                                       А.Сайфуллина   \n",
       "6497                                             О.Мичи   \n",
       "6498                                      Е.Севастьянов   \n",
       "6506                 Я.Лаптев (псевдоним Яков Раскалов)   \n",
       "6510                                          Д.Кабаков   \n",
       "6637                                          Т.Пинская   \n",
       "6638       В.Максимов, В.Степанов, Г.Киракосян, О.Штром   \n",
       "6661                                          М.Архипов   \n",
       "6721                                            Н.Савко   \n",
       "\n",
       "                             age_restriction  refundable_support  \\\n",
       "764   «0+» - для любой зрительской аудитории                 NaN   \n",
       "1293         «16+» - для детей старше 16 лет                 NaN   \n",
       "1735  «0+» - для любой зрительской аудитории                 NaN   \n",
       "3185  «0+» - для любой зрительской аудитории                 NaN   \n",
       "3839         «12+» - для детей старше 12 лет                 NaN   \n",
       "4051  «0+» - для любой зрительской аудитории                 NaN   \n",
       "4297         «12+» - для детей старше 12 лет                 NaN   \n",
       "4414  «0+» - для любой зрительской аудитории                 NaN   \n",
       "4440  «0+» - для любой зрительской аудитории                 NaN   \n",
       "4922  «0+» - для любой зрительской аудитории                 NaN   \n",
       "4941  «0+» - для любой зрительской аудитории                 NaN   \n",
       "6104             «18+» - запрещено для детей                 NaN   \n",
       "6180           «6+» - для детей старше 6 лет                 NaN   \n",
       "6378         «12+» - для детей старше 12 лет                 NaN   \n",
       "6379         «12+» - для детей старше 12 лет                 NaN   \n",
       "6398         «12+» - для детей старше 12 лет                 NaN   \n",
       "6484           «6+» - для детей старше 6 лет                 NaN   \n",
       "6493         «12+» - для детей старше 12 лет                 NaN   \n",
       "6496         «12+» - для детей старше 12 лет                 NaN   \n",
       "6497             «18+» - запрещено для детей                 NaN   \n",
       "6498             «18+» - запрещено для детей                 NaN   \n",
       "6506             «18+» - запрещено для детей                 NaN   \n",
       "6510         «12+» - для детей старше 12 лет                 NaN   \n",
       "6637           «6+» - для детей старше 6 лет                 NaN   \n",
       "6638         «16+» - для детей старше 16 лет                 NaN   \n",
       "6661         «12+» - для детей старше 12 лет                 NaN   \n",
       "6721         «16+» - для детей старше 16 лет                 NaN   \n",
       "\n",
       "      nonrefundable_support  budget financing_source  ratings  \\\n",
       "764                     NaN     NaN              NaN      NaN   \n",
       "1293                    NaN     NaN              NaN      7.3   \n",
       "1735                    NaN     NaN              NaN      NaN   \n",
       "3185                    NaN     NaN              NaN      7.2   \n",
       "3839                    NaN     NaN              NaN      NaN   \n",
       "4051                    NaN     NaN              NaN      NaN   \n",
       "4297                    NaN     NaN              NaN      NaN   \n",
       "4414                    NaN     NaN              NaN      7.9   \n",
       "4440                    NaN     NaN              NaN      4.0   \n",
       "4922                    NaN     NaN              NaN      NaN   \n",
       "4941                    NaN     NaN              NaN      6.7   \n",
       "6104                    NaN     NaN              NaN      NaN   \n",
       "6180                    NaN     NaN              NaN      NaN   \n",
       "6378                    NaN     NaN              NaN      NaN   \n",
       "6379                    NaN     NaN              NaN      NaN   \n",
       "6398                    NaN     NaN              NaN      NaN   \n",
       "6484                    NaN     NaN              NaN      6.9   \n",
       "6493                    NaN     NaN              NaN      NaN   \n",
       "6496                    NaN     NaN              NaN      NaN   \n",
       "6497                    NaN     NaN              NaN      7.9   \n",
       "6498                    NaN     NaN              NaN      NaN   \n",
       "6506                    NaN     NaN              NaN      NaN   \n",
       "6510                    NaN     NaN              NaN      NaN   \n",
       "6637                    NaN     NaN              NaN      NaN   \n",
       "6638                    NaN     NaN              NaN      NaN   \n",
       "6661                    NaN     NaN              NaN      6.1   \n",
       "6721                    NaN     NaN              NaN      NaN   \n",
       "\n",
       "                          genres  box_office  \n",
       "764                          NaN     44350.0  \n",
       "1293                     комедия         NaN  \n",
       "1735                         NaN         NaN  \n",
       "3185             детский,комедия    194527.0  \n",
       "3839                         NaN         NaN  \n",
       "4051                         NaN         NaN  \n",
       "4297                         NaN         NaN  \n",
       "4414              концерт,музыка         NaN  \n",
       "4440          мультфильм,комедия         NaN  \n",
       "4922                         NaN         NaN  \n",
       "4941              концерт,музыка         NaN  \n",
       "6104                         NaN         NaN  \n",
       "6180                         NaN         NaN  \n",
       "6378                         NaN         NaN  \n",
       "6379                         NaN         NaN  \n",
       "6398                         NaN     41225.0  \n",
       "6484     драма,криминал,детектив         NaN  \n",
       "6493                         NaN         NaN  \n",
       "6496                         NaN         NaN  \n",
       "6497   фантастика,боевик,триллер         NaN  \n",
       "6498                         NaN         NaN  \n",
       "6506                         NaN         NaN  \n",
       "6510                         NaN         NaN  \n",
       "6637                         NaN         NaN  \n",
       "6638                         NaN         NaN  \n",
       "6661  короткометражка,фантастика         NaN  \n",
       "6721                         NaN         NaN  "
      ]
     },
     "execution_count": 21,
     "metadata": {},
     "output_type": "execute_result"
    }
   ],
   "source": [
    "# выводим срез таблицы с пропусками в выбранных колонках\n",
    "\n",
    "df[(df['production_country'].isna()) | (df['director'].isna()) | (df['film_studio'].isna())]"
   ]
  },
  {
   "cell_type": "markdown",
   "metadata": {},
   "source": [
    "Проанализировав пропуски выше, я решил заполнить два пропуска в колонке 'production_country' тк ответ просто найти в общедоступных источниках.\n",
    "С пропусками в колонках 'film_studio' и 'director' не всё так очевидно, тк некоторые \"фильмы\" вовсе не фильмы, а конценрты и у них есть продюссер, но нет режиссёра. Ситуация со съёмочной студией тоже не всегда ясна.\n",
    "\n",
    "**Резюме:** я решил заполнить два пропуска в колонке 'production_country' вручную и оставить немногочисленные пропуски в других двух колонках 'film_studio' и 'director' как есть, в связи с неполнотой информации."
   ]
  },
  {
   "cell_type": "code",
   "execution_count": null,
   "metadata": {},
   "outputs": [
    {
     "data": {
      "text/html": [
       "<div>\n",
       "<style scoped>\n",
       "    .dataframe tbody tr th:only-of-type {\n",
       "        vertical-align: middle;\n",
       "    }\n",
       "\n",
       "    .dataframe tbody tr th {\n",
       "        vertical-align: top;\n",
       "    }\n",
       "\n",
       "    .dataframe thead th {\n",
       "        text-align: right;\n",
       "    }\n",
       "</style>\n",
       "<table border=\"1\" class=\"dataframe\">\n",
       "  <thead>\n",
       "    <tr style=\"text-align: right;\">\n",
       "      <th></th>\n",
       "      <th>title</th>\n",
       "      <th>puNumber</th>\n",
       "      <th>show_start_date</th>\n",
       "      <th>type</th>\n",
       "      <th>film_studio</th>\n",
       "      <th>production_country</th>\n",
       "      <th>director</th>\n",
       "      <th>producer</th>\n",
       "      <th>age_restriction</th>\n",
       "      <th>refundable_support</th>\n",
       "      <th>nonrefundable_support</th>\n",
       "      <th>budget</th>\n",
       "      <th>financing_source</th>\n",
       "      <th>ratings</th>\n",
       "      <th>genres</th>\n",
       "      <th>box_office</th>\n",
       "    </tr>\n",
       "  </thead>\n",
       "  <tbody>\n",
       "    <tr>\n",
       "      <th>764</th>\n",
       "      <td>Три звезды. Концерт в Waldbuhne Theater, Берли...</td>\n",
       "      <td>126003512</td>\n",
       "      <td>2012-12-04 12:00:00+00:00</td>\n",
       "      <td>Прочие</td>\n",
       "      <td>Райзинг Алтернатив</td>\n",
       "      <td>Великобритания</td>\n",
       "      <td>NaN</td>\n",
       "      <td>Вальдбюне Театр</td>\n",
       "      <td>«0+» - для любой зрительской аудитории</td>\n",
       "      <td>NaN</td>\n",
       "      <td>NaN</td>\n",
       "      <td>NaN</td>\n",
       "      <td>NaN</td>\n",
       "      <td>NaN</td>\n",
       "      <td>NaN</td>\n",
       "      <td>44350.0</td>\n",
       "    </tr>\n",
       "    <tr>\n",
       "      <th>1735</th>\n",
       "      <td>Помпеи. Британский музей</td>\n",
       "      <td>126003413</td>\n",
       "      <td>2013-09-11 12:00:00+00:00</td>\n",
       "      <td>Прочие</td>\n",
       "      <td>МортуСкрин, Британский музей</td>\n",
       "      <td>Великобритания</td>\n",
       "      <td>NaN</td>\n",
       "      <td>Британский музей</td>\n",
       "      <td>«0+» - для любой зрительской аудитории</td>\n",
       "      <td>NaN</td>\n",
       "      <td>NaN</td>\n",
       "      <td>NaN</td>\n",
       "      <td>NaN</td>\n",
       "      <td>NaN</td>\n",
       "      <td>NaN</td>\n",
       "      <td>NaN</td>\n",
       "    </tr>\n",
       "    <tr>\n",
       "      <th>3839</th>\n",
       "      <td>Зур концерт (Большой концерт).</td>\n",
       "      <td>217027010</td>\n",
       "      <td>2010-06-24 12:00:00+00:00</td>\n",
       "      <td>Художественный</td>\n",
       "      <td>ООО \"Барс Рекордс\"</td>\n",
       "      <td>Россия</td>\n",
       "      <td>NaN</td>\n",
       "      <td>NaN</td>\n",
       "      <td>«12+» - для детей старше 12 лет</td>\n",
       "      <td>NaN</td>\n",
       "      <td>NaN</td>\n",
       "      <td>NaN</td>\n",
       "      <td>NaN</td>\n",
       "      <td>NaN</td>\n",
       "      <td>NaN</td>\n",
       "      <td>NaN</td>\n",
       "    </tr>\n",
       "    <tr>\n",
       "      <th>4051</th>\n",
       "      <td>Ганс Сэйфуллин \"Авылым чишмэлэре. Ганс Сэйфулл...</td>\n",
       "      <td>217017310</td>\n",
       "      <td>2010-04-22 12:00:00+00:00</td>\n",
       "      <td>Художественный</td>\n",
       "      <td>ООО \"Барс-Рекордс\"</td>\n",
       "      <td>Россия</td>\n",
       "      <td>NaN</td>\n",
       "      <td>NaN</td>\n",
       "      <td>«0+» - для любой зрительской аудитории</td>\n",
       "      <td>NaN</td>\n",
       "      <td>NaN</td>\n",
       "      <td>NaN</td>\n",
       "      <td>NaN</td>\n",
       "      <td>NaN</td>\n",
       "      <td>NaN</td>\n",
       "      <td>NaN</td>\n",
       "    </tr>\n",
       "    <tr>\n",
       "      <th>4297</th>\n",
       "      <td>Изге Вэли (Святой Валентин)</td>\n",
       "      <td>217020610</td>\n",
       "      <td>2010-05-20 12:00:00+00:00</td>\n",
       "      <td>Художественный</td>\n",
       "      <td>ООО \"Барс Рекордс\"</td>\n",
       "      <td>Россия</td>\n",
       "      <td>NaN</td>\n",
       "      <td>NaN</td>\n",
       "      <td>«12+» - для детей старше 12 лет</td>\n",
       "      <td>NaN</td>\n",
       "      <td>NaN</td>\n",
       "      <td>NaN</td>\n",
       "      <td>NaN</td>\n",
       "      <td>NaN</td>\n",
       "      <td>NaN</td>\n",
       "      <td>NaN</td>\n",
       "    </tr>\n",
       "    <tr>\n",
       "      <th>4414</th>\n",
       "      <td>Bon Jovi. The Circle Tour</td>\n",
       "      <td>126001710</td>\n",
       "      <td>2010-11-11 12:00:00+00:00</td>\n",
       "      <td>Прочие</td>\n",
       "      <td>Эншутц Интертейнмент Груп</td>\n",
       "      <td>США</td>\n",
       "      <td>NaN</td>\n",
       "      <td>Эншутц Интертейнмент Груп</td>\n",
       "      <td>«0+» - для любой зрительской аудитории</td>\n",
       "      <td>NaN</td>\n",
       "      <td>NaN</td>\n",
       "      <td>NaN</td>\n",
       "      <td>NaN</td>\n",
       "      <td>7.9</td>\n",
       "      <td>концерт,музыка</td>\n",
       "      <td>NaN</td>\n",
       "    </tr>\n",
       "    <tr>\n",
       "      <th>4440</th>\n",
       "      <td>Мульт личности. Выпуск 5</td>\n",
       "      <td>214000410</td>\n",
       "      <td>2010-01-25 12:00:00+00:00</td>\n",
       "      <td>Художественный</td>\n",
       "      <td>NaN</td>\n",
       "      <td>Россия</td>\n",
       "      <td>NaN</td>\n",
       "      <td>NaN</td>\n",
       "      <td>«0+» - для любой зрительской аудитории</td>\n",
       "      <td>NaN</td>\n",
       "      <td>NaN</td>\n",
       "      <td>NaN</td>\n",
       "      <td>NaN</td>\n",
       "      <td>4.0</td>\n",
       "      <td>мультфильм,комедия</td>\n",
       "      <td>NaN</td>\n",
       "    </tr>\n",
       "    <tr>\n",
       "      <th>4922</th>\n",
       "      <td>Георг Фридрих Гендель. Мессия. Оратория. Корол...</td>\n",
       "      <td>126001111</td>\n",
       "      <td>2011-04-25 12:00:00+00:00</td>\n",
       "      <td>Прочие</td>\n",
       "      <td>Опус Арт</td>\n",
       "      <td>Великобритания</td>\n",
       "      <td>NaN</td>\n",
       "      <td>Короевский колледж Кембриджа</td>\n",
       "      <td>«0+» - для любой зрительской аудитории</td>\n",
       "      <td>NaN</td>\n",
       "      <td>NaN</td>\n",
       "      <td>NaN</td>\n",
       "      <td>NaN</td>\n",
       "      <td>NaN</td>\n",
       "      <td>NaN</td>\n",
       "      <td>NaN</td>\n",
       "    </tr>\n",
       "    <tr>\n",
       "      <th>4941</th>\n",
       "      <td>Питер Гэбриэл и New Blood Orchestra 3D</td>\n",
       "      <td>126002711</td>\n",
       "      <td>2011-11-11 12:00:00+00:00</td>\n",
       "      <td>Прочие</td>\n",
       "      <td>Омниверс Визион</td>\n",
       "      <td>Великобритания</td>\n",
       "      <td>NaN</td>\n",
       "      <td>Омниверс Визион</td>\n",
       "      <td>«0+» - для любой зрительской аудитории</td>\n",
       "      <td>NaN</td>\n",
       "      <td>NaN</td>\n",
       "      <td>NaN</td>\n",
       "      <td>NaN</td>\n",
       "      <td>6.7</td>\n",
       "      <td>концерт,музыка</td>\n",
       "      <td>NaN</td>\n",
       "    </tr>\n",
       "  </tbody>\n",
       "</table>\n",
       "</div>"
      ],
      "text/plain": [
       "                                                  title   puNumber  \\\n",
       "764   Три звезды. Концерт в Waldbuhne Theater, Берли...  126003512   \n",
       "1735                           Помпеи. Британский музей  126003413   \n",
       "3839                     Зур концерт (Большой концерт).  217027010   \n",
       "4051  Ганс Сэйфуллин \"Авылым чишмэлэре. Ганс Сэйфулл...  217017310   \n",
       "4297                        Изге Вэли (Святой Валентин)  217020610   \n",
       "4414                          Bon Jovi. The Circle Tour  126001710   \n",
       "4440                           Мульт личности. Выпуск 5  214000410   \n",
       "4922  Георг Фридрих Гендель. Мессия. Оратория. Корол...  126001111   \n",
       "4941             Питер Гэбриэл и New Blood Orchestra 3D  126002711   \n",
       "\n",
       "               show_start_date            type                   film_studio  \\\n",
       "764  2012-12-04 12:00:00+00:00          Прочие            Райзинг Алтернатив   \n",
       "1735 2013-09-11 12:00:00+00:00          Прочие  МортуСкрин, Британский музей   \n",
       "3839 2010-06-24 12:00:00+00:00  Художественный            ООО \"Барс Рекордс\"   \n",
       "4051 2010-04-22 12:00:00+00:00  Художественный            ООО \"Барс-Рекордс\"   \n",
       "4297 2010-05-20 12:00:00+00:00  Художественный            ООО \"Барс Рекордс\"   \n",
       "4414 2010-11-11 12:00:00+00:00          Прочие     Эншутц Интертейнмент Груп   \n",
       "4440 2010-01-25 12:00:00+00:00  Художественный                           NaN   \n",
       "4922 2011-04-25 12:00:00+00:00          Прочие                      Опус Арт   \n",
       "4941 2011-11-11 12:00:00+00:00          Прочие               Омниверс Визион   \n",
       "\n",
       "     production_country director                      producer  \\\n",
       "764      Великобритания      NaN               Вальдбюне Театр   \n",
       "1735     Великобритания      NaN              Британский музей   \n",
       "3839             Россия      NaN                           NaN   \n",
       "4051             Россия      NaN                           NaN   \n",
       "4297             Россия      NaN                           NaN   \n",
       "4414                США      NaN     Эншутц Интертейнмент Груп   \n",
       "4440             Россия      NaN                           NaN   \n",
       "4922     Великобритания      NaN  Короевский колледж Кембриджа   \n",
       "4941     Великобритания      NaN               Омниверс Визион   \n",
       "\n",
       "                             age_restriction  refundable_support  \\\n",
       "764   «0+» - для любой зрительской аудитории                 NaN   \n",
       "1735  «0+» - для любой зрительской аудитории                 NaN   \n",
       "3839         «12+» - для детей старше 12 лет                 NaN   \n",
       "4051  «0+» - для любой зрительской аудитории                 NaN   \n",
       "4297         «12+» - для детей старше 12 лет                 NaN   \n",
       "4414  «0+» - для любой зрительской аудитории                 NaN   \n",
       "4440  «0+» - для любой зрительской аудитории                 NaN   \n",
       "4922  «0+» - для любой зрительской аудитории                 NaN   \n",
       "4941  «0+» - для любой зрительской аудитории                 NaN   \n",
       "\n",
       "      nonrefundable_support  budget financing_source  ratings  \\\n",
       "764                     NaN     NaN              NaN      NaN   \n",
       "1735                    NaN     NaN              NaN      NaN   \n",
       "3839                    NaN     NaN              NaN      NaN   \n",
       "4051                    NaN     NaN              NaN      NaN   \n",
       "4297                    NaN     NaN              NaN      NaN   \n",
       "4414                    NaN     NaN              NaN      7.9   \n",
       "4440                    NaN     NaN              NaN      4.0   \n",
       "4922                    NaN     NaN              NaN      NaN   \n",
       "4941                    NaN     NaN              NaN      6.7   \n",
       "\n",
       "                  genres  box_office  \n",
       "764                  NaN     44350.0  \n",
       "1735                 NaN         NaN  \n",
       "3839                 NaN         NaN  \n",
       "4051                 NaN         NaN  \n",
       "4297                 NaN         NaN  \n",
       "4414      концерт,музыка         NaN  \n",
       "4440  мультфильм,комедия         NaN  \n",
       "4922                 NaN         NaN  \n",
       "4941      концерт,музыка         NaN  "
      ]
     },
     "execution_count": 22,
     "metadata": {},
     "output_type": "execute_result"
    }
   ],
   "source": [
    "# Заполняем пропущенные значния\n",
    "\n",
    "df.loc[3185,'production_country'] = 'Россия'\n",
    "df.loc[4440,'production_country'] = 'Россия'\n",
    "\n",
    "# Проверяем результат - выводим срез с пропусками: индексов 3185 и 4440 среди пропусков больше нет\n",
    "\n",
    "df[(df['production_country'].isna()) | (df['director'].isna())]"
   ]
  },
  {
   "cell_type": "code",
   "execution_count": null,
   "metadata": {},
   "outputs": [
    {
     "name": "stdout",
     "output_type": "stream",
     "text": [
      "7153\n",
      "7153\n",
      "7153\n"
     ]
    }
   ],
   "source": [
    "# Чтобы убедиться что пропуски в колонке 'budget', 'refundable_support', 'nonrefundable_support' 'financing_source' не являются случайными,\n",
    "# а имеют пропуски в одних и тех же строках, считаем попарно количество общих пропусков.\n",
    "\n",
    "print(len(df.loc[(df['budget'].isna()) & (df['refundable_support'].isna())]))\n",
    "print(len(df.loc[(df['budget'].isna()) & (df['nonrefundable_support'].isna())]))\n",
    "print(len(df.loc[(df['budget'].isna()) & (df['financing_source'].isna())]))"
   ]
  },
  {
   "cell_type": "markdown",
   "metadata": {},
   "source": [
    "Мы видим, что основное количество пропусков приходятся на колонки: \n",
    "\n",
    "'refundable_support'\\\n",
    "'nonrefundable_support'\\\n",
    "'budget'\\\n",
    "'financing_source'\n",
    "\n",
    "\n",
    "У этих данных есть одна общая черта, информармация в вышеперечисленых колонках касается фильмов с господдержкой. Господдержку получили только те фильмы по котором имеется информация в колонке `budget`, таких фильмов `332`.\n",
    "\n",
    "Заполнять и тем более стирать пропущенные значения в этих колонках считаю нецелесообразным на данном этапе.\n"
   ]
  },
  {
   "cell_type": "markdown",
   "metadata": {},
   "source": [
    "#### 1.1.2.3. <a id='toc1_1_2_3_'></a>[Шаг 2.3. Изучите дубликаты в датафрейме](#toc0_)\n",
    "- Проверьте, есть ли в данных дубликаты. Опишите причины, которые могли повлиять на появление дублей."
   ]
  },
  {
   "cell_type": "code",
   "execution_count": null,
   "metadata": {
    "id": "aKck8RIdgFyQ"
   },
   "outputs": [
    {
     "data": {
      "text/plain": [
       "0"
      ]
     },
     "execution_count": 24,
     "metadata": {},
     "output_type": "execute_result"
    }
   ],
   "source": [
    "# Проверяем очевидные дубликаты - строки которые полностью повторяют уже встречавшиеся в датасете. Очевидных дубликатов нет.\n",
    "\n",
    "df.duplicated().sum()"
   ]
  },
  {
   "cell_type": "markdown",
   "metadata": {},
   "source": [
    "Проверим неочевидные дубликаты, для этого выведем уникальные значения по столбцам"
   ]
  },
  {
   "cell_type": "code",
   "execution_count": null,
   "metadata": {},
   "outputs": [],
   "source": [
    "# Для удобства проверки уникальных значений создадим функцию, и посмотрим самые подозрительные колонки на предмет неочевидных пропусков\n",
    "\n",
    "def uq(col):\n",
    "    print(df[col].unique())"
   ]
  },
  {
   "cell_type": "markdown",
   "metadata": {},
   "source": [
    "Выберем колонки наиболее чувствительные к дубликатам"
   ]
  },
  {
   "cell_type": "code",
   "execution_count": null,
   "metadata": {},
   "outputs": [
    {
     "name": "stdout",
     "output_type": "stream",
     "text": [
      "['Художественный' 'Анимационный' 'Прочие' 'Документальный'\n",
      " 'Научно-популярный' ' Художественный' ' Анимационный'\n",
      " 'Музыкально-развлекательный']\n"
     ]
    }
   ],
   "source": [
    "# Ищем дубликаты в типах фильмов. Есть два дубликата - типы фильмов: Художественный и Анимационный\n",
    "# Разница в нвписании из-за пробела перед типом фильма\n",
    "\n",
    "uq('type')"
   ]
  },
  {
   "cell_type": "code",
   "execution_count": null,
   "metadata": {},
   "outputs": [
    {
     "name": "stdout",
     "output_type": "stream",
     "text": [
      "['«18+» - запрещено для детей' '«6+» - для детей старше 6 лет'\n",
      " '«12+» - для детей старше 12 лет' '«16+» - для детей старше 16 лет'\n",
      " '«0+» - для любой зрительской аудитории']\n"
     ]
    }
   ],
   "source": [
    "# Ищем дубликаты в возрастных ограничениях. Дубликатов нет\n",
    "\n",
    "uq('age_restriction')"
   ]
  },
  {
   "cell_type": "code",
   "execution_count": null,
   "metadata": {},
   "outputs": [
    {
     "data": {
      "text/plain": [
       "714"
      ]
     },
     "execution_count": 28,
     "metadata": {},
     "output_type": "execute_result"
    }
   ],
   "source": [
    "df['title'].duplicated().sum()"
   ]
  },
  {
   "cell_type": "code",
   "execution_count": null,
   "metadata": {},
   "outputs": [
    {
     "data": {
      "text/html": [
       "<div>\n",
       "<style scoped>\n",
       "    .dataframe tbody tr th:only-of-type {\n",
       "        vertical-align: middle;\n",
       "    }\n",
       "\n",
       "    .dataframe tbody tr th {\n",
       "        vertical-align: top;\n",
       "    }\n",
       "\n",
       "    .dataframe thead th {\n",
       "        text-align: right;\n",
       "    }\n",
       "</style>\n",
       "<table border=\"1\" class=\"dataframe\">\n",
       "  <thead>\n",
       "    <tr style=\"text-align: right;\">\n",
       "      <th></th>\n",
       "      <th>title</th>\n",
       "      <th>puNumber</th>\n",
       "      <th>show_start_date</th>\n",
       "      <th>type</th>\n",
       "      <th>film_studio</th>\n",
       "      <th>production_country</th>\n",
       "      <th>director</th>\n",
       "      <th>producer</th>\n",
       "      <th>age_restriction</th>\n",
       "      <th>refundable_support</th>\n",
       "      <th>nonrefundable_support</th>\n",
       "      <th>budget</th>\n",
       "      <th>financing_source</th>\n",
       "      <th>ratings</th>\n",
       "      <th>genres</th>\n",
       "      <th>box_office</th>\n",
       "    </tr>\n",
       "  </thead>\n",
       "  <tbody>\n",
       "    <tr>\n",
       "      <th>3</th>\n",
       "      <td>Особо опасен</td>\n",
       "      <td>221026916</td>\n",
       "      <td>2016-06-10 12:00:00+00:00</td>\n",
       "      <td>Художественный</td>\n",
       "      <td>Юниверсал Пикчерз, Кикстарт Продакшнз, Марк Пл...</td>\n",
       "      <td>США</td>\n",
       "      <td>Тимур Бекмамбетов</td>\n",
       "      <td>Джим Лемли, Джейсон Нетер, Марк Е.Платт, Яйн Смит</td>\n",
       "      <td>«18+» - запрещено для детей</td>\n",
       "      <td>NaN</td>\n",
       "      <td>NaN</td>\n",
       "      <td>NaN</td>\n",
       "      <td>NaN</td>\n",
       "      <td>6.8</td>\n",
       "      <td>фантастика,боевик,триллер</td>\n",
       "      <td>NaN</td>\n",
       "    </tr>\n",
       "    <tr>\n",
       "      <th>4</th>\n",
       "      <td>Особо опасен</td>\n",
       "      <td>221030815</td>\n",
       "      <td>2015-07-29 12:00:00+00:00</td>\n",
       "      <td>Художественный</td>\n",
       "      <td>Юниверсал Пикчерз, Кикстарт Продакшнз, Марк Пл...</td>\n",
       "      <td>США</td>\n",
       "      <td>Тимур Бекмамбетов</td>\n",
       "      <td>Джим Лемли, Джейсон Нетер, Марк Е.Платт, Яйн Смит</td>\n",
       "      <td>«18+» - запрещено для детей</td>\n",
       "      <td>NaN</td>\n",
       "      <td>NaN</td>\n",
       "      <td>NaN</td>\n",
       "      <td>NaN</td>\n",
       "      <td>6.8</td>\n",
       "      <td>фантастика,боевик,триллер</td>\n",
       "      <td>NaN</td>\n",
       "    </tr>\n",
       "    <tr>\n",
       "      <th>41</th>\n",
       "      <td>Алекс и Эмма</td>\n",
       "      <td>221004616</td>\n",
       "      <td>2016-02-09 12:00:00+00:00</td>\n",
       "      <td>Художественный</td>\n",
       "      <td>Эскейп Артистс, Франчайз Пикчерз, Рейнер-Грэйс...</td>\n",
       "      <td>США</td>\n",
       "      <td>Роб Райнер</td>\n",
       "      <td>Тодд Блэк, Элан Грейсман, Джереми Левен, Роб Р...</td>\n",
       "      <td>«16+» - для детей старше 16 лет</td>\n",
       "      <td>NaN</td>\n",
       "      <td>NaN</td>\n",
       "      <td>NaN</td>\n",
       "      <td>NaN</td>\n",
       "      <td>6.4</td>\n",
       "      <td>мелодрама,комедия</td>\n",
       "      <td>NaN</td>\n",
       "    </tr>\n",
       "    <tr>\n",
       "      <th>110</th>\n",
       "      <td>Гарри Поттер и орден Феникса /По роману Дж.К.Р...</td>\n",
       "      <td>121026316</td>\n",
       "      <td>2016-09-23 12:00:00+00:00</td>\n",
       "      <td>Художественный</td>\n",
       "      <td>Уорнер Бразерс, Хэйдей Филмз</td>\n",
       "      <td>США - Великобритания</td>\n",
       "      <td>Дэвид Йетс</td>\n",
       "      <td>Дэйвид Баррон, Дэйвид Хейман</td>\n",
       "      <td>«16+» - для детей старше 16 лет</td>\n",
       "      <td>NaN</td>\n",
       "      <td>NaN</td>\n",
       "      <td>NaN</td>\n",
       "      <td>NaN</td>\n",
       "      <td>7.7</td>\n",
       "      <td>фэнтези,приключения,семейный</td>\n",
       "      <td>759526.0</td>\n",
       "    </tr>\n",
       "    <tr>\n",
       "      <th>113</th>\n",
       "      <td>Гарри Поттер и узник Азкабана /По роману Дж.К....</td>\n",
       "      <td>121026116</td>\n",
       "      <td>2016-09-23 12:00:00+00:00</td>\n",
       "      <td>Художественный</td>\n",
       "      <td>Хэйдей Филмз, 1492 Пикчерз, Уорнер Бразерс</td>\n",
       "      <td>США</td>\n",
       "      <td>Альфонсо Куарон</td>\n",
       "      <td>Майкл Барната</td>\n",
       "      <td>«12+» - для детей старше 12 лет</td>\n",
       "      <td>NaN</td>\n",
       "      <td>NaN</td>\n",
       "      <td>NaN</td>\n",
       "      <td>NaN</td>\n",
       "      <td>8.2</td>\n",
       "      <td>фэнтези,приключения,семейный</td>\n",
       "      <td>1125302.0</td>\n",
       "    </tr>\n",
       "  </tbody>\n",
       "</table>\n",
       "</div>"
      ],
      "text/plain": [
       "                                                 title   puNumber  \\\n",
       "3                                         Особо опасен  221026916   \n",
       "4                                         Особо опасен  221030815   \n",
       "41                                        Алекс и Эмма  221004616   \n",
       "110  Гарри Поттер и орден Феникса /По роману Дж.К.Р...  121026316   \n",
       "113  Гарри Поттер и узник Азкабана /По роману Дж.К....  121026116   \n",
       "\n",
       "              show_start_date            type  \\\n",
       "3   2016-06-10 12:00:00+00:00  Художественный   \n",
       "4   2015-07-29 12:00:00+00:00  Художественный   \n",
       "41  2016-02-09 12:00:00+00:00  Художественный   \n",
       "110 2016-09-23 12:00:00+00:00  Художественный   \n",
       "113 2016-09-23 12:00:00+00:00  Художественный   \n",
       "\n",
       "                                           film_studio    production_country  \\\n",
       "3    Юниверсал Пикчерз, Кикстарт Продакшнз, Марк Пл...                   США   \n",
       "4    Юниверсал Пикчерз, Кикстарт Продакшнз, Марк Пл...                   США   \n",
       "41   Эскейп Артистс, Франчайз Пикчерз, Рейнер-Грэйс...                   США   \n",
       "110                       Уорнер Бразерс, Хэйдей Филмз  США - Великобритания   \n",
       "113         Хэйдей Филмз, 1492 Пикчерз, Уорнер Бразерс                   США   \n",
       "\n",
       "              director                                           producer  \\\n",
       "3    Тимур Бекмамбетов  Джим Лемли, Джейсон Нетер, Марк Е.Платт, Яйн Смит   \n",
       "4    Тимур Бекмамбетов  Джим Лемли, Джейсон Нетер, Марк Е.Платт, Яйн Смит   \n",
       "41          Роб Райнер  Тодд Блэк, Элан Грейсман, Джереми Левен, Роб Р...   \n",
       "110         Дэвид Йетс                       Дэйвид Баррон, Дэйвид Хейман   \n",
       "113    Альфонсо Куарон                                      Майкл Барната   \n",
       "\n",
       "                     age_restriction  refundable_support  \\\n",
       "3        «18+» - запрещено для детей                 NaN   \n",
       "4        «18+» - запрещено для детей                 NaN   \n",
       "41   «16+» - для детей старше 16 лет                 NaN   \n",
       "110  «16+» - для детей старше 16 лет                 NaN   \n",
       "113  «12+» - для детей старше 12 лет                 NaN   \n",
       "\n",
       "     nonrefundable_support  budget financing_source  ratings  \\\n",
       "3                      NaN     NaN              NaN      6.8   \n",
       "4                      NaN     NaN              NaN      6.8   \n",
       "41                     NaN     NaN              NaN      6.4   \n",
       "110                    NaN     NaN              NaN      7.7   \n",
       "113                    NaN     NaN              NaN      8.2   \n",
       "\n",
       "                           genres  box_office  \n",
       "3       фантастика,боевик,триллер         NaN  \n",
       "4       фантастика,боевик,триллер         NaN  \n",
       "41              мелодрама,комедия         NaN  \n",
       "110  фэнтези,приключения,семейный    759526.0  \n",
       "113  фэнтези,приключения,семейный   1125302.0  "
      ]
     },
     "execution_count": 29,
     "metadata": {},
     "output_type": "execute_result"
    }
   ],
   "source": [
    "df[df['title'].duplicated()].head()"
   ]
  },
  {
   "cell_type": "markdown",
   "metadata": {},
   "source": [
    "Мы выяснили, что явных дубликатов нет, но присутствуют неявные дубликаты в названии типов фильмов.\n",
    "Скорее всего, категориальные дубликаты возникли в результате ошибки пользователя при занесении информаци, повторных переставлений или неправильного соединения данных из разных источников.\n",
    "\n",
    "Также есть дублирующие друг-друга названия фильмов, однако, у них разные номера прокатных удостоверений. Что говорит, скорее, всего, что удостоверения выдавались не единажды."
   ]
  },
  {
   "cell_type": "markdown",
   "metadata": {},
   "source": [
    "#### 1.1.2.4. <a id='toc1_1_2_4_'></a>[Шаг 2.4. Изучите категориальные значения](#toc0_)\n",
    "\n",
    "- Посмотрите, какая общая проблема встречается почти во всех категориальных столбцах;\n",
    "- Исправьте проблемные значения в поле `type`.\n",
    "\n",
    "<div id=\"accordion\">\n",
    "    <div class=\"card\">\n",
    "        <div class=\"card-header\" id=\"headingThree\">\n",
    "            <button class=\"btn btn-link collapsed\" data-toggle=\"collapse\" data-target=\"#collapseHint_1\" aria-expanded=\"false\" aria-controls=\"collapseHint_1\">Подсказка</button>\n",
    "        </div>\n",
    "        <div id=\"collapseHint_1\" class=\"collapse\" aria-labelledby=\"headingThree\" data-parent=\"#accordion\">\n",
    "            <div class=\"card-body\">\n",
    "В поле <code>type</code> есть несколько значений, у которых появился пробел в начале строки. Самый простой способ их «починить» -- использовать метод <a href=\"https://pandas.pydata.org/docs/reference/api/pandas.Series.str.strip.html#pandas.Series.str.strip\">.str.strip</a>. Этот метод удаляет все пробелы, которые встречаются в начале и в конце строки. Применяют его таким образом:<br>\n",
    "<code>df['type'].str.strip()</code>\n",
    "            </div>\n",
    "        </div>\n",
    "    </div>\n",
    "</div>"
   ]
  },
  {
   "cell_type": "code",
   "execution_count": null,
   "metadata": {},
   "outputs": [
    {
     "data": {
      "text/html": [
       "<div>\n",
       "<style scoped>\n",
       "    .dataframe tbody tr th:only-of-type {\n",
       "        vertical-align: middle;\n",
       "    }\n",
       "\n",
       "    .dataframe tbody tr th {\n",
       "        vertical-align: top;\n",
       "    }\n",
       "\n",
       "    .dataframe thead th {\n",
       "        text-align: right;\n",
       "    }\n",
       "</style>\n",
       "<table border=\"1\" class=\"dataframe\">\n",
       "  <thead>\n",
       "    <tr style=\"text-align: right;\">\n",
       "      <th></th>\n",
       "      <th>title</th>\n",
       "      <th>puNumber</th>\n",
       "      <th>show_start_date</th>\n",
       "      <th>type</th>\n",
       "      <th>film_studio</th>\n",
       "      <th>production_country</th>\n",
       "      <th>director</th>\n",
       "      <th>producer</th>\n",
       "      <th>age_restriction</th>\n",
       "      <th>refundable_support</th>\n",
       "      <th>nonrefundable_support</th>\n",
       "      <th>budget</th>\n",
       "      <th>financing_source</th>\n",
       "      <th>ratings</th>\n",
       "      <th>genres</th>\n",
       "      <th>box_office</th>\n",
       "    </tr>\n",
       "  </thead>\n",
       "  <tbody>\n",
       "    <tr>\n",
       "      <th>0</th>\n",
       "      <td>Открытый простор</td>\n",
       "      <td>221048915</td>\n",
       "      <td>2015-11-27 12:00:00+00:00</td>\n",
       "      <td>Художественный</td>\n",
       "      <td>Тачстоун Пикчерз, Кобальт Пикчерз, Бикон Пикче...</td>\n",
       "      <td>США</td>\n",
       "      <td>Кевин Костнер</td>\n",
       "      <td>Дэвид Валдес, Кевин Костнер, Джейк Эбертс</td>\n",
       "      <td>«18+» - запрещено для детей</td>\n",
       "      <td>NaN</td>\n",
       "      <td>NaN</td>\n",
       "      <td>NaN</td>\n",
       "      <td>NaN</td>\n",
       "      <td>7.2</td>\n",
       "      <td>боевик,драма,мелодрама</td>\n",
       "      <td>NaN</td>\n",
       "    </tr>\n",
       "    <tr>\n",
       "      <th>1</th>\n",
       "      <td>Особо важное задание</td>\n",
       "      <td>111013716</td>\n",
       "      <td>2016-09-13 12:00:00+00:00</td>\n",
       "      <td>Художественный</td>\n",
       "      <td>Киностудия \"Мосфильм\"</td>\n",
       "      <td>СССР</td>\n",
       "      <td>Е.Матвеев</td>\n",
       "      <td>NaN</td>\n",
       "      <td>«6+» - для детей старше 6 лет</td>\n",
       "      <td>NaN</td>\n",
       "      <td>NaN</td>\n",
       "      <td>NaN</td>\n",
       "      <td>NaN</td>\n",
       "      <td>6.6</td>\n",
       "      <td>драма,военный</td>\n",
       "      <td>NaN</td>\n",
       "    </tr>\n",
       "    <tr>\n",
       "      <th>2</th>\n",
       "      <td>Особо опасен</td>\n",
       "      <td>221038416</td>\n",
       "      <td>2016-10-10 12:00:00+00:00</td>\n",
       "      <td>Художественный</td>\n",
       "      <td>Юниверсал Пикчерз, Кикстарт Продакшнз, Марк Пл...</td>\n",
       "      <td>США</td>\n",
       "      <td>Тимур Бекмамбетов</td>\n",
       "      <td>Джим Лемли, Джейсон Нетер, Марк Е.Платт, Яйн Смит</td>\n",
       "      <td>«18+» - запрещено для детей</td>\n",
       "      <td>NaN</td>\n",
       "      <td>NaN</td>\n",
       "      <td>NaN</td>\n",
       "      <td>NaN</td>\n",
       "      <td>6.8</td>\n",
       "      <td>фантастика,боевик,триллер</td>\n",
       "      <td>NaN</td>\n",
       "    </tr>\n",
       "    <tr>\n",
       "      <th>3</th>\n",
       "      <td>Особо опасен</td>\n",
       "      <td>221026916</td>\n",
       "      <td>2016-06-10 12:00:00+00:00</td>\n",
       "      <td>Художественный</td>\n",
       "      <td>Юниверсал Пикчерз, Кикстарт Продакшнз, Марк Пл...</td>\n",
       "      <td>США</td>\n",
       "      <td>Тимур Бекмамбетов</td>\n",
       "      <td>Джим Лемли, Джейсон Нетер, Марк Е.Платт, Яйн Смит</td>\n",
       "      <td>«18+» - запрещено для детей</td>\n",
       "      <td>NaN</td>\n",
       "      <td>NaN</td>\n",
       "      <td>NaN</td>\n",
       "      <td>NaN</td>\n",
       "      <td>6.8</td>\n",
       "      <td>фантастика,боевик,триллер</td>\n",
       "      <td>NaN</td>\n",
       "    </tr>\n",
       "    <tr>\n",
       "      <th>4</th>\n",
       "      <td>Особо опасен</td>\n",
       "      <td>221030815</td>\n",
       "      <td>2015-07-29 12:00:00+00:00</td>\n",
       "      <td>Художественный</td>\n",
       "      <td>Юниверсал Пикчерз, Кикстарт Продакшнз, Марк Пл...</td>\n",
       "      <td>США</td>\n",
       "      <td>Тимур Бекмамбетов</td>\n",
       "      <td>Джим Лемли, Джейсон Нетер, Марк Е.Платт, Яйн Смит</td>\n",
       "      <td>«18+» - запрещено для детей</td>\n",
       "      <td>NaN</td>\n",
       "      <td>NaN</td>\n",
       "      <td>NaN</td>\n",
       "      <td>NaN</td>\n",
       "      <td>6.8</td>\n",
       "      <td>фантастика,боевик,триллер</td>\n",
       "      <td>NaN</td>\n",
       "    </tr>\n",
       "  </tbody>\n",
       "</table>\n",
       "</div>"
      ],
      "text/plain": [
       "                  title   puNumber           show_start_date            type  \\\n",
       "0      Открытый простор  221048915 2015-11-27 12:00:00+00:00  Художественный   \n",
       "1  Особо важное задание  111013716 2016-09-13 12:00:00+00:00  Художественный   \n",
       "2          Особо опасен  221038416 2016-10-10 12:00:00+00:00  Художественный   \n",
       "3          Особо опасен  221026916 2016-06-10 12:00:00+00:00  Художественный   \n",
       "4          Особо опасен  221030815 2015-07-29 12:00:00+00:00  Художественный   \n",
       "\n",
       "                                         film_studio production_country  \\\n",
       "0  Тачстоун Пикчерз, Кобальт Пикчерз, Бикон Пикче...                США   \n",
       "1                              Киностудия \"Мосфильм\"               СССР   \n",
       "2  Юниверсал Пикчерз, Кикстарт Продакшнз, Марк Пл...                США   \n",
       "3  Юниверсал Пикчерз, Кикстарт Продакшнз, Марк Пл...                США   \n",
       "4  Юниверсал Пикчерз, Кикстарт Продакшнз, Марк Пл...                США   \n",
       "\n",
       "            director                                           producer  \\\n",
       "0      Кевин Костнер          Дэвид Валдес, Кевин Костнер, Джейк Эбертс   \n",
       "1          Е.Матвеев                                                NaN   \n",
       "2  Тимур Бекмамбетов  Джим Лемли, Джейсон Нетер, Марк Е.Платт, Яйн Смит   \n",
       "3  Тимур Бекмамбетов  Джим Лемли, Джейсон Нетер, Марк Е.Платт, Яйн Смит   \n",
       "4  Тимур Бекмамбетов  Джим Лемли, Джейсон Нетер, Марк Е.Платт, Яйн Смит   \n",
       "\n",
       "                 age_restriction  refundable_support  nonrefundable_support  \\\n",
       "0    «18+» - запрещено для детей                 NaN                    NaN   \n",
       "1  «6+» - для детей старше 6 лет                 NaN                    NaN   \n",
       "2    «18+» - запрещено для детей                 NaN                    NaN   \n",
       "3    «18+» - запрещено для детей                 NaN                    NaN   \n",
       "4    «18+» - запрещено для детей                 NaN                    NaN   \n",
       "\n",
       "   budget financing_source  ratings                     genres  box_office  \n",
       "0     NaN              NaN      7.2     боевик,драма,мелодрама         NaN  \n",
       "1     NaN              NaN      6.6              драма,военный         NaN  \n",
       "2     NaN              NaN      6.8  фантастика,боевик,триллер         NaN  \n",
       "3     NaN              NaN      6.8  фантастика,боевик,триллер         NaN  \n",
       "4     NaN              NaN      6.8  фантастика,боевик,триллер         NaN  "
      ]
     },
     "execution_count": 30,
     "metadata": {},
     "output_type": "execute_result"
    }
   ],
   "source": [
    "# Выведем первые строки таблицы для изучения ответа на вопрос о категориальных столбцах\n",
    "\n",
    "df.head()"
   ]
  },
  {
   "cell_type": "markdown",
   "metadata": {
    "id": "PnXKIVdFgFyR"
   },
   "source": [
    "Насколько видно из таблицы, во многоих категориальных столбцах, таких как `'genres'`, `'film_studio'`, `'production_country'`, `'producer'` могут сосуществовать сразу несколько значений, например, над фильмом могли работать сразу несколько продюссеров или картина могла сниматься в нескольких странах.\n",
    "\n",
    "Такое разнообразие делает категоризацию более запутаной и менее внятной.\n",
    "\n",
    "В дополнение к вышесказанному, общая особеность катеориальных значений, это невозможность проводить над ними арифметические действия. Чтобы обойти это проблему, можно присвоить номерные значения категориям, это повысит возможости по их обработке но уменьшит читабельность."
   ]
  },
  {
   "cell_type": "code",
   "execution_count": null,
   "metadata": {},
   "outputs": [
    {
     "data": {
      "text/plain": [
       "array(['Художественный', 'Анимационный', 'Прочие', 'Документальный',\n",
       "       'Научно-популярный', 'Музыкально-развлекательный'], dtype=object)"
      ]
     },
     "execution_count": 31,
     "metadata": {},
     "output_type": "execute_result"
    }
   ],
   "source": [
    "# Избавляемся от пробелов в наименовании типов в колонке 'type' и перезаписываем в колонку 'type'\n",
    "\n",
    "df['type'] = df['type'].str.strip()\n",
    "\n",
    "# Проверяем факт удаления пробелов\n",
    "\n",
    "df['type'].unique()"
   ]
  },
  {
   "cell_type": "markdown",
   "metadata": {},
   "source": [
    "#### 1.1.2.5. <a id='toc1_1_2_5_'></a>[Шаг 2.5. Проверьте количественные значения](#toc0_)\n",
    "\n",
    "- Проверьте, обнаружились ли в таких столбцах подозрительные данные. Как с такими данными лучше поступить?\n",
    "\n",
    "<div id=\"accordion\">\n",
    "    <div class=\"card\">\n",
    "        <div class=\"card-header\" id=\"headingThree\">\n",
    "            <button class=\"btn btn-link collapsed\" data-toggle=\"collapse\" data-target=\"#collapseHint_budget\" aria-expanded=\"false\" aria-controls=\"collapseHint_budget\">Подсказка</button>\n",
    "        </div>\n",
    "        <div id=\"collapseHint_budget\" class=\"collapse\" aria-labelledby=\"headingThree\" data-parent=\"#accordion\">\n",
    "            <div class=\"card-body\">\n",
    "Обратите внимание на описание столбца <code>budget</code>. Как этот столбец соотносится с двумя другими: <code>refundable_support</code> и <code>nonrefundable_support</code>?\n",
    "            </div>\n",
    "        </div>\n",
    "    </div>\n",
    "</div>"
   ]
  },
  {
   "cell_type": "markdown",
   "metadata": {
    "id": "YbzClBxagFyS"
   },
   "source": [
    "Как уже было подмечено в задании 2.2 во время первичной предобработки данных - вывод можно сделать следующий:\n",
    "\n",
    "Как известно из документации к исследованию, информармация в вышеперечисленых колонках касается фильмов с господдержкой, господдержку получили только те фильмы по котором имеется информация в колонке 'budget', таких фильмов 332.\n",
    "\n",
    "Поэтому, заполнять и тем более, стирать пропущенные значения в этих колонках считаю нецелесообразным.\n",
    "\n",
    "Соотношение столбцов можно описать нижеследующим образом:\n"
   ]
  },
  {
   "cell_type": "code",
   "execution_count": null,
   "metadata": {},
   "outputs": [
    {
     "name": "stdout",
     "output_type": "stream",
     "text": [
      "7153\n",
      "7153\n"
     ]
    }
   ],
   "source": [
    "# Чтобы убедиться, что пропуски в колонке 'budget', 'refundable_support' и 'nonrefundable_support' не являются случайными,\n",
    "# а имеют пропуски в одних и тех же строках, считаем попарно количество общих пропусков.\n",
    "\n",
    "print(len(df.loc[(df['budget'].isna()) & (df['refundable_support'].isna())]))\n",
    "print(len(df.loc[(df['budget'].isna()) & (df['nonrefundable_support'].isna())]))"
   ]
  },
  {
   "cell_type": "markdown",
   "metadata": {},
   "source": [
    "Проверим, как соотносится буджет и субсидии предоставленные на съёмку фильма"
   ]
  },
  {
   "cell_type": "code",
   "execution_count": null,
   "metadata": {},
   "outputs": [
    {
     "data": {
      "text/plain": [
       "315"
      ]
     },
     "execution_count": 33,
     "metadata": {},
     "output_type": "execute_result"
    }
   ],
   "source": [
    "(df['budget'] >= df['refundable_support'] + df['nonrefundable_support']).sum()"
   ]
  },
  {
   "cell_type": "code",
   "execution_count": null,
   "metadata": {},
   "outputs": [
    {
     "data": {
      "text/plain": [
       "17"
      ]
     },
     "execution_count": 34,
     "metadata": {},
     "output_type": "execute_result"
    }
   ],
   "source": [
    "(df['budget'] <= df['refundable_support'] + df['nonrefundable_support']).sum()"
   ]
  },
  {
   "cell_type": "markdown",
   "metadata": {},
   "source": [
    "**Вывод:** пропуски в трёх столбцах `'budget'`, `'refundable_support'` и `'nonrefundable_support'` приходятся на одни и те же строки.\n",
    "\n",
    "Это говорит о том, что такие данные как объём возвратных средств государственной поддержки и объём невозвратных средств государственной поддержки актуальны только для тех картин, которые субсидируются государством.\n",
    "\n",
    "Мы видим что в 17 случаях общий бюджет фильма меньше чем суммрные субсидии ('refundable_support'` и `'nonrefundable_support') что странно и похоже на ошибку в данных."
   ]
  },
  {
   "cell_type": "markdown",
   "metadata": {},
   "source": [
    "#### 1.1.2.6. <a id='toc1_1_2_6_'></a>[Шаг 2.6. Добавьте новые столбцы](#toc0_)\n",
    "\n",
    "\n",
    "\n"
   ]
  },
  {
   "cell_type": "markdown",
   "metadata": {
    "id": "7GgW-UpAgFyS"
   },
   "source": [
    "- Создайте столбец с информацией о годе проката. Выделите год из даты премьеры фильма."
   ]
  },
  {
   "cell_type": "code",
   "execution_count": null,
   "metadata": {
    "id": "I-yd1DkWgFyT"
   },
   "outputs": [
    {
     "data": {
      "text/html": [
       "<div>\n",
       "<style scoped>\n",
       "    .dataframe tbody tr th:only-of-type {\n",
       "        vertical-align: middle;\n",
       "    }\n",
       "\n",
       "    .dataframe tbody tr th {\n",
       "        vertical-align: top;\n",
       "    }\n",
       "\n",
       "    .dataframe thead th {\n",
       "        text-align: right;\n",
       "    }\n",
       "</style>\n",
       "<table border=\"1\" class=\"dataframe\">\n",
       "  <thead>\n",
       "    <tr style=\"text-align: right;\">\n",
       "      <th></th>\n",
       "      <th>title</th>\n",
       "      <th>puNumber</th>\n",
       "      <th>show_start_date</th>\n",
       "      <th>type</th>\n",
       "      <th>film_studio</th>\n",
       "      <th>production_country</th>\n",
       "      <th>director</th>\n",
       "      <th>producer</th>\n",
       "      <th>age_restriction</th>\n",
       "      <th>refundable_support</th>\n",
       "      <th>nonrefundable_support</th>\n",
       "      <th>budget</th>\n",
       "      <th>financing_source</th>\n",
       "      <th>ratings</th>\n",
       "      <th>genres</th>\n",
       "      <th>box_office</th>\n",
       "      <th>show_start_year</th>\n",
       "    </tr>\n",
       "  </thead>\n",
       "  <tbody>\n",
       "    <tr>\n",
       "      <th>0</th>\n",
       "      <td>Открытый простор</td>\n",
       "      <td>221048915</td>\n",
       "      <td>2015-11-27 12:00:00+00:00</td>\n",
       "      <td>Художественный</td>\n",
       "      <td>Тачстоун Пикчерз, Кобальт Пикчерз, Бикон Пикче...</td>\n",
       "      <td>США</td>\n",
       "      <td>Кевин Костнер</td>\n",
       "      <td>Дэвид Валдес, Кевин Костнер, Джейк Эбертс</td>\n",
       "      <td>«18+» - запрещено для детей</td>\n",
       "      <td>NaN</td>\n",
       "      <td>NaN</td>\n",
       "      <td>NaN</td>\n",
       "      <td>NaN</td>\n",
       "      <td>7.2</td>\n",
       "      <td>боевик,драма,мелодрама</td>\n",
       "      <td>NaN</td>\n",
       "      <td>2015</td>\n",
       "    </tr>\n",
       "    <tr>\n",
       "      <th>1</th>\n",
       "      <td>Особо важное задание</td>\n",
       "      <td>111013716</td>\n",
       "      <td>2016-09-13 12:00:00+00:00</td>\n",
       "      <td>Художественный</td>\n",
       "      <td>Киностудия \"Мосфильм\"</td>\n",
       "      <td>СССР</td>\n",
       "      <td>Е.Матвеев</td>\n",
       "      <td>NaN</td>\n",
       "      <td>«6+» - для детей старше 6 лет</td>\n",
       "      <td>NaN</td>\n",
       "      <td>NaN</td>\n",
       "      <td>NaN</td>\n",
       "      <td>NaN</td>\n",
       "      <td>6.6</td>\n",
       "      <td>драма,военный</td>\n",
       "      <td>NaN</td>\n",
       "      <td>2016</td>\n",
       "    </tr>\n",
       "  </tbody>\n",
       "</table>\n",
       "</div>"
      ],
      "text/plain": [
       "                  title   puNumber           show_start_date            type  \\\n",
       "0      Открытый простор  221048915 2015-11-27 12:00:00+00:00  Художественный   \n",
       "1  Особо важное задание  111013716 2016-09-13 12:00:00+00:00  Художественный   \n",
       "\n",
       "                                         film_studio production_country  \\\n",
       "0  Тачстоун Пикчерз, Кобальт Пикчерз, Бикон Пикче...                США   \n",
       "1                              Киностудия \"Мосфильм\"               СССР   \n",
       "\n",
       "        director                                   producer  \\\n",
       "0  Кевин Костнер  Дэвид Валдес, Кевин Костнер, Джейк Эбертс   \n",
       "1      Е.Матвеев                                        NaN   \n",
       "\n",
       "                 age_restriction  refundable_support  nonrefundable_support  \\\n",
       "0    «18+» - запрещено для детей                 NaN                    NaN   \n",
       "1  «6+» - для детей старше 6 лет                 NaN                    NaN   \n",
       "\n",
       "   budget financing_source  ratings                  genres  box_office  \\\n",
       "0     NaN              NaN      7.2  боевик,драма,мелодрама         NaN   \n",
       "1     NaN              NaN      6.6           драма,военный         NaN   \n",
       "\n",
       "   show_start_year  \n",
       "0             2015  \n",
       "1             2016  "
      ]
     },
     "execution_count": 35,
     "metadata": {},
     "output_type": "execute_result"
    }
   ],
   "source": [
    "# Создаём новый столбец о годе проката и выводим первые две строчки для проверки результата\n",
    "\n",
    "df['show_start_year'] = df['show_start_date'].dt.year\n",
    "df.head(2)"
   ]
  },
  {
   "cell_type": "markdown",
   "metadata": {
    "id": "nFTDLDYOgFyT"
   },
   "source": [
    "- Создайте два столбца: с именем и фамилией главного режиссёра и основным жанром фильма. В столбцы войдут первые значения из списка режиссёров и жанров соответственно.\n",
    "\n",
    "<div id=\"accordion\">\n",
    "    <div class=\"card\">\n",
    "        <div class=\"card-header\" id=\"headingThree\">\n",
    "            <button class=\"btn btn-link collapsed\" data-toggle=\"collapse\" data-target=\"#collapseHint_2\" aria-expanded=\"false\" aria-controls=\"collapseHint_2\">Подсказка</button>\n",
    "        </div>\n",
    "        <div id=\"collapseHint_2\" class=\"collapse\" aria-labelledby=\"headingThree\" data-parent=\"#accordion\">\n",
    "            <div class=\"card-body\">\n",
    "Чтобы создать такие столбцы, лучше всего использовать собственную функцию. Эту функцию можно применить к двум столбцам сразу. \n",
    "            </div>\n",
    "        </div>\n",
    "    </div>\n",
    "</div>"
   ]
  },
  {
   "cell_type": "code",
   "execution_count": null,
   "metadata": {},
   "outputs": [],
   "source": [
    "# Создаём функцию которая создаёт новые колонки с именем и фамилией главного режиссёра и основным жанром\n",
    "\n",
    "def get_first_element(column):\n",
    "    return column.str.split(',').str[0]\n",
    "\n",
    "\n",
    "df['lead_director'] = get_first_element(df['director'])\n",
    "df['main_genre'] = get_first_element(df['genres'])"
   ]
  },
  {
   "cell_type": "code",
   "execution_count": null,
   "metadata": {},
   "outputs": [
    {
     "data": {
      "text/html": [
       "<div>\n",
       "<style scoped>\n",
       "    .dataframe tbody tr th:only-of-type {\n",
       "        vertical-align: middle;\n",
       "    }\n",
       "\n",
       "    .dataframe tbody tr th {\n",
       "        vertical-align: top;\n",
       "    }\n",
       "\n",
       "    .dataframe thead th {\n",
       "        text-align: right;\n",
       "    }\n",
       "</style>\n",
       "<table border=\"1\" class=\"dataframe\">\n",
       "  <thead>\n",
       "    <tr style=\"text-align: right;\">\n",
       "      <th></th>\n",
       "      <th>title</th>\n",
       "      <th>puNumber</th>\n",
       "      <th>show_start_date</th>\n",
       "      <th>type</th>\n",
       "      <th>film_studio</th>\n",
       "      <th>production_country</th>\n",
       "      <th>director</th>\n",
       "      <th>producer</th>\n",
       "      <th>age_restriction</th>\n",
       "      <th>refundable_support</th>\n",
       "      <th>nonrefundable_support</th>\n",
       "      <th>budget</th>\n",
       "      <th>financing_source</th>\n",
       "      <th>ratings</th>\n",
       "      <th>genres</th>\n",
       "      <th>box_office</th>\n",
       "      <th>show_start_year</th>\n",
       "      <th>lead_director</th>\n",
       "      <th>main_genre</th>\n",
       "    </tr>\n",
       "  </thead>\n",
       "  <tbody>\n",
       "    <tr>\n",
       "      <th>16</th>\n",
       "      <td>Осенний марафон</td>\n",
       "      <td>111007513</td>\n",
       "      <td>2013-10-18 12:00:00+00:00</td>\n",
       "      <td>Художественный</td>\n",
       "      <td>Киностудия \"Мосфильм\"</td>\n",
       "      <td>СССР</td>\n",
       "      <td>Г.Данелия</td>\n",
       "      <td>NaN</td>\n",
       "      <td>«12+» - для детей старше 12 лет</td>\n",
       "      <td>NaN</td>\n",
       "      <td>NaN</td>\n",
       "      <td>NaN</td>\n",
       "      <td>NaN</td>\n",
       "      <td>8.0</td>\n",
       "      <td>драма,мелодрама,комедия</td>\n",
       "      <td>NaN</td>\n",
       "      <td>2013</td>\n",
       "      <td>Г.Данелия</td>\n",
       "      <td>драма</td>\n",
       "    </tr>\n",
       "    <tr>\n",
       "      <th>17</th>\n",
       "      <td>Осень</td>\n",
       "      <td>111027914</td>\n",
       "      <td>2014-12-24 12:00:00+00:00</td>\n",
       "      <td>Художественный</td>\n",
       "      <td>Киностудия \"Мосфильм\"</td>\n",
       "      <td>СССР</td>\n",
       "      <td>А.Смирнов</td>\n",
       "      <td>NaN</td>\n",
       "      <td>«12+» - для детей старше 12 лет</td>\n",
       "      <td>NaN</td>\n",
       "      <td>NaN</td>\n",
       "      <td>NaN</td>\n",
       "      <td>NaN</td>\n",
       "      <td>7.4</td>\n",
       "      <td>драма,мелодрама</td>\n",
       "      <td>NaN</td>\n",
       "      <td>2014</td>\n",
       "      <td>А.Смирнов</td>\n",
       "      <td>драма</td>\n",
       "    </tr>\n",
       "    <tr>\n",
       "      <th>18</th>\n",
       "      <td>Неподдающиеся</td>\n",
       "      <td>111003616</td>\n",
       "      <td>2016-02-12 12:00:00+00:00</td>\n",
       "      <td>Художественный</td>\n",
       "      <td>Киностудия \"Мосфильм\"</td>\n",
       "      <td>СССР</td>\n",
       "      <td>Ю.Чулюкин</td>\n",
       "      <td>NaN</td>\n",
       "      <td>«6+» - для детей старше 6 лет</td>\n",
       "      <td>NaN</td>\n",
       "      <td>NaN</td>\n",
       "      <td>NaN</td>\n",
       "      <td>NaN</td>\n",
       "      <td>8.0</td>\n",
       "      <td>мелодрама,комедия</td>\n",
       "      <td>360.0</td>\n",
       "      <td>2016</td>\n",
       "      <td>Ю.Чулюкин</td>\n",
       "      <td>мелодрама</td>\n",
       "    </tr>\n",
       "    <tr>\n",
       "      <th>19</th>\n",
       "      <td>Неподсуден</td>\n",
       "      <td>111003716</td>\n",
       "      <td>2016-02-12 12:00:00+00:00</td>\n",
       "      <td>Художественный</td>\n",
       "      <td>Киностудия \"Мосфильм\"</td>\n",
       "      <td>СССР</td>\n",
       "      <td>В.Краснопольский, В.Усков</td>\n",
       "      <td>NaN</td>\n",
       "      <td>«6+» - для детей старше 6 лет</td>\n",
       "      <td>NaN</td>\n",
       "      <td>NaN</td>\n",
       "      <td>NaN</td>\n",
       "      <td>NaN</td>\n",
       "      <td>7.7</td>\n",
       "      <td>драма</td>\n",
       "      <td>420.0</td>\n",
       "      <td>2016</td>\n",
       "      <td>В.Краснопольский</td>\n",
       "      <td>драма</td>\n",
       "    </tr>\n",
       "  </tbody>\n",
       "</table>\n",
       "</div>"
      ],
      "text/plain": [
       "              title   puNumber           show_start_date            type  \\\n",
       "16  Осенний марафон  111007513 2013-10-18 12:00:00+00:00  Художественный   \n",
       "17            Осень  111027914 2014-12-24 12:00:00+00:00  Художественный   \n",
       "18    Неподдающиеся  111003616 2016-02-12 12:00:00+00:00  Художественный   \n",
       "19       Неподсуден  111003716 2016-02-12 12:00:00+00:00  Художественный   \n",
       "\n",
       "              film_studio production_country                   director  \\\n",
       "16  Киностудия \"Мосфильм\"               СССР                  Г.Данелия   \n",
       "17  Киностудия \"Мосфильм\"               СССР                  А.Смирнов   \n",
       "18  Киностудия \"Мосфильм\"               СССР                  Ю.Чулюкин   \n",
       "19  Киностудия \"Мосфильм\"               СССР  В.Краснопольский, В.Усков   \n",
       "\n",
       "   producer                  age_restriction  refundable_support  \\\n",
       "16      NaN  «12+» - для детей старше 12 лет                 NaN   \n",
       "17      NaN  «12+» - для детей старше 12 лет                 NaN   \n",
       "18      NaN    «6+» - для детей старше 6 лет                 NaN   \n",
       "19      NaN    «6+» - для детей старше 6 лет                 NaN   \n",
       "\n",
       "    nonrefundable_support  budget financing_source  ratings  \\\n",
       "16                    NaN     NaN              NaN      8.0   \n",
       "17                    NaN     NaN              NaN      7.4   \n",
       "18                    NaN     NaN              NaN      8.0   \n",
       "19                    NaN     NaN              NaN      7.7   \n",
       "\n",
       "                     genres  box_office  show_start_year     lead_director  \\\n",
       "16  драма,мелодрама,комедия         NaN             2013         Г.Данелия   \n",
       "17          драма,мелодрама         NaN             2014         А.Смирнов   \n",
       "18        мелодрама,комедия       360.0             2016         Ю.Чулюкин   \n",
       "19                    драма       420.0             2016  В.Краснопольский   \n",
       "\n",
       "   main_genre  \n",
       "16      драма  \n",
       "17      драма  \n",
       "18  мелодрама  \n",
       "19      драма  "
      ]
     },
     "execution_count": 37,
     "metadata": {},
     "output_type": "execute_result"
    }
   ],
   "source": [
    "# Для проверки результата выводим показательный срез таблицы нв котором видны результы вычленения имени главного режиссёра и основного жанра\n",
    "\n",
    "df[16:20]"
   ]
  },
  {
   "cell_type": "markdown",
   "metadata": {
    "id": "1FsCXHwdgFyU"
   },
   "source": [
    "- Посчитайте, какую долю от общего бюджета фильма составляет государственная поддержка."
   ]
  },
  {
   "cell_type": "code",
   "execution_count": null,
   "metadata": {
    "id": "LV6qFuZLgFyV"
   },
   "outputs": [],
   "source": [
    "# Получаем процентное соотношение суммы выделеной в качестве господдержки к общему бюджету\n",
    "\n",
    "df['gos_support%'] = ((df['refundable_support'] + df['nonrefundable_support']) / df['budget']) * 100"
   ]
  },
  {
   "cell_type": "code",
   "execution_count": null,
   "metadata": {},
   "outputs": [
    {
     "data": {
      "text/plain": [
       "1281    33.370314\n",
       "1448    70.000000\n",
       "1498    61.269064\n",
       "1524    69.009473\n",
       "1792    62.476381\n",
       "          ...    \n",
       "7463    51.020408\n",
       "7465    52.631579\n",
       "7473    52.966102\n",
       "7475    64.999783\n",
       "7477    66.601175\n",
       "Name: gos_support%, Length: 315, dtype: float64"
      ]
     },
     "execution_count": 39,
     "metadata": {},
     "output_type": "execute_result"
    }
   ],
   "source": [
    "# Проверяем наличие ожидаемых величин (процент господдержки в %)\n",
    "\n",
    "df.loc[df['gos_support%'] <= 100]['gos_support%']"
   ]
  },
  {
   "cell_type": "code",
   "execution_count": null,
   "metadata": {},
   "outputs": [
    {
     "data": {
      "text/plain": [
       "17"
      ]
     },
     "execution_count": 40,
     "metadata": {},
     "output_type": "execute_result"
    }
   ],
   "source": [
    "# Проеверяем выбивающиеся значения и считаем их. Всего - 17\n",
    "\n",
    "df.loc[(df['gos_support%'] > 100) | (df['gos_support%'] < 0)]['gos_support%'].count()"
   ]
  },
  {
   "cell_type": "code",
   "execution_count": null,
   "metadata": {},
   "outputs": [
    {
     "data": {
      "text/html": [
       "<div>\n",
       "<style scoped>\n",
       "    .dataframe tbody tr th:only-of-type {\n",
       "        vertical-align: middle;\n",
       "    }\n",
       "\n",
       "    .dataframe tbody tr th {\n",
       "        vertical-align: top;\n",
       "    }\n",
       "\n",
       "    .dataframe thead th {\n",
       "        text-align: right;\n",
       "    }\n",
       "</style>\n",
       "<table border=\"1\" class=\"dataframe\">\n",
       "  <thead>\n",
       "    <tr style=\"text-align: right;\">\n",
       "      <th></th>\n",
       "      <th>title</th>\n",
       "      <th>puNumber</th>\n",
       "      <th>show_start_date</th>\n",
       "      <th>type</th>\n",
       "      <th>film_studio</th>\n",
       "      <th>production_country</th>\n",
       "      <th>director</th>\n",
       "      <th>producer</th>\n",
       "      <th>age_restriction</th>\n",
       "      <th>refundable_support</th>\n",
       "      <th>nonrefundable_support</th>\n",
       "      <th>budget</th>\n",
       "      <th>financing_source</th>\n",
       "      <th>ratings</th>\n",
       "      <th>genres</th>\n",
       "      <th>box_office</th>\n",
       "      <th>show_start_year</th>\n",
       "      <th>lead_director</th>\n",
       "      <th>main_genre</th>\n",
       "      <th>gos_support%</th>\n",
       "    </tr>\n",
       "  </thead>\n",
       "  <tbody>\n",
       "    <tr>\n",
       "      <th>2052</th>\n",
       "      <td>14+</td>\n",
       "      <td>111023614</td>\n",
       "      <td>2014-12-19 12:00:00+00:00</td>\n",
       "      <td>Художественный</td>\n",
       "      <td>ООО Киностудия  \"Сентябрь\"</td>\n",
       "      <td>Россия</td>\n",
       "      <td>А.Зайцев</td>\n",
       "      <td>О.Гранина, А.Зайцев</td>\n",
       "      <td>«16+» - для детей старше 16 лет</td>\n",
       "      <td>0.0</td>\n",
       "      <td>23000000.0</td>\n",
       "      <td>0.0</td>\n",
       "      <td>Министерство культуры, Фонд кино</td>\n",
       "      <td>6.6</td>\n",
       "      <td>мелодрама</td>\n",
       "      <td>10234016.1</td>\n",
       "      <td>2014</td>\n",
       "      <td>А.Зайцев</td>\n",
       "      <td>мелодрама</td>\n",
       "      <td>inf</td>\n",
       "    </tr>\n",
       "    <tr>\n",
       "      <th>2057</th>\n",
       "      <td>Дуxless 2</td>\n",
       "      <td>111000415</td>\n",
       "      <td>2015-01-26 12:00:00+00:00</td>\n",
       "      <td>Художественный</td>\n",
       "      <td>ООО \"Киностудия \"Слово\", ООО \"Арт Пикчерс Студия\"</td>\n",
       "      <td>Россия</td>\n",
       "      <td>Р.Прыгунов</td>\n",
       "      <td>П.Ануров, Ф.Бондарчук, Д.Рудовский</td>\n",
       "      <td>«16+» - для детей старше 16 лет</td>\n",
       "      <td>0.0</td>\n",
       "      <td>75000000.0</td>\n",
       "      <td>0.0</td>\n",
       "      <td>Фонд кино</td>\n",
       "      <td>6.6</td>\n",
       "      <td>драма</td>\n",
       "      <td>446163511.0</td>\n",
       "      <td>2015</td>\n",
       "      <td>Р.Прыгунов</td>\n",
       "      <td>драма</td>\n",
       "      <td>inf</td>\n",
       "    </tr>\n",
       "    <tr>\n",
       "      <th>2471</th>\n",
       "      <td>Воин (2015)</td>\n",
       "      <td>111017315</td>\n",
       "      <td>2015-09-28 12:00:00+00:00</td>\n",
       "      <td>Художественный</td>\n",
       "      <td>ООО \"Форпост Продакшн\", ООО \"Арт Пикчерс Студия\"</td>\n",
       "      <td>Россия</td>\n",
       "      <td>А.Андрианов</td>\n",
       "      <td>ООО \"Арт Пикчерс Студия\"</td>\n",
       "      <td>«12+» - для детей старше 12 лет</td>\n",
       "      <td>10000000.0</td>\n",
       "      <td>70000000.0</td>\n",
       "      <td>0.0</td>\n",
       "      <td>Фонд кино</td>\n",
       "      <td>7.8</td>\n",
       "      <td>боевик,драма,криминал</td>\n",
       "      <td>196572438.4</td>\n",
       "      <td>2015</td>\n",
       "      <td>А.Андрианов</td>\n",
       "      <td>боевик</td>\n",
       "      <td>inf</td>\n",
       "    </tr>\n",
       "    <tr>\n",
       "      <th>2531</th>\n",
       "      <td>Бармен.</td>\n",
       "      <td>111009615</td>\n",
       "      <td>2015-05-26 12:00:00+00:00</td>\n",
       "      <td>Художественный</td>\n",
       "      <td>АО \"ВайТ Медиа\", ООО \"Арт Пикчерс Студия\"</td>\n",
       "      <td>Россия</td>\n",
       "      <td>Д.Штурманова</td>\n",
       "      <td>Т.Вайнштейн</td>\n",
       "      <td>«16+» - для детей старше 16 лет</td>\n",
       "      <td>20000000.0</td>\n",
       "      <td>0.0</td>\n",
       "      <td>0.0</td>\n",
       "      <td>Фонд кино</td>\n",
       "      <td>6.2</td>\n",
       "      <td>комедия,фэнтези</td>\n",
       "      <td>67418974.8</td>\n",
       "      <td>2015</td>\n",
       "      <td>Д.Штурманова</td>\n",
       "      <td>комедия</td>\n",
       "      <td>inf</td>\n",
       "    </tr>\n",
       "    <tr>\n",
       "      <th>2614</th>\n",
       "      <td>Савва. Сердце воина</td>\n",
       "      <td>114001715</td>\n",
       "      <td>2015-07-21 12:00:00+00:00</td>\n",
       "      <td>Анимационный</td>\n",
       "      <td>ООО \"Глюкоза Продакшн\", ООО \"Арт Пикчерс Студия\"</td>\n",
       "      <td>Россия</td>\n",
       "      <td>М.Фадеев</td>\n",
       "      <td>А.Чистяков</td>\n",
       "      <td>«6+» - для детей старше 6 лет</td>\n",
       "      <td>60000000.0</td>\n",
       "      <td>100000000.0</td>\n",
       "      <td>0.0</td>\n",
       "      <td>Фонд кино</td>\n",
       "      <td>4.6</td>\n",
       "      <td>мультфильм,приключения,фэнтези</td>\n",
       "      <td>184487551.4</td>\n",
       "      <td>2015</td>\n",
       "      <td>М.Фадеев</td>\n",
       "      <td>мультфильм</td>\n",
       "      <td>inf</td>\n",
       "    </tr>\n",
       "  </tbody>\n",
       "</table>\n",
       "</div>"
      ],
      "text/plain": [
       "                    title   puNumber           show_start_date  \\\n",
       "2052                  14+  111023614 2014-12-19 12:00:00+00:00   \n",
       "2057            Дуxless 2  111000415 2015-01-26 12:00:00+00:00   \n",
       "2471          Воин (2015)  111017315 2015-09-28 12:00:00+00:00   \n",
       "2531              Бармен.  111009615 2015-05-26 12:00:00+00:00   \n",
       "2614  Савва. Сердце воина  114001715 2015-07-21 12:00:00+00:00   \n",
       "\n",
       "                type                                        film_studio  \\\n",
       "2052  Художественный                         ООО Киностудия  \"Сентябрь\"   \n",
       "2057  Художественный  ООО \"Киностудия \"Слово\", ООО \"Арт Пикчерс Студия\"   \n",
       "2471  Художественный   ООО \"Форпост Продакшн\", ООО \"Арт Пикчерс Студия\"   \n",
       "2531  Художественный          АО \"ВайТ Медиа\", ООО \"Арт Пикчерс Студия\"   \n",
       "2614    Анимационный   ООО \"Глюкоза Продакшн\", ООО \"Арт Пикчерс Студия\"   \n",
       "\n",
       "     production_country      director                            producer  \\\n",
       "2052             Россия      А.Зайцев                 О.Гранина, А.Зайцев   \n",
       "2057             Россия    Р.Прыгунов  П.Ануров, Ф.Бондарчук, Д.Рудовский   \n",
       "2471             Россия   А.Андрианов            ООО \"Арт Пикчерс Студия\"   \n",
       "2531             Россия  Д.Штурманова                         Т.Вайнштейн   \n",
       "2614             Россия      М.Фадеев                          А.Чистяков   \n",
       "\n",
       "                      age_restriction  refundable_support  \\\n",
       "2052  «16+» - для детей старше 16 лет                 0.0   \n",
       "2057  «16+» - для детей старше 16 лет                 0.0   \n",
       "2471  «12+» - для детей старше 12 лет          10000000.0   \n",
       "2531  «16+» - для детей старше 16 лет          20000000.0   \n",
       "2614    «6+» - для детей старше 6 лет          60000000.0   \n",
       "\n",
       "      nonrefundable_support  budget                  financing_source  \\\n",
       "2052             23000000.0     0.0  Министерство культуры, Фонд кино   \n",
       "2057             75000000.0     0.0                         Фонд кино   \n",
       "2471             70000000.0     0.0                         Фонд кино   \n",
       "2531                    0.0     0.0                         Фонд кино   \n",
       "2614            100000000.0     0.0                         Фонд кино   \n",
       "\n",
       "      ratings                          genres   box_office  show_start_year  \\\n",
       "2052      6.6                       мелодрама   10234016.1             2014   \n",
       "2057      6.6                           драма  446163511.0             2015   \n",
       "2471      7.8           боевик,драма,криминал  196572438.4             2015   \n",
       "2531      6.2                 комедия,фэнтези   67418974.8             2015   \n",
       "2614      4.6  мультфильм,приключения,фэнтези  184487551.4             2015   \n",
       "\n",
       "     lead_director  main_genre  gos_support%  \n",
       "2052      А.Зайцев   мелодрама           inf  \n",
       "2057    Р.Прыгунов       драма           inf  \n",
       "2471   А.Андрианов      боевик           inf  \n",
       "2531  Д.Штурманова     комедия           inf  \n",
       "2614      М.Фадеев  мультфильм           inf  "
      ]
     },
     "execution_count": 41,
     "metadata": {},
     "output_type": "execute_result"
    }
   ],
   "source": [
    "df.loc[(df['gos_support%'] > 100) | (df['gos_support%'] < 0)].head()"
   ]
  },
  {
   "cell_type": "markdown",
   "metadata": {},
   "source": [
    "**Вывод:** \n",
    "\n",
    "Значение `inf` означает что произошло деление на ноль. То есть госсубсидии есть, а общий бюджет нулевой, что похоже на ошибку в данных. \n",
    "\n",
    "Однако, заполнять пропуски не представляется возможным тк мы можем только догадываться какой был общий буджет. Мы только можем предположить что бюджет был не менее субсидированных средств, но точную сумму мы не знаем.\n"
   ]
  },
  {
   "cell_type": "markdown",
   "metadata": {
    "id": "6t4EukPLgFyV"
   },
   "source": [
    "### Шаг 3. Проведите исследовательский анализ данных\n"
   ]
  },
  {
   "cell_type": "markdown",
   "metadata": {
    "id": "vAH8WCzugFyV"
   },
   "source": [
    "- Посмотрите, сколько фильмов выходило в прокат каждый год. Обратите внимание, что данные о прокате в кинотеатрах известны не для всех фильмов. Посчитайте, какую долю составляют фильмы с указанной информацией о прокате в кинотеатрах."
   ]
  },
  {
   "cell_type": "code",
   "execution_count": null,
   "metadata": {},
   "outputs": [
    {
     "data": {
      "text/html": [
       "<div>\n",
       "<style scoped>\n",
       "    .dataframe tbody tr th:only-of-type {\n",
       "        vertical-align: middle;\n",
       "    }\n",
       "\n",
       "    .dataframe tbody tr th {\n",
       "        vertical-align: top;\n",
       "    }\n",
       "\n",
       "    .dataframe thead th {\n",
       "        text-align: right;\n",
       "    }\n",
       "</style>\n",
       "<table border=\"1\" class=\"dataframe\">\n",
       "  <thead>\n",
       "    <tr style=\"text-align: right;\">\n",
       "      <th></th>\n",
       "      <th>box_office</th>\n",
       "      <th>title</th>\n",
       "    </tr>\n",
       "    <tr>\n",
       "      <th>show_start_year</th>\n",
       "      <th></th>\n",
       "      <th></th>\n",
       "    </tr>\n",
       "  </thead>\n",
       "  <tbody>\n",
       "    <tr>\n",
       "      <th>2010</th>\n",
       "      <td>105</td>\n",
       "      <td>985</td>\n",
       "    </tr>\n",
       "    <tr>\n",
       "      <th>2011</th>\n",
       "      <td>109</td>\n",
       "      <td>622</td>\n",
       "    </tr>\n",
       "    <tr>\n",
       "      <th>2012</th>\n",
       "      <td>128</td>\n",
       "      <td>593</td>\n",
       "    </tr>\n",
       "    <tr>\n",
       "      <th>2013</th>\n",
       "      <td>184</td>\n",
       "      <td>630</td>\n",
       "    </tr>\n",
       "    <tr>\n",
       "      <th>2014</th>\n",
       "      <td>279</td>\n",
       "      <td>806</td>\n",
       "    </tr>\n",
       "    <tr>\n",
       "      <th>2015</th>\n",
       "      <td>465</td>\n",
       "      <td>705</td>\n",
       "    </tr>\n",
       "    <tr>\n",
       "      <th>2016</th>\n",
       "      <td>526</td>\n",
       "      <td>818</td>\n",
       "    </tr>\n",
       "    <tr>\n",
       "      <th>2017</th>\n",
       "      <td>357</td>\n",
       "      <td>505</td>\n",
       "    </tr>\n",
       "    <tr>\n",
       "      <th>2018</th>\n",
       "      <td>475</td>\n",
       "      <td>891</td>\n",
       "    </tr>\n",
       "    <tr>\n",
       "      <th>2019</th>\n",
       "      <td>530</td>\n",
       "      <td>930</td>\n",
       "    </tr>\n",
       "  </tbody>\n",
       "</table>\n",
       "</div>"
      ],
      "text/plain": [
       "                 box_office  title\n",
       "show_start_year                   \n",
       "2010                    105    985\n",
       "2011                    109    622\n",
       "2012                    128    593\n",
       "2013                    184    630\n",
       "2014                    279    806\n",
       "2015                    465    705\n",
       "2016                    526    818\n",
       "2017                    357    505\n",
       "2018                    475    891\n",
       "2019                    530    930"
      ]
     },
     "execution_count": 42,
     "metadata": {},
     "output_type": "execute_result"
    }
   ],
   "source": [
    "df_pivot = df.pivot_table(index='show_start_year', values=['title', 'box_office'], aggfunc='count')\n",
    "df_pivot"
   ]
  },
  {
   "cell_type": "code",
   "execution_count": null,
   "metadata": {},
   "outputs": [
    {
     "data": {
      "text/plain": [
       "show_start_year\n",
       "2010   10.66%\n",
       "2011   17.52%\n",
       "2012   21.59%\n",
       "2013   29.21%\n",
       "2014   34.62%\n",
       "2015   65.96%\n",
       "2016   64.30%\n",
       "2017   70.69%\n",
       "2018   53.31%\n",
       "2019   56.99%\n",
       "Name: relation, dtype: float64"
      ]
     },
     "execution_count": 43,
     "metadata": {},
     "output_type": "execute_result"
    }
   ],
   "source": [
    "# Выводим на экран долю фильмов показанных в прокате в кинотеатрах РФ от общих прокатов\n",
    "\n",
    "df_pivot['relation'] = (df_pivot['box_office'] / df_pivot['title'])\n",
    "pd.options.display.float_format = '{:.2%}'.format\n",
    "df_pivot[df_pivot['relation'] == df_pivot['relation']]['relation']"
   ]
  },
  {
   "cell_type": "markdown",
   "metadata": {
    "id": "BEOdcIrIgFyW"
   },
   "source": [
    "- Изучите, как менялась динамика проката по годам. В каком году сумма сборов была минимальной? А максимальной?"
   ]
  },
  {
   "cell_type": "code",
   "execution_count": null,
   "metadata": {},
   "outputs": [
    {
     "data": {
      "text/plain": [
       "show_start_year\n",
       "2010   10.66%\n",
       "2011   17.52%\n",
       "2012   21.59%\n",
       "2013   29.21%\n",
       "2014   34.62%\n",
       "2015   65.96%\n",
       "2016   64.30%\n",
       "2017   70.69%\n",
       "2018   53.31%\n",
       "2019   56.99%\n",
       "Name: relation, dtype: float64"
      ]
     },
     "metadata": {},
     "output_type": "display_data"
    },
    {
     "data": {
      "image/png": "[encoded data removed]",
      "text/plain": [
       "<Figure size 432x288 with 1 Axes>"
      ]
     },
     "metadata": {
      "needs_background": "light"
     },
     "output_type": "display_data"
    }
   ],
   "source": [
    "# Очищаем колонку от пропусков и выводим таблицу с долей прокатов\n",
    "\n",
    "relation = df_pivot['relation'].dropna()\n",
    "display(relation)\n",
    "\n",
    "# Выводим график с долей прокатов\n",
    "\n",
    "relation.plot(y = 'relation',  grid = True)\n",
    "plt.xlabel('Год проката')\n",
    "plt.ylabel('Доля в прокате (1.0 = 100%)')\n",
    "plt.title('Доля в прокате (1.0 = 100%)')\n",
    "plt.show()"
   ]
  },
  {
   "cell_type": "markdown",
   "metadata": {},
   "source": [
    "**Вывод:** \n",
    "\n",
    "Имеется общая тенденция к увеличению доли фильмов выходящих в прокат в кинотеатрах. При этом есть местный спад в 2016 г. затем рост с пиком приходящимся на 2017 г и последующим снижением в 2018 г, далее с небольим ростом в 2019 г.\n",
    "\n",
    "Однако, велика вероятность того, что у нас недостаточно данных о прокатах фильмов за более ранний период."
   ]
  },
  {
   "cell_type": "code",
   "execution_count": null,
   "metadata": {},
   "outputs": [],
   "source": [
    "# Создаём сводную таблицу для отображения суммы сбора в рублях по годам\n",
    "\n",
    "df_pivot = df.pivot_table(index='show_start_year', values=['box_office'], aggfunc='sum')\n"
   ]
  },
  {
   "cell_type": "code",
   "execution_count": null,
   "metadata": {},
   "outputs": [
    {
     "data": {
      "text/html": [
       "<div>\n",
       "<style scoped>\n",
       "    .dataframe tbody tr th:only-of-type {\n",
       "        vertical-align: middle;\n",
       "    }\n",
       "\n",
       "    .dataframe tbody tr th {\n",
       "        vertical-align: top;\n",
       "    }\n",
       "\n",
       "    .dataframe thead th {\n",
       "        text-align: right;\n",
       "    }\n",
       "</style>\n",
       "<table border=\"1\" class=\"dataframe\">\n",
       "  <thead>\n",
       "    <tr style=\"text-align: right;\">\n",
       "      <th></th>\n",
       "      <th>box_office</th>\n",
       "    </tr>\n",
       "    <tr>\n",
       "      <th>show_start_year</th>\n",
       "      <th></th>\n",
       "    </tr>\n",
       "  </thead>\n",
       "  <tbody>\n",
       "    <tr>\n",
       "      <th>2010</th>\n",
       "      <td>2428654.0</td>\n",
       "    </tr>\n",
       "    <tr>\n",
       "      <th>2011</th>\n",
       "      <td>14102765.0</td>\n",
       "    </tr>\n",
       "    <tr>\n",
       "      <th>2012</th>\n",
       "      <td>6955423.0</td>\n",
       "    </tr>\n",
       "    <tr>\n",
       "      <th>2013</th>\n",
       "      <td>29799706.199999999255</td>\n",
       "    </tr>\n",
       "    <tr>\n",
       "      <th>2014</th>\n",
       "      <td>7444951859.2000007629</td>\n",
       "    </tr>\n",
       "    <tr>\n",
       "      <th>2015</th>\n",
       "      <td>39497365196.400009155</td>\n",
       "    </tr>\n",
       "    <tr>\n",
       "      <th>2016</th>\n",
       "      <td>47866299741.910041809</td>\n",
       "    </tr>\n",
       "    <tr>\n",
       "      <th>2017</th>\n",
       "      <td>48563707217.510002136</td>\n",
       "    </tr>\n",
       "    <tr>\n",
       "      <th>2018</th>\n",
       "      <td>49668403134.319992065</td>\n",
       "    </tr>\n",
       "    <tr>\n",
       "      <th>2019</th>\n",
       "      <td>48425708779.589996338</td>\n",
       "    </tr>\n",
       "  </tbody>\n",
       "</table>\n",
       "</div>"
      ],
      "text/plain": [
       "                           box_office\n",
       "show_start_year                      \n",
       "2010                        2428654.0\n",
       "2011                       14102765.0\n",
       "2012                        6955423.0\n",
       "2013            29799706.199999999255\n",
       "2014            7444951859.2000007629\n",
       "2015            39497365196.400009155\n",
       "2016            47866299741.910041809\n",
       "2017            48563707217.510002136\n",
       "2018            49668403134.319992065\n",
       "2019            48425708779.589996338"
      ]
     },
     "metadata": {},
     "output_type": "display_data"
    },
    {
     "data": {
      "image/png": "[encoded data removed]",
      "text/plain": [
       "<Figure size 432x288 with 1 Axes>"
      ]
     },
     "metadata": {
      "needs_background": "light"
     },
     "output_type": "display_data"
    }
   ],
   "source": [
    "# Очищаем колонку от пропусков и выводим таблицу с суммой сборов\n",
    "\n",
    "box_sum = df_pivot.dropna()\n",
    "pd.options.display.float_format = '{:.20}'.format\n",
    "display(box_sum)\n",
    "\n",
    "# Выводим график с суммой сборов по годам\n",
    "\n",
    "box_sum.plot(y = 'box_office',  grid = True)\n",
    "plt.xlabel('Год проката')\n",
    "plt.ylabel('Сумма сборов по годам (1 = 10 млд руб)')\n",
    "plt.title('Сумма сборов по годам (1 = 10 млд руб)')\n",
    "plt.show()\n"
   ]
  },
  {
   "cell_type": "markdown",
   "metadata": {},
   "source": [
    "**Вывод:** \n",
    "\n",
    "Имеется явная `тенденция к увеличению суммы сборов` от года к году. Мы наблюдаем наименьшие сборы в 2010 г и максимальные сборы в 2018 г.\n",
    "\n",
    "Однако увеличение сборов может быть `связано с постепенным ростом информации о новых фильмах`."
   ]
  },
  {
   "cell_type": "markdown",
   "metadata": {
    "id": "G-7qS-N-gFyY"
   },
   "source": [
    "- С помощью сводной таблицы посчитайте среднюю и медианную сумму сборов для каждого года."
   ]
  },
  {
   "cell_type": "code",
   "execution_count": null,
   "metadata": {
    "id": "jmp-rgg9gFyY"
   },
   "outputs": [
    {
     "data": {
      "text/html": [
       "<div>\n",
       "<style scoped>\n",
       "    .dataframe tbody tr th:only-of-type {\n",
       "        vertical-align: middle;\n",
       "    }\n",
       "\n",
       "    .dataframe tbody tr th {\n",
       "        vertical-align: top;\n",
       "    }\n",
       "\n",
       "    .dataframe thead tr th {\n",
       "        text-align: left;\n",
       "    }\n",
       "\n",
       "    .dataframe thead tr:last-of-type th {\n",
       "        text-align: right;\n",
       "    }\n",
       "</style>\n",
       "<table border=\"1\" class=\"dataframe\">\n",
       "  <thead>\n",
       "    <tr>\n",
       "      <th></th>\n",
       "      <th>mean</th>\n",
       "      <th>median</th>\n",
       "    </tr>\n",
       "    <tr>\n",
       "      <th></th>\n",
       "      <th>box_office</th>\n",
       "      <th>box_office</th>\n",
       "    </tr>\n",
       "    <tr>\n",
       "      <th>show_start_year</th>\n",
       "      <th></th>\n",
       "      <th></th>\n",
       "    </tr>\n",
       "  </thead>\n",
       "  <tbody>\n",
       "    <tr>\n",
       "      <th>2010</th>\n",
       "      <td>2.3e+04</td>\n",
       "      <td>1.7e+03</td>\n",
       "    </tr>\n",
       "    <tr>\n",
       "      <th>2011</th>\n",
       "      <td>1.3e+05</td>\n",
       "      <td>3e+03</td>\n",
       "    </tr>\n",
       "    <tr>\n",
       "      <th>2012</th>\n",
       "      <td>5.4e+04</td>\n",
       "      <td>5.7e+03</td>\n",
       "    </tr>\n",
       "    <tr>\n",
       "      <th>2013</th>\n",
       "      <td>1.6e+05</td>\n",
       "      <td>3.5e+03</td>\n",
       "    </tr>\n",
       "    <tr>\n",
       "      <th>2014</th>\n",
       "      <td>2.7e+07</td>\n",
       "      <td>1.8e+04</td>\n",
       "    </tr>\n",
       "    <tr>\n",
       "      <th>2015</th>\n",
       "      <td>8.5e+07</td>\n",
       "      <td>4.9e+06</td>\n",
       "    </tr>\n",
       "    <tr>\n",
       "      <th>2016</th>\n",
       "      <td>9.1e+07</td>\n",
       "      <td>3.8e+06</td>\n",
       "    </tr>\n",
       "    <tr>\n",
       "      <th>2017</th>\n",
       "      <td>1.4e+08</td>\n",
       "      <td>1e+07</td>\n",
       "    </tr>\n",
       "    <tr>\n",
       "      <th>2018</th>\n",
       "      <td>1e+08</td>\n",
       "      <td>8.9e+06</td>\n",
       "    </tr>\n",
       "    <tr>\n",
       "      <th>2019</th>\n",
       "      <td>9.1e+07</td>\n",
       "      <td>4.6e+06</td>\n",
       "    </tr>\n",
       "  </tbody>\n",
       "</table>\n",
       "</div>"
      ],
      "text/plain": [
       "                      mean     median\n",
       "                box_office box_office\n",
       "show_start_year                      \n",
       "2010               2.3e+04    1.7e+03\n",
       "2011               1.3e+05      3e+03\n",
       "2012               5.4e+04    5.7e+03\n",
       "2013               1.6e+05    3.5e+03\n",
       "2014               2.7e+07    1.8e+04\n",
       "2015               8.5e+07    4.9e+06\n",
       "2016               9.1e+07    3.8e+06\n",
       "2017               1.4e+08      1e+07\n",
       "2018                 1e+08    8.9e+06\n",
       "2019               9.1e+07    4.6e+06"
      ]
     },
     "execution_count": 73,
     "metadata": {},
     "output_type": "execute_result"
    }
   ],
   "source": [
    "# Выводим сводную таблицу со средней и медианной суммой сборов для каждого года.\n",
    "\n",
    "pd.options.display.float_format = '{:.2}'.format\n",
    "df_mm = df.pivot_table(index='show_start_year', values=['box_office'], aggfunc=['mean', 'median'])\n",
    "df_mm"
   ]
  },
  {
   "cell_type": "code",
   "execution_count": null,
   "metadata": {},
   "outputs": [
    {
     "data": {
      "image/png": "[encoded data removed]",
      "text/plain": [
       "<Figure size 432x288 with 1 Axes>"
      ]
     },
     "metadata": {
      "needs_background": "light"
     },
     "output_type": "display_data"
    }
   ],
   "source": [
    "# Сравнение распределения средних и медианных значений\n",
    "\n",
    "df_mm.plot(grid = True)\n",
    "plt.xlabel('Год проката')\n",
    "plt.ylabel('Сборы')\n",
    "plt.title('Сборы ')\n",
    "plt.show()"
   ]
  },
  {
   "cell_type": "markdown",
   "metadata": {
    "id": "Ok89WFwJgFyZ"
   },
   "source": [
    "- Определите, влияет ли возрастное ограничение аудитории («6+», «12+», «16+», «18+» и т. д.) на сборы фильма в прокате в период с 2015 по 2019 год? Фильмы с каким возрастным ограничением собрали больше всего денег в прокате? Меняется ли картина в зависимости от года? Если да, предположите, с чем это может быть связано.\n",
    "\n",
    "- Большая разница между медианными и средними значениями нам говорит о том что есть выделяющиеся на общем фоне значения по сборам. Некоторые сборы резко выше большинства значений."
   ]
  },
  {
   "cell_type": "code",
   "execution_count": null,
   "metadata": {},
   "outputs": [],
   "source": [
    "# Делаем срез за период 2015-2019 гг.\n",
    "\n",
    "df1515 = df[df['show_start_year'] >= 2015]"
   ]
  },
  {
   "cell_type": "code",
   "execution_count": null,
   "metadata": {},
   "outputs": [],
   "source": [
    "# меняем названия значений в колонке 'age_restriction' для лучшего отображенияна на графике\n",
    "\n",
    "old_age_name = ['«0+» - для любой зрительской аудитории', '«12+» - для детей старше 12 лет', '«16+» - для детей старше 16 лет', '«18+» - запрещено для детей', '«6+» - для детей старше 6 лет']\n",
    "new_age_name = ['00+', '12+', '16+', '18+', '06+']\n",
    "\n",
    "df1515 = df1515.copy()\n",
    "\n",
    "df1515['age_restriction'].replace(old_age_name, new_age_name,inplace=True)\n"
   ]
  },
  {
   "cell_type": "code",
   "execution_count": null,
   "metadata": {
    "id": "jsSbEqfjgFya"
   },
   "outputs": [
    {
     "data": {
      "text/html": [
       "<div>\n",
       "<style scoped>\n",
       "    .dataframe tbody tr th:only-of-type {\n",
       "        vertical-align: middle;\n",
       "    }\n",
       "\n",
       "    .dataframe tbody tr th {\n",
       "        vertical-align: top;\n",
       "    }\n",
       "\n",
       "    .dataframe thead tr th {\n",
       "        text-align: left;\n",
       "    }\n",
       "\n",
       "    .dataframe thead tr:last-of-type th {\n",
       "        text-align: right;\n",
       "    }\n",
       "</style>\n",
       "<table border=\"1\" class=\"dataframe\">\n",
       "  <thead>\n",
       "    <tr>\n",
       "      <th></th>\n",
       "      <th></th>\n",
       "      <th>sum</th>\n",
       "    </tr>\n",
       "    <tr>\n",
       "      <th></th>\n",
       "      <th></th>\n",
       "      <th>box_office</th>\n",
       "    </tr>\n",
       "    <tr>\n",
       "      <th>age_restriction</th>\n",
       "      <th>show_start_year</th>\n",
       "      <th></th>\n",
       "    </tr>\n",
       "  </thead>\n",
       "  <tbody>\n",
       "    <tr>\n",
       "      <th rowspan=\"5\" valign=\"top\">00+</th>\n",
       "      <th>2015</th>\n",
       "      <td>379054578.37000000477</td>\n",
       "    </tr>\n",
       "    <tr>\n",
       "      <th>2016</th>\n",
       "      <td>150228848.66999998689</td>\n",
       "    </tr>\n",
       "    <tr>\n",
       "      <th>2017</th>\n",
       "      <td>229598930.0</td>\n",
       "    </tr>\n",
       "    <tr>\n",
       "      <th>2018</th>\n",
       "      <td>32449002.109999999404</td>\n",
       "    </tr>\n",
       "    <tr>\n",
       "      <th>2019</th>\n",
       "      <td>17746066.820000000298</td>\n",
       "    </tr>\n",
       "    <tr>\n",
       "      <th rowspan=\"5\" valign=\"top\">06+</th>\n",
       "      <th>2015</th>\n",
       "      <td>8701799371.4099998474</td>\n",
       "    </tr>\n",
       "    <tr>\n",
       "      <th>2016</th>\n",
       "      <td>12053146008.240001678</td>\n",
       "    </tr>\n",
       "    <tr>\n",
       "      <th>2017</th>\n",
       "      <td>12086142145.760000229</td>\n",
       "    </tr>\n",
       "    <tr>\n",
       "      <th>2018</th>\n",
       "      <td>10104974623.409999847</td>\n",
       "    </tr>\n",
       "    <tr>\n",
       "      <th>2019</th>\n",
       "      <td>12852548650.859996796</td>\n",
       "    </tr>\n",
       "    <tr>\n",
       "      <th rowspan=\"5\" valign=\"top\">12+</th>\n",
       "      <th>2019</th>\n",
       "      <td>12680198773.670000076</td>\n",
       "    </tr>\n",
       "    <tr>\n",
       "      <th>2018</th>\n",
       "      <td>14267291660.690000534</td>\n",
       "    </tr>\n",
       "    <tr>\n",
       "      <th>2017</th>\n",
       "      <td>7851427660.6700000763</td>\n",
       "    </tr>\n",
       "    <tr>\n",
       "      <th>2016</th>\n",
       "      <td>12204446524.389997482</td>\n",
       "    </tr>\n",
       "    <tr>\n",
       "      <th>2015</th>\n",
       "      <td>13616082008.90999794</td>\n",
       "    </tr>\n",
       "    <tr>\n",
       "      <th rowspan=\"5\" valign=\"top\">16+</th>\n",
       "      <th>2015</th>\n",
       "      <td>11368120870.270000458</td>\n",
       "    </tr>\n",
       "    <tr>\n",
       "      <th>2016</th>\n",
       "      <td>16664548541.740003586</td>\n",
       "    </tr>\n",
       "    <tr>\n",
       "      <th>2017</th>\n",
       "      <td>18745042900.060001373</td>\n",
       "    </tr>\n",
       "    <tr>\n",
       "      <th>2018</th>\n",
       "      <td>16503602346.959997177</td>\n",
       "    </tr>\n",
       "    <tr>\n",
       "      <th>2019</th>\n",
       "      <td>12753418984.600002289</td>\n",
       "    </tr>\n",
       "    <tr>\n",
       "      <th rowspan=\"5\" valign=\"top\">18+</th>\n",
       "      <th>2015</th>\n",
       "      <td>5432308367.4400014877</td>\n",
       "    </tr>\n",
       "    <tr>\n",
       "      <th>2016</th>\n",
       "      <td>6793929818.8699989319</td>\n",
       "    </tr>\n",
       "    <tr>\n",
       "      <th>2017</th>\n",
       "      <td>9651495581.0200004578</td>\n",
       "    </tr>\n",
       "    <tr>\n",
       "      <th>2018</th>\n",
       "      <td>8760085501.1499996185</td>\n",
       "    </tr>\n",
       "    <tr>\n",
       "      <th>2019</th>\n",
       "      <td>10121796303.640003204</td>\n",
       "    </tr>\n",
       "  </tbody>\n",
       "</table>\n",
       "</div>"
      ],
      "text/plain": [
       "                                                  sum\n",
       "                                           box_office\n",
       "age_restriction show_start_year                      \n",
       "00+             2015            379054578.37000000477\n",
       "                2016            150228848.66999998689\n",
       "                2017                      229598930.0\n",
       "                2018            32449002.109999999404\n",
       "                2019            17746066.820000000298\n",
       "06+             2015            8701799371.4099998474\n",
       "                2016            12053146008.240001678\n",
       "                2017            12086142145.760000229\n",
       "                2018            10104974623.409999847\n",
       "                2019            12852548650.859996796\n",
       "12+             2019            12680198773.670000076\n",
       "                2018            14267291660.690000534\n",
       "                2017            7851427660.6700000763\n",
       "                2016            12204446524.389997482\n",
       "                2015             13616082008.90999794\n",
       "16+             2015            11368120870.270000458\n",
       "                2016            16664548541.740003586\n",
       "                2017            18745042900.060001373\n",
       "                2018            16503602346.959997177\n",
       "                2019            12753418984.600002289\n",
       "18+             2015            5432308367.4400014877\n",
       "                2016            6793929818.8699989319\n",
       "                2017            9651495581.0200004578\n",
       "                2018            8760085501.1499996185\n",
       "                2019            10121796303.640003204"
      ]
     },
     "execution_count": 51,
     "metadata": {},
     "output_type": "execute_result"
    }
   ],
   "source": [
    "# Выодим сводную таблицу с суммой сборов по возрастным ограничениям и по годам на экран\n",
    "\n",
    "pd.options.display.float_format = '{:.20}'.format\n",
    "\n",
    "df_sum1515 = df1515.pivot_table(index=['age_restriction', 'show_start_year'], values=['box_office'], aggfunc=['sum'])\n",
    "df_sum1515.sort_values(by='age_restriction', ascending=True)"
   ]
  },
  {
   "cell_type": "code",
   "execution_count": null,
   "metadata": {},
   "outputs": [
    {
     "data": {
      "text/html": [
       "<div>\n",
       "<style scoped>\n",
       "    .dataframe tbody tr th:only-of-type {\n",
       "        vertical-align: middle;\n",
       "    }\n",
       "\n",
       "    .dataframe tbody tr th {\n",
       "        vertical-align: top;\n",
       "    }\n",
       "\n",
       "    .dataframe thead th {\n",
       "        text-align: right;\n",
       "    }\n",
       "</style>\n",
       "<table border=\"1\" class=\"dataframe\">\n",
       "  <thead>\n",
       "    <tr style=\"text-align: right;\">\n",
       "      <th>age_restriction</th>\n",
       "      <th>00+</th>\n",
       "      <th>06+</th>\n",
       "      <th>12+</th>\n",
       "      <th>16+</th>\n",
       "      <th>18+</th>\n",
       "    </tr>\n",
       "    <tr>\n",
       "      <th>show_start_year</th>\n",
       "      <th></th>\n",
       "      <th></th>\n",
       "      <th></th>\n",
       "      <th></th>\n",
       "      <th></th>\n",
       "    </tr>\n",
       "  </thead>\n",
       "  <tbody>\n",
       "    <tr>\n",
       "      <th>2015</th>\n",
       "      <td>2943318.7000000001863</td>\n",
       "      <td>20380982.199999999255</td>\n",
       "      <td>15351562.5</td>\n",
       "      <td>4676819.4000000003725</td>\n",
       "      <td>4616614.7000000001863</td>\n",
       "    </tr>\n",
       "    <tr>\n",
       "      <th>2016</th>\n",
       "      <td>2571294.1000000000931</td>\n",
       "      <td>3026256.1450000000186</td>\n",
       "      <td>4690635.25</td>\n",
       "      <td>5133021.7400000002235</td>\n",
       "      <td>6107001.7400000002235</td>\n",
       "    </tr>\n",
       "    <tr>\n",
       "      <th>2017</th>\n",
       "      <td>22178956.0</td>\n",
       "      <td>51992103.0</td>\n",
       "      <td>9010548.0</td>\n",
       "      <td>9702077.0</td>\n",
       "      <td>8212677.0</td>\n",
       "    </tr>\n",
       "    <tr>\n",
       "      <th>2018</th>\n",
       "      <td>3616937.2799999997951</td>\n",
       "      <td>14688850.320000000298</td>\n",
       "      <td>8931965.660000000149</td>\n",
       "      <td>9010638.625</td>\n",
       "      <td>7179466.0</td>\n",
       "    </tr>\n",
       "    <tr>\n",
       "      <th>2019</th>\n",
       "      <td>3885434.5</td>\n",
       "      <td>12875350.339999999851</td>\n",
       "      <td>3405545.7599999997765</td>\n",
       "      <td>3210717.8100000000559</td>\n",
       "      <td>5603216.5499999998137</td>\n",
       "    </tr>\n",
       "  </tbody>\n",
       "</table>\n",
       "</div>"
      ],
      "text/plain": [
       "age_restriction                   00+                   06+  \\\n",
       "show_start_year                                               \n",
       "2015            2943318.7000000001863 20380982.199999999255   \n",
       "2016            2571294.1000000000931 3026256.1450000000186   \n",
       "2017                       22178956.0            51992103.0   \n",
       "2018            3616937.2799999997951 14688850.320000000298   \n",
       "2019                        3885434.5 12875350.339999999851   \n",
       "\n",
       "age_restriction                   12+                   16+  \\\n",
       "show_start_year                                               \n",
       "2015                       15351562.5 4676819.4000000003725   \n",
       "2016                       4690635.25 5133021.7400000002235   \n",
       "2017                        9010548.0             9702077.0   \n",
       "2018             8931965.660000000149           9010638.625   \n",
       "2019            3405545.7599999997765 3210717.8100000000559   \n",
       "\n",
       "age_restriction                   18+  \n",
       "show_start_year                        \n",
       "2015            4616614.7000000001863  \n",
       "2016            6107001.7400000002235  \n",
       "2017                        8212677.0  \n",
       "2018                        7179466.0  \n",
       "2019            5603216.5499999998137  "
      ]
     },
     "execution_count": 52,
     "metadata": {},
     "output_type": "execute_result"
    },
    {
     "data": {
      "image/png": "[encoded data removed]",
      "text/plain": [
       "<Figure size 432x288 with 1 Axes>"
      ]
     },
     "metadata": {
      "needs_background": "light"
     },
     "output_type": "display_data"
    }
   ],
   "source": [
    "# Чтобы увидеть влияние возрастного ограничения на сборы, строим график и таблицу\n",
    "\n",
    "df1515.pivot_table(values=\"box_office\", index=\"show_start_year\", columns=\"age_restriction\", aggfunc='median').plot()\n",
    "plt.xlabel('Год')\n",
    "plt.ylabel('Сборы (1.00 = 10 млд)')\n",
    "plt.title('Сборы по возрастным категориям за 2015-2019 гг')\n",
    "\n",
    "df1515.pivot_table(values=\"box_office\", index=\"show_start_year\", columns=\"age_restriction\", aggfunc='median')"
   ]
  },
  {
   "cell_type": "markdown",
   "metadata": {},
   "source": [
    "**Вывод:**\n",
    "\n",
    "Как мы видим, возрастное ограничение аудитории («6+», «12+», «16+», «18+» и т. д.) влияет на сборы фильма в прокате в период с 2015 по 2019 год\n",
    "\n",
    "\n",
    "Максимальные сборы за период 2015-2019 гг принесли фильмы с возрастным ограничением 6+, и с отрывом, фильмы категории 0+."
   ]
  },
  {
   "cell_type": "markdown",
   "metadata": {},
   "source": [
    "Проверим, меняется ли сумма сборов в зависимости от года."
   ]
  },
  {
   "cell_type": "code",
   "execution_count": null,
   "metadata": {},
   "outputs": [
    {
     "data": {
      "text/html": [
       "<div>\n",
       "<style scoped>\n",
       "    .dataframe tbody tr th:only-of-type {\n",
       "        vertical-align: middle;\n",
       "    }\n",
       "\n",
       "    .dataframe tbody tr th {\n",
       "        vertical-align: top;\n",
       "    }\n",
       "\n",
       "    .dataframe thead tr th {\n",
       "        text-align: left;\n",
       "    }\n",
       "\n",
       "    .dataframe thead tr:last-of-type th {\n",
       "        text-align: right;\n",
       "    }\n",
       "</style>\n",
       "<table border=\"1\" class=\"dataframe\">\n",
       "  <thead>\n",
       "    <tr>\n",
       "      <th></th>\n",
       "      <th>sum</th>\n",
       "    </tr>\n",
       "    <tr>\n",
       "      <th></th>\n",
       "      <th>box_office</th>\n",
       "    </tr>\n",
       "    <tr>\n",
       "      <th>show_start_year</th>\n",
       "      <th></th>\n",
       "    </tr>\n",
       "  </thead>\n",
       "  <tbody>\n",
       "    <tr>\n",
       "      <th>2015</th>\n",
       "      <td>39497365196.400009155</td>\n",
       "    </tr>\n",
       "    <tr>\n",
       "      <th>2016</th>\n",
       "      <td>47866299741.910041809</td>\n",
       "    </tr>\n",
       "    <tr>\n",
       "      <th>2017</th>\n",
       "      <td>48563707217.510002136</td>\n",
       "    </tr>\n",
       "    <tr>\n",
       "      <th>2018</th>\n",
       "      <td>49668403134.319992065</td>\n",
       "    </tr>\n",
       "    <tr>\n",
       "      <th>2019</th>\n",
       "      <td>48425708779.589996338</td>\n",
       "    </tr>\n",
       "  </tbody>\n",
       "</table>\n",
       "</div>"
      ],
      "text/plain": [
       "                                  sum\n",
       "                           box_office\n",
       "show_start_year                      \n",
       "2015            39497365196.400009155\n",
       "2016            47866299741.910041809\n",
       "2017            48563707217.510002136\n",
       "2018            49668403134.319992065\n",
       "2019            48425708779.589996338"
      ]
     },
     "metadata": {},
     "output_type": "display_data"
    },
    {
     "data": {
      "text/plain": [
       "sum  box_office   49668403134.319992065\n",
       "dtype: float64"
      ]
     },
     "metadata": {},
     "output_type": "display_data"
    },
    {
     "data": {
      "text/plain": [
       "Text(0.5, 1.0, 'Сборы по годам 2015-2019 гг.')"
      ]
     },
     "execution_count": 53,
     "metadata": {},
     "output_type": "execute_result"
    },
    {
     "data": {
      "image/png": "[encoded data removed]",
      "text/plain": [
       "<Figure size 432x288 with 1 Axes>"
      ]
     },
     "metadata": {
      "needs_background": "light"
     },
     "output_type": "display_data"
    }
   ],
   "source": [
    "# Строим график сборов фильмов по годам, независимо от категории\n",
    "\n",
    "df_fa = df1515.pivot_table(index=['show_start_year'], values=['box_office'], aggfunc=['sum'])\n",
    "display(df_fa)\n",
    "\n",
    "# Выводим максимальную сумму сборов\n",
    "\n",
    "display(df_fa.max())\n",
    "\n",
    "# Выводим график на экран\n",
    "\n",
    "df_fa.plot(grid = True)\n",
    "plt.xlabel('Сборы по годам')\n",
    "plt.ylabel('Сборы')\n",
    "plt.title('Сборы по годам 2015-2019 гг.')"
   ]
  },
  {
   "cell_type": "markdown",
   "metadata": {},
   "source": [
    "**Вывод:**\n",
    "\n",
    "Из графика следует, что в целом сборы растут. Мы видим резкий прирост сборов с 2015 по 2016 гг, потом следуем умеренный рост с 2016 по 2018 гг, после его наблюдается небольшой спад вплоть до 2019 г.\n",
    "\n",
    "Возможная `причина роста сборов`, это `увеличение` количества `зрителей` в категории 16+ вплоть до 2017 г. Рост после 2017 г произошёл из-за роста сборов за счёт фильмов категорий 06+ и 18+ что, однако, не смогло сдержать последующий спад общих сборо из-за падения сборов в категории 12+ начавшийся в 2018 г."
   ]
  },
  {
   "cell_type": "markdown",
   "metadata": {
    "id": "l_Kg6Ku4gFya"
   },
   "source": [
    "### Шаг 4. Исследуйте фильмы, которые получили государственную поддержку\n",
    "\n",
    "На этом этапе нет конкретных инструкций и заданий — поищите интересные закономерности в данных. Посмотрите, сколько выделяют средств на поддержку кино. Проверьте, хорошо ли окупаются такие фильмы, какой у них рейтинг."
   ]
  },
  {
   "cell_type": "code",
   "execution_count": null,
   "metadata": {},
   "outputs": [
    {
     "data": {
      "text/html": [
       "<div>\n",
       "<style scoped>\n",
       "    .dataframe tbody tr th:only-of-type {\n",
       "        vertical-align: middle;\n",
       "    }\n",
       "\n",
       "    .dataframe tbody tr th {\n",
       "        vertical-align: top;\n",
       "    }\n",
       "\n",
       "    .dataframe thead th {\n",
       "        text-align: right;\n",
       "    }\n",
       "</style>\n",
       "<table border=\"1\" class=\"dataframe\">\n",
       "  <thead>\n",
       "    <tr style=\"text-align: right;\">\n",
       "      <th></th>\n",
       "      <th>title</th>\n",
       "      <th>puNumber</th>\n",
       "      <th>show_start_date</th>\n",
       "      <th>type</th>\n",
       "      <th>film_studio</th>\n",
       "      <th>production_country</th>\n",
       "      <th>director</th>\n",
       "      <th>producer</th>\n",
       "      <th>age_restriction</th>\n",
       "      <th>refundable_support</th>\n",
       "      <th>nonrefundable_support</th>\n",
       "      <th>budget</th>\n",
       "      <th>financing_source</th>\n",
       "      <th>ratings</th>\n",
       "      <th>genres</th>\n",
       "      <th>box_office</th>\n",
       "      <th>show_start_year</th>\n",
       "      <th>lead_director</th>\n",
       "      <th>main_genre</th>\n",
       "      <th>gos_support%</th>\n",
       "    </tr>\n",
       "  </thead>\n",
       "  <tbody>\n",
       "    <tr>\n",
       "      <th>1281</th>\n",
       "      <td>Пока еще жива</td>\n",
       "      <td>111005313</td>\n",
       "      <td>2013-10-11 12:00:00+00:00</td>\n",
       "      <td>Художественный</td>\n",
       "      <td>АНО содействия развитию кинематографии \"Ангел-...</td>\n",
       "      <td>Россия</td>\n",
       "      <td>А.Атанесян</td>\n",
       "      <td>А.Атанесян, М.Бабаханов, Р.Бутко</td>\n",
       "      <td>«16+» - для детей старше 16 лет</td>\n",
       "      <td>0.0</td>\n",
       "      <td>26500000.0</td>\n",
       "      <td>79411900.0</td>\n",
       "      <td>Министерство культуры</td>\n",
       "      <td>8.0999999999999996447</td>\n",
       "      <td>драма,мелодрама</td>\n",
       "      <td>365353.59999999997672</td>\n",
       "      <td>2013</td>\n",
       "      <td>А.Атанесян</td>\n",
       "      <td>драма</td>\n",
       "      <td>33.370313517243637591</td>\n",
       "    </tr>\n",
       "    <tr>\n",
       "      <th>1448</th>\n",
       "      <td>Бесславные придурки</td>\n",
       "      <td>111003314</td>\n",
       "      <td>2014-03-28 12:00:00+00:00</td>\n",
       "      <td>Художественный</td>\n",
       "      <td>ООО \"Компания \"АТК-Студио\"</td>\n",
       "      <td>Россия</td>\n",
       "      <td>А.Якимчук</td>\n",
       "      <td>А.Тютрюмов</td>\n",
       "      <td>«12+» - для детей старше 12 лет</td>\n",
       "      <td>0.0</td>\n",
       "      <td>26000000.0</td>\n",
       "      <td>37142857.0</td>\n",
       "      <td>Министерство культуры</td>\n",
       "      <td>NaN</td>\n",
       "      <td>NaN</td>\n",
       "      <td>28140.0</td>\n",
       "      <td>2014</td>\n",
       "      <td>А.Якимчук</td>\n",
       "      <td>NaN</td>\n",
       "      <td>70.000000269230767458</td>\n",
       "    </tr>\n",
       "    <tr>\n",
       "      <th>1498</th>\n",
       "      <td>Невидимки</td>\n",
       "      <td>111004213</td>\n",
       "      <td>2013-09-10 12:00:00+00:00</td>\n",
       "      <td>Художественный</td>\n",
       "      <td>ООО \"Компания \"РЕАЛ-ДАКОТА\"</td>\n",
       "      <td>Россия</td>\n",
       "      <td>Р.Давлетьяров, С.Комаров</td>\n",
       "      <td>Р.Давлетьяров, А.Котелевский, А.Олейников</td>\n",
       "      <td>«12+» - для детей старше 12 лет</td>\n",
       "      <td>0.0</td>\n",
       "      <td>107847945.0</td>\n",
       "      <td>176023490.0</td>\n",
       "      <td>Фонд кино</td>\n",
       "      <td>5.2999999999999998224</td>\n",
       "      <td>комедия,фантастика</td>\n",
       "      <td>19957031.5</td>\n",
       "      <td>2013</td>\n",
       "      <td>Р.Давлетьяров</td>\n",
       "      <td>комедия</td>\n",
       "      <td>61.269064145927345066</td>\n",
       "    </tr>\n",
       "    <tr>\n",
       "      <th>1524</th>\n",
       "      <td>БЕРЦЫ</td>\n",
       "      <td>111004314</td>\n",
       "      <td>2014-05-05 12:00:00+00:00</td>\n",
       "      <td>Художественный</td>\n",
       "      <td>ООО \"Студия \"Пассажир\"</td>\n",
       "      <td>Россия</td>\n",
       "      <td>Е.Миндадзе (псевдоним Катя Шагалова)</td>\n",
       "      <td>Л.Антонова</td>\n",
       "      <td>«16+» - для детей старше 16 лет</td>\n",
       "      <td>0.0</td>\n",
       "      <td>28000000.0</td>\n",
       "      <td>40574140.0</td>\n",
       "      <td>Министерство культуры</td>\n",
       "      <td>4.2000000000000001776</td>\n",
       "      <td>драма</td>\n",
       "      <td>55917.5</td>\n",
       "      <td>2014</td>\n",
       "      <td>Е.Миндадзе (псевдоним Катя Шагалова)</td>\n",
       "      <td>драма</td>\n",
       "      <td>69.009472535955168837</td>\n",
       "    </tr>\n",
       "    <tr>\n",
       "      <th>1792</th>\n",
       "      <td>Братья Ч</td>\n",
       "      <td>111004414</td>\n",
       "      <td>2014-04-23 12:00:00+00:00</td>\n",
       "      <td>Художественный</td>\n",
       "      <td>ООО \"Студия \"Пассажир\"</td>\n",
       "      <td>Россия</td>\n",
       "      <td>М.Угаров</td>\n",
       "      <td>А.Миндадзе, Л.Антонова</td>\n",
       "      <td>«16+» - для детей старше 16 лет</td>\n",
       "      <td>0.0</td>\n",
       "      <td>25000000.0</td>\n",
       "      <td>40015122.0</td>\n",
       "      <td>Министерство культуры</td>\n",
       "      <td>6.4000000000000003553</td>\n",
       "      <td>драма</td>\n",
       "      <td>232100.0</td>\n",
       "      <td>2014</td>\n",
       "      <td>М.Угаров</td>\n",
       "      <td>драма</td>\n",
       "      <td>62.476380804236953281</td>\n",
       "    </tr>\n",
       "  </tbody>\n",
       "</table>\n",
       "</div>"
      ],
      "text/plain": [
       "                    title   puNumber           show_start_date  \\\n",
       "1281        Пока еще жива  111005313 2013-10-11 12:00:00+00:00   \n",
       "1448  Бесславные придурки  111003314 2014-03-28 12:00:00+00:00   \n",
       "1498            Невидимки  111004213 2013-09-10 12:00:00+00:00   \n",
       "1524                БЕРЦЫ  111004314 2014-05-05 12:00:00+00:00   \n",
       "1792             Братья Ч  111004414 2014-04-23 12:00:00+00:00   \n",
       "\n",
       "                type                                        film_studio  \\\n",
       "1281  Художественный  АНО содействия развитию кинематографии \"Ангел-...   \n",
       "1448  Художественный                         ООО \"Компания \"АТК-Студио\"   \n",
       "1498  Художественный                        ООО \"Компания \"РЕАЛ-ДАКОТА\"   \n",
       "1524  Художественный                             ООО \"Студия \"Пассажир\"   \n",
       "1792  Художественный                             ООО \"Студия \"Пассажир\"   \n",
       "\n",
       "     production_country                              director  \\\n",
       "1281             Россия                            А.Атанесян   \n",
       "1448             Россия                             А.Якимчук   \n",
       "1498             Россия              Р.Давлетьяров, С.Комаров   \n",
       "1524             Россия  Е.Миндадзе (псевдоним Катя Шагалова)   \n",
       "1792             Россия                              М.Угаров   \n",
       "\n",
       "                                       producer  \\\n",
       "1281           А.Атанесян, М.Бабаханов, Р.Бутко   \n",
       "1448                                 А.Тютрюмов   \n",
       "1498  Р.Давлетьяров, А.Котелевский, А.Олейников   \n",
       "1524                                 Л.Антонова   \n",
       "1792                     А.Миндадзе, Л.Антонова   \n",
       "\n",
       "                      age_restriction  refundable_support  \\\n",
       "1281  «16+» - для детей старше 16 лет                 0.0   \n",
       "1448  «12+» - для детей старше 12 лет                 0.0   \n",
       "1498  «12+» - для детей старше 12 лет                 0.0   \n",
       "1524  «16+» - для детей старше 16 лет                 0.0   \n",
       "1792  «16+» - для детей старше 16 лет                 0.0   \n",
       "\n",
       "      nonrefundable_support      budget       financing_source  \\\n",
       "1281             26500000.0  79411900.0  Министерство культуры   \n",
       "1448             26000000.0  37142857.0  Министерство культуры   \n",
       "1498            107847945.0 176023490.0              Фонд кино   \n",
       "1524             28000000.0  40574140.0  Министерство культуры   \n",
       "1792             25000000.0  40015122.0  Министерство культуры   \n",
       "\n",
       "                   ratings              genres            box_office  \\\n",
       "1281 8.0999999999999996447     драма,мелодрама 365353.59999999997672   \n",
       "1448                   NaN                 NaN               28140.0   \n",
       "1498 5.2999999999999998224  комедия,фантастика            19957031.5   \n",
       "1524 4.2000000000000001776               драма               55917.5   \n",
       "1792 6.4000000000000003553               драма              232100.0   \n",
       "\n",
       "      show_start_year                         lead_director main_genre  \\\n",
       "1281             2013                            А.Атанесян      драма   \n",
       "1448             2014                             А.Якимчук        NaN   \n",
       "1498             2013                         Р.Давлетьяров    комедия   \n",
       "1524             2014  Е.Миндадзе (псевдоним Катя Шагалова)      драма   \n",
       "1792             2014                              М.Угаров      драма   \n",
       "\n",
       "              gos_support%  \n",
       "1281 33.370313517243637591  \n",
       "1448 70.000000269230767458  \n",
       "1498 61.269064145927345066  \n",
       "1524 69.009472535955168837  \n",
       "1792 62.476380804236953281  "
      ]
     },
     "metadata": {},
     "output_type": "display_data"
    },
    {
     "name": "stdout",
     "output_type": "stream",
     "text": [
      "<class 'pandas.core.frame.DataFrame'>\n",
      "Int64Index: 332 entries, 1281 to 7477\n",
      "Data columns (total 20 columns):\n",
      " #   Column                 Non-Null Count  Dtype              \n",
      "---  ------                 --------------  -----              \n",
      " 0   title                  332 non-null    object             \n",
      " 1   puNumber               332 non-null    int64              \n",
      " 2   show_start_date        332 non-null    datetime64[ns, UTC]\n",
      " 3   type                   332 non-null    object             \n",
      " 4   film_studio            332 non-null    object             \n",
      " 5   production_country     332 non-null    object             \n",
      " 6   director               332 non-null    object             \n",
      " 7   producer               330 non-null    object             \n",
      " 8   age_restriction        332 non-null    object             \n",
      " 9   refundable_support     332 non-null    float64            \n",
      " 10  nonrefundable_support  332 non-null    float64            \n",
      " 11  budget                 332 non-null    float64            \n",
      " 12  financing_source       332 non-null    object             \n",
      " 13  ratings                316 non-null    float64            \n",
      " 14  genres                 316 non-null    object             \n",
      " 15  box_office             318 non-null    float64            \n",
      " 16  show_start_year        332 non-null    int64              \n",
      " 17  lead_director          332 non-null    object             \n",
      " 18  main_genre             316 non-null    object             \n",
      " 19  gos_support%           332 non-null    float64            \n",
      "dtypes: datetime64[ns, UTC](1), float64(6), int64(2), object(11)\n",
      "memory usage: 54.5+ KB\n"
     ]
    }
   ],
   "source": [
    "# Делаем срез таблицы оставляя только фильмы с господдержкой и убеждаемся что срез выполнен корректно\n",
    "\n",
    "#dfgos = df[df['budget'] == df['budget']]\n",
    "dfgos = df[~df['budget'].isna()]\n",
    "display(dfgos.iloc[:, 0:20].head())\n",
    "dfgos.info()"
   ]
  },
  {
   "cell_type": "code",
   "execution_count": null,
   "metadata": {},
   "outputs": [
    {
     "data": {
      "text/html": [
       "<div>\n",
       "<style scoped>\n",
       "    .dataframe tbody tr th:only-of-type {\n",
       "        vertical-align: middle;\n",
       "    }\n",
       "\n",
       "    .dataframe tbody tr th {\n",
       "        vertical-align: top;\n",
       "    }\n",
       "\n",
       "    .dataframe thead th {\n",
       "        text-align: right;\n",
       "    }\n",
       "</style>\n",
       "<table border=\"1\" class=\"dataframe\">\n",
       "  <thead>\n",
       "    <tr style=\"text-align: right;\">\n",
       "      <th></th>\n",
       "      <th>puNumber</th>\n",
       "      <th>refundable_support</th>\n",
       "      <th>nonrefundable_support</th>\n",
       "      <th>budget</th>\n",
       "      <th>ratings</th>\n",
       "      <th>box_office</th>\n",
       "      <th>show_start_year</th>\n",
       "      <th>gos_support%</th>\n",
       "    </tr>\n",
       "  </thead>\n",
       "  <tbody>\n",
       "    <tr>\n",
       "      <th>puNumber</th>\n",
       "      <td>1.0</td>\n",
       "      <td>0.010412556489856766156</td>\n",
       "      <td>-0.030194167850886872301</td>\n",
       "      <td>-0.019794340033688354735</td>\n",
       "      <td>0.035684465262690714948</td>\n",
       "      <td>0.053664886521815988174</td>\n",
       "      <td>-0.017974708843298700667</td>\n",
       "      <td>-0.00028114279547168462932</td>\n",
       "    </tr>\n",
       "    <tr>\n",
       "      <th>refundable_support</th>\n",
       "      <td>0.010412556489856766156</td>\n",
       "      <td>1.0</td>\n",
       "      <td>0.35962164732637302844</td>\n",
       "      <td>0.64122365510800527488</td>\n",
       "      <td>-0.0037965484283698607004</td>\n",
       "      <td>0.31213682119686875227</td>\n",
       "      <td>0.089615889141707538723</td>\n",
       "      <td>-0.025356398718245198171</td>\n",
       "    </tr>\n",
       "    <tr>\n",
       "      <th>nonrefundable_support</th>\n",
       "      <td>-0.030194167850886872301</td>\n",
       "      <td>0.35962164732637302844</td>\n",
       "      <td>1.0</td>\n",
       "      <td>0.59416933266051374929</td>\n",
       "      <td>0.12564579476335885344</td>\n",
       "      <td>0.45572917236947341202</td>\n",
       "      <td>0.11764527330538872285</td>\n",
       "      <td>0.1203424384083053994</td>\n",
       "    </tr>\n",
       "    <tr>\n",
       "      <th>budget</th>\n",
       "      <td>-0.019794340033688354735</td>\n",
       "      <td>0.64122365510800527488</td>\n",
       "      <td>0.59416933266051374929</td>\n",
       "      <td>1.0</td>\n",
       "      <td>0.093116975207236357681</td>\n",
       "      <td>0.3613252256513027616</td>\n",
       "      <td>0.16464033307815953422</td>\n",
       "      <td>-0.29830833942594514596</td>\n",
       "    </tr>\n",
       "    <tr>\n",
       "      <th>ratings</th>\n",
       "      <td>0.035684465262690714948</td>\n",
       "      <td>-0.0037965484283698607004</td>\n",
       "      <td>0.12564579476335885344</td>\n",
       "      <td>0.093116975207236357681</td>\n",
       "      <td>1.0</td>\n",
       "      <td>0.14375541497787308609</td>\n",
       "      <td>0.024964843213189490817</td>\n",
       "      <td>-0.046337326258977032389</td>\n",
       "    </tr>\n",
       "    <tr>\n",
       "      <th>box_office</th>\n",
       "      <td>0.053664886521815988174</td>\n",
       "      <td>0.31213682119686875227</td>\n",
       "      <td>0.45572917236947341202</td>\n",
       "      <td>0.3613252256513027616</td>\n",
       "      <td>0.14375541497787308609</td>\n",
       "      <td>1.0</td>\n",
       "      <td>0.11927839031165504702</td>\n",
       "      <td>-0.11743639281031686972</td>\n",
       "    </tr>\n",
       "    <tr>\n",
       "      <th>show_start_year</th>\n",
       "      <td>-0.017974708843298700667</td>\n",
       "      <td>0.089615889141707538723</td>\n",
       "      <td>0.11764527330538872285</td>\n",
       "      <td>0.16464033307815953422</td>\n",
       "      <td>0.024964843213189490817</td>\n",
       "      <td>0.11927839031165504702</td>\n",
       "      <td>1.0</td>\n",
       "      <td>-0.073106655998836006516</td>\n",
       "    </tr>\n",
       "    <tr>\n",
       "      <th>gos_support%</th>\n",
       "      <td>-0.00028114279547168462932</td>\n",
       "      <td>-0.025356398718245198171</td>\n",
       "      <td>0.1203424384083053994</td>\n",
       "      <td>-0.29830833942594514596</td>\n",
       "      <td>-0.046337326258977032389</td>\n",
       "      <td>-0.11743639281031686972</td>\n",
       "      <td>-0.073106655998836006516</td>\n",
       "      <td>1.0</td>\n",
       "    </tr>\n",
       "  </tbody>\n",
       "</table>\n",
       "</div>"
      ],
      "text/plain": [
       "                                        puNumber        refundable_support  \\\n",
       "puNumber                                     1.0   0.010412556489856766156   \n",
       "refundable_support       0.010412556489856766156                       1.0   \n",
       "nonrefundable_support   -0.030194167850886872301    0.35962164732637302844   \n",
       "budget                  -0.019794340033688354735    0.64122365510800527488   \n",
       "ratings                  0.035684465262690714948 -0.0037965484283698607004   \n",
       "box_office               0.053664886521815988174    0.31213682119686875227   \n",
       "show_start_year         -0.017974708843298700667   0.089615889141707538723   \n",
       "gos_support%          -0.00028114279547168462932  -0.025356398718245198171   \n",
       "\n",
       "                         nonrefundable_support                   budget  \\\n",
       "puNumber              -0.030194167850886872301 -0.019794340033688354735   \n",
       "refundable_support      0.35962164732637302844   0.64122365510800527488   \n",
       "nonrefundable_support                      1.0   0.59416933266051374929   \n",
       "budget                  0.59416933266051374929                      1.0   \n",
       "ratings                 0.12564579476335885344  0.093116975207236357681   \n",
       "box_office              0.45572917236947341202    0.3613252256513027616   \n",
       "show_start_year         0.11764527330538872285   0.16464033307815953422   \n",
       "gos_support%             0.1203424384083053994  -0.29830833942594514596   \n",
       "\n",
       "                                        ratings              box_office  \\\n",
       "puNumber                0.035684465262690714948 0.053664886521815988174   \n",
       "refundable_support    -0.0037965484283698607004  0.31213682119686875227   \n",
       "nonrefundable_support    0.12564579476335885344  0.45572917236947341202   \n",
       "budget                  0.093116975207236357681   0.3613252256513027616   \n",
       "ratings                                     1.0  0.14375541497787308609   \n",
       "box_office               0.14375541497787308609                     1.0   \n",
       "show_start_year         0.024964843213189490817  0.11927839031165504702   \n",
       "gos_support%           -0.046337326258977032389 -0.11743639281031686972   \n",
       "\n",
       "                               show_start_year               gos_support%  \n",
       "puNumber              -0.017974708843298700667 -0.00028114279547168462932  \n",
       "refundable_support     0.089615889141707538723   -0.025356398718245198171  \n",
       "nonrefundable_support   0.11764527330538872285      0.1203424384083053994  \n",
       "budget                  0.16464033307815953422    -0.29830833942594514596  \n",
       "ratings                0.024964843213189490817   -0.046337326258977032389  \n",
       "box_office              0.11927839031165504702    -0.11743639281031686972  \n",
       "show_start_year                            1.0   -0.073106655998836006516  \n",
       "gos_support%          -0.073106655998836006516                        1.0  "
      ]
     },
     "execution_count": 55,
     "metadata": {},
     "output_type": "execute_result"
    }
   ],
   "source": [
    "# Выведем таблицу чтобы проверить корреляцию между значениями\n",
    "\n",
    "dfgos.corr()"
   ]
  },
  {
   "cell_type": "markdown",
   "metadata": {},
   "source": [
    "**`Вывод: `**\n",
    "\n",
    "Сильной корреляции между значениями не наблюдается"
   ]
  },
  {
   "cell_type": "markdown",
   "metadata": {},
   "source": [
    "#### Посмотрим, как распределяется окупаемость поддержки в зависимости от спонсора"
   ]
  },
  {
   "cell_type": "code",
   "execution_count": null,
   "metadata": {},
   "outputs": [],
   "source": [
    "# Создадим новую колонку с разницей бюджета и сборов\n",
    "\n",
    "dfgos = dfgos.copy()\n",
    "dfgos['budget_box_off'] = dfgos['box_office'] - dfgos['budget']\n",
    "\n",
    "# Создадим функцию для вывода нужных графиков\n",
    "\n",
    "def graph(dfgos, index, values_list, aggfunc, x='Год', y='Сумма', title='Окупаемость', kind='bar'):\n",
    "    dfgos.pivot_table(index=index, values=values_list, aggfunc=aggfunc).plot(kind=kind, grid = True)\n",
    "    plt.xlabel(x)\n",
    "    plt.ylabel(y)\n",
    "    plt.title(title)\n",
    "    plt.show\n",
    "\n",
    "# Создадим функцию для вывода нужных таблиц\n",
    "\n",
    "def table(dfgos, index, values_list, aggfunc):\n",
    "    display(dfgos.pivot_table(index=index, values=values_list, aggfunc=aggfunc))"
   ]
  },
  {
   "cell_type": "code",
   "execution_count": null,
   "metadata": {},
   "outputs": [
    {
     "data": {
      "text/html": [
       "<div>\n",
       "<style scoped>\n",
       "    .dataframe tbody tr th:only-of-type {\n",
       "        vertical-align: middle;\n",
       "    }\n",
       "\n",
       "    .dataframe tbody tr th {\n",
       "        vertical-align: top;\n",
       "    }\n",
       "\n",
       "    .dataframe thead th {\n",
       "        text-align: right;\n",
       "    }\n",
       "</style>\n",
       "<table border=\"1\" class=\"dataframe\">\n",
       "  <thead>\n",
       "    <tr style=\"text-align: right;\">\n",
       "      <th></th>\n",
       "      <th>box_office</th>\n",
       "      <th>budget</th>\n",
       "      <th>budget_box_off</th>\n",
       "    </tr>\n",
       "    <tr>\n",
       "      <th>financing_source</th>\n",
       "      <th></th>\n",
       "      <th></th>\n",
       "      <th></th>\n",
       "    </tr>\n",
       "  </thead>\n",
       "  <tbody>\n",
       "    <tr>\n",
       "      <th>Министерство культуры</th>\n",
       "      <td>5322018327.9299983978</td>\n",
       "      <td>11469203758.0</td>\n",
       "      <td>-5587235151.0700016022</td>\n",
       "    </tr>\n",
       "    <tr>\n",
       "      <th>Министерство культуры, Фонд кино</th>\n",
       "      <td>805338418.25999987125</td>\n",
       "      <td>2626309609.0</td>\n",
       "      <td>-1820971190.7400000095</td>\n",
       "    </tr>\n",
       "    <tr>\n",
       "      <th>Фонд кино</th>\n",
       "      <td>35986152828.589996338</td>\n",
       "      <td>28144752572.0</td>\n",
       "      <td>8935547758.5900001526</td>\n",
       "    </tr>\n",
       "  </tbody>\n",
       "</table>\n",
       "</div>"
      ],
      "text/plain": [
       "                                            box_office        budget  \\\n",
       "financing_source                                                       \n",
       "Министерство культуры            5322018327.9299983978 11469203758.0   \n",
       "Министерство культуры, Фонд кино 805338418.25999987125  2626309609.0   \n",
       "Фонд кино                        35986152828.589996338 28144752572.0   \n",
       "\n",
       "                                         budget_box_off  \n",
       "financing_source                                         \n",
       "Министерство культуры            -5587235151.0700016022  \n",
       "Министерство культуры, Фонд кино -1820971190.7400000095  \n",
       "Фонд кино                         8935547758.5900001526  "
      ]
     },
     "metadata": {},
     "output_type": "display_data"
    },
    {
     "data": {
      "image/png": "[encoded data removed]",
      "text/plain": [
       "<Figure size 432x288 with 1 Axes>"
      ]
     },
     "metadata": {
      "needs_background": "light"
     },
     "output_type": "display_data"
    }
   ],
   "source": [
    "# Посмотрим, как распределяется окупаемость поддержки в зависимости от спонсора\n",
    "# Выводим график\n",
    "\n",
    "graph(dfgos, 'financing_source', ['box_office', 'budget', 'budget_box_off'], 'sum', x='Год', y='Сумма', title='Окупаемость')\n",
    "\n",
    "# Выводим таблицу\n",
    "\n",
    "table(dfgos, 'financing_source', ['box_office', 'budget', 'budget_box_off'], 'sum')"
   ]
  },
  {
   "cell_type": "markdown",
   "metadata": {},
   "source": [
    "**Вывод:**\n",
    "\n",
    "Мы видим, что окупаемость отличается в зависимости от спонсора.\n",
    "\n",
    "- Сборы от фильмов профинансированных Минкультом значительно меньше затраченых средств - дефицитные\n",
    "- Сборы от фильмов профинансированных Минкультом вместе с Фондом кино также не окупаются, но они примерно в 5 раз менее дефицитные чем первые\n",
    "- На фоне убыточного баланса Минкульта, выгодно отличается Фонд кино, фильмы профинансированные фондом показывают профицит"
   ]
  },
  {
   "cell_type": "markdown",
   "metadata": {},
   "source": [
    "#### Посмотрим тенденцию окупаемости просмотров по годам"
   ]
  },
  {
   "cell_type": "code",
   "execution_count": null,
   "metadata": {},
   "outputs": [
    {
     "data": {
      "text/html": [
       "<div>\n",
       "<style scoped>\n",
       "    .dataframe tbody tr th:only-of-type {\n",
       "        vertical-align: middle;\n",
       "    }\n",
       "\n",
       "    .dataframe tbody tr th {\n",
       "        vertical-align: top;\n",
       "    }\n",
       "\n",
       "    .dataframe thead th {\n",
       "        text-align: right;\n",
       "    }\n",
       "</style>\n",
       "<table border=\"1\" class=\"dataframe\">\n",
       "  <thead>\n",
       "    <tr style=\"text-align: right;\">\n",
       "      <th></th>\n",
       "      <th>box_office</th>\n",
       "      <th>budget</th>\n",
       "      <th>budget_box_off</th>\n",
       "    </tr>\n",
       "    <tr>\n",
       "      <th>show_start_year</th>\n",
       "      <th></th>\n",
       "      <th></th>\n",
       "      <th></th>\n",
       "    </tr>\n",
       "  </thead>\n",
       "  <tbody>\n",
       "    <tr>\n",
       "      <th>2013</th>\n",
       "      <td>20322385.10000000149</td>\n",
       "      <td>255435390.0</td>\n",
       "      <td>-235113004.90000000596</td>\n",
       "    </tr>\n",
       "    <tr>\n",
       "      <th>2014</th>\n",
       "      <td>1017422166.6000000238</td>\n",
       "      <td>1279484783.0</td>\n",
       "      <td>-262062616.39999997616</td>\n",
       "    </tr>\n",
       "    <tr>\n",
       "      <th>2015</th>\n",
       "      <td>5785285418.1400022507</td>\n",
       "      <td>7309669207.0</td>\n",
       "      <td>-1482384804.8600003719</td>\n",
       "    </tr>\n",
       "    <tr>\n",
       "      <th>2016</th>\n",
       "      <td>6081707839.1000003815</td>\n",
       "      <td>7228942748.0</td>\n",
       "      <td>-1128528828.9000000954</td>\n",
       "    </tr>\n",
       "    <tr>\n",
       "      <th>2017</th>\n",
       "      <td>10865075300.960000992</td>\n",
       "      <td>6972172568.0</td>\n",
       "      <td>3998502732.9600000381</td>\n",
       "    </tr>\n",
       "    <tr>\n",
       "      <th>2018</th>\n",
       "      <td>9934069010.25</td>\n",
       "      <td>6651694634.0</td>\n",
       "      <td>3282374376.25</td>\n",
       "    </tr>\n",
       "    <tr>\n",
       "      <th>2019</th>\n",
       "      <td>8409627454.6300001144</td>\n",
       "      <td>12542866609.0</td>\n",
       "      <td>-2645446437.3700017929</td>\n",
       "    </tr>\n",
       "  </tbody>\n",
       "</table>\n",
       "</div>"
      ],
      "text/plain": [
       "                           box_office        budget         budget_box_off\n",
       "show_start_year                                                           \n",
       "2013             20322385.10000000149   255435390.0 -235113004.90000000596\n",
       "2014            1017422166.6000000238  1279484783.0 -262062616.39999997616\n",
       "2015            5785285418.1400022507  7309669207.0 -1482384804.8600003719\n",
       "2016            6081707839.1000003815  7228942748.0 -1128528828.9000000954\n",
       "2017            10865075300.960000992  6972172568.0  3998502732.9600000381\n",
       "2018                    9934069010.25  6651694634.0          3282374376.25\n",
       "2019            8409627454.6300001144 12542866609.0 -2645446437.3700017929"
      ]
     },
     "metadata": {},
     "output_type": "display_data"
    },
    {
     "data": {
      "image/png": "[encoded data removed]",
      "text/plain": [
       "<Figure size 432x288 with 1 Axes>"
      ]
     },
     "metadata": {
      "needs_background": "light"
     },
     "output_type": "display_data"
    }
   ],
   "source": [
    "# Вызываем функцию чтобы проверить окупаемость фикартин по годам с 2013 по 2019\n",
    "# Выводим график\n",
    "\n",
    "graph(dfgos, 'show_start_year', ['box_office', 'budget', 'budget_box_off'], 'sum', x='Год', y='Сумма', title='Окупаемость', kind='line')\n",
    "\n",
    "# Выводим таблицу\n",
    "\n",
    "table(dfgos, 'show_start_year', ['box_office', 'budget', 'budget_box_off'], 'sum')"
   ]
  },
  {
   "cell_type": "markdown",
   "metadata": {},
   "source": [
    "**Вывод:**\n",
    "\n",
    "Мы видим, что прослеживается изменчивость окупаемости в разные года.\n",
    "- положительная окупаемость наблюдается в период с 2017 по 2018 гг с пиком в 2017 г."
   ]
  },
  {
   "cell_type": "markdown",
   "metadata": {},
   "source": [
    "#### Проанализируем взаимосвязь сборов и бюджета от рейтинга фильма"
   ]
  },
  {
   "cell_type": "code",
   "execution_count": null,
   "metadata": {},
   "outputs": [
    {
     "data": {
      "image/png": "[encoded data removed]",
      "text/plain": [
       "<Figure size 432x288 with 1 Axes>"
      ]
     },
     "metadata": {
      "needs_background": "light"
     },
     "output_type": "display_data"
    },
    {
     "data": {
      "image/png": "[encoded data removed]",
      "text/plain": [
       "<Figure size 432x288 with 1 Axes>"
      ]
     },
     "metadata": {
      "needs_background": "light"
     },
     "output_type": "display_data"
    }
   ],
   "source": [
    "# округляем рейтинги, для лучшего отображения. Создаём для этого новую колонку в dfgos\n",
    "\n",
    "dfgos['ratings_rounded'] = dfgos['ratings'].round(0)\n",
    "\n",
    "# Вызываем функцию чтобы проверить взаимосвязь сборов от рейтинга\n",
    "\n",
    "graph(dfgos, 'ratings_rounded', ['box_office'], 'sum', x='Рейтинг', y='Сборы', title='Окупаемость', kind='bar')\n",
    "\n",
    "\n",
    "# Вызываем функцию чтобы проверить взаимосвязь бюджета от рейтинга\n",
    "\n",
    "graph(dfgos, 'ratings_rounded', ['budget'], 'sum', x='Рейтинг', y='Бюджет', title='Окупаемость', kind='bar')"
   ]
  },
  {
   "cell_type": "markdown",
   "metadata": {},
   "source": [
    "**Вывод:**\n",
    "\n",
    "Согласно данным из графика, самые высокие сборы приносят фильмы с рейтингом от 6 до 8 баллов\n",
    "\n",
    "Фильмы с самым большим буджетом получают чуть меньше 6 баллов рейтинга.\n"
   ]
  },
  {
   "cell_type": "markdown",
   "metadata": {},
   "source": [
    "#### Смотрим на самые поппулярные фильмы (высокий рейтинг) что это за фильмы?"
   ]
  },
  {
   "cell_type": "code",
   "execution_count": null,
   "metadata": {},
   "outputs": [
    {
     "data": {
      "text/html": [
       "<div>\n",
       "<style scoped>\n",
       "    .dataframe tbody tr th:only-of-type {\n",
       "        vertical-align: middle;\n",
       "    }\n",
       "\n",
       "    .dataframe tbody tr th {\n",
       "        vertical-align: top;\n",
       "    }\n",
       "\n",
       "    .dataframe thead th {\n",
       "        text-align: right;\n",
       "    }\n",
       "</style>\n",
       "<table border=\"1\" class=\"dataframe\">\n",
       "  <thead>\n",
       "    <tr style=\"text-align: right;\">\n",
       "      <th></th>\n",
       "      <th>title</th>\n",
       "      <th>puNumber</th>\n",
       "      <th>show_start_date</th>\n",
       "      <th>type</th>\n",
       "      <th>film_studio</th>\n",
       "      <th>production_country</th>\n",
       "      <th>director</th>\n",
       "      <th>producer</th>\n",
       "      <th>age_restriction</th>\n",
       "      <th>refundable_support</th>\n",
       "      <th>...</th>\n",
       "      <th>financing_source</th>\n",
       "      <th>ratings</th>\n",
       "      <th>genres</th>\n",
       "      <th>box_office</th>\n",
       "      <th>show_start_year</th>\n",
       "      <th>lead_director</th>\n",
       "      <th>main_genre</th>\n",
       "      <th>gos_support%</th>\n",
       "      <th>budget_box_off</th>\n",
       "      <th>ratings_rounded</th>\n",
       "    </tr>\n",
       "  </thead>\n",
       "  <tbody>\n",
       "    <tr>\n",
       "      <th>1281</th>\n",
       "      <td>Пока еще жива</td>\n",
       "      <td>111005313</td>\n",
       "      <td>2013-10-11 12:00:00+00:00</td>\n",
       "      <td>Художественный</td>\n",
       "      <td>АНО содействия развитию кинематографии \"Ангел-...</td>\n",
       "      <td>Россия</td>\n",
       "      <td>А.Атанесян</td>\n",
       "      <td>А.Атанесян, М.Бабаханов, Р.Бутко</td>\n",
       "      <td>«16+» - для детей старше 16 лет</td>\n",
       "      <td>0.0</td>\n",
       "      <td>...</td>\n",
       "      <td>Министерство культуры</td>\n",
       "      <td>8.0999999999999996447</td>\n",
       "      <td>драма,мелодрама</td>\n",
       "      <td>365353.59999999997672</td>\n",
       "      <td>2013</td>\n",
       "      <td>А.Атанесян</td>\n",
       "      <td>драма</td>\n",
       "      <td>33.370313517243637591</td>\n",
       "      <td>-79046546.40000000596</td>\n",
       "      <td>8.0</td>\n",
       "    </tr>\n",
       "    <tr>\n",
       "      <th>1448</th>\n",
       "      <td>Бесславные придурки</td>\n",
       "      <td>111003314</td>\n",
       "      <td>2014-03-28 12:00:00+00:00</td>\n",
       "      <td>Художественный</td>\n",
       "      <td>ООО \"Компания \"АТК-Студио\"</td>\n",
       "      <td>Россия</td>\n",
       "      <td>А.Якимчук</td>\n",
       "      <td>А.Тютрюмов</td>\n",
       "      <td>«12+» - для детей старше 12 лет</td>\n",
       "      <td>0.0</td>\n",
       "      <td>...</td>\n",
       "      <td>Министерство культуры</td>\n",
       "      <td>NaN</td>\n",
       "      <td>NaN</td>\n",
       "      <td>28140.0</td>\n",
       "      <td>2014</td>\n",
       "      <td>А.Якимчук</td>\n",
       "      <td>NaN</td>\n",
       "      <td>70.000000269230767458</td>\n",
       "      <td>-37114717.0</td>\n",
       "      <td>NaN</td>\n",
       "    </tr>\n",
       "  </tbody>\n",
       "</table>\n",
       "<p>2 rows × 22 columns</p>\n",
       "</div>"
      ],
      "text/plain": [
       "                    title   puNumber           show_start_date  \\\n",
       "1281        Пока еще жива  111005313 2013-10-11 12:00:00+00:00   \n",
       "1448  Бесславные придурки  111003314 2014-03-28 12:00:00+00:00   \n",
       "\n",
       "                type                                        film_studio  \\\n",
       "1281  Художественный  АНО содействия развитию кинематографии \"Ангел-...   \n",
       "1448  Художественный                         ООО \"Компания \"АТК-Студио\"   \n",
       "\n",
       "     production_country    director                          producer  \\\n",
       "1281             Россия  А.Атанесян  А.Атанесян, М.Бабаханов, Р.Бутко   \n",
       "1448             Россия   А.Якимчук                        А.Тютрюмов   \n",
       "\n",
       "                      age_restriction  refundable_support  ...  \\\n",
       "1281  «16+» - для детей старше 16 лет                 0.0  ...   \n",
       "1448  «12+» - для детей старше 12 лет                 0.0  ...   \n",
       "\n",
       "           financing_source               ratings           genres  \\\n",
       "1281  Министерство культуры 8.0999999999999996447  драма,мелодрама   \n",
       "1448  Министерство культуры                   NaN              NaN   \n",
       "\n",
       "                box_office show_start_year  lead_director  main_genre  \\\n",
       "1281 365353.59999999997672            2013     А.Атанесян       драма   \n",
       "1448               28140.0            2014      А.Якимчук         NaN   \n",
       "\n",
       "              gos_support%        budget_box_off  ratings_rounded  \n",
       "1281 33.370313517243637591 -79046546.40000000596              8.0  \n",
       "1448 70.000000269230767458           -37114717.0              NaN  \n",
       "\n",
       "[2 rows x 22 columns]"
      ]
     },
     "execution_count": 60,
     "metadata": {},
     "output_type": "execute_result"
    }
   ],
   "source": [
    "# Проверяем создание новой колонки\n",
    "\n",
    "dfgos.head(2)"
   ]
  },
  {
   "cell_type": "code",
   "execution_count": null,
   "metadata": {},
   "outputs": [
    {
     "data": {
      "text/html": [
       "<div>\n",
       "<style scoped>\n",
       "    .dataframe tbody tr th:only-of-type {\n",
       "        vertical-align: middle;\n",
       "    }\n",
       "\n",
       "    .dataframe tbody tr th {\n",
       "        vertical-align: top;\n",
       "    }\n",
       "\n",
       "    .dataframe thead th {\n",
       "        text-align: right;\n",
       "    }\n",
       "</style>\n",
       "<table border=\"1\" class=\"dataframe\">\n",
       "  <thead>\n",
       "    <tr style=\"text-align: right;\">\n",
       "      <th></th>\n",
       "      <th>ratings_rounded</th>\n",
       "    </tr>\n",
       "    <tr>\n",
       "      <th>main_genre</th>\n",
       "      <th></th>\n",
       "    </tr>\n",
       "  </thead>\n",
       "  <tbody>\n",
       "    <tr>\n",
       "      <th>криминал</th>\n",
       "      <td>7.3333333333333330373</td>\n",
       "    </tr>\n",
       "    <tr>\n",
       "      <th>биография</th>\n",
       "      <td>7.0</td>\n",
       "    </tr>\n",
       "    <tr>\n",
       "      <th>детектив</th>\n",
       "      <td>7.0</td>\n",
       "    </tr>\n",
       "    <tr>\n",
       "      <th>детский</th>\n",
       "      <td>7.0</td>\n",
       "    </tr>\n",
       "    <tr>\n",
       "      <th>спорт</th>\n",
       "      <td>7.0</td>\n",
       "    </tr>\n",
       "    <tr>\n",
       "      <th>боевик</th>\n",
       "      <td>6.6666666666666669627</td>\n",
       "    </tr>\n",
       "    <tr>\n",
       "      <th>военный</th>\n",
       "      <td>6.5555555555555553582</td>\n",
       "    </tr>\n",
       "    <tr>\n",
       "      <th>мюзикл</th>\n",
       "      <td>6.5</td>\n",
       "    </tr>\n",
       "    <tr>\n",
       "      <th>драма</th>\n",
       "      <td>6.4086021505376340457</td>\n",
       "    </tr>\n",
       "    <tr>\n",
       "      <th>фантастика</th>\n",
       "      <td>6.1818181818181816567</td>\n",
       "    </tr>\n",
       "  </tbody>\n",
       "</table>\n",
       "</div>"
      ],
      "text/plain": [
       "                 ratings_rounded\n",
       "main_genre                      \n",
       "криминал   7.3333333333333330373\n",
       "биография                    7.0\n",
       "детектив                     7.0\n",
       "детский                      7.0\n",
       "спорт                        7.0\n",
       "боевик     6.6666666666666669627\n",
       "военный    6.5555555555555553582\n",
       "мюзикл                       6.5\n",
       "драма      6.4086021505376340457\n",
       "фантастика 6.1818181818181816567"
      ]
     },
     "metadata": {},
     "output_type": "display_data"
    },
    {
     "data": {
      "text/html": [
       "<div>\n",
       "<style scoped>\n",
       "    .dataframe tbody tr th:only-of-type {\n",
       "        vertical-align: middle;\n",
       "    }\n",
       "\n",
       "    .dataframe tbody tr th {\n",
       "        vertical-align: top;\n",
       "    }\n",
       "\n",
       "    .dataframe thead th {\n",
       "        text-align: right;\n",
       "    }\n",
       "</style>\n",
       "<table border=\"1\" class=\"dataframe\">\n",
       "  <thead>\n",
       "    <tr style=\"text-align: right;\">\n",
       "      <th></th>\n",
       "      <th>budget</th>\n",
       "    </tr>\n",
       "    <tr>\n",
       "      <th>main_genre</th>\n",
       "      <th></th>\n",
       "    </tr>\n",
       "  </thead>\n",
       "  <tbody>\n",
       "    <tr>\n",
       "      <th>история</th>\n",
       "      <td>536265551.5</td>\n",
       "    </tr>\n",
       "    <tr>\n",
       "      <th>приключения</th>\n",
       "      <td>482106027.0</td>\n",
       "    </tr>\n",
       "    <tr>\n",
       "      <th>детектив</th>\n",
       "      <td>239644459.40000000596</td>\n",
       "    </tr>\n",
       "    <tr>\n",
       "      <th>спорт</th>\n",
       "      <td>236822988.33333334327</td>\n",
       "    </tr>\n",
       "    <tr>\n",
       "      <th>фэнтези</th>\n",
       "      <td>212738524.09090909362</td>\n",
       "    </tr>\n",
       "    <tr>\n",
       "      <th>фантастика</th>\n",
       "      <td>199372801.36363637447</td>\n",
       "    </tr>\n",
       "    <tr>\n",
       "      <th>биография</th>\n",
       "      <td>176311212.33333334327</td>\n",
       "    </tr>\n",
       "    <tr>\n",
       "      <th>мультфильм</th>\n",
       "      <td>170499982.80645161867</td>\n",
       "    </tr>\n",
       "    <tr>\n",
       "      <th>военный</th>\n",
       "      <td>142878536.11111110449</td>\n",
       "    </tr>\n",
       "    <tr>\n",
       "      <th>криминал</th>\n",
       "      <td>142198260.33333334327</td>\n",
       "    </tr>\n",
       "  </tbody>\n",
       "</table>\n",
       "</div>"
      ],
      "text/plain": [
       "                           budget\n",
       "main_genre                       \n",
       "история               536265551.5\n",
       "приключения           482106027.0\n",
       "детектив    239644459.40000000596\n",
       "спорт       236822988.33333334327\n",
       "фэнтези     212738524.09090909362\n",
       "фантастика  199372801.36363637447\n",
       "биография   176311212.33333334327\n",
       "мультфильм  170499982.80645161867\n",
       "военный     142878536.11111110449\n",
       "криминал    142198260.33333334327"
      ]
     },
     "metadata": {},
     "output_type": "display_data"
    },
    {
     "data": {
      "text/html": [
       "<div>\n",
       "<style scoped>\n",
       "    .dataframe tbody tr th:only-of-type {\n",
       "        vertical-align: middle;\n",
       "    }\n",
       "\n",
       "    .dataframe tbody tr th {\n",
       "        vertical-align: top;\n",
       "    }\n",
       "\n",
       "    .dataframe thead th {\n",
       "        text-align: right;\n",
       "    }\n",
       "</style>\n",
       "<table border=\"1\" class=\"dataframe\">\n",
       "  <thead>\n",
       "    <tr style=\"text-align: right;\">\n",
       "      <th></th>\n",
       "      <th>box_office</th>\n",
       "    </tr>\n",
       "    <tr>\n",
       "      <th>main_genre</th>\n",
       "      <th></th>\n",
       "    </tr>\n",
       "  </thead>\n",
       "  <tbody>\n",
       "    <tr>\n",
       "      <th>спорт</th>\n",
       "      <td>989256129.146666646</td>\n",
       "    </tr>\n",
       "    <tr>\n",
       "      <th>история</th>\n",
       "      <td>363867058.64249998331</td>\n",
       "    </tr>\n",
       "    <tr>\n",
       "      <th>приключения</th>\n",
       "      <td>200932829.43666663766</td>\n",
       "    </tr>\n",
       "    <tr>\n",
       "      <th>мультфильм</th>\n",
       "      <td>187400471.15533339977</td>\n",
       "    </tr>\n",
       "    <tr>\n",
       "      <th>биография</th>\n",
       "      <td>172294345.87999999523</td>\n",
       "    </tr>\n",
       "    <tr>\n",
       "      <th>фантастика</th>\n",
       "      <td>171820427.93899995089</td>\n",
       "    </tr>\n",
       "    <tr>\n",
       "      <th>комедия</th>\n",
       "      <td>170958595.26479455829</td>\n",
       "    </tr>\n",
       "    <tr>\n",
       "      <th>военный</th>\n",
       "      <td>113074496.86666665971</td>\n",
       "    </tr>\n",
       "    <tr>\n",
       "      <th>драма</th>\n",
       "      <td>109090162.08091953397</td>\n",
       "    </tr>\n",
       "    <tr>\n",
       "      <th>боевик</th>\n",
       "      <td>99321489.083333328366</td>\n",
       "    </tr>\n",
       "  </tbody>\n",
       "</table>\n",
       "</div>"
      ],
      "text/plain": [
       "                       box_office\n",
       "main_genre                       \n",
       "спорт         989256129.146666646\n",
       "история     363867058.64249998331\n",
       "приключения 200932829.43666663766\n",
       "мультфильм  187400471.15533339977\n",
       "биография   172294345.87999999523\n",
       "фантастика  171820427.93899995089\n",
       "комедия     170958595.26479455829\n",
       "военный     113074496.86666665971\n",
       "драма       109090162.08091953397\n",
       "боевик      99321489.083333328366"
      ]
     },
     "metadata": {},
     "output_type": "display_data"
    }
   ],
   "source": [
    "# Создаём функцию для вывода таблицы\n",
    "\n",
    "def rr(index, values, by):\n",
    "    display(dfgos.pivot_table(index=index, values=[values]).sort_values(by=by, ascending=False).head(10))\n",
    "\n",
    "# Выводим 20 самых поппулярных жанров\n",
    "rr('main_genre', 'ratings_rounded','ratings_rounded')\n",
    "\n",
    "# Выводим 20 жанров с самым большим бюджетом\n",
    "rr('main_genre', 'budget', 'budget')\n",
    "\n",
    "# Выводим 20 жанров с самыми большими сборами\n",
    "rr('main_genre', 'box_office', 'box_office')\n"
   ]
  },
  {
   "cell_type": "markdown",
   "metadata": {},
   "source": [
    "**Вывод:**\n",
    "\n",
    "Фильмы с самым высоким бюджетом не всегда самые рейтинговые, Фильмы про спорт имеют хорошие сборы и хороший рейтинг.\n",
    "\n",
    "Самые высокие бюджеты у фильмов в жанре которых присутсвует спорт, история и приключения \n"
   ]
  },
  {
   "cell_type": "markdown",
   "metadata": {
    "id": "V2gYwMcPgFyd"
   },
   "source": [
    "### Шаг 5. Напишите общий вывод"
   ]
  },
  {
   "attachments": {},
   "cell_type": "markdown",
   "metadata": {
    "id": "AYRg3dzXgFye"
   },
   "source": [
    "**`Общий вывод:`**\n",
    "\n",
    "\n",
    "В ходе данного исследования была поставлена задача выявить `текущие тренды` на рыке россйского проката, а также отдельно изучить и проанализировать фильмы пользующиеся господдержкой, насколько эти фильмы `интересны зрителю`.\n",
    "\n",
    "\n",
    "**`Ход работы:`**\n",
    "\n",
    "Перед началом исследования было выполнено `объединение информации` из разных источников в единую таблцу с последующей предобработкой включающей в себя поиск и выявление дубликатов в данных.\n",
    "\n",
    "При последующей предобработке, также, были удалены неявные дубликаты, высчитаны новые, промежуточные значения, составлены подробные графики которые позволили визуализировать информацию и подготовить почву для составления выводов исследвания.\n",
    "\n",
    "\n",
    "**`Исследование выявило следущие закономерности и особенности:`**\n",
    "\n",
    "- В результате исследовательского анализа была выявлена общая `тенденция к увеличению` доли фильмов выходящих в прокат в кинотеатрах от года к году.\n",
    "При этом есть местный спад в 2016 г. затем рост с пиком приходящимся на 2017 г и последующим снижением в 2018 г, далее с небольим ростом в 2019 г.\n",
    "\n",
    "\n",
    "- Параллельно с ростом проката миеется явная `тенденция к увеличению суммы сборов` от года к году. Мы наблюдаем наименьшие сборы в 2010 г и максимальные сборы в 2018 г. Однако, увеличение сборов может быть `связано с общим увеличением доли прокатов в кинотеатрах`.\n",
    "\n",
    "\n",
    "- Возрастное ограничение тоже оказывает влияние на сборы фильма в прокате в проанализированый период с 2015 по 2019 год.\n",
    "Максимальные сборы за период 2015-2019 гг принесли фильмы с возрастным ограничением 12+.\n",
    "\n",
    "\n",
    "- На основании построенных графиков мы можем наблюдать что в целом, `сборы растут`. Мы вдим резкий прирост сборов с 2015 по 2016 гг, потом следуем умеренный рост с 2016 по 2018 гг, после его наблюдается небольшой спад вплоть до 2019 г.\n",
    "\n",
    "\n",
    "Также, была предпринята попытка нахождения зависимости сборов от спонсора кинофильма. В результате проведённого исследования было показано что окупаемость фильмов значительно отличается в зависомости от спонсора.\n",
    "\n",
    "- Сборы от фильмов профинансированных Минкультом значительно меньше затраченных средств - дефицитные\n",
    "- Сборы от фильмов профинансированных Минкультом вместе с Фондом кино также не окупаются, но они примерно в 5 раз менее дефицитные чем первые\n",
    "- На фоне убыточного баланса Минкульта, выгодно отличается Фонд кино, фильмы профинансированные фондом показывают профицит\n",
    "\n",
    "- Была выявлена изменчивость окупаемости в разные года.\n",
    "Положительная окупаемость наблюдается в период с 2017 по 2018 гг с пиком в 2017 г.\n",
    "\n",
    "- Самые высокие сборы приносят фильмы с рейтингом от 6 до 8 баллов. Фильмы с самым большим бюджетом получают чуть меньше 6 баллов рейтинга.\n",
    "\n",
    "- Фильмы с самым высоким бюджетом не всегда самые рейтинговые, Фильмы про спорт имеют хорошие сборы и хороший рейтинг.\n",
    "\n",
    "- Самые высокие бюджеты у фильмов в жанре которых присутсвует спорт, история и приключения "
   ]
  }
 ],
 "metadata": {
  "ExecuteTimeLog": [
   {
    "duration": 537,
    "start_time": "2021-07-07T10:12:08.634Z"
   },
   {
    "duration": 206,
    "start_time": "2021-07-07T10:12:30.191Z"
   },
   {
    "duration": 227,
    "start_time": "2021-07-07T10:12:33.078Z"
   },
   {
    "duration": 153,
    "start_time": "2021-07-07T10:13:42.146Z"
   },
   {
    "duration": 233,
    "start_time": "2021-07-07T10:30:09.252Z"
   },
   {
    "duration": 19,
    "start_time": "2021-07-07T10:30:15.577Z"
   },
   {
    "duration": 18,
    "start_time": "2021-07-07T10:30:57.348Z"
   },
   {
    "duration": 19,
    "start_time": "2021-07-07T10:31:17.452Z"
   },
   {
    "duration": 21,
    "start_time": "2021-07-07T10:31:32.227Z"
   },
   {
    "duration": 27,
    "start_time": "2021-07-07T10:32:06.588Z"
   },
   {
    "duration": 23,
    "start_time": "2021-07-07T10:32:43.645Z"
   },
   {
    "duration": 24,
    "start_time": "2021-07-07T10:33:06.948Z"
   },
   {
    "duration": 7,
    "start_time": "2021-07-07T10:33:28.558Z"
   },
   {
    "duration": 23,
    "start_time": "2021-07-07T10:33:43.761Z"
   },
   {
    "duration": 28,
    "start_time": "2021-07-07T10:34:13.466Z"
   },
   {
    "duration": 23,
    "start_time": "2021-07-07T10:35:56.187Z"
   },
   {
    "duration": 6,
    "start_time": "2021-07-07T10:36:48.182Z"
   },
   {
    "duration": 14,
    "start_time": "2021-07-07T10:37:49.641Z"
   },
   {
    "duration": 6,
    "start_time": "2021-07-07T10:38:06.694Z"
   },
   {
    "duration": 6,
    "start_time": "2021-07-07T10:38:13.493Z"
   },
   {
    "duration": 19,
    "start_time": "2021-07-07T10:38:44.056Z"
   },
   {
    "duration": 186,
    "start_time": "2021-07-07T10:48:35.618Z"
   },
   {
    "duration": 24,
    "start_time": "2021-07-07T10:48:51.498Z"
   },
   {
    "duration": 20,
    "start_time": "2021-07-07T10:48:59.415Z"
   },
   {
    "duration": 20,
    "start_time": "2021-07-07T10:53:02.195Z"
   },
   {
    "duration": 188,
    "start_time": "2021-07-07T10:54:40.486Z"
   },
   {
    "duration": 115,
    "start_time": "2021-07-07T10:54:52.552Z"
   },
   {
    "duration": 214,
    "start_time": "2021-07-07T10:54:56.354Z"
   },
   {
    "duration": 47,
    "start_time": "2021-07-07T10:54:58.282Z"
   },
   {
    "duration": 217,
    "start_time": "2021-07-07T10:59:16.075Z"
   },
   {
    "duration": 51,
    "start_time": "2021-07-07T10:59:16.243Z"
   },
   {
    "duration": 578,
    "start_time": "2021-07-07T10:59:18.774Z"
   },
   {
    "duration": 161,
    "start_time": "2021-07-07T10:59:21.238Z"
   },
   {
    "duration": 59,
    "start_time": "2021-07-07T10:59:21.453Z"
   },
   {
    "duration": 3,
    "start_time": "2021-07-07T11:02:10.786Z"
   },
   {
    "duration": 13,
    "start_time": "2021-07-07T11:07:07.722Z"
   },
   {
    "duration": 26,
    "start_time": "2021-07-07T11:07:17.958Z"
   },
   {
    "duration": 22,
    "start_time": "2021-07-07T11:08:17.939Z"
   },
   {
    "duration": 212,
    "start_time": "2021-07-07T11:08:19.665Z"
   },
   {
    "duration": 21,
    "start_time": "2021-07-07T11:08:29.945Z"
   },
   {
    "duration": 31,
    "start_time": "2021-07-07T11:08:38.899Z"
   },
   {
    "duration": 23,
    "start_time": "2021-07-07T11:08:54.527Z"
   },
   {
    "duration": 8,
    "start_time": "2021-07-07T11:18:55.974Z"
   },
   {
    "duration": 7,
    "start_time": "2021-07-07T11:19:03.639Z"
   },
   {
    "duration": 7,
    "start_time": "2021-07-07T11:19:06.444Z"
   },
   {
    "duration": 578,
    "start_time": "2021-07-07T12:09:59.576Z"
   },
   {
    "duration": 195,
    "start_time": "2021-07-07T12:10:00.156Z"
   },
   {
    "duration": 115,
    "start_time": "2021-07-07T12:10:00.353Z"
   },
   {
    "duration": 3,
    "start_time": "2021-07-07T12:10:00.470Z"
   },
   {
    "duration": 32,
    "start_time": "2021-07-07T12:10:00.474Z"
   },
   {
    "duration": 23,
    "start_time": "2021-07-07T12:10:00.508Z"
   },
   {
    "duration": 19,
    "start_time": "2021-07-07T12:10:00.533Z"
   },
   {
    "duration": 44,
    "start_time": "2021-07-07T12:10:00.553Z"
   },
   {
    "duration": 7,
    "start_time": "2021-07-07T12:10:00.600Z"
   },
   {
    "duration": 7,
    "start_time": "2021-07-07T12:19:45.761Z"
   },
   {
    "duration": 21,
    "start_time": "2021-07-07T12:21:35.482Z"
   },
   {
    "duration": 21,
    "start_time": "2021-07-07T12:29:23.569Z"
   },
   {
    "duration": 525,
    "start_time": "2021-07-07T12:29:44.542Z"
   },
   {
    "duration": 214,
    "start_time": "2021-07-07T12:29:45.069Z"
   },
   {
    "duration": 92,
    "start_time": "2021-07-07T12:29:45.285Z"
   },
   {
    "duration": 3,
    "start_time": "2021-07-07T12:29:45.379Z"
   },
   {
    "duration": 28,
    "start_time": "2021-07-07T12:29:45.384Z"
   },
   {
    "duration": 23,
    "start_time": "2021-07-07T12:29:45.413Z"
   },
   {
    "duration": 21,
    "start_time": "2021-07-07T12:29:45.437Z"
   },
   {
    "duration": 41,
    "start_time": "2021-07-07T12:29:45.460Z"
   },
   {
    "duration": 7,
    "start_time": "2021-07-07T12:29:45.502Z"
   },
   {
    "duration": 20,
    "start_time": "2021-07-07T12:29:45.511Z"
   },
   {
    "duration": 12,
    "start_time": "2021-07-07T12:34:02.800Z"
   },
   {
    "duration": 7,
    "start_time": "2021-07-07T12:35:10.479Z"
   },
   {
    "duration": 8,
    "start_time": "2021-07-07T12:35:22.440Z"
   },
   {
    "duration": 6,
    "start_time": "2021-07-07T12:35:35.649Z"
   },
   {
    "duration": 6,
    "start_time": "2021-07-07T12:35:43.107Z"
   },
   {
    "duration": 22,
    "start_time": "2021-07-07T12:38:03.029Z"
   },
   {
    "duration": 10,
    "start_time": "2021-07-07T12:38:06.592Z"
   },
   {
    "duration": 563,
    "start_time": "2021-07-07T12:38:46.493Z"
   },
   {
    "duration": 265,
    "start_time": "2021-07-07T12:38:47.058Z"
   },
   {
    "duration": 94,
    "start_time": "2021-07-07T12:38:47.325Z"
   },
   {
    "duration": 3,
    "start_time": "2021-07-07T12:38:47.422Z"
   },
   {
    "duration": 30,
    "start_time": "2021-07-07T12:38:47.427Z"
   },
   {
    "duration": 16,
    "start_time": "2021-07-07T12:38:53.305Z"
   },
   {
    "duration": 10,
    "start_time": "2021-07-07T12:38:53.499Z"
   },
   {
    "duration": 8,
    "start_time": "2021-07-07T12:39:48.161Z"
   },
   {
    "duration": 27,
    "start_time": "2021-07-07T12:41:17.629Z"
   },
   {
    "duration": 17,
    "start_time": "2021-07-07T12:41:17.867Z"
   },
   {
    "duration": 21,
    "start_time": "2021-07-07T12:41:19.310Z"
   },
   {
    "duration": 7,
    "start_time": "2021-07-07T12:41:19.544Z"
   },
   {
    "duration": 20,
    "start_time": "2021-07-07T12:41:20.504Z"
   },
   {
    "duration": 554,
    "start_time": "2021-07-07T12:56:23.696Z"
   },
   {
    "duration": 200,
    "start_time": "2021-07-07T12:56:25.234Z"
   },
   {
    "duration": 119,
    "start_time": "2021-07-07T12:56:25.480Z"
   },
   {
    "duration": 4,
    "start_time": "2021-07-07T12:56:25.762Z"
   },
   {
    "duration": 26,
    "start_time": "2021-07-07T12:56:27.172Z"
   },
   {
    "duration": 12,
    "start_time": "2021-07-07T12:56:29.051Z"
   },
   {
    "duration": 10,
    "start_time": "2021-07-07T12:56:29.291Z"
   },
   {
    "duration": 8,
    "start_time": "2021-07-07T12:56:29.623Z"
   },
   {
    "duration": 28,
    "start_time": "2021-07-07T12:56:32.137Z"
   },
   {
    "duration": 19,
    "start_time": "2021-07-07T12:56:39.785Z"
   },
   {
    "duration": 20,
    "start_time": "2021-07-07T12:56:44.297Z"
   },
   {
    "duration": 7,
    "start_time": "2021-07-07T12:56:45.392Z"
   },
   {
    "duration": 23,
    "start_time": "2021-07-07T12:56:46.615Z"
   },
   {
    "duration": 4,
    "start_time": "2021-07-07T12:57:06.625Z"
   },
   {
    "duration": 32,
    "start_time": "2021-07-07T12:57:36.690Z"
   },
   {
    "duration": 18,
    "start_time": "2021-07-07T12:58:00.149Z"
   },
   {
    "duration": 15,
    "start_time": "2021-07-07T12:59:16.793Z"
   },
   {
    "duration": 7,
    "start_time": "2021-07-07T13:19:22.624Z"
   },
   {
    "duration": 6,
    "start_time": "2021-07-07T14:17:33.527Z"
   },
   {
    "duration": 9,
    "start_time": "2021-07-07T14:17:48.409Z"
   },
   {
    "duration": 8,
    "start_time": "2021-07-07T14:20:13.060Z"
   },
   {
    "duration": 8,
    "start_time": "2021-07-07T14:20:37.957Z"
   },
   {
    "duration": 8,
    "start_time": "2021-07-07T14:20:47.470Z"
   },
   {
    "duration": 9,
    "start_time": "2021-07-07T14:20:54.503Z"
   },
   {
    "duration": 10,
    "start_time": "2021-07-07T14:28:57.763Z"
   },
   {
    "duration": 3,
    "start_time": "2021-07-07T14:30:23.377Z"
   },
   {
    "duration": 3,
    "start_time": "2021-07-07T14:30:36.489Z"
   },
   {
    "duration": 103,
    "start_time": "2021-07-07T14:30:52.351Z"
   },
   {
    "duration": 8,
    "start_time": "2021-07-07T14:30:54.763Z"
   },
   {
    "duration": 8,
    "start_time": "2021-07-07T14:31:29.301Z"
   },
   {
    "duration": 13,
    "start_time": "2021-07-07T14:31:44.516Z"
   },
   {
    "duration": 7,
    "start_time": "2021-07-07T14:33:10.972Z"
   },
   {
    "duration": 11,
    "start_time": "2021-07-07T14:33:27.780Z"
   },
   {
    "duration": 8,
    "start_time": "2021-07-07T14:34:44.588Z"
   },
   {
    "duration": 57,
    "start_time": "2021-07-07T14:35:59.042Z"
   },
   {
    "duration": 3,
    "start_time": "2021-07-07T14:36:28.168Z"
   },
   {
    "duration": 5,
    "start_time": "2021-07-07T14:36:46.254Z"
   },
   {
    "duration": 4,
    "start_time": "2021-07-07T14:36:52.714Z"
   },
   {
    "duration": 3,
    "start_time": "2021-07-07T14:36:56.612Z"
   },
   {
    "duration": 4,
    "start_time": "2021-07-07T14:36:57.049Z"
   },
   {
    "duration": 3,
    "start_time": "2021-07-07T14:39:21.214Z"
   },
   {
    "duration": 7,
    "start_time": "2021-07-07T14:39:52.406Z"
   },
   {
    "duration": 11,
    "start_time": "2021-07-07T14:39:58.576Z"
   },
   {
    "duration": 9,
    "start_time": "2021-07-07T14:40:26.301Z"
   },
   {
    "duration": 10,
    "start_time": "2021-07-07T14:40:31.704Z"
   },
   {
    "duration": 11,
    "start_time": "2021-07-07T14:40:36.249Z"
   },
   {
    "duration": 10,
    "start_time": "2021-07-07T14:40:39.783Z"
   },
   {
    "duration": 9,
    "start_time": "2021-07-07T14:40:48.558Z"
   },
   {
    "duration": 10,
    "start_time": "2021-07-07T14:40:57.143Z"
   },
   {
    "duration": 9,
    "start_time": "2021-07-07T14:41:06.074Z"
   },
   {
    "duration": 4324,
    "start_time": "2021-07-07T14:41:22.004Z"
   },
   {
    "duration": 11,
    "start_time": "2021-07-07T14:41:33.392Z"
   },
   {
    "duration": 9,
    "start_time": "2021-07-07T14:41:39.288Z"
   },
   {
    "duration": 569,
    "start_time": "2021-07-07T14:42:14.387Z"
   },
   {
    "duration": 197,
    "start_time": "2021-07-07T14:42:14.959Z"
   },
   {
    "duration": 84,
    "start_time": "2021-07-07T14:42:16.052Z"
   },
   {
    "duration": 4,
    "start_time": "2021-07-07T14:42:16.900Z"
   },
   {
    "duration": 27,
    "start_time": "2021-07-07T14:42:19.898Z"
   },
   {
    "duration": 12,
    "start_time": "2021-07-07T14:42:21.577Z"
   },
   {
    "duration": 9,
    "start_time": "2021-07-07T14:42:21.813Z"
   },
   {
    "duration": 9,
    "start_time": "2021-07-07T14:42:22.569Z"
   },
   {
    "duration": 29,
    "start_time": "2021-07-07T14:42:25.837Z"
   },
   {
    "duration": 20,
    "start_time": "2021-07-07T14:42:27.003Z"
   },
   {
    "duration": 21,
    "start_time": "2021-07-07T14:42:28.767Z"
   },
   {
    "duration": 7,
    "start_time": "2021-07-07T14:42:29.838Z"
   },
   {
    "duration": 4,
    "start_time": "2021-07-07T14:43:25.493Z"
   },
   {
    "duration": 7,
    "start_time": "2021-07-07T14:43:26.573Z"
   },
   {
    "duration": 10,
    "start_time": "2021-07-07T14:43:31.639Z"
   },
   {
    "duration": 9,
    "start_time": "2021-07-07T14:43:32.046Z"
   },
   {
    "duration": 10,
    "start_time": "2021-07-07T14:43:33.301Z"
   },
   {
    "duration": 12,
    "start_time": "2021-07-07T14:43:33.658Z"
   },
   {
    "duration": 8,
    "start_time": "2021-07-07T14:43:34.552Z"
   },
   {
    "duration": 9,
    "start_time": "2021-07-07T14:43:35.058Z"
   },
   {
    "duration": 12,
    "start_time": "2021-07-07T14:43:35.914Z"
   },
   {
    "duration": 17,
    "start_time": "2021-07-07T14:45:34.368Z"
   },
   {
    "duration": 512,
    "start_time": "2021-07-07T14:51:58.236Z"
   },
   {
    "duration": 223,
    "start_time": "2021-07-07T14:51:58.750Z"
   },
   {
    "duration": 93,
    "start_time": "2021-07-07T14:51:58.977Z"
   },
   {
    "duration": 4,
    "start_time": "2021-07-07T14:51:59.071Z"
   },
   {
    "duration": 37,
    "start_time": "2021-07-07T14:51:59.077Z"
   },
   {
    "duration": 18,
    "start_time": "2021-07-07T14:51:59.116Z"
   },
   {
    "duration": 10,
    "start_time": "2021-07-07T14:51:59.137Z"
   },
   {
    "duration": 8,
    "start_time": "2021-07-07T14:51:59.149Z"
   },
   {
    "duration": 54,
    "start_time": "2021-07-07T14:51:59.158Z"
   },
   {
    "duration": 18,
    "start_time": "2021-07-07T14:51:59.213Z"
   },
   {
    "duration": 22,
    "start_time": "2021-07-07T14:51:59.232Z"
   },
   {
    "duration": 36,
    "start_time": "2021-07-07T14:51:59.255Z"
   },
   {
    "duration": 7,
    "start_time": "2021-07-07T14:51:59.293Z"
   },
   {
    "duration": 10,
    "start_time": "2021-07-07T14:51:59.302Z"
   },
   {
    "duration": 9,
    "start_time": "2021-07-07T14:51:59.313Z"
   },
   {
    "duration": 11,
    "start_time": "2021-07-07T14:51:59.324Z"
   },
   {
    "duration": 8,
    "start_time": "2021-07-07T14:51:59.337Z"
   },
   {
    "duration": 46,
    "start_time": "2021-07-07T14:51:59.347Z"
   },
   {
    "duration": 22,
    "start_time": "2021-07-07T14:51:59.395Z"
   },
   {
    "duration": 24,
    "start_time": "2021-07-07T14:57:32.911Z"
   },
   {
    "duration": 7,
    "start_time": "2021-07-07T14:58:22.070Z"
   },
   {
    "duration": 4,
    "start_time": "2021-07-07T14:59:11.239Z"
   },
   {
    "duration": 25,
    "start_time": "2021-07-07T15:07:22.208Z"
   },
   {
    "duration": 16,
    "start_time": "2021-07-07T15:08:25.560Z"
   },
   {
    "duration": 15,
    "start_time": "2021-07-07T15:08:40.647Z"
   },
   {
    "duration": 14,
    "start_time": "2021-07-07T15:08:46.669Z"
   },
   {
    "duration": 533,
    "start_time": "2021-07-07T15:18:07.440Z"
   },
   {
    "duration": 173,
    "start_time": "2021-07-07T15:18:07.974Z"
   },
   {
    "duration": 84,
    "start_time": "2021-07-07T15:18:08.149Z"
   },
   {
    "duration": 3,
    "start_time": "2021-07-07T15:18:08.235Z"
   },
   {
    "duration": 30,
    "start_time": "2021-07-07T15:18:08.240Z"
   },
   {
    "duration": 22,
    "start_time": "2021-07-07T15:18:08.272Z"
   },
   {
    "duration": 11,
    "start_time": "2021-07-07T15:18:08.295Z"
   },
   {
    "duration": 11,
    "start_time": "2021-07-07T15:18:08.309Z"
   },
   {
    "duration": 40,
    "start_time": "2021-07-07T15:18:08.322Z"
   },
   {
    "duration": 42,
    "start_time": "2021-07-07T15:18:08.364Z"
   },
   {
    "duration": 22,
    "start_time": "2021-07-07T15:18:08.408Z"
   },
   {
    "duration": 5,
    "start_time": "2021-07-07T15:18:08.432Z"
   },
   {
    "duration": 13,
    "start_time": "2021-07-07T15:18:08.439Z"
   },
   {
    "duration": 9,
    "start_time": "2021-07-07T15:18:08.454Z"
   },
   {
    "duration": 32,
    "start_time": "2021-07-07T15:18:08.465Z"
   },
   {
    "duration": 10,
    "start_time": "2021-07-07T15:18:08.501Z"
   },
   {
    "duration": 7,
    "start_time": "2021-07-07T15:18:08.513Z"
   },
   {
    "duration": 11,
    "start_time": "2021-07-07T15:18:08.521Z"
   },
   {
    "duration": 17,
    "start_time": "2021-07-07T15:18:08.534Z"
   },
   {
    "duration": 44,
    "start_time": "2021-07-07T15:18:08.553Z"
   },
   {
    "duration": 22,
    "start_time": "2021-07-07T15:18:08.599Z"
   },
   {
    "duration": 61,
    "start_time": "2021-07-07T15:18:08.622Z"
   },
   {
    "duration": 7,
    "start_time": "2021-07-07T15:18:39.457Z"
   },
   {
    "duration": 5,
    "start_time": "2021-07-07T16:05:17.020Z"
   },
   {
    "duration": 5,
    "start_time": "2021-07-07T16:51:28.794Z"
   },
   {
    "duration": 546,
    "start_time": "2021-07-07T16:52:26.306Z"
   },
   {
    "duration": 203,
    "start_time": "2021-07-07T16:52:27.523Z"
   },
   {
    "duration": 85,
    "start_time": "2021-07-07T16:52:27.736Z"
   },
   {
    "duration": 4,
    "start_time": "2021-07-07T16:52:27.899Z"
   },
   {
    "duration": 25,
    "start_time": "2021-07-07T16:52:28.674Z"
   },
   {
    "duration": 8,
    "start_time": "2021-07-07T16:52:32.956Z"
   },
   {
    "duration": 18,
    "start_time": "2021-07-07T16:52:35.616Z"
   },
   {
    "duration": 6,
    "start_time": "2021-07-07T16:52:36.913Z"
   },
   {
    "duration": 11,
    "start_time": "2021-07-07T16:52:40.258Z"
   },
   {
    "duration": 10,
    "start_time": "2021-07-07T16:52:46.251Z"
   },
   {
    "duration": 8,
    "start_time": "2021-07-07T16:52:47.182Z"
   },
   {
    "duration": 27,
    "start_time": "2021-07-07T16:53:20.391Z"
   },
   {
    "duration": 20,
    "start_time": "2021-07-07T16:53:22.022Z"
   },
   {
    "duration": 23,
    "start_time": "2021-07-07T16:53:23.690Z"
   },
   {
    "duration": 8,
    "start_time": "2021-07-07T16:53:24.261Z"
   },
   {
    "duration": 4,
    "start_time": "2021-07-07T16:53:38.733Z"
   },
   {
    "duration": 7,
    "start_time": "2021-07-07T16:53:40.445Z"
   },
   {
    "duration": 11,
    "start_time": "2021-07-07T16:53:41.348Z"
   },
   {
    "duration": 13,
    "start_time": "2021-07-07T16:53:45.250Z"
   },
   {
    "duration": 12,
    "start_time": "2021-07-07T16:53:45.467Z"
   },
   {
    "duration": 4,
    "start_time": "2021-07-07T16:55:32.704Z"
   },
   {
    "duration": 12,
    "start_time": "2021-07-07T16:55:49.012Z"
   },
   {
    "duration": 18,
    "start_time": "2021-07-07T16:55:49.547Z"
   },
   {
    "duration": 611,
    "start_time": "2021-07-07T16:58:35.156Z"
   },
   {
    "duration": 200,
    "start_time": "2021-07-07T16:58:35.770Z"
   },
   {
    "duration": 86,
    "start_time": "2021-07-07T16:58:35.972Z"
   },
   {
    "duration": 3,
    "start_time": "2021-07-07T16:58:36.060Z"
   },
   {
    "duration": 27,
    "start_time": "2021-07-07T16:58:36.065Z"
   },
   {
    "duration": 8,
    "start_time": "2021-07-07T16:58:36.094Z"
   },
   {
    "duration": 17,
    "start_time": "2021-07-07T16:58:36.103Z"
   },
   {
    "duration": 5,
    "start_time": "2021-07-07T16:58:36.123Z"
   },
   {
    "duration": 11,
    "start_time": "2021-07-07T16:58:36.130Z"
   },
   {
    "duration": 7,
    "start_time": "2021-07-07T16:58:36.143Z"
   },
   {
    "duration": 37,
    "start_time": "2021-07-07T16:58:36.152Z"
   },
   {
    "duration": 27,
    "start_time": "2021-07-07T16:58:36.191Z"
   },
   {
    "duration": 19,
    "start_time": "2021-07-07T16:58:36.219Z"
   },
   {
    "duration": 49,
    "start_time": "2021-07-07T16:58:36.240Z"
   },
   {
    "duration": 6,
    "start_time": "2021-07-07T16:58:36.291Z"
   },
   {
    "duration": 3,
    "start_time": "2021-07-07T16:58:36.299Z"
   },
   {
    "duration": 13,
    "start_time": "2021-07-07T16:58:36.304Z"
   },
   {
    "duration": 10,
    "start_time": "2021-07-07T16:58:36.319Z"
   },
   {
    "duration": 10,
    "start_time": "2021-07-07T16:58:36.331Z"
   },
   {
    "duration": 44,
    "start_time": "2021-07-07T16:58:36.343Z"
   },
   {
    "duration": 4,
    "start_time": "2021-07-07T16:58:36.388Z"
   },
   {
    "duration": 13,
    "start_time": "2021-07-07T16:58:36.394Z"
   },
   {
    "duration": 16,
    "start_time": "2021-07-07T16:58:36.410Z"
   },
   {
    "duration": 8,
    "start_time": "2021-07-07T17:02:31.629Z"
   },
   {
    "duration": 8,
    "start_time": "2021-07-07T17:02:34.308Z"
   },
   {
    "duration": 6,
    "start_time": "2021-07-07T17:05:13.483Z"
   },
   {
    "duration": 17,
    "start_time": "2021-07-07T17:05:20.606Z"
   },
   {
    "duration": 7,
    "start_time": "2021-07-07T17:05:34.638Z"
   },
   {
    "duration": 3,
    "start_time": "2021-07-07T17:06:31.883Z"
   },
   {
    "duration": 570,
    "start_time": "2021-07-07T17:06:37.165Z"
   },
   {
    "duration": 174,
    "start_time": "2021-07-07T17:06:37.737Z"
   },
   {
    "duration": 47,
    "start_time": "2021-07-07T17:06:37.913Z"
   },
   {
    "duration": 3,
    "start_time": "2021-07-07T17:06:37.962Z"
   },
   {
    "duration": 27,
    "start_time": "2021-07-07T17:06:37.967Z"
   },
   {
    "duration": 7,
    "start_time": "2021-07-07T17:06:37.996Z"
   },
   {
    "duration": 16,
    "start_time": "2021-07-07T17:06:38.005Z"
   },
   {
    "duration": 6,
    "start_time": "2021-07-07T17:06:38.024Z"
   },
   {
    "duration": 12,
    "start_time": "2021-07-07T17:06:38.031Z"
   },
   {
    "duration": 41,
    "start_time": "2021-07-07T17:06:38.045Z"
   },
   {
    "duration": 8,
    "start_time": "2021-07-07T17:06:38.088Z"
   },
   {
    "duration": 26,
    "start_time": "2021-07-07T17:06:38.098Z"
   },
   {
    "duration": 17,
    "start_time": "2021-07-07T17:06:38.126Z"
   },
   {
    "duration": 43,
    "start_time": "2021-07-07T17:06:38.144Z"
   },
   {
    "duration": 6,
    "start_time": "2021-07-07T17:06:38.188Z"
   },
   {
    "duration": 5,
    "start_time": "2021-07-07T17:06:38.195Z"
   },
   {
    "duration": 9,
    "start_time": "2021-07-07T17:06:38.201Z"
   },
   {
    "duration": 12,
    "start_time": "2021-07-07T17:06:38.212Z"
   },
   {
    "duration": 11,
    "start_time": "2021-07-07T17:06:38.226Z"
   },
   {
    "duration": 47,
    "start_time": "2021-07-07T17:06:38.239Z"
   },
   {
    "duration": 4,
    "start_time": "2021-07-07T17:06:38.288Z"
   },
   {
    "duration": 13,
    "start_time": "2021-07-07T17:06:38.293Z"
   },
   {
    "duration": 5,
    "start_time": "2021-07-07T17:06:38.309Z"
   },
   {
    "duration": 18,
    "start_time": "2021-07-07T17:06:38.325Z"
   },
   {
    "duration": 20,
    "start_time": "2021-07-07T17:07:02.805Z"
   },
   {
    "duration": 19,
    "start_time": "2021-07-07T17:07:08.527Z"
   },
   {
    "duration": 19,
    "start_time": "2021-07-07T17:07:12.758Z"
   },
   {
    "duration": 22,
    "start_time": "2021-07-07T17:07:17.497Z"
   },
   {
    "duration": 19,
    "start_time": "2021-07-07T17:07:19.645Z"
   },
   {
    "duration": 10,
    "start_time": "2021-07-07T17:07:34.239Z"
   },
   {
    "duration": 17,
    "start_time": "2021-07-07T17:07:54.144Z"
   },
   {
    "duration": 14,
    "start_time": "2021-07-07T17:08:14.357Z"
   },
   {
    "duration": 616,
    "start_time": "2021-07-07T17:08:45.254Z"
   },
   {
    "duration": 178,
    "start_time": "2021-07-07T17:08:45.872Z"
   },
   {
    "duration": 60,
    "start_time": "2021-07-07T17:08:46.054Z"
   },
   {
    "duration": 3,
    "start_time": "2021-07-07T17:08:46.116Z"
   },
   {
    "duration": 26,
    "start_time": "2021-07-07T17:08:46.121Z"
   },
   {
    "duration": 7,
    "start_time": "2021-07-07T17:08:46.149Z"
   },
   {
    "duration": 17,
    "start_time": "2021-07-07T17:08:46.158Z"
   },
   {
    "duration": 14,
    "start_time": "2021-07-07T17:08:46.176Z"
   },
   {
    "duration": 17,
    "start_time": "2021-07-07T17:08:46.193Z"
   },
   {
    "duration": 9,
    "start_time": "2021-07-07T17:08:46.211Z"
   },
   {
    "duration": 21,
    "start_time": "2021-07-07T17:08:46.221Z"
   },
   {
    "duration": 49,
    "start_time": "2021-07-07T17:08:46.244Z"
   },
   {
    "duration": 24,
    "start_time": "2021-07-07T17:08:46.295Z"
   },
   {
    "duration": 22,
    "start_time": "2021-07-07T17:08:46.321Z"
   },
   {
    "duration": 6,
    "start_time": "2021-07-07T17:08:46.345Z"
   },
   {
    "duration": 5,
    "start_time": "2021-07-07T17:08:46.353Z"
   },
   {
    "duration": 13,
    "start_time": "2021-07-07T17:08:46.386Z"
   },
   {
    "duration": 12,
    "start_time": "2021-07-07T17:08:46.402Z"
   },
   {
    "duration": 10,
    "start_time": "2021-07-07T17:08:46.415Z"
   },
   {
    "duration": 7,
    "start_time": "2021-07-07T17:08:46.427Z"
   },
   {
    "duration": 8,
    "start_time": "2021-07-07T17:08:46.435Z"
   },
   {
    "duration": 68,
    "start_time": "2021-07-07T17:08:46.446Z"
   },
   {
    "duration": 13,
    "start_time": "2021-07-07T17:08:46.516Z"
   },
   {
    "duration": 78,
    "start_time": "2021-07-07T17:08:46.530Z"
   },
   {
    "duration": 40,
    "start_time": "2021-07-07T17:09:08.185Z"
   },
   {
    "duration": 16,
    "start_time": "2021-07-07T17:09:19.324Z"
   },
   {
    "duration": 21,
    "start_time": "2021-07-07T17:09:23.290Z"
   },
   {
    "duration": 13,
    "start_time": "2021-07-07T17:09:54.812Z"
   },
   {
    "duration": 13,
    "start_time": "2021-07-07T17:10:02.039Z"
   },
   {
    "duration": 10,
    "start_time": "2021-07-07T17:10:29.632Z"
   },
   {
    "duration": 13,
    "start_time": "2021-07-07T17:10:52.372Z"
   },
   {
    "duration": 13,
    "start_time": "2021-07-07T17:11:17.270Z"
   },
   {
    "duration": 13,
    "start_time": "2021-07-07T17:14:59.284Z"
   },
   {
    "duration": 547,
    "start_time": "2021-07-07T17:18:52.403Z"
   },
   {
    "duration": 163,
    "start_time": "2021-07-07T17:18:52.952Z"
   },
   {
    "duration": 44,
    "start_time": "2021-07-07T17:18:53.117Z"
   },
   {
    "duration": 3,
    "start_time": "2021-07-07T17:18:53.162Z"
   },
   {
    "duration": 26,
    "start_time": "2021-07-07T17:18:53.167Z"
   },
   {
    "duration": 6,
    "start_time": "2021-07-07T17:18:53.195Z"
   },
   {
    "duration": 15,
    "start_time": "2021-07-07T17:18:53.203Z"
   },
   {
    "duration": 5,
    "start_time": "2021-07-07T17:18:53.220Z"
   },
   {
    "duration": 11,
    "start_time": "2021-07-07T17:18:53.228Z"
   },
   {
    "duration": 9,
    "start_time": "2021-07-07T17:18:53.241Z"
   },
   {
    "duration": 41,
    "start_time": "2021-07-07T17:18:53.252Z"
   },
   {
    "duration": 33,
    "start_time": "2021-07-07T17:18:53.295Z"
   },
   {
    "duration": 19,
    "start_time": "2021-07-07T17:18:53.330Z"
   },
   {
    "duration": 49,
    "start_time": "2021-07-07T17:18:53.350Z"
   },
   {
    "duration": 5,
    "start_time": "2021-07-07T17:18:53.401Z"
   },
   {
    "duration": 5,
    "start_time": "2021-07-07T17:18:53.408Z"
   },
   {
    "duration": 11,
    "start_time": "2021-07-07T17:18:53.414Z"
   },
   {
    "duration": 9,
    "start_time": "2021-07-07T17:18:53.427Z"
   },
   {
    "duration": 10,
    "start_time": "2021-07-07T17:18:53.437Z"
   },
   {
    "duration": 39,
    "start_time": "2021-07-07T17:18:53.448Z"
   },
   {
    "duration": 26,
    "start_time": "2021-07-07T17:18:55.799Z"
   },
   {
    "duration": 598,
    "start_time": "2021-07-07T17:20:17.862Z"
   },
   {
    "duration": 161,
    "start_time": "2021-07-07T17:20:18.462Z"
   },
   {
    "duration": 45,
    "start_time": "2021-07-07T17:20:18.626Z"
   },
   {
    "duration": 4,
    "start_time": "2021-07-07T17:20:18.673Z"
   },
   {
    "duration": 38,
    "start_time": "2021-07-07T17:20:26.877Z"
   },
   {
    "duration": 7,
    "start_time": "2021-07-07T17:20:37.405Z"
   },
   {
    "duration": 19,
    "start_time": "2021-07-07T17:20:51.534Z"
   },
   {
    "duration": 5,
    "start_time": "2021-07-07T17:20:57.228Z"
   },
   {
    "duration": 7,
    "start_time": "2021-07-07T17:21:08.235Z"
   },
   {
    "duration": 19,
    "start_time": "2021-07-07T17:21:42.158Z"
   },
   {
    "duration": 14,
    "start_time": "2021-07-07T17:21:50.225Z"
   },
   {
    "duration": 22,
    "start_time": "2021-07-07T17:22:54.104Z"
   },
   {
    "duration": 5,
    "start_time": "2021-07-07T17:22:56.371Z"
   },
   {
    "duration": 14,
    "start_time": "2021-07-07T17:22:58.316Z"
   },
   {
    "duration": 5,
    "start_time": "2021-07-07T17:22:58.493Z"
   },
   {
    "duration": 35,
    "start_time": "2021-07-07T17:22:59.666Z"
   },
   {
    "duration": 6,
    "start_time": "2021-07-07T17:23:02.410Z"
   },
   {
    "duration": 611,
    "start_time": "2021-07-07T17:24:59.664Z"
   },
   {
    "duration": 178,
    "start_time": "2021-07-07T17:25:01.945Z"
   },
   {
    "duration": 47,
    "start_time": "2021-07-07T17:25:02.125Z"
   },
   {
    "duration": 2,
    "start_time": "2021-07-07T17:25:07.903Z"
   },
   {
    "duration": 254,
    "start_time": "2021-07-07T17:25:08.232Z"
   },
   {
    "duration": 182,
    "start_time": "2021-07-07T17:25:08.671Z"
   },
   {
    "duration": 6,
    "start_time": "2021-07-07T17:25:13.104Z"
   },
   {
    "duration": 36,
    "start_time": "2021-07-07T17:25:13.662Z"
   },
   {
    "duration": 7,
    "start_time": "2021-07-07T17:25:14.528Z"
   },
   {
    "duration": 24,
    "start_time": "2021-07-07T17:25:27.982Z"
   },
   {
    "duration": 3,
    "start_time": "2021-07-07T17:25:48.982Z"
   },
   {
    "duration": 165,
    "start_time": "2021-07-07T17:25:48.987Z"
   },
   {
    "duration": 50,
    "start_time": "2021-07-07T17:25:49.154Z"
   },
   {
    "duration": 4,
    "start_time": "2021-07-07T17:25:49.206Z"
   },
   {
    "duration": 26,
    "start_time": "2021-07-07T17:25:49.212Z"
   },
   {
    "duration": 7,
    "start_time": "2021-07-07T17:25:49.240Z"
   },
   {
    "duration": 16,
    "start_time": "2021-07-07T17:25:49.249Z"
   },
   {
    "duration": 22,
    "start_time": "2021-07-07T17:25:49.266Z"
   },
   {
    "duration": 16,
    "start_time": "2021-07-07T17:25:49.291Z"
   },
   {
    "duration": 9,
    "start_time": "2021-07-07T17:25:49.309Z"
   },
   {
    "duration": 7,
    "start_time": "2021-07-07T17:25:49.319Z"
   },
   {
    "duration": 28,
    "start_time": "2021-07-07T17:25:49.328Z"
   },
   {
    "duration": 44,
    "start_time": "2021-07-07T17:25:49.357Z"
   },
   {
    "duration": 22,
    "start_time": "2021-07-07T17:25:49.403Z"
   },
   {
    "duration": 7,
    "start_time": "2021-07-07T17:25:49.427Z"
   },
   {
    "duration": 3,
    "start_time": "2021-07-07T17:25:49.436Z"
   },
   {
    "duration": 44,
    "start_time": "2021-07-07T17:25:49.441Z"
   },
   {
    "duration": 12,
    "start_time": "2021-07-07T17:25:49.488Z"
   },
   {
    "duration": 13,
    "start_time": "2021-07-07T17:25:49.502Z"
   },
   {
    "duration": 10,
    "start_time": "2021-07-07T17:25:49.516Z"
   },
   {
    "duration": 62,
    "start_time": "2021-07-07T17:25:49.527Z"
   },
   {
    "duration": 26,
    "start_time": "2021-07-07T17:26:51.809Z"
   },
   {
    "duration": 26,
    "start_time": "2021-07-07T17:26:55.759Z"
   },
   {
    "duration": 26,
    "start_time": "2021-07-07T17:27:04.501Z"
   },
   {
    "duration": 25,
    "start_time": "2021-07-07T17:28:24.859Z"
   },
   {
    "duration": 21,
    "start_time": "2021-07-07T17:28:55.250Z"
   },
   {
    "duration": 21,
    "start_time": "2021-07-07T17:28:58.885Z"
   },
   {
    "duration": 7,
    "start_time": "2021-07-07T17:45:40.972Z"
   },
   {
    "duration": 13,
    "start_time": "2021-07-07T17:45:42.529Z"
   },
   {
    "duration": 27,
    "start_time": "2021-07-07T17:45:51.026Z"
   },
   {
    "duration": 518,
    "start_time": "2021-07-07T17:46:15.532Z"
   },
   {
    "duration": 235,
    "start_time": "2021-07-07T17:46:16.053Z"
   },
   {
    "duration": 80,
    "start_time": "2021-07-07T17:46:16.292Z"
   },
   {
    "duration": 5,
    "start_time": "2021-07-07T17:46:16.373Z"
   },
   {
    "duration": 26,
    "start_time": "2021-07-07T17:46:16.380Z"
   },
   {
    "duration": 7,
    "start_time": "2021-07-07T17:46:16.408Z"
   },
   {
    "duration": 16,
    "start_time": "2021-07-07T17:46:16.418Z"
   },
   {
    "duration": 5,
    "start_time": "2021-07-07T17:46:16.436Z"
   },
   {
    "duration": 13,
    "start_time": "2021-07-07T17:46:16.442Z"
   },
   {
    "duration": 35,
    "start_time": "2021-07-07T17:46:16.456Z"
   },
   {
    "duration": 8,
    "start_time": "2021-07-07T17:46:16.493Z"
   },
   {
    "duration": 28,
    "start_time": "2021-07-07T17:46:16.502Z"
   },
   {
    "duration": 17,
    "start_time": "2021-07-07T17:46:16.532Z"
   },
   {
    "duration": 44,
    "start_time": "2021-07-07T17:46:16.551Z"
   },
   {
    "duration": 6,
    "start_time": "2021-07-07T17:46:16.597Z"
   },
   {
    "duration": 4,
    "start_time": "2021-07-07T17:46:16.605Z"
   },
   {
    "duration": 9,
    "start_time": "2021-07-07T17:46:16.610Z"
   },
   {
    "duration": 9,
    "start_time": "2021-07-07T17:46:16.621Z"
   },
   {
    "duration": 10,
    "start_time": "2021-07-07T17:46:16.632Z"
   },
   {
    "duration": 43,
    "start_time": "2021-07-07T17:46:16.644Z"
   },
   {
    "duration": 26,
    "start_time": "2021-07-07T17:46:16.689Z"
   },
   {
    "duration": 19,
    "start_time": "2021-07-07T17:46:16.718Z"
   },
   {
    "duration": 8,
    "start_time": "2021-07-07T17:46:16.738Z"
   },
   {
    "duration": 43,
    "start_time": "2021-07-07T17:46:16.747Z"
   },
   {
    "duration": 19,
    "start_time": "2021-07-07T17:46:16.791Z"
   },
   {
    "duration": 9,
    "start_time": "2021-07-07T17:46:16.812Z"
   },
   {
    "duration": 60,
    "start_time": "2021-07-07T17:46:16.822Z"
   },
   {
    "duration": -8,
    "start_time": "2021-07-07T17:46:16.892Z"
   },
   {
    "duration": 12,
    "start_time": "2021-07-07T17:48:47.707Z"
   },
   {
    "duration": 553,
    "start_time": "2021-07-07T18:10:09.350Z"
   },
   {
    "duration": 230,
    "start_time": "2021-07-07T18:10:09.905Z"
   },
   {
    "duration": 97,
    "start_time": "2021-07-07T18:10:10.137Z"
   },
   {
    "duration": 5,
    "start_time": "2021-07-07T18:10:10.236Z"
   },
   {
    "duration": 29,
    "start_time": "2021-07-07T18:10:10.242Z"
   },
   {
    "duration": 7,
    "start_time": "2021-07-07T18:10:10.272Z"
   },
   {
    "duration": 15,
    "start_time": "2021-07-07T18:10:10.281Z"
   },
   {
    "duration": 4,
    "start_time": "2021-07-07T18:10:10.299Z"
   },
   {
    "duration": 14,
    "start_time": "2021-07-07T18:10:10.305Z"
   },
   {
    "duration": 8,
    "start_time": "2021-07-07T18:10:10.321Z"
   },
   {
    "duration": 8,
    "start_time": "2021-07-07T18:10:10.331Z"
   },
   {
    "duration": 56,
    "start_time": "2021-07-07T18:10:10.341Z"
   },
   {
    "duration": 19,
    "start_time": "2021-07-07T18:10:10.399Z"
   },
   {
    "duration": 23,
    "start_time": "2021-07-07T18:10:10.419Z"
   },
   {
    "duration": 6,
    "start_time": "2021-07-07T18:10:10.444Z"
   },
   {
    "duration": 9,
    "start_time": "2021-07-07T18:10:10.451Z"
   },
   {
    "duration": 30,
    "start_time": "2021-07-07T18:10:10.462Z"
   },
   {
    "duration": 9,
    "start_time": "2021-07-07T18:10:10.494Z"
   },
   {
    "duration": 14,
    "start_time": "2021-07-07T18:10:10.505Z"
   },
   {
    "duration": 7,
    "start_time": "2021-07-07T18:10:10.521Z"
   },
   {
    "duration": 26,
    "start_time": "2021-07-07T18:10:10.530Z"
   },
   {
    "duration": 44,
    "start_time": "2021-07-07T18:10:10.558Z"
   },
   {
    "duration": 7,
    "start_time": "2021-07-07T18:10:10.605Z"
   },
   {
    "duration": 11,
    "start_time": "2021-07-07T18:10:10.614Z"
   },
   {
    "duration": 19,
    "start_time": "2021-07-07T18:10:10.626Z"
   },
   {
    "duration": 44,
    "start_time": "2021-07-07T18:10:10.646Z"
   },
   {
    "duration": 516,
    "start_time": "2021-07-07T18:14:00.826Z"
   },
   {
    "duration": 230,
    "start_time": "2021-07-07T18:14:01.344Z"
   },
   {
    "duration": 105,
    "start_time": "2021-07-07T18:14:01.576Z"
   },
   {
    "duration": 5,
    "start_time": "2021-07-07T18:14:01.683Z"
   },
   {
    "duration": 46,
    "start_time": "2021-07-07T18:14:01.690Z"
   },
   {
    "duration": 7,
    "start_time": "2021-07-07T18:14:01.738Z"
   },
   {
    "duration": 20,
    "start_time": "2021-07-07T18:14:01.747Z"
   },
   {
    "duration": 16,
    "start_time": "2021-07-07T18:14:01.769Z"
   },
   {
    "duration": 14,
    "start_time": "2021-07-07T18:14:01.787Z"
   },
   {
    "duration": 15,
    "start_time": "2021-07-07T18:14:01.803Z"
   },
   {
    "duration": 12,
    "start_time": "2021-07-07T18:14:01.820Z"
   },
   {
    "duration": 35,
    "start_time": "2021-07-07T18:14:01.833Z"
   },
   {
    "duration": 31,
    "start_time": "2021-07-07T18:14:01.869Z"
   },
   {
    "duration": 37,
    "start_time": "2021-07-07T18:14:01.902Z"
   },
   {
    "duration": 8,
    "start_time": "2021-07-07T18:14:01.942Z"
   },
   {
    "duration": 16,
    "start_time": "2021-07-07T18:14:01.952Z"
   },
   {
    "duration": 13,
    "start_time": "2021-07-07T18:14:01.970Z"
   },
   {
    "duration": 32,
    "start_time": "2021-07-07T18:14:01.985Z"
   },
   {
    "duration": 11,
    "start_time": "2021-07-07T18:14:02.019Z"
   },
   {
    "duration": 22,
    "start_time": "2021-07-07T18:14:02.031Z"
   },
   {
    "duration": 27,
    "start_time": "2021-07-07T18:14:02.055Z"
   },
   {
    "duration": 18,
    "start_time": "2021-07-07T18:14:02.084Z"
   },
   {
    "duration": 18,
    "start_time": "2021-07-07T18:14:02.106Z"
   },
   {
    "duration": 11,
    "start_time": "2021-07-07T18:14:02.126Z"
   },
   {
    "duration": 21,
    "start_time": "2021-07-07T18:14:02.138Z"
   },
   {
    "duration": 32,
    "start_time": "2021-07-07T18:14:02.161Z"
   },
   {
    "duration": 28,
    "start_time": "2021-07-07T18:14:44.295Z"
   },
   {
    "duration": 6,
    "start_time": "2021-07-07T18:15:05.834Z"
   },
   {
    "duration": 511,
    "start_time": "2021-07-07T18:15:41.541Z"
   },
   {
    "duration": 183,
    "start_time": "2021-07-07T18:15:42.054Z"
   },
   {
    "duration": 50,
    "start_time": "2021-07-07T18:15:42.239Z"
   },
   {
    "duration": 5,
    "start_time": "2021-07-07T18:15:42.291Z"
   },
   {
    "duration": 48,
    "start_time": "2021-07-07T18:15:42.297Z"
   },
   {
    "duration": 8,
    "start_time": "2021-07-07T18:15:42.346Z"
   },
   {
    "duration": 17,
    "start_time": "2021-07-07T18:15:42.356Z"
   },
   {
    "duration": 15,
    "start_time": "2021-07-07T18:15:42.375Z"
   },
   {
    "duration": 12,
    "start_time": "2021-07-07T18:15:42.392Z"
   },
   {
    "duration": 7,
    "start_time": "2021-07-07T18:15:42.406Z"
   },
   {
    "duration": 7,
    "start_time": "2021-07-07T18:15:42.415Z"
   },
   {
    "duration": 29,
    "start_time": "2021-07-07T18:15:42.423Z"
   },
   {
    "duration": 43,
    "start_time": "2021-07-07T18:15:42.453Z"
   },
   {
    "duration": 18,
    "start_time": "2021-07-07T18:15:42.497Z"
   },
   {
    "duration": 6,
    "start_time": "2021-07-07T18:15:42.516Z"
   },
   {
    "duration": 3,
    "start_time": "2021-07-07T18:15:42.523Z"
   },
   {
    "duration": 18,
    "start_time": "2021-07-07T18:15:42.528Z"
   },
   {
    "duration": 10,
    "start_time": "2021-07-07T18:15:42.547Z"
   },
   {
    "duration": 36,
    "start_time": "2021-07-07T18:15:42.559Z"
   },
   {
    "duration": 8,
    "start_time": "2021-07-07T18:15:42.597Z"
   },
   {
    "duration": 28,
    "start_time": "2021-07-07T18:15:42.606Z"
   },
   {
    "duration": 52,
    "start_time": "2021-07-07T18:15:42.635Z"
   },
   {
    "duration": 7,
    "start_time": "2021-07-07T18:15:42.690Z"
   },
   {
    "duration": 10,
    "start_time": "2021-07-07T18:15:42.699Z"
   },
   {
    "duration": 19,
    "start_time": "2021-07-07T18:15:42.711Z"
   },
   {
    "duration": 9,
    "start_time": "2021-07-07T18:15:42.732Z"
   },
   {
    "duration": 5,
    "start_time": "2021-07-07T18:15:42.743Z"
   },
   {
    "duration": 1450,
    "start_time": "2021-07-07T18:15:51.984Z"
   },
   {
    "duration": 161,
    "start_time": "2021-07-07T18:15:53.435Z"
   },
   {
    "duration": 124,
    "start_time": "2021-07-07T18:15:53.598Z"
   },
   {
    "duration": 5,
    "start_time": "2021-07-07T18:15:53.724Z"
   },
   {
    "duration": 34,
    "start_time": "2021-07-07T18:15:53.730Z"
   },
   {
    "duration": 7,
    "start_time": "2021-07-07T18:15:53.765Z"
   },
   {
    "duration": 15,
    "start_time": "2021-07-07T18:15:53.773Z"
   },
   {
    "duration": 5,
    "start_time": "2021-07-07T18:15:53.791Z"
   },
   {
    "duration": 19,
    "start_time": "2021-07-07T18:15:53.798Z"
   },
   {
    "duration": 9,
    "start_time": "2021-07-07T18:15:53.818Z"
   },
   {
    "duration": 19,
    "start_time": "2021-07-07T18:15:53.828Z"
   },
   {
    "duration": 27,
    "start_time": "2021-07-07T18:15:53.848Z"
   },
   {
    "duration": 16,
    "start_time": "2021-07-07T18:15:53.884Z"
   },
   {
    "duration": 29,
    "start_time": "2021-07-07T18:15:53.901Z"
   },
   {
    "duration": 5,
    "start_time": "2021-07-07T18:15:53.932Z"
   },
   {
    "duration": 15,
    "start_time": "2021-07-07T18:15:53.939Z"
   },
   {
    "duration": 13,
    "start_time": "2021-07-07T18:15:53.956Z"
   },
   {
    "duration": 20,
    "start_time": "2021-07-07T18:15:53.971Z"
   },
   {
    "duration": 14,
    "start_time": "2021-07-07T18:15:53.992Z"
   },
   {
    "duration": 9,
    "start_time": "2021-07-07T18:15:54.009Z"
   },
   {
    "duration": 28,
    "start_time": "2021-07-07T18:15:54.020Z"
   },
   {
    "duration": 50,
    "start_time": "2021-07-07T18:15:54.051Z"
   },
   {
    "duration": 8,
    "start_time": "2021-07-07T18:15:54.105Z"
   },
   {
    "duration": 11,
    "start_time": "2021-07-07T18:15:54.115Z"
   },
   {
    "duration": 20,
    "start_time": "2021-07-07T18:15:54.128Z"
   },
   {
    "duration": 13,
    "start_time": "2021-07-07T18:15:54.184Z"
   },
   {
    "duration": 7,
    "start_time": "2021-07-07T18:15:54.199Z"
   },
   {
    "duration": 7,
    "start_time": "2021-07-07T18:17:08.042Z"
   },
   {
    "duration": 8,
    "start_time": "2021-07-07T18:17:21.008Z"
   },
   {
    "duration": 7,
    "start_time": "2021-07-07T18:17:29.003Z"
   },
   {
    "duration": 8,
    "start_time": "2021-07-07T18:17:32.492Z"
   },
   {
    "duration": 9,
    "start_time": "2021-07-07T18:17:41.758Z"
   },
   {
    "duration": 255,
    "start_time": "2021-07-07T18:20:20.897Z"
   },
   {
    "duration": 173,
    "start_time": "2021-07-07T18:20:26.636Z"
   },
   {
    "duration": 7,
    "start_time": "2021-07-07T18:21:47.164Z"
   },
   {
    "duration": 254,
    "start_time": "2021-07-07T18:23:08.703Z"
   },
   {
    "duration": 21,
    "start_time": "2021-07-07T18:23:22.506Z"
   },
   {
    "duration": 315,
    "start_time": "2021-07-07T18:25:54.801Z"
   },
   {
    "duration": 34,
    "start_time": "2021-07-07T18:26:51.817Z"
   },
   {
    "duration": 327,
    "start_time": "2021-07-07T18:26:56.147Z"
   },
   {
    "duration": 342,
    "start_time": "2021-07-07T18:27:15.887Z"
   },
   {
    "duration": 302,
    "start_time": "2021-07-07T18:28:18.569Z"
   },
   {
    "duration": 226,
    "start_time": "2021-07-07T18:29:20.879Z"
   },
   {
    "duration": 207,
    "start_time": "2021-07-07T18:29:58.114Z"
   },
   {
    "duration": 140,
    "start_time": "2021-07-07T18:32:04.372Z"
   },
   {
    "duration": 158,
    "start_time": "2021-07-07T18:32:32.508Z"
   },
   {
    "duration": 145,
    "start_time": "2021-07-07T18:32:41.365Z"
   },
   {
    "duration": 132,
    "start_time": "2021-07-07T18:32:45.199Z"
   },
   {
    "duration": 11,
    "start_time": "2021-07-07T18:35:24.679Z"
   },
   {
    "duration": 268,
    "start_time": "2021-07-07T18:36:16.145Z"
   },
   {
    "duration": 227,
    "start_time": "2021-07-07T18:37:04.918Z"
   },
   {
    "duration": 3,
    "start_time": "2021-07-07T18:37:33.012Z"
   },
   {
    "duration": 671,
    "start_time": "2021-07-07T18:37:38.295Z"
   },
   {
    "duration": 54,
    "start_time": "2021-07-07T18:37:53.406Z"
   },
   {
    "duration": 631,
    "start_time": "2021-07-07T18:37:56.463Z"
   },
   {
    "duration": 19,
    "start_time": "2021-07-07T18:39:40.535Z"
   },
   {
    "duration": 20,
    "start_time": "2021-07-07T18:40:12.236Z"
   },
   {
    "duration": 633,
    "start_time": "2021-07-07T18:42:00.398Z"
   },
   {
    "duration": 218,
    "start_time": "2021-07-07T18:42:01.033Z"
   },
   {
    "duration": 49,
    "start_time": "2021-07-07T18:42:01.253Z"
   },
   {
    "duration": 5,
    "start_time": "2021-07-07T18:42:01.303Z"
   },
   {
    "duration": 27,
    "start_time": "2021-07-07T18:42:01.310Z"
   },
   {
    "duration": 8,
    "start_time": "2021-07-07T18:42:01.339Z"
   },
   {
    "duration": 20,
    "start_time": "2021-07-07T18:42:01.348Z"
   },
   {
    "duration": 6,
    "start_time": "2021-07-07T18:42:01.386Z"
   },
   {
    "duration": 16,
    "start_time": "2021-07-07T18:42:01.394Z"
   },
   {
    "duration": 9,
    "start_time": "2021-07-07T18:42:01.411Z"
   },
   {
    "duration": 11,
    "start_time": "2021-07-07T18:42:01.421Z"
   },
   {
    "duration": 31,
    "start_time": "2021-07-07T18:42:01.434Z"
   },
   {
    "duration": 18,
    "start_time": "2021-07-07T18:42:01.485Z"
   },
   {
    "duration": 23,
    "start_time": "2021-07-07T18:42:01.505Z"
   },
   {
    "duration": 6,
    "start_time": "2021-07-07T18:42:01.530Z"
   },
   {
    "duration": 10,
    "start_time": "2021-07-07T18:42:01.538Z"
   },
   {
    "duration": 13,
    "start_time": "2021-07-07T18:42:01.550Z"
   },
   {
    "duration": 24,
    "start_time": "2021-07-07T18:42:01.564Z"
   },
   {
    "duration": 20,
    "start_time": "2021-07-07T18:42:01.590Z"
   },
   {
    "duration": 8,
    "start_time": "2021-07-07T18:42:01.611Z"
   },
   {
    "duration": 31,
    "start_time": "2021-07-07T18:42:01.620Z"
   },
   {
    "duration": 39,
    "start_time": "2021-07-07T18:42:01.653Z"
   },
   {
    "duration": 8,
    "start_time": "2021-07-07T18:42:01.696Z"
   },
   {
    "duration": 13,
    "start_time": "2021-07-07T18:42:01.705Z"
   },
   {
    "duration": 20,
    "start_time": "2021-07-07T18:42:01.720Z"
   },
   {
    "duration": 12,
    "start_time": "2021-07-07T18:42:01.741Z"
   },
   {
    "duration": 35,
    "start_time": "2021-07-07T18:42:01.755Z"
   },
   {
    "duration": 14,
    "start_time": "2021-07-07T18:42:01.792Z"
   },
   {
    "duration": 188,
    "start_time": "2021-07-07T18:42:01.808Z"
   },
   {
    "duration": 19,
    "start_time": "2021-07-07T18:42:01.998Z"
   },
   {
    "duration": 175,
    "start_time": "2021-07-07T18:42:02.019Z"
   },
   {
    "duration": 134,
    "start_time": "2021-07-07T18:42:02.196Z"
   },
   {
    "duration": 10,
    "start_time": "2021-07-07T18:42:02.331Z"
   },
   {
    "duration": 19,
    "start_time": "2021-07-07T18:42:02.343Z"
   },
   {
    "duration": 628,
    "start_time": "2021-07-07T18:46:30.701Z"
   },
   {
    "duration": 183,
    "start_time": "2021-07-07T18:46:31.331Z"
   },
   {
    "duration": 48,
    "start_time": "2021-07-07T18:46:31.516Z"
   },
   {
    "duration": 5,
    "start_time": "2021-07-07T18:46:31.566Z"
   },
   {
    "duration": 28,
    "start_time": "2021-07-07T18:46:31.572Z"
   },
   {
    "duration": 8,
    "start_time": "2021-07-07T18:46:31.602Z"
   },
   {
    "duration": 19,
    "start_time": "2021-07-07T18:46:31.611Z"
   },
   {
    "duration": 6,
    "start_time": "2021-07-07T18:46:31.633Z"
   },
   {
    "duration": 17,
    "start_time": "2021-07-07T18:46:31.642Z"
   },
   {
    "duration": 10,
    "start_time": "2021-07-07T18:46:31.684Z"
   },
   {
    "duration": 9,
    "start_time": "2021-07-07T18:46:31.695Z"
   },
   {
    "duration": 28,
    "start_time": "2021-07-07T18:46:31.705Z"
   },
   {
    "duration": 18,
    "start_time": "2021-07-07T18:46:31.735Z"
   },
   {
    "duration": 48,
    "start_time": "2021-07-07T18:46:31.755Z"
   },
   {
    "duration": 6,
    "start_time": "2021-07-07T18:46:31.804Z"
   },
   {
    "duration": 4,
    "start_time": "2021-07-07T18:46:31.812Z"
   },
   {
    "duration": 9,
    "start_time": "2021-07-07T18:46:31.817Z"
   },
   {
    "duration": 10,
    "start_time": "2021-07-07T18:46:31.827Z"
   },
   {
    "duration": 12,
    "start_time": "2021-07-07T18:46:31.838Z"
   },
   {
    "duration": 39,
    "start_time": "2021-07-07T18:46:31.851Z"
   },
   {
    "duration": 24,
    "start_time": "2021-07-07T18:46:31.892Z"
   },
   {
    "duration": 15,
    "start_time": "2021-07-07T18:46:31.918Z"
   },
   {
    "duration": 7,
    "start_time": "2021-07-07T18:46:31.936Z"
   },
   {
    "duration": 8,
    "start_time": "2021-07-07T18:46:31.944Z"
   },
   {
    "duration": 19,
    "start_time": "2021-07-07T18:46:31.984Z"
   },
   {
    "duration": 10,
    "start_time": "2021-07-07T18:46:32.004Z"
   },
   {
    "duration": 5,
    "start_time": "2021-07-07T18:46:32.016Z"
   },
   {
    "duration": 9,
    "start_time": "2021-07-07T18:46:32.023Z"
   },
   {
    "duration": 199,
    "start_time": "2021-07-07T18:46:32.033Z"
   },
   {
    "duration": 19,
    "start_time": "2021-07-07T18:46:32.234Z"
   },
   {
    "duration": 159,
    "start_time": "2021-07-07T18:46:32.255Z"
   },
   {
    "duration": 134,
    "start_time": "2021-07-07T18:46:32.416Z"
   },
   {
    "duration": 10,
    "start_time": "2021-07-07T18:46:32.552Z"
   },
   {
    "duration": 34,
    "start_time": "2021-07-07T18:46:32.563Z"
   },
   {
    "duration": 1039,
    "start_time": "2021-07-08T08:41:09.419Z"
   },
   {
    "duration": 333,
    "start_time": "2021-07-08T08:41:10.459Z"
   },
   {
    "duration": 173,
    "start_time": "2021-07-08T08:41:10.794Z"
   },
   {
    "duration": 5,
    "start_time": "2021-07-08T08:41:10.968Z"
   },
   {
    "duration": 25,
    "start_time": "2021-07-08T08:41:10.975Z"
   },
   {
    "duration": 9,
    "start_time": "2021-07-08T08:41:11.002Z"
   },
   {
    "duration": 18,
    "start_time": "2021-07-08T08:41:11.013Z"
   },
   {
    "duration": 6,
    "start_time": "2021-07-08T08:41:11.033Z"
   },
   {
    "duration": 44,
    "start_time": "2021-07-08T08:41:11.042Z"
   },
   {
    "duration": 10,
    "start_time": "2021-07-08T08:41:11.088Z"
   },
   {
    "duration": 9,
    "start_time": "2021-07-08T08:41:11.100Z"
   },
   {
    "duration": 27,
    "start_time": "2021-07-08T08:41:11.111Z"
   },
   {
    "duration": 46,
    "start_time": "2021-07-08T08:41:11.140Z"
   },
   {
    "duration": 17,
    "start_time": "2021-07-08T08:41:11.187Z"
   },
   {
    "duration": 6,
    "start_time": "2021-07-08T08:41:11.206Z"
   },
   {
    "duration": 5,
    "start_time": "2021-07-08T08:41:11.213Z"
   },
   {
    "duration": 10,
    "start_time": "2021-07-08T08:41:11.219Z"
   },
   {
    "duration": 9,
    "start_time": "2021-07-08T08:41:11.230Z"
   },
   {
    "duration": 45,
    "start_time": "2021-07-08T08:41:11.241Z"
   },
   {
    "duration": 7,
    "start_time": "2021-07-08T08:41:11.287Z"
   },
   {
    "duration": 24,
    "start_time": "2021-07-08T08:41:11.296Z"
   },
   {
    "duration": 16,
    "start_time": "2021-07-08T08:41:11.322Z"
   },
   {
    "duration": 7,
    "start_time": "2021-07-08T08:41:11.341Z"
   },
   {
    "duration": 41,
    "start_time": "2021-07-08T08:41:11.349Z"
   },
   {
    "duration": 17,
    "start_time": "2021-07-08T08:41:11.391Z"
   },
   {
    "duration": 9,
    "start_time": "2021-07-08T08:41:11.410Z"
   },
   {
    "duration": 5,
    "start_time": "2021-07-08T08:41:11.421Z"
   },
   {
    "duration": 6,
    "start_time": "2021-07-08T08:41:11.428Z"
   },
   {
    "duration": 198,
    "start_time": "2021-07-08T08:41:11.435Z"
   },
   {
    "duration": 18,
    "start_time": "2021-07-08T08:41:11.635Z"
   },
   {
    "duration": 155,
    "start_time": "2021-07-08T08:41:11.655Z"
   },
   {
    "duration": 138,
    "start_time": "2021-07-08T08:41:11.811Z"
   },
   {
    "duration": 10,
    "start_time": "2021-07-08T08:41:11.950Z"
   },
   {
    "duration": 29,
    "start_time": "2021-07-08T08:41:11.961Z"
   },
   {
    "duration": 171,
    "start_time": "2021-07-08T08:47:44.522Z"
   },
   {
    "duration": 124,
    "start_time": "2021-07-08T08:47:46.872Z"
   },
   {
    "duration": 191,
    "start_time": "2021-07-08T08:47:58.148Z"
   },
   {
    "duration": 191,
    "start_time": "2021-07-08T08:48:07.412Z"
   },
   {
    "duration": 261,
    "start_time": "2021-07-08T08:48:10.385Z"
   },
   {
    "duration": 255,
    "start_time": "2021-07-08T08:48:14.494Z"
   },
   {
    "duration": 219,
    "start_time": "2021-07-08T08:48:22.752Z"
   },
   {
    "duration": 173,
    "start_time": "2021-07-08T08:49:06.395Z"
   },
   {
    "duration": 180,
    "start_time": "2021-07-08T08:49:21.011Z"
   },
   {
    "duration": 6,
    "start_time": "2021-07-08T08:50:31.697Z"
   },
   {
    "duration": 10,
    "start_time": "2021-07-08T08:50:47.394Z"
   },
   {
    "duration": 11,
    "start_time": "2021-07-08T08:53:49.332Z"
   },
   {
    "duration": 171,
    "start_time": "2021-07-08T08:54:28.408Z"
   },
   {
    "duration": 636,
    "start_time": "2021-07-08T09:02:48.385Z"
   },
   {
    "duration": 227,
    "start_time": "2021-07-08T09:02:49.023Z"
   },
   {
    "duration": 104,
    "start_time": "2021-07-08T09:02:49.252Z"
   },
   {
    "duration": 5,
    "start_time": "2021-07-08T09:02:49.358Z"
   },
   {
    "duration": 27,
    "start_time": "2021-07-08T09:02:49.365Z"
   },
   {
    "duration": 8,
    "start_time": "2021-07-08T09:02:49.394Z"
   },
   {
    "duration": 18,
    "start_time": "2021-07-08T09:02:49.404Z"
   },
   {
    "duration": 6,
    "start_time": "2021-07-08T09:02:49.424Z"
   },
   {
    "duration": 11,
    "start_time": "2021-07-08T09:02:49.433Z"
   },
   {
    "duration": 13,
    "start_time": "2021-07-08T09:02:49.485Z"
   },
   {
    "duration": 9,
    "start_time": "2021-07-08T09:02:49.500Z"
   },
   {
    "duration": 38,
    "start_time": "2021-07-08T09:02:49.511Z"
   },
   {
    "duration": 42,
    "start_time": "2021-07-08T09:02:49.551Z"
   },
   {
    "duration": 21,
    "start_time": "2021-07-08T09:02:49.594Z"
   },
   {
    "duration": 6,
    "start_time": "2021-07-08T09:02:49.616Z"
   },
   {
    "duration": 3,
    "start_time": "2021-07-08T09:02:49.623Z"
   },
   {
    "duration": 9,
    "start_time": "2021-07-08T09:02:49.628Z"
   },
   {
    "duration": 52,
    "start_time": "2021-07-08T09:02:49.638Z"
   },
   {
    "duration": 11,
    "start_time": "2021-07-08T09:02:49.692Z"
   },
   {
    "duration": 8,
    "start_time": "2021-07-08T09:02:49.704Z"
   },
   {
    "duration": 27,
    "start_time": "2021-07-08T09:02:49.713Z"
   },
   {
    "duration": 59,
    "start_time": "2021-07-08T09:02:49.741Z"
   },
   {
    "duration": 8,
    "start_time": "2021-07-08T09:02:49.803Z"
   },
   {
    "duration": 14,
    "start_time": "2021-07-08T09:02:49.813Z"
   },
   {
    "duration": 20,
    "start_time": "2021-07-08T09:02:49.829Z"
   },
   {
    "duration": 44,
    "start_time": "2021-07-08T09:02:49.851Z"
   },
   {
    "duration": 14,
    "start_time": "2021-07-08T09:02:49.896Z"
   },
   {
    "duration": 221,
    "start_time": "2021-07-08T09:02:49.912Z"
   },
   {
    "duration": 6,
    "start_time": "2021-07-08T09:02:50.134Z"
   },
   {
    "duration": 206,
    "start_time": "2021-07-08T09:02:50.142Z"
   },
   {
    "duration": 19,
    "start_time": "2021-07-08T09:02:50.350Z"
   },
   {
    "duration": 21,
    "start_time": "2021-07-08T09:02:50.370Z"
   },
   {
    "duration": 20,
    "start_time": "2021-07-08T09:02:50.393Z"
   },
   {
    "duration": 5,
    "start_time": "2021-07-08T09:02:50.414Z"
   },
   {
    "duration": 5,
    "start_time": "2021-07-08T09:03:34.173Z"
   },
   {
    "duration": 6,
    "start_time": "2021-07-08T09:04:49.062Z"
   },
   {
    "duration": 9,
    "start_time": "2021-07-08T09:04:50.118Z"
   },
   {
    "duration": 14,
    "start_time": "2021-07-08T09:04:58.512Z"
   },
   {
    "duration": 9,
    "start_time": "2021-07-08T09:05:10.988Z"
   },
   {
    "duration": 11,
    "start_time": "2021-07-08T09:05:11.743Z"
   },
   {
    "duration": 7,
    "start_time": "2021-07-08T09:05:25.677Z"
   },
   {
    "duration": 13,
    "start_time": "2021-07-08T09:05:47.189Z"
   },
   {
    "duration": 13,
    "start_time": "2021-07-08T09:05:54.755Z"
   },
   {
    "duration": 4,
    "start_time": "2021-07-08T09:06:29.189Z"
   },
   {
    "duration": 244,
    "start_time": "2021-07-08T09:06:29.195Z"
   },
   {
    "duration": 91,
    "start_time": "2021-07-08T09:06:29.441Z"
   },
   {
    "duration": 4,
    "start_time": "2021-07-08T09:06:29.534Z"
   },
   {
    "duration": 28,
    "start_time": "2021-07-08T09:06:29.540Z"
   },
   {
    "duration": 6,
    "start_time": "2021-07-08T09:06:29.570Z"
   },
   {
    "duration": 18,
    "start_time": "2021-07-08T09:06:29.578Z"
   },
   {
    "duration": 5,
    "start_time": "2021-07-08T09:06:29.597Z"
   },
   {
    "duration": 13,
    "start_time": "2021-07-08T09:06:29.605Z"
   },
   {
    "duration": 8,
    "start_time": "2021-07-08T09:06:29.620Z"
   },
   {
    "duration": 7,
    "start_time": "2021-07-08T09:06:29.630Z"
   },
   {
    "duration": 63,
    "start_time": "2021-07-08T09:06:29.639Z"
   },
   {
    "duration": 17,
    "start_time": "2021-07-08T09:06:29.704Z"
   },
   {
    "duration": 20,
    "start_time": "2021-07-08T09:06:29.723Z"
   },
   {
    "duration": 6,
    "start_time": "2021-07-08T09:06:29.745Z"
   },
   {
    "duration": 3,
    "start_time": "2021-07-08T09:06:29.752Z"
   },
   {
    "duration": 7,
    "start_time": "2021-07-08T09:06:29.785Z"
   },
   {
    "duration": 11,
    "start_time": "2021-07-08T09:06:29.794Z"
   },
   {
    "duration": 15,
    "start_time": "2021-07-08T09:06:29.807Z"
   },
   {
    "duration": 8,
    "start_time": "2021-07-08T09:06:29.823Z"
   },
   {
    "duration": 70,
    "start_time": "2021-07-08T09:06:29.832Z"
   },
   {
    "duration": 17,
    "start_time": "2021-07-08T09:06:29.903Z"
   },
   {
    "duration": 9,
    "start_time": "2021-07-08T09:06:29.921Z"
   },
   {
    "duration": 9,
    "start_time": "2021-07-08T09:06:29.932Z"
   },
   {
    "duration": 57,
    "start_time": "2021-07-08T09:06:29.942Z"
   },
   {
    "duration": 11,
    "start_time": "2021-07-08T09:06:30.001Z"
   },
   {
    "duration": 19,
    "start_time": "2021-07-08T09:06:30.016Z"
   },
   {
    "duration": 217,
    "start_time": "2021-07-08T09:06:30.037Z"
   },
   {
    "duration": 6,
    "start_time": "2021-07-08T09:06:30.255Z"
   },
   {
    "duration": 205,
    "start_time": "2021-07-08T09:06:30.263Z"
   },
   {
    "duration": 27,
    "start_time": "2021-07-08T09:06:30.470Z"
   },
   {
    "duration": 11,
    "start_time": "2021-07-08T09:06:30.500Z"
   },
   {
    "duration": 31,
    "start_time": "2021-07-08T09:06:30.513Z"
   },
   {
    "duration": 18,
    "start_time": "2021-07-08T09:06:30.546Z"
   },
   {
    "duration": 11,
    "start_time": "2021-07-08T09:06:30.566Z"
   },
   {
    "duration": 19,
    "start_time": "2021-07-08T09:06:30.579Z"
   },
   {
    "duration": 20,
    "start_time": "2021-07-08T09:06:49.466Z"
   },
   {
    "duration": 9,
    "start_time": "2021-07-08T09:06:51.994Z"
   },
   {
    "duration": 20,
    "start_time": "2021-07-08T09:06:52.273Z"
   },
   {
    "duration": 246,
    "start_time": "2021-07-08T09:10:21.272Z"
   },
   {
    "duration": 84,
    "start_time": "2021-07-08T09:10:21.436Z"
   },
   {
    "duration": 7,
    "start_time": "2021-07-08T09:10:37.608Z"
   },
   {
    "duration": 189,
    "start_time": "2021-07-08T09:10:38.573Z"
   },
   {
    "duration": 185,
    "start_time": "2021-07-08T09:10:53.181Z"
   },
   {
    "duration": 11,
    "start_time": "2021-07-08T09:10:59.549Z"
   },
   {
    "duration": 42,
    "start_time": "2021-07-08T09:10:59.709Z"
   },
   {
    "duration": 12,
    "start_time": "2021-07-08T09:11:02.857Z"
   },
   {
    "duration": 28,
    "start_time": "2021-07-08T09:11:10.062Z"
   },
   {
    "duration": 249,
    "start_time": "2021-07-08T09:11:37.388Z"
   },
   {
    "duration": 232,
    "start_time": "2021-07-08T09:11:49.485Z"
   },
   {
    "duration": 453,
    "start_time": "2021-07-08T09:12:01.546Z"
   },
   {
    "duration": 440,
    "start_time": "2021-07-08T09:12:12.347Z"
   },
   {
    "duration": 213,
    "start_time": "2021-07-08T09:13:32.196Z"
   },
   {
    "duration": 172,
    "start_time": "2021-07-08T09:14:07.400Z"
   },
   {
    "duration": 185,
    "start_time": "2021-07-08T09:14:14.905Z"
   },
   {
    "duration": 209,
    "start_time": "2021-07-08T09:14:40.109Z"
   },
   {
    "duration": 201,
    "start_time": "2021-07-08T09:14:54.506Z"
   },
   {
    "duration": 622,
    "start_time": "2021-07-08T09:18:14.497Z"
   },
   {
    "duration": 220,
    "start_time": "2021-07-08T09:18:15.121Z"
   },
   {
    "duration": 79,
    "start_time": "2021-07-08T09:18:15.343Z"
   },
   {
    "duration": 4,
    "start_time": "2021-07-08T09:18:15.425Z"
   },
   {
    "duration": 24,
    "start_time": "2021-07-08T09:18:15.431Z"
   },
   {
    "duration": 8,
    "start_time": "2021-07-08T09:18:15.457Z"
   },
   {
    "duration": 16,
    "start_time": "2021-07-08T09:18:15.466Z"
   },
   {
    "duration": 5,
    "start_time": "2021-07-08T09:18:15.484Z"
   },
   {
    "duration": 10,
    "start_time": "2021-07-08T09:18:15.493Z"
   },
   {
    "duration": 8,
    "start_time": "2021-07-08T09:18:15.504Z"
   },
   {
    "duration": 7,
    "start_time": "2021-07-08T09:18:15.513Z"
   },
   {
    "duration": 26,
    "start_time": "2021-07-08T09:18:15.522Z"
   },
   {
    "duration": 49,
    "start_time": "2021-07-08T09:18:15.550Z"
   },
   {
    "duration": 21,
    "start_time": "2021-07-08T09:18:15.601Z"
   },
   {
    "duration": 8,
    "start_time": "2021-07-08T09:18:15.624Z"
   },
   {
    "duration": 3,
    "start_time": "2021-07-08T09:18:15.634Z"
   },
   {
    "duration": 8,
    "start_time": "2021-07-08T09:18:15.639Z"
   },
   {
    "duration": 45,
    "start_time": "2021-07-08T09:18:15.649Z"
   },
   {
    "duration": 13,
    "start_time": "2021-07-08T09:18:15.696Z"
   },
   {
    "duration": 10,
    "start_time": "2021-07-08T09:18:15.711Z"
   },
   {
    "duration": 64,
    "start_time": "2021-07-08T09:18:15.722Z"
   },
   {
    "duration": 19,
    "start_time": "2021-07-08T09:18:15.788Z"
   },
   {
    "duration": 9,
    "start_time": "2021-07-08T09:18:15.809Z"
   },
   {
    "duration": 9,
    "start_time": "2021-07-08T09:18:15.820Z"
   },
   {
    "duration": 18,
    "start_time": "2021-07-08T09:18:15.831Z"
   },
   {
    "duration": 43,
    "start_time": "2021-07-08T09:18:15.851Z"
   },
   {
    "duration": 12,
    "start_time": "2021-07-08T09:18:15.897Z"
   },
   {
    "duration": 219,
    "start_time": "2021-07-08T09:18:15.911Z"
   },
   {
    "duration": 8,
    "start_time": "2021-07-08T09:18:16.132Z"
   },
   {
    "duration": 199,
    "start_time": "2021-07-08T09:18:16.141Z"
   },
   {
    "duration": 18,
    "start_time": "2021-07-08T09:18:16.341Z"
   },
   {
    "duration": 24,
    "start_time": "2021-07-08T09:18:16.361Z"
   },
   {
    "duration": 24,
    "start_time": "2021-07-08T09:18:16.387Z"
   },
   {
    "duration": 211,
    "start_time": "2021-07-08T09:18:16.413Z"
   },
   {
    "duration": 18,
    "start_time": "2021-07-08T09:18:16.626Z"
   },
   {
    "duration": 596,
    "start_time": "2021-07-08T10:06:33.623Z"
   },
   {
    "duration": 181,
    "start_time": "2021-07-08T10:06:34.221Z"
   },
   {
    "duration": 176,
    "start_time": "2021-07-08T10:06:34.635Z"
   },
   {
    "duration": 239,
    "start_time": "2021-07-08T10:06:55.572Z"
   },
   {
    "duration": 6,
    "start_time": "2021-07-08T10:06:57.687Z"
   },
   {
    "duration": 4,
    "start_time": "2021-07-08T10:07:03.956Z"
   },
   {
    "duration": 4,
    "start_time": "2021-07-08T10:07:10.376Z"
   },
   {
    "duration": 4,
    "start_time": "2021-07-08T10:17:19.889Z"
   },
   {
    "duration": 3,
    "start_time": "2021-07-08T10:19:19.407Z"
   },
   {
    "duration": 197,
    "start_time": "2021-07-08T10:19:19.412Z"
   },
   {
    "duration": 127,
    "start_time": "2021-07-08T10:19:19.611Z"
   },
   {
    "duration": 4,
    "start_time": "2021-07-08T10:19:19.740Z"
   },
   {
    "duration": 27,
    "start_time": "2021-07-08T10:19:19.746Z"
   },
   {
    "duration": 7,
    "start_time": "2021-07-08T10:19:19.775Z"
   },
   {
    "duration": 30,
    "start_time": "2021-07-08T10:19:19.784Z"
   },
   {
    "duration": 7,
    "start_time": "2021-07-08T10:19:19.817Z"
   },
   {
    "duration": 26,
    "start_time": "2021-07-08T10:19:19.826Z"
   },
   {
    "duration": 18,
    "start_time": "2021-07-08T10:19:19.854Z"
   },
   {
    "duration": 14,
    "start_time": "2021-07-08T10:19:19.874Z"
   },
   {
    "duration": 48,
    "start_time": "2021-07-08T10:19:19.890Z"
   },
   {
    "duration": 17,
    "start_time": "2021-07-08T10:19:19.940Z"
   },
   {
    "duration": 38,
    "start_time": "2021-07-08T10:19:19.959Z"
   },
   {
    "duration": 8,
    "start_time": "2021-07-08T10:19:19.999Z"
   },
   {
    "duration": 15,
    "start_time": "2021-07-08T10:19:20.009Z"
   },
   {
    "duration": 22,
    "start_time": "2021-07-08T10:19:20.026Z"
   },
   {
    "duration": 10,
    "start_time": "2021-07-08T10:19:20.050Z"
   },
   {
    "duration": 10,
    "start_time": "2021-07-08T10:19:20.062Z"
   },
   {
    "duration": 20,
    "start_time": "2021-07-08T10:19:20.073Z"
   },
   {
    "duration": 29,
    "start_time": "2021-07-08T10:19:20.095Z"
   },
   {
    "duration": 17,
    "start_time": "2021-07-08T10:19:20.126Z"
   },
   {
    "duration": 40,
    "start_time": "2021-07-08T10:19:20.146Z"
   },
   {
    "duration": 15,
    "start_time": "2021-07-08T10:19:20.189Z"
   },
   {
    "duration": 19,
    "start_time": "2021-07-08T10:19:20.206Z"
   },
   {
    "duration": 10,
    "start_time": "2021-07-08T10:19:20.226Z"
   },
   {
    "duration": 11,
    "start_time": "2021-07-08T10:19:20.238Z"
   },
   {
    "duration": 297,
    "start_time": "2021-07-08T10:19:20.250Z"
   },
   {
    "duration": 6,
    "start_time": "2021-07-08T10:19:20.549Z"
   },
   {
    "duration": 191,
    "start_time": "2021-07-08T10:19:20.557Z"
   },
   {
    "duration": 19,
    "start_time": "2021-07-08T10:19:20.750Z"
   },
   {
    "duration": 20,
    "start_time": "2021-07-08T10:19:20.771Z"
   },
   {
    "duration": 15,
    "start_time": "2021-07-08T10:19:20.793Z"
   },
   {
    "duration": 222,
    "start_time": "2021-07-08T10:19:20.809Z"
   },
   {
    "duration": 20,
    "start_time": "2021-07-08T10:19:21.033Z"
   },
   {
    "duration": 27,
    "start_time": "2021-07-08T10:45:04.055Z"
   },
   {
    "duration": 8,
    "start_time": "2021-07-08T10:45:08.478Z"
   },
   {
    "duration": 8,
    "start_time": "2021-07-08T10:45:31.982Z"
   },
   {
    "duration": 10,
    "start_time": "2021-07-08T10:46:01.221Z"
   },
   {
    "duration": 17,
    "start_time": "2021-07-08T10:46:40.011Z"
   },
   {
    "duration": 193,
    "start_time": "2021-07-08T10:48:19.471Z"
   },
   {
    "duration": 225,
    "start_time": "2021-07-08T10:49:26.480Z"
   },
   {
    "duration": 204,
    "start_time": "2021-07-08T10:49:59.992Z"
   },
   {
    "duration": 435,
    "start_time": "2021-07-08T10:50:06.779Z"
   },
   {
    "duration": 199,
    "start_time": "2021-07-08T10:50:14.891Z"
   },
   {
    "duration": 204,
    "start_time": "2021-07-08T10:50:18.501Z"
   },
   {
    "duration": 244,
    "start_time": "2021-07-08T10:50:23.359Z"
   },
   {
    "duration": 192,
    "start_time": "2021-07-08T10:50:29.135Z"
   },
   {
    "duration": 218,
    "start_time": "2021-07-08T10:50:33.092Z"
   },
   {
    "duration": 207,
    "start_time": "2021-07-08T10:52:45.381Z"
   },
   {
    "duration": 5,
    "start_time": "2021-07-08T10:53:34.641Z"
   },
   {
    "duration": 196,
    "start_time": "2021-07-08T10:53:41.478Z"
   },
   {
    "duration": 43,
    "start_time": "2021-07-08T10:53:50.335Z"
   },
   {
    "duration": 32,
    "start_time": "2021-07-08T10:53:55.294Z"
   },
   {
    "duration": 55,
    "start_time": "2021-07-08T10:54:09.675Z"
   },
   {
    "duration": 16,
    "start_time": "2021-07-08T10:54:12.260Z"
   },
   {
    "duration": 15,
    "start_time": "2021-07-08T10:54:49.150Z"
   },
   {
    "duration": 20,
    "start_time": "2021-07-08T10:56:07.596Z"
   },
   {
    "duration": 16,
    "start_time": "2021-07-08T10:58:26.276Z"
   },
   {
    "duration": 22,
    "start_time": "2021-07-08T10:59:00.486Z"
   },
   {
    "duration": 18,
    "start_time": "2021-07-08T11:02:09.653Z"
   },
   {
    "duration": 10,
    "start_time": "2021-07-08T11:03:44.331Z"
   },
   {
    "duration": 10,
    "start_time": "2021-07-08T11:03:54.055Z"
   },
   {
    "duration": 12,
    "start_time": "2021-07-08T11:04:41.967Z"
   },
   {
    "duration": 24,
    "start_time": "2021-07-08T11:07:30.732Z"
   },
   {
    "duration": 6,
    "start_time": "2021-07-08T11:07:37.364Z"
   },
   {
    "duration": 16,
    "start_time": "2021-07-08T11:08:01.819Z"
   },
   {
    "duration": 17,
    "start_time": "2021-07-08T11:09:47.488Z"
   },
   {
    "duration": 246,
    "start_time": "2021-07-08T11:10:00.830Z"
   },
   {
    "duration": 18,
    "start_time": "2021-07-08T11:13:55.195Z"
   },
   {
    "duration": 204,
    "start_time": "2021-07-08T11:14:04.951Z"
   },
   {
    "duration": 19,
    "start_time": "2021-07-08T11:15:10.613Z"
   },
   {
    "duration": 680,
    "start_time": "2021-07-08T11:16:25.793Z"
   },
   {
    "duration": 451,
    "start_time": "2021-07-08T11:16:40.313Z"
   },
   {
    "duration": 469,
    "start_time": "2021-07-08T11:17:21.286Z"
   },
   {
    "duration": 20,
    "start_time": "2021-07-08T11:19:12.554Z"
   },
   {
    "duration": 35,
    "start_time": "2021-07-08T11:20:05.484Z"
   },
   {
    "duration": 53,
    "start_time": "2021-07-08T11:21:40.050Z"
   },
   {
    "duration": 13,
    "start_time": "2021-07-08T11:22:26.059Z"
   },
   {
    "duration": 19,
    "start_time": "2021-07-08T11:22:47.419Z"
   },
   {
    "duration": 25,
    "start_time": "2021-07-08T11:23:19.958Z"
   },
   {
    "duration": 29,
    "start_time": "2021-07-08T11:23:25.415Z"
   },
   {
    "duration": 10,
    "start_time": "2021-07-08T11:24:45.138Z"
   },
   {
    "duration": 19,
    "start_time": "2021-07-08T11:24:54.498Z"
   },
   {
    "duration": 12,
    "start_time": "2021-07-08T11:25:32.225Z"
   },
   {
    "duration": 19,
    "start_time": "2021-07-08T11:25:37.092Z"
   },
   {
    "duration": 17,
    "start_time": "2021-07-08T11:25:58.116Z"
   },
   {
    "duration": 15,
    "start_time": "2021-07-08T11:26:02.258Z"
   },
   {
    "duration": 8,
    "start_time": "2021-07-08T11:26:59.682Z"
   },
   {
    "duration": 184,
    "start_time": "2021-07-08T11:27:21.894Z"
   },
   {
    "duration": 8,
    "start_time": "2021-07-08T11:27:23.824Z"
   },
   {
    "duration": 202,
    "start_time": "2021-07-08T11:27:23.962Z"
   },
   {
    "duration": 360,
    "start_time": "2021-07-08T11:28:33.215Z"
   },
   {
    "duration": 231,
    "start_time": "2021-07-08T11:32:05.542Z"
   },
   {
    "duration": 607,
    "start_time": "2021-07-08T11:36:27.854Z"
   },
   {
    "duration": 241,
    "start_time": "2021-07-08T11:36:28.463Z"
   },
   {
    "duration": 67,
    "start_time": "2021-07-08T11:36:28.709Z"
   },
   {
    "duration": 5,
    "start_time": "2021-07-08T11:36:28.778Z"
   },
   {
    "duration": 32,
    "start_time": "2021-07-08T11:36:28.784Z"
   },
   {
    "duration": 11,
    "start_time": "2021-07-08T11:36:28.819Z"
   },
   {
    "duration": 20,
    "start_time": "2021-07-08T11:36:28.834Z"
   },
   {
    "duration": 36,
    "start_time": "2021-07-08T11:36:28.857Z"
   },
   {
    "duration": 16,
    "start_time": "2021-07-08T11:36:28.895Z"
   },
   {
    "duration": 14,
    "start_time": "2021-07-08T11:36:28.913Z"
   },
   {
    "duration": 9,
    "start_time": "2021-07-08T11:36:28.930Z"
   },
   {
    "duration": 55,
    "start_time": "2021-07-08T11:36:28.941Z"
   },
   {
    "duration": 27,
    "start_time": "2021-07-08T11:36:28.999Z"
   },
   {
    "duration": 30,
    "start_time": "2021-07-08T11:36:29.028Z"
   },
   {
    "duration": 31,
    "start_time": "2021-07-08T11:36:29.060Z"
   },
   {
    "duration": 3,
    "start_time": "2021-07-08T11:36:29.093Z"
   },
   {
    "duration": 12,
    "start_time": "2021-07-08T11:36:29.099Z"
   },
   {
    "duration": 11,
    "start_time": "2021-07-08T11:36:29.112Z"
   },
   {
    "duration": 12,
    "start_time": "2021-07-08T11:36:29.125Z"
   },
   {
    "duration": 9,
    "start_time": "2021-07-08T11:36:29.139Z"
   },
   {
    "duration": 31,
    "start_time": "2021-07-08T11:36:29.191Z"
   },
   {
    "duration": 17,
    "start_time": "2021-07-08T11:36:29.226Z"
   },
   {
    "duration": 7,
    "start_time": "2021-07-08T11:36:29.245Z"
   },
   {
    "duration": 10,
    "start_time": "2021-07-08T11:36:29.254Z"
   },
   {
    "duration": 30,
    "start_time": "2021-07-08T11:36:29.292Z"
   },
   {
    "duration": 11,
    "start_time": "2021-07-08T11:36:29.324Z"
   },
   {
    "duration": 11,
    "start_time": "2021-07-08T11:36:29.337Z"
   },
   {
    "duration": 230,
    "start_time": "2021-07-08T11:36:29.349Z"
   },
   {
    "duration": 13,
    "start_time": "2021-07-08T11:36:29.588Z"
   },
   {
    "duration": 205,
    "start_time": "2021-07-08T11:36:29.603Z"
   },
   {
    "duration": 20,
    "start_time": "2021-07-08T11:36:29.810Z"
   },
   {
    "duration": 9,
    "start_time": "2021-07-08T11:36:29.832Z"
   },
   {
    "duration": 16,
    "start_time": "2021-07-08T11:36:29.843Z"
   },
   {
    "duration": 283,
    "start_time": "2021-07-08T11:36:29.861Z"
   },
   {
    "duration": 50,
    "start_time": "2021-07-08T11:36:30.146Z"
   },
   {
    "duration": 14,
    "start_time": "2021-07-08T11:36:30.198Z"
   },
   {
    "duration": 11,
    "start_time": "2021-07-08T11:36:30.214Z"
   },
   {
    "duration": 245,
    "start_time": "2021-07-08T11:36:30.227Z"
   },
   {
    "duration": 439,
    "start_time": "2021-07-08T11:36:30.474Z"
   },
   {
    "duration": 210,
    "start_time": "2021-07-08T11:36:30.915Z"
   },
   {
    "duration": 15,
    "start_time": "2021-07-08T11:36:31.127Z"
   },
   {
    "duration": 17,
    "start_time": "2021-07-08T11:38:20.451Z"
   },
   {
    "duration": 642,
    "start_time": "2021-07-08T11:46:17.881Z"
   },
   {
    "duration": 210,
    "start_time": "2021-07-08T11:46:18.525Z"
   },
   {
    "duration": 104,
    "start_time": "2021-07-08T11:46:18.741Z"
   },
   {
    "duration": 8,
    "start_time": "2021-07-08T11:46:18.847Z"
   },
   {
    "duration": 25,
    "start_time": "2021-07-08T11:46:18.857Z"
   },
   {
    "duration": 14,
    "start_time": "2021-07-08T11:46:18.884Z"
   },
   {
    "duration": 22,
    "start_time": "2021-07-08T11:46:18.900Z"
   },
   {
    "duration": 5,
    "start_time": "2021-07-08T11:46:18.924Z"
   },
   {
    "duration": 13,
    "start_time": "2021-07-08T11:46:18.931Z"
   },
   {
    "duration": 45,
    "start_time": "2021-07-08T11:46:18.946Z"
   },
   {
    "duration": 12,
    "start_time": "2021-07-08T11:46:18.993Z"
   },
   {
    "duration": 38,
    "start_time": "2021-07-08T11:46:19.006Z"
   },
   {
    "duration": 50,
    "start_time": "2021-07-08T11:46:19.046Z"
   },
   {
    "duration": 29,
    "start_time": "2021-07-08T11:46:19.099Z"
   },
   {
    "duration": 7,
    "start_time": "2021-07-08T11:46:19.130Z"
   },
   {
    "duration": 3,
    "start_time": "2021-07-08T11:46:19.139Z"
   },
   {
    "duration": 11,
    "start_time": "2021-07-08T11:46:19.144Z"
   },
   {
    "duration": 40,
    "start_time": "2021-07-08T11:46:19.157Z"
   },
   {
    "duration": 15,
    "start_time": "2021-07-08T11:46:19.199Z"
   },
   {
    "duration": 10,
    "start_time": "2021-07-08T11:46:19.217Z"
   },
   {
    "duration": 68,
    "start_time": "2021-07-08T11:46:19.230Z"
   },
   {
    "duration": 17,
    "start_time": "2021-07-08T11:46:19.301Z"
   },
   {
    "duration": 7,
    "start_time": "2021-07-08T11:46:19.321Z"
   },
   {
    "duration": 11,
    "start_time": "2021-07-08T11:46:19.330Z"
   },
   {
    "duration": 59,
    "start_time": "2021-07-08T11:46:19.343Z"
   },
   {
    "duration": 17,
    "start_time": "2021-07-08T11:46:19.405Z"
   },
   {
    "duration": 16,
    "start_time": "2021-07-08T11:46:19.424Z"
   },
   {
    "duration": 252,
    "start_time": "2021-07-08T11:46:19.443Z"
   },
   {
    "duration": 9,
    "start_time": "2021-07-08T11:46:19.697Z"
   },
   {
    "duration": 224,
    "start_time": "2021-07-08T11:46:19.708Z"
   },
   {
    "duration": 21,
    "start_time": "2021-07-08T11:46:19.934Z"
   },
   {
    "duration": 9,
    "start_time": "2021-07-08T11:46:19.956Z"
   },
   {
    "duration": 32,
    "start_time": "2021-07-08T11:46:19.967Z"
   },
   {
    "duration": 288,
    "start_time": "2021-07-08T11:46:20.004Z"
   },
   {
    "duration": 23,
    "start_time": "2021-07-08T11:46:20.300Z"
   },
   {
    "duration": 11,
    "start_time": "2021-07-08T11:46:20.325Z"
   },
   {
    "duration": 11,
    "start_time": "2021-07-08T11:46:20.339Z"
   },
   {
    "duration": 259,
    "start_time": "2021-07-08T11:46:20.352Z"
   },
   {
    "duration": 438,
    "start_time": "2021-07-08T11:46:20.613Z"
   },
   {
    "duration": 207,
    "start_time": "2021-07-08T11:46:21.054Z"
   },
   {
    "duration": 27,
    "start_time": "2021-07-08T11:46:21.262Z"
   },
   {
    "duration": 19,
    "start_time": "2021-07-08T11:46:21.291Z"
   },
   {
    "duration": 820,
    "start_time": "2021-07-08T11:49:01.655Z"
   },
   {
    "duration": 372,
    "start_time": "2021-07-08T11:49:02.478Z"
   },
   {
    "duration": 98,
    "start_time": "2021-07-08T11:49:02.853Z"
   },
   {
    "duration": 6,
    "start_time": "2021-07-08T11:49:02.953Z"
   },
   {
    "duration": 39,
    "start_time": "2021-07-08T11:49:02.960Z"
   },
   {
    "duration": 9,
    "start_time": "2021-07-08T11:49:03.003Z"
   },
   {
    "duration": 23,
    "start_time": "2021-07-08T11:49:03.014Z"
   },
   {
    "duration": 6,
    "start_time": "2021-07-08T11:49:03.041Z"
   },
   {
    "duration": 20,
    "start_time": "2021-07-08T11:49:03.049Z"
   },
   {
    "duration": 18,
    "start_time": "2021-07-08T11:49:03.084Z"
   },
   {
    "duration": 14,
    "start_time": "2021-07-08T11:49:03.104Z"
   },
   {
    "duration": 39,
    "start_time": "2021-07-08T11:49:03.119Z"
   },
   {
    "duration": 38,
    "start_time": "2021-07-08T11:49:03.160Z"
   },
   {
    "duration": 26,
    "start_time": "2021-07-08T11:49:03.200Z"
   },
   {
    "duration": 7,
    "start_time": "2021-07-08T11:49:03.227Z"
   },
   {
    "duration": 4,
    "start_time": "2021-07-08T11:49:03.236Z"
   },
   {
    "duration": 15,
    "start_time": "2021-07-08T11:49:03.243Z"
   },
   {
    "duration": 21,
    "start_time": "2021-07-08T11:49:03.285Z"
   },
   {
    "duration": 17,
    "start_time": "2021-07-08T11:49:03.309Z"
   },
   {
    "duration": 10,
    "start_time": "2021-07-08T11:49:03.328Z"
   },
   {
    "duration": 65,
    "start_time": "2021-07-08T11:49:03.340Z"
   },
   {
    "duration": 18,
    "start_time": "2021-07-08T11:49:03.407Z"
   },
   {
    "duration": 8,
    "start_time": "2021-07-08T11:49:03.428Z"
   },
   {
    "duration": 15,
    "start_time": "2021-07-08T11:49:03.438Z"
   },
   {
    "duration": 40,
    "start_time": "2021-07-08T11:49:03.455Z"
   },
   {
    "duration": 12,
    "start_time": "2021-07-08T11:49:03.497Z"
   },
   {
    "duration": 29,
    "start_time": "2021-07-08T11:49:03.511Z"
   },
   {
    "duration": 285,
    "start_time": "2021-07-08T11:49:03.542Z"
   },
   {
    "duration": 8,
    "start_time": "2021-07-08T11:49:03.829Z"
   },
   {
    "duration": 227,
    "start_time": "2021-07-08T11:49:03.838Z"
   },
   {
    "duration": 40,
    "start_time": "2021-07-08T11:49:04.066Z"
   },
   {
    "duration": 10,
    "start_time": "2021-07-08T11:49:04.108Z"
   },
   {
    "duration": 26,
    "start_time": "2021-07-08T11:49:04.121Z"
   },
   {
    "duration": 290,
    "start_time": "2021-07-08T11:49:04.149Z"
   },
   {
    "duration": 26,
    "start_time": "2021-07-08T11:49:04.441Z"
   },
   {
    "duration": 31,
    "start_time": "2021-07-08T11:49:04.470Z"
   },
   {
    "duration": 14,
    "start_time": "2021-07-08T11:49:04.503Z"
   },
   {
    "duration": 259,
    "start_time": "2021-07-08T11:49:04.521Z"
   },
   {
    "duration": 480,
    "start_time": "2021-07-08T11:49:04.782Z"
   },
   {
    "duration": 225,
    "start_time": "2021-07-08T11:49:05.264Z"
   },
   {
    "duration": 22,
    "start_time": "2021-07-08T11:49:05.491Z"
   },
   {
    "duration": 24,
    "start_time": "2021-07-08T11:49:05.515Z"
   },
   {
    "duration": 634,
    "start_time": "2021-07-08T11:52:24.960Z"
   },
   {
    "duration": 199,
    "start_time": "2021-07-08T11:52:25.599Z"
   },
   {
    "duration": 106,
    "start_time": "2021-07-08T11:52:25.803Z"
   },
   {
    "duration": 7,
    "start_time": "2021-07-08T11:52:25.911Z"
   },
   {
    "duration": 29,
    "start_time": "2021-07-08T11:52:25.920Z"
   },
   {
    "duration": 7,
    "start_time": "2021-07-08T11:52:25.951Z"
   },
   {
    "duration": 26,
    "start_time": "2021-07-08T11:52:25.961Z"
   },
   {
    "duration": 11,
    "start_time": "2021-07-08T11:52:25.990Z"
   },
   {
    "duration": 29,
    "start_time": "2021-07-08T11:52:26.005Z"
   },
   {
    "duration": 9,
    "start_time": "2021-07-08T11:52:26.036Z"
   },
   {
    "duration": 8,
    "start_time": "2021-07-08T11:52:26.047Z"
   },
   {
    "duration": 63,
    "start_time": "2021-07-08T11:52:26.057Z"
   },
   {
    "duration": 17,
    "start_time": "2021-07-08T11:52:26.122Z"
   },
   {
    "duration": 43,
    "start_time": "2021-07-08T11:52:26.142Z"
   },
   {
    "duration": 17,
    "start_time": "2021-07-08T11:52:26.187Z"
   },
   {
    "duration": 5,
    "start_time": "2021-07-08T11:52:26.206Z"
   },
   {
    "duration": 12,
    "start_time": "2021-07-08T11:52:26.212Z"
   },
   {
    "duration": 11,
    "start_time": "2021-07-08T11:52:26.226Z"
   },
   {
    "duration": 12,
    "start_time": "2021-07-08T11:52:26.238Z"
   },
   {
    "duration": 38,
    "start_time": "2021-07-08T11:52:26.252Z"
   },
   {
    "duration": 40,
    "start_time": "2021-07-08T11:52:26.292Z"
   },
   {
    "duration": 17,
    "start_time": "2021-07-08T11:52:26.336Z"
   },
   {
    "duration": 39,
    "start_time": "2021-07-08T11:52:26.355Z"
   },
   {
    "duration": 11,
    "start_time": "2021-07-08T11:52:26.395Z"
   },
   {
    "duration": 23,
    "start_time": "2021-07-08T11:52:26.408Z"
   },
   {
    "duration": 12,
    "start_time": "2021-07-08T11:52:26.432Z"
   },
   {
    "duration": 41,
    "start_time": "2021-07-08T11:52:26.446Z"
   },
   {
    "duration": 215,
    "start_time": "2021-07-08T11:52:26.493Z"
   },
   {
    "duration": 8,
    "start_time": "2021-07-08T11:52:26.710Z"
   },
   {
    "duration": 228,
    "start_time": "2021-07-08T11:52:26.720Z"
   },
   {
    "duration": 18,
    "start_time": "2021-07-08T11:52:26.950Z"
   },
   {
    "duration": 35,
    "start_time": "2021-07-08T11:52:26.969Z"
   },
   {
    "duration": 23,
    "start_time": "2021-07-08T11:52:27.006Z"
   },
   {
    "duration": 258,
    "start_time": "2021-07-08T11:52:27.030Z"
   },
   {
    "duration": 24,
    "start_time": "2021-07-08T11:52:27.290Z"
   },
   {
    "duration": 12,
    "start_time": "2021-07-08T11:52:27.316Z"
   },
   {
    "duration": 10,
    "start_time": "2021-07-08T11:52:27.329Z"
   },
   {
    "duration": 298,
    "start_time": "2021-07-08T11:52:27.341Z"
   },
   {
    "duration": 436,
    "start_time": "2021-07-08T11:52:27.641Z"
   },
   {
    "duration": 216,
    "start_time": "2021-07-08T11:52:28.079Z"
   },
   {
    "duration": 20,
    "start_time": "2021-07-08T11:52:28.297Z"
   },
   {
    "duration": 17,
    "start_time": "2021-07-08T11:52:28.319Z"
   },
   {
    "duration": 1354,
    "start_time": "2022-09-11T12:50:58.898Z"
   },
   {
    "duration": 0,
    "start_time": "2022-09-11T12:51:00.255Z"
   },
   {
    "duration": 0,
    "start_time": "2022-09-11T12:51:00.256Z"
   },
   {
    "duration": 0,
    "start_time": "2022-09-11T12:51:00.257Z"
   },
   {
    "duration": 0,
    "start_time": "2022-09-11T12:51:00.258Z"
   },
   {
    "duration": 0,
    "start_time": "2022-09-11T12:51:00.259Z"
   },
   {
    "duration": 0,
    "start_time": "2022-09-11T12:51:00.260Z"
   },
   {
    "duration": 0,
    "start_time": "2022-09-11T12:51:00.261Z"
   },
   {
    "duration": 0,
    "start_time": "2022-09-11T12:51:00.262Z"
   },
   {
    "duration": 0,
    "start_time": "2022-09-11T12:51:00.263Z"
   },
   {
    "duration": 0,
    "start_time": "2022-09-11T12:51:00.265Z"
   },
   {
    "duration": 0,
    "start_time": "2022-09-11T12:51:00.266Z"
   },
   {
    "duration": 0,
    "start_time": "2022-09-11T12:51:00.266Z"
   },
   {
    "duration": 0,
    "start_time": "2022-09-11T12:51:00.268Z"
   },
   {
    "duration": 0,
    "start_time": "2022-09-11T12:51:00.269Z"
   },
   {
    "duration": 0,
    "start_time": "2022-09-11T12:51:00.270Z"
   },
   {
    "duration": 0,
    "start_time": "2022-09-11T12:51:00.271Z"
   },
   {
    "duration": 0,
    "start_time": "2022-09-11T12:51:00.272Z"
   },
   {
    "duration": 0,
    "start_time": "2022-09-11T12:51:00.272Z"
   },
   {
    "duration": 0,
    "start_time": "2022-09-11T12:51:00.274Z"
   },
   {
    "duration": 0,
    "start_time": "2022-09-11T12:51:00.275Z"
   },
   {
    "duration": 0,
    "start_time": "2022-09-11T12:51:00.306Z"
   },
   {
    "duration": 0,
    "start_time": "2022-09-11T12:51:00.308Z"
   },
   {
    "duration": 0,
    "start_time": "2022-09-11T12:51:00.309Z"
   },
   {
    "duration": 0,
    "start_time": "2022-09-11T12:51:00.309Z"
   },
   {
    "duration": 0,
    "start_time": "2022-09-11T12:51:00.311Z"
   },
   {
    "duration": 0,
    "start_time": "2022-09-11T12:51:00.311Z"
   },
   {
    "duration": 0,
    "start_time": "2022-09-11T12:51:00.312Z"
   },
   {
    "duration": 0,
    "start_time": "2022-09-11T12:51:00.314Z"
   },
   {
    "duration": 0,
    "start_time": "2022-09-11T12:51:00.314Z"
   },
   {
    "duration": 0,
    "start_time": "2022-09-11T12:51:00.315Z"
   },
   {
    "duration": 0,
    "start_time": "2022-09-11T12:51:00.316Z"
   },
   {
    "duration": 0,
    "start_time": "2022-09-11T12:51:00.317Z"
   },
   {
    "duration": 0,
    "start_time": "2022-09-11T12:51:00.318Z"
   },
   {
    "duration": 0,
    "start_time": "2022-09-11T12:51:00.319Z"
   },
   {
    "duration": 0,
    "start_time": "2022-09-11T12:51:00.320Z"
   },
   {
    "duration": 0,
    "start_time": "2022-09-11T12:51:00.321Z"
   },
   {
    "duration": 0,
    "start_time": "2022-09-11T12:51:00.322Z"
   },
   {
    "duration": 0,
    "start_time": "2022-09-11T12:51:00.322Z"
   },
   {
    "duration": 0,
    "start_time": "2022-09-11T12:51:00.324Z"
   },
   {
    "duration": 0,
    "start_time": "2022-09-11T12:51:00.325Z"
   },
   {
    "duration": 0,
    "start_time": "2022-09-11T12:51:00.326Z"
   },
   {
    "duration": 0,
    "start_time": "2022-09-11T12:51:00.327Z"
   },
   {
    "duration": 0,
    "start_time": "2022-09-11T12:51:00.328Z"
   },
   {
    "duration": 0,
    "start_time": "2022-09-11T12:51:00.329Z"
   },
   {
    "duration": 0,
    "start_time": "2022-09-11T12:51:00.330Z"
   },
   {
    "duration": 0,
    "start_time": "2022-09-11T12:51:00.331Z"
   },
   {
    "duration": 0,
    "start_time": "2022-09-11T12:51:00.332Z"
   },
   {
    "duration": 0,
    "start_time": "2022-09-11T12:51:00.333Z"
   },
   {
    "duration": 0,
    "start_time": "2022-09-11T12:51:00.334Z"
   },
   {
    "duration": 0,
    "start_time": "2022-09-11T12:51:00.334Z"
   },
   {
    "duration": 0,
    "start_time": "2022-09-11T12:51:00.335Z"
   },
   {
    "duration": 0,
    "start_time": "2022-09-11T12:51:00.336Z"
   },
   {
    "duration": 0,
    "start_time": "2022-09-11T12:51:00.337Z"
   },
   {
    "duration": 0,
    "start_time": "2022-09-11T12:51:00.338Z"
   },
   {
    "duration": 0,
    "start_time": "2022-09-11T12:51:00.340Z"
   },
   {
    "duration": 2630,
    "start_time": "2022-09-11T12:52:24.622Z"
   },
   {
    "duration": 7,
    "start_time": "2022-09-11T12:52:27.254Z"
   },
   {
    "duration": 308,
    "start_time": "2022-09-11T12:52:31.922Z"
   },
   {
    "duration": 120,
    "start_time": "2022-09-11T12:52:32.232Z"
   },
   {
    "duration": 15,
    "start_time": "2022-09-11T12:53:19.880Z"
   },
   {
    "duration": 10,
    "start_time": "2022-09-11T12:53:20.158Z"
   },
   {
    "duration": 8,
    "start_time": "2022-09-11T12:53:24.776Z"
   },
   {
    "duration": 16,
    "start_time": "2022-09-11T12:55:00.974Z"
   },
   {
    "duration": 6,
    "start_time": "2022-09-11T12:56:00.634Z"
   },
   {
    "duration": 15,
    "start_time": "2022-09-11T12:56:10.640Z"
   },
   {
    "duration": 9,
    "start_time": "2022-09-11T12:56:13.574Z"
   },
   {
    "duration": 8,
    "start_time": "2022-09-11T12:56:35.737Z"
   },
   {
    "duration": 4,
    "start_time": "2022-09-11T12:56:47.958Z"
   },
   {
    "duration": 5,
    "start_time": "2022-09-11T12:56:51.274Z"
   },
   {
    "duration": 6,
    "start_time": "2022-09-11T12:57:26.306Z"
   },
   {
    "duration": 9,
    "start_time": "2022-09-11T12:58:56.724Z"
   },
   {
    "duration": 8,
    "start_time": "2022-09-11T12:59:08.580Z"
   },
   {
    "duration": 9,
    "start_time": "2022-09-11T12:59:30.406Z"
   },
   {
    "duration": 8,
    "start_time": "2022-09-11T12:59:37.505Z"
   },
   {
    "duration": 9,
    "start_time": "2022-09-11T12:59:48.010Z"
   },
   {
    "duration": 9,
    "start_time": "2022-09-11T12:59:55.196Z"
   },
   {
    "duration": 8,
    "start_time": "2022-09-11T12:59:57.895Z"
   },
   {
    "duration": 8,
    "start_time": "2022-09-11T13:00:08.358Z"
   },
   {
    "duration": 15,
    "start_time": "2022-09-11T13:02:18.831Z"
   },
   {
    "duration": 1836,
    "start_time": "2022-09-11T13:02:25.526Z"
   },
   {
    "duration": 1014,
    "start_time": "2022-09-11T13:02:27.364Z"
   },
   {
    "duration": 117,
    "start_time": "2022-09-11T13:02:28.379Z"
   },
   {
    "duration": 73,
    "start_time": "2022-09-11T13:02:28.497Z"
   },
   {
    "duration": 13,
    "start_time": "2022-09-11T13:02:28.572Z"
   },
   {
    "duration": 9,
    "start_time": "2022-09-11T13:02:28.587Z"
   },
   {
    "duration": 9,
    "start_time": "2022-09-11T13:02:28.598Z"
   },
   {
    "duration": 17,
    "start_time": "2022-09-11T13:02:28.609Z"
   },
   {
    "duration": 7,
    "start_time": "2022-09-11T13:02:28.627Z"
   },
   {
    "duration": 9,
    "start_time": "2022-09-11T13:02:28.637Z"
   },
   {
    "duration": 26,
    "start_time": "2022-09-11T13:02:28.647Z"
   },
   {
    "duration": 36,
    "start_time": "2022-09-11T13:02:28.675Z"
   },
   {
    "duration": 8,
    "start_time": "2022-09-11T13:02:28.713Z"
   },
   {
    "duration": 12,
    "start_time": "2022-09-11T13:02:28.723Z"
   },
   {
    "duration": 5,
    "start_time": "2022-09-11T13:02:28.736Z"
   },
   {
    "duration": 6,
    "start_time": "2022-09-11T13:02:28.742Z"
   },
   {
    "duration": 11,
    "start_time": "2022-09-11T13:02:28.750Z"
   },
   {
    "duration": 77,
    "start_time": "2022-09-11T13:02:28.763Z"
   },
   {
    "duration": 658,
    "start_time": "2022-09-11T13:02:28.842Z"
   },
   {
    "duration": 30,
    "start_time": "2022-09-11T13:02:29.502Z"
   },
   {
    "duration": 19,
    "start_time": "2022-09-11T13:02:29.533Z"
   },
   {
    "duration": 12,
    "start_time": "2022-09-11T13:02:29.554Z"
   },
   {
    "duration": 20,
    "start_time": "2022-09-11T13:02:29.568Z"
   },
   {
    "duration": 19,
    "start_time": "2022-09-11T13:02:29.589Z"
   },
   {
    "duration": 6,
    "start_time": "2022-09-11T13:02:29.609Z"
   },
   {
    "duration": 5,
    "start_time": "2022-09-11T13:02:29.617Z"
   },
   {
    "duration": 16,
    "start_time": "2022-09-11T13:02:29.623Z"
   },
   {
    "duration": 12,
    "start_time": "2022-09-11T13:02:29.642Z"
   },
   {
    "duration": 11,
    "start_time": "2022-09-11T13:02:29.655Z"
   },
   {
    "duration": 13,
    "start_time": "2022-09-11T13:02:29.668Z"
   },
   {
    "duration": 3,
    "start_time": "2022-09-11T13:02:29.707Z"
   },
   {
    "duration": 38,
    "start_time": "2022-09-11T13:02:29.712Z"
   },
   {
    "duration": 7,
    "start_time": "2022-09-11T13:02:29.751Z"
   },
   {
    "duration": 13,
    "start_time": "2022-09-11T13:02:29.760Z"
   },
   {
    "duration": 5,
    "start_time": "2022-09-11T13:02:29.775Z"
   },
   {
    "duration": 36,
    "start_time": "2022-09-11T13:02:29.781Z"
   },
   {
    "duration": 16,
    "start_time": "2022-09-11T13:02:29.818Z"
   },
   {
    "duration": 14,
    "start_time": "2022-09-11T13:02:29.836Z"
   },
   {
    "duration": 6,
    "start_time": "2022-09-11T13:02:29.852Z"
   },
   {
    "duration": 150,
    "start_time": "2022-09-11T13:02:29.859Z"
   },
   {
    "duration": 9,
    "start_time": "2022-09-11T13:02:30.010Z"
   },
   {
    "duration": 149,
    "start_time": "2022-09-11T13:02:30.021Z"
   },
   {
    "duration": 17,
    "start_time": "2022-09-11T13:02:30.172Z"
   },
   {
    "duration": 172,
    "start_time": "2022-09-11T13:02:30.191Z"
   },
   {
    "duration": 5,
    "start_time": "2022-09-11T13:02:30.365Z"
   },
   {
    "duration": 25,
    "start_time": "2022-09-11T13:02:30.372Z"
   },
   {
    "duration": 30,
    "start_time": "2022-09-11T13:02:30.399Z"
   },
   {
    "duration": 218,
    "start_time": "2022-09-11T13:02:30.431Z"
   },
   {
    "duration": 190,
    "start_time": "2022-09-11T13:02:30.651Z"
   },
   {
    "duration": 27,
    "start_time": "2022-09-11T13:02:30.843Z"
   },
   {
    "duration": 12,
    "start_time": "2022-09-11T13:02:30.871Z"
   },
   {
    "duration": 96,
    "start_time": "2022-09-11T13:02:30.884Z"
   },
   {
    "duration": 170,
    "start_time": "2022-09-11T13:02:30.981Z"
   },
   {
    "duration": 178,
    "start_time": "2022-09-11T13:02:31.152Z"
   },
   {
    "duration": 242,
    "start_time": "2022-09-11T13:02:31.332Z"
   },
   {
    "duration": 18,
    "start_time": "2022-09-11T13:02:31.576Z"
   },
   {
    "duration": 47,
    "start_time": "2022-09-11T13:02:31.595Z"
   },
   {
    "duration": 4,
    "start_time": "2022-09-11T13:03:24.226Z"
   },
   {
    "duration": 5,
    "start_time": "2022-09-11T13:05:14.325Z"
   },
   {
    "duration": 25,
    "start_time": "2022-09-11T13:30:38.392Z"
   },
   {
    "duration": 6,
    "start_time": "2022-09-11T13:31:29.544Z"
   },
   {
    "duration": 30,
    "start_time": "2022-09-11T13:31:33.492Z"
   },
   {
    "duration": 13,
    "start_time": "2022-09-11T13:34:25.421Z"
   },
   {
    "duration": 122,
    "start_time": "2022-09-11T13:36:07.798Z"
   },
   {
    "duration": 128,
    "start_time": "2022-09-11T13:36:10.442Z"
   },
   {
    "duration": 19,
    "start_time": "2022-09-11T13:40:33.239Z"
   },
   {
    "duration": 79,
    "start_time": "2022-09-11T13:42:56.831Z"
   },
   {
    "duration": 5,
    "start_time": "2022-09-11T13:52:28.984Z"
   },
   {
    "duration": 179,
    "start_time": "2022-09-11T13:52:29.725Z"
   },
   {
    "duration": 5,
    "start_time": "2022-09-11T13:52:42.317Z"
   },
   {
    "duration": 150,
    "start_time": "2022-09-11T13:52:42.637Z"
   },
   {
    "duration": 2756,
    "start_time": "2022-09-11T14:26:22.688Z"
   },
   {
    "duration": 1252,
    "start_time": "2022-09-11T14:26:25.446Z"
   },
   {
    "duration": 206,
    "start_time": "2022-09-11T14:26:26.700Z"
   },
   {
    "duration": 91,
    "start_time": "2022-09-11T14:26:26.907Z"
   },
   {
    "duration": 15,
    "start_time": "2022-09-11T14:26:27.000Z"
   },
   {
    "duration": 9,
    "start_time": "2022-09-11T14:26:27.016Z"
   },
   {
    "duration": 10,
    "start_time": "2022-09-11T14:26:27.027Z"
   },
   {
    "duration": 8,
    "start_time": "2022-09-11T14:26:27.039Z"
   },
   {
    "duration": 9,
    "start_time": "2022-09-11T14:26:27.049Z"
   },
   {
    "duration": 15,
    "start_time": "2022-09-11T14:26:27.059Z"
   },
   {
    "duration": 55,
    "start_time": "2022-09-11T14:26:27.076Z"
   },
   {
    "duration": 17,
    "start_time": "2022-09-11T14:26:27.133Z"
   },
   {
    "duration": 15,
    "start_time": "2022-09-11T14:26:27.152Z"
   },
   {
    "duration": 22,
    "start_time": "2022-09-11T14:26:27.170Z"
   },
   {
    "duration": 7,
    "start_time": "2022-09-11T14:26:27.194Z"
   },
   {
    "duration": 4,
    "start_time": "2022-09-11T14:26:27.222Z"
   },
   {
    "duration": 17,
    "start_time": "2022-09-11T14:26:27.228Z"
   },
   {
    "duration": 50,
    "start_time": "2022-09-11T14:26:27.247Z"
   },
   {
    "duration": 717,
    "start_time": "2022-09-11T14:26:27.298Z"
   },
   {
    "duration": 37,
    "start_time": "2022-09-11T14:26:28.022Z"
   },
   {
    "duration": 21,
    "start_time": "2022-09-11T14:26:28.061Z"
   },
   {
    "duration": 44,
    "start_time": "2022-09-11T14:26:28.083Z"
   },
   {
    "duration": 21,
    "start_time": "2022-09-11T14:26:28.129Z"
   },
   {
    "duration": 4,
    "start_time": "2022-09-11T14:26:28.152Z"
   },
   {
    "duration": 10,
    "start_time": "2022-09-11T14:26:28.158Z"
   },
   {
    "duration": 10,
    "start_time": "2022-09-11T14:26:28.170Z"
   },
   {
    "duration": 42,
    "start_time": "2022-09-11T14:26:28.181Z"
   },
   {
    "duration": 17,
    "start_time": "2022-09-11T14:26:28.225Z"
   },
   {
    "duration": 12,
    "start_time": "2022-09-11T14:26:28.244Z"
   },
   {
    "duration": 10,
    "start_time": "2022-09-11T14:26:28.258Z"
   },
   {
    "duration": 21,
    "start_time": "2022-09-11T14:26:28.270Z"
   },
   {
    "duration": 4,
    "start_time": "2022-09-11T14:26:28.321Z"
   },
   {
    "duration": 41,
    "start_time": "2022-09-11T14:26:28.327Z"
   },
   {
    "duration": 4,
    "start_time": "2022-09-11T14:26:28.370Z"
   },
   {
    "duration": 12,
    "start_time": "2022-09-11T14:26:28.376Z"
   },
   {
    "duration": 4,
    "start_time": "2022-09-11T14:26:28.390Z"
   },
   {
    "duration": 27,
    "start_time": "2022-09-11T14:26:28.421Z"
   },
   {
    "duration": 19,
    "start_time": "2022-09-11T14:26:28.449Z"
   },
   {
    "duration": 15,
    "start_time": "2022-09-11T14:26:28.469Z"
   },
   {
    "duration": 43,
    "start_time": "2022-09-11T14:26:28.485Z"
   },
   {
    "duration": 7,
    "start_time": "2022-09-11T14:26:28.532Z"
   },
   {
    "duration": 159,
    "start_time": "2022-09-11T14:26:28.540Z"
   },
   {
    "duration": 21,
    "start_time": "2022-09-11T14:26:28.701Z"
   },
   {
    "duration": 138,
    "start_time": "2022-09-11T14:26:28.724Z"
   },
   {
    "duration": 23,
    "start_time": "2022-09-11T14:26:28.863Z"
   },
   {
    "duration": 221,
    "start_time": "2022-09-11T14:26:28.888Z"
   },
   {
    "duration": 14,
    "start_time": "2022-09-11T14:26:29.110Z"
   },
   {
    "duration": 6,
    "start_time": "2022-09-11T14:26:29.125Z"
   },
   {
    "duration": 17,
    "start_time": "2022-09-11T14:26:29.132Z"
   },
   {
    "duration": 241,
    "start_time": "2022-09-11T14:26:29.150Z"
   },
   {
    "duration": 183,
    "start_time": "2022-09-11T14:26:29.392Z"
   },
   {
    "duration": 25,
    "start_time": "2022-09-11T14:26:29.576Z"
   },
   {
    "duration": 29,
    "start_time": "2022-09-11T14:26:29.602Z"
   },
   {
    "duration": 68,
    "start_time": "2022-09-11T14:26:29.633Z"
   },
   {
    "duration": 163,
    "start_time": "2022-09-11T14:26:29.722Z"
   },
   {
    "duration": 188,
    "start_time": "2022-09-11T14:26:29.886Z"
   },
   {
    "duration": 268,
    "start_time": "2022-09-11T14:26:30.076Z"
   },
   {
    "duration": 18,
    "start_time": "2022-09-11T14:26:30.346Z"
   },
   {
    "duration": 56,
    "start_time": "2022-09-11T14:26:30.366Z"
   },
   {
    "duration": 2012,
    "start_time": "2022-09-11T14:26:42.788Z"
   },
   {
    "duration": 4,
    "start_time": "2022-09-11T14:26:44.802Z"
   },
   {
    "duration": 111,
    "start_time": "2022-09-11T14:26:44.807Z"
   },
   {
    "duration": 62,
    "start_time": "2022-09-11T14:26:44.920Z"
   },
   {
    "duration": 15,
    "start_time": "2022-09-11T14:26:44.983Z"
   },
   {
    "duration": 9,
    "start_time": "2022-09-11T14:26:45.000Z"
   },
   {
    "duration": 15,
    "start_time": "2022-09-11T14:26:45.010Z"
   },
   {
    "duration": 12,
    "start_time": "2022-09-11T14:26:45.027Z"
   },
   {
    "duration": 8,
    "start_time": "2022-09-11T14:26:45.041Z"
   },
   {
    "duration": 20,
    "start_time": "2022-09-11T14:26:45.051Z"
   },
   {
    "duration": 50,
    "start_time": "2022-09-11T14:26:45.073Z"
   },
   {
    "duration": 14,
    "start_time": "2022-09-11T14:26:45.125Z"
   },
   {
    "duration": 16,
    "start_time": "2022-09-11T14:26:45.141Z"
   },
   {
    "duration": 13,
    "start_time": "2022-09-11T14:26:45.159Z"
   },
   {
    "duration": 7,
    "start_time": "2022-09-11T14:26:45.174Z"
   },
   {
    "duration": 40,
    "start_time": "2022-09-11T14:26:45.183Z"
   },
   {
    "duration": 11,
    "start_time": "2022-09-11T14:26:45.225Z"
   },
   {
    "duration": 24,
    "start_time": "2022-09-11T14:26:45.238Z"
   },
   {
    "duration": 700,
    "start_time": "2022-09-11T14:26:45.264Z"
   },
   {
    "duration": 26,
    "start_time": "2022-09-11T14:26:45.966Z"
   },
   {
    "duration": 42,
    "start_time": "2022-09-11T14:26:45.993Z"
   },
   {
    "duration": 14,
    "start_time": "2022-09-11T14:26:46.037Z"
   },
   {
    "duration": 19,
    "start_time": "2022-09-11T14:26:46.052Z"
   },
   {
    "duration": 3,
    "start_time": "2022-09-11T14:26:46.072Z"
   },
   {
    "duration": 7,
    "start_time": "2022-09-11T14:26:46.077Z"
   },
   {
    "duration": 36,
    "start_time": "2022-09-11T14:26:46.086Z"
   },
   {
    "duration": 7,
    "start_time": "2022-09-11T14:26:46.123Z"
   },
   {
    "duration": 13,
    "start_time": "2022-09-11T14:26:46.135Z"
   },
   {
    "duration": 10,
    "start_time": "2022-09-11T14:26:46.149Z"
   },
   {
    "duration": 11,
    "start_time": "2022-09-11T14:26:46.161Z"
   },
   {
    "duration": 56,
    "start_time": "2022-09-11T14:26:46.173Z"
   },
   {
    "duration": 4,
    "start_time": "2022-09-11T14:26:46.230Z"
   },
   {
    "duration": 32,
    "start_time": "2022-09-11T14:26:46.236Z"
   },
   {
    "duration": 5,
    "start_time": "2022-09-11T14:26:46.270Z"
   },
   {
    "duration": 13,
    "start_time": "2022-09-11T14:26:46.276Z"
   },
   {
    "duration": 34,
    "start_time": "2022-09-11T14:26:46.290Z"
   },
   {
    "duration": 23,
    "start_time": "2022-09-11T14:26:46.326Z"
   },
   {
    "duration": 17,
    "start_time": "2022-09-11T14:26:46.350Z"
   },
   {
    "duration": 14,
    "start_time": "2022-09-11T14:26:46.369Z"
   },
   {
    "duration": 44,
    "start_time": "2022-09-11T14:26:46.384Z"
   },
   {
    "duration": 7,
    "start_time": "2022-09-11T14:26:46.430Z"
   },
   {
    "duration": 153,
    "start_time": "2022-09-11T14:26:46.439Z"
   },
   {
    "duration": 10,
    "start_time": "2022-09-11T14:26:46.593Z"
   },
   {
    "duration": 144,
    "start_time": "2022-09-11T14:26:46.604Z"
   },
   {
    "duration": 17,
    "start_time": "2022-09-11T14:26:46.750Z"
   },
   {
    "duration": 179,
    "start_time": "2022-09-11T14:26:46.769Z"
   },
   {
    "duration": 5,
    "start_time": "2022-09-11T14:26:46.949Z"
   },
   {
    "duration": 10,
    "start_time": "2022-09-11T14:26:46.956Z"
   },
   {
    "duration": 18,
    "start_time": "2022-09-11T14:26:46.967Z"
   },
   {
    "duration": 247,
    "start_time": "2022-09-11T14:26:46.986Z"
   },
   {
    "duration": 187,
    "start_time": "2022-09-11T14:26:47.235Z"
   },
   {
    "duration": 27,
    "start_time": "2022-09-11T14:26:47.423Z"
   },
   {
    "duration": 14,
    "start_time": "2022-09-11T14:26:47.452Z"
   },
   {
    "duration": 135,
    "start_time": "2022-09-11T14:26:47.468Z"
   },
   {
    "duration": 172,
    "start_time": "2022-09-11T14:26:47.605Z"
   },
   {
    "duration": 202,
    "start_time": "2022-09-11T14:26:47.779Z"
   },
   {
    "duration": 256,
    "start_time": "2022-09-11T14:26:47.983Z"
   },
   {
    "duration": 19,
    "start_time": "2022-09-11T14:26:48.245Z"
   },
   {
    "duration": 30,
    "start_time": "2022-09-11T14:26:48.266Z"
   },
   {
    "duration": 5,
    "start_time": "2022-09-11T14:28:01.740Z"
   },
   {
    "duration": 1988,
    "start_time": "2022-09-11T14:29:06.020Z"
   },
   {
    "duration": 3,
    "start_time": "2022-09-11T14:29:08.011Z"
   },
   {
    "duration": 129,
    "start_time": "2022-09-11T14:29:08.015Z"
   },
   {
    "duration": 60,
    "start_time": "2022-09-11T14:29:08.146Z"
   },
   {
    "duration": 15,
    "start_time": "2022-09-11T14:29:08.208Z"
   },
   {
    "duration": 12,
    "start_time": "2022-09-11T14:29:08.224Z"
   },
   {
    "duration": 37,
    "start_time": "2022-09-11T14:29:08.237Z"
   },
   {
    "duration": 34,
    "start_time": "2022-09-11T14:29:08.275Z"
   },
   {
    "duration": 21,
    "start_time": "2022-09-11T14:29:08.311Z"
   },
   {
    "duration": 25,
    "start_time": "2022-09-11T14:29:08.334Z"
   },
   {
    "duration": 26,
    "start_time": "2022-09-11T14:29:08.361Z"
   },
   {
    "duration": 14,
    "start_time": "2022-09-11T14:29:08.389Z"
   },
   {
    "duration": 32,
    "start_time": "2022-09-11T14:29:08.404Z"
   },
   {
    "duration": 26,
    "start_time": "2022-09-11T14:29:08.437Z"
   },
   {
    "duration": 27,
    "start_time": "2022-09-11T14:29:08.464Z"
   },
   {
    "duration": 12,
    "start_time": "2022-09-11T14:29:08.493Z"
   },
   {
    "duration": 26,
    "start_time": "2022-09-11T14:29:08.507Z"
   },
   {
    "duration": 37,
    "start_time": "2022-09-11T14:29:08.534Z"
   },
   {
    "duration": 709,
    "start_time": "2022-09-11T14:29:08.573Z"
   },
   {
    "duration": 25,
    "start_time": "2022-09-11T14:29:09.283Z"
   },
   {
    "duration": 18,
    "start_time": "2022-09-11T14:29:09.321Z"
   },
   {
    "duration": 15,
    "start_time": "2022-09-11T14:29:09.341Z"
   },
   {
    "duration": 49,
    "start_time": "2022-09-11T14:29:09.358Z"
   },
   {
    "duration": 3,
    "start_time": "2022-09-11T14:29:09.409Z"
   },
   {
    "duration": 21,
    "start_time": "2022-09-11T14:29:09.413Z"
   },
   {
    "duration": 6,
    "start_time": "2022-09-11T14:29:09.435Z"
   },
   {
    "duration": 18,
    "start_time": "2022-09-11T14:29:09.443Z"
   },
   {
    "duration": 39,
    "start_time": "2022-09-11T14:29:09.464Z"
   },
   {
    "duration": 16,
    "start_time": "2022-09-11T14:29:09.505Z"
   },
   {
    "duration": 27,
    "start_time": "2022-09-11T14:29:09.523Z"
   },
   {
    "duration": 33,
    "start_time": "2022-09-11T14:29:09.553Z"
   },
   {
    "duration": 16,
    "start_time": "2022-09-11T14:29:09.588Z"
   },
   {
    "duration": 55,
    "start_time": "2022-09-11T14:29:09.605Z"
   },
   {
    "duration": 7,
    "start_time": "2022-09-11T14:29:09.662Z"
   },
   {
    "duration": 17,
    "start_time": "2022-09-11T14:29:09.670Z"
   },
   {
    "duration": 7,
    "start_time": "2022-09-11T14:29:09.689Z"
   },
   {
    "duration": 36,
    "start_time": "2022-09-11T14:29:09.698Z"
   },
   {
    "duration": 20,
    "start_time": "2022-09-11T14:29:09.736Z"
   },
   {
    "duration": 18,
    "start_time": "2022-09-11T14:29:09.757Z"
   },
   {
    "duration": 14,
    "start_time": "2022-09-11T14:29:09.776Z"
   },
   {
    "duration": 8,
    "start_time": "2022-09-11T14:29:09.822Z"
   },
   {
    "duration": 215,
    "start_time": "2022-09-11T14:29:09.831Z"
   },
   {
    "duration": 0,
    "start_time": "2022-09-11T14:29:10.048Z"
   },
   {
    "duration": 0,
    "start_time": "2022-09-11T14:29:10.049Z"
   },
   {
    "duration": 0,
    "start_time": "2022-09-11T14:29:10.051Z"
   },
   {
    "duration": 0,
    "start_time": "2022-09-11T14:29:10.052Z"
   },
   {
    "duration": 0,
    "start_time": "2022-09-11T14:29:10.053Z"
   },
   {
    "duration": 0,
    "start_time": "2022-09-11T14:29:10.054Z"
   },
   {
    "duration": 0,
    "start_time": "2022-09-11T14:29:10.055Z"
   },
   {
    "duration": 0,
    "start_time": "2022-09-11T14:29:10.056Z"
   },
   {
    "duration": 0,
    "start_time": "2022-09-11T14:29:10.057Z"
   },
   {
    "duration": 0,
    "start_time": "2022-09-11T14:29:10.058Z"
   },
   {
    "duration": 0,
    "start_time": "2022-09-11T14:29:10.059Z"
   },
   {
    "duration": 0,
    "start_time": "2022-09-11T14:29:10.060Z"
   },
   {
    "duration": 0,
    "start_time": "2022-09-11T14:29:10.061Z"
   },
   {
    "duration": 0,
    "start_time": "2022-09-11T14:29:10.062Z"
   },
   {
    "duration": 0,
    "start_time": "2022-09-11T14:29:10.064Z"
   },
   {
    "duration": 0,
    "start_time": "2022-09-11T14:29:10.064Z"
   },
   {
    "duration": 0,
    "start_time": "2022-09-11T14:29:10.065Z"
   },
   {
    "duration": 2050,
    "start_time": "2022-09-11T14:30:48.662Z"
   },
   {
    "duration": 3,
    "start_time": "2022-09-11T14:30:50.715Z"
   },
   {
    "duration": 110,
    "start_time": "2022-09-11T14:30:50.720Z"
   },
   {
    "duration": 62,
    "start_time": "2022-09-11T14:30:50.832Z"
   },
   {
    "duration": 16,
    "start_time": "2022-09-11T14:30:50.896Z"
   },
   {
    "duration": 10,
    "start_time": "2022-09-11T14:30:50.914Z"
   },
   {
    "duration": 10,
    "start_time": "2022-09-11T14:30:50.925Z"
   },
   {
    "duration": 11,
    "start_time": "2022-09-11T14:30:50.936Z"
   },
   {
    "duration": 12,
    "start_time": "2022-09-11T14:30:50.949Z"
   },
   {
    "duration": 15,
    "start_time": "2022-09-11T14:30:50.963Z"
   },
   {
    "duration": 48,
    "start_time": "2022-09-11T14:30:50.979Z"
   },
   {
    "duration": 14,
    "start_time": "2022-09-11T14:30:51.028Z"
   },
   {
    "duration": 12,
    "start_time": "2022-09-11T14:30:51.044Z"
   },
   {
    "duration": 17,
    "start_time": "2022-09-11T14:30:51.057Z"
   },
   {
    "duration": 8,
    "start_time": "2022-09-11T14:30:51.076Z"
   },
   {
    "duration": 11,
    "start_time": "2022-09-11T14:30:51.086Z"
   },
   {
    "duration": 15,
    "start_time": "2022-09-11T14:30:51.123Z"
   },
   {
    "duration": 18,
    "start_time": "2022-09-11T14:30:51.140Z"
   },
   {
    "duration": 703,
    "start_time": "2022-09-11T14:30:51.160Z"
   },
   {
    "duration": 24,
    "start_time": "2022-09-11T14:30:51.865Z"
   },
   {
    "duration": 37,
    "start_time": "2022-09-11T14:30:51.891Z"
   },
   {
    "duration": 42,
    "start_time": "2022-09-11T14:30:51.929Z"
   },
   {
    "duration": 63,
    "start_time": "2022-09-11T14:30:51.974Z"
   },
   {
    "duration": 6,
    "start_time": "2022-09-11T14:30:52.039Z"
   },
   {
    "duration": 19,
    "start_time": "2022-09-11T14:30:52.047Z"
   },
   {
    "duration": 23,
    "start_time": "2022-09-11T14:30:52.068Z"
   },
   {
    "duration": 37,
    "start_time": "2022-09-11T14:30:52.093Z"
   },
   {
    "duration": 48,
    "start_time": "2022-09-11T14:30:52.135Z"
   },
   {
    "duration": 23,
    "start_time": "2022-09-11T14:30:52.185Z"
   },
   {
    "duration": 42,
    "start_time": "2022-09-11T14:30:52.210Z"
   },
   {
    "duration": 40,
    "start_time": "2022-09-11T14:30:52.253Z"
   },
   {
    "duration": 6,
    "start_time": "2022-09-11T14:30:52.294Z"
   },
   {
    "duration": 48,
    "start_time": "2022-09-11T14:30:52.301Z"
   },
   {
    "duration": 13,
    "start_time": "2022-09-11T14:30:52.351Z"
   },
   {
    "duration": 32,
    "start_time": "2022-09-11T14:30:52.366Z"
   },
   {
    "duration": 21,
    "start_time": "2022-09-11T14:30:52.400Z"
   },
   {
    "duration": 38,
    "start_time": "2022-09-11T14:30:52.423Z"
   },
   {
    "duration": 33,
    "start_time": "2022-09-11T14:30:52.462Z"
   },
   {
    "duration": 29,
    "start_time": "2022-09-11T14:30:52.497Z"
   },
   {
    "duration": 13,
    "start_time": "2022-09-11T14:30:52.528Z"
   },
   {
    "duration": 9,
    "start_time": "2022-09-11T14:30:52.543Z"
   },
   {
    "duration": 155,
    "start_time": "2022-09-11T14:30:52.554Z"
   },
   {
    "duration": 17,
    "start_time": "2022-09-11T14:30:52.712Z"
   },
   {
    "duration": 258,
    "start_time": "2022-09-11T14:30:52.731Z"
   },
   {
    "duration": 34,
    "start_time": "2022-09-11T14:30:52.991Z"
   },
   {
    "duration": 203,
    "start_time": "2022-09-11T14:30:53.027Z"
   },
   {
    "duration": 7,
    "start_time": "2022-09-11T14:30:53.231Z"
   },
   {
    "duration": 24,
    "start_time": "2022-09-11T14:30:53.240Z"
   },
   {
    "duration": 45,
    "start_time": "2022-09-11T14:30:53.265Z"
   },
   {
    "duration": 291,
    "start_time": "2022-09-11T14:30:53.312Z"
   },
   {
    "duration": 201,
    "start_time": "2022-09-11T14:30:53.605Z"
   },
   {
    "duration": 34,
    "start_time": "2022-09-11T14:30:53.808Z"
   },
   {
    "duration": 25,
    "start_time": "2022-09-11T14:30:53.844Z"
   },
   {
    "duration": 25,
    "start_time": "2022-09-11T14:30:53.871Z"
   },
   {
    "duration": 173,
    "start_time": "2022-09-11T14:30:53.897Z"
   },
   {
    "duration": 193,
    "start_time": "2022-09-11T14:30:54.072Z"
   },
   {
    "duration": 277,
    "start_time": "2022-09-11T14:30:54.267Z"
   },
   {
    "duration": 18,
    "start_time": "2022-09-11T14:30:54.546Z"
   },
   {
    "duration": 59,
    "start_time": "2022-09-11T14:30:54.566Z"
   },
   {
    "duration": 1658,
    "start_time": "2022-09-11T14:37:36.146Z"
   },
   {
    "duration": 1482,
    "start_time": "2022-09-11T14:37:56.483Z"
   },
   {
    "duration": 1567,
    "start_time": "2022-09-11T14:38:13.135Z"
   },
   {
    "duration": 7,
    "start_time": "2022-09-11T14:43:24.643Z"
   },
   {
    "duration": 6,
    "start_time": "2022-09-11T14:43:59.050Z"
   },
   {
    "duration": 934,
    "start_time": "2022-09-11T14:43:59.693Z"
   },
   {
    "duration": 5,
    "start_time": "2022-09-11T14:45:20.131Z"
   },
   {
    "duration": 30,
    "start_time": "2022-09-11T14:46:43.105Z"
   },
   {
    "duration": 22,
    "start_time": "2022-09-11T14:49:05.474Z"
   },
   {
    "duration": 52,
    "start_time": "2022-09-11T14:50:05.387Z"
   },
   {
    "duration": 6,
    "start_time": "2022-09-11T14:53:23.394Z"
   },
   {
    "duration": 5,
    "start_time": "2022-09-11T14:53:37.992Z"
   },
   {
    "duration": 5,
    "start_time": "2022-09-11T14:54:24.356Z"
   },
   {
    "duration": 13,
    "start_time": "2022-09-11T15:01:16.093Z"
   },
   {
    "duration": 5,
    "start_time": "2022-09-11T15:02:45.814Z"
   },
   {
    "duration": 19,
    "start_time": "2022-09-11T15:02:46.425Z"
   },
   {
    "duration": 21,
    "start_time": "2022-09-11T15:02:49.150Z"
   },
   {
    "duration": 13,
    "start_time": "2022-09-11T15:09:29.858Z"
   },
   {
    "duration": 14,
    "start_time": "2022-09-11T15:09:38.051Z"
   },
   {
    "duration": 124,
    "start_time": "2022-09-11T15:10:14.697Z"
   },
   {
    "duration": 143,
    "start_time": "2022-09-11T15:10:37.015Z"
   },
   {
    "duration": 131,
    "start_time": "2022-09-11T15:10:39.404Z"
   },
   {
    "duration": 121,
    "start_time": "2022-09-11T15:10:42.649Z"
   },
   {
    "duration": 163,
    "start_time": "2022-09-11T15:16:01.869Z"
   },
   {
    "duration": 50,
    "start_time": "2022-09-11T15:16:24.543Z"
   },
   {
    "duration": 23,
    "start_time": "2022-09-11T15:23:04.236Z"
   },
   {
    "duration": 16,
    "start_time": "2022-09-11T15:23:29.431Z"
   },
   {
    "duration": 25,
    "start_time": "2022-09-11T15:23:43.017Z"
   },
   {
    "duration": 19,
    "start_time": "2022-09-11T15:23:53.047Z"
   },
   {
    "duration": 14,
    "start_time": "2022-09-11T15:24:05.734Z"
   },
   {
    "duration": 150,
    "start_time": "2022-09-11T15:26:02.584Z"
   },
   {
    "duration": 51,
    "start_time": "2022-09-11T15:31:13.293Z"
   },
   {
    "duration": 222,
    "start_time": "2022-09-11T15:31:55.289Z"
   },
   {
    "duration": 48,
    "start_time": "2022-09-11T15:32:35.383Z"
   },
   {
    "duration": 25,
    "start_time": "2022-09-11T15:35:51.996Z"
   },
   {
    "duration": 152,
    "start_time": "2022-09-11T15:36:59.308Z"
   },
   {
    "duration": 157,
    "start_time": "2022-09-11T15:37:02.868Z"
   },
   {
    "duration": 205,
    "start_time": "2022-09-11T15:37:29.724Z"
   },
   {
    "duration": 6,
    "start_time": "2022-09-11T15:39:17.037Z"
   },
   {
    "duration": 170,
    "start_time": "2022-09-11T15:39:19.112Z"
   },
   {
    "duration": 202,
    "start_time": "2022-09-11T15:39:21.825Z"
   },
   {
    "duration": 175,
    "start_time": "2022-09-11T15:39:39.260Z"
   },
   {
    "duration": 1525,
    "start_time": "2022-09-11T15:39:53.136Z"
   },
   {
    "duration": 852,
    "start_time": "2022-09-11T15:40:15.144Z"
   },
   {
    "duration": 246,
    "start_time": "2022-09-11T15:40:30.450Z"
   },
   {
    "duration": 16,
    "start_time": "2022-09-11T15:42:56.513Z"
   },
   {
    "duration": 19,
    "start_time": "2022-09-11T15:43:05.847Z"
   },
   {
    "duration": 33,
    "start_time": "2022-09-11T15:43:08.630Z"
   },
   {
    "duration": 236,
    "start_time": "2022-09-11T15:52:23.828Z"
   },
   {
    "duration": 1141,
    "start_time": "2022-09-11T15:54:09.958Z"
   },
   {
    "duration": 1621,
    "start_time": "2022-09-11T15:54:16.225Z"
   },
   {
    "duration": 1623,
    "start_time": "2022-09-11T15:54:42.947Z"
   },
   {
    "duration": 433,
    "start_time": "2022-09-11T15:55:08.068Z"
   },
   {
    "duration": 2093,
    "start_time": "2022-09-11T15:57:00.085Z"
   },
   {
    "duration": 3,
    "start_time": "2022-09-11T15:57:02.180Z"
   },
   {
    "duration": 117,
    "start_time": "2022-09-11T15:57:02.185Z"
   },
   {
    "duration": 80,
    "start_time": "2022-09-11T15:57:02.304Z"
   },
   {
    "duration": 18,
    "start_time": "2022-09-11T15:57:02.385Z"
   },
   {
    "duration": 10,
    "start_time": "2022-09-11T15:57:02.405Z"
   },
   {
    "duration": 7,
    "start_time": "2022-09-11T15:57:02.417Z"
   },
   {
    "duration": 11,
    "start_time": "2022-09-11T15:57:02.426Z"
   },
   {
    "duration": 23,
    "start_time": "2022-09-11T15:57:02.438Z"
   },
   {
    "duration": 11,
    "start_time": "2022-09-11T15:57:02.464Z"
   },
   {
    "duration": 47,
    "start_time": "2022-09-11T15:57:02.477Z"
   },
   {
    "duration": 16,
    "start_time": "2022-09-11T15:57:02.526Z"
   },
   {
    "duration": 13,
    "start_time": "2022-09-11T15:57:02.544Z"
   },
   {
    "duration": 14,
    "start_time": "2022-09-11T15:57:02.558Z"
   },
   {
    "duration": 10,
    "start_time": "2022-09-11T15:57:02.573Z"
   },
   {
    "duration": 37,
    "start_time": "2022-09-11T15:57:02.585Z"
   },
   {
    "duration": 11,
    "start_time": "2022-09-11T15:57:02.624Z"
   },
   {
    "duration": 21,
    "start_time": "2022-09-11T15:57:02.636Z"
   },
   {
    "duration": 713,
    "start_time": "2022-09-11T15:57:02.659Z"
   },
   {
    "duration": 25,
    "start_time": "2022-09-11T15:57:03.373Z"
   },
   {
    "duration": 18,
    "start_time": "2022-09-11T15:57:03.422Z"
   },
   {
    "duration": 13,
    "start_time": "2022-09-11T15:57:03.442Z"
   },
   {
    "duration": 19,
    "start_time": "2022-09-11T15:57:03.457Z"
   },
   {
    "duration": 2,
    "start_time": "2022-09-11T15:57:03.478Z"
   },
   {
    "duration": 8,
    "start_time": "2022-09-11T15:57:03.482Z"
   },
   {
    "duration": 4,
    "start_time": "2022-09-11T15:57:03.522Z"
   },
   {
    "duration": 11,
    "start_time": "2022-09-11T15:57:03.528Z"
   },
   {
    "duration": 18,
    "start_time": "2022-09-11T15:57:03.543Z"
   },
   {
    "duration": 13,
    "start_time": "2022-09-11T15:57:03.563Z"
   },
   {
    "duration": 45,
    "start_time": "2022-09-11T15:57:03.578Z"
   },
   {
    "duration": 13,
    "start_time": "2022-09-11T15:57:03.625Z"
   },
   {
    "duration": 5,
    "start_time": "2022-09-11T15:57:03.640Z"
   },
   {
    "duration": 8,
    "start_time": "2022-09-11T15:57:03.647Z"
   },
   {
    "duration": 20,
    "start_time": "2022-09-11T15:57:03.657Z"
   },
   {
    "duration": 52,
    "start_time": "2022-09-11T15:57:03.679Z"
   },
   {
    "duration": 15,
    "start_time": "2022-09-11T15:57:03.733Z"
   },
   {
    "duration": 7,
    "start_time": "2022-09-11T15:57:03.750Z"
   },
   {
    "duration": 14,
    "start_time": "2022-09-11T15:57:03.759Z"
   },
   {
    "duration": 7,
    "start_time": "2022-09-11T15:57:03.775Z"
   },
   {
    "duration": 50,
    "start_time": "2022-09-11T15:57:03.784Z"
   },
   {
    "duration": 20,
    "start_time": "2022-09-11T15:57:03.835Z"
   },
   {
    "duration": 15,
    "start_time": "2022-09-11T15:57:03.856Z"
   },
   {
    "duration": 13,
    "start_time": "2022-09-11T15:57:03.872Z"
   },
   {
    "duration": 759,
    "start_time": "2022-09-11T15:57:03.886Z"
   },
   {
    "duration": 0,
    "start_time": "2022-09-11T15:57:04.647Z"
   },
   {
    "duration": 0,
    "start_time": "2022-09-11T15:57:04.648Z"
   },
   {
    "duration": 0,
    "start_time": "2022-09-11T15:57:04.649Z"
   },
   {
    "duration": 0,
    "start_time": "2022-09-11T15:57:04.650Z"
   },
   {
    "duration": 0,
    "start_time": "2022-09-11T15:57:04.651Z"
   },
   {
    "duration": 0,
    "start_time": "2022-09-11T15:57:04.652Z"
   },
   {
    "duration": 0,
    "start_time": "2022-09-11T15:57:04.654Z"
   },
   {
    "duration": 0,
    "start_time": "2022-09-11T15:57:04.655Z"
   },
   {
    "duration": 0,
    "start_time": "2022-09-11T15:57:04.657Z"
   },
   {
    "duration": 0,
    "start_time": "2022-09-11T15:57:04.658Z"
   },
   {
    "duration": 0,
    "start_time": "2022-09-11T15:57:04.659Z"
   },
   {
    "duration": 1,
    "start_time": "2022-09-11T15:57:04.660Z"
   },
   {
    "duration": 0,
    "start_time": "2022-09-11T15:57:04.662Z"
   },
   {
    "duration": 0,
    "start_time": "2022-09-11T15:57:04.663Z"
   },
   {
    "duration": 0,
    "start_time": "2022-09-11T15:57:04.664Z"
   },
   {
    "duration": 0,
    "start_time": "2022-09-11T15:57:04.666Z"
   },
   {
    "duration": 0,
    "start_time": "2022-09-11T15:57:04.667Z"
   },
   {
    "duration": 0,
    "start_time": "2022-09-11T15:57:04.668Z"
   },
   {
    "duration": 10,
    "start_time": "2022-09-11T16:00:24.069Z"
   },
   {
    "duration": 20,
    "start_time": "2022-09-11T16:00:29.799Z"
   },
   {
    "duration": 21,
    "start_time": "2022-09-11T16:00:30.429Z"
   },
   {
    "duration": 10868,
    "start_time": "2022-09-11T16:00:32.564Z"
   },
   {
    "duration": 0,
    "start_time": "2022-09-11T16:00:43.434Z"
   },
   {
    "duration": 2154,
    "start_time": "2022-09-11T16:00:44.934Z"
   },
   {
    "duration": 3,
    "start_time": "2022-09-11T16:00:47.090Z"
   },
   {
    "duration": 128,
    "start_time": "2022-09-11T16:00:47.095Z"
   },
   {
    "duration": 67,
    "start_time": "2022-09-11T16:00:47.225Z"
   },
   {
    "duration": 16,
    "start_time": "2022-09-11T16:00:47.294Z"
   },
   {
    "duration": 16,
    "start_time": "2022-09-11T16:00:47.311Z"
   },
   {
    "duration": 9,
    "start_time": "2022-09-11T16:00:47.328Z"
   },
   {
    "duration": 11,
    "start_time": "2022-09-11T16:00:47.338Z"
   },
   {
    "duration": 10,
    "start_time": "2022-09-11T16:00:47.350Z"
   },
   {
    "duration": 11,
    "start_time": "2022-09-11T16:00:47.363Z"
   },
   {
    "duration": 59,
    "start_time": "2022-09-11T16:00:47.375Z"
   },
   {
    "duration": 17,
    "start_time": "2022-09-11T16:00:47.435Z"
   },
   {
    "duration": 10,
    "start_time": "2022-09-11T16:00:47.454Z"
   },
   {
    "duration": 14,
    "start_time": "2022-09-11T16:00:47.466Z"
   },
   {
    "duration": 40,
    "start_time": "2022-09-11T16:00:47.482Z"
   },
   {
    "duration": 14,
    "start_time": "2022-09-11T16:00:47.524Z"
   },
   {
    "duration": 15,
    "start_time": "2022-09-11T16:00:47.539Z"
   },
   {
    "duration": 18,
    "start_time": "2022-09-11T16:00:47.555Z"
   },
   {
    "duration": 677,
    "start_time": "2022-09-11T16:00:47.575Z"
   },
   {
    "duration": 27,
    "start_time": "2022-09-11T16:00:48.253Z"
   },
   {
    "duration": 41,
    "start_time": "2022-09-11T16:00:48.282Z"
   },
   {
    "duration": 24,
    "start_time": "2022-09-11T16:00:48.325Z"
   },
   {
    "duration": 22,
    "start_time": "2022-09-11T16:00:48.351Z"
   },
   {
    "duration": 3,
    "start_time": "2022-09-11T16:00:48.375Z"
   },
   {
    "duration": 11,
    "start_time": "2022-09-11T16:00:48.379Z"
   },
   {
    "duration": 12,
    "start_time": "2022-09-11T16:00:48.392Z"
   },
   {
    "duration": 20,
    "start_time": "2022-09-11T16:00:48.405Z"
   },
   {
    "duration": 21,
    "start_time": "2022-09-11T16:00:48.430Z"
   },
   {
    "duration": 13,
    "start_time": "2022-09-11T16:00:48.452Z"
   },
   {
    "duration": 10,
    "start_time": "2022-09-11T16:00:48.467Z"
   },
   {
    "duration": 45,
    "start_time": "2022-09-11T16:00:48.479Z"
   },
   {
    "duration": 6,
    "start_time": "2022-09-11T16:00:48.526Z"
   },
   {
    "duration": 8,
    "start_time": "2022-09-11T16:00:48.533Z"
   },
   {
    "duration": 19,
    "start_time": "2022-09-11T16:00:48.542Z"
   },
   {
    "duration": 23,
    "start_time": "2022-09-11T16:00:48.562Z"
   },
   {
    "duration": 42,
    "start_time": "2022-09-11T16:00:48.587Z"
   },
   {
    "duration": 9,
    "start_time": "2022-09-11T16:00:48.631Z"
   },
   {
    "duration": 13,
    "start_time": "2022-09-11T16:00:48.642Z"
   },
   {
    "duration": 6,
    "start_time": "2022-09-11T16:00:48.657Z"
   },
   {
    "duration": 20,
    "start_time": "2022-09-11T16:00:48.664Z"
   },
   {
    "duration": 55,
    "start_time": "2022-09-11T16:00:48.686Z"
   },
   {
    "duration": 20,
    "start_time": "2022-09-11T16:00:48.744Z"
   },
   {
    "duration": 1250,
    "start_time": "2022-09-11T16:00:48.766Z"
   },
   {
    "duration": 0,
    "start_time": "2022-09-11T16:00:50.018Z"
   },
   {
    "duration": 0,
    "start_time": "2022-09-11T16:00:50.020Z"
   },
   {
    "duration": 0,
    "start_time": "2022-09-11T16:00:50.020Z"
   },
   {
    "duration": 0,
    "start_time": "2022-09-11T16:00:50.022Z"
   },
   {
    "duration": 0,
    "start_time": "2022-09-11T16:00:50.023Z"
   },
   {
    "duration": 0,
    "start_time": "2022-09-11T16:00:50.024Z"
   },
   {
    "duration": 0,
    "start_time": "2022-09-11T16:00:50.024Z"
   },
   {
    "duration": 0,
    "start_time": "2022-09-11T16:00:50.025Z"
   },
   {
    "duration": 0,
    "start_time": "2022-09-11T16:00:50.026Z"
   },
   {
    "duration": 0,
    "start_time": "2022-09-11T16:00:50.027Z"
   },
   {
    "duration": 0,
    "start_time": "2022-09-11T16:00:50.028Z"
   },
   {
    "duration": 0,
    "start_time": "2022-09-11T16:00:50.029Z"
   },
   {
    "duration": 0,
    "start_time": "2022-09-11T16:00:50.030Z"
   },
   {
    "duration": 0,
    "start_time": "2022-09-11T16:00:50.031Z"
   },
   {
    "duration": 0,
    "start_time": "2022-09-11T16:00:50.032Z"
   },
   {
    "duration": 1,
    "start_time": "2022-09-11T16:00:50.033Z"
   },
   {
    "duration": 0,
    "start_time": "2022-09-11T16:00:50.035Z"
   },
   {
    "duration": 0,
    "start_time": "2022-09-11T16:00:50.036Z"
   },
   {
    "duration": 9,
    "start_time": "2022-09-11T16:02:21.810Z"
   },
   {
    "duration": 10,
    "start_time": "2022-09-11T16:04:13.751Z"
   },
   {
    "duration": 17,
    "start_time": "2022-09-11T16:04:29.086Z"
   },
   {
    "duration": 772,
    "start_time": "2022-09-11T16:05:19.354Z"
   },
   {
    "duration": 8,
    "start_time": "2022-09-11T16:06:52.282Z"
   },
   {
    "duration": 1341,
    "start_time": "2022-09-11T16:07:12.945Z"
   },
   {
    "duration": 135,
    "start_time": "2022-09-11T16:07:17.840Z"
   },
   {
    "duration": 9,
    "start_time": "2022-09-11T16:07:38.497Z"
   },
   {
    "duration": 2029,
    "start_time": "2022-09-11T16:07:42.177Z"
   },
   {
    "duration": 3,
    "start_time": "2022-09-11T16:07:44.209Z"
   },
   {
    "duration": 146,
    "start_time": "2022-09-11T16:07:44.214Z"
   },
   {
    "duration": 65,
    "start_time": "2022-09-11T16:07:44.363Z"
   },
   {
    "duration": 18,
    "start_time": "2022-09-11T16:07:44.429Z"
   },
   {
    "duration": 11,
    "start_time": "2022-09-11T16:07:44.448Z"
   },
   {
    "duration": 13,
    "start_time": "2022-09-11T16:07:44.460Z"
   },
   {
    "duration": 14,
    "start_time": "2022-09-11T16:07:44.474Z"
   },
   {
    "duration": 34,
    "start_time": "2022-09-11T16:07:44.490Z"
   },
   {
    "duration": 12,
    "start_time": "2022-09-11T16:07:44.527Z"
   },
   {
    "duration": 26,
    "start_time": "2022-09-11T16:07:44.540Z"
   },
   {
    "duration": 13,
    "start_time": "2022-09-11T16:07:44.567Z"
   },
   {
    "duration": 41,
    "start_time": "2022-09-11T16:07:44.582Z"
   },
   {
    "duration": 13,
    "start_time": "2022-09-11T16:07:44.625Z"
   },
   {
    "duration": 12,
    "start_time": "2022-09-11T16:07:44.639Z"
   },
   {
    "duration": 10,
    "start_time": "2022-09-11T16:07:44.653Z"
   },
   {
    "duration": 14,
    "start_time": "2022-09-11T16:07:44.664Z"
   },
   {
    "duration": 24,
    "start_time": "2022-09-11T16:07:44.680Z"
   },
   {
    "duration": 658,
    "start_time": "2022-09-11T16:07:44.706Z"
   },
   {
    "duration": 25,
    "start_time": "2022-09-11T16:07:45.366Z"
   },
   {
    "duration": 36,
    "start_time": "2022-09-11T16:07:45.392Z"
   },
   {
    "duration": 14,
    "start_time": "2022-09-11T16:07:45.430Z"
   },
   {
    "duration": 17,
    "start_time": "2022-09-11T16:07:45.446Z"
   },
   {
    "duration": 2,
    "start_time": "2022-09-11T16:07:45.465Z"
   },
   {
    "duration": 7,
    "start_time": "2022-09-11T16:07:45.469Z"
   },
   {
    "duration": 5,
    "start_time": "2022-09-11T16:07:45.477Z"
   },
   {
    "duration": 39,
    "start_time": "2022-09-11T16:07:45.484Z"
   },
   {
    "duration": 18,
    "start_time": "2022-09-11T16:07:45.527Z"
   },
   {
    "duration": 14,
    "start_time": "2022-09-11T16:07:45.546Z"
   },
   {
    "duration": 12,
    "start_time": "2022-09-11T16:07:45.561Z"
   },
   {
    "duration": 11,
    "start_time": "2022-09-11T16:07:45.574Z"
   },
   {
    "duration": 36,
    "start_time": "2022-09-11T16:07:45.587Z"
   },
   {
    "duration": 6,
    "start_time": "2022-09-11T16:07:45.624Z"
   },
   {
    "duration": 22,
    "start_time": "2022-09-11T16:07:45.632Z"
   },
   {
    "duration": 173,
    "start_time": "2022-09-11T16:07:45.657Z"
   },
   {
    "duration": 14,
    "start_time": "2022-09-11T16:07:45.831Z"
   },
   {
    "duration": 7,
    "start_time": "2022-09-11T16:07:45.847Z"
   },
   {
    "duration": 13,
    "start_time": "2022-09-11T16:07:45.856Z"
   },
   {
    "duration": 6,
    "start_time": "2022-09-11T16:07:45.870Z"
   },
   {
    "duration": 18,
    "start_time": "2022-09-11T16:07:45.877Z"
   },
   {
    "duration": 41,
    "start_time": "2022-09-11T16:07:45.897Z"
   },
   {
    "duration": 8,
    "start_time": "2022-09-11T16:07:45.940Z"
   },
   {
    "duration": 164,
    "start_time": "2022-09-11T16:07:45.950Z"
   },
   {
    "duration": 9,
    "start_time": "2022-09-11T16:07:46.121Z"
   },
   {
    "duration": 796,
    "start_time": "2022-09-11T16:07:46.132Z"
   },
   {
    "duration": 0,
    "start_time": "2022-09-11T16:07:46.930Z"
   },
   {
    "duration": 0,
    "start_time": "2022-09-11T16:07:46.931Z"
   },
   {
    "duration": 0,
    "start_time": "2022-09-11T16:07:46.933Z"
   },
   {
    "duration": 0,
    "start_time": "2022-09-11T16:07:46.934Z"
   },
   {
    "duration": 0,
    "start_time": "2022-09-11T16:07:46.935Z"
   },
   {
    "duration": 0,
    "start_time": "2022-09-11T16:07:46.936Z"
   },
   {
    "duration": 0,
    "start_time": "2022-09-11T16:07:46.937Z"
   },
   {
    "duration": 0,
    "start_time": "2022-09-11T16:07:46.938Z"
   },
   {
    "duration": 0,
    "start_time": "2022-09-11T16:07:46.940Z"
   },
   {
    "duration": 0,
    "start_time": "2022-09-11T16:07:46.942Z"
   },
   {
    "duration": 0,
    "start_time": "2022-09-11T16:07:46.944Z"
   },
   {
    "duration": 0,
    "start_time": "2022-09-11T16:07:46.945Z"
   },
   {
    "duration": 0,
    "start_time": "2022-09-11T16:07:46.947Z"
   },
   {
    "duration": 0,
    "start_time": "2022-09-11T16:07:46.948Z"
   },
   {
    "duration": 0,
    "start_time": "2022-09-11T16:07:46.950Z"
   },
   {
    "duration": 983,
    "start_time": "2022-09-11T16:08:13.082Z"
   },
   {
    "duration": 907,
    "start_time": "2022-09-11T16:09:52.968Z"
   },
   {
    "duration": 970,
    "start_time": "2022-09-11T16:10:06.491Z"
   },
   {
    "duration": 839,
    "start_time": "2022-09-11T16:10:13.643Z"
   },
   {
    "duration": 18,
    "start_time": "2022-09-11T16:10:41.122Z"
   },
   {
    "duration": 150,
    "start_time": "2022-09-11T16:11:01.580Z"
   },
   {
    "duration": 2040,
    "start_time": "2022-09-11T16:11:10.306Z"
   },
   {
    "duration": 3,
    "start_time": "2022-09-11T16:11:12.348Z"
   },
   {
    "duration": 150,
    "start_time": "2022-09-11T16:11:12.353Z"
   },
   {
    "duration": 81,
    "start_time": "2022-09-11T16:11:12.505Z"
   },
   {
    "duration": 14,
    "start_time": "2022-09-11T16:11:12.588Z"
   },
   {
    "duration": 36,
    "start_time": "2022-09-11T16:11:12.604Z"
   },
   {
    "duration": 17,
    "start_time": "2022-09-11T16:11:12.641Z"
   },
   {
    "duration": 27,
    "start_time": "2022-09-11T16:11:12.660Z"
   },
   {
    "duration": 38,
    "start_time": "2022-09-11T16:11:12.689Z"
   },
   {
    "duration": 25,
    "start_time": "2022-09-11T16:11:12.730Z"
   },
   {
    "duration": 27,
    "start_time": "2022-09-11T16:11:12.756Z"
   },
   {
    "duration": 18,
    "start_time": "2022-09-11T16:11:12.784Z"
   },
   {
    "duration": 33,
    "start_time": "2022-09-11T16:11:12.804Z"
   },
   {
    "duration": 28,
    "start_time": "2022-09-11T16:11:12.838Z"
   },
   {
    "duration": 28,
    "start_time": "2022-09-11T16:11:12.868Z"
   },
   {
    "duration": 17,
    "start_time": "2022-09-11T16:11:12.898Z"
   },
   {
    "duration": 29,
    "start_time": "2022-09-11T16:11:12.917Z"
   },
   {
    "duration": 26,
    "start_time": "2022-09-11T16:11:12.948Z"
   },
   {
    "duration": 675,
    "start_time": "2022-09-11T16:11:12.976Z"
   },
   {
    "duration": 27,
    "start_time": "2022-09-11T16:11:13.653Z"
   },
   {
    "duration": 41,
    "start_time": "2022-09-11T16:11:13.681Z"
   },
   {
    "duration": 13,
    "start_time": "2022-09-11T16:11:13.723Z"
   },
   {
    "duration": 38,
    "start_time": "2022-09-11T16:11:13.739Z"
   },
   {
    "duration": 16,
    "start_time": "2022-09-11T16:11:13.779Z"
   },
   {
    "duration": 13,
    "start_time": "2022-09-11T16:11:13.797Z"
   },
   {
    "duration": 24,
    "start_time": "2022-09-11T16:11:13.812Z"
   },
   {
    "duration": 17,
    "start_time": "2022-09-11T16:11:13.838Z"
   },
   {
    "duration": 23,
    "start_time": "2022-09-11T16:11:13.860Z"
   },
   {
    "duration": 16,
    "start_time": "2022-09-11T16:11:13.885Z"
   },
   {
    "duration": 19,
    "start_time": "2022-09-11T16:11:13.903Z"
   },
   {
    "duration": 29,
    "start_time": "2022-09-11T16:11:13.924Z"
   },
   {
    "duration": 21,
    "start_time": "2022-09-11T16:11:13.955Z"
   },
   {
    "duration": 19,
    "start_time": "2022-09-11T16:11:13.978Z"
   },
   {
    "duration": 21,
    "start_time": "2022-09-11T16:11:13.999Z"
   },
   {
    "duration": 34,
    "start_time": "2022-09-11T16:11:14.022Z"
   },
   {
    "duration": 20,
    "start_time": "2022-09-11T16:11:14.058Z"
   },
   {
    "duration": 13,
    "start_time": "2022-09-11T16:11:14.080Z"
   },
   {
    "duration": 36,
    "start_time": "2022-09-11T16:11:14.095Z"
   },
   {
    "duration": 37,
    "start_time": "2022-09-11T16:11:14.133Z"
   },
   {
    "duration": 47,
    "start_time": "2022-09-11T16:11:14.172Z"
   },
   {
    "duration": 20,
    "start_time": "2022-09-11T16:11:14.220Z"
   },
   {
    "duration": 20,
    "start_time": "2022-09-11T16:11:14.241Z"
   },
   {
    "duration": 139,
    "start_time": "2022-09-11T16:11:14.262Z"
   },
   {
    "duration": 9,
    "start_time": "2022-09-11T16:11:14.403Z"
   },
   {
    "duration": 170,
    "start_time": "2022-09-11T16:11:14.413Z"
   },
   {
    "duration": 19,
    "start_time": "2022-09-11T16:11:14.584Z"
   },
   {
    "duration": 173,
    "start_time": "2022-09-11T16:11:14.604Z"
   },
   {
    "duration": 8,
    "start_time": "2022-09-11T16:11:14.778Z"
   },
   {
    "duration": 33,
    "start_time": "2022-09-11T16:11:14.787Z"
   },
   {
    "duration": 37,
    "start_time": "2022-09-11T16:11:14.822Z"
   },
   {
    "duration": 227,
    "start_time": "2022-09-11T16:11:14.861Z"
   },
   {
    "duration": 192,
    "start_time": "2022-09-11T16:11:15.090Z"
   },
   {
    "duration": 43,
    "start_time": "2022-09-11T16:11:15.284Z"
   },
   {
    "duration": 10,
    "start_time": "2022-09-11T16:11:15.328Z"
   },
   {
    "duration": 9,
    "start_time": "2022-09-11T16:11:15.339Z"
   },
   {
    "duration": 186,
    "start_time": "2022-09-11T16:11:15.349Z"
   },
   {
    "duration": 207,
    "start_time": "2022-09-11T16:11:15.536Z"
   },
   {
    "duration": 330,
    "start_time": "2022-09-11T16:11:15.745Z"
   },
   {
    "duration": 19,
    "start_time": "2022-09-11T16:11:16.076Z"
   },
   {
    "duration": 50,
    "start_time": "2022-09-11T16:11:16.097Z"
   },
   {
    "duration": 22,
    "start_time": "2022-09-11T16:19:32.817Z"
   },
   {
    "duration": 22,
    "start_time": "2022-09-11T16:22:39.297Z"
   },
   {
    "duration": 19,
    "start_time": "2022-09-11T16:22:57.660Z"
   },
   {
    "duration": 21,
    "start_time": "2022-09-11T16:23:10.198Z"
   },
   {
    "duration": 26,
    "start_time": "2022-09-11T16:23:19.544Z"
   },
   {
    "duration": 151,
    "start_time": "2022-09-11T16:23:27.036Z"
   },
   {
    "duration": 54,
    "start_time": "2022-09-11T16:23:48.636Z"
   },
   {
    "duration": 19,
    "start_time": "2022-09-11T16:23:53.752Z"
   },
   {
    "duration": 2053,
    "start_time": "2022-09-11T16:30:29.633Z"
   },
   {
    "duration": 3,
    "start_time": "2022-09-11T16:30:31.689Z"
   },
   {
    "duration": 132,
    "start_time": "2022-09-11T16:30:31.694Z"
   },
   {
    "duration": 60,
    "start_time": "2022-09-11T16:30:31.828Z"
   },
   {
    "duration": 16,
    "start_time": "2022-09-11T16:30:31.891Z"
   },
   {
    "duration": 11,
    "start_time": "2022-09-11T16:30:31.909Z"
   },
   {
    "duration": 10,
    "start_time": "2022-09-11T16:30:31.922Z"
   },
   {
    "duration": 10,
    "start_time": "2022-09-11T16:30:31.934Z"
   },
   {
    "duration": 8,
    "start_time": "2022-09-11T16:30:31.946Z"
   },
   {
    "duration": 14,
    "start_time": "2022-09-11T16:30:31.956Z"
   },
   {
    "duration": 65,
    "start_time": "2022-09-11T16:30:31.971Z"
   },
   {
    "duration": 16,
    "start_time": "2022-09-11T16:30:32.038Z"
   },
   {
    "duration": 12,
    "start_time": "2022-09-11T16:30:32.056Z"
   },
   {
    "duration": 14,
    "start_time": "2022-09-11T16:30:32.071Z"
   },
   {
    "duration": 11,
    "start_time": "2022-09-11T16:30:32.087Z"
   },
   {
    "duration": 33,
    "start_time": "2022-09-11T16:30:32.100Z"
   },
   {
    "duration": 18,
    "start_time": "2022-09-11T16:30:32.134Z"
   },
   {
    "duration": 17,
    "start_time": "2022-09-11T16:30:32.154Z"
   },
   {
    "duration": 673,
    "start_time": "2022-09-11T16:30:32.173Z"
   },
   {
    "duration": 24,
    "start_time": "2022-09-11T16:30:32.848Z"
   },
   {
    "duration": 19,
    "start_time": "2022-09-11T16:30:32.873Z"
   },
   {
    "duration": 15,
    "start_time": "2022-09-11T16:30:32.922Z"
   },
   {
    "duration": 18,
    "start_time": "2022-09-11T16:30:32.938Z"
   },
   {
    "duration": 3,
    "start_time": "2022-09-11T16:30:32.958Z"
   },
   {
    "duration": 9,
    "start_time": "2022-09-11T16:30:32.963Z"
   },
   {
    "duration": 49,
    "start_time": "2022-09-11T16:30:32.973Z"
   },
   {
    "duration": 9,
    "start_time": "2022-09-11T16:30:33.024Z"
   },
   {
    "duration": 24,
    "start_time": "2022-09-11T16:30:33.035Z"
   },
   {
    "duration": 13,
    "start_time": "2022-09-11T16:30:33.061Z"
   },
   {
    "duration": 24,
    "start_time": "2022-09-11T16:30:33.076Z"
   },
   {
    "duration": 15,
    "start_time": "2022-09-11T16:30:33.125Z"
   },
   {
    "duration": 16,
    "start_time": "2022-09-11T16:30:33.142Z"
   },
   {
    "duration": 7,
    "start_time": "2022-09-11T16:30:33.160Z"
   },
   {
    "duration": 20,
    "start_time": "2022-09-11T16:30:33.168Z"
   },
   {
    "duration": 46,
    "start_time": "2022-09-11T16:30:33.190Z"
   },
   {
    "duration": 15,
    "start_time": "2022-09-11T16:30:33.238Z"
   },
   {
    "duration": 7,
    "start_time": "2022-09-11T16:30:33.255Z"
   },
   {
    "duration": 9,
    "start_time": "2022-09-11T16:30:33.263Z"
   },
   {
    "duration": 8,
    "start_time": "2022-09-11T16:30:33.274Z"
   },
   {
    "duration": 47,
    "start_time": "2022-09-11T16:30:33.287Z"
   },
   {
    "duration": 18,
    "start_time": "2022-09-11T16:30:33.339Z"
   },
   {
    "duration": 8,
    "start_time": "2022-09-11T16:30:33.360Z"
   },
   {
    "duration": 166,
    "start_time": "2022-09-11T16:30:33.370Z"
   },
   {
    "duration": 11,
    "start_time": "2022-09-11T16:30:33.537Z"
   },
   {
    "duration": 165,
    "start_time": "2022-09-11T16:30:33.550Z"
   },
   {
    "duration": 23,
    "start_time": "2022-09-11T16:30:33.716Z"
   },
   {
    "duration": 183,
    "start_time": "2022-09-11T16:30:33.741Z"
   },
   {
    "duration": 7,
    "start_time": "2022-09-11T16:30:33.926Z"
   },
   {
    "duration": 12,
    "start_time": "2022-09-11T16:30:33.935Z"
   },
   {
    "duration": 28,
    "start_time": "2022-09-11T16:30:33.949Z"
   },
   {
    "duration": 222,
    "start_time": "2022-09-11T16:30:33.979Z"
   },
   {
    "duration": 209,
    "start_time": "2022-09-11T16:30:34.202Z"
   },
   {
    "duration": 34,
    "start_time": "2022-09-11T16:30:34.412Z"
   },
   {
    "duration": 10,
    "start_time": "2022-09-11T16:30:34.448Z"
   },
   {
    "duration": 9,
    "start_time": "2022-09-11T16:30:34.460Z"
   },
   {
    "duration": 191,
    "start_time": "2022-09-11T16:30:34.471Z"
   },
   {
    "duration": 195,
    "start_time": "2022-09-11T16:30:34.663Z"
   },
   {
    "duration": 330,
    "start_time": "2022-09-11T16:30:34.859Z"
   },
   {
    "duration": 33,
    "start_time": "2022-09-11T16:30:35.190Z"
   },
   {
    "duration": 30,
    "start_time": "2022-09-11T16:30:35.225Z"
   },
   {
    "duration": 3654,
    "start_time": "2022-09-11T18:06:13.942Z"
   },
   {
    "duration": 1835,
    "start_time": "2022-09-11T18:06:17.599Z"
   },
   {
    "duration": 469,
    "start_time": "2022-09-11T18:06:19.436Z"
   },
   {
    "duration": 106,
    "start_time": "2022-09-11T18:06:19.908Z"
   },
   {
    "duration": 31,
    "start_time": "2022-09-11T18:06:20.017Z"
   },
   {
    "duration": 17,
    "start_time": "2022-09-11T18:06:20.050Z"
   },
   {
    "duration": 29,
    "start_time": "2022-09-11T18:06:20.069Z"
   },
   {
    "duration": 22,
    "start_time": "2022-09-11T18:06:20.103Z"
   },
   {
    "duration": 23,
    "start_time": "2022-09-11T18:06:20.127Z"
   },
   {
    "duration": 65,
    "start_time": "2022-09-11T18:06:20.154Z"
   },
   {
    "duration": 66,
    "start_time": "2022-09-11T18:06:20.221Z"
   },
   {
    "duration": 23,
    "start_time": "2022-09-11T18:06:20.290Z"
   },
   {
    "duration": 20,
    "start_time": "2022-09-11T18:06:20.315Z"
   },
   {
    "duration": 19,
    "start_time": "2022-09-11T18:06:20.337Z"
   },
   {
    "duration": 7,
    "start_time": "2022-09-11T18:06:20.358Z"
   },
   {
    "duration": 11,
    "start_time": "2022-09-11T18:06:20.367Z"
   },
   {
    "duration": 1439,
    "start_time": "2022-09-11T18:06:20.380Z"
   },
   {
    "duration": 13,
    "start_time": "2022-09-11T18:06:21.822Z"
   },
   {
    "duration": 77,
    "start_time": "2022-09-11T18:06:21.844Z"
   },
   {
    "duration": 863,
    "start_time": "2022-09-11T18:06:21.924Z"
   },
   {
    "duration": 47,
    "start_time": "2022-09-11T18:06:22.792Z"
   },
   {
    "duration": 38,
    "start_time": "2022-09-11T18:06:22.841Z"
   },
   {
    "duration": 28,
    "start_time": "2022-09-11T18:06:22.882Z"
   },
   {
    "duration": 37,
    "start_time": "2022-09-11T18:06:22.912Z"
   },
   {
    "duration": 4,
    "start_time": "2022-09-11T18:06:22.952Z"
   },
   {
    "duration": 21,
    "start_time": "2022-09-11T18:06:22.958Z"
   },
   {
    "duration": 18,
    "start_time": "2022-09-11T18:06:22.982Z"
   },
   {
    "duration": 15,
    "start_time": "2022-09-11T18:06:23.005Z"
   },
   {
    "duration": 36,
    "start_time": "2022-09-11T18:06:23.022Z"
   },
   {
    "duration": 25,
    "start_time": "2022-09-11T18:06:23.061Z"
   },
   {
    "duration": 35,
    "start_time": "2022-09-11T18:06:23.089Z"
   },
   {
    "duration": 13,
    "start_time": "2022-09-11T18:06:23.127Z"
   },
   {
    "duration": 52,
    "start_time": "2022-09-11T18:06:23.142Z"
   },
   {
    "duration": 24,
    "start_time": "2022-09-11T18:06:23.198Z"
   },
   {
    "duration": 62,
    "start_time": "2022-09-11T18:06:23.224Z"
   },
   {
    "duration": 33,
    "start_time": "2022-09-11T18:06:23.289Z"
   },
   {
    "duration": 25,
    "start_time": "2022-09-11T18:06:23.324Z"
   },
   {
    "duration": 15,
    "start_time": "2022-09-11T18:06:23.355Z"
   },
   {
    "duration": 20,
    "start_time": "2022-09-11T18:06:23.372Z"
   },
   {
    "duration": 19,
    "start_time": "2022-09-11T18:06:23.394Z"
   },
   {
    "duration": 40,
    "start_time": "2022-09-11T18:06:23.415Z"
   },
   {
    "duration": 33,
    "start_time": "2022-09-11T18:06:23.457Z"
   },
   {
    "duration": 21,
    "start_time": "2022-09-11T18:06:23.493Z"
   },
   {
    "duration": 302,
    "start_time": "2022-09-11T18:06:23.517Z"
   },
   {
    "duration": 13,
    "start_time": "2022-09-11T18:06:23.822Z"
   },
   {
    "duration": 239,
    "start_time": "2022-09-11T18:06:23.836Z"
   },
   {
    "duration": 25,
    "start_time": "2022-09-11T18:06:24.078Z"
   },
   {
    "duration": 212,
    "start_time": "2022-09-11T18:06:24.105Z"
   },
   {
    "duration": 7,
    "start_time": "2022-09-11T18:06:24.321Z"
   },
   {
    "duration": 15,
    "start_time": "2022-09-11T18:06:24.330Z"
   },
   {
    "duration": 41,
    "start_time": "2022-09-11T18:06:24.347Z"
   },
   {
    "duration": 322,
    "start_time": "2022-09-11T18:06:24.391Z"
   },
   {
    "duration": 340,
    "start_time": "2022-09-11T18:06:24.722Z"
   },
   {
    "duration": 63,
    "start_time": "2022-09-11T18:06:25.065Z"
   },
   {
    "duration": 21,
    "start_time": "2022-09-11T18:06:25.130Z"
   },
   {
    "duration": 18,
    "start_time": "2022-09-11T18:06:25.154Z"
   },
   {
    "duration": 277,
    "start_time": "2022-09-11T18:06:25.174Z"
   },
   {
    "duration": 299,
    "start_time": "2022-09-11T18:06:25.459Z"
   },
   {
    "duration": 531,
    "start_time": "2022-09-11T18:06:25.760Z"
   },
   {
    "duration": 41,
    "start_time": "2022-09-11T18:06:26.294Z"
   },
   {
    "duration": 44,
    "start_time": "2022-09-11T18:06:26.339Z"
   },
   {
    "duration": 298,
    "start_time": "2022-09-11T18:06:44.431Z"
   },
   {
    "duration": 125,
    "start_time": "2022-09-11T18:07:37.927Z"
   },
   {
    "duration": 178,
    "start_time": "2022-09-11T18:07:47.045Z"
   },
   {
    "duration": 28,
    "start_time": "2022-09-11T18:16:10.186Z"
   },
   {
    "duration": 23,
    "start_time": "2022-09-11T18:16:15.517Z"
   },
   {
    "duration": 4,
    "start_time": "2022-09-11T18:16:21.205Z"
   },
   {
    "duration": 32,
    "start_time": "2022-09-11T18:16:21.943Z"
   },
   {
    "duration": 3,
    "start_time": "2022-09-11T18:16:25.253Z"
   },
   {
    "duration": 25,
    "start_time": "2022-09-11T18:16:25.930Z"
   },
   {
    "duration": 4,
    "start_time": "2022-09-11T18:16:28.628Z"
   },
   {
    "duration": 33,
    "start_time": "2022-09-11T18:16:29.055Z"
   },
   {
    "duration": 25,
    "start_time": "2022-09-11T18:16:51.937Z"
   }
  ],
  "colab": {
   "name": "DA+. Сборный проект 1. Шаблон (1).ipynb",
   "provenance": []
  },
  "kernelspec": {
   "display_name": "Python 3 (ipykernel)",
   "language": "python",
   "name": "python3"
  },
  "language_info": {
   "codemirror_mode": {
    "name": "ipython",
    "version": 3
   },
   "file_extension": ".py",
   "mimetype": "text/x-python",
   "name": "python",
   "nbconvert_exporter": "python",
   "pygments_lexer": "ipython3",
   "version": "3.9.15 (main, Nov 24 2022, 14:39:17) [MSC v.1916 64 bit (AMD64)]"
  },
  "toc": {
   "base_numbering": 1,
   "nav_menu": {},
   "number_sections": true,
   "sideBar": true,
   "skip_h1_title": true,
   "title_cell": "Table of Contents",
   "title_sidebar": "Contents",
   "toc_cell": false,
   "toc_position": {
    "height": "calc(100% - 180px)",
    "left": "10px",
    "top": "150px",
    "width": "375.391px"
   },
   "toc_section_display": true,
   "toc_window_display": false
  },
  "vscode": {
   "interpreter": {
    "hash": "a90aeebcf29d64a654773811cc170cb25061cb2498f10ac689db374c7bf325de"
   }
  }
 },
 "nbformat": 4,
 "nbformat_minor": 1
}
