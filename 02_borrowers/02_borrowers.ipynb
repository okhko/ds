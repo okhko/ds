{
 "cells": [
  {
   "cell_type": "markdown",
   "id": "c81daeeb",
   "metadata": {
    "deletable": false,
    "id": "c81daeeb"
   },
   "source": [
    "# Исследование надежности заемщиков\n"
   ]
  },
  {
   "cell_type": "markdown",
   "id": "827c20bf",
   "metadata": {
    "id": "827c20bf"
   },
   "source": [
    "Во второй части проекта вы выполните шаги 3 и 4. Их вручную проверит ревьюер.\n",
    "Чтобы вам не пришлось писать код заново для шагов 1 и 2, мы добавили авторские решения в ячейки с кодом. \n",
    "\n"
   ]
  },
  {
   "cell_type": "markdown",
   "id": "744d7639",
   "metadata": {
    "deletable": false,
    "id": "744d7639"
   },
   "source": [
    "## Откройте таблицу и изучите общую информацию о данных"
   ]
  },
  {
   "cell_type": "markdown",
   "id": "e7a14c31",
   "metadata": {
    "deletable": false,
    "id": "e7a14c31"
   },
   "source": [
    "**Задание 1. Импортируйте библиотеку pandas. Считайте данные из csv-файла в датафрейм и сохраните в переменную `data`. Путь к файлу:**\n",
    "\n",
    "`/datasets/data.csv`"
   ]
  },
  {
   "cell_type": "code",
   "execution_count": 1,
   "id": "7bcf75c9",
   "metadata": {
    "deletable": false,
    "id": "7bcf75c9"
   },
   "outputs": [],
   "source": [
    "import plotly.express as px\n",
    "import seaborn as sns\n",
    "import pandas as pd\n",
    "\n",
    "try:\n",
    "    data = pd.read_csv('/datasets/data.csv')\n",
    "except:\n",
    "    data = pd.read_csv('https://code.s3.yandex.net/datasets/data.csv')"
   ]
  },
  {
   "cell_type": "markdown",
   "id": "b8038fe3",
   "metadata": {
    "deletable": false,
    "id": "b8038fe3"
   },
   "source": [
    "**Задание 2. Выведите первые 20 строчек датафрейма `data` на экран.**"
   ]
  },
  {
   "cell_type": "code",
   "execution_count": 2,
   "id": "2a7cab99",
   "metadata": {
    "deletable": false,
    "id": "2a7cab99",
    "outputId": "1a8f3ef2-d323-4ec2-ddf7-89670b5944c4",
    "scrolled": false
   },
   "outputs": [
    {
     "data": {
      "text/html": [
       "<div>\n",
       "<style scoped>\n",
       "    .dataframe tbody tr th:only-of-type {\n",
       "        vertical-align: middle;\n",
       "    }\n",
       "\n",
       "    .dataframe tbody tr th {\n",
       "        vertical-align: top;\n",
       "    }\n",
       "\n",
       "    .dataframe thead th {\n",
       "        text-align: right;\n",
       "    }\n",
       "</style>\n",
       "<table border=\"1\" class=\"dataframe\">\n",
       "  <thead>\n",
       "    <tr style=\"text-align: right;\">\n",
       "      <th></th>\n",
       "      <th>children</th>\n",
       "      <th>days_employed</th>\n",
       "      <th>dob_years</th>\n",
       "      <th>education</th>\n",
       "      <th>education_id</th>\n",
       "      <th>family_status</th>\n",
       "      <th>family_status_id</th>\n",
       "      <th>gender</th>\n",
       "      <th>income_type</th>\n",
       "      <th>debt</th>\n",
       "      <th>total_income</th>\n",
       "      <th>purpose</th>\n",
       "    </tr>\n",
       "  </thead>\n",
       "  <tbody>\n",
       "    <tr>\n",
       "      <th>0</th>\n",
       "      <td>1</td>\n",
       "      <td>-8437.673028</td>\n",
       "      <td>42</td>\n",
       "      <td>высшее</td>\n",
       "      <td>0</td>\n",
       "      <td>женат / замужем</td>\n",
       "      <td>0</td>\n",
       "      <td>F</td>\n",
       "      <td>сотрудник</td>\n",
       "      <td>0</td>\n",
       "      <td>253875.639453</td>\n",
       "      <td>покупка жилья</td>\n",
       "    </tr>\n",
       "    <tr>\n",
       "      <th>1</th>\n",
       "      <td>1</td>\n",
       "      <td>-4024.803754</td>\n",
       "      <td>36</td>\n",
       "      <td>среднее</td>\n",
       "      <td>1</td>\n",
       "      <td>женат / замужем</td>\n",
       "      <td>0</td>\n",
       "      <td>F</td>\n",
       "      <td>сотрудник</td>\n",
       "      <td>0</td>\n",
       "      <td>112080.014102</td>\n",
       "      <td>приобретение автомобиля</td>\n",
       "    </tr>\n",
       "    <tr>\n",
       "      <th>2</th>\n",
       "      <td>0</td>\n",
       "      <td>-5623.422610</td>\n",
       "      <td>33</td>\n",
       "      <td>Среднее</td>\n",
       "      <td>1</td>\n",
       "      <td>женат / замужем</td>\n",
       "      <td>0</td>\n",
       "      <td>M</td>\n",
       "      <td>сотрудник</td>\n",
       "      <td>0</td>\n",
       "      <td>145885.952297</td>\n",
       "      <td>покупка жилья</td>\n",
       "    </tr>\n",
       "    <tr>\n",
       "      <th>3</th>\n",
       "      <td>3</td>\n",
       "      <td>-4124.747207</td>\n",
       "      <td>32</td>\n",
       "      <td>среднее</td>\n",
       "      <td>1</td>\n",
       "      <td>женат / замужем</td>\n",
       "      <td>0</td>\n",
       "      <td>M</td>\n",
       "      <td>сотрудник</td>\n",
       "      <td>0</td>\n",
       "      <td>267628.550329</td>\n",
       "      <td>дополнительное образование</td>\n",
       "    </tr>\n",
       "    <tr>\n",
       "      <th>4</th>\n",
       "      <td>0</td>\n",
       "      <td>340266.072047</td>\n",
       "      <td>53</td>\n",
       "      <td>среднее</td>\n",
       "      <td>1</td>\n",
       "      <td>гражданский брак</td>\n",
       "      <td>1</td>\n",
       "      <td>F</td>\n",
       "      <td>пенсионер</td>\n",
       "      <td>0</td>\n",
       "      <td>158616.077870</td>\n",
       "      <td>сыграть свадьбу</td>\n",
       "    </tr>\n",
       "    <tr>\n",
       "      <th>5</th>\n",
       "      <td>0</td>\n",
       "      <td>-926.185831</td>\n",
       "      <td>27</td>\n",
       "      <td>высшее</td>\n",
       "      <td>0</td>\n",
       "      <td>гражданский брак</td>\n",
       "      <td>1</td>\n",
       "      <td>M</td>\n",
       "      <td>компаньон</td>\n",
       "      <td>0</td>\n",
       "      <td>255763.565419</td>\n",
       "      <td>покупка жилья</td>\n",
       "    </tr>\n",
       "    <tr>\n",
       "      <th>6</th>\n",
       "      <td>0</td>\n",
       "      <td>-2879.202052</td>\n",
       "      <td>43</td>\n",
       "      <td>высшее</td>\n",
       "      <td>0</td>\n",
       "      <td>женат / замужем</td>\n",
       "      <td>0</td>\n",
       "      <td>F</td>\n",
       "      <td>компаньон</td>\n",
       "      <td>0</td>\n",
       "      <td>240525.971920</td>\n",
       "      <td>операции с жильем</td>\n",
       "    </tr>\n",
       "    <tr>\n",
       "      <th>7</th>\n",
       "      <td>0</td>\n",
       "      <td>-152.779569</td>\n",
       "      <td>50</td>\n",
       "      <td>СРЕДНЕЕ</td>\n",
       "      <td>1</td>\n",
       "      <td>женат / замужем</td>\n",
       "      <td>0</td>\n",
       "      <td>M</td>\n",
       "      <td>сотрудник</td>\n",
       "      <td>0</td>\n",
       "      <td>135823.934197</td>\n",
       "      <td>образование</td>\n",
       "    </tr>\n",
       "    <tr>\n",
       "      <th>8</th>\n",
       "      <td>2</td>\n",
       "      <td>-6929.865299</td>\n",
       "      <td>35</td>\n",
       "      <td>ВЫСШЕЕ</td>\n",
       "      <td>0</td>\n",
       "      <td>гражданский брак</td>\n",
       "      <td>1</td>\n",
       "      <td>F</td>\n",
       "      <td>сотрудник</td>\n",
       "      <td>0</td>\n",
       "      <td>95856.832424</td>\n",
       "      <td>на проведение свадьбы</td>\n",
       "    </tr>\n",
       "    <tr>\n",
       "      <th>9</th>\n",
       "      <td>0</td>\n",
       "      <td>-2188.756445</td>\n",
       "      <td>41</td>\n",
       "      <td>среднее</td>\n",
       "      <td>1</td>\n",
       "      <td>женат / замужем</td>\n",
       "      <td>0</td>\n",
       "      <td>M</td>\n",
       "      <td>сотрудник</td>\n",
       "      <td>0</td>\n",
       "      <td>144425.938277</td>\n",
       "      <td>покупка жилья для семьи</td>\n",
       "    </tr>\n",
       "    <tr>\n",
       "      <th>10</th>\n",
       "      <td>2</td>\n",
       "      <td>-4171.483647</td>\n",
       "      <td>36</td>\n",
       "      <td>высшее</td>\n",
       "      <td>0</td>\n",
       "      <td>женат / замужем</td>\n",
       "      <td>0</td>\n",
       "      <td>M</td>\n",
       "      <td>компаньон</td>\n",
       "      <td>0</td>\n",
       "      <td>113943.491460</td>\n",
       "      <td>покупка недвижимости</td>\n",
       "    </tr>\n",
       "    <tr>\n",
       "      <th>11</th>\n",
       "      <td>0</td>\n",
       "      <td>-792.701887</td>\n",
       "      <td>40</td>\n",
       "      <td>среднее</td>\n",
       "      <td>1</td>\n",
       "      <td>женат / замужем</td>\n",
       "      <td>0</td>\n",
       "      <td>F</td>\n",
       "      <td>сотрудник</td>\n",
       "      <td>0</td>\n",
       "      <td>77069.234271</td>\n",
       "      <td>покупка коммерческой недвижимости</td>\n",
       "    </tr>\n",
       "    <tr>\n",
       "      <th>12</th>\n",
       "      <td>0</td>\n",
       "      <td>NaN</td>\n",
       "      <td>65</td>\n",
       "      <td>среднее</td>\n",
       "      <td>1</td>\n",
       "      <td>гражданский брак</td>\n",
       "      <td>1</td>\n",
       "      <td>M</td>\n",
       "      <td>пенсионер</td>\n",
       "      <td>0</td>\n",
       "      <td>NaN</td>\n",
       "      <td>сыграть свадьбу</td>\n",
       "    </tr>\n",
       "    <tr>\n",
       "      <th>13</th>\n",
       "      <td>0</td>\n",
       "      <td>-1846.641941</td>\n",
       "      <td>54</td>\n",
       "      <td>неоконченное высшее</td>\n",
       "      <td>2</td>\n",
       "      <td>женат / замужем</td>\n",
       "      <td>0</td>\n",
       "      <td>F</td>\n",
       "      <td>сотрудник</td>\n",
       "      <td>0</td>\n",
       "      <td>130458.228857</td>\n",
       "      <td>приобретение автомобиля</td>\n",
       "    </tr>\n",
       "    <tr>\n",
       "      <th>14</th>\n",
       "      <td>0</td>\n",
       "      <td>-1844.956182</td>\n",
       "      <td>56</td>\n",
       "      <td>высшее</td>\n",
       "      <td>0</td>\n",
       "      <td>гражданский брак</td>\n",
       "      <td>1</td>\n",
       "      <td>F</td>\n",
       "      <td>компаньон</td>\n",
       "      <td>1</td>\n",
       "      <td>165127.911772</td>\n",
       "      <td>покупка жилой недвижимости</td>\n",
       "    </tr>\n",
       "    <tr>\n",
       "      <th>15</th>\n",
       "      <td>1</td>\n",
       "      <td>-972.364419</td>\n",
       "      <td>26</td>\n",
       "      <td>среднее</td>\n",
       "      <td>1</td>\n",
       "      <td>женат / замужем</td>\n",
       "      <td>0</td>\n",
       "      <td>F</td>\n",
       "      <td>сотрудник</td>\n",
       "      <td>0</td>\n",
       "      <td>116820.904450</td>\n",
       "      <td>строительство собственной недвижимости</td>\n",
       "    </tr>\n",
       "    <tr>\n",
       "      <th>16</th>\n",
       "      <td>0</td>\n",
       "      <td>-1719.934226</td>\n",
       "      <td>35</td>\n",
       "      <td>среднее</td>\n",
       "      <td>1</td>\n",
       "      <td>женат / замужем</td>\n",
       "      <td>0</td>\n",
       "      <td>F</td>\n",
       "      <td>сотрудник</td>\n",
       "      <td>0</td>\n",
       "      <td>289202.704229</td>\n",
       "      <td>недвижимость</td>\n",
       "    </tr>\n",
       "    <tr>\n",
       "      <th>17</th>\n",
       "      <td>0</td>\n",
       "      <td>-2369.999720</td>\n",
       "      <td>33</td>\n",
       "      <td>высшее</td>\n",
       "      <td>0</td>\n",
       "      <td>гражданский брак</td>\n",
       "      <td>1</td>\n",
       "      <td>M</td>\n",
       "      <td>сотрудник</td>\n",
       "      <td>0</td>\n",
       "      <td>90410.586745</td>\n",
       "      <td>строительство недвижимости</td>\n",
       "    </tr>\n",
       "    <tr>\n",
       "      <th>18</th>\n",
       "      <td>0</td>\n",
       "      <td>400281.136913</td>\n",
       "      <td>53</td>\n",
       "      <td>среднее</td>\n",
       "      <td>1</td>\n",
       "      <td>вдовец / вдова</td>\n",
       "      <td>2</td>\n",
       "      <td>F</td>\n",
       "      <td>пенсионер</td>\n",
       "      <td>0</td>\n",
       "      <td>56823.777243</td>\n",
       "      <td>на покупку подержанного автомобиля</td>\n",
       "    </tr>\n",
       "    <tr>\n",
       "      <th>19</th>\n",
       "      <td>0</td>\n",
       "      <td>-10038.818549</td>\n",
       "      <td>48</td>\n",
       "      <td>СРЕДНЕЕ</td>\n",
       "      <td>1</td>\n",
       "      <td>в разводе</td>\n",
       "      <td>3</td>\n",
       "      <td>F</td>\n",
       "      <td>сотрудник</td>\n",
       "      <td>0</td>\n",
       "      <td>242831.107982</td>\n",
       "      <td>на покупку своего автомобиля</td>\n",
       "    </tr>\n",
       "  </tbody>\n",
       "</table>\n",
       "</div>"
      ],
      "text/plain": [
       "    children  days_employed  dob_years            education  education_id  \\\n",
       "0          1   -8437.673028         42               высшее             0   \n",
       "1          1   -4024.803754         36              среднее             1   \n",
       "2          0   -5623.422610         33              Среднее             1   \n",
       "3          3   -4124.747207         32              среднее             1   \n",
       "4          0  340266.072047         53              среднее             1   \n",
       "5          0    -926.185831         27               высшее             0   \n",
       "6          0   -2879.202052         43               высшее             0   \n",
       "7          0    -152.779569         50              СРЕДНЕЕ             1   \n",
       "8          2   -6929.865299         35               ВЫСШЕЕ             0   \n",
       "9          0   -2188.756445         41              среднее             1   \n",
       "10         2   -4171.483647         36               высшее             0   \n",
       "11         0    -792.701887         40              среднее             1   \n",
       "12         0            NaN         65              среднее             1   \n",
       "13         0   -1846.641941         54  неоконченное высшее             2   \n",
       "14         0   -1844.956182         56               высшее             0   \n",
       "15         1    -972.364419         26              среднее             1   \n",
       "16         0   -1719.934226         35              среднее             1   \n",
       "17         0   -2369.999720         33               высшее             0   \n",
       "18         0  400281.136913         53              среднее             1   \n",
       "19         0  -10038.818549         48              СРЕДНЕЕ             1   \n",
       "\n",
       "       family_status  family_status_id gender income_type  debt  \\\n",
       "0    женат / замужем                 0      F   сотрудник     0   \n",
       "1    женат / замужем                 0      F   сотрудник     0   \n",
       "2    женат / замужем                 0      M   сотрудник     0   \n",
       "3    женат / замужем                 0      M   сотрудник     0   \n",
       "4   гражданский брак                 1      F   пенсионер     0   \n",
       "5   гражданский брак                 1      M   компаньон     0   \n",
       "6    женат / замужем                 0      F   компаньон     0   \n",
       "7    женат / замужем                 0      M   сотрудник     0   \n",
       "8   гражданский брак                 1      F   сотрудник     0   \n",
       "9    женат / замужем                 0      M   сотрудник     0   \n",
       "10   женат / замужем                 0      M   компаньон     0   \n",
       "11   женат / замужем                 0      F   сотрудник     0   \n",
       "12  гражданский брак                 1      M   пенсионер     0   \n",
       "13   женат / замужем                 0      F   сотрудник     0   \n",
       "14  гражданский брак                 1      F   компаньон     1   \n",
       "15   женат / замужем                 0      F   сотрудник     0   \n",
       "16   женат / замужем                 0      F   сотрудник     0   \n",
       "17  гражданский брак                 1      M   сотрудник     0   \n",
       "18    вдовец / вдова                 2      F   пенсионер     0   \n",
       "19         в разводе                 3      F   сотрудник     0   \n",
       "\n",
       "     total_income                                 purpose  \n",
       "0   253875.639453                           покупка жилья  \n",
       "1   112080.014102                 приобретение автомобиля  \n",
       "2   145885.952297                           покупка жилья  \n",
       "3   267628.550329              дополнительное образование  \n",
       "4   158616.077870                         сыграть свадьбу  \n",
       "5   255763.565419                           покупка жилья  \n",
       "6   240525.971920                       операции с жильем  \n",
       "7   135823.934197                             образование  \n",
       "8    95856.832424                   на проведение свадьбы  \n",
       "9   144425.938277                 покупка жилья для семьи  \n",
       "10  113943.491460                    покупка недвижимости  \n",
       "11   77069.234271       покупка коммерческой недвижимости  \n",
       "12            NaN                         сыграть свадьбу  \n",
       "13  130458.228857                 приобретение автомобиля  \n",
       "14  165127.911772              покупка жилой недвижимости  \n",
       "15  116820.904450  строительство собственной недвижимости  \n",
       "16  289202.704229                            недвижимость  \n",
       "17   90410.586745              строительство недвижимости  \n",
       "18   56823.777243      на покупку подержанного автомобиля  \n",
       "19  242831.107982            на покупку своего автомобиля  "
      ]
     },
     "execution_count": 2,
     "metadata": {},
     "output_type": "execute_result"
    }
   ],
   "source": [
    "data.head(20)"
   ]
  },
  {
   "cell_type": "markdown",
   "id": "1c12e233",
   "metadata": {
    "deletable": false,
    "id": "1c12e233"
   },
   "source": [
    "**Задание 3. Выведите основную информацию о датафрейме с помощью метода `info()`.**"
   ]
  },
  {
   "cell_type": "code",
   "execution_count": 3,
   "id": "2b757bca",
   "metadata": {
    "deletable": false,
    "id": "2b757bca",
    "outputId": "15376089-8dad-46c9-b520-c05248d43158"
   },
   "outputs": [
    {
     "name": "stdout",
     "output_type": "stream",
     "text": [
      "<class 'pandas.core.frame.DataFrame'>\n",
      "RangeIndex: 21525 entries, 0 to 21524\n",
      "Data columns (total 12 columns):\n",
      " #   Column            Non-Null Count  Dtype  \n",
      "---  ------            --------------  -----  \n",
      " 0   children          21525 non-null  int64  \n",
      " 1   days_employed     19351 non-null  float64\n",
      " 2   dob_years         21525 non-null  int64  \n",
      " 3   education         21525 non-null  object \n",
      " 4   education_id      21525 non-null  int64  \n",
      " 5   family_status     21525 non-null  object \n",
      " 6   family_status_id  21525 non-null  int64  \n",
      " 7   gender            21525 non-null  object \n",
      " 8   income_type       21525 non-null  object \n",
      " 9   debt              21525 non-null  int64  \n",
      " 10  total_income      19351 non-null  float64\n",
      " 11  purpose           21525 non-null  object \n",
      "dtypes: float64(2), int64(5), object(5)\n",
      "memory usage: 2.0+ MB\n"
     ]
    }
   ],
   "source": [
    "data.info()"
   ]
  },
  {
   "cell_type": "markdown",
   "id": "333ec665",
   "metadata": {
    "deletable": false,
    "id": "333ec665"
   },
   "source": [
    "## Предобработка данных"
   ]
  },
  {
   "cell_type": "markdown",
   "id": "02d92d53",
   "metadata": {
    "deletable": false,
    "id": "02d92d53"
   },
   "source": [
    "### Удаление пропусков"
   ]
  },
  {
   "cell_type": "markdown",
   "id": "cd84967c",
   "metadata": {
    "deletable": false,
    "id": "cd84967c"
   },
   "source": [
    "**Задание 4. Выведите количество пропущенных значений для каждого столбца. Используйте комбинацию двух методов.**"
   ]
  },
  {
   "cell_type": "code",
   "execution_count": 4,
   "id": "7f9b2309",
   "metadata": {
    "deletable": false,
    "id": "7f9b2309",
    "outputId": "81f4d817-781c-465c-ed15-91ce4446810d"
   },
   "outputs": [
    {
     "data": {
      "text/plain": [
       "children               0\n",
       "days_employed       2174\n",
       "dob_years              0\n",
       "education              0\n",
       "education_id           0\n",
       "family_status          0\n",
       "family_status_id       0\n",
       "gender                 0\n",
       "income_type            0\n",
       "debt                   0\n",
       "total_income        2174\n",
       "purpose                0\n",
       "dtype: int64"
      ]
     },
     "execution_count": 4,
     "metadata": {},
     "output_type": "execute_result"
    }
   ],
   "source": [
    "data.isna().sum()"
   ]
  },
  {
   "cell_type": "code",
   "execution_count": 5,
   "id": "a867c5b4",
   "metadata": {},
   "outputs": [
    {
     "data": {
      "text/plain": [
       "2174"
      ]
     },
     "execution_count": 5,
     "metadata": {},
     "output_type": "execute_result"
    }
   ],
   "source": [
    "# Проверим, являются ли пропуски случайными или пропуск в days_employed также имеет пропуск в total_income в одной\n",
    "# в одной же строке\n",
    "\n",
    "len(data.loc[(data['days_employed'].isna()) & (data['total_income'].isna())])"
   ]
  },
  {
   "cell_type": "markdown",
   "id": "db86e27b",
   "metadata": {
    "deletable": false,
    "id": "db86e27b"
   },
   "source": [
    "**Задание 5. В двух столбцах есть пропущенные значения. Один из них — `days_employed`. Пропуски в этом столбце вы обработаете на следующем этапе. Другой столбец с пропущенными значениями — `total_income` — хранит данные о доходах. На сумму дохода сильнее всего влияет тип занятости, поэтому заполнить пропуски в этом столбце нужно медианным значением по каждому типу из столбца `income_type`. Например, у человека с типом занятости `сотрудник` пропуск в столбце `total_income` должен быть заполнен медианным доходом среди всех записей с тем же типом.**"
   ]
  },
  {
   "cell_type": "code",
   "execution_count": 6,
   "id": "42006a93",
   "metadata": {
    "deletable": false,
    "id": "42006a93"
   },
   "outputs": [],
   "source": [
    "for t in data['income_type'].unique():\n",
    "    data.loc[(data['income_type'] == t) & (data['total_income'].isna()), 'total_income'] = \\\n",
    "    data.loc[(data['income_type'] == t), 'total_income'].median()"
   ]
  },
  {
   "cell_type": "markdown",
   "id": "89da5ece",
   "metadata": {
    "deletable": false,
    "id": "89da5ece"
   },
   "source": [
    "### Обработка аномальных значений"
   ]
  },
  {
   "cell_type": "markdown",
   "id": "57964554",
   "metadata": {
    "deletable": false,
    "id": "57964554"
   },
   "source": [
    "**Задание 6. В данных могут встречаться артефакты (аномалии) — значения, которые не отражают действительность и появились по какой-то ошибке. таким артефактом будет отрицательное количество дней трудового стажа в столбце `days_employed`. Для реальных данных это нормально. Обработайте значения в этом столбце: замените все отрицательные значения положительными с помощью метода `abs()`.**"
   ]
  },
  {
   "cell_type": "code",
   "execution_count": 7,
   "id": "f6f055bf",
   "metadata": {
    "deletable": false,
    "id": "f6f055bf"
   },
   "outputs": [],
   "source": [
    "data['days_employed'] = data['days_employed'].abs()"
   ]
  },
  {
   "cell_type": "markdown",
   "id": "6107dd2f",
   "metadata": {
    "deletable": false,
    "id": "6107dd2f"
   },
   "source": [
    "**Задание 7. Для каждого типа занятости выведите медианное значение трудового стажа `days_employed` в днях.**"
   ]
  },
  {
   "cell_type": "code",
   "execution_count": 8,
   "id": "85a5faf6",
   "metadata": {
    "deletable": false,
    "id": "85a5faf6",
    "outputId": "801ef80e-522b-4668-f34e-565af7432bcf"
   },
   "outputs": [
    {
     "data": {
      "text/plain": [
       "income_type\n",
       "безработный        366413.652744\n",
       "в декрете            3296.759962\n",
       "госслужащий          2689.368353\n",
       "компаньон            1547.382223\n",
       "пенсионер          365213.306266\n",
       "предприниматель       520.848083\n",
       "сотрудник            1574.202821\n",
       "студент               578.751554\n",
       "Name: days_employed, dtype: float64"
      ]
     },
     "execution_count": 8,
     "metadata": {},
     "output_type": "execute_result"
    }
   ],
   "source": [
    "data.groupby('income_type')['days_employed'].agg('median')"
   ]
  },
  {
   "cell_type": "markdown",
   "id": "38d1a030",
   "metadata": {
    "deletable": false,
    "id": "38d1a030"
   },
   "source": [
    "У двух типов (безработные и пенсионеры) получатся аномально большие значения. Исправить такие значения сложно, поэтому оставьте их как есть. Тем более этот столбец не понадобится вам для исследования."
   ]
  },
  {
   "cell_type": "markdown",
   "id": "d8a9f147",
   "metadata": {
    "deletable": false,
    "id": "d8a9f147"
   },
   "source": [
    "**Задание 8. Выведите перечень уникальных значений столбца `children`.**"
   ]
  },
  {
   "cell_type": "code",
   "execution_count": 9,
   "id": "ef5056eb",
   "metadata": {
    "deletable": false,
    "id": "ef5056eb",
    "outputId": "6975b15c-7f95-4697-d16d-a0c79b657b03"
   },
   "outputs": [
    {
     "data": {
      "text/plain": [
       "array([ 1,  0,  3,  2, -1,  4, 20,  5])"
      ]
     },
     "execution_count": 9,
     "metadata": {},
     "output_type": "execute_result"
    }
   ],
   "source": [
    "data['children'].unique()"
   ]
  },
  {
   "cell_type": "markdown",
   "id": "40b9ebf2",
   "metadata": {
    "deletable": false,
    "id": "40b9ebf2"
   },
   "source": [
    "**Задание 9. В столбце `children` есть два аномальных значения. Удалите строки, в которых встречаются такие аномальные значения из датафрейма `data`.**"
   ]
  },
  {
   "cell_type": "code",
   "execution_count": 10,
   "id": "3ff9801d",
   "metadata": {
    "deletable": false,
    "id": "3ff9801d"
   },
   "outputs": [],
   "source": [
    "data = data[(data['children'] != -1) & (data['children'] != 20)]"
   ]
  },
  {
   "cell_type": "markdown",
   "id": "bbc4d0ce",
   "metadata": {
    "deletable": false,
    "id": "bbc4d0ce"
   },
   "source": [
    "**Задание 10. Ещё раз выведите перечень уникальных значений столбца `children`, чтобы убедиться, что артефакты удалены.**"
   ]
  },
  {
   "cell_type": "code",
   "execution_count": 11,
   "id": "ad4fa8b7",
   "metadata": {
    "deletable": false,
    "id": "ad4fa8b7",
    "outputId": "b2097101-d49d-44d9-901b-32a65c9463d1"
   },
   "outputs": [
    {
     "data": {
      "text/plain": [
       "array([1, 0, 3, 2, 4, 5])"
      ]
     },
     "execution_count": 11,
     "metadata": {},
     "output_type": "execute_result"
    }
   ],
   "source": [
    "data['children'].unique()"
   ]
  },
  {
   "cell_type": "markdown",
   "id": "75440b63",
   "metadata": {
    "deletable": false,
    "id": "75440b63"
   },
   "source": [
    "### Удаление пропусков (продолжение)"
   ]
  },
  {
   "cell_type": "markdown",
   "id": "f4ea573f",
   "metadata": {
    "deletable": false,
    "id": "f4ea573f"
   },
   "source": [
    "**Задание 11. Заполните пропуски в столбце `days_employed` медианными значениями по каждого типа занятости `income_type`.**"
   ]
  },
  {
   "cell_type": "code",
   "execution_count": 12,
   "id": "af6b1a7e",
   "metadata": {
    "deletable": false,
    "id": "af6b1a7e"
   },
   "outputs": [],
   "source": [
    "for t in data['income_type'].unique():\n",
    "    data.loc[(data['income_type'] == t) & (data['days_employed'].isna()), 'days_employed'] = \\\n",
    "    data.loc[(data['income_type'] == t), 'days_employed'].median()"
   ]
  },
  {
   "cell_type": "markdown",
   "id": "2753f40d",
   "metadata": {
    "deletable": false,
    "id": "2753f40d"
   },
   "source": [
    "**Задание 12. Убедитесь, что все пропуски заполнены. Проверьте себя и ещё раз выведите количество пропущенных значений для каждого столбца с помощью двух методов.**"
   ]
  },
  {
   "cell_type": "code",
   "execution_count": 13,
   "id": "55f78bc2",
   "metadata": {
    "deletable": false,
    "id": "55f78bc2",
    "outputId": "8da1e4e1-358e-4e87-98c9-f261bce0a7b2"
   },
   "outputs": [
    {
     "data": {
      "text/plain": [
       "children            0\n",
       "days_employed       0\n",
       "dob_years           0\n",
       "education           0\n",
       "education_id        0\n",
       "family_status       0\n",
       "family_status_id    0\n",
       "gender              0\n",
       "income_type         0\n",
       "debt                0\n",
       "total_income        0\n",
       "purpose             0\n",
       "dtype: int64"
      ]
     },
     "execution_count": 13,
     "metadata": {},
     "output_type": "execute_result"
    }
   ],
   "source": [
    "data.isna().sum()"
   ]
  },
  {
   "cell_type": "markdown",
   "id": "ddc81e43",
   "metadata": {
    "deletable": false,
    "id": "ddc81e43"
   },
   "source": [
    "### Изменение типов данных"
   ]
  },
  {
   "cell_type": "markdown",
   "id": "42d19d24",
   "metadata": {
    "deletable": false,
    "id": "42d19d24"
   },
   "source": [
    "**Задание 13. Замените вещественный тип данных в столбце `total_income` на целочисленный с помощью метода `astype()`.**"
   ]
  },
  {
   "cell_type": "code",
   "execution_count": 14,
   "id": "920b65ad",
   "metadata": {
    "deletable": false,
    "id": "920b65ad"
   },
   "outputs": [],
   "source": [
    "data['total_income'] = data['total_income'].astype(int)"
   ]
  },
  {
   "cell_type": "markdown",
   "id": "80c420ba",
   "metadata": {
    "deletable": false,
    "id": "80c420ba"
   },
   "source": [
    "### Обработка дубликатов"
   ]
  },
  {
   "cell_type": "markdown",
   "id": "dc587695",
   "metadata": {
    "deletable": false,
    "id": "dc587695"
   },
   "source": [
    "**Задание 14. Выведите на экран количество строк-дубликатов в данных. Если такие строки присутствуют, удалите их.**"
   ]
  },
  {
   "cell_type": "code",
   "execution_count": 15,
   "id": "3ee445e4",
   "metadata": {
    "deletable": false,
    "id": "3ee445e4",
    "outputId": "9684deba-1934-42d1-99e1-cda61740f822"
   },
   "outputs": [
    {
     "data": {
      "text/plain": [
       "54"
      ]
     },
     "execution_count": 15,
     "metadata": {},
     "output_type": "execute_result"
    }
   ],
   "source": [
    "data.duplicated().sum()"
   ]
  },
  {
   "cell_type": "code",
   "execution_count": 16,
   "id": "8575fe05",
   "metadata": {
    "deletable": false,
    "id": "8575fe05"
   },
   "outputs": [],
   "source": [
    "data = data.drop_duplicates()"
   ]
  },
  {
   "cell_type": "markdown",
   "id": "9771a76c",
   "metadata": {
    "deletable": false,
    "id": "9771a76c"
   },
   "source": [
    "**Задание 15. Обработайте неявные дубликаты в столбце `education`. В этом столбце есть одни и те же значения, но записанные по-разному: с использованием заглавных и строчных букв. Приведите их к нижнему регистру. Проверьте остальные столбцы.**"
   ]
  },
  {
   "cell_type": "code",
   "execution_count": 17,
   "id": "a9f8e2bf",
   "metadata": {
    "deletable": false,
    "id": "a9f8e2bf"
   },
   "outputs": [],
   "source": [
    "data['education'] = data['education'].str.lower()"
   ]
  },
  {
   "cell_type": "markdown",
   "id": "9904cf55",
   "metadata": {
    "deletable": false,
    "id": "9904cf55"
   },
   "source": [
    "### Категоризация данных"
   ]
  },
  {
   "cell_type": "markdown",
   "id": "72fcc8a2",
   "metadata": {
    "deletable": false,
    "id": "72fcc8a2"
   },
   "source": [
    "**Задание 16. На основании диапазонов, указанных ниже, создайте в датафрейме `data` столбец `total_income_category` с категориями:**\n",
    "\n",
    "- 0–30000 — `'E'`;\n",
    "- 30001–50000 — `'D'`;\n",
    "- 50001–200000 — `'C'`;\n",
    "- 200001–1000000 — `'B'`;\n",
    "- 1000001 и выше — `'A'`.\n",
    "\n",
    "\n",
    "**Например, кредитополучателю с доходом 25000 нужно назначить категорию `'E'`, а клиенту, получающему 235000, — `'B'`. Используйте собственную функцию с именем `categorize_income()` и метод `apply()`.**"
   ]
  },
  {
   "cell_type": "code",
   "execution_count": 18,
   "id": "e1771346",
   "metadata": {
    "deletable": false,
    "id": "e1771346"
   },
   "outputs": [],
   "source": [
    "def categorize_income(income):\n",
    "    try:\n",
    "        if 0 <= income <= 30000:\n",
    "            return 'E'\n",
    "        elif 30001 <= income <= 50000:\n",
    "            return 'D'\n",
    "        elif 50001 <= income <= 200000:\n",
    "            return 'C'\n",
    "        elif 200001 <= income <= 1000000:\n",
    "            return 'B'\n",
    "        elif income >= 1000001:\n",
    "            return 'A'\n",
    "    except:\n",
    "        pass"
   ]
  },
  {
   "cell_type": "code",
   "execution_count": 19,
   "id": "d5f3586d",
   "metadata": {
    "deletable": false,
    "id": "d5f3586d"
   },
   "outputs": [],
   "source": [
    "data['total_income_category'] = data['total_income'].apply(categorize_income)"
   ]
  },
  {
   "cell_type": "markdown",
   "id": "dde49b5c",
   "metadata": {
    "deletable": false,
    "id": "dde49b5c"
   },
   "source": [
    "**Задание 17. Выведите на экран перечень уникальных целей взятия кредита из столбца `purpose`.**"
   ]
  },
  {
   "cell_type": "code",
   "execution_count": 20,
   "id": "f67ce9b3",
   "metadata": {
    "deletable": false,
    "id": "f67ce9b3",
    "outputId": "673c12d9-7d7e-4ae0-9812-c622c89dd244"
   },
   "outputs": [
    {
     "data": {
      "text/plain": [
       "array(['покупка жилья', 'приобретение автомобиля',\n",
       "       'дополнительное образование', 'сыграть свадьбу',\n",
       "       'операции с жильем', 'образование', 'на проведение свадьбы',\n",
       "       'покупка жилья для семьи', 'покупка недвижимости',\n",
       "       'покупка коммерческой недвижимости', 'покупка жилой недвижимости',\n",
       "       'строительство собственной недвижимости', 'недвижимость',\n",
       "       'строительство недвижимости', 'на покупку подержанного автомобиля',\n",
       "       'на покупку своего автомобиля',\n",
       "       'операции с коммерческой недвижимостью',\n",
       "       'строительство жилой недвижимости', 'жилье',\n",
       "       'операции со своей недвижимостью', 'автомобили',\n",
       "       'заняться образованием', 'сделка с подержанным автомобилем',\n",
       "       'получение образования', 'автомобиль', 'свадьба',\n",
       "       'получение дополнительного образования', 'покупка своего жилья',\n",
       "       'операции с недвижимостью', 'получение высшего образования',\n",
       "       'свой автомобиль', 'сделка с автомобилем',\n",
       "       'профильное образование', 'высшее образование',\n",
       "       'покупка жилья для сдачи', 'на покупку автомобиля', 'ремонт жилью',\n",
       "       'заняться высшим образованием'], dtype=object)"
      ]
     },
     "execution_count": 20,
     "metadata": {},
     "output_type": "execute_result"
    }
   ],
   "source": [
    "data['purpose'].unique()"
   ]
  },
  {
   "cell_type": "markdown",
   "id": "85d0aef0",
   "metadata": {
    "deletable": false,
    "id": "85d0aef0"
   },
   "source": [
    "**Задание 18. Создайте функцию, которая на основании данных из столбца `purpose` сформирует новый столбец `purpose_category`, в который войдут следующие категории:**\n",
    "\n",
    "- `'операции с автомобилем'`,\n",
    "- `'операции с недвижимостью'`,\n",
    "- `'проведение свадьбы'`,\n",
    "- `'получение образования'`.\n",
    "\n",
    "**Например, если в столбце `purpose` находится подстрока `'на покупку автомобиля'`, то в столбце `purpose_category` должна появиться строка `'операции с автомобилем'`.**\n",
    "\n",
    "**Используйте собственную функцию с именем `categorize_purpose()` и метод `apply()`. Изучите данные в столбце `purpose` и определите, какие подстроки помогут вам правильно определить категорию.**"
   ]
  },
  {
   "cell_type": "code",
   "execution_count": 21,
   "id": "e149fab4",
   "metadata": {
    "deletable": false,
    "id": "e149fab4"
   },
   "outputs": [],
   "source": [
    "def categorize_purpose(row):\n",
    "    try:\n",
    "        if 'автом' in row:\n",
    "            return 'операции с автомобилем'\n",
    "        elif 'жил' in row or 'недвиж' in row:\n",
    "            return 'операции с недвижимостью'\n",
    "        elif 'свад' in row:\n",
    "            return 'проведение свадьбы'\n",
    "        elif 'образов' in row:\n",
    "            return 'получение образования'\n",
    "    except:\n",
    "        return 'нет категории'"
   ]
  },
  {
   "cell_type": "code",
   "execution_count": 22,
   "id": "bf36e69b",
   "metadata": {
    "deletable": false,
    "id": "bf36e69b"
   },
   "outputs": [],
   "source": [
    "data['purpose_category'] = data['purpose'].apply(categorize_purpose)"
   ]
  },
  {
   "cell_type": "markdown",
   "id": "09b242bf",
   "metadata": {
    "deletable": false,
    "editable": false,
    "id": "09b242bf"
   },
   "source": [
    "## Исследуйте данные и ответьте на вопросы"
   ]
  },
  {
   "cell_type": "markdown",
   "id": "c5d66278",
   "metadata": {
    "deletable": false,
    "editable": false,
    "id": "c5d66278"
   },
   "source": [
    "**Задание 19. Есть ли зависимость между количеством детей и возвратом кредита в срок?**"
   ]
  },
  {
   "cell_type": "markdown",
   "id": "b92b00f1",
   "metadata": {},
   "source": [
    "### Создаём функцию `pivot`, вносим в него обработанную и сгруппированную информацию из таблицы `data` чтобы проанализировать нужную выборку данных.  Как результат функции возвращаем сводную таблицу и график."
   ]
  },
  {
   "cell_type": "code",
   "execution_count": 25,
   "id": "f79ddff5",
   "metadata": {
    "scrolled": false
   },
   "outputs": [],
   "source": [
    "def pivot(data, column):\n",
    "    \n",
    "    \"\"\"\n",
    "    Делаем универсальную функцию для создания сводной таблицы где функция принимает датафрейм, группирует, \n",
    "    Переименовывает названия колонок. После этого выводим результаты в виде таблицы и графика.\n",
    "    \n",
    "    \n",
    "    count - подсчитает чисто все строки, т.е.  общее число клиентов\n",
    "    sum - сумму ноликов и единичек, т.е. по факту будет только сумма единиц => кол-во должников\n",
    "    mean - сумма деленна на кол-во, т.е. те же должники деленные на общее число клиентов\n",
    "       \n",
    "    \"\"\"\n",
    "    \n",
    "    pivot = data.pivot_table(index = column, values = 'debt', aggfunc = ['count', 'sum', 'mean']).reset_index()\n",
    "    pivot.columns = [column, 'Кол-во клиентов', 'Кол-во должников', '% невозврата']\n",
    "    display(pivot.sort_values('% невозврата', ascending = False))\n",
    "        \n",
    "    \n",
    "    fig = px.bar(pivot, x = column, y = '% невозврата', color = '% невозврата', title = '% невозврата по ' + column )\n",
    "    fig.show()\n",
    "    \n",
    "\n"
   ]
  },
  {
   "cell_type": "markdown",
   "id": "d0f7f6c6",
   "metadata": {},
   "source": [
    "#### Вызываем функцию `pivot()` с аргументом `data` и`'children'`. Выводим таблицу с количеством заёмщиков, должников и их пропорцией, а также строим график."
   ]
  },
  {
   "cell_type": "code",
   "execution_count": 26,
   "id": "617c31c3",
   "metadata": {},
   "outputs": [
    {
     "data": {
      "text/html": [
       "<div>\n",
       "<style scoped>\n",
       "    .dataframe tbody tr th:only-of-type {\n",
       "        vertical-align: middle;\n",
       "    }\n",
       "\n",
       "    .dataframe tbody tr th {\n",
       "        vertical-align: top;\n",
       "    }\n",
       "\n",
       "    .dataframe thead th {\n",
       "        text-align: right;\n",
       "    }\n",
       "</style>\n",
       "<table border=\"1\" class=\"dataframe\">\n",
       "  <thead>\n",
       "    <tr style=\"text-align: right;\">\n",
       "      <th></th>\n",
       "      <th>children</th>\n",
       "      <th>Кол-во клиентов</th>\n",
       "      <th>Кол-во должников</th>\n",
       "      <th>% невозврата</th>\n",
       "    </tr>\n",
       "  </thead>\n",
       "  <tbody>\n",
       "    <tr>\n",
       "      <th>4</th>\n",
       "      <td>4</td>\n",
       "      <td>41</td>\n",
       "      <td>4</td>\n",
       "      <td>0.097561</td>\n",
       "    </tr>\n",
       "    <tr>\n",
       "      <th>2</th>\n",
       "      <td>2</td>\n",
       "      <td>2052</td>\n",
       "      <td>194</td>\n",
       "      <td>0.094542</td>\n",
       "    </tr>\n",
       "    <tr>\n",
       "      <th>1</th>\n",
       "      <td>1</td>\n",
       "      <td>4809</td>\n",
       "      <td>444</td>\n",
       "      <td>0.092327</td>\n",
       "    </tr>\n",
       "    <tr>\n",
       "      <th>3</th>\n",
       "      <td>3</td>\n",
       "      <td>330</td>\n",
       "      <td>27</td>\n",
       "      <td>0.081818</td>\n",
       "    </tr>\n",
       "    <tr>\n",
       "      <th>0</th>\n",
       "      <td>0</td>\n",
       "      <td>14107</td>\n",
       "      <td>1063</td>\n",
       "      <td>0.075353</td>\n",
       "    </tr>\n",
       "    <tr>\n",
       "      <th>5</th>\n",
       "      <td>5</td>\n",
       "      <td>9</td>\n",
       "      <td>0</td>\n",
       "      <td>0.000000</td>\n",
       "    </tr>\n",
       "  </tbody>\n",
       "</table>\n",
       "</div>"
      ],
      "text/plain": [
       "   children  Кол-во клиентов  Кол-во должников  % невозврата\n",
       "4         4               41                 4      0.097561\n",
       "2         2             2052               194      0.094542\n",
       "1         1             4809               444      0.092327\n",
       "3         3              330                27      0.081818\n",
       "0         0            14107              1063      0.075353\n",
       "5         5                9                 0      0.000000"
      ]
     },
     "metadata": {},
     "output_type": "display_data"
    },
    {
     "data": {
      "application/vnd.plotly.v1+json": {
       "config": {
        "plotlyServerURL": "https://plot.ly"
       },
       "data": [
        {
         "alignmentgroup": "True",
         "hovertemplate": "children=%{x}<br>% невозврата=%{marker.color}<extra></extra>",
         "legendgroup": "",
         "marker": {
          "color": [
           0.07535266179910682,
           0.09232688708671241,
           0.09454191033138401,
           0.08181818181818182,
           0.0975609756097561,
           0
          ],
          "coloraxis": "coloraxis",
          "pattern": {
           "shape": ""
          }
         },
         "name": "",
         "offsetgroup": "",
         "orientation": "v",
         "showlegend": false,
         "textposition": "auto",
         "type": "bar",
         "x": [
          0,
          1,
          2,
          3,
          4,
          5
         ],
         "xaxis": "x",
         "y": [
          0.07535266179910682,
          0.09232688708671241,
          0.09454191033138401,
          0.08181818181818182,
          0.0975609756097561,
          0
         ],
         "yaxis": "y"
        }
       ],
       "layout": {
        "barmode": "relative",
        "coloraxis": {
         "colorbar": {
          "title": {
           "text": "% невозврата"
          }
         },
         "colorscale": [
          [
           0,
           "#0d0887"
          ],
          [
           0.1111111111111111,
           "#46039f"
          ],
          [
           0.2222222222222222,
           "#7201a8"
          ],
          [
           0.3333333333333333,
           "#9c179e"
          ],
          [
           0.4444444444444444,
           "#bd3786"
          ],
          [
           0.5555555555555556,
           "#d8576b"
          ],
          [
           0.6666666666666666,
           "#ed7953"
          ],
          [
           0.7777777777777778,
           "#fb9f3a"
          ],
          [
           0.8888888888888888,
           "#fdca26"
          ],
          [
           1,
           "#f0f921"
          ]
         ]
        },
        "legend": {
         "tracegroupgap": 0
        },
        "template": {
         "data": {
          "bar": [
           {
            "error_x": {
             "color": "#2a3f5f"
            },
            "error_y": {
             "color": "#2a3f5f"
            },
            "marker": {
             "line": {
              "color": "#E5ECF6",
              "width": 0.5
             },
             "pattern": {
              "fillmode": "overlay",
              "size": 10,
              "solidity": 0.2
             }
            },
            "type": "bar"
           }
          ],
          "barpolar": [
           {
            "marker": {
             "line": {
              "color": "#E5ECF6",
              "width": 0.5
             },
             "pattern": {
              "fillmode": "overlay",
              "size": 10,
              "solidity": 0.2
             }
            },
            "type": "barpolar"
           }
          ],
          "carpet": [
           {
            "aaxis": {
             "endlinecolor": "#2a3f5f",
             "gridcolor": "white",
             "linecolor": "white",
             "minorgridcolor": "white",
             "startlinecolor": "#2a3f5f"
            },
            "baxis": {
             "endlinecolor": "#2a3f5f",
             "gridcolor": "white",
             "linecolor": "white",
             "minorgridcolor": "white",
             "startlinecolor": "#2a3f5f"
            },
            "type": "carpet"
           }
          ],
          "choropleth": [
           {
            "colorbar": {
             "outlinewidth": 0,
             "ticks": ""
            },
            "type": "choropleth"
           }
          ],
          "contour": [
           {
            "colorbar": {
             "outlinewidth": 0,
             "ticks": ""
            },
            "colorscale": [
             [
              0,
              "#0d0887"
             ],
             [
              0.1111111111111111,
              "#46039f"
             ],
             [
              0.2222222222222222,
              "#7201a8"
             ],
             [
              0.3333333333333333,
              "#9c179e"
             ],
             [
              0.4444444444444444,
              "#bd3786"
             ],
             [
              0.5555555555555556,
              "#d8576b"
             ],
             [
              0.6666666666666666,
              "#ed7953"
             ],
             [
              0.7777777777777778,
              "#fb9f3a"
             ],
             [
              0.8888888888888888,
              "#fdca26"
             ],
             [
              1,
              "#f0f921"
             ]
            ],
            "type": "contour"
           }
          ],
          "contourcarpet": [
           {
            "colorbar": {
             "outlinewidth": 0,
             "ticks": ""
            },
            "type": "contourcarpet"
           }
          ],
          "heatmap": [
           {
            "colorbar": {
             "outlinewidth": 0,
             "ticks": ""
            },
            "colorscale": [
             [
              0,
              "#0d0887"
             ],
             [
              0.1111111111111111,
              "#46039f"
             ],
             [
              0.2222222222222222,
              "#7201a8"
             ],
             [
              0.3333333333333333,
              "#9c179e"
             ],
             [
              0.4444444444444444,
              "#bd3786"
             ],
             [
              0.5555555555555556,
              "#d8576b"
             ],
             [
              0.6666666666666666,
              "#ed7953"
             ],
             [
              0.7777777777777778,
              "#fb9f3a"
             ],
             [
              0.8888888888888888,
              "#fdca26"
             ],
             [
              1,
              "#f0f921"
             ]
            ],
            "type": "heatmap"
           }
          ],
          "heatmapgl": [
           {
            "colorbar": {
             "outlinewidth": 0,
             "ticks": ""
            },
            "colorscale": [
             [
              0,
              "#0d0887"
             ],
             [
              0.1111111111111111,
              "#46039f"
             ],
             [
              0.2222222222222222,
              "#7201a8"
             ],
             [
              0.3333333333333333,
              "#9c179e"
             ],
             [
              0.4444444444444444,
              "#bd3786"
             ],
             [
              0.5555555555555556,
              "#d8576b"
             ],
             [
              0.6666666666666666,
              "#ed7953"
             ],
             [
              0.7777777777777778,
              "#fb9f3a"
             ],
             [
              0.8888888888888888,
              "#fdca26"
             ],
             [
              1,
              "#f0f921"
             ]
            ],
            "type": "heatmapgl"
           }
          ],
          "histogram": [
           {
            "marker": {
             "pattern": {
              "fillmode": "overlay",
              "size": 10,
              "solidity": 0.2
             }
            },
            "type": "histogram"
           }
          ],
          "histogram2d": [
           {
            "colorbar": {
             "outlinewidth": 0,
             "ticks": ""
            },
            "colorscale": [
             [
              0,
              "#0d0887"
             ],
             [
              0.1111111111111111,
              "#46039f"
             ],
             [
              0.2222222222222222,
              "#7201a8"
             ],
             [
              0.3333333333333333,
              "#9c179e"
             ],
             [
              0.4444444444444444,
              "#bd3786"
             ],
             [
              0.5555555555555556,
              "#d8576b"
             ],
             [
              0.6666666666666666,
              "#ed7953"
             ],
             [
              0.7777777777777778,
              "#fb9f3a"
             ],
             [
              0.8888888888888888,
              "#fdca26"
             ],
             [
              1,
              "#f0f921"
             ]
            ],
            "type": "histogram2d"
           }
          ],
          "histogram2dcontour": [
           {
            "colorbar": {
             "outlinewidth": 0,
             "ticks": ""
            },
            "colorscale": [
             [
              0,
              "#0d0887"
             ],
             [
              0.1111111111111111,
              "#46039f"
             ],
             [
              0.2222222222222222,
              "#7201a8"
             ],
             [
              0.3333333333333333,
              "#9c179e"
             ],
             [
              0.4444444444444444,
              "#bd3786"
             ],
             [
              0.5555555555555556,
              "#d8576b"
             ],
             [
              0.6666666666666666,
              "#ed7953"
             ],
             [
              0.7777777777777778,
              "#fb9f3a"
             ],
             [
              0.8888888888888888,
              "#fdca26"
             ],
             [
              1,
              "#f0f921"
             ]
            ],
            "type": "histogram2dcontour"
           }
          ],
          "mesh3d": [
           {
            "colorbar": {
             "outlinewidth": 0,
             "ticks": ""
            },
            "type": "mesh3d"
           }
          ],
          "parcoords": [
           {
            "line": {
             "colorbar": {
              "outlinewidth": 0,
              "ticks": ""
             }
            },
            "type": "parcoords"
           }
          ],
          "pie": [
           {
            "automargin": true,
            "type": "pie"
           }
          ],
          "scatter": [
           {
            "marker": {
             "colorbar": {
              "outlinewidth": 0,
              "ticks": ""
             }
            },
            "type": "scatter"
           }
          ],
          "scatter3d": [
           {
            "line": {
             "colorbar": {
              "outlinewidth": 0,
              "ticks": ""
             }
            },
            "marker": {
             "colorbar": {
              "outlinewidth": 0,
              "ticks": ""
             }
            },
            "type": "scatter3d"
           }
          ],
          "scattercarpet": [
           {
            "marker": {
             "colorbar": {
              "outlinewidth": 0,
              "ticks": ""
             }
            },
            "type": "scattercarpet"
           }
          ],
          "scattergeo": [
           {
            "marker": {
             "colorbar": {
              "outlinewidth": 0,
              "ticks": ""
             }
            },
            "type": "scattergeo"
           }
          ],
          "scattergl": [
           {
            "marker": {
             "colorbar": {
              "outlinewidth": 0,
              "ticks": ""
             }
            },
            "type": "scattergl"
           }
          ],
          "scattermapbox": [
           {
            "marker": {
             "colorbar": {
              "outlinewidth": 0,
              "ticks": ""
             }
            },
            "type": "scattermapbox"
           }
          ],
          "scatterpolar": [
           {
            "marker": {
             "colorbar": {
              "outlinewidth": 0,
              "ticks": ""
             }
            },
            "type": "scatterpolar"
           }
          ],
          "scatterpolargl": [
           {
            "marker": {
             "colorbar": {
              "outlinewidth": 0,
              "ticks": ""
             }
            },
            "type": "scatterpolargl"
           }
          ],
          "scatterternary": [
           {
            "marker": {
             "colorbar": {
              "outlinewidth": 0,
              "ticks": ""
             }
            },
            "type": "scatterternary"
           }
          ],
          "surface": [
           {
            "colorbar": {
             "outlinewidth": 0,
             "ticks": ""
            },
            "colorscale": [
             [
              0,
              "#0d0887"
             ],
             [
              0.1111111111111111,
              "#46039f"
             ],
             [
              0.2222222222222222,
              "#7201a8"
             ],
             [
              0.3333333333333333,
              "#9c179e"
             ],
             [
              0.4444444444444444,
              "#bd3786"
             ],
             [
              0.5555555555555556,
              "#d8576b"
             ],
             [
              0.6666666666666666,
              "#ed7953"
             ],
             [
              0.7777777777777778,
              "#fb9f3a"
             ],
             [
              0.8888888888888888,
              "#fdca26"
             ],
             [
              1,
              "#f0f921"
             ]
            ],
            "type": "surface"
           }
          ],
          "table": [
           {
            "cells": {
             "fill": {
              "color": "#EBF0F8"
             },
             "line": {
              "color": "white"
             }
            },
            "header": {
             "fill": {
              "color": "#C8D4E3"
             },
             "line": {
              "color": "white"
             }
            },
            "type": "table"
           }
          ]
         },
         "layout": {
          "annotationdefaults": {
           "arrowcolor": "#2a3f5f",
           "arrowhead": 0,
           "arrowwidth": 1
          },
          "autotypenumbers": "strict",
          "coloraxis": {
           "colorbar": {
            "outlinewidth": 0,
            "ticks": ""
           }
          },
          "colorscale": {
           "diverging": [
            [
             0,
             "#8e0152"
            ],
            [
             0.1,
             "#c51b7d"
            ],
            [
             0.2,
             "#de77ae"
            ],
            [
             0.3,
             "#f1b6da"
            ],
            [
             0.4,
             "#fde0ef"
            ],
            [
             0.5,
             "#f7f7f7"
            ],
            [
             0.6,
             "#e6f5d0"
            ],
            [
             0.7,
             "#b8e186"
            ],
            [
             0.8,
             "#7fbc41"
            ],
            [
             0.9,
             "#4d9221"
            ],
            [
             1,
             "#276419"
            ]
           ],
           "sequential": [
            [
             0,
             "#0d0887"
            ],
            [
             0.1111111111111111,
             "#46039f"
            ],
            [
             0.2222222222222222,
             "#7201a8"
            ],
            [
             0.3333333333333333,
             "#9c179e"
            ],
            [
             0.4444444444444444,
             "#bd3786"
            ],
            [
             0.5555555555555556,
             "#d8576b"
            ],
            [
             0.6666666666666666,
             "#ed7953"
            ],
            [
             0.7777777777777778,
             "#fb9f3a"
            ],
            [
             0.8888888888888888,
             "#fdca26"
            ],
            [
             1,
             "#f0f921"
            ]
           ],
           "sequentialminus": [
            [
             0,
             "#0d0887"
            ],
            [
             0.1111111111111111,
             "#46039f"
            ],
            [
             0.2222222222222222,
             "#7201a8"
            ],
            [
             0.3333333333333333,
             "#9c179e"
            ],
            [
             0.4444444444444444,
             "#bd3786"
            ],
            [
             0.5555555555555556,
             "#d8576b"
            ],
            [
             0.6666666666666666,
             "#ed7953"
            ],
            [
             0.7777777777777778,
             "#fb9f3a"
            ],
            [
             0.8888888888888888,
             "#fdca26"
            ],
            [
             1,
             "#f0f921"
            ]
           ]
          },
          "colorway": [
           "#636efa",
           "#EF553B",
           "#00cc96",
           "#ab63fa",
           "#FFA15A",
           "#19d3f3",
           "#FF6692",
           "#B6E880",
           "#FF97FF",
           "#FECB52"
          ],
          "font": {
           "color": "#2a3f5f"
          },
          "geo": {
           "bgcolor": "white",
           "lakecolor": "white",
           "landcolor": "#E5ECF6",
           "showlakes": true,
           "showland": true,
           "subunitcolor": "white"
          },
          "hoverlabel": {
           "align": "left"
          },
          "hovermode": "closest",
          "mapbox": {
           "style": "light"
          },
          "paper_bgcolor": "white",
          "plot_bgcolor": "#E5ECF6",
          "polar": {
           "angularaxis": {
            "gridcolor": "white",
            "linecolor": "white",
            "ticks": ""
           },
           "bgcolor": "#E5ECF6",
           "radialaxis": {
            "gridcolor": "white",
            "linecolor": "white",
            "ticks": ""
           }
          },
          "scene": {
           "xaxis": {
            "backgroundcolor": "#E5ECF6",
            "gridcolor": "white",
            "gridwidth": 2,
            "linecolor": "white",
            "showbackground": true,
            "ticks": "",
            "zerolinecolor": "white"
           },
           "yaxis": {
            "backgroundcolor": "#E5ECF6",
            "gridcolor": "white",
            "gridwidth": 2,
            "linecolor": "white",
            "showbackground": true,
            "ticks": "",
            "zerolinecolor": "white"
           },
           "zaxis": {
            "backgroundcolor": "#E5ECF6",
            "gridcolor": "white",
            "gridwidth": 2,
            "linecolor": "white",
            "showbackground": true,
            "ticks": "",
            "zerolinecolor": "white"
           }
          },
          "shapedefaults": {
           "line": {
            "color": "#2a3f5f"
           }
          },
          "ternary": {
           "aaxis": {
            "gridcolor": "white",
            "linecolor": "white",
            "ticks": ""
           },
           "baxis": {
            "gridcolor": "white",
            "linecolor": "white",
            "ticks": ""
           },
           "bgcolor": "#E5ECF6",
           "caxis": {
            "gridcolor": "white",
            "linecolor": "white",
            "ticks": ""
           }
          },
          "title": {
           "x": 0.05
          },
          "xaxis": {
           "automargin": true,
           "gridcolor": "white",
           "linecolor": "white",
           "ticks": "",
           "title": {
            "standoff": 15
           },
           "zerolinecolor": "white",
           "zerolinewidth": 2
          },
          "yaxis": {
           "automargin": true,
           "gridcolor": "white",
           "linecolor": "white",
           "ticks": "",
           "title": {
            "standoff": 15
           },
           "zerolinecolor": "white",
           "zerolinewidth": 2
          }
         }
        },
        "title": {
         "text": "% невозврата по children"
        },
        "xaxis": {
         "anchor": "y",
         "domain": [
          0,
          1
         ],
         "title": {
          "text": "children"
         }
        },
        "yaxis": {
         "anchor": "x",
         "domain": [
          0,
          1
         ],
         "title": {
          "text": "% невозврата"
         }
        }
       }
      },
      "text/html": [
       "<div>                            <div id=\"b95d4b9d-1a7e-4c58-bbef-95f97f578656\" class=\"plotly-graph-div\" style=\"height:525px; width:100%;\"></div>            <script type=\"text/javascript\">                require([\"plotly\"], function(Plotly) {                    window.PLOTLYENV=window.PLOTLYENV || {};                                    if (document.getElementById(\"b95d4b9d-1a7e-4c58-bbef-95f97f578656\")) {                    Plotly.newPlot(                        \"b95d4b9d-1a7e-4c58-bbef-95f97f578656\",                        [{\"alignmentgroup\":\"True\",\"hovertemplate\":\"children=%{x}<br>% \\u043d\\u0435\\u0432\\u043e\\u0437\\u0432\\u0440\\u0430\\u0442\\u0430=%{marker.color}<extra></extra>\",\"legendgroup\":\"\",\"marker\":{\"color\":[0.07535266179910682,0.09232688708671241,0.09454191033138401,0.08181818181818182,0.0975609756097561,0.0],\"coloraxis\":\"coloraxis\",\"pattern\":{\"shape\":\"\"}},\"name\":\"\",\"offsetgroup\":\"\",\"orientation\":\"v\",\"showlegend\":false,\"textposition\":\"auto\",\"x\":[0,1,2,3,4,5],\"xaxis\":\"x\",\"y\":[0.07535266179910682,0.09232688708671241,0.09454191033138401,0.08181818181818182,0.0975609756097561,0.0],\"yaxis\":\"y\",\"type\":\"bar\"}],                        {\"template\":{\"data\":{\"bar\":[{\"error_x\":{\"color\":\"#2a3f5f\"},\"error_y\":{\"color\":\"#2a3f5f\"},\"marker\":{\"line\":{\"color\":\"#E5ECF6\",\"width\":0.5},\"pattern\":{\"fillmode\":\"overlay\",\"size\":10,\"solidity\":0.2}},\"type\":\"bar\"}],\"barpolar\":[{\"marker\":{\"line\":{\"color\":\"#E5ECF6\",\"width\":0.5},\"pattern\":{\"fillmode\":\"overlay\",\"size\":10,\"solidity\":0.2}},\"type\":\"barpolar\"}],\"carpet\":[{\"aaxis\":{\"endlinecolor\":\"#2a3f5f\",\"gridcolor\":\"white\",\"linecolor\":\"white\",\"minorgridcolor\":\"white\",\"startlinecolor\":\"#2a3f5f\"},\"baxis\":{\"endlinecolor\":\"#2a3f5f\",\"gridcolor\":\"white\",\"linecolor\":\"white\",\"minorgridcolor\":\"white\",\"startlinecolor\":\"#2a3f5f\"},\"type\":\"carpet\"}],\"choropleth\":[{\"colorbar\":{\"outlinewidth\":0,\"ticks\":\"\"},\"type\":\"choropleth\"}],\"contour\":[{\"colorbar\":{\"outlinewidth\":0,\"ticks\":\"\"},\"colorscale\":[[0.0,\"#0d0887\"],[0.1111111111111111,\"#46039f\"],[0.2222222222222222,\"#7201a8\"],[0.3333333333333333,\"#9c179e\"],[0.4444444444444444,\"#bd3786\"],[0.5555555555555556,\"#d8576b\"],[0.6666666666666666,\"#ed7953\"],[0.7777777777777778,\"#fb9f3a\"],[0.8888888888888888,\"#fdca26\"],[1.0,\"#f0f921\"]],\"type\":\"contour\"}],\"contourcarpet\":[{\"colorbar\":{\"outlinewidth\":0,\"ticks\":\"\"},\"type\":\"contourcarpet\"}],\"heatmap\":[{\"colorbar\":{\"outlinewidth\":0,\"ticks\":\"\"},\"colorscale\":[[0.0,\"#0d0887\"],[0.1111111111111111,\"#46039f\"],[0.2222222222222222,\"#7201a8\"],[0.3333333333333333,\"#9c179e\"],[0.4444444444444444,\"#bd3786\"],[0.5555555555555556,\"#d8576b\"],[0.6666666666666666,\"#ed7953\"],[0.7777777777777778,\"#fb9f3a\"],[0.8888888888888888,\"#fdca26\"],[1.0,\"#f0f921\"]],\"type\":\"heatmap\"}],\"heatmapgl\":[{\"colorbar\":{\"outlinewidth\":0,\"ticks\":\"\"},\"colorscale\":[[0.0,\"#0d0887\"],[0.1111111111111111,\"#46039f\"],[0.2222222222222222,\"#7201a8\"],[0.3333333333333333,\"#9c179e\"],[0.4444444444444444,\"#bd3786\"],[0.5555555555555556,\"#d8576b\"],[0.6666666666666666,\"#ed7953\"],[0.7777777777777778,\"#fb9f3a\"],[0.8888888888888888,\"#fdca26\"],[1.0,\"#f0f921\"]],\"type\":\"heatmapgl\"}],\"histogram\":[{\"marker\":{\"pattern\":{\"fillmode\":\"overlay\",\"size\":10,\"solidity\":0.2}},\"type\":\"histogram\"}],\"histogram2d\":[{\"colorbar\":{\"outlinewidth\":0,\"ticks\":\"\"},\"colorscale\":[[0.0,\"#0d0887\"],[0.1111111111111111,\"#46039f\"],[0.2222222222222222,\"#7201a8\"],[0.3333333333333333,\"#9c179e\"],[0.4444444444444444,\"#bd3786\"],[0.5555555555555556,\"#d8576b\"],[0.6666666666666666,\"#ed7953\"],[0.7777777777777778,\"#fb9f3a\"],[0.8888888888888888,\"#fdca26\"],[1.0,\"#f0f921\"]],\"type\":\"histogram2d\"}],\"histogram2dcontour\":[{\"colorbar\":{\"outlinewidth\":0,\"ticks\":\"\"},\"colorscale\":[[0.0,\"#0d0887\"],[0.1111111111111111,\"#46039f\"],[0.2222222222222222,\"#7201a8\"],[0.3333333333333333,\"#9c179e\"],[0.4444444444444444,\"#bd3786\"],[0.5555555555555556,\"#d8576b\"],[0.6666666666666666,\"#ed7953\"],[0.7777777777777778,\"#fb9f3a\"],[0.8888888888888888,\"#fdca26\"],[1.0,\"#f0f921\"]],\"type\":\"histogram2dcontour\"}],\"mesh3d\":[{\"colorbar\":{\"outlinewidth\":0,\"ticks\":\"\"},\"type\":\"mesh3d\"}],\"parcoords\":[{\"line\":{\"colorbar\":{\"outlinewidth\":0,\"ticks\":\"\"}},\"type\":\"parcoords\"}],\"pie\":[{\"automargin\":true,\"type\":\"pie\"}],\"scatter\":[{\"marker\":{\"colorbar\":{\"outlinewidth\":0,\"ticks\":\"\"}},\"type\":\"scatter\"}],\"scatter3d\":[{\"line\":{\"colorbar\":{\"outlinewidth\":0,\"ticks\":\"\"}},\"marker\":{\"colorbar\":{\"outlinewidth\":0,\"ticks\":\"\"}},\"type\":\"scatter3d\"}],\"scattercarpet\":[{\"marker\":{\"colorbar\":{\"outlinewidth\":0,\"ticks\":\"\"}},\"type\":\"scattercarpet\"}],\"scattergeo\":[{\"marker\":{\"colorbar\":{\"outlinewidth\":0,\"ticks\":\"\"}},\"type\":\"scattergeo\"}],\"scattergl\":[{\"marker\":{\"colorbar\":{\"outlinewidth\":0,\"ticks\":\"\"}},\"type\":\"scattergl\"}],\"scattermapbox\":[{\"marker\":{\"colorbar\":{\"outlinewidth\":0,\"ticks\":\"\"}},\"type\":\"scattermapbox\"}],\"scatterpolar\":[{\"marker\":{\"colorbar\":{\"outlinewidth\":0,\"ticks\":\"\"}},\"type\":\"scatterpolar\"}],\"scatterpolargl\":[{\"marker\":{\"colorbar\":{\"outlinewidth\":0,\"ticks\":\"\"}},\"type\":\"scatterpolargl\"}],\"scatterternary\":[{\"marker\":{\"colorbar\":{\"outlinewidth\":0,\"ticks\":\"\"}},\"type\":\"scatterternary\"}],\"surface\":[{\"colorbar\":{\"outlinewidth\":0,\"ticks\":\"\"},\"colorscale\":[[0.0,\"#0d0887\"],[0.1111111111111111,\"#46039f\"],[0.2222222222222222,\"#7201a8\"],[0.3333333333333333,\"#9c179e\"],[0.4444444444444444,\"#bd3786\"],[0.5555555555555556,\"#d8576b\"],[0.6666666666666666,\"#ed7953\"],[0.7777777777777778,\"#fb9f3a\"],[0.8888888888888888,\"#fdca26\"],[1.0,\"#f0f921\"]],\"type\":\"surface\"}],\"table\":[{\"cells\":{\"fill\":{\"color\":\"#EBF0F8\"},\"line\":{\"color\":\"white\"}},\"header\":{\"fill\":{\"color\":\"#C8D4E3\"},\"line\":{\"color\":\"white\"}},\"type\":\"table\"}]},\"layout\":{\"annotationdefaults\":{\"arrowcolor\":\"#2a3f5f\",\"arrowhead\":0,\"arrowwidth\":1},\"autotypenumbers\":\"strict\",\"coloraxis\":{\"colorbar\":{\"outlinewidth\":0,\"ticks\":\"\"}},\"colorscale\":{\"diverging\":[[0,\"#8e0152\"],[0.1,\"#c51b7d\"],[0.2,\"#de77ae\"],[0.3,\"#f1b6da\"],[0.4,\"#fde0ef\"],[0.5,\"#f7f7f7\"],[0.6,\"#e6f5d0\"],[0.7,\"#b8e186\"],[0.8,\"#7fbc41\"],[0.9,\"#4d9221\"],[1,\"#276419\"]],\"sequential\":[[0.0,\"#0d0887\"],[0.1111111111111111,\"#46039f\"],[0.2222222222222222,\"#7201a8\"],[0.3333333333333333,\"#9c179e\"],[0.4444444444444444,\"#bd3786\"],[0.5555555555555556,\"#d8576b\"],[0.6666666666666666,\"#ed7953\"],[0.7777777777777778,\"#fb9f3a\"],[0.8888888888888888,\"#fdca26\"],[1.0,\"#f0f921\"]],\"sequentialminus\":[[0.0,\"#0d0887\"],[0.1111111111111111,\"#46039f\"],[0.2222222222222222,\"#7201a8\"],[0.3333333333333333,\"#9c179e\"],[0.4444444444444444,\"#bd3786\"],[0.5555555555555556,\"#d8576b\"],[0.6666666666666666,\"#ed7953\"],[0.7777777777777778,\"#fb9f3a\"],[0.8888888888888888,\"#fdca26\"],[1.0,\"#f0f921\"]]},\"colorway\":[\"#636efa\",\"#EF553B\",\"#00cc96\",\"#ab63fa\",\"#FFA15A\",\"#19d3f3\",\"#FF6692\",\"#B6E880\",\"#FF97FF\",\"#FECB52\"],\"font\":{\"color\":\"#2a3f5f\"},\"geo\":{\"bgcolor\":\"white\",\"lakecolor\":\"white\",\"landcolor\":\"#E5ECF6\",\"showlakes\":true,\"showland\":true,\"subunitcolor\":\"white\"},\"hoverlabel\":{\"align\":\"left\"},\"hovermode\":\"closest\",\"mapbox\":{\"style\":\"light\"},\"paper_bgcolor\":\"white\",\"plot_bgcolor\":\"#E5ECF6\",\"polar\":{\"angularaxis\":{\"gridcolor\":\"white\",\"linecolor\":\"white\",\"ticks\":\"\"},\"bgcolor\":\"#E5ECF6\",\"radialaxis\":{\"gridcolor\":\"white\",\"linecolor\":\"white\",\"ticks\":\"\"}},\"scene\":{\"xaxis\":{\"backgroundcolor\":\"#E5ECF6\",\"gridcolor\":\"white\",\"gridwidth\":2,\"linecolor\":\"white\",\"showbackground\":true,\"ticks\":\"\",\"zerolinecolor\":\"white\"},\"yaxis\":{\"backgroundcolor\":\"#E5ECF6\",\"gridcolor\":\"white\",\"gridwidth\":2,\"linecolor\":\"white\",\"showbackground\":true,\"ticks\":\"\",\"zerolinecolor\":\"white\"},\"zaxis\":{\"backgroundcolor\":\"#E5ECF6\",\"gridcolor\":\"white\",\"gridwidth\":2,\"linecolor\":\"white\",\"showbackground\":true,\"ticks\":\"\",\"zerolinecolor\":\"white\"}},\"shapedefaults\":{\"line\":{\"color\":\"#2a3f5f\"}},\"ternary\":{\"aaxis\":{\"gridcolor\":\"white\",\"linecolor\":\"white\",\"ticks\":\"\"},\"baxis\":{\"gridcolor\":\"white\",\"linecolor\":\"white\",\"ticks\":\"\"},\"bgcolor\":\"#E5ECF6\",\"caxis\":{\"gridcolor\":\"white\",\"linecolor\":\"white\",\"ticks\":\"\"}},\"title\":{\"x\":0.05},\"xaxis\":{\"automargin\":true,\"gridcolor\":\"white\",\"linecolor\":\"white\",\"ticks\":\"\",\"title\":{\"standoff\":15},\"zerolinecolor\":\"white\",\"zerolinewidth\":2},\"yaxis\":{\"automargin\":true,\"gridcolor\":\"white\",\"linecolor\":\"white\",\"ticks\":\"\",\"title\":{\"standoff\":15},\"zerolinecolor\":\"white\",\"zerolinewidth\":2}}},\"xaxis\":{\"anchor\":\"y\",\"domain\":[0.0,1.0],\"title\":{\"text\":\"children\"}},\"yaxis\":{\"anchor\":\"x\",\"domain\":[0.0,1.0],\"title\":{\"text\":\"% \\u043d\\u0435\\u0432\\u043e\\u0437\\u0432\\u0440\\u0430\\u0442\\u0430\"}},\"coloraxis\":{\"colorbar\":{\"title\":{\"text\":\"% \\u043d\\u0435\\u0432\\u043e\\u0437\\u0432\\u0440\\u0430\\u0442\\u0430\"}},\"colorscale\":[[0.0,\"#0d0887\"],[0.1111111111111111,\"#46039f\"],[0.2222222222222222,\"#7201a8\"],[0.3333333333333333,\"#9c179e\"],[0.4444444444444444,\"#bd3786\"],[0.5555555555555556,\"#d8576b\"],[0.6666666666666666,\"#ed7953\"],[0.7777777777777778,\"#fb9f3a\"],[0.8888888888888888,\"#fdca26\"],[1.0,\"#f0f921\"]]},\"legend\":{\"tracegroupgap\":0},\"title\":{\"text\":\"% \\u043d\\u0435\\u0432\\u043e\\u0437\\u0432\\u0440\\u0430\\u0442\\u0430 \\u043f\\u043e children\"},\"barmode\":\"relative\"},                        {\"responsive\": true}                    ).then(function(){\n",
       "                            \n",
       "var gd = document.getElementById('b95d4b9d-1a7e-4c58-bbef-95f97f578656');\n",
       "var x = new MutationObserver(function (mutations, observer) {{\n",
       "        var display = window.getComputedStyle(gd).display;\n",
       "        if (!display || display === 'none') {{\n",
       "            console.log([gd, 'removed!']);\n",
       "            Plotly.purge(gd);\n",
       "            observer.disconnect();\n",
       "        }}\n",
       "}});\n",
       "\n",
       "// Listen for the removal of the full notebook cells\n",
       "var notebookContainer = gd.closest('#notebook-container');\n",
       "if (notebookContainer) {{\n",
       "    x.observe(notebookContainer, {childList: true});\n",
       "}}\n",
       "\n",
       "// Listen for the clearing of the current output cell\n",
       "var outputEl = gd.closest('.output');\n",
       "if (outputEl) {{\n",
       "    x.observe(outputEl, {childList: true});\n",
       "}}\n",
       "\n",
       "                        })                };                });            </script>        </div>"
      ]
     },
     "metadata": {},
     "output_type": "display_data"
    }
   ],
   "source": [
    "pivot(data, 'children')"
   ]
  },
  {
   "cell_type": "markdown",
   "id": "3a6b99ec",
   "metadata": {
    "deletable": false,
    "id": "3a6b99ec"
   },
   "source": [
    "**Вывод:**  Чем больше детей - тем больше долговое бремя у заёмщика, за исключением заёмщиков с тремя детьми у котороых долговая нагрузка несколько ниже чем у заёмщиков с 2-мя и 3-мя детьми. У заёмщиков с 5-ю детьми долги отсутствуют вовсе.\n",
    "\n",
    "Проблемы:\n",
    "Результат неярко выраженный и заметного контраста между количеством детей и сроком возврата дога не прослеживется, за исключением заёмщиков с 5-ю детьми у которых долга нет. Однако учитывая что 5-ти детных заёмщиков 9 человек, то результаты можно считать ненадёжными.\n",
    "\n",
    "Как решить (рекомендации):\n",
    "Чтобы добиться более представительного результата следует использовать более репрезентативную выбоку. Также, размер выборки, возможно, следует увеличить."
   ]
  },
  {
   "cell_type": "markdown",
   "id": "97be82ca",
   "metadata": {
    "deletable": false,
    "editable": false,
    "id": "97be82ca"
   },
   "source": [
    "**Задание 20. Есть ли зависимость между семейным положением и возвратом кредита в срок?**"
   ]
  },
  {
   "cell_type": "markdown",
   "id": "e2c3d217",
   "metadata": {},
   "source": [
    "### Вызываем функцию pivot() и применяем в качестве аргумента `data` и `data_family`."
   ]
  },
  {
   "cell_type": "code",
   "execution_count": 28,
   "id": "6d76602b",
   "metadata": {},
   "outputs": [
    {
     "data": {
      "text/html": [
       "<div>\n",
       "<style scoped>\n",
       "    .dataframe tbody tr th:only-of-type {\n",
       "        vertical-align: middle;\n",
       "    }\n",
       "\n",
       "    .dataframe tbody tr th {\n",
       "        vertical-align: top;\n",
       "    }\n",
       "\n",
       "    .dataframe thead th {\n",
       "        text-align: right;\n",
       "    }\n",
       "</style>\n",
       "<table border=\"1\" class=\"dataframe\">\n",
       "  <thead>\n",
       "    <tr style=\"text-align: right;\">\n",
       "      <th></th>\n",
       "      <th>family_status</th>\n",
       "      <th>Кол-во клиентов</th>\n",
       "      <th>Кол-во должников</th>\n",
       "      <th>% невозврата</th>\n",
       "    </tr>\n",
       "  </thead>\n",
       "  <tbody>\n",
       "    <tr>\n",
       "      <th>0</th>\n",
       "      <td>Не женат / не замужем</td>\n",
       "      <td>2796</td>\n",
       "      <td>273</td>\n",
       "      <td>0.097639</td>\n",
       "    </tr>\n",
       "    <tr>\n",
       "      <th>3</th>\n",
       "      <td>гражданский брак</td>\n",
       "      <td>4146</td>\n",
       "      <td>385</td>\n",
       "      <td>0.092861</td>\n",
       "    </tr>\n",
       "    <tr>\n",
       "      <th>4</th>\n",
       "      <td>женат / замужем</td>\n",
       "      <td>12266</td>\n",
       "      <td>927</td>\n",
       "      <td>0.075575</td>\n",
       "    </tr>\n",
       "    <tr>\n",
       "      <th>1</th>\n",
       "      <td>в разводе</td>\n",
       "      <td>1189</td>\n",
       "      <td>84</td>\n",
       "      <td>0.070648</td>\n",
       "    </tr>\n",
       "    <tr>\n",
       "      <th>2</th>\n",
       "      <td>вдовец / вдова</td>\n",
       "      <td>951</td>\n",
       "      <td>63</td>\n",
       "      <td>0.066246</td>\n",
       "    </tr>\n",
       "  </tbody>\n",
       "</table>\n",
       "</div>"
      ],
      "text/plain": [
       "           family_status  Кол-во клиентов  Кол-во должников  % невозврата\n",
       "0  Не женат / не замужем             2796               273      0.097639\n",
       "3       гражданский брак             4146               385      0.092861\n",
       "4        женат / замужем            12266               927      0.075575\n",
       "1              в разводе             1189                84      0.070648\n",
       "2         вдовец / вдова              951                63      0.066246"
      ]
     },
     "metadata": {},
     "output_type": "display_data"
    },
    {
     "data": {
      "application/vnd.plotly.v1+json": {
       "config": {
        "plotlyServerURL": "https://plot.ly"
       },
       "data": [
        {
         "alignmentgroup": "True",
         "hovertemplate": "family_status=%{x}<br>% невозврата=%{marker.color}<extra></extra>",
         "legendgroup": "",
         "marker": {
          "color": [
           0.09763948497854077,
           0.07064760302775441,
           0.06624605678233439,
           0.09286058851905452,
           0.0755747594977988
          ],
          "coloraxis": "coloraxis",
          "pattern": {
           "shape": ""
          }
         },
         "name": "",
         "offsetgroup": "",
         "orientation": "v",
         "showlegend": false,
         "textposition": "auto",
         "type": "bar",
         "x": [
          "Не женат / не замужем",
          "в разводе",
          "вдовец / вдова",
          "гражданский брак",
          "женат / замужем"
         ],
         "xaxis": "x",
         "y": [
          0.09763948497854077,
          0.07064760302775441,
          0.06624605678233439,
          0.09286058851905452,
          0.0755747594977988
         ],
         "yaxis": "y"
        }
       ],
       "layout": {
        "barmode": "relative",
        "coloraxis": {
         "colorbar": {
          "title": {
           "text": "% невозврата"
          }
         },
         "colorscale": [
          [
           0,
           "#0d0887"
          ],
          [
           0.1111111111111111,
           "#46039f"
          ],
          [
           0.2222222222222222,
           "#7201a8"
          ],
          [
           0.3333333333333333,
           "#9c179e"
          ],
          [
           0.4444444444444444,
           "#bd3786"
          ],
          [
           0.5555555555555556,
           "#d8576b"
          ],
          [
           0.6666666666666666,
           "#ed7953"
          ],
          [
           0.7777777777777778,
           "#fb9f3a"
          ],
          [
           0.8888888888888888,
           "#fdca26"
          ],
          [
           1,
           "#f0f921"
          ]
         ]
        },
        "legend": {
         "tracegroupgap": 0
        },
        "template": {
         "data": {
          "bar": [
           {
            "error_x": {
             "color": "#2a3f5f"
            },
            "error_y": {
             "color": "#2a3f5f"
            },
            "marker": {
             "line": {
              "color": "#E5ECF6",
              "width": 0.5
             },
             "pattern": {
              "fillmode": "overlay",
              "size": 10,
              "solidity": 0.2
             }
            },
            "type": "bar"
           }
          ],
          "barpolar": [
           {
            "marker": {
             "line": {
              "color": "#E5ECF6",
              "width": 0.5
             },
             "pattern": {
              "fillmode": "overlay",
              "size": 10,
              "solidity": 0.2
             }
            },
            "type": "barpolar"
           }
          ],
          "carpet": [
           {
            "aaxis": {
             "endlinecolor": "#2a3f5f",
             "gridcolor": "white",
             "linecolor": "white",
             "minorgridcolor": "white",
             "startlinecolor": "#2a3f5f"
            },
            "baxis": {
             "endlinecolor": "#2a3f5f",
             "gridcolor": "white",
             "linecolor": "white",
             "minorgridcolor": "white",
             "startlinecolor": "#2a3f5f"
            },
            "type": "carpet"
           }
          ],
          "choropleth": [
           {
            "colorbar": {
             "outlinewidth": 0,
             "ticks": ""
            },
            "type": "choropleth"
           }
          ],
          "contour": [
           {
            "colorbar": {
             "outlinewidth": 0,
             "ticks": ""
            },
            "colorscale": [
             [
              0,
              "#0d0887"
             ],
             [
              0.1111111111111111,
              "#46039f"
             ],
             [
              0.2222222222222222,
              "#7201a8"
             ],
             [
              0.3333333333333333,
              "#9c179e"
             ],
             [
              0.4444444444444444,
              "#bd3786"
             ],
             [
              0.5555555555555556,
              "#d8576b"
             ],
             [
              0.6666666666666666,
              "#ed7953"
             ],
             [
              0.7777777777777778,
              "#fb9f3a"
             ],
             [
              0.8888888888888888,
              "#fdca26"
             ],
             [
              1,
              "#f0f921"
             ]
            ],
            "type": "contour"
           }
          ],
          "contourcarpet": [
           {
            "colorbar": {
             "outlinewidth": 0,
             "ticks": ""
            },
            "type": "contourcarpet"
           }
          ],
          "heatmap": [
           {
            "colorbar": {
             "outlinewidth": 0,
             "ticks": ""
            },
            "colorscale": [
             [
              0,
              "#0d0887"
             ],
             [
              0.1111111111111111,
              "#46039f"
             ],
             [
              0.2222222222222222,
              "#7201a8"
             ],
             [
              0.3333333333333333,
              "#9c179e"
             ],
             [
              0.4444444444444444,
              "#bd3786"
             ],
             [
              0.5555555555555556,
              "#d8576b"
             ],
             [
              0.6666666666666666,
              "#ed7953"
             ],
             [
              0.7777777777777778,
              "#fb9f3a"
             ],
             [
              0.8888888888888888,
              "#fdca26"
             ],
             [
              1,
              "#f0f921"
             ]
            ],
            "type": "heatmap"
           }
          ],
          "heatmapgl": [
           {
            "colorbar": {
             "outlinewidth": 0,
             "ticks": ""
            },
            "colorscale": [
             [
              0,
              "#0d0887"
             ],
             [
              0.1111111111111111,
              "#46039f"
             ],
             [
              0.2222222222222222,
              "#7201a8"
             ],
             [
              0.3333333333333333,
              "#9c179e"
             ],
             [
              0.4444444444444444,
              "#bd3786"
             ],
             [
              0.5555555555555556,
              "#d8576b"
             ],
             [
              0.6666666666666666,
              "#ed7953"
             ],
             [
              0.7777777777777778,
              "#fb9f3a"
             ],
             [
              0.8888888888888888,
              "#fdca26"
             ],
             [
              1,
              "#f0f921"
             ]
            ],
            "type": "heatmapgl"
           }
          ],
          "histogram": [
           {
            "marker": {
             "pattern": {
              "fillmode": "overlay",
              "size": 10,
              "solidity": 0.2
             }
            },
            "type": "histogram"
           }
          ],
          "histogram2d": [
           {
            "colorbar": {
             "outlinewidth": 0,
             "ticks": ""
            },
            "colorscale": [
             [
              0,
              "#0d0887"
             ],
             [
              0.1111111111111111,
              "#46039f"
             ],
             [
              0.2222222222222222,
              "#7201a8"
             ],
             [
              0.3333333333333333,
              "#9c179e"
             ],
             [
              0.4444444444444444,
              "#bd3786"
             ],
             [
              0.5555555555555556,
              "#d8576b"
             ],
             [
              0.6666666666666666,
              "#ed7953"
             ],
             [
              0.7777777777777778,
              "#fb9f3a"
             ],
             [
              0.8888888888888888,
              "#fdca26"
             ],
             [
              1,
              "#f0f921"
             ]
            ],
            "type": "histogram2d"
           }
          ],
          "histogram2dcontour": [
           {
            "colorbar": {
             "outlinewidth": 0,
             "ticks": ""
            },
            "colorscale": [
             [
              0,
              "#0d0887"
             ],
             [
              0.1111111111111111,
              "#46039f"
             ],
             [
              0.2222222222222222,
              "#7201a8"
             ],
             [
              0.3333333333333333,
              "#9c179e"
             ],
             [
              0.4444444444444444,
              "#bd3786"
             ],
             [
              0.5555555555555556,
              "#d8576b"
             ],
             [
              0.6666666666666666,
              "#ed7953"
             ],
             [
              0.7777777777777778,
              "#fb9f3a"
             ],
             [
              0.8888888888888888,
              "#fdca26"
             ],
             [
              1,
              "#f0f921"
             ]
            ],
            "type": "histogram2dcontour"
           }
          ],
          "mesh3d": [
           {
            "colorbar": {
             "outlinewidth": 0,
             "ticks": ""
            },
            "type": "mesh3d"
           }
          ],
          "parcoords": [
           {
            "line": {
             "colorbar": {
              "outlinewidth": 0,
              "ticks": ""
             }
            },
            "type": "parcoords"
           }
          ],
          "pie": [
           {
            "automargin": true,
            "type": "pie"
           }
          ],
          "scatter": [
           {
            "marker": {
             "colorbar": {
              "outlinewidth": 0,
              "ticks": ""
             }
            },
            "type": "scatter"
           }
          ],
          "scatter3d": [
           {
            "line": {
             "colorbar": {
              "outlinewidth": 0,
              "ticks": ""
             }
            },
            "marker": {
             "colorbar": {
              "outlinewidth": 0,
              "ticks": ""
             }
            },
            "type": "scatter3d"
           }
          ],
          "scattercarpet": [
           {
            "marker": {
             "colorbar": {
              "outlinewidth": 0,
              "ticks": ""
             }
            },
            "type": "scattercarpet"
           }
          ],
          "scattergeo": [
           {
            "marker": {
             "colorbar": {
              "outlinewidth": 0,
              "ticks": ""
             }
            },
            "type": "scattergeo"
           }
          ],
          "scattergl": [
           {
            "marker": {
             "colorbar": {
              "outlinewidth": 0,
              "ticks": ""
             }
            },
            "type": "scattergl"
           }
          ],
          "scattermapbox": [
           {
            "marker": {
             "colorbar": {
              "outlinewidth": 0,
              "ticks": ""
             }
            },
            "type": "scattermapbox"
           }
          ],
          "scatterpolar": [
           {
            "marker": {
             "colorbar": {
              "outlinewidth": 0,
              "ticks": ""
             }
            },
            "type": "scatterpolar"
           }
          ],
          "scatterpolargl": [
           {
            "marker": {
             "colorbar": {
              "outlinewidth": 0,
              "ticks": ""
             }
            },
            "type": "scatterpolargl"
           }
          ],
          "scatterternary": [
           {
            "marker": {
             "colorbar": {
              "outlinewidth": 0,
              "ticks": ""
             }
            },
            "type": "scatterternary"
           }
          ],
          "surface": [
           {
            "colorbar": {
             "outlinewidth": 0,
             "ticks": ""
            },
            "colorscale": [
             [
              0,
              "#0d0887"
             ],
             [
              0.1111111111111111,
              "#46039f"
             ],
             [
              0.2222222222222222,
              "#7201a8"
             ],
             [
              0.3333333333333333,
              "#9c179e"
             ],
             [
              0.4444444444444444,
              "#bd3786"
             ],
             [
              0.5555555555555556,
              "#d8576b"
             ],
             [
              0.6666666666666666,
              "#ed7953"
             ],
             [
              0.7777777777777778,
              "#fb9f3a"
             ],
             [
              0.8888888888888888,
              "#fdca26"
             ],
             [
              1,
              "#f0f921"
             ]
            ],
            "type": "surface"
           }
          ],
          "table": [
           {
            "cells": {
             "fill": {
              "color": "#EBF0F8"
             },
             "line": {
              "color": "white"
             }
            },
            "header": {
             "fill": {
              "color": "#C8D4E3"
             },
             "line": {
              "color": "white"
             }
            },
            "type": "table"
           }
          ]
         },
         "layout": {
          "annotationdefaults": {
           "arrowcolor": "#2a3f5f",
           "arrowhead": 0,
           "arrowwidth": 1
          },
          "autotypenumbers": "strict",
          "coloraxis": {
           "colorbar": {
            "outlinewidth": 0,
            "ticks": ""
           }
          },
          "colorscale": {
           "diverging": [
            [
             0,
             "#8e0152"
            ],
            [
             0.1,
             "#c51b7d"
            ],
            [
             0.2,
             "#de77ae"
            ],
            [
             0.3,
             "#f1b6da"
            ],
            [
             0.4,
             "#fde0ef"
            ],
            [
             0.5,
             "#f7f7f7"
            ],
            [
             0.6,
             "#e6f5d0"
            ],
            [
             0.7,
             "#b8e186"
            ],
            [
             0.8,
             "#7fbc41"
            ],
            [
             0.9,
             "#4d9221"
            ],
            [
             1,
             "#276419"
            ]
           ],
           "sequential": [
            [
             0,
             "#0d0887"
            ],
            [
             0.1111111111111111,
             "#46039f"
            ],
            [
             0.2222222222222222,
             "#7201a8"
            ],
            [
             0.3333333333333333,
             "#9c179e"
            ],
            [
             0.4444444444444444,
             "#bd3786"
            ],
            [
             0.5555555555555556,
             "#d8576b"
            ],
            [
             0.6666666666666666,
             "#ed7953"
            ],
            [
             0.7777777777777778,
             "#fb9f3a"
            ],
            [
             0.8888888888888888,
             "#fdca26"
            ],
            [
             1,
             "#f0f921"
            ]
           ],
           "sequentialminus": [
            [
             0,
             "#0d0887"
            ],
            [
             0.1111111111111111,
             "#46039f"
            ],
            [
             0.2222222222222222,
             "#7201a8"
            ],
            [
             0.3333333333333333,
             "#9c179e"
            ],
            [
             0.4444444444444444,
             "#bd3786"
            ],
            [
             0.5555555555555556,
             "#d8576b"
            ],
            [
             0.6666666666666666,
             "#ed7953"
            ],
            [
             0.7777777777777778,
             "#fb9f3a"
            ],
            [
             0.8888888888888888,
             "#fdca26"
            ],
            [
             1,
             "#f0f921"
            ]
           ]
          },
          "colorway": [
           "#636efa",
           "#EF553B",
           "#00cc96",
           "#ab63fa",
           "#FFA15A",
           "#19d3f3",
           "#FF6692",
           "#B6E880",
           "#FF97FF",
           "#FECB52"
          ],
          "font": {
           "color": "#2a3f5f"
          },
          "geo": {
           "bgcolor": "white",
           "lakecolor": "white",
           "landcolor": "#E5ECF6",
           "showlakes": true,
           "showland": true,
           "subunitcolor": "white"
          },
          "hoverlabel": {
           "align": "left"
          },
          "hovermode": "closest",
          "mapbox": {
           "style": "light"
          },
          "paper_bgcolor": "white",
          "plot_bgcolor": "#E5ECF6",
          "polar": {
           "angularaxis": {
            "gridcolor": "white",
            "linecolor": "white",
            "ticks": ""
           },
           "bgcolor": "#E5ECF6",
           "radialaxis": {
            "gridcolor": "white",
            "linecolor": "white",
            "ticks": ""
           }
          },
          "scene": {
           "xaxis": {
            "backgroundcolor": "#E5ECF6",
            "gridcolor": "white",
            "gridwidth": 2,
            "linecolor": "white",
            "showbackground": true,
            "ticks": "",
            "zerolinecolor": "white"
           },
           "yaxis": {
            "backgroundcolor": "#E5ECF6",
            "gridcolor": "white",
            "gridwidth": 2,
            "linecolor": "white",
            "showbackground": true,
            "ticks": "",
            "zerolinecolor": "white"
           },
           "zaxis": {
            "backgroundcolor": "#E5ECF6",
            "gridcolor": "white",
            "gridwidth": 2,
            "linecolor": "white",
            "showbackground": true,
            "ticks": "",
            "zerolinecolor": "white"
           }
          },
          "shapedefaults": {
           "line": {
            "color": "#2a3f5f"
           }
          },
          "ternary": {
           "aaxis": {
            "gridcolor": "white",
            "linecolor": "white",
            "ticks": ""
           },
           "baxis": {
            "gridcolor": "white",
            "linecolor": "white",
            "ticks": ""
           },
           "bgcolor": "#E5ECF6",
           "caxis": {
            "gridcolor": "white",
            "linecolor": "white",
            "ticks": ""
           }
          },
          "title": {
           "x": 0.05
          },
          "xaxis": {
           "automargin": true,
           "gridcolor": "white",
           "linecolor": "white",
           "ticks": "",
           "title": {
            "standoff": 15
           },
           "zerolinecolor": "white",
           "zerolinewidth": 2
          },
          "yaxis": {
           "automargin": true,
           "gridcolor": "white",
           "linecolor": "white",
           "ticks": "",
           "title": {
            "standoff": 15
           },
           "zerolinecolor": "white",
           "zerolinewidth": 2
          }
         }
        },
        "title": {
         "text": "% невозврата по family_status"
        },
        "xaxis": {
         "anchor": "y",
         "domain": [
          0,
          1
         ],
         "title": {
          "text": "family_status"
         }
        },
        "yaxis": {
         "anchor": "x",
         "domain": [
          0,
          1
         ],
         "title": {
          "text": "% невозврата"
         }
        }
       }
      },
      "text/html": [
       "<div>                            <div id=\"af37adc8-7141-4dfe-a502-66751c5213be\" class=\"plotly-graph-div\" style=\"height:525px; width:100%;\"></div>            <script type=\"text/javascript\">                require([\"plotly\"], function(Plotly) {                    window.PLOTLYENV=window.PLOTLYENV || {};                                    if (document.getElementById(\"af37adc8-7141-4dfe-a502-66751c5213be\")) {                    Plotly.newPlot(                        \"af37adc8-7141-4dfe-a502-66751c5213be\",                        [{\"alignmentgroup\":\"True\",\"hovertemplate\":\"family_status=%{x}<br>% \\u043d\\u0435\\u0432\\u043e\\u0437\\u0432\\u0440\\u0430\\u0442\\u0430=%{marker.color}<extra></extra>\",\"legendgroup\":\"\",\"marker\":{\"color\":[0.09763948497854077,0.07064760302775441,0.06624605678233439,0.09286058851905452,0.0755747594977988],\"coloraxis\":\"coloraxis\",\"pattern\":{\"shape\":\"\"}},\"name\":\"\",\"offsetgroup\":\"\",\"orientation\":\"v\",\"showlegend\":false,\"textposition\":\"auto\",\"x\":[\"\\u041d\\u0435 \\u0436\\u0435\\u043d\\u0430\\u0442 / \\u043d\\u0435 \\u0437\\u0430\\u043c\\u0443\\u0436\\u0435\\u043c\",\"\\u0432 \\u0440\\u0430\\u0437\\u0432\\u043e\\u0434\\u0435\",\"\\u0432\\u0434\\u043e\\u0432\\u0435\\u0446 / \\u0432\\u0434\\u043e\\u0432\\u0430\",\"\\u0433\\u0440\\u0430\\u0436\\u0434\\u0430\\u043d\\u0441\\u043a\\u0438\\u0439 \\u0431\\u0440\\u0430\\u043a\",\"\\u0436\\u0435\\u043d\\u0430\\u0442 / \\u0437\\u0430\\u043c\\u0443\\u0436\\u0435\\u043c\"],\"xaxis\":\"x\",\"y\":[0.09763948497854077,0.07064760302775441,0.06624605678233439,0.09286058851905452,0.0755747594977988],\"yaxis\":\"y\",\"type\":\"bar\"}],                        {\"template\":{\"data\":{\"bar\":[{\"error_x\":{\"color\":\"#2a3f5f\"},\"error_y\":{\"color\":\"#2a3f5f\"},\"marker\":{\"line\":{\"color\":\"#E5ECF6\",\"width\":0.5},\"pattern\":{\"fillmode\":\"overlay\",\"size\":10,\"solidity\":0.2}},\"type\":\"bar\"}],\"barpolar\":[{\"marker\":{\"line\":{\"color\":\"#E5ECF6\",\"width\":0.5},\"pattern\":{\"fillmode\":\"overlay\",\"size\":10,\"solidity\":0.2}},\"type\":\"barpolar\"}],\"carpet\":[{\"aaxis\":{\"endlinecolor\":\"#2a3f5f\",\"gridcolor\":\"white\",\"linecolor\":\"white\",\"minorgridcolor\":\"white\",\"startlinecolor\":\"#2a3f5f\"},\"baxis\":{\"endlinecolor\":\"#2a3f5f\",\"gridcolor\":\"white\",\"linecolor\":\"white\",\"minorgridcolor\":\"white\",\"startlinecolor\":\"#2a3f5f\"},\"type\":\"carpet\"}],\"choropleth\":[{\"colorbar\":{\"outlinewidth\":0,\"ticks\":\"\"},\"type\":\"choropleth\"}],\"contour\":[{\"colorbar\":{\"outlinewidth\":0,\"ticks\":\"\"},\"colorscale\":[[0.0,\"#0d0887\"],[0.1111111111111111,\"#46039f\"],[0.2222222222222222,\"#7201a8\"],[0.3333333333333333,\"#9c179e\"],[0.4444444444444444,\"#bd3786\"],[0.5555555555555556,\"#d8576b\"],[0.6666666666666666,\"#ed7953\"],[0.7777777777777778,\"#fb9f3a\"],[0.8888888888888888,\"#fdca26\"],[1.0,\"#f0f921\"]],\"type\":\"contour\"}],\"contourcarpet\":[{\"colorbar\":{\"outlinewidth\":0,\"ticks\":\"\"},\"type\":\"contourcarpet\"}],\"heatmap\":[{\"colorbar\":{\"outlinewidth\":0,\"ticks\":\"\"},\"colorscale\":[[0.0,\"#0d0887\"],[0.1111111111111111,\"#46039f\"],[0.2222222222222222,\"#7201a8\"],[0.3333333333333333,\"#9c179e\"],[0.4444444444444444,\"#bd3786\"],[0.5555555555555556,\"#d8576b\"],[0.6666666666666666,\"#ed7953\"],[0.7777777777777778,\"#fb9f3a\"],[0.8888888888888888,\"#fdca26\"],[1.0,\"#f0f921\"]],\"type\":\"heatmap\"}],\"heatmapgl\":[{\"colorbar\":{\"outlinewidth\":0,\"ticks\":\"\"},\"colorscale\":[[0.0,\"#0d0887\"],[0.1111111111111111,\"#46039f\"],[0.2222222222222222,\"#7201a8\"],[0.3333333333333333,\"#9c179e\"],[0.4444444444444444,\"#bd3786\"],[0.5555555555555556,\"#d8576b\"],[0.6666666666666666,\"#ed7953\"],[0.7777777777777778,\"#fb9f3a\"],[0.8888888888888888,\"#fdca26\"],[1.0,\"#f0f921\"]],\"type\":\"heatmapgl\"}],\"histogram\":[{\"marker\":{\"pattern\":{\"fillmode\":\"overlay\",\"size\":10,\"solidity\":0.2}},\"type\":\"histogram\"}],\"histogram2d\":[{\"colorbar\":{\"outlinewidth\":0,\"ticks\":\"\"},\"colorscale\":[[0.0,\"#0d0887\"],[0.1111111111111111,\"#46039f\"],[0.2222222222222222,\"#7201a8\"],[0.3333333333333333,\"#9c179e\"],[0.4444444444444444,\"#bd3786\"],[0.5555555555555556,\"#d8576b\"],[0.6666666666666666,\"#ed7953\"],[0.7777777777777778,\"#fb9f3a\"],[0.8888888888888888,\"#fdca26\"],[1.0,\"#f0f921\"]],\"type\":\"histogram2d\"}],\"histogram2dcontour\":[{\"colorbar\":{\"outlinewidth\":0,\"ticks\":\"\"},\"colorscale\":[[0.0,\"#0d0887\"],[0.1111111111111111,\"#46039f\"],[0.2222222222222222,\"#7201a8\"],[0.3333333333333333,\"#9c179e\"],[0.4444444444444444,\"#bd3786\"],[0.5555555555555556,\"#d8576b\"],[0.6666666666666666,\"#ed7953\"],[0.7777777777777778,\"#fb9f3a\"],[0.8888888888888888,\"#fdca26\"],[1.0,\"#f0f921\"]],\"type\":\"histogram2dcontour\"}],\"mesh3d\":[{\"colorbar\":{\"outlinewidth\":0,\"ticks\":\"\"},\"type\":\"mesh3d\"}],\"parcoords\":[{\"line\":{\"colorbar\":{\"outlinewidth\":0,\"ticks\":\"\"}},\"type\":\"parcoords\"}],\"pie\":[{\"automargin\":true,\"type\":\"pie\"}],\"scatter\":[{\"marker\":{\"colorbar\":{\"outlinewidth\":0,\"ticks\":\"\"}},\"type\":\"scatter\"}],\"scatter3d\":[{\"line\":{\"colorbar\":{\"outlinewidth\":0,\"ticks\":\"\"}},\"marker\":{\"colorbar\":{\"outlinewidth\":0,\"ticks\":\"\"}},\"type\":\"scatter3d\"}],\"scattercarpet\":[{\"marker\":{\"colorbar\":{\"outlinewidth\":0,\"ticks\":\"\"}},\"type\":\"scattercarpet\"}],\"scattergeo\":[{\"marker\":{\"colorbar\":{\"outlinewidth\":0,\"ticks\":\"\"}},\"type\":\"scattergeo\"}],\"scattergl\":[{\"marker\":{\"colorbar\":{\"outlinewidth\":0,\"ticks\":\"\"}},\"type\":\"scattergl\"}],\"scattermapbox\":[{\"marker\":{\"colorbar\":{\"outlinewidth\":0,\"ticks\":\"\"}},\"type\":\"scattermapbox\"}],\"scatterpolar\":[{\"marker\":{\"colorbar\":{\"outlinewidth\":0,\"ticks\":\"\"}},\"type\":\"scatterpolar\"}],\"scatterpolargl\":[{\"marker\":{\"colorbar\":{\"outlinewidth\":0,\"ticks\":\"\"}},\"type\":\"scatterpolargl\"}],\"scatterternary\":[{\"marker\":{\"colorbar\":{\"outlinewidth\":0,\"ticks\":\"\"}},\"type\":\"scatterternary\"}],\"surface\":[{\"colorbar\":{\"outlinewidth\":0,\"ticks\":\"\"},\"colorscale\":[[0.0,\"#0d0887\"],[0.1111111111111111,\"#46039f\"],[0.2222222222222222,\"#7201a8\"],[0.3333333333333333,\"#9c179e\"],[0.4444444444444444,\"#bd3786\"],[0.5555555555555556,\"#d8576b\"],[0.6666666666666666,\"#ed7953\"],[0.7777777777777778,\"#fb9f3a\"],[0.8888888888888888,\"#fdca26\"],[1.0,\"#f0f921\"]],\"type\":\"surface\"}],\"table\":[{\"cells\":{\"fill\":{\"color\":\"#EBF0F8\"},\"line\":{\"color\":\"white\"}},\"header\":{\"fill\":{\"color\":\"#C8D4E3\"},\"line\":{\"color\":\"white\"}},\"type\":\"table\"}]},\"layout\":{\"annotationdefaults\":{\"arrowcolor\":\"#2a3f5f\",\"arrowhead\":0,\"arrowwidth\":1},\"autotypenumbers\":\"strict\",\"coloraxis\":{\"colorbar\":{\"outlinewidth\":0,\"ticks\":\"\"}},\"colorscale\":{\"diverging\":[[0,\"#8e0152\"],[0.1,\"#c51b7d\"],[0.2,\"#de77ae\"],[0.3,\"#f1b6da\"],[0.4,\"#fde0ef\"],[0.5,\"#f7f7f7\"],[0.6,\"#e6f5d0\"],[0.7,\"#b8e186\"],[0.8,\"#7fbc41\"],[0.9,\"#4d9221\"],[1,\"#276419\"]],\"sequential\":[[0.0,\"#0d0887\"],[0.1111111111111111,\"#46039f\"],[0.2222222222222222,\"#7201a8\"],[0.3333333333333333,\"#9c179e\"],[0.4444444444444444,\"#bd3786\"],[0.5555555555555556,\"#d8576b\"],[0.6666666666666666,\"#ed7953\"],[0.7777777777777778,\"#fb9f3a\"],[0.8888888888888888,\"#fdca26\"],[1.0,\"#f0f921\"]],\"sequentialminus\":[[0.0,\"#0d0887\"],[0.1111111111111111,\"#46039f\"],[0.2222222222222222,\"#7201a8\"],[0.3333333333333333,\"#9c179e\"],[0.4444444444444444,\"#bd3786\"],[0.5555555555555556,\"#d8576b\"],[0.6666666666666666,\"#ed7953\"],[0.7777777777777778,\"#fb9f3a\"],[0.8888888888888888,\"#fdca26\"],[1.0,\"#f0f921\"]]},\"colorway\":[\"#636efa\",\"#EF553B\",\"#00cc96\",\"#ab63fa\",\"#FFA15A\",\"#19d3f3\",\"#FF6692\",\"#B6E880\",\"#FF97FF\",\"#FECB52\"],\"font\":{\"color\":\"#2a3f5f\"},\"geo\":{\"bgcolor\":\"white\",\"lakecolor\":\"white\",\"landcolor\":\"#E5ECF6\",\"showlakes\":true,\"showland\":true,\"subunitcolor\":\"white\"},\"hoverlabel\":{\"align\":\"left\"},\"hovermode\":\"closest\",\"mapbox\":{\"style\":\"light\"},\"paper_bgcolor\":\"white\",\"plot_bgcolor\":\"#E5ECF6\",\"polar\":{\"angularaxis\":{\"gridcolor\":\"white\",\"linecolor\":\"white\",\"ticks\":\"\"},\"bgcolor\":\"#E5ECF6\",\"radialaxis\":{\"gridcolor\":\"white\",\"linecolor\":\"white\",\"ticks\":\"\"}},\"scene\":{\"xaxis\":{\"backgroundcolor\":\"#E5ECF6\",\"gridcolor\":\"white\",\"gridwidth\":2,\"linecolor\":\"white\",\"showbackground\":true,\"ticks\":\"\",\"zerolinecolor\":\"white\"},\"yaxis\":{\"backgroundcolor\":\"#E5ECF6\",\"gridcolor\":\"white\",\"gridwidth\":2,\"linecolor\":\"white\",\"showbackground\":true,\"ticks\":\"\",\"zerolinecolor\":\"white\"},\"zaxis\":{\"backgroundcolor\":\"#E5ECF6\",\"gridcolor\":\"white\",\"gridwidth\":2,\"linecolor\":\"white\",\"showbackground\":true,\"ticks\":\"\",\"zerolinecolor\":\"white\"}},\"shapedefaults\":{\"line\":{\"color\":\"#2a3f5f\"}},\"ternary\":{\"aaxis\":{\"gridcolor\":\"white\",\"linecolor\":\"white\",\"ticks\":\"\"},\"baxis\":{\"gridcolor\":\"white\",\"linecolor\":\"white\",\"ticks\":\"\"},\"bgcolor\":\"#E5ECF6\",\"caxis\":{\"gridcolor\":\"white\",\"linecolor\":\"white\",\"ticks\":\"\"}},\"title\":{\"x\":0.05},\"xaxis\":{\"automargin\":true,\"gridcolor\":\"white\",\"linecolor\":\"white\",\"ticks\":\"\",\"title\":{\"standoff\":15},\"zerolinecolor\":\"white\",\"zerolinewidth\":2},\"yaxis\":{\"automargin\":true,\"gridcolor\":\"white\",\"linecolor\":\"white\",\"ticks\":\"\",\"title\":{\"standoff\":15},\"zerolinecolor\":\"white\",\"zerolinewidth\":2}}},\"xaxis\":{\"anchor\":\"y\",\"domain\":[0.0,1.0],\"title\":{\"text\":\"family_status\"}},\"yaxis\":{\"anchor\":\"x\",\"domain\":[0.0,1.0],\"title\":{\"text\":\"% \\u043d\\u0435\\u0432\\u043e\\u0437\\u0432\\u0440\\u0430\\u0442\\u0430\"}},\"coloraxis\":{\"colorbar\":{\"title\":{\"text\":\"% \\u043d\\u0435\\u0432\\u043e\\u0437\\u0432\\u0440\\u0430\\u0442\\u0430\"}},\"colorscale\":[[0.0,\"#0d0887\"],[0.1111111111111111,\"#46039f\"],[0.2222222222222222,\"#7201a8\"],[0.3333333333333333,\"#9c179e\"],[0.4444444444444444,\"#bd3786\"],[0.5555555555555556,\"#d8576b\"],[0.6666666666666666,\"#ed7953\"],[0.7777777777777778,\"#fb9f3a\"],[0.8888888888888888,\"#fdca26\"],[1.0,\"#f0f921\"]]},\"legend\":{\"tracegroupgap\":0},\"title\":{\"text\":\"% \\u043d\\u0435\\u0432\\u043e\\u0437\\u0432\\u0440\\u0430\\u0442\\u0430 \\u043f\\u043e family_status\"},\"barmode\":\"relative\"},                        {\"responsive\": true}                    ).then(function(){\n",
       "                            \n",
       "var gd = document.getElementById('af37adc8-7141-4dfe-a502-66751c5213be');\n",
       "var x = new MutationObserver(function (mutations, observer) {{\n",
       "        var display = window.getComputedStyle(gd).display;\n",
       "        if (!display || display === 'none') {{\n",
       "            console.log([gd, 'removed!']);\n",
       "            Plotly.purge(gd);\n",
       "            observer.disconnect();\n",
       "        }}\n",
       "}});\n",
       "\n",
       "// Listen for the removal of the full notebook cells\n",
       "var notebookContainer = gd.closest('#notebook-container');\n",
       "if (notebookContainer) {{\n",
       "    x.observe(notebookContainer, {childList: true});\n",
       "}}\n",
       "\n",
       "// Listen for the clearing of the current output cell\n",
       "var outputEl = gd.closest('.output');\n",
       "if (outputEl) {{\n",
       "    x.observe(outputEl, {childList: true});\n",
       "}}\n",
       "\n",
       "                        })                };                });            </script>        </div>"
      ]
     },
     "metadata": {},
     "output_type": "display_data"
    }
   ],
   "source": [
    "pivot(data, 'family_status')"
   ]
  },
  {
   "cell_type": "markdown",
   "id": "1cef7837",
   "metadata": {
    "deletable": false,
    "id": "1cef7837"
   },
   "source": [
    "**Вывод:** Зависимость долгового бремени от семейного статуса присутствует.\n",
    "\n",
    "По долговой нагрузке с отрывом лидируют не состоящие в браке и состоящие в гражданском браке заёмщики. Оставшиеся три категории с наименьшей долговой нагрузкой замыкают вдовы/вдовцы."
   ]
  },
  {
   "cell_type": "markdown",
   "id": "1e8b2fca",
   "metadata": {
    "deletable": false,
    "editable": false,
    "id": "1e8b2fca"
   },
   "source": [
    "**Задание 21. Есть ли зависимость между уровнем дохода и возвратом кредита в срок?**"
   ]
  },
  {
   "cell_type": "markdown",
   "id": "94b16e12",
   "metadata": {},
   "source": [
    "### Вызываем функцию pivot() и применяем в качестве аргумента `data` и `total_income_category`."
   ]
  },
  {
   "cell_type": "code",
   "execution_count": 30,
   "id": "b8efb1c1",
   "metadata": {},
   "outputs": [
    {
     "data": {
      "text/html": [
       "<div>\n",
       "<style scoped>\n",
       "    .dataframe tbody tr th:only-of-type {\n",
       "        vertical-align: middle;\n",
       "    }\n",
       "\n",
       "    .dataframe tbody tr th {\n",
       "        vertical-align: top;\n",
       "    }\n",
       "\n",
       "    .dataframe thead th {\n",
       "        text-align: right;\n",
       "    }\n",
       "</style>\n",
       "<table border=\"1\" class=\"dataframe\">\n",
       "  <thead>\n",
       "    <tr style=\"text-align: right;\">\n",
       "      <th></th>\n",
       "      <th>total_income_category</th>\n",
       "      <th>Кол-во клиентов</th>\n",
       "      <th>Кол-во должников</th>\n",
       "      <th>% невозврата</th>\n",
       "    </tr>\n",
       "  </thead>\n",
       "  <tbody>\n",
       "    <tr>\n",
       "      <th>4</th>\n",
       "      <td>E</td>\n",
       "      <td>22</td>\n",
       "      <td>2</td>\n",
       "      <td>0.090909</td>\n",
       "    </tr>\n",
       "    <tr>\n",
       "      <th>2</th>\n",
       "      <td>C</td>\n",
       "      <td>15938</td>\n",
       "      <td>1353</td>\n",
       "      <td>0.084891</td>\n",
       "    </tr>\n",
       "    <tr>\n",
       "      <th>0</th>\n",
       "      <td>A</td>\n",
       "      <td>25</td>\n",
       "      <td>2</td>\n",
       "      <td>0.080000</td>\n",
       "    </tr>\n",
       "    <tr>\n",
       "      <th>1</th>\n",
       "      <td>B</td>\n",
       "      <td>5014</td>\n",
       "      <td>354</td>\n",
       "      <td>0.070602</td>\n",
       "    </tr>\n",
       "    <tr>\n",
       "      <th>3</th>\n",
       "      <td>D</td>\n",
       "      <td>349</td>\n",
       "      <td>21</td>\n",
       "      <td>0.060172</td>\n",
       "    </tr>\n",
       "  </tbody>\n",
       "</table>\n",
       "</div>"
      ],
      "text/plain": [
       "  total_income_category  Кол-во клиентов  Кол-во должников  % невозврата\n",
       "4                     E               22                 2      0.090909\n",
       "2                     C            15938              1353      0.084891\n",
       "0                     A               25                 2      0.080000\n",
       "1                     B             5014               354      0.070602\n",
       "3                     D              349                21      0.060172"
      ]
     },
     "metadata": {},
     "output_type": "display_data"
    },
    {
     "data": {
      "application/vnd.plotly.v1+json": {
       "config": {
        "plotlyServerURL": "https://plot.ly"
       },
       "data": [
        {
         "alignmentgroup": "True",
         "hovertemplate": "total_income_category=%{x}<br>% невозврата=%{marker.color}<extra></extra>",
         "legendgroup": "",
         "marker": {
          "color": [
           0.08,
           0.07060231352213801,
           0.08489145438574476,
           0.06017191977077364,
           0.09090909090909091
          ],
          "coloraxis": "coloraxis",
          "pattern": {
           "shape": ""
          }
         },
         "name": "",
         "offsetgroup": "",
         "orientation": "v",
         "showlegend": false,
         "textposition": "auto",
         "type": "bar",
         "x": [
          "A",
          "B",
          "C",
          "D",
          "E"
         ],
         "xaxis": "x",
         "y": [
          0.08,
          0.07060231352213801,
          0.08489145438574476,
          0.06017191977077364,
          0.09090909090909091
         ],
         "yaxis": "y"
        }
       ],
       "layout": {
        "barmode": "relative",
        "coloraxis": {
         "colorbar": {
          "title": {
           "text": "% невозврата"
          }
         },
         "colorscale": [
          [
           0,
           "#0d0887"
          ],
          [
           0.1111111111111111,
           "#46039f"
          ],
          [
           0.2222222222222222,
           "#7201a8"
          ],
          [
           0.3333333333333333,
           "#9c179e"
          ],
          [
           0.4444444444444444,
           "#bd3786"
          ],
          [
           0.5555555555555556,
           "#d8576b"
          ],
          [
           0.6666666666666666,
           "#ed7953"
          ],
          [
           0.7777777777777778,
           "#fb9f3a"
          ],
          [
           0.8888888888888888,
           "#fdca26"
          ],
          [
           1,
           "#f0f921"
          ]
         ]
        },
        "legend": {
         "tracegroupgap": 0
        },
        "template": {
         "data": {
          "bar": [
           {
            "error_x": {
             "color": "#2a3f5f"
            },
            "error_y": {
             "color": "#2a3f5f"
            },
            "marker": {
             "line": {
              "color": "#E5ECF6",
              "width": 0.5
             },
             "pattern": {
              "fillmode": "overlay",
              "size": 10,
              "solidity": 0.2
             }
            },
            "type": "bar"
           }
          ],
          "barpolar": [
           {
            "marker": {
             "line": {
              "color": "#E5ECF6",
              "width": 0.5
             },
             "pattern": {
              "fillmode": "overlay",
              "size": 10,
              "solidity": 0.2
             }
            },
            "type": "barpolar"
           }
          ],
          "carpet": [
           {
            "aaxis": {
             "endlinecolor": "#2a3f5f",
             "gridcolor": "white",
             "linecolor": "white",
             "minorgridcolor": "white",
             "startlinecolor": "#2a3f5f"
            },
            "baxis": {
             "endlinecolor": "#2a3f5f",
             "gridcolor": "white",
             "linecolor": "white",
             "minorgridcolor": "white",
             "startlinecolor": "#2a3f5f"
            },
            "type": "carpet"
           }
          ],
          "choropleth": [
           {
            "colorbar": {
             "outlinewidth": 0,
             "ticks": ""
            },
            "type": "choropleth"
           }
          ],
          "contour": [
           {
            "colorbar": {
             "outlinewidth": 0,
             "ticks": ""
            },
            "colorscale": [
             [
              0,
              "#0d0887"
             ],
             [
              0.1111111111111111,
              "#46039f"
             ],
             [
              0.2222222222222222,
              "#7201a8"
             ],
             [
              0.3333333333333333,
              "#9c179e"
             ],
             [
              0.4444444444444444,
              "#bd3786"
             ],
             [
              0.5555555555555556,
              "#d8576b"
             ],
             [
              0.6666666666666666,
              "#ed7953"
             ],
             [
              0.7777777777777778,
              "#fb9f3a"
             ],
             [
              0.8888888888888888,
              "#fdca26"
             ],
             [
              1,
              "#f0f921"
             ]
            ],
            "type": "contour"
           }
          ],
          "contourcarpet": [
           {
            "colorbar": {
             "outlinewidth": 0,
             "ticks": ""
            },
            "type": "contourcarpet"
           }
          ],
          "heatmap": [
           {
            "colorbar": {
             "outlinewidth": 0,
             "ticks": ""
            },
            "colorscale": [
             [
              0,
              "#0d0887"
             ],
             [
              0.1111111111111111,
              "#46039f"
             ],
             [
              0.2222222222222222,
              "#7201a8"
             ],
             [
              0.3333333333333333,
              "#9c179e"
             ],
             [
              0.4444444444444444,
              "#bd3786"
             ],
             [
              0.5555555555555556,
              "#d8576b"
             ],
             [
              0.6666666666666666,
              "#ed7953"
             ],
             [
              0.7777777777777778,
              "#fb9f3a"
             ],
             [
              0.8888888888888888,
              "#fdca26"
             ],
             [
              1,
              "#f0f921"
             ]
            ],
            "type": "heatmap"
           }
          ],
          "heatmapgl": [
           {
            "colorbar": {
             "outlinewidth": 0,
             "ticks": ""
            },
            "colorscale": [
             [
              0,
              "#0d0887"
             ],
             [
              0.1111111111111111,
              "#46039f"
             ],
             [
              0.2222222222222222,
              "#7201a8"
             ],
             [
              0.3333333333333333,
              "#9c179e"
             ],
             [
              0.4444444444444444,
              "#bd3786"
             ],
             [
              0.5555555555555556,
              "#d8576b"
             ],
             [
              0.6666666666666666,
              "#ed7953"
             ],
             [
              0.7777777777777778,
              "#fb9f3a"
             ],
             [
              0.8888888888888888,
              "#fdca26"
             ],
             [
              1,
              "#f0f921"
             ]
            ],
            "type": "heatmapgl"
           }
          ],
          "histogram": [
           {
            "marker": {
             "pattern": {
              "fillmode": "overlay",
              "size": 10,
              "solidity": 0.2
             }
            },
            "type": "histogram"
           }
          ],
          "histogram2d": [
           {
            "colorbar": {
             "outlinewidth": 0,
             "ticks": ""
            },
            "colorscale": [
             [
              0,
              "#0d0887"
             ],
             [
              0.1111111111111111,
              "#46039f"
             ],
             [
              0.2222222222222222,
              "#7201a8"
             ],
             [
              0.3333333333333333,
              "#9c179e"
             ],
             [
              0.4444444444444444,
              "#bd3786"
             ],
             [
              0.5555555555555556,
              "#d8576b"
             ],
             [
              0.6666666666666666,
              "#ed7953"
             ],
             [
              0.7777777777777778,
              "#fb9f3a"
             ],
             [
              0.8888888888888888,
              "#fdca26"
             ],
             [
              1,
              "#f0f921"
             ]
            ],
            "type": "histogram2d"
           }
          ],
          "histogram2dcontour": [
           {
            "colorbar": {
             "outlinewidth": 0,
             "ticks": ""
            },
            "colorscale": [
             [
              0,
              "#0d0887"
             ],
             [
              0.1111111111111111,
              "#46039f"
             ],
             [
              0.2222222222222222,
              "#7201a8"
             ],
             [
              0.3333333333333333,
              "#9c179e"
             ],
             [
              0.4444444444444444,
              "#bd3786"
             ],
             [
              0.5555555555555556,
              "#d8576b"
             ],
             [
              0.6666666666666666,
              "#ed7953"
             ],
             [
              0.7777777777777778,
              "#fb9f3a"
             ],
             [
              0.8888888888888888,
              "#fdca26"
             ],
             [
              1,
              "#f0f921"
             ]
            ],
            "type": "histogram2dcontour"
           }
          ],
          "mesh3d": [
           {
            "colorbar": {
             "outlinewidth": 0,
             "ticks": ""
            },
            "type": "mesh3d"
           }
          ],
          "parcoords": [
           {
            "line": {
             "colorbar": {
              "outlinewidth": 0,
              "ticks": ""
             }
            },
            "type": "parcoords"
           }
          ],
          "pie": [
           {
            "automargin": true,
            "type": "pie"
           }
          ],
          "scatter": [
           {
            "marker": {
             "colorbar": {
              "outlinewidth": 0,
              "ticks": ""
             }
            },
            "type": "scatter"
           }
          ],
          "scatter3d": [
           {
            "line": {
             "colorbar": {
              "outlinewidth": 0,
              "ticks": ""
             }
            },
            "marker": {
             "colorbar": {
              "outlinewidth": 0,
              "ticks": ""
             }
            },
            "type": "scatter3d"
           }
          ],
          "scattercarpet": [
           {
            "marker": {
             "colorbar": {
              "outlinewidth": 0,
              "ticks": ""
             }
            },
            "type": "scattercarpet"
           }
          ],
          "scattergeo": [
           {
            "marker": {
             "colorbar": {
              "outlinewidth": 0,
              "ticks": ""
             }
            },
            "type": "scattergeo"
           }
          ],
          "scattergl": [
           {
            "marker": {
             "colorbar": {
              "outlinewidth": 0,
              "ticks": ""
             }
            },
            "type": "scattergl"
           }
          ],
          "scattermapbox": [
           {
            "marker": {
             "colorbar": {
              "outlinewidth": 0,
              "ticks": ""
             }
            },
            "type": "scattermapbox"
           }
          ],
          "scatterpolar": [
           {
            "marker": {
             "colorbar": {
              "outlinewidth": 0,
              "ticks": ""
             }
            },
            "type": "scatterpolar"
           }
          ],
          "scatterpolargl": [
           {
            "marker": {
             "colorbar": {
              "outlinewidth": 0,
              "ticks": ""
             }
            },
            "type": "scatterpolargl"
           }
          ],
          "scatterternary": [
           {
            "marker": {
             "colorbar": {
              "outlinewidth": 0,
              "ticks": ""
             }
            },
            "type": "scatterternary"
           }
          ],
          "surface": [
           {
            "colorbar": {
             "outlinewidth": 0,
             "ticks": ""
            },
            "colorscale": [
             [
              0,
              "#0d0887"
             ],
             [
              0.1111111111111111,
              "#46039f"
             ],
             [
              0.2222222222222222,
              "#7201a8"
             ],
             [
              0.3333333333333333,
              "#9c179e"
             ],
             [
              0.4444444444444444,
              "#bd3786"
             ],
             [
              0.5555555555555556,
              "#d8576b"
             ],
             [
              0.6666666666666666,
              "#ed7953"
             ],
             [
              0.7777777777777778,
              "#fb9f3a"
             ],
             [
              0.8888888888888888,
              "#fdca26"
             ],
             [
              1,
              "#f0f921"
             ]
            ],
            "type": "surface"
           }
          ],
          "table": [
           {
            "cells": {
             "fill": {
              "color": "#EBF0F8"
             },
             "line": {
              "color": "white"
             }
            },
            "header": {
             "fill": {
              "color": "#C8D4E3"
             },
             "line": {
              "color": "white"
             }
            },
            "type": "table"
           }
          ]
         },
         "layout": {
          "annotationdefaults": {
           "arrowcolor": "#2a3f5f",
           "arrowhead": 0,
           "arrowwidth": 1
          },
          "autotypenumbers": "strict",
          "coloraxis": {
           "colorbar": {
            "outlinewidth": 0,
            "ticks": ""
           }
          },
          "colorscale": {
           "diverging": [
            [
             0,
             "#8e0152"
            ],
            [
             0.1,
             "#c51b7d"
            ],
            [
             0.2,
             "#de77ae"
            ],
            [
             0.3,
             "#f1b6da"
            ],
            [
             0.4,
             "#fde0ef"
            ],
            [
             0.5,
             "#f7f7f7"
            ],
            [
             0.6,
             "#e6f5d0"
            ],
            [
             0.7,
             "#b8e186"
            ],
            [
             0.8,
             "#7fbc41"
            ],
            [
             0.9,
             "#4d9221"
            ],
            [
             1,
             "#276419"
            ]
           ],
           "sequential": [
            [
             0,
             "#0d0887"
            ],
            [
             0.1111111111111111,
             "#46039f"
            ],
            [
             0.2222222222222222,
             "#7201a8"
            ],
            [
             0.3333333333333333,
             "#9c179e"
            ],
            [
             0.4444444444444444,
             "#bd3786"
            ],
            [
             0.5555555555555556,
             "#d8576b"
            ],
            [
             0.6666666666666666,
             "#ed7953"
            ],
            [
             0.7777777777777778,
             "#fb9f3a"
            ],
            [
             0.8888888888888888,
             "#fdca26"
            ],
            [
             1,
             "#f0f921"
            ]
           ],
           "sequentialminus": [
            [
             0,
             "#0d0887"
            ],
            [
             0.1111111111111111,
             "#46039f"
            ],
            [
             0.2222222222222222,
             "#7201a8"
            ],
            [
             0.3333333333333333,
             "#9c179e"
            ],
            [
             0.4444444444444444,
             "#bd3786"
            ],
            [
             0.5555555555555556,
             "#d8576b"
            ],
            [
             0.6666666666666666,
             "#ed7953"
            ],
            [
             0.7777777777777778,
             "#fb9f3a"
            ],
            [
             0.8888888888888888,
             "#fdca26"
            ],
            [
             1,
             "#f0f921"
            ]
           ]
          },
          "colorway": [
           "#636efa",
           "#EF553B",
           "#00cc96",
           "#ab63fa",
           "#FFA15A",
           "#19d3f3",
           "#FF6692",
           "#B6E880",
           "#FF97FF",
           "#FECB52"
          ],
          "font": {
           "color": "#2a3f5f"
          },
          "geo": {
           "bgcolor": "white",
           "lakecolor": "white",
           "landcolor": "#E5ECF6",
           "showlakes": true,
           "showland": true,
           "subunitcolor": "white"
          },
          "hoverlabel": {
           "align": "left"
          },
          "hovermode": "closest",
          "mapbox": {
           "style": "light"
          },
          "paper_bgcolor": "white",
          "plot_bgcolor": "#E5ECF6",
          "polar": {
           "angularaxis": {
            "gridcolor": "white",
            "linecolor": "white",
            "ticks": ""
           },
           "bgcolor": "#E5ECF6",
           "radialaxis": {
            "gridcolor": "white",
            "linecolor": "white",
            "ticks": ""
           }
          },
          "scene": {
           "xaxis": {
            "backgroundcolor": "#E5ECF6",
            "gridcolor": "white",
            "gridwidth": 2,
            "linecolor": "white",
            "showbackground": true,
            "ticks": "",
            "zerolinecolor": "white"
           },
           "yaxis": {
            "backgroundcolor": "#E5ECF6",
            "gridcolor": "white",
            "gridwidth": 2,
            "linecolor": "white",
            "showbackground": true,
            "ticks": "",
            "zerolinecolor": "white"
           },
           "zaxis": {
            "backgroundcolor": "#E5ECF6",
            "gridcolor": "white",
            "gridwidth": 2,
            "linecolor": "white",
            "showbackground": true,
            "ticks": "",
            "zerolinecolor": "white"
           }
          },
          "shapedefaults": {
           "line": {
            "color": "#2a3f5f"
           }
          },
          "ternary": {
           "aaxis": {
            "gridcolor": "white",
            "linecolor": "white",
            "ticks": ""
           },
           "baxis": {
            "gridcolor": "white",
            "linecolor": "white",
            "ticks": ""
           },
           "bgcolor": "#E5ECF6",
           "caxis": {
            "gridcolor": "white",
            "linecolor": "white",
            "ticks": ""
           }
          },
          "title": {
           "x": 0.05
          },
          "xaxis": {
           "automargin": true,
           "gridcolor": "white",
           "linecolor": "white",
           "ticks": "",
           "title": {
            "standoff": 15
           },
           "zerolinecolor": "white",
           "zerolinewidth": 2
          },
          "yaxis": {
           "automargin": true,
           "gridcolor": "white",
           "linecolor": "white",
           "ticks": "",
           "title": {
            "standoff": 15
           },
           "zerolinecolor": "white",
           "zerolinewidth": 2
          }
         }
        },
        "title": {
         "text": "% невозврата по total_income_category"
        },
        "xaxis": {
         "anchor": "y",
         "domain": [
          0,
          1
         ],
         "title": {
          "text": "total_income_category"
         }
        },
        "yaxis": {
         "anchor": "x",
         "domain": [
          0,
          1
         ],
         "title": {
          "text": "% невозврата"
         }
        }
       }
      },
      "text/html": [
       "<div>                            <div id=\"2ba01e92-886d-4ee2-a2d6-6e3726594235\" class=\"plotly-graph-div\" style=\"height:525px; width:100%;\"></div>            <script type=\"text/javascript\">                require([\"plotly\"], function(Plotly) {                    window.PLOTLYENV=window.PLOTLYENV || {};                                    if (document.getElementById(\"2ba01e92-886d-4ee2-a2d6-6e3726594235\")) {                    Plotly.newPlot(                        \"2ba01e92-886d-4ee2-a2d6-6e3726594235\",                        [{\"alignmentgroup\":\"True\",\"hovertemplate\":\"total_income_category=%{x}<br>% \\u043d\\u0435\\u0432\\u043e\\u0437\\u0432\\u0440\\u0430\\u0442\\u0430=%{marker.color}<extra></extra>\",\"legendgroup\":\"\",\"marker\":{\"color\":[0.08,0.07060231352213801,0.08489145438574476,0.06017191977077364,0.09090909090909091],\"coloraxis\":\"coloraxis\",\"pattern\":{\"shape\":\"\"}},\"name\":\"\",\"offsetgroup\":\"\",\"orientation\":\"v\",\"showlegend\":false,\"textposition\":\"auto\",\"x\":[\"A\",\"B\",\"C\",\"D\",\"E\"],\"xaxis\":\"x\",\"y\":[0.08,0.07060231352213801,0.08489145438574476,0.06017191977077364,0.09090909090909091],\"yaxis\":\"y\",\"type\":\"bar\"}],                        {\"template\":{\"data\":{\"bar\":[{\"error_x\":{\"color\":\"#2a3f5f\"},\"error_y\":{\"color\":\"#2a3f5f\"},\"marker\":{\"line\":{\"color\":\"#E5ECF6\",\"width\":0.5},\"pattern\":{\"fillmode\":\"overlay\",\"size\":10,\"solidity\":0.2}},\"type\":\"bar\"}],\"barpolar\":[{\"marker\":{\"line\":{\"color\":\"#E5ECF6\",\"width\":0.5},\"pattern\":{\"fillmode\":\"overlay\",\"size\":10,\"solidity\":0.2}},\"type\":\"barpolar\"}],\"carpet\":[{\"aaxis\":{\"endlinecolor\":\"#2a3f5f\",\"gridcolor\":\"white\",\"linecolor\":\"white\",\"minorgridcolor\":\"white\",\"startlinecolor\":\"#2a3f5f\"},\"baxis\":{\"endlinecolor\":\"#2a3f5f\",\"gridcolor\":\"white\",\"linecolor\":\"white\",\"minorgridcolor\":\"white\",\"startlinecolor\":\"#2a3f5f\"},\"type\":\"carpet\"}],\"choropleth\":[{\"colorbar\":{\"outlinewidth\":0,\"ticks\":\"\"},\"type\":\"choropleth\"}],\"contour\":[{\"colorbar\":{\"outlinewidth\":0,\"ticks\":\"\"},\"colorscale\":[[0.0,\"#0d0887\"],[0.1111111111111111,\"#46039f\"],[0.2222222222222222,\"#7201a8\"],[0.3333333333333333,\"#9c179e\"],[0.4444444444444444,\"#bd3786\"],[0.5555555555555556,\"#d8576b\"],[0.6666666666666666,\"#ed7953\"],[0.7777777777777778,\"#fb9f3a\"],[0.8888888888888888,\"#fdca26\"],[1.0,\"#f0f921\"]],\"type\":\"contour\"}],\"contourcarpet\":[{\"colorbar\":{\"outlinewidth\":0,\"ticks\":\"\"},\"type\":\"contourcarpet\"}],\"heatmap\":[{\"colorbar\":{\"outlinewidth\":0,\"ticks\":\"\"},\"colorscale\":[[0.0,\"#0d0887\"],[0.1111111111111111,\"#46039f\"],[0.2222222222222222,\"#7201a8\"],[0.3333333333333333,\"#9c179e\"],[0.4444444444444444,\"#bd3786\"],[0.5555555555555556,\"#d8576b\"],[0.6666666666666666,\"#ed7953\"],[0.7777777777777778,\"#fb9f3a\"],[0.8888888888888888,\"#fdca26\"],[1.0,\"#f0f921\"]],\"type\":\"heatmap\"}],\"heatmapgl\":[{\"colorbar\":{\"outlinewidth\":0,\"ticks\":\"\"},\"colorscale\":[[0.0,\"#0d0887\"],[0.1111111111111111,\"#46039f\"],[0.2222222222222222,\"#7201a8\"],[0.3333333333333333,\"#9c179e\"],[0.4444444444444444,\"#bd3786\"],[0.5555555555555556,\"#d8576b\"],[0.6666666666666666,\"#ed7953\"],[0.7777777777777778,\"#fb9f3a\"],[0.8888888888888888,\"#fdca26\"],[1.0,\"#f0f921\"]],\"type\":\"heatmapgl\"}],\"histogram\":[{\"marker\":{\"pattern\":{\"fillmode\":\"overlay\",\"size\":10,\"solidity\":0.2}},\"type\":\"histogram\"}],\"histogram2d\":[{\"colorbar\":{\"outlinewidth\":0,\"ticks\":\"\"},\"colorscale\":[[0.0,\"#0d0887\"],[0.1111111111111111,\"#46039f\"],[0.2222222222222222,\"#7201a8\"],[0.3333333333333333,\"#9c179e\"],[0.4444444444444444,\"#bd3786\"],[0.5555555555555556,\"#d8576b\"],[0.6666666666666666,\"#ed7953\"],[0.7777777777777778,\"#fb9f3a\"],[0.8888888888888888,\"#fdca26\"],[1.0,\"#f0f921\"]],\"type\":\"histogram2d\"}],\"histogram2dcontour\":[{\"colorbar\":{\"outlinewidth\":0,\"ticks\":\"\"},\"colorscale\":[[0.0,\"#0d0887\"],[0.1111111111111111,\"#46039f\"],[0.2222222222222222,\"#7201a8\"],[0.3333333333333333,\"#9c179e\"],[0.4444444444444444,\"#bd3786\"],[0.5555555555555556,\"#d8576b\"],[0.6666666666666666,\"#ed7953\"],[0.7777777777777778,\"#fb9f3a\"],[0.8888888888888888,\"#fdca26\"],[1.0,\"#f0f921\"]],\"type\":\"histogram2dcontour\"}],\"mesh3d\":[{\"colorbar\":{\"outlinewidth\":0,\"ticks\":\"\"},\"type\":\"mesh3d\"}],\"parcoords\":[{\"line\":{\"colorbar\":{\"outlinewidth\":0,\"ticks\":\"\"}},\"type\":\"parcoords\"}],\"pie\":[{\"automargin\":true,\"type\":\"pie\"}],\"scatter\":[{\"marker\":{\"colorbar\":{\"outlinewidth\":0,\"ticks\":\"\"}},\"type\":\"scatter\"}],\"scatter3d\":[{\"line\":{\"colorbar\":{\"outlinewidth\":0,\"ticks\":\"\"}},\"marker\":{\"colorbar\":{\"outlinewidth\":0,\"ticks\":\"\"}},\"type\":\"scatter3d\"}],\"scattercarpet\":[{\"marker\":{\"colorbar\":{\"outlinewidth\":0,\"ticks\":\"\"}},\"type\":\"scattercarpet\"}],\"scattergeo\":[{\"marker\":{\"colorbar\":{\"outlinewidth\":0,\"ticks\":\"\"}},\"type\":\"scattergeo\"}],\"scattergl\":[{\"marker\":{\"colorbar\":{\"outlinewidth\":0,\"ticks\":\"\"}},\"type\":\"scattergl\"}],\"scattermapbox\":[{\"marker\":{\"colorbar\":{\"outlinewidth\":0,\"ticks\":\"\"}},\"type\":\"scattermapbox\"}],\"scatterpolar\":[{\"marker\":{\"colorbar\":{\"outlinewidth\":0,\"ticks\":\"\"}},\"type\":\"scatterpolar\"}],\"scatterpolargl\":[{\"marker\":{\"colorbar\":{\"outlinewidth\":0,\"ticks\":\"\"}},\"type\":\"scatterpolargl\"}],\"scatterternary\":[{\"marker\":{\"colorbar\":{\"outlinewidth\":0,\"ticks\":\"\"}},\"type\":\"scatterternary\"}],\"surface\":[{\"colorbar\":{\"outlinewidth\":0,\"ticks\":\"\"},\"colorscale\":[[0.0,\"#0d0887\"],[0.1111111111111111,\"#46039f\"],[0.2222222222222222,\"#7201a8\"],[0.3333333333333333,\"#9c179e\"],[0.4444444444444444,\"#bd3786\"],[0.5555555555555556,\"#d8576b\"],[0.6666666666666666,\"#ed7953\"],[0.7777777777777778,\"#fb9f3a\"],[0.8888888888888888,\"#fdca26\"],[1.0,\"#f0f921\"]],\"type\":\"surface\"}],\"table\":[{\"cells\":{\"fill\":{\"color\":\"#EBF0F8\"},\"line\":{\"color\":\"white\"}},\"header\":{\"fill\":{\"color\":\"#C8D4E3\"},\"line\":{\"color\":\"white\"}},\"type\":\"table\"}]},\"layout\":{\"annotationdefaults\":{\"arrowcolor\":\"#2a3f5f\",\"arrowhead\":0,\"arrowwidth\":1},\"autotypenumbers\":\"strict\",\"coloraxis\":{\"colorbar\":{\"outlinewidth\":0,\"ticks\":\"\"}},\"colorscale\":{\"diverging\":[[0,\"#8e0152\"],[0.1,\"#c51b7d\"],[0.2,\"#de77ae\"],[0.3,\"#f1b6da\"],[0.4,\"#fde0ef\"],[0.5,\"#f7f7f7\"],[0.6,\"#e6f5d0\"],[0.7,\"#b8e186\"],[0.8,\"#7fbc41\"],[0.9,\"#4d9221\"],[1,\"#276419\"]],\"sequential\":[[0.0,\"#0d0887\"],[0.1111111111111111,\"#46039f\"],[0.2222222222222222,\"#7201a8\"],[0.3333333333333333,\"#9c179e\"],[0.4444444444444444,\"#bd3786\"],[0.5555555555555556,\"#d8576b\"],[0.6666666666666666,\"#ed7953\"],[0.7777777777777778,\"#fb9f3a\"],[0.8888888888888888,\"#fdca26\"],[1.0,\"#f0f921\"]],\"sequentialminus\":[[0.0,\"#0d0887\"],[0.1111111111111111,\"#46039f\"],[0.2222222222222222,\"#7201a8\"],[0.3333333333333333,\"#9c179e\"],[0.4444444444444444,\"#bd3786\"],[0.5555555555555556,\"#d8576b\"],[0.6666666666666666,\"#ed7953\"],[0.7777777777777778,\"#fb9f3a\"],[0.8888888888888888,\"#fdca26\"],[1.0,\"#f0f921\"]]},\"colorway\":[\"#636efa\",\"#EF553B\",\"#00cc96\",\"#ab63fa\",\"#FFA15A\",\"#19d3f3\",\"#FF6692\",\"#B6E880\",\"#FF97FF\",\"#FECB52\"],\"font\":{\"color\":\"#2a3f5f\"},\"geo\":{\"bgcolor\":\"white\",\"lakecolor\":\"white\",\"landcolor\":\"#E5ECF6\",\"showlakes\":true,\"showland\":true,\"subunitcolor\":\"white\"},\"hoverlabel\":{\"align\":\"left\"},\"hovermode\":\"closest\",\"mapbox\":{\"style\":\"light\"},\"paper_bgcolor\":\"white\",\"plot_bgcolor\":\"#E5ECF6\",\"polar\":{\"angularaxis\":{\"gridcolor\":\"white\",\"linecolor\":\"white\",\"ticks\":\"\"},\"bgcolor\":\"#E5ECF6\",\"radialaxis\":{\"gridcolor\":\"white\",\"linecolor\":\"white\",\"ticks\":\"\"}},\"scene\":{\"xaxis\":{\"backgroundcolor\":\"#E5ECF6\",\"gridcolor\":\"white\",\"gridwidth\":2,\"linecolor\":\"white\",\"showbackground\":true,\"ticks\":\"\",\"zerolinecolor\":\"white\"},\"yaxis\":{\"backgroundcolor\":\"#E5ECF6\",\"gridcolor\":\"white\",\"gridwidth\":2,\"linecolor\":\"white\",\"showbackground\":true,\"ticks\":\"\",\"zerolinecolor\":\"white\"},\"zaxis\":{\"backgroundcolor\":\"#E5ECF6\",\"gridcolor\":\"white\",\"gridwidth\":2,\"linecolor\":\"white\",\"showbackground\":true,\"ticks\":\"\",\"zerolinecolor\":\"white\"}},\"shapedefaults\":{\"line\":{\"color\":\"#2a3f5f\"}},\"ternary\":{\"aaxis\":{\"gridcolor\":\"white\",\"linecolor\":\"white\",\"ticks\":\"\"},\"baxis\":{\"gridcolor\":\"white\",\"linecolor\":\"white\",\"ticks\":\"\"},\"bgcolor\":\"#E5ECF6\",\"caxis\":{\"gridcolor\":\"white\",\"linecolor\":\"white\",\"ticks\":\"\"}},\"title\":{\"x\":0.05},\"xaxis\":{\"automargin\":true,\"gridcolor\":\"white\",\"linecolor\":\"white\",\"ticks\":\"\",\"title\":{\"standoff\":15},\"zerolinecolor\":\"white\",\"zerolinewidth\":2},\"yaxis\":{\"automargin\":true,\"gridcolor\":\"white\",\"linecolor\":\"white\",\"ticks\":\"\",\"title\":{\"standoff\":15},\"zerolinecolor\":\"white\",\"zerolinewidth\":2}}},\"xaxis\":{\"anchor\":\"y\",\"domain\":[0.0,1.0],\"title\":{\"text\":\"total_income_category\"}},\"yaxis\":{\"anchor\":\"x\",\"domain\":[0.0,1.0],\"title\":{\"text\":\"% \\u043d\\u0435\\u0432\\u043e\\u0437\\u0432\\u0440\\u0430\\u0442\\u0430\"}},\"coloraxis\":{\"colorbar\":{\"title\":{\"text\":\"% \\u043d\\u0435\\u0432\\u043e\\u0437\\u0432\\u0440\\u0430\\u0442\\u0430\"}},\"colorscale\":[[0.0,\"#0d0887\"],[0.1111111111111111,\"#46039f\"],[0.2222222222222222,\"#7201a8\"],[0.3333333333333333,\"#9c179e\"],[0.4444444444444444,\"#bd3786\"],[0.5555555555555556,\"#d8576b\"],[0.6666666666666666,\"#ed7953\"],[0.7777777777777778,\"#fb9f3a\"],[0.8888888888888888,\"#fdca26\"],[1.0,\"#f0f921\"]]},\"legend\":{\"tracegroupgap\":0},\"title\":{\"text\":\"% \\u043d\\u0435\\u0432\\u043e\\u0437\\u0432\\u0440\\u0430\\u0442\\u0430 \\u043f\\u043e total_income_category\"},\"barmode\":\"relative\"},                        {\"responsive\": true}                    ).then(function(){\n",
       "                            \n",
       "var gd = document.getElementById('2ba01e92-886d-4ee2-a2d6-6e3726594235');\n",
       "var x = new MutationObserver(function (mutations, observer) {{\n",
       "        var display = window.getComputedStyle(gd).display;\n",
       "        if (!display || display === 'none') {{\n",
       "            console.log([gd, 'removed!']);\n",
       "            Plotly.purge(gd);\n",
       "            observer.disconnect();\n",
       "        }}\n",
       "}});\n",
       "\n",
       "// Listen for the removal of the full notebook cells\n",
       "var notebookContainer = gd.closest('#notebook-container');\n",
       "if (notebookContainer) {{\n",
       "    x.observe(notebookContainer, {childList: true});\n",
       "}}\n",
       "\n",
       "// Listen for the clearing of the current output cell\n",
       "var outputEl = gd.closest('.output');\n",
       "if (outputEl) {{\n",
       "    x.observe(outputEl, {childList: true});\n",
       "}}\n",
       "\n",
       "                        })                };                });            </script>        </div>"
      ]
     },
     "metadata": {},
     "output_type": "display_data"
    }
   ],
   "source": [
    "pivot(data, 'total_income_category')"
   ]
  },
  {
   "cell_type": "markdown",
   "id": "e8593def",
   "metadata": {
    "deletable": false,
    "id": "e8593def"
   },
   "source": [
    "**Вывод:** Корреляции между ежемесячным доходом и задолженностью не просматривается."
   ]
  },
  {
   "cell_type": "markdown",
   "id": "99ecbd1f",
   "metadata": {
    "deletable": false,
    "editable": false,
    "id": "99ecbd1f"
   },
   "source": [
    "**Задание 22. Как разные цели кредита влияют на его возврат в срок?**"
   ]
  },
  {
   "cell_type": "markdown",
   "id": "322b3211",
   "metadata": {},
   "source": [
    "### Вызываем функцию pivot() и применяем в качестве аргумента `data` и `purpose_category`."
   ]
  },
  {
   "cell_type": "code",
   "execution_count": 32,
   "id": "f84d9c88",
   "metadata": {},
   "outputs": [
    {
     "data": {
      "text/html": [
       "<div>\n",
       "<style scoped>\n",
       "    .dataframe tbody tr th:only-of-type {\n",
       "        vertical-align: middle;\n",
       "    }\n",
       "\n",
       "    .dataframe tbody tr th {\n",
       "        vertical-align: top;\n",
       "    }\n",
       "\n",
       "    .dataframe thead th {\n",
       "        text-align: right;\n",
       "    }\n",
       "</style>\n",
       "<table border=\"1\" class=\"dataframe\">\n",
       "  <thead>\n",
       "    <tr style=\"text-align: right;\">\n",
       "      <th></th>\n",
       "      <th>purpose_category</th>\n",
       "      <th>Кол-во клиентов</th>\n",
       "      <th>Кол-во должников</th>\n",
       "      <th>% невозврата</th>\n",
       "    </tr>\n",
       "  </thead>\n",
       "  <tbody>\n",
       "    <tr>\n",
       "      <th>0</th>\n",
       "      <td>операции с автомобилем</td>\n",
       "      <td>4281</td>\n",
       "      <td>400</td>\n",
       "      <td>0.093436</td>\n",
       "    </tr>\n",
       "    <tr>\n",
       "      <th>2</th>\n",
       "      <td>получение образования</td>\n",
       "      <td>3989</td>\n",
       "      <td>369</td>\n",
       "      <td>0.092504</td>\n",
       "    </tr>\n",
       "    <tr>\n",
       "      <th>3</th>\n",
       "      <td>проведение свадьбы</td>\n",
       "      <td>2324</td>\n",
       "      <td>183</td>\n",
       "      <td>0.078744</td>\n",
       "    </tr>\n",
       "    <tr>\n",
       "      <th>1</th>\n",
       "      <td>операции с недвижимостью</td>\n",
       "      <td>10754</td>\n",
       "      <td>780</td>\n",
       "      <td>0.072531</td>\n",
       "    </tr>\n",
       "  </tbody>\n",
       "</table>\n",
       "</div>"
      ],
      "text/plain": [
       "           purpose_category  Кол-во клиентов  Кол-во должников  % невозврата\n",
       "0    операции с автомобилем             4281               400      0.093436\n",
       "2     получение образования             3989               369      0.092504\n",
       "3        проведение свадьбы             2324               183      0.078744\n",
       "1  операции с недвижимостью            10754               780      0.072531"
      ]
     },
     "metadata": {},
     "output_type": "display_data"
    },
    {
     "data": {
      "application/vnd.plotly.v1+json": {
       "config": {
        "plotlyServerURL": "https://plot.ly"
       },
       "data": [
        {
         "alignmentgroup": "True",
         "hovertemplate": "purpose_category=%{x}<br>% невозврата=%{marker.color}<extra></extra>",
         "legendgroup": "",
         "marker": {
          "color": [
           0.09343611305769679,
           0.07253115119955365,
           0.09250438706442718,
           0.07874354561101549
          ],
          "coloraxis": "coloraxis",
          "pattern": {
           "shape": ""
          }
         },
         "name": "",
         "offsetgroup": "",
         "orientation": "v",
         "showlegend": false,
         "textposition": "auto",
         "type": "bar",
         "x": [
          "операции с автомобилем",
          "операции с недвижимостью",
          "получение образования",
          "проведение свадьбы"
         ],
         "xaxis": "x",
         "y": [
          0.09343611305769679,
          0.07253115119955365,
          0.09250438706442718,
          0.07874354561101549
         ],
         "yaxis": "y"
        }
       ],
       "layout": {
        "barmode": "relative",
        "coloraxis": {
         "colorbar": {
          "title": {
           "text": "% невозврата"
          }
         },
         "colorscale": [
          [
           0,
           "#0d0887"
          ],
          [
           0.1111111111111111,
           "#46039f"
          ],
          [
           0.2222222222222222,
           "#7201a8"
          ],
          [
           0.3333333333333333,
           "#9c179e"
          ],
          [
           0.4444444444444444,
           "#bd3786"
          ],
          [
           0.5555555555555556,
           "#d8576b"
          ],
          [
           0.6666666666666666,
           "#ed7953"
          ],
          [
           0.7777777777777778,
           "#fb9f3a"
          ],
          [
           0.8888888888888888,
           "#fdca26"
          ],
          [
           1,
           "#f0f921"
          ]
         ]
        },
        "legend": {
         "tracegroupgap": 0
        },
        "template": {
         "data": {
          "bar": [
           {
            "error_x": {
             "color": "#2a3f5f"
            },
            "error_y": {
             "color": "#2a3f5f"
            },
            "marker": {
             "line": {
              "color": "#E5ECF6",
              "width": 0.5
             },
             "pattern": {
              "fillmode": "overlay",
              "size": 10,
              "solidity": 0.2
             }
            },
            "type": "bar"
           }
          ],
          "barpolar": [
           {
            "marker": {
             "line": {
              "color": "#E5ECF6",
              "width": 0.5
             },
             "pattern": {
              "fillmode": "overlay",
              "size": 10,
              "solidity": 0.2
             }
            },
            "type": "barpolar"
           }
          ],
          "carpet": [
           {
            "aaxis": {
             "endlinecolor": "#2a3f5f",
             "gridcolor": "white",
             "linecolor": "white",
             "minorgridcolor": "white",
             "startlinecolor": "#2a3f5f"
            },
            "baxis": {
             "endlinecolor": "#2a3f5f",
             "gridcolor": "white",
             "linecolor": "white",
             "minorgridcolor": "white",
             "startlinecolor": "#2a3f5f"
            },
            "type": "carpet"
           }
          ],
          "choropleth": [
           {
            "colorbar": {
             "outlinewidth": 0,
             "ticks": ""
            },
            "type": "choropleth"
           }
          ],
          "contour": [
           {
            "colorbar": {
             "outlinewidth": 0,
             "ticks": ""
            },
            "colorscale": [
             [
              0,
              "#0d0887"
             ],
             [
              0.1111111111111111,
              "#46039f"
             ],
             [
              0.2222222222222222,
              "#7201a8"
             ],
             [
              0.3333333333333333,
              "#9c179e"
             ],
             [
              0.4444444444444444,
              "#bd3786"
             ],
             [
              0.5555555555555556,
              "#d8576b"
             ],
             [
              0.6666666666666666,
              "#ed7953"
             ],
             [
              0.7777777777777778,
              "#fb9f3a"
             ],
             [
              0.8888888888888888,
              "#fdca26"
             ],
             [
              1,
              "#f0f921"
             ]
            ],
            "type": "contour"
           }
          ],
          "contourcarpet": [
           {
            "colorbar": {
             "outlinewidth": 0,
             "ticks": ""
            },
            "type": "contourcarpet"
           }
          ],
          "heatmap": [
           {
            "colorbar": {
             "outlinewidth": 0,
             "ticks": ""
            },
            "colorscale": [
             [
              0,
              "#0d0887"
             ],
             [
              0.1111111111111111,
              "#46039f"
             ],
             [
              0.2222222222222222,
              "#7201a8"
             ],
             [
              0.3333333333333333,
              "#9c179e"
             ],
             [
              0.4444444444444444,
              "#bd3786"
             ],
             [
              0.5555555555555556,
              "#d8576b"
             ],
             [
              0.6666666666666666,
              "#ed7953"
             ],
             [
              0.7777777777777778,
              "#fb9f3a"
             ],
             [
              0.8888888888888888,
              "#fdca26"
             ],
             [
              1,
              "#f0f921"
             ]
            ],
            "type": "heatmap"
           }
          ],
          "heatmapgl": [
           {
            "colorbar": {
             "outlinewidth": 0,
             "ticks": ""
            },
            "colorscale": [
             [
              0,
              "#0d0887"
             ],
             [
              0.1111111111111111,
              "#46039f"
             ],
             [
              0.2222222222222222,
              "#7201a8"
             ],
             [
              0.3333333333333333,
              "#9c179e"
             ],
             [
              0.4444444444444444,
              "#bd3786"
             ],
             [
              0.5555555555555556,
              "#d8576b"
             ],
             [
              0.6666666666666666,
              "#ed7953"
             ],
             [
              0.7777777777777778,
              "#fb9f3a"
             ],
             [
              0.8888888888888888,
              "#fdca26"
             ],
             [
              1,
              "#f0f921"
             ]
            ],
            "type": "heatmapgl"
           }
          ],
          "histogram": [
           {
            "marker": {
             "pattern": {
              "fillmode": "overlay",
              "size": 10,
              "solidity": 0.2
             }
            },
            "type": "histogram"
           }
          ],
          "histogram2d": [
           {
            "colorbar": {
             "outlinewidth": 0,
             "ticks": ""
            },
            "colorscale": [
             [
              0,
              "#0d0887"
             ],
             [
              0.1111111111111111,
              "#46039f"
             ],
             [
              0.2222222222222222,
              "#7201a8"
             ],
             [
              0.3333333333333333,
              "#9c179e"
             ],
             [
              0.4444444444444444,
              "#bd3786"
             ],
             [
              0.5555555555555556,
              "#d8576b"
             ],
             [
              0.6666666666666666,
              "#ed7953"
             ],
             [
              0.7777777777777778,
              "#fb9f3a"
             ],
             [
              0.8888888888888888,
              "#fdca26"
             ],
             [
              1,
              "#f0f921"
             ]
            ],
            "type": "histogram2d"
           }
          ],
          "histogram2dcontour": [
           {
            "colorbar": {
             "outlinewidth": 0,
             "ticks": ""
            },
            "colorscale": [
             [
              0,
              "#0d0887"
             ],
             [
              0.1111111111111111,
              "#46039f"
             ],
             [
              0.2222222222222222,
              "#7201a8"
             ],
             [
              0.3333333333333333,
              "#9c179e"
             ],
             [
              0.4444444444444444,
              "#bd3786"
             ],
             [
              0.5555555555555556,
              "#d8576b"
             ],
             [
              0.6666666666666666,
              "#ed7953"
             ],
             [
              0.7777777777777778,
              "#fb9f3a"
             ],
             [
              0.8888888888888888,
              "#fdca26"
             ],
             [
              1,
              "#f0f921"
             ]
            ],
            "type": "histogram2dcontour"
           }
          ],
          "mesh3d": [
           {
            "colorbar": {
             "outlinewidth": 0,
             "ticks": ""
            },
            "type": "mesh3d"
           }
          ],
          "parcoords": [
           {
            "line": {
             "colorbar": {
              "outlinewidth": 0,
              "ticks": ""
             }
            },
            "type": "parcoords"
           }
          ],
          "pie": [
           {
            "automargin": true,
            "type": "pie"
           }
          ],
          "scatter": [
           {
            "marker": {
             "colorbar": {
              "outlinewidth": 0,
              "ticks": ""
             }
            },
            "type": "scatter"
           }
          ],
          "scatter3d": [
           {
            "line": {
             "colorbar": {
              "outlinewidth": 0,
              "ticks": ""
             }
            },
            "marker": {
             "colorbar": {
              "outlinewidth": 0,
              "ticks": ""
             }
            },
            "type": "scatter3d"
           }
          ],
          "scattercarpet": [
           {
            "marker": {
             "colorbar": {
              "outlinewidth": 0,
              "ticks": ""
             }
            },
            "type": "scattercarpet"
           }
          ],
          "scattergeo": [
           {
            "marker": {
             "colorbar": {
              "outlinewidth": 0,
              "ticks": ""
             }
            },
            "type": "scattergeo"
           }
          ],
          "scattergl": [
           {
            "marker": {
             "colorbar": {
              "outlinewidth": 0,
              "ticks": ""
             }
            },
            "type": "scattergl"
           }
          ],
          "scattermapbox": [
           {
            "marker": {
             "colorbar": {
              "outlinewidth": 0,
              "ticks": ""
             }
            },
            "type": "scattermapbox"
           }
          ],
          "scatterpolar": [
           {
            "marker": {
             "colorbar": {
              "outlinewidth": 0,
              "ticks": ""
             }
            },
            "type": "scatterpolar"
           }
          ],
          "scatterpolargl": [
           {
            "marker": {
             "colorbar": {
              "outlinewidth": 0,
              "ticks": ""
             }
            },
            "type": "scatterpolargl"
           }
          ],
          "scatterternary": [
           {
            "marker": {
             "colorbar": {
              "outlinewidth": 0,
              "ticks": ""
             }
            },
            "type": "scatterternary"
           }
          ],
          "surface": [
           {
            "colorbar": {
             "outlinewidth": 0,
             "ticks": ""
            },
            "colorscale": [
             [
              0,
              "#0d0887"
             ],
             [
              0.1111111111111111,
              "#46039f"
             ],
             [
              0.2222222222222222,
              "#7201a8"
             ],
             [
              0.3333333333333333,
              "#9c179e"
             ],
             [
              0.4444444444444444,
              "#bd3786"
             ],
             [
              0.5555555555555556,
              "#d8576b"
             ],
             [
              0.6666666666666666,
              "#ed7953"
             ],
             [
              0.7777777777777778,
              "#fb9f3a"
             ],
             [
              0.8888888888888888,
              "#fdca26"
             ],
             [
              1,
              "#f0f921"
             ]
            ],
            "type": "surface"
           }
          ],
          "table": [
           {
            "cells": {
             "fill": {
              "color": "#EBF0F8"
             },
             "line": {
              "color": "white"
             }
            },
            "header": {
             "fill": {
              "color": "#C8D4E3"
             },
             "line": {
              "color": "white"
             }
            },
            "type": "table"
           }
          ]
         },
         "layout": {
          "annotationdefaults": {
           "arrowcolor": "#2a3f5f",
           "arrowhead": 0,
           "arrowwidth": 1
          },
          "autotypenumbers": "strict",
          "coloraxis": {
           "colorbar": {
            "outlinewidth": 0,
            "ticks": ""
           }
          },
          "colorscale": {
           "diverging": [
            [
             0,
             "#8e0152"
            ],
            [
             0.1,
             "#c51b7d"
            ],
            [
             0.2,
             "#de77ae"
            ],
            [
             0.3,
             "#f1b6da"
            ],
            [
             0.4,
             "#fde0ef"
            ],
            [
             0.5,
             "#f7f7f7"
            ],
            [
             0.6,
             "#e6f5d0"
            ],
            [
             0.7,
             "#b8e186"
            ],
            [
             0.8,
             "#7fbc41"
            ],
            [
             0.9,
             "#4d9221"
            ],
            [
             1,
             "#276419"
            ]
           ],
           "sequential": [
            [
             0,
             "#0d0887"
            ],
            [
             0.1111111111111111,
             "#46039f"
            ],
            [
             0.2222222222222222,
             "#7201a8"
            ],
            [
             0.3333333333333333,
             "#9c179e"
            ],
            [
             0.4444444444444444,
             "#bd3786"
            ],
            [
             0.5555555555555556,
             "#d8576b"
            ],
            [
             0.6666666666666666,
             "#ed7953"
            ],
            [
             0.7777777777777778,
             "#fb9f3a"
            ],
            [
             0.8888888888888888,
             "#fdca26"
            ],
            [
             1,
             "#f0f921"
            ]
           ],
           "sequentialminus": [
            [
             0,
             "#0d0887"
            ],
            [
             0.1111111111111111,
             "#46039f"
            ],
            [
             0.2222222222222222,
             "#7201a8"
            ],
            [
             0.3333333333333333,
             "#9c179e"
            ],
            [
             0.4444444444444444,
             "#bd3786"
            ],
            [
             0.5555555555555556,
             "#d8576b"
            ],
            [
             0.6666666666666666,
             "#ed7953"
            ],
            [
             0.7777777777777778,
             "#fb9f3a"
            ],
            [
             0.8888888888888888,
             "#fdca26"
            ],
            [
             1,
             "#f0f921"
            ]
           ]
          },
          "colorway": [
           "#636efa",
           "#EF553B",
           "#00cc96",
           "#ab63fa",
           "#FFA15A",
           "#19d3f3",
           "#FF6692",
           "#B6E880",
           "#FF97FF",
           "#FECB52"
          ],
          "font": {
           "color": "#2a3f5f"
          },
          "geo": {
           "bgcolor": "white",
           "lakecolor": "white",
           "landcolor": "#E5ECF6",
           "showlakes": true,
           "showland": true,
           "subunitcolor": "white"
          },
          "hoverlabel": {
           "align": "left"
          },
          "hovermode": "closest",
          "mapbox": {
           "style": "light"
          },
          "paper_bgcolor": "white",
          "plot_bgcolor": "#E5ECF6",
          "polar": {
           "angularaxis": {
            "gridcolor": "white",
            "linecolor": "white",
            "ticks": ""
           },
           "bgcolor": "#E5ECF6",
           "radialaxis": {
            "gridcolor": "white",
            "linecolor": "white",
            "ticks": ""
           }
          },
          "scene": {
           "xaxis": {
            "backgroundcolor": "#E5ECF6",
            "gridcolor": "white",
            "gridwidth": 2,
            "linecolor": "white",
            "showbackground": true,
            "ticks": "",
            "zerolinecolor": "white"
           },
           "yaxis": {
            "backgroundcolor": "#E5ECF6",
            "gridcolor": "white",
            "gridwidth": 2,
            "linecolor": "white",
            "showbackground": true,
            "ticks": "",
            "zerolinecolor": "white"
           },
           "zaxis": {
            "backgroundcolor": "#E5ECF6",
            "gridcolor": "white",
            "gridwidth": 2,
            "linecolor": "white",
            "showbackground": true,
            "ticks": "",
            "zerolinecolor": "white"
           }
          },
          "shapedefaults": {
           "line": {
            "color": "#2a3f5f"
           }
          },
          "ternary": {
           "aaxis": {
            "gridcolor": "white",
            "linecolor": "white",
            "ticks": ""
           },
           "baxis": {
            "gridcolor": "white",
            "linecolor": "white",
            "ticks": ""
           },
           "bgcolor": "#E5ECF6",
           "caxis": {
            "gridcolor": "white",
            "linecolor": "white",
            "ticks": ""
           }
          },
          "title": {
           "x": 0.05
          },
          "xaxis": {
           "automargin": true,
           "gridcolor": "white",
           "linecolor": "white",
           "ticks": "",
           "title": {
            "standoff": 15
           },
           "zerolinecolor": "white",
           "zerolinewidth": 2
          },
          "yaxis": {
           "automargin": true,
           "gridcolor": "white",
           "linecolor": "white",
           "ticks": "",
           "title": {
            "standoff": 15
           },
           "zerolinecolor": "white",
           "zerolinewidth": 2
          }
         }
        },
        "title": {
         "text": "% невозврата по purpose_category"
        },
        "xaxis": {
         "anchor": "y",
         "domain": [
          0,
          1
         ],
         "title": {
          "text": "purpose_category"
         }
        },
        "yaxis": {
         "anchor": "x",
         "domain": [
          0,
          1
         ],
         "title": {
          "text": "% невозврата"
         }
        }
       }
      },
      "text/html": [
       "<div>                            <div id=\"acd809ea-081b-4f54-aed8-86214c439281\" class=\"plotly-graph-div\" style=\"height:525px; width:100%;\"></div>            <script type=\"text/javascript\">                require([\"plotly\"], function(Plotly) {                    window.PLOTLYENV=window.PLOTLYENV || {};                                    if (document.getElementById(\"acd809ea-081b-4f54-aed8-86214c439281\")) {                    Plotly.newPlot(                        \"acd809ea-081b-4f54-aed8-86214c439281\",                        [{\"alignmentgroup\":\"True\",\"hovertemplate\":\"purpose_category=%{x}<br>% \\u043d\\u0435\\u0432\\u043e\\u0437\\u0432\\u0440\\u0430\\u0442\\u0430=%{marker.color}<extra></extra>\",\"legendgroup\":\"\",\"marker\":{\"color\":[0.09343611305769679,0.07253115119955365,0.09250438706442718,0.07874354561101549],\"coloraxis\":\"coloraxis\",\"pattern\":{\"shape\":\"\"}},\"name\":\"\",\"offsetgroup\":\"\",\"orientation\":\"v\",\"showlegend\":false,\"textposition\":\"auto\",\"x\":[\"\\u043e\\u043f\\u0435\\u0440\\u0430\\u0446\\u0438\\u0438 \\u0441 \\u0430\\u0432\\u0442\\u043e\\u043c\\u043e\\u0431\\u0438\\u043b\\u0435\\u043c\",\"\\u043e\\u043f\\u0435\\u0440\\u0430\\u0446\\u0438\\u0438 \\u0441 \\u043d\\u0435\\u0434\\u0432\\u0438\\u0436\\u0438\\u043c\\u043e\\u0441\\u0442\\u044c\\u044e\",\"\\u043f\\u043e\\u043b\\u0443\\u0447\\u0435\\u043d\\u0438\\u0435 \\u043e\\u0431\\u0440\\u0430\\u0437\\u043e\\u0432\\u0430\\u043d\\u0438\\u044f\",\"\\u043f\\u0440\\u043e\\u0432\\u0435\\u0434\\u0435\\u043d\\u0438\\u0435 \\u0441\\u0432\\u0430\\u0434\\u044c\\u0431\\u044b\"],\"xaxis\":\"x\",\"y\":[0.09343611305769679,0.07253115119955365,0.09250438706442718,0.07874354561101549],\"yaxis\":\"y\",\"type\":\"bar\"}],                        {\"template\":{\"data\":{\"bar\":[{\"error_x\":{\"color\":\"#2a3f5f\"},\"error_y\":{\"color\":\"#2a3f5f\"},\"marker\":{\"line\":{\"color\":\"#E5ECF6\",\"width\":0.5},\"pattern\":{\"fillmode\":\"overlay\",\"size\":10,\"solidity\":0.2}},\"type\":\"bar\"}],\"barpolar\":[{\"marker\":{\"line\":{\"color\":\"#E5ECF6\",\"width\":0.5},\"pattern\":{\"fillmode\":\"overlay\",\"size\":10,\"solidity\":0.2}},\"type\":\"barpolar\"}],\"carpet\":[{\"aaxis\":{\"endlinecolor\":\"#2a3f5f\",\"gridcolor\":\"white\",\"linecolor\":\"white\",\"minorgridcolor\":\"white\",\"startlinecolor\":\"#2a3f5f\"},\"baxis\":{\"endlinecolor\":\"#2a3f5f\",\"gridcolor\":\"white\",\"linecolor\":\"white\",\"minorgridcolor\":\"white\",\"startlinecolor\":\"#2a3f5f\"},\"type\":\"carpet\"}],\"choropleth\":[{\"colorbar\":{\"outlinewidth\":0,\"ticks\":\"\"},\"type\":\"choropleth\"}],\"contour\":[{\"colorbar\":{\"outlinewidth\":0,\"ticks\":\"\"},\"colorscale\":[[0.0,\"#0d0887\"],[0.1111111111111111,\"#46039f\"],[0.2222222222222222,\"#7201a8\"],[0.3333333333333333,\"#9c179e\"],[0.4444444444444444,\"#bd3786\"],[0.5555555555555556,\"#d8576b\"],[0.6666666666666666,\"#ed7953\"],[0.7777777777777778,\"#fb9f3a\"],[0.8888888888888888,\"#fdca26\"],[1.0,\"#f0f921\"]],\"type\":\"contour\"}],\"contourcarpet\":[{\"colorbar\":{\"outlinewidth\":0,\"ticks\":\"\"},\"type\":\"contourcarpet\"}],\"heatmap\":[{\"colorbar\":{\"outlinewidth\":0,\"ticks\":\"\"},\"colorscale\":[[0.0,\"#0d0887\"],[0.1111111111111111,\"#46039f\"],[0.2222222222222222,\"#7201a8\"],[0.3333333333333333,\"#9c179e\"],[0.4444444444444444,\"#bd3786\"],[0.5555555555555556,\"#d8576b\"],[0.6666666666666666,\"#ed7953\"],[0.7777777777777778,\"#fb9f3a\"],[0.8888888888888888,\"#fdca26\"],[1.0,\"#f0f921\"]],\"type\":\"heatmap\"}],\"heatmapgl\":[{\"colorbar\":{\"outlinewidth\":0,\"ticks\":\"\"},\"colorscale\":[[0.0,\"#0d0887\"],[0.1111111111111111,\"#46039f\"],[0.2222222222222222,\"#7201a8\"],[0.3333333333333333,\"#9c179e\"],[0.4444444444444444,\"#bd3786\"],[0.5555555555555556,\"#d8576b\"],[0.6666666666666666,\"#ed7953\"],[0.7777777777777778,\"#fb9f3a\"],[0.8888888888888888,\"#fdca26\"],[1.0,\"#f0f921\"]],\"type\":\"heatmapgl\"}],\"histogram\":[{\"marker\":{\"pattern\":{\"fillmode\":\"overlay\",\"size\":10,\"solidity\":0.2}},\"type\":\"histogram\"}],\"histogram2d\":[{\"colorbar\":{\"outlinewidth\":0,\"ticks\":\"\"},\"colorscale\":[[0.0,\"#0d0887\"],[0.1111111111111111,\"#46039f\"],[0.2222222222222222,\"#7201a8\"],[0.3333333333333333,\"#9c179e\"],[0.4444444444444444,\"#bd3786\"],[0.5555555555555556,\"#d8576b\"],[0.6666666666666666,\"#ed7953\"],[0.7777777777777778,\"#fb9f3a\"],[0.8888888888888888,\"#fdca26\"],[1.0,\"#f0f921\"]],\"type\":\"histogram2d\"}],\"histogram2dcontour\":[{\"colorbar\":{\"outlinewidth\":0,\"ticks\":\"\"},\"colorscale\":[[0.0,\"#0d0887\"],[0.1111111111111111,\"#46039f\"],[0.2222222222222222,\"#7201a8\"],[0.3333333333333333,\"#9c179e\"],[0.4444444444444444,\"#bd3786\"],[0.5555555555555556,\"#d8576b\"],[0.6666666666666666,\"#ed7953\"],[0.7777777777777778,\"#fb9f3a\"],[0.8888888888888888,\"#fdca26\"],[1.0,\"#f0f921\"]],\"type\":\"histogram2dcontour\"}],\"mesh3d\":[{\"colorbar\":{\"outlinewidth\":0,\"ticks\":\"\"},\"type\":\"mesh3d\"}],\"parcoords\":[{\"line\":{\"colorbar\":{\"outlinewidth\":0,\"ticks\":\"\"}},\"type\":\"parcoords\"}],\"pie\":[{\"automargin\":true,\"type\":\"pie\"}],\"scatter\":[{\"marker\":{\"colorbar\":{\"outlinewidth\":0,\"ticks\":\"\"}},\"type\":\"scatter\"}],\"scatter3d\":[{\"line\":{\"colorbar\":{\"outlinewidth\":0,\"ticks\":\"\"}},\"marker\":{\"colorbar\":{\"outlinewidth\":0,\"ticks\":\"\"}},\"type\":\"scatter3d\"}],\"scattercarpet\":[{\"marker\":{\"colorbar\":{\"outlinewidth\":0,\"ticks\":\"\"}},\"type\":\"scattercarpet\"}],\"scattergeo\":[{\"marker\":{\"colorbar\":{\"outlinewidth\":0,\"ticks\":\"\"}},\"type\":\"scattergeo\"}],\"scattergl\":[{\"marker\":{\"colorbar\":{\"outlinewidth\":0,\"ticks\":\"\"}},\"type\":\"scattergl\"}],\"scattermapbox\":[{\"marker\":{\"colorbar\":{\"outlinewidth\":0,\"ticks\":\"\"}},\"type\":\"scattermapbox\"}],\"scatterpolar\":[{\"marker\":{\"colorbar\":{\"outlinewidth\":0,\"ticks\":\"\"}},\"type\":\"scatterpolar\"}],\"scatterpolargl\":[{\"marker\":{\"colorbar\":{\"outlinewidth\":0,\"ticks\":\"\"}},\"type\":\"scatterpolargl\"}],\"scatterternary\":[{\"marker\":{\"colorbar\":{\"outlinewidth\":0,\"ticks\":\"\"}},\"type\":\"scatterternary\"}],\"surface\":[{\"colorbar\":{\"outlinewidth\":0,\"ticks\":\"\"},\"colorscale\":[[0.0,\"#0d0887\"],[0.1111111111111111,\"#46039f\"],[0.2222222222222222,\"#7201a8\"],[0.3333333333333333,\"#9c179e\"],[0.4444444444444444,\"#bd3786\"],[0.5555555555555556,\"#d8576b\"],[0.6666666666666666,\"#ed7953\"],[0.7777777777777778,\"#fb9f3a\"],[0.8888888888888888,\"#fdca26\"],[1.0,\"#f0f921\"]],\"type\":\"surface\"}],\"table\":[{\"cells\":{\"fill\":{\"color\":\"#EBF0F8\"},\"line\":{\"color\":\"white\"}},\"header\":{\"fill\":{\"color\":\"#C8D4E3\"},\"line\":{\"color\":\"white\"}},\"type\":\"table\"}]},\"layout\":{\"annotationdefaults\":{\"arrowcolor\":\"#2a3f5f\",\"arrowhead\":0,\"arrowwidth\":1},\"autotypenumbers\":\"strict\",\"coloraxis\":{\"colorbar\":{\"outlinewidth\":0,\"ticks\":\"\"}},\"colorscale\":{\"diverging\":[[0,\"#8e0152\"],[0.1,\"#c51b7d\"],[0.2,\"#de77ae\"],[0.3,\"#f1b6da\"],[0.4,\"#fde0ef\"],[0.5,\"#f7f7f7\"],[0.6,\"#e6f5d0\"],[0.7,\"#b8e186\"],[0.8,\"#7fbc41\"],[0.9,\"#4d9221\"],[1,\"#276419\"]],\"sequential\":[[0.0,\"#0d0887\"],[0.1111111111111111,\"#46039f\"],[0.2222222222222222,\"#7201a8\"],[0.3333333333333333,\"#9c179e\"],[0.4444444444444444,\"#bd3786\"],[0.5555555555555556,\"#d8576b\"],[0.6666666666666666,\"#ed7953\"],[0.7777777777777778,\"#fb9f3a\"],[0.8888888888888888,\"#fdca26\"],[1.0,\"#f0f921\"]],\"sequentialminus\":[[0.0,\"#0d0887\"],[0.1111111111111111,\"#46039f\"],[0.2222222222222222,\"#7201a8\"],[0.3333333333333333,\"#9c179e\"],[0.4444444444444444,\"#bd3786\"],[0.5555555555555556,\"#d8576b\"],[0.6666666666666666,\"#ed7953\"],[0.7777777777777778,\"#fb9f3a\"],[0.8888888888888888,\"#fdca26\"],[1.0,\"#f0f921\"]]},\"colorway\":[\"#636efa\",\"#EF553B\",\"#00cc96\",\"#ab63fa\",\"#FFA15A\",\"#19d3f3\",\"#FF6692\",\"#B6E880\",\"#FF97FF\",\"#FECB52\"],\"font\":{\"color\":\"#2a3f5f\"},\"geo\":{\"bgcolor\":\"white\",\"lakecolor\":\"white\",\"landcolor\":\"#E5ECF6\",\"showlakes\":true,\"showland\":true,\"subunitcolor\":\"white\"},\"hoverlabel\":{\"align\":\"left\"},\"hovermode\":\"closest\",\"mapbox\":{\"style\":\"light\"},\"paper_bgcolor\":\"white\",\"plot_bgcolor\":\"#E5ECF6\",\"polar\":{\"angularaxis\":{\"gridcolor\":\"white\",\"linecolor\":\"white\",\"ticks\":\"\"},\"bgcolor\":\"#E5ECF6\",\"radialaxis\":{\"gridcolor\":\"white\",\"linecolor\":\"white\",\"ticks\":\"\"}},\"scene\":{\"xaxis\":{\"backgroundcolor\":\"#E5ECF6\",\"gridcolor\":\"white\",\"gridwidth\":2,\"linecolor\":\"white\",\"showbackground\":true,\"ticks\":\"\",\"zerolinecolor\":\"white\"},\"yaxis\":{\"backgroundcolor\":\"#E5ECF6\",\"gridcolor\":\"white\",\"gridwidth\":2,\"linecolor\":\"white\",\"showbackground\":true,\"ticks\":\"\",\"zerolinecolor\":\"white\"},\"zaxis\":{\"backgroundcolor\":\"#E5ECF6\",\"gridcolor\":\"white\",\"gridwidth\":2,\"linecolor\":\"white\",\"showbackground\":true,\"ticks\":\"\",\"zerolinecolor\":\"white\"}},\"shapedefaults\":{\"line\":{\"color\":\"#2a3f5f\"}},\"ternary\":{\"aaxis\":{\"gridcolor\":\"white\",\"linecolor\":\"white\",\"ticks\":\"\"},\"baxis\":{\"gridcolor\":\"white\",\"linecolor\":\"white\",\"ticks\":\"\"},\"bgcolor\":\"#E5ECF6\",\"caxis\":{\"gridcolor\":\"white\",\"linecolor\":\"white\",\"ticks\":\"\"}},\"title\":{\"x\":0.05},\"xaxis\":{\"automargin\":true,\"gridcolor\":\"white\",\"linecolor\":\"white\",\"ticks\":\"\",\"title\":{\"standoff\":15},\"zerolinecolor\":\"white\",\"zerolinewidth\":2},\"yaxis\":{\"automargin\":true,\"gridcolor\":\"white\",\"linecolor\":\"white\",\"ticks\":\"\",\"title\":{\"standoff\":15},\"zerolinecolor\":\"white\",\"zerolinewidth\":2}}},\"xaxis\":{\"anchor\":\"y\",\"domain\":[0.0,1.0],\"title\":{\"text\":\"purpose_category\"}},\"yaxis\":{\"anchor\":\"x\",\"domain\":[0.0,1.0],\"title\":{\"text\":\"% \\u043d\\u0435\\u0432\\u043e\\u0437\\u0432\\u0440\\u0430\\u0442\\u0430\"}},\"coloraxis\":{\"colorbar\":{\"title\":{\"text\":\"% \\u043d\\u0435\\u0432\\u043e\\u0437\\u0432\\u0440\\u0430\\u0442\\u0430\"}},\"colorscale\":[[0.0,\"#0d0887\"],[0.1111111111111111,\"#46039f\"],[0.2222222222222222,\"#7201a8\"],[0.3333333333333333,\"#9c179e\"],[0.4444444444444444,\"#bd3786\"],[0.5555555555555556,\"#d8576b\"],[0.6666666666666666,\"#ed7953\"],[0.7777777777777778,\"#fb9f3a\"],[0.8888888888888888,\"#fdca26\"],[1.0,\"#f0f921\"]]},\"legend\":{\"tracegroupgap\":0},\"title\":{\"text\":\"% \\u043d\\u0435\\u0432\\u043e\\u0437\\u0432\\u0440\\u0430\\u0442\\u0430 \\u043f\\u043e purpose_category\"},\"barmode\":\"relative\"},                        {\"responsive\": true}                    ).then(function(){\n",
       "                            \n",
       "var gd = document.getElementById('acd809ea-081b-4f54-aed8-86214c439281');\n",
       "var x = new MutationObserver(function (mutations, observer) {{\n",
       "        var display = window.getComputedStyle(gd).display;\n",
       "        if (!display || display === 'none') {{\n",
       "            console.log([gd, 'removed!']);\n",
       "            Plotly.purge(gd);\n",
       "            observer.disconnect();\n",
       "        }}\n",
       "}});\n",
       "\n",
       "// Listen for the removal of the full notebook cells\n",
       "var notebookContainer = gd.closest('#notebook-container');\n",
       "if (notebookContainer) {{\n",
       "    x.observe(notebookContainer, {childList: true});\n",
       "}}\n",
       "\n",
       "// Listen for the clearing of the current output cell\n",
       "var outputEl = gd.closest('.output');\n",
       "if (outputEl) {{\n",
       "    x.observe(outputEl, {childList: true});\n",
       "}}\n",
       "\n",
       "                        })                };                });            </script>        </div>"
      ]
     },
     "metadata": {},
     "output_type": "display_data"
    }
   ],
   "source": [
    "pivot(data, 'purpose_category')"
   ]
  },
  {
   "cell_type": "markdown",
   "id": "b4bb2ce6",
   "metadata": {
    "deletable": false,
    "id": "b4bb2ce6"
   },
   "source": [
    "**Вывод:** Категория кредита влияет на задолженность.\n",
    "\n",
    "Заметно большую задолженность имеют заёмщики в категориях: операции с автомобилем и получение образования. С отрывом идут займы на свадьбы и операции с недвижимостью. Заёмщики недвижимости самые кредитоспособные."
   ]
  },
  {
   "cell_type": "markdown",
   "id": "09c3ac4c",
   "metadata": {
    "deletable": false,
    "editable": false,
    "id": "09c3ac4c"
   },
   "source": [
    "**Задание 23. Приведите возможные причины появления пропусков в исходных данных.**"
   ]
  },
  {
   "cell_type": "markdown",
   "id": "9da2ceda",
   "metadata": {
    "deletable": false,
    "id": "9da2ceda"
   },
   "source": [
    "*Ответ:* Пропуски могли возникнуть в результате ошибок при привыгрузке данных, из-за неправильного запроса, а также в следствии ошибок при объединении таблиц. \n",
    "\n",
    "В исходных данных встречались пропуска в двух колонках: days_employed (2174 пропусков) и total_income (2174 пропусков). Данные пропуски нельзя назвать случайными тк строки с пропущенными days_employed имели одновременно пропуски и в категории total_income. \n",
    "\n",
    "После вывдения результата 4-го задания я провожу проверку ниже чтобы убедиться в том что пропусти в days_employed соответствуют пропускам в колрнке total_income.\n",
    "\n",
    "`len(data.loc[(data['days_employed'].isna()) & (data['total_income'].isna())])`\n",
    "\n",
    "Возможная причина пропусков это сознательное умалчивание информации. Возможно, у заёмщиков была возможось не включать важную информацию о свох доходах в базу данных, или они изъявили желание не оглашать публично их стаж и уровень дохода.\n",
    "\n",
    "В результате мы видим что 2174 заёмщиков предоставили не полную информацию которую пришлось заменять медианными значениями чтобы не терять выбоку и провести исследование."
   ]
  },
  {
   "cell_type": "markdown",
   "id": "7b0487d6",
   "metadata": {
    "deletable": false,
    "editable": false,
    "id": "7b0487d6"
   },
   "source": [
    "**Задание 24. Объясните, почему заполнить пропуски медианным значением — лучшее решение для количественных переменных.**"
   ]
  },
  {
   "cell_type": "markdown",
   "id": "7ecf2b8e",
   "metadata": {
    "deletable": false,
    "id": "7ecf2b8e"
   },
   "source": [
    "*Ответ:* Пропущенные значения в колонках: days_employed (2174 пропусков) и total_income (2174 пропусков) являются количественными. Для заполнения количественных пропусков предпочтительнее всего использовать характерные значения например: среднее арифметическое или медиану.\n",
    "\n",
    "В данном исследовании была выбрана медиана чтобы избежать влияния паразитных, оторванных значений на общую картину. Уровень зарплаты и рабочий стаж могут значительно отличатся в пределах выборки, поэтому их влияние следует исключить нахождением медианного значения."
   ]
  },
  {
   "cell_type": "markdown",
   "id": "6db5255a",
   "metadata": {
    "deletable": false,
    "editable": false,
    "id": "6db5255a"
   },
   "source": [
    "## Общий вывод."
   ]
  },
  {
   "cell_type": "markdown",
   "id": "bad65432",
   "metadata": {
    "id": "bad65432"
   },
   "source": [
    "Проведённое исследование позволило выявить ряд зависимостей и определить взаимосвязь социального статуса, доходов и прочих факторов на долговоую нагрузку заёмщиков.\n",
    "\n",
    "Портрет заёмщика-должника: \n",
    "многодетные, состоящие в гражданском браке люди берущие займ на операции с автомобилем или получение образования.\n",
    "\n",
    "С другой стороны, портрет заёмщика с наименьшей долговой нагрузкой это: бездетные состоящие в официальном браке, вдовы либо вдовцы берущие займ на недвижимость (заёмщики без долга с 5 детьми составляют всего 9 чел поэтому их мы не будем учитывать).\n",
    "\n",
    "Как ни странно, но явной зависимости между уровнем дохода и задолженностью не наблюдается.\n",
    "\n",
    "*Рекомендации для будующих исследований*:\n",
    "В некоторых исследованиях, а именно зависимость количества детей от долговой нагрузки, было показано что заёмщики с 3-мя и 5-ю детьми выбиваются из общей закономерности. Это может быть следствием недостаточно большой или недостаточно репрезентативной выборки. Следовательно, рекомендуется повысить размер и качество выборки для аналогичных исследований в будующем с целью улучшить качество исследования.\n"
   ]
  }
 ],
 "metadata": {
  "ExecuteTimeLog": [
   {
    "duration": 503,
    "start_time": "2022-08-01T16:40:43.385Z"
   },
   {
    "duration": 28,
    "start_time": "2022-08-01T16:40:46.630Z"
   },
   {
    "duration": 28,
    "start_time": "2022-08-01T16:40:52.548Z"
   },
   {
    "duration": 19,
    "start_time": "2022-08-01T16:40:57.184Z"
   },
   {
    "duration": 36,
    "start_time": "2022-08-01T16:41:01.090Z"
   },
   {
    "duration": 3,
    "start_time": "2022-08-01T16:41:02.844Z"
   },
   {
    "duration": 11,
    "start_time": "2022-08-01T16:41:04.387Z"
   },
   {
    "duration": 5,
    "start_time": "2022-08-01T16:41:07.909Z"
   },
   {
    "duration": 15,
    "start_time": "2022-08-01T16:41:10.886Z"
   },
   {
    "duration": 9,
    "start_time": "2022-08-01T16:41:11.888Z"
   },
   {
    "duration": 38,
    "start_time": "2022-08-01T16:41:13.634Z"
   },
   {
    "duration": 11,
    "start_time": "2022-08-01T16:41:15.004Z"
   },
   {
    "duration": 3,
    "start_time": "2022-08-01T16:41:18.926Z"
   },
   {
    "duration": 24,
    "start_time": "2022-08-01T16:41:22.708Z"
   },
   {
    "duration": 18,
    "start_time": "2022-08-01T16:41:27.198Z"
   },
   {
    "duration": 12,
    "start_time": "2022-08-01T16:41:28.934Z"
   },
   {
    "duration": 4,
    "start_time": "2022-08-01T16:41:34.757Z"
   },
   {
    "duration": 18,
    "start_time": "2022-08-01T16:41:36.200Z"
   },
   {
    "duration": 6,
    "start_time": "2022-08-01T16:41:39.214Z"
   },
   {
    "duration": 4,
    "start_time": "2022-08-01T16:41:43.428Z"
   },
   {
    "duration": 19,
    "start_time": "2022-08-01T16:41:44.897Z"
   },
   {
    "duration": 69,
    "start_time": "2022-08-01T16:56:20.612Z"
   },
   {
    "duration": 913,
    "start_time": "2022-08-01T16:56:25.200Z"
   },
   {
    "duration": 204,
    "start_time": "2022-08-01T16:56:26.404Z"
   },
   {
    "duration": 165,
    "start_time": "2022-08-01T16:57:04.284Z"
   },
   {
    "duration": 412,
    "start_time": "2022-08-01T17:00:04.891Z"
   },
   {
    "duration": 56,
    "start_time": "2022-08-01T17:01:16.228Z"
   },
   {
    "duration": 14,
    "start_time": "2022-08-01T17:01:23.389Z"
   },
   {
    "duration": 7,
    "start_time": "2022-08-01T17:01:33.094Z"
   },
   {
    "duration": 9,
    "start_time": "2022-08-01T17:02:15.034Z"
   },
   {
    "duration": 8,
    "start_time": "2022-08-01T17:02:48.407Z"
   },
   {
    "duration": 9,
    "start_time": "2022-08-01T17:03:06.122Z"
   },
   {
    "duration": 3,
    "start_time": "2022-08-01T17:03:20.747Z"
   },
   {
    "duration": 181,
    "start_time": "2022-08-01T17:03:21.918Z"
   },
   {
    "duration": 433,
    "start_time": "2022-08-01T17:03:26.422Z"
   },
   {
    "duration": 9,
    "start_time": "2022-08-01T17:03:29.243Z"
   },
   {
    "duration": 380,
    "start_time": "2022-08-01T17:04:08.514Z"
   },
   {
    "duration": 135,
    "start_time": "2022-08-01T17:06:10.142Z"
   },
   {
    "duration": 9,
    "start_time": "2022-08-01T17:09:19.650Z"
   },
   {
    "duration": 403,
    "start_time": "2022-08-01T17:09:34.097Z"
   },
   {
    "duration": 356,
    "start_time": "2022-08-01T17:10:17.043Z"
   },
   {
    "duration": 2,
    "start_time": "2022-08-01T17:10:55.950Z"
   },
   {
    "duration": 342,
    "start_time": "2022-08-01T17:10:57.502Z"
   },
   {
    "duration": 7,
    "start_time": "2022-08-01T17:11:00.635Z"
   },
   {
    "duration": 441,
    "start_time": "2022-08-01T17:11:01.172Z"
   },
   {
    "duration": 337,
    "start_time": "2022-08-01T17:11:03.450Z"
   },
   {
    "duration": 338,
    "start_time": "2022-08-01T17:14:08.238Z"
   },
   {
    "duration": 378,
    "start_time": "2022-08-01T17:14:49.687Z"
   },
   {
    "duration": 7,
    "start_time": "2022-08-01T17:15:08.643Z"
   },
   {
    "duration": 342,
    "start_time": "2022-08-01T17:15:22.294Z"
   },
   {
    "duration": 348,
    "start_time": "2022-08-01T17:15:45.116Z"
   },
   {
    "duration": 7,
    "start_time": "2022-08-01T17:18:43.849Z"
   },
   {
    "duration": 13,
    "start_time": "2022-08-01T17:23:03.186Z"
   },
   {
    "duration": 13,
    "start_time": "2022-08-01T17:23:30.113Z"
   },
   {
    "duration": 10,
    "start_time": "2022-08-01T17:23:47.276Z"
   },
   {
    "duration": 7,
    "start_time": "2022-08-01T17:23:56.876Z"
   },
   {
    "duration": 6,
    "start_time": "2022-08-01T17:30:48.216Z"
   },
   {
    "duration": 6,
    "start_time": "2022-08-01T17:31:00.696Z"
   },
   {
    "duration": 8,
    "start_time": "2022-08-01T17:32:07.830Z"
   },
   {
    "duration": 8,
    "start_time": "2022-08-01T17:32:22.924Z"
   },
   {
    "duration": 163,
    "start_time": "2022-08-01T18:48:14.173Z"
   },
   {
    "duration": 5,
    "start_time": "2022-08-01T18:48:26.941Z"
   },
   {
    "duration": 15,
    "start_time": "2022-08-01T18:48:38.183Z"
   },
   {
    "duration": 6,
    "start_time": "2022-08-01T18:49:00.067Z"
   },
   {
    "duration": 16,
    "start_time": "2022-08-01T18:51:16.002Z"
   },
   {
    "duration": 173,
    "start_time": "2022-08-01T18:51:21.581Z"
   },
   {
    "duration": 154,
    "start_time": "2022-08-01T18:51:47.472Z"
   },
   {
    "duration": 3,
    "start_time": "2022-08-01T18:53:21.199Z"
   },
   {
    "duration": 318,
    "start_time": "2022-08-01T18:53:22.320Z"
   },
   {
    "duration": 5,
    "start_time": "2022-08-01T18:53:23.232Z"
   },
   {
    "duration": 154,
    "start_time": "2022-08-01T18:53:24.829Z"
   },
   {
    "duration": 171,
    "start_time": "2022-08-01T18:53:54.647Z"
   },
   {
    "duration": 171,
    "start_time": "2022-08-01T18:57:40.825Z"
   },
   {
    "duration": 266,
    "start_time": "2022-08-01T19:00:47.696Z"
   },
   {
    "duration": 151,
    "start_time": "2022-08-01T19:00:55.424Z"
   },
   {
    "duration": 13,
    "start_time": "2022-08-01T19:03:48.486Z"
   },
   {
    "duration": 155,
    "start_time": "2022-08-01T19:03:54.662Z"
   },
   {
    "duration": 161,
    "start_time": "2022-08-01T19:04:05.298Z"
   },
   {
    "duration": 146,
    "start_time": "2022-08-01T19:04:23.818Z"
   },
   {
    "duration": 156,
    "start_time": "2022-08-01T19:04:33.166Z"
   },
   {
    "duration": 43,
    "start_time": "2022-08-02T11:49:38.640Z"
   },
   {
    "duration": 716,
    "start_time": "2022-08-02T11:49:45.992Z"
   },
   {
    "duration": 22,
    "start_time": "2022-08-02T11:49:46.710Z"
   },
   {
    "duration": 13,
    "start_time": "2022-08-02T11:49:46.734Z"
   },
   {
    "duration": 10,
    "start_time": "2022-08-02T11:49:46.748Z"
   },
   {
    "duration": 30,
    "start_time": "2022-08-02T11:49:46.760Z"
   },
   {
    "duration": 3,
    "start_time": "2022-08-02T11:49:46.801Z"
   },
   {
    "duration": 13,
    "start_time": "2022-08-02T11:49:46.805Z"
   },
   {
    "duration": 5,
    "start_time": "2022-08-02T11:49:46.819Z"
   },
   {
    "duration": 9,
    "start_time": "2022-08-02T11:49:46.826Z"
   },
   {
    "duration": 4,
    "start_time": "2022-08-02T11:49:46.836Z"
   },
   {
    "duration": 36,
    "start_time": "2022-08-02T11:49:46.841Z"
   },
   {
    "duration": 26,
    "start_time": "2022-08-02T11:49:46.879Z"
   },
   {
    "duration": 4,
    "start_time": "2022-08-02T11:49:46.906Z"
   },
   {
    "duration": 18,
    "start_time": "2022-08-02T11:49:46.913Z"
   },
   {
    "duration": 16,
    "start_time": "2022-08-02T11:49:46.932Z"
   },
   {
    "duration": 12,
    "start_time": "2022-08-02T11:49:46.949Z"
   },
   {
    "duration": 9,
    "start_time": "2022-08-02T11:49:46.963Z"
   },
   {
    "duration": 31,
    "start_time": "2022-08-02T11:49:46.974Z"
   },
   {
    "duration": 11,
    "start_time": "2022-08-02T11:49:47.007Z"
   },
   {
    "duration": 7,
    "start_time": "2022-08-02T11:49:47.020Z"
   },
   {
    "duration": 13,
    "start_time": "2022-08-02T11:49:47.029Z"
   },
   {
    "duration": 7,
    "start_time": "2022-08-02T11:49:47.043Z"
   },
   {
    "duration": 829,
    "start_time": "2022-08-02T11:49:47.051Z"
   },
   {
    "duration": 344,
    "start_time": "2022-08-02T11:49:47.882Z"
   },
   {
    "duration": 61,
    "start_time": "2022-08-02T11:49:48.228Z"
   },
   {
    "duration": 0,
    "start_time": "2022-08-02T11:49:48.300Z"
   },
   {
    "duration": 0,
    "start_time": "2022-08-02T11:49:48.301Z"
   },
   {
    "duration": 0,
    "start_time": "2022-08-02T11:49:48.302Z"
   },
   {
    "duration": 7,
    "start_time": "2022-08-02T11:51:19.989Z"
   },
   {
    "duration": 25,
    "start_time": "2022-08-02T12:05:11.505Z"
   },
   {
    "duration": 88,
    "start_time": "2022-08-02T12:07:12.853Z"
   },
   {
    "duration": 22,
    "start_time": "2022-08-02T12:07:16.571Z"
   },
   {
    "duration": 9,
    "start_time": "2022-08-02T12:12:58.840Z"
   },
   {
    "duration": 12,
    "start_time": "2022-08-02T12:18:34.599Z"
   },
   {
    "duration": 42,
    "start_time": "2022-08-02T12:21:01.793Z"
   },
   {
    "duration": 21,
    "start_time": "2022-08-02T12:23:19.239Z"
   },
   {
    "duration": 10,
    "start_time": "2022-08-02T12:27:46.112Z"
   },
   {
    "duration": 8,
    "start_time": "2022-08-02T12:28:24.839Z"
   },
   {
    "duration": 9,
    "start_time": "2022-08-02T12:28:34.766Z"
   },
   {
    "duration": 3,
    "start_time": "2022-08-02T12:28:42.896Z"
   },
   {
    "duration": 14,
    "start_time": "2022-08-02T12:30:07.264Z"
   },
   {
    "duration": 12,
    "start_time": "2022-08-02T12:30:28.939Z"
   },
   {
    "duration": 14,
    "start_time": "2022-08-02T12:30:36.944Z"
   },
   {
    "duration": 2,
    "start_time": "2022-08-02T12:59:46.370Z"
   },
   {
    "duration": 132,
    "start_time": "2022-08-02T13:09:22.127Z"
   },
   {
    "duration": 8,
    "start_time": "2022-08-02T13:10:38.923Z"
   },
   {
    "duration": 8,
    "start_time": "2022-08-02T13:13:19.127Z"
   },
   {
    "duration": 9,
    "start_time": "2022-08-02T13:18:19.242Z"
   },
   {
    "duration": 9,
    "start_time": "2022-08-02T13:18:49.240Z"
   },
   {
    "duration": 71,
    "start_time": "2022-08-02T13:24:38.847Z"
   },
   {
    "duration": 16,
    "start_time": "2022-08-02T13:24:38.920Z"
   },
   {
    "duration": 22,
    "start_time": "2022-08-02T13:24:38.938Z"
   },
   {
    "duration": 21,
    "start_time": "2022-08-02T13:24:38.962Z"
   },
   {
    "duration": 59,
    "start_time": "2022-08-02T13:24:38.985Z"
   },
   {
    "duration": 4,
    "start_time": "2022-08-02T13:24:39.046Z"
   },
   {
    "duration": 11,
    "start_time": "2022-08-02T13:24:39.051Z"
   },
   {
    "duration": 4,
    "start_time": "2022-08-02T13:24:39.063Z"
   },
   {
    "duration": 8,
    "start_time": "2022-08-02T13:24:39.068Z"
   },
   {
    "duration": 23,
    "start_time": "2022-08-02T13:24:39.078Z"
   },
   {
    "duration": 30,
    "start_time": "2022-08-02T13:24:39.102Z"
   },
   {
    "duration": 9,
    "start_time": "2022-08-02T13:24:39.133Z"
   },
   {
    "duration": 6,
    "start_time": "2022-08-02T13:24:39.143Z"
   },
   {
    "duration": 19,
    "start_time": "2022-08-02T13:24:39.150Z"
   },
   {
    "duration": 38,
    "start_time": "2022-08-02T13:24:39.171Z"
   },
   {
    "duration": 10,
    "start_time": "2022-08-02T13:24:39.211Z"
   },
   {
    "duration": 6,
    "start_time": "2022-08-02T13:24:39.222Z"
   },
   {
    "duration": 11,
    "start_time": "2022-08-02T13:24:39.229Z"
   },
   {
    "duration": 5,
    "start_time": "2022-08-02T13:24:39.242Z"
   },
   {
    "duration": 8,
    "start_time": "2022-08-02T13:24:39.249Z"
   },
   {
    "duration": 46,
    "start_time": "2022-08-02T13:24:39.258Z"
   },
   {
    "duration": 3,
    "start_time": "2022-08-02T13:24:39.305Z"
   },
   {
    "duration": 8,
    "start_time": "2022-08-02T13:24:39.310Z"
   },
   {
    "duration": 6,
    "start_time": "2022-08-02T13:24:39.319Z"
   },
   {
    "duration": 11,
    "start_time": "2022-08-02T13:24:39.326Z"
   },
   {
    "duration": 7,
    "start_time": "2022-08-02T13:24:39.339Z"
   },
   {
    "duration": 9,
    "start_time": "2022-08-02T13:24:39.348Z"
   },
   {
    "duration": 10,
    "start_time": "2022-08-02T13:24:39.361Z"
   },
   {
    "duration": 34,
    "start_time": "2022-08-02T13:24:39.373Z"
   },
   {
    "duration": 356,
    "start_time": "2022-08-02T13:24:39.409Z"
   },
   {
    "duration": 3,
    "start_time": "2022-08-02T13:24:39.767Z"
   },
   {
    "duration": 5,
    "start_time": "2022-08-02T13:24:39.771Z"
   },
   {
    "duration": 8,
    "start_time": "2022-08-02T13:24:39.778Z"
   },
   {
    "duration": 3,
    "start_time": "2022-08-02T13:25:56.531Z"
   },
   {
    "duration": 7,
    "start_time": "2022-08-02T13:35:50.691Z"
   },
   {
    "duration": 5,
    "start_time": "2022-08-02T13:36:08.508Z"
   },
   {
    "duration": 9,
    "start_time": "2022-08-02T13:40:29.308Z"
   },
   {
    "duration": 3,
    "start_time": "2022-08-02T13:41:11.249Z"
   },
   {
    "duration": 10,
    "start_time": "2022-08-02T13:41:43.496Z"
   },
   {
    "duration": 10,
    "start_time": "2022-08-02T13:42:04.750Z"
   },
   {
    "duration": 2,
    "start_time": "2022-08-02T13:43:18.473Z"
   },
   {
    "duration": 3,
    "start_time": "2022-08-02T13:44:01.808Z"
   },
   {
    "duration": 11,
    "start_time": "2022-08-02T13:44:02.271Z"
   },
   {
    "duration": 13,
    "start_time": "2022-08-02T14:07:26.601Z"
   },
   {
    "duration": 45,
    "start_time": "2022-08-02T14:15:59.505Z"
   },
   {
    "duration": 7,
    "start_time": "2022-08-02T14:16:07.840Z"
   },
   {
    "duration": 12,
    "start_time": "2022-08-02T14:18:06.174Z"
   },
   {
    "duration": 145,
    "start_time": "2022-08-02T14:18:16.242Z"
   },
   {
    "duration": 14,
    "start_time": "2022-08-02T14:23:52.381Z"
   },
   {
    "duration": 9,
    "start_time": "2022-08-02T14:24:08.861Z"
   },
   {
    "duration": 10,
    "start_time": "2022-08-02T14:24:28.439Z"
   },
   {
    "duration": 4,
    "start_time": "2022-08-02T14:25:01.955Z"
   },
   {
    "duration": 8,
    "start_time": "2022-08-02T14:25:06.047Z"
   },
   {
    "duration": 6,
    "start_time": "2022-08-02T14:25:16.170Z"
   },
   {
    "duration": 6,
    "start_time": "2022-08-02T14:25:54.964Z"
   },
   {
    "duration": 3,
    "start_time": "2022-08-02T14:34:05.846Z"
   },
   {
    "duration": 8,
    "start_time": "2022-08-02T14:34:10.446Z"
   },
   {
    "duration": 6,
    "start_time": "2022-08-02T14:34:11.145Z"
   },
   {
    "duration": 13,
    "start_time": "2022-08-02T14:35:13.385Z"
   },
   {
    "duration": 2,
    "start_time": "2022-08-02T14:35:33.433Z"
   },
   {
    "duration": 3,
    "start_time": "2022-08-02T14:35:34.271Z"
   },
   {
    "duration": 3,
    "start_time": "2022-08-02T14:35:34.785Z"
   },
   {
    "duration": 4,
    "start_time": "2022-08-02T14:35:35.245Z"
   },
   {
    "duration": 65,
    "start_time": "2022-08-02T14:35:38.277Z"
   },
   {
    "duration": 15,
    "start_time": "2022-08-02T14:35:38.344Z"
   },
   {
    "duration": 38,
    "start_time": "2022-08-02T14:35:38.360Z"
   },
   {
    "duration": 28,
    "start_time": "2022-08-02T14:35:38.400Z"
   },
   {
    "duration": 41,
    "start_time": "2022-08-02T14:35:38.430Z"
   },
   {
    "duration": 4,
    "start_time": "2022-08-02T14:35:38.473Z"
   },
   {
    "duration": 34,
    "start_time": "2022-08-02T14:35:38.478Z"
   },
   {
    "duration": 24,
    "start_time": "2022-08-02T14:35:38.513Z"
   },
   {
    "duration": 28,
    "start_time": "2022-08-02T14:35:38.538Z"
   },
   {
    "duration": 7,
    "start_time": "2022-08-02T14:35:38.569Z"
   },
   {
    "duration": 46,
    "start_time": "2022-08-02T14:35:38.578Z"
   },
   {
    "duration": 12,
    "start_time": "2022-08-02T14:35:38.625Z"
   },
   {
    "duration": 26,
    "start_time": "2022-08-02T14:35:38.638Z"
   },
   {
    "duration": 45,
    "start_time": "2022-08-02T14:35:38.666Z"
   },
   {
    "duration": 19,
    "start_time": "2022-08-02T14:35:38.712Z"
   },
   {
    "duration": 12,
    "start_time": "2022-08-02T14:35:38.732Z"
   },
   {
    "duration": 36,
    "start_time": "2022-08-02T14:35:38.746Z"
   },
   {
    "duration": 32,
    "start_time": "2022-08-02T14:35:38.784Z"
   },
   {
    "duration": 15,
    "start_time": "2022-08-02T14:35:38.818Z"
   },
   {
    "duration": 31,
    "start_time": "2022-08-02T14:35:38.834Z"
   },
   {
    "duration": 25,
    "start_time": "2022-08-02T14:35:38.866Z"
   },
   {
    "duration": 29,
    "start_time": "2022-08-02T14:35:38.893Z"
   },
   {
    "duration": 31,
    "start_time": "2022-08-02T14:35:38.923Z"
   },
   {
    "duration": 40,
    "start_time": "2022-08-02T14:35:38.956Z"
   },
   {
    "duration": 34,
    "start_time": "2022-08-02T14:35:38.998Z"
   },
   {
    "duration": 24,
    "start_time": "2022-08-02T14:35:39.033Z"
   },
   {
    "duration": 24,
    "start_time": "2022-08-02T14:35:39.059Z"
   },
   {
    "duration": 17,
    "start_time": "2022-08-02T14:35:39.087Z"
   },
   {
    "duration": 37,
    "start_time": "2022-08-02T14:35:39.105Z"
   },
   {
    "duration": 326,
    "start_time": "2022-08-02T14:35:39.143Z"
   },
   {
    "duration": 3,
    "start_time": "2022-08-02T14:35:39.470Z"
   },
   {
    "duration": 35,
    "start_time": "2022-08-02T14:35:39.474Z"
   },
   {
    "duration": 13,
    "start_time": "2022-08-02T14:35:39.511Z"
   },
   {
    "duration": 20,
    "start_time": "2022-08-02T14:35:39.525Z"
   },
   {
    "duration": 28,
    "start_time": "2022-08-02T14:35:39.546Z"
   },
   {
    "duration": 22,
    "start_time": "2022-08-02T14:35:39.575Z"
   },
   {
    "duration": 32,
    "start_time": "2022-08-02T14:35:39.598Z"
   },
   {
    "duration": 0,
    "start_time": "2022-08-02T14:35:39.631Z"
   },
   {
    "duration": 0,
    "start_time": "2022-08-02T14:35:39.632Z"
   },
   {
    "duration": 9,
    "start_time": "2022-08-02T14:36:19.767Z"
   },
   {
    "duration": 5,
    "start_time": "2022-08-02T14:38:54.376Z"
   },
   {
    "duration": 337,
    "start_time": "2022-08-02T14:43:44.501Z"
   },
   {
    "duration": 12,
    "start_time": "2022-08-02T14:47:28.650Z"
   },
   {
    "duration": 306,
    "start_time": "2022-08-02T14:47:40.136Z"
   },
   {
    "duration": 9,
    "start_time": "2022-08-02T14:49:38.735Z"
   },
   {
    "duration": 51,
    "start_time": "2022-08-02T14:50:19.591Z"
   },
   {
    "duration": 12,
    "start_time": "2022-08-02T14:51:31.444Z"
   },
   {
    "duration": 3,
    "start_time": "2022-08-02T15:25:48.417Z"
   },
   {
    "duration": 4,
    "start_time": "2022-08-02T15:33:15.576Z"
   },
   {
    "duration": 6,
    "start_time": "2022-08-02T15:33:17.248Z"
   },
   {
    "duration": 6,
    "start_time": "2022-08-02T15:39:59.047Z"
   },
   {
    "duration": 6,
    "start_time": "2022-08-02T15:40:10.941Z"
   },
   {
    "duration": 3,
    "start_time": "2022-08-02T15:47:53.431Z"
   },
   {
    "duration": 7,
    "start_time": "2022-08-02T15:47:54.757Z"
   },
   {
    "duration": 9,
    "start_time": "2022-08-02T15:48:08.138Z"
   },
   {
    "duration": 364,
    "start_time": "2022-08-02T15:48:11.891Z"
   },
   {
    "duration": 4,
    "start_time": "2022-08-02T15:49:15.475Z"
   },
   {
    "duration": 4,
    "start_time": "2022-08-02T15:50:03.624Z"
   },
   {
    "duration": 72,
    "start_time": "2022-08-02T15:50:06.741Z"
   },
   {
    "duration": 17,
    "start_time": "2022-08-02T15:50:06.815Z"
   },
   {
    "duration": 17,
    "start_time": "2022-08-02T15:50:06.834Z"
   },
   {
    "duration": 10,
    "start_time": "2022-08-02T15:50:06.854Z"
   },
   {
    "duration": 64,
    "start_time": "2022-08-02T15:50:06.866Z"
   },
   {
    "duration": 3,
    "start_time": "2022-08-02T15:50:06.932Z"
   },
   {
    "duration": 12,
    "start_time": "2022-08-02T15:50:06.937Z"
   },
   {
    "duration": 5,
    "start_time": "2022-08-02T15:50:06.951Z"
   },
   {
    "duration": 8,
    "start_time": "2022-08-02T15:50:06.957Z"
   },
   {
    "duration": 5,
    "start_time": "2022-08-02T15:50:07.003Z"
   },
   {
    "duration": 45,
    "start_time": "2022-08-02T15:50:07.010Z"
   },
   {
    "duration": 10,
    "start_time": "2022-08-02T15:50:07.057Z"
   },
   {
    "duration": 6,
    "start_time": "2022-08-02T15:50:07.068Z"
   },
   {
    "duration": 33,
    "start_time": "2022-08-02T15:50:07.076Z"
   },
   {
    "duration": 16,
    "start_time": "2022-08-02T15:50:07.111Z"
   },
   {
    "duration": 10,
    "start_time": "2022-08-02T15:50:07.129Z"
   },
   {
    "duration": 8,
    "start_time": "2022-08-02T15:50:07.141Z"
   },
   {
    "duration": 13,
    "start_time": "2022-08-02T15:50:07.151Z"
   },
   {
    "duration": 15,
    "start_time": "2022-08-02T15:50:07.166Z"
   },
   {
    "duration": 18,
    "start_time": "2022-08-02T15:50:07.182Z"
   },
   {
    "duration": 11,
    "start_time": "2022-08-02T15:50:07.202Z"
   },
   {
    "duration": 6,
    "start_time": "2022-08-02T15:50:07.214Z"
   },
   {
    "duration": 7,
    "start_time": "2022-08-02T15:50:07.222Z"
   },
   {
    "duration": 6,
    "start_time": "2022-08-02T15:50:07.230Z"
   },
   {
    "duration": 8,
    "start_time": "2022-08-02T15:50:07.237Z"
   },
   {
    "duration": 9,
    "start_time": "2022-08-02T15:50:07.246Z"
   },
   {
    "duration": 6,
    "start_time": "2022-08-02T15:50:07.257Z"
   },
   {
    "duration": 10,
    "start_time": "2022-08-02T15:50:07.267Z"
   },
   {
    "duration": 21,
    "start_time": "2022-08-02T15:50:07.279Z"
   },
   {
    "duration": 334,
    "start_time": "2022-08-02T15:50:07.302Z"
   },
   {
    "duration": 3,
    "start_time": "2022-08-02T15:50:07.637Z"
   },
   {
    "duration": 9,
    "start_time": "2022-08-02T15:50:07.641Z"
   },
   {
    "duration": 3,
    "start_time": "2022-08-02T15:50:07.652Z"
   },
   {
    "duration": 8,
    "start_time": "2022-08-02T15:50:07.656Z"
   },
   {
    "duration": 6,
    "start_time": "2022-08-02T15:50:07.665Z"
   },
   {
    "duration": 5,
    "start_time": "2022-08-02T15:50:07.672Z"
   },
   {
    "duration": 7,
    "start_time": "2022-08-02T15:50:07.700Z"
   },
   {
    "duration": 328,
    "start_time": "2022-08-02T15:50:07.708Z"
   },
   {
    "duration": 138,
    "start_time": "2022-08-02T15:50:08.038Z"
   },
   {
    "duration": 2,
    "start_time": "2022-08-02T15:50:08.178Z"
   },
   {
    "duration": 18,
    "start_time": "2022-08-02T15:50:08.182Z"
   },
   {
    "duration": 7,
    "start_time": "2022-08-02T15:50:35.543Z"
   },
   {
    "duration": 70,
    "start_time": "2022-08-02T15:51:20.426Z"
   },
   {
    "duration": 14,
    "start_time": "2022-08-02T15:51:20.498Z"
   },
   {
    "duration": 15,
    "start_time": "2022-08-02T15:51:20.513Z"
   },
   {
    "duration": 8,
    "start_time": "2022-08-02T15:51:20.530Z"
   },
   {
    "duration": 31,
    "start_time": "2022-08-02T15:51:20.539Z"
   },
   {
    "duration": 29,
    "start_time": "2022-08-02T15:51:20.571Z"
   },
   {
    "duration": 8,
    "start_time": "2022-08-02T15:51:20.602Z"
   },
   {
    "duration": 8,
    "start_time": "2022-08-02T15:51:20.611Z"
   },
   {
    "duration": 9,
    "start_time": "2022-08-02T15:51:20.621Z"
   },
   {
    "duration": 6,
    "start_time": "2022-08-02T15:51:20.632Z"
   },
   {
    "duration": 31,
    "start_time": "2022-08-02T15:51:20.639Z"
   },
   {
    "duration": 29,
    "start_time": "2022-08-02T15:51:20.672Z"
   },
   {
    "duration": 7,
    "start_time": "2022-08-02T15:51:20.702Z"
   },
   {
    "duration": 17,
    "start_time": "2022-08-02T15:51:20.710Z"
   },
   {
    "duration": 16,
    "start_time": "2022-08-02T15:51:20.729Z"
   },
   {
    "duration": 11,
    "start_time": "2022-08-02T15:51:20.747Z"
   },
   {
    "duration": 7,
    "start_time": "2022-08-02T15:51:20.760Z"
   },
   {
    "duration": 37,
    "start_time": "2022-08-02T15:51:20.768Z"
   },
   {
    "duration": 6,
    "start_time": "2022-08-02T15:51:20.806Z"
   },
   {
    "duration": 7,
    "start_time": "2022-08-02T15:51:20.813Z"
   },
   {
    "duration": 20,
    "start_time": "2022-08-02T15:51:20.821Z"
   },
   {
    "duration": 5,
    "start_time": "2022-08-02T15:51:20.843Z"
   },
   {
    "duration": 5,
    "start_time": "2022-08-02T15:51:20.849Z"
   },
   {
    "duration": 6,
    "start_time": "2022-08-02T15:51:20.855Z"
   },
   {
    "duration": 8,
    "start_time": "2022-08-02T15:51:20.863Z"
   },
   {
    "duration": 7,
    "start_time": "2022-08-02T15:51:20.872Z"
   },
   {
    "duration": 3,
    "start_time": "2022-08-02T15:51:20.881Z"
   },
   {
    "duration": 14,
    "start_time": "2022-08-02T15:51:20.887Z"
   },
   {
    "duration": 11,
    "start_time": "2022-08-02T15:51:20.903Z"
   },
   {
    "duration": 328,
    "start_time": "2022-08-02T15:51:20.915Z"
   },
   {
    "duration": 2,
    "start_time": "2022-08-02T15:51:21.244Z"
   },
   {
    "duration": 8,
    "start_time": "2022-08-02T15:51:21.248Z"
   },
   {
    "duration": 6,
    "start_time": "2022-08-02T15:51:21.257Z"
   },
   {
    "duration": 8,
    "start_time": "2022-08-02T15:51:21.265Z"
   },
   {
    "duration": 5,
    "start_time": "2022-08-02T15:51:21.275Z"
   },
   {
    "duration": 20,
    "start_time": "2022-08-02T15:51:21.282Z"
   },
   {
    "duration": 11,
    "start_time": "2022-08-02T15:51:21.304Z"
   },
   {
    "duration": 339,
    "start_time": "2022-08-02T15:51:21.317Z"
   },
   {
    "duration": 59,
    "start_time": "2022-08-02T15:51:21.658Z"
   },
   {
    "duration": 2,
    "start_time": "2022-08-02T15:51:21.719Z"
   },
   {
    "duration": 6,
    "start_time": "2022-08-02T15:51:21.722Z"
   },
   {
    "duration": 67,
    "start_time": "2022-08-02T15:52:03.324Z"
   },
   {
    "duration": 13,
    "start_time": "2022-08-02T15:52:03.393Z"
   },
   {
    "duration": 17,
    "start_time": "2022-08-02T15:52:03.407Z"
   },
   {
    "duration": 9,
    "start_time": "2022-08-02T15:52:03.426Z"
   },
   {
    "duration": 31,
    "start_time": "2022-08-02T15:52:03.437Z"
   },
   {
    "duration": 3,
    "start_time": "2022-08-02T15:52:03.470Z"
   },
   {
    "duration": 27,
    "start_time": "2022-08-02T15:52:03.474Z"
   },
   {
    "duration": 4,
    "start_time": "2022-08-02T15:52:03.503Z"
   },
   {
    "duration": 7,
    "start_time": "2022-08-02T15:52:03.508Z"
   },
   {
    "duration": 4,
    "start_time": "2022-08-02T15:52:03.516Z"
   },
   {
    "duration": 30,
    "start_time": "2022-08-02T15:52:03.522Z"
   },
   {
    "duration": 8,
    "start_time": "2022-08-02T15:52:03.554Z"
   },
   {
    "duration": 4,
    "start_time": "2022-08-02T15:52:03.563Z"
   },
   {
    "duration": 43,
    "start_time": "2022-08-02T15:52:03.570Z"
   },
   {
    "duration": 15,
    "start_time": "2022-08-02T15:52:03.614Z"
   },
   {
    "duration": 9,
    "start_time": "2022-08-02T15:52:03.631Z"
   },
   {
    "duration": 6,
    "start_time": "2022-08-02T15:52:03.642Z"
   },
   {
    "duration": 12,
    "start_time": "2022-08-02T15:52:03.650Z"
   },
   {
    "duration": 9,
    "start_time": "2022-08-02T15:52:03.663Z"
   },
   {
    "duration": 9,
    "start_time": "2022-08-02T15:52:03.674Z"
   },
   {
    "duration": 8,
    "start_time": "2022-08-02T15:52:03.700Z"
   },
   {
    "duration": 8,
    "start_time": "2022-08-02T15:52:03.709Z"
   },
   {
    "duration": 9,
    "start_time": "2022-08-02T15:52:03.718Z"
   },
   {
    "duration": 15,
    "start_time": "2022-08-02T15:52:03.728Z"
   },
   {
    "duration": 6,
    "start_time": "2022-08-02T15:52:03.745Z"
   },
   {
    "duration": 11,
    "start_time": "2022-08-02T15:52:03.753Z"
   },
   {
    "duration": 9,
    "start_time": "2022-08-02T15:52:03.765Z"
   },
   {
    "duration": 12,
    "start_time": "2022-08-02T15:52:03.775Z"
   },
   {
    "duration": 9,
    "start_time": "2022-08-02T15:52:03.789Z"
   },
   {
    "duration": 328,
    "start_time": "2022-08-02T15:52:03.799Z"
   },
   {
    "duration": 3,
    "start_time": "2022-08-02T15:52:04.129Z"
   },
   {
    "duration": 9,
    "start_time": "2022-08-02T15:52:04.133Z"
   },
   {
    "duration": 6,
    "start_time": "2022-08-02T15:52:04.143Z"
   },
   {
    "duration": 8,
    "start_time": "2022-08-02T15:52:04.150Z"
   },
   {
    "duration": 8,
    "start_time": "2022-08-02T15:52:04.159Z"
   },
   {
    "duration": 3,
    "start_time": "2022-08-02T15:52:04.168Z"
   },
   {
    "duration": 9,
    "start_time": "2022-08-02T15:52:04.173Z"
   },
   {
    "duration": 292,
    "start_time": "2022-08-02T15:52:04.200Z"
   },
   {
    "duration": 49,
    "start_time": "2022-08-02T15:52:04.499Z"
   },
   {
    "duration": 2,
    "start_time": "2022-08-02T15:52:04.549Z"
   },
   {
    "duration": 4,
    "start_time": "2022-08-02T15:52:04.554Z"
   },
   {
    "duration": 9,
    "start_time": "2022-08-02T15:53:38.828Z"
   },
   {
    "duration": 8,
    "start_time": "2022-08-02T15:55:10.333Z"
   },
   {
    "duration": 9,
    "start_time": "2022-08-02T15:55:42.577Z"
   },
   {
    "duration": 2,
    "start_time": "2022-08-02T15:56:50.395Z"
   },
   {
    "duration": 68,
    "start_time": "2022-08-02T16:05:12.871Z"
   },
   {
    "duration": 14,
    "start_time": "2022-08-02T16:05:12.941Z"
   },
   {
    "duration": 24,
    "start_time": "2022-08-02T16:05:12.957Z"
   },
   {
    "duration": 21,
    "start_time": "2022-08-02T16:05:12.984Z"
   },
   {
    "duration": 31,
    "start_time": "2022-08-02T16:05:13.007Z"
   },
   {
    "duration": 4,
    "start_time": "2022-08-02T16:05:13.039Z"
   },
   {
    "duration": 9,
    "start_time": "2022-08-02T16:05:13.045Z"
   },
   {
    "duration": 5,
    "start_time": "2022-08-02T16:05:13.055Z"
   },
   {
    "duration": 37,
    "start_time": "2022-08-02T16:05:13.062Z"
   },
   {
    "duration": 4,
    "start_time": "2022-08-02T16:05:13.102Z"
   },
   {
    "duration": 30,
    "start_time": "2022-08-02T16:05:13.108Z"
   },
   {
    "duration": 8,
    "start_time": "2022-08-02T16:05:13.139Z"
   },
   {
    "duration": 6,
    "start_time": "2022-08-02T16:05:13.149Z"
   },
   {
    "duration": 44,
    "start_time": "2022-08-02T16:05:13.156Z"
   },
   {
    "duration": 15,
    "start_time": "2022-08-02T16:05:13.202Z"
   },
   {
    "duration": 10,
    "start_time": "2022-08-02T16:05:13.218Z"
   },
   {
    "duration": 6,
    "start_time": "2022-08-02T16:05:13.229Z"
   },
   {
    "duration": 13,
    "start_time": "2022-08-02T16:05:13.236Z"
   },
   {
    "duration": 5,
    "start_time": "2022-08-02T16:05:13.250Z"
   },
   {
    "duration": 3,
    "start_time": "2022-08-02T16:05:13.256Z"
   },
   {
    "duration": 13,
    "start_time": "2022-08-02T16:05:13.261Z"
   },
   {
    "duration": 24,
    "start_time": "2022-08-02T16:05:13.276Z"
   },
   {
    "duration": 2,
    "start_time": "2022-08-02T16:05:13.302Z"
   },
   {
    "duration": 7,
    "start_time": "2022-08-02T16:05:13.306Z"
   },
   {
    "duration": 7,
    "start_time": "2022-08-02T16:05:13.314Z"
   },
   {
    "duration": 6,
    "start_time": "2022-08-02T16:05:13.322Z"
   },
   {
    "duration": 5,
    "start_time": "2022-08-02T16:05:13.329Z"
   },
   {
    "duration": 7,
    "start_time": "2022-08-02T16:05:13.337Z"
   },
   {
    "duration": 12,
    "start_time": "2022-08-02T16:05:13.345Z"
   },
   {
    "duration": 326,
    "start_time": "2022-08-02T16:05:13.358Z"
   },
   {
    "duration": 2,
    "start_time": "2022-08-02T16:05:13.686Z"
   },
   {
    "duration": 16,
    "start_time": "2022-08-02T16:05:13.690Z"
   },
   {
    "duration": 7,
    "start_time": "2022-08-02T16:05:13.708Z"
   },
   {
    "duration": 11,
    "start_time": "2022-08-02T16:05:13.716Z"
   },
   {
    "duration": 7,
    "start_time": "2022-08-02T16:05:13.728Z"
   },
   {
    "duration": 4,
    "start_time": "2022-08-02T16:05:13.737Z"
   },
   {
    "duration": 14,
    "start_time": "2022-08-02T16:05:13.742Z"
   },
   {
    "duration": 345,
    "start_time": "2022-08-02T16:05:13.757Z"
   },
   {
    "duration": 52,
    "start_time": "2022-08-02T16:05:14.104Z"
   },
   {
    "duration": 2,
    "start_time": "2022-08-02T16:05:14.158Z"
   },
   {
    "duration": 7,
    "start_time": "2022-08-02T16:05:14.162Z"
   },
   {
    "duration": 310,
    "start_time": "2022-08-02T16:07:24.773Z"
   },
   {
    "duration": 130,
    "start_time": "2022-08-02T16:11:24.556Z"
   },
   {
    "duration": 125,
    "start_time": "2022-08-02T16:20:17.874Z"
   },
   {
    "duration": 159,
    "start_time": "2022-08-02T16:20:51.542Z"
   },
   {
    "duration": 2,
    "start_time": "2022-08-02T16:30:00.686Z"
   },
   {
    "duration": 15,
    "start_time": "2022-08-02T16:34:33.220Z"
   },
   {
    "duration": 3,
    "start_time": "2022-08-02T16:39:13.344Z"
   },
   {
    "duration": 9,
    "start_time": "2022-08-02T16:41:26.121Z"
   },
   {
    "duration": 8,
    "start_time": "2022-08-02T16:42:41.923Z"
   },
   {
    "duration": 3,
    "start_time": "2022-08-02T16:45:50.433Z"
   },
   {
    "duration": 9,
    "start_time": "2022-08-02T16:45:51.264Z"
   },
   {
    "duration": 9,
    "start_time": "2022-08-02T16:45:52.027Z"
   },
   {
    "duration": 4,
    "start_time": "2022-08-02T16:45:52.756Z"
   },
   {
    "duration": 3,
    "start_time": "2022-08-02T16:46:04.824Z"
   },
   {
    "duration": 6,
    "start_time": "2022-08-02T16:46:05.453Z"
   },
   {
    "duration": 6,
    "start_time": "2022-08-02T16:46:06.030Z"
   },
   {
    "duration": 3,
    "start_time": "2022-08-02T16:46:27.947Z"
   },
   {
    "duration": 13,
    "start_time": "2022-08-02T16:48:21.458Z"
   },
   {
    "duration": 74,
    "start_time": "2022-08-02T16:48:44.993Z"
   },
   {
    "duration": 15,
    "start_time": "2022-08-02T16:48:45.069Z"
   },
   {
    "duration": 16,
    "start_time": "2022-08-02T16:48:45.085Z"
   },
   {
    "duration": 9,
    "start_time": "2022-08-02T16:48:45.103Z"
   },
   {
    "duration": 33,
    "start_time": "2022-08-02T16:48:45.114Z"
   },
   {
    "duration": 4,
    "start_time": "2022-08-02T16:48:45.149Z"
   },
   {
    "duration": 10,
    "start_time": "2022-08-02T16:48:45.155Z"
   },
   {
    "duration": 34,
    "start_time": "2022-08-02T16:48:45.167Z"
   },
   {
    "duration": 7,
    "start_time": "2022-08-02T16:48:45.202Z"
   },
   {
    "duration": 5,
    "start_time": "2022-08-02T16:48:45.211Z"
   },
   {
    "duration": 31,
    "start_time": "2022-08-02T16:48:45.218Z"
   },
   {
    "duration": 9,
    "start_time": "2022-08-02T16:48:45.250Z"
   },
   {
    "duration": 6,
    "start_time": "2022-08-02T16:48:45.260Z"
   },
   {
    "duration": 45,
    "start_time": "2022-08-02T16:48:45.268Z"
   },
   {
    "duration": 15,
    "start_time": "2022-08-02T16:48:45.315Z"
   },
   {
    "duration": 10,
    "start_time": "2022-08-02T16:48:45.331Z"
   },
   {
    "duration": 5,
    "start_time": "2022-08-02T16:48:45.343Z"
   },
   {
    "duration": 13,
    "start_time": "2022-08-02T16:48:45.349Z"
   },
   {
    "duration": 9,
    "start_time": "2022-08-02T16:48:45.364Z"
   },
   {
    "duration": 3,
    "start_time": "2022-08-02T16:48:45.374Z"
   },
   {
    "duration": 7,
    "start_time": "2022-08-02T16:48:45.400Z"
   },
   {
    "duration": 5,
    "start_time": "2022-08-02T16:48:45.408Z"
   },
   {
    "duration": 5,
    "start_time": "2022-08-02T16:48:45.415Z"
   },
   {
    "duration": 5,
    "start_time": "2022-08-02T16:48:45.421Z"
   },
   {
    "duration": 8,
    "start_time": "2022-08-02T16:48:45.427Z"
   },
   {
    "duration": 12,
    "start_time": "2022-08-02T16:48:45.436Z"
   },
   {
    "duration": 10,
    "start_time": "2022-08-02T16:48:45.449Z"
   },
   {
    "duration": 8,
    "start_time": "2022-08-02T16:48:45.461Z"
   },
   {
    "duration": 8,
    "start_time": "2022-08-02T16:48:45.471Z"
   },
   {
    "duration": 321,
    "start_time": "2022-08-02T16:48:45.481Z"
   },
   {
    "duration": 115,
    "start_time": "2022-08-02T16:48:45.803Z"
   },
   {
    "duration": 2,
    "start_time": "2022-08-02T16:48:45.920Z"
   },
   {
    "duration": 12,
    "start_time": "2022-08-02T16:48:45.923Z"
   },
   {
    "duration": 5,
    "start_time": "2022-08-02T16:48:45.936Z"
   },
   {
    "duration": 7,
    "start_time": "2022-08-02T16:48:45.943Z"
   },
   {
    "duration": 6,
    "start_time": "2022-08-02T16:48:45.951Z"
   },
   {
    "duration": 4,
    "start_time": "2022-08-02T16:48:45.958Z"
   },
   {
    "duration": 9,
    "start_time": "2022-08-02T16:48:45.963Z"
   },
   {
    "duration": 309,
    "start_time": "2022-08-02T16:48:45.973Z"
   },
   {
    "duration": 60,
    "start_time": "2022-08-02T16:48:46.284Z"
   },
   {
    "duration": 2,
    "start_time": "2022-08-02T16:48:46.348Z"
   },
   {
    "duration": 5,
    "start_time": "2022-08-02T16:48:46.352Z"
   },
   {
    "duration": 13,
    "start_time": "2022-08-02T16:48:46.358Z"
   },
   {
    "duration": 8,
    "start_time": "2022-08-02T16:48:46.373Z"
   },
   {
    "duration": 5,
    "start_time": "2022-08-02T16:48:46.399Z"
   },
   {
    "duration": 19,
    "start_time": "2022-08-02T16:48:46.406Z"
   },
   {
    "duration": 3,
    "start_time": "2022-08-02T16:48:46.427Z"
   },
   {
    "duration": 13,
    "start_time": "2022-08-02T17:02:33.261Z"
   },
   {
    "duration": 3,
    "start_time": "2022-08-02T17:19:01.942Z"
   },
   {
    "duration": 7,
    "start_time": "2022-08-02T17:19:03.731Z"
   },
   {
    "duration": 8,
    "start_time": "2022-08-02T17:19:05.032Z"
   },
   {
    "duration": 5,
    "start_time": "2022-08-02T17:19:07.929Z"
   },
   {
    "duration": 10,
    "start_time": "2022-08-02T17:19:11.249Z"
   },
   {
    "duration": 68,
    "start_time": "2022-08-02T17:19:32.722Z"
   },
   {
    "duration": 14,
    "start_time": "2022-08-02T17:19:32.792Z"
   },
   {
    "duration": 21,
    "start_time": "2022-08-02T17:19:32.807Z"
   },
   {
    "duration": 8,
    "start_time": "2022-08-02T17:19:32.830Z"
   },
   {
    "duration": 32,
    "start_time": "2022-08-02T17:19:32.840Z"
   },
   {
    "duration": 3,
    "start_time": "2022-08-02T17:19:32.873Z"
   },
   {
    "duration": 8,
    "start_time": "2022-08-02T17:19:32.900Z"
   },
   {
    "duration": 9,
    "start_time": "2022-08-02T17:19:32.909Z"
   },
   {
    "duration": 7,
    "start_time": "2022-08-02T17:19:32.919Z"
   },
   {
    "duration": 5,
    "start_time": "2022-08-02T17:19:32.928Z"
   },
   {
    "duration": 35,
    "start_time": "2022-08-02T17:19:32.936Z"
   },
   {
    "duration": 37,
    "start_time": "2022-08-02T17:19:32.972Z"
   },
   {
    "duration": 7,
    "start_time": "2022-08-02T17:19:33.011Z"
   },
   {
    "duration": 17,
    "start_time": "2022-08-02T17:19:33.021Z"
   },
   {
    "duration": 16,
    "start_time": "2022-08-02T17:19:33.040Z"
   },
   {
    "duration": 10,
    "start_time": "2022-08-02T17:19:33.058Z"
   },
   {
    "duration": 31,
    "start_time": "2022-08-02T17:19:33.070Z"
   },
   {
    "duration": 12,
    "start_time": "2022-08-02T17:19:33.103Z"
   },
   {
    "duration": 7,
    "start_time": "2022-08-02T17:19:33.116Z"
   },
   {
    "duration": 4,
    "start_time": "2022-08-02T17:19:33.124Z"
   },
   {
    "duration": 14,
    "start_time": "2022-08-02T17:19:33.129Z"
   },
   {
    "duration": 8,
    "start_time": "2022-08-02T17:19:33.144Z"
   },
   {
    "duration": 13,
    "start_time": "2022-08-02T17:19:33.154Z"
   },
   {
    "duration": 10,
    "start_time": "2022-08-02T17:19:33.170Z"
   },
   {
    "duration": 7,
    "start_time": "2022-08-02T17:19:33.182Z"
   },
   {
    "duration": 11,
    "start_time": "2022-08-02T17:19:33.191Z"
   },
   {
    "duration": 9,
    "start_time": "2022-08-02T17:19:33.204Z"
   },
   {
    "duration": 21,
    "start_time": "2022-08-02T17:19:33.215Z"
   },
   {
    "duration": 11,
    "start_time": "2022-08-02T17:19:33.237Z"
   },
   {
    "duration": 316,
    "start_time": "2022-08-02T17:19:33.250Z"
   },
   {
    "duration": 112,
    "start_time": "2022-08-02T17:19:33.567Z"
   },
   {
    "duration": 2,
    "start_time": "2022-08-02T17:19:33.681Z"
   },
   {
    "duration": 15,
    "start_time": "2022-08-02T17:19:33.685Z"
   },
   {
    "duration": 3,
    "start_time": "2022-08-02T17:19:33.702Z"
   },
   {
    "duration": 7,
    "start_time": "2022-08-02T17:19:33.707Z"
   },
   {
    "duration": 7,
    "start_time": "2022-08-02T17:19:33.715Z"
   },
   {
    "duration": 4,
    "start_time": "2022-08-02T17:19:33.723Z"
   },
   {
    "duration": 13,
    "start_time": "2022-08-02T17:19:33.729Z"
   },
   {
    "duration": 344,
    "start_time": "2022-08-02T17:19:33.744Z"
   },
   {
    "duration": 61,
    "start_time": "2022-08-02T17:19:34.090Z"
   },
   {
    "duration": 2,
    "start_time": "2022-08-02T17:19:34.155Z"
   },
   {
    "duration": 11,
    "start_time": "2022-08-02T17:19:34.158Z"
   },
   {
    "duration": 30,
    "start_time": "2022-08-02T17:19:34.171Z"
   },
   {
    "duration": 3,
    "start_time": "2022-08-02T17:19:34.203Z"
   },
   {
    "duration": 9,
    "start_time": "2022-08-02T17:19:34.207Z"
   },
   {
    "duration": 6,
    "start_time": "2022-08-02T17:19:34.218Z"
   },
   {
    "duration": 15,
    "start_time": "2022-08-02T17:19:34.225Z"
   },
   {
    "duration": 11,
    "start_time": "2022-08-02T17:19:34.241Z"
   },
   {
    "duration": 4,
    "start_time": "2022-08-02T17:19:34.254Z"
   },
   {
    "duration": 6,
    "start_time": "2022-08-02T17:24:54.457Z"
   },
   {
    "duration": 57,
    "start_time": "2022-08-02T17:30:21.024Z"
   },
   {
    "duration": 12,
    "start_time": "2022-08-02T17:33:26.821Z"
   },
   {
    "duration": 304,
    "start_time": "2022-08-02T17:33:44.126Z"
   },
   {
    "duration": 273,
    "start_time": "2022-08-02T17:34:43.527Z"
   },
   {
    "duration": 24,
    "start_time": "2022-08-02T17:38:12.752Z"
   },
   {
    "duration": 184,
    "start_time": "2022-08-02T17:38:45.039Z"
   },
   {
    "duration": 44,
    "start_time": "2022-08-02T17:40:28.326Z"
   },
   {
    "duration": 717,
    "start_time": "2022-08-02T17:40:34.574Z"
   },
   {
    "duration": 21,
    "start_time": "2022-08-02T17:40:35.293Z"
   },
   {
    "duration": 17,
    "start_time": "2022-08-02T17:40:35.316Z"
   },
   {
    "duration": 11,
    "start_time": "2022-08-02T17:40:35.335Z"
   },
   {
    "duration": 52,
    "start_time": "2022-08-02T17:40:35.348Z"
   },
   {
    "duration": 4,
    "start_time": "2022-08-02T17:40:35.401Z"
   },
   {
    "duration": 11,
    "start_time": "2022-08-02T17:40:35.406Z"
   },
   {
    "duration": 4,
    "start_time": "2022-08-02T17:40:35.418Z"
   },
   {
    "duration": 15,
    "start_time": "2022-08-02T17:40:35.423Z"
   },
   {
    "duration": 4,
    "start_time": "2022-08-02T17:40:35.440Z"
   },
   {
    "duration": 32,
    "start_time": "2022-08-02T17:40:35.445Z"
   },
   {
    "duration": 28,
    "start_time": "2022-08-02T17:40:35.479Z"
   },
   {
    "duration": 13,
    "start_time": "2022-08-02T17:40:35.508Z"
   },
   {
    "duration": 21,
    "start_time": "2022-08-02T17:40:35.522Z"
   },
   {
    "duration": 15,
    "start_time": "2022-08-02T17:40:35.544Z"
   },
   {
    "duration": 10,
    "start_time": "2022-08-02T17:40:35.561Z"
   },
   {
    "duration": 7,
    "start_time": "2022-08-02T17:40:35.573Z"
   },
   {
    "duration": 31,
    "start_time": "2022-08-02T17:40:35.581Z"
   },
   {
    "duration": 10,
    "start_time": "2022-08-02T17:40:35.614Z"
   },
   {
    "duration": 4,
    "start_time": "2022-08-02T17:40:35.626Z"
   },
   {
    "duration": 10,
    "start_time": "2022-08-02T17:40:35.632Z"
   },
   {
    "duration": 7,
    "start_time": "2022-08-02T17:40:35.643Z"
   },
   {
    "duration": 719,
    "start_time": "2022-08-02T17:40:35.651Z"
   },
   {
    "duration": 2,
    "start_time": "2022-08-02T17:40:36.372Z"
   },
   {
    "duration": 9,
    "start_time": "2022-08-02T17:40:36.376Z"
   },
   {
    "duration": 6,
    "start_time": "2022-08-02T17:40:36.386Z"
   },
   {
    "duration": 8,
    "start_time": "2022-08-02T17:40:36.393Z"
   },
   {
    "duration": 9,
    "start_time": "2022-08-02T17:40:36.404Z"
   },
   {
    "duration": 9,
    "start_time": "2022-08-02T17:40:36.415Z"
   },
   {
    "duration": 331,
    "start_time": "2022-08-02T17:40:36.426Z"
   },
   {
    "duration": 113,
    "start_time": "2022-08-02T17:40:36.759Z"
   },
   {
    "duration": 2,
    "start_time": "2022-08-02T17:40:36.874Z"
   },
   {
    "duration": 13,
    "start_time": "2022-08-02T17:40:36.878Z"
   },
   {
    "duration": 9,
    "start_time": "2022-08-02T17:40:36.892Z"
   },
   {
    "duration": 9,
    "start_time": "2022-08-02T17:40:36.903Z"
   },
   {
    "duration": 6,
    "start_time": "2022-08-02T17:40:36.914Z"
   },
   {
    "duration": 4,
    "start_time": "2022-08-02T17:40:36.921Z"
   },
   {
    "duration": 13,
    "start_time": "2022-08-02T17:40:36.927Z"
   },
   {
    "duration": 324,
    "start_time": "2022-08-02T17:40:36.941Z"
   },
   {
    "duration": 65,
    "start_time": "2022-08-02T17:40:37.266Z"
   },
   {
    "duration": 0,
    "start_time": "2022-08-02T17:40:37.333Z"
   },
   {
    "duration": 0,
    "start_time": "2022-08-02T17:40:37.334Z"
   },
   {
    "duration": 0,
    "start_time": "2022-08-02T17:40:37.335Z"
   },
   {
    "duration": 0,
    "start_time": "2022-08-02T17:40:37.336Z"
   },
   {
    "duration": 0,
    "start_time": "2022-08-02T17:40:37.337Z"
   },
   {
    "duration": 0,
    "start_time": "2022-08-02T17:40:37.338Z"
   },
   {
    "duration": 0,
    "start_time": "2022-08-02T17:40:37.339Z"
   },
   {
    "duration": 0,
    "start_time": "2022-08-02T17:40:37.340Z"
   },
   {
    "duration": 0,
    "start_time": "2022-08-02T17:40:37.341Z"
   },
   {
    "duration": 0,
    "start_time": "2022-08-02T17:40:37.342Z"
   },
   {
    "duration": 183,
    "start_time": "2022-08-02T17:40:50.757Z"
   },
   {
    "duration": 18,
    "start_time": "2022-08-02T17:40:55.350Z"
   },
   {
    "duration": 3,
    "start_time": "2022-08-02T17:41:22.177Z"
   },
   {
    "duration": 3,
    "start_time": "2022-08-02T17:41:22.931Z"
   },
   {
    "duration": 4,
    "start_time": "2022-08-02T17:41:23.773Z"
   },
   {
    "duration": 5,
    "start_time": "2022-08-02T17:41:24.384Z"
   },
   {
    "duration": 4,
    "start_time": "2022-08-02T17:41:24.842Z"
   },
   {
    "duration": 7,
    "start_time": "2022-08-02T17:41:25.261Z"
   },
   {
    "duration": 7,
    "start_time": "2022-08-02T17:41:25.725Z"
   },
   {
    "duration": 326,
    "start_time": "2022-08-02T17:41:26.280Z"
   },
   {
    "duration": 115,
    "start_time": "2022-08-02T17:41:26.608Z"
   },
   {
    "duration": 2,
    "start_time": "2022-08-02T17:41:27.632Z"
   },
   {
    "duration": 6,
    "start_time": "2022-08-02T17:41:28.130Z"
   },
   {
    "duration": 3,
    "start_time": "2022-08-02T17:41:28.745Z"
   },
   {
    "duration": 7,
    "start_time": "2022-08-02T17:41:29.324Z"
   },
   {
    "duration": 7,
    "start_time": "2022-08-02T17:41:29.863Z"
   },
   {
    "duration": 4,
    "start_time": "2022-08-02T17:41:30.469Z"
   },
   {
    "duration": 8,
    "start_time": "2022-08-02T17:41:31.125Z"
   },
   {
    "duration": 301,
    "start_time": "2022-08-02T17:41:32.540Z"
   },
   {
    "duration": 60,
    "start_time": "2022-08-02T17:41:33.020Z"
   },
   {
    "duration": 2,
    "start_time": "2022-08-02T17:41:35.154Z"
   },
   {
    "duration": 4,
    "start_time": "2022-08-02T17:41:35.923Z"
   },
   {
    "duration": 3,
    "start_time": "2022-08-02T17:41:36.725Z"
   },
   {
    "duration": 6,
    "start_time": "2022-08-02T17:41:37.438Z"
   },
   {
    "duration": 7,
    "start_time": "2022-08-02T17:41:38.172Z"
   },
   {
    "duration": 4,
    "start_time": "2022-08-02T17:41:38.875Z"
   },
   {
    "duration": 8,
    "start_time": "2022-08-02T17:41:39.774Z"
   },
   {
    "duration": 215,
    "start_time": "2022-08-02T17:41:41.372Z"
   },
   {
    "duration": 60,
    "start_time": "2022-08-02T17:44:34.219Z"
   },
   {
    "duration": 691,
    "start_time": "2022-08-02T17:44:38.520Z"
   },
   {
    "duration": 20,
    "start_time": "2022-08-02T17:44:39.213Z"
   },
   {
    "duration": 13,
    "start_time": "2022-08-02T17:44:39.235Z"
   },
   {
    "duration": 8,
    "start_time": "2022-08-02T17:44:39.249Z"
   },
   {
    "duration": 45,
    "start_time": "2022-08-02T17:44:39.260Z"
   },
   {
    "duration": 4,
    "start_time": "2022-08-02T17:44:39.306Z"
   },
   {
    "duration": 12,
    "start_time": "2022-08-02T17:44:39.311Z"
   },
   {
    "duration": 8,
    "start_time": "2022-08-02T17:44:39.325Z"
   },
   {
    "duration": 10,
    "start_time": "2022-08-02T17:44:39.334Z"
   },
   {
    "duration": 4,
    "start_time": "2022-08-02T17:44:39.346Z"
   },
   {
    "duration": 30,
    "start_time": "2022-08-02T17:44:39.351Z"
   },
   {
    "duration": 23,
    "start_time": "2022-08-02T17:44:39.383Z"
   },
   {
    "duration": 4,
    "start_time": "2022-08-02T17:44:39.407Z"
   },
   {
    "duration": 17,
    "start_time": "2022-08-02T17:44:39.413Z"
   },
   {
    "duration": 16,
    "start_time": "2022-08-02T17:44:39.431Z"
   },
   {
    "duration": 9,
    "start_time": "2022-08-02T17:44:39.449Z"
   },
   {
    "duration": 6,
    "start_time": "2022-08-02T17:44:39.460Z"
   },
   {
    "duration": 38,
    "start_time": "2022-08-02T17:44:39.468Z"
   },
   {
    "duration": 5,
    "start_time": "2022-08-02T17:44:39.507Z"
   },
   {
    "duration": 5,
    "start_time": "2022-08-02T17:44:39.513Z"
   },
   {
    "duration": 9,
    "start_time": "2022-08-02T17:44:39.519Z"
   },
   {
    "duration": 1,
    "start_time": "2022-08-02T17:44:39.530Z"
   },
   {
    "duration": 690,
    "start_time": "2022-08-02T17:44:39.532Z"
   },
   {
    "duration": 2,
    "start_time": "2022-08-02T17:44:40.224Z"
   },
   {
    "duration": 10,
    "start_time": "2022-08-02T17:44:40.228Z"
   },
   {
    "duration": 5,
    "start_time": "2022-08-02T17:44:40.239Z"
   },
   {
    "duration": 3,
    "start_time": "2022-08-02T17:44:40.246Z"
   },
   {
    "duration": 9,
    "start_time": "2022-08-02T17:44:40.251Z"
   },
   {
    "duration": 17,
    "start_time": "2022-08-02T17:44:40.262Z"
   },
   {
    "duration": 325,
    "start_time": "2022-08-02T17:44:40.281Z"
   },
   {
    "duration": 119,
    "start_time": "2022-08-02T17:44:40.607Z"
   },
   {
    "duration": 2,
    "start_time": "2022-08-02T17:44:40.728Z"
   },
   {
    "duration": 10,
    "start_time": "2022-08-02T17:44:40.732Z"
   },
   {
    "duration": 6,
    "start_time": "2022-08-02T17:44:40.743Z"
   },
   {
    "duration": 13,
    "start_time": "2022-08-02T17:44:40.751Z"
   },
   {
    "duration": 22,
    "start_time": "2022-08-02T17:44:40.765Z"
   },
   {
    "duration": 12,
    "start_time": "2022-08-02T17:44:40.789Z"
   },
   {
    "duration": 14,
    "start_time": "2022-08-02T17:44:40.802Z"
   },
   {
    "duration": 330,
    "start_time": "2022-08-02T17:44:40.817Z"
   },
   {
    "duration": 58,
    "start_time": "2022-08-02T17:44:41.149Z"
   },
   {
    "duration": 2,
    "start_time": "2022-08-02T17:44:41.210Z"
   },
   {
    "duration": 11,
    "start_time": "2022-08-02T17:44:41.213Z"
   },
   {
    "duration": 5,
    "start_time": "2022-08-02T17:44:41.225Z"
   },
   {
    "duration": 9,
    "start_time": "2022-08-02T17:44:41.231Z"
   },
   {
    "duration": 8,
    "start_time": "2022-08-02T17:44:41.241Z"
   },
   {
    "duration": 6,
    "start_time": "2022-08-02T17:44:41.251Z"
   },
   {
    "duration": 18,
    "start_time": "2022-08-02T17:44:41.259Z"
   },
   {
    "duration": 43,
    "start_time": "2022-08-02T17:54:48.389Z"
   },
   {
    "duration": 697,
    "start_time": "2022-08-02T17:54:51.869Z"
   },
   {
    "duration": 21,
    "start_time": "2022-08-02T17:54:52.568Z"
   },
   {
    "duration": 13,
    "start_time": "2022-08-02T17:54:52.590Z"
   },
   {
    "duration": 8,
    "start_time": "2022-08-02T17:54:52.605Z"
   },
   {
    "duration": 33,
    "start_time": "2022-08-02T17:54:52.614Z"
   },
   {
    "duration": 3,
    "start_time": "2022-08-02T17:54:52.648Z"
   },
   {
    "duration": 10,
    "start_time": "2022-08-02T17:54:52.652Z"
   },
   {
    "duration": 5,
    "start_time": "2022-08-02T17:54:52.664Z"
   },
   {
    "duration": 31,
    "start_time": "2022-08-02T17:54:52.671Z"
   },
   {
    "duration": 4,
    "start_time": "2022-08-02T17:54:52.705Z"
   },
   {
    "duration": 37,
    "start_time": "2022-08-02T17:54:52.710Z"
   },
   {
    "duration": 9,
    "start_time": "2022-08-02T17:54:52.749Z"
   },
   {
    "duration": 3,
    "start_time": "2022-08-02T17:54:52.759Z"
   },
   {
    "duration": 19,
    "start_time": "2022-08-02T17:54:52.764Z"
   },
   {
    "duration": 16,
    "start_time": "2022-08-02T17:54:52.800Z"
   },
   {
    "duration": 10,
    "start_time": "2022-08-02T17:54:52.818Z"
   },
   {
    "duration": 5,
    "start_time": "2022-08-02T17:54:52.829Z"
   },
   {
    "duration": 11,
    "start_time": "2022-08-02T17:54:52.835Z"
   },
   {
    "duration": 6,
    "start_time": "2022-08-02T17:54:52.847Z"
   },
   {
    "duration": 4,
    "start_time": "2022-08-02T17:54:52.854Z"
   },
   {
    "duration": 40,
    "start_time": "2022-08-02T17:54:52.860Z"
   },
   {
    "duration": 3,
    "start_time": "2022-08-02T17:54:52.902Z"
   },
   {
    "duration": 721,
    "start_time": "2022-08-02T17:54:52.907Z"
   },
   {
    "duration": 3,
    "start_time": "2022-08-02T17:54:53.630Z"
   },
   {
    "duration": 8,
    "start_time": "2022-08-02T17:54:53.634Z"
   },
   {
    "duration": 5,
    "start_time": "2022-08-02T17:54:53.643Z"
   },
   {
    "duration": 5,
    "start_time": "2022-08-02T17:54:53.650Z"
   },
   {
    "duration": 15,
    "start_time": "2022-08-02T17:54:53.659Z"
   },
   {
    "duration": 24,
    "start_time": "2022-08-02T17:54:53.676Z"
   },
   {
    "duration": 363,
    "start_time": "2022-08-02T17:54:53.701Z"
   },
   {
    "duration": 140,
    "start_time": "2022-08-02T17:54:54.065Z"
   },
   {
    "duration": 3,
    "start_time": "2022-08-02T17:54:54.206Z"
   },
   {
    "duration": 8,
    "start_time": "2022-08-02T17:54:54.210Z"
   },
   {
    "duration": 3,
    "start_time": "2022-08-02T17:54:54.219Z"
   },
   {
    "duration": 9,
    "start_time": "2022-08-02T17:54:54.224Z"
   },
   {
    "duration": 7,
    "start_time": "2022-08-02T17:54:54.235Z"
   },
   {
    "duration": 3,
    "start_time": "2022-08-02T17:54:54.244Z"
   },
   {
    "duration": 11,
    "start_time": "2022-08-02T17:54:54.248Z"
   },
   {
    "duration": 366,
    "start_time": "2022-08-02T17:54:54.260Z"
   },
   {
    "duration": 57,
    "start_time": "2022-08-02T17:54:54.627Z"
   },
   {
    "duration": 3,
    "start_time": "2022-08-02T17:54:54.700Z"
   },
   {
    "duration": 10,
    "start_time": "2022-08-02T17:54:54.704Z"
   },
   {
    "duration": 7,
    "start_time": "2022-08-02T17:54:54.715Z"
   },
   {
    "duration": 9,
    "start_time": "2022-08-02T17:54:54.723Z"
   },
   {
    "duration": 9,
    "start_time": "2022-08-02T17:54:54.734Z"
   },
   {
    "duration": 4,
    "start_time": "2022-08-02T17:54:54.744Z"
   },
   {
    "duration": 12,
    "start_time": "2022-08-02T17:54:54.750Z"
   },
   {
    "duration": 326,
    "start_time": "2022-08-02T17:54:54.764Z"
   },
   {
    "duration": 18,
    "start_time": "2022-08-02T17:54:55.091Z"
   },
   {
    "duration": 11,
    "start_time": "2022-08-02T17:54:55.110Z"
   },
   {
    "duration": 59,
    "start_time": "2022-08-02T17:57:43.383Z"
   },
   {
    "duration": 295,
    "start_time": "2022-08-02T17:59:45.899Z"
   },
   {
    "duration": 14,
    "start_time": "2022-08-02T18:01:50.175Z"
   },
   {
    "duration": 321,
    "start_time": "2022-08-02T18:02:07.468Z"
   },
   {
    "duration": 8,
    "start_time": "2022-08-02T18:02:17.791Z"
   },
   {
    "duration": 78,
    "start_time": "2022-08-02T18:22:55.826Z"
   },
   {
    "duration": 16,
    "start_time": "2022-08-02T18:22:55.906Z"
   },
   {
    "duration": 16,
    "start_time": "2022-08-02T18:22:55.924Z"
   },
   {
    "duration": 9,
    "start_time": "2022-08-02T18:22:55.942Z"
   },
   {
    "duration": 59,
    "start_time": "2022-08-02T18:22:55.953Z"
   },
   {
    "duration": 3,
    "start_time": "2022-08-02T18:22:56.014Z"
   },
   {
    "duration": 11,
    "start_time": "2022-08-02T18:22:56.019Z"
   },
   {
    "duration": 5,
    "start_time": "2022-08-02T18:22:56.031Z"
   },
   {
    "duration": 7,
    "start_time": "2022-08-02T18:22:56.037Z"
   },
   {
    "duration": 6,
    "start_time": "2022-08-02T18:22:56.046Z"
   },
   {
    "duration": 60,
    "start_time": "2022-08-02T18:22:56.054Z"
   },
   {
    "duration": 9,
    "start_time": "2022-08-02T18:22:56.116Z"
   },
   {
    "duration": 6,
    "start_time": "2022-08-02T18:22:56.126Z"
   },
   {
    "duration": 18,
    "start_time": "2022-08-02T18:22:56.135Z"
   },
   {
    "duration": 17,
    "start_time": "2022-08-02T18:22:56.154Z"
   },
   {
    "duration": 35,
    "start_time": "2022-08-02T18:22:56.172Z"
   },
   {
    "duration": 5,
    "start_time": "2022-08-02T18:22:56.209Z"
   },
   {
    "duration": 18,
    "start_time": "2022-08-02T18:22:56.215Z"
   },
   {
    "duration": 9,
    "start_time": "2022-08-02T18:22:56.235Z"
   },
   {
    "duration": 4,
    "start_time": "2022-08-02T18:22:56.246Z"
   },
   {
    "duration": 12,
    "start_time": "2022-08-02T18:22:56.251Z"
   },
   {
    "duration": 3,
    "start_time": "2022-08-02T18:22:56.264Z"
   },
   {
    "duration": 5,
    "start_time": "2022-08-02T18:22:56.268Z"
   },
   {
    "duration": 26,
    "start_time": "2022-08-02T18:22:56.274Z"
   },
   {
    "duration": 5,
    "start_time": "2022-08-02T18:22:56.302Z"
   },
   {
    "duration": 5,
    "start_time": "2022-08-02T18:22:56.308Z"
   },
   {
    "duration": 4,
    "start_time": "2022-08-02T18:22:56.314Z"
   },
   {
    "duration": 9,
    "start_time": "2022-08-02T18:22:56.319Z"
   },
   {
    "duration": 11,
    "start_time": "2022-08-02T18:22:56.330Z"
   },
   {
    "duration": 367,
    "start_time": "2022-08-02T18:22:56.342Z"
   },
   {
    "duration": 2,
    "start_time": "2022-08-02T18:22:56.710Z"
   },
   {
    "duration": 8,
    "start_time": "2022-08-02T18:22:56.714Z"
   },
   {
    "duration": 3,
    "start_time": "2022-08-02T18:22:56.724Z"
   },
   {
    "duration": 9,
    "start_time": "2022-08-02T18:22:56.728Z"
   },
   {
    "duration": 8,
    "start_time": "2022-08-02T18:22:56.738Z"
   },
   {
    "duration": 4,
    "start_time": "2022-08-02T18:22:56.747Z"
   },
   {
    "duration": 12,
    "start_time": "2022-08-02T18:22:56.752Z"
   },
   {
    "duration": 355,
    "start_time": "2022-08-02T18:22:56.766Z"
   },
   {
    "duration": 3,
    "start_time": "2022-08-02T18:22:57.123Z"
   },
   {
    "duration": 6,
    "start_time": "2022-08-02T18:22:57.127Z"
   },
   {
    "duration": 8,
    "start_time": "2022-08-02T18:22:57.137Z"
   },
   {
    "duration": 5,
    "start_time": "2022-08-02T18:22:57.147Z"
   },
   {
    "duration": 5,
    "start_time": "2022-08-02T18:22:57.154Z"
   },
   {
    "duration": 10,
    "start_time": "2022-08-02T18:22:57.161Z"
   },
   {
    "duration": 422,
    "start_time": "2022-08-02T18:22:57.173Z"
   },
   {
    "duration": 3,
    "start_time": "2022-08-02T18:22:57.599Z"
   },
   {
    "duration": 13,
    "start_time": "2022-08-02T18:24:15.841Z"
   },
   {
    "duration": 3,
    "start_time": "2022-08-02T18:25:04.069Z"
   },
   {
    "duration": 6,
    "start_time": "2022-08-02T18:31:55.161Z"
   },
   {
    "duration": 7,
    "start_time": "2022-08-02T18:32:26.221Z"
   },
   {
    "duration": 4,
    "start_time": "2022-08-02T18:33:20.425Z"
   },
   {
    "duration": 3,
    "start_time": "2022-08-02T18:37:55.587Z"
   },
   {
    "duration": 5,
    "start_time": "2022-08-02T18:37:56.653Z"
   },
   {
    "duration": 5,
    "start_time": "2022-08-02T18:38:02.125Z"
   },
   {
    "duration": 4,
    "start_time": "2022-08-02T18:38:04.726Z"
   },
   {
    "duration": 8,
    "start_time": "2022-08-02T18:40:58.620Z"
   },
   {
    "duration": 9,
    "start_time": "2022-08-02T18:41:38.546Z"
   },
   {
    "duration": 8,
    "start_time": "2022-08-02T18:41:48.566Z"
   },
   {
    "duration": 279,
    "start_time": "2022-08-02T18:45:58.971Z"
   },
   {
    "duration": 272,
    "start_time": "2022-08-02T18:46:13.038Z"
   },
   {
    "duration": 70,
    "start_time": "2022-08-02T18:58:53.698Z"
   },
   {
    "duration": 17,
    "start_time": "2022-08-02T18:58:53.770Z"
   },
   {
    "duration": 20,
    "start_time": "2022-08-02T18:58:53.788Z"
   },
   {
    "duration": 13,
    "start_time": "2022-08-02T18:58:53.810Z"
   },
   {
    "duration": 53,
    "start_time": "2022-08-02T18:58:53.826Z"
   },
   {
    "duration": 5,
    "start_time": "2022-08-02T18:58:53.880Z"
   },
   {
    "duration": 9,
    "start_time": "2022-08-02T18:58:53.901Z"
   },
   {
    "duration": 6,
    "start_time": "2022-08-02T18:58:53.912Z"
   },
   {
    "duration": 11,
    "start_time": "2022-08-02T18:58:53.919Z"
   },
   {
    "duration": 10,
    "start_time": "2022-08-02T18:58:53.934Z"
   },
   {
    "duration": 57,
    "start_time": "2022-08-02T18:58:53.945Z"
   },
   {
    "duration": 8,
    "start_time": "2022-08-02T18:58:54.004Z"
   },
   {
    "duration": 3,
    "start_time": "2022-08-02T18:58:54.014Z"
   },
   {
    "duration": 19,
    "start_time": "2022-08-02T18:58:54.019Z"
   },
   {
    "duration": 17,
    "start_time": "2022-08-02T18:58:54.039Z"
   },
   {
    "duration": 11,
    "start_time": "2022-08-02T18:58:54.057Z"
   },
   {
    "duration": 31,
    "start_time": "2022-08-02T18:58:54.070Z"
   },
   {
    "duration": 13,
    "start_time": "2022-08-02T18:58:54.103Z"
   },
   {
    "duration": 8,
    "start_time": "2022-08-02T18:58:54.118Z"
   },
   {
    "duration": 5,
    "start_time": "2022-08-02T18:58:54.127Z"
   },
   {
    "duration": 13,
    "start_time": "2022-08-02T18:58:54.134Z"
   },
   {
    "duration": 4,
    "start_time": "2022-08-02T18:58:54.149Z"
   },
   {
    "duration": 4,
    "start_time": "2022-08-02T18:58:54.155Z"
   },
   {
    "duration": 5,
    "start_time": "2022-08-02T18:58:54.161Z"
   },
   {
    "duration": 14,
    "start_time": "2022-08-02T18:58:54.167Z"
   },
   {
    "duration": 18,
    "start_time": "2022-08-02T18:58:54.183Z"
   },
   {
    "duration": 5,
    "start_time": "2022-08-02T18:58:54.203Z"
   },
   {
    "duration": 8,
    "start_time": "2022-08-02T18:58:54.211Z"
   },
   {
    "duration": 10,
    "start_time": "2022-08-02T18:58:54.221Z"
   },
   {
    "duration": 359,
    "start_time": "2022-08-02T18:58:54.232Z"
   },
   {
    "duration": 7,
    "start_time": "2022-08-02T18:58:54.593Z"
   },
   {
    "duration": 16,
    "start_time": "2022-08-02T18:58:54.601Z"
   },
   {
    "duration": 16,
    "start_time": "2022-08-02T18:58:54.618Z"
   },
   {
    "duration": 15,
    "start_time": "2022-08-02T18:58:54.636Z"
   },
   {
    "duration": 10,
    "start_time": "2022-08-02T18:58:54.653Z"
   },
   {
    "duration": 12,
    "start_time": "2022-08-02T18:58:54.665Z"
   },
   {
    "duration": 309,
    "start_time": "2022-08-02T18:58:54.678Z"
   },
   {
    "duration": 13,
    "start_time": "2022-08-02T18:58:54.989Z"
   },
   {
    "duration": 3,
    "start_time": "2022-08-02T18:58:55.004Z"
   },
   {
    "duration": 9,
    "start_time": "2022-08-02T18:58:55.009Z"
   },
   {
    "duration": 11,
    "start_time": "2022-08-02T18:58:55.020Z"
   },
   {
    "duration": 11,
    "start_time": "2022-08-02T18:58:55.033Z"
   },
   {
    "duration": 13,
    "start_time": "2022-08-02T18:58:55.046Z"
   },
   {
    "duration": 303,
    "start_time": "2022-08-02T18:58:55.060Z"
   },
   {
    "duration": 2,
    "start_time": "2022-08-02T18:58:55.365Z"
   },
   {
    "duration": 18,
    "start_time": "2022-08-02T18:58:55.369Z"
   },
   {
    "duration": 3,
    "start_time": "2022-08-02T18:58:55.399Z"
   },
   {
    "duration": 8,
    "start_time": "2022-08-02T18:58:55.404Z"
   },
   {
    "duration": 7,
    "start_time": "2022-08-02T18:58:55.414Z"
   },
   {
    "duration": 3,
    "start_time": "2022-08-02T18:58:55.423Z"
   },
   {
    "duration": 11,
    "start_time": "2022-08-02T18:58:55.427Z"
   },
   {
    "duration": 306,
    "start_time": "2022-08-02T18:58:55.439Z"
   },
   {
    "duration": 709,
    "start_time": "2022-08-03T15:18:12.135Z"
   },
   {
    "duration": 22,
    "start_time": "2022-08-03T15:18:12.846Z"
   },
   {
    "duration": 15,
    "start_time": "2022-08-03T15:18:12.869Z"
   },
   {
    "duration": 9,
    "start_time": "2022-08-03T15:18:12.885Z"
   },
   {
    "duration": 49,
    "start_time": "2022-08-03T15:18:12.896Z"
   },
   {
    "duration": 3,
    "start_time": "2022-08-03T15:18:12.946Z"
   },
   {
    "duration": 13,
    "start_time": "2022-08-03T15:18:12.951Z"
   },
   {
    "duration": 4,
    "start_time": "2022-08-03T15:18:12.966Z"
   },
   {
    "duration": 11,
    "start_time": "2022-08-03T15:18:12.972Z"
   },
   {
    "duration": 6,
    "start_time": "2022-08-03T15:18:12.985Z"
   },
   {
    "duration": 61,
    "start_time": "2022-08-03T15:18:12.992Z"
   },
   {
    "duration": 9,
    "start_time": "2022-08-03T15:18:13.055Z"
   },
   {
    "duration": 4,
    "start_time": "2022-08-03T15:18:13.066Z"
   },
   {
    "duration": 19,
    "start_time": "2022-08-03T15:18:13.073Z"
   },
   {
    "duration": 45,
    "start_time": "2022-08-03T15:18:13.093Z"
   },
   {
    "duration": 19,
    "start_time": "2022-08-03T15:18:13.140Z"
   },
   {
    "duration": 5,
    "start_time": "2022-08-03T15:18:13.162Z"
   },
   {
    "duration": 12,
    "start_time": "2022-08-03T15:18:13.169Z"
   },
   {
    "duration": 5,
    "start_time": "2022-08-03T15:18:13.183Z"
   },
   {
    "duration": 6,
    "start_time": "2022-08-03T15:18:13.190Z"
   },
   {
    "duration": 48,
    "start_time": "2022-08-03T15:18:13.197Z"
   },
   {
    "duration": 4,
    "start_time": "2022-08-03T15:18:13.247Z"
   },
   {
    "duration": 958,
    "start_time": "2022-08-03T15:18:13.253Z"
   },
   {
    "duration": 9,
    "start_time": "2022-08-03T15:18:14.220Z"
   },
   {
    "duration": 9,
    "start_time": "2022-08-03T15:18:14.234Z"
   },
   {
    "duration": 6,
    "start_time": "2022-08-03T15:18:14.245Z"
   },
   {
    "duration": 5,
    "start_time": "2022-08-03T15:18:14.252Z"
   },
   {
    "duration": 10,
    "start_time": "2022-08-03T15:18:14.258Z"
   },
   {
    "duration": 12,
    "start_time": "2022-08-03T15:18:14.270Z"
   },
   {
    "duration": 381,
    "start_time": "2022-08-03T15:18:14.283Z"
   },
   {
    "duration": 3,
    "start_time": "2022-08-03T15:18:14.665Z"
   },
   {
    "duration": 8,
    "start_time": "2022-08-03T15:18:14.669Z"
   },
   {
    "duration": 11,
    "start_time": "2022-08-03T15:18:14.678Z"
   },
   {
    "duration": 29,
    "start_time": "2022-08-03T15:18:14.690Z"
   },
   {
    "duration": 8,
    "start_time": "2022-08-03T15:18:14.726Z"
   },
   {
    "duration": 23,
    "start_time": "2022-08-03T15:18:14.736Z"
   },
   {
    "duration": 398,
    "start_time": "2022-08-03T15:18:14.761Z"
   },
   {
    "duration": 3,
    "start_time": "2022-08-03T15:18:15.160Z"
   },
   {
    "duration": 11,
    "start_time": "2022-08-03T15:18:15.164Z"
   },
   {
    "duration": 12,
    "start_time": "2022-08-03T15:18:15.176Z"
   },
   {
    "duration": 10,
    "start_time": "2022-08-03T15:18:15.191Z"
   },
   {
    "duration": 37,
    "start_time": "2022-08-03T15:18:15.203Z"
   },
   {
    "duration": 14,
    "start_time": "2022-08-03T15:18:15.242Z"
   },
   {
    "duration": 325,
    "start_time": "2022-08-03T15:18:15.258Z"
   },
   {
    "duration": 2,
    "start_time": "2022-08-03T15:18:15.585Z"
   },
   {
    "duration": 30,
    "start_time": "2022-08-03T15:18:15.588Z"
   },
   {
    "duration": 18,
    "start_time": "2022-08-03T15:18:15.623Z"
   },
   {
    "duration": 10,
    "start_time": "2022-08-03T15:18:15.642Z"
   },
   {
    "duration": 9,
    "start_time": "2022-08-03T15:18:15.654Z"
   },
   {
    "duration": 3,
    "start_time": "2022-08-03T15:18:15.665Z"
   },
   {
    "duration": 12,
    "start_time": "2022-08-03T15:18:15.670Z"
   },
   {
    "duration": 365,
    "start_time": "2022-08-03T15:18:15.684Z"
   },
   {
    "duration": 70,
    "start_time": "2022-08-03T16:11:52.632Z"
   },
   {
    "duration": 15,
    "start_time": "2022-08-03T16:11:52.704Z"
   },
   {
    "duration": 17,
    "start_time": "2022-08-03T16:11:52.721Z"
   },
   {
    "duration": 15,
    "start_time": "2022-08-03T16:11:52.740Z"
   },
   {
    "duration": 57,
    "start_time": "2022-08-03T16:11:52.757Z"
   },
   {
    "duration": 3,
    "start_time": "2022-08-03T16:11:52.816Z"
   },
   {
    "duration": 15,
    "start_time": "2022-08-03T16:11:52.820Z"
   },
   {
    "duration": 5,
    "start_time": "2022-08-03T16:11:52.837Z"
   },
   {
    "duration": 11,
    "start_time": "2022-08-03T16:11:52.844Z"
   },
   {
    "duration": 6,
    "start_time": "2022-08-03T16:11:52.858Z"
   },
   {
    "duration": 54,
    "start_time": "2022-08-03T16:11:52.866Z"
   },
   {
    "duration": 9,
    "start_time": "2022-08-03T16:11:52.921Z"
   },
   {
    "duration": 4,
    "start_time": "2022-08-03T16:11:52.932Z"
   },
   {
    "duration": 29,
    "start_time": "2022-08-03T16:11:52.938Z"
   },
   {
    "duration": 16,
    "start_time": "2022-08-03T16:11:52.969Z"
   },
   {
    "duration": 27,
    "start_time": "2022-08-03T16:11:52.987Z"
   },
   {
    "duration": 8,
    "start_time": "2022-08-03T16:11:53.016Z"
   },
   {
    "duration": 13,
    "start_time": "2022-08-03T16:11:53.026Z"
   },
   {
    "duration": 13,
    "start_time": "2022-08-03T16:11:53.040Z"
   },
   {
    "duration": 7,
    "start_time": "2022-08-03T16:11:53.055Z"
   },
   {
    "duration": 13,
    "start_time": "2022-08-03T16:11:53.064Z"
   },
   {
    "duration": 4,
    "start_time": "2022-08-03T16:11:53.079Z"
   },
   {
    "duration": 5,
    "start_time": "2022-08-03T16:11:53.085Z"
   },
   {
    "duration": 18,
    "start_time": "2022-08-03T16:11:53.091Z"
   },
   {
    "duration": 10,
    "start_time": "2022-08-03T16:11:53.110Z"
   },
   {
    "duration": 5,
    "start_time": "2022-08-03T16:11:53.122Z"
   },
   {
    "duration": 14,
    "start_time": "2022-08-03T16:11:53.128Z"
   },
   {
    "duration": 28,
    "start_time": "2022-08-03T16:11:53.145Z"
   },
   {
    "duration": 12,
    "start_time": "2022-08-03T16:11:53.175Z"
   },
   {
    "duration": 350,
    "start_time": "2022-08-03T16:11:53.189Z"
   },
   {
    "duration": 2,
    "start_time": "2022-08-03T16:11:53.541Z"
   },
   {
    "duration": 14,
    "start_time": "2022-08-03T16:11:53.545Z"
   },
   {
    "duration": 10,
    "start_time": "2022-08-03T16:11:53.561Z"
   },
   {
    "duration": 9,
    "start_time": "2022-08-03T16:11:53.573Z"
   },
   {
    "duration": 4,
    "start_time": "2022-08-03T16:11:53.584Z"
   },
   {
    "duration": 24,
    "start_time": "2022-08-03T16:11:53.590Z"
   },
   {
    "duration": 350,
    "start_time": "2022-08-03T16:11:53.616Z"
   },
   {
    "duration": 3,
    "start_time": "2022-08-03T16:11:53.968Z"
   },
   {
    "duration": 7,
    "start_time": "2022-08-03T16:11:53.973Z"
   },
   {
    "duration": 10,
    "start_time": "2022-08-03T16:11:53.981Z"
   },
   {
    "duration": 19,
    "start_time": "2022-08-03T16:11:53.993Z"
   },
   {
    "duration": 4,
    "start_time": "2022-08-03T16:11:54.014Z"
   },
   {
    "duration": 13,
    "start_time": "2022-08-03T16:11:54.020Z"
   },
   {
    "duration": 339,
    "start_time": "2022-08-03T16:11:54.035Z"
   },
   {
    "duration": 2,
    "start_time": "2022-08-03T16:11:54.376Z"
   },
   {
    "duration": 18,
    "start_time": "2022-08-03T16:11:54.379Z"
   },
   {
    "duration": 11,
    "start_time": "2022-08-03T16:11:54.409Z"
   },
   {
    "duration": 16,
    "start_time": "2022-08-03T16:11:54.422Z"
   },
   {
    "duration": 14,
    "start_time": "2022-08-03T16:11:54.439Z"
   },
   {
    "duration": 25,
    "start_time": "2022-08-03T16:11:54.455Z"
   },
   {
    "duration": 25,
    "start_time": "2022-08-03T16:11:54.482Z"
   },
   {
    "duration": 346,
    "start_time": "2022-08-03T16:11:54.509Z"
   },
   {
    "duration": 340,
    "start_time": "2022-08-03T16:57:10.358Z"
   },
   {
    "duration": 71,
    "start_time": "2022-08-03T17:00:00.074Z"
   },
   {
    "duration": 15,
    "start_time": "2022-08-03T17:00:00.147Z"
   },
   {
    "duration": 35,
    "start_time": "2022-08-03T17:00:00.164Z"
   },
   {
    "duration": 19,
    "start_time": "2022-08-03T17:00:00.201Z"
   },
   {
    "duration": 47,
    "start_time": "2022-08-03T17:00:00.221Z"
   },
   {
    "duration": 4,
    "start_time": "2022-08-03T17:00:00.269Z"
   },
   {
    "duration": 32,
    "start_time": "2022-08-03T17:00:00.274Z"
   },
   {
    "duration": 22,
    "start_time": "2022-08-03T17:00:00.308Z"
   },
   {
    "duration": 25,
    "start_time": "2022-08-03T17:00:00.331Z"
   },
   {
    "duration": 22,
    "start_time": "2022-08-03T17:00:00.359Z"
   },
   {
    "duration": 102,
    "start_time": "2022-08-03T17:00:00.382Z"
   },
   {
    "duration": 10,
    "start_time": "2022-08-03T17:00:00.485Z"
   },
   {
    "duration": 21,
    "start_time": "2022-08-03T17:00:00.508Z"
   },
   {
    "duration": 58,
    "start_time": "2022-08-03T17:00:00.531Z"
   },
   {
    "duration": 52,
    "start_time": "2022-08-03T17:00:00.591Z"
   },
   {
    "duration": 37,
    "start_time": "2022-08-03T17:00:00.645Z"
   },
   {
    "duration": 64,
    "start_time": "2022-08-03T17:00:00.683Z"
   },
   {
    "duration": 30,
    "start_time": "2022-08-03T17:00:00.749Z"
   },
   {
    "duration": 35,
    "start_time": "2022-08-03T17:00:00.780Z"
   },
   {
    "duration": 13,
    "start_time": "2022-08-03T17:00:00.817Z"
   },
   {
    "duration": 43,
    "start_time": "2022-08-03T17:00:00.831Z"
   },
   {
    "duration": 14,
    "start_time": "2022-08-03T17:00:00.876Z"
   },
   {
    "duration": 32,
    "start_time": "2022-08-03T17:00:00.892Z"
   },
   {
    "duration": 37,
    "start_time": "2022-08-03T17:00:00.926Z"
   },
   {
    "duration": 63,
    "start_time": "2022-08-03T17:00:00.964Z"
   },
   {
    "duration": 101,
    "start_time": "2022-08-03T17:00:01.029Z"
   },
   {
    "duration": 88,
    "start_time": "2022-08-03T17:00:01.131Z"
   },
   {
    "duration": 36,
    "start_time": "2022-08-03T17:00:01.223Z"
   },
   {
    "duration": 62,
    "start_time": "2022-08-03T17:00:01.261Z"
   },
   {
    "duration": 436,
    "start_time": "2022-08-03T17:00:01.325Z"
   },
   {
    "duration": 3,
    "start_time": "2022-08-03T17:00:01.763Z"
   },
   {
    "duration": 156,
    "start_time": "2022-08-03T17:00:01.767Z"
   },
   {
    "duration": 218,
    "start_time": "2022-08-03T17:00:01.925Z"
   },
   {
    "duration": 112,
    "start_time": "2022-08-03T17:00:02.145Z"
   },
   {
    "duration": 35,
    "start_time": "2022-08-03T17:00:02.259Z"
   },
   {
    "duration": 57,
    "start_time": "2022-08-03T17:00:02.296Z"
   },
   {
    "duration": 361,
    "start_time": "2022-08-03T17:00:02.355Z"
   },
   {
    "duration": 2,
    "start_time": "2022-08-03T17:00:02.718Z"
   },
   {
    "duration": 35,
    "start_time": "2022-08-03T17:00:02.722Z"
   },
   {
    "duration": 23,
    "start_time": "2022-08-03T17:00:02.759Z"
   },
   {
    "duration": 40,
    "start_time": "2022-08-03T17:00:02.783Z"
   },
   {
    "duration": 16,
    "start_time": "2022-08-03T17:00:02.825Z"
   },
   {
    "duration": 34,
    "start_time": "2022-08-03T17:00:02.843Z"
   },
   {
    "duration": 337,
    "start_time": "2022-08-03T17:00:02.879Z"
   },
   {
    "duration": 3,
    "start_time": "2022-08-03T17:00:03.218Z"
   },
   {
    "duration": 43,
    "start_time": "2022-08-03T17:00:03.222Z"
   },
   {
    "duration": 38,
    "start_time": "2022-08-03T17:00:03.267Z"
   },
   {
    "duration": 42,
    "start_time": "2022-08-03T17:00:03.307Z"
   },
   {
    "duration": 10,
    "start_time": "2022-08-03T17:00:03.351Z"
   },
   {
    "duration": 14,
    "start_time": "2022-08-03T17:00:03.362Z"
   },
   {
    "duration": 12,
    "start_time": "2022-08-03T17:00:03.378Z"
   },
   {
    "duration": 306,
    "start_time": "2022-08-03T17:00:03.392Z"
   },
   {
    "duration": 1547,
    "start_time": "2022-08-04T07:26:00.360Z"
   },
   {
    "duration": 23,
    "start_time": "2022-08-04T07:26:01.909Z"
   },
   {
    "duration": 23,
    "start_time": "2022-08-04T07:26:01.934Z"
   },
   {
    "duration": 25,
    "start_time": "2022-08-04T07:26:01.960Z"
   },
   {
    "duration": 71,
    "start_time": "2022-08-04T07:26:01.987Z"
   },
   {
    "duration": 9,
    "start_time": "2022-08-04T07:26:02.060Z"
   },
   {
    "duration": 70,
    "start_time": "2022-08-04T07:26:02.071Z"
   },
   {
    "duration": 51,
    "start_time": "2022-08-04T07:26:02.143Z"
   },
   {
    "duration": 34,
    "start_time": "2022-08-04T07:26:02.195Z"
   },
   {
    "duration": 23,
    "start_time": "2022-08-04T07:26:02.232Z"
   },
   {
    "duration": 79,
    "start_time": "2022-08-04T07:26:02.257Z"
   },
   {
    "duration": 12,
    "start_time": "2022-08-04T07:26:02.338Z"
   },
   {
    "duration": 45,
    "start_time": "2022-08-04T07:26:02.352Z"
   },
   {
    "duration": 31,
    "start_time": "2022-08-04T07:26:02.399Z"
   },
   {
    "duration": 20,
    "start_time": "2022-08-04T07:26:02.431Z"
   },
   {
    "duration": 13,
    "start_time": "2022-08-04T07:26:02.453Z"
   },
   {
    "duration": 26,
    "start_time": "2022-08-04T07:26:02.468Z"
   },
   {
    "duration": 33,
    "start_time": "2022-08-04T07:26:02.496Z"
   },
   {
    "duration": 23,
    "start_time": "2022-08-04T07:26:02.531Z"
   },
   {
    "duration": 10,
    "start_time": "2022-08-04T07:26:02.556Z"
   },
   {
    "duration": 27,
    "start_time": "2022-08-04T07:26:02.568Z"
   },
   {
    "duration": 13,
    "start_time": "2022-08-04T07:26:02.597Z"
   },
   {
    "duration": 11,
    "start_time": "2022-08-04T07:26:02.612Z"
   },
   {
    "duration": 13,
    "start_time": "2022-08-04T07:26:02.626Z"
   },
   {
    "duration": 23,
    "start_time": "2022-08-04T07:26:02.641Z"
   },
   {
    "duration": 10,
    "start_time": "2022-08-04T07:26:02.666Z"
   },
   {
    "duration": 25,
    "start_time": "2022-08-04T07:26:02.678Z"
   },
   {
    "duration": 15,
    "start_time": "2022-08-04T07:26:02.708Z"
   },
   {
    "duration": 449,
    "start_time": "2022-08-04T07:26:02.726Z"
   },
   {
    "duration": 3,
    "start_time": "2022-08-04T07:26:03.178Z"
   },
   {
    "duration": 35,
    "start_time": "2022-08-04T07:26:03.183Z"
   },
   {
    "duration": 13,
    "start_time": "2022-08-04T07:26:03.220Z"
   },
   {
    "duration": 14,
    "start_time": "2022-08-04T07:26:03.235Z"
   },
   {
    "duration": 6,
    "start_time": "2022-08-04T07:26:03.251Z"
   },
   {
    "duration": 20,
    "start_time": "2022-08-04T07:26:03.259Z"
   },
   {
    "duration": 381,
    "start_time": "2022-08-04T07:26:03.281Z"
   },
   {
    "duration": 3,
    "start_time": "2022-08-04T07:26:03.667Z"
   },
   {
    "duration": 11,
    "start_time": "2022-08-04T07:26:03.672Z"
   },
   {
    "duration": 11,
    "start_time": "2022-08-04T07:26:03.685Z"
   },
   {
    "duration": 9,
    "start_time": "2022-08-04T07:26:03.698Z"
   },
   {
    "duration": 4,
    "start_time": "2022-08-04T07:26:03.709Z"
   },
   {
    "duration": 10,
    "start_time": "2022-08-04T07:26:03.715Z"
   },
   {
    "duration": 344,
    "start_time": "2022-08-04T07:26:03.727Z"
   },
   {
    "duration": 3,
    "start_time": "2022-08-04T07:26:04.073Z"
   },
   {
    "duration": 17,
    "start_time": "2022-08-04T07:26:04.078Z"
   },
   {
    "duration": 7,
    "start_time": "2022-08-04T07:26:04.097Z"
   },
   {
    "duration": 9,
    "start_time": "2022-08-04T07:26:04.106Z"
   },
   {
    "duration": 6,
    "start_time": "2022-08-04T07:26:04.117Z"
   },
   {
    "duration": 4,
    "start_time": "2022-08-04T07:26:04.125Z"
   },
   {
    "duration": 10,
    "start_time": "2022-08-04T07:26:04.131Z"
   },
   {
    "duration": 333,
    "start_time": "2022-08-04T07:26:04.169Z"
   },
   {
    "duration": 11,
    "start_time": "2022-08-04T07:27:31.989Z"
   },
   {
    "duration": 7,
    "start_time": "2022-08-04T07:29:28.320Z"
   },
   {
    "duration": 80,
    "start_time": "2022-08-04T07:29:32.837Z"
   },
   {
    "duration": 19,
    "start_time": "2022-08-04T07:29:32.920Z"
   },
   {
    "duration": 39,
    "start_time": "2022-08-04T07:29:32.940Z"
   },
   {
    "duration": 10,
    "start_time": "2022-08-04T07:29:32.981Z"
   },
   {
    "duration": 5,
    "start_time": "2022-08-04T07:29:32.993Z"
   },
   {
    "duration": 68,
    "start_time": "2022-08-04T07:29:33.000Z"
   },
   {
    "duration": 4,
    "start_time": "2022-08-04T07:29:33.070Z"
   },
   {
    "duration": 11,
    "start_time": "2022-08-04T07:29:33.076Z"
   },
   {
    "duration": 5,
    "start_time": "2022-08-04T07:29:33.089Z"
   },
   {
    "duration": 10,
    "start_time": "2022-08-04T07:29:33.097Z"
   },
   {
    "duration": 8,
    "start_time": "2022-08-04T07:29:33.109Z"
   },
   {
    "duration": 77,
    "start_time": "2022-08-04T07:29:33.119Z"
   },
   {
    "duration": 10,
    "start_time": "2022-08-04T07:29:33.198Z"
   },
   {
    "duration": 7,
    "start_time": "2022-08-04T07:29:33.210Z"
   },
   {
    "duration": 22,
    "start_time": "2022-08-04T07:29:33.218Z"
   },
   {
    "duration": 38,
    "start_time": "2022-08-04T07:29:33.242Z"
   },
   {
    "duration": 12,
    "start_time": "2022-08-04T07:29:33.282Z"
   },
   {
    "duration": 6,
    "start_time": "2022-08-04T07:29:33.296Z"
   },
   {
    "duration": 17,
    "start_time": "2022-08-04T07:29:33.304Z"
   },
   {
    "duration": 9,
    "start_time": "2022-08-04T07:29:33.322Z"
   },
   {
    "duration": 4,
    "start_time": "2022-08-04T07:29:33.333Z"
   },
   {
    "duration": 31,
    "start_time": "2022-08-04T07:29:33.339Z"
   },
   {
    "duration": 5,
    "start_time": "2022-08-04T07:29:33.372Z"
   },
   {
    "duration": 12,
    "start_time": "2022-08-04T07:29:33.379Z"
   },
   {
    "duration": 7,
    "start_time": "2022-08-04T07:29:33.393Z"
   },
   {
    "duration": 6,
    "start_time": "2022-08-04T07:29:33.402Z"
   },
   {
    "duration": 5,
    "start_time": "2022-08-04T07:29:33.409Z"
   },
   {
    "duration": 14,
    "start_time": "2022-08-04T07:29:33.417Z"
   },
   {
    "duration": 36,
    "start_time": "2022-08-04T07:29:33.433Z"
   },
   {
    "duration": 388,
    "start_time": "2022-08-04T07:29:33.471Z"
   },
   {
    "duration": 6,
    "start_time": "2022-08-04T07:29:33.861Z"
   },
   {
    "duration": 3,
    "start_time": "2022-08-04T07:29:33.869Z"
   },
   {
    "duration": 8,
    "start_time": "2022-08-04T07:29:33.874Z"
   },
   {
    "duration": 11,
    "start_time": "2022-08-04T07:29:33.884Z"
   },
   {
    "duration": 15,
    "start_time": "2022-08-04T07:29:33.897Z"
   },
   {
    "duration": 18,
    "start_time": "2022-08-04T07:29:33.914Z"
   },
   {
    "duration": 377,
    "start_time": "2022-08-04T07:29:33.934Z"
   },
   {
    "duration": 3,
    "start_time": "2022-08-04T07:29:34.314Z"
   },
   {
    "duration": 8,
    "start_time": "2022-08-04T07:29:34.319Z"
   },
   {
    "duration": 10,
    "start_time": "2022-08-04T07:29:34.329Z"
   },
   {
    "duration": 27,
    "start_time": "2022-08-04T07:29:34.341Z"
   },
   {
    "duration": 5,
    "start_time": "2022-08-04T07:29:34.370Z"
   },
   {
    "duration": 14,
    "start_time": "2022-08-04T07:29:34.377Z"
   },
   {
    "duration": 359,
    "start_time": "2022-08-04T07:29:34.393Z"
   },
   {
    "duration": 3,
    "start_time": "2022-08-04T07:29:34.755Z"
   },
   {
    "duration": 15,
    "start_time": "2022-08-04T07:29:34.768Z"
   },
   {
    "duration": 19,
    "start_time": "2022-08-04T07:29:34.785Z"
   },
   {
    "duration": 13,
    "start_time": "2022-08-04T07:29:34.806Z"
   },
   {
    "duration": 9,
    "start_time": "2022-08-04T07:29:34.821Z"
   },
   {
    "duration": 5,
    "start_time": "2022-08-04T07:29:34.833Z"
   },
   {
    "duration": 35,
    "start_time": "2022-08-04T07:29:34.840Z"
   },
   {
    "duration": 363,
    "start_time": "2022-08-04T07:29:34.877Z"
   },
   {
    "duration": 10,
    "start_time": "2022-08-04T07:29:35.242Z"
   },
   {
    "duration": 5,
    "start_time": "2022-08-04T07:36:37.574Z"
   },
   {
    "duration": 70,
    "start_time": "2022-08-04T07:36:43.029Z"
   },
   {
    "duration": 17,
    "start_time": "2022-08-04T07:36:43.101Z"
   },
   {
    "duration": 17,
    "start_time": "2022-08-04T07:36:43.120Z"
   },
   {
    "duration": 12,
    "start_time": "2022-08-04T07:36:43.168Z"
   },
   {
    "duration": 7,
    "start_time": "2022-08-04T07:36:43.182Z"
   },
   {
    "duration": 35,
    "start_time": "2022-08-04T07:36:43.191Z"
   },
   {
    "duration": 3,
    "start_time": "2022-08-04T07:36:43.228Z"
   },
   {
    "duration": 9,
    "start_time": "2022-08-04T07:36:43.268Z"
   },
   {
    "duration": 12,
    "start_time": "2022-08-04T07:36:43.278Z"
   },
   {
    "duration": 12,
    "start_time": "2022-08-04T07:36:43.292Z"
   },
   {
    "duration": 5,
    "start_time": "2022-08-04T07:36:43.306Z"
   },
   {
    "duration": 36,
    "start_time": "2022-08-04T07:36:43.312Z"
   },
   {
    "duration": 19,
    "start_time": "2022-08-04T07:36:43.368Z"
   },
   {
    "duration": 5,
    "start_time": "2022-08-04T07:36:43.390Z"
   },
   {
    "duration": 26,
    "start_time": "2022-08-04T07:36:43.397Z"
   },
   {
    "duration": 18,
    "start_time": "2022-08-04T07:36:43.425Z"
   },
   {
    "duration": 23,
    "start_time": "2022-08-04T07:36:43.445Z"
   },
   {
    "duration": 4,
    "start_time": "2022-08-04T07:36:43.470Z"
   },
   {
    "duration": 12,
    "start_time": "2022-08-04T07:36:43.476Z"
   },
   {
    "duration": 11,
    "start_time": "2022-08-04T07:36:43.489Z"
   },
   {
    "duration": 22,
    "start_time": "2022-08-04T07:36:43.502Z"
   },
   {
    "duration": 12,
    "start_time": "2022-08-04T07:36:43.526Z"
   },
   {
    "duration": 5,
    "start_time": "2022-08-04T07:36:43.540Z"
   },
   {
    "duration": 21,
    "start_time": "2022-08-04T07:36:43.547Z"
   },
   {
    "duration": 10,
    "start_time": "2022-08-04T07:36:43.570Z"
   },
   {
    "duration": 11,
    "start_time": "2022-08-04T07:36:43.582Z"
   },
   {
    "duration": 13,
    "start_time": "2022-08-04T07:36:43.595Z"
   },
   {
    "duration": 10,
    "start_time": "2022-08-04T07:36:43.613Z"
   },
   {
    "duration": 11,
    "start_time": "2022-08-04T07:36:43.625Z"
   },
   {
    "duration": 381,
    "start_time": "2022-08-04T07:36:43.638Z"
   },
   {
    "duration": 2,
    "start_time": "2022-08-04T07:36:44.021Z"
   },
   {
    "duration": 70,
    "start_time": "2022-08-04T07:36:44.025Z"
   },
   {
    "duration": 44,
    "start_time": "2022-08-04T07:36:44.097Z"
   },
   {
    "duration": 55,
    "start_time": "2022-08-04T07:36:44.143Z"
   },
   {
    "duration": 54,
    "start_time": "2022-08-04T07:36:44.200Z"
   },
   {
    "duration": 22,
    "start_time": "2022-08-04T07:36:44.256Z"
   },
   {
    "duration": 447,
    "start_time": "2022-08-04T07:36:44.279Z"
   },
   {
    "duration": 3,
    "start_time": "2022-08-04T07:36:44.728Z"
   },
   {
    "duration": 7,
    "start_time": "2022-08-04T07:36:44.733Z"
   },
   {
    "duration": 9,
    "start_time": "2022-08-04T07:36:44.742Z"
   },
   {
    "duration": 16,
    "start_time": "2022-08-04T07:36:44.753Z"
   },
   {
    "duration": 8,
    "start_time": "2022-08-04T07:36:44.771Z"
   },
   {
    "duration": 25,
    "start_time": "2022-08-04T07:36:44.781Z"
   },
   {
    "duration": 334,
    "start_time": "2022-08-04T07:36:44.808Z"
   },
   {
    "duration": 3,
    "start_time": "2022-08-04T07:36:45.144Z"
   },
   {
    "duration": 29,
    "start_time": "2022-08-04T07:36:45.148Z"
   },
   {
    "duration": 8,
    "start_time": "2022-08-04T07:36:45.178Z"
   },
   {
    "duration": 17,
    "start_time": "2022-08-04T07:36:45.188Z"
   },
   {
    "duration": 9,
    "start_time": "2022-08-04T07:36:45.207Z"
   },
   {
    "duration": 5,
    "start_time": "2022-08-04T07:36:45.218Z"
   },
   {
    "duration": 17,
    "start_time": "2022-08-04T07:36:45.225Z"
   },
   {
    "duration": 347,
    "start_time": "2022-08-04T07:36:45.243Z"
   },
   {
    "duration": 11,
    "start_time": "2022-08-04T07:36:45.592Z"
   },
   {
    "duration": 56,
    "start_time": "2022-08-04T20:29:17.458Z"
   },
   {
    "duration": 1679,
    "start_time": "2022-08-04T20:29:25.238Z"
   },
   {
    "duration": 30,
    "start_time": "2022-08-04T20:29:26.919Z"
   },
   {
    "duration": 16,
    "start_time": "2022-08-04T20:29:26.951Z"
   },
   {
    "duration": 10,
    "start_time": "2022-08-04T20:29:26.970Z"
   },
   {
    "duration": 28,
    "start_time": "2022-08-04T20:29:26.982Z"
   },
   {
    "duration": 36,
    "start_time": "2022-08-04T20:29:27.012Z"
   },
   {
    "duration": 3,
    "start_time": "2022-08-04T20:29:27.050Z"
   },
   {
    "duration": 11,
    "start_time": "2022-08-04T20:29:27.056Z"
   },
   {
    "duration": 6,
    "start_time": "2022-08-04T20:29:27.069Z"
   },
   {
    "duration": 35,
    "start_time": "2022-08-04T20:29:27.078Z"
   },
   {
    "duration": 5,
    "start_time": "2022-08-04T20:29:27.115Z"
   },
   {
    "duration": 42,
    "start_time": "2022-08-04T20:29:27.122Z"
   },
   {
    "duration": 23,
    "start_time": "2022-08-04T20:29:27.165Z"
   },
   {
    "duration": 19,
    "start_time": "2022-08-04T20:29:27.190Z"
   },
   {
    "duration": 69,
    "start_time": "2022-08-04T20:29:27.211Z"
   },
   {
    "duration": 21,
    "start_time": "2022-08-04T20:29:27.282Z"
   },
   {
    "duration": 13,
    "start_time": "2022-08-04T20:29:27.305Z"
   },
   {
    "duration": 16,
    "start_time": "2022-08-04T20:29:27.320Z"
   },
   {
    "duration": 27,
    "start_time": "2022-08-04T20:29:27.338Z"
   },
   {
    "duration": 12,
    "start_time": "2022-08-04T20:29:27.368Z"
   },
   {
    "duration": 13,
    "start_time": "2022-08-04T20:29:27.382Z"
   },
   {
    "duration": 20,
    "start_time": "2022-08-04T20:29:27.397Z"
   },
   {
    "duration": 11,
    "start_time": "2022-08-04T20:29:27.420Z"
   },
   {
    "duration": 102,
    "start_time": "2022-08-04T20:29:27.433Z"
   },
   {
    "duration": 0,
    "start_time": "2022-08-04T20:29:27.538Z"
   },
   {
    "duration": 0,
    "start_time": "2022-08-04T20:29:27.540Z"
   },
   {
    "duration": 0,
    "start_time": "2022-08-04T20:29:27.541Z"
   },
   {
    "duration": 0,
    "start_time": "2022-08-04T20:29:27.542Z"
   },
   {
    "duration": 0,
    "start_time": "2022-08-04T20:29:27.543Z"
   },
   {
    "duration": 0,
    "start_time": "2022-08-04T20:29:27.545Z"
   },
   {
    "duration": 0,
    "start_time": "2022-08-04T20:29:27.546Z"
   },
   {
    "duration": 0,
    "start_time": "2022-08-04T20:29:27.548Z"
   },
   {
    "duration": 0,
    "start_time": "2022-08-04T20:29:27.550Z"
   },
   {
    "duration": 0,
    "start_time": "2022-08-04T20:29:27.550Z"
   },
   {
    "duration": 0,
    "start_time": "2022-08-04T20:29:27.551Z"
   },
   {
    "duration": 0,
    "start_time": "2022-08-04T20:29:27.553Z"
   },
   {
    "duration": 0,
    "start_time": "2022-08-04T20:29:27.554Z"
   },
   {
    "duration": 0,
    "start_time": "2022-08-04T20:29:27.555Z"
   },
   {
    "duration": 0,
    "start_time": "2022-08-04T20:29:27.556Z"
   },
   {
    "duration": 0,
    "start_time": "2022-08-04T20:29:27.557Z"
   },
   {
    "duration": 0,
    "start_time": "2022-08-04T20:29:27.558Z"
   },
   {
    "duration": 0,
    "start_time": "2022-08-04T20:29:27.559Z"
   },
   {
    "duration": 0,
    "start_time": "2022-08-04T20:29:27.560Z"
   },
   {
    "duration": 0,
    "start_time": "2022-08-04T20:29:27.562Z"
   },
   {
    "duration": 0,
    "start_time": "2022-08-04T20:29:27.563Z"
   },
   {
    "duration": 0,
    "start_time": "2022-08-04T20:29:27.564Z"
   },
   {
    "duration": 0,
    "start_time": "2022-08-04T20:29:27.565Z"
   },
   {
    "duration": 0,
    "start_time": "2022-08-04T20:29:27.566Z"
   },
   {
    "duration": 0,
    "start_time": "2022-08-04T20:29:27.567Z"
   },
   {
    "duration": 0,
    "start_time": "2022-08-04T20:29:27.609Z"
   },
   {
    "duration": 0,
    "start_time": "2022-08-04T20:29:27.611Z"
   },
   {
    "duration": 0,
    "start_time": "2022-08-04T20:29:27.612Z"
   },
   {
    "duration": 0,
    "start_time": "2022-08-04T20:29:27.613Z"
   },
   {
    "duration": 43,
    "start_time": "2022-08-04T20:32:02.386Z"
   },
   {
    "duration": 25,
    "start_time": "2022-08-04T20:33:00.392Z"
   },
   {
    "duration": 42,
    "start_time": "2022-08-04T20:34:00.685Z"
   },
   {
    "duration": 68,
    "start_time": "2022-08-04T20:37:00.765Z"
   },
   {
    "duration": 62,
    "start_time": "2022-08-04T20:37:05.377Z"
   },
   {
    "duration": 30,
    "start_time": "2022-08-04T20:37:21.646Z"
   },
   {
    "duration": 51,
    "start_time": "2022-08-04T20:37:29.952Z"
   },
   {
    "duration": 44,
    "start_time": "2022-08-04T20:37:42.129Z"
   },
   {
    "duration": 31,
    "start_time": "2022-08-04T20:38:03.444Z"
   },
   {
    "duration": 349,
    "start_time": "2022-08-04T20:39:57.762Z"
   },
   {
    "duration": 11,
    "start_time": "2022-08-04T20:40:00.428Z"
   },
   {
    "duration": 71,
    "start_time": "2022-08-04T20:40:35.492Z"
   },
   {
    "duration": 22,
    "start_time": "2022-08-04T20:40:35.566Z"
   },
   {
    "duration": 36,
    "start_time": "2022-08-04T20:40:35.591Z"
   },
   {
    "duration": 16,
    "start_time": "2022-08-04T20:40:35.630Z"
   },
   {
    "duration": 7,
    "start_time": "2022-08-04T20:40:35.647Z"
   },
   {
    "duration": 74,
    "start_time": "2022-08-04T20:40:35.655Z"
   },
   {
    "duration": 4,
    "start_time": "2022-08-04T20:40:35.732Z"
   },
   {
    "duration": 17,
    "start_time": "2022-08-04T20:40:35.739Z"
   },
   {
    "duration": 12,
    "start_time": "2022-08-04T20:40:35.758Z"
   },
   {
    "duration": 10,
    "start_time": "2022-08-04T20:40:35.773Z"
   },
   {
    "duration": 13,
    "start_time": "2022-08-04T20:40:35.808Z"
   },
   {
    "duration": 61,
    "start_time": "2022-08-04T20:40:35.823Z"
   },
   {
    "duration": 12,
    "start_time": "2022-08-04T20:40:35.886Z"
   },
   {
    "duration": 12,
    "start_time": "2022-08-04T20:40:35.909Z"
   },
   {
    "duration": 24,
    "start_time": "2022-08-04T20:40:35.922Z"
   },
   {
    "duration": 27,
    "start_time": "2022-08-04T20:40:35.949Z"
   },
   {
    "duration": 28,
    "start_time": "2022-08-04T20:40:35.981Z"
   },
   {
    "duration": 6,
    "start_time": "2022-08-04T20:40:36.012Z"
   },
   {
    "duration": 14,
    "start_time": "2022-08-04T20:40:36.020Z"
   },
   {
    "duration": 8,
    "start_time": "2022-08-04T20:40:36.036Z"
   },
   {
    "duration": 32,
    "start_time": "2022-08-04T20:40:36.046Z"
   },
   {
    "duration": 16,
    "start_time": "2022-08-04T20:40:36.082Z"
   },
   {
    "duration": 8,
    "start_time": "2022-08-04T20:40:36.100Z"
   },
   {
    "duration": 41,
    "start_time": "2022-08-04T20:40:36.110Z"
   },
   {
    "duration": 3,
    "start_time": "2022-08-04T20:40:36.152Z"
   },
   {
    "duration": 15,
    "start_time": "2022-08-04T20:40:36.157Z"
   },
   {
    "duration": 5,
    "start_time": "2022-08-04T20:40:36.174Z"
   },
   {
    "duration": 6,
    "start_time": "2022-08-04T20:40:36.183Z"
   },
   {
    "duration": 26,
    "start_time": "2022-08-04T20:40:36.190Z"
   },
   {
    "duration": 12,
    "start_time": "2022-08-04T20:40:36.218Z"
   },
   {
    "duration": 441,
    "start_time": "2022-08-04T20:40:36.232Z"
   },
   {
    "duration": 3,
    "start_time": "2022-08-04T20:40:36.675Z"
   },
   {
    "duration": 7,
    "start_time": "2022-08-04T20:40:36.680Z"
   },
   {
    "duration": 25,
    "start_time": "2022-08-04T20:40:36.689Z"
   },
   {
    "duration": 9,
    "start_time": "2022-08-04T20:40:36.716Z"
   },
   {
    "duration": 8,
    "start_time": "2022-08-04T20:40:36.727Z"
   },
   {
    "duration": 14,
    "start_time": "2022-08-04T20:40:36.737Z"
   },
   {
    "duration": 356,
    "start_time": "2022-08-04T20:40:36.753Z"
   },
   {
    "duration": 3,
    "start_time": "2022-08-04T20:40:37.111Z"
   },
   {
    "duration": 10,
    "start_time": "2022-08-04T20:40:37.118Z"
   },
   {
    "duration": 17,
    "start_time": "2022-08-04T20:40:37.130Z"
   },
   {
    "duration": 22,
    "start_time": "2022-08-04T20:40:37.149Z"
   },
   {
    "duration": 9,
    "start_time": "2022-08-04T20:40:37.174Z"
   },
   {
    "duration": 47,
    "start_time": "2022-08-04T20:40:37.186Z"
   },
   {
    "duration": 463,
    "start_time": "2022-08-04T20:40:37.235Z"
   },
   {
    "duration": 3,
    "start_time": "2022-08-04T20:40:37.709Z"
   },
   {
    "duration": 25,
    "start_time": "2022-08-04T20:40:37.714Z"
   },
   {
    "duration": 15,
    "start_time": "2022-08-04T20:40:37.740Z"
   },
   {
    "duration": 15,
    "start_time": "2022-08-04T20:40:37.756Z"
   },
   {
    "duration": 14,
    "start_time": "2022-08-04T20:40:37.773Z"
   },
   {
    "duration": 5,
    "start_time": "2022-08-04T20:40:37.789Z"
   },
   {
    "duration": 29,
    "start_time": "2022-08-04T20:40:37.796Z"
   },
   {
    "duration": 335,
    "start_time": "2022-08-04T20:40:37.827Z"
   },
   {
    "duration": 71,
    "start_time": "2022-08-04T21:02:48.121Z"
   },
   {
    "duration": 25,
    "start_time": "2022-08-04T21:02:52.961Z"
   },
   {
    "duration": 39,
    "start_time": "2022-08-04T21:03:42.689Z"
   },
   {
    "duration": 22,
    "start_time": "2022-08-04T21:06:43.164Z"
   },
   {
    "duration": 3,
    "start_time": "2022-08-04T21:07:14.619Z"
   },
   {
    "duration": 5,
    "start_time": "2022-08-04T21:07:15.735Z"
   },
   {
    "duration": 6,
    "start_time": "2022-08-04T21:07:16.791Z"
   },
   {
    "duration": 22,
    "start_time": "2022-08-04T21:07:56.127Z"
   },
   {
    "duration": 22,
    "start_time": "2022-08-04T21:08:09.463Z"
   },
   {
    "duration": 9,
    "start_time": "2022-08-04T21:09:05.590Z"
   },
   {
    "duration": 88,
    "start_time": "2022-08-04T21:09:26.573Z"
   },
   {
    "duration": 16,
    "start_time": "2022-08-04T21:10:58.484Z"
   },
   {
    "duration": 7,
    "start_time": "2022-08-04T21:11:39.187Z"
   },
   {
    "duration": 13,
    "start_time": "2022-08-04T21:12:27.226Z"
   },
   {
    "duration": 15,
    "start_time": "2022-08-04T21:12:59.186Z"
   },
   {
    "duration": 55,
    "start_time": "2022-08-04T21:14:16.626Z"
   },
   {
    "duration": 6,
    "start_time": "2022-08-04T21:14:26.132Z"
   },
   {
    "duration": 9,
    "start_time": "2022-08-04T21:14:41.525Z"
   },
   {
    "duration": 23,
    "start_time": "2022-08-04T21:16:59.023Z"
   },
   {
    "duration": 19,
    "start_time": "2022-08-04T21:17:36.523Z"
   },
   {
    "duration": 22,
    "start_time": "2022-08-04T21:17:42.425Z"
   },
   {
    "duration": 20,
    "start_time": "2022-08-04T21:17:46.584Z"
   },
   {
    "duration": 12,
    "start_time": "2022-08-04T21:18:40.255Z"
   },
   {
    "duration": 25,
    "start_time": "2022-08-04T21:18:56.666Z"
   },
   {
    "duration": 22,
    "start_time": "2022-08-04T21:19:05.653Z"
   },
   {
    "duration": 20,
    "start_time": "2022-08-04T21:19:18.531Z"
   },
   {
    "duration": 28,
    "start_time": "2022-08-04T21:19:31.439Z"
   },
   {
    "duration": 36,
    "start_time": "2022-08-04T21:20:17.619Z"
   },
   {
    "duration": 30,
    "start_time": "2022-08-04T21:20:30.771Z"
   },
   {
    "duration": 30,
    "start_time": "2022-08-04T21:22:47.535Z"
   },
   {
    "duration": 34,
    "start_time": "2022-08-04T21:22:55.219Z"
   },
   {
    "duration": 72,
    "start_time": "2022-08-04T21:23:04.320Z"
   },
   {
    "duration": 14,
    "start_time": "2022-08-04T21:23:04.394Z"
   },
   {
    "duration": 25,
    "start_time": "2022-08-04T21:23:04.414Z"
   },
   {
    "duration": 10,
    "start_time": "2022-08-04T21:23:04.441Z"
   },
   {
    "duration": 8,
    "start_time": "2022-08-04T21:23:04.453Z"
   },
   {
    "duration": 61,
    "start_time": "2022-08-04T21:23:04.462Z"
   },
   {
    "duration": 4,
    "start_time": "2022-08-04T21:23:04.526Z"
   },
   {
    "duration": 12,
    "start_time": "2022-08-04T21:23:04.531Z"
   },
   {
    "duration": 4,
    "start_time": "2022-08-04T21:23:04.545Z"
   },
   {
    "duration": 6,
    "start_time": "2022-08-04T21:23:04.552Z"
   },
   {
    "duration": 5,
    "start_time": "2022-08-04T21:23:04.559Z"
   },
   {
    "duration": 69,
    "start_time": "2022-08-04T21:23:04.566Z"
   },
   {
    "duration": 10,
    "start_time": "2022-08-04T21:23:04.637Z"
   },
   {
    "duration": 4,
    "start_time": "2022-08-04T21:23:04.649Z"
   },
   {
    "duration": 21,
    "start_time": "2022-08-04T21:23:04.654Z"
   },
   {
    "duration": 42,
    "start_time": "2022-08-04T21:23:04.676Z"
   },
   {
    "duration": 13,
    "start_time": "2022-08-04T21:23:04.722Z"
   },
   {
    "duration": 11,
    "start_time": "2022-08-04T21:23:04.736Z"
   },
   {
    "duration": 12,
    "start_time": "2022-08-04T21:23:04.749Z"
   },
   {
    "duration": 6,
    "start_time": "2022-08-04T21:23:04.762Z"
   },
   {
    "duration": 4,
    "start_time": "2022-08-04T21:23:04.769Z"
   },
   {
    "duration": 11,
    "start_time": "2022-08-04T21:23:04.774Z"
   },
   {
    "duration": 2,
    "start_time": "2022-08-04T21:23:04.787Z"
   },
   {
    "duration": 63,
    "start_time": "2022-08-04T21:23:04.790Z"
   },
   {
    "duration": 2,
    "start_time": "2022-08-04T21:23:04.855Z"
   },
   {
    "duration": 10,
    "start_time": "2022-08-04T21:23:04.859Z"
   },
   {
    "duration": 6,
    "start_time": "2022-08-04T21:23:04.870Z"
   },
   {
    "duration": 3,
    "start_time": "2022-08-04T21:23:04.879Z"
   },
   {
    "duration": 10,
    "start_time": "2022-08-04T21:23:04.883Z"
   },
   {
    "duration": 15,
    "start_time": "2022-08-04T21:23:04.911Z"
   },
   {
    "duration": 360,
    "start_time": "2022-08-04T21:23:04.927Z"
   },
   {
    "duration": 3,
    "start_time": "2022-08-04T21:23:05.289Z"
   },
   {
    "duration": 21,
    "start_time": "2022-08-04T21:23:05.294Z"
   },
   {
    "duration": 15,
    "start_time": "2022-08-04T21:23:05.317Z"
   },
   {
    "duration": 9,
    "start_time": "2022-08-04T21:23:05.334Z"
   },
   {
    "duration": 4,
    "start_time": "2022-08-04T21:23:05.345Z"
   },
   {
    "duration": 11,
    "start_time": "2022-08-04T21:23:05.351Z"
   },
   {
    "duration": 372,
    "start_time": "2022-08-04T21:23:05.364Z"
   },
   {
    "duration": 2,
    "start_time": "2022-08-04T21:23:05.738Z"
   },
   {
    "duration": 9,
    "start_time": "2022-08-04T21:23:05.742Z"
   },
   {
    "duration": 10,
    "start_time": "2022-08-04T21:23:05.752Z"
   },
   {
    "duration": 8,
    "start_time": "2022-08-04T21:23:05.764Z"
   },
   {
    "duration": 6,
    "start_time": "2022-08-04T21:23:05.774Z"
   },
   {
    "duration": 16,
    "start_time": "2022-08-04T21:23:05.781Z"
   },
   {
    "duration": 383,
    "start_time": "2022-08-04T21:23:05.799Z"
   },
   {
    "duration": 3,
    "start_time": "2022-08-04T21:23:06.184Z"
   },
   {
    "duration": 37,
    "start_time": "2022-08-04T21:23:06.188Z"
   },
   {
    "duration": 5,
    "start_time": "2022-08-04T21:23:06.227Z"
   },
   {
    "duration": 12,
    "start_time": "2022-08-04T21:23:06.234Z"
   },
   {
    "duration": 10,
    "start_time": "2022-08-04T21:23:06.248Z"
   },
   {
    "duration": 11,
    "start_time": "2022-08-04T21:23:06.260Z"
   },
   {
    "duration": 13,
    "start_time": "2022-08-04T21:23:06.273Z"
   },
   {
    "duration": 338,
    "start_time": "2022-08-04T21:23:06.287Z"
   },
   {
    "duration": 7,
    "start_time": "2022-08-04T21:24:24.423Z"
   },
   {
    "duration": 7,
    "start_time": "2022-08-04T21:24:49.029Z"
   },
   {
    "duration": 11,
    "start_time": "2022-08-04T21:25:05.613Z"
   },
   {
    "duration": 128,
    "start_time": "2022-08-04T21:26:31.167Z"
   },
   {
    "duration": 48,
    "start_time": "2022-08-04T21:26:46.025Z"
   },
   {
    "duration": 6,
    "start_time": "2022-08-04T21:27:08.031Z"
   },
   {
    "duration": 10,
    "start_time": "2022-08-04T21:27:11.411Z"
   },
   {
    "duration": 91,
    "start_time": "2022-08-04T21:27:17.147Z"
   },
   {
    "duration": 26,
    "start_time": "2022-08-04T21:27:17.241Z"
   },
   {
    "duration": 40,
    "start_time": "2022-08-04T21:27:17.269Z"
   },
   {
    "duration": 33,
    "start_time": "2022-08-04T21:27:17.311Z"
   },
   {
    "duration": 14,
    "start_time": "2022-08-04T21:27:17.346Z"
   },
   {
    "duration": 59,
    "start_time": "2022-08-04T21:27:17.363Z"
   },
   {
    "duration": 4,
    "start_time": "2022-08-04T21:27:17.429Z"
   },
   {
    "duration": 13,
    "start_time": "2022-08-04T21:27:17.434Z"
   },
   {
    "duration": 4,
    "start_time": "2022-08-04T21:27:17.448Z"
   },
   {
    "duration": 7,
    "start_time": "2022-08-04T21:27:17.455Z"
   },
   {
    "duration": 5,
    "start_time": "2022-08-04T21:27:17.463Z"
   },
   {
    "duration": 51,
    "start_time": "2022-08-04T21:27:17.470Z"
   },
   {
    "duration": 9,
    "start_time": "2022-08-04T21:27:17.526Z"
   },
   {
    "duration": 4,
    "start_time": "2022-08-04T21:27:17.537Z"
   },
   {
    "duration": 19,
    "start_time": "2022-08-04T21:27:17.542Z"
   },
   {
    "duration": 16,
    "start_time": "2022-08-04T21:27:17.563Z"
   },
   {
    "duration": 40,
    "start_time": "2022-08-04T21:27:17.580Z"
   },
   {
    "duration": 7,
    "start_time": "2022-08-04T21:27:17.626Z"
   },
   {
    "duration": 14,
    "start_time": "2022-08-04T21:27:17.634Z"
   },
   {
    "duration": 6,
    "start_time": "2022-08-04T21:27:17.650Z"
   },
   {
    "duration": 6,
    "start_time": "2022-08-04T21:27:17.658Z"
   },
   {
    "duration": 12,
    "start_time": "2022-08-04T21:27:17.665Z"
   },
   {
    "duration": 3,
    "start_time": "2022-08-04T21:27:17.678Z"
   },
   {
    "duration": 1649,
    "start_time": "2022-08-04T21:27:17.683Z"
   },
   {
    "duration": 0,
    "start_time": "2022-08-04T21:27:19.334Z"
   },
   {
    "duration": 0,
    "start_time": "2022-08-04T21:27:19.336Z"
   },
   {
    "duration": 0,
    "start_time": "2022-08-04T21:27:19.337Z"
   },
   {
    "duration": 0,
    "start_time": "2022-08-04T21:27:19.338Z"
   },
   {
    "duration": 0,
    "start_time": "2022-08-04T21:27:19.340Z"
   },
   {
    "duration": 0,
    "start_time": "2022-08-04T21:27:19.341Z"
   },
   {
    "duration": 0,
    "start_time": "2022-08-04T21:27:19.342Z"
   },
   {
    "duration": 0,
    "start_time": "2022-08-04T21:27:19.343Z"
   },
   {
    "duration": 0,
    "start_time": "2022-08-04T21:27:19.344Z"
   },
   {
    "duration": 0,
    "start_time": "2022-08-04T21:27:19.345Z"
   },
   {
    "duration": 0,
    "start_time": "2022-08-04T21:27:19.346Z"
   },
   {
    "duration": 0,
    "start_time": "2022-08-04T21:27:19.347Z"
   },
   {
    "duration": 0,
    "start_time": "2022-08-04T21:27:19.349Z"
   },
   {
    "duration": 0,
    "start_time": "2022-08-04T21:27:19.350Z"
   },
   {
    "duration": 0,
    "start_time": "2022-08-04T21:27:19.351Z"
   },
   {
    "duration": 0,
    "start_time": "2022-08-04T21:27:19.352Z"
   },
   {
    "duration": 0,
    "start_time": "2022-08-04T21:27:19.353Z"
   },
   {
    "duration": 0,
    "start_time": "2022-08-04T21:27:19.354Z"
   },
   {
    "duration": 0,
    "start_time": "2022-08-04T21:27:19.355Z"
   },
   {
    "duration": 0,
    "start_time": "2022-08-04T21:27:19.356Z"
   },
   {
    "duration": 0,
    "start_time": "2022-08-04T21:27:19.357Z"
   },
   {
    "duration": 0,
    "start_time": "2022-08-04T21:27:19.358Z"
   },
   {
    "duration": 0,
    "start_time": "2022-08-04T21:27:19.359Z"
   },
   {
    "duration": 0,
    "start_time": "2022-08-04T21:27:19.359Z"
   },
   {
    "duration": 0,
    "start_time": "2022-08-04T21:27:19.361Z"
   },
   {
    "duration": 0,
    "start_time": "2022-08-04T21:27:19.361Z"
   },
   {
    "duration": 0,
    "start_time": "2022-08-04T21:27:19.362Z"
   },
   {
    "duration": 0,
    "start_time": "2022-08-04T21:27:19.363Z"
   },
   {
    "duration": 0,
    "start_time": "2022-08-04T21:27:19.364Z"
   },
   {
    "duration": 844,
    "start_time": "2022-08-04T21:28:55.954Z"
   },
   {
    "duration": 64,
    "start_time": "2022-08-04T21:29:18.406Z"
   },
   {
    "duration": 3,
    "start_time": "2022-08-04T21:29:23.896Z"
   },
   {
    "duration": 8,
    "start_time": "2022-08-04T21:29:24.680Z"
   },
   {
    "duration": 9,
    "start_time": "2022-08-04T21:29:25.709Z"
   },
   {
    "duration": 4,
    "start_time": "2022-08-04T21:29:28.456Z"
   },
   {
    "duration": 9,
    "start_time": "2022-08-04T21:29:30.206Z"
   },
   {
    "duration": 49,
    "start_time": "2022-08-04T21:30:52.772Z"
   },
   {
    "duration": 50,
    "start_time": "2022-08-04T21:36:57.387Z"
   },
   {
    "duration": 40,
    "start_time": "2022-08-04T21:37:41.282Z"
   },
   {
    "duration": 33,
    "start_time": "2022-08-04T21:38:23.425Z"
   },
   {
    "duration": 29,
    "start_time": "2022-08-04T21:38:51.351Z"
   },
   {
    "duration": 47,
    "start_time": "2022-08-04T21:38:54.258Z"
   },
   {
    "duration": 46,
    "start_time": "2022-08-04T21:41:21.562Z"
   },
   {
    "duration": 38,
    "start_time": "2022-08-04T21:42:36.544Z"
   },
   {
    "duration": 76,
    "start_time": "2022-08-04T21:42:48.075Z"
   },
   {
    "duration": 15,
    "start_time": "2022-08-04T21:42:48.153Z"
   },
   {
    "duration": 47,
    "start_time": "2022-08-04T21:42:48.169Z"
   },
   {
    "duration": 11,
    "start_time": "2022-08-04T21:42:48.222Z"
   },
   {
    "duration": 7,
    "start_time": "2022-08-04T21:42:48.235Z"
   },
   {
    "duration": 35,
    "start_time": "2022-08-04T21:42:48.244Z"
   },
   {
    "duration": 3,
    "start_time": "2022-08-04T21:42:48.281Z"
   },
   {
    "duration": 11,
    "start_time": "2022-08-04T21:42:48.309Z"
   },
   {
    "duration": 10,
    "start_time": "2022-08-04T21:42:48.325Z"
   },
   {
    "duration": 9,
    "start_time": "2022-08-04T21:42:48.337Z"
   },
   {
    "duration": 7,
    "start_time": "2022-08-04T21:42:48.347Z"
   },
   {
    "duration": 35,
    "start_time": "2022-08-04T21:42:48.355Z"
   },
   {
    "duration": 36,
    "start_time": "2022-08-04T21:42:48.391Z"
   },
   {
    "duration": 5,
    "start_time": "2022-08-04T21:42:48.428Z"
   },
   {
    "duration": 19,
    "start_time": "2022-08-04T21:42:48.435Z"
   },
   {
    "duration": 19,
    "start_time": "2022-08-04T21:42:48.456Z"
   },
   {
    "duration": 44,
    "start_time": "2022-08-04T21:42:48.477Z"
   },
   {
    "duration": 4,
    "start_time": "2022-08-04T21:42:48.523Z"
   },
   {
    "duration": 18,
    "start_time": "2022-08-04T21:42:48.529Z"
   },
   {
    "duration": 11,
    "start_time": "2022-08-04T21:42:48.548Z"
   },
   {
    "duration": 6,
    "start_time": "2022-08-04T21:42:48.561Z"
   },
   {
    "duration": 14,
    "start_time": "2022-08-04T21:42:48.569Z"
   },
   {
    "duration": 10,
    "start_time": "2022-08-04T21:42:48.585Z"
   },
   {
    "duration": 58,
    "start_time": "2022-08-04T21:42:48.596Z"
   },
   {
    "duration": 3,
    "start_time": "2022-08-04T21:42:48.656Z"
   },
   {
    "duration": 9,
    "start_time": "2022-08-04T21:42:48.661Z"
   },
   {
    "duration": 5,
    "start_time": "2022-08-04T21:42:48.672Z"
   },
   {
    "duration": 34,
    "start_time": "2022-08-04T21:42:48.682Z"
   },
   {
    "duration": 10,
    "start_time": "2022-08-04T21:42:48.726Z"
   },
   {
    "duration": 9,
    "start_time": "2022-08-04T21:42:48.737Z"
   },
   {
    "duration": 377,
    "start_time": "2022-08-04T21:42:48.748Z"
   },
   {
    "duration": 3,
    "start_time": "2022-08-04T21:42:49.127Z"
   },
   {
    "duration": 40,
    "start_time": "2022-08-04T21:42:49.131Z"
   },
   {
    "duration": 0,
    "start_time": "2022-08-04T21:42:49.173Z"
   },
   {
    "duration": 0,
    "start_time": "2022-08-04T21:42:49.174Z"
   },
   {
    "duration": 0,
    "start_time": "2022-08-04T21:42:49.175Z"
   },
   {
    "duration": 0,
    "start_time": "2022-08-04T21:42:49.177Z"
   },
   {
    "duration": 0,
    "start_time": "2022-08-04T21:42:49.178Z"
   },
   {
    "duration": 0,
    "start_time": "2022-08-04T21:42:49.179Z"
   },
   {
    "duration": 1,
    "start_time": "2022-08-04T21:42:49.180Z"
   },
   {
    "duration": 0,
    "start_time": "2022-08-04T21:42:49.182Z"
   },
   {
    "duration": 0,
    "start_time": "2022-08-04T21:42:49.183Z"
   },
   {
    "duration": 0,
    "start_time": "2022-08-04T21:42:49.184Z"
   },
   {
    "duration": 0,
    "start_time": "2022-08-04T21:42:49.185Z"
   },
   {
    "duration": 0,
    "start_time": "2022-08-04T21:42:49.186Z"
   },
   {
    "duration": 0,
    "start_time": "2022-08-04T21:42:49.187Z"
   },
   {
    "duration": 0,
    "start_time": "2022-08-04T21:42:49.188Z"
   },
   {
    "duration": 0,
    "start_time": "2022-08-04T21:42:49.189Z"
   },
   {
    "duration": 0,
    "start_time": "2022-08-04T21:42:49.210Z"
   },
   {
    "duration": 0,
    "start_time": "2022-08-04T21:42:49.218Z"
   },
   {
    "duration": 0,
    "start_time": "2022-08-04T21:42:49.219Z"
   },
   {
    "duration": 0,
    "start_time": "2022-08-04T21:42:49.219Z"
   },
   {
    "duration": 0,
    "start_time": "2022-08-04T21:42:49.220Z"
   },
   {
    "duration": 0,
    "start_time": "2022-08-04T21:42:49.221Z"
   },
   {
    "duration": 9,
    "start_time": "2022-08-04T21:43:58.623Z"
   },
   {
    "duration": 9,
    "start_time": "2022-08-04T21:44:18.430Z"
   },
   {
    "duration": 81,
    "start_time": "2022-08-04T21:47:52.122Z"
   },
   {
    "duration": 45,
    "start_time": "2022-08-04T21:51:17.636Z"
   },
   {
    "duration": 51,
    "start_time": "2022-08-04T21:51:39.926Z"
   },
   {
    "duration": 58,
    "start_time": "2022-08-04T21:51:56.028Z"
   },
   {
    "duration": 87,
    "start_time": "2022-08-04T21:52:25.332Z"
   },
   {
    "duration": 76,
    "start_time": "2022-08-04T21:53:09.727Z"
   },
   {
    "duration": 89,
    "start_time": "2022-08-04T21:53:36.869Z"
   },
   {
    "duration": 88,
    "start_time": "2022-08-04T21:54:26.055Z"
   },
   {
    "duration": 89,
    "start_time": "2022-08-04T21:55:20.973Z"
   },
   {
    "duration": 42,
    "start_time": "2022-08-04T21:55:47.345Z"
   },
   {
    "duration": 11,
    "start_time": "2022-08-04T21:58:02.034Z"
   },
   {
    "duration": 4,
    "start_time": "2022-08-04T21:58:14.029Z"
   },
   {
    "duration": 9,
    "start_time": "2022-08-04T21:58:15.135Z"
   },
   {
    "duration": 78,
    "start_time": "2022-08-04T21:58:32.258Z"
   },
   {
    "duration": 14,
    "start_time": "2022-08-04T21:58:32.338Z"
   },
   {
    "duration": 20,
    "start_time": "2022-08-04T21:58:32.353Z"
   },
   {
    "duration": 11,
    "start_time": "2022-08-04T21:58:32.375Z"
   },
   {
    "duration": 25,
    "start_time": "2022-08-04T21:58:32.387Z"
   },
   {
    "duration": 42,
    "start_time": "2022-08-04T21:58:32.418Z"
   },
   {
    "duration": 3,
    "start_time": "2022-08-04T21:58:32.462Z"
   },
   {
    "duration": 11,
    "start_time": "2022-08-04T21:58:32.467Z"
   },
   {
    "duration": 5,
    "start_time": "2022-08-04T21:58:32.479Z"
   },
   {
    "duration": 24,
    "start_time": "2022-08-04T21:58:32.486Z"
   },
   {
    "duration": 8,
    "start_time": "2022-08-04T21:58:32.512Z"
   },
   {
    "duration": 45,
    "start_time": "2022-08-04T21:58:32.521Z"
   },
   {
    "duration": 10,
    "start_time": "2022-08-04T21:58:32.568Z"
   },
   {
    "duration": 7,
    "start_time": "2022-08-04T21:58:32.580Z"
   },
   {
    "duration": 30,
    "start_time": "2022-08-04T21:58:32.589Z"
   },
   {
    "duration": 26,
    "start_time": "2022-08-04T21:58:32.622Z"
   },
   {
    "duration": 17,
    "start_time": "2022-08-04T21:58:32.650Z"
   },
   {
    "duration": 4,
    "start_time": "2022-08-04T21:58:32.671Z"
   },
   {
    "duration": 15,
    "start_time": "2022-08-04T21:58:32.677Z"
   },
   {
    "duration": 31,
    "start_time": "2022-08-04T21:58:32.693Z"
   },
   {
    "duration": 10,
    "start_time": "2022-08-04T21:58:32.728Z"
   },
   {
    "duration": 17,
    "start_time": "2022-08-04T21:58:32.739Z"
   },
   {
    "duration": 5,
    "start_time": "2022-08-04T21:58:32.757Z"
   },
   {
    "duration": 6,
    "start_time": "2022-08-04T21:58:32.764Z"
   },
   {
    "duration": 14,
    "start_time": "2022-08-04T21:58:32.771Z"
   },
   {
    "duration": 0,
    "start_time": "2022-08-04T21:58:32.787Z"
   },
   {
    "duration": 0,
    "start_time": "2022-08-04T21:58:32.789Z"
   },
   {
    "duration": 0,
    "start_time": "2022-08-04T21:58:32.790Z"
   },
   {
    "duration": 0,
    "start_time": "2022-08-04T21:58:32.792Z"
   },
   {
    "duration": 0,
    "start_time": "2022-08-04T21:58:32.793Z"
   },
   {
    "duration": 0,
    "start_time": "2022-08-04T21:58:32.794Z"
   },
   {
    "duration": 0,
    "start_time": "2022-08-04T21:58:32.795Z"
   },
   {
    "duration": 0,
    "start_time": "2022-08-04T21:58:32.810Z"
   },
   {
    "duration": 0,
    "start_time": "2022-08-04T21:58:32.811Z"
   },
   {
    "duration": 0,
    "start_time": "2022-08-04T21:58:32.811Z"
   },
   {
    "duration": 0,
    "start_time": "2022-08-04T21:58:32.814Z"
   },
   {
    "duration": 0,
    "start_time": "2022-08-04T21:58:32.815Z"
   },
   {
    "duration": 0,
    "start_time": "2022-08-04T21:58:32.815Z"
   },
   {
    "duration": 0,
    "start_time": "2022-08-04T21:58:32.816Z"
   },
   {
    "duration": 0,
    "start_time": "2022-08-04T21:58:32.816Z"
   },
   {
    "duration": 0,
    "start_time": "2022-08-04T21:58:32.817Z"
   },
   {
    "duration": 0,
    "start_time": "2022-08-04T21:58:32.817Z"
   },
   {
    "duration": 0,
    "start_time": "2022-08-04T21:58:32.818Z"
   },
   {
    "duration": 0,
    "start_time": "2022-08-04T21:58:32.819Z"
   },
   {
    "duration": 0,
    "start_time": "2022-08-04T21:58:32.819Z"
   },
   {
    "duration": 0,
    "start_time": "2022-08-04T21:58:32.820Z"
   },
   {
    "duration": 0,
    "start_time": "2022-08-04T21:58:32.823Z"
   },
   {
    "duration": 0,
    "start_time": "2022-08-04T21:58:32.824Z"
   },
   {
    "duration": 0,
    "start_time": "2022-08-04T21:58:32.825Z"
   },
   {
    "duration": 0,
    "start_time": "2022-08-04T21:58:32.826Z"
   },
   {
    "duration": 0,
    "start_time": "2022-08-04T21:58:32.827Z"
   },
   {
    "duration": 0,
    "start_time": "2022-08-04T21:58:32.828Z"
   },
   {
    "duration": 0,
    "start_time": "2022-08-04T21:58:32.829Z"
   },
   {
    "duration": 0,
    "start_time": "2022-08-04T21:58:32.829Z"
   },
   {
    "duration": 0,
    "start_time": "2022-08-04T21:58:32.830Z"
   },
   {
    "duration": 7,
    "start_time": "2022-08-04T21:58:51.078Z"
   },
   {
    "duration": 5,
    "start_time": "2022-08-04T21:58:59.532Z"
   },
   {
    "duration": 7,
    "start_time": "2022-08-04T21:59:05.580Z"
   },
   {
    "duration": 4,
    "start_time": "2022-08-04T21:59:11.232Z"
   },
   {
    "duration": 9,
    "start_time": "2022-08-04T21:59:11.867Z"
   },
   {
    "duration": 42,
    "start_time": "2022-08-04T21:59:18.772Z"
   },
   {
    "duration": 4,
    "start_time": "2022-08-04T21:59:20.882Z"
   },
   {
    "duration": 34,
    "start_time": "2022-08-04T21:59:21.326Z"
   },
   {
    "duration": 41,
    "start_time": "2022-08-04T22:00:39.132Z"
   },
   {
    "duration": 77,
    "start_time": "2022-08-04T22:01:45.990Z"
   },
   {
    "duration": 70,
    "start_time": "2022-08-04T22:02:10.050Z"
   },
   {
    "duration": 18,
    "start_time": "2022-08-04T22:02:10.122Z"
   },
   {
    "duration": 15,
    "start_time": "2022-08-04T22:02:10.142Z"
   },
   {
    "duration": 13,
    "start_time": "2022-08-04T22:02:10.159Z"
   },
   {
    "duration": 40,
    "start_time": "2022-08-04T22:02:10.174Z"
   },
   {
    "duration": 39,
    "start_time": "2022-08-04T22:02:10.216Z"
   },
   {
    "duration": 4,
    "start_time": "2022-08-04T22:02:10.256Z"
   },
   {
    "duration": 15,
    "start_time": "2022-08-04T22:02:10.262Z"
   },
   {
    "duration": 5,
    "start_time": "2022-08-04T22:02:10.309Z"
   },
   {
    "duration": 10,
    "start_time": "2022-08-04T22:02:10.317Z"
   },
   {
    "duration": 7,
    "start_time": "2022-08-04T22:02:10.329Z"
   },
   {
    "duration": 36,
    "start_time": "2022-08-04T22:02:10.337Z"
   },
   {
    "duration": 35,
    "start_time": "2022-08-04T22:02:10.375Z"
   },
   {
    "duration": 5,
    "start_time": "2022-08-04T22:02:10.412Z"
   },
   {
    "duration": 20,
    "start_time": "2022-08-04T22:02:10.418Z"
   },
   {
    "duration": 17,
    "start_time": "2022-08-04T22:02:10.440Z"
   },
   {
    "duration": 12,
    "start_time": "2022-08-04T22:02:10.458Z"
   },
   {
    "duration": 4,
    "start_time": "2022-08-04T22:02:10.471Z"
   },
   {
    "duration": 39,
    "start_time": "2022-08-04T22:02:10.477Z"
   },
   {
    "duration": 8,
    "start_time": "2022-08-04T22:02:10.517Z"
   },
   {
    "duration": 14,
    "start_time": "2022-08-04T22:02:10.526Z"
   },
   {
    "duration": 13,
    "start_time": "2022-08-04T22:02:10.541Z"
   },
   {
    "duration": 6,
    "start_time": "2022-08-04T22:02:10.556Z"
   },
   {
    "duration": 81,
    "start_time": "2022-08-04T22:02:10.563Z"
   },
   {
    "duration": 0,
    "start_time": "2022-08-04T22:02:10.646Z"
   },
   {
    "duration": 0,
    "start_time": "2022-08-04T22:02:10.647Z"
   },
   {
    "duration": 0,
    "start_time": "2022-08-04T22:02:10.648Z"
   },
   {
    "duration": 0,
    "start_time": "2022-08-04T22:02:10.649Z"
   },
   {
    "duration": 0,
    "start_time": "2022-08-04T22:02:10.650Z"
   },
   {
    "duration": 0,
    "start_time": "2022-08-04T22:02:10.652Z"
   },
   {
    "duration": 0,
    "start_time": "2022-08-04T22:02:10.653Z"
   },
   {
    "duration": 0,
    "start_time": "2022-08-04T22:02:10.654Z"
   },
   {
    "duration": 0,
    "start_time": "2022-08-04T22:02:10.655Z"
   },
   {
    "duration": 0,
    "start_time": "2022-08-04T22:02:10.657Z"
   },
   {
    "duration": 0,
    "start_time": "2022-08-04T22:02:10.658Z"
   },
   {
    "duration": 0,
    "start_time": "2022-08-04T22:02:10.659Z"
   },
   {
    "duration": 0,
    "start_time": "2022-08-04T22:02:10.660Z"
   },
   {
    "duration": 0,
    "start_time": "2022-08-04T22:02:10.661Z"
   },
   {
    "duration": 0,
    "start_time": "2022-08-04T22:02:10.662Z"
   },
   {
    "duration": 0,
    "start_time": "2022-08-04T22:02:10.663Z"
   },
   {
    "duration": 0,
    "start_time": "2022-08-04T22:02:10.664Z"
   },
   {
    "duration": 0,
    "start_time": "2022-08-04T22:02:10.665Z"
   },
   {
    "duration": 0,
    "start_time": "2022-08-04T22:02:10.666Z"
   },
   {
    "duration": 0,
    "start_time": "2022-08-04T22:02:10.667Z"
   },
   {
    "duration": 0,
    "start_time": "2022-08-04T22:02:10.709Z"
   },
   {
    "duration": 0,
    "start_time": "2022-08-04T22:02:10.710Z"
   },
   {
    "duration": 0,
    "start_time": "2022-08-04T22:02:10.711Z"
   },
   {
    "duration": 0,
    "start_time": "2022-08-04T22:02:10.712Z"
   },
   {
    "duration": 0,
    "start_time": "2022-08-04T22:02:10.713Z"
   },
   {
    "duration": 0,
    "start_time": "2022-08-04T22:02:10.714Z"
   },
   {
    "duration": 0,
    "start_time": "2022-08-04T22:02:10.715Z"
   },
   {
    "duration": 0,
    "start_time": "2022-08-04T22:02:10.716Z"
   },
   {
    "duration": 0,
    "start_time": "2022-08-04T22:02:10.717Z"
   },
   {
    "duration": 0,
    "start_time": "2022-08-04T22:02:10.718Z"
   },
   {
    "duration": 0,
    "start_time": "2022-08-04T22:02:10.719Z"
   },
   {
    "duration": 33,
    "start_time": "2022-08-04T22:02:33.928Z"
   },
   {
    "duration": 34,
    "start_time": "2022-08-04T22:02:37.430Z"
   },
   {
    "duration": 44,
    "start_time": "2022-08-04T22:03:48.944Z"
   },
   {
    "duration": 35,
    "start_time": "2022-08-04T22:04:33.857Z"
   },
   {
    "duration": 4,
    "start_time": "2022-08-04T22:05:13.157Z"
   },
   {
    "duration": 60,
    "start_time": "2022-08-04T22:05:27.791Z"
   },
   {
    "duration": 4,
    "start_time": "2022-08-04T22:05:36.227Z"
   },
   {
    "duration": 7,
    "start_time": "2022-08-04T22:05:55.125Z"
   },
   {
    "duration": 8,
    "start_time": "2022-08-04T22:06:08.256Z"
   },
   {
    "duration": 36,
    "start_time": "2022-08-04T22:06:24.722Z"
   },
   {
    "duration": 9,
    "start_time": "2022-08-04T22:06:52.308Z"
   },
   {
    "duration": 33,
    "start_time": "2022-08-04T22:06:53.427Z"
   },
   {
    "duration": 67,
    "start_time": "2022-08-04T22:07:16.043Z"
   },
   {
    "duration": 91,
    "start_time": "2022-08-04T22:09:25.976Z"
   },
   {
    "duration": 69,
    "start_time": "2022-08-04T22:09:40.940Z"
   },
   {
    "duration": 15,
    "start_time": "2022-08-04T22:09:41.011Z"
   },
   {
    "duration": 18,
    "start_time": "2022-08-04T22:09:41.028Z"
   },
   {
    "duration": 11,
    "start_time": "2022-08-04T22:09:41.049Z"
   },
   {
    "duration": 7,
    "start_time": "2022-08-04T22:09:41.062Z"
   },
   {
    "duration": 73,
    "start_time": "2022-08-04T22:09:41.071Z"
   },
   {
    "duration": 4,
    "start_time": "2022-08-04T22:09:41.146Z"
   },
   {
    "duration": 12,
    "start_time": "2022-08-04T22:09:41.151Z"
   },
   {
    "duration": 5,
    "start_time": "2022-08-04T22:09:41.165Z"
   },
   {
    "duration": 40,
    "start_time": "2022-08-04T22:09:41.173Z"
   },
   {
    "duration": 6,
    "start_time": "2022-08-04T22:09:41.214Z"
   },
   {
    "duration": 35,
    "start_time": "2022-08-04T22:09:41.221Z"
   },
   {
    "duration": 10,
    "start_time": "2022-08-04T22:09:41.258Z"
   },
   {
    "duration": 3,
    "start_time": "2022-08-04T22:09:41.269Z"
   },
   {
    "duration": 47,
    "start_time": "2022-08-04T22:09:41.274Z"
   },
   {
    "duration": 17,
    "start_time": "2022-08-04T22:09:41.323Z"
   },
   {
    "duration": 11,
    "start_time": "2022-08-04T22:09:41.342Z"
   },
   {
    "duration": 13,
    "start_time": "2022-08-04T22:09:41.354Z"
   },
   {
    "duration": 12,
    "start_time": "2022-08-04T22:09:41.370Z"
   },
   {
    "duration": 5,
    "start_time": "2022-08-04T22:09:41.383Z"
   },
   {
    "duration": 20,
    "start_time": "2022-08-04T22:09:41.390Z"
   },
   {
    "duration": 16,
    "start_time": "2022-08-04T22:09:41.411Z"
   },
   {
    "duration": 3,
    "start_time": "2022-08-04T22:09:41.428Z"
   },
   {
    "duration": 10,
    "start_time": "2022-08-04T22:09:41.433Z"
   },
   {
    "duration": 91,
    "start_time": "2022-08-04T22:09:41.445Z"
   },
   {
    "duration": 0,
    "start_time": "2022-08-04T22:09:41.539Z"
   },
   {
    "duration": 0,
    "start_time": "2022-08-04T22:09:41.540Z"
   },
   {
    "duration": 0,
    "start_time": "2022-08-04T22:09:41.542Z"
   },
   {
    "duration": 0,
    "start_time": "2022-08-04T22:09:41.543Z"
   },
   {
    "duration": 0,
    "start_time": "2022-08-04T22:09:41.545Z"
   },
   {
    "duration": 0,
    "start_time": "2022-08-04T22:09:41.546Z"
   },
   {
    "duration": 0,
    "start_time": "2022-08-04T22:09:41.548Z"
   },
   {
    "duration": 0,
    "start_time": "2022-08-04T22:09:41.549Z"
   },
   {
    "duration": 0,
    "start_time": "2022-08-04T22:09:41.551Z"
   },
   {
    "duration": 0,
    "start_time": "2022-08-04T22:09:41.552Z"
   },
   {
    "duration": 0,
    "start_time": "2022-08-04T22:09:41.554Z"
   },
   {
    "duration": 0,
    "start_time": "2022-08-04T22:09:41.555Z"
   },
   {
    "duration": 0,
    "start_time": "2022-08-04T22:09:41.556Z"
   },
   {
    "duration": 0,
    "start_time": "2022-08-04T22:09:41.558Z"
   },
   {
    "duration": 0,
    "start_time": "2022-08-04T22:09:41.560Z"
   },
   {
    "duration": 0,
    "start_time": "2022-08-04T22:09:41.561Z"
   },
   {
    "duration": 0,
    "start_time": "2022-08-04T22:09:41.562Z"
   },
   {
    "duration": 0,
    "start_time": "2022-08-04T22:09:41.564Z"
   },
   {
    "duration": 0,
    "start_time": "2022-08-04T22:09:41.565Z"
   },
   {
    "duration": 0,
    "start_time": "2022-08-04T22:09:41.566Z"
   },
   {
    "duration": 0,
    "start_time": "2022-08-04T22:09:41.566Z"
   },
   {
    "duration": 0,
    "start_time": "2022-08-04T22:09:41.566Z"
   },
   {
    "duration": 0,
    "start_time": "2022-08-04T22:09:41.567Z"
   },
   {
    "duration": 0,
    "start_time": "2022-08-04T22:09:41.567Z"
   },
   {
    "duration": 0,
    "start_time": "2022-08-04T22:09:41.568Z"
   },
   {
    "duration": 0,
    "start_time": "2022-08-04T22:09:41.608Z"
   },
   {
    "duration": 0,
    "start_time": "2022-08-04T22:09:41.610Z"
   },
   {
    "duration": 0,
    "start_time": "2022-08-04T22:09:41.611Z"
   },
   {
    "duration": 0,
    "start_time": "2022-08-04T22:09:41.612Z"
   },
   {
    "duration": 0,
    "start_time": "2022-08-04T22:09:41.613Z"
   },
   {
    "duration": 70,
    "start_time": "2022-08-04T22:10:24.615Z"
   },
   {
    "duration": 15,
    "start_time": "2022-08-04T22:10:24.888Z"
   },
   {
    "duration": 17,
    "start_time": "2022-08-04T22:10:25.189Z"
   },
   {
    "duration": 14,
    "start_time": "2022-08-04T22:10:25.791Z"
   },
   {
    "duration": 8,
    "start_time": "2022-08-04T22:10:25.940Z"
   },
   {
    "duration": 38,
    "start_time": "2022-08-04T22:10:26.254Z"
   },
   {
    "duration": 4,
    "start_time": "2022-08-04T22:10:26.724Z"
   },
   {
    "duration": 7,
    "start_time": "2022-08-04T22:10:27.033Z"
   },
   {
    "duration": 4,
    "start_time": "2022-08-04T22:10:27.528Z"
   },
   {
    "duration": 6,
    "start_time": "2022-08-04T22:10:27.851Z"
   },
   {
    "duration": 5,
    "start_time": "2022-08-04T22:10:28.177Z"
   },
   {
    "duration": 34,
    "start_time": "2022-08-04T22:10:28.692Z"
   },
   {
    "duration": 9,
    "start_time": "2022-08-04T22:10:29.049Z"
   },
   {
    "duration": 3,
    "start_time": "2022-08-04T22:10:29.584Z"
   },
   {
    "duration": 16,
    "start_time": "2022-08-04T22:10:30.132Z"
   },
   {
    "duration": 20,
    "start_time": "2022-08-04T22:10:30.318Z"
   },
   {
    "duration": 11,
    "start_time": "2022-08-04T22:10:30.719Z"
   },
   {
    "duration": 3,
    "start_time": "2022-08-04T22:10:31.270Z"
   },
   {
    "duration": 10,
    "start_time": "2022-08-04T22:10:31.450Z"
   },
   {
    "duration": 6,
    "start_time": "2022-08-04T22:10:31.844Z"
   },
   {
    "duration": 4,
    "start_time": "2022-08-04T22:10:32.479Z"
   },
   {
    "duration": 8,
    "start_time": "2022-08-04T22:10:32.920Z"
   },
   {
    "duration": 3,
    "start_time": "2022-08-04T22:10:34.522Z"
   },
   {
    "duration": 10,
    "start_time": "2022-08-04T22:10:35.834Z"
   },
   {
    "duration": 74,
    "start_time": "2022-08-04T22:10:36.451Z"
   },
   {
    "duration": 3,
    "start_time": "2022-08-04T22:10:38.031Z"
   },
   {
    "duration": 55,
    "start_time": "2022-08-04T22:20:40.016Z"
   },
   {
    "duration": 41,
    "start_time": "2022-08-04T22:21:06.868Z"
   },
   {
    "duration": 12,
    "start_time": "2022-08-04T22:24:35.317Z"
   },
   {
    "duration": 31,
    "start_time": "2022-08-04T22:24:42.415Z"
   },
   {
    "duration": 71,
    "start_time": "2022-08-04T22:24:55.188Z"
   },
   {
    "duration": 17,
    "start_time": "2022-08-04T22:24:55.261Z"
   },
   {
    "duration": 37,
    "start_time": "2022-08-04T22:24:55.280Z"
   },
   {
    "duration": 11,
    "start_time": "2022-08-04T22:24:55.319Z"
   },
   {
    "duration": 11,
    "start_time": "2022-08-04T22:24:55.332Z"
   },
   {
    "duration": 71,
    "start_time": "2022-08-04T22:24:55.345Z"
   },
   {
    "duration": 3,
    "start_time": "2022-08-04T22:24:55.418Z"
   },
   {
    "duration": 12,
    "start_time": "2022-08-04T22:24:55.423Z"
   },
   {
    "duration": 5,
    "start_time": "2022-08-04T22:24:55.437Z"
   },
   {
    "duration": 14,
    "start_time": "2022-08-04T22:24:55.445Z"
   },
   {
    "duration": 8,
    "start_time": "2022-08-04T22:24:55.461Z"
   },
   {
    "duration": 77,
    "start_time": "2022-08-04T22:24:55.470Z"
   },
   {
    "duration": 11,
    "start_time": "2022-08-04T22:24:55.549Z"
   },
   {
    "duration": 6,
    "start_time": "2022-08-04T22:24:55.562Z"
   },
   {
    "duration": 19,
    "start_time": "2022-08-04T22:24:55.570Z"
   },
   {
    "duration": 18,
    "start_time": "2022-08-04T22:24:55.610Z"
   },
   {
    "duration": 12,
    "start_time": "2022-08-04T22:24:55.630Z"
   },
   {
    "duration": 6,
    "start_time": "2022-08-04T22:24:55.644Z"
   },
   {
    "duration": 15,
    "start_time": "2022-08-04T22:24:55.652Z"
   },
   {
    "duration": 6,
    "start_time": "2022-08-04T22:24:55.669Z"
   },
   {
    "duration": 32,
    "start_time": "2022-08-04T22:24:55.677Z"
   },
   {
    "duration": 15,
    "start_time": "2022-08-04T22:24:55.711Z"
   },
   {
    "duration": 6,
    "start_time": "2022-08-04T22:24:55.728Z"
   },
   {
    "duration": 11,
    "start_time": "2022-08-04T22:24:55.736Z"
   },
   {
    "duration": 89,
    "start_time": "2022-08-04T22:24:55.749Z"
   },
   {
    "duration": 0,
    "start_time": "2022-08-04T22:24:55.840Z"
   },
   {
    "duration": 0,
    "start_time": "2022-08-04T22:24:55.841Z"
   },
   {
    "duration": 0,
    "start_time": "2022-08-04T22:24:55.842Z"
   },
   {
    "duration": 0,
    "start_time": "2022-08-04T22:24:55.843Z"
   },
   {
    "duration": 0,
    "start_time": "2022-08-04T22:24:55.845Z"
   },
   {
    "duration": 0,
    "start_time": "2022-08-04T22:24:55.846Z"
   },
   {
    "duration": 0,
    "start_time": "2022-08-04T22:24:55.847Z"
   },
   {
    "duration": 0,
    "start_time": "2022-08-04T22:24:55.848Z"
   },
   {
    "duration": 0,
    "start_time": "2022-08-04T22:24:55.849Z"
   },
   {
    "duration": 0,
    "start_time": "2022-08-04T22:24:55.850Z"
   },
   {
    "duration": 0,
    "start_time": "2022-08-04T22:24:55.851Z"
   },
   {
    "duration": 0,
    "start_time": "2022-08-04T22:24:55.852Z"
   },
   {
    "duration": 0,
    "start_time": "2022-08-04T22:24:55.853Z"
   },
   {
    "duration": 0,
    "start_time": "2022-08-04T22:24:55.854Z"
   },
   {
    "duration": 0,
    "start_time": "2022-08-04T22:24:55.855Z"
   },
   {
    "duration": 0,
    "start_time": "2022-08-04T22:24:55.856Z"
   },
   {
    "duration": 0,
    "start_time": "2022-08-04T22:24:55.857Z"
   },
   {
    "duration": 0,
    "start_time": "2022-08-04T22:24:55.858Z"
   },
   {
    "duration": 0,
    "start_time": "2022-08-04T22:24:55.859Z"
   },
   {
    "duration": 0,
    "start_time": "2022-08-04T22:24:55.860Z"
   },
   {
    "duration": 0,
    "start_time": "2022-08-04T22:24:55.861Z"
   },
   {
    "duration": 0,
    "start_time": "2022-08-04T22:24:55.862Z"
   },
   {
    "duration": 0,
    "start_time": "2022-08-04T22:24:55.863Z"
   },
   {
    "duration": 0,
    "start_time": "2022-08-04T22:24:55.909Z"
   },
   {
    "duration": 0,
    "start_time": "2022-08-04T22:24:55.911Z"
   },
   {
    "duration": 0,
    "start_time": "2022-08-04T22:24:55.913Z"
   },
   {
    "duration": 0,
    "start_time": "2022-08-04T22:24:55.918Z"
   },
   {
    "duration": 0,
    "start_time": "2022-08-04T22:24:55.920Z"
   },
   {
    "duration": 0,
    "start_time": "2022-08-04T22:24:55.921Z"
   },
   {
    "duration": 0,
    "start_time": "2022-08-04T22:24:55.922Z"
   },
   {
    "duration": 31,
    "start_time": "2022-08-04T22:25:03.933Z"
   },
   {
    "duration": 42,
    "start_time": "2022-08-04T22:25:47.018Z"
   },
   {
    "duration": 37,
    "start_time": "2022-08-04T22:26:00.465Z"
   },
   {
    "duration": 33,
    "start_time": "2022-08-04T22:26:14.277Z"
   },
   {
    "duration": 8,
    "start_time": "2022-08-04T22:28:03.447Z"
   },
   {
    "duration": 2,
    "start_time": "2022-08-04T22:28:05.831Z"
   },
   {
    "duration": 39,
    "start_time": "2022-08-04T22:28:08.219Z"
   },
   {
    "duration": 45,
    "start_time": "2022-08-05T06:43:47.310Z"
   },
   {
    "duration": 1548,
    "start_time": "2022-08-05T06:43:50.583Z"
   },
   {
    "duration": 19,
    "start_time": "2022-08-05T06:43:52.133Z"
   },
   {
    "duration": 15,
    "start_time": "2022-08-05T06:43:52.154Z"
   },
   {
    "duration": 10,
    "start_time": "2022-08-05T06:43:52.171Z"
   },
   {
    "duration": 11,
    "start_time": "2022-08-05T06:43:52.182Z"
   },
   {
    "duration": 33,
    "start_time": "2022-08-05T06:43:52.195Z"
   },
   {
    "duration": 4,
    "start_time": "2022-08-05T06:43:52.230Z"
   },
   {
    "duration": 13,
    "start_time": "2022-08-05T06:43:52.235Z"
   },
   {
    "duration": 5,
    "start_time": "2022-08-05T06:43:52.249Z"
   },
   {
    "duration": 9,
    "start_time": "2022-08-05T06:43:52.256Z"
   },
   {
    "duration": 28,
    "start_time": "2022-08-05T06:43:52.266Z"
   },
   {
    "duration": 38,
    "start_time": "2022-08-05T06:43:52.296Z"
   },
   {
    "duration": 9,
    "start_time": "2022-08-05T06:43:52.336Z"
   },
   {
    "duration": 11,
    "start_time": "2022-08-05T06:43:52.347Z"
   },
   {
    "duration": 38,
    "start_time": "2022-08-05T06:43:52.360Z"
   },
   {
    "duration": 16,
    "start_time": "2022-08-05T06:43:52.400Z"
   },
   {
    "duration": 12,
    "start_time": "2022-08-05T06:43:52.418Z"
   },
   {
    "duration": 6,
    "start_time": "2022-08-05T06:43:52.432Z"
   },
   {
    "duration": 13,
    "start_time": "2022-08-05T06:43:52.439Z"
   },
   {
    "duration": 37,
    "start_time": "2022-08-05T06:43:52.454Z"
   },
   {
    "duration": 4,
    "start_time": "2022-08-05T06:43:52.493Z"
   },
   {
    "duration": 14,
    "start_time": "2022-08-05T06:43:52.498Z"
   },
   {
    "duration": 6,
    "start_time": "2022-08-05T06:43:52.513Z"
   },
   {
    "duration": 19,
    "start_time": "2022-08-05T06:43:52.520Z"
   },
   {
    "duration": 77,
    "start_time": "2022-08-05T06:43:52.541Z"
   },
   {
    "duration": 0,
    "start_time": "2022-08-05T06:43:52.621Z"
   },
   {
    "duration": 0,
    "start_time": "2022-08-05T06:43:52.622Z"
   },
   {
    "duration": 0,
    "start_time": "2022-08-05T06:43:52.624Z"
   },
   {
    "duration": 0,
    "start_time": "2022-08-05T06:43:52.624Z"
   },
   {
    "duration": 0,
    "start_time": "2022-08-05T06:43:52.625Z"
   },
   {
    "duration": 0,
    "start_time": "2022-08-05T06:43:52.626Z"
   },
   {
    "duration": 0,
    "start_time": "2022-08-05T06:43:52.627Z"
   },
   {
    "duration": 0,
    "start_time": "2022-08-05T06:43:52.628Z"
   },
   {
    "duration": 0,
    "start_time": "2022-08-05T06:43:52.629Z"
   },
   {
    "duration": 0,
    "start_time": "2022-08-05T06:43:52.630Z"
   },
   {
    "duration": 0,
    "start_time": "2022-08-05T06:43:52.631Z"
   },
   {
    "duration": 0,
    "start_time": "2022-08-05T06:43:52.632Z"
   },
   {
    "duration": 0,
    "start_time": "2022-08-05T06:43:52.633Z"
   },
   {
    "duration": 0,
    "start_time": "2022-08-05T06:43:52.634Z"
   },
   {
    "duration": 0,
    "start_time": "2022-08-05T06:43:52.635Z"
   },
   {
    "duration": 0,
    "start_time": "2022-08-05T06:43:52.636Z"
   },
   {
    "duration": 0,
    "start_time": "2022-08-05T06:43:52.637Z"
   },
   {
    "duration": 0,
    "start_time": "2022-08-05T06:43:52.638Z"
   },
   {
    "duration": 0,
    "start_time": "2022-08-05T06:43:52.639Z"
   },
   {
    "duration": 0,
    "start_time": "2022-08-05T06:43:52.640Z"
   },
   {
    "duration": 0,
    "start_time": "2022-08-05T06:43:52.642Z"
   },
   {
    "duration": 0,
    "start_time": "2022-08-05T06:43:52.643Z"
   },
   {
    "duration": 0,
    "start_time": "2022-08-05T06:43:52.643Z"
   },
   {
    "duration": 0,
    "start_time": "2022-08-05T06:43:52.644Z"
   },
   {
    "duration": 0,
    "start_time": "2022-08-05T06:43:52.691Z"
   },
   {
    "duration": 0,
    "start_time": "2022-08-05T06:43:52.693Z"
   },
   {
    "duration": 0,
    "start_time": "2022-08-05T06:43:52.695Z"
   },
   {
    "duration": 0,
    "start_time": "2022-08-05T06:43:52.696Z"
   },
   {
    "duration": 0,
    "start_time": "2022-08-05T06:43:52.698Z"
   },
   {
    "duration": 0,
    "start_time": "2022-08-05T06:43:52.699Z"
   },
   {
    "duration": 0,
    "start_time": "2022-08-05T06:43:52.700Z"
   },
   {
    "duration": 9,
    "start_time": "2022-08-05T06:47:48.975Z"
   },
   {
    "duration": 12,
    "start_time": "2022-08-05T06:50:51.295Z"
   },
   {
    "duration": 69,
    "start_time": "2022-08-05T06:50:58.121Z"
   },
   {
    "duration": 15,
    "start_time": "2022-08-05T06:50:58.192Z"
   },
   {
    "duration": 15,
    "start_time": "2022-08-05T06:50:58.209Z"
   },
   {
    "duration": 10,
    "start_time": "2022-08-05T06:50:58.226Z"
   },
   {
    "duration": 6,
    "start_time": "2022-08-05T06:50:58.238Z"
   },
   {
    "duration": 69,
    "start_time": "2022-08-05T06:50:58.246Z"
   },
   {
    "duration": 4,
    "start_time": "2022-08-05T06:50:58.316Z"
   },
   {
    "duration": 12,
    "start_time": "2022-08-05T06:50:58.321Z"
   },
   {
    "duration": 4,
    "start_time": "2022-08-05T06:50:58.335Z"
   },
   {
    "duration": 7,
    "start_time": "2022-08-05T06:50:58.341Z"
   },
   {
    "duration": 6,
    "start_time": "2022-08-05T06:50:58.349Z"
   },
   {
    "duration": 33,
    "start_time": "2022-08-05T06:50:58.392Z"
   },
   {
    "duration": 9,
    "start_time": "2022-08-05T06:50:58.427Z"
   },
   {
    "duration": 6,
    "start_time": "2022-08-05T06:50:58.438Z"
   },
   {
    "duration": 25,
    "start_time": "2022-08-05T06:50:58.446Z"
   },
   {
    "duration": 19,
    "start_time": "2022-08-05T06:50:58.495Z"
   },
   {
    "duration": 12,
    "start_time": "2022-08-05T06:50:58.516Z"
   },
   {
    "duration": 6,
    "start_time": "2022-08-05T06:50:58.530Z"
   },
   {
    "duration": 13,
    "start_time": "2022-08-05T06:50:58.538Z"
   },
   {
    "duration": 7,
    "start_time": "2022-08-05T06:50:58.552Z"
   },
   {
    "duration": 32,
    "start_time": "2022-08-05T06:50:58.561Z"
   },
   {
    "duration": 12,
    "start_time": "2022-08-05T06:50:58.594Z"
   },
   {
    "duration": 2,
    "start_time": "2022-08-05T06:50:58.608Z"
   },
   {
    "duration": 20,
    "start_time": "2022-08-05T06:50:58.612Z"
   },
   {
    "duration": 12,
    "start_time": "2022-08-05T06:50:58.634Z"
   },
   {
    "duration": 0,
    "start_time": "2022-08-05T06:50:58.648Z"
   },
   {
    "duration": 0,
    "start_time": "2022-08-05T06:50:58.649Z"
   },
   {
    "duration": 0,
    "start_time": "2022-08-05T06:50:58.650Z"
   },
   {
    "duration": 0,
    "start_time": "2022-08-05T06:50:58.652Z"
   },
   {
    "duration": 0,
    "start_time": "2022-08-05T06:50:58.653Z"
   },
   {
    "duration": 0,
    "start_time": "2022-08-05T06:50:58.654Z"
   },
   {
    "duration": 0,
    "start_time": "2022-08-05T06:50:58.655Z"
   },
   {
    "duration": 0,
    "start_time": "2022-08-05T06:50:58.656Z"
   },
   {
    "duration": 0,
    "start_time": "2022-08-05T06:50:58.658Z"
   },
   {
    "duration": 0,
    "start_time": "2022-08-05T06:50:58.692Z"
   },
   {
    "duration": 0,
    "start_time": "2022-08-05T06:50:58.694Z"
   },
   {
    "duration": 0,
    "start_time": "2022-08-05T06:50:58.695Z"
   },
   {
    "duration": 0,
    "start_time": "2022-08-05T06:50:58.696Z"
   },
   {
    "duration": 0,
    "start_time": "2022-08-05T06:50:58.697Z"
   },
   {
    "duration": 0,
    "start_time": "2022-08-05T06:50:58.698Z"
   },
   {
    "duration": 0,
    "start_time": "2022-08-05T06:50:58.699Z"
   },
   {
    "duration": 0,
    "start_time": "2022-08-05T06:50:58.700Z"
   },
   {
    "duration": 0,
    "start_time": "2022-08-05T06:50:58.702Z"
   },
   {
    "duration": 0,
    "start_time": "2022-08-05T06:50:58.703Z"
   },
   {
    "duration": 1,
    "start_time": "2022-08-05T06:50:58.703Z"
   },
   {
    "duration": 0,
    "start_time": "2022-08-05T06:50:58.705Z"
   },
   {
    "duration": 0,
    "start_time": "2022-08-05T06:50:58.705Z"
   },
   {
    "duration": 0,
    "start_time": "2022-08-05T06:50:58.706Z"
   },
   {
    "duration": 0,
    "start_time": "2022-08-05T06:50:58.707Z"
   },
   {
    "duration": 0,
    "start_time": "2022-08-05T06:50:58.708Z"
   },
   {
    "duration": 0,
    "start_time": "2022-08-05T06:50:58.709Z"
   },
   {
    "duration": 0,
    "start_time": "2022-08-05T06:50:58.710Z"
   },
   {
    "duration": 0,
    "start_time": "2022-08-05T06:50:58.711Z"
   },
   {
    "duration": 0,
    "start_time": "2022-08-05T06:50:58.712Z"
   },
   {
    "duration": 0,
    "start_time": "2022-08-05T06:50:58.713Z"
   },
   {
    "duration": 0,
    "start_time": "2022-08-05T06:50:58.714Z"
   },
   {
    "duration": 0,
    "start_time": "2022-08-05T06:50:58.714Z"
   },
   {
    "duration": 7,
    "start_time": "2022-08-05T06:51:43.419Z"
   },
   {
    "duration": 12,
    "start_time": "2022-08-05T06:59:49.277Z"
   },
   {
    "duration": 22,
    "start_time": "2022-08-05T07:00:15.889Z"
   },
   {
    "duration": 45,
    "start_time": "2022-08-05T07:00:35.890Z"
   },
   {
    "duration": 29,
    "start_time": "2022-08-05T07:00:52.843Z"
   },
   {
    "duration": 8,
    "start_time": "2022-08-05T07:01:00.555Z"
   },
   {
    "duration": 35,
    "start_time": "2022-08-05T07:01:21.340Z"
   },
   {
    "duration": 19,
    "start_time": "2022-08-05T07:01:59.827Z"
   },
   {
    "duration": 24,
    "start_time": "2022-08-05T07:02:15.339Z"
   },
   {
    "duration": 24,
    "start_time": "2022-08-05T07:02:26.394Z"
   },
   {
    "duration": 32,
    "start_time": "2022-08-05T07:03:43.550Z"
   },
   {
    "duration": 26,
    "start_time": "2022-08-05T07:04:01.377Z"
   },
   {
    "duration": 31,
    "start_time": "2022-08-05T07:10:11.788Z"
   },
   {
    "duration": 72,
    "start_time": "2022-08-05T07:10:19.462Z"
   },
   {
    "duration": 16,
    "start_time": "2022-08-05T07:10:19.536Z"
   },
   {
    "duration": 44,
    "start_time": "2022-08-05T07:10:19.554Z"
   },
   {
    "duration": 9,
    "start_time": "2022-08-05T07:10:19.600Z"
   },
   {
    "duration": 8,
    "start_time": "2022-08-05T07:10:19.613Z"
   },
   {
    "duration": 87,
    "start_time": "2022-08-05T07:10:19.623Z"
   },
   {
    "duration": 4,
    "start_time": "2022-08-05T07:10:19.712Z"
   },
   {
    "duration": 15,
    "start_time": "2022-08-05T07:10:19.718Z"
   },
   {
    "duration": 5,
    "start_time": "2022-08-05T07:10:19.735Z"
   },
   {
    "duration": 9,
    "start_time": "2022-08-05T07:10:19.741Z"
   },
   {
    "duration": 5,
    "start_time": "2022-08-05T07:10:19.752Z"
   },
   {
    "duration": 57,
    "start_time": "2022-08-05T07:10:19.759Z"
   },
   {
    "duration": 9,
    "start_time": "2022-08-05T07:10:19.818Z"
   },
   {
    "duration": 4,
    "start_time": "2022-08-05T07:10:19.830Z"
   },
   {
    "duration": 23,
    "start_time": "2022-08-05T07:10:19.835Z"
   },
   {
    "duration": 42,
    "start_time": "2022-08-05T07:10:19.860Z"
   },
   {
    "duration": 10,
    "start_time": "2022-08-05T07:10:19.904Z"
   },
   {
    "duration": 6,
    "start_time": "2022-08-05T07:10:19.916Z"
   },
   {
    "duration": 12,
    "start_time": "2022-08-05T07:10:19.924Z"
   },
   {
    "duration": 6,
    "start_time": "2022-08-05T07:10:19.937Z"
   },
   {
    "duration": 4,
    "start_time": "2022-08-05T07:10:19.944Z"
   },
   {
    "duration": 16,
    "start_time": "2022-08-05T07:10:19.950Z"
   },
   {
    "duration": 3,
    "start_time": "2022-08-05T07:10:19.992Z"
   },
   {
    "duration": 30,
    "start_time": "2022-08-05T07:10:19.997Z"
   },
   {
    "duration": 15,
    "start_time": "2022-08-05T07:10:20.029Z"
   },
   {
    "duration": 0,
    "start_time": "2022-08-05T07:10:20.046Z"
   },
   {
    "duration": 0,
    "start_time": "2022-08-05T07:10:20.047Z"
   },
   {
    "duration": 0,
    "start_time": "2022-08-05T07:10:20.048Z"
   },
   {
    "duration": 0,
    "start_time": "2022-08-05T07:10:20.050Z"
   },
   {
    "duration": 0,
    "start_time": "2022-08-05T07:10:20.051Z"
   },
   {
    "duration": 0,
    "start_time": "2022-08-05T07:10:20.052Z"
   },
   {
    "duration": 0,
    "start_time": "2022-08-05T07:10:20.053Z"
   },
   {
    "duration": 0,
    "start_time": "2022-08-05T07:10:20.054Z"
   },
   {
    "duration": 0,
    "start_time": "2022-08-05T07:10:20.055Z"
   },
   {
    "duration": 0,
    "start_time": "2022-08-05T07:10:20.057Z"
   },
   {
    "duration": 0,
    "start_time": "2022-08-05T07:10:20.058Z"
   },
   {
    "duration": 0,
    "start_time": "2022-08-05T07:10:20.059Z"
   },
   {
    "duration": 0,
    "start_time": "2022-08-05T07:10:20.092Z"
   },
   {
    "duration": 0,
    "start_time": "2022-08-05T07:10:20.094Z"
   },
   {
    "duration": 0,
    "start_time": "2022-08-05T07:10:20.094Z"
   },
   {
    "duration": 0,
    "start_time": "2022-08-05T07:10:20.095Z"
   },
   {
    "duration": 0,
    "start_time": "2022-08-05T07:10:20.096Z"
   },
   {
    "duration": 0,
    "start_time": "2022-08-05T07:10:20.098Z"
   },
   {
    "duration": 0,
    "start_time": "2022-08-05T07:10:20.099Z"
   },
   {
    "duration": 0,
    "start_time": "2022-08-05T07:10:20.100Z"
   },
   {
    "duration": 0,
    "start_time": "2022-08-05T07:10:20.101Z"
   },
   {
    "duration": 0,
    "start_time": "2022-08-05T07:10:20.102Z"
   },
   {
    "duration": 0,
    "start_time": "2022-08-05T07:10:20.103Z"
   },
   {
    "duration": 0,
    "start_time": "2022-08-05T07:10:20.104Z"
   },
   {
    "duration": 0,
    "start_time": "2022-08-05T07:10:20.105Z"
   },
   {
    "duration": 0,
    "start_time": "2022-08-05T07:10:20.106Z"
   },
   {
    "duration": 0,
    "start_time": "2022-08-05T07:10:20.106Z"
   },
   {
    "duration": 0,
    "start_time": "2022-08-05T07:10:20.107Z"
   },
   {
    "duration": 0,
    "start_time": "2022-08-05T07:10:20.109Z"
   },
   {
    "duration": 0,
    "start_time": "2022-08-05T07:10:20.110Z"
   },
   {
    "duration": 0,
    "start_time": "2022-08-05T07:10:20.111Z"
   },
   {
    "duration": 0,
    "start_time": "2022-08-05T07:10:20.112Z"
   },
   {
    "duration": 13,
    "start_time": "2022-08-05T07:11:44.652Z"
   },
   {
    "duration": 17,
    "start_time": "2022-08-05T07:12:33.333Z"
   },
   {
    "duration": 18,
    "start_time": "2022-08-05T07:12:51.469Z"
   },
   {
    "duration": 28,
    "start_time": "2022-08-05T07:14:08.051Z"
   },
   {
    "duration": 53,
    "start_time": "2022-08-05T07:14:23.001Z"
   },
   {
    "duration": 23,
    "start_time": "2022-08-05T07:14:50.661Z"
   },
   {
    "duration": 35,
    "start_time": "2022-08-05T07:15:03.931Z"
   },
   {
    "duration": 34,
    "start_time": "2022-08-05T08:24:47.623Z"
   },
   {
    "duration": 42,
    "start_time": "2022-08-05T08:26:52.606Z"
   },
   {
    "duration": 41,
    "start_time": "2022-08-05T08:30:45.833Z"
   },
   {
    "duration": 27,
    "start_time": "2022-08-05T08:36:53.050Z"
   },
   {
    "duration": 31,
    "start_time": "2022-08-05T08:37:12.798Z"
   },
   {
    "duration": 24,
    "start_time": "2022-08-05T08:37:24.623Z"
   },
   {
    "duration": 25,
    "start_time": "2022-08-05T08:37:29.220Z"
   },
   {
    "duration": 23,
    "start_time": "2022-08-05T09:17:48.044Z"
   },
   {
    "duration": 72,
    "start_time": "2022-08-05T09:17:59.527Z"
   },
   {
    "duration": 21,
    "start_time": "2022-08-05T09:17:59.601Z"
   },
   {
    "duration": 16,
    "start_time": "2022-08-05T09:17:59.623Z"
   },
   {
    "duration": 11,
    "start_time": "2022-08-05T09:17:59.641Z"
   },
   {
    "duration": 7,
    "start_time": "2022-08-05T09:17:59.653Z"
   },
   {
    "duration": 43,
    "start_time": "2022-08-05T09:17:59.692Z"
   },
   {
    "duration": 3,
    "start_time": "2022-08-05T09:17:59.736Z"
   },
   {
    "duration": 11,
    "start_time": "2022-08-05T09:17:59.741Z"
   },
   {
    "duration": 4,
    "start_time": "2022-08-05T09:17:59.753Z"
   },
   {
    "duration": 9,
    "start_time": "2022-08-05T09:17:59.791Z"
   },
   {
    "duration": 14,
    "start_time": "2022-08-05T09:17:59.803Z"
   },
   {
    "duration": 35,
    "start_time": "2022-08-05T09:17:59.818Z"
   },
   {
    "duration": 10,
    "start_time": "2022-08-05T09:17:59.854Z"
   },
   {
    "duration": 27,
    "start_time": "2022-08-05T09:17:59.865Z"
   },
   {
    "duration": 27,
    "start_time": "2022-08-05T09:17:59.894Z"
   },
   {
    "duration": 16,
    "start_time": "2022-08-05T09:17:59.923Z"
   },
   {
    "duration": 11,
    "start_time": "2022-08-05T09:17:59.941Z"
   },
   {
    "duration": 13,
    "start_time": "2022-08-05T09:17:59.954Z"
   },
   {
    "duration": 49,
    "start_time": "2022-08-05T09:17:59.969Z"
   },
   {
    "duration": 15,
    "start_time": "2022-08-05T09:18:00.020Z"
   },
   {
    "duration": 4,
    "start_time": "2022-08-05T09:18:00.038Z"
   },
   {
    "duration": 14,
    "start_time": "2022-08-05T09:18:00.044Z"
   },
   {
    "duration": 5,
    "start_time": "2022-08-05T09:18:00.060Z"
   },
   {
    "duration": 42,
    "start_time": "2022-08-05T09:18:00.067Z"
   },
   {
    "duration": 0,
    "start_time": "2022-08-05T09:18:00.112Z"
   },
   {
    "duration": 0,
    "start_time": "2022-08-05T09:18:00.114Z"
   },
   {
    "duration": 0,
    "start_time": "2022-08-05T09:18:00.115Z"
   },
   {
    "duration": 0,
    "start_time": "2022-08-05T09:18:00.116Z"
   },
   {
    "duration": 0,
    "start_time": "2022-08-05T09:18:00.118Z"
   },
   {
    "duration": 0,
    "start_time": "2022-08-05T09:18:00.119Z"
   },
   {
    "duration": 0,
    "start_time": "2022-08-05T09:18:00.120Z"
   },
   {
    "duration": 0,
    "start_time": "2022-08-05T09:18:00.121Z"
   },
   {
    "duration": 0,
    "start_time": "2022-08-05T09:18:00.122Z"
   },
   {
    "duration": 0,
    "start_time": "2022-08-05T09:18:00.123Z"
   },
   {
    "duration": 0,
    "start_time": "2022-08-05T09:18:00.124Z"
   },
   {
    "duration": 0,
    "start_time": "2022-08-05T09:18:00.125Z"
   },
   {
    "duration": 0,
    "start_time": "2022-08-05T09:18:00.126Z"
   },
   {
    "duration": 0,
    "start_time": "2022-08-05T09:18:00.127Z"
   },
   {
    "duration": 0,
    "start_time": "2022-08-05T09:18:00.129Z"
   },
   {
    "duration": 0,
    "start_time": "2022-08-05T09:18:00.130Z"
   },
   {
    "duration": 0,
    "start_time": "2022-08-05T09:18:00.131Z"
   },
   {
    "duration": 0,
    "start_time": "2022-08-05T09:18:00.131Z"
   },
   {
    "duration": 0,
    "start_time": "2022-08-05T09:18:00.132Z"
   },
   {
    "duration": 0,
    "start_time": "2022-08-05T09:18:00.133Z"
   },
   {
    "duration": 0,
    "start_time": "2022-08-05T09:18:00.134Z"
   },
   {
    "duration": 0,
    "start_time": "2022-08-05T09:18:00.135Z"
   },
   {
    "duration": 0,
    "start_time": "2022-08-05T09:18:00.136Z"
   },
   {
    "duration": 0,
    "start_time": "2022-08-05T09:18:00.137Z"
   },
   {
    "duration": 0,
    "start_time": "2022-08-05T09:18:00.138Z"
   },
   {
    "duration": 0,
    "start_time": "2022-08-05T09:18:00.138Z"
   },
   {
    "duration": 0,
    "start_time": "2022-08-05T09:18:00.139Z"
   },
   {
    "duration": 0,
    "start_time": "2022-08-05T09:18:00.140Z"
   },
   {
    "duration": 0,
    "start_time": "2022-08-05T09:18:00.141Z"
   },
   {
    "duration": 0,
    "start_time": "2022-08-05T09:18:00.142Z"
   },
   {
    "duration": 20,
    "start_time": "2022-08-05T09:18:12.958Z"
   },
   {
    "duration": 30,
    "start_time": "2022-08-05T09:18:21.816Z"
   },
   {
    "duration": 17,
    "start_time": "2022-08-05T09:24:34.150Z"
   },
   {
    "duration": 24,
    "start_time": "2022-08-05T09:24:44.053Z"
   },
   {
    "duration": 8,
    "start_time": "2022-08-05T09:31:17.317Z"
   },
   {
    "duration": 70,
    "start_time": "2022-08-05T09:31:22.774Z"
   },
   {
    "duration": 14,
    "start_time": "2022-08-05T09:31:22.846Z"
   },
   {
    "duration": 20,
    "start_time": "2022-08-05T09:31:22.862Z"
   },
   {
    "duration": 11,
    "start_time": "2022-08-05T09:31:22.891Z"
   },
   {
    "duration": 8,
    "start_time": "2022-08-05T09:31:22.903Z"
   },
   {
    "duration": 33,
    "start_time": "2022-08-05T09:31:22.913Z"
   },
   {
    "duration": 3,
    "start_time": "2022-08-05T09:31:22.948Z"
   },
   {
    "duration": 40,
    "start_time": "2022-08-05T09:31:22.953Z"
   },
   {
    "duration": 4,
    "start_time": "2022-08-05T09:31:22.995Z"
   },
   {
    "duration": 8,
    "start_time": "2022-08-05T09:31:23.002Z"
   },
   {
    "duration": 6,
    "start_time": "2022-08-05T09:31:23.011Z"
   },
   {
    "duration": 34,
    "start_time": "2022-08-05T09:31:23.019Z"
   },
   {
    "duration": 44,
    "start_time": "2022-08-05T09:31:23.055Z"
   },
   {
    "duration": 4,
    "start_time": "2022-08-05T09:31:23.100Z"
   },
   {
    "duration": 19,
    "start_time": "2022-08-05T09:31:23.105Z"
   },
   {
    "duration": 17,
    "start_time": "2022-08-05T09:31:23.125Z"
   },
   {
    "duration": 11,
    "start_time": "2022-08-05T09:31:23.143Z"
   },
   {
    "duration": 6,
    "start_time": "2022-08-05T09:31:23.156Z"
   },
   {
    "duration": 37,
    "start_time": "2022-08-05T09:31:23.163Z"
   },
   {
    "duration": 9,
    "start_time": "2022-08-05T09:31:23.202Z"
   },
   {
    "duration": 3,
    "start_time": "2022-08-05T09:31:23.213Z"
   },
   {
    "duration": 13,
    "start_time": "2022-08-05T09:31:23.218Z"
   },
   {
    "duration": 11,
    "start_time": "2022-08-05T09:31:23.233Z"
   },
   {
    "duration": 23,
    "start_time": "2022-08-05T09:31:23.246Z"
   },
   {
    "duration": 51,
    "start_time": "2022-08-05T09:31:23.271Z"
   },
   {
    "duration": 0,
    "start_time": "2022-08-05T09:31:23.324Z"
   },
   {
    "duration": 0,
    "start_time": "2022-08-05T09:31:23.325Z"
   },
   {
    "duration": 0,
    "start_time": "2022-08-05T09:31:23.326Z"
   },
   {
    "duration": 0,
    "start_time": "2022-08-05T09:31:23.328Z"
   },
   {
    "duration": 0,
    "start_time": "2022-08-05T09:31:23.329Z"
   },
   {
    "duration": 0,
    "start_time": "2022-08-05T09:31:23.330Z"
   },
   {
    "duration": 0,
    "start_time": "2022-08-05T09:31:23.331Z"
   },
   {
    "duration": 0,
    "start_time": "2022-08-05T09:31:23.335Z"
   },
   {
    "duration": 0,
    "start_time": "2022-08-05T09:31:23.336Z"
   },
   {
    "duration": 0,
    "start_time": "2022-08-05T09:31:23.337Z"
   },
   {
    "duration": 0,
    "start_time": "2022-08-05T09:31:23.338Z"
   },
   {
    "duration": 0,
    "start_time": "2022-08-05T09:31:23.339Z"
   },
   {
    "duration": 0,
    "start_time": "2022-08-05T09:31:23.340Z"
   },
   {
    "duration": 0,
    "start_time": "2022-08-05T09:31:23.341Z"
   },
   {
    "duration": 0,
    "start_time": "2022-08-05T09:31:23.342Z"
   },
   {
    "duration": 0,
    "start_time": "2022-08-05T09:31:23.343Z"
   },
   {
    "duration": 0,
    "start_time": "2022-08-05T09:31:23.344Z"
   },
   {
    "duration": 0,
    "start_time": "2022-08-05T09:31:23.345Z"
   },
   {
    "duration": 0,
    "start_time": "2022-08-05T09:31:23.346Z"
   },
   {
    "duration": 0,
    "start_time": "2022-08-05T09:31:23.347Z"
   },
   {
    "duration": 0,
    "start_time": "2022-08-05T09:31:23.391Z"
   },
   {
    "duration": 0,
    "start_time": "2022-08-05T09:31:23.393Z"
   },
   {
    "duration": 0,
    "start_time": "2022-08-05T09:31:23.394Z"
   },
   {
    "duration": 0,
    "start_time": "2022-08-05T09:31:23.395Z"
   },
   {
    "duration": 0,
    "start_time": "2022-08-05T09:31:23.397Z"
   },
   {
    "duration": 0,
    "start_time": "2022-08-05T09:31:23.398Z"
   },
   {
    "duration": 0,
    "start_time": "2022-08-05T09:31:23.399Z"
   },
   {
    "duration": 0,
    "start_time": "2022-08-05T09:31:23.400Z"
   },
   {
    "duration": 0,
    "start_time": "2022-08-05T09:31:23.401Z"
   },
   {
    "duration": 0,
    "start_time": "2022-08-05T09:31:23.403Z"
   },
   {
    "duration": 18,
    "start_time": "2022-08-05T09:32:11.698Z"
   },
   {
    "duration": 30,
    "start_time": "2022-08-05T09:33:05.072Z"
   },
   {
    "duration": 34,
    "start_time": "2022-08-05T09:35:01.445Z"
   },
   {
    "duration": 1393,
    "start_time": "2022-08-05T09:39:21.397Z"
   },
   {
    "duration": 18,
    "start_time": "2022-08-05T09:39:22.794Z"
   },
   {
    "duration": 15,
    "start_time": "2022-08-05T09:39:22.813Z"
   },
   {
    "duration": 9,
    "start_time": "2022-08-05T09:39:22.829Z"
   },
   {
    "duration": 5,
    "start_time": "2022-08-05T09:39:22.840Z"
   },
   {
    "duration": 64,
    "start_time": "2022-08-05T09:39:22.847Z"
   },
   {
    "duration": 4,
    "start_time": "2022-08-05T09:39:22.913Z"
   },
   {
    "duration": 13,
    "start_time": "2022-08-05T09:39:22.918Z"
   },
   {
    "duration": 5,
    "start_time": "2022-08-05T09:39:22.933Z"
   },
   {
    "duration": 9,
    "start_time": "2022-08-05T09:39:22.939Z"
   },
   {
    "duration": 5,
    "start_time": "2022-08-05T09:39:22.949Z"
   },
   {
    "duration": 55,
    "start_time": "2022-08-05T09:39:22.955Z"
   },
   {
    "duration": 10,
    "start_time": "2022-08-05T09:39:23.012Z"
   },
   {
    "duration": 3,
    "start_time": "2022-08-05T09:39:23.024Z"
   },
   {
    "duration": 18,
    "start_time": "2022-08-05T09:39:23.029Z"
   },
   {
    "duration": 17,
    "start_time": "2022-08-05T09:39:23.049Z"
   },
   {
    "duration": 32,
    "start_time": "2022-08-05T09:39:23.067Z"
   },
   {
    "duration": 4,
    "start_time": "2022-08-05T09:39:23.102Z"
   },
   {
    "duration": 12,
    "start_time": "2022-08-05T09:39:23.108Z"
   },
   {
    "duration": 7,
    "start_time": "2022-08-05T09:39:23.122Z"
   },
   {
    "duration": 5,
    "start_time": "2022-08-05T09:39:23.130Z"
   },
   {
    "duration": 12,
    "start_time": "2022-08-05T09:39:23.136Z"
   },
   {
    "duration": 6,
    "start_time": "2022-08-05T09:39:23.149Z"
   },
   {
    "duration": 44,
    "start_time": "2022-08-05T09:39:23.157Z"
   },
   {
    "duration": 109,
    "start_time": "2022-08-05T09:39:23.202Z"
   },
   {
    "duration": 0,
    "start_time": "2022-08-05T09:39:23.314Z"
   },
   {
    "duration": 0,
    "start_time": "2022-08-05T09:39:23.315Z"
   },
   {
    "duration": 0,
    "start_time": "2022-08-05T09:39:23.316Z"
   },
   {
    "duration": 0,
    "start_time": "2022-08-05T09:39:23.317Z"
   },
   {
    "duration": 0,
    "start_time": "2022-08-05T09:39:23.318Z"
   },
   {
    "duration": 0,
    "start_time": "2022-08-05T09:39:23.319Z"
   },
   {
    "duration": 0,
    "start_time": "2022-08-05T09:39:23.320Z"
   },
   {
    "duration": 0,
    "start_time": "2022-08-05T09:39:23.321Z"
   },
   {
    "duration": 0,
    "start_time": "2022-08-05T09:39:23.322Z"
   },
   {
    "duration": 0,
    "start_time": "2022-08-05T09:39:23.323Z"
   },
   {
    "duration": 0,
    "start_time": "2022-08-05T09:39:23.324Z"
   },
   {
    "duration": 0,
    "start_time": "2022-08-05T09:39:23.325Z"
   },
   {
    "duration": 0,
    "start_time": "2022-08-05T09:39:23.326Z"
   },
   {
    "duration": 0,
    "start_time": "2022-08-05T09:39:23.327Z"
   },
   {
    "duration": 0,
    "start_time": "2022-08-05T09:39:23.328Z"
   },
   {
    "duration": 0,
    "start_time": "2022-08-05T09:39:23.329Z"
   },
   {
    "duration": 0,
    "start_time": "2022-08-05T09:39:23.330Z"
   },
   {
    "duration": 0,
    "start_time": "2022-08-05T09:39:23.331Z"
   },
   {
    "duration": 0,
    "start_time": "2022-08-05T09:39:23.332Z"
   },
   {
    "duration": 0,
    "start_time": "2022-08-05T09:39:23.332Z"
   },
   {
    "duration": 0,
    "start_time": "2022-08-05T09:39:23.333Z"
   },
   {
    "duration": 0,
    "start_time": "2022-08-05T09:39:23.334Z"
   },
   {
    "duration": 0,
    "start_time": "2022-08-05T09:39:23.335Z"
   },
   {
    "duration": 0,
    "start_time": "2022-08-05T09:39:23.336Z"
   },
   {
    "duration": 0,
    "start_time": "2022-08-05T09:39:23.337Z"
   },
   {
    "duration": 0,
    "start_time": "2022-08-05T09:39:23.338Z"
   },
   {
    "duration": 0,
    "start_time": "2022-08-05T09:39:23.339Z"
   },
   {
    "duration": 0,
    "start_time": "2022-08-05T09:39:23.340Z"
   },
   {
    "duration": 0,
    "start_time": "2022-08-05T09:39:23.341Z"
   },
   {
    "duration": 0,
    "start_time": "2022-08-05T09:39:23.342Z"
   },
   {
    "duration": 35,
    "start_time": "2022-08-05T09:40:12.993Z"
   },
   {
    "duration": 32,
    "start_time": "2022-08-05T09:40:22.203Z"
   },
   {
    "duration": 21,
    "start_time": "2022-08-05T09:43:04.384Z"
   },
   {
    "duration": 25,
    "start_time": "2022-08-05T11:50:27.814Z"
   },
   {
    "duration": 75,
    "start_time": "2022-08-05T11:50:38.470Z"
   },
   {
    "duration": 16,
    "start_time": "2022-08-05T11:50:38.548Z"
   },
   {
    "duration": 37,
    "start_time": "2022-08-05T11:50:38.565Z"
   },
   {
    "duration": 11,
    "start_time": "2022-08-05T11:50:38.604Z"
   },
   {
    "duration": 9,
    "start_time": "2022-08-05T11:50:38.617Z"
   },
   {
    "duration": 32,
    "start_time": "2022-08-05T11:50:38.628Z"
   },
   {
    "duration": 31,
    "start_time": "2022-08-05T11:50:38.662Z"
   },
   {
    "duration": 11,
    "start_time": "2022-08-05T11:50:38.694Z"
   },
   {
    "duration": 5,
    "start_time": "2022-08-05T11:50:38.706Z"
   },
   {
    "duration": 15,
    "start_time": "2022-08-05T11:50:38.712Z"
   },
   {
    "duration": 7,
    "start_time": "2022-08-05T11:50:38.729Z"
   },
   {
    "duration": 60,
    "start_time": "2022-08-05T11:50:38.737Z"
   },
   {
    "duration": 15,
    "start_time": "2022-08-05T11:50:38.799Z"
   },
   {
    "duration": 4,
    "start_time": "2022-08-05T11:50:38.817Z"
   },
   {
    "duration": 29,
    "start_time": "2022-08-05T11:50:38.824Z"
   },
   {
    "duration": 16,
    "start_time": "2022-08-05T11:50:38.855Z"
   },
   {
    "duration": 27,
    "start_time": "2022-08-05T11:50:38.873Z"
   },
   {
    "duration": 6,
    "start_time": "2022-08-05T11:50:38.902Z"
   },
   {
    "duration": 12,
    "start_time": "2022-08-05T11:50:38.909Z"
   },
   {
    "duration": 5,
    "start_time": "2022-08-05T11:50:38.923Z"
   },
   {
    "duration": 3,
    "start_time": "2022-08-05T11:50:38.930Z"
   },
   {
    "duration": 13,
    "start_time": "2022-08-05T11:50:38.935Z"
   },
   {
    "duration": 2,
    "start_time": "2022-08-05T11:50:38.950Z"
   },
   {
    "duration": 50,
    "start_time": "2022-08-05T11:50:38.954Z"
   },
   {
    "duration": 2,
    "start_time": "2022-08-05T11:50:39.006Z"
   },
   {
    "duration": 10,
    "start_time": "2022-08-05T11:50:39.010Z"
   },
   {
    "duration": 5,
    "start_time": "2022-08-05T11:50:39.021Z"
   },
   {
    "duration": 5,
    "start_time": "2022-08-05T11:50:39.027Z"
   },
   {
    "duration": 9,
    "start_time": "2022-08-05T11:50:39.033Z"
   },
   {
    "duration": 11,
    "start_time": "2022-08-05T11:50:39.044Z"
   },
   {
    "duration": 368,
    "start_time": "2022-08-05T11:50:39.056Z"
   },
   {
    "duration": 3,
    "start_time": "2022-08-05T11:50:39.426Z"
   },
   {
    "duration": 27,
    "start_time": "2022-08-05T11:50:39.430Z"
   },
   {
    "duration": 0,
    "start_time": "2022-08-05T11:50:39.459Z"
   },
   {
    "duration": 0,
    "start_time": "2022-08-05T11:50:39.460Z"
   },
   {
    "duration": 0,
    "start_time": "2022-08-05T11:50:39.461Z"
   },
   {
    "duration": 0,
    "start_time": "2022-08-05T11:50:39.462Z"
   },
   {
    "duration": 0,
    "start_time": "2022-08-05T11:50:39.464Z"
   },
   {
    "duration": 0,
    "start_time": "2022-08-05T11:50:39.465Z"
   },
   {
    "duration": 0,
    "start_time": "2022-08-05T11:50:39.466Z"
   },
   {
    "duration": 0,
    "start_time": "2022-08-05T11:50:39.467Z"
   },
   {
    "duration": 0,
    "start_time": "2022-08-05T11:50:39.468Z"
   },
   {
    "duration": 0,
    "start_time": "2022-08-05T11:50:39.491Z"
   },
   {
    "duration": 0,
    "start_time": "2022-08-05T11:50:39.492Z"
   },
   {
    "duration": 0,
    "start_time": "2022-08-05T11:50:39.494Z"
   },
   {
    "duration": 0,
    "start_time": "2022-08-05T11:50:39.494Z"
   },
   {
    "duration": 0,
    "start_time": "2022-08-05T11:50:39.496Z"
   },
   {
    "duration": 0,
    "start_time": "2022-08-05T11:50:39.497Z"
   },
   {
    "duration": 0,
    "start_time": "2022-08-05T11:50:39.498Z"
   },
   {
    "duration": 0,
    "start_time": "2022-08-05T11:50:39.498Z"
   },
   {
    "duration": 0,
    "start_time": "2022-08-05T11:50:39.499Z"
   },
   {
    "duration": 0,
    "start_time": "2022-08-05T11:50:39.501Z"
   },
   {
    "duration": 0,
    "start_time": "2022-08-05T11:50:39.502Z"
   },
   {
    "duration": 0,
    "start_time": "2022-08-05T11:50:39.503Z"
   },
   {
    "duration": 24,
    "start_time": "2022-08-05T11:51:12.684Z"
   },
   {
    "duration": 25,
    "start_time": "2022-08-05T11:51:58.372Z"
   },
   {
    "duration": 3,
    "start_time": "2022-08-05T11:51:59.122Z"
   },
   {
    "duration": 2,
    "start_time": "2022-08-05T11:51:59.928Z"
   },
   {
    "duration": 2,
    "start_time": "2022-08-05T11:52:00.562Z"
   },
   {
    "duration": 3,
    "start_time": "2022-08-05T11:52:01.034Z"
   },
   {
    "duration": 2,
    "start_time": "2022-08-05T11:52:03.940Z"
   },
   {
    "duration": 2,
    "start_time": "2022-08-05T11:52:06.564Z"
   },
   {
    "duration": 2,
    "start_time": "2022-08-05T11:52:08.329Z"
   },
   {
    "duration": 2,
    "start_time": "2022-08-05T11:52:11.199Z"
   },
   {
    "duration": 20,
    "start_time": "2022-08-05T11:52:13.219Z"
   },
   {
    "duration": 340,
    "start_time": "2022-08-05T11:54:56.110Z"
   },
   {
    "duration": 22,
    "start_time": "2022-08-05T12:01:04.277Z"
   },
   {
    "duration": 335,
    "start_time": "2022-08-05T12:03:45.228Z"
   },
   {
    "duration": 3,
    "start_time": "2022-08-05T12:03:46.596Z"
   },
   {
    "duration": 3,
    "start_time": "2022-08-05T12:03:47.038Z"
   },
   {
    "duration": 3,
    "start_time": "2022-08-05T12:03:47.409Z"
   },
   {
    "duration": 2,
    "start_time": "2022-08-05T12:03:47.735Z"
   },
   {
    "duration": 4,
    "start_time": "2022-08-05T12:03:48.393Z"
   },
   {
    "duration": 22,
    "start_time": "2022-08-05T12:03:50.462Z"
   },
   {
    "duration": 29,
    "start_time": "2022-08-05T12:05:56.588Z"
   },
   {
    "duration": 9,
    "start_time": "2022-08-05T12:30:32.786Z"
   },
   {
    "duration": 26,
    "start_time": "2022-08-05T12:34:59.986Z"
   },
   {
    "duration": 39,
    "start_time": "2022-08-05T12:35:19.338Z"
   },
   {
    "duration": 23,
    "start_time": "2022-08-05T12:35:43.712Z"
   },
   {
    "duration": 12,
    "start_time": "2022-08-05T12:35:57.536Z"
   },
   {
    "duration": 78,
    "start_time": "2022-08-05T12:36:25.392Z"
   },
   {
    "duration": 22,
    "start_time": "2022-08-05T12:36:25.472Z"
   },
   {
    "duration": 21,
    "start_time": "2022-08-05T12:36:25.495Z"
   },
   {
    "duration": 16,
    "start_time": "2022-08-05T12:36:25.519Z"
   },
   {
    "duration": 16,
    "start_time": "2022-08-05T12:36:25.537Z"
   },
   {
    "duration": 53,
    "start_time": "2022-08-05T12:36:25.555Z"
   },
   {
    "duration": 4,
    "start_time": "2022-08-05T12:36:25.610Z"
   },
   {
    "duration": 17,
    "start_time": "2022-08-05T12:36:25.615Z"
   },
   {
    "duration": 28,
    "start_time": "2022-08-05T12:36:25.634Z"
   },
   {
    "duration": 19,
    "start_time": "2022-08-05T12:36:25.665Z"
   },
   {
    "duration": 16,
    "start_time": "2022-08-05T12:36:25.686Z"
   },
   {
    "duration": 49,
    "start_time": "2022-08-05T12:36:25.704Z"
   },
   {
    "duration": 11,
    "start_time": "2022-08-05T12:36:25.754Z"
   },
   {
    "duration": 58,
    "start_time": "2022-08-05T12:36:25.767Z"
   },
   {
    "duration": 33,
    "start_time": "2022-08-05T12:36:25.827Z"
   },
   {
    "duration": 32,
    "start_time": "2022-08-05T12:36:25.862Z"
   },
   {
    "duration": 30,
    "start_time": "2022-08-05T12:36:25.896Z"
   },
   {
    "duration": 32,
    "start_time": "2022-08-05T12:36:25.928Z"
   },
   {
    "duration": 41,
    "start_time": "2022-08-05T12:36:25.962Z"
   },
   {
    "duration": 22,
    "start_time": "2022-08-05T12:36:26.006Z"
   },
   {
    "duration": 24,
    "start_time": "2022-08-05T12:36:26.030Z"
   },
   {
    "duration": 30,
    "start_time": "2022-08-05T12:36:26.055Z"
   },
   {
    "duration": 20,
    "start_time": "2022-08-05T12:36:26.087Z"
   },
   {
    "duration": 50,
    "start_time": "2022-08-05T12:36:26.109Z"
   },
   {
    "duration": 2,
    "start_time": "2022-08-05T12:36:26.161Z"
   },
   {
    "duration": 28,
    "start_time": "2022-08-05T12:36:26.165Z"
   },
   {
    "duration": 16,
    "start_time": "2022-08-05T12:36:26.195Z"
   },
   {
    "duration": 21,
    "start_time": "2022-08-05T12:36:26.215Z"
   },
   {
    "duration": 14,
    "start_time": "2022-08-05T12:36:26.238Z"
   },
   {
    "duration": 14,
    "start_time": "2022-08-05T12:36:26.254Z"
   },
   {
    "duration": 15,
    "start_time": "2022-08-05T12:36:26.269Z"
   },
   {
    "duration": 16,
    "start_time": "2022-08-05T12:36:26.286Z"
   },
   {
    "duration": 35,
    "start_time": "2022-08-05T12:36:26.304Z"
   },
   {
    "duration": 3,
    "start_time": "2022-08-05T12:36:26.340Z"
   },
   {
    "duration": 16,
    "start_time": "2022-08-05T12:36:26.345Z"
   },
   {
    "duration": 11,
    "start_time": "2022-08-05T12:36:26.362Z"
   },
   {
    "duration": 25,
    "start_time": "2022-08-05T12:36:26.375Z"
   },
   {
    "duration": 16,
    "start_time": "2022-08-05T12:36:26.402Z"
   },
   {
    "duration": 447,
    "start_time": "2022-08-05T12:36:26.419Z"
   },
   {
    "duration": 2,
    "start_time": "2022-08-05T12:36:26.868Z"
   },
   {
    "duration": 20,
    "start_time": "2022-08-05T12:36:26.872Z"
   },
   {
    "duration": 5,
    "start_time": "2022-08-05T12:36:26.895Z"
   },
   {
    "duration": 6,
    "start_time": "2022-08-05T12:36:26.901Z"
   },
   {
    "duration": 6,
    "start_time": "2022-08-05T12:36:26.909Z"
   },
   {
    "duration": 14,
    "start_time": "2022-08-05T12:36:26.916Z"
   },
   {
    "duration": 332,
    "start_time": "2022-08-05T12:36:26.932Z"
   },
   {
    "duration": 2,
    "start_time": "2022-08-05T12:36:27.266Z"
   },
   {
    "duration": 29,
    "start_time": "2022-08-05T12:36:27.270Z"
   },
   {
    "duration": 4,
    "start_time": "2022-08-05T12:36:27.301Z"
   },
   {
    "duration": 9,
    "start_time": "2022-08-05T12:36:27.307Z"
   },
   {
    "duration": 8,
    "start_time": "2022-08-05T12:36:27.318Z"
   },
   {
    "duration": 4,
    "start_time": "2022-08-05T12:36:27.328Z"
   },
   {
    "duration": 10,
    "start_time": "2022-08-05T12:36:27.334Z"
   },
   {
    "duration": 348,
    "start_time": "2022-08-05T12:36:27.346Z"
   },
   {
    "duration": 30,
    "start_time": "2022-08-05T12:36:41.829Z"
   },
   {
    "duration": 26,
    "start_time": "2022-08-05T12:44:56.948Z"
   },
   {
    "duration": 29,
    "start_time": "2022-08-05T12:46:44.806Z"
   },
   {
    "duration": 14,
    "start_time": "2022-08-05T12:47:06.978Z"
   },
   {
    "duration": 4,
    "start_time": "2022-08-05T12:47:37.667Z"
   },
   {
    "duration": 8,
    "start_time": "2022-08-05T12:47:38.271Z"
   },
   {
    "duration": 4,
    "start_time": "2022-08-05T12:47:46.492Z"
   },
   {
    "duration": 16,
    "start_time": "2022-08-05T12:47:46.904Z"
   },
   {
    "duration": 12,
    "start_time": "2022-08-05T12:55:22.980Z"
   },
   {
    "duration": 15,
    "start_time": "2022-08-05T12:55:24.202Z"
   },
   {
    "duration": 9,
    "start_time": "2022-08-05T12:55:25.411Z"
   },
   {
    "duration": 12,
    "start_time": "2022-08-05T12:55:32.666Z"
   },
   {
    "duration": 4,
    "start_time": "2022-08-05T12:55:39.257Z"
   },
   {
    "duration": 10,
    "start_time": "2022-08-05T12:55:40.188Z"
   },
   {
    "duration": 7,
    "start_time": "2022-08-05T12:55:41.410Z"
   },
   {
    "duration": 4,
    "start_time": "2022-08-05T12:55:42.352Z"
   },
   {
    "duration": 22,
    "start_time": "2022-08-05T12:55:43.324Z"
   },
   {
    "duration": 6,
    "start_time": "2022-08-05T12:58:43.370Z"
   },
   {
    "duration": 4,
    "start_time": "2022-08-05T12:58:44.323Z"
   },
   {
    "duration": 28,
    "start_time": "2022-08-05T12:58:45.886Z"
   },
   {
    "duration": 24,
    "start_time": "2022-08-05T12:58:52.864Z"
   },
   {
    "duration": 29,
    "start_time": "2022-08-05T12:59:00.430Z"
   },
   {
    "duration": 23,
    "start_time": "2022-08-05T12:59:34.723Z"
   },
   {
    "duration": 30,
    "start_time": "2022-08-05T13:00:54.635Z"
   },
   {
    "duration": 46,
    "start_time": "2022-08-05T13:01:57.925Z"
   },
   {
    "duration": 38,
    "start_time": "2022-08-05T13:02:16.332Z"
   },
   {
    "duration": 29,
    "start_time": "2022-08-05T13:03:30.287Z"
   },
   {
    "duration": 33,
    "start_time": "2022-08-05T13:09:57.569Z"
   },
   {
    "duration": 2,
    "start_time": "2022-08-05T13:10:08.170Z"
   },
   {
    "duration": 24,
    "start_time": "2022-08-05T13:10:09.184Z"
   },
   {
    "duration": 30,
    "start_time": "2022-08-05T13:10:09.826Z"
   },
   {
    "duration": 2,
    "start_time": "2022-08-05T13:10:10.429Z"
   },
   {
    "duration": 2,
    "start_time": "2022-08-05T13:10:17.730Z"
   },
   {
    "duration": 3,
    "start_time": "2022-08-05T13:10:18.488Z"
   },
   {
    "duration": 3,
    "start_time": "2022-08-05T13:10:18.908Z"
   },
   {
    "duration": 2,
    "start_time": "2022-08-05T13:10:19.859Z"
   },
   {
    "duration": 2,
    "start_time": "2022-08-05T13:10:21.467Z"
   },
   {
    "duration": 5,
    "start_time": "2022-08-05T13:10:21.471Z"
   },
   {
    "duration": 2,
    "start_time": "2022-08-05T13:10:22.731Z"
   },
   {
    "duration": 25,
    "start_time": "2022-08-05T13:10:23.302Z"
   },
   {
    "duration": 2,
    "start_time": "2022-08-05T13:10:23.738Z"
   },
   {
    "duration": 2,
    "start_time": "2022-08-05T13:10:40.626Z"
   },
   {
    "duration": 2,
    "start_time": "2022-08-05T13:10:41.074Z"
   },
   {
    "duration": 2,
    "start_time": "2022-08-05T13:10:41.382Z"
   },
   {
    "duration": 3,
    "start_time": "2022-08-05T13:10:41.680Z"
   },
   {
    "duration": 3,
    "start_time": "2022-08-05T13:10:41.966Z"
   },
   {
    "duration": 2,
    "start_time": "2022-08-05T13:10:42.274Z"
   },
   {
    "duration": 3,
    "start_time": "2022-08-05T13:10:43.284Z"
   },
   {
    "duration": 20,
    "start_time": "2022-08-05T13:10:43.527Z"
   },
   {
    "duration": 3,
    "start_time": "2022-08-05T13:10:44.756Z"
   },
   {
    "duration": 17,
    "start_time": "2022-08-05T13:11:19.166Z"
   },
   {
    "duration": 29,
    "start_time": "2022-08-05T13:11:24.144Z"
   },
   {
    "duration": 28,
    "start_time": "2022-08-05T13:11:36.658Z"
   },
   {
    "duration": 30,
    "start_time": "2022-08-05T13:11:49.426Z"
   },
   {
    "duration": 31,
    "start_time": "2022-08-05T13:12:24.826Z"
   },
   {
    "duration": 30,
    "start_time": "2022-08-05T13:12:52.195Z"
   },
   {
    "duration": 23,
    "start_time": "2022-08-05T13:13:08.968Z"
   },
   {
    "duration": 29,
    "start_time": "2022-08-05T13:13:41.706Z"
   },
   {
    "duration": 20,
    "start_time": "2022-08-05T13:14:18.367Z"
   },
   {
    "duration": 24,
    "start_time": "2022-08-05T13:14:29.028Z"
   },
   {
    "duration": 73,
    "start_time": "2022-08-05T13:14:35.468Z"
   },
   {
    "duration": 17,
    "start_time": "2022-08-05T13:14:35.543Z"
   },
   {
    "duration": 34,
    "start_time": "2022-08-05T13:14:35.561Z"
   },
   {
    "duration": 10,
    "start_time": "2022-08-05T13:14:35.597Z"
   },
   {
    "duration": 26,
    "start_time": "2022-08-05T13:14:35.608Z"
   },
   {
    "duration": 43,
    "start_time": "2022-08-05T13:14:35.636Z"
   },
   {
    "duration": 3,
    "start_time": "2022-08-05T13:14:35.681Z"
   },
   {
    "duration": 29,
    "start_time": "2022-08-05T13:14:35.691Z"
   },
   {
    "duration": 12,
    "start_time": "2022-08-05T13:14:35.722Z"
   },
   {
    "duration": 20,
    "start_time": "2022-08-05T13:14:35.736Z"
   },
   {
    "duration": 10,
    "start_time": "2022-08-05T13:14:35.757Z"
   },
   {
    "duration": 48,
    "start_time": "2022-08-05T13:14:35.769Z"
   },
   {
    "duration": 9,
    "start_time": "2022-08-05T13:14:35.819Z"
   },
   {
    "duration": 28,
    "start_time": "2022-08-05T13:14:35.830Z"
   },
   {
    "duration": 35,
    "start_time": "2022-08-05T13:14:35.859Z"
   },
   {
    "duration": 19,
    "start_time": "2022-08-05T13:14:35.896Z"
   },
   {
    "duration": 16,
    "start_time": "2022-08-05T13:14:35.917Z"
   },
   {
    "duration": 16,
    "start_time": "2022-08-05T13:14:35.934Z"
   },
   {
    "duration": 15,
    "start_time": "2022-08-05T13:14:35.952Z"
   },
   {
    "duration": 15,
    "start_time": "2022-08-05T13:14:35.969Z"
   },
   {
    "duration": 5,
    "start_time": "2022-08-05T13:14:35.987Z"
   },
   {
    "duration": 17,
    "start_time": "2022-08-05T13:14:35.994Z"
   },
   {
    "duration": 9,
    "start_time": "2022-08-05T13:14:36.013Z"
   },
   {
    "duration": 27,
    "start_time": "2022-08-05T13:14:36.024Z"
   },
   {
    "duration": 2,
    "start_time": "2022-08-05T13:14:36.052Z"
   },
   {
    "duration": 7,
    "start_time": "2022-08-05T13:14:36.056Z"
   },
   {
    "duration": 4,
    "start_time": "2022-08-05T13:14:36.064Z"
   },
   {
    "duration": 5,
    "start_time": "2022-08-05T13:14:36.072Z"
   },
   {
    "duration": 13,
    "start_time": "2022-08-05T13:14:36.078Z"
   },
   {
    "duration": 3,
    "start_time": "2022-08-05T13:14:36.093Z"
   },
   {
    "duration": 6,
    "start_time": "2022-08-05T13:14:36.097Z"
   },
   {
    "duration": 12,
    "start_time": "2022-08-05T13:14:36.104Z"
   },
   {
    "duration": 29,
    "start_time": "2022-08-05T13:14:36.118Z"
   },
   {
    "duration": 0,
    "start_time": "2022-08-05T13:14:36.149Z"
   },
   {
    "duration": 0,
    "start_time": "2022-08-05T13:14:36.150Z"
   },
   {
    "duration": 0,
    "start_time": "2022-08-05T13:14:36.152Z"
   },
   {
    "duration": 0,
    "start_time": "2022-08-05T13:14:36.153Z"
   },
   {
    "duration": 0,
    "start_time": "2022-08-05T13:14:36.154Z"
   },
   {
    "duration": 0,
    "start_time": "2022-08-05T13:14:36.156Z"
   },
   {
    "duration": 0,
    "start_time": "2022-08-05T13:14:36.157Z"
   },
   {
    "duration": 0,
    "start_time": "2022-08-05T13:14:36.159Z"
   },
   {
    "duration": 0,
    "start_time": "2022-08-05T13:14:36.160Z"
   },
   {
    "duration": 0,
    "start_time": "2022-08-05T13:14:36.162Z"
   },
   {
    "duration": 0,
    "start_time": "2022-08-05T13:14:36.192Z"
   },
   {
    "duration": 0,
    "start_time": "2022-08-05T13:14:36.193Z"
   },
   {
    "duration": 0,
    "start_time": "2022-08-05T13:14:36.195Z"
   },
   {
    "duration": 0,
    "start_time": "2022-08-05T13:14:36.196Z"
   },
   {
    "duration": 0,
    "start_time": "2022-08-05T13:14:36.198Z"
   },
   {
    "duration": 0,
    "start_time": "2022-08-05T13:14:36.199Z"
   },
   {
    "duration": 0,
    "start_time": "2022-08-05T13:14:36.200Z"
   },
   {
    "duration": 0,
    "start_time": "2022-08-05T13:14:36.202Z"
   },
   {
    "duration": 0,
    "start_time": "2022-08-05T13:14:36.203Z"
   },
   {
    "duration": 0,
    "start_time": "2022-08-05T13:14:36.205Z"
   },
   {
    "duration": 0,
    "start_time": "2022-08-05T13:14:36.206Z"
   },
   {
    "duration": 0,
    "start_time": "2022-08-05T13:14:36.207Z"
   },
   {
    "duration": 0,
    "start_time": "2022-08-05T13:14:36.209Z"
   },
   {
    "duration": 0,
    "start_time": "2022-08-05T13:14:36.211Z"
   },
   {
    "duration": 21,
    "start_time": "2022-08-05T13:14:45.524Z"
   },
   {
    "duration": 22,
    "start_time": "2022-08-05T13:14:56.750Z"
   },
   {
    "duration": 23,
    "start_time": "2022-08-05T13:15:03.999Z"
   },
   {
    "duration": 24,
    "start_time": "2022-08-05T13:15:13.058Z"
   },
   {
    "duration": 24,
    "start_time": "2022-08-05T13:15:20.162Z"
   },
   {
    "duration": 3,
    "start_time": "2022-08-05T13:15:28.731Z"
   },
   {
    "duration": 6,
    "start_time": "2022-08-05T13:15:29.259Z"
   },
   {
    "duration": 7,
    "start_time": "2022-08-05T13:15:29.623Z"
   },
   {
    "duration": 4,
    "start_time": "2022-08-05T13:15:29.931Z"
   },
   {
    "duration": 9,
    "start_time": "2022-08-05T13:15:30.235Z"
   },
   {
    "duration": 25,
    "start_time": "2022-08-05T13:16:12.295Z"
   },
   {
    "duration": 22,
    "start_time": "2022-08-05T13:16:22.700Z"
   },
   {
    "duration": 3,
    "start_time": "2022-08-05T13:16:23.997Z"
   },
   {
    "duration": 2,
    "start_time": "2022-08-05T13:16:24.460Z"
   },
   {
    "duration": 2,
    "start_time": "2022-08-05T13:16:24.773Z"
   },
   {
    "duration": 2,
    "start_time": "2022-08-05T13:16:25.088Z"
   },
   {
    "duration": 2,
    "start_time": "2022-08-05T13:16:25.526Z"
   },
   {
    "duration": 2,
    "start_time": "2022-08-05T13:16:25.982Z"
   },
   {
    "duration": 2,
    "start_time": "2022-08-05T13:16:26.322Z"
   },
   {
    "duration": 3,
    "start_time": "2022-08-05T13:16:26.993Z"
   },
   {
    "duration": 30,
    "start_time": "2022-08-05T13:16:27.422Z"
   },
   {
    "duration": 3,
    "start_time": "2022-08-05T13:16:27.585Z"
   },
   {
    "duration": 25,
    "start_time": "2022-08-05T13:17:24.431Z"
   },
   {
    "duration": 23,
    "start_time": "2022-08-05T13:17:42.430Z"
   },
   {
    "duration": 4,
    "start_time": "2022-08-05T13:17:59.806Z"
   },
   {
    "duration": 23,
    "start_time": "2022-08-05T13:18:17.288Z"
   },
   {
    "duration": 23,
    "start_time": "2022-08-05T13:18:54.525Z"
   },
   {
    "duration": 11,
    "start_time": "2022-08-05T13:24:58.413Z"
   },
   {
    "duration": 12,
    "start_time": "2022-08-05T13:25:21.682Z"
   },
   {
    "duration": 18,
    "start_time": "2022-08-05T13:25:34.502Z"
   },
   {
    "duration": 11,
    "start_time": "2022-08-05T13:25:51.182Z"
   },
   {
    "duration": 27,
    "start_time": "2022-08-05T13:26:01.843Z"
   },
   {
    "duration": 16,
    "start_time": "2022-08-05T13:26:18.598Z"
   },
   {
    "duration": 11,
    "start_time": "2022-08-05T13:26:26.240Z"
   },
   {
    "duration": 22,
    "start_time": "2022-08-05T13:26:33.807Z"
   },
   {
    "duration": 23,
    "start_time": "2022-08-05T13:26:44.847Z"
   },
   {
    "duration": 31,
    "start_time": "2022-08-05T13:27:01.660Z"
   },
   {
    "duration": 24,
    "start_time": "2022-08-05T13:27:14.294Z"
   },
   {
    "duration": 5,
    "start_time": "2022-08-05T13:27:16.688Z"
   },
   {
    "duration": 21,
    "start_time": "2022-08-05T13:27:17.298Z"
   },
   {
    "duration": 3,
    "start_time": "2022-08-05T13:27:18.057Z"
   },
   {
    "duration": 24,
    "start_time": "2022-08-05T13:27:30.996Z"
   },
   {
    "duration": 114,
    "start_time": "2022-08-05T13:27:55.438Z"
   },
   {
    "duration": 15,
    "start_time": "2022-08-05T13:27:56.210Z"
   },
   {
    "duration": 5,
    "start_time": "2022-08-05T13:28:02.977Z"
   },
   {
    "duration": 22,
    "start_time": "2022-08-05T13:28:03.596Z"
   },
   {
    "duration": 22,
    "start_time": "2022-08-05T13:28:13.683Z"
   },
   {
    "duration": 5,
    "start_time": "2022-08-05T13:28:15.988Z"
   },
   {
    "duration": 17,
    "start_time": "2022-08-05T13:28:16.499Z"
   },
   {
    "duration": 5,
    "start_time": "2022-08-05T13:28:31.390Z"
   },
   {
    "duration": 25,
    "start_time": "2022-08-05T13:28:31.889Z"
   },
   {
    "duration": 5,
    "start_time": "2022-08-05T13:28:57.605Z"
   },
   {
    "duration": 19,
    "start_time": "2022-08-05T13:28:58.194Z"
   },
   {
    "duration": 2,
    "start_time": "2022-08-05T13:28:59.259Z"
   },
   {
    "duration": 2,
    "start_time": "2022-08-05T13:29:00.173Z"
   },
   {
    "duration": 3,
    "start_time": "2022-08-05T13:29:00.811Z"
   },
   {
    "duration": 3,
    "start_time": "2022-08-05T13:29:01.481Z"
   },
   {
    "duration": 3,
    "start_time": "2022-08-05T13:29:02.546Z"
   },
   {
    "duration": 2,
    "start_time": "2022-08-05T13:29:03.245Z"
   },
   {
    "duration": 3,
    "start_time": "2022-08-05T13:29:03.940Z"
   },
   {
    "duration": 3,
    "start_time": "2022-08-05T13:29:05.656Z"
   },
   {
    "duration": 25,
    "start_time": "2022-08-05T13:29:06.582Z"
   },
   {
    "duration": 5,
    "start_time": "2022-08-05T13:29:07.343Z"
   },
   {
    "duration": 3,
    "start_time": "2022-08-05T13:29:57.202Z"
   },
   {
    "duration": 5,
    "start_time": "2022-08-05T13:29:57.508Z"
   },
   {
    "duration": 24,
    "start_time": "2022-08-05T13:29:58.182Z"
   },
   {
    "duration": 3,
    "start_time": "2022-08-05T13:29:58.738Z"
   },
   {
    "duration": 5,
    "start_time": "2022-08-05T13:30:11.375Z"
   },
   {
    "duration": 24,
    "start_time": "2022-08-05T13:30:14.289Z"
   },
   {
    "duration": 1519,
    "start_time": "2022-08-06T08:00:18.682Z"
   },
   {
    "duration": 21,
    "start_time": "2022-08-06T08:00:20.204Z"
   },
   {
    "duration": 17,
    "start_time": "2022-08-06T08:00:20.227Z"
   },
   {
    "duration": 11,
    "start_time": "2022-08-06T08:00:20.246Z"
   },
   {
    "duration": 6,
    "start_time": "2022-08-06T08:00:20.259Z"
   },
   {
    "duration": 57,
    "start_time": "2022-08-06T08:00:20.267Z"
   },
   {
    "duration": 3,
    "start_time": "2022-08-06T08:00:20.326Z"
   },
   {
    "duration": 12,
    "start_time": "2022-08-06T08:00:20.331Z"
   },
   {
    "duration": 5,
    "start_time": "2022-08-06T08:00:20.345Z"
   },
   {
    "duration": 9,
    "start_time": "2022-08-06T08:00:20.352Z"
   },
   {
    "duration": 5,
    "start_time": "2022-08-06T08:00:20.363Z"
   },
   {
    "duration": 35,
    "start_time": "2022-08-06T08:00:20.392Z"
   },
   {
    "duration": 10,
    "start_time": "2022-08-06T08:00:20.429Z"
   },
   {
    "duration": 4,
    "start_time": "2022-08-06T08:00:20.441Z"
   },
   {
    "duration": 47,
    "start_time": "2022-08-06T08:00:20.446Z"
   },
   {
    "duration": 18,
    "start_time": "2022-08-06T08:00:20.495Z"
   },
   {
    "duration": 12,
    "start_time": "2022-08-06T08:00:20.515Z"
   },
   {
    "duration": 5,
    "start_time": "2022-08-06T08:00:20.529Z"
   },
   {
    "duration": 15,
    "start_time": "2022-08-06T08:00:20.536Z"
   },
   {
    "duration": 6,
    "start_time": "2022-08-06T08:00:20.553Z"
   },
   {
    "duration": 32,
    "start_time": "2022-08-06T08:00:20.561Z"
   },
   {
    "duration": 26,
    "start_time": "2022-08-06T08:00:20.596Z"
   },
   {
    "duration": 3,
    "start_time": "2022-08-06T08:00:20.624Z"
   },
   {
    "duration": 7,
    "start_time": "2022-08-06T08:00:20.629Z"
   },
   {
    "duration": 28,
    "start_time": "2022-08-06T08:00:20.638Z"
   },
   {
    "duration": 2,
    "start_time": "2022-08-06T08:00:20.667Z"
   },
   {
    "duration": 20,
    "start_time": "2022-08-06T08:00:20.671Z"
   },
   {
    "duration": 2,
    "start_time": "2022-08-06T08:00:20.695Z"
   },
   {
    "duration": 5,
    "start_time": "2022-08-06T08:00:20.700Z"
   },
   {
    "duration": 5,
    "start_time": "2022-08-06T08:00:20.707Z"
   },
   {
    "duration": 6,
    "start_time": "2022-08-06T08:00:20.714Z"
   },
   {
    "duration": 5,
    "start_time": "2022-08-06T08:00:20.722Z"
   },
   {
    "duration": 7,
    "start_time": "2022-08-06T08:00:20.730Z"
   },
   {
    "duration": 5,
    "start_time": "2022-08-06T08:00:20.739Z"
   },
   {
    "duration": 122,
    "start_time": "2022-08-06T08:00:20.745Z"
   },
   {
    "duration": 0,
    "start_time": "2022-08-06T08:00:20.869Z"
   },
   {
    "duration": 0,
    "start_time": "2022-08-06T08:00:20.870Z"
   },
   {
    "duration": 0,
    "start_time": "2022-08-06T08:00:20.872Z"
   },
   {
    "duration": 0,
    "start_time": "2022-08-06T08:00:20.873Z"
   },
   {
    "duration": 0,
    "start_time": "2022-08-06T08:00:20.892Z"
   },
   {
    "duration": 0,
    "start_time": "2022-08-06T08:00:20.893Z"
   },
   {
    "duration": 0,
    "start_time": "2022-08-06T08:00:20.895Z"
   },
   {
    "duration": 0,
    "start_time": "2022-08-06T08:00:20.897Z"
   },
   {
    "duration": 0,
    "start_time": "2022-08-06T08:00:20.898Z"
   },
   {
    "duration": 0,
    "start_time": "2022-08-06T08:00:20.899Z"
   },
   {
    "duration": 0,
    "start_time": "2022-08-06T08:00:20.900Z"
   },
   {
    "duration": 0,
    "start_time": "2022-08-06T08:00:20.901Z"
   },
   {
    "duration": 0,
    "start_time": "2022-08-06T08:00:20.902Z"
   },
   {
    "duration": 0,
    "start_time": "2022-08-06T08:00:20.904Z"
   },
   {
    "duration": 0,
    "start_time": "2022-08-06T08:00:20.904Z"
   },
   {
    "duration": 0,
    "start_time": "2022-08-06T08:00:20.905Z"
   },
   {
    "duration": 0,
    "start_time": "2022-08-06T08:00:20.906Z"
   },
   {
    "duration": 0,
    "start_time": "2022-08-06T08:00:20.908Z"
   },
   {
    "duration": 0,
    "start_time": "2022-08-06T08:00:20.909Z"
   },
   {
    "duration": 0,
    "start_time": "2022-08-06T08:00:20.910Z"
   },
   {
    "duration": 0,
    "start_time": "2022-08-06T08:00:20.911Z"
   },
   {
    "duration": 0,
    "start_time": "2022-08-06T08:00:20.912Z"
   },
   {
    "duration": 0,
    "start_time": "2022-08-06T08:00:20.913Z"
   },
   {
    "duration": 0,
    "start_time": "2022-08-06T08:00:20.914Z"
   },
   {
    "duration": 0,
    "start_time": "2022-08-06T08:00:20.915Z"
   },
   {
    "duration": 25,
    "start_time": "2022-08-06T08:01:16.427Z"
   },
   {
    "duration": 75,
    "start_time": "2022-08-06T08:01:27.467Z"
   },
   {
    "duration": 15,
    "start_time": "2022-08-06T08:01:27.544Z"
   },
   {
    "duration": 41,
    "start_time": "2022-08-06T08:01:27.561Z"
   },
   {
    "duration": 11,
    "start_time": "2022-08-06T08:01:27.604Z"
   },
   {
    "duration": 6,
    "start_time": "2022-08-06T08:01:27.617Z"
   },
   {
    "duration": 38,
    "start_time": "2022-08-06T08:01:27.625Z"
   },
   {
    "duration": 4,
    "start_time": "2022-08-06T08:01:27.692Z"
   },
   {
    "duration": 11,
    "start_time": "2022-08-06T08:01:27.698Z"
   },
   {
    "duration": 4,
    "start_time": "2022-08-06T08:01:27.711Z"
   },
   {
    "duration": 6,
    "start_time": "2022-08-06T08:01:27.717Z"
   },
   {
    "duration": 6,
    "start_time": "2022-08-06T08:01:27.725Z"
   },
   {
    "duration": 70,
    "start_time": "2022-08-06T08:01:27.733Z"
   },
   {
    "duration": 13,
    "start_time": "2022-08-06T08:01:27.805Z"
   },
   {
    "duration": 5,
    "start_time": "2022-08-06T08:01:27.819Z"
   },
   {
    "duration": 26,
    "start_time": "2022-08-06T08:01:27.826Z"
   },
   {
    "duration": 18,
    "start_time": "2022-08-06T08:01:27.854Z"
   },
   {
    "duration": 14,
    "start_time": "2022-08-06T08:01:27.893Z"
   },
   {
    "duration": 6,
    "start_time": "2022-08-06T08:01:27.909Z"
   },
   {
    "duration": 13,
    "start_time": "2022-08-06T08:01:27.917Z"
   },
   {
    "duration": 11,
    "start_time": "2022-08-06T08:01:27.932Z"
   },
   {
    "duration": 5,
    "start_time": "2022-08-06T08:01:27.945Z"
   },
   {
    "duration": 15,
    "start_time": "2022-08-06T08:01:27.951Z"
   },
   {
    "duration": 29,
    "start_time": "2022-08-06T08:01:27.968Z"
   },
   {
    "duration": 9,
    "start_time": "2022-08-06T08:01:27.999Z"
   },
   {
    "duration": 32,
    "start_time": "2022-08-06T08:01:28.010Z"
   },
   {
    "duration": 2,
    "start_time": "2022-08-06T08:01:28.044Z"
   },
   {
    "duration": 10,
    "start_time": "2022-08-06T08:01:28.048Z"
   },
   {
    "duration": 5,
    "start_time": "2022-08-06T08:01:28.062Z"
   },
   {
    "duration": 7,
    "start_time": "2022-08-06T08:01:28.069Z"
   },
   {
    "duration": 3,
    "start_time": "2022-08-06T08:01:28.092Z"
   },
   {
    "duration": 5,
    "start_time": "2022-08-06T08:01:28.097Z"
   },
   {
    "duration": 5,
    "start_time": "2022-08-06T08:01:28.104Z"
   },
   {
    "duration": 9,
    "start_time": "2022-08-06T08:01:28.111Z"
   },
   {
    "duration": 15,
    "start_time": "2022-08-06T08:01:28.122Z"
   },
   {
    "duration": 33,
    "start_time": "2022-08-06T08:01:28.139Z"
   },
   {
    "duration": 24,
    "start_time": "2022-08-06T08:01:28.174Z"
   },
   {
    "duration": 23,
    "start_time": "2022-08-06T08:01:28.200Z"
   },
   {
    "duration": 31,
    "start_time": "2022-08-06T08:01:28.225Z"
   },
   {
    "duration": 22,
    "start_time": "2022-08-06T08:01:28.258Z"
   },
   {
    "duration": 22,
    "start_time": "2022-08-06T08:01:28.282Z"
   },
   {
    "duration": 7,
    "start_time": "2022-08-06T08:01:28.306Z"
   },
   {
    "duration": 6,
    "start_time": "2022-08-06T08:01:28.315Z"
   },
   {
    "duration": 43,
    "start_time": "2022-08-06T08:01:28.323Z"
   },
   {
    "duration": 0,
    "start_time": "2022-08-06T08:01:28.368Z"
   },
   {
    "duration": 0,
    "start_time": "2022-08-06T08:01:28.369Z"
   },
   {
    "duration": 0,
    "start_time": "2022-08-06T08:01:28.371Z"
   },
   {
    "duration": 0,
    "start_time": "2022-08-06T08:01:28.372Z"
   },
   {
    "duration": 0,
    "start_time": "2022-08-06T08:01:28.373Z"
   },
   {
    "duration": 0,
    "start_time": "2022-08-06T08:01:28.375Z"
   },
   {
    "duration": 0,
    "start_time": "2022-08-06T08:01:28.376Z"
   },
   {
    "duration": 0,
    "start_time": "2022-08-06T08:01:28.377Z"
   },
   {
    "duration": 0,
    "start_time": "2022-08-06T08:01:28.379Z"
   },
   {
    "duration": 0,
    "start_time": "2022-08-06T08:01:28.380Z"
   },
   {
    "duration": 0,
    "start_time": "2022-08-06T08:01:28.381Z"
   },
   {
    "duration": 0,
    "start_time": "2022-08-06T08:01:28.382Z"
   },
   {
    "duration": 0,
    "start_time": "2022-08-06T08:01:28.383Z"
   },
   {
    "duration": 0,
    "start_time": "2022-08-06T08:01:28.385Z"
   },
   {
    "duration": 0,
    "start_time": "2022-08-06T08:01:28.391Z"
   },
   {
    "duration": 0,
    "start_time": "2022-08-06T08:01:28.393Z"
   },
   {
    "duration": 21,
    "start_time": "2022-08-06T08:02:00.560Z"
   },
   {
    "duration": 25,
    "start_time": "2022-08-06T08:03:29.615Z"
   },
   {
    "duration": 21,
    "start_time": "2022-08-06T08:03:37.607Z"
   },
   {
    "duration": 23,
    "start_time": "2022-08-06T08:03:57.212Z"
   },
   {
    "duration": 24,
    "start_time": "2022-08-06T08:09:19.379Z"
   },
   {
    "duration": 5,
    "start_time": "2022-08-06T08:09:28.057Z"
   },
   {
    "duration": 19,
    "start_time": "2022-08-06T08:09:28.577Z"
   },
   {
    "duration": 26,
    "start_time": "2022-08-06T08:09:47.473Z"
   },
   {
    "duration": 24,
    "start_time": "2022-08-06T08:10:08.128Z"
   },
   {
    "duration": 5,
    "start_time": "2022-08-06T08:10:13.515Z"
   },
   {
    "duration": 19,
    "start_time": "2022-08-06T08:10:14.136Z"
   },
   {
    "duration": 2,
    "start_time": "2022-08-06T08:10:14.739Z"
   },
   {
    "duration": 2,
    "start_time": "2022-08-06T08:10:15.635Z"
   },
   {
    "duration": 2,
    "start_time": "2022-08-06T08:10:16.663Z"
   },
   {
    "duration": 2,
    "start_time": "2022-08-06T08:10:17.697Z"
   },
   {
    "duration": 2,
    "start_time": "2022-08-06T08:10:19.780Z"
   },
   {
    "duration": 3,
    "start_time": "2022-08-06T08:10:20.783Z"
   },
   {
    "duration": 2,
    "start_time": "2022-08-06T08:10:21.606Z"
   },
   {
    "duration": 3,
    "start_time": "2022-08-06T08:10:23.246Z"
   },
   {
    "duration": 3,
    "start_time": "2022-08-06T08:10:23.646Z"
   },
   {
    "duration": 27,
    "start_time": "2022-08-06T08:10:24.516Z"
   },
   {
    "duration": 2,
    "start_time": "2022-08-06T08:10:25.394Z"
   },
   {
    "duration": 19,
    "start_time": "2022-08-06T08:11:35.956Z"
   },
   {
    "duration": 24,
    "start_time": "2022-08-06T08:23:57.684Z"
   },
   {
    "duration": 6,
    "start_time": "2022-08-06T08:24:00.176Z"
   },
   {
    "duration": 21,
    "start_time": "2022-08-06T08:24:00.806Z"
   },
   {
    "duration": 22,
    "start_time": "2022-08-06T08:24:10.592Z"
   },
   {
    "duration": 5,
    "start_time": "2022-08-06T08:24:12.802Z"
   },
   {
    "duration": 19,
    "start_time": "2022-08-06T08:24:13.439Z"
   },
   {
    "duration": 5,
    "start_time": "2022-08-06T08:33:55.827Z"
   },
   {
    "duration": 18,
    "start_time": "2022-08-06T08:33:58.083Z"
   },
   {
    "duration": 24,
    "start_time": "2022-08-06T08:34:09.171Z"
   },
   {
    "duration": 72,
    "start_time": "2022-08-06T08:34:13.827Z"
   },
   {
    "duration": 15,
    "start_time": "2022-08-06T08:34:13.901Z"
   },
   {
    "duration": 21,
    "start_time": "2022-08-06T08:34:13.918Z"
   },
   {
    "duration": 22,
    "start_time": "2022-08-06T08:34:13.941Z"
   },
   {
    "duration": 44,
    "start_time": "2022-08-06T08:34:13.965Z"
   },
   {
    "duration": 76,
    "start_time": "2022-08-06T08:34:14.012Z"
   },
   {
    "duration": 4,
    "start_time": "2022-08-06T08:34:14.090Z"
   },
   {
    "duration": 24,
    "start_time": "2022-08-06T08:34:14.095Z"
   },
   {
    "duration": 22,
    "start_time": "2022-08-06T08:34:14.121Z"
   },
   {
    "duration": 9,
    "start_time": "2022-08-06T08:34:14.147Z"
   },
   {
    "duration": 13,
    "start_time": "2022-08-06T08:34:14.158Z"
   },
   {
    "duration": 47,
    "start_time": "2022-08-06T08:34:14.173Z"
   },
   {
    "duration": 10,
    "start_time": "2022-08-06T08:34:14.221Z"
   },
   {
    "duration": 4,
    "start_time": "2022-08-06T08:34:14.233Z"
   },
   {
    "duration": 29,
    "start_time": "2022-08-06T08:34:14.238Z"
   },
   {
    "duration": 33,
    "start_time": "2022-08-06T08:34:14.269Z"
   },
   {
    "duration": 12,
    "start_time": "2022-08-06T08:34:14.304Z"
   },
   {
    "duration": 6,
    "start_time": "2022-08-06T08:34:14.318Z"
   },
   {
    "duration": 12,
    "start_time": "2022-08-06T08:34:14.326Z"
   },
   {
    "duration": 6,
    "start_time": "2022-08-06T08:34:14.340Z"
   },
   {
    "duration": 5,
    "start_time": "2022-08-06T08:34:14.347Z"
   },
   {
    "duration": 39,
    "start_time": "2022-08-06T08:34:14.353Z"
   },
   {
    "duration": 2,
    "start_time": "2022-08-06T08:34:14.396Z"
   },
   {
    "duration": 6,
    "start_time": "2022-08-06T08:34:14.400Z"
   },
   {
    "duration": 30,
    "start_time": "2022-08-06T08:34:14.407Z"
   },
   {
    "duration": 0,
    "start_time": "2022-08-06T08:34:14.440Z"
   },
   {
    "duration": 0,
    "start_time": "2022-08-06T08:34:14.441Z"
   },
   {
    "duration": 0,
    "start_time": "2022-08-06T08:34:14.442Z"
   },
   {
    "duration": 0,
    "start_time": "2022-08-06T08:34:14.443Z"
   },
   {
    "duration": 0,
    "start_time": "2022-08-06T08:34:14.445Z"
   },
   {
    "duration": 0,
    "start_time": "2022-08-06T08:34:14.446Z"
   },
   {
    "duration": 0,
    "start_time": "2022-08-06T08:34:14.447Z"
   },
   {
    "duration": 0,
    "start_time": "2022-08-06T08:34:14.448Z"
   },
   {
    "duration": 0,
    "start_time": "2022-08-06T08:34:14.449Z"
   },
   {
    "duration": 0,
    "start_time": "2022-08-06T08:34:14.450Z"
   },
   {
    "duration": 0,
    "start_time": "2022-08-06T08:34:14.451Z"
   },
   {
    "duration": 0,
    "start_time": "2022-08-06T08:34:14.452Z"
   },
   {
    "duration": 0,
    "start_time": "2022-08-06T08:34:14.453Z"
   },
   {
    "duration": 1,
    "start_time": "2022-08-06T08:34:14.454Z"
   },
   {
    "duration": 0,
    "start_time": "2022-08-06T08:34:14.455Z"
   },
   {
    "duration": 0,
    "start_time": "2022-08-06T08:34:14.457Z"
   },
   {
    "duration": 0,
    "start_time": "2022-08-06T08:34:14.492Z"
   },
   {
    "duration": 0,
    "start_time": "2022-08-06T08:34:14.493Z"
   },
   {
    "duration": 0,
    "start_time": "2022-08-06T08:34:14.494Z"
   },
   {
    "duration": 0,
    "start_time": "2022-08-06T08:34:14.495Z"
   },
   {
    "duration": 0,
    "start_time": "2022-08-06T08:34:14.496Z"
   },
   {
    "duration": 0,
    "start_time": "2022-08-06T08:34:14.498Z"
   },
   {
    "duration": 0,
    "start_time": "2022-08-06T08:34:14.499Z"
   },
   {
    "duration": 0,
    "start_time": "2022-08-06T08:34:14.501Z"
   },
   {
    "duration": 0,
    "start_time": "2022-08-06T08:34:14.503Z"
   },
   {
    "duration": 0,
    "start_time": "2022-08-06T08:34:14.504Z"
   },
   {
    "duration": 0,
    "start_time": "2022-08-06T08:34:14.506Z"
   },
   {
    "duration": 0,
    "start_time": "2022-08-06T08:34:14.508Z"
   },
   {
    "duration": 0,
    "start_time": "2022-08-06T08:34:14.510Z"
   },
   {
    "duration": 0,
    "start_time": "2022-08-06T08:34:14.511Z"
   },
   {
    "duration": 0,
    "start_time": "2022-08-06T08:34:14.513Z"
   },
   {
    "duration": 0,
    "start_time": "2022-08-06T08:34:14.515Z"
   },
   {
    "duration": 0,
    "start_time": "2022-08-06T08:34:14.516Z"
   },
   {
    "duration": 0,
    "start_time": "2022-08-06T08:34:14.518Z"
   },
   {
    "duration": 0,
    "start_time": "2022-08-06T08:34:14.519Z"
   },
   {
    "duration": 7,
    "start_time": "2022-08-06T08:34:25.328Z"
   },
   {
    "duration": 38,
    "start_time": "2022-08-06T08:34:26.073Z"
   },
   {
    "duration": 76,
    "start_time": "2022-08-06T08:38:22.865Z"
   },
   {
    "duration": 17,
    "start_time": "2022-08-06T08:38:22.943Z"
   },
   {
    "duration": 40,
    "start_time": "2022-08-06T08:38:22.962Z"
   },
   {
    "duration": 41,
    "start_time": "2022-08-06T08:38:23.005Z"
   },
   {
    "duration": 37,
    "start_time": "2022-08-06T08:38:23.048Z"
   },
   {
    "duration": 43,
    "start_time": "2022-08-06T08:38:23.086Z"
   },
   {
    "duration": 3,
    "start_time": "2022-08-06T08:38:23.131Z"
   },
   {
    "duration": 13,
    "start_time": "2022-08-06T08:38:23.136Z"
   },
   {
    "duration": 5,
    "start_time": "2022-08-06T08:38:23.151Z"
   },
   {
    "duration": 11,
    "start_time": "2022-08-06T08:38:23.159Z"
   },
   {
    "duration": 21,
    "start_time": "2022-08-06T08:38:23.172Z"
   },
   {
    "duration": 50,
    "start_time": "2022-08-06T08:38:23.196Z"
   },
   {
    "duration": 12,
    "start_time": "2022-08-06T08:38:23.248Z"
   },
   {
    "duration": 5,
    "start_time": "2022-08-06T08:38:23.261Z"
   },
   {
    "duration": 21,
    "start_time": "2022-08-06T08:38:23.292Z"
   },
   {
    "duration": 21,
    "start_time": "2022-08-06T08:38:23.315Z"
   },
   {
    "duration": 15,
    "start_time": "2022-08-06T08:38:23.338Z"
   },
   {
    "duration": 9,
    "start_time": "2022-08-06T08:38:23.355Z"
   },
   {
    "duration": 11,
    "start_time": "2022-08-06T08:38:23.392Z"
   },
   {
    "duration": 13,
    "start_time": "2022-08-06T08:38:23.406Z"
   },
   {
    "duration": 4,
    "start_time": "2022-08-06T08:38:23.420Z"
   },
   {
    "duration": 21,
    "start_time": "2022-08-06T08:38:23.426Z"
   },
   {
    "duration": 8,
    "start_time": "2022-08-06T08:38:23.449Z"
   },
   {
    "duration": 6,
    "start_time": "2022-08-06T08:38:23.459Z"
   },
   {
    "duration": 48,
    "start_time": "2022-08-06T08:38:23.467Z"
   },
   {
    "duration": 0,
    "start_time": "2022-08-06T08:38:23.518Z"
   },
   {
    "duration": 0,
    "start_time": "2022-08-06T08:38:23.519Z"
   },
   {
    "duration": 0,
    "start_time": "2022-08-06T08:38:23.520Z"
   },
   {
    "duration": 0,
    "start_time": "2022-08-06T08:38:23.522Z"
   },
   {
    "duration": 0,
    "start_time": "2022-08-06T08:38:23.523Z"
   },
   {
    "duration": 0,
    "start_time": "2022-08-06T08:38:23.524Z"
   },
   {
    "duration": 0,
    "start_time": "2022-08-06T08:38:23.525Z"
   },
   {
    "duration": 0,
    "start_time": "2022-08-06T08:38:23.526Z"
   },
   {
    "duration": 0,
    "start_time": "2022-08-06T08:38:23.528Z"
   },
   {
    "duration": 0,
    "start_time": "2022-08-06T08:38:23.529Z"
   },
   {
    "duration": 0,
    "start_time": "2022-08-06T08:38:23.530Z"
   },
   {
    "duration": 0,
    "start_time": "2022-08-06T08:38:23.531Z"
   },
   {
    "duration": 0,
    "start_time": "2022-08-06T08:38:23.533Z"
   },
   {
    "duration": 0,
    "start_time": "2022-08-06T08:38:23.534Z"
   },
   {
    "duration": 0,
    "start_time": "2022-08-06T08:38:23.535Z"
   },
   {
    "duration": 0,
    "start_time": "2022-08-06T08:38:23.536Z"
   },
   {
    "duration": 0,
    "start_time": "2022-08-06T08:38:23.536Z"
   },
   {
    "duration": 1,
    "start_time": "2022-08-06T08:38:23.537Z"
   },
   {
    "duration": 0,
    "start_time": "2022-08-06T08:38:23.538Z"
   },
   {
    "duration": 0,
    "start_time": "2022-08-06T08:38:23.539Z"
   },
   {
    "duration": 0,
    "start_time": "2022-08-06T08:38:23.541Z"
   },
   {
    "duration": 0,
    "start_time": "2022-08-06T08:38:23.542Z"
   },
   {
    "duration": 0,
    "start_time": "2022-08-06T08:38:23.543Z"
   },
   {
    "duration": 0,
    "start_time": "2022-08-06T08:38:23.544Z"
   },
   {
    "duration": 0,
    "start_time": "2022-08-06T08:38:23.591Z"
   },
   {
    "duration": 0,
    "start_time": "2022-08-06T08:38:23.592Z"
   },
   {
    "duration": 0,
    "start_time": "2022-08-06T08:38:23.593Z"
   },
   {
    "duration": 0,
    "start_time": "2022-08-06T08:38:23.595Z"
   },
   {
    "duration": 0,
    "start_time": "2022-08-06T08:38:23.596Z"
   },
   {
    "duration": 0,
    "start_time": "2022-08-06T08:38:23.597Z"
   },
   {
    "duration": 0,
    "start_time": "2022-08-06T08:38:23.598Z"
   },
   {
    "duration": 0,
    "start_time": "2022-08-06T08:38:23.599Z"
   },
   {
    "duration": 0,
    "start_time": "2022-08-06T08:38:23.600Z"
   },
   {
    "duration": 0,
    "start_time": "2022-08-06T08:38:23.601Z"
   },
   {
    "duration": 0,
    "start_time": "2022-08-06T08:38:23.603Z"
   },
   {
    "duration": 4,
    "start_time": "2022-08-06T08:46:46.732Z"
   },
   {
    "duration": 22,
    "start_time": "2022-08-06T08:46:47.314Z"
   },
   {
    "duration": 73,
    "start_time": "2022-08-06T08:46:52.902Z"
   },
   {
    "duration": 17,
    "start_time": "2022-08-06T08:46:52.977Z"
   },
   {
    "duration": 43,
    "start_time": "2022-08-06T08:46:52.997Z"
   },
   {
    "duration": 30,
    "start_time": "2022-08-06T08:46:53.043Z"
   },
   {
    "duration": 17,
    "start_time": "2022-08-06T08:46:53.076Z"
   },
   {
    "duration": 68,
    "start_time": "2022-08-06T08:46:53.095Z"
   },
   {
    "duration": 3,
    "start_time": "2022-08-06T08:46:53.165Z"
   },
   {
    "duration": 24,
    "start_time": "2022-08-06T08:46:53.170Z"
   },
   {
    "duration": 5,
    "start_time": "2022-08-06T08:46:53.195Z"
   },
   {
    "duration": 13,
    "start_time": "2022-08-06T08:46:53.203Z"
   },
   {
    "duration": 6,
    "start_time": "2022-08-06T08:46:53.218Z"
   },
   {
    "duration": 43,
    "start_time": "2022-08-06T08:46:53.226Z"
   },
   {
    "duration": 21,
    "start_time": "2022-08-06T08:46:53.271Z"
   },
   {
    "duration": 8,
    "start_time": "2022-08-06T08:46:53.294Z"
   },
   {
    "duration": 20,
    "start_time": "2022-08-06T08:46:53.304Z"
   },
   {
    "duration": 19,
    "start_time": "2022-08-06T08:46:53.325Z"
   },
   {
    "duration": 11,
    "start_time": "2022-08-06T08:46:53.345Z"
   },
   {
    "duration": 34,
    "start_time": "2022-08-06T08:46:53.358Z"
   },
   {
    "duration": 15,
    "start_time": "2022-08-06T08:46:53.393Z"
   },
   {
    "duration": 12,
    "start_time": "2022-08-06T08:46:53.410Z"
   },
   {
    "duration": 4,
    "start_time": "2022-08-06T08:46:53.423Z"
   },
   {
    "duration": 11,
    "start_time": "2022-08-06T08:46:53.429Z"
   },
   {
    "duration": 5,
    "start_time": "2022-08-06T08:46:53.442Z"
   },
   {
    "duration": 6,
    "start_time": "2022-08-06T08:46:53.449Z"
   },
   {
    "duration": 52,
    "start_time": "2022-08-06T08:46:53.457Z"
   },
   {
    "duration": 2,
    "start_time": "2022-08-06T08:46:53.511Z"
   },
   {
    "duration": 5,
    "start_time": "2022-08-06T08:46:53.515Z"
   },
   {
    "duration": 5,
    "start_time": "2022-08-06T08:46:53.523Z"
   },
   {
    "duration": 5,
    "start_time": "2022-08-06T08:46:53.530Z"
   },
   {
    "duration": 3,
    "start_time": "2022-08-06T08:46:53.537Z"
   },
   {
    "duration": 4,
    "start_time": "2022-08-06T08:46:53.542Z"
   },
   {
    "duration": 6,
    "start_time": "2022-08-06T08:46:53.548Z"
   },
   {
    "duration": 4,
    "start_time": "2022-08-06T08:46:53.556Z"
   },
   {
    "duration": 30,
    "start_time": "2022-08-06T08:46:53.562Z"
   },
   {
    "duration": 23,
    "start_time": "2022-08-06T08:46:53.593Z"
   },
   {
    "duration": 14,
    "start_time": "2022-08-06T08:46:53.617Z"
   },
   {
    "duration": 4,
    "start_time": "2022-08-06T08:46:53.633Z"
   },
   {
    "duration": 6,
    "start_time": "2022-08-06T08:46:53.639Z"
   },
   {
    "duration": 6,
    "start_time": "2022-08-06T08:46:53.646Z"
   },
   {
    "duration": 6,
    "start_time": "2022-08-06T08:46:53.654Z"
   },
   {
    "duration": 2,
    "start_time": "2022-08-06T08:46:53.692Z"
   },
   {
    "duration": 9,
    "start_time": "2022-08-06T08:46:53.696Z"
   },
   {
    "duration": 6,
    "start_time": "2022-08-06T08:46:53.706Z"
   },
   {
    "duration": 21,
    "start_time": "2022-08-06T08:46:53.714Z"
   },
   {
    "duration": 3,
    "start_time": "2022-08-06T08:46:53.737Z"
   },
   {
    "duration": 7,
    "start_time": "2022-08-06T08:46:53.742Z"
   },
   {
    "duration": 5,
    "start_time": "2022-08-06T08:46:53.750Z"
   },
   {
    "duration": 6,
    "start_time": "2022-08-06T08:46:53.757Z"
   },
   {
    "duration": 5,
    "start_time": "2022-08-06T08:46:53.765Z"
   },
   {
    "duration": 12,
    "start_time": "2022-08-06T08:46:53.792Z"
   },
   {
    "duration": 6,
    "start_time": "2022-08-06T08:46:53.806Z"
   },
   {
    "duration": 28,
    "start_time": "2022-08-06T08:46:53.814Z"
   },
   {
    "duration": 13,
    "start_time": "2022-08-06T08:46:53.843Z"
   },
   {
    "duration": 39,
    "start_time": "2022-08-06T08:46:53.858Z"
   },
   {
    "duration": 3,
    "start_time": "2022-08-06T08:46:53.900Z"
   },
   {
    "duration": 12,
    "start_time": "2022-08-06T08:46:53.905Z"
   },
   {
    "duration": 7,
    "start_time": "2022-08-06T08:46:53.919Z"
   },
   {
    "duration": 8,
    "start_time": "2022-08-06T08:46:53.927Z"
   },
   {
    "duration": 14,
    "start_time": "2022-08-06T08:46:53.937Z"
   },
   {
    "duration": 386,
    "start_time": "2022-08-06T08:46:53.954Z"
   },
   {
    "duration": 22,
    "start_time": "2022-08-06T08:47:14.077Z"
   },
   {
    "duration": 24,
    "start_time": "2022-08-06T08:47:22.108Z"
   },
   {
    "duration": 24,
    "start_time": "2022-08-06T08:55:15.791Z"
   },
   {
    "duration": 21,
    "start_time": "2022-08-06T08:56:50.658Z"
   },
   {
    "duration": 384,
    "start_time": "2022-08-06T09:08:58.936Z"
   },
   {
    "duration": 365,
    "start_time": "2022-08-06T09:09:19.628Z"
   },
   {
    "duration": 29,
    "start_time": "2022-08-06T09:09:33.530Z"
   },
   {
    "duration": 26,
    "start_time": "2022-08-06T09:09:38.414Z"
   },
   {
    "duration": 341,
    "start_time": "2022-08-06T09:10:07.075Z"
   },
   {
    "duration": 82,
    "start_time": "2022-08-06T14:06:34.338Z"
   },
   {
    "duration": 48,
    "start_time": "2022-08-06T14:08:48.917Z"
   },
   {
    "duration": 1579,
    "start_time": "2022-08-06T14:09:00.947Z"
   },
   {
    "duration": 20,
    "start_time": "2022-08-06T14:09:02.529Z"
   },
   {
    "duration": 16,
    "start_time": "2022-08-06T14:09:02.550Z"
   },
   {
    "duration": 9,
    "start_time": "2022-08-06T14:09:02.568Z"
   },
   {
    "duration": 9,
    "start_time": "2022-08-06T14:09:02.578Z"
   },
   {
    "duration": 42,
    "start_time": "2022-08-06T14:09:02.590Z"
   },
   {
    "duration": 4,
    "start_time": "2022-08-06T14:09:02.634Z"
   },
   {
    "duration": 34,
    "start_time": "2022-08-06T14:09:02.640Z"
   },
   {
    "duration": 5,
    "start_time": "2022-08-06T14:09:02.676Z"
   },
   {
    "duration": 11,
    "start_time": "2022-08-06T14:09:02.683Z"
   },
   {
    "duration": 4,
    "start_time": "2022-08-06T14:09:02.696Z"
   },
   {
    "duration": 67,
    "start_time": "2022-08-06T14:09:02.702Z"
   },
   {
    "duration": 10,
    "start_time": "2022-08-06T14:09:02.771Z"
   },
   {
    "duration": 6,
    "start_time": "2022-08-06T14:09:02.783Z"
   },
   {
    "duration": 21,
    "start_time": "2022-08-06T14:09:02.791Z"
   },
   {
    "duration": 17,
    "start_time": "2022-08-06T14:09:02.814Z"
   },
   {
    "duration": 41,
    "start_time": "2022-08-06T14:09:02.833Z"
   },
   {
    "duration": 8,
    "start_time": "2022-08-06T14:09:02.876Z"
   },
   {
    "duration": 15,
    "start_time": "2022-08-06T14:09:02.886Z"
   },
   {
    "duration": 14,
    "start_time": "2022-08-06T14:09:02.903Z"
   },
   {
    "duration": 5,
    "start_time": "2022-08-06T14:09:02.919Z"
   },
   {
    "duration": 13,
    "start_time": "2022-08-06T14:09:02.925Z"
   },
   {
    "duration": 3,
    "start_time": "2022-08-06T14:09:02.939Z"
   },
   {
    "duration": 23,
    "start_time": "2022-08-06T14:09:02.944Z"
   },
   {
    "duration": 25,
    "start_time": "2022-08-06T14:09:02.970Z"
   },
   {
    "duration": 3,
    "start_time": "2022-08-06T14:09:02.997Z"
   },
   {
    "duration": 9,
    "start_time": "2022-08-06T14:09:03.001Z"
   },
   {
    "duration": 5,
    "start_time": "2022-08-06T14:09:03.015Z"
   },
   {
    "duration": 46,
    "start_time": "2022-08-06T14:09:03.022Z"
   },
   {
    "duration": 4,
    "start_time": "2022-08-06T14:09:03.070Z"
   },
   {
    "duration": 5,
    "start_time": "2022-08-06T14:09:03.076Z"
   },
   {
    "duration": 388,
    "start_time": "2022-08-06T14:09:03.083Z"
   },
   {
    "duration": 2,
    "start_time": "2022-08-06T14:09:03.473Z"
   },
   {
    "duration": 6,
    "start_time": "2022-08-06T14:09:03.476Z"
   },
   {
    "duration": 32,
    "start_time": "2022-08-06T14:09:03.484Z"
   },
   {
    "duration": 3,
    "start_time": "2022-08-06T14:09:03.517Z"
   },
   {
    "duration": 24,
    "start_time": "2022-08-06T14:09:03.521Z"
   },
   {
    "duration": 24,
    "start_time": "2022-08-06T14:09:03.546Z"
   },
   {
    "duration": 8,
    "start_time": "2022-08-06T14:09:03.572Z"
   },
   {
    "duration": 6,
    "start_time": "2022-08-06T14:09:03.582Z"
   },
   {
    "duration": 368,
    "start_time": "2022-08-06T14:09:03.589Z"
   },
   {
    "duration": 10,
    "start_time": "2022-08-06T14:09:03.958Z"
   },
   {
    "duration": 30,
    "start_time": "2022-08-06T14:09:03.969Z"
   },
   {
    "duration": 3,
    "start_time": "2022-08-06T14:09:04.001Z"
   },
   {
    "duration": 6,
    "start_time": "2022-08-06T14:09:04.005Z"
   },
   {
    "duration": 5,
    "start_time": "2022-08-06T14:09:04.012Z"
   },
   {
    "duration": 7,
    "start_time": "2022-08-06T14:09:04.018Z"
   },
   {
    "duration": 10,
    "start_time": "2022-08-06T14:09:04.026Z"
   },
   {
    "duration": 344,
    "start_time": "2022-08-06T14:09:04.038Z"
   },
   {
    "duration": 2,
    "start_time": "2022-08-06T14:09:04.384Z"
   },
   {
    "duration": 98,
    "start_time": "2022-08-06T14:09:04.388Z"
   },
   {
    "duration": 0,
    "start_time": "2022-08-06T14:09:04.488Z"
   },
   {
    "duration": 0,
    "start_time": "2022-08-06T14:09:04.489Z"
   },
   {
    "duration": 0,
    "start_time": "2022-08-06T14:09:04.491Z"
   },
   {
    "duration": 0,
    "start_time": "2022-08-06T14:09:04.492Z"
   },
   {
    "duration": 0,
    "start_time": "2022-08-06T14:09:04.493Z"
   },
   {
    "duration": 0,
    "start_time": "2022-08-06T14:09:04.495Z"
   },
   {
    "duration": 26,
    "start_time": "2022-08-06T14:09:41.735Z"
   },
   {
    "duration": 25,
    "start_time": "2022-08-06T14:10:48.350Z"
   },
   {
    "duration": 27,
    "start_time": "2022-08-06T14:10:56.932Z"
   },
   {
    "duration": 4,
    "start_time": "2022-08-06T14:12:01.273Z"
   },
   {
    "duration": 23,
    "start_time": "2022-08-06T14:12:01.976Z"
   },
   {
    "duration": 4,
    "start_time": "2022-08-06T14:12:20.673Z"
   },
   {
    "duration": 23,
    "start_time": "2022-08-06T14:12:21.225Z"
   },
   {
    "duration": 4,
    "start_time": "2022-08-06T14:12:27.358Z"
   },
   {
    "duration": 21,
    "start_time": "2022-08-06T14:12:27.853Z"
   },
   {
    "duration": 9,
    "start_time": "2022-08-06T14:13:09.187Z"
   },
   {
    "duration": 88,
    "start_time": "2022-08-06T14:17:49.349Z"
   },
   {
    "duration": 24,
    "start_time": "2022-08-06T14:19:23.803Z"
   },
   {
    "duration": 77,
    "start_time": "2022-08-06T14:24:25.488Z"
   },
   {
    "duration": 5,
    "start_time": "2022-08-06T14:24:33.115Z"
   },
   {
    "duration": 72,
    "start_time": "2022-08-06T14:24:33.578Z"
   },
   {
    "duration": 22,
    "start_time": "2022-08-06T14:24:45.635Z"
   },
   {
    "duration": 101,
    "start_time": "2022-08-06T14:25:36.435Z"
   },
   {
    "duration": 6,
    "start_time": "2022-08-06T14:25:41.878Z"
   },
   {
    "duration": 19,
    "start_time": "2022-08-06T14:25:43.538Z"
   },
   {
    "duration": 30,
    "start_time": "2022-08-06T14:40:20.146Z"
   },
   {
    "duration": 7,
    "start_time": "2022-08-06T14:46:47.253Z"
   },
   {
    "duration": 31,
    "start_time": "2022-08-06T14:46:47.663Z"
   },
   {
    "duration": 402,
    "start_time": "2022-08-06T14:46:49.165Z"
   },
   {
    "duration": 26,
    "start_time": "2022-08-06T14:49:47.133Z"
   },
   {
    "duration": 21,
    "start_time": "2022-08-06T14:52:43.601Z"
   },
   {
    "duration": 23,
    "start_time": "2022-08-06T14:55:05.813Z"
   },
   {
    "duration": 340,
    "start_time": "2022-08-06T14:55:20.342Z"
   },
   {
    "duration": 86,
    "start_time": "2022-08-06T14:56:36.458Z"
   },
   {
    "duration": 25,
    "start_time": "2022-08-06T14:56:36.546Z"
   },
   {
    "duration": 28,
    "start_time": "2022-08-06T14:56:36.573Z"
   },
   {
    "duration": 17,
    "start_time": "2022-08-06T14:56:36.604Z"
   },
   {
    "duration": 12,
    "start_time": "2022-08-06T14:56:36.623Z"
   },
   {
    "duration": 45,
    "start_time": "2022-08-06T14:56:36.667Z"
   },
   {
    "duration": 4,
    "start_time": "2022-08-06T14:56:36.715Z"
   },
   {
    "duration": 23,
    "start_time": "2022-08-06T14:56:36.721Z"
   },
   {
    "duration": 27,
    "start_time": "2022-08-06T14:56:36.745Z"
   },
   {
    "duration": 10,
    "start_time": "2022-08-06T14:56:36.775Z"
   },
   {
    "duration": 13,
    "start_time": "2022-08-06T14:56:36.788Z"
   },
   {
    "duration": 41,
    "start_time": "2022-08-06T14:56:36.803Z"
   },
   {
    "duration": 10,
    "start_time": "2022-08-06T14:56:36.867Z"
   },
   {
    "duration": 4,
    "start_time": "2022-08-06T14:56:36.878Z"
   },
   {
    "duration": 21,
    "start_time": "2022-08-06T14:56:36.884Z"
   },
   {
    "duration": 18,
    "start_time": "2022-08-06T14:56:36.907Z"
   },
   {
    "duration": 42,
    "start_time": "2022-08-06T14:56:36.927Z"
   },
   {
    "duration": 6,
    "start_time": "2022-08-06T14:56:36.971Z"
   },
   {
    "duration": 12,
    "start_time": "2022-08-06T14:56:36.979Z"
   },
   {
    "duration": 6,
    "start_time": "2022-08-06T14:56:36.993Z"
   },
   {
    "duration": 6,
    "start_time": "2022-08-06T14:56:37.000Z"
   },
   {
    "duration": 15,
    "start_time": "2022-08-06T14:56:37.008Z"
   },
   {
    "duration": 5,
    "start_time": "2022-08-06T14:56:37.025Z"
   },
   {
    "duration": 7,
    "start_time": "2022-08-06T14:56:37.031Z"
   },
   {
    "duration": 24,
    "start_time": "2022-08-06T14:56:37.069Z"
   },
   {
    "duration": 392,
    "start_time": "2022-08-06T14:56:37.095Z"
   },
   {
    "duration": 3,
    "start_time": "2022-08-06T14:56:37.489Z"
   },
   {
    "duration": 25,
    "start_time": "2022-08-06T14:56:37.496Z"
   },
   {
    "duration": 383,
    "start_time": "2022-08-06T14:56:37.524Z"
   },
   {
    "duration": 3,
    "start_time": "2022-08-06T14:56:37.909Z"
   },
   {
    "duration": 29,
    "start_time": "2022-08-06T14:56:37.914Z"
   },
   {
    "duration": 374,
    "start_time": "2022-08-06T14:56:37.945Z"
   },
   {
    "duration": 3,
    "start_time": "2022-08-06T14:56:38.320Z"
   },
   {
    "duration": 26,
    "start_time": "2022-08-06T14:56:38.324Z"
   },
   {
    "duration": 360,
    "start_time": "2022-08-06T14:56:38.352Z"
   },
   {
    "duration": 390,
    "start_time": "2022-08-06T14:59:15.998Z"
   },
   {
    "duration": 330,
    "start_time": "2022-08-06T14:59:27.560Z"
   },
   {
    "duration": 91,
    "start_time": "2022-08-06T18:08:16.951Z"
   },
   {
    "duration": 591,
    "start_time": "2022-08-07T06:37:56.706Z"
   },
   {
    "duration": 1543,
    "start_time": "2022-08-07T06:38:49.032Z"
   },
   {
    "duration": 19,
    "start_time": "2022-08-07T06:38:50.577Z"
   },
   {
    "duration": 20,
    "start_time": "2022-08-07T06:38:50.598Z"
   },
   {
    "duration": 8,
    "start_time": "2022-08-07T06:38:50.620Z"
   },
   {
    "duration": 6,
    "start_time": "2022-08-07T06:38:50.630Z"
   },
   {
    "duration": 35,
    "start_time": "2022-08-07T06:38:50.638Z"
   },
   {
    "duration": 4,
    "start_time": "2022-08-07T06:38:50.675Z"
   },
   {
    "duration": 34,
    "start_time": "2022-08-07T06:38:50.680Z"
   },
   {
    "duration": 4,
    "start_time": "2022-08-07T06:38:50.715Z"
   },
   {
    "duration": 7,
    "start_time": "2022-08-07T06:38:50.721Z"
   },
   {
    "duration": 4,
    "start_time": "2022-08-07T06:38:50.730Z"
   },
   {
    "duration": 48,
    "start_time": "2022-08-07T06:38:50.735Z"
   },
   {
    "duration": 24,
    "start_time": "2022-08-07T06:38:50.785Z"
   },
   {
    "duration": 3,
    "start_time": "2022-08-07T06:38:50.810Z"
   },
   {
    "duration": 21,
    "start_time": "2022-08-07T06:38:50.814Z"
   },
   {
    "duration": 16,
    "start_time": "2022-08-07T06:38:50.836Z"
   },
   {
    "duration": 12,
    "start_time": "2022-08-07T06:38:50.854Z"
   },
   {
    "duration": 6,
    "start_time": "2022-08-07T06:38:50.867Z"
   },
   {
    "duration": 36,
    "start_time": "2022-08-07T06:38:50.874Z"
   },
   {
    "duration": 12,
    "start_time": "2022-08-07T06:38:50.912Z"
   },
   {
    "duration": 9,
    "start_time": "2022-08-07T06:38:50.926Z"
   },
   {
    "duration": 13,
    "start_time": "2022-08-07T06:38:50.936Z"
   },
   {
    "duration": 476,
    "start_time": "2022-08-07T06:38:50.951Z"
   },
   {
    "duration": 2,
    "start_time": "2022-08-07T06:38:51.428Z"
   },
   {
    "duration": 8,
    "start_time": "2022-08-07T06:38:51.432Z"
   },
   {
    "duration": 24,
    "start_time": "2022-08-07T06:38:51.441Z"
   },
   {
    "duration": 424,
    "start_time": "2022-08-07T06:38:51.467Z"
   },
   {
    "duration": 3,
    "start_time": "2022-08-07T06:38:51.894Z"
   },
   {
    "duration": 30,
    "start_time": "2022-08-07T06:38:51.898Z"
   },
   {
    "duration": 345,
    "start_time": "2022-08-07T06:38:51.930Z"
   },
   {
    "duration": 2,
    "start_time": "2022-08-07T06:38:52.277Z"
   },
   {
    "duration": 31,
    "start_time": "2022-08-07T06:38:52.280Z"
   },
   {
    "duration": 377,
    "start_time": "2022-08-07T06:38:52.313Z"
   },
   {
    "duration": 3,
    "start_time": "2022-08-07T06:38:52.691Z"
   },
   {
    "duration": 32,
    "start_time": "2022-08-07T06:38:52.695Z"
   },
   {
    "duration": 312,
    "start_time": "2022-08-07T06:38:52.729Z"
   },
   {
    "duration": 629,
    "start_time": "2022-08-07T07:03:30.456Z"
   },
   {
    "duration": 1143,
    "start_time": "2022-08-07T07:03:35.816Z"
   },
   {
    "duration": 22,
    "start_time": "2022-08-07T07:03:36.961Z"
   },
   {
    "duration": 37,
    "start_time": "2022-08-07T07:03:36.985Z"
   },
   {
    "duration": 26,
    "start_time": "2022-08-07T07:03:37.025Z"
   },
   {
    "duration": 34,
    "start_time": "2022-08-07T07:03:37.053Z"
   },
   {
    "duration": 66,
    "start_time": "2022-08-07T07:03:37.089Z"
   },
   {
    "duration": 5,
    "start_time": "2022-08-07T07:03:37.158Z"
   },
   {
    "duration": 26,
    "start_time": "2022-08-07T07:03:37.165Z"
   },
   {
    "duration": 28,
    "start_time": "2022-08-07T07:03:37.193Z"
   },
   {
    "duration": 19,
    "start_time": "2022-08-07T07:03:37.226Z"
   },
   {
    "duration": 20,
    "start_time": "2022-08-07T07:03:37.246Z"
   },
   {
    "duration": 50,
    "start_time": "2022-08-07T07:03:37.269Z"
   },
   {
    "duration": 11,
    "start_time": "2022-08-07T07:03:37.322Z"
   },
   {
    "duration": 13,
    "start_time": "2022-08-07T07:03:37.335Z"
   },
   {
    "duration": 33,
    "start_time": "2022-08-07T07:03:37.351Z"
   },
   {
    "duration": 29,
    "start_time": "2022-08-07T07:03:37.385Z"
   },
   {
    "duration": 29,
    "start_time": "2022-08-07T07:03:37.416Z"
   },
   {
    "duration": 22,
    "start_time": "2022-08-07T07:03:37.447Z"
   },
   {
    "duration": 30,
    "start_time": "2022-08-07T07:03:37.471Z"
   },
   {
    "duration": 12,
    "start_time": "2022-08-07T07:03:37.503Z"
   },
   {
    "duration": 16,
    "start_time": "2022-08-07T07:03:37.517Z"
   },
   {
    "duration": 30,
    "start_time": "2022-08-07T07:03:37.534Z"
   },
   {
    "duration": 558,
    "start_time": "2022-08-07T07:03:37.566Z"
   },
   {
    "duration": 3,
    "start_time": "2022-08-07T07:03:38.126Z"
   },
   {
    "duration": 21,
    "start_time": "2022-08-07T07:03:38.131Z"
   },
   {
    "duration": 64,
    "start_time": "2022-08-07T07:03:38.154Z"
   },
   {
    "duration": 539,
    "start_time": "2022-08-07T07:03:38.221Z"
   },
   {
    "duration": 2,
    "start_time": "2022-08-07T07:03:38.764Z"
   },
   {
    "duration": 70,
    "start_time": "2022-08-07T07:03:38.768Z"
   },
   {
    "duration": 488,
    "start_time": "2022-08-07T07:03:38.839Z"
   },
   {
    "duration": 3,
    "start_time": "2022-08-07T07:03:39.329Z"
   },
   {
    "duration": 35,
    "start_time": "2022-08-07T07:03:39.334Z"
   },
   {
    "duration": 388,
    "start_time": "2022-08-07T07:03:39.373Z"
   },
   {
    "duration": 3,
    "start_time": "2022-08-07T07:03:39.763Z"
   },
   {
    "duration": 44,
    "start_time": "2022-08-07T07:03:39.768Z"
   },
   {
    "duration": 412,
    "start_time": "2022-08-07T07:03:39.814Z"
   },
   {
    "duration": 1637,
    "start_time": "2022-08-07T12:46:19.585Z"
   },
   {
    "duration": 18,
    "start_time": "2022-08-07T12:46:21.224Z"
   },
   {
    "duration": 14,
    "start_time": "2022-08-07T12:46:21.243Z"
   },
   {
    "duration": 9,
    "start_time": "2022-08-07T12:46:21.259Z"
   },
   {
    "duration": 5,
    "start_time": "2022-08-07T12:46:21.269Z"
   },
   {
    "duration": 35,
    "start_time": "2022-08-07T12:46:21.276Z"
   },
   {
    "duration": 3,
    "start_time": "2022-08-07T12:46:21.313Z"
   },
   {
    "duration": 13,
    "start_time": "2022-08-07T12:46:21.317Z"
   },
   {
    "duration": 3,
    "start_time": "2022-08-07T12:46:21.332Z"
   },
   {
    "duration": 14,
    "start_time": "2022-08-07T12:46:21.338Z"
   },
   {
    "duration": 8,
    "start_time": "2022-08-07T12:46:21.353Z"
   },
   {
    "duration": 44,
    "start_time": "2022-08-07T12:46:21.362Z"
   },
   {
    "duration": 9,
    "start_time": "2022-08-07T12:46:21.408Z"
   },
   {
    "duration": 7,
    "start_time": "2022-08-07T12:46:21.418Z"
   },
   {
    "duration": 18,
    "start_time": "2022-08-07T12:46:21.426Z"
   },
   {
    "duration": 14,
    "start_time": "2022-08-07T12:46:21.446Z"
   },
   {
    "duration": 28,
    "start_time": "2022-08-07T12:46:21.462Z"
   },
   {
    "duration": 6,
    "start_time": "2022-08-07T12:46:21.491Z"
   },
   {
    "duration": 11,
    "start_time": "2022-08-07T12:46:21.498Z"
   },
   {
    "duration": 7,
    "start_time": "2022-08-07T12:46:21.511Z"
   },
   {
    "duration": 4,
    "start_time": "2022-08-07T12:46:21.519Z"
   },
   {
    "duration": 12,
    "start_time": "2022-08-07T12:46:21.524Z"
   },
   {
    "duration": 393,
    "start_time": "2022-08-07T12:46:21.537Z"
   },
   {
    "duration": 3,
    "start_time": "2022-08-07T12:46:21.931Z"
   },
   {
    "duration": 6,
    "start_time": "2022-08-07T12:46:21.935Z"
   },
   {
    "duration": 232,
    "start_time": "2022-08-07T12:46:21.943Z"
   },
   {
    "duration": 0,
    "start_time": "2022-08-07T12:46:22.176Z"
   },
   {
    "duration": 0,
    "start_time": "2022-08-07T12:46:22.178Z"
   },
   {
    "duration": 0,
    "start_time": "2022-08-07T12:46:22.179Z"
   },
   {
    "duration": 0,
    "start_time": "2022-08-07T12:46:22.180Z"
   },
   {
    "duration": 0,
    "start_time": "2022-08-07T12:46:22.187Z"
   },
   {
    "duration": 0,
    "start_time": "2022-08-07T12:46:22.188Z"
   },
   {
    "duration": 0,
    "start_time": "2022-08-07T12:46:22.189Z"
   },
   {
    "duration": 0,
    "start_time": "2022-08-07T12:46:22.190Z"
   },
   {
    "duration": 0,
    "start_time": "2022-08-07T12:46:22.191Z"
   },
   {
    "duration": 0,
    "start_time": "2022-08-07T12:46:22.193Z"
   },
   {
    "duration": 4,
    "start_time": "2022-08-07T12:47:07.866Z"
   },
   {
    "duration": 69,
    "start_time": "2022-08-07T12:47:09.425Z"
   },
   {
    "duration": 67,
    "start_time": "2022-08-07T13:02:25.306Z"
   },
   {
    "duration": 140,
    "start_time": "2022-08-07T13:15:52.313Z"
   },
   {
    "duration": 69,
    "start_time": "2022-08-07T13:16:30.698Z"
   },
   {
    "duration": 133,
    "start_time": "2022-08-07T14:46:23.554Z"
   },
   {
    "duration": 13,
    "start_time": "2022-08-07T14:47:18.045Z"
   },
   {
    "duration": 9,
    "start_time": "2022-08-07T14:47:38.416Z"
   },
   {
    "duration": 76,
    "start_time": "2022-08-07T14:47:47.118Z"
   },
   {
    "duration": 16,
    "start_time": "2022-08-07T14:47:47.196Z"
   },
   {
    "duration": 19,
    "start_time": "2022-08-07T14:47:47.213Z"
   },
   {
    "duration": 10,
    "start_time": "2022-08-07T14:47:47.234Z"
   },
   {
    "duration": 5,
    "start_time": "2022-08-07T14:47:47.246Z"
   },
   {
    "duration": 58,
    "start_time": "2022-08-07T14:47:47.252Z"
   },
   {
    "duration": 3,
    "start_time": "2022-08-07T14:47:47.312Z"
   },
   {
    "duration": 15,
    "start_time": "2022-08-07T14:47:47.317Z"
   },
   {
    "duration": 5,
    "start_time": "2022-08-07T14:47:47.334Z"
   },
   {
    "duration": 7,
    "start_time": "2022-08-07T14:47:47.341Z"
   },
   {
    "duration": 5,
    "start_time": "2022-08-07T14:47:47.350Z"
   },
   {
    "duration": 63,
    "start_time": "2022-08-07T14:47:47.356Z"
   },
   {
    "duration": 10,
    "start_time": "2022-08-07T14:47:47.421Z"
   },
   {
    "duration": 4,
    "start_time": "2022-08-07T14:47:47.433Z"
   },
   {
    "duration": 25,
    "start_time": "2022-08-07T14:47:47.439Z"
   },
   {
    "duration": 26,
    "start_time": "2022-08-07T14:47:47.488Z"
   },
   {
    "duration": 13,
    "start_time": "2022-08-07T14:47:47.516Z"
   },
   {
    "duration": 10,
    "start_time": "2022-08-07T14:47:47.531Z"
   },
   {
    "duration": 21,
    "start_time": "2022-08-07T14:47:47.543Z"
   },
   {
    "duration": 18,
    "start_time": "2022-08-07T14:47:47.568Z"
   },
   {
    "duration": 7,
    "start_time": "2022-08-07T14:47:47.587Z"
   },
   {
    "duration": 17,
    "start_time": "2022-08-07T14:47:47.596Z"
   },
   {
    "duration": 90,
    "start_time": "2022-08-07T14:47:47.615Z"
   },
   {
    "duration": 3,
    "start_time": "2022-08-07T14:47:47.707Z"
   },
   {
    "duration": 5,
    "start_time": "2022-08-07T14:47:47.713Z"
   },
   {
    "duration": 137,
    "start_time": "2022-08-07T14:47:47.719Z"
   },
   {
    "duration": 10,
    "start_time": "2022-08-07T14:47:47.857Z"
   },
   {
    "duration": 0,
    "start_time": "2022-08-07T14:47:47.868Z"
   },
   {
    "duration": 0,
    "start_time": "2022-08-07T14:47:47.887Z"
   },
   {
    "duration": 0,
    "start_time": "2022-08-07T14:47:47.889Z"
   },
   {
    "duration": 0,
    "start_time": "2022-08-07T14:47:47.890Z"
   },
   {
    "duration": 0,
    "start_time": "2022-08-07T14:47:47.892Z"
   },
   {
    "duration": 0,
    "start_time": "2022-08-07T14:47:47.893Z"
   },
   {
    "duration": 10,
    "start_time": "2022-08-07T14:48:14.061Z"
   },
   {
    "duration": 9,
    "start_time": "2022-08-07T14:49:43.818Z"
   },
   {
    "duration": 824,
    "start_time": "2022-08-07T16:27:03.628Z"
   },
   {
    "duration": 65,
    "start_time": "2022-08-07T16:27:24.111Z"
   },
   {
    "duration": 78,
    "start_time": "2022-08-07T16:27:30.417Z"
   },
   {
    "duration": 15,
    "start_time": "2022-08-07T16:27:30.496Z"
   },
   {
    "duration": 24,
    "start_time": "2022-08-07T16:27:30.512Z"
   },
   {
    "duration": 12,
    "start_time": "2022-08-07T16:27:30.538Z"
   },
   {
    "duration": 18,
    "start_time": "2022-08-07T16:27:30.551Z"
   },
   {
    "duration": 58,
    "start_time": "2022-08-07T16:27:30.570Z"
   },
   {
    "duration": 3,
    "start_time": "2022-08-07T16:27:30.630Z"
   },
   {
    "duration": 16,
    "start_time": "2022-08-07T16:27:30.635Z"
   },
   {
    "duration": 5,
    "start_time": "2022-08-07T16:27:30.652Z"
   },
   {
    "duration": 11,
    "start_time": "2022-08-07T16:27:30.659Z"
   },
   {
    "duration": 21,
    "start_time": "2022-08-07T16:27:30.671Z"
   },
   {
    "duration": 42,
    "start_time": "2022-08-07T16:27:30.694Z"
   },
   {
    "duration": 10,
    "start_time": "2022-08-07T16:27:30.738Z"
   },
   {
    "duration": 8,
    "start_time": "2022-08-07T16:27:30.749Z"
   },
   {
    "duration": 31,
    "start_time": "2022-08-07T16:27:30.758Z"
   },
   {
    "duration": 22,
    "start_time": "2022-08-07T16:27:30.790Z"
   },
   {
    "duration": 16,
    "start_time": "2022-08-07T16:27:30.813Z"
   },
   {
    "duration": 15,
    "start_time": "2022-08-07T16:27:30.830Z"
   },
   {
    "duration": 17,
    "start_time": "2022-08-07T16:27:30.846Z"
   },
   {
    "duration": 5,
    "start_time": "2022-08-07T16:27:30.865Z"
   },
   {
    "duration": 5,
    "start_time": "2022-08-07T16:27:30.871Z"
   },
   {
    "duration": 28,
    "start_time": "2022-08-07T16:27:30.877Z"
   },
   {
    "duration": 65,
    "start_time": "2022-08-07T16:27:30.906Z"
   },
   {
    "duration": 2,
    "start_time": "2022-08-07T16:27:30.973Z"
   },
   {
    "duration": 26,
    "start_time": "2022-08-07T16:27:30.976Z"
   },
   {
    "duration": 132,
    "start_time": "2022-08-07T16:27:31.004Z"
   },
   {
    "duration": 2,
    "start_time": "2022-08-07T16:27:31.138Z"
   },
   {
    "duration": 81,
    "start_time": "2022-08-07T16:27:31.143Z"
   },
   {
    "duration": 3,
    "start_time": "2022-08-07T16:27:31.225Z"
   },
   {
    "duration": 83,
    "start_time": "2022-08-07T16:27:31.229Z"
   },
   {
    "duration": 3,
    "start_time": "2022-08-07T16:27:31.313Z"
   },
   {
    "duration": 89,
    "start_time": "2022-08-07T16:27:31.317Z"
   },
   {
    "duration": 4,
    "start_time": "2022-08-07T16:28:24.877Z"
   },
   {
    "duration": 763,
    "start_time": "2022-08-07T16:28:26.009Z"
   },
   {
    "duration": 819,
    "start_time": "2022-08-07T16:28:35.495Z"
   },
   {
    "duration": 82,
    "start_time": "2022-08-07T16:33:32.234Z"
   },
   {
    "duration": 4,
    "start_time": "2022-08-07T16:49:05.008Z"
   },
   {
    "duration": 71,
    "start_time": "2022-08-07T16:49:05.955Z"
   },
   {
    "duration": 93,
    "start_time": "2022-08-07T16:50:08.778Z"
   },
   {
    "duration": 65,
    "start_time": "2022-08-07T17:09:22.023Z"
   },
   {
    "duration": 81,
    "start_time": "2022-08-07T17:09:36.542Z"
   },
   {
    "duration": 89,
    "start_time": "2022-08-07T17:17:51.490Z"
   },
   {
    "duration": 15,
    "start_time": "2022-08-07T17:17:51.581Z"
   },
   {
    "duration": 21,
    "start_time": "2022-08-07T17:17:51.598Z"
   },
   {
    "duration": 10,
    "start_time": "2022-08-07T17:17:51.621Z"
   },
   {
    "duration": 8,
    "start_time": "2022-08-07T17:17:51.632Z"
   },
   {
    "duration": 53,
    "start_time": "2022-08-07T17:17:51.642Z"
   },
   {
    "duration": 4,
    "start_time": "2022-08-07T17:17:51.696Z"
   },
   {
    "duration": 15,
    "start_time": "2022-08-07T17:17:51.701Z"
   },
   {
    "duration": 4,
    "start_time": "2022-08-07T17:17:51.718Z"
   },
   {
    "duration": 6,
    "start_time": "2022-08-07T17:17:51.725Z"
   },
   {
    "duration": 6,
    "start_time": "2022-08-07T17:17:51.732Z"
   },
   {
    "duration": 54,
    "start_time": "2022-08-07T17:17:51.739Z"
   },
   {
    "duration": 11,
    "start_time": "2022-08-07T17:17:51.795Z"
   },
   {
    "duration": 5,
    "start_time": "2022-08-07T17:17:51.808Z"
   },
   {
    "duration": 23,
    "start_time": "2022-08-07T17:17:51.814Z"
   },
   {
    "duration": 15,
    "start_time": "2022-08-07T17:17:51.839Z"
   },
   {
    "duration": 33,
    "start_time": "2022-08-07T17:17:51.856Z"
   },
   {
    "duration": 8,
    "start_time": "2022-08-07T17:17:51.890Z"
   },
   {
    "duration": 12,
    "start_time": "2022-08-07T17:17:51.900Z"
   },
   {
    "duration": 8,
    "start_time": "2022-08-07T17:17:51.914Z"
   },
   {
    "duration": 4,
    "start_time": "2022-08-07T17:17:51.924Z"
   },
   {
    "duration": 13,
    "start_time": "2022-08-07T17:17:51.930Z"
   },
   {
    "duration": 99,
    "start_time": "2022-08-07T17:17:51.945Z"
   },
   {
    "duration": 3,
    "start_time": "2022-08-07T17:17:52.046Z"
   },
   {
    "duration": 10,
    "start_time": "2022-08-07T17:17:52.050Z"
   },
   {
    "duration": 83,
    "start_time": "2022-08-07T17:17:52.061Z"
   },
   {
    "duration": 3,
    "start_time": "2022-08-07T17:17:52.146Z"
   },
   {
    "duration": 85,
    "start_time": "2022-08-07T17:17:52.152Z"
   },
   {
    "duration": 3,
    "start_time": "2022-08-07T17:17:52.239Z"
   },
   {
    "duration": 84,
    "start_time": "2022-08-07T17:17:52.244Z"
   },
   {
    "duration": 2,
    "start_time": "2022-08-07T17:17:52.330Z"
   },
   {
    "duration": 88,
    "start_time": "2022-08-07T17:17:52.334Z"
   },
   {
    "duration": 13,
    "start_time": "2022-08-07T17:25:09.258Z"
   },
   {
    "duration": 68,
    "start_time": "2022-08-07T17:25:14.544Z"
   },
   {
    "duration": 11,
    "start_time": "2022-08-07T17:25:15.073Z"
   },
   {
    "duration": 15,
    "start_time": "2022-08-07T17:25:49.702Z"
   },
   {
    "duration": 15,
    "start_time": "2022-08-07T17:26:09.842Z"
   },
   {
    "duration": 792,
    "start_time": "2022-08-07T17:26:23.512Z"
   },
   {
    "duration": 11,
    "start_time": "2022-08-07T17:28:14.995Z"
   },
   {
    "duration": 17,
    "start_time": "2022-08-07T17:28:31.165Z"
   },
   {
    "duration": 6,
    "start_time": "2022-08-07T17:29:11.999Z"
   },
   {
    "duration": 70,
    "start_time": "2022-08-07T17:29:13.138Z"
   },
   {
    "duration": 5,
    "start_time": "2022-08-07T17:29:27.440Z"
   },
   {
    "duration": 66,
    "start_time": "2022-08-07T17:29:34.223Z"
   },
   {
    "duration": 5,
    "start_time": "2022-08-07T17:30:16.065Z"
   },
   {
    "duration": 68,
    "start_time": "2022-08-07T17:30:21.569Z"
   },
   {
    "duration": 4,
    "start_time": "2022-08-07T17:30:30.561Z"
   },
   {
    "duration": 62,
    "start_time": "2022-08-07T17:30:31.536Z"
   },
   {
    "duration": 76,
    "start_time": "2022-08-07T17:30:39.214Z"
   },
   {
    "duration": 14,
    "start_time": "2022-08-07T17:30:39.292Z"
   },
   {
    "duration": 15,
    "start_time": "2022-08-07T17:30:39.308Z"
   },
   {
    "duration": 10,
    "start_time": "2022-08-07T17:30:39.326Z"
   },
   {
    "duration": 6,
    "start_time": "2022-08-07T17:30:39.338Z"
   },
   {
    "duration": 84,
    "start_time": "2022-08-07T17:30:39.346Z"
   },
   {
    "duration": 4,
    "start_time": "2022-08-07T17:30:39.431Z"
   },
   {
    "duration": 14,
    "start_time": "2022-08-07T17:30:39.436Z"
   },
   {
    "duration": 4,
    "start_time": "2022-08-07T17:30:39.451Z"
   },
   {
    "duration": 33,
    "start_time": "2022-08-07T17:30:39.458Z"
   },
   {
    "duration": 6,
    "start_time": "2022-08-07T17:30:39.493Z"
   },
   {
    "duration": 52,
    "start_time": "2022-08-07T17:30:39.501Z"
   },
   {
    "duration": 37,
    "start_time": "2022-08-07T17:30:39.554Z"
   },
   {
    "duration": 5,
    "start_time": "2022-08-07T17:30:39.593Z"
   },
   {
    "duration": 26,
    "start_time": "2022-08-07T17:30:39.600Z"
   },
   {
    "duration": 18,
    "start_time": "2022-08-07T17:30:39.628Z"
   },
   {
    "duration": 12,
    "start_time": "2022-08-07T17:30:39.647Z"
   },
   {
    "duration": 31,
    "start_time": "2022-08-07T17:30:39.660Z"
   },
   {
    "duration": 12,
    "start_time": "2022-08-07T17:30:39.692Z"
   },
   {
    "duration": 10,
    "start_time": "2022-08-07T17:30:39.705Z"
   },
   {
    "duration": 4,
    "start_time": "2022-08-07T17:30:39.717Z"
   },
   {
    "duration": 16,
    "start_time": "2022-08-07T17:30:39.723Z"
   },
   {
    "duration": 94,
    "start_time": "2022-08-07T17:30:39.741Z"
   },
   {
    "duration": 3,
    "start_time": "2022-08-07T17:30:39.837Z"
   },
   {
    "duration": 10,
    "start_time": "2022-08-07T17:30:39.841Z"
   },
   {
    "duration": 80,
    "start_time": "2022-08-07T17:30:39.852Z"
   },
   {
    "duration": 2,
    "start_time": "2022-08-07T17:30:39.934Z"
   },
   {
    "duration": 89,
    "start_time": "2022-08-07T17:30:39.939Z"
   },
   {
    "duration": 3,
    "start_time": "2022-08-07T17:30:40.030Z"
   },
   {
    "duration": 112,
    "start_time": "2022-08-07T17:30:40.035Z"
   },
   {
    "duration": 2,
    "start_time": "2022-08-07T17:30:40.149Z"
   },
   {
    "duration": 131,
    "start_time": "2022-08-07T17:30:40.152Z"
   },
   {
    "duration": 1487,
    "start_time": "2022-08-08T05:58:21.789Z"
   },
   {
    "duration": 21,
    "start_time": "2022-08-08T05:58:23.278Z"
   },
   {
    "duration": 19,
    "start_time": "2022-08-08T05:58:23.301Z"
   },
   {
    "duration": 9,
    "start_time": "2022-08-08T05:58:23.322Z"
   },
   {
    "duration": 8,
    "start_time": "2022-08-08T05:58:23.333Z"
   },
   {
    "duration": 58,
    "start_time": "2022-08-08T05:58:23.343Z"
   },
   {
    "duration": 32,
    "start_time": "2022-08-08T05:58:23.403Z"
   },
   {
    "duration": 32,
    "start_time": "2022-08-08T05:58:23.437Z"
   },
   {
    "duration": 27,
    "start_time": "2022-08-08T05:58:23.471Z"
   },
   {
    "duration": 62,
    "start_time": "2022-08-08T05:58:23.501Z"
   },
   {
    "duration": 29,
    "start_time": "2022-08-08T05:58:23.565Z"
   },
   {
    "duration": 67,
    "start_time": "2022-08-08T05:58:23.596Z"
   },
   {
    "duration": 11,
    "start_time": "2022-08-08T05:58:23.666Z"
   },
   {
    "duration": 5,
    "start_time": "2022-08-08T05:58:23.679Z"
   },
   {
    "duration": 35,
    "start_time": "2022-08-08T05:58:23.686Z"
   },
   {
    "duration": 19,
    "start_time": "2022-08-08T05:58:23.723Z"
   },
   {
    "duration": 27,
    "start_time": "2022-08-08T05:58:23.744Z"
   },
   {
    "duration": 11,
    "start_time": "2022-08-08T05:58:23.773Z"
   },
   {
    "duration": 13,
    "start_time": "2022-08-08T05:58:23.786Z"
   },
   {
    "duration": 12,
    "start_time": "2022-08-08T05:58:23.801Z"
   },
   {
    "duration": 6,
    "start_time": "2022-08-08T05:58:23.815Z"
   },
   {
    "duration": 15,
    "start_time": "2022-08-08T05:58:23.823Z"
   },
   {
    "duration": 428,
    "start_time": "2022-08-08T05:58:23.840Z"
   },
   {
    "duration": 3,
    "start_time": "2022-08-08T05:58:24.269Z"
   },
   {
    "duration": 8,
    "start_time": "2022-08-08T05:58:24.274Z"
   },
   {
    "duration": 125,
    "start_time": "2022-08-08T05:58:24.283Z"
   },
   {
    "duration": 2,
    "start_time": "2022-08-08T05:58:24.410Z"
   },
   {
    "duration": 108,
    "start_time": "2022-08-08T05:58:24.415Z"
   },
   {
    "duration": 2,
    "start_time": "2022-08-08T05:58:24.525Z"
   },
   {
    "duration": 91,
    "start_time": "2022-08-08T05:58:24.529Z"
   },
   {
    "duration": 2,
    "start_time": "2022-08-08T05:58:24.621Z"
   },
   {
    "duration": 164,
    "start_time": "2022-08-08T05:58:24.625Z"
   },
   {
    "duration": 1994,
    "start_time": "2022-08-29T22:08:07.940Z"
   },
   {
    "duration": 19,
    "start_time": "2022-08-29T22:08:09.936Z"
   },
   {
    "duration": 18,
    "start_time": "2022-08-29T22:08:09.957Z"
   },
   {
    "duration": 10,
    "start_time": "2022-08-29T22:08:09.977Z"
   },
   {
    "duration": 6,
    "start_time": "2022-08-29T22:08:09.989Z"
   },
   {
    "duration": 39,
    "start_time": "2022-08-29T22:08:09.997Z"
   },
   {
    "duration": 4,
    "start_time": "2022-08-29T22:08:10.038Z"
   },
   {
    "duration": 19,
    "start_time": "2022-08-29T22:08:10.044Z"
   },
   {
    "duration": 4,
    "start_time": "2022-08-29T22:08:10.064Z"
   },
   {
    "duration": 7,
    "start_time": "2022-08-29T22:08:10.088Z"
   },
   {
    "duration": 6,
    "start_time": "2022-08-29T22:08:10.097Z"
   },
   {
    "duration": 41,
    "start_time": "2022-08-29T22:08:10.104Z"
   },
   {
    "duration": 11,
    "start_time": "2022-08-29T22:08:10.146Z"
   },
   {
    "duration": 28,
    "start_time": "2022-08-29T22:08:10.159Z"
   },
   {
    "duration": 23,
    "start_time": "2022-08-29T22:08:10.189Z"
   },
   {
    "duration": 19,
    "start_time": "2022-08-29T22:08:10.214Z"
   },
   {
    "duration": 13,
    "start_time": "2022-08-29T22:08:10.235Z"
   },
   {
    "duration": 6,
    "start_time": "2022-08-29T22:08:10.249Z"
   },
   {
    "duration": 36,
    "start_time": "2022-08-29T22:08:10.256Z"
   },
   {
    "duration": 11,
    "start_time": "2022-08-29T22:08:10.294Z"
   },
   {
    "duration": 4,
    "start_time": "2022-08-29T22:08:10.307Z"
   },
   {
    "duration": 17,
    "start_time": "2022-08-29T22:08:10.312Z"
   },
   {
    "duration": 463,
    "start_time": "2022-08-29T22:08:10.331Z"
   },
   {
    "duration": 2,
    "start_time": "2022-08-29T22:08:10.796Z"
   },
   {
    "duration": 5,
    "start_time": "2022-08-29T22:08:10.800Z"
   },
   {
    "duration": 121,
    "start_time": "2022-08-29T22:08:10.807Z"
   },
   {
    "duration": 3,
    "start_time": "2022-08-29T22:08:10.929Z"
   },
   {
    "duration": 120,
    "start_time": "2022-08-29T22:08:10.935Z"
   },
   {
    "duration": 2,
    "start_time": "2022-08-29T22:08:11.057Z"
   },
   {
    "duration": 84,
    "start_time": "2022-08-29T22:08:11.060Z"
   },
   {
    "duration": 3,
    "start_time": "2022-08-29T22:08:11.145Z"
   },
   {
    "duration": 162,
    "start_time": "2022-08-29T22:08:11.149Z"
   }
  ],
  "celltoolbar": "Edit Metadata",
  "colab": {
   "name": "dpp_template_part2.ipynb",
   "provenance": []
  },
  "kernelspec": {
   "display_name": "base",
   "language": "python",
   "name": "python3"
  },
  "language_info": {
   "codemirror_mode": {
    "name": "ipython",
    "version": 3
   },
   "file_extension": ".py",
   "mimetype": "text/x-python",
   "name": "python",
   "nbconvert_exporter": "python",
   "pygments_lexer": "ipython3",
   "version": "3.9.15 (main, Nov 24 2022, 14:39:17) [MSC v.1916 64 bit (AMD64)]"
  },
  "toc": {
   "base_numbering": 1,
   "nav_menu": {},
   "number_sections": true,
   "sideBar": true,
   "skip_h1_title": true,
   "title_cell": "Table of Contents",
   "title_sidebar": "Contents",
   "toc_cell": false,
   "toc_position": {},
   "toc_section_display": true,
   "toc_window_display": false
  },
  "vscode": {
   "interpreter": {
    "hash": "a90aeebcf29d64a654773811cc170cb25061cb2498f10ac689db374c7bf325de"
   }
  }
 },
 "nbformat": 4,
 "nbformat_minor": 5
}
